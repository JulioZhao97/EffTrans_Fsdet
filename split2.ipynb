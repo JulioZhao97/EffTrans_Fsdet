{
 "cells": [
  {
   "cell_type": "code",
   "execution_count": 4,
   "id": "4e5d632d",
   "metadata": {},
   "outputs": [
    {
     "name": "stderr",
     "output_type": "stream",
     "text": [
      "fatal: Not a git repository (or any parent up to mount point /data)\n",
      "Stopping at filesystem boundary (GIT_DISCOVERY_ACROSS_FILESYSTEM not set).\n",
      "2022-05-26 11:13:54,513 - mmfewshot - INFO - Environment info:\n",
      "------------------------------------------------------------\n",
      "sys.platform: linux\n",
      "Python: 3.7.11 (default, Jul 27 2021, 14:32:16) [GCC 7.5.0]\n",
      "CUDA available: True\n",
      "GPU 0: GeForce RTX 2080 Ti\n",
      "CUDA_HOME: /usr/local/cuda\n",
      "NVCC: Cuda compilation tools, release 10.0, V10.0.130\n",
      "GCC: gcc (Ubuntu 5.4.0-6ubuntu1~16.04.12) 5.4.0 20160609\n",
      "PyTorch: 1.7.0\n",
      "PyTorch compiling details: PyTorch built with:\n",
      "  - GCC 7.3\n",
      "  - C++ Version: 201402\n",
      "  - Intel(R) oneAPI Math Kernel Library Version 2021.4-Product Build 20210904 for Intel(R) 64 architecture applications\n",
      "  - Intel(R) MKL-DNN v1.6.0 (Git Hash 5ef631a030a6f73131c77892041042805a06064f)\n",
      "  - OpenMP 201511 (a.k.a. OpenMP 4.5)\n",
      "  - NNPACK is enabled\n",
      "  - CPU capability usage: AVX2\n",
      "  - CUDA Runtime 10.1\n",
      "  - NVCC architecture flags: -gencode;arch=compute_37,code=sm_37;-gencode;arch=compute_50,code=sm_50;-gencode;arch=compute_60,code=sm_60;-gencode;arch=compute_61,code=sm_61;-gencode;arch=compute_70,code=sm_70;-gencode;arch=compute_75,code=sm_75;-gencode;arch=compute_37,code=compute_37\n",
      "  - CuDNN 7.6.3\n",
      "  - Magma 2.5.2\n",
      "  - Build settings: BLAS=MKL, BUILD_TYPE=Release, CXX_FLAGS= -Wno-deprecated -fvisibility-inlines-hidden -DUSE_PTHREADPOOL -fopenmp -DNDEBUG -DUSE_FBGEMM -DUSE_QNNPACK -DUSE_PYTORCH_QNNPACK -DUSE_XNNPACK -DUSE_VULKAN_WRAPPER -O2 -fPIC -Wno-narrowing -Wall -Wextra -Werror=return-type -Wno-missing-field-initializers -Wno-type-limits -Wno-array-bounds -Wno-unknown-pragmas -Wno-sign-compare -Wno-unused-parameter -Wno-unused-variable -Wno-unused-function -Wno-unused-result -Wno-unused-local-typedefs -Wno-strict-overflow -Wno-strict-aliasing -Wno-error=deprecated-declarations -Wno-stringop-overflow -Wno-psabi -Wno-error=pedantic -Wno-error=redundant-decls -Wno-error=old-style-cast -fdiagnostics-color=always -faligned-new -Wno-unused-but-set-variable -Wno-maybe-uninitialized -fno-math-errno -fno-trapping-math -Werror=format -Wno-stringop-overflow, PERF_WITH_AVX=1, PERF_WITH_AVX2=1, PERF_WITH_AVX512=1, USE_CUDA=ON, USE_EXCEPTION_PTR=1, USE_GFLAGS=OFF, USE_GLOG=OFF, USE_MKL=ON, USE_MKLDNN=ON, USE_MPI=OFF, USE_NCCL=ON, USE_NNPACK=ON, USE_OPENMP=ON, \n",
      "\n",
      "TorchVision: 0.8.0\n",
      "OpenCV: 4.5.5\n",
      "MMCV: 1.4.0\n",
      "MMCV Compiler: GCC 7.3\n",
      "MMCV CUDA Compiler: 10.1\n",
      "MMDetection: 2.19.0+\n",
      "------------------------------------------------------------\n",
      "\n",
      "2022-05-26 11:13:56,180 - mmfewshot - INFO - Distributed training: False\n",
      "2022-05-26 11:13:57,628 - mmfewshot - INFO - Config:\n",
      "img_norm_cfg = dict(\n",
      "    mean=[103.53, 116.28, 123.675], std=[1.0, 1.0, 1.0], to_rgb=False)\n",
      "train_multi_pipelines = dict(\n",
      "    query=[\n",
      "        dict(type='LoadImageFromFile'),\n",
      "        dict(type='LoadAnnotations', with_bbox=True),\n",
      "        dict(\n",
      "            type='Resize',\n",
      "            img_scale=[(1000, 440), (1000, 472), (1000, 504), (1000, 536),\n",
      "                       (1000, 568), (1000, 600)],\n",
      "            keep_ratio=True,\n",
      "            multiscale_mode='value'),\n",
      "        dict(type='RandomFlip', flip_ratio=0.0),\n",
      "        dict(\n",
      "            type='Normalize',\n",
      "            mean=[103.53, 116.28, 123.675],\n",
      "            std=[1.0, 1.0, 1.0],\n",
      "            to_rgb=False),\n",
      "        dict(type='DefaultFormatBundle'),\n",
      "        dict(type='Collect', keys=['img', 'gt_bboxes', 'gt_labels'])\n",
      "    ],\n",
      "    support=[\n",
      "        dict(type='LoadImageFromFile'),\n",
      "        dict(type='LoadAnnotations', with_bbox=True),\n",
      "        dict(\n",
      "            type='CropResizeInstance',\n",
      "            num_context_pixels=16,\n",
      "            target_size=(320, 320)),\n",
      "        dict(type='RandomFlip', flip_ratio=0.0),\n",
      "        dict(\n",
      "            type='Normalize',\n",
      "            mean=[103.53, 116.28, 123.675],\n",
      "            std=[1.0, 1.0, 1.0],\n",
      "            to_rgb=False),\n",
      "        dict(type='DefaultFormatBundle'),\n",
      "        dict(type='Collect', keys=['img', 'gt_bboxes', 'gt_labels'])\n",
      "    ])\n",
      "test_pipeline = [\n",
      "    dict(type='LoadImageFromFile'),\n",
      "    dict(\n",
      "        type='MultiScaleFlipAug',\n",
      "        img_scale=(1000, 600),\n",
      "        flip=False,\n",
      "        transforms=[\n",
      "            dict(type='Resize', keep_ratio=True),\n",
      "            dict(type='RandomFlip'),\n",
      "            dict(\n",
      "                type='Normalize',\n",
      "                mean=[103.53, 116.28, 123.675],\n",
      "                std=[1.0, 1.0, 1.0],\n",
      "                to_rgb=False),\n",
      "            dict(type='ImageToTensor', keys=['img']),\n",
      "            dict(type='Collect', keys=['img'])\n",
      "        ])\n",
      "]\n",
      "data_root = 'data/Flickr-FoodLogos-10/VOCdevkit_FoodLogo_split2/'\n",
      "data = dict(\n",
      "    samples_per_gpu=1,\n",
      "    workers_per_gpu=2,\n",
      "    train=dict(\n",
      "        type='QueryAwareDataset',\n",
      "        num_support_ways=2,\n",
      "        num_support_shots=1,\n",
      "        save_dataset=True,\n",
      "        dataset=dict(\n",
      "            type='FewShotVOCDefaultDatasetFOODVAR',\n",
      "            ann_cfg=[\n",
      "                dict(\n",
      "                    method='Attention_RPN',\n",
      "                    setting='SPLIT2_1SHOT',\n",
      "                    task='TASK0')\n",
      "            ],\n",
      "            img_prefix='data/Flickr-FoodLogos-10/VOCdevkit_FoodLogo_split2',\n",
      "            multi_pipelines=dict(\n",
      "                query=[\n",
      "                    dict(type='LoadImageFromFile'),\n",
      "                    dict(type='LoadAnnotations', with_bbox=True),\n",
      "                    dict(\n",
      "                        type='Resize',\n",
      "                        img_scale=[(1000, 440), (1000, 472), (1000, 504),\n",
      "                                   (1000, 536), (1000, 568), (1000, 600)],\n",
      "                        keep_ratio=True,\n",
      "                        multiscale_mode='value'),\n",
      "                    dict(type='RandomFlip', flip_ratio=0.0),\n",
      "                    dict(\n",
      "                        type='Normalize',\n",
      "                        mean=[103.53, 116.28, 123.675],\n",
      "                        std=[1.0, 1.0, 1.0],\n",
      "                        to_rgb=False),\n",
      "                    dict(type='DefaultFormatBundle'),\n",
      "                    dict(\n",
      "                        type='Collect', keys=['img', 'gt_bboxes', 'gt_labels'])\n",
      "                ],\n",
      "                support=[\n",
      "                    dict(type='LoadImageFromFile'),\n",
      "                    dict(type='LoadAnnotations', with_bbox=True),\n",
      "                    dict(\n",
      "                        type='CropResizeInstance',\n",
      "                        num_context_pixels=16,\n",
      "                        target_size=(320, 320)),\n",
      "                    dict(type='RandomFlip', flip_ratio=0.0),\n",
      "                    dict(\n",
      "                        type='Normalize',\n",
      "                        mean=[103.53, 116.28, 123.675],\n",
      "                        std=[1.0, 1.0, 1.0],\n",
      "                        to_rgb=False),\n",
      "                    dict(type='DefaultFormatBundle'),\n",
      "                    dict(\n",
      "                        type='Collect', keys=['img', 'gt_bboxes', 'gt_labels'])\n",
      "                ]),\n",
      "            classes='ALL_CLASSES_SPLIT2',\n",
      "            use_difficult=False,\n",
      "            instance_wise=False,\n",
      "            min_bbox_area=0,\n",
      "            dataset_name='query_support_dataset',\n",
      "            num_novel_shots=10000,\n",
      "            num_base_shots=10000)),\n",
      "    val=dict(\n",
      "        type='FewShotVOCDatasetFOODVAR',\n",
      "        ann_cfg=[\n",
      "            dict(\n",
      "                type='ann_file',\n",
      "                ann_file=\n",
      "                'data/Flickr-FoodLogos-10/VOCdevkit_FoodLogo_split2/VOC2007/ImageSets/Main/test_across_style.txt'\n",
      "            )\n",
      "        ],\n",
      "        img_prefix='data/Flickr-FoodLogos-10/VOCdevkit_FoodLogo_split2',\n",
      "        pipeline=[\n",
      "            dict(type='LoadImageFromFile'),\n",
      "            dict(\n",
      "                type='MultiScaleFlipAug',\n",
      "                img_scale=(1000, 600),\n",
      "                flip=False,\n",
      "                transforms=[\n",
      "                    dict(type='Resize', keep_ratio=True),\n",
      "                    dict(type='RandomFlip'),\n",
      "                    dict(\n",
      "                        type='Normalize',\n",
      "                        mean=[103.53, 116.28, 123.675],\n",
      "                        std=[1.0, 1.0, 1.0],\n",
      "                        to_rgb=False),\n",
      "                    dict(type='ImageToTensor', keys=['img']),\n",
      "                    dict(type='Collect', keys=['img'])\n",
      "                ])\n",
      "        ],\n",
      "        classes='ALL_CLASSES_SPLIT2'),\n",
      "    test=dict(\n",
      "        type='FewShotVOCDatasetFOODVAR',\n",
      "        ann_cfg=[\n",
      "            dict(\n",
      "                type='ann_file',\n",
      "                ann_file=\n",
      "                'data/Flickr-FoodLogos-10/VOCdevkit_FoodLogo_split2/VOC2007/ImageSets/Main/test_across_style.txt'\n",
      "            )\n",
      "        ],\n",
      "        img_prefix='data/Flickr-FoodLogos-10/VOCdevkit_FoodLogo_split2',\n",
      "        pipeline=[\n",
      "            dict(type='LoadImageFromFile'),\n",
      "            dict(\n",
      "                type='MultiScaleFlipAug',\n",
      "                img_scale=(1000, 600),\n",
      "                flip=False,\n",
      "                transforms=[\n",
      "                    dict(type='Resize', keep_ratio=True),\n",
      "                    dict(type='RandomFlip'),\n",
      "                    dict(\n",
      "                        type='Normalize',\n",
      "                        mean=[103.53, 116.28, 123.675],\n",
      "                        std=[1.0, 1.0, 1.0],\n",
      "                        to_rgb=False),\n",
      "                    dict(type='ImageToTensor', keys=['img']),\n",
      "                    dict(type='Collect', keys=['img'])\n",
      "                ])\n",
      "        ],\n",
      "        test_mode=True,\n",
      "        classes='ALL_CLASSES_SPLIT2'),\n",
      "    model_init=dict(\n",
      "        copy_from_train_dataset=True,\n",
      "        samples_per_gpu=16,\n",
      "        workers_per_gpu=1,\n",
      "        type='FewShotVOCDatasetFOODVAR',\n",
      "        ann_cfg=None,\n",
      "        img_prefix='data/Flickr-FoodLogos-10/VOCdevkit_FoodLogo_split2/',\n",
      "        pipeline=[\n",
      "            dict(type='LoadImageFromFile'),\n",
      "            dict(type='LoadAnnotations', with_bbox=True),\n",
      "            dict(\n",
      "                type='CropResizeInstance',\n",
      "                num_context_pixels=16,\n",
      "                target_size=(320, 320)),\n",
      "            dict(type='RandomFlip', flip_ratio=0.0),\n",
      "            dict(\n",
      "                type='Normalize',\n",
      "                mean=[103.53, 116.28, 123.675],\n",
      "                std=[1.0, 1.0, 1.0],\n",
      "                to_rgb=False),\n",
      "            dict(type='DefaultFormatBundle'),\n",
      "            dict(type='Collect', keys=['img', 'gt_bboxes', 'gt_labels'])\n",
      "        ],\n",
      "        use_difficult=False,\n",
      "        instance_wise=True,\n",
      "        num_novel_shots=None,\n",
      "        classes='ALL_CLASSES_SPLIT2',\n",
      "        min_bbox_area=1024,\n",
      "        dataset_name='model_init_dataset'))\n",
      "evaluation = dict(\n",
      "    interval=1000,\n",
      "    metric='mAP',\n",
      "    class_splits=['BASE_CLASSES_SPLIT2', 'NOVEL_CLASSES_SPLIT2'])\n",
      "optimizer = dict(type='SGD', lr=0.0001, momentum=0.9, weight_decay=0.0001)\n",
      "optimizer_config = dict(grad_clip=None)\n",
      "lr_config = dict(\n",
      "    policy='step',\n",
      "    warmup=None,\n",
      "    warmup_iters=500,\n",
      "    warmup_ratio=0.001,\n",
      "    step=[100000])\n",
      "runner = dict(type='IterBasedRunner', max_iters=100000)\n",
      "norm_cfg = dict(type='BN', requires_grad=False)\n",
      "pretrained = 'open-mmlab://detectron2/resnet50_caffe'\n",
      "model = dict(\n",
      "    type='AttentionRPNDetector',\n",
      "    pretrained='open-mmlab://detectron2/resnet50_caffe',\n",
      "    backbone=dict(\n",
      "        type='ResNet',\n",
      "        depth=50,\n",
      "        num_stages=3,\n",
      "        strides=(1, 2, 2),\n",
      "        dilations=(1, 1, 1),\n",
      "        out_indices=(2, ),\n",
      "        frozen_stages=2,\n",
      "        norm_cfg=dict(type='BN', requires_grad=False),\n",
      "        norm_eval=True,\n",
      "        style='caffe'),\n",
      "    rpn_head=dict(\n",
      "        type='AttentionRPNHead',\n",
      "        in_channels=1024,\n",
      "        feat_channels=1024,\n",
      "        anchor_generator=dict(\n",
      "            type='AnchorGenerator',\n",
      "            scales=[2, 4, 8, 16, 32],\n",
      "            ratios=[0.5, 1.0, 2.0],\n",
      "            scale_major=False,\n",
      "            strides=[16]),\n",
      "        bbox_coder=dict(\n",
      "            type='DeltaXYWHBBoxCoder',\n",
      "            target_means=[0.0, 0.0, 0.0, 0.0],\n",
      "            target_stds=[1.0, 1.0, 1.0, 1.0]),\n",
      "        loss_cls=dict(\n",
      "            type='CrossEntropyLoss', use_sigmoid=True, loss_weight=1.0),\n",
      "        loss_bbox=dict(type='L1Loss', loss_weight=1.0),\n",
      "        num_support_ways=2,\n",
      "        num_support_shots=1,\n",
      "        roi_extractor=dict(\n",
      "            type='SingleRoIExtractor',\n",
      "            roi_layer=dict(type='RoIAlign', output_size=14, sampling_ratio=0),\n",
      "            out_channels=1024,\n",
      "            featmap_strides=[16]),\n",
      "        aggregation_layer=dict(\n",
      "            type='AggregationLayer',\n",
      "            aggregator_cfgs=[\n",
      "                dict(\n",
      "                    type='DepthWiseCorrelationAggregator',\n",
      "                    in_channels=1024,\n",
      "                    with_fc=False)\n",
      "            ])),\n",
      "    roi_head=dict(\n",
      "        type='MultiRelationRoIHead',\n",
      "        shared_head=dict(\n",
      "            type='ResLayer',\n",
      "            pretrained='open-mmlab://detectron2/resnet50_caffe',\n",
      "            depth=50,\n",
      "            stage=3,\n",
      "            stride=2,\n",
      "            dilation=1,\n",
      "            style='caffe',\n",
      "            norm_cfg=dict(type='BN', requires_grad=False),\n",
      "            norm_eval=True),\n",
      "        bbox_roi_extractor=dict(\n",
      "            type='SingleRoIExtractor',\n",
      "            roi_layer=dict(type='RoIAlign', output_size=14, sampling_ratio=0),\n",
      "            out_channels=1024,\n",
      "            featmap_strides=[16]),\n",
      "        bbox_head=dict(\n",
      "            type='MultiRelationBBoxHead',\n",
      "            with_avg_pool=True,\n",
      "            roi_feat_size=14,\n",
      "            in_channels=2048,\n",
      "            num_classes=1,\n",
      "            bbox_coder=dict(\n",
      "                type='DeltaXYWHBBoxCoder',\n",
      "                target_means=[0.0, 0.0, 0.0, 0.0],\n",
      "                target_stds=[0.1, 0.1, 0.2, 0.2]),\n",
      "            reg_class_agnostic=True,\n",
      "            loss_cls=dict(\n",
      "                type='CrossEntropyLoss', use_sigmoid=False, loss_weight=1.0),\n",
      "            loss_bbox=dict(type='L1Loss', loss_weight=1.0),\n",
      "            patch_relation=True,\n",
      "            local_correlation=True,\n",
      "            global_relation=True,\n",
      "            init_cfg=[\n",
      "                dict(\n",
      "                    type='Normal',\n",
      "                    override=dict(\n",
      "                        type='Normal', name='patch_relation_branch',\n",
      "                        std=0.01)),\n",
      "                dict(\n",
      "                    type='Normal',\n",
      "                    override=dict(\n",
      "                        type='Normal', name='patch_relation_fc_cls',\n",
      "                        std=0.01)),\n",
      "                dict(\n",
      "                    type='Normal',\n",
      "                    override=dict(\n",
      "                        type='Normal', name='patch_relation_fc_reg',\n",
      "                        std=0.001)),\n",
      "                dict(\n",
      "                    type='Normal',\n",
      "                    override=dict(\n",
      "                        type='Normal',\n",
      "                        name='local_correlation_branch',\n",
      "                        std=0.01)),\n",
      "                dict(\n",
      "                    type='Normal',\n",
      "                    override=dict(\n",
      "                        type='Normal',\n",
      "                        name='local_correlation_fc_cls',\n",
      "                        std=0.01)),\n",
      "                dict(\n",
      "                    type='Normal',\n",
      "                    override=dict(\n",
      "                        type='Normal', name='global_relation_branch',\n",
      "                        std=0.01)),\n",
      "                dict(\n",
      "                    type='Normal',\n",
      "                    override=dict(\n",
      "                        type='Normal', name='global_relation_fc_cls',\n",
      "                        std=0.01))\n",
      "            ]),\n",
      "        num_support_ways=2,\n",
      "        num_support_shots=1),\n",
      "    train_cfg=dict(\n",
      "        rpn=dict(\n",
      "            assigner=dict(\n",
      "                type='MaxIoUAssigner',\n",
      "                pos_iou_thr=0.7,\n",
      "                neg_iou_thr=0.3,\n",
      "                min_pos_iou=0.3,\n",
      "                match_low_quality=True,\n",
      "                ignore_iof_thr=-1),\n",
      "            sampler=dict(\n",
      "                type='RandomSampler',\n",
      "                num=256,\n",
      "                pos_fraction=0.5,\n",
      "                neg_pos_ub=-1,\n",
      "                add_gt_as_proposals=False),\n",
      "            allowed_border=-1,\n",
      "            pos_weight=-1,\n",
      "            debug=False),\n",
      "        rpn_proposal=dict(\n",
      "            nms_pre=12000,\n",
      "            max_per_img=2000,\n",
      "            nms=dict(type='nms', iou_threshold=0.7),\n",
      "            min_bbox_size=0),\n",
      "        rcnn=dict(\n",
      "            assigner=dict(\n",
      "                type='MaxIoUAssigner',\n",
      "                pos_iou_thr=0.5,\n",
      "                neg_iou_thr=0.5,\n",
      "                min_pos_iou=0.5,\n",
      "                match_low_quality=False,\n",
      "                ignore_iof_thr=-1),\n",
      "            sampler=dict(\n",
      "                type='RandomSampler',\n",
      "                num=128,\n",
      "                pos_fraction=0.5,\n",
      "                neg_pos_ub=-1,\n",
      "                add_gt_as_proposals=True),\n",
      "            pos_weight=-1,\n",
      "            debug=False)),\n",
      "    test_cfg=dict(\n",
      "        rpn=dict(\n",
      "            nms_pre=6000,\n",
      "            max_per_img=100,\n",
      "            nms=dict(type='nms', iou_threshold=0.7),\n",
      "            min_bbox_size=0),\n",
      "        rcnn=dict(\n",
      "            score_thr=0.05,\n",
      "            nms=dict(type='nms', iou_threshold=0.5),\n",
      "            max_per_img=100)))\n",
      "num_support_ways = 2\n",
      "num_support_shots = 1\n",
      "checkpoint_config = dict(interval=10000)\n",
      "log_config = dict(\n",
      "    interval=50,\n",
      "    hooks=[dict(type='TextLoggerHook'),\n",
      "           dict(type='TensorboardLoggerHook')])\n",
      "custom_hooks = [dict(type='NumClassCheckHook')]\n",
      "dist_params = dict(backend='nccl')\n",
      "log_level = 'INFO'\n",
      "load_from = None\n",
      "resume_from = None\n",
      "workflow = [('train', 1)]\n",
      "use_infinite_sampler = True\n",
      "seed = 42\n",
      "work_dir = './work_dirs/tb_variation/Flickr-FoodLogos-10/attention-rpn/split2/attention-rpn_r50_c4_tb-split2_1shot-fine-tuning'\n",
      "gpu_ids = range(0, 1)\n",
      "\n"
     ]
    },
    {
     "name": "stderr",
     "output_type": "stream",
     "text": [
      "2022-05-26 11:13:57,630 - mmfewshot - INFO - Set random seed to 42, deterministic: False\n",
      "/home/zhaozhiyuan/anaconda3/envs/mmfewshot/lib/python3.7/site-packages/mmdet/models/backbones/resnet.py:401: UserWarning: DeprecationWarning: pretrained is deprecated, please use \"init_cfg\" instead\n",
      "  warnings.warn('DeprecationWarning: pretrained is deprecated, '\n",
      "/home/zhaozhiyuan/anaconda3/envs/mmfewshot/lib/python3.7/site-packages/mmdet/models/roi_heads/shared_heads/res_layer.py:54: UserWarning: DeprecationWarning: pretrained is a deprecated, please use \"init_cfg\" instead\n",
      "  warnings.warn('DeprecationWarning: pretrained is a deprecated, '\n",
      "2022-05-26 11:13:58,145 - mmfewshot - INFO - initialize ResNet with init_cfg {'type': 'Pretrained', 'checkpoint': 'open-mmlab://detectron2/resnet50_caffe'}\n",
      "2022-05-26 11:13:58,147 - mmcv - INFO - load model from: open-mmlab://detectron2/resnet50_caffe\n",
      "2022-05-26 11:13:58,147 - mmcv - INFO - load checkpoint from openmmlab path: open-mmlab://detectron2/resnet50_caffe\n",
      "2022-05-26 11:13:58,244 - mmcv - WARNING - The model and loaded state dict do not match exactly\n",
      "\n",
      "unexpected key in source state_dict: layer4.0.downsample.0.weight, layer4.0.downsample.1.bias, layer4.0.downsample.1.weight, layer4.0.downsample.1.running_mean, layer4.0.downsample.1.running_var, layer4.0.conv1.weight, layer4.0.bn1.bias, layer4.0.bn1.weight, layer4.0.bn1.running_mean, layer4.0.bn1.running_var, layer4.0.conv2.weight, layer4.0.bn2.bias, layer4.0.bn2.weight, layer4.0.bn2.running_mean, layer4.0.bn2.running_var, layer4.0.conv3.weight, layer4.0.bn3.bias, layer4.0.bn3.weight, layer4.0.bn3.running_mean, layer4.0.bn3.running_var, layer4.1.conv1.weight, layer4.1.bn1.bias, layer4.1.bn1.weight, layer4.1.bn1.running_mean, layer4.1.bn1.running_var, layer4.1.conv2.weight, layer4.1.bn2.bias, layer4.1.bn2.weight, layer4.1.bn2.running_mean, layer4.1.bn2.running_var, layer4.1.conv3.weight, layer4.1.bn3.bias, layer4.1.bn3.weight, layer4.1.bn3.running_mean, layer4.1.bn3.running_var, layer4.2.conv1.weight, layer4.2.bn1.bias, layer4.2.bn1.weight, layer4.2.bn1.running_mean, layer4.2.bn1.running_var, layer4.2.conv2.weight, layer4.2.bn2.bias, layer4.2.bn2.weight, layer4.2.bn2.running_mean, layer4.2.bn2.running_var, layer4.2.conv3.weight, layer4.2.bn3.bias, layer4.2.bn3.weight, layer4.2.bn3.running_mean, layer4.2.bn3.running_var, conv1.bias\n",
      "\n",
      "2022-05-26 11:13:58,272 - mmfewshot - INFO - initialize AttentionRPNHead with init_cfg {'type': 'Normal', 'layer': 'Conv2d', 'std': 0.01}\n",
      "2022-05-26 11:13:58,395 - mmfewshot - INFO - initialize ResLayer with init_cfg {'type': 'Pretrained', 'checkpoint': 'open-mmlab://detectron2/resnet50_caffe'}\n",
      "2022-05-26 11:13:58,396 - mmcv - INFO - load model from: open-mmlab://detectron2/resnet50_caffe\n",
      "2022-05-26 11:13:58,397 - mmcv - INFO - load checkpoint from openmmlab path: open-mmlab://detectron2/resnet50_caffe\n",
      "2022-05-26 11:13:58,473 - mmcv - WARNING - The model and loaded state dict do not match exactly\n",
      "\n",
      "unexpected key in source state_dict: conv1.weight, conv1.bias, bn1.bias, bn1.weight, bn1.running_mean, bn1.running_var, layer1.0.downsample.0.weight, layer1.0.downsample.1.bias, layer1.0.downsample.1.weight, layer1.0.downsample.1.running_mean, layer1.0.downsample.1.running_var, layer1.0.conv1.weight, layer1.0.bn1.bias, layer1.0.bn1.weight, layer1.0.bn1.running_mean, layer1.0.bn1.running_var, layer1.0.conv2.weight, layer1.0.bn2.bias, layer1.0.bn2.weight, layer1.0.bn2.running_mean, layer1.0.bn2.running_var, layer1.0.conv3.weight, layer1.0.bn3.bias, layer1.0.bn3.weight, layer1.0.bn3.running_mean, layer1.0.bn3.running_var, layer1.1.conv1.weight, layer1.1.bn1.bias, layer1.1.bn1.weight, layer1.1.bn1.running_mean, layer1.1.bn1.running_var, layer1.1.conv2.weight, layer1.1.bn2.bias, layer1.1.bn2.weight, layer1.1.bn2.running_mean, layer1.1.bn2.running_var, layer1.1.conv3.weight, layer1.1.bn3.bias, layer1.1.bn3.weight, layer1.1.bn3.running_mean, layer1.1.bn3.running_var, layer1.2.conv1.weight, layer1.2.bn1.bias, layer1.2.bn1.weight, layer1.2.bn1.running_mean, layer1.2.bn1.running_var, layer1.2.conv2.weight, layer1.2.bn2.bias, layer1.2.bn2.weight, layer1.2.bn2.running_mean, layer1.2.bn2.running_var, layer1.2.conv3.weight, layer1.2.bn3.bias, layer1.2.bn3.weight, layer1.2.bn3.running_mean, layer1.2.bn3.running_var, layer2.0.downsample.0.weight, layer2.0.downsample.1.bias, layer2.0.downsample.1.weight, layer2.0.downsample.1.running_mean, layer2.0.downsample.1.running_var, layer2.0.conv1.weight, layer2.0.bn1.bias, layer2.0.bn1.weight, layer2.0.bn1.running_mean, layer2.0.bn1.running_var, layer2.0.conv2.weight, layer2.0.bn2.bias, layer2.0.bn2.weight, layer2.0.bn2.running_mean, layer2.0.bn2.running_var, layer2.0.conv3.weight, layer2.0.bn3.bias, layer2.0.bn3.weight, layer2.0.bn3.running_mean, layer2.0.bn3.running_var, layer2.1.conv1.weight, layer2.1.bn1.bias, layer2.1.bn1.weight, layer2.1.bn1.running_mean, layer2.1.bn1.running_var, layer2.1.conv2.weight, layer2.1.bn2.bias, layer2.1.bn2.weight, layer2.1.bn2.running_mean, layer2.1.bn2.running_var, layer2.1.conv3.weight, layer2.1.bn3.bias, layer2.1.bn3.weight, layer2.1.bn3.running_mean, layer2.1.bn3.running_var, layer2.2.conv1.weight, layer2.2.bn1.bias, layer2.2.bn1.weight, layer2.2.bn1.running_mean, layer2.2.bn1.running_var, layer2.2.conv2.weight, layer2.2.bn2.bias, layer2.2.bn2.weight, layer2.2.bn2.running_mean, layer2.2.bn2.running_var, layer2.2.conv3.weight, layer2.2.bn3.bias, layer2.2.bn3.weight, layer2.2.bn3.running_mean, layer2.2.bn3.running_var, layer2.3.conv1.weight, layer2.3.bn1.bias, layer2.3.bn1.weight, layer2.3.bn1.running_mean, layer2.3.bn1.running_var, layer2.3.conv2.weight, layer2.3.bn2.bias, layer2.3.bn2.weight, layer2.3.bn2.running_mean, layer2.3.bn2.running_var, layer2.3.conv3.weight, layer2.3.bn3.bias, layer2.3.bn3.weight, layer2.3.bn3.running_mean, layer2.3.bn3.running_var, layer3.0.downsample.0.weight, layer3.0.downsample.1.bias, layer3.0.downsample.1.weight, layer3.0.downsample.1.running_mean, layer3.0.downsample.1.running_var, layer3.0.conv1.weight, layer3.0.bn1.bias, layer3.0.bn1.weight, layer3.0.bn1.running_mean, layer3.0.bn1.running_var, layer3.0.conv2.weight, layer3.0.bn2.bias, layer3.0.bn2.weight, layer3.0.bn2.running_mean, layer3.0.bn2.running_var, layer3.0.conv3.weight, layer3.0.bn3.bias, layer3.0.bn3.weight, layer3.0.bn3.running_mean, layer3.0.bn3.running_var, layer3.1.conv1.weight, layer3.1.bn1.bias, layer3.1.bn1.weight, layer3.1.bn1.running_mean, layer3.1.bn1.running_var, layer3.1.conv2.weight, layer3.1.bn2.bias, layer3.1.bn2.weight, layer3.1.bn2.running_mean, layer3.1.bn2.running_var, layer3.1.conv3.weight, layer3.1.bn3.bias, layer3.1.bn3.weight, layer3.1.bn3.running_mean, layer3.1.bn3.running_var, layer3.2.conv1.weight, layer3.2.bn1.bias, layer3.2.bn1.weight, layer3.2.bn1.running_mean, layer3.2.bn1.running_var, layer3.2.conv2.weight, layer3.2.bn2.bias, layer3.2.bn2.weight, layer3.2.bn2.running_mean, layer3.2.bn2.running_var, layer3.2.conv3.weight, layer3.2.bn3.bias, layer3.2.bn3.weight, layer3.2.bn3.running_mean, layer3.2.bn3.running_var, layer3.3.conv1.weight, layer3.3.bn1.bias, layer3.3.bn1.weight, layer3.3.bn1.running_mean, layer3.3.bn1.running_var, layer3.3.conv2.weight, layer3.3.bn2.bias, layer3.3.bn2.weight, layer3.3.bn2.running_mean, layer3.3.bn2.running_var, layer3.3.conv3.weight, layer3.3.bn3.bias, layer3.3.bn3.weight, layer3.3.bn3.running_mean, layer3.3.bn3.running_var, layer3.4.conv1.weight, layer3.4.bn1.bias, layer3.4.bn1.weight, layer3.4.bn1.running_mean, layer3.4.bn1.running_var, layer3.4.conv2.weight, layer3.4.bn2.bias, layer3.4.bn2.weight, layer3.4.bn2.running_mean, layer3.4.bn2.running_var, layer3.4.conv3.weight, layer3.4.bn3.bias, layer3.4.bn3.weight, layer3.4.bn3.running_mean, layer3.4.bn3.running_var, layer3.5.conv1.weight, layer3.5.bn1.bias, layer3.5.bn1.weight, layer3.5.bn1.running_mean, layer3.5.bn1.running_var, layer3.5.conv2.weight, layer3.5.bn2.bias, layer3.5.bn2.weight, layer3.5.bn2.running_mean, layer3.5.bn2.running_var, layer3.5.conv3.weight, layer3.5.bn3.bias, layer3.5.bn3.weight, layer3.5.bn3.running_mean, layer3.5.bn3.running_var\n",
      "\n",
      "2022-05-26 11:13:58,487 - mmfewshot - INFO - initialize MultiRelationBBoxHead with init_cfg [{'type': 'Normal', 'override': {'type': 'Normal', 'name': 'patch_relation_branch', 'std': 0.01}}, {'type': 'Normal', 'override': {'type': 'Normal', 'name': 'patch_relation_fc_cls', 'std': 0.01}}, {'type': 'Normal', 'override': {'type': 'Normal', 'name': 'patch_relation_fc_reg', 'std': 0.001}}, {'type': 'Normal', 'override': {'type': 'Normal', 'name': 'local_correlation_branch', 'std': 0.01}}, {'type': 'Normal', 'override': {'type': 'Normal', 'name': 'local_correlation_fc_cls', 'std': 0.01}}, {'type': 'Normal', 'override': {'type': 'Normal', 'name': 'global_relation_branch', 'std': 0.01}}, {'type': 'Normal', 'override': {'type': 'Normal', 'name': 'global_relation_fc_cls', 'std': 0.01}}]\n"
     ]
    },
    {
     "name": "stdout",
     "output_type": "stream",
     "text": [
      "Attention_RPN SPLIT2_1SHOT TASK0\n"
     ]
    },
    {
     "name": "stderr",
     "output_type": "stream",
     "text": [
      "/data/zhaozhiyuan/mmfewshot-main/mmfewshot/detection/datasets/base.py:395: UserWarning: number of fanta instance is 560 which is less than predefined shots 10000.\n",
      "  warnings.warn(f'number of {class_name} instance is '\n",
      "/data/zhaozhiyuan/mmfewshot-main/mmfewshot/detection/datasets/base.py:395: UserWarning: number of Mirinda instance is 400 which is less than predefined shots 10000.\n",
      "  warnings.warn(f'number of {class_name} instance is '\n",
      "2022-05-26 11:13:59,042 - mmfewshot - INFO - \n",
      "FewShotVOCDefaultDatasetFOODVAR query_support_dataset with number of images 742, and instance counts: \n",
      "+----------+-------+----------+-------+----------+-------+----------+-------+----------+-------+\n",
      "| category | count | category | count | category | count | category | count | category | count |\n",
      "+----------+-------+----------+-------+----------+-------+----------+-------+----------+-------+\n",
      "fatal: Not a git repository (or any parent up to mount point /data)\n",
      "Stopping at filesystem boundary (GIT_DISCOVERY_ACROSS_FILESYSTEM not set).\n",
      "2022-05-26 11:13:59,359 - mmfewshot - INFO - \n",
      "FewShotVOCDatasetFOODVAR Test dataset with number of images 300, and instance counts: \n",
      "+----------+-------+----------+-------+----------+-------+----------+-------+----------+-------+\n",
      "| category | count | category | count | category | count | category | count | category | count |\n",
      "+----------+-------+----------+-------+----------+-------+----------+-------+----------+-------+\n",
      "2022-05-26 11:13:59,437 - mmfewshot - INFO - \n",
      "FewShotVOCCopyDatasetFOODVAR model_init_dataset with number of images 850, and instance counts: \n",
      "+----------+-------+----------+-------+----------+-------+----------+-------+----------+-------+\n",
      "| category | count | category | count | category | count | category | count | category | count |\n",
      "+----------+-------+----------+-------+----------+-------+----------+-------+----------+-------+\n",
      "2022-05-26 11:13:59,438 - mmfewshot - INFO - Start running, host: zhaozhiyuan@amax, work_dir: /data/zhaozhiyuan/mmfewshot-main/work_dirs/tb_variation/Flickr-FoodLogos-10/attention-rpn/split2/attention-rpn_r50_c4_tb-split2_1shot-fine-tuning\n",
      "2022-05-26 11:13:59,439 - mmfewshot - INFO - Hooks will be executed in the following order:\n",
      "before_run:\n",
      "(VERY_HIGH   ) StepLrUpdaterHook                  \n",
      "(NORMAL      ) CheckpointHook                     \n",
      "(LOW         ) QuerySupportEvalHook               \n",
      "(VERY_LOW    ) TextLoggerHook                     \n",
      "(VERY_LOW    ) TensorboardLoggerHook              \n",
      " -------------------- \n",
      "before_train_epoch:\n",
      "(VERY_HIGH   ) StepLrUpdaterHook                  \n",
      "(NORMAL      ) NumClassCheckHook                  \n",
      "(LOW         ) IterTimerHook                      \n",
      "(LOW         ) QuerySupportEvalHook               \n",
      "(VERY_LOW    ) TextLoggerHook                     \n",
      "(VERY_LOW    ) TensorboardLoggerHook              \n",
      " -------------------- \n",
      "before_train_iter:\n",
      "(VERY_HIGH   ) StepLrUpdaterHook                  \n",
      "(LOW         ) IterTimerHook                      \n",
      "(LOW         ) QuerySupportEvalHook               \n",
      " -------------------- \n",
      "after_train_iter:\n",
      "(ABOVE_NORMAL) OptimizerHook                      \n",
      "(NORMAL      ) CheckpointHook                     \n",
      "(LOW         ) IterTimerHook                      \n",
      "(LOW         ) QuerySupportEvalHook               \n",
      "(VERY_LOW    ) TextLoggerHook                     \n",
      "(VERY_LOW    ) TensorboardLoggerHook              \n",
      " -------------------- \n",
      "after_train_epoch:\n",
      "(NORMAL      ) CheckpointHook                     \n",
      "(LOW         ) QuerySupportEvalHook               \n",
      "(VERY_LOW    ) TextLoggerHook                     \n",
      "(VERY_LOW    ) TensorboardLoggerHook              \n",
      " -------------------- \n",
      "before_val_epoch:\n",
      "(NORMAL      ) NumClassCheckHook                  \n",
      "(LOW         ) IterTimerHook                      \n",
      "(VERY_LOW    ) TextLoggerHook                     \n",
      "(VERY_LOW    ) TensorboardLoggerHook              \n",
      " -------------------- \n",
      "before_val_iter:\n",
      "(LOW         ) IterTimerHook                      \n",
      " -------------------- \n",
      "after_val_iter:\n",
      "(LOW         ) IterTimerHook                      \n",
      " -------------------- \n",
      "after_val_epoch:\n",
      "(VERY_LOW    ) TextLoggerHook                     \n",
      "(VERY_LOW    ) TensorboardLoggerHook              \n",
      " -------------------- \n",
      "after_run:\n",
      "(VERY_LOW    ) TextLoggerHook                     \n",
      "(VERY_LOW    ) TensorboardLoggerHook              \n",
      " -------------------- \n",
      "2022-05-26 11:13:59,440 - mmfewshot - INFO - workflow: [('train', 1)], max: 100000 iters\n",
      "2022-05-26 11:13:59,441 - mmfewshot - INFO - Checkpoints will be saved to /data/zhaozhiyuan/mmfewshot-main/work_dirs/tb_variation/Flickr-FoodLogos-10/attention-rpn/split2/attention-rpn_r50_c4_tb-split2_1shot-fine-tuning by HardDiskBackend.\n",
      "/home/zhaozhiyuan/anaconda3/envs/mmfewshot/lib/python3.7/site-packages/mmdet/models/dense_heads/anchor_head.py:123: UserWarning: DeprecationWarning: anchor_generator is deprecated, please use \"prior_generator\" instead\n",
      "  warnings.warn('DeprecationWarning: anchor_generator is deprecated, '\n",
      "2022-05-26 11:14:12,641 - mmfewshot - INFO - Iter [50/100000]\tlr: 1.000e-04, eta: 7:12:47, time: 0.260, data_time: 0.013, memory: 4571, loss_rpn_cls: 0.5587, loss_rpn_bbox: 0.0273, loss_cls: 1.4860, acc: 94.9141, loss_bbox: 0.0894, loss: 2.1615\n",
      "2022-05-26 11:14:25,701 - mmfewshot - INFO - Iter [100/100000]\tlr: 1.000e-04, eta: 7:13:42, time: 0.261, data_time: 0.013, memory: 4571, loss_rpn_cls: 0.1369, loss_rpn_bbox: 0.0415, loss_cls: 0.5880, acc: 97.9922, loss_bbox: 0.0725, loss: 0.8388\n",
      "2022-05-26 11:14:38,851 - mmfewshot - INFO - Iter [150/100000]\tlr: 1.000e-04, eta: 7:14:43, time: 0.263, data_time: 0.012, memory: 4571, loss_rpn_cls: 0.0853, loss_rpn_bbox: 0.0218, loss_cls: 0.5540, acc: 98.2344, loss_bbox: 0.0607, loss: 0.7218\n",
      "2022-05-26 11:14:51,850 - mmfewshot - INFO - Iter [200/100000]\tlr: 1.000e-04, eta: 7:14:05, time: 0.260, data_time: 0.012, memory: 4571, loss_rpn_cls: 0.1028, loss_rpn_bbox: 0.0304, loss_cls: 0.5376, acc: 98.2891, loss_bbox: 0.0598, loss: 0.7306\n",
      "2022-05-26 11:15:04,885 - mmfewshot - INFO - Iter [250/100000]\tlr: 1.000e-04, eta: 7:13:44, time: 0.261, data_time: 0.012, memory: 4571, loss_rpn_cls: 0.0793, loss_rpn_bbox: 0.0277, loss_cls: 0.5219, acc: 98.5938, loss_bbox: 0.0443, loss: 0.6732\n",
      "2022-05-26 11:15:17,985 - mmfewshot - INFO - Iter [300/100000]\tlr: 1.000e-04, eta: 7:13:50, time: 0.262, data_time: 0.012, memory: 4571, loss_rpn_cls: 0.0917, loss_rpn_bbox: 0.0338, loss_cls: 0.5574, acc: 97.5000, loss_bbox: 0.0883, loss: 0.7713\n",
      "2022-05-26 11:15:31,169 - mmfewshot - INFO - Iter [350/100000]\tlr: 1.000e-04, eta: 7:14:13, time: 0.264, data_time: 0.012, memory: 4571, loss_rpn_cls: 0.0630, loss_rpn_bbox: 0.0091, loss_cls: 0.5240, acc: 97.4609, loss_bbox: 0.0920, loss: 0.6881\n",
      "2022-05-26 11:15:44,381 - mmfewshot - INFO - Iter [400/100000]\tlr: 1.000e-04, eta: 7:14:35, time: 0.264, data_time: 0.012, memory: 4571, loss_rpn_cls: 0.0576, loss_rpn_bbox: 0.0103, loss_cls: 0.5409, acc: 97.7422, loss_bbox: 0.0812, loss: 0.6901\n",
      "2022-05-26 11:15:57,639 - mmfewshot - INFO - Iter [450/100000]\tlr: 1.000e-04, eta: 7:14:58, time: 0.265, data_time: 0.012, memory: 4571, loss_rpn_cls: 0.0813, loss_rpn_bbox: 0.0209, loss_cls: 0.5086, acc: 97.2344, loss_bbox: 0.1049, loss: 0.7156\n",
      "2022-05-26 11:16:10,809 - mmfewshot - INFO - Iter [500/100000]\tlr: 1.000e-04, eta: 7:14:56, time: 0.263, data_time: 0.012, memory: 4571, loss_rpn_cls: 0.0715, loss_rpn_bbox: 0.0145, loss_cls: 0.5263, acc: 97.3594, loss_bbox: 0.0953, loss: 0.7075\n",
      "2022-05-26 11:16:23,839 - mmfewshot - INFO - Iter [550/100000]\tlr: 1.000e-04, eta: 7:14:29, time: 0.261, data_time: 0.010, memory: 4571, loss_rpn_cls: 0.0741, loss_rpn_bbox: 0.0176, loss_cls: 0.5039, acc: 97.6172, loss_bbox: 0.0886, loss: 0.6844\n",
      "2022-05-26 11:16:36,903 - mmfewshot - INFO - Iter [600/100000]\tlr: 1.000e-04, eta: 7:14:07, time: 0.261, data_time: 0.011, memory: 4571, loss_rpn_cls: 0.0625, loss_rpn_bbox: 0.0138, loss_cls: 0.5132, acc: 97.4844, loss_bbox: 0.0986, loss: 0.6881\n",
      "2022-05-26 11:16:49,956 - mmfewshot - INFO - Iter [650/100000]\tlr: 1.000e-04, eta: 7:13:46, time: 0.261, data_time: 0.011, memory: 4571, loss_rpn_cls: 0.0617, loss_rpn_bbox: 0.0156, loss_cls: 0.4942, acc: 97.2266, loss_bbox: 0.1147, loss: 0.6861\n",
      "2022-05-26 11:17:03,030 - mmfewshot - INFO - Iter [700/100000]\tlr: 1.000e-04, eta: 7:13:30, time: 0.262, data_time: 0.010, memory: 4571, loss_rpn_cls: 0.0498, loss_rpn_bbox: 0.0180, loss_cls: 0.5175, acc: 97.5547, loss_bbox: 0.0860, loss: 0.6713\n"
     ]
    },
    {
     "name": "stderr",
     "output_type": "stream",
     "text": [
      "2022-05-26 11:17:16,244 - mmfewshot - INFO - Iter [750/100000]\tlr: 1.000e-04, eta: 7:13:34, time: 0.264, data_time: 0.012, memory: 4571, loss_rpn_cls: 0.0578, loss_rpn_bbox: 0.0119, loss_cls: 0.4727, acc: 97.0391, loss_bbox: 0.1145, loss: 0.6570\n",
      "2022-05-26 11:17:29,366 - mmfewshot - INFO - Iter [800/100000]\tlr: 1.000e-04, eta: 7:13:22, time: 0.262, data_time: 0.012, memory: 4571, loss_rpn_cls: 0.0629, loss_rpn_bbox: 0.0214, loss_cls: 0.4800, acc: 96.2891, loss_bbox: 0.1520, loss: 0.7162\n",
      "2022-05-26 11:17:42,533 - mmfewshot - INFO - Iter [850/100000]\tlr: 1.000e-04, eta: 7:13:16, time: 0.263, data_time: 0.012, memory: 4571, loss_rpn_cls: 0.0774, loss_rpn_bbox: 0.0211, loss_cls: 0.4727, acc: 95.8672, loss_bbox: 0.1664, loss: 0.7375\n",
      "2022-05-26 11:17:55,798 - mmfewshot - INFO - Iter [900/100000]\tlr: 1.000e-04, eta: 7:13:20, time: 0.265, data_time: 0.012, memory: 4571, loss_rpn_cls: 0.0482, loss_rpn_bbox: 0.0081, loss_cls: 0.4786, acc: 97.4375, loss_bbox: 0.1035, loss: 0.6384\n",
      "2022-05-26 11:18:09,120 - mmfewshot - INFO - Iter [950/100000]\tlr: 1.000e-04, eta: 7:13:28, time: 0.266, data_time: 0.012, memory: 4571, loss_rpn_cls: 0.0392, loss_rpn_bbox: 0.0063, loss_cls: 0.4827, acc: 97.2500, loss_bbox: 0.1057, loss: 0.6339\n",
      "2022-05-26 11:18:22,317 - mmfewshot - INFO - Exp name: attention-rpn_r50_c4_tb-split2_1shot-fine-tuning-momentum-09.py\n",
      "2022-05-26 11:18:22,318 - mmfewshot - INFO - Iter [1000/100000]\tlr: 1.000e-04, eta: 7:13:22, time: 0.264, data_time: 0.012, memory: 4571, loss_rpn_cls: 0.0599, loss_rpn_bbox: 0.0127, loss_cls: 0.4868, acc: 96.2891, loss_bbox: 0.1502, loss: 0.7095\n",
      "2022-05-26 11:18:22,323 - mmdet - INFO - starting model initialization...\n"
     ]
    },
    {
     "name": "stdout",
     "output_type": "stream",
     "text": [
      "[>>>>>>>>>>>>>>>>>>>>>>>>>>>>>] 850/850, 80.8 task/s, elapsed: 11s, ETA:     0s"
     ]
    },
    {
     "name": "stderr",
     "output_type": "stream",
     "text": [
      "2022-05-26 11:18:32,920 - mmdet - INFO - model initialization done.\n"
     ]
    },
    {
     "name": "stdout",
     "output_type": "stream",
     "text": [
      "[>>>>>>>>>>>>>>>>>>>>>>>>>>>>>] 300/300, 12.6 task/s, elapsed: 24s, ETA:     0s\n",
      "---------------iou_thr: 0.5---------------\n"
     ]
    },
    {
     "name": "stderr",
     "output_type": "stream",
     "text": [
      "2022-05-26 11:18:57,209 - mmfewshot - INFO - \n",
      "+---------+-----+-------+--------+-------+\n",
      "| class   | gts | dets  | recall | ap    |\n",
      "+---------+-----+-------+--------+-------+\n",
      "| fanta   | 291 | 3870  | 0.189  | 0.045 |\n",
      "| Mirinda | 111 | 12200 | 0.306  | 0.047 |\n",
      "+---------+-----+-------+--------+-------+\n",
      "| mAP     |     |       |        | 0.046 |\n",
      "+---------+-----+-------+--------+-------+\n",
      "/data/zhaozhiyuan/mmfewshot-main/mmfewshot/detection/datasets/voc_food_var.py:517: RuntimeWarning: Mean of empty slice.\n",
      "  class_splits_mean_ap = np.array(aps).mean().item()\n",
      "/home/zhaozhiyuan/anaconda3/envs/mmfewshot/lib/python3.7/site-packages/numpy/core/_methods.py:189: RuntimeWarning: invalid value encountered in double_scalars\n",
      "  ret = ret.dtype.type(ret / rcount)\n",
      "2022-05-26 11:18:57,212 - mmfewshot - INFO - BASE_CLASSES_SPLIT2 mAP: 0.04598435014486313\n",
      "2022-05-26 11:18:57,212 - mmfewshot - INFO - NOVEL_CLASSES_SPLIT2 mAP: nan\n",
      "2022-05-26 11:18:57,215 - mmfewshot - INFO - Exp name: attention-rpn_r50_c4_tb-split2_1shot-fine-tuning-momentum-09.py\n",
      "2022-05-26 11:18:57,216 - mmfewshot - INFO - Iter(val) [300]\tAP50: 0.0460, BASE_CLASSES_SPLIT2: AP50: 0.0460, NOVEL_CLASSES_SPLIT2: AP50: nan, mAP: 0.0460\n",
      "2022-05-26 11:19:10,428 - mmfewshot - INFO - Iter [1050/100000]\tlr: 1.000e-04, eta: 8:08:05, time: 0.962, data_time: 0.710, memory: 4571, loss_rpn_cls: 0.0607, loss_rpn_bbox: 0.0163, loss_cls: 0.4748, acc: 96.7500, loss_bbox: 0.1347, loss: 0.6864\n",
      "2022-05-26 11:19:23,704 - mmfewshot - INFO - Iter [1100/100000]\tlr: 1.000e-04, eta: 8:05:34, time: 0.266, data_time: 0.012, memory: 4571, loss_rpn_cls: 0.0540, loss_rpn_bbox: 0.0108, loss_cls: 0.5424, acc: 96.8594, loss_bbox: 0.1141, loss: 0.7213\n",
      "2022-05-26 11:19:37,038 - mmfewshot - INFO - Iter [1150/100000]\tlr: 1.000e-04, eta: 8:03:19, time: 0.267, data_time: 0.013, memory: 4571, loss_rpn_cls: 0.0492, loss_rpn_bbox: 0.0115, loss_cls: 0.5314, acc: 95.5781, loss_bbox: 0.1759, loss: 0.7680\n",
      "2022-05-26 11:19:50,371 - mmfewshot - INFO - Iter [1200/100000]\tlr: 1.000e-04, eta: 8:01:14, time: 0.267, data_time: 0.012, memory: 4571, loss_rpn_cls: 0.0374, loss_rpn_bbox: 0.0066, loss_cls: 0.5038, acc: 96.8906, loss_bbox: 0.1211, loss: 0.6689\n",
      "2022-05-26 11:20:03,662 - mmfewshot - INFO - Iter [1250/100000]\tlr: 1.000e-04, eta: 7:59:15, time: 0.266, data_time: 0.012, memory: 4571, loss_rpn_cls: 0.0401, loss_rpn_bbox: 0.0076, loss_cls: 0.4661, acc: 96.1250, loss_bbox: 0.1638, loss: 0.6775\n",
      "2022-05-26 11:20:17,018 - mmfewshot - INFO - Iter [1300/100000]\tlr: 1.000e-04, eta: 7:57:29, time: 0.267, data_time: 0.013, memory: 4571, loss_rpn_cls: 0.0508, loss_rpn_bbox: 0.0121, loss_cls: 0.4565, acc: 96.9219, loss_bbox: 0.1328, loss: 0.6522\n",
      "2022-05-26 11:20:30,272 - mmfewshot - INFO - Iter [1350/100000]\tlr: 1.000e-04, eta: 7:55:42, time: 0.265, data_time: 0.012, memory: 4571, loss_rpn_cls: 0.0478, loss_rpn_bbox: 0.0114, loss_cls: 0.4868, acc: 96.0469, loss_bbox: 0.1701, loss: 0.7161\n",
      "2022-05-26 11:20:43,581 - mmfewshot - INFO - Iter [1400/100000]\tlr: 1.000e-04, eta: 7:54:07, time: 0.266, data_time: 0.013, memory: 4571, loss_rpn_cls: 0.0830, loss_rpn_bbox: 0.0206, loss_cls: 0.4502, acc: 96.2344, loss_bbox: 0.1779, loss: 0.7317\n",
      "2022-05-26 11:20:56,942 - mmfewshot - INFO - Iter [1450/100000]\tlr: 1.000e-04, eta: 7:52:39, time: 0.267, data_time: 0.012, memory: 4571, loss_rpn_cls: 0.0538, loss_rpn_bbox: 0.0125, loss_cls: 0.5117, acc: 96.9609, loss_bbox: 0.1314, loss: 0.7094\n",
      "2022-05-26 11:21:10,189 - mmfewshot - INFO - Iter [1500/100000]\tlr: 1.000e-04, eta: 7:51:09, time: 0.265, data_time: 0.012, memory: 4571, loss_rpn_cls: 0.0325, loss_rpn_bbox: 0.0051, loss_cls: 0.4528, acc: 97.4766, loss_bbox: 0.1084, loss: 0.5988\n",
      "2022-05-26 11:21:23,448 - mmfewshot - INFO - Iter [1550/100000]\tlr: 1.000e-04, eta: 7:49:47, time: 0.266, data_time: 0.012, memory: 4571, loss_rpn_cls: 0.0556, loss_rpn_bbox: 0.0127, loss_cls: 0.4627, acc: 97.1562, loss_bbox: 0.1302, loss: 0.6613\n",
      "2022-05-26 11:21:36,712 - mmfewshot - INFO - Iter [1600/100000]\tlr: 1.000e-04, eta: 7:48:27, time: 0.265, data_time: 0.012, memory: 4571, loss_rpn_cls: 0.0374, loss_rpn_bbox: 0.0081, loss_cls: 0.4000, acc: 96.4375, loss_bbox: 0.1686, loss: 0.6141\n",
      "2022-05-26 11:21:50,056 - mmfewshot - INFO - Iter [1650/100000]\tlr: 1.000e-04, eta: 7:47:17, time: 0.267, data_time: 0.012, memory: 4571, loss_rpn_cls: 0.0402, loss_rpn_bbox: 0.0090, loss_cls: 0.4555, acc: 97.1484, loss_bbox: 0.1414, loss: 0.6461\n",
      "2022-05-26 11:22:03,339 - mmfewshot - INFO - Iter [1700/100000]\tlr: 1.000e-04, eta: 7:46:07, time: 0.266, data_time: 0.012, memory: 4571, loss_rpn_cls: 0.0611, loss_rpn_bbox: 0.0128, loss_cls: 0.4481, acc: 97.3359, loss_bbox: 0.1194, loss: 0.6414\n",
      "2022-05-26 11:22:16,565 - mmfewshot - INFO - Iter [1750/100000]\tlr: 1.000e-04, eta: 7:44:56, time: 0.264, data_time: 0.012, memory: 4571, loss_rpn_cls: 0.0629, loss_rpn_bbox: 0.0127, loss_cls: 0.3938, acc: 97.4688, loss_bbox: 0.1518, loss: 0.6212\n",
      "2022-05-26 11:22:29,805 - mmfewshot - INFO - Iter [1800/100000]\tlr: 1.000e-04, eta: 7:43:50, time: 0.265, data_time: 0.012, memory: 4571, loss_rpn_cls: 0.0330, loss_rpn_bbox: 0.0065, loss_cls: 0.3481, acc: 97.9531, loss_bbox: 0.1266, loss: 0.5143\n",
      "2022-05-26 11:22:42,986 - mmfewshot - INFO - Iter [1850/100000]\tlr: 1.000e-04, eta: 7:42:42, time: 0.263, data_time: 0.012, memory: 4571, loss_rpn_cls: 0.0439, loss_rpn_bbox: 0.0111, loss_cls: 0.4559, acc: 96.8984, loss_bbox: 0.1639, loss: 0.6748\n",
      "2022-05-26 11:22:56,268 - mmfewshot - INFO - Iter [1900/100000]\tlr: 1.000e-04, eta: 7:41:44, time: 0.266, data_time: 0.013, memory: 4571, loss_rpn_cls: 0.0373, loss_rpn_bbox: 0.0097, loss_cls: 0.4109, acc: 97.2500, loss_bbox: 0.1529, loss: 0.6108\n",
      "2022-05-26 11:23:09,561 - mmfewshot - INFO - Iter [1950/100000]\tlr: 1.000e-04, eta: 7:40:49, time: 0.266, data_time: 0.013, memory: 4571, loss_rpn_cls: 0.0346, loss_rpn_bbox: 0.0093, loss_cls: 0.3900, acc: 97.4141, loss_bbox: 0.1568, loss: 0.5907\n",
      "2022-05-26 11:23:22,748 - mmfewshot - INFO - Exp name: attention-rpn_r50_c4_tb-split2_1shot-fine-tuning-momentum-09.py\n",
      "2022-05-26 11:23:22,750 - mmfewshot - INFO - Iter [2000/100000]\tlr: 1.000e-04, eta: 7:39:50, time: 0.264, data_time: 0.012, memory: 4571, loss_rpn_cls: 0.0527, loss_rpn_bbox: 0.0139, loss_cls: 0.4546, acc: 97.3984, loss_bbox: 0.1222, loss: 0.6435\n",
      "2022-05-26 11:23:22,755 - mmdet - INFO - starting model initialization...\n"
     ]
    },
    {
     "name": "stdout",
     "output_type": "stream",
     "text": [
      "[>>>>>>>>>>>>>>>>>>>>>>>>>>>>>] 850/850, 75.3 task/s, elapsed: 11s, ETA:     0s"
     ]
    },
    {
     "name": "stderr",
     "output_type": "stream",
     "text": [
      "2022-05-26 11:23:34,112 - mmdet - INFO - model initialization done.\n"
     ]
    },
    {
     "name": "stdout",
     "output_type": "stream",
     "text": [
      "[>>>>>>>>>>>>>>>>>>>>>>>>>>>>>] 300/300, 12.5 task/s, elapsed: 24s, ETA:     0s\n",
      "---------------iou_thr: 0.5---------------\n"
     ]
    },
    {
     "name": "stderr",
     "output_type": "stream",
     "text": [
      "2022-05-26 11:23:58,418 - mmfewshot - INFO - \n",
      "+---------+-----+------+--------+-------+\n",
      "| class   | gts | dets | recall | ap    |\n",
      "+---------+-----+------+--------+-------+\n",
      "| fanta   | 291 | 6861 | 0.629  | 0.212 |\n",
      "| Mirinda | 111 | 7242 | 0.658  | 0.278 |\n",
      "+---------+-----+------+--------+-------+\n",
      "| mAP     |     |      |        | 0.245 |\n",
      "+---------+-----+------+--------+-------+\n",
      "2022-05-26 11:23:58,421 - mmfewshot - INFO - BASE_CLASSES_SPLIT2 mAP: 0.24495598673820496\n",
      "2022-05-26 11:23:58,422 - mmfewshot - INFO - NOVEL_CLASSES_SPLIT2 mAP: nan\n",
      "2022-05-26 11:23:58,425 - mmfewshot - INFO - Exp name: attention-rpn_r50_c4_tb-split2_1shot-fine-tuning-momentum-09.py\n",
      "2022-05-26 11:23:58,426 - mmfewshot - INFO - Iter(val) [300]\tAP50: 0.2450, BASE_CLASSES_SPLIT2: AP50: 0.2450, NOVEL_CLASSES_SPLIT2: AP50: nan, mAP: 0.2450\n",
      "2022-05-26 11:24:11,673 - mmfewshot - INFO - Iter [2050/100000]\tlr: 1.000e-04, eta: 8:07:21, time: 0.979, data_time: 0.725, memory: 4571, loss_rpn_cls: 0.0603, loss_rpn_bbox: 0.0141, loss_cls: 0.4056, acc: 97.2031, loss_bbox: 0.1472, loss: 0.6272\n",
      "2022-05-26 11:24:25,017 - mmfewshot - INFO - Iter [2100/100000]\tlr: 1.000e-04, eta: 8:05:52, time: 0.267, data_time: 0.013, memory: 4571, loss_rpn_cls: 0.0471, loss_rpn_bbox: 0.0110, loss_cls: 0.3806, acc: 97.3125, loss_bbox: 0.1487, loss: 0.5874\n",
      "2022-05-26 11:24:38,276 - mmfewshot - INFO - Iter [2150/100000]\tlr: 1.000e-04, eta: 8:04:23, time: 0.265, data_time: 0.012, memory: 4571, loss_rpn_cls: 0.0416, loss_rpn_bbox: 0.0103, loss_cls: 0.3761, acc: 97.6797, loss_bbox: 0.1332, loss: 0.5613\n",
      "2022-05-26 11:24:51,615 - mmfewshot - INFO - Iter [2200/100000]\tlr: 1.000e-04, eta: 8:03:01, time: 0.267, data_time: 0.013, memory: 4571, loss_rpn_cls: 0.0409, loss_rpn_bbox: 0.0089, loss_cls: 0.3878, acc: 97.2656, loss_bbox: 0.1610, loss: 0.5986\n",
      "2022-05-26 11:25:04,908 - mmfewshot - INFO - Iter [2250/100000]\tlr: 1.000e-04, eta: 8:01:40, time: 0.266, data_time: 0.012, memory: 4571, loss_rpn_cls: 0.0262, loss_rpn_bbox: 0.0058, loss_cls: 0.3962, acc: 97.8672, loss_bbox: 0.1380, loss: 0.5663\n",
      "2022-05-26 11:25:18,060 - mmfewshot - INFO - Iter [2300/100000]\tlr: 1.000e-04, eta: 8:00:16, time: 0.263, data_time: 0.011, memory: 4571, loss_rpn_cls: 0.0361, loss_rpn_bbox: 0.0092, loss_cls: 0.3932, acc: 97.2969, loss_bbox: 0.1628, loss: 0.6013\n",
      "2022-05-26 11:25:31,415 - mmfewshot - INFO - Iter [2350/100000]\tlr: 1.000e-04, eta: 7:59:03, time: 0.267, data_time: 0.013, memory: 4571, loss_rpn_cls: 0.0407, loss_rpn_bbox: 0.0115, loss_cls: 0.3612, acc: 96.5859, loss_bbox: 0.1922, loss: 0.6056\n",
      "2022-05-26 11:25:44,682 - mmfewshot - INFO - Iter [2400/100000]\tlr: 1.000e-04, eta: 7:57:50, time: 0.265, data_time: 0.012, memory: 4571, loss_rpn_cls: 0.0402, loss_rpn_bbox: 0.0090, loss_cls: 0.3664, acc: 97.6250, loss_bbox: 0.1603, loss: 0.5759\n",
      "2022-05-26 11:25:57,899 - mmfewshot - INFO - Iter [2450/100000]\tlr: 1.000e-04, eta: 7:56:36, time: 0.264, data_time: 0.011, memory: 4571, loss_rpn_cls: 0.0398, loss_rpn_bbox: 0.0097, loss_cls: 0.2672, acc: 97.9141, loss_bbox: 0.1775, loss: 0.4942\n",
      "2022-05-26 11:26:11,186 - mmfewshot - INFO - Iter [2500/100000]\tlr: 1.000e-04, eta: 7:55:28, time: 0.266, data_time: 0.013, memory: 4571, loss_rpn_cls: 0.0325, loss_rpn_bbox: 0.0079, loss_cls: 0.3877, acc: 97.3672, loss_bbox: 0.1590, loss: 0.5871\n",
      "2022-05-26 11:26:24,403 - mmfewshot - INFO - Iter [2550/100000]\tlr: 1.000e-04, eta: 7:54:20, time: 0.264, data_time: 0.011, memory: 4571, loss_rpn_cls: 0.0381, loss_rpn_bbox: 0.0097, loss_cls: 0.4292, acc: 97.4219, loss_bbox: 0.1307, loss: 0.6077\n",
      "2022-05-26 11:26:37,687 - mmfewshot - INFO - Iter [2600/100000]\tlr: 1.000e-04, eta: 7:53:16, time: 0.266, data_time: 0.012, memory: 4571, loss_rpn_cls: 0.0396, loss_rpn_bbox: 0.0089, loss_cls: 0.3492, acc: 97.7812, loss_bbox: 0.1580, loss: 0.5557\n",
      "2022-05-26 11:26:50,946 - mmfewshot - INFO - Iter [2650/100000]\tlr: 1.000e-04, eta: 7:52:12, time: 0.265, data_time: 0.012, memory: 4571, loss_rpn_cls: 0.0352, loss_rpn_bbox: 0.0086, loss_cls: 0.3093, acc: 97.8984, loss_bbox: 0.1752, loss: 0.5283\n",
      "2022-05-26 11:27:04,185 - mmfewshot - INFO - Iter [2700/100000]\tlr: 1.000e-04, eta: 7:51:11, time: 0.265, data_time: 0.011, memory: 4571, loss_rpn_cls: 0.0293, loss_rpn_bbox: 0.0055, loss_cls: 0.3399, acc: 97.8906, loss_bbox: 0.1393, loss: 0.5140\n",
      "2022-05-26 11:27:17,492 - mmfewshot - INFO - Iter [2750/100000]\tlr: 1.000e-04, eta: 7:50:13, time: 0.266, data_time: 0.012, memory: 4571, loss_rpn_cls: 0.0565, loss_rpn_bbox: 0.0127, loss_cls: 0.3338, acc: 97.8047, loss_bbox: 0.1489, loss: 0.5520\n",
      "2022-05-26 11:27:30,839 - mmfewshot - INFO - Iter [2800/100000]\tlr: 1.000e-04, eta: 7:49:18, time: 0.267, data_time: 0.013, memory: 4571, loss_rpn_cls: 0.0301, loss_rpn_bbox: 0.0064, loss_cls: 0.3158, acc: 98.1406, loss_bbox: 0.1387, loss: 0.4910\n",
      "2022-05-26 11:27:44,178 - mmfewshot - INFO - Iter [2850/100000]\tlr: 1.000e-04, eta: 7:48:25, time: 0.267, data_time: 0.012, memory: 4571, loss_rpn_cls: 0.0444, loss_rpn_bbox: 0.0122, loss_cls: 0.3511, acc: 97.7422, loss_bbox: 0.1793, loss: 0.5870\n",
      "2022-05-26 11:27:57,514 - mmfewshot - INFO - Iter [2900/100000]\tlr: 1.000e-04, eta: 7:47:32, time: 0.266, data_time: 0.013, memory: 4571, loss_rpn_cls: 0.0589, loss_rpn_bbox: 0.0124, loss_cls: 0.3181, acc: 97.6562, loss_bbox: 0.1758, loss: 0.5653\n",
      "2022-05-26 11:28:10,842 - mmfewshot - INFO - Iter [2950/100000]\tlr: 1.000e-04, eta: 7:46:41, time: 0.267, data_time: 0.012, memory: 4571, loss_rpn_cls: 0.0687, loss_rpn_bbox: 0.0184, loss_cls: 0.3475, acc: 97.2812, loss_bbox: 0.1933, loss: 0.6280\n",
      "2022-05-26 11:28:24,140 - mmfewshot - INFO - Exp name: attention-rpn_r50_c4_tb-split2_1shot-fine-tuning-momentum-09.py\n",
      "2022-05-26 11:28:24,141 - mmfewshot - INFO - Iter [3000/100000]\tlr: 1.000e-04, eta: 7:45:50, time: 0.266, data_time: 0.013, memory: 4571, loss_rpn_cls: 0.0305, loss_rpn_bbox: 0.0068, loss_cls: 0.3194, acc: 98.2578, loss_bbox: 0.1407, loss: 0.4974\n",
      "2022-05-26 11:28:24,146 - mmdet - INFO - starting model initialization...\n"
     ]
    },
    {
     "name": "stdout",
     "output_type": "stream",
     "text": [
      "[>>>>>>>>>>>>>>>>>>>>>>>>>>>>>] 850/850, 74.5 task/s, elapsed: 11s, ETA:     0s"
     ]
    },
    {
     "name": "stderr",
     "output_type": "stream",
     "text": [
      "2022-05-26 11:28:35,640 - mmdet - INFO - model initialization done.\n"
     ]
    },
    {
     "name": "stdout",
     "output_type": "stream",
     "text": [
      "[>>>>>>>>>>>>>>>>>>>>>>>>>>>>>] 300/300, 12.7 task/s, elapsed: 24s, ETA:     0s\n",
      "---------------iou_thr: 0.5---------------\n"
     ]
    },
    {
     "name": "stderr",
     "output_type": "stream",
     "text": [
      "2022-05-26 11:28:59,526 - mmfewshot - INFO - \n",
      "+---------+-----+------+--------+-------+\n",
      "| class   | gts | dets | recall | ap    |\n",
      "+---------+-----+------+--------+-------+\n",
      "| fanta   | 291 | 3338 | 0.680  | 0.339 |\n",
      "| Mirinda | 111 | 2507 | 0.631  | 0.320 |\n",
      "+---------+-----+------+--------+-------+\n",
      "| mAP     |     |      |        | 0.330 |\n",
      "+---------+-----+------+--------+-------+\n",
      "2022-05-26 11:28:59,529 - mmfewshot - INFO - BASE_CLASSES_SPLIT2 mAP: 0.3298867642879486\n",
      "2022-05-26 11:28:59,529 - mmfewshot - INFO - NOVEL_CLASSES_SPLIT2 mAP: nan\n",
      "2022-05-26 11:28:59,532 - mmfewshot - INFO - Exp name: attention-rpn_r50_c4_tb-split2_1shot-fine-tuning-momentum-09.py\n",
      "2022-05-26 11:28:59,533 - mmfewshot - INFO - Iter(val) [300]\tAP50: 0.3300, BASE_CLASSES_SPLIT2: AP50: 0.3300, NOVEL_CLASSES_SPLIT2: AP50: nan, mAP: 0.3299\n",
      "2022-05-26 11:29:12,822 - mmfewshot - INFO - Iter [3050/100000]\tlr: 1.000e-04, eta: 8:03:45, time: 0.974, data_time: 0.720, memory: 4571, loss_rpn_cls: 0.0295, loss_rpn_bbox: 0.0076, loss_cls: 0.3148, acc: 98.3672, loss_bbox: 0.1422, loss: 0.4941\n",
      "2022-05-26 11:29:26,015 - mmfewshot - INFO - Iter [3100/100000]\tlr: 1.000e-04, eta: 8:02:35, time: 0.264, data_time: 0.012, memory: 4571, loss_rpn_cls: 0.0281, loss_rpn_bbox: 0.0071, loss_cls: 0.2711, acc: 98.0156, loss_bbox: 0.1557, loss: 0.4620\n",
      "2022-05-26 11:29:39,270 - mmfewshot - INFO - Iter [3150/100000]\tlr: 1.000e-04, eta: 8:01:28, time: 0.265, data_time: 0.012, memory: 4571, loss_rpn_cls: 0.0491, loss_rpn_bbox: 0.0119, loss_cls: 0.2938, acc: 98.0938, loss_bbox: 0.1548, loss: 0.5096\n",
      "2022-05-26 11:29:52,583 - mmfewshot - INFO - Iter [3200/100000]\tlr: 1.000e-04, eta: 8:00:25, time: 0.266, data_time: 0.012, memory: 4571, loss_rpn_cls: 0.0425, loss_rpn_bbox: 0.0085, loss_cls: 0.3570, acc: 97.9141, loss_bbox: 0.1607, loss: 0.5687\n",
      "2022-05-26 11:30:05,985 - mmfewshot - INFO - Iter [3250/100000]\tlr: 1.000e-04, eta: 7:59:26, time: 0.268, data_time: 0.013, memory: 4571, loss_rpn_cls: 0.0396, loss_rpn_bbox: 0.0089, loss_cls: 0.2890, acc: 97.9766, loss_bbox: 0.1767, loss: 0.5142\n",
      "2022-05-26 11:30:19,299 - mmfewshot - INFO - Iter [3300/100000]\tlr: 1.000e-04, eta: 7:58:25, time: 0.266, data_time: 0.012, memory: 4571, loss_rpn_cls: 0.0306, loss_rpn_bbox: 0.0080, loss_cls: 0.2563, acc: 98.3516, loss_bbox: 0.1479, loss: 0.4429\n",
      "2022-05-26 11:30:32,591 - mmfewshot - INFO - Iter [3350/100000]\tlr: 1.000e-04, eta: 7:57:25, time: 0.265, data_time: 0.012, memory: 4571, loss_rpn_cls: 0.0499, loss_rpn_bbox: 0.0107, loss_cls: 0.2913, acc: 98.2031, loss_bbox: 0.1520, loss: 0.5039\n",
      "2022-05-26 11:30:45,856 - mmfewshot - INFO - Iter [3400/100000]\tlr: 1.000e-04, eta: 7:56:27, time: 0.266, data_time: 0.013, memory: 4571, loss_rpn_cls: 0.0398, loss_rpn_bbox: 0.0079, loss_cls: 0.2364, acc: 98.4062, loss_bbox: 0.1732, loss: 0.4573\n",
      "2022-05-26 11:30:59,128 - mmfewshot - INFO - Iter [3450/100000]\tlr: 1.000e-04, eta: 7:55:29, time: 0.265, data_time: 0.012, memory: 4571, loss_rpn_cls: 0.0373, loss_rpn_bbox: 0.0086, loss_cls: 0.2608, acc: 98.0312, loss_bbox: 0.1830, loss: 0.4896\n",
      "2022-05-26 11:31:12,357 - mmfewshot - INFO - Iter [3500/100000]\tlr: 1.000e-04, eta: 7:54:32, time: 0.265, data_time: 0.013, memory: 4571, loss_rpn_cls: 0.0343, loss_rpn_bbox: 0.0074, loss_cls: 0.2157, acc: 98.3672, loss_bbox: 0.1599, loss: 0.4174\n",
      "2022-05-26 11:31:25,806 - mmfewshot - INFO - Iter [3550/100000]\tlr: 1.000e-04, eta: 7:53:41, time: 0.269, data_time: 0.013, memory: 4571, loss_rpn_cls: 0.0248, loss_rpn_bbox: 0.0057, loss_cls: 0.2878, acc: 98.1875, loss_bbox: 0.1543, loss: 0.4726\n",
      "2022-05-26 11:31:39,133 - mmfewshot - INFO - Iter [3600/100000]\tlr: 1.000e-04, eta: 7:52:49, time: 0.267, data_time: 0.012, memory: 4571, loss_rpn_cls: 0.0434, loss_rpn_bbox: 0.0114, loss_cls: 0.2949, acc: 97.8438, loss_bbox: 0.1678, loss: 0.5175\n",
      "2022-05-26 11:31:52,432 - mmfewshot - INFO - Iter [3650/100000]\tlr: 1.000e-04, eta: 7:51:57, time: 0.266, data_time: 0.012, memory: 4571, loss_rpn_cls: 0.0351, loss_rpn_bbox: 0.0080, loss_cls: 0.2536, acc: 98.0547, loss_bbox: 0.1715, loss: 0.4681\n",
      "2022-05-26 11:32:05,566 - mmfewshot - INFO - Iter [3700/100000]\tlr: 1.000e-04, eta: 7:51:01, time: 0.262, data_time: 0.010, memory: 4571, loss_rpn_cls: 0.0365, loss_rpn_bbox: 0.0109, loss_cls: 0.3022, acc: 98.0469, loss_bbox: 0.1703, loss: 0.5199\n",
      "2022-05-26 11:32:18,844 - mmfewshot - INFO - Iter [3750/100000]\tlr: 1.000e-04, eta: 7:50:11, time: 0.266, data_time: 0.012, memory: 4571, loss_rpn_cls: 0.0485, loss_rpn_bbox: 0.0131, loss_cls: 0.2539, acc: 97.9688, loss_bbox: 0.1836, loss: 0.4991\n",
      "2022-05-26 11:32:32,051 - mmfewshot - INFO - Iter [3800/100000]\tlr: 1.000e-04, eta: 7:49:19, time: 0.264, data_time: 0.012, memory: 4571, loss_rpn_cls: 0.0404, loss_rpn_bbox: 0.0108, loss_cls: 0.2439, acc: 97.8906, loss_bbox: 0.2199, loss: 0.5150\n",
      "2022-05-26 11:32:45,326 - mmfewshot - INFO - Iter [3850/100000]\tlr: 1.000e-04, eta: 7:48:31, time: 0.266, data_time: 0.011, memory: 4571, loss_rpn_cls: 0.0427, loss_rpn_bbox: 0.0107, loss_cls: 0.2465, acc: 98.3281, loss_bbox: 0.1535, loss: 0.4534\n",
      "2022-05-26 11:32:58,785 - mmfewshot - INFO - Iter [3900/100000]\tlr: 1.000e-04, eta: 7:47:48, time: 0.269, data_time: 0.013, memory: 4571, loss_rpn_cls: 0.0356, loss_rpn_bbox: 0.0084, loss_cls: 0.2355, acc: 98.4219, loss_bbox: 0.1513, loss: 0.4308\n",
      "2022-05-26 11:33:12,101 - mmfewshot - INFO - Iter [3950/100000]\tlr: 1.000e-04, eta: 7:47:02, time: 0.266, data_time: 0.012, memory: 4571, loss_rpn_cls: 0.0345, loss_rpn_bbox: 0.0075, loss_cls: 0.2380, acc: 98.4219, loss_bbox: 0.1741, loss: 0.4540\n",
      "2022-05-26 11:33:25,396 - mmfewshot - INFO - Exp name: attention-rpn_r50_c4_tb-split2_1shot-fine-tuning-momentum-09.py\n",
      "2022-05-26 11:33:25,397 - mmfewshot - INFO - Iter [4000/100000]\tlr: 1.000e-04, eta: 7:46:16, time: 0.266, data_time: 0.013, memory: 4571, loss_rpn_cls: 0.0272, loss_rpn_bbox: 0.0068, loss_cls: 0.2574, acc: 98.5000, loss_bbox: 0.1571, loss: 0.4484\n",
      "2022-05-26 11:33:25,403 - mmdet - INFO - starting model initialization...\n"
     ]
    },
    {
     "name": "stdout",
     "output_type": "stream",
     "text": [
      "[>>>>>>>>>>>>>>>>>>>>>>>>>>>>>] 850/850, 75.9 task/s, elapsed: 11s, ETA:     0s"
     ]
    },
    {
     "name": "stderr",
     "output_type": "stream",
     "text": [
      "2022-05-26 11:33:36,673 - mmdet - INFO - model initialization done.\n"
     ]
    },
    {
     "name": "stdout",
     "output_type": "stream",
     "text": [
      "[>>>>>>>>>>>>>>>>>>>>>>>>>>>>>] 300/300, 12.7 task/s, elapsed: 24s, ETA:     0s\n",
      "---------------iou_thr: 0.5---------------\n"
     ]
    },
    {
     "name": "stderr",
     "output_type": "stream",
     "text": [
      "2022-05-26 11:34:00,644 - mmfewshot - INFO - \n",
      "+---------+-----+------+--------+-------+\n",
      "| class   | gts | dets | recall | ap    |\n",
      "+---------+-----+------+--------+-------+\n",
      "| fanta   | 291 | 4709 | 0.684  | 0.374 |\n",
      "| Mirinda | 111 | 2102 | 0.694  | 0.293 |\n",
      "+---------+-----+------+--------+-------+\n",
      "| mAP     |     |      |        | 0.333 |\n",
      "+---------+-----+------+--------+-------+\n",
      "2022-05-26 11:34:00,646 - mmfewshot - INFO - BASE_CLASSES_SPLIT2 mAP: 0.3334530293941498\n",
      "2022-05-26 11:34:00,647 - mmfewshot - INFO - NOVEL_CLASSES_SPLIT2 mAP: nan\n",
      "2022-05-26 11:34:00,650 - mmfewshot - INFO - Exp name: attention-rpn_r50_c4_tb-split2_1shot-fine-tuning-momentum-09.py\n",
      "2022-05-26 11:34:00,651 - mmfewshot - INFO - Iter(val) [300]\tAP50: 0.3330, BASE_CLASSES_SPLIT2: AP50: 0.3330, NOVEL_CLASSES_SPLIT2: AP50: nan, mAP: 0.3335\n",
      "2022-05-26 11:34:14,044 - mmfewshot - INFO - Iter [4050/100000]\tlr: 1.000e-04, eta: 7:59:29, time: 0.973, data_time: 0.717, memory: 4571, loss_rpn_cls: 0.0276, loss_rpn_bbox: 0.0054, loss_cls: 0.3057, acc: 97.8672, loss_bbox: 0.1696, loss: 0.5083\n",
      "2022-05-26 11:34:27,392 - mmfewshot - INFO - Iter [4100/100000]\tlr: 1.000e-04, eta: 7:58:36, time: 0.267, data_time: 0.012, memory: 4571, loss_rpn_cls: 0.0411, loss_rpn_bbox: 0.0111, loss_cls: 0.2853, acc: 98.0547, loss_bbox: 0.1860, loss: 0.5234\n",
      "2022-05-26 11:34:40,766 - mmfewshot - INFO - Iter [4150/100000]\tlr: 1.000e-04, eta: 7:57:44, time: 0.267, data_time: 0.012, memory: 4571, loss_rpn_cls: 0.0304, loss_rpn_bbox: 0.0077, loss_cls: 0.2249, acc: 98.6953, loss_bbox: 0.1617, loss: 0.4247\n",
      "2022-05-26 11:34:54,170 - mmfewshot - INFO - Iter [4200/100000]\tlr: 1.000e-04, eta: 7:56:53, time: 0.268, data_time: 0.013, memory: 4571, loss_rpn_cls: 0.0324, loss_rpn_bbox: 0.0080, loss_cls: 0.2366, acc: 98.3594, loss_bbox: 0.1660, loss: 0.4429\n",
      "2022-05-26 11:35:07,543 - mmfewshot - INFO - Iter [4250/100000]\tlr: 1.000e-04, eta: 7:56:03, time: 0.268, data_time: 0.013, memory: 4571, loss_rpn_cls: 0.0368, loss_rpn_bbox: 0.0074, loss_cls: 0.1972, acc: 98.8359, loss_bbox: 0.1718, loss: 0.4132\n",
      "2022-05-26 11:35:20,936 - mmfewshot - INFO - Iter [4300/100000]\tlr: 1.000e-04, eta: 7:55:15, time: 0.268, data_time: 0.013, memory: 4571, loss_rpn_cls: 0.0399, loss_rpn_bbox: 0.0081, loss_cls: 0.2624, acc: 98.2422, loss_bbox: 0.1594, loss: 0.4697\n",
      "2022-05-26 11:35:34,194 - mmfewshot - INFO - Iter [4350/100000]\tlr: 1.000e-04, eta: 7:54:24, time: 0.265, data_time: 0.012, memory: 4571, loss_rpn_cls: 0.0319, loss_rpn_bbox: 0.0065, loss_cls: 0.2539, acc: 98.8516, loss_bbox: 0.1393, loss: 0.4316\n",
      "2022-05-26 11:35:47,552 - mmfewshot - INFO - Iter [4400/100000]\tlr: 1.000e-04, eta: 7:53:36, time: 0.267, data_time: 0.012, memory: 4571, loss_rpn_cls: 0.0424, loss_rpn_bbox: 0.0102, loss_cls: 0.2800, acc: 98.4609, loss_bbox: 0.1601, loss: 0.4927\n",
      "2022-05-26 11:36:00,868 - mmfewshot - INFO - Iter [4450/100000]\tlr: 1.000e-04, eta: 7:52:47, time: 0.266, data_time: 0.012, memory: 4571, loss_rpn_cls: 0.0236, loss_rpn_bbox: 0.0055, loss_cls: 0.2137, acc: 98.8438, loss_bbox: 0.1731, loss: 0.4159\n",
      "2022-05-26 11:36:14,161 - mmfewshot - INFO - Iter [4500/100000]\tlr: 1.000e-04, eta: 7:52:00, time: 0.266, data_time: 0.012, memory: 4571, loss_rpn_cls: 0.0270, loss_rpn_bbox: 0.0069, loss_cls: 0.2080, acc: 99.0000, loss_bbox: 0.1391, loss: 0.3809\n",
      "2022-05-26 11:36:27,440 - mmfewshot - INFO - Iter [4550/100000]\tlr: 1.000e-04, eta: 7:51:12, time: 0.265, data_time: 0.012, memory: 4571, loss_rpn_cls: 0.0279, loss_rpn_bbox: 0.0058, loss_cls: 0.2343, acc: 98.7344, loss_bbox: 0.1515, loss: 0.4194\n",
      "2022-05-26 11:36:40,678 - mmfewshot - INFO - Iter [4600/100000]\tlr: 1.000e-04, eta: 7:50:25, time: 0.265, data_time: 0.012, memory: 4571, loss_rpn_cls: 0.0291, loss_rpn_bbox: 0.0078, loss_cls: 0.2946, acc: 98.5469, loss_bbox: 0.1561, loss: 0.4876\n",
      "2022-05-26 11:36:54,035 - mmfewshot - INFO - Iter [4650/100000]\tlr: 1.000e-04, eta: 7:49:41, time: 0.267, data_time: 0.012, memory: 4571, loss_rpn_cls: 0.0455, loss_rpn_bbox: 0.0103, loss_cls: 0.2324, acc: 98.3203, loss_bbox: 0.1753, loss: 0.4634\n",
      "2022-05-26 11:37:07,122 - mmfewshot - INFO - Iter [4700/100000]\tlr: 1.000e-04, eta: 7:48:51, time: 0.261, data_time: 0.010, memory: 4571, loss_rpn_cls: 0.0205, loss_rpn_bbox: 0.0046, loss_cls: 0.1758, acc: 98.9297, loss_bbox: 0.1587, loss: 0.3596\n",
      "2022-05-26 11:37:20,371 - mmfewshot - INFO - Iter [4750/100000]\tlr: 1.000e-04, eta: 7:48:06, time: 0.265, data_time: 0.012, memory: 4571, loss_rpn_cls: 0.0280, loss_rpn_bbox: 0.0075, loss_cls: 0.1598, acc: 99.1016, loss_bbox: 0.1798, loss: 0.3751\n",
      "2022-05-26 11:37:33,675 - mmfewshot - INFO - Iter [4800/100000]\tlr: 1.000e-04, eta: 7:47:23, time: 0.266, data_time: 0.012, memory: 4571, loss_rpn_cls: 0.0466, loss_rpn_bbox: 0.0123, loss_cls: 0.2097, acc: 98.3203, loss_bbox: 0.2262, loss: 0.4949\n",
      "2022-05-26 11:37:46,803 - mmfewshot - INFO - Iter [4850/100000]\tlr: 1.000e-04, eta: 7:46:37, time: 0.263, data_time: 0.010, memory: 4571, loss_rpn_cls: 0.0302, loss_rpn_bbox: 0.0083, loss_cls: 0.2278, acc: 98.2891, loss_bbox: 0.2042, loss: 0.4705\n",
      "2022-05-26 11:38:00,075 - mmfewshot - INFO - Iter [4900/100000]\tlr: 1.000e-04, eta: 7:45:54, time: 0.266, data_time: 0.012, memory: 4571, loss_rpn_cls: 0.0454, loss_rpn_bbox: 0.0100, loss_cls: 0.2017, acc: 98.8125, loss_bbox: 0.1753, loss: 0.4324\n",
      "2022-05-26 11:38:13,382 - mmfewshot - INFO - Iter [4950/100000]\tlr: 1.000e-04, eta: 7:45:13, time: 0.266, data_time: 0.012, memory: 4571, loss_rpn_cls: 0.0319, loss_rpn_bbox: 0.0082, loss_cls: 0.2384, acc: 98.5625, loss_bbox: 0.1803, loss: 0.4589\n",
      "2022-05-26 11:38:26,757 - mmfewshot - INFO - Exp name: attention-rpn_r50_c4_tb-split2_1shot-fine-tuning-momentum-09.py\n",
      "2022-05-26 11:38:26,758 - mmfewshot - INFO - Iter [5000/100000]\tlr: 1.000e-04, eta: 7:44:34, time: 0.268, data_time: 0.013, memory: 4571, loss_rpn_cls: 0.0347, loss_rpn_bbox: 0.0067, loss_cls: 0.1675, acc: 98.7969, loss_bbox: 0.1995, loss: 0.4084\n",
      "2022-05-26 11:38:26,762 - mmdet - INFO - starting model initialization...\n"
     ]
    },
    {
     "name": "stdout",
     "output_type": "stream",
     "text": [
      "[>>>>>>>>>>>>>>>>>>>>>>>>>>>>>] 850/850, 78.9 task/s, elapsed: 11s, ETA:     0s"
     ]
    },
    {
     "name": "stderr",
     "output_type": "stream",
     "text": [
      "2022-05-26 11:38:37,618 - mmdet - INFO - model initialization done.\n"
     ]
    },
    {
     "name": "stdout",
     "output_type": "stream",
     "text": [
      "[>>>>>>>>>>>>>>>>>>>>>>>>>>>>>] 300/300, 12.7 task/s, elapsed: 24s, ETA:     0s\n",
      "---------------iou_thr: 0.5---------------\n"
     ]
    },
    {
     "name": "stderr",
     "output_type": "stream",
     "text": [
      "2022-05-26 11:39:01,616 - mmfewshot - INFO - \n",
      "+---------+-----+------+--------+-------+\n",
      "| class   | gts | dets | recall | ap    |\n",
      "+---------+-----+------+--------+-------+\n",
      "| fanta   | 291 | 1417 | 0.670  | 0.398 |\n",
      "| Mirinda | 111 | 990  | 0.748  | 0.337 |\n",
      "+---------+-----+------+--------+-------+\n",
      "| mAP     |     |      |        | 0.368 |\n",
      "+---------+-----+------+--------+-------+\n",
      "2022-05-26 11:39:01,618 - mmfewshot - INFO - BASE_CLASSES_SPLIT2 mAP: 0.36750590801239014\n",
      "2022-05-26 11:39:01,619 - mmfewshot - INFO - NOVEL_CLASSES_SPLIT2 mAP: nan\n",
      "2022-05-26 11:39:01,622 - mmfewshot - INFO - Exp name: attention-rpn_r50_c4_tb-split2_1shot-fine-tuning-momentum-09.py\n",
      "2022-05-26 11:39:01,623 - mmfewshot - INFO - Iter(val) [300]\tAP50: 0.3680, BASE_CLASSES_SPLIT2: AP50: 0.3680, NOVEL_CLASSES_SPLIT2: AP50: nan, mAP: 0.3675\n",
      "2022-05-26 11:39:14,933 - mmfewshot - INFO - Iter [5050/100000]\tlr: 1.000e-04, eta: 7:54:49, time: 0.963, data_time: 0.710, memory: 4571, loss_rpn_cls: 0.0313, loss_rpn_bbox: 0.0067, loss_cls: 0.1986, acc: 98.8125, loss_bbox: 0.1509, loss: 0.3874\n",
      "2022-05-26 11:39:28,364 - mmfewshot - INFO - Iter [5100/100000]\tlr: 1.000e-04, eta: 7:54:04, time: 0.269, data_time: 0.013, memory: 4571, loss_rpn_cls: 0.0335, loss_rpn_bbox: 0.0087, loss_cls: 0.1908, acc: 98.4531, loss_bbox: 0.1810, loss: 0.4140\n",
      "2022-05-26 11:39:41,676 - mmfewshot - INFO - Iter [5150/100000]\tlr: 1.000e-04, eta: 7:53:19, time: 0.266, data_time: 0.012, memory: 4571, loss_rpn_cls: 0.0253, loss_rpn_bbox: 0.0062, loss_cls: 0.2054, acc: 98.9141, loss_bbox: 0.1679, loss: 0.4048\n",
      "2022-05-26 11:39:55,058 - mmfewshot - INFO - Iter [5200/100000]\tlr: 1.000e-04, eta: 7:52:35, time: 0.267, data_time: 0.013, memory: 4571, loss_rpn_cls: 0.0515, loss_rpn_bbox: 0.0115, loss_cls: 0.2646, acc: 97.8750, loss_bbox: 0.2333, loss: 0.5609\n",
      "2022-05-26 11:40:08,362 - mmfewshot - INFO - Iter [5250/100000]\tlr: 1.000e-04, eta: 7:51:50, time: 0.266, data_time: 0.013, memory: 4571, loss_rpn_cls: 0.0273, loss_rpn_bbox: 0.0058, loss_cls: 0.1572, acc: 99.0312, loss_bbox: 0.1657, loss: 0.3560\n",
      "2022-05-26 11:40:21,637 - mmfewshot - INFO - Iter [5300/100000]\tlr: 1.000e-04, eta: 7:51:05, time: 0.265, data_time: 0.012, memory: 4571, loss_rpn_cls: 0.0433, loss_rpn_bbox: 0.0087, loss_cls: 0.1979, acc: 98.3125, loss_bbox: 0.2020, loss: 0.4518\n",
      "2022-05-26 11:40:35,002 - mmfewshot - INFO - Iter [5350/100000]\tlr: 1.000e-04, eta: 7:50:23, time: 0.267, data_time: 0.013, memory: 4571, loss_rpn_cls: 0.0311, loss_rpn_bbox: 0.0067, loss_cls: 0.2084, acc: 98.2969, loss_bbox: 0.1794, loss: 0.4257\n",
      "2022-05-26 11:40:48,290 - mmfewshot - INFO - Iter [5400/100000]\tlr: 1.000e-04, eta: 7:49:39, time: 0.266, data_time: 0.012, memory: 4571, loss_rpn_cls: 0.0247, loss_rpn_bbox: 0.0053, loss_cls: 0.2290, acc: 98.6875, loss_bbox: 0.1483, loss: 0.4073\n",
      "2022-05-26 11:41:01,618 - mmfewshot - INFO - Iter [5450/100000]\tlr: 1.000e-04, eta: 7:48:57, time: 0.266, data_time: 0.012, memory: 4571, loss_rpn_cls: 0.0430, loss_rpn_bbox: 0.0109, loss_cls: 0.1747, acc: 98.5391, loss_bbox: 0.2088, loss: 0.4373\n",
      "2022-05-26 11:41:14,952 - mmfewshot - INFO - Iter [5500/100000]\tlr: 1.000e-04, eta: 7:48:16, time: 0.267, data_time: 0.012, memory: 4571, loss_rpn_cls: 0.0306, loss_rpn_bbox: 0.0086, loss_cls: 0.1578, acc: 98.8672, loss_bbox: 0.1988, loss: 0.3958\n",
      "2022-05-26 11:41:28,314 - mmfewshot - INFO - Iter [5550/100000]\tlr: 1.000e-04, eta: 7:47:36, time: 0.267, data_time: 0.013, memory: 4571, loss_rpn_cls: 0.0307, loss_rpn_bbox: 0.0071, loss_cls: 0.1636, acc: 98.9141, loss_bbox: 0.1661, loss: 0.3675\n",
      "2022-05-26 11:41:41,612 - mmfewshot - INFO - Iter [5600/100000]\tlr: 1.000e-04, eta: 7:46:54, time: 0.266, data_time: 0.012, memory: 4571, loss_rpn_cls: 0.0337, loss_rpn_bbox: 0.0087, loss_cls: 0.1651, acc: 98.8828, loss_bbox: 0.1759, loss: 0.3834\n",
      "2022-05-26 11:41:54,991 - mmfewshot - INFO - Iter [5650/100000]\tlr: 1.000e-04, eta: 7:46:15, time: 0.268, data_time: 0.013, memory: 4571, loss_rpn_cls: 0.0258, loss_rpn_bbox: 0.0061, loss_cls: 0.1982, acc: 98.6406, loss_bbox: 0.1946, loss: 0.4247\n",
      "2022-05-26 11:42:08,151 - mmfewshot - INFO - Iter [5700/100000]\tlr: 1.000e-04, eta: 7:45:33, time: 0.263, data_time: 0.010, memory: 4571, loss_rpn_cls: 0.0399, loss_rpn_bbox: 0.0101, loss_cls: 0.2631, acc: 98.5703, loss_bbox: 0.1817, loss: 0.4948\n",
      "2022-05-26 11:42:21,507 - mmfewshot - INFO - Iter [5750/100000]\tlr: 1.000e-04, eta: 7:44:54, time: 0.267, data_time: 0.012, memory: 4571, loss_rpn_cls: 0.0262, loss_rpn_bbox: 0.0064, loss_cls: 0.2028, acc: 98.9141, loss_bbox: 0.1637, loss: 0.3991\n",
      "2022-05-26 11:42:34,850 - mmfewshot - INFO - Iter [5800/100000]\tlr: 1.000e-04, eta: 7:44:16, time: 0.267, data_time: 0.013, memory: 4571, loss_rpn_cls: 0.0271, loss_rpn_bbox: 0.0069, loss_cls: 0.1655, acc: 98.7500, loss_bbox: 0.1683, loss: 0.3678\n",
      "2022-05-26 11:42:48,111 - mmfewshot - INFO - Iter [5850/100000]\tlr: 1.000e-04, eta: 7:43:36, time: 0.265, data_time: 0.011, memory: 4571, loss_rpn_cls: 0.0440, loss_rpn_bbox: 0.0084, loss_cls: 0.2244, acc: 98.6562, loss_bbox: 0.1702, loss: 0.4470\n",
      "2022-05-26 11:43:01,452 - mmfewshot - INFO - Iter [5900/100000]\tlr: 1.000e-04, eta: 7:42:59, time: 0.267, data_time: 0.013, memory: 4571, loss_rpn_cls: 0.0409, loss_rpn_bbox: 0.0129, loss_cls: 0.2263, acc: 98.6484, loss_bbox: 0.1917, loss: 0.4717\n",
      "2022-05-26 11:43:14,859 - mmfewshot - INFO - Iter [5950/100000]\tlr: 1.000e-04, eta: 7:42:22, time: 0.268, data_time: 0.012, memory: 4571, loss_rpn_cls: 0.0334, loss_rpn_bbox: 0.0078, loss_cls: 0.1927, acc: 98.7812, loss_bbox: 0.1794, loss: 0.4133\n",
      "2022-05-26 11:43:28,046 - mmfewshot - INFO - Exp name: attention-rpn_r50_c4_tb-split2_1shot-fine-tuning-momentum-09.py\n",
      "2022-05-26 11:43:28,048 - mmfewshot - INFO - Iter [6000/100000]\tlr: 1.000e-04, eta: 7:41:43, time: 0.264, data_time: 0.011, memory: 4571, loss_rpn_cls: 0.0295, loss_rpn_bbox: 0.0087, loss_cls: 0.2234, acc: 98.7734, loss_bbox: 0.1654, loss: 0.4270\n",
      "2022-05-26 11:43:28,053 - mmdet - INFO - starting model initialization...\n"
     ]
    },
    {
     "name": "stdout",
     "output_type": "stream",
     "text": [
      "[>>>>>>>>>>>>>>>>>>>>>>>>>>>>>] 850/850, 77.0 task/s, elapsed: 11s, ETA:     0s"
     ]
    },
    {
     "name": "stderr",
     "output_type": "stream",
     "text": [
      "2022-05-26 11:43:39,178 - mmdet - INFO - model initialization done.\n"
     ]
    },
    {
     "name": "stdout",
     "output_type": "stream",
     "text": [
      "[>>>>>>>>>>>>>>>>>>>>>>>>>>>>>] 300/300, 12.7 task/s, elapsed: 24s, ETA:     0s\n",
      "---------------iou_thr: 0.5---------------\n"
     ]
    },
    {
     "name": "stderr",
     "output_type": "stream",
     "text": [
      "2022-05-26 11:44:03,097 - mmfewshot - INFO - \n",
      "+---------+-----+------+--------+-------+\n",
      "| class   | gts | dets | recall | ap    |\n",
      "+---------+-----+------+--------+-------+\n",
      "| fanta   | 291 | 2234 | 0.708  | 0.366 |\n",
      "| Mirinda | 111 | 895  | 0.712  | 0.381 |\n",
      "+---------+-----+------+--------+-------+\n",
      "| mAP     |     |      |        | 0.373 |\n",
      "+---------+-----+------+--------+-------+\n",
      "2022-05-26 11:44:03,101 - mmfewshot - INFO - BASE_CLASSES_SPLIT2 mAP: 0.3732834458351135\n",
      "2022-05-26 11:44:03,102 - mmfewshot - INFO - NOVEL_CLASSES_SPLIT2 mAP: nan\n",
      "2022-05-26 11:44:03,106 - mmfewshot - INFO - Exp name: attention-rpn_r50_c4_tb-split2_1shot-fine-tuning-momentum-09.py\n",
      "2022-05-26 11:44:03,107 - mmfewshot - INFO - Iter(val) [300]\tAP50: 0.3730, BASE_CLASSES_SPLIT2: AP50: 0.3730, NOVEL_CLASSES_SPLIT2: AP50: nan, mAP: 0.3733\n",
      "2022-05-26 11:44:16,476 - mmfewshot - INFO - Iter [6050/100000]\tlr: 1.000e-04, eta: 7:50:12, time: 0.969, data_time: 0.714, memory: 4571, loss_rpn_cls: 0.0337, loss_rpn_bbox: 0.0083, loss_cls: 0.1728, acc: 98.8438, loss_bbox: 0.1530, loss: 0.3678\n",
      "2022-05-26 11:44:29,839 - mmfewshot - INFO - Iter [6100/100000]\tlr: 1.000e-04, eta: 7:49:31, time: 0.267, data_time: 0.012, memory: 4571, loss_rpn_cls: 0.0305, loss_rpn_bbox: 0.0072, loss_cls: 0.1563, acc: 98.9453, loss_bbox: 0.1515, loss: 0.3454\n",
      "2022-05-26 11:44:43,098 - mmfewshot - INFO - Iter [6150/100000]\tlr: 1.000e-04, eta: 7:48:50, time: 0.265, data_time: 0.012, memory: 4571, loss_rpn_cls: 0.0347, loss_rpn_bbox: 0.0085, loss_cls: 0.1608, acc: 99.0391, loss_bbox: 0.1790, loss: 0.3830\n",
      "2022-05-26 11:44:56,439 - mmfewshot - INFO - Iter [6200/100000]\tlr: 1.000e-04, eta: 7:48:10, time: 0.267, data_time: 0.013, memory: 4571, loss_rpn_cls: 0.0339, loss_rpn_bbox: 0.0079, loss_cls: 0.1692, acc: 98.6719, loss_bbox: 0.2110, loss: 0.4221\n",
      "2022-05-26 11:45:09,757 - mmfewshot - INFO - Iter [6250/100000]\tlr: 1.000e-04, eta: 7:47:30, time: 0.266, data_time: 0.012, memory: 4571, loss_rpn_cls: 0.0327, loss_rpn_bbox: 0.0083, loss_cls: 0.2025, acc: 98.4453, loss_bbox: 0.1938, loss: 0.4373\n",
      "2022-05-26 11:45:23,059 - mmfewshot - INFO - Iter [6300/100000]\tlr: 1.000e-04, eta: 7:46:50, time: 0.266, data_time: 0.011, memory: 4571, loss_rpn_cls: 0.0340, loss_rpn_bbox: 0.0074, loss_cls: 0.2077, acc: 98.7188, loss_bbox: 0.1669, loss: 0.4160\n",
      "2022-05-26 11:45:36,503 - mmfewshot - INFO - Iter [6350/100000]\tlr: 1.000e-04, eta: 7:46:13, time: 0.269, data_time: 0.013, memory: 4571, loss_rpn_cls: 0.0250, loss_rpn_bbox: 0.0058, loss_cls: 0.1357, acc: 99.1641, loss_bbox: 0.1881, loss: 0.3546\n",
      "2022-05-26 11:45:49,957 - mmfewshot - INFO - Iter [6400/100000]\tlr: 1.000e-04, eta: 7:45:37, time: 0.269, data_time: 0.013, memory: 4571, loss_rpn_cls: 0.0288, loss_rpn_bbox: 0.0073, loss_cls: 0.1625, acc: 98.8516, loss_bbox: 0.2101, loss: 0.4087\n",
      "2022-05-26 11:46:03,149 - mmfewshot - INFO - Iter [6450/100000]\tlr: 1.000e-04, eta: 7:44:57, time: 0.264, data_time: 0.010, memory: 4571, loss_rpn_cls: 0.0394, loss_rpn_bbox: 0.0104, loss_cls: 0.1584, acc: 98.5938, loss_bbox: 0.2452, loss: 0.4534\n",
      "2022-05-26 11:46:16,438 - mmfewshot - INFO - Iter [6500/100000]\tlr: 1.000e-04, eta: 7:44:19, time: 0.266, data_time: 0.013, memory: 4571, loss_rpn_cls: 0.0508, loss_rpn_bbox: 0.0093, loss_cls: 0.1551, acc: 98.9297, loss_bbox: 0.1792, loss: 0.3943\n",
      "2022-05-26 11:46:29,873 - mmfewshot - INFO - Iter [6550/100000]\tlr: 1.000e-04, eta: 7:43:43, time: 0.268, data_time: 0.013, memory: 4571, loss_rpn_cls: 0.0343, loss_rpn_bbox: 0.0085, loss_cls: 0.1424, acc: 98.9141, loss_bbox: 0.1934, loss: 0.3786\n",
      "2022-05-26 11:46:43,189 - mmfewshot - INFO - Iter [6600/100000]\tlr: 1.000e-04, eta: 7:43:06, time: 0.267, data_time: 0.012, memory: 4571, loss_rpn_cls: 0.0293, loss_rpn_bbox: 0.0068, loss_cls: 0.1906, acc: 98.9141, loss_bbox: 0.1904, loss: 0.4171\n",
      "2022-05-26 11:46:56,473 - mmfewshot - INFO - Iter [6650/100000]\tlr: 1.000e-04, eta: 7:42:28, time: 0.266, data_time: 0.012, memory: 4571, loss_rpn_cls: 0.0278, loss_rpn_bbox: 0.0061, loss_cls: 0.1262, acc: 99.1250, loss_bbox: 0.2135, loss: 0.3736\n",
      "2022-05-26 11:47:09,637 - mmfewshot - INFO - Iter [6700/100000]\tlr: 1.000e-04, eta: 7:41:50, time: 0.263, data_time: 0.012, memory: 4571, loss_rpn_cls: 0.0325, loss_rpn_bbox: 0.0092, loss_cls: 0.1378, acc: 99.0000, loss_bbox: 0.1795, loss: 0.3591\n",
      "2022-05-26 11:47:22,908 - mmfewshot - INFO - Iter [6750/100000]\tlr: 1.000e-04, eta: 7:41:13, time: 0.266, data_time: 0.012, memory: 4571, loss_rpn_cls: 0.0388, loss_rpn_bbox: 0.0098, loss_cls: 0.1653, acc: 98.6016, loss_bbox: 0.1896, loss: 0.4036\n",
      "2022-05-26 11:47:36,095 - mmfewshot - INFO - Iter [6800/100000]\tlr: 1.000e-04, eta: 7:40:36, time: 0.264, data_time: 0.011, memory: 4571, loss_rpn_cls: 0.0297, loss_rpn_bbox: 0.0089, loss_cls: 0.1434, acc: 99.2656, loss_bbox: 0.1823, loss: 0.3643\n",
      "2022-05-26 11:47:49,472 - mmfewshot - INFO - Iter [6850/100000]\tlr: 1.000e-04, eta: 7:40:01, time: 0.267, data_time: 0.013, memory: 4571, loss_rpn_cls: 0.0259, loss_rpn_bbox: 0.0067, loss_cls: 0.1376, acc: 98.9922, loss_bbox: 0.1978, loss: 0.3680\n",
      "2022-05-26 11:48:02,835 - mmfewshot - INFO - Iter [6900/100000]\tlr: 1.000e-04, eta: 7:39:27, time: 0.267, data_time: 0.014, memory: 4571, loss_rpn_cls: 0.0217, loss_rpn_bbox: 0.0050, loss_cls: 0.1808, acc: 98.9453, loss_bbox: 0.1567, loss: 0.3642\n",
      "2022-05-26 11:48:16,121 - mmfewshot - INFO - Iter [6950/100000]\tlr: 1.000e-04, eta: 7:38:52, time: 0.266, data_time: 0.012, memory: 4571, loss_rpn_cls: 0.0265, loss_rpn_bbox: 0.0072, loss_cls: 0.1329, acc: 99.2578, loss_bbox: 0.1620, loss: 0.3284\n",
      "2022-05-26 11:48:29,533 - mmfewshot - INFO - Exp name: attention-rpn_r50_c4_tb-split2_1shot-fine-tuning-momentum-09.py\n",
      "2022-05-26 11:48:29,534 - mmfewshot - INFO - Iter [7000/100000]\tlr: 1.000e-04, eta: 7:38:18, time: 0.268, data_time: 0.013, memory: 4571, loss_rpn_cls: 0.0354, loss_rpn_bbox: 0.0090, loss_cls: 0.2042, acc: 98.4844, loss_bbox: 0.1937, loss: 0.4423\n",
      "2022-05-26 11:48:29,540 - mmdet - INFO - starting model initialization...\n"
     ]
    },
    {
     "name": "stdout",
     "output_type": "stream",
     "text": [
      "[>>>>>>>>>>>>>>>>>>>>>>>>>>>>>] 850/850, 75.1 task/s, elapsed: 11s, ETA:     0s"
     ]
    },
    {
     "name": "stderr",
     "output_type": "stream",
     "text": [
      "2022-05-26 11:48:40,938 - mmdet - INFO - model initialization done.\n"
     ]
    },
    {
     "name": "stdout",
     "output_type": "stream",
     "text": [
      "[>>>>>>>>>>>>>>>>>>>>>>>>>>>>>] 300/300, 12.6 task/s, elapsed: 24s, ETA:     0s\n",
      "---------------iou_thr: 0.5---------------\n"
     ]
    },
    {
     "name": "stderr",
     "output_type": "stream",
     "text": [
      "2022-05-26 11:49:05,027 - mmfewshot - INFO - \n",
      "+---------+-----+------+--------+-------+\n",
      "| class   | gts | dets | recall | ap    |\n",
      "+---------+-----+------+--------+-------+\n",
      "| fanta   | 291 | 3587 | 0.753  | 0.436 |\n",
      "| Mirinda | 111 | 1818 | 0.730  | 0.445 |\n",
      "+---------+-----+------+--------+-------+\n",
      "| mAP     |     |      |        | 0.441 |\n",
      "+---------+-----+------+--------+-------+\n",
      "2022-05-26 11:49:05,030 - mmfewshot - INFO - BASE_CLASSES_SPLIT2 mAP: 0.44061124324798584\n",
      "2022-05-26 11:49:05,031 - mmfewshot - INFO - NOVEL_CLASSES_SPLIT2 mAP: nan\n",
      "2022-05-26 11:49:05,034 - mmfewshot - INFO - Exp name: attention-rpn_r50_c4_tb-split2_1shot-fine-tuning-momentum-09.py\n",
      "2022-05-26 11:49:05,035 - mmfewshot - INFO - Iter(val) [300]\tAP50: 0.4410, BASE_CLASSES_SPLIT2: AP50: 0.4410, NOVEL_CLASSES_SPLIT2: AP50: nan, mAP: 0.4406\n",
      "2022-05-26 11:49:18,325 - mmfewshot - INFO - Iter [7050/100000]\tlr: 1.000e-04, eta: 7:45:32, time: 0.976, data_time: 0.722, memory: 4571, loss_rpn_cls: 0.0475, loss_rpn_bbox: 0.0111, loss_cls: 0.1637, acc: 98.7109, loss_bbox: 0.1926, loss: 0.4149\n",
      "2022-05-26 11:49:31,615 - mmfewshot - INFO - Iter [7100/100000]\tlr: 1.000e-04, eta: 7:44:54, time: 0.266, data_time: 0.013, memory: 4571, loss_rpn_cls: 0.0333, loss_rpn_bbox: 0.0095, loss_cls: 0.1432, acc: 99.0469, loss_bbox: 0.1928, loss: 0.3789\n",
      "2022-05-26 11:49:44,947 - mmfewshot - INFO - Iter [7150/100000]\tlr: 1.000e-04, eta: 7:44:17, time: 0.267, data_time: 0.013, memory: 4571, loss_rpn_cls: 0.0330, loss_rpn_bbox: 0.0082, loss_cls: 0.1601, acc: 98.9141, loss_bbox: 0.1838, loss: 0.3850\n",
      "2022-05-26 11:49:58,263 - mmfewshot - INFO - Iter [7200/100000]\tlr: 1.000e-04, eta: 7:43:41, time: 0.267, data_time: 0.013, memory: 4571, loss_rpn_cls: 0.0263, loss_rpn_bbox: 0.0062, loss_cls: 0.1535, acc: 98.9844, loss_bbox: 0.1724, loss: 0.3584\n",
      "2022-05-26 11:50:11,657 - mmfewshot - INFO - Iter [7250/100000]\tlr: 1.000e-04, eta: 7:43:05, time: 0.268, data_time: 0.013, memory: 4571, loss_rpn_cls: 0.0370, loss_rpn_bbox: 0.0095, loss_cls: 0.1695, acc: 98.7500, loss_bbox: 0.2130, loss: 0.4291\n",
      "2022-05-26 11:50:24,919 - mmfewshot - INFO - Iter [7300/100000]\tlr: 1.000e-04, eta: 7:42:29, time: 0.265, data_time: 0.012, memory: 4571, loss_rpn_cls: 0.0393, loss_rpn_bbox: 0.0083, loss_cls: 0.1714, acc: 98.9219, loss_bbox: 0.1521, loss: 0.3711\n",
      "2022-05-26 11:50:38,109 - mmfewshot - INFO - Iter [7350/100000]\tlr: 1.000e-04, eta: 7:41:51, time: 0.264, data_time: 0.012, memory: 4571, loss_rpn_cls: 0.0367, loss_rpn_bbox: 0.0096, loss_cls: 0.1688, acc: 98.8203, loss_bbox: 0.1940, loss: 0.4090\n",
      "2022-05-26 11:50:51,494 - mmfewshot - INFO - Iter [7400/100000]\tlr: 1.000e-04, eta: 7:41:16, time: 0.268, data_time: 0.012, memory: 4571, loss_rpn_cls: 0.0239, loss_rpn_bbox: 0.0057, loss_cls: 0.1519, acc: 99.0938, loss_bbox: 0.1771, loss: 0.3587\n",
      "2022-05-26 11:51:04,784 - mmfewshot - INFO - Iter [7450/100000]\tlr: 1.000e-04, eta: 7:40:41, time: 0.266, data_time: 0.013, memory: 4571, loss_rpn_cls: 0.0246, loss_rpn_bbox: 0.0073, loss_cls: 0.1895, acc: 98.9531, loss_bbox: 0.1722, loss: 0.3937\n",
      "2022-05-26 11:51:18,098 - mmfewshot - INFO - Iter [7500/100000]\tlr: 1.000e-04, eta: 7:40:06, time: 0.266, data_time: 0.012, memory: 4571, loss_rpn_cls: 0.0304, loss_rpn_bbox: 0.0084, loss_cls: 0.1343, acc: 98.9453, loss_bbox: 0.1690, loss: 0.3422\n",
      "2022-05-26 11:51:31,495 - mmfewshot - INFO - Iter [7550/100000]\tlr: 1.000e-04, eta: 7:39:32, time: 0.268, data_time: 0.013, memory: 4571, loss_rpn_cls: 0.0257, loss_rpn_bbox: 0.0073, loss_cls: 0.1455, acc: 98.9922, loss_bbox: 0.2075, loss: 0.3860\n",
      "2022-05-26 11:51:44,604 - mmfewshot - INFO - Iter [7600/100000]\tlr: 1.000e-04, eta: 7:38:56, time: 0.262, data_time: 0.012, memory: 4571, loss_rpn_cls: 0.0223, loss_rpn_bbox: 0.0051, loss_cls: 0.1616, acc: 99.0625, loss_bbox: 0.1861, loss: 0.3751\n",
      "2022-05-26 11:51:57,790 - mmfewshot - INFO - Iter [7650/100000]\tlr: 1.000e-04, eta: 7:38:20, time: 0.264, data_time: 0.012, memory: 4571, loss_rpn_cls: 0.0417, loss_rpn_bbox: 0.0087, loss_cls: 0.1236, acc: 98.9609, loss_bbox: 0.2173, loss: 0.3914\n",
      "2022-05-26 11:52:11,038 - mmfewshot - INFO - Iter [7700/100000]\tlr: 1.000e-04, eta: 7:37:45, time: 0.265, data_time: 0.012, memory: 4571, loss_rpn_cls: 0.0226, loss_rpn_bbox: 0.0046, loss_cls: 0.1583, acc: 99.2812, loss_bbox: 0.1651, loss: 0.3506\n",
      "2022-05-26 11:52:24,355 - mmfewshot - INFO - Iter [7750/100000]\tlr: 1.000e-04, eta: 7:37:12, time: 0.266, data_time: 0.013, memory: 4571, loss_rpn_cls: 0.0392, loss_rpn_bbox: 0.0097, loss_cls: 0.1273, acc: 99.0312, loss_bbox: 0.1832, loss: 0.3594\n",
      "2022-05-26 11:52:37,685 - mmfewshot - INFO - Iter [7800/100000]\tlr: 1.000e-04, eta: 7:36:39, time: 0.267, data_time: 0.013, memory: 4571, loss_rpn_cls: 0.0271, loss_rpn_bbox: 0.0087, loss_cls: 0.1495, acc: 99.0078, loss_bbox: 0.1600, loss: 0.3454\n",
      "2022-05-26 11:52:50,905 - mmfewshot - INFO - Iter [7850/100000]\tlr: 1.000e-04, eta: 7:36:05, time: 0.264, data_time: 0.012, memory: 4571, loss_rpn_cls: 0.0253, loss_rpn_bbox: 0.0063, loss_cls: 0.1037, acc: 99.1328, loss_bbox: 0.2036, loss: 0.3389\n",
      "2022-05-26 11:53:04,236 - mmfewshot - INFO - Iter [7900/100000]\tlr: 1.000e-04, eta: 7:35:32, time: 0.267, data_time: 0.012, memory: 4571, loss_rpn_cls: 0.0423, loss_rpn_bbox: 0.0117, loss_cls: 0.1319, acc: 99.0078, loss_bbox: 0.1651, loss: 0.3510\n",
      "2022-05-26 11:53:17,611 - mmfewshot - INFO - Iter [7950/100000]\tlr: 1.000e-04, eta: 7:35:01, time: 0.268, data_time: 0.012, memory: 4571, loss_rpn_cls: 0.0414, loss_rpn_bbox: 0.0104, loss_cls: 0.1389, acc: 99.0156, loss_bbox: 0.1856, loss: 0.3763\n",
      "2022-05-26 11:53:30,929 - mmfewshot - INFO - Exp name: attention-rpn_r50_c4_tb-split2_1shot-fine-tuning-momentum-09.py\n",
      "2022-05-26 11:53:30,931 - mmfewshot - INFO - Iter [8000/100000]\tlr: 1.000e-04, eta: 7:34:28, time: 0.266, data_time: 0.012, memory: 4571, loss_rpn_cls: 0.0291, loss_rpn_bbox: 0.0071, loss_cls: 0.1172, acc: 99.0547, loss_bbox: 0.2227, loss: 0.3761\n",
      "2022-05-26 11:53:30,936 - mmdet - INFO - starting model initialization...\n"
     ]
    },
    {
     "name": "stdout",
     "output_type": "stream",
     "text": [
      "[>>>>>>>>>>>>>>>>>>>>>>>>>>>>>] 850/850, 76.7 task/s, elapsed: 11s, ETA:     0s"
     ]
    },
    {
     "name": "stderr",
     "output_type": "stream",
     "text": [
      "2022-05-26 11:53:42,084 - mmdet - INFO - model initialization done.\n"
     ]
    },
    {
     "name": "stdout",
     "output_type": "stream",
     "text": [
      "[>>>>>>>>>>>>>>>>>>>>>>>>>>>>>] 300/300, 12.7 task/s, elapsed: 24s, ETA:     0s\n",
      "---------------iou_thr: 0.5---------------\n"
     ]
    },
    {
     "name": "stderr",
     "output_type": "stream",
     "text": [
      "2022-05-26 11:54:06,010 - mmfewshot - INFO - \n",
      "+---------+-----+------+--------+-------+\n",
      "| class   | gts | dets | recall | ap    |\n",
      "+---------+-----+------+--------+-------+\n",
      "| fanta   | 291 | 2290 | 0.753  | 0.557 |\n",
      "| Mirinda | 111 | 1057 | 0.730  | 0.449 |\n",
      "+---------+-----+------+--------+-------+\n",
      "| mAP     |     |      |        | 0.503 |\n",
      "+---------+-----+------+--------+-------+\n",
      "2022-05-26 11:54:06,013 - mmfewshot - INFO - BASE_CLASSES_SPLIT2 mAP: 0.5031027793884277\n",
      "2022-05-26 11:54:06,014 - mmfewshot - INFO - NOVEL_CLASSES_SPLIT2 mAP: nan\n",
      "2022-05-26 11:54:06,018 - mmfewshot - INFO - Exp name: attention-rpn_r50_c4_tb-split2_1shot-fine-tuning-momentum-09.py\n",
      "2022-05-26 11:54:06,020 - mmfewshot - INFO - Iter(val) [300]\tAP50: 0.5030, BASE_CLASSES_SPLIT2: AP50: 0.5030, NOVEL_CLASSES_SPLIT2: AP50: nan, mAP: 0.5031\n",
      "2022-05-26 11:54:19,375 - mmfewshot - INFO - Iter [8050/100000]\tlr: 1.000e-04, eta: 7:40:38, time: 0.969, data_time: 0.715, memory: 4571, loss_rpn_cls: 0.0235, loss_rpn_bbox: 0.0062, loss_cls: 0.1399, acc: 99.0391, loss_bbox: 0.2066, loss: 0.3761\n",
      "2022-05-26 11:54:32,726 - mmfewshot - INFO - Iter [8100/100000]\tlr: 1.000e-04, eta: 7:40:03, time: 0.267, data_time: 0.012, memory: 4571, loss_rpn_cls: 0.0318, loss_rpn_bbox: 0.0069, loss_cls: 0.1173, acc: 99.1016, loss_bbox: 0.1968, loss: 0.3527\n",
      "2022-05-26 11:54:45,983 - mmfewshot - INFO - Iter [8150/100000]\tlr: 1.000e-04, eta: 7:39:29, time: 0.265, data_time: 0.013, memory: 4571, loss_rpn_cls: 0.0262, loss_rpn_bbox: 0.0065, loss_cls: 0.1456, acc: 99.1406, loss_bbox: 0.1740, loss: 0.3522\n",
      "2022-05-26 11:54:59,381 - mmfewshot - INFO - Iter [8200/100000]\tlr: 1.000e-04, eta: 7:38:56, time: 0.268, data_time: 0.012, memory: 4571, loss_rpn_cls: 0.0382, loss_rpn_bbox: 0.0081, loss_cls: 0.1361, acc: 98.9062, loss_bbox: 0.2209, loss: 0.4033\n",
      "2022-05-26 11:55:12,732 - mmfewshot - INFO - Iter [8250/100000]\tlr: 1.000e-04, eta: 7:38:22, time: 0.267, data_time: 0.012, memory: 4571, loss_rpn_cls: 0.0427, loss_rpn_bbox: 0.0102, loss_cls: 0.1808, acc: 98.5234, loss_bbox: 0.2074, loss: 0.4410\n",
      "2022-05-26 11:55:26,058 - mmfewshot - INFO - Iter [8300/100000]\tlr: 1.000e-04, eta: 7:37:49, time: 0.267, data_time: 0.013, memory: 4571, loss_rpn_cls: 0.0382, loss_rpn_bbox: 0.0110, loss_cls: 0.1318, acc: 99.2812, loss_bbox: 0.1655, loss: 0.3465\n",
      "2022-05-26 11:55:39,308 - mmfewshot - INFO - Iter [8350/100000]\tlr: 1.000e-04, eta: 7:37:15, time: 0.265, data_time: 0.012, memory: 4571, loss_rpn_cls: 0.0333, loss_rpn_bbox: 0.0083, loss_cls: 0.1117, acc: 99.2344, loss_bbox: 0.1830, loss: 0.3363\n",
      "2022-05-26 11:55:52,595 - mmfewshot - INFO - Iter [8400/100000]\tlr: 1.000e-04, eta: 7:36:42, time: 0.266, data_time: 0.011, memory: 4571, loss_rpn_cls: 0.0306, loss_rpn_bbox: 0.0074, loss_cls: 0.1284, acc: 99.1797, loss_bbox: 0.1883, loss: 0.3548\n",
      "2022-05-26 11:56:05,946 - mmfewshot - INFO - Iter [8450/100000]\tlr: 1.000e-04, eta: 7:36:09, time: 0.267, data_time: 0.013, memory: 4571, loss_rpn_cls: 0.0321, loss_rpn_bbox: 0.0069, loss_cls: 0.0910, acc: 99.1953, loss_bbox: 0.2216, loss: 0.3516\n",
      "2022-05-26 11:56:19,291 - mmfewshot - INFO - Iter [8500/100000]\tlr: 1.000e-04, eta: 7:35:37, time: 0.267, data_time: 0.013, memory: 4571, loss_rpn_cls: 0.0214, loss_rpn_bbox: 0.0053, loss_cls: 0.1232, acc: 99.1797, loss_bbox: 0.1938, loss: 0.3436\n",
      "2022-05-26 11:56:32,607 - mmfewshot - INFO - Iter [8550/100000]\tlr: 1.000e-04, eta: 7:35:05, time: 0.266, data_time: 0.012, memory: 4571, loss_rpn_cls: 0.0331, loss_rpn_bbox: 0.0076, loss_cls: 0.1345, acc: 99.0703, loss_bbox: 0.2235, loss: 0.3987\n",
      "2022-05-26 11:56:45,940 - mmfewshot - INFO - Iter [8600/100000]\tlr: 1.000e-04, eta: 7:34:33, time: 0.267, data_time: 0.012, memory: 4571, loss_rpn_cls: 0.0243, loss_rpn_bbox: 0.0075, loss_cls: 0.1258, acc: 99.1406, loss_bbox: 0.1835, loss: 0.3410\n",
      "2022-05-26 11:56:59,130 - mmfewshot - INFO - Iter [8650/100000]\tlr: 1.000e-04, eta: 7:34:00, time: 0.264, data_time: 0.012, memory: 4571, loss_rpn_cls: 0.0289, loss_rpn_bbox: 0.0067, loss_cls: 0.1087, acc: 99.2109, loss_bbox: 0.1760, loss: 0.3202\n",
      "2022-05-26 11:57:12,364 - mmfewshot - INFO - Iter [8700/100000]\tlr: 1.000e-04, eta: 7:33:27, time: 0.265, data_time: 0.012, memory: 4571, loss_rpn_cls: 0.0211, loss_rpn_bbox: 0.0053, loss_cls: 0.1314, acc: 99.2109, loss_bbox: 0.1614, loss: 0.3191\n",
      "2022-05-26 11:57:25,620 - mmfewshot - INFO - Iter [8750/100000]\tlr: 1.000e-04, eta: 7:32:55, time: 0.265, data_time: 0.012, memory: 4571, loss_rpn_cls: 0.0412, loss_rpn_bbox: 0.0104, loss_cls: 0.1076, acc: 99.3125, loss_bbox: 0.1663, loss: 0.3255\n",
      "2022-05-26 11:57:38,919 - mmfewshot - INFO - Iter [8800/100000]\tlr: 1.000e-04, eta: 7:32:24, time: 0.266, data_time: 0.012, memory: 4571, loss_rpn_cls: 0.0223, loss_rpn_bbox: 0.0062, loss_cls: 0.1336, acc: 99.2812, loss_bbox: 0.1787, loss: 0.3408\n",
      "2022-05-26 11:57:52,176 - mmfewshot - INFO - Iter [8850/100000]\tlr: 1.000e-04, eta: 7:31:52, time: 0.265, data_time: 0.012, memory: 4571, loss_rpn_cls: 0.0398, loss_rpn_bbox: 0.0124, loss_cls: 0.1382, acc: 99.0078, loss_bbox: 0.1954, loss: 0.3858\n",
      "2022-05-26 11:58:05,369 - mmfewshot - INFO - Iter [8900/100000]\tlr: 1.000e-04, eta: 7:31:20, time: 0.264, data_time: 0.011, memory: 4571, loss_rpn_cls: 0.0335, loss_rpn_bbox: 0.0098, loss_cls: 0.1666, acc: 98.8828, loss_bbox: 0.2323, loss: 0.4421\n",
      "2022-05-26 11:58:18,603 - mmfewshot - INFO - Iter [8950/100000]\tlr: 1.000e-04, eta: 7:30:49, time: 0.265, data_time: 0.012, memory: 4571, loss_rpn_cls: 0.0208, loss_rpn_bbox: 0.0052, loss_cls: 0.1137, acc: 99.3359, loss_bbox: 0.1836, loss: 0.3232\n",
      "2022-05-26 11:58:32,003 - mmfewshot - INFO - Exp name: attention-rpn_r50_c4_tb-split2_1shot-fine-tuning-momentum-09.py\n",
      "2022-05-26 11:58:32,005 - mmfewshot - INFO - Iter [9000/100000]\tlr: 1.000e-04, eta: 7:30:19, time: 0.268, data_time: 0.012, memory: 4571, loss_rpn_cls: 0.0278, loss_rpn_bbox: 0.0071, loss_cls: 0.1142, acc: 99.0938, loss_bbox: 0.2210, loss: 0.3701\n",
      "2022-05-26 11:58:32,010 - mmdet - INFO - starting model initialization...\n"
     ]
    },
    {
     "name": "stdout",
     "output_type": "stream",
     "text": [
      "[>>>>>>>>>>>>>>>>>>>>>>>>>>>>>] 850/850, 78.4 task/s, elapsed: 11s, ETA:     0s"
     ]
    },
    {
     "name": "stderr",
     "output_type": "stream",
     "text": [
      "2022-05-26 11:58:42,950 - mmdet - INFO - model initialization done.\n"
     ]
    },
    {
     "name": "stdout",
     "output_type": "stream",
     "text": [
      "[>>>>>>>>>>>>>>>>>>>>>>>>>>>>>] 300/300, 12.7 task/s, elapsed: 24s, ETA:     0s\n",
      "---------------iou_thr: 0.5---------------\n"
     ]
    },
    {
     "name": "stderr",
     "output_type": "stream",
     "text": [
      "2022-05-26 11:59:06,835 - mmfewshot - INFO - \n",
      "+---------+-----+------+--------+-------+\n",
      "| class   | gts | dets | recall | ap    |\n",
      "+---------+-----+------+--------+-------+\n",
      "| fanta   | 291 | 2280 | 0.770  | 0.510 |\n",
      "| Mirinda | 111 | 745  | 0.694  | 0.388 |\n",
      "+---------+-----+------+--------+-------+\n",
      "| mAP     |     |      |        | 0.449 |\n",
      "+---------+-----+------+--------+-------+\n",
      "2022-05-26 11:59:06,838 - mmfewshot - INFO - BASE_CLASSES_SPLIT2 mAP: 0.4489772915840149\n",
      "2022-05-26 11:59:06,839 - mmfewshot - INFO - NOVEL_CLASSES_SPLIT2 mAP: nan\n",
      "2022-05-26 11:59:06,843 - mmfewshot - INFO - Exp name: attention-rpn_r50_c4_tb-split2_1shot-fine-tuning-momentum-09.py\n",
      "2022-05-26 11:59:06,844 - mmfewshot - INFO - Iter(val) [300]\tAP50: 0.4490, BASE_CLASSES_SPLIT2: AP50: 0.4490, NOVEL_CLASSES_SPLIT2: AP50: nan, mAP: 0.4490\n",
      "2022-05-26 11:59:20,264 - mmfewshot - INFO - Iter [9050/100000]\tlr: 1.000e-04, eta: 7:35:40, time: 0.965, data_time: 0.709, memory: 4571, loss_rpn_cls: 0.0348, loss_rpn_bbox: 0.0081, loss_cls: 0.0976, acc: 99.2109, loss_bbox: 0.2219, loss: 0.3625\n",
      "2022-05-26 11:59:33,473 - mmfewshot - INFO - Iter [9100/100000]\tlr: 1.000e-04, eta: 7:35:07, time: 0.264, data_time: 0.012, memory: 4571, loss_rpn_cls: 0.0229, loss_rpn_bbox: 0.0061, loss_cls: 0.1278, acc: 99.0859, loss_bbox: 0.1960, loss: 0.3527\n",
      "2022-05-26 11:59:46,805 - mmfewshot - INFO - Iter [9150/100000]\tlr: 1.000e-04, eta: 7:34:35, time: 0.267, data_time: 0.012, memory: 4571, loss_rpn_cls: 0.0260, loss_rpn_bbox: 0.0064, loss_cls: 0.1322, acc: 99.1953, loss_bbox: 0.1840, loss: 0.3485\n",
      "2022-05-26 12:00:00,066 - mmfewshot - INFO - Iter [9200/100000]\tlr: 1.000e-04, eta: 7:34:03, time: 0.265, data_time: 0.012, memory: 4571, loss_rpn_cls: 0.0473, loss_rpn_bbox: 0.0111, loss_cls: 0.1226, acc: 98.9766, loss_bbox: 0.2114, loss: 0.3924\n",
      "2022-05-26 12:00:13,468 - mmfewshot - INFO - Iter [9250/100000]\tlr: 1.000e-04, eta: 7:33:32, time: 0.268, data_time: 0.014, memory: 4571, loss_rpn_cls: 0.0256, loss_rpn_bbox: 0.0063, loss_cls: 0.1143, acc: 99.1797, loss_bbox: 0.1825, loss: 0.3287\n",
      "2022-05-26 12:00:26,751 - mmfewshot - INFO - Iter [9300/100000]\tlr: 1.000e-04, eta: 7:33:00, time: 0.265, data_time: 0.012, memory: 4571, loss_rpn_cls: 0.0335, loss_rpn_bbox: 0.0090, loss_cls: 0.1618, acc: 98.8906, loss_bbox: 0.2004, loss: 0.4047\n",
      "2022-05-26 12:00:39,967 - mmfewshot - INFO - Iter [9350/100000]\tlr: 1.000e-04, eta: 7:32:28, time: 0.265, data_time: 0.011, memory: 4571, loss_rpn_cls: 0.0261, loss_rpn_bbox: 0.0074, loss_cls: 0.1267, acc: 99.1094, loss_bbox: 0.2018, loss: 0.3620\n",
      "2022-05-26 12:00:53,251 - mmfewshot - INFO - Iter [9400/100000]\tlr: 1.000e-04, eta: 7:31:57, time: 0.266, data_time: 0.012, memory: 4571, loss_rpn_cls: 0.0263, loss_rpn_bbox: 0.0060, loss_cls: 0.1224, acc: 99.3984, loss_bbox: 0.1785, loss: 0.3331\n",
      "2022-05-26 12:01:06,583 - mmfewshot - INFO - Iter [9450/100000]\tlr: 1.000e-04, eta: 7:31:26, time: 0.267, data_time: 0.012, memory: 4571, loss_rpn_cls: 0.0379, loss_rpn_bbox: 0.0104, loss_cls: 0.1557, acc: 98.8125, loss_bbox: 0.1961, loss: 0.4001\n",
      "2022-05-26 12:01:20,085 - mmfewshot - INFO - Iter [9500/100000]\tlr: 1.000e-04, eta: 7:30:57, time: 0.270, data_time: 0.012, memory: 4571, loss_rpn_cls: 0.0345, loss_rpn_bbox: 0.0102, loss_cls: 0.1428, acc: 98.8984, loss_bbox: 0.2117, loss: 0.3993\n",
      "2022-05-26 12:01:33,565 - mmfewshot - INFO - Iter [9550/100000]\tlr: 1.000e-04, eta: 7:30:29, time: 0.269, data_time: 0.012, memory: 4571, loss_rpn_cls: 0.0323, loss_rpn_bbox: 0.0081, loss_cls: 0.1509, acc: 98.8984, loss_bbox: 0.1880, loss: 0.3793\n",
      "2022-05-26 12:01:46,777 - mmfewshot - INFO - Iter [9600/100000]\tlr: 1.000e-04, eta: 7:29:57, time: 0.264, data_time: 0.011, memory: 4571, loss_rpn_cls: 0.0235, loss_rpn_bbox: 0.0064, loss_cls: 0.1856, acc: 98.7656, loss_bbox: 0.1949, loss: 0.4103\n",
      "2022-05-26 12:01:59,911 - mmfewshot - INFO - Iter [9650/100000]\tlr: 1.000e-04, eta: 7:29:26, time: 0.263, data_time: 0.010, memory: 4571, loss_rpn_cls: 0.0227, loss_rpn_bbox: 0.0048, loss_cls: 0.1683, acc: 98.9375, loss_bbox: 0.1669, loss: 0.3627\n",
      "2022-05-26 12:02:13,059 - mmfewshot - INFO - Iter [9700/100000]\tlr: 1.000e-04, eta: 7:28:54, time: 0.263, data_time: 0.010, memory: 4571, loss_rpn_cls: 0.0333, loss_rpn_bbox: 0.0080, loss_cls: 0.1509, acc: 98.9688, loss_bbox: 0.2085, loss: 0.4007\n",
      "2022-05-26 12:02:26,213 - mmfewshot - INFO - Iter [9750/100000]\tlr: 1.000e-04, eta: 7:28:23, time: 0.263, data_time: 0.010, memory: 4571, loss_rpn_cls: 0.0326, loss_rpn_bbox: 0.0063, loss_cls: 0.1114, acc: 99.1875, loss_bbox: 0.2021, loss: 0.3525\n",
      "2022-05-26 12:02:39,348 - mmfewshot - INFO - Iter [9800/100000]\tlr: 1.000e-04, eta: 7:27:52, time: 0.263, data_time: 0.010, memory: 4571, loss_rpn_cls: 0.0276, loss_rpn_bbox: 0.0070, loss_cls: 0.1645, acc: 99.1719, loss_bbox: 0.1876, loss: 0.3867\n",
      "2022-05-26 12:02:52,554 - mmfewshot - INFO - Iter [9850/100000]\tlr: 1.000e-04, eta: 7:27:21, time: 0.264, data_time: 0.011, memory: 4571, loss_rpn_cls: 0.0196, loss_rpn_bbox: 0.0040, loss_cls: 0.1312, acc: 99.3281, loss_bbox: 0.1461, loss: 0.3009\n",
      "2022-05-26 12:03:05,950 - mmfewshot - INFO - Iter [9900/100000]\tlr: 1.000e-04, eta: 7:26:53, time: 0.268, data_time: 0.013, memory: 4571, loss_rpn_cls: 0.0291, loss_rpn_bbox: 0.0074, loss_cls: 0.1314, acc: 99.1641, loss_bbox: 0.1915, loss: 0.3595\n",
      "2022-05-26 12:03:19,462 - mmfewshot - INFO - Iter [9950/100000]\tlr: 1.000e-04, eta: 7:26:26, time: 0.270, data_time: 0.012, memory: 4571, loss_rpn_cls: 0.0370, loss_rpn_bbox: 0.0091, loss_cls: 0.1259, acc: 99.2031, loss_bbox: 0.1731, loss: 0.3451\n",
      "2022-05-26 12:03:32,587 - mmfewshot - INFO - Saving checkpoint at 10000 iterations\n",
      "2022-05-26 12:03:34,193 - mmfewshot - INFO - Exp name: attention-rpn_r50_c4_tb-split2_1shot-fine-tuning-momentum-09.py\n",
      "2022-05-26 12:03:34,194 - mmfewshot - INFO - Iter [10000/100000]\tlr: 1.000e-04, eta: 7:26:11, time: 0.297, data_time: 0.011, memory: 4571, loss_rpn_cls: 0.0393, loss_rpn_bbox: 0.0086, loss_cls: 0.1575, acc: 98.6719, loss_bbox: 0.1973, loss: 0.4028\n",
      "2022-05-26 12:03:34,198 - mmdet - INFO - starting model initialization...\n"
     ]
    },
    {
     "name": "stdout",
     "output_type": "stream",
     "text": [
      "[>>>>>>>>>>>>>>>>>>>>>>>>>>>>>] 850/850, 80.1 task/s, elapsed: 11s, ETA:     0s"
     ]
    },
    {
     "name": "stderr",
     "output_type": "stream",
     "text": [
      "2022-05-26 12:03:44,882 - mmdet - INFO - model initialization done.\n"
     ]
    },
    {
     "name": "stdout",
     "output_type": "stream",
     "text": [
      "[>>>>>>>>>>>>>>>>>>>>>>>>>>>>>] 300/300, 12.8 task/s, elapsed: 23s, ETA:     0s\n",
      "---------------iou_thr: 0.5---------------\n"
     ]
    },
    {
     "name": "stderr",
     "output_type": "stream",
     "text": [
      "2022-05-26 12:04:08,719 - mmfewshot - INFO - \n",
      "+---------+-----+------+--------+-------+\n",
      "| class   | gts | dets | recall | ap    |\n",
      "+---------+-----+------+--------+-------+\n",
      "| fanta   | 291 | 2524 | 0.794  | 0.518 |\n",
      "| Mirinda | 111 | 1316 | 0.739  | 0.438 |\n",
      "+---------+-----+------+--------+-------+\n",
      "| mAP     |     |      |        | 0.478 |\n",
      "+---------+-----+------+--------+-------+\n",
      "2022-05-26 12:04:08,721 - mmfewshot - INFO - BASE_CLASSES_SPLIT2 mAP: 0.47821053862571716\n",
      "2022-05-26 12:04:08,722 - mmfewshot - INFO - NOVEL_CLASSES_SPLIT2 mAP: nan\n",
      "2022-05-26 12:04:08,725 - mmfewshot - INFO - Exp name: attention-rpn_r50_c4_tb-split2_1shot-fine-tuning-momentum-09.py\n",
      "2022-05-26 12:04:08,726 - mmfewshot - INFO - Iter(val) [300]\tAP50: 0.4780, BASE_CLASSES_SPLIT2: AP50: 0.4780, NOVEL_CLASSES_SPLIT2: AP50: nan, mAP: 0.4782\n",
      "2022-05-26 12:04:22,057 - mmfewshot - INFO - Iter [10050/100000]\tlr: 1.000e-04, eta: 7:30:50, time: 0.955, data_time: 0.702, memory: 4571, loss_rpn_cls: 0.0275, loss_rpn_bbox: 0.0058, loss_cls: 0.1251, acc: 99.2266, loss_bbox: 0.1979, loss: 0.3563\n",
      "2022-05-26 12:04:35,530 - mmfewshot - INFO - Iter [10100/100000]\tlr: 1.000e-04, eta: 7:30:21, time: 0.269, data_time: 0.013, memory: 4571, loss_rpn_cls: 0.0320, loss_rpn_bbox: 0.0082, loss_cls: 0.0973, acc: 99.1406, loss_bbox: 0.2360, loss: 0.3735\n",
      "2022-05-26 12:04:48,900 - mmfewshot - INFO - Iter [10150/100000]\tlr: 1.000e-04, eta: 7:29:51, time: 0.267, data_time: 0.013, memory: 4571, loss_rpn_cls: 0.0313, loss_rpn_bbox: 0.0095, loss_cls: 0.0984, acc: 99.0938, loss_bbox: 0.2219, loss: 0.3611\n",
      "2022-05-26 12:05:02,143 - mmfewshot - INFO - Iter [10200/100000]\tlr: 1.000e-04, eta: 7:29:20, time: 0.265, data_time: 0.010, memory: 4571, loss_rpn_cls: 0.0231, loss_rpn_bbox: 0.0065, loss_cls: 0.1203, acc: 99.1484, loss_bbox: 0.1919, loss: 0.3418\n",
      "2022-05-26 12:05:15,397 - mmfewshot - INFO - Iter [10250/100000]\tlr: 1.000e-04, eta: 7:28:50, time: 0.265, data_time: 0.012, memory: 4571, loss_rpn_cls: 0.0270, loss_rpn_bbox: 0.0084, loss_cls: 0.1323, acc: 99.0469, loss_bbox: 0.1919, loss: 0.3595\n",
      "2022-05-26 12:05:28,669 - mmfewshot - INFO - Iter [10300/100000]\tlr: 1.000e-04, eta: 7:28:20, time: 0.265, data_time: 0.011, memory: 4571, loss_rpn_cls: 0.0220, loss_rpn_bbox: 0.0059, loss_cls: 0.1187, acc: 99.1406, loss_bbox: 0.1970, loss: 0.3436\n",
      "2022-05-26 12:05:42,096 - mmfewshot - INFO - Iter [10350/100000]\tlr: 1.000e-04, eta: 7:27:51, time: 0.269, data_time: 0.013, memory: 4571, loss_rpn_cls: 0.0198, loss_rpn_bbox: 0.0056, loss_cls: 0.1035, acc: 99.4453, loss_bbox: 0.1959, loss: 0.3249\n",
      "2022-05-26 12:05:55,409 - mmfewshot - INFO - Iter [10400/100000]\tlr: 1.000e-04, eta: 7:27:22, time: 0.266, data_time: 0.013, memory: 4571, loss_rpn_cls: 0.0245, loss_rpn_bbox: 0.0053, loss_cls: 0.1390, acc: 99.3359, loss_bbox: 0.1776, loss: 0.3464\n",
      "2022-05-26 12:06:08,714 - mmfewshot - INFO - Iter [10450/100000]\tlr: 1.000e-04, eta: 7:26:53, time: 0.266, data_time: 0.012, memory: 4571, loss_rpn_cls: 0.0328, loss_rpn_bbox: 0.0096, loss_cls: 0.1144, acc: 99.2031, loss_bbox: 0.1966, loss: 0.3534\n",
      "2022-05-26 12:06:22,105 - mmfewshot - INFO - Iter [10500/100000]\tlr: 1.000e-04, eta: 7:26:24, time: 0.268, data_time: 0.013, memory: 4571, loss_rpn_cls: 0.0203, loss_rpn_bbox: 0.0054, loss_cls: 0.1113, acc: 99.2734, loss_bbox: 0.2067, loss: 0.3438\n",
      "2022-05-26 12:06:35,536 - mmfewshot - INFO - Iter [10550/100000]\tlr: 1.000e-04, eta: 7:25:56, time: 0.269, data_time: 0.013, memory: 4571, loss_rpn_cls: 0.0338, loss_rpn_bbox: 0.0094, loss_cls: 0.1687, acc: 99.1875, loss_bbox: 0.1862, loss: 0.3981\n",
      "2022-05-26 12:06:48,848 - mmfewshot - INFO - Iter [10600/100000]\tlr: 1.000e-04, eta: 7:25:27, time: 0.266, data_time: 0.012, memory: 4571, loss_rpn_cls: 0.0266, loss_rpn_bbox: 0.0055, loss_cls: 0.1386, acc: 99.0938, loss_bbox: 0.1992, loss: 0.3700\n",
      "2022-05-26 12:07:02,263 - mmfewshot - INFO - Iter [10650/100000]\tlr: 1.000e-04, eta: 7:25:00, time: 0.268, data_time: 0.012, memory: 4571, loss_rpn_cls: 0.0243, loss_rpn_bbox: 0.0065, loss_cls: 0.0941, acc: 99.3125, loss_bbox: 0.2097, loss: 0.3347\n",
      "2022-05-26 12:07:15,645 - mmfewshot - INFO - Iter [10700/100000]\tlr: 1.000e-04, eta: 7:24:32, time: 0.268, data_time: 0.012, memory: 4571, loss_rpn_cls: 0.0206, loss_rpn_bbox: 0.0066, loss_cls: 0.1066, acc: 99.3203, loss_bbox: 0.2007, loss: 0.3346\n",
      "2022-05-26 12:07:29,022 - mmfewshot - INFO - Iter [10750/100000]\tlr: 1.000e-04, eta: 7:24:04, time: 0.268, data_time: 0.013, memory: 4571, loss_rpn_cls: 0.0302, loss_rpn_bbox: 0.0073, loss_cls: 0.1005, acc: 99.1953, loss_bbox: 0.2151, loss: 0.3532\n",
      "2022-05-26 12:07:42,437 - mmfewshot - INFO - Iter [10800/100000]\tlr: 1.000e-04, eta: 7:23:36, time: 0.268, data_time: 0.012, memory: 4571, loss_rpn_cls: 0.0220, loss_rpn_bbox: 0.0056, loss_cls: 0.0893, acc: 99.4922, loss_bbox: 0.1826, loss: 0.2994\n",
      "2022-05-26 12:07:55,871 - mmfewshot - INFO - Iter [10850/100000]\tlr: 1.000e-04, eta: 7:23:09, time: 0.269, data_time: 0.013, memory: 4571, loss_rpn_cls: 0.0261, loss_rpn_bbox: 0.0087, loss_cls: 0.1163, acc: 99.1094, loss_bbox: 0.2032, loss: 0.3543\n",
      "2022-05-26 12:08:09,310 - mmfewshot - INFO - Iter [10900/100000]\tlr: 1.000e-04, eta: 7:22:42, time: 0.269, data_time: 0.013, memory: 4571, loss_rpn_cls: 0.0282, loss_rpn_bbox: 0.0064, loss_cls: 0.1013, acc: 99.2031, loss_bbox: 0.2033, loss: 0.3392\n",
      "2022-05-26 12:08:22,602 - mmfewshot - INFO - Iter [10950/100000]\tlr: 1.000e-04, eta: 7:22:14, time: 0.266, data_time: 0.012, memory: 4571, loss_rpn_cls: 0.0241, loss_rpn_bbox: 0.0063, loss_cls: 0.1065, acc: 99.2656, loss_bbox: 0.2004, loss: 0.3373\n",
      "2022-05-26 12:08:35,937 - mmfewshot - INFO - Exp name: attention-rpn_r50_c4_tb-split2_1shot-fine-tuning-momentum-09.py\n",
      "2022-05-26 12:08:35,939 - mmfewshot - INFO - Iter [11000/100000]\tlr: 1.000e-04, eta: 7:21:47, time: 0.267, data_time: 0.012, memory: 4571, loss_rpn_cls: 0.0289, loss_rpn_bbox: 0.0071, loss_cls: 0.0877, acc: 99.3906, loss_bbox: 0.1969, loss: 0.3206\n",
      "2022-05-26 12:08:35,947 - mmdet - INFO - starting model initialization...\n"
     ]
    },
    {
     "name": "stdout",
     "output_type": "stream",
     "text": [
      "[>>>>>>>>>>>>>>>>>>>>>>>>>>>>>] 850/850, 74.3 task/s, elapsed: 11s, ETA:     0s"
     ]
    },
    {
     "name": "stderr",
     "output_type": "stream",
     "text": [
      "2022-05-26 12:08:47,460 - mmdet - INFO - model initialization done.\n"
     ]
    },
    {
     "name": "stdout",
     "output_type": "stream",
     "text": [
      "[>>>>>>>>>>>>>>>>>>>>>>>>>>>>>] 300/300, 12.5 task/s, elapsed: 24s, ETA:     0s\n",
      "---------------iou_thr: 0.5---------------\n"
     ]
    },
    {
     "name": "stderr",
     "output_type": "stream",
     "text": [
      "2022-05-26 12:09:11,760 - mmfewshot - INFO - \n",
      "+---------+-----+------+--------+-------+\n",
      "| class   | gts | dets | recall | ap    |\n",
      "+---------+-----+------+--------+-------+\n",
      "| fanta   | 291 | 1917 | 0.773  | 0.542 |\n",
      "| Mirinda | 111 | 1000 | 0.721  | 0.392 |\n",
      "+---------+-----+------+--------+-------+\n",
      "| mAP     |     |      |        | 0.467 |\n",
      "+---------+-----+------+--------+-------+\n",
      "2022-05-26 12:09:11,762 - mmfewshot - INFO - BASE_CLASSES_SPLIT2 mAP: 0.46704065799713135\n",
      "2022-05-26 12:09:11,763 - mmfewshot - INFO - NOVEL_CLASSES_SPLIT2 mAP: nan\n",
      "2022-05-26 12:09:11,766 - mmfewshot - INFO - Exp name: attention-rpn_r50_c4_tb-split2_1shot-fine-tuning-momentum-09.py\n",
      "2022-05-26 12:09:11,767 - mmfewshot - INFO - Iter(val) [300]\tAP50: 0.4670, BASE_CLASSES_SPLIT2: AP50: 0.4670, NOVEL_CLASSES_SPLIT2: AP50: nan, mAP: 0.4670\n",
      "2022-05-26 12:09:25,284 - mmfewshot - INFO - Iter [11050/100000]\tlr: 1.000e-04, eta: 7:26:09, time: 0.987, data_time: 0.729, memory: 4571, loss_rpn_cls: 0.0240, loss_rpn_bbox: 0.0060, loss_cls: 0.0902, acc: 99.2109, loss_bbox: 0.2051, loss: 0.3252\n",
      "2022-05-26 12:09:38,636 - mmfewshot - INFO - Iter [11100/100000]\tlr: 1.000e-04, eta: 7:25:41, time: 0.267, data_time: 0.013, memory: 4571, loss_rpn_cls: 0.0367, loss_rpn_bbox: 0.0070, loss_cls: 0.1024, acc: 99.1562, loss_bbox: 0.2280, loss: 0.3742\n",
      "2022-05-26 12:09:51,972 - mmfewshot - INFO - Iter [11150/100000]\tlr: 1.000e-04, eta: 7:25:12, time: 0.267, data_time: 0.012, memory: 4571, loss_rpn_cls: 0.0325, loss_rpn_bbox: 0.0093, loss_cls: 0.1324, acc: 98.9844, loss_bbox: 0.1916, loss: 0.3659\n",
      "2022-05-26 12:10:05,377 - mmfewshot - INFO - Iter [11200/100000]\tlr: 1.000e-04, eta: 7:24:44, time: 0.268, data_time: 0.013, memory: 4571, loss_rpn_cls: 0.0290, loss_rpn_bbox: 0.0070, loss_cls: 0.0890, acc: 99.2656, loss_bbox: 0.2047, loss: 0.3297\n",
      "2022-05-26 12:10:18,727 - mmfewshot - INFO - Iter [11250/100000]\tlr: 1.000e-04, eta: 7:24:16, time: 0.267, data_time: 0.012, memory: 4571, loss_rpn_cls: 0.0289, loss_rpn_bbox: 0.0076, loss_cls: 0.1357, acc: 99.2734, loss_bbox: 0.1761, loss: 0.3483\n",
      "2022-05-26 12:10:32,014 - mmfewshot - INFO - Iter [11300/100000]\tlr: 1.000e-04, eta: 7:23:47, time: 0.266, data_time: 0.012, memory: 4571, loss_rpn_cls: 0.0352, loss_rpn_bbox: 0.0097, loss_cls: 0.1622, acc: 98.7344, loss_bbox: 0.2273, loss: 0.4344\n",
      "2022-05-26 12:10:45,257 - mmfewshot - INFO - Iter [11350/100000]\tlr: 1.000e-04, eta: 7:23:18, time: 0.265, data_time: 0.012, memory: 4571, loss_rpn_cls: 0.0223, loss_rpn_bbox: 0.0059, loss_cls: 0.1014, acc: 99.3828, loss_bbox: 0.1891, loss: 0.3187\n",
      "2022-05-26 12:10:58,518 - mmfewshot - INFO - Iter [11400/100000]\tlr: 1.000e-04, eta: 7:22:50, time: 0.265, data_time: 0.012, memory: 4571, loss_rpn_cls: 0.0352, loss_rpn_bbox: 0.0095, loss_cls: 0.1279, acc: 98.9609, loss_bbox: 0.2329, loss: 0.4056\n",
      "2022-05-26 12:11:11,814 - mmfewshot - INFO - Iter [11450/100000]\tlr: 1.000e-04, eta: 7:22:22, time: 0.266, data_time: 0.012, memory: 4571, loss_rpn_cls: 0.0242, loss_rpn_bbox: 0.0069, loss_cls: 0.1170, acc: 99.1953, loss_bbox: 0.1795, loss: 0.3276\n",
      "2022-05-26 12:11:25,134 - mmfewshot - INFO - Iter [11500/100000]\tlr: 1.000e-04, eta: 7:21:54, time: 0.267, data_time: 0.012, memory: 4571, loss_rpn_cls: 0.0196, loss_rpn_bbox: 0.0047, loss_cls: 0.1018, acc: 99.3125, loss_bbox: 0.1961, loss: 0.3223\n",
      "2022-05-26 12:11:38,449 - mmfewshot - INFO - Iter [11550/100000]\tlr: 1.000e-04, eta: 7:21:26, time: 0.266, data_time: 0.012, memory: 4571, loss_rpn_cls: 0.0349, loss_rpn_bbox: 0.0079, loss_cls: 0.1388, acc: 99.2734, loss_bbox: 0.2197, loss: 0.4013\n",
      "2022-05-26 12:11:51,881 - mmfewshot - INFO - Iter [11600/100000]\tlr: 1.000e-04, eta: 7:20:59, time: 0.269, data_time: 0.012, memory: 4571, loss_rpn_cls: 0.0225, loss_rpn_bbox: 0.0056, loss_cls: 0.1362, acc: 99.2500, loss_bbox: 0.1848, loss: 0.3491\n",
      "2022-05-26 12:12:05,244 - mmfewshot - INFO - Iter [11650/100000]\tlr: 1.000e-04, eta: 7:20:32, time: 0.267, data_time: 0.013, memory: 4571, loss_rpn_cls: 0.0193, loss_rpn_bbox: 0.0051, loss_cls: 0.1278, acc: 99.2812, loss_bbox: 0.1890, loss: 0.3411\n",
      "2022-05-26 12:12:18,606 - mmfewshot - INFO - Iter [11700/100000]\tlr: 1.000e-04, eta: 7:20:05, time: 0.267, data_time: 0.012, memory: 4571, loss_rpn_cls: 0.0259, loss_rpn_bbox: 0.0065, loss_cls: 0.0830, acc: 99.2969, loss_bbox: 0.2152, loss: 0.3306\n",
      "2022-05-26 12:12:31,727 - mmfewshot - INFO - Iter [11750/100000]\tlr: 1.000e-04, eta: 7:19:36, time: 0.262, data_time: 0.010, memory: 4571, loss_rpn_cls: 0.0149, loss_rpn_bbox: 0.0038, loss_cls: 0.0984, acc: 99.3047, loss_bbox: 0.1886, loss: 0.3056\n",
      "2022-05-26 12:12:45,062 - mmfewshot - INFO - Iter [11800/100000]\tlr: 1.000e-04, eta: 7:19:10, time: 0.267, data_time: 0.012, memory: 4571, loss_rpn_cls: 0.0350, loss_rpn_bbox: 0.0086, loss_cls: 0.0960, acc: 99.1328, loss_bbox: 0.2320, loss: 0.3717\n",
      "2022-05-26 12:12:58,388 - mmfewshot - INFO - Iter [11850/100000]\tlr: 1.000e-04, eta: 7:18:43, time: 0.267, data_time: 0.012, memory: 4571, loss_rpn_cls: 0.0298, loss_rpn_bbox: 0.0083, loss_cls: 0.1150, acc: 99.3672, loss_bbox: 0.2157, loss: 0.3688\n",
      "2022-05-26 12:13:11,763 - mmfewshot - INFO - Iter [11900/100000]\tlr: 1.000e-04, eta: 7:18:16, time: 0.267, data_time: 0.013, memory: 4571, loss_rpn_cls: 0.0310, loss_rpn_bbox: 0.0077, loss_cls: 0.0973, acc: 99.3203, loss_bbox: 0.1951, loss: 0.3311\n",
      "2022-05-26 12:13:25,069 - mmfewshot - INFO - Iter [11950/100000]\tlr: 1.000e-04, eta: 7:17:49, time: 0.266, data_time: 0.013, memory: 4571, loss_rpn_cls: 0.0255, loss_rpn_bbox: 0.0064, loss_cls: 0.1140, acc: 99.3359, loss_bbox: 0.1870, loss: 0.3329\n",
      "2022-05-26 12:13:38,310 - mmfewshot - INFO - Exp name: attention-rpn_r50_c4_tb-split2_1shot-fine-tuning-momentum-09.py\n",
      "2022-05-26 12:13:38,311 - mmfewshot - INFO - Iter [12000/100000]\tlr: 1.000e-04, eta: 7:17:22, time: 0.265, data_time: 0.012, memory: 4571, loss_rpn_cls: 0.0364, loss_rpn_bbox: 0.0083, loss_cls: 0.0941, acc: 99.2891, loss_bbox: 0.2169, loss: 0.3556\n",
      "2022-05-26 12:13:38,316 - mmdet - INFO - starting model initialization...\n"
     ]
    },
    {
     "name": "stdout",
     "output_type": "stream",
     "text": [
      "[>>>>>>>>>>>>>>>>>>>>>>>>>>>>>] 850/850, 80.2 task/s, elapsed: 11s, ETA:     0s"
     ]
    },
    {
     "name": "stderr",
     "output_type": "stream",
     "text": [
      "2022-05-26 12:13:48,980 - mmdet - INFO - model initialization done.\n"
     ]
    },
    {
     "name": "stdout",
     "output_type": "stream",
     "text": [
      "[>>>>>>>>>>>>>>>>>>>>>>>>>>>>>] 300/300, 12.6 task/s, elapsed: 24s, ETA:     0s\n",
      "---------------iou_thr: 0.5---------------\n"
     ]
    },
    {
     "name": "stderr",
     "output_type": "stream",
     "text": [
      "2022-05-26 12:14:13,192 - mmfewshot - INFO - \n",
      "+---------+-----+------+--------+-------+\n",
      "| class   | gts | dets | recall | ap    |\n",
      "+---------+-----+------+--------+-------+\n",
      "| fanta   | 291 | 1783 | 0.770  | 0.495 |\n",
      "| Mirinda | 111 | 963  | 0.703  | 0.459 |\n",
      "+---------+-----+------+--------+-------+\n",
      "| mAP     |     |      |        | 0.477 |\n",
      "+---------+-----+------+--------+-------+\n",
      "2022-05-26 12:14:13,197 - mmfewshot - INFO - BASE_CLASSES_SPLIT2 mAP: 0.47726112604141235\n",
      "2022-05-26 12:14:13,198 - mmfewshot - INFO - NOVEL_CLASSES_SPLIT2 mAP: nan\n",
      "2022-05-26 12:14:13,201 - mmfewshot - INFO - Exp name: attention-rpn_r50_c4_tb-split2_1shot-fine-tuning-momentum-09.py\n",
      "2022-05-26 12:14:13,202 - mmfewshot - INFO - Iter(val) [300]\tAP50: 0.4770, BASE_CLASSES_SPLIT2: AP50: 0.4770, NOVEL_CLASSES_SPLIT2: AP50: nan, mAP: 0.4773\n",
      "2022-05-26 12:14:26,492 - mmfewshot - INFO - Iter [12050/100000]\tlr: 1.000e-04, eta: 7:21:10, time: 0.964, data_time: 0.710, memory: 4571, loss_rpn_cls: 0.0200, loss_rpn_bbox: 0.0048, loss_cls: 0.1069, acc: 99.1406, loss_bbox: 0.2034, loss: 0.3350\n",
      "2022-05-26 12:14:39,703 - mmfewshot - INFO - Iter [12100/100000]\tlr: 1.000e-04, eta: 7:20:42, time: 0.264, data_time: 0.012, memory: 4571, loss_rpn_cls: 0.0248, loss_rpn_bbox: 0.0056, loss_cls: 0.1016, acc: 99.2422, loss_bbox: 0.1798, loss: 0.3119\n",
      "2022-05-26 12:14:53,107 - mmfewshot - INFO - Iter [12150/100000]\tlr: 1.000e-04, eta: 7:20:15, time: 0.268, data_time: 0.013, memory: 4571, loss_rpn_cls: 0.0307, loss_rpn_bbox: 0.0080, loss_cls: 0.0990, acc: 99.1641, loss_bbox: 0.2147, loss: 0.3525\n",
      "2022-05-26 12:15:06,470 - mmfewshot - INFO - Iter [12200/100000]\tlr: 1.000e-04, eta: 7:19:48, time: 0.267, data_time: 0.012, memory: 4571, loss_rpn_cls: 0.0301, loss_rpn_bbox: 0.0086, loss_cls: 0.1153, acc: 99.0938, loss_bbox: 0.2298, loss: 0.3839\n",
      "2022-05-26 12:15:19,835 - mmfewshot - INFO - Iter [12250/100000]\tlr: 1.000e-04, eta: 7:19:21, time: 0.267, data_time: 0.013, memory: 4571, loss_rpn_cls: 0.0279, loss_rpn_bbox: 0.0074, loss_cls: 0.1266, acc: 99.0781, loss_bbox: 0.2175, loss: 0.3794\n",
      "2022-05-26 12:15:33,216 - mmfewshot - INFO - Iter [12300/100000]\tlr: 1.000e-04, eta: 7:18:54, time: 0.268, data_time: 0.013, memory: 4571, loss_rpn_cls: 0.0233, loss_rpn_bbox: 0.0055, loss_cls: 0.1378, acc: 99.1562, loss_bbox: 0.2070, loss: 0.3736\n",
      "2022-05-26 12:15:46,638 - mmfewshot - INFO - Iter [12350/100000]\tlr: 1.000e-04, eta: 7:18:28, time: 0.268, data_time: 0.013, memory: 4571, loss_rpn_cls: 0.0347, loss_rpn_bbox: 0.0088, loss_cls: 0.0935, acc: 99.4297, loss_bbox: 0.2035, loss: 0.3405\n",
      "2022-05-26 12:15:59,934 - mmfewshot - INFO - Iter [12400/100000]\tlr: 1.000e-04, eta: 7:18:01, time: 0.266, data_time: 0.012, memory: 4571, loss_rpn_cls: 0.0261, loss_rpn_bbox: 0.0067, loss_cls: 0.0943, acc: 99.2578, loss_bbox: 0.1994, loss: 0.3265\n",
      "2022-05-26 12:16:13,289 - mmfewshot - INFO - Iter [12450/100000]\tlr: 1.000e-04, eta: 7:17:34, time: 0.267, data_time: 0.013, memory: 4571, loss_rpn_cls: 0.0353, loss_rpn_bbox: 0.0099, loss_cls: 0.1064, acc: 99.2422, loss_bbox: 0.2070, loss: 0.3585\n",
      "2022-05-26 12:16:26,588 - mmfewshot - INFO - Iter [12500/100000]\tlr: 1.000e-04, eta: 7:17:07, time: 0.266, data_time: 0.013, memory: 4571, loss_rpn_cls: 0.0286, loss_rpn_bbox: 0.0073, loss_cls: 0.0862, acc: 99.4375, loss_bbox: 0.1878, loss: 0.3099\n",
      "2022-05-26 12:16:39,976 - mmfewshot - INFO - Iter [12550/100000]\tlr: 1.000e-04, eta: 7:16:41, time: 0.267, data_time: 0.013, memory: 4571, loss_rpn_cls: 0.0253, loss_rpn_bbox: 0.0104, loss_cls: 0.1056, acc: 99.1250, loss_bbox: 0.2762, loss: 0.4174\n",
      "2022-05-26 12:16:53,271 - mmfewshot - INFO - Iter [12600/100000]\tlr: 1.000e-04, eta: 7:16:14, time: 0.266, data_time: 0.012, memory: 4571, loss_rpn_cls: 0.0287, loss_rpn_bbox: 0.0084, loss_cls: 0.1119, acc: 99.2188, loss_bbox: 0.2193, loss: 0.3682\n",
      "2022-05-26 12:17:06,494 - mmfewshot - INFO - Iter [12650/100000]\tlr: 1.000e-04, eta: 7:15:47, time: 0.265, data_time: 0.011, memory: 4571, loss_rpn_cls: 0.0214, loss_rpn_bbox: 0.0063, loss_cls: 0.0786, acc: 99.4062, loss_bbox: 0.2138, loss: 0.3201\n",
      "2022-05-26 12:17:19,806 - mmfewshot - INFO - Iter [12700/100000]\tlr: 1.000e-04, eta: 7:15:21, time: 0.266, data_time: 0.012, memory: 4571, loss_rpn_cls: 0.0280, loss_rpn_bbox: 0.0061, loss_cls: 0.1434, acc: 99.1797, loss_bbox: 0.2146, loss: 0.3921\n",
      "2022-05-26 12:17:33,216 - mmfewshot - INFO - Iter [12750/100000]\tlr: 1.000e-04, eta: 7:14:55, time: 0.268, data_time: 0.013, memory: 4571, loss_rpn_cls: 0.0278, loss_rpn_bbox: 0.0079, loss_cls: 0.0911, acc: 99.1250, loss_bbox: 0.2079, loss: 0.3347\n",
      "2022-05-26 12:17:46,465 - mmfewshot - INFO - Iter [12800/100000]\tlr: 1.000e-04, eta: 7:14:29, time: 0.265, data_time: 0.011, memory: 4571, loss_rpn_cls: 0.0305, loss_rpn_bbox: 0.0094, loss_cls: 0.1323, acc: 99.2422, loss_bbox: 0.2328, loss: 0.4050\n",
      "2022-05-26 12:17:59,709 - mmfewshot - INFO - Iter [12850/100000]\tlr: 1.000e-04, eta: 7:14:02, time: 0.265, data_time: 0.012, memory: 4571, loss_rpn_cls: 0.0216, loss_rpn_bbox: 0.0073, loss_cls: 0.1085, acc: 99.1719, loss_bbox: 0.2395, loss: 0.3770\n",
      "2022-05-26 12:18:13,004 - mmfewshot - INFO - Iter [12900/100000]\tlr: 1.000e-04, eta: 7:13:36, time: 0.266, data_time: 0.012, memory: 4571, loss_rpn_cls: 0.0295, loss_rpn_bbox: 0.0084, loss_cls: 0.1189, acc: 99.2969, loss_bbox: 0.2154, loss: 0.3721\n",
      "2022-05-26 12:18:26,371 - mmfewshot - INFO - Iter [12950/100000]\tlr: 1.000e-04, eta: 7:13:11, time: 0.268, data_time: 0.013, memory: 4571, loss_rpn_cls: 0.0247, loss_rpn_bbox: 0.0076, loss_cls: 0.1076, acc: 99.2500, loss_bbox: 0.2177, loss: 0.3577\n",
      "2022-05-26 12:18:39,608 - mmfewshot - INFO - Exp name: attention-rpn_r50_c4_tb-split2_1shot-fine-tuning-momentum-09.py\n",
      "2022-05-26 12:18:39,609 - mmfewshot - INFO - Iter [13000/100000]\tlr: 1.000e-04, eta: 7:12:45, time: 0.265, data_time: 0.012, memory: 4571, loss_rpn_cls: 0.0296, loss_rpn_bbox: 0.0088, loss_cls: 0.0871, acc: 99.3359, loss_bbox: 0.2578, loss: 0.3833\n",
      "2022-05-26 12:18:39,615 - mmdet - INFO - starting model initialization...\n"
     ]
    },
    {
     "name": "stdout",
     "output_type": "stream",
     "text": [
      "[>>>>>>>>>>>>>>>>>>>>>>>>>>>>>] 850/850, 80.3 task/s, elapsed: 11s, ETA:     0s"
     ]
    },
    {
     "name": "stderr",
     "output_type": "stream",
     "text": [
      "2022-05-26 12:18:50,280 - mmdet - INFO - model initialization done.\n"
     ]
    },
    {
     "name": "stdout",
     "output_type": "stream",
     "text": [
      "[>>>>>>>>>>>>>>>>>>>>>>>>>>>>>] 300/300, 12.7 task/s, elapsed: 24s, ETA:     0s\n",
      "---------------iou_thr: 0.5---------------\n"
     ]
    },
    {
     "name": "stderr",
     "output_type": "stream",
     "text": [
      "2022-05-26 12:19:14,280 - mmfewshot - INFO - \n",
      "+---------+-----+------+--------+-------+\n",
      "| class   | gts | dets | recall | ap    |\n",
      "+---------+-----+------+--------+-------+\n",
      "| fanta   | 291 | 2033 | 0.787  | 0.528 |\n",
      "| Mirinda | 111 | 740  | 0.730  | 0.469 |\n",
      "+---------+-----+------+--------+-------+\n",
      "| mAP     |     |      |        | 0.499 |\n",
      "+---------+-----+------+--------+-------+\n",
      "2022-05-26 12:19:14,283 - mmfewshot - INFO - BASE_CLASSES_SPLIT2 mAP: 0.4985019564628601\n",
      "2022-05-26 12:19:14,283 - mmfewshot - INFO - NOVEL_CLASSES_SPLIT2 mAP: nan\n",
      "2022-05-26 12:19:14,286 - mmfewshot - INFO - Exp name: attention-rpn_r50_c4_tb-split2_1shot-fine-tuning-momentum-09.py\n",
      "2022-05-26 12:19:14,287 - mmfewshot - INFO - Iter(val) [300]\tAP50: 0.4990, BASE_CLASSES_SPLIT2: AP50: 0.4990, NOVEL_CLASSES_SPLIT2: AP50: nan, mAP: 0.4985\n",
      "2022-05-26 12:19:27,629 - mmfewshot - INFO - Iter [13050/100000]\tlr: 1.000e-04, eta: 7:16:10, time: 0.961, data_time: 0.706, memory: 4571, loss_rpn_cls: 0.0342, loss_rpn_bbox: 0.0073, loss_cls: 0.0931, acc: 99.2969, loss_bbox: 0.2198, loss: 0.3544\n",
      "2022-05-26 12:19:40,973 - mmfewshot - INFO - Iter [13100/100000]\tlr: 1.000e-04, eta: 7:15:44, time: 0.267, data_time: 0.012, memory: 4571, loss_rpn_cls: 0.0267, loss_rpn_bbox: 0.0076, loss_cls: 0.1132, acc: 99.3438, loss_bbox: 0.1867, loss: 0.3341\n",
      "2022-05-26 12:19:54,422 - mmfewshot - INFO - Iter [13150/100000]\tlr: 1.000e-04, eta: 7:15:18, time: 0.269, data_time: 0.013, memory: 4571, loss_rpn_cls: 0.0221, loss_rpn_bbox: 0.0054, loss_cls: 0.1223, acc: 99.3203, loss_bbox: 0.1793, loss: 0.3291\n",
      "2022-05-26 12:20:07,844 - mmfewshot - INFO - Iter [13200/100000]\tlr: 1.000e-04, eta: 7:14:53, time: 0.268, data_time: 0.013, memory: 4571, loss_rpn_cls: 0.0270, loss_rpn_bbox: 0.0078, loss_cls: 0.0752, acc: 99.3359, loss_bbox: 0.2193, loss: 0.3293\n",
      "2022-05-26 12:20:21,008 - mmfewshot - INFO - Iter [13250/100000]\tlr: 1.000e-04, eta: 7:14:25, time: 0.263, data_time: 0.011, memory: 4571, loss_rpn_cls: 0.0190, loss_rpn_bbox: 0.0054, loss_cls: 0.0857, acc: 99.4219, loss_bbox: 0.2176, loss: 0.3276\n",
      "2022-05-26 12:20:34,304 - mmfewshot - INFO - Iter [13300/100000]\tlr: 1.000e-04, eta: 7:13:59, time: 0.266, data_time: 0.012, memory: 4571, loss_rpn_cls: 0.0394, loss_rpn_bbox: 0.0100, loss_cls: 0.0692, acc: 99.3438, loss_bbox: 0.2298, loss: 0.3484\n",
      "2022-05-26 12:20:47,624 - mmfewshot - INFO - Iter [13350/100000]\tlr: 1.000e-04, eta: 7:13:33, time: 0.266, data_time: 0.012, memory: 4571, loss_rpn_cls: 0.0227, loss_rpn_bbox: 0.0055, loss_cls: 0.0876, acc: 99.4844, loss_bbox: 0.1710, loss: 0.2869\n",
      "2022-05-26 12:21:00,988 - mmfewshot - INFO - Iter [13400/100000]\tlr: 1.000e-04, eta: 7:13:07, time: 0.267, data_time: 0.013, memory: 4571, loss_rpn_cls: 0.0240, loss_rpn_bbox: 0.0056, loss_cls: 0.1168, acc: 99.2578, loss_bbox: 0.2233, loss: 0.3697\n",
      "2022-05-26 12:21:14,314 - mmfewshot - INFO - Iter [13450/100000]\tlr: 1.000e-04, eta: 7:12:42, time: 0.267, data_time: 0.013, memory: 4571, loss_rpn_cls: 0.0303, loss_rpn_bbox: 0.0076, loss_cls: 0.0850, acc: 99.4141, loss_bbox: 0.2018, loss: 0.3247\n",
      "2022-05-26 12:21:27,654 - mmfewshot - INFO - Iter [13500/100000]\tlr: 1.000e-04, eta: 7:12:16, time: 0.267, data_time: 0.012, memory: 4571, loss_rpn_cls: 0.0219, loss_rpn_bbox: 0.0054, loss_cls: 0.0994, acc: 99.3438, loss_bbox: 0.2035, loss: 0.3301\n",
      "2022-05-26 12:21:41,095 - mmfewshot - INFO - Iter [13550/100000]\tlr: 1.000e-04, eta: 7:11:51, time: 0.269, data_time: 0.013, memory: 4571, loss_rpn_cls: 0.0421, loss_rpn_bbox: 0.0108, loss_cls: 0.1227, acc: 99.2188, loss_bbox: 0.2086, loss: 0.3841\n",
      "2022-05-26 12:21:54,404 - mmfewshot - INFO - Iter [13600/100000]\tlr: 1.000e-04, eta: 7:11:25, time: 0.266, data_time: 0.012, memory: 4571, loss_rpn_cls: 0.0196, loss_rpn_bbox: 0.0059, loss_cls: 0.0693, acc: 99.4531, loss_bbox: 0.2053, loss: 0.3002\n",
      "2022-05-26 12:22:07,790 - mmfewshot - INFO - Iter [13650/100000]\tlr: 1.000e-04, eta: 7:11:00, time: 0.268, data_time: 0.012, memory: 4571, loss_rpn_cls: 0.0247, loss_rpn_bbox: 0.0070, loss_cls: 0.0730, acc: 99.5391, loss_bbox: 0.2045, loss: 0.3092\n",
      "2022-05-26 12:22:21,157 - mmfewshot - INFO - Iter [13700/100000]\tlr: 1.000e-04, eta: 7:10:35, time: 0.267, data_time: 0.012, memory: 4571, loss_rpn_cls: 0.0260, loss_rpn_bbox: 0.0053, loss_cls: 0.1119, acc: 99.1562, loss_bbox: 0.1986, loss: 0.3418\n",
      "2022-05-26 12:22:34,512 - mmfewshot - INFO - Iter [13750/100000]\tlr: 1.000e-04, eta: 7:10:10, time: 0.267, data_time: 0.012, memory: 4571, loss_rpn_cls: 0.0341, loss_rpn_bbox: 0.0093, loss_cls: 0.1175, acc: 99.0781, loss_bbox: 0.2261, loss: 0.3870\n",
      "2022-05-26 12:22:47,871 - mmfewshot - INFO - Iter [13800/100000]\tlr: 1.000e-04, eta: 7:09:45, time: 0.267, data_time: 0.012, memory: 4571, loss_rpn_cls: 0.0175, loss_rpn_bbox: 0.0044, loss_cls: 0.0903, acc: 99.5156, loss_bbox: 0.1749, loss: 0.2871\n",
      "2022-05-26 12:23:01,322 - mmfewshot - INFO - Iter [13850/100000]\tlr: 1.000e-04, eta: 7:09:21, time: 0.269, data_time: 0.013, memory: 4571, loss_rpn_cls: 0.0243, loss_rpn_bbox: 0.0057, loss_cls: 0.0947, acc: 99.3359, loss_bbox: 0.2076, loss: 0.3323\n",
      "2022-05-26 12:23:14,763 - mmfewshot - INFO - Iter [13900/100000]\tlr: 1.000e-04, eta: 7:08:56, time: 0.269, data_time: 0.012, memory: 4571, loss_rpn_cls: 0.0276, loss_rpn_bbox: 0.0072, loss_cls: 0.0766, acc: 99.4688, loss_bbox: 0.2297, loss: 0.3411\n",
      "2022-05-26 12:23:28,108 - mmfewshot - INFO - Iter [13950/100000]\tlr: 1.000e-04, eta: 7:08:32, time: 0.267, data_time: 0.012, memory: 4571, loss_rpn_cls: 0.0330, loss_rpn_bbox: 0.0097, loss_cls: 0.1248, acc: 99.0234, loss_bbox: 0.2557, loss: 0.4232\n",
      "2022-05-26 12:23:41,444 - mmfewshot - INFO - Exp name: attention-rpn_r50_c4_tb-split2_1shot-fine-tuning-momentum-09.py\n",
      "2022-05-26 12:23:41,446 - mmfewshot - INFO - Iter [14000/100000]\tlr: 1.000e-04, eta: 7:08:07, time: 0.267, data_time: 0.013, memory: 4571, loss_rpn_cls: 0.0293, loss_rpn_bbox: 0.0074, loss_cls: 0.0969, acc: 99.2812, loss_bbox: 0.2044, loss: 0.3380\n",
      "2022-05-26 12:23:41,454 - mmdet - INFO - starting model initialization...\n"
     ]
    },
    {
     "name": "stdout",
     "output_type": "stream",
     "text": [
      "[>>>>>>>>>>>>>>>>>>>>>>>>>>>>>] 850/850, 77.5 task/s, elapsed: 11s, ETA:     0s"
     ]
    },
    {
     "name": "stderr",
     "output_type": "stream",
     "text": [
      "2022-05-26 12:23:52,503 - mmdet - INFO - model initialization done.\n"
     ]
    },
    {
     "name": "stdout",
     "output_type": "stream",
     "text": [
      "[>>>>>>>>>>>>>>>>>>>>>>>>>>>>>] 300/300, 12.7 task/s, elapsed: 24s, ETA:     0s\n",
      "---------------iou_thr: 0.5---------------\n"
     ]
    },
    {
     "name": "stderr",
     "output_type": "stream",
     "text": [
      "2022-05-26 12:24:16,560 - mmfewshot - INFO - \n",
      "+---------+-----+------+--------+-------+\n",
      "| class   | gts | dets | recall | ap    |\n",
      "+---------+-----+------+--------+-------+\n",
      "| fanta   | 291 | 1816 | 0.784  | 0.452 |\n",
      "| Mirinda | 111 | 874  | 0.703  | 0.439 |\n",
      "+---------+-----+------+--------+-------+\n",
      "| mAP     |     |      |        | 0.445 |\n",
      "+---------+-----+------+--------+-------+\n",
      "2022-05-26 12:24:16,562 - mmfewshot - INFO - BASE_CLASSES_SPLIT2 mAP: 0.44540536403656006\n",
      "2022-05-26 12:24:16,563 - mmfewshot - INFO - NOVEL_CLASSES_SPLIT2 mAP: nan\n",
      "2022-05-26 12:24:16,566 - mmfewshot - INFO - Exp name: attention-rpn_r50_c4_tb-split2_1shot-fine-tuning-momentum-09.py\n",
      "2022-05-26 12:24:16,567 - mmfewshot - INFO - Iter(val) [300]\tAP50: 0.4450, BASE_CLASSES_SPLIT2: AP50: 0.4450, NOVEL_CLASSES_SPLIT2: AP50: nan, mAP: 0.4454\n",
      "2022-05-26 12:24:29,729 - mmfewshot - INFO - Iter [14050/100000]\tlr: 1.000e-04, eta: 7:11:16, time: 0.966, data_time: 0.713, memory: 4571, loss_rpn_cls: 0.0284, loss_rpn_bbox: 0.0082, loss_cls: 0.1087, acc: 99.3516, loss_bbox: 0.2004, loss: 0.3458\n",
      "2022-05-26 12:24:43,038 - mmfewshot - INFO - Iter [14100/100000]\tlr: 1.000e-04, eta: 7:10:50, time: 0.266, data_time: 0.012, memory: 4571, loss_rpn_cls: 0.0276, loss_rpn_bbox: 0.0066, loss_cls: 0.0805, acc: 99.4297, loss_bbox: 0.1944, loss: 0.3092\n",
      "2022-05-26 12:24:56,322 - mmfewshot - INFO - Iter [14150/100000]\tlr: 1.000e-04, eta: 7:10:24, time: 0.265, data_time: 0.013, memory: 4571, loss_rpn_cls: 0.0268, loss_rpn_bbox: 0.0089, loss_cls: 0.0865, acc: 99.3438, loss_bbox: 0.1960, loss: 0.3183\n",
      "2022-05-26 12:25:09,558 - mmfewshot - INFO - Iter [14200/100000]\tlr: 1.000e-04, eta: 7:09:59, time: 0.265, data_time: 0.011, memory: 4571, loss_rpn_cls: 0.0273, loss_rpn_bbox: 0.0070, loss_cls: 0.1122, acc: 99.1406, loss_bbox: 0.2180, loss: 0.3644\n",
      "2022-05-26 12:25:22,898 - mmfewshot - INFO - Iter [14250/100000]\tlr: 1.000e-04, eta: 7:09:33, time: 0.267, data_time: 0.012, memory: 4571, loss_rpn_cls: 0.0261, loss_rpn_bbox: 0.0081, loss_cls: 0.0702, acc: 99.2500, loss_bbox: 0.2614, loss: 0.3658\n",
      "2022-05-26 12:25:36,112 - mmfewshot - INFO - Iter [14300/100000]\tlr: 1.000e-04, eta: 7:09:07, time: 0.264, data_time: 0.012, memory: 4571, loss_rpn_cls: 0.0201, loss_rpn_bbox: 0.0072, loss_cls: 0.1019, acc: 99.3750, loss_bbox: 0.1814, loss: 0.3106\n",
      "2022-05-26 12:25:49,362 - mmfewshot - INFO - Iter [14350/100000]\tlr: 1.000e-04, eta: 7:08:42, time: 0.265, data_time: 0.012, memory: 4571, loss_rpn_cls: 0.0225, loss_rpn_bbox: 0.0063, loss_cls: 0.1011, acc: 99.1797, loss_bbox: 0.2056, loss: 0.3354\n",
      "2022-05-26 12:26:02,696 - mmfewshot - INFO - Iter [14400/100000]\tlr: 1.000e-04, eta: 7:08:17, time: 0.267, data_time: 0.012, memory: 4571, loss_rpn_cls: 0.0269, loss_rpn_bbox: 0.0079, loss_cls: 0.0854, acc: 99.4453, loss_bbox: 0.2091, loss: 0.3293\n",
      "2022-05-26 12:26:16,120 - mmfewshot - INFO - Iter [14450/100000]\tlr: 1.000e-04, eta: 7:07:52, time: 0.269, data_time: 0.013, memory: 4571, loss_rpn_cls: 0.0181, loss_rpn_bbox: 0.0064, loss_cls: 0.0831, acc: 99.2891, loss_bbox: 0.2466, loss: 0.3541\n",
      "2022-05-26 12:26:29,390 - mmfewshot - INFO - Iter [14500/100000]\tlr: 1.000e-04, eta: 7:07:27, time: 0.265, data_time: 0.012, memory: 4571, loss_rpn_cls: 0.0219, loss_rpn_bbox: 0.0050, loss_cls: 0.0886, acc: 99.3828, loss_bbox: 0.2344, loss: 0.3500\n",
      "2022-05-26 12:26:42,687 - mmfewshot - INFO - Iter [14550/100000]\tlr: 1.000e-04, eta: 7:07:02, time: 0.266, data_time: 0.013, memory: 4571, loss_rpn_cls: 0.0287, loss_rpn_bbox: 0.0083, loss_cls: 0.0968, acc: 99.2109, loss_bbox: 0.2252, loss: 0.3590\n",
      "2022-05-26 12:26:56,082 - mmfewshot - INFO - Iter [14600/100000]\tlr: 1.000e-04, eta: 7:06:38, time: 0.268, data_time: 0.013, memory: 4571, loss_rpn_cls: 0.0304, loss_rpn_bbox: 0.0069, loss_cls: 0.0909, acc: 99.3203, loss_bbox: 0.2186, loss: 0.3469\n",
      "2022-05-26 12:27:09,448 - mmfewshot - INFO - Iter [14650/100000]\tlr: 1.000e-04, eta: 7:06:13, time: 0.267, data_time: 0.012, memory: 4571, loss_rpn_cls: 0.0407, loss_rpn_bbox: 0.0097, loss_cls: 0.1078, acc: 99.3438, loss_bbox: 0.1980, loss: 0.3562\n",
      "2022-05-26 12:27:22,707 - mmfewshot - INFO - Iter [14700/100000]\tlr: 1.000e-04, eta: 7:05:48, time: 0.265, data_time: 0.012, memory: 4571, loss_rpn_cls: 0.0202, loss_rpn_bbox: 0.0053, loss_cls: 0.0830, acc: 99.5000, loss_bbox: 0.2302, loss: 0.3387\n",
      "2022-05-26 12:27:35,988 - mmfewshot - INFO - Iter [14750/100000]\tlr: 1.000e-04, eta: 7:05:24, time: 0.266, data_time: 0.012, memory: 4571, loss_rpn_cls: 0.0285, loss_rpn_bbox: 0.0075, loss_cls: 0.1340, acc: 99.2578, loss_bbox: 0.1896, loss: 0.3597\n",
      "2022-05-26 12:27:49,384 - mmfewshot - INFO - Iter [14800/100000]\tlr: 1.000e-04, eta: 7:05:00, time: 0.268, data_time: 0.012, memory: 4571, loss_rpn_cls: 0.0198, loss_rpn_bbox: 0.0055, loss_cls: 0.0832, acc: 99.4062, loss_bbox: 0.2129, loss: 0.3213\n",
      "2022-05-26 12:28:02,710 - mmfewshot - INFO - Iter [14850/100000]\tlr: 1.000e-04, eta: 7:04:35, time: 0.267, data_time: 0.012, memory: 4571, loss_rpn_cls: 0.0183, loss_rpn_bbox: 0.0044, loss_cls: 0.0807, acc: 99.6016, loss_bbox: 0.1874, loss: 0.2908\n",
      "2022-05-26 12:28:16,133 - mmfewshot - INFO - Iter [14900/100000]\tlr: 1.000e-04, eta: 7:04:11, time: 0.268, data_time: 0.012, memory: 4571, loss_rpn_cls: 0.0456, loss_rpn_bbox: 0.0109, loss_cls: 0.1414, acc: 99.1953, loss_bbox: 0.2006, loss: 0.3985\n",
      "2022-05-26 12:28:29,646 - mmfewshot - INFO - Iter [14950/100000]\tlr: 1.000e-04, eta: 7:03:48, time: 0.270, data_time: 0.013, memory: 4571, loss_rpn_cls: 0.0235, loss_rpn_bbox: 0.0063, loss_cls: 0.0939, acc: 99.3750, loss_bbox: 0.2382, loss: 0.3619\n",
      "2022-05-26 12:28:42,969 - mmfewshot - INFO - Exp name: attention-rpn_r50_c4_tb-split2_1shot-fine-tuning-momentum-09.py\n",
      "2022-05-26 12:28:42,971 - mmfewshot - INFO - Iter [15000/100000]\tlr: 1.000e-04, eta: 7:03:24, time: 0.266, data_time: 0.012, memory: 4571, loss_rpn_cls: 0.0235, loss_rpn_bbox: 0.0062, loss_cls: 0.1171, acc: 99.2578, loss_bbox: 0.1818, loss: 0.3287\n",
      "2022-05-26 12:28:42,975 - mmdet - INFO - starting model initialization...\n"
     ]
    },
    {
     "name": "stdout",
     "output_type": "stream",
     "text": [
      "[>>>>>>>>>>>>>>>>>>>>>>>>>>>>>] 850/850, 74.3 task/s, elapsed: 11s, ETA:     0s"
     ]
    },
    {
     "name": "stderr",
     "output_type": "stream",
     "text": [
      "2022-05-26 12:28:54,483 - mmdet - INFO - model initialization done.\n"
     ]
    },
    {
     "name": "stdout",
     "output_type": "stream",
     "text": [
      "[>>>>>>>>>>>>>>>>>>>>>>>>>>>>>] 300/300, 12.7 task/s, elapsed: 24s, ETA:     0s\n",
      "---------------iou_thr: 0.5---------------\n"
     ]
    },
    {
     "name": "stderr",
     "output_type": "stream",
     "text": [
      "2022-05-26 12:29:18,355 - mmfewshot - INFO - \n",
      "+---------+-----+------+--------+-------+\n",
      "| class   | gts | dets | recall | ap    |\n",
      "+---------+-----+------+--------+-------+\n",
      "| fanta   | 291 | 2376 | 0.835  | 0.571 |\n",
      "| Mirinda | 111 | 1053 | 0.739  | 0.455 |\n",
      "+---------+-----+------+--------+-------+\n",
      "| mAP     |     |      |        | 0.513 |\n",
      "+---------+-----+------+--------+-------+\n",
      "2022-05-26 12:29:18,357 - mmfewshot - INFO - BASE_CLASSES_SPLIT2 mAP: 0.5129260420799255\n",
      "2022-05-26 12:29:18,358 - mmfewshot - INFO - NOVEL_CLASSES_SPLIT2 mAP: nan\n",
      "2022-05-26 12:29:18,361 - mmfewshot - INFO - Exp name: attention-rpn_r50_c4_tb-split2_1shot-fine-tuning-momentum-09.py\n",
      "2022-05-26 12:29:18,362 - mmfewshot - INFO - Iter(val) [300]\tAP50: 0.5130, BASE_CLASSES_SPLIT2: AP50: 0.5130, NOVEL_CLASSES_SPLIT2: AP50: nan, mAP: 0.5129\n",
      "2022-05-26 12:29:31,650 - mmfewshot - INFO - Iter [15050/100000]\tlr: 1.000e-04, eta: 7:06:20, time: 0.973, data_time: 0.720, memory: 4571, loss_rpn_cls: 0.0203, loss_rpn_bbox: 0.0048, loss_cls: 0.0791, acc: 99.4375, loss_bbox: 0.1902, loss: 0.2944\n",
      "2022-05-26 12:29:44,932 - mmfewshot - INFO - Iter [15100/100000]\tlr: 1.000e-04, eta: 7:05:55, time: 0.266, data_time: 0.012, memory: 4571, loss_rpn_cls: 0.0247, loss_rpn_bbox: 0.0067, loss_cls: 0.0829, acc: 99.4297, loss_bbox: 0.2145, loss: 0.3289\n",
      "2022-05-26 12:29:58,319 - mmfewshot - INFO - Iter [15150/100000]\tlr: 1.000e-04, eta: 7:05:30, time: 0.268, data_time: 0.012, memory: 4571, loss_rpn_cls: 0.0229, loss_rpn_bbox: 0.0047, loss_cls: 0.1048, acc: 99.3125, loss_bbox: 0.1916, loss: 0.3240\n",
      "2022-05-26 12:30:11,629 - mmfewshot - INFO - Iter [15200/100000]\tlr: 1.000e-04, eta: 7:05:06, time: 0.266, data_time: 0.013, memory: 4571, loss_rpn_cls: 0.0247, loss_rpn_bbox: 0.0062, loss_cls: 0.0804, acc: 99.3594, loss_bbox: 0.2232, loss: 0.3344\n",
      "2022-05-26 12:30:25,028 - mmfewshot - INFO - Iter [15250/100000]\tlr: 1.000e-04, eta: 7:04:41, time: 0.268, data_time: 0.012, memory: 4571, loss_rpn_cls: 0.0278, loss_rpn_bbox: 0.0081, loss_cls: 0.0642, acc: 99.3516, loss_bbox: 0.2545, loss: 0.3546\n",
      "2022-05-26 12:30:38,270 - mmfewshot - INFO - Iter [15300/100000]\tlr: 1.000e-04, eta: 7:04:16, time: 0.265, data_time: 0.011, memory: 4571, loss_rpn_cls: 0.0221, loss_rpn_bbox: 0.0060, loss_cls: 0.0649, acc: 99.4609, loss_bbox: 0.2328, loss: 0.3259\n",
      "2022-05-26 12:30:51,534 - mmfewshot - INFO - Iter [15350/100000]\tlr: 1.000e-04, eta: 7:03:52, time: 0.265, data_time: 0.011, memory: 4571, loss_rpn_cls: 0.0233, loss_rpn_bbox: 0.0063, loss_cls: 0.0915, acc: 99.4375, loss_bbox: 0.1881, loss: 0.3091\n",
      "2022-05-26 12:31:04,935 - mmfewshot - INFO - Iter [15400/100000]\tlr: 1.000e-04, eta: 7:03:28, time: 0.268, data_time: 0.013, memory: 4571, loss_rpn_cls: 0.0302, loss_rpn_bbox: 0.0087, loss_cls: 0.0834, acc: 99.2344, loss_bbox: 0.2725, loss: 0.3948\n",
      "2022-05-26 12:31:18,315 - mmfewshot - INFO - Iter [15450/100000]\tlr: 1.000e-04, eta: 7:03:04, time: 0.267, data_time: 0.012, memory: 4571, loss_rpn_cls: 0.0204, loss_rpn_bbox: 0.0057, loss_cls: 0.0962, acc: 99.4766, loss_bbox: 0.1677, loss: 0.2900\n",
      "2022-05-26 12:31:31,480 - mmfewshot - INFO - Iter [15500/100000]\tlr: 1.000e-04, eta: 7:02:39, time: 0.263, data_time: 0.010, memory: 4571, loss_rpn_cls: 0.0298, loss_rpn_bbox: 0.0097, loss_cls: 0.0876, acc: 99.3594, loss_bbox: 0.2041, loss: 0.3312\n",
      "2022-05-26 12:31:44,852 - mmfewshot - INFO - Iter [15550/100000]\tlr: 1.000e-04, eta: 7:02:15, time: 0.267, data_time: 0.013, memory: 4571, loss_rpn_cls: 0.0164, loss_rpn_bbox: 0.0048, loss_cls: 0.0988, acc: 99.4297, loss_bbox: 0.1831, loss: 0.3032\n",
      "2022-05-26 12:31:58,155 - mmfewshot - INFO - Iter [15600/100000]\tlr: 1.000e-04, eta: 7:01:51, time: 0.266, data_time: 0.012, memory: 4571, loss_rpn_cls: 0.0193, loss_rpn_bbox: 0.0055, loss_cls: 0.0863, acc: 99.4453, loss_bbox: 0.2033, loss: 0.3144\n",
      "2022-05-26 12:32:11,461 - mmfewshot - INFO - Iter [15650/100000]\tlr: 1.000e-04, eta: 7:01:26, time: 0.266, data_time: 0.012, memory: 4571, loss_rpn_cls: 0.0198, loss_rpn_bbox: 0.0063, loss_cls: 0.0925, acc: 99.2656, loss_bbox: 0.2293, loss: 0.3479\n",
      "2022-05-26 12:32:24,955 - mmfewshot - INFO - Iter [15700/100000]\tlr: 1.000e-04, eta: 7:01:03, time: 0.270, data_time: 0.013, memory: 4571, loss_rpn_cls: 0.0290, loss_rpn_bbox: 0.0085, loss_cls: 0.0898, acc: 99.3750, loss_bbox: 0.2036, loss: 0.3308\n",
      "2022-05-26 12:32:38,343 - mmfewshot - INFO - Iter [15750/100000]\tlr: 1.000e-04, eta: 7:00:40, time: 0.268, data_time: 0.013, memory: 4571, loss_rpn_cls: 0.0264, loss_rpn_bbox: 0.0072, loss_cls: 0.1002, acc: 99.1953, loss_bbox: 0.2195, loss: 0.3532\n",
      "2022-05-26 12:32:51,742 - mmfewshot - INFO - Iter [15800/100000]\tlr: 1.000e-04, eta: 7:00:17, time: 0.268, data_time: 0.013, memory: 4571, loss_rpn_cls: 0.0243, loss_rpn_bbox: 0.0068, loss_cls: 0.0843, acc: 99.4219, loss_bbox: 0.1848, loss: 0.3002\n",
      "2022-05-26 12:33:05,119 - mmfewshot - INFO - Iter [15850/100000]\tlr: 1.000e-04, eta: 6:59:53, time: 0.268, data_time: 0.012, memory: 4571, loss_rpn_cls: 0.0435, loss_rpn_bbox: 0.0123, loss_cls: 0.1080, acc: 99.2266, loss_bbox: 0.1858, loss: 0.3496\n",
      "2022-05-26 12:33:18,544 - mmfewshot - INFO - Iter [15900/100000]\tlr: 1.000e-04, eta: 6:59:30, time: 0.268, data_time: 0.013, memory: 4571, loss_rpn_cls: 0.0285, loss_rpn_bbox: 0.0076, loss_cls: 0.1096, acc: 99.3203, loss_bbox: 0.1921, loss: 0.3378\n",
      "2022-05-26 12:33:31,988 - mmfewshot - INFO - Iter [15950/100000]\tlr: 1.000e-04, eta: 6:59:07, time: 0.269, data_time: 0.013, memory: 4571, loss_rpn_cls: 0.0340, loss_rpn_bbox: 0.0108, loss_cls: 0.0775, acc: 99.3906, loss_bbox: 0.2380, loss: 0.3604\n",
      "2022-05-26 12:33:45,443 - mmfewshot - INFO - Exp name: attention-rpn_r50_c4_tb-split2_1shot-fine-tuning-momentum-09.py\n",
      "2022-05-26 12:33:45,445 - mmfewshot - INFO - Iter [16000/100000]\tlr: 1.000e-04, eta: 6:58:44, time: 0.269, data_time: 0.013, memory: 4571, loss_rpn_cls: 0.0188, loss_rpn_bbox: 0.0041, loss_cls: 0.0837, acc: 99.5234, loss_bbox: 0.1853, loss: 0.2919\n",
      "2022-05-26 12:33:45,450 - mmdet - INFO - starting model initialization...\n"
     ]
    },
    {
     "name": "stdout",
     "output_type": "stream",
     "text": [
      "[>>>>>>>>>>>>>>>>>>>>>>>>>>>>>] 850/850, 78.6 task/s, elapsed: 11s, ETA:     0s"
     ]
    },
    {
     "name": "stderr",
     "output_type": "stream",
     "text": [
      "2022-05-26 12:33:56,324 - mmdet - INFO - model initialization done.\n"
     ]
    },
    {
     "name": "stdout",
     "output_type": "stream",
     "text": [
      "[>>>>>>>>>>>>>>>>>>>>>>>>>>>>>] 300/300, 12.7 task/s, elapsed: 24s, ETA:     0s\n",
      "---------------iou_thr: 0.5---------------\n"
     ]
    },
    {
     "name": "stderr",
     "output_type": "stream",
     "text": [
      "2022-05-26 12:34:20,276 - mmfewshot - INFO - \n",
      "+---------+-----+------+--------+-------+\n",
      "| class   | gts | dets | recall | ap    |\n",
      "+---------+-----+------+--------+-------+\n",
      "| fanta   | 291 | 2020 | 0.797  | 0.532 |\n",
      "| Mirinda | 111 | 1151 | 0.757  | 0.490 |\n",
      "+---------+-----+------+--------+-------+\n",
      "| mAP     |     |      |        | 0.511 |\n",
      "+---------+-----+------+--------+-------+\n",
      "2022-05-26 12:34:20,279 - mmfewshot - INFO - BASE_CLASSES_SPLIT2 mAP: 0.5112203359603882\n",
      "2022-05-26 12:34:20,280 - mmfewshot - INFO - NOVEL_CLASSES_SPLIT2 mAP: nan\n",
      "2022-05-26 12:34:20,283 - mmfewshot - INFO - Exp name: attention-rpn_r50_c4_tb-split2_1shot-fine-tuning-momentum-09.py\n",
      "2022-05-26 12:34:20,284 - mmfewshot - INFO - Iter(val) [300]\tAP50: 0.5110, BASE_CLASSES_SPLIT2: AP50: 0.5110, NOVEL_CLASSES_SPLIT2: AP50: nan, mAP: 0.5112\n",
      "2022-05-26 12:34:33,507 - mmfewshot - INFO - Iter [16050/100000]\tlr: 1.000e-04, eta: 7:01:22, time: 0.961, data_time: 0.709, memory: 4571, loss_rpn_cls: 0.0171, loss_rpn_bbox: 0.0045, loss_cls: 0.1018, acc: 99.4922, loss_bbox: 0.1932, loss: 0.3165\n",
      "2022-05-26 12:34:46,702 - mmfewshot - INFO - Iter [16100/100000]\tlr: 1.000e-04, eta: 7:00:58, time: 0.264, data_time: 0.012, memory: 4571, loss_rpn_cls: 0.0197, loss_rpn_bbox: 0.0054, loss_cls: 0.0561, acc: 99.5625, loss_bbox: 0.2356, loss: 0.3168\n",
      "2022-05-26 12:35:00,065 - mmfewshot - INFO - Iter [16150/100000]\tlr: 1.000e-04, eta: 7:00:34, time: 0.267, data_time: 0.012, memory: 4571, loss_rpn_cls: 0.0232, loss_rpn_bbox: 0.0057, loss_cls: 0.0764, acc: 99.4141, loss_bbox: 0.2270, loss: 0.3323\n",
      "2022-05-26 12:35:13,425 - mmfewshot - INFO - Iter [16200/100000]\tlr: 1.000e-04, eta: 7:00:10, time: 0.267, data_time: 0.012, memory: 4571, loss_rpn_cls: 0.0178, loss_rpn_bbox: 0.0055, loss_cls: 0.1000, acc: 99.2969, loss_bbox: 0.2109, loss: 0.3343\n",
      "2022-05-26 12:35:26,889 - mmfewshot - INFO - Iter [16250/100000]\tlr: 1.000e-04, eta: 6:59:47, time: 0.269, data_time: 0.013, memory: 4571, loss_rpn_cls: 0.0214, loss_rpn_bbox: 0.0057, loss_cls: 0.0680, acc: 99.3828, loss_bbox: 0.2400, loss: 0.3350\n",
      "2022-05-26 12:35:40,240 - mmfewshot - INFO - Iter [16300/100000]\tlr: 1.000e-04, eta: 6:59:23, time: 0.267, data_time: 0.012, memory: 4571, loss_rpn_cls: 0.0307, loss_rpn_bbox: 0.0074, loss_cls: 0.0699, acc: 99.4688, loss_bbox: 0.2079, loss: 0.3158\n",
      "2022-05-26 12:35:53,530 - mmfewshot - INFO - Iter [16350/100000]\tlr: 1.000e-04, eta: 6:58:59, time: 0.266, data_time: 0.012, memory: 4571, loss_rpn_cls: 0.0395, loss_rpn_bbox: 0.0110, loss_cls: 0.0707, acc: 99.4766, loss_bbox: 0.2229, loss: 0.3441\n",
      "2022-05-26 12:36:06,912 - mmfewshot - INFO - Iter [16400/100000]\tlr: 1.000e-04, eta: 6:58:36, time: 0.268, data_time: 0.013, memory: 4571, loss_rpn_cls: 0.0262, loss_rpn_bbox: 0.0072, loss_cls: 0.0782, acc: 99.3438, loss_bbox: 0.2304, loss: 0.3419\n",
      "2022-05-26 12:36:20,287 - mmfewshot - INFO - Iter [16450/100000]\tlr: 1.000e-04, eta: 6:58:12, time: 0.267, data_time: 0.012, memory: 4571, loss_rpn_cls: 0.0304, loss_rpn_bbox: 0.0074, loss_cls: 0.0776, acc: 99.3672, loss_bbox: 0.2172, loss: 0.3325\n",
      "2022-05-26 12:36:33,627 - mmfewshot - INFO - Iter [16500/100000]\tlr: 1.000e-04, eta: 6:57:49, time: 0.267, data_time: 0.012, memory: 4571, loss_rpn_cls: 0.0196, loss_rpn_bbox: 0.0049, loss_cls: 0.0762, acc: 99.4062, loss_bbox: 0.2199, loss: 0.3206\n",
      "2022-05-26 12:36:46,995 - mmfewshot - INFO - Iter [16550/100000]\tlr: 1.000e-04, eta: 6:57:25, time: 0.267, data_time: 0.013, memory: 4571, loss_rpn_cls: 0.0240, loss_rpn_bbox: 0.0066, loss_cls: 0.0799, acc: 99.4453, loss_bbox: 0.2217, loss: 0.3322\n",
      "2022-05-26 12:37:00,328 - mmfewshot - INFO - Iter [16600/100000]\tlr: 1.000e-04, eta: 6:57:02, time: 0.267, data_time: 0.012, memory: 4571, loss_rpn_cls: 0.0188, loss_rpn_bbox: 0.0055, loss_cls: 0.0628, acc: 99.5312, loss_bbox: 0.1905, loss: 0.2777\n",
      "2022-05-26 12:37:13,621 - mmfewshot - INFO - Iter [16650/100000]\tlr: 1.000e-04, eta: 6:56:39, time: 0.266, data_time: 0.013, memory: 4571, loss_rpn_cls: 0.0217, loss_rpn_bbox: 0.0051, loss_cls: 0.0862, acc: 99.3438, loss_bbox: 0.2118, loss: 0.3248\n",
      "2022-05-26 12:37:26,916 - mmfewshot - INFO - Iter [16700/100000]\tlr: 1.000e-04, eta: 6:56:15, time: 0.266, data_time: 0.012, memory: 4571, loss_rpn_cls: 0.0272, loss_rpn_bbox: 0.0070, loss_cls: 0.0762, acc: 99.3281, loss_bbox: 0.2372, loss: 0.3476\n",
      "2022-05-26 12:37:40,325 - mmfewshot - INFO - Iter [16750/100000]\tlr: 1.000e-04, eta: 6:55:52, time: 0.268, data_time: 0.013, memory: 4571, loss_rpn_cls: 0.0257, loss_rpn_bbox: 0.0067, loss_cls: 0.1111, acc: 99.3125, loss_bbox: 0.1950, loss: 0.3385\n",
      "2022-05-26 12:37:53,677 - mmfewshot - INFO - Iter [16800/100000]\tlr: 1.000e-04, eta: 6:55:29, time: 0.267, data_time: 0.013, memory: 4571, loss_rpn_cls: 0.0277, loss_rpn_bbox: 0.0081, loss_cls: 0.0795, acc: 99.4609, loss_bbox: 0.1953, loss: 0.3106\n",
      "2022-05-26 12:38:06,988 - mmfewshot - INFO - Iter [16850/100000]\tlr: 1.000e-04, eta: 6:55:06, time: 0.266, data_time: 0.012, memory: 4571, loss_rpn_cls: 0.0242, loss_rpn_bbox: 0.0063, loss_cls: 0.0812, acc: 99.2188, loss_bbox: 0.2292, loss: 0.3408\n",
      "2022-05-26 12:38:20,206 - mmfewshot - INFO - Iter [16900/100000]\tlr: 1.000e-04, eta: 6:54:42, time: 0.265, data_time: 0.011, memory: 4571, loss_rpn_cls: 0.0161, loss_rpn_bbox: 0.0054, loss_cls: 0.0797, acc: 99.3750, loss_bbox: 0.2522, loss: 0.3534\n",
      "2022-05-26 12:38:33,419 - mmfewshot - INFO - Iter [16950/100000]\tlr: 1.000e-04, eta: 6:54:19, time: 0.264, data_time: 0.010, memory: 4571, loss_rpn_cls: 0.0286, loss_rpn_bbox: 0.0103, loss_cls: 0.0992, acc: 99.1719, loss_bbox: 0.2325, loss: 0.3706\n",
      "2022-05-26 12:38:46,741 - mmfewshot - INFO - Exp name: attention-rpn_r50_c4_tb-split2_1shot-fine-tuning-momentum-09.py\n",
      "2022-05-26 12:38:46,743 - mmfewshot - INFO - Iter [17000/100000]\tlr: 1.000e-04, eta: 6:53:56, time: 0.267, data_time: 0.012, memory: 4571, loss_rpn_cls: 0.0212, loss_rpn_bbox: 0.0061, loss_cls: 0.0969, acc: 99.4219, loss_bbox: 0.1801, loss: 0.3043\n",
      "2022-05-26 12:38:46,748 - mmdet - INFO - starting model initialization...\n"
     ]
    },
    {
     "name": "stdout",
     "output_type": "stream",
     "text": [
      "[>>>>>>>>>>>>>>>>>>>>>>>>>>>>>] 850/850, 74.2 task/s, elapsed: 11s, ETA:     0s"
     ]
    },
    {
     "name": "stderr",
     "output_type": "stream",
     "text": [
      "2022-05-26 12:38:58,283 - mmdet - INFO - model initialization done.\n"
     ]
    },
    {
     "name": "stdout",
     "output_type": "stream",
     "text": [
      "[>>>>>>>>>>>>>>>>>>>>>>>>>>>>>] 300/300, 12.8 task/s, elapsed: 23s, ETA:     0s\n",
      "---------------iou_thr: 0.5---------------\n"
     ]
    },
    {
     "name": "stderr",
     "output_type": "stream",
     "text": [
      "2022-05-26 12:39:22,029 - mmfewshot - INFO - \n",
      "+---------+-----+------+--------+-------+\n",
      "| class   | gts | dets | recall | ap    |\n",
      "+---------+-----+------+--------+-------+\n",
      "| fanta   | 291 | 1342 | 0.787  | 0.573 |\n",
      "| Mirinda | 111 | 350  | 0.667  | 0.477 |\n",
      "+---------+-----+------+--------+-------+\n",
      "| mAP     |     |      |        | 0.525 |\n",
      "+---------+-----+------+--------+-------+\n",
      "2022-05-26 12:39:22,032 - mmfewshot - INFO - BASE_CLASSES_SPLIT2 mAP: 0.5253025889396667\n",
      "2022-05-26 12:39:22,033 - mmfewshot - INFO - NOVEL_CLASSES_SPLIT2 mAP: nan\n",
      "2022-05-26 12:39:22,037 - mmfewshot - INFO - Exp name: attention-rpn_r50_c4_tb-split2_1shot-fine-tuning-momentum-09.py\n",
      "2022-05-26 12:39:22,039 - mmfewshot - INFO - Iter(val) [300]\tAP50: 0.5250, BASE_CLASSES_SPLIT2: AP50: 0.5250, NOVEL_CLASSES_SPLIT2: AP50: nan, mAP: 0.5253\n",
      "2022-05-26 12:39:35,479 - mmfewshot - INFO - Iter [17050/100000]\tlr: 1.000e-04, eta: 6:56:25, time: 0.975, data_time: 0.719, memory: 4571, loss_rpn_cls: 0.0351, loss_rpn_bbox: 0.0090, loss_cls: 0.0913, acc: 99.1250, loss_bbox: 0.2447, loss: 0.3801\n",
      "2022-05-26 12:39:48,767 - mmfewshot - INFO - Iter [17100/100000]\tlr: 1.000e-04, eta: 6:56:01, time: 0.265, data_time: 0.011, memory: 4571, loss_rpn_cls: 0.0195, loss_rpn_bbox: 0.0059, loss_cls: 0.0856, acc: 99.4766, loss_bbox: 0.2086, loss: 0.3196\n",
      "2022-05-26 12:40:02,179 - mmfewshot - INFO - Iter [17150/100000]\tlr: 1.000e-04, eta: 6:55:38, time: 0.268, data_time: 0.012, memory: 4571, loss_rpn_cls: 0.0272, loss_rpn_bbox: 0.0073, loss_cls: 0.0883, acc: 99.4844, loss_bbox: 0.1868, loss: 0.3095\n",
      "2022-05-26 12:40:15,638 - mmfewshot - INFO - Iter [17200/100000]\tlr: 1.000e-04, eta: 6:55:16, time: 0.269, data_time: 0.013, memory: 4571, loss_rpn_cls: 0.0162, loss_rpn_bbox: 0.0038, loss_cls: 0.0872, acc: 99.4062, loss_bbox: 0.1834, loss: 0.2906\n",
      "2022-05-26 12:40:28,931 - mmfewshot - INFO - Iter [17250/100000]\tlr: 1.000e-04, eta: 6:54:52, time: 0.266, data_time: 0.013, memory: 4571, loss_rpn_cls: 0.0156, loss_rpn_bbox: 0.0044, loss_cls: 0.0966, acc: 99.2969, loss_bbox: 0.2465, loss: 0.3632\n",
      "2022-05-26 12:40:42,289 - mmfewshot - INFO - Iter [17300/100000]\tlr: 1.000e-04, eta: 6:54:29, time: 0.267, data_time: 0.013, memory: 4571, loss_rpn_cls: 0.0257, loss_rpn_bbox: 0.0063, loss_cls: 0.0864, acc: 99.2188, loss_bbox: 0.2157, loss: 0.3342\n",
      "2022-05-26 12:40:55,699 - mmfewshot - INFO - Iter [17350/100000]\tlr: 1.000e-04, eta: 6:54:06, time: 0.268, data_time: 0.013, memory: 4571, loss_rpn_cls: 0.0186, loss_rpn_bbox: 0.0051, loss_cls: 0.0584, acc: 99.5703, loss_bbox: 0.2149, loss: 0.2971\n",
      "2022-05-26 12:41:09,170 - mmfewshot - INFO - Iter [17400/100000]\tlr: 1.000e-04, eta: 6:53:44, time: 0.269, data_time: 0.013, memory: 4571, loss_rpn_cls: 0.0224, loss_rpn_bbox: 0.0063, loss_cls: 0.0769, acc: 99.4922, loss_bbox: 0.2441, loss: 0.3497\n",
      "2022-05-26 12:41:22,468 - mmfewshot - INFO - Iter [17450/100000]\tlr: 1.000e-04, eta: 6:53:21, time: 0.266, data_time: 0.013, memory: 4571, loss_rpn_cls: 0.0243, loss_rpn_bbox: 0.0076, loss_cls: 0.1147, acc: 99.2969, loss_bbox: 0.2613, loss: 0.4079\n",
      "2022-05-26 12:41:35,822 - mmfewshot - INFO - Iter [17500/100000]\tlr: 1.000e-04, eta: 6:52:58, time: 0.267, data_time: 0.013, memory: 4571, loss_rpn_cls: 0.0227, loss_rpn_bbox: 0.0078, loss_cls: 0.0700, acc: 99.3047, loss_bbox: 0.2445, loss: 0.3449\n",
      "2022-05-26 12:41:49,198 - mmfewshot - INFO - Iter [17550/100000]\tlr: 1.000e-04, eta: 6:52:35, time: 0.267, data_time: 0.013, memory: 4571, loss_rpn_cls: 0.0223, loss_rpn_bbox: 0.0074, loss_cls: 0.0769, acc: 99.2422, loss_bbox: 0.2498, loss: 0.3564\n",
      "2022-05-26 12:42:02,567 - mmfewshot - INFO - Iter [17600/100000]\tlr: 1.000e-04, eta: 6:52:12, time: 0.267, data_time: 0.013, memory: 4571, loss_rpn_cls: 0.0207, loss_rpn_bbox: 0.0062, loss_cls: 0.0671, acc: 99.4453, loss_bbox: 0.2239, loss: 0.3179\n",
      "2022-05-26 12:42:15,797 - mmfewshot - INFO - Iter [17650/100000]\tlr: 1.000e-04, eta: 6:51:49, time: 0.264, data_time: 0.010, memory: 4571, loss_rpn_cls: 0.0193, loss_rpn_bbox: 0.0057, loss_cls: 0.0807, acc: 99.3906, loss_bbox: 0.2095, loss: 0.3152\n",
      "2022-05-26 12:42:29,212 - mmfewshot - INFO - Iter [17700/100000]\tlr: 1.000e-04, eta: 6:51:27, time: 0.269, data_time: 0.012, memory: 4571, loss_rpn_cls: 0.0437, loss_rpn_bbox: 0.0121, loss_cls: 0.0795, acc: 99.2812, loss_bbox: 0.2417, loss: 0.3770\n",
      "2022-05-26 12:42:42,544 - mmfewshot - INFO - Iter [17750/100000]\tlr: 1.000e-04, eta: 6:51:04, time: 0.267, data_time: 0.012, memory: 4571, loss_rpn_cls: 0.0213, loss_rpn_bbox: 0.0059, loss_cls: 0.1102, acc: 99.3203, loss_bbox: 0.2100, loss: 0.3474\n",
      "2022-05-26 12:42:55,866 - mmfewshot - INFO - Iter [17800/100000]\tlr: 1.000e-04, eta: 6:50:41, time: 0.266, data_time: 0.013, memory: 4571, loss_rpn_cls: 0.0203, loss_rpn_bbox: 0.0056, loss_cls: 0.0661, acc: 99.4062, loss_bbox: 0.2258, loss: 0.3177\n",
      "2022-05-26 12:43:09,262 - mmfewshot - INFO - Iter [17850/100000]\tlr: 1.000e-04, eta: 6:50:19, time: 0.268, data_time: 0.013, memory: 4571, loss_rpn_cls: 0.0364, loss_rpn_bbox: 0.0107, loss_cls: 0.0880, acc: 99.2344, loss_bbox: 0.2534, loss: 0.3885\n",
      "2022-05-26 12:43:22,488 - mmfewshot - INFO - Iter [17900/100000]\tlr: 1.000e-04, eta: 6:49:56, time: 0.264, data_time: 0.012, memory: 4571, loss_rpn_cls: 0.0199, loss_rpn_bbox: 0.0055, loss_cls: 0.0791, acc: 99.2891, loss_bbox: 0.2313, loss: 0.3358\n",
      "2022-05-26 12:43:35,903 - mmfewshot - INFO - Iter [17950/100000]\tlr: 1.000e-04, eta: 6:49:34, time: 0.268, data_time: 0.012, memory: 4571, loss_rpn_cls: 0.0316, loss_rpn_bbox: 0.0083, loss_cls: 0.0785, acc: 99.3438, loss_bbox: 0.2383, loss: 0.3567\n",
      "2022-05-26 12:43:49,309 - mmfewshot - INFO - Exp name: attention-rpn_r50_c4_tb-split2_1shot-fine-tuning-momentum-09.py\n",
      "2022-05-26 12:43:49,311 - mmfewshot - INFO - Iter [18000/100000]\tlr: 1.000e-04, eta: 6:49:12, time: 0.268, data_time: 0.013, memory: 4571, loss_rpn_cls: 0.0250, loss_rpn_bbox: 0.0068, loss_cls: 0.1089, acc: 99.4062, loss_bbox: 0.2318, loss: 0.3724\n",
      "2022-05-26 12:43:49,318 - mmdet - INFO - starting model initialization...\n"
     ]
    },
    {
     "name": "stdout",
     "output_type": "stream",
     "text": [
      "[>>>>>>>>>>>>>>>>>>>>>>>>>>>>>] 850/850, 76.0 task/s, elapsed: 11s, ETA:     0s"
     ]
    },
    {
     "name": "stderr",
     "output_type": "stream",
     "text": [
      "2022-05-26 12:44:00,587 - mmdet - INFO - model initialization done.\n"
     ]
    },
    {
     "name": "stdout",
     "output_type": "stream",
     "text": [
      "[>>>>>>>>>>>>>>>>>>>>>>>>>>>>>] 300/300, 12.7 task/s, elapsed: 24s, ETA:     0s\n",
      "---------------iou_thr: 0.5---------------\n"
     ]
    },
    {
     "name": "stderr",
     "output_type": "stream",
     "text": [
      "2022-05-26 12:44:24,603 - mmfewshot - INFO - \n",
      "+---------+-----+------+--------+-------+\n",
      "| class   | gts | dets | recall | ap    |\n",
      "+---------+-----+------+--------+-------+\n",
      "| fanta   | 291 | 1985 | 0.797  | 0.513 |\n",
      "| Mirinda | 111 | 1261 | 0.739  | 0.479 |\n",
      "+---------+-----+------+--------+-------+\n",
      "| mAP     |     |      |        | 0.496 |\n",
      "+---------+-----+------+--------+-------+\n",
      "2022-05-26 12:44:24,606 - mmfewshot - INFO - BASE_CLASSES_SPLIT2 mAP: 0.4962104558944702\n",
      "2022-05-26 12:44:24,607 - mmfewshot - INFO - NOVEL_CLASSES_SPLIT2 mAP: nan\n",
      "2022-05-26 12:44:24,611 - mmfewshot - INFO - Exp name: attention-rpn_r50_c4_tb-split2_1shot-fine-tuning-momentum-09.py\n",
      "2022-05-26 12:44:24,612 - mmfewshot - INFO - Iter(val) [300]\tAP50: 0.4960, BASE_CLASSES_SPLIT2: AP50: 0.4960, NOVEL_CLASSES_SPLIT2: AP50: nan, mAP: 0.4962\n",
      "2022-05-26 12:44:38,117 - mmfewshot - INFO - Iter [18050/100000]\tlr: 1.000e-04, eta: 6:51:30, time: 0.976, data_time: 0.719, memory: 4571, loss_rpn_cls: 0.0226, loss_rpn_bbox: 0.0074, loss_cls: 0.0788, acc: 99.3516, loss_bbox: 0.2353, loss: 0.3441\n",
      "2022-05-26 12:44:51,406 - mmfewshot - INFO - Iter [18100/100000]\tlr: 1.000e-04, eta: 6:51:07, time: 0.266, data_time: 0.011, memory: 4571, loss_rpn_cls: 0.0265, loss_rpn_bbox: 0.0083, loss_cls: 0.0713, acc: 99.4609, loss_bbox: 0.2187, loss: 0.3248\n",
      "2022-05-26 12:45:04,683 - mmfewshot - INFO - Iter [18150/100000]\tlr: 1.000e-04, eta: 6:50:44, time: 0.266, data_time: 0.012, memory: 4571, loss_rpn_cls: 0.0308, loss_rpn_bbox: 0.0105, loss_cls: 0.0763, acc: 99.3438, loss_bbox: 0.2508, loss: 0.3684\n",
      "2022-05-26 12:45:17,937 - mmfewshot - INFO - Iter [18200/100000]\tlr: 1.000e-04, eta: 6:50:21, time: 0.265, data_time: 0.012, memory: 4571, loss_rpn_cls: 0.0198, loss_rpn_bbox: 0.0049, loss_cls: 0.0783, acc: 99.3672, loss_bbox: 0.2420, loss: 0.3449\n",
      "2022-05-26 12:45:31,245 - mmfewshot - INFO - Iter [18250/100000]\tlr: 1.000e-04, eta: 6:49:58, time: 0.266, data_time: 0.012, memory: 4571, loss_rpn_cls: 0.0170, loss_rpn_bbox: 0.0040, loss_cls: 0.0750, acc: 99.3672, loss_bbox: 0.2251, loss: 0.3210\n",
      "2022-05-26 12:45:44,559 - mmfewshot - INFO - Iter [18300/100000]\tlr: 1.000e-04, eta: 6:49:35, time: 0.266, data_time: 0.012, memory: 4571, loss_rpn_cls: 0.0150, loss_rpn_bbox: 0.0052, loss_cls: 0.0981, acc: 99.3281, loss_bbox: 0.2097, loss: 0.3280\n",
      "2022-05-26 12:45:57,927 - mmfewshot - INFO - Iter [18350/100000]\tlr: 1.000e-04, eta: 6:49:13, time: 0.268, data_time: 0.012, memory: 4571, loss_rpn_cls: 0.0324, loss_rpn_bbox: 0.0102, loss_cls: 0.1165, acc: 99.0156, loss_bbox: 0.2409, loss: 0.3999\n",
      "2022-05-26 12:46:11,357 - mmfewshot - INFO - Iter [18400/100000]\tlr: 1.000e-04, eta: 6:48:51, time: 0.269, data_time: 0.013, memory: 4571, loss_rpn_cls: 0.0283, loss_rpn_bbox: 0.0078, loss_cls: 0.0845, acc: 99.3828, loss_bbox: 0.2067, loss: 0.3273\n",
      "2022-05-26 12:46:24,632 - mmfewshot - INFO - Iter [18450/100000]\tlr: 1.000e-04, eta: 6:48:28, time: 0.265, data_time: 0.012, memory: 4571, loss_rpn_cls: 0.0129, loss_rpn_bbox: 0.0039, loss_cls: 0.0857, acc: 99.2891, loss_bbox: 0.2125, loss: 0.3150\n",
      "2022-05-26 12:46:38,012 - mmfewshot - INFO - Iter [18500/100000]\tlr: 1.000e-04, eta: 6:48:06, time: 0.268, data_time: 0.013, memory: 4571, loss_rpn_cls: 0.0318, loss_rpn_bbox: 0.0087, loss_cls: 0.0942, acc: 99.1406, loss_bbox: 0.2518, loss: 0.3865\n",
      "2022-05-26 12:46:51,424 - mmfewshot - INFO - Iter [18550/100000]\tlr: 1.000e-04, eta: 6:47:43, time: 0.268, data_time: 0.013, memory: 4571, loss_rpn_cls: 0.0218, loss_rpn_bbox: 0.0059, loss_cls: 0.0759, acc: 99.5469, loss_bbox: 0.1855, loss: 0.2891\n",
      "2022-05-26 12:47:04,750 - mmfewshot - INFO - Iter [18600/100000]\tlr: 1.000e-04, eta: 6:47:21, time: 0.266, data_time: 0.012, memory: 4571, loss_rpn_cls: 0.0169, loss_rpn_bbox: 0.0053, loss_cls: 0.0774, acc: 99.3984, loss_bbox: 0.2155, loss: 0.3151\n",
      "2022-05-26 12:47:17,987 - mmfewshot - INFO - Iter [18650/100000]\tlr: 1.000e-04, eta: 6:46:58, time: 0.265, data_time: 0.011, memory: 4571, loss_rpn_cls: 0.0288, loss_rpn_bbox: 0.0078, loss_cls: 0.0721, acc: 99.2188, loss_bbox: 0.2306, loss: 0.3393\n",
      "2022-05-26 12:47:31,372 - mmfewshot - INFO - Iter [18700/100000]\tlr: 1.000e-04, eta: 6:46:36, time: 0.268, data_time: 0.013, memory: 4571, loss_rpn_cls: 0.0221, loss_rpn_bbox: 0.0063, loss_cls: 0.0875, acc: 99.3047, loss_bbox: 0.2183, loss: 0.3343\n",
      "2022-05-26 12:47:44,742 - mmfewshot - INFO - Iter [18750/100000]\tlr: 1.000e-04, eta: 6:46:14, time: 0.268, data_time: 0.012, memory: 4571, loss_rpn_cls: 0.0246, loss_rpn_bbox: 0.0064, loss_cls: 0.0773, acc: 99.3516, loss_bbox: 0.2488, loss: 0.3571\n",
      "2022-05-26 12:47:58,117 - mmfewshot - INFO - Iter [18800/100000]\tlr: 1.000e-04, eta: 6:45:52, time: 0.267, data_time: 0.012, memory: 4571, loss_rpn_cls: 0.0260, loss_rpn_bbox: 0.0083, loss_cls: 0.0770, acc: 99.4297, loss_bbox: 0.2367, loss: 0.3480\n",
      "2022-05-26 12:48:11,559 - mmfewshot - INFO - Iter [18850/100000]\tlr: 1.000e-04, eta: 6:45:30, time: 0.269, data_time: 0.013, memory: 4571, loss_rpn_cls: 0.0238, loss_rpn_bbox: 0.0070, loss_cls: 0.1050, acc: 99.3281, loss_bbox: 0.2271, loss: 0.3629\n",
      "2022-05-26 12:48:24,915 - mmfewshot - INFO - Iter [18900/100000]\tlr: 1.000e-04, eta: 6:45:08, time: 0.267, data_time: 0.013, memory: 4571, loss_rpn_cls: 0.0219, loss_rpn_bbox: 0.0069, loss_cls: 0.0979, acc: 99.3438, loss_bbox: 0.2295, loss: 0.3562\n",
      "2022-05-26 12:48:38,271 - mmfewshot - INFO - Iter [18950/100000]\tlr: 1.000e-04, eta: 6:44:46, time: 0.267, data_time: 0.012, memory: 4571, loss_rpn_cls: 0.0235, loss_rpn_bbox: 0.0083, loss_cls: 0.0855, acc: 99.2500, loss_bbox: 0.2568, loss: 0.3741\n",
      "2022-05-26 12:48:51,606 - mmfewshot - INFO - Exp name: attention-rpn_r50_c4_tb-split2_1shot-fine-tuning-momentum-09.py\n",
      "2022-05-26 12:48:51,608 - mmfewshot - INFO - Iter [19000/100000]\tlr: 1.000e-04, eta: 6:44:24, time: 0.267, data_time: 0.011, memory: 4571, loss_rpn_cls: 0.0229, loss_rpn_bbox: 0.0064, loss_cls: 0.0625, acc: 99.2891, loss_bbox: 0.2947, loss: 0.3865\n",
      "2022-05-26 12:48:51,614 - mmdet - INFO - starting model initialization...\n"
     ]
    },
    {
     "name": "stdout",
     "output_type": "stream",
     "text": [
      "[>>>>>>>>>>>>>>>>>>>>>>>>>>>>>] 850/850, 79.7 task/s, elapsed: 11s, ETA:     0s"
     ]
    },
    {
     "name": "stderr",
     "output_type": "stream",
     "text": [
      "2022-05-26 12:49:02,350 - mmdet - INFO - model initialization done.\n"
     ]
    },
    {
     "name": "stdout",
     "output_type": "stream",
     "text": [
      "[>>>>>>>>>>>>>>>>>>>>>>>>>>>>>] 300/300, 12.7 task/s, elapsed: 24s, ETA:     0s\n",
      "---------------iou_thr: 0.5---------------\n"
     ]
    },
    {
     "name": "stderr",
     "output_type": "stream",
     "text": [
      "2022-05-26 12:49:26,383 - mmfewshot - INFO - \n",
      "+---------+-----+------+--------+-------+\n",
      "| class   | gts | dets | recall | ap    |\n",
      "+---------+-----+------+--------+-------+\n",
      "| fanta   | 291 | 1730 | 0.811  | 0.589 |\n",
      "| Mirinda | 111 | 751  | 0.676  | 0.473 |\n",
      "+---------+-----+------+--------+-------+\n",
      "| mAP     |     |      |        | 0.531 |\n",
      "+---------+-----+------+--------+-------+\n",
      "2022-05-26 12:49:26,387 - mmfewshot - INFO - BASE_CLASSES_SPLIT2 mAP: 0.5311112999916077\n",
      "2022-05-26 12:49:26,388 - mmfewshot - INFO - NOVEL_CLASSES_SPLIT2 mAP: nan\n",
      "2022-05-26 12:49:26,392 - mmfewshot - INFO - Exp name: attention-rpn_r50_c4_tb-split2_1shot-fine-tuning-momentum-09.py\n",
      "2022-05-26 12:49:26,395 - mmfewshot - INFO - Iter(val) [300]\tAP50: 0.5310, BASE_CLASSES_SPLIT2: AP50: 0.5310, NOVEL_CLASSES_SPLIT2: AP50: nan, mAP: 0.5311\n",
      "2022-05-26 12:49:39,825 - mmfewshot - INFO - Iter [19050/100000]\tlr: 1.000e-04, eta: 6:46:31, time: 0.964, data_time: 0.709, memory: 4571, loss_rpn_cls: 0.0217, loss_rpn_bbox: 0.0065, loss_cls: 0.1034, acc: 99.2891, loss_bbox: 0.2391, loss: 0.3708\n",
      "2022-05-26 12:49:53,087 - mmfewshot - INFO - Iter [19100/100000]\tlr: 1.000e-04, eta: 6:46:08, time: 0.265, data_time: 0.011, memory: 4571, loss_rpn_cls: 0.0209, loss_rpn_bbox: 0.0059, loss_cls: 0.1035, acc: 99.3672, loss_bbox: 0.2238, loss: 0.3541\n",
      "2022-05-26 12:50:06,394 - mmfewshot - INFO - Iter [19150/100000]\tlr: 1.000e-04, eta: 6:45:45, time: 0.266, data_time: 0.012, memory: 4571, loss_rpn_cls: 0.0332, loss_rpn_bbox: 0.0093, loss_cls: 0.0803, acc: 99.3047, loss_bbox: 0.2279, loss: 0.3507\n",
      "2022-05-26 12:50:19,659 - mmfewshot - INFO - Iter [19200/100000]\tlr: 1.000e-04, eta: 6:45:23, time: 0.266, data_time: 0.012, memory: 4571, loss_rpn_cls: 0.0174, loss_rpn_bbox: 0.0050, loss_cls: 0.0897, acc: 99.3047, loss_bbox: 0.1948, loss: 0.3067\n",
      "2022-05-26 12:50:33,033 - mmfewshot - INFO - Iter [19250/100000]\tlr: 1.000e-04, eta: 6:45:01, time: 0.267, data_time: 0.013, memory: 4571, loss_rpn_cls: 0.0220, loss_rpn_bbox: 0.0064, loss_cls: 0.1041, acc: 99.3438, loss_bbox: 0.2106, loss: 0.3430\n",
      "2022-05-26 12:50:46,337 - mmfewshot - INFO - Iter [19300/100000]\tlr: 1.000e-04, eta: 6:44:39, time: 0.266, data_time: 0.011, memory: 4571, loss_rpn_cls: 0.0314, loss_rpn_bbox: 0.0111, loss_cls: 0.0972, acc: 99.3828, loss_bbox: 0.1965, loss: 0.3362\n",
      "2022-05-26 12:50:59,681 - mmfewshot - INFO - Iter [19350/100000]\tlr: 1.000e-04, eta: 6:44:16, time: 0.267, data_time: 0.012, memory: 4571, loss_rpn_cls: 0.0264, loss_rpn_bbox: 0.0075, loss_cls: 0.0809, acc: 99.3672, loss_bbox: 0.2220, loss: 0.3368\n",
      "2022-05-26 12:51:13,041 - mmfewshot - INFO - Iter [19400/100000]\tlr: 1.000e-04, eta: 6:43:54, time: 0.267, data_time: 0.013, memory: 4571, loss_rpn_cls: 0.0251, loss_rpn_bbox: 0.0059, loss_cls: 0.1043, acc: 99.3984, loss_bbox: 0.2067, loss: 0.3421\n",
      "2022-05-26 12:51:26,396 - mmfewshot - INFO - Iter [19450/100000]\tlr: 1.000e-04, eta: 6:43:32, time: 0.267, data_time: 0.012, memory: 4571, loss_rpn_cls: 0.0267, loss_rpn_bbox: 0.0083, loss_cls: 0.0846, acc: 99.3516, loss_bbox: 0.2502, loss: 0.3698\n",
      "2022-05-26 12:51:39,630 - mmfewshot - INFO - Iter [19500/100000]\tlr: 1.000e-04, eta: 6:43:10, time: 0.265, data_time: 0.010, memory: 4571, loss_rpn_cls: 0.0218, loss_rpn_bbox: 0.0076, loss_cls: 0.0663, acc: 99.3125, loss_bbox: 0.2478, loss: 0.3435\n",
      "2022-05-26 12:51:53,007 - mmfewshot - INFO - Iter [19550/100000]\tlr: 1.000e-04, eta: 6:42:48, time: 0.267, data_time: 0.012, memory: 4571, loss_rpn_cls: 0.0271, loss_rpn_bbox: 0.0103, loss_cls: 0.0899, acc: 99.3203, loss_bbox: 0.2568, loss: 0.3841\n",
      "2022-05-26 12:52:06,367 - mmfewshot - INFO - Iter [19600/100000]\tlr: 1.000e-04, eta: 6:42:26, time: 0.267, data_time: 0.012, memory: 4571, loss_rpn_cls: 0.0228, loss_rpn_bbox: 0.0096, loss_cls: 0.0734, acc: 99.3281, loss_bbox: 0.2506, loss: 0.3564\n",
      "2022-05-26 12:52:19,761 - mmfewshot - INFO - Iter [19650/100000]\tlr: 1.000e-04, eta: 6:42:05, time: 0.268, data_time: 0.013, memory: 4571, loss_rpn_cls: 0.0206, loss_rpn_bbox: 0.0058, loss_cls: 0.0719, acc: 99.3516, loss_bbox: 0.2468, loss: 0.3451\n",
      "2022-05-26 12:52:33,172 - mmfewshot - INFO - Iter [19700/100000]\tlr: 1.000e-04, eta: 6:41:43, time: 0.268, data_time: 0.012, memory: 4571, loss_rpn_cls: 0.0199, loss_rpn_bbox: 0.0067, loss_cls: 0.0796, acc: 99.3203, loss_bbox: 0.2334, loss: 0.3395\n",
      "2022-05-26 12:52:46,515 - mmfewshot - INFO - Iter [19750/100000]\tlr: 1.000e-04, eta: 6:41:21, time: 0.267, data_time: 0.012, memory: 4571, loss_rpn_cls: 0.0275, loss_rpn_bbox: 0.0081, loss_cls: 0.0881, acc: 99.5000, loss_bbox: 0.2071, loss: 0.3308\n",
      "2022-05-26 12:52:59,938 - mmfewshot - INFO - Iter [19800/100000]\tlr: 1.000e-04, eta: 6:41:00, time: 0.268, data_time: 0.013, memory: 4571, loss_rpn_cls: 0.0214, loss_rpn_bbox: 0.0066, loss_cls: 0.0835, acc: 99.4531, loss_bbox: 0.1814, loss: 0.2929\n",
      "2022-05-26 12:53:13,437 - mmfewshot - INFO - Iter [19850/100000]\tlr: 1.000e-04, eta: 6:40:39, time: 0.270, data_time: 0.013, memory: 4571, loss_rpn_cls: 0.0182, loss_rpn_bbox: 0.0063, loss_cls: 0.0875, acc: 99.4297, loss_bbox: 0.2249, loss: 0.3369\n",
      "2022-05-26 12:53:26,843 - mmfewshot - INFO - Iter [19900/100000]\tlr: 1.000e-04, eta: 6:40:17, time: 0.268, data_time: 0.012, memory: 4571, loss_rpn_cls: 0.0205, loss_rpn_bbox: 0.0055, loss_cls: 0.0775, acc: 99.4219, loss_bbox: 0.2204, loss: 0.3239\n",
      "2022-05-26 12:53:40,290 - mmfewshot - INFO - Iter [19950/100000]\tlr: 1.000e-04, eta: 6:39:56, time: 0.269, data_time: 0.013, memory: 4571, loss_rpn_cls: 0.0311, loss_rpn_bbox: 0.0072, loss_cls: 0.0957, acc: 99.2109, loss_bbox: 0.1964, loss: 0.3305\n",
      "2022-05-26 12:53:53,557 - mmfewshot - INFO - Saving checkpoint at 20000 iterations\n",
      "2022-05-26 12:53:55,184 - mmfewshot - INFO - Exp name: attention-rpn_r50_c4_tb-split2_1shot-fine-tuning-momentum-09.py\n",
      "2022-05-26 12:53:55,185 - mmfewshot - INFO - Iter [20000/100000]\tlr: 1.000e-04, eta: 6:39:41, time: 0.300, data_time: 0.012, memory: 4571, loss_rpn_cls: 0.0190, loss_rpn_bbox: 0.0054, loss_cls: 0.0891, acc: 99.4844, loss_bbox: 0.2272, loss: 0.3407\n",
      "2022-05-26 12:53:55,189 - mmdet - INFO - starting model initialization...\n"
     ]
    },
    {
     "name": "stdout",
     "output_type": "stream",
     "text": [
      "[>>>>>>>>>>>>>>>>>>>>>>>>>>>>>] 850/850, 75.7 task/s, elapsed: 11s, ETA:     0s"
     ]
    },
    {
     "name": "stderr",
     "output_type": "stream",
     "text": [
      "2022-05-26 12:54:06,495 - mmdet - INFO - model initialization done.\n"
     ]
    },
    {
     "name": "stdout",
     "output_type": "stream",
     "text": [
      "[>>>>>>>>>>>>>>>>>>>>>>>>>>>>>] 300/300, 12.6 task/s, elapsed: 24s, ETA:     0s\n",
      "---------------iou_thr: 0.5---------------\n"
     ]
    },
    {
     "name": "stderr",
     "output_type": "stream",
     "text": [
      "2022-05-26 12:54:30,668 - mmfewshot - INFO - \n",
      "+---------+-----+------+--------+-------+\n",
      "| class   | gts | dets | recall | ap    |\n",
      "+---------+-----+------+--------+-------+\n",
      "| fanta   | 291 | 1297 | 0.784  | 0.567 |\n",
      "| Mirinda | 111 | 628  | 0.676  | 0.468 |\n",
      "+---------+-----+------+--------+-------+\n",
      "| mAP     |     |      |        | 0.518 |\n",
      "+---------+-----+------+--------+-------+\n",
      "2022-05-26 12:54:30,671 - mmfewshot - INFO - BASE_CLASSES_SPLIT2 mAP: 0.5175285339355469\n",
      "2022-05-26 12:54:30,672 - mmfewshot - INFO - NOVEL_CLASSES_SPLIT2 mAP: nan\n",
      "2022-05-26 12:54:30,675 - mmfewshot - INFO - Exp name: attention-rpn_r50_c4_tb-split2_1shot-fine-tuning-momentum-09.py\n",
      "2022-05-26 12:54:30,675 - mmfewshot - INFO - Iter(val) [300]\tAP50: 0.5180, BASE_CLASSES_SPLIT2: AP50: 0.5180, NOVEL_CLASSES_SPLIT2: AP50: nan, mAP: 0.5175\n",
      "2022-05-26 12:54:44,181 - mmfewshot - INFO - Iter [20050/100000]\tlr: 1.000e-04, eta: 6:41:42, time: 0.978, data_time: 0.721, memory: 4571, loss_rpn_cls: 0.0203, loss_rpn_bbox: 0.0061, loss_cls: 0.0751, acc: 99.4219, loss_bbox: 0.2003, loss: 0.3019\n",
      "2022-05-26 12:54:57,690 - mmfewshot - INFO - Iter [20100/100000]\tlr: 1.000e-04, eta: 6:41:20, time: 0.270, data_time: 0.013, memory: 4571, loss_rpn_cls: 0.0223, loss_rpn_bbox: 0.0068, loss_cls: 0.0718, acc: 99.3359, loss_bbox: 0.2664, loss: 0.3673\n",
      "2022-05-26 12:55:11,184 - mmfewshot - INFO - Iter [20150/100000]\tlr: 1.000e-04, eta: 6:40:59, time: 0.270, data_time: 0.013, memory: 4571, loss_rpn_cls: 0.0288, loss_rpn_bbox: 0.0075, loss_cls: 0.0927, acc: 99.4375, loss_bbox: 0.2045, loss: 0.3335\n",
      "2022-05-26 12:55:24,607 - mmfewshot - INFO - Iter [20200/100000]\tlr: 1.000e-04, eta: 6:40:37, time: 0.269, data_time: 0.013, memory: 4571, loss_rpn_cls: 0.0232, loss_rpn_bbox: 0.0066, loss_cls: 0.0914, acc: 99.3047, loss_bbox: 0.2594, loss: 0.3807\n",
      "2022-05-26 12:55:37,833 - mmfewshot - INFO - Iter [20250/100000]\tlr: 1.000e-04, eta: 6:40:15, time: 0.264, data_time: 0.012, memory: 4571, loss_rpn_cls: 0.0171, loss_rpn_bbox: 0.0035, loss_cls: 0.0694, acc: 99.5312, loss_bbox: 0.2035, loss: 0.2934\n",
      "2022-05-26 12:55:51,097 - mmfewshot - INFO - Iter [20300/100000]\tlr: 1.000e-04, eta: 6:39:53, time: 0.265, data_time: 0.012, memory: 4571, loss_rpn_cls: 0.0237, loss_rpn_bbox: 0.0065, loss_cls: 0.0902, acc: 99.3594, loss_bbox: 0.2262, loss: 0.3467\n",
      "2022-05-26 12:56:04,467 - mmfewshot - INFO - Iter [20350/100000]\tlr: 1.000e-04, eta: 6:39:31, time: 0.267, data_time: 0.013, memory: 4571, loss_rpn_cls: 0.0204, loss_rpn_bbox: 0.0066, loss_cls: 0.0873, acc: 99.3594, loss_bbox: 0.2389, loss: 0.3532\n",
      "2022-05-26 12:56:17,731 - mmfewshot - INFO - Iter [20400/100000]\tlr: 1.000e-04, eta: 6:39:09, time: 0.266, data_time: 0.012, memory: 4571, loss_rpn_cls: 0.0185, loss_rpn_bbox: 0.0054, loss_cls: 0.0599, acc: 99.5938, loss_bbox: 0.2119, loss: 0.2957\n",
      "2022-05-26 12:56:31,173 - mmfewshot - INFO - Iter [20450/100000]\tlr: 1.000e-04, eta: 6:38:48, time: 0.269, data_time: 0.011, memory: 4571, loss_rpn_cls: 0.0207, loss_rpn_bbox: 0.0064, loss_cls: 0.0659, acc: 99.4141, loss_bbox: 0.2469, loss: 0.3399\n",
      "2022-05-26 12:56:44,634 - mmfewshot - INFO - Iter [20500/100000]\tlr: 1.000e-04, eta: 6:38:27, time: 0.269, data_time: 0.013, memory: 4571, loss_rpn_cls: 0.0249, loss_rpn_bbox: 0.0068, loss_cls: 0.0562, acc: 99.5703, loss_bbox: 0.2262, loss: 0.3140\n",
      "2022-05-26 12:56:57,977 - mmfewshot - INFO - Iter [20550/100000]\tlr: 1.000e-04, eta: 6:38:05, time: 0.267, data_time: 0.012, memory: 4571, loss_rpn_cls: 0.0218, loss_rpn_bbox: 0.0079, loss_cls: 0.0814, acc: 99.4141, loss_bbox: 0.2312, loss: 0.3424\n",
      "2022-05-26 12:57:11,430 - mmfewshot - INFO - Iter [20600/100000]\tlr: 1.000e-04, eta: 6:37:44, time: 0.269, data_time: 0.013, memory: 4571, loss_rpn_cls: 0.0252, loss_rpn_bbox: 0.0073, loss_cls: 0.0949, acc: 99.3672, loss_bbox: 0.2117, loss: 0.3391\n",
      "2022-05-26 12:57:24,886 - mmfewshot - INFO - Iter [20650/100000]\tlr: 1.000e-04, eta: 6:37:23, time: 0.269, data_time: 0.013, memory: 4571, loss_rpn_cls: 0.0165, loss_rpn_bbox: 0.0058, loss_cls: 0.0651, acc: 99.4688, loss_bbox: 0.2495, loss: 0.3369\n",
      "2022-05-26 12:57:38,180 - mmfewshot - INFO - Iter [20700/100000]\tlr: 1.000e-04, eta: 6:37:01, time: 0.266, data_time: 0.012, memory: 4571, loss_rpn_cls: 0.0198, loss_rpn_bbox: 0.0060, loss_cls: 0.1039, acc: 99.1484, loss_bbox: 0.2270, loss: 0.3568\n",
      "2022-05-26 12:57:51,534 - mmfewshot - INFO - Iter [20750/100000]\tlr: 1.000e-04, eta: 6:36:40, time: 0.267, data_time: 0.013, memory: 4571, loss_rpn_cls: 0.0255, loss_rpn_bbox: 0.0096, loss_cls: 0.0769, acc: 99.2578, loss_bbox: 0.2718, loss: 0.3837\n",
      "2022-05-26 12:58:04,986 - mmfewshot - INFO - Iter [20800/100000]\tlr: 1.000e-04, eta: 6:36:19, time: 0.269, data_time: 0.013, memory: 4571, loss_rpn_cls: 0.0202, loss_rpn_bbox: 0.0064, loss_cls: 0.0799, acc: 99.3125, loss_bbox: 0.2297, loss: 0.3362\n",
      "2022-05-26 12:58:18,406 - mmfewshot - INFO - Iter [20850/100000]\tlr: 1.000e-04, eta: 6:35:58, time: 0.268, data_time: 0.012, memory: 4571, loss_rpn_cls: 0.0168, loss_rpn_bbox: 0.0059, loss_cls: 0.0769, acc: 99.4219, loss_bbox: 0.2153, loss: 0.3150\n",
      "2022-05-26 12:58:31,792 - mmfewshot - INFO - Iter [20900/100000]\tlr: 1.000e-04, eta: 6:35:37, time: 0.268, data_time: 0.012, memory: 4571, loss_rpn_cls: 0.0219, loss_rpn_bbox: 0.0076, loss_cls: 0.0761, acc: 99.2734, loss_bbox: 0.2573, loss: 0.3630\n",
      "2022-05-26 12:58:45,090 - mmfewshot - INFO - Iter [20950/100000]\tlr: 1.000e-04, eta: 6:35:15, time: 0.266, data_time: 0.012, memory: 4571, loss_rpn_cls: 0.0181, loss_rpn_bbox: 0.0057, loss_cls: 0.0588, acc: 99.5625, loss_bbox: 0.2504, loss: 0.3331\n",
      "2022-05-26 12:58:58,586 - mmfewshot - INFO - Exp name: attention-rpn_r50_c4_tb-split2_1shot-fine-tuning-momentum-09.py\n",
      "2022-05-26 12:58:58,587 - mmfewshot - INFO - Iter [21000/100000]\tlr: 1.000e-04, eta: 6:34:55, time: 0.270, data_time: 0.013, memory: 4571, loss_rpn_cls: 0.0155, loss_rpn_bbox: 0.0051, loss_cls: 0.0589, acc: 99.4453, loss_bbox: 0.2476, loss: 0.3271\n",
      "2022-05-26 12:58:58,592 - mmdet - INFO - starting model initialization...\n"
     ]
    },
    {
     "name": "stdout",
     "output_type": "stream",
     "text": [
      "[>>>>>>>>>>>>>>>>>>>>>>>>>>>>>] 850/850, 75.9 task/s, elapsed: 11s, ETA:     0s"
     ]
    },
    {
     "name": "stderr",
     "output_type": "stream",
     "text": [
      "2022-05-26 12:59:09,874 - mmdet - INFO - model initialization done.\n"
     ]
    },
    {
     "name": "stdout",
     "output_type": "stream",
     "text": [
      "[>>>>>>>>>>>>>>>>>>>>>>>>>>>>>] 300/300, 12.7 task/s, elapsed: 24s, ETA:     0s\n",
      "---------------iou_thr: 0.5---------------\n"
     ]
    },
    {
     "name": "stderr",
     "output_type": "stream",
     "text": [
      "2022-05-26 12:59:33,848 - mmfewshot - INFO - \n",
      "+---------+-----+------+--------+-------+\n",
      "| class   | gts | dets | recall | ap    |\n",
      "+---------+-----+------+--------+-------+\n",
      "| fanta   | 291 | 1436 | 0.790  | 0.601 |\n",
      "| Mirinda | 111 | 457  | 0.685  | 0.503 |\n",
      "+---------+-----+------+--------+-------+\n",
      "| mAP     |     |      |        | 0.552 |\n",
      "+---------+-----+------+--------+-------+\n",
      "2022-05-26 12:59:33,851 - mmfewshot - INFO - BASE_CLASSES_SPLIT2 mAP: 0.5524265766143799\n",
      "2022-05-26 12:59:33,852 - mmfewshot - INFO - NOVEL_CLASSES_SPLIT2 mAP: nan\n",
      "2022-05-26 12:59:33,856 - mmfewshot - INFO - Exp name: attention-rpn_r50_c4_tb-split2_1shot-fine-tuning-momentum-09.py\n",
      "2022-05-26 12:59:33,858 - mmfewshot - INFO - Iter(val) [300]\tAP50: 0.5520, BASE_CLASSES_SPLIT2: AP50: 0.5520, NOVEL_CLASSES_SPLIT2: AP50: nan, mAP: 0.5524\n",
      "2022-05-26 12:59:47,370 - mmfewshot - INFO - Iter [21050/100000]\tlr: 1.000e-04, eta: 6:36:46, time: 0.976, data_time: 0.718, memory: 4571, loss_rpn_cls: 0.0174, loss_rpn_bbox: 0.0052, loss_cls: 0.0899, acc: 99.3516, loss_bbox: 0.2389, loss: 0.3514\n",
      "2022-05-26 13:00:00,714 - mmfewshot - INFO - Iter [21100/100000]\tlr: 1.000e-04, eta: 6:36:25, time: 0.267, data_time: 0.012, memory: 4571, loss_rpn_cls: 0.0274, loss_rpn_bbox: 0.0074, loss_cls: 0.0761, acc: 99.4297, loss_bbox: 0.2269, loss: 0.3379\n",
      "2022-05-26 13:00:14,142 - mmfewshot - INFO - Iter [21150/100000]\tlr: 1.000e-04, eta: 6:36:04, time: 0.269, data_time: 0.013, memory: 4571, loss_rpn_cls: 0.0210, loss_rpn_bbox: 0.0073, loss_cls: 0.0916, acc: 99.1719, loss_bbox: 0.2426, loss: 0.3625\n",
      "2022-05-26 13:00:27,500 - mmfewshot - INFO - Iter [21200/100000]\tlr: 1.000e-04, eta: 6:35:42, time: 0.267, data_time: 0.012, memory: 4571, loss_rpn_cls: 0.0195, loss_rpn_bbox: 0.0060, loss_cls: 0.0800, acc: 99.4453, loss_bbox: 0.2085, loss: 0.3140\n",
      "2022-05-26 13:00:40,833 - mmfewshot - INFO - Iter [21250/100000]\tlr: 1.000e-04, eta: 6:35:21, time: 0.267, data_time: 0.012, memory: 4571, loss_rpn_cls: 0.0230, loss_rpn_bbox: 0.0078, loss_cls: 0.0741, acc: 99.2656, loss_bbox: 0.2403, loss: 0.3452\n",
      "2022-05-26 13:00:54,189 - mmfewshot - INFO - Iter [21300/100000]\tlr: 1.000e-04, eta: 6:34:59, time: 0.267, data_time: 0.012, memory: 4571, loss_rpn_cls: 0.0219, loss_rpn_bbox: 0.0057, loss_cls: 0.0680, acc: 99.5000, loss_bbox: 0.1915, loss: 0.2871\n",
      "2022-05-26 13:01:07,532 - mmfewshot - INFO - Iter [21350/100000]\tlr: 1.000e-04, eta: 6:34:38, time: 0.267, data_time: 0.012, memory: 4571, loss_rpn_cls: 0.0211, loss_rpn_bbox: 0.0052, loss_cls: 0.0638, acc: 99.4453, loss_bbox: 0.2417, loss: 0.3318\n",
      "2022-05-26 13:01:20,966 - mmfewshot - INFO - Iter [21400/100000]\tlr: 1.000e-04, eta: 6:34:17, time: 0.269, data_time: 0.013, memory: 4571, loss_rpn_cls: 0.0221, loss_rpn_bbox: 0.0071, loss_cls: 0.0638, acc: 99.3203, loss_bbox: 0.2847, loss: 0.3778\n",
      "2022-05-26 13:01:34,371 - mmfewshot - INFO - Iter [21450/100000]\tlr: 1.000e-04, eta: 6:33:56, time: 0.268, data_time: 0.013, memory: 4571, loss_rpn_cls: 0.0208, loss_rpn_bbox: 0.0071, loss_cls: 0.0695, acc: 99.4688, loss_bbox: 0.2446, loss: 0.3420\n",
      "2022-05-26 13:01:47,743 - mmfewshot - INFO - Iter [21500/100000]\tlr: 1.000e-04, eta: 6:33:35, time: 0.267, data_time: 0.012, memory: 4571, loss_rpn_cls: 0.0205, loss_rpn_bbox: 0.0054, loss_cls: 0.0919, acc: 99.4297, loss_bbox: 0.2093, loss: 0.3271\n",
      "2022-05-26 13:02:01,102 - mmfewshot - INFO - Iter [21550/100000]\tlr: 1.000e-04, eta: 6:33:14, time: 0.267, data_time: 0.013, memory: 4571, loss_rpn_cls: 0.0252, loss_rpn_bbox: 0.0088, loss_cls: 0.0976, acc: 99.2500, loss_bbox: 0.2095, loss: 0.3411\n",
      "2022-05-26 13:02:14,563 - mmfewshot - INFO - Iter [21600/100000]\tlr: 1.000e-04, eta: 6:32:53, time: 0.269, data_time: 0.013, memory: 4571, loss_rpn_cls: 0.0158, loss_rpn_bbox: 0.0063, loss_cls: 0.1028, acc: 99.2188, loss_bbox: 0.2131, loss: 0.3380\n",
      "2022-05-26 13:02:28,026 - mmfewshot - INFO - Iter [21650/100000]\tlr: 1.000e-04, eta: 6:32:32, time: 0.269, data_time: 0.013, memory: 4571, loss_rpn_cls: 0.0138, loss_rpn_bbox: 0.0055, loss_cls: 0.0851, acc: 99.4141, loss_bbox: 0.2523, loss: 0.3567\n",
      "2022-05-26 13:02:41,329 - mmfewshot - INFO - Iter [21700/100000]\tlr: 1.000e-04, eta: 6:32:11, time: 0.266, data_time: 0.012, memory: 4571, loss_rpn_cls: 0.0165, loss_rpn_bbox: 0.0043, loss_cls: 0.0725, acc: 99.5469, loss_bbox: 0.1995, loss: 0.2927\n",
      "2022-05-26 13:02:54,716 - mmfewshot - INFO - Iter [21750/100000]\tlr: 1.000e-04, eta: 6:31:50, time: 0.268, data_time: 0.012, memory: 4571, loss_rpn_cls: 0.0214, loss_rpn_bbox: 0.0075, loss_cls: 0.0785, acc: 99.4531, loss_bbox: 0.2150, loss: 0.3224\n",
      "2022-05-26 13:03:08,018 - mmfewshot - INFO - Iter [21800/100000]\tlr: 1.000e-04, eta: 6:31:29, time: 0.266, data_time: 0.012, memory: 4571, loss_rpn_cls: 0.0147, loss_rpn_bbox: 0.0041, loss_cls: 0.0622, acc: 99.5781, loss_bbox: 0.1888, loss: 0.2699\n",
      "2022-05-26 13:03:21,488 - mmfewshot - INFO - Iter [21850/100000]\tlr: 1.000e-04, eta: 6:31:08, time: 0.269, data_time: 0.012, memory: 4571, loss_rpn_cls: 0.0214, loss_rpn_bbox: 0.0058, loss_cls: 0.0709, acc: 99.5859, loss_bbox: 0.1943, loss: 0.2924\n",
      "2022-05-26 13:03:34,809 - mmfewshot - INFO - Iter [21900/100000]\tlr: 1.000e-04, eta: 6:30:47, time: 0.267, data_time: 0.012, memory: 4571, loss_rpn_cls: 0.0196, loss_rpn_bbox: 0.0062, loss_cls: 0.0912, acc: 99.4766, loss_bbox: 0.2174, loss: 0.3343\n",
      "2022-05-26 13:03:48,121 - mmfewshot - INFO - Iter [21950/100000]\tlr: 1.000e-04, eta: 6:30:26, time: 0.266, data_time: 0.012, memory: 4571, loss_rpn_cls: 0.0202, loss_rpn_bbox: 0.0067, loss_cls: 0.0991, acc: 99.1406, loss_bbox: 0.2428, loss: 0.3689\n",
      "2022-05-26 13:04:01,391 - mmfewshot - INFO - Exp name: attention-rpn_r50_c4_tb-split2_1shot-fine-tuning-momentum-09.py\n",
      "2022-05-26 13:04:01,394 - mmfewshot - INFO - Iter [22000/100000]\tlr: 1.000e-04, eta: 6:30:05, time: 0.265, data_time: 0.012, memory: 4571, loss_rpn_cls: 0.0201, loss_rpn_bbox: 0.0065, loss_cls: 0.0644, acc: 99.4844, loss_bbox: 0.2249, loss: 0.3160\n",
      "2022-05-26 13:04:01,399 - mmdet - INFO - starting model initialization...\n"
     ]
    },
    {
     "name": "stdout",
     "output_type": "stream",
     "text": [
      "[>>>>>>>>>>>>>>>>>>>>>>>>>>>>>] 850/850, 74.9 task/s, elapsed: 11s, ETA:     0s"
     ]
    },
    {
     "name": "stderr",
     "output_type": "stream",
     "text": [
      "2022-05-26 13:04:12,833 - mmdet - INFO - model initialization done.\n"
     ]
    },
    {
     "name": "stdout",
     "output_type": "stream",
     "text": [
      "[>>>>>>>>>>>>>>>>>>>>>>>>>>>>>] 300/300, 12.6 task/s, elapsed: 24s, ETA:     0s\n",
      "---------------iou_thr: 0.5---------------\n"
     ]
    },
    {
     "name": "stderr",
     "output_type": "stream",
     "text": [
      "2022-05-26 13:04:36,930 - mmfewshot - INFO - \n",
      "+---------+-----+------+--------+-------+\n",
      "| class   | gts | dets | recall | ap    |\n",
      "+---------+-----+------+--------+-------+\n",
      "| fanta   | 291 | 1836 | 0.818  | 0.614 |\n",
      "| Mirinda | 111 | 993  | 0.721  | 0.486 |\n",
      "+---------+-----+------+--------+-------+\n",
      "| mAP     |     |      |        | 0.550 |\n",
      "+---------+-----+------+--------+-------+\n",
      "2022-05-26 13:04:36,933 - mmfewshot - INFO - BASE_CLASSES_SPLIT2 mAP: 0.5502018928527832\n",
      "2022-05-26 13:04:36,934 - mmfewshot - INFO - NOVEL_CLASSES_SPLIT2 mAP: nan\n",
      "2022-05-26 13:04:36,937 - mmfewshot - INFO - Exp name: attention-rpn_r50_c4_tb-split2_1shot-fine-tuning-momentum-09.py\n",
      "2022-05-26 13:04:36,938 - mmfewshot - INFO - Iter(val) [300]\tAP50: 0.5500, BASE_CLASSES_SPLIT2: AP50: 0.5500, NOVEL_CLASSES_SPLIT2: AP50: nan, mAP: 0.5502\n",
      "2022-05-26 13:04:50,417 - mmfewshot - INFO - Iter [22050/100000]\tlr: 1.000e-04, eta: 6:31:50, time: 0.980, data_time: 0.723, memory: 4571, loss_rpn_cls: 0.0208, loss_rpn_bbox: 0.0063, loss_cls: 0.0656, acc: 99.4141, loss_bbox: 0.2709, loss: 0.3636\n",
      "2022-05-26 13:05:03,695 - mmfewshot - INFO - Iter [22100/100000]\tlr: 1.000e-04, eta: 6:31:29, time: 0.266, data_time: 0.012, memory: 4571, loss_rpn_cls: 0.0194, loss_rpn_bbox: 0.0061, loss_cls: 0.0602, acc: 99.4219, loss_bbox: 0.2521, loss: 0.3377\n",
      "2022-05-26 13:05:17,049 - mmfewshot - INFO - Iter [22150/100000]\tlr: 1.000e-04, eta: 6:31:08, time: 0.267, data_time: 0.013, memory: 4571, loss_rpn_cls: 0.0263, loss_rpn_bbox: 0.0074, loss_cls: 0.0707, acc: 99.5469, loss_bbox: 0.2078, loss: 0.3122\n",
      "2022-05-26 13:05:30,522 - mmfewshot - INFO - Iter [22200/100000]\tlr: 1.000e-04, eta: 6:30:47, time: 0.269, data_time: 0.013, memory: 4571, loss_rpn_cls: 0.0300, loss_rpn_bbox: 0.0090, loss_cls: 0.0709, acc: 99.4922, loss_bbox: 0.2322, loss: 0.3421\n",
      "2022-05-26 13:05:43,913 - mmfewshot - INFO - Iter [22250/100000]\tlr: 1.000e-04, eta: 6:30:26, time: 0.268, data_time: 0.013, memory: 4571, loss_rpn_cls: 0.0165, loss_rpn_bbox: 0.0052, loss_cls: 0.0937, acc: 99.2578, loss_bbox: 0.2426, loss: 0.3580\n",
      "2022-05-26 13:05:57,214 - mmfewshot - INFO - Iter [22300/100000]\tlr: 1.000e-04, eta: 6:30:05, time: 0.266, data_time: 0.012, memory: 4571, loss_rpn_cls: 0.0163, loss_rpn_bbox: 0.0050, loss_cls: 0.0820, acc: 99.4609, loss_bbox: 0.2315, loss: 0.3348\n",
      "2022-05-26 13:06:10,690 - mmfewshot - INFO - Iter [22350/100000]\tlr: 1.000e-04, eta: 6:29:44, time: 0.270, data_time: 0.012, memory: 4571, loss_rpn_cls: 0.0183, loss_rpn_bbox: 0.0054, loss_cls: 0.0837, acc: 99.4375, loss_bbox: 0.2245, loss: 0.3319\n",
      "2022-05-26 13:06:24,094 - mmfewshot - INFO - Iter [22400/100000]\tlr: 1.000e-04, eta: 6:29:23, time: 0.268, data_time: 0.013, memory: 4571, loss_rpn_cls: 0.0218, loss_rpn_bbox: 0.0074, loss_cls: 0.0746, acc: 99.3594, loss_bbox: 0.2139, loss: 0.3178\n",
      "2022-05-26 13:06:37,492 - mmfewshot - INFO - Iter [22450/100000]\tlr: 1.000e-04, eta: 6:29:03, time: 0.268, data_time: 0.013, memory: 4571, loss_rpn_cls: 0.0197, loss_rpn_bbox: 0.0059, loss_cls: 0.0636, acc: 99.3594, loss_bbox: 0.2728, loss: 0.3619\n",
      "2022-05-26 13:06:50,767 - mmfewshot - INFO - Iter [22500/100000]\tlr: 1.000e-04, eta: 6:28:41, time: 0.265, data_time: 0.012, memory: 4571, loss_rpn_cls: 0.0218, loss_rpn_bbox: 0.0079, loss_cls: 0.0962, acc: 99.1172, loss_bbox: 0.2845, loss: 0.4103\n",
      "2022-05-26 13:07:04,135 - mmfewshot - INFO - Iter [22550/100000]\tlr: 1.000e-04, eta: 6:28:21, time: 0.267, data_time: 0.013, memory: 4571, loss_rpn_cls: 0.0175, loss_rpn_bbox: 0.0065, loss_cls: 0.0865, acc: 99.1250, loss_bbox: 0.2705, loss: 0.3811\n",
      "2022-05-26 13:07:17,424 - mmfewshot - INFO - Iter [22600/100000]\tlr: 1.000e-04, eta: 6:28:00, time: 0.266, data_time: 0.012, memory: 4571, loss_rpn_cls: 0.0222, loss_rpn_bbox: 0.0084, loss_cls: 0.0837, acc: 99.4688, loss_bbox: 0.2027, loss: 0.3170\n",
      "2022-05-26 13:07:30,863 - mmfewshot - INFO - Iter [22650/100000]\tlr: 1.000e-04, eta: 6:27:39, time: 0.269, data_time: 0.013, memory: 4571, loss_rpn_cls: 0.0181, loss_rpn_bbox: 0.0072, loss_cls: 0.0647, acc: 99.4531, loss_bbox: 0.2190, loss: 0.3091\n",
      "2022-05-26 13:07:44,307 - mmfewshot - INFO - Iter [22700/100000]\tlr: 1.000e-04, eta: 6:27:19, time: 0.269, data_time: 0.013, memory: 4571, loss_rpn_cls: 0.0213, loss_rpn_bbox: 0.0079, loss_cls: 0.0539, acc: 99.5547, loss_bbox: 0.2558, loss: 0.3389\n",
      "2022-05-26 13:07:57,769 - mmfewshot - INFO - Iter [22750/100000]\tlr: 1.000e-04, eta: 6:26:58, time: 0.269, data_time: 0.013, memory: 4571, loss_rpn_cls: 0.0233, loss_rpn_bbox: 0.0068, loss_cls: 0.0767, acc: 99.4766, loss_bbox: 0.2357, loss: 0.3425\n",
      "2022-05-26 13:08:11,094 - mmfewshot - INFO - Iter [22800/100000]\tlr: 1.000e-04, eta: 6:26:38, time: 0.267, data_time: 0.012, memory: 4571, loss_rpn_cls: 0.0139, loss_rpn_bbox: 0.0051, loss_cls: 0.0760, acc: 99.3906, loss_bbox: 0.2147, loss: 0.3098\n",
      "2022-05-26 13:08:24,530 - mmfewshot - INFO - Iter [22850/100000]\tlr: 1.000e-04, eta: 6:26:17, time: 0.269, data_time: 0.013, memory: 4571, loss_rpn_cls: 0.0248, loss_rpn_bbox: 0.0071, loss_cls: 0.0678, acc: 99.4844, loss_bbox: 0.2307, loss: 0.3304\n",
      "2022-05-26 13:08:37,980 - mmfewshot - INFO - Iter [22900/100000]\tlr: 1.000e-04, eta: 6:25:57, time: 0.269, data_time: 0.013, memory: 4571, loss_rpn_cls: 0.0276, loss_rpn_bbox: 0.0088, loss_cls: 0.0747, acc: 99.4609, loss_bbox: 0.2086, loss: 0.3196\n",
      "2022-05-26 13:08:51,479 - mmfewshot - INFO - Iter [22950/100000]\tlr: 1.000e-04, eta: 6:25:37, time: 0.270, data_time: 0.013, memory: 4571, loss_rpn_cls: 0.0160, loss_rpn_bbox: 0.0041, loss_cls: 0.0483, acc: 99.6406, loss_bbox: 0.2298, loss: 0.2982\n",
      "2022-05-26 13:09:04,913 - mmfewshot - INFO - Exp name: attention-rpn_r50_c4_tb-split2_1shot-fine-tuning-momentum-09.py\n",
      "2022-05-26 13:09:04,915 - mmfewshot - INFO - Iter [23000/100000]\tlr: 1.000e-04, eta: 6:25:16, time: 0.269, data_time: 0.013, memory: 4571, loss_rpn_cls: 0.0264, loss_rpn_bbox: 0.0108, loss_cls: 0.0883, acc: 99.2969, loss_bbox: 0.2278, loss: 0.3533\n",
      "2022-05-26 13:09:04,921 - mmdet - INFO - starting model initialization...\n"
     ]
    },
    {
     "name": "stdout",
     "output_type": "stream",
     "text": [
      "[>>>>>>>>>>>>>>>>>>>>>>>>>>>>>] 850/850, 77.1 task/s, elapsed: 11s, ETA:     0s"
     ]
    },
    {
     "name": "stderr",
     "output_type": "stream",
     "text": [
      "2022-05-26 13:09:16,030 - mmdet - INFO - model initialization done.\n"
     ]
    },
    {
     "name": "stdout",
     "output_type": "stream",
     "text": [
      "[>>>>>>>>>>>>>>>>>>>>>>>>>>>>>] 300/300, 12.7 task/s, elapsed: 24s, ETA:     0s\n",
      "---------------iou_thr: 0.5---------------\n"
     ]
    },
    {
     "name": "stderr",
     "output_type": "stream",
     "text": [
      "2022-05-26 13:09:40,053 - mmfewshot - INFO - \n",
      "+---------+-----+------+--------+-------+\n",
      "| class   | gts | dets | recall | ap    |\n",
      "+---------+-----+------+--------+-------+\n",
      "| fanta   | 291 | 1487 | 0.835  | 0.653 |\n",
      "| Mirinda | 111 | 538  | 0.721  | 0.487 |\n",
      "+---------+-----+------+--------+-------+\n",
      "| mAP     |     |      |        | 0.570 |\n",
      "+---------+-----+------+--------+-------+\n",
      "2022-05-26 13:09:40,056 - mmfewshot - INFO - BASE_CLASSES_SPLIT2 mAP: 0.5701150894165039\n",
      "2022-05-26 13:09:40,056 - mmfewshot - INFO - NOVEL_CLASSES_SPLIT2 mAP: nan\n",
      "2022-05-26 13:09:40,059 - mmfewshot - INFO - Exp name: attention-rpn_r50_c4_tb-split2_1shot-fine-tuning-momentum-09.py\n",
      "2022-05-26 13:09:40,060 - mmfewshot - INFO - Iter(val) [300]\tAP50: 0.5700, BASE_CLASSES_SPLIT2: AP50: 0.5700, NOVEL_CLASSES_SPLIT2: AP50: nan, mAP: 0.5701\n",
      "2022-05-26 13:09:53,454 - mmfewshot - INFO - Iter [23050/100000]\tlr: 1.000e-04, eta: 6:26:53, time: 0.971, data_time: 0.716, memory: 4571, loss_rpn_cls: 0.0183, loss_rpn_bbox: 0.0057, loss_cls: 0.0600, acc: 99.5391, loss_bbox: 0.2355, loss: 0.3195\n",
      "2022-05-26 13:10:06,744 - mmfewshot - INFO - Iter [23100/100000]\tlr: 1.000e-04, eta: 6:26:32, time: 0.266, data_time: 0.012, memory: 4571, loss_rpn_cls: 0.0220, loss_rpn_bbox: 0.0099, loss_cls: 0.0666, acc: 99.3438, loss_bbox: 0.2850, loss: 0.3835\n",
      "2022-05-26 13:10:20,243 - mmfewshot - INFO - Iter [23150/100000]\tlr: 1.000e-04, eta: 6:26:12, time: 0.270, data_time: 0.013, memory: 4571, loss_rpn_cls: 0.0228, loss_rpn_bbox: 0.0088, loss_cls: 0.0565, acc: 99.4609, loss_bbox: 0.2346, loss: 0.3227\n",
      "2022-05-26 13:10:33,661 - mmfewshot - INFO - Iter [23200/100000]\tlr: 1.000e-04, eta: 6:25:51, time: 0.268, data_time: 0.012, memory: 4571, loss_rpn_cls: 0.0246, loss_rpn_bbox: 0.0086, loss_cls: 0.0668, acc: 99.5156, loss_bbox: 0.2256, loss: 0.3256\n",
      "2022-05-26 13:10:47,097 - mmfewshot - INFO - Iter [23250/100000]\tlr: 1.000e-04, eta: 6:25:31, time: 0.269, data_time: 0.013, memory: 4571, loss_rpn_cls: 0.0190, loss_rpn_bbox: 0.0071, loss_cls: 0.0558, acc: 99.5703, loss_bbox: 0.2427, loss: 0.3246\n",
      "2022-05-26 13:11:00,441 - mmfewshot - INFO - Iter [23300/100000]\tlr: 1.000e-04, eta: 6:25:10, time: 0.267, data_time: 0.012, memory: 4571, loss_rpn_cls: 0.0192, loss_rpn_bbox: 0.0086, loss_cls: 0.0727, acc: 99.4688, loss_bbox: 0.2154, loss: 0.3159\n",
      "2022-05-26 13:11:13,840 - mmfewshot - INFO - Iter [23350/100000]\tlr: 1.000e-04, eta: 6:24:50, time: 0.268, data_time: 0.013, memory: 4571, loss_rpn_cls: 0.0193, loss_rpn_bbox: 0.0087, loss_cls: 0.0807, acc: 99.4766, loss_bbox: 0.1888, loss: 0.2975\n",
      "2022-05-26 13:11:27,309 - mmfewshot - INFO - Iter [23400/100000]\tlr: 1.000e-04, eta: 6:24:29, time: 0.269, data_time: 0.013, memory: 4571, loss_rpn_cls: 0.0152, loss_rpn_bbox: 0.0069, loss_cls: 0.0986, acc: 99.3594, loss_bbox: 0.2484, loss: 0.3691\n",
      "2022-05-26 13:11:40,718 - mmfewshot - INFO - Iter [23450/100000]\tlr: 1.000e-04, eta: 6:24:09, time: 0.268, data_time: 0.012, memory: 4571, loss_rpn_cls: 0.0196, loss_rpn_bbox: 0.0078, loss_cls: 0.0666, acc: 99.5625, loss_bbox: 0.2389, loss: 0.3329\n",
      "2022-05-26 13:11:54,105 - mmfewshot - INFO - Iter [23500/100000]\tlr: 1.000e-04, eta: 6:23:48, time: 0.267, data_time: 0.013, memory: 4571, loss_rpn_cls: 0.0127, loss_rpn_bbox: 0.0044, loss_cls: 0.0981, acc: 99.4219, loss_bbox: 0.1945, loss: 0.3098\n",
      "2022-05-26 13:12:07,486 - mmfewshot - INFO - Iter [23550/100000]\tlr: 1.000e-04, eta: 6:23:28, time: 0.268, data_time: 0.013, memory: 4571, loss_rpn_cls: 0.0147, loss_rpn_bbox: 0.0051, loss_cls: 0.0642, acc: 99.5391, loss_bbox: 0.2258, loss: 0.3098\n",
      "2022-05-26 13:12:20,769 - mmfewshot - INFO - Iter [23600/100000]\tlr: 1.000e-04, eta: 6:23:07, time: 0.266, data_time: 0.012, memory: 4571, loss_rpn_cls: 0.0227, loss_rpn_bbox: 0.0071, loss_cls: 0.0961, acc: 99.3125, loss_bbox: 0.2350, loss: 0.3609\n",
      "2022-05-26 13:12:34,203 - mmfewshot - INFO - Iter [23650/100000]\tlr: 1.000e-04, eta: 6:22:47, time: 0.269, data_time: 0.013, memory: 4571, loss_rpn_cls: 0.0189, loss_rpn_bbox: 0.0057, loss_cls: 0.0620, acc: 99.5156, loss_bbox: 0.2531, loss: 0.3397\n",
      "2022-05-26 13:12:47,433 - mmfewshot - INFO - Iter [23700/100000]\tlr: 1.000e-04, eta: 6:22:26, time: 0.264, data_time: 0.012, memory: 4571, loss_rpn_cls: 0.0225, loss_rpn_bbox: 0.0068, loss_cls: 0.0713, acc: 99.4453, loss_bbox: 0.2400, loss: 0.3406\n",
      "2022-05-26 13:13:00,721 - mmfewshot - INFO - Iter [23750/100000]\tlr: 1.000e-04, eta: 6:22:05, time: 0.266, data_time: 0.011, memory: 4571, loss_rpn_cls: 0.0201, loss_rpn_bbox: 0.0056, loss_cls: 0.0786, acc: 99.5781, loss_bbox: 0.2139, loss: 0.3183\n",
      "2022-05-26 13:13:14,020 - mmfewshot - INFO - Iter [23800/100000]\tlr: 1.000e-04, eta: 6:21:45, time: 0.266, data_time: 0.012, memory: 4571, loss_rpn_cls: 0.0197, loss_rpn_bbox: 0.0081, loss_cls: 0.0627, acc: 99.4844, loss_bbox: 0.2447, loss: 0.3353\n",
      "2022-05-26 13:13:27,330 - mmfewshot - INFO - Iter [23850/100000]\tlr: 1.000e-04, eta: 6:21:24, time: 0.266, data_time: 0.013, memory: 4571, loss_rpn_cls: 0.0177, loss_rpn_bbox: 0.0057, loss_cls: 0.0652, acc: 99.5859, loss_bbox: 0.2309, loss: 0.3195\n",
      "2022-05-26 13:13:40,740 - mmfewshot - INFO - Iter [23900/100000]\tlr: 1.000e-04, eta: 6:21:04, time: 0.268, data_time: 0.013, memory: 4571, loss_rpn_cls: 0.0200, loss_rpn_bbox: 0.0072, loss_cls: 0.0726, acc: 99.4297, loss_bbox: 0.2353, loss: 0.3351\n",
      "2022-05-26 13:13:54,221 - mmfewshot - INFO - Iter [23950/100000]\tlr: 1.000e-04, eta: 6:20:44, time: 0.270, data_time: 0.013, memory: 4571, loss_rpn_cls: 0.0165, loss_rpn_bbox: 0.0045, loss_cls: 0.0594, acc: 99.5391, loss_bbox: 0.2390, loss: 0.3194\n",
      "2022-05-26 13:14:07,612 - mmfewshot - INFO - Exp name: attention-rpn_r50_c4_tb-split2_1shot-fine-tuning-momentum-09.py\n",
      "2022-05-26 13:14:07,614 - mmfewshot - INFO - Iter [24000/100000]\tlr: 1.000e-04, eta: 6:20:24, time: 0.268, data_time: 0.012, memory: 4571, loss_rpn_cls: 0.0173, loss_rpn_bbox: 0.0057, loss_cls: 0.0860, acc: 99.4062, loss_bbox: 0.2586, loss: 0.3676\n",
      "2022-05-26 13:14:07,619 - mmdet - INFO - starting model initialization...\n"
     ]
    },
    {
     "name": "stdout",
     "output_type": "stream",
     "text": [
      "[>>>>>>>>>>>>>>>>>>>>>>>>>>>>>] 850/850, 76.5 task/s, elapsed: 11s, ETA:     0s"
     ]
    },
    {
     "name": "stderr",
     "output_type": "stream",
     "text": [
      "2022-05-26 13:14:18,803 - mmdet - INFO - model initialization done.\n"
     ]
    },
    {
     "name": "stdout",
     "output_type": "stream",
     "text": [
      "[>>>>>>>>>>>>>>>>>>>>>>>>>>>>>] 300/300, 12.7 task/s, elapsed: 24s, ETA:     0s\n",
      "---------------iou_thr: 0.5---------------\n"
     ]
    },
    {
     "name": "stderr",
     "output_type": "stream",
     "text": [
      "2022-05-26 13:14:42,841 - mmfewshot - INFO - \n",
      "+---------+-----+------+--------+-------+\n",
      "| class   | gts | dets | recall | ap    |\n",
      "+---------+-----+------+--------+-------+\n",
      "| fanta   | 291 | 1356 | 0.849  | 0.654 |\n",
      "| Mirinda | 111 | 665  | 0.685  | 0.476 |\n",
      "+---------+-----+------+--------+-------+\n",
      "| mAP     |     |      |        | 0.565 |\n",
      "+---------+-----+------+--------+-------+\n",
      "2022-05-26 13:14:42,843 - mmfewshot - INFO - BASE_CLASSES_SPLIT2 mAP: 0.5649535655975342\n",
      "2022-05-26 13:14:42,843 - mmfewshot - INFO - NOVEL_CLASSES_SPLIT2 mAP: nan\n",
      "2022-05-26 13:14:42,846 - mmfewshot - INFO - Exp name: attention-rpn_r50_c4_tb-split2_1shot-fine-tuning-momentum-09.py\n",
      "2022-05-26 13:14:42,847 - mmfewshot - INFO - Iter(val) [300]\tAP50: 0.5650, BASE_CLASSES_SPLIT2: AP50: 0.5650, NOVEL_CLASSES_SPLIT2: AP50: nan, mAP: 0.5650\n",
      "2022-05-26 13:14:56,252 - mmfewshot - INFO - Iter [24050/100000]\tlr: 1.000e-04, eta: 6:21:55, time: 0.973, data_time: 0.717, memory: 4571, loss_rpn_cls: 0.0264, loss_rpn_bbox: 0.0081, loss_cls: 0.0777, acc: 99.2500, loss_bbox: 0.2464, loss: 0.3585\n",
      "2022-05-26 13:15:09,636 - mmfewshot - INFO - Iter [24100/100000]\tlr: 1.000e-04, eta: 6:21:35, time: 0.268, data_time: 0.013, memory: 4571, loss_rpn_cls: 0.0184, loss_rpn_bbox: 0.0053, loss_cls: 0.0847, acc: 99.4453, loss_bbox: 0.1953, loss: 0.3036\n",
      "2022-05-26 13:15:23,024 - mmfewshot - INFO - Iter [24150/100000]\tlr: 1.000e-04, eta: 6:21:14, time: 0.267, data_time: 0.012, memory: 4571, loss_rpn_cls: 0.0213, loss_rpn_bbox: 0.0063, loss_cls: 0.0638, acc: 99.4688, loss_bbox: 0.2091, loss: 0.3004\n",
      "2022-05-26 13:15:36,434 - mmfewshot - INFO - Iter [24200/100000]\tlr: 1.000e-04, eta: 6:20:54, time: 0.269, data_time: 0.012, memory: 4571, loss_rpn_cls: 0.0139, loss_rpn_bbox: 0.0049, loss_cls: 0.0669, acc: 99.4688, loss_bbox: 0.2213, loss: 0.3070\n",
      "2022-05-26 13:15:49,898 - mmfewshot - INFO - Iter [24250/100000]\tlr: 1.000e-04, eta: 6:20:34, time: 0.269, data_time: 0.012, memory: 4571, loss_rpn_cls: 0.0196, loss_rpn_bbox: 0.0066, loss_cls: 0.0559, acc: 99.4453, loss_bbox: 0.2413, loss: 0.3235\n",
      "2022-05-26 13:16:03,348 - mmfewshot - INFO - Iter [24300/100000]\tlr: 1.000e-04, eta: 6:20:14, time: 0.269, data_time: 0.012, memory: 4571, loss_rpn_cls: 0.0139, loss_rpn_bbox: 0.0040, loss_cls: 0.1036, acc: 99.6250, loss_bbox: 0.2055, loss: 0.3269\n",
      "2022-05-26 13:16:16,813 - mmfewshot - INFO - Iter [24350/100000]\tlr: 1.000e-04, eta: 6:19:54, time: 0.269, data_time: 0.013, memory: 4571, loss_rpn_cls: 0.0194, loss_rpn_bbox: 0.0064, loss_cls: 0.0836, acc: 99.3281, loss_bbox: 0.2527, loss: 0.3621\n",
      "2022-05-26 13:16:30,188 - mmfewshot - INFO - Iter [24400/100000]\tlr: 1.000e-04, eta: 6:19:33, time: 0.268, data_time: 0.013, memory: 4571, loss_rpn_cls: 0.0191, loss_rpn_bbox: 0.0060, loss_cls: 0.0810, acc: 99.5156, loss_bbox: 0.2318, loss: 0.3379\n",
      "2022-05-26 13:16:43,478 - mmfewshot - INFO - Iter [24450/100000]\tlr: 1.000e-04, eta: 6:19:13, time: 0.265, data_time: 0.012, memory: 4571, loss_rpn_cls: 0.0246, loss_rpn_bbox: 0.0078, loss_cls: 0.0899, acc: 99.5469, loss_bbox: 0.2123, loss: 0.3347\n",
      "2022-05-26 13:16:56,867 - mmfewshot - INFO - Iter [24500/100000]\tlr: 1.000e-04, eta: 6:18:53, time: 0.268, data_time: 0.013, memory: 4571, loss_rpn_cls: 0.0203, loss_rpn_bbox: 0.0075, loss_cls: 0.0712, acc: 99.3672, loss_bbox: 0.2708, loss: 0.3697\n",
      "2022-05-26 13:17:10,285 - mmfewshot - INFO - Iter [24550/100000]\tlr: 1.000e-04, eta: 6:18:33, time: 0.268, data_time: 0.012, memory: 4571, loss_rpn_cls: 0.0180, loss_rpn_bbox: 0.0052, loss_cls: 0.0592, acc: 99.5156, loss_bbox: 0.2153, loss: 0.2978\n",
      "2022-05-26 13:17:23,601 - mmfewshot - INFO - Iter [24600/100000]\tlr: 1.000e-04, eta: 6:18:12, time: 0.266, data_time: 0.013, memory: 4571, loss_rpn_cls: 0.0153, loss_rpn_bbox: 0.0058, loss_cls: 0.0661, acc: 99.5625, loss_bbox: 0.2116, loss: 0.2988\n",
      "2022-05-26 13:17:37,016 - mmfewshot - INFO - Iter [24650/100000]\tlr: 1.000e-04, eta: 6:17:52, time: 0.268, data_time: 0.012, memory: 4571, loss_rpn_cls: 0.0141, loss_rpn_bbox: 0.0040, loss_cls: 0.0665, acc: 99.5234, loss_bbox: 0.2107, loss: 0.2953\n",
      "2022-05-26 13:17:50,431 - mmfewshot - INFO - Iter [24700/100000]\tlr: 1.000e-04, eta: 6:17:32, time: 0.268, data_time: 0.012, memory: 4571, loss_rpn_cls: 0.0121, loss_rpn_bbox: 0.0039, loss_cls: 0.0629, acc: 99.5000, loss_bbox: 0.2173, loss: 0.2963\n",
      "2022-05-26 13:18:03,751 - mmfewshot - INFO - Iter [24750/100000]\tlr: 1.000e-04, eta: 6:17:12, time: 0.267, data_time: 0.012, memory: 4571, loss_rpn_cls: 0.0150, loss_rpn_bbox: 0.0044, loss_cls: 0.0800, acc: 99.3359, loss_bbox: 0.2555, loss: 0.3549\n",
      "2022-05-26 13:18:17,248 - mmfewshot - INFO - Iter [24800/100000]\tlr: 1.000e-04, eta: 6:16:52, time: 0.270, data_time: 0.012, memory: 4571, loss_rpn_cls: 0.0215, loss_rpn_bbox: 0.0069, loss_cls: 0.0591, acc: 99.5391, loss_bbox: 0.2148, loss: 0.3023\n",
      "2022-05-26 13:18:30,675 - mmfewshot - INFO - Iter [24850/100000]\tlr: 1.000e-04, eta: 6:16:32, time: 0.268, data_time: 0.013, memory: 4571, loss_rpn_cls: 0.0308, loss_rpn_bbox: 0.0097, loss_cls: 0.0861, acc: 99.4922, loss_bbox: 0.2211, loss: 0.3477\n",
      "2022-05-26 13:18:43,994 - mmfewshot - INFO - Iter [24900/100000]\tlr: 1.000e-04, eta: 6:16:12, time: 0.266, data_time: 0.012, memory: 4571, loss_rpn_cls: 0.0159, loss_rpn_bbox: 0.0059, loss_cls: 0.0512, acc: 99.5859, loss_bbox: 0.2274, loss: 0.3004\n",
      "2022-05-26 13:18:57,335 - mmfewshot - INFO - Iter [24950/100000]\tlr: 1.000e-04, eta: 6:15:52, time: 0.267, data_time: 0.012, memory: 4571, loss_rpn_cls: 0.0190, loss_rpn_bbox: 0.0071, loss_cls: 0.0694, acc: 99.3516, loss_bbox: 0.2345, loss: 0.3300\n",
      "2022-05-26 13:19:10,801 - mmfewshot - INFO - Exp name: attention-rpn_r50_c4_tb-split2_1shot-fine-tuning-momentum-09.py\n",
      "2022-05-26 13:19:10,802 - mmfewshot - INFO - Iter [25000/100000]\tlr: 1.000e-04, eta: 6:15:32, time: 0.269, data_time: 0.013, memory: 4571, loss_rpn_cls: 0.0198, loss_rpn_bbox: 0.0079, loss_cls: 0.0820, acc: 99.4141, loss_bbox: 0.2169, loss: 0.3266\n",
      "2022-05-26 13:19:10,806 - mmdet - INFO - starting model initialization...\n"
     ]
    },
    {
     "name": "stdout",
     "output_type": "stream",
     "text": [
      "[>>>>>>>>>>>>>>>>>>>>>>>>>>>>>] 850/850, 73.8 task/s, elapsed: 12s, ETA:     0s"
     ]
    },
    {
     "name": "stderr",
     "output_type": "stream",
     "text": [
      "2022-05-26 13:19:22,396 - mmdet - INFO - model initialization done.\n"
     ]
    },
    {
     "name": "stdout",
     "output_type": "stream",
     "text": [
      "[>>>>>>>>>>>>>>>>>>>>>>>>>>>>>] 300/300, 12.8 task/s, elapsed: 23s, ETA:     0s\n",
      "---------------iou_thr: 0.5---------------\n"
     ]
    },
    {
     "name": "stderr",
     "output_type": "stream",
     "text": [
      "2022-05-26 13:19:46,240 - mmfewshot - INFO - \n",
      "+---------+-----+------+--------+-------+\n",
      "| class   | gts | dets | recall | ap    |\n",
      "+---------+-----+------+--------+-------+\n",
      "| fanta   | 291 | 1566 | 0.828  | 0.595 |\n",
      "| Mirinda | 111 | 777  | 0.730  | 0.465 |\n",
      "+---------+-----+------+--------+-------+\n",
      "| mAP     |     |      |        | 0.530 |\n",
      "+---------+-----+------+--------+-------+\n",
      "2022-05-26 13:19:46,242 - mmfewshot - INFO - BASE_CLASSES_SPLIT2 mAP: 0.5302330255508423\n",
      "2022-05-26 13:19:46,243 - mmfewshot - INFO - NOVEL_CLASSES_SPLIT2 mAP: nan\n",
      "2022-05-26 13:19:46,247 - mmfewshot - INFO - Exp name: attention-rpn_r50_c4_tb-split2_1shot-fine-tuning-momentum-09.py\n",
      "2022-05-26 13:19:46,248 - mmfewshot - INFO - Iter(val) [300]\tAP50: 0.5300, BASE_CLASSES_SPLIT2: AP50: 0.5300, NOVEL_CLASSES_SPLIT2: AP50: nan, mAP: 0.5302\n",
      "2022-05-26 13:19:59,714 - mmfewshot - INFO - Iter [25050/100000]\tlr: 1.000e-04, eta: 6:16:59, time: 0.978, data_time: 0.722, memory: 4571, loss_rpn_cls: 0.0306, loss_rpn_bbox: 0.0086, loss_cls: 0.0674, acc: 99.4609, loss_bbox: 0.2720, loss: 0.3785\n",
      "2022-05-26 13:20:13,008 - mmfewshot - INFO - Iter [25100/100000]\tlr: 1.000e-04, eta: 6:16:38, time: 0.266, data_time: 0.012, memory: 4571, loss_rpn_cls: 0.0287, loss_rpn_bbox: 0.0088, loss_cls: 0.0795, acc: 99.4922, loss_bbox: 0.2237, loss: 0.3408\n",
      "2022-05-26 13:20:26,343 - mmfewshot - INFO - Iter [25150/100000]\tlr: 1.000e-04, eta: 6:16:18, time: 0.267, data_time: 0.012, memory: 4571, loss_rpn_cls: 0.0263, loss_rpn_bbox: 0.0101, loss_cls: 0.0753, acc: 99.2422, loss_bbox: 0.2606, loss: 0.3723\n",
      "2022-05-26 13:20:39,635 - mmfewshot - INFO - Iter [25200/100000]\tlr: 1.000e-04, eta: 6:15:57, time: 0.266, data_time: 0.012, memory: 4571, loss_rpn_cls: 0.0303, loss_rpn_bbox: 0.0141, loss_cls: 0.0598, acc: 99.4219, loss_bbox: 0.2587, loss: 0.3629\n",
      "2022-05-26 13:20:52,780 - mmfewshot - INFO - Iter [25250/100000]\tlr: 1.000e-04, eta: 6:15:37, time: 0.263, data_time: 0.010, memory: 4571, loss_rpn_cls: 0.0165, loss_rpn_bbox: 0.0051, loss_cls: 0.0575, acc: 99.5938, loss_bbox: 0.2076, loss: 0.2868\n",
      "2022-05-26 13:21:06,000 - mmfewshot - INFO - Iter [25300/100000]\tlr: 1.000e-04, eta: 6:15:16, time: 0.265, data_time: 0.011, memory: 4571, loss_rpn_cls: 0.0145, loss_rpn_bbox: 0.0036, loss_cls: 0.0781, acc: 99.4922, loss_bbox: 0.2140, loss: 0.3102\n",
      "2022-05-26 13:21:19,384 - mmfewshot - INFO - Iter [25350/100000]\tlr: 1.000e-04, eta: 6:14:56, time: 0.268, data_time: 0.012, memory: 4571, loss_rpn_cls: 0.0258, loss_rpn_bbox: 0.0084, loss_cls: 0.0683, acc: 99.5078, loss_bbox: 0.2192, loss: 0.3217\n",
      "2022-05-26 13:21:32,889 - mmfewshot - INFO - Iter [25400/100000]\tlr: 1.000e-04, eta: 6:14:36, time: 0.270, data_time: 0.013, memory: 4571, loss_rpn_cls: 0.0155, loss_rpn_bbox: 0.0052, loss_cls: 0.0548, acc: 99.5156, loss_bbox: 0.2452, loss: 0.3208\n",
      "2022-05-26 13:21:46,261 - mmfewshot - INFO - Iter [25450/100000]\tlr: 1.000e-04, eta: 6:14:16, time: 0.267, data_time: 0.011, memory: 4571, loss_rpn_cls: 0.0154, loss_rpn_bbox: 0.0052, loss_cls: 0.0751, acc: 99.3672, loss_bbox: 0.2324, loss: 0.3281\n",
      "2022-05-26 13:21:59,658 - mmfewshot - INFO - Iter [25500/100000]\tlr: 1.000e-04, eta: 6:13:56, time: 0.268, data_time: 0.013, memory: 4571, loss_rpn_cls: 0.0157, loss_rpn_bbox: 0.0045, loss_cls: 0.0558, acc: 99.5469, loss_bbox: 0.2264, loss: 0.3025\n",
      "2022-05-26 13:22:13,039 - mmfewshot - INFO - Iter [25550/100000]\tlr: 1.000e-04, eta: 6:13:37, time: 0.268, data_time: 0.012, memory: 4571, loss_rpn_cls: 0.0188, loss_rpn_bbox: 0.0068, loss_cls: 0.0518, acc: 99.5938, loss_bbox: 0.2493, loss: 0.3267\n",
      "2022-05-26 13:22:26,497 - mmfewshot - INFO - Iter [25600/100000]\tlr: 1.000e-04, eta: 6:13:17, time: 0.269, data_time: 0.012, memory: 4571, loss_rpn_cls: 0.0173, loss_rpn_bbox: 0.0058, loss_cls: 0.0639, acc: 99.3984, loss_bbox: 0.2622, loss: 0.3492\n",
      "2022-05-26 13:22:40,002 - mmfewshot - INFO - Iter [25650/100000]\tlr: 1.000e-04, eta: 6:12:57, time: 0.270, data_time: 0.013, memory: 4571, loss_rpn_cls: 0.0175, loss_rpn_bbox: 0.0044, loss_cls: 0.0542, acc: 99.5703, loss_bbox: 0.2125, loss: 0.2887\n",
      "2022-05-26 13:22:53,400 - mmfewshot - INFO - Iter [25700/100000]\tlr: 1.000e-04, eta: 6:12:37, time: 0.268, data_time: 0.012, memory: 4571, loss_rpn_cls: 0.0130, loss_rpn_bbox: 0.0062, loss_cls: 0.0674, acc: 99.3438, loss_bbox: 0.2670, loss: 0.3535\n",
      "2022-05-26 13:23:06,869 - mmfewshot - INFO - Iter [25750/100000]\tlr: 1.000e-04, eta: 6:12:18, time: 0.269, data_time: 0.013, memory: 4571, loss_rpn_cls: 0.0160, loss_rpn_bbox: 0.0062, loss_cls: 0.0592, acc: 99.4297, loss_bbox: 0.2625, loss: 0.3439\n",
      "2022-05-26 13:23:20,327 - mmfewshot - INFO - Iter [25800/100000]\tlr: 1.000e-04, eta: 6:11:58, time: 0.269, data_time: 0.013, memory: 4571, loss_rpn_cls: 0.0176, loss_rpn_bbox: 0.0060, loss_cls: 0.0657, acc: 99.4609, loss_bbox: 0.2600, loss: 0.3493\n",
      "2022-05-26 13:23:33,682 - mmfewshot - INFO - Iter [25850/100000]\tlr: 1.000e-04, eta: 6:11:38, time: 0.267, data_time: 0.012, memory: 4571, loss_rpn_cls: 0.0118, loss_rpn_bbox: 0.0041, loss_cls: 0.0591, acc: 99.4766, loss_bbox: 0.2532, loss: 0.3282\n",
      "2022-05-26 13:23:47,000 - mmfewshot - INFO - Iter [25900/100000]\tlr: 1.000e-04, eta: 6:11:18, time: 0.266, data_time: 0.012, memory: 4571, loss_rpn_cls: 0.0148, loss_rpn_bbox: 0.0046, loss_cls: 0.0735, acc: 99.3125, loss_bbox: 0.2420, loss: 0.3349\n",
      "2022-05-26 13:24:00,417 - mmfewshot - INFO - Iter [25950/100000]\tlr: 1.000e-04, eta: 6:10:59, time: 0.268, data_time: 0.013, memory: 4571, loss_rpn_cls: 0.0259, loss_rpn_bbox: 0.0102, loss_cls: 0.0620, acc: 99.4688, loss_bbox: 0.2641, loss: 0.3622\n",
      "2022-05-26 13:24:13,806 - mmfewshot - INFO - Exp name: attention-rpn_r50_c4_tb-split2_1shot-fine-tuning-momentum-09.py\n",
      "2022-05-26 13:24:13,807 - mmfewshot - INFO - Iter [26000/100000]\tlr: 1.000e-04, eta: 6:10:39, time: 0.268, data_time: 0.013, memory: 4571, loss_rpn_cls: 0.0256, loss_rpn_bbox: 0.0106, loss_cls: 0.0716, acc: 99.3516, loss_bbox: 0.2597, loss: 0.3675\n",
      "2022-05-26 13:24:13,812 - mmdet - INFO - starting model initialization...\n"
     ]
    },
    {
     "name": "stdout",
     "output_type": "stream",
     "text": [
      "[>>>>>>>>>>>>>>>>>>>>>>>>>>>>>] 850/850, 77.7 task/s, elapsed: 11s, ETA:     0s"
     ]
    },
    {
     "name": "stderr",
     "output_type": "stream",
     "text": [
      "2022-05-26 13:24:24,824 - mmdet - INFO - model initialization done.\n"
     ]
    },
    {
     "name": "stdout",
     "output_type": "stream",
     "text": [
      "[>>>>>>>>>>>>>>>>>>>>>>>>>>>>>] 300/300, 12.6 task/s, elapsed: 24s, ETA:     0s\n",
      "---------------iou_thr: 0.5---------------\n"
     ]
    },
    {
     "name": "stderr",
     "output_type": "stream",
     "text": [
      "2022-05-26 13:24:49,007 - mmfewshot - INFO - \n",
      "+---------+-----+------+--------+-------+\n",
      "| class   | gts | dets | recall | ap    |\n",
      "+---------+-----+------+--------+-------+\n",
      "| fanta   | 291 | 1802 | 0.845  | 0.618 |\n",
      "| Mirinda | 111 | 589  | 0.703  | 0.515 |\n",
      "+---------+-----+------+--------+-------+\n",
      "| mAP     |     |      |        | 0.567 |\n",
      "+---------+-----+------+--------+-------+\n",
      "2022-05-26 13:24:49,009 - mmfewshot - INFO - BASE_CLASSES_SPLIT2 mAP: 0.5666041970252991\n",
      "2022-05-26 13:24:49,010 - mmfewshot - INFO - NOVEL_CLASSES_SPLIT2 mAP: nan\n",
      "2022-05-26 13:24:49,013 - mmfewshot - INFO - Exp name: attention-rpn_r50_c4_tb-split2_1shot-fine-tuning-momentum-09.py\n",
      "2022-05-26 13:24:49,014 - mmfewshot - INFO - Iter(val) [300]\tAP50: 0.5670, BASE_CLASSES_SPLIT2: AP50: 0.5670, NOVEL_CLASSES_SPLIT2: AP50: nan, mAP: 0.5666\n",
      "2022-05-26 13:25:02,305 - mmfewshot - INFO - Iter [26050/100000]\tlr: 1.000e-04, eta: 6:11:59, time: 0.970, data_time: 0.716, memory: 4571, loss_rpn_cls: 0.0181, loss_rpn_bbox: 0.0066, loss_cls: 0.0594, acc: 99.4922, loss_bbox: 0.2541, loss: 0.3382\n",
      "2022-05-26 13:25:15,781 - mmfewshot - INFO - Iter [26100/100000]\tlr: 1.000e-04, eta: 6:11:39, time: 0.269, data_time: 0.013, memory: 4571, loss_rpn_cls: 0.0138, loss_rpn_bbox: 0.0050, loss_cls: 0.0645, acc: 99.5938, loss_bbox: 0.2526, loss: 0.3358\n",
      "2022-05-26 13:25:29,310 - mmfewshot - INFO - Iter [26150/100000]\tlr: 1.000e-04, eta: 6:11:20, time: 0.271, data_time: 0.013, memory: 4571, loss_rpn_cls: 0.0172, loss_rpn_bbox: 0.0059, loss_cls: 0.0626, acc: 99.5391, loss_bbox: 0.2298, loss: 0.3156\n",
      "2022-05-26 13:25:42,684 - mmfewshot - INFO - Iter [26200/100000]\tlr: 1.000e-04, eta: 6:11:00, time: 0.268, data_time: 0.012, memory: 4571, loss_rpn_cls: 0.0223, loss_rpn_bbox: 0.0076, loss_cls: 0.0640, acc: 99.4062, loss_bbox: 0.2536, loss: 0.3474\n",
      "2022-05-26 13:25:56,127 - mmfewshot - INFO - Iter [26250/100000]\tlr: 1.000e-04, eta: 6:10:40, time: 0.269, data_time: 0.012, memory: 4571, loss_rpn_cls: 0.0184, loss_rpn_bbox: 0.0064, loss_cls: 0.0857, acc: 99.3359, loss_bbox: 0.2340, loss: 0.3445\n",
      "2022-05-26 13:26:09,501 - mmfewshot - INFO - Iter [26300/100000]\tlr: 1.000e-04, eta: 6:10:20, time: 0.267, data_time: 0.012, memory: 4571, loss_rpn_cls: 0.0162, loss_rpn_bbox: 0.0042, loss_cls: 0.0762, acc: 99.4688, loss_bbox: 0.2117, loss: 0.3083\n",
      "2022-05-26 13:26:22,818 - mmfewshot - INFO - Iter [26350/100000]\tlr: 1.000e-04, eta: 6:10:00, time: 0.266, data_time: 0.011, memory: 4571, loss_rpn_cls: 0.0166, loss_rpn_bbox: 0.0047, loss_cls: 0.0927, acc: 99.5078, loss_bbox: 0.1935, loss: 0.3076\n",
      "2022-05-26 13:26:36,328 - mmfewshot - INFO - Iter [26400/100000]\tlr: 1.000e-04, eta: 6:09:41, time: 0.270, data_time: 0.013, memory: 4571, loss_rpn_cls: 0.0238, loss_rpn_bbox: 0.0078, loss_cls: 0.0992, acc: 99.3516, loss_bbox: 0.2454, loss: 0.3762\n",
      "2022-05-26 13:26:49,758 - mmfewshot - INFO - Iter [26450/100000]\tlr: 1.000e-04, eta: 6:09:21, time: 0.269, data_time: 0.013, memory: 4571, loss_rpn_cls: 0.0272, loss_rpn_bbox: 0.0088, loss_cls: 0.0768, acc: 99.3906, loss_bbox: 0.2254, loss: 0.3382\n",
      "2022-05-26 13:27:03,244 - mmfewshot - INFO - Iter [26500/100000]\tlr: 1.000e-04, eta: 6:09:02, time: 0.270, data_time: 0.013, memory: 4571, loss_rpn_cls: 0.0134, loss_rpn_bbox: 0.0042, loss_cls: 0.0648, acc: 99.4922, loss_bbox: 0.2299, loss: 0.3123\n",
      "2022-05-26 13:27:16,631 - mmfewshot - INFO - Iter [26550/100000]\tlr: 1.000e-04, eta: 6:08:42, time: 0.268, data_time: 0.013, memory: 4571, loss_rpn_cls: 0.0211, loss_rpn_bbox: 0.0085, loss_cls: 0.0767, acc: 99.3203, loss_bbox: 0.2512, loss: 0.3575\n",
      "2022-05-26 13:27:29,913 - mmfewshot - INFO - Iter [26600/100000]\tlr: 1.000e-04, eta: 6:08:22, time: 0.266, data_time: 0.012, memory: 4571, loss_rpn_cls: 0.0142, loss_rpn_bbox: 0.0066, loss_cls: 0.0646, acc: 99.4766, loss_bbox: 0.2736, loss: 0.3589\n",
      "2022-05-26 13:27:43,274 - mmfewshot - INFO - Iter [26650/100000]\tlr: 1.000e-04, eta: 6:08:03, time: 0.267, data_time: 0.012, memory: 4571, loss_rpn_cls: 0.0180, loss_rpn_bbox: 0.0047, loss_cls: 0.0937, acc: 99.5625, loss_bbox: 0.2025, loss: 0.3188\n",
      "2022-05-26 13:27:56,627 - mmfewshot - INFO - Iter [26700/100000]\tlr: 1.000e-04, eta: 6:07:43, time: 0.267, data_time: 0.012, memory: 4571, loss_rpn_cls: 0.0179, loss_rpn_bbox: 0.0051, loss_cls: 0.0548, acc: 99.5781, loss_bbox: 0.2284, loss: 0.3062\n",
      "2022-05-26 13:28:09,916 - mmfewshot - INFO - Iter [26750/100000]\tlr: 1.000e-04, eta: 6:07:23, time: 0.266, data_time: 0.011, memory: 4571, loss_rpn_cls: 0.0176, loss_rpn_bbox: 0.0052, loss_cls: 0.0457, acc: 99.5859, loss_bbox: 0.2418, loss: 0.3103\n",
      "2022-05-26 13:28:23,281 - mmfewshot - INFO - Iter [26800/100000]\tlr: 1.000e-04, eta: 6:07:03, time: 0.267, data_time: 0.012, memory: 4571, loss_rpn_cls: 0.0184, loss_rpn_bbox: 0.0078, loss_cls: 0.0622, acc: 99.4375, loss_bbox: 0.2604, loss: 0.3488\n",
      "2022-05-26 13:28:36,567 - mmfewshot - INFO - Iter [26850/100000]\tlr: 1.000e-04, eta: 6:06:43, time: 0.266, data_time: 0.012, memory: 4571, loss_rpn_cls: 0.0127, loss_rpn_bbox: 0.0037, loss_cls: 0.0751, acc: 99.5078, loss_bbox: 0.2217, loss: 0.3132\n",
      "2022-05-26 13:28:49,853 - mmfewshot - INFO - Iter [26900/100000]\tlr: 1.000e-04, eta: 6:06:24, time: 0.266, data_time: 0.012, memory: 4571, loss_rpn_cls: 0.0120, loss_rpn_bbox: 0.0038, loss_cls: 0.0489, acc: 99.5625, loss_bbox: 0.2379, loss: 0.3026\n",
      "2022-05-26 13:29:03,265 - mmfewshot - INFO - Iter [26950/100000]\tlr: 1.000e-04, eta: 6:06:04, time: 0.268, data_time: 0.012, memory: 4571, loss_rpn_cls: 0.0211, loss_rpn_bbox: 0.0096, loss_cls: 0.0726, acc: 99.2578, loss_bbox: 0.2708, loss: 0.3742\n",
      "2022-05-26 13:29:16,790 - mmfewshot - INFO - Exp name: attention-rpn_r50_c4_tb-split2_1shot-fine-tuning-momentum-09.py\n",
      "2022-05-26 13:29:16,792 - mmfewshot - INFO - Iter [27000/100000]\tlr: 1.000e-04, eta: 6:05:45, time: 0.271, data_time: 0.013, memory: 4571, loss_rpn_cls: 0.0151, loss_rpn_bbox: 0.0043, loss_cls: 0.0639, acc: 99.5000, loss_bbox: 0.2460, loss: 0.3293\n",
      "2022-05-26 13:29:16,798 - mmdet - INFO - starting model initialization...\n"
     ]
    },
    {
     "name": "stdout",
     "output_type": "stream",
     "text": [
      "[>>>>>>>>>>>>>>>>>>>>>>>>>>>>>] 850/850, 76.8 task/s, elapsed: 11s, ETA:     0s"
     ]
    },
    {
     "name": "stderr",
     "output_type": "stream",
     "text": [
      "2022-05-26 13:29:27,944 - mmdet - INFO - model initialization done.\n"
     ]
    },
    {
     "name": "stdout",
     "output_type": "stream",
     "text": [
      "[>>>>>>>>>>>>>>>>>>>>>>>>>>>>>] 300/300, 12.6 task/s, elapsed: 24s, ETA:     0s\n",
      "---------------iou_thr: 0.5---------------\n"
     ]
    },
    {
     "name": "stderr",
     "output_type": "stream",
     "text": [
      "2022-05-26 13:29:52,083 - mmfewshot - INFO - \n",
      "+---------+-----+------+--------+-------+\n",
      "| class   | gts | dets | recall | ap    |\n",
      "+---------+-----+------+--------+-------+\n",
      "| fanta   | 291 | 1735 | 0.835  | 0.651 |\n",
      "| Mirinda | 111 | 864  | 0.712  | 0.530 |\n",
      "+---------+-----+------+--------+-------+\n",
      "| mAP     |     |      |        | 0.591 |\n",
      "+---------+-----+------+--------+-------+\n",
      "2022-05-26 13:29:52,085 - mmfewshot - INFO - BASE_CLASSES_SPLIT2 mAP: 0.5906362533569336\n",
      "2022-05-26 13:29:52,086 - mmfewshot - INFO - NOVEL_CLASSES_SPLIT2 mAP: nan\n",
      "2022-05-26 13:29:52,090 - mmfewshot - INFO - Exp name: attention-rpn_r50_c4_tb-split2_1shot-fine-tuning-momentum-09.py\n",
      "2022-05-26 13:29:52,091 - mmfewshot - INFO - Iter(val) [300]\tAP50: 0.5910, BASE_CLASSES_SPLIT2: AP50: 0.5910, NOVEL_CLASSES_SPLIT2: AP50: nan, mAP: 0.5906\n",
      "2022-05-26 13:30:05,506 - mmfewshot - INFO - Iter [27050/100000]\tlr: 1.000e-04, eta: 6:07:01, time: 0.974, data_time: 0.719, memory: 4571, loss_rpn_cls: 0.0230, loss_rpn_bbox: 0.0079, loss_cls: 0.0600, acc: 99.5000, loss_bbox: 0.2264, loss: 0.3171\n",
      "2022-05-26 13:30:18,881 - mmfewshot - INFO - Iter [27100/100000]\tlr: 1.000e-04, eta: 6:06:41, time: 0.267, data_time: 0.012, memory: 4571, loss_rpn_cls: 0.0199, loss_rpn_bbox: 0.0088, loss_cls: 0.0815, acc: 99.4766, loss_bbox: 0.2441, loss: 0.3543\n",
      "2022-05-26 13:30:32,308 - mmfewshot - INFO - Iter [27150/100000]\tlr: 1.000e-04, eta: 6:06:22, time: 0.269, data_time: 0.013, memory: 4571, loss_rpn_cls: 0.0156, loss_rpn_bbox: 0.0068, loss_cls: 0.0676, acc: 99.5859, loss_bbox: 0.2452, loss: 0.3353\n",
      "2022-05-26 13:30:45,812 - mmfewshot - INFO - Iter [27200/100000]\tlr: 1.000e-04, eta: 6:06:02, time: 0.270, data_time: 0.013, memory: 4571, loss_rpn_cls: 0.0200, loss_rpn_bbox: 0.0079, loss_cls: 0.0497, acc: 99.5859, loss_bbox: 0.2642, loss: 0.3417\n",
      "2022-05-26 13:30:59,138 - mmfewshot - INFO - Iter [27250/100000]\tlr: 1.000e-04, eta: 6:05:43, time: 0.266, data_time: 0.012, memory: 4571, loss_rpn_cls: 0.0223, loss_rpn_bbox: 0.0062, loss_cls: 0.0704, acc: 99.4766, loss_bbox: 0.2410, loss: 0.3398\n",
      "2022-05-26 13:31:12,580 - mmfewshot - INFO - Iter [27300/100000]\tlr: 1.000e-04, eta: 6:05:23, time: 0.269, data_time: 0.012, memory: 4571, loss_rpn_cls: 0.0187, loss_rpn_bbox: 0.0067, loss_cls: 0.0657, acc: 99.4766, loss_bbox: 0.2476, loss: 0.3388\n",
      "2022-05-26 13:31:25,927 - mmfewshot - INFO - Iter [27350/100000]\tlr: 1.000e-04, eta: 6:05:03, time: 0.267, data_time: 0.011, memory: 4571, loss_rpn_cls: 0.0237, loss_rpn_bbox: 0.0088, loss_cls: 0.0947, acc: 99.2969, loss_bbox: 0.2635, loss: 0.3907\n",
      "2022-05-26 13:31:39,439 - mmfewshot - INFO - Iter [27400/100000]\tlr: 1.000e-04, eta: 6:04:44, time: 0.270, data_time: 0.013, memory: 4571, loss_rpn_cls: 0.0166, loss_rpn_bbox: 0.0065, loss_cls: 0.0613, acc: 99.5625, loss_bbox: 0.2206, loss: 0.3051\n",
      "2022-05-26 13:31:52,753 - mmfewshot - INFO - Iter [27450/100000]\tlr: 1.000e-04, eta: 6:04:25, time: 0.266, data_time: 0.012, memory: 4571, loss_rpn_cls: 0.0192, loss_rpn_bbox: 0.0079, loss_cls: 0.0638, acc: 99.4688, loss_bbox: 0.2623, loss: 0.3533\n",
      "2022-05-26 13:32:06,118 - mmfewshot - INFO - Iter [27500/100000]\tlr: 1.000e-04, eta: 6:04:05, time: 0.267, data_time: 0.012, memory: 4571, loss_rpn_cls: 0.0173, loss_rpn_bbox: 0.0075, loss_cls: 0.0586, acc: 99.4766, loss_bbox: 0.2803, loss: 0.3637\n",
      "2022-05-26 13:32:19,572 - mmfewshot - INFO - Iter [27550/100000]\tlr: 1.000e-04, eta: 6:03:46, time: 0.269, data_time: 0.012, memory: 4571, loss_rpn_cls: 0.0157, loss_rpn_bbox: 0.0061, loss_cls: 0.0475, acc: 99.5859, loss_bbox: 0.2737, loss: 0.3430\n",
      "2022-05-26 13:32:32,896 - mmfewshot - INFO - Iter [27600/100000]\tlr: 1.000e-04, eta: 6:03:26, time: 0.266, data_time: 0.012, memory: 4571, loss_rpn_cls: 0.0208, loss_rpn_bbox: 0.0060, loss_cls: 0.0706, acc: 99.5859, loss_bbox: 0.1972, loss: 0.2945\n",
      "2022-05-26 13:32:46,250 - mmfewshot - INFO - Iter [27650/100000]\tlr: 1.000e-04, eta: 6:03:07, time: 0.267, data_time: 0.013, memory: 4571, loss_rpn_cls: 0.0205, loss_rpn_bbox: 0.0078, loss_cls: 0.0798, acc: 99.4844, loss_bbox: 0.2238, loss: 0.3320\n",
      "2022-05-26 13:32:59,630 - mmfewshot - INFO - Iter [27700/100000]\tlr: 1.000e-04, eta: 6:02:47, time: 0.268, data_time: 0.012, memory: 4571, loss_rpn_cls: 0.0190, loss_rpn_bbox: 0.0068, loss_cls: 0.0730, acc: 99.4375, loss_bbox: 0.2135, loss: 0.3123\n",
      "2022-05-26 13:33:13,030 - mmfewshot - INFO - Iter [27750/100000]\tlr: 1.000e-04, eta: 6:02:28, time: 0.268, data_time: 0.013, memory: 4571, loss_rpn_cls: 0.0223, loss_rpn_bbox: 0.0080, loss_cls: 0.0581, acc: 99.4844, loss_bbox: 0.2507, loss: 0.3390\n",
      "2022-05-26 13:33:26,326 - mmfewshot - INFO - Iter [27800/100000]\tlr: 1.000e-04, eta: 6:02:08, time: 0.266, data_time: 0.012, memory: 4571, loss_rpn_cls: 0.0099, loss_rpn_bbox: 0.0038, loss_cls: 0.0569, acc: 99.5234, loss_bbox: 0.2290, loss: 0.2996\n",
      "2022-05-26 13:33:39,718 - mmfewshot - INFO - Iter [27850/100000]\tlr: 1.000e-04, eta: 6:01:49, time: 0.268, data_time: 0.012, memory: 4571, loss_rpn_cls: 0.0323, loss_rpn_bbox: 0.0102, loss_cls: 0.0688, acc: 99.4375, loss_bbox: 0.2769, loss: 0.3882\n",
      "2022-05-26 13:33:53,193 - mmfewshot - INFO - Iter [27900/100000]\tlr: 1.000e-04, eta: 6:01:30, time: 0.269, data_time: 0.012, memory: 4571, loss_rpn_cls: 0.0152, loss_rpn_bbox: 0.0067, loss_cls: 0.0715, acc: 99.3594, loss_bbox: 0.2816, loss: 0.3750\n",
      "2022-05-26 13:34:06,534 - mmfewshot - INFO - Iter [27950/100000]\tlr: 1.000e-04, eta: 6:01:10, time: 0.267, data_time: 0.013, memory: 4571, loss_rpn_cls: 0.0221, loss_rpn_bbox: 0.0065, loss_cls: 0.0834, acc: 99.4609, loss_bbox: 0.2513, loss: 0.3632\n",
      "2022-05-26 13:34:19,994 - mmfewshot - INFO - Exp name: attention-rpn_r50_c4_tb-split2_1shot-fine-tuning-momentum-09.py\n",
      "2022-05-26 13:34:19,996 - mmfewshot - INFO - Iter [28000/100000]\tlr: 1.000e-04, eta: 6:00:51, time: 0.269, data_time: 0.013, memory: 4571, loss_rpn_cls: 0.0152, loss_rpn_bbox: 0.0053, loss_cls: 0.0565, acc: 99.5469, loss_bbox: 0.2509, loss: 0.3279\n",
      "2022-05-26 13:34:20,002 - mmdet - INFO - starting model initialization...\n"
     ]
    },
    {
     "name": "stdout",
     "output_type": "stream",
     "text": [
      "[>>>>>>>>>>>>>>>>>>>>>>>>>>>>>] 850/850, 79.9 task/s, elapsed: 11s, ETA:     0s"
     ]
    },
    {
     "name": "stderr",
     "output_type": "stream",
     "text": [
      "2022-05-26 13:34:30,711 - mmdet - INFO - model initialization done.\n"
     ]
    },
    {
     "name": "stdout",
     "output_type": "stream",
     "text": [
      "[>>>>>>>>>>>>>>>>>>>>>>>>>>>>>] 300/300, 12.7 task/s, elapsed: 24s, ETA:     0s\n",
      "---------------iou_thr: 0.5---------------\n"
     ]
    },
    {
     "name": "stderr",
     "output_type": "stream",
     "text": [
      "2022-05-26 13:34:54,675 - mmfewshot - INFO - \n",
      "+---------+-----+------+--------+-------+\n",
      "| class   | gts | dets | recall | ap    |\n",
      "+---------+-----+------+--------+-------+\n",
      "| fanta   | 291 | 1508 | 0.825  | 0.643 |\n",
      "| Mirinda | 111 | 654  | 0.703  | 0.478 |\n",
      "+---------+-----+------+--------+-------+\n",
      "| mAP     |     |      |        | 0.561 |\n",
      "+---------+-----+------+--------+-------+\n",
      "2022-05-26 13:34:54,678 - mmfewshot - INFO - BASE_CLASSES_SPLIT2 mAP: 0.560839831829071\n",
      "2022-05-26 13:34:54,679 - mmfewshot - INFO - NOVEL_CLASSES_SPLIT2 mAP: nan\n",
      "2022-05-26 13:34:54,682 - mmfewshot - INFO - Exp name: attention-rpn_r50_c4_tb-split2_1shot-fine-tuning-momentum-09.py\n",
      "2022-05-26 13:34:54,683 - mmfewshot - INFO - Iter(val) [300]\tAP50: 0.5610, BASE_CLASSES_SPLIT2: AP50: 0.5610, NOVEL_CLASSES_SPLIT2: AP50: nan, mAP: 0.5608\n",
      "2022-05-26 13:35:08,084 - mmfewshot - INFO - Iter [28050/100000]\tlr: 1.000e-04, eta: 6:02:01, time: 0.962, data_time: 0.706, memory: 4571, loss_rpn_cls: 0.0182, loss_rpn_bbox: 0.0069, loss_cls: 0.0544, acc: 99.5781, loss_bbox: 0.2675, loss: 0.3470\n",
      "2022-05-26 13:35:21,423 - mmfewshot - INFO - Iter [28100/100000]\tlr: 1.000e-04, eta: 6:01:41, time: 0.267, data_time: 0.012, memory: 4571, loss_rpn_cls: 0.0158, loss_rpn_bbox: 0.0067, loss_cls: 0.0656, acc: 99.5547, loss_bbox: 0.2161, loss: 0.3043\n",
      "2022-05-26 13:35:34,816 - mmfewshot - INFO - Iter [28150/100000]\tlr: 1.000e-04, eta: 6:01:22, time: 0.268, data_time: 0.012, memory: 4571, loss_rpn_cls: 0.0104, loss_rpn_bbox: 0.0028, loss_cls: 0.0646, acc: 99.4453, loss_bbox: 0.2127, loss: 0.2906\n",
      "2022-05-26 13:35:48,298 - mmfewshot - INFO - Iter [28200/100000]\tlr: 1.000e-04, eta: 6:01:03, time: 0.269, data_time: 0.013, memory: 4571, loss_rpn_cls: 0.0380, loss_rpn_bbox: 0.0101, loss_cls: 0.0643, acc: 99.4609, loss_bbox: 0.2465, loss: 0.3589\n",
      "2022-05-26 13:36:01,607 - mmfewshot - INFO - Iter [28250/100000]\tlr: 1.000e-04, eta: 6:00:43, time: 0.267, data_time: 0.012, memory: 4571, loss_rpn_cls: 0.0162, loss_rpn_bbox: 0.0049, loss_cls: 0.0486, acc: 99.5312, loss_bbox: 0.2295, loss: 0.2992\n",
      "2022-05-26 13:36:14,920 - mmfewshot - INFO - Iter [28300/100000]\tlr: 1.000e-04, eta: 6:00:23, time: 0.266, data_time: 0.010, memory: 4571, loss_rpn_cls: 0.0135, loss_rpn_bbox: 0.0055, loss_cls: 0.0747, acc: 99.4141, loss_bbox: 0.2389, loss: 0.3326\n",
      "2022-05-26 13:36:28,168 - mmfewshot - INFO - Iter [28350/100000]\tlr: 1.000e-04, eta: 6:00:04, time: 0.265, data_time: 0.011, memory: 4571, loss_rpn_cls: 0.0191, loss_rpn_bbox: 0.0063, loss_cls: 0.0650, acc: 99.4375, loss_bbox: 0.2269, loss: 0.3174\n",
      "2022-05-26 13:36:41,614 - mmfewshot - INFO - Iter [28400/100000]\tlr: 1.000e-04, eta: 5:59:45, time: 0.269, data_time: 0.013, memory: 4571, loss_rpn_cls: 0.0147, loss_rpn_bbox: 0.0058, loss_cls: 0.0582, acc: 99.4766, loss_bbox: 0.2407, loss: 0.3195\n",
      "2022-05-26 13:36:54,902 - mmfewshot - INFO - Iter [28450/100000]\tlr: 1.000e-04, eta: 5:59:25, time: 0.266, data_time: 0.012, memory: 4571, loss_rpn_cls: 0.0136, loss_rpn_bbox: 0.0050, loss_cls: 0.0798, acc: 99.4375, loss_bbox: 0.2359, loss: 0.3343\n",
      "2022-05-26 13:37:08,251 - mmfewshot - INFO - Iter [28500/100000]\tlr: 1.000e-04, eta: 5:59:06, time: 0.267, data_time: 0.013, memory: 4571, loss_rpn_cls: 0.0119, loss_rpn_bbox: 0.0045, loss_cls: 0.0714, acc: 99.6328, loss_bbox: 0.2010, loss: 0.2888\n",
      "2022-05-26 13:37:21,658 - mmfewshot - INFO - Iter [28550/100000]\tlr: 1.000e-04, eta: 5:58:46, time: 0.268, data_time: 0.013, memory: 4571, loss_rpn_cls: 0.0155, loss_rpn_bbox: 0.0045, loss_cls: 0.0780, acc: 99.4219, loss_bbox: 0.2511, loss: 0.3491\n",
      "2022-05-26 13:37:35,097 - mmfewshot - INFO - Iter [28600/100000]\tlr: 1.000e-04, eta: 5:58:27, time: 0.269, data_time: 0.013, memory: 4571, loss_rpn_cls: 0.0224, loss_rpn_bbox: 0.0070, loss_cls: 0.0604, acc: 99.4844, loss_bbox: 0.2435, loss: 0.3333\n",
      "2022-05-26 13:37:48,561 - mmfewshot - INFO - Iter [28650/100000]\tlr: 1.000e-04, eta: 5:58:08, time: 0.269, data_time: 0.013, memory: 4571, loss_rpn_cls: 0.0135, loss_rpn_bbox: 0.0055, loss_cls: 0.0756, acc: 99.4297, loss_bbox: 0.2485, loss: 0.3431\n",
      "2022-05-26 13:38:01,925 - mmfewshot - INFO - Iter [28700/100000]\tlr: 1.000e-04, eta: 5:57:49, time: 0.267, data_time: 0.012, memory: 4571, loss_rpn_cls: 0.0192, loss_rpn_bbox: 0.0089, loss_cls: 0.0656, acc: 99.5312, loss_bbox: 0.2541, loss: 0.3478\n",
      "2022-05-26 13:38:15,431 - mmfewshot - INFO - Iter [28750/100000]\tlr: 1.000e-04, eta: 5:57:30, time: 0.270, data_time: 0.013, memory: 4571, loss_rpn_cls: 0.0309, loss_rpn_bbox: 0.0115, loss_cls: 0.0727, acc: 99.3906, loss_bbox: 0.2734, loss: 0.3885\n",
      "2022-05-26 13:38:28,786 - mmfewshot - INFO - Iter [28800/100000]\tlr: 1.000e-04, eta: 5:57:11, time: 0.267, data_time: 0.012, memory: 4571, loss_rpn_cls: 0.0169, loss_rpn_bbox: 0.0056, loss_cls: 0.0625, acc: 99.5469, loss_bbox: 0.2259, loss: 0.3109\n",
      "2022-05-26 13:38:42,136 - mmfewshot - INFO - Iter [28850/100000]\tlr: 1.000e-04, eta: 5:56:52, time: 0.267, data_time: 0.012, memory: 4571, loss_rpn_cls: 0.0123, loss_rpn_bbox: 0.0061, loss_cls: 0.0567, acc: 99.4922, loss_bbox: 0.2699, loss: 0.3450\n",
      "2022-05-26 13:38:55,426 - mmfewshot - INFO - Iter [28900/100000]\tlr: 1.000e-04, eta: 5:56:32, time: 0.266, data_time: 0.013, memory: 4571, loss_rpn_cls: 0.0359, loss_rpn_bbox: 0.0117, loss_cls: 0.0728, acc: 99.3828, loss_bbox: 0.2691, loss: 0.3895\n",
      "2022-05-26 13:39:08,673 - mmfewshot - INFO - Iter [28950/100000]\tlr: 1.000e-04, eta: 5:56:13, time: 0.265, data_time: 0.010, memory: 4571, loss_rpn_cls: 0.0181, loss_rpn_bbox: 0.0062, loss_cls: 0.0518, acc: 99.4219, loss_bbox: 0.2587, loss: 0.3348\n",
      "2022-05-26 13:39:21,947 - mmfewshot - INFO - Exp name: attention-rpn_r50_c4_tb-split2_1shot-fine-tuning-momentum-09.py\n",
      "2022-05-26 13:39:21,948 - mmfewshot - INFO - Iter [29000/100000]\tlr: 1.000e-04, eta: 5:55:53, time: 0.266, data_time: 0.012, memory: 4571, loss_rpn_cls: 0.0153, loss_rpn_bbox: 0.0052, loss_cls: 0.0587, acc: 99.4219, loss_bbox: 0.2231, loss: 0.3023\n",
      "2022-05-26 13:39:21,954 - mmdet - INFO - starting model initialization...\n"
     ]
    },
    {
     "name": "stdout",
     "output_type": "stream",
     "text": [
      "[>>>>>>>>>>>>>>>>>>>>>>>>>>>>>] 850/850, 78.2 task/s, elapsed: 11s, ETA:     0s"
     ]
    },
    {
     "name": "stderr",
     "output_type": "stream",
     "text": [
      "2022-05-26 13:39:32,906 - mmdet - INFO - model initialization done.\n"
     ]
    },
    {
     "name": "stdout",
     "output_type": "stream",
     "text": [
      "[>>>>>>>>>>>>>>>>>>>>>>>>>>>>>] 300/300, 12.7 task/s, elapsed: 24s, ETA:     0s\n",
      "---------------iou_thr: 0.5---------------\n"
     ]
    },
    {
     "name": "stderr",
     "output_type": "stream",
     "text": [
      "2022-05-26 13:39:56,953 - mmfewshot - INFO - \n",
      "+---------+-----+------+--------+-------+\n",
      "| class   | gts | dets | recall | ap    |\n",
      "+---------+-----+------+--------+-------+\n",
      "| fanta   | 291 | 1981 | 0.845  | 0.641 |\n",
      "| Mirinda | 111 | 761  | 0.685  | 0.470 |\n",
      "+---------+-----+------+--------+-------+\n",
      "| mAP     |     |      |        | 0.556 |\n",
      "+---------+-----+------+--------+-------+\n",
      "2022-05-26 13:39:56,956 - mmfewshot - INFO - BASE_CLASSES_SPLIT2 mAP: 0.5555505752563477\n",
      "2022-05-26 13:39:56,957 - mmfewshot - INFO - NOVEL_CLASSES_SPLIT2 mAP: nan\n",
      "2022-05-26 13:39:56,961 - mmfewshot - INFO - Exp name: attention-rpn_r50_c4_tb-split2_1shot-fine-tuning-momentum-09.py\n",
      "2022-05-26 13:39:56,962 - mmfewshot - INFO - Iter(val) [300]\tAP50: 0.5560, BASE_CLASSES_SPLIT2: AP50: 0.5560, NOVEL_CLASSES_SPLIT2: AP50: nan, mAP: 0.5556\n",
      "2022-05-26 13:40:10,422 - mmfewshot - INFO - Iter [29050/100000]\tlr: 1.000e-04, eta: 5:57:00, time: 0.970, data_time: 0.713, memory: 4571, loss_rpn_cls: 0.0165, loss_rpn_bbox: 0.0061, loss_cls: 0.0669, acc: 99.4297, loss_bbox: 0.2639, loss: 0.3534\n",
      "2022-05-26 13:40:23,924 - mmfewshot - INFO - Iter [29100/100000]\tlr: 1.000e-04, eta: 5:56:41, time: 0.270, data_time: 0.014, memory: 4571, loss_rpn_cls: 0.0144, loss_rpn_bbox: 0.0053, loss_cls: 0.0572, acc: 99.4609, loss_bbox: 0.2627, loss: 0.3396\n",
      "2022-05-26 13:40:37,315 - mmfewshot - INFO - Iter [29150/100000]\tlr: 1.000e-04, eta: 5:56:22, time: 0.267, data_time: 0.013, memory: 4571, loss_rpn_cls: 0.0110, loss_rpn_bbox: 0.0041, loss_cls: 0.0761, acc: 99.5078, loss_bbox: 0.2093, loss: 0.3004\n",
      "2022-05-26 13:40:50,752 - mmfewshot - INFO - Iter [29200/100000]\tlr: 1.000e-04, eta: 5:56:03, time: 0.269, data_time: 0.013, memory: 4571, loss_rpn_cls: 0.0178, loss_rpn_bbox: 0.0071, loss_cls: 0.0670, acc: 99.3984, loss_bbox: 0.2615, loss: 0.3534\n",
      "2022-05-26 13:41:04,020 - mmfewshot - INFO - Iter [29250/100000]\tlr: 1.000e-04, eta: 5:55:43, time: 0.265, data_time: 0.012, memory: 4571, loss_rpn_cls: 0.0152, loss_rpn_bbox: 0.0044, loss_cls: 0.0677, acc: 99.3750, loss_bbox: 0.2430, loss: 0.3304\n",
      "2022-05-26 13:41:17,500 - mmfewshot - INFO - Iter [29300/100000]\tlr: 1.000e-04, eta: 5:55:24, time: 0.270, data_time: 0.013, memory: 4571, loss_rpn_cls: 0.0160, loss_rpn_bbox: 0.0060, loss_cls: 0.0673, acc: 99.4297, loss_bbox: 0.2719, loss: 0.3611\n",
      "2022-05-26 13:41:30,887 - mmfewshot - INFO - Iter [29350/100000]\tlr: 1.000e-04, eta: 5:55:05, time: 0.268, data_time: 0.012, memory: 4571, loss_rpn_cls: 0.0148, loss_rpn_bbox: 0.0057, loss_cls: 0.0919, acc: 99.2734, loss_bbox: 0.2383, loss: 0.3508\n",
      "2022-05-26 13:41:44,206 - mmfewshot - INFO - Iter [29400/100000]\tlr: 1.000e-04, eta: 5:54:46, time: 0.266, data_time: 0.011, memory: 4571, loss_rpn_cls: 0.0288, loss_rpn_bbox: 0.0094, loss_cls: 0.0768, acc: 99.4375, loss_bbox: 0.2430, loss: 0.3581\n",
      "2022-05-26 13:41:57,656 - mmfewshot - INFO - Iter [29450/100000]\tlr: 1.000e-04, eta: 5:54:27, time: 0.269, data_time: 0.013, memory: 4571, loss_rpn_cls: 0.0297, loss_rpn_bbox: 0.0108, loss_cls: 0.0755, acc: 99.2812, loss_bbox: 0.2746, loss: 0.3906\n",
      "2022-05-26 13:42:11,110 - mmfewshot - INFO - Iter [29500/100000]\tlr: 1.000e-04, eta: 5:54:08, time: 0.269, data_time: 0.013, memory: 4571, loss_rpn_cls: 0.0256, loss_rpn_bbox: 0.0065, loss_cls: 0.0575, acc: 99.4688, loss_bbox: 0.2414, loss: 0.3309\n",
      "2022-05-26 13:42:24,516 - mmfewshot - INFO - Iter [29550/100000]\tlr: 1.000e-04, eta: 5:53:49, time: 0.268, data_time: 0.013, memory: 4571, loss_rpn_cls: 0.0192, loss_rpn_bbox: 0.0060, loss_cls: 0.0795, acc: 99.3594, loss_bbox: 0.2339, loss: 0.3387\n",
      "2022-05-26 13:42:37,877 - mmfewshot - INFO - Iter [29600/100000]\tlr: 1.000e-04, eta: 5:53:30, time: 0.267, data_time: 0.012, memory: 4571, loss_rpn_cls: 0.0162, loss_rpn_bbox: 0.0058, loss_cls: 0.0567, acc: 99.4766, loss_bbox: 0.2849, loss: 0.3636\n",
      "2022-05-26 13:42:51,294 - mmfewshot - INFO - Iter [29650/100000]\tlr: 1.000e-04, eta: 5:53:11, time: 0.268, data_time: 0.012, memory: 4571, loss_rpn_cls: 0.0199, loss_rpn_bbox: 0.0058, loss_cls: 0.0734, acc: 99.5156, loss_bbox: 0.2265, loss: 0.3255\n",
      "2022-05-26 13:43:04,707 - mmfewshot - INFO - Iter [29700/100000]\tlr: 1.000e-04, eta: 5:52:52, time: 0.268, data_time: 0.013, memory: 4571, loss_rpn_cls: 0.0175, loss_rpn_bbox: 0.0063, loss_cls: 0.0613, acc: 99.4688, loss_bbox: 0.2637, loss: 0.3487\n",
      "2022-05-26 13:43:18,041 - mmfewshot - INFO - Iter [29750/100000]\tlr: 1.000e-04, eta: 5:52:33, time: 0.267, data_time: 0.011, memory: 4571, loss_rpn_cls: 0.0109, loss_rpn_bbox: 0.0048, loss_cls: 0.0549, acc: 99.5312, loss_bbox: 0.2296, loss: 0.3001\n",
      "2022-05-26 13:43:31,441 - mmfewshot - INFO - Iter [29800/100000]\tlr: 1.000e-04, eta: 5:52:14, time: 0.268, data_time: 0.013, memory: 4571, loss_rpn_cls: 0.0248, loss_rpn_bbox: 0.0074, loss_cls: 0.0685, acc: 99.3359, loss_bbox: 0.2807, loss: 0.3814\n",
      "2022-05-26 13:43:44,752 - mmfewshot - INFO - Iter [29850/100000]\tlr: 1.000e-04, eta: 5:51:55, time: 0.266, data_time: 0.013, memory: 4571, loss_rpn_cls: 0.0235, loss_rpn_bbox: 0.0088, loss_cls: 0.0523, acc: 99.6172, loss_bbox: 0.2326, loss: 0.3173\n",
      "2022-05-26 13:43:57,992 - mmfewshot - INFO - Iter [29900/100000]\tlr: 1.000e-04, eta: 5:51:35, time: 0.265, data_time: 0.012, memory: 4571, loss_rpn_cls: 0.0111, loss_rpn_bbox: 0.0042, loss_cls: 0.0470, acc: 99.6406, loss_bbox: 0.2054, loss: 0.2676\n",
      "2022-05-26 13:44:11,344 - mmfewshot - INFO - Iter [29950/100000]\tlr: 1.000e-04, eta: 5:51:16, time: 0.267, data_time: 0.013, memory: 4571, loss_rpn_cls: 0.0138, loss_rpn_bbox: 0.0051, loss_cls: 0.0618, acc: 99.5938, loss_bbox: 0.2365, loss: 0.3171\n",
      "2022-05-26 13:44:24,668 - mmfewshot - INFO - Saving checkpoint at 30000 iterations\n",
      "2022-05-26 13:44:26,280 - mmfewshot - INFO - Exp name: attention-rpn_r50_c4_tb-split2_1shot-fine-tuning-momentum-09.py\n",
      "2022-05-26 13:44:26,281 - mmfewshot - INFO - Iter [30000/100000]\tlr: 1.000e-04, eta: 5:51:01, time: 0.301, data_time: 0.013, memory: 4571, loss_rpn_cls: 0.0226, loss_rpn_bbox: 0.0080, loss_cls: 0.0743, acc: 99.3281, loss_bbox: 0.2639, loss: 0.3688\n",
      "2022-05-26 13:44:26,286 - mmdet - INFO - starting model initialization...\n"
     ]
    },
    {
     "name": "stdout",
     "output_type": "stream",
     "text": [
      "[>>>>>>>>>>>>>>>>>>>>>>>>>>>>>] 850/850, 73.8 task/s, elapsed: 12s, ETA:     0s"
     ]
    },
    {
     "name": "stderr",
     "output_type": "stream",
     "text": [
      "2022-05-26 13:44:37,875 - mmdet - INFO - model initialization done.\n"
     ]
    },
    {
     "name": "stdout",
     "output_type": "stream",
     "text": [
      "[>>>>>>>>>>>>>>>>>>>>>>>>>>>>>] 300/300, 12.8 task/s, elapsed: 23s, ETA:     0s\n",
      "---------------iou_thr: 0.5---------------\n"
     ]
    },
    {
     "name": "stderr",
     "output_type": "stream",
     "text": [
      "2022-05-26 13:45:01,703 - mmfewshot - INFO - \n",
      "+---------+-----+------+--------+-------+\n",
      "| class   | gts | dets | recall | ap    |\n",
      "+---------+-----+------+--------+-------+\n",
      "| fanta   | 291 | 2106 | 0.852  | 0.601 |\n",
      "| Mirinda | 111 | 717  | 0.676  | 0.506 |\n",
      "+---------+-----+------+--------+-------+\n",
      "| mAP     |     |      |        | 0.553 |\n",
      "+---------+-----+------+--------+-------+\n",
      "2022-05-26 13:45:01,706 - mmfewshot - INFO - BASE_CLASSES_SPLIT2 mAP: 0.553325891494751\n",
      "2022-05-26 13:45:01,707 - mmfewshot - INFO - NOVEL_CLASSES_SPLIT2 mAP: nan\n",
      "2022-05-26 13:45:01,710 - mmfewshot - INFO - Exp name: attention-rpn_r50_c4_tb-split2_1shot-fine-tuning-momentum-09.py\n",
      "2022-05-26 13:45:01,711 - mmfewshot - INFO - Iter(val) [300]\tAP50: 0.5530, BASE_CLASSES_SPLIT2: AP50: 0.5530, NOVEL_CLASSES_SPLIT2: AP50: nan, mAP: 0.5533\n",
      "2022-05-26 13:45:15,114 - mmfewshot - INFO - Iter [30050/100000]\tlr: 1.000e-04, eta: 5:52:05, time: 0.975, data_time: 0.719, memory: 4571, loss_rpn_cls: 0.0134, loss_rpn_bbox: 0.0043, loss_cls: 0.0492, acc: 99.5312, loss_bbox: 0.2406, loss: 0.3075\n",
      "2022-05-26 13:45:28,638 - mmfewshot - INFO - Iter [30100/100000]\tlr: 1.000e-04, eta: 5:51:46, time: 0.270, data_time: 0.013, memory: 4571, loss_rpn_cls: 0.0186, loss_rpn_bbox: 0.0101, loss_cls: 0.0523, acc: 99.5391, loss_bbox: 0.2802, loss: 0.3612\n",
      "2022-05-26 13:45:41,986 - mmfewshot - INFO - Iter [30150/100000]\tlr: 1.000e-04, eta: 5:51:27, time: 0.267, data_time: 0.012, memory: 4571, loss_rpn_cls: 0.0169, loss_rpn_bbox: 0.0051, loss_cls: 0.0564, acc: 99.4922, loss_bbox: 0.2493, loss: 0.3278\n",
      "2022-05-26 13:45:55,326 - mmfewshot - INFO - Iter [30200/100000]\tlr: 1.000e-04, eta: 5:51:08, time: 0.267, data_time: 0.012, memory: 4571, loss_rpn_cls: 0.0205, loss_rpn_bbox: 0.0089, loss_cls: 0.0522, acc: 99.4922, loss_bbox: 0.2796, loss: 0.3611\n",
      "2022-05-26 13:46:08,603 - mmfewshot - INFO - Iter [30250/100000]\tlr: 1.000e-04, eta: 5:50:48, time: 0.265, data_time: 0.011, memory: 4571, loss_rpn_cls: 0.0109, loss_rpn_bbox: 0.0041, loss_cls: 0.0599, acc: 99.5859, loss_bbox: 0.2409, loss: 0.3157\n",
      "2022-05-26 13:46:21,788 - mmfewshot - INFO - Iter [30300/100000]\tlr: 1.000e-04, eta: 5:50:29, time: 0.264, data_time: 0.010, memory: 4571, loss_rpn_cls: 0.0144, loss_rpn_bbox: 0.0043, loss_cls: 0.0594, acc: 99.4609, loss_bbox: 0.2634, loss: 0.3415\n",
      "2022-05-26 13:46:35,119 - mmfewshot - INFO - Iter [30350/100000]\tlr: 1.000e-04, eta: 5:50:10, time: 0.267, data_time: 0.013, memory: 4571, loss_rpn_cls: 0.0135, loss_rpn_bbox: 0.0070, loss_cls: 0.0715, acc: 99.3906, loss_bbox: 0.2421, loss: 0.3341\n",
      "2022-05-26 13:46:48,548 - mmfewshot - INFO - Iter [30400/100000]\tlr: 1.000e-04, eta: 5:49:51, time: 0.268, data_time: 0.012, memory: 4571, loss_rpn_cls: 0.0150, loss_rpn_bbox: 0.0096, loss_cls: 0.0445, acc: 99.5781, loss_bbox: 0.2418, loss: 0.3109\n",
      "2022-05-26 13:47:01,879 - mmfewshot - INFO - Iter [30450/100000]\tlr: 1.000e-04, eta: 5:49:32, time: 0.267, data_time: 0.012, memory: 4571, loss_rpn_cls: 0.0115, loss_rpn_bbox: 0.0034, loss_cls: 0.0541, acc: 99.5391, loss_bbox: 0.2458, loss: 0.3148\n",
      "2022-05-26 13:47:15,205 - mmfewshot - INFO - Iter [30500/100000]\tlr: 1.000e-04, eta: 5:49:13, time: 0.267, data_time: 0.012, memory: 4571, loss_rpn_cls: 0.0174, loss_rpn_bbox: 0.0060, loss_cls: 0.1033, acc: 99.2969, loss_bbox: 0.2728, loss: 0.3995\n",
      "2022-05-26 13:47:28,734 - mmfewshot - INFO - Iter [30550/100000]\tlr: 1.000e-04, eta: 5:48:54, time: 0.271, data_time: 0.012, memory: 4571, loss_rpn_cls: 0.0258, loss_rpn_bbox: 0.0110, loss_cls: 0.0812, acc: 99.4844, loss_bbox: 0.2423, loss: 0.3604\n",
      "2022-05-26 13:47:42,028 - mmfewshot - INFO - Iter [30600/100000]\tlr: 1.000e-04, eta: 5:48:35, time: 0.266, data_time: 0.011, memory: 4571, loss_rpn_cls: 0.0150, loss_rpn_bbox: 0.0068, loss_cls: 0.0483, acc: 99.5469, loss_bbox: 0.2762, loss: 0.3463\n",
      "2022-05-26 13:47:55,513 - mmfewshot - INFO - Iter [30650/100000]\tlr: 1.000e-04, eta: 5:48:16, time: 0.270, data_time: 0.013, memory: 4571, loss_rpn_cls: 0.0188, loss_rpn_bbox: 0.0072, loss_cls: 0.0467, acc: 99.4375, loss_bbox: 0.3229, loss: 0.3956\n",
      "2022-05-26 13:48:08,922 - mmfewshot - INFO - Iter [30700/100000]\tlr: 1.000e-04, eta: 5:47:58, time: 0.268, data_time: 0.012, memory: 4571, loss_rpn_cls: 0.0160, loss_rpn_bbox: 0.0079, loss_cls: 0.0572, acc: 99.4922, loss_bbox: 0.2570, loss: 0.3381\n",
      "2022-05-26 13:48:22,281 - mmfewshot - INFO - Iter [30750/100000]\tlr: 1.000e-04, eta: 5:47:39, time: 0.267, data_time: 0.011, memory: 4571, loss_rpn_cls: 0.0148, loss_rpn_bbox: 0.0080, loss_cls: 0.0717, acc: 99.3359, loss_bbox: 0.2577, loss: 0.3521\n",
      "2022-05-26 13:48:35,622 - mmfewshot - INFO - Iter [30800/100000]\tlr: 1.000e-04, eta: 5:47:20, time: 0.267, data_time: 0.013, memory: 4571, loss_rpn_cls: 0.0159, loss_rpn_bbox: 0.0057, loss_cls: 0.0555, acc: 99.5859, loss_bbox: 0.2528, loss: 0.3300\n",
      "2022-05-26 13:48:49,035 - mmfewshot - INFO - Iter [30850/100000]\tlr: 1.000e-04, eta: 5:47:01, time: 0.268, data_time: 0.013, memory: 4571, loss_rpn_cls: 0.0121, loss_rpn_bbox: 0.0034, loss_cls: 0.0830, acc: 99.5547, loss_bbox: 0.2338, loss: 0.3323\n",
      "2022-05-26 13:49:02,494 - mmfewshot - INFO - Iter [30900/100000]\tlr: 1.000e-04, eta: 5:46:42, time: 0.269, data_time: 0.012, memory: 4571, loss_rpn_cls: 0.0146, loss_rpn_bbox: 0.0054, loss_cls: 0.0571, acc: 99.5703, loss_bbox: 0.2506, loss: 0.3276\n",
      "2022-05-26 13:49:15,943 - mmfewshot - INFO - Iter [30950/100000]\tlr: 1.000e-04, eta: 5:46:24, time: 0.269, data_time: 0.013, memory: 4571, loss_rpn_cls: 0.0133, loss_rpn_bbox: 0.0040, loss_cls: 0.0570, acc: 99.5625, loss_bbox: 0.2386, loss: 0.3128\n",
      "2022-05-26 13:49:29,259 - mmfewshot - INFO - Exp name: attention-rpn_r50_c4_tb-split2_1shot-fine-tuning-momentum-09.py\n",
      "2022-05-26 13:49:29,260 - mmfewshot - INFO - Iter [31000/100000]\tlr: 1.000e-04, eta: 5:46:05, time: 0.266, data_time: 0.013, memory: 4571, loss_rpn_cls: 0.0232, loss_rpn_bbox: 0.0098, loss_cls: 0.0664, acc: 99.4141, loss_bbox: 0.2521, loss: 0.3515\n",
      "2022-05-26 13:49:29,265 - mmdet - INFO - starting model initialization...\n"
     ]
    },
    {
     "name": "stdout",
     "output_type": "stream",
     "text": [
      "[>>>>>>>>>>>>>>>>>>>>>>>>>>>>>] 850/850, 76.5 task/s, elapsed: 11s, ETA:     0s"
     ]
    },
    {
     "name": "stderr",
     "output_type": "stream",
     "text": [
      "2022-05-26 13:49:40,465 - mmdet - INFO - model initialization done.\n"
     ]
    },
    {
     "name": "stdout",
     "output_type": "stream",
     "text": [
      "[>>>>>>>>>>>>>>>>>>>>>>>>>>>>>] 300/300, 12.7 task/s, elapsed: 24s, ETA:     0s\n",
      "---------------iou_thr: 0.5---------------\n"
     ]
    },
    {
     "name": "stderr",
     "output_type": "stream",
     "text": [
      "2022-05-26 13:50:04,351 - mmfewshot - INFO - \n",
      "+---------+-----+------+--------+-------+\n",
      "| class   | gts | dets | recall | ap    |\n",
      "+---------+-----+------+--------+-------+\n",
      "| fanta   | 291 | 1879 | 0.852  | 0.639 |\n",
      "| Mirinda | 111 | 572  | 0.667  | 0.486 |\n",
      "+---------+-----+------+--------+-------+\n",
      "| mAP     |     |      |        | 0.563 |\n",
      "+---------+-----+------+--------+-------+\n",
      "2022-05-26 13:50:04,353 - mmfewshot - INFO - BASE_CLASSES_SPLIT2 mAP: 0.5625742673873901\n",
      "2022-05-26 13:50:04,354 - mmfewshot - INFO - NOVEL_CLASSES_SPLIT2 mAP: nan\n",
      "2022-05-26 13:50:04,357 - mmfewshot - INFO - Exp name: attention-rpn_r50_c4_tb-split2_1shot-fine-tuning-momentum-09.py\n",
      "2022-05-26 13:50:04,359 - mmfewshot - INFO - Iter(val) [300]\tAP50: 0.5630, BASE_CLASSES_SPLIT2: AP50: 0.5630, NOVEL_CLASSES_SPLIT2: AP50: nan, mAP: 0.5626\n",
      "2022-05-26 13:50:17,750 - mmfewshot - INFO - Iter [31050/100000]\tlr: 1.000e-04, eta: 5:47:04, time: 0.970, data_time: 0.714, memory: 4571, loss_rpn_cls: 0.0116, loss_rpn_bbox: 0.0042, loss_cls: 0.0543, acc: 99.5234, loss_bbox: 0.2405, loss: 0.3106\n",
      "2022-05-26 13:50:31,148 - mmfewshot - INFO - Iter [31100/100000]\tlr: 1.000e-04, eta: 5:46:45, time: 0.268, data_time: 0.013, memory: 4571, loss_rpn_cls: 0.0176, loss_rpn_bbox: 0.0067, loss_cls: 0.0618, acc: 99.4766, loss_bbox: 0.2296, loss: 0.3156\n",
      "2022-05-26 13:50:44,566 - mmfewshot - INFO - Iter [31150/100000]\tlr: 1.000e-04, eta: 5:46:26, time: 0.269, data_time: 0.013, memory: 4571, loss_rpn_cls: 0.0213, loss_rpn_bbox: 0.0072, loss_cls: 0.0550, acc: 99.4531, loss_bbox: 0.2755, loss: 0.3590\n",
      "2022-05-26 13:50:58,004 - mmfewshot - INFO - Iter [31200/100000]\tlr: 1.000e-04, eta: 5:46:08, time: 0.269, data_time: 0.013, memory: 4571, loss_rpn_cls: 0.0150, loss_rpn_bbox: 0.0056, loss_cls: 0.0695, acc: 99.3281, loss_bbox: 0.2587, loss: 0.3487\n",
      "2022-05-26 13:51:11,332 - mmfewshot - INFO - Iter [31250/100000]\tlr: 1.000e-04, eta: 5:45:49, time: 0.266, data_time: 0.012, memory: 4571, loss_rpn_cls: 0.0176, loss_rpn_bbox: 0.0051, loss_cls: 0.0641, acc: 99.4531, loss_bbox: 0.2272, loss: 0.3140\n",
      "2022-05-26 13:51:24,709 - mmfewshot - INFO - Iter [31300/100000]\tlr: 1.000e-04, eta: 5:45:30, time: 0.267, data_time: 0.012, memory: 4571, loss_rpn_cls: 0.0140, loss_rpn_bbox: 0.0052, loss_cls: 0.0703, acc: 99.3672, loss_bbox: 0.2781, loss: 0.3676\n",
      "2022-05-26 13:51:38,055 - mmfewshot - INFO - Iter [31350/100000]\tlr: 1.000e-04, eta: 5:45:11, time: 0.267, data_time: 0.012, memory: 4571, loss_rpn_cls: 0.0169, loss_rpn_bbox: 0.0050, loss_cls: 0.0439, acc: 99.6484, loss_bbox: 0.2228, loss: 0.2887\n",
      "2022-05-26 13:51:51,399 - mmfewshot - INFO - Iter [31400/100000]\tlr: 1.000e-04, eta: 5:44:52, time: 0.267, data_time: 0.011, memory: 4571, loss_rpn_cls: 0.0259, loss_rpn_bbox: 0.0081, loss_cls: 0.0627, acc: 99.4141, loss_bbox: 0.2328, loss: 0.3296\n",
      "2022-05-26 13:52:04,851 - mmfewshot - INFO - Iter [31450/100000]\tlr: 1.000e-04, eta: 5:44:33, time: 0.269, data_time: 0.012, memory: 4571, loss_rpn_cls: 0.0306, loss_rpn_bbox: 0.0099, loss_cls: 0.0559, acc: 99.4219, loss_bbox: 0.2637, loss: 0.3601\n",
      "2022-05-26 13:52:18,292 - mmfewshot - INFO - Iter [31500/100000]\tlr: 1.000e-04, eta: 5:44:15, time: 0.269, data_time: 0.013, memory: 4571, loss_rpn_cls: 0.0157, loss_rpn_bbox: 0.0050, loss_cls: 0.0624, acc: 99.4375, loss_bbox: 0.2515, loss: 0.3346\n",
      "2022-05-26 13:52:31,734 - mmfewshot - INFO - Iter [31550/100000]\tlr: 1.000e-04, eta: 5:43:56, time: 0.269, data_time: 0.012, memory: 4571, loss_rpn_cls: 0.0164, loss_rpn_bbox: 0.0058, loss_cls: 0.0473, acc: 99.6328, loss_bbox: 0.2410, loss: 0.3106\n",
      "2022-05-26 13:52:45,070 - mmfewshot - INFO - Iter [31600/100000]\tlr: 1.000e-04, eta: 5:43:37, time: 0.267, data_time: 0.011, memory: 4571, loss_rpn_cls: 0.0193, loss_rpn_bbox: 0.0100, loss_cls: 0.0611, acc: 99.4297, loss_bbox: 0.2525, loss: 0.3429\n",
      "2022-05-26 13:52:58,593 - mmfewshot - INFO - Iter [31650/100000]\tlr: 1.000e-04, eta: 5:43:19, time: 0.270, data_time: 0.013, memory: 4571, loss_rpn_cls: 0.0191, loss_rpn_bbox: 0.0069, loss_cls: 0.0554, acc: 99.4766, loss_bbox: 0.2761, loss: 0.3576\n",
      "2022-05-26 13:53:12,048 - mmfewshot - INFO - Iter [31700/100000]\tlr: 1.000e-04, eta: 5:43:00, time: 0.269, data_time: 0.013, memory: 4571, loss_rpn_cls: 0.0106, loss_rpn_bbox: 0.0058, loss_cls: 0.0614, acc: 99.5391, loss_bbox: 0.2416, loss: 0.3194\n",
      "2022-05-26 13:53:25,498 - mmfewshot - INFO - Iter [31750/100000]\tlr: 1.000e-04, eta: 5:42:42, time: 0.269, data_time: 0.013, memory: 4571, loss_rpn_cls: 0.0140, loss_rpn_bbox: 0.0055, loss_cls: 0.0509, acc: 99.4141, loss_bbox: 0.3093, loss: 0.3797\n",
      "2022-05-26 13:53:38,938 - mmfewshot - INFO - Iter [31800/100000]\tlr: 1.000e-04, eta: 5:42:23, time: 0.269, data_time: 0.013, memory: 4571, loss_rpn_cls: 0.0191, loss_rpn_bbox: 0.0075, loss_cls: 0.0513, acc: 99.5547, loss_bbox: 0.2549, loss: 0.3327\n",
      "2022-05-26 13:53:52,303 - mmfewshot - INFO - Iter [31850/100000]\tlr: 1.000e-04, eta: 5:42:04, time: 0.267, data_time: 0.013, memory: 4571, loss_rpn_cls: 0.0142, loss_rpn_bbox: 0.0061, loss_cls: 0.0747, acc: 99.4688, loss_bbox: 0.2425, loss: 0.3376\n",
      "2022-05-26 13:54:05,660 - mmfewshot - INFO - Iter [31900/100000]\tlr: 1.000e-04, eta: 5:41:46, time: 0.267, data_time: 0.012, memory: 4571, loss_rpn_cls: 0.0279, loss_rpn_bbox: 0.0103, loss_cls: 0.0631, acc: 99.5078, loss_bbox: 0.2431, loss: 0.3444\n",
      "2022-05-26 13:54:19,159 - mmfewshot - INFO - Iter [31950/100000]\tlr: 1.000e-04, eta: 5:41:27, time: 0.270, data_time: 0.013, memory: 4571, loss_rpn_cls: 0.0092, loss_rpn_bbox: 0.0049, loss_cls: 0.0712, acc: 99.4922, loss_bbox: 0.2401, loss: 0.3254\n",
      "2022-05-26 13:54:32,586 - mmfewshot - INFO - Exp name: attention-rpn_r50_c4_tb-split2_1shot-fine-tuning-momentum-09.py\n",
      "2022-05-26 13:54:32,588 - mmfewshot - INFO - Iter [32000/100000]\tlr: 1.000e-04, eta: 5:41:09, time: 0.268, data_time: 0.012, memory: 4571, loss_rpn_cls: 0.0136, loss_rpn_bbox: 0.0060, loss_cls: 0.0758, acc: 99.4297, loss_bbox: 0.2596, loss: 0.3551\n",
      "2022-05-26 13:54:32,594 - mmdet - INFO - starting model initialization...\n"
     ]
    },
    {
     "name": "stdout",
     "output_type": "stream",
     "text": [
      "[>>>>>>>>>>>>>>>>>>>>>>>>>>>>>] 850/850, 78.8 task/s, elapsed: 11s, ETA:     0s"
     ]
    },
    {
     "name": "stderr",
     "output_type": "stream",
     "text": [
      "2022-05-26 13:54:43,458 - mmdet - INFO - model initialization done.\n"
     ]
    },
    {
     "name": "stdout",
     "output_type": "stream",
     "text": [
      "[>>>>>>>>>>>>>>>>>>>>>>>>>>>>>] 300/300, 12.6 task/s, elapsed: 24s, ETA:     0s\n",
      "---------------iou_thr: 0.5---------------\n"
     ]
    },
    {
     "name": "stderr",
     "output_type": "stream",
     "text": [
      "2022-05-26 13:55:07,546 - mmfewshot - INFO - \n",
      "+---------+-----+------+--------+-------+\n",
      "| class   | gts | dets | recall | ap    |\n",
      "+---------+-----+------+--------+-------+\n",
      "| fanta   | 291 | 2322 | 0.869  | 0.634 |\n",
      "| Mirinda | 111 | 761  | 0.712  | 0.485 |\n",
      "+---------+-----+------+--------+-------+\n",
      "| mAP     |     |      |        | 0.560 |\n",
      "+---------+-----+------+--------+-------+\n",
      "2022-05-26 13:55:07,549 - mmfewshot - INFO - BASE_CLASSES_SPLIT2 mAP: 0.5595967769622803\n",
      "2022-05-26 13:55:07,551 - mmfewshot - INFO - NOVEL_CLASSES_SPLIT2 mAP: nan\n",
      "2022-05-26 13:55:07,555 - mmfewshot - INFO - Exp name: attention-rpn_r50_c4_tb-split2_1shot-fine-tuning-momentum-09.py\n",
      "2022-05-26 13:55:07,556 - mmfewshot - INFO - Iter(val) [300]\tAP50: 0.5600, BASE_CLASSES_SPLIT2: AP50: 0.5600, NOVEL_CLASSES_SPLIT2: AP50: nan, mAP: 0.5596\n",
      "2022-05-26 13:55:21,005 - mmfewshot - INFO - Iter [32050/100000]\tlr: 1.000e-04, eta: 5:42:05, time: 0.969, data_time: 0.712, memory: 4571, loss_rpn_cls: 0.0135, loss_rpn_bbox: 0.0068, loss_cls: 0.0678, acc: 99.5547, loss_bbox: 0.2368, loss: 0.3249\n",
      "2022-05-26 13:55:34,223 - mmfewshot - INFO - Iter [32100/100000]\tlr: 1.000e-04, eta: 5:41:45, time: 0.264, data_time: 0.012, memory: 4571, loss_rpn_cls: 0.0190, loss_rpn_bbox: 0.0065, loss_cls: 0.0539, acc: 99.5703, loss_bbox: 0.2453, loss: 0.3247\n",
      "2022-05-26 13:55:47,721 - mmfewshot - INFO - Iter [32150/100000]\tlr: 1.000e-04, eta: 5:41:27, time: 0.270, data_time: 0.012, memory: 4571, loss_rpn_cls: 0.0198, loss_rpn_bbox: 0.0071, loss_cls: 0.0652, acc: 99.4844, loss_bbox: 0.2601, loss: 0.3522\n",
      "2022-05-26 13:56:01,109 - mmfewshot - INFO - Iter [32200/100000]\tlr: 1.000e-04, eta: 5:41:08, time: 0.268, data_time: 0.012, memory: 4571, loss_rpn_cls: 0.0146, loss_rpn_bbox: 0.0067, loss_cls: 0.0822, acc: 99.4141, loss_bbox: 0.2505, loss: 0.3541\n",
      "2022-05-26 13:56:14,518 - mmfewshot - INFO - Iter [32250/100000]\tlr: 1.000e-04, eta: 5:40:50, time: 0.268, data_time: 0.013, memory: 4571, loss_rpn_cls: 0.0297, loss_rpn_bbox: 0.0115, loss_cls: 0.0744, acc: 99.4141, loss_bbox: 0.2635, loss: 0.3790\n",
      "2022-05-26 13:56:27,950 - mmfewshot - INFO - Iter [32300/100000]\tlr: 1.000e-04, eta: 5:40:31, time: 0.269, data_time: 0.012, memory: 4571, loss_rpn_cls: 0.0129, loss_rpn_bbox: 0.0058, loss_cls: 0.0659, acc: 99.5391, loss_bbox: 0.2566, loss: 0.3412\n",
      "2022-05-26 13:56:41,463 - mmfewshot - INFO - Iter [32350/100000]\tlr: 1.000e-04, eta: 5:40:13, time: 0.270, data_time: 0.013, memory: 4571, loss_rpn_cls: 0.0134, loss_rpn_bbox: 0.0069, loss_cls: 0.0548, acc: 99.5703, loss_bbox: 0.2720, loss: 0.3471\n",
      "2022-05-26 13:56:54,888 - mmfewshot - INFO - Iter [32400/100000]\tlr: 1.000e-04, eta: 5:39:54, time: 0.268, data_time: 0.013, memory: 4571, loss_rpn_cls: 0.0135, loss_rpn_bbox: 0.0065, loss_cls: 0.0501, acc: 99.4688, loss_bbox: 0.2556, loss: 0.3258\n",
      "2022-05-26 13:57:08,336 - mmfewshot - INFO - Iter [32450/100000]\tlr: 1.000e-04, eta: 5:39:36, time: 0.269, data_time: 0.012, memory: 4571, loss_rpn_cls: 0.0141, loss_rpn_bbox: 0.0055, loss_cls: 0.0565, acc: 99.6094, loss_bbox: 0.2103, loss: 0.2865\n",
      "2022-05-26 13:57:21,642 - mmfewshot - INFO - Iter [32500/100000]\tlr: 1.000e-04, eta: 5:39:17, time: 0.266, data_time: 0.012, memory: 4571, loss_rpn_cls: 0.0199, loss_rpn_bbox: 0.0085, loss_cls: 0.0534, acc: 99.2969, loss_bbox: 0.3132, loss: 0.3951\n",
      "2022-05-26 13:57:35,097 - mmfewshot - INFO - Iter [32550/100000]\tlr: 1.000e-04, eta: 5:38:58, time: 0.269, data_time: 0.012, memory: 4571, loss_rpn_cls: 0.0167, loss_rpn_bbox: 0.0054, loss_cls: 0.0572, acc: 99.5625, loss_bbox: 0.2367, loss: 0.3161\n",
      "2022-05-26 13:57:48,535 - mmfewshot - INFO - Iter [32600/100000]\tlr: 1.000e-04, eta: 5:38:40, time: 0.269, data_time: 0.011, memory: 4571, loss_rpn_cls: 0.0126, loss_rpn_bbox: 0.0050, loss_cls: 0.0486, acc: 99.5469, loss_bbox: 0.2487, loss: 0.3149\n",
      "2022-05-26 13:58:01,889 - mmfewshot - INFO - Iter [32650/100000]\tlr: 1.000e-04, eta: 5:38:21, time: 0.267, data_time: 0.011, memory: 4571, loss_rpn_cls: 0.0151, loss_rpn_bbox: 0.0062, loss_cls: 0.0922, acc: 99.2266, loss_bbox: 0.2535, loss: 0.3670\n",
      "2022-05-26 13:58:15,401 - mmfewshot - INFO - Iter [32700/100000]\tlr: 1.000e-04, eta: 5:38:03, time: 0.270, data_time: 0.013, memory: 4571, loss_rpn_cls: 0.0150, loss_rpn_bbox: 0.0058, loss_cls: 0.0541, acc: 99.5312, loss_bbox: 0.2553, loss: 0.3301\n",
      "2022-05-26 13:58:28,886 - mmfewshot - INFO - Iter [32750/100000]\tlr: 1.000e-04, eta: 5:37:45, time: 0.270, data_time: 0.013, memory: 4571, loss_rpn_cls: 0.0157, loss_rpn_bbox: 0.0054, loss_cls: 0.0672, acc: 99.4453, loss_bbox: 0.2179, loss: 0.3063\n",
      "2022-05-26 13:58:42,318 - mmfewshot - INFO - Iter [32800/100000]\tlr: 1.000e-04, eta: 5:37:26, time: 0.268, data_time: 0.012, memory: 4571, loss_rpn_cls: 0.0103, loss_rpn_bbox: 0.0047, loss_cls: 0.0717, acc: 99.6016, loss_bbox: 0.2655, loss: 0.3523\n",
      "2022-05-26 13:58:55,806 - mmfewshot - INFO - Iter [32850/100000]\tlr: 1.000e-04, eta: 5:37:08, time: 0.270, data_time: 0.012, memory: 4571, loss_rpn_cls: 0.0119, loss_rpn_bbox: 0.0056, loss_cls: 0.0708, acc: 99.2656, loss_bbox: 0.2715, loss: 0.3597\n",
      "2022-05-26 13:59:09,036 - mmfewshot - INFO - Iter [32900/100000]\tlr: 1.000e-04, eta: 5:36:49, time: 0.265, data_time: 0.011, memory: 4571, loss_rpn_cls: 0.0275, loss_rpn_bbox: 0.0104, loss_cls: 0.0677, acc: 99.3047, loss_bbox: 0.2846, loss: 0.3902\n",
      "2022-05-26 13:59:22,551 - mmfewshot - INFO - Iter [32950/100000]\tlr: 1.000e-04, eta: 5:36:31, time: 0.270, data_time: 0.013, memory: 4571, loss_rpn_cls: 0.0119, loss_rpn_bbox: 0.0063, loss_cls: 0.0553, acc: 99.4766, loss_bbox: 0.3012, loss: 0.3747\n",
      "2022-05-26 13:59:35,891 - mmfewshot - INFO - Exp name: attention-rpn_r50_c4_tb-split2_1shot-fine-tuning-momentum-09.py\n",
      "2022-05-26 13:59:35,892 - mmfewshot - INFO - Iter [33000/100000]\tlr: 1.000e-04, eta: 5:36:12, time: 0.267, data_time: 0.011, memory: 4571, loss_rpn_cls: 0.0207, loss_rpn_bbox: 0.0099, loss_cls: 0.0677, acc: 99.3203, loss_bbox: 0.2802, loss: 0.3784\n",
      "2022-05-26 13:59:35,897 - mmdet - INFO - starting model initialization...\n"
     ]
    },
    {
     "name": "stdout",
     "output_type": "stream",
     "text": [
      "[>>>>>>>>>>>>>>>>>>>>>>>>>>>>>] 850/850, 75.2 task/s, elapsed: 11s, ETA:     0s"
     ]
    },
    {
     "name": "stderr",
     "output_type": "stream",
     "text": [
      "2022-05-26 13:59:47,292 - mmdet - INFO - model initialization done.\n"
     ]
    },
    {
     "name": "stdout",
     "output_type": "stream",
     "text": [
      "[>>>>>>>>>>>>>>>>>>>>>>>>>>>>>] 300/300, 12.7 task/s, elapsed: 24s, ETA:     0s\n",
      "---------------iou_thr: 0.5---------------\n"
     ]
    },
    {
     "name": "stderr",
     "output_type": "stream",
     "text": [
      "2022-05-26 14:00:11,286 - mmfewshot - INFO - \n",
      "+---------+-----+------+--------+-------+\n",
      "| class   | gts | dets | recall | ap    |\n",
      "+---------+-----+------+--------+-------+\n",
      "| fanta   | 291 | 1702 | 0.842  | 0.648 |\n",
      "| Mirinda | 111 | 741  | 0.721  | 0.545 |\n",
      "+---------+-----+------+--------+-------+\n",
      "| mAP     |     |      |        | 0.596 |\n",
      "+---------+-----+------+--------+-------+\n",
      "2022-05-26 14:00:11,289 - mmfewshot - INFO - BASE_CLASSES_SPLIT2 mAP: 0.5964986085891724\n",
      "2022-05-26 14:00:11,290 - mmfewshot - INFO - NOVEL_CLASSES_SPLIT2 mAP: nan\n",
      "2022-05-26 14:00:11,293 - mmfewshot - INFO - Exp name: attention-rpn_r50_c4_tb-split2_1shot-fine-tuning-momentum-09.py\n",
      "2022-05-26 14:00:11,294 - mmfewshot - INFO - Iter(val) [300]\tAP50: 0.5960, BASE_CLASSES_SPLIT2: AP50: 0.5960, NOVEL_CLASSES_SPLIT2: AP50: nan, mAP: 0.5965\n",
      "2022-05-26 14:00:24,608 - mmfewshot - INFO - Iter [33050/100000]\tlr: 1.000e-04, eta: 5:37:06, time: 0.975, data_time: 0.720, memory: 4571, loss_rpn_cls: 0.0114, loss_rpn_bbox: 0.0055, loss_cls: 0.0525, acc: 99.5469, loss_bbox: 0.2605, loss: 0.3299\n",
      "2022-05-26 14:00:37,979 - mmfewshot - INFO - Iter [33100/100000]\tlr: 1.000e-04, eta: 5:36:47, time: 0.267, data_time: 0.013, memory: 4571, loss_rpn_cls: 0.0151, loss_rpn_bbox: 0.0071, loss_cls: 0.0610, acc: 99.5703, loss_bbox: 0.2318, loss: 0.3150\n",
      "2022-05-26 14:00:51,320 - mmfewshot - INFO - Iter [33150/100000]\tlr: 1.000e-04, eta: 5:36:28, time: 0.267, data_time: 0.013, memory: 4571, loss_rpn_cls: 0.0145, loss_rpn_bbox: 0.0057, loss_cls: 0.0493, acc: 99.5234, loss_bbox: 0.2876, loss: 0.3570\n",
      "2022-05-26 14:01:04,791 - mmfewshot - INFO - Iter [33200/100000]\tlr: 1.000e-04, eta: 5:36:10, time: 0.269, data_time: 0.013, memory: 4571, loss_rpn_cls: 0.0250, loss_rpn_bbox: 0.0073, loss_cls: 0.0458, acc: 99.5938, loss_bbox: 0.2582, loss: 0.3363\n",
      "2022-05-26 14:01:18,290 - mmfewshot - INFO - Iter [33250/100000]\tlr: 1.000e-04, eta: 5:35:52, time: 0.270, data_time: 0.013, memory: 4571, loss_rpn_cls: 0.0164, loss_rpn_bbox: 0.0059, loss_cls: 0.0697, acc: 99.4766, loss_bbox: 0.2347, loss: 0.3266\n",
      "2022-05-26 14:01:31,632 - mmfewshot - INFO - Iter [33300/100000]\tlr: 1.000e-04, eta: 5:35:33, time: 0.267, data_time: 0.012, memory: 4571, loss_rpn_cls: 0.0128, loss_rpn_bbox: 0.0044, loss_cls: 0.0490, acc: 99.5781, loss_bbox: 0.2123, loss: 0.2784\n",
      "2022-05-26 14:01:44,995 - mmfewshot - INFO - Iter [33350/100000]\tlr: 1.000e-04, eta: 5:35:14, time: 0.267, data_time: 0.012, memory: 4571, loss_rpn_cls: 0.0199, loss_rpn_bbox: 0.0067, loss_cls: 0.0548, acc: 99.5859, loss_bbox: 0.2526, loss: 0.3340\n",
      "2022-05-26 14:01:58,378 - mmfewshot - INFO - Iter [33400/100000]\tlr: 1.000e-04, eta: 5:34:56, time: 0.268, data_time: 0.012, memory: 4571, loss_rpn_cls: 0.0106, loss_rpn_bbox: 0.0042, loss_cls: 0.0689, acc: 99.5156, loss_bbox: 0.2316, loss: 0.3154\n",
      "2022-05-26 14:02:11,881 - mmfewshot - INFO - Iter [33450/100000]\tlr: 1.000e-04, eta: 5:34:38, time: 0.270, data_time: 0.013, memory: 4571, loss_rpn_cls: 0.0098, loss_rpn_bbox: 0.0042, loss_cls: 0.0734, acc: 99.5000, loss_bbox: 0.2041, loss: 0.2915\n",
      "2022-05-26 14:02:25,257 - mmfewshot - INFO - Iter [33500/100000]\tlr: 1.000e-04, eta: 5:34:19, time: 0.268, data_time: 0.012, memory: 4571, loss_rpn_cls: 0.0210, loss_rpn_bbox: 0.0067, loss_cls: 0.0720, acc: 99.3750, loss_bbox: 0.2688, loss: 0.3685\n",
      "2022-05-26 14:02:38,641 - mmfewshot - INFO - Iter [33550/100000]\tlr: 1.000e-04, eta: 5:34:01, time: 0.268, data_time: 0.012, memory: 4571, loss_rpn_cls: 0.0153, loss_rpn_bbox: 0.0058, loss_cls: 0.0599, acc: 99.3594, loss_bbox: 0.3082, loss: 0.3892\n",
      "2022-05-26 14:02:52,092 - mmfewshot - INFO - Iter [33600/100000]\tlr: 1.000e-04, eta: 5:33:42, time: 0.269, data_time: 0.013, memory: 4571, loss_rpn_cls: 0.0135, loss_rpn_bbox: 0.0039, loss_cls: 0.0597, acc: 99.5547, loss_bbox: 0.2334, loss: 0.3105\n",
      "2022-05-26 14:03:05,454 - mmfewshot - INFO - Iter [33650/100000]\tlr: 1.000e-04, eta: 5:33:24, time: 0.267, data_time: 0.011, memory: 4571, loss_rpn_cls: 0.0236, loss_rpn_bbox: 0.0078, loss_cls: 0.0553, acc: 99.4609, loss_bbox: 0.2813, loss: 0.3680\n",
      "2022-05-26 14:03:18,761 - mmfewshot - INFO - Iter [33700/100000]\tlr: 1.000e-04, eta: 5:33:05, time: 0.266, data_time: 0.011, memory: 4571, loss_rpn_cls: 0.0120, loss_rpn_bbox: 0.0044, loss_cls: 0.0502, acc: 99.5234, loss_bbox: 0.2718, loss: 0.3383\n",
      "2022-05-26 14:03:32,070 - mmfewshot - INFO - Iter [33750/100000]\tlr: 1.000e-04, eta: 5:32:47, time: 0.266, data_time: 0.011, memory: 4571, loss_rpn_cls: 0.0161, loss_rpn_bbox: 0.0060, loss_cls: 0.0531, acc: 99.4141, loss_bbox: 0.2395, loss: 0.3147\n",
      "2022-05-26 14:03:45,381 - mmfewshot - INFO - Iter [33800/100000]\tlr: 1.000e-04, eta: 5:32:28, time: 0.266, data_time: 0.012, memory: 4571, loss_rpn_cls: 0.0191, loss_rpn_bbox: 0.0065, loss_cls: 0.0535, acc: 99.5391, loss_bbox: 0.2536, loss: 0.3327\n",
      "2022-05-26 14:03:58,566 - mmfewshot - INFO - Iter [33850/100000]\tlr: 1.000e-04, eta: 5:32:10, time: 0.264, data_time: 0.010, memory: 4571, loss_rpn_cls: 0.0175, loss_rpn_bbox: 0.0060, loss_cls: 0.0555, acc: 99.5781, loss_bbox: 0.2572, loss: 0.3362\n",
      "2022-05-26 14:04:11,820 - mmfewshot - INFO - Iter [33900/100000]\tlr: 1.000e-04, eta: 5:31:51, time: 0.265, data_time: 0.010, memory: 4571, loss_rpn_cls: 0.0107, loss_rpn_bbox: 0.0047, loss_cls: 0.0674, acc: 99.5703, loss_bbox: 0.2515, loss: 0.3343\n",
      "2022-05-26 14:04:25,228 - mmfewshot - INFO - Iter [33950/100000]\tlr: 1.000e-04, eta: 5:31:33, time: 0.268, data_time: 0.012, memory: 4571, loss_rpn_cls: 0.0180, loss_rpn_bbox: 0.0076, loss_cls: 0.0510, acc: 99.5703, loss_bbox: 0.2694, loss: 0.3460\n",
      "2022-05-26 14:04:38,594 - mmfewshot - INFO - Exp name: attention-rpn_r50_c4_tb-split2_1shot-fine-tuning-momentum-09.py\n",
      "2022-05-26 14:04:38,595 - mmfewshot - INFO - Iter [34000/100000]\tlr: 1.000e-04, eta: 5:31:14, time: 0.267, data_time: 0.012, memory: 4571, loss_rpn_cls: 0.0220, loss_rpn_bbox: 0.0060, loss_cls: 0.0552, acc: 99.5312, loss_bbox: 0.2385, loss: 0.3217\n",
      "2022-05-26 14:04:38,603 - mmdet - INFO - starting model initialization...\n"
     ]
    },
    {
     "name": "stdout",
     "output_type": "stream",
     "text": [
      "[>>>>>>>>>>>>>>>>>>>>>>>>>>>>>] 850/850, 77.4 task/s, elapsed: 11s, ETA:     0s"
     ]
    },
    {
     "name": "stderr",
     "output_type": "stream",
     "text": [
      "2022-05-26 14:04:49,652 - mmdet - INFO - model initialization done.\n"
     ]
    },
    {
     "name": "stdout",
     "output_type": "stream",
     "text": [
      "[>>>>>>>>>>>>>>>>>>>>>>>>>>>>>] 300/300, 12.6 task/s, elapsed: 24s, ETA:     0s\n",
      "---------------iou_thr: 0.5---------------\n"
     ]
    },
    {
     "name": "stderr",
     "output_type": "stream",
     "text": [
      "2022-05-26 14:05:13,774 - mmfewshot - INFO - \n",
      "+---------+-----+------+--------+-------+\n",
      "| class   | gts | dets | recall | ap    |\n",
      "+---------+-----+------+--------+-------+\n",
      "| fanta   | 291 | 1742 | 0.863  | 0.670 |\n",
      "| Mirinda | 111 | 545  | 0.694  | 0.477 |\n",
      "+---------+-----+------+--------+-------+\n",
      "| mAP     |     |      |        | 0.574 |\n",
      "+---------+-----+------+--------+-------+\n",
      "2022-05-26 14:05:13,776 - mmfewshot - INFO - BASE_CLASSES_SPLIT2 mAP: 0.5736342668533325\n",
      "2022-05-26 14:05:13,777 - mmfewshot - INFO - NOVEL_CLASSES_SPLIT2 mAP: nan\n",
      "2022-05-26 14:05:13,780 - mmfewshot - INFO - Exp name: attention-rpn_r50_c4_tb-split2_1shot-fine-tuning-momentum-09.py\n",
      "2022-05-26 14:05:13,782 - mmfewshot - INFO - Iter(val) [300]\tAP50: 0.5740, BASE_CLASSES_SPLIT2: AP50: 0.5740, NOVEL_CLASSES_SPLIT2: AP50: nan, mAP: 0.5736\n",
      "2022-05-26 14:05:27,203 - mmfewshot - INFO - Iter [34050/100000]\tlr: 1.000e-04, eta: 5:32:04, time: 0.972, data_time: 0.716, memory: 4571, loss_rpn_cls: 0.0114, loss_rpn_bbox: 0.0036, loss_cls: 0.0773, acc: 99.5469, loss_bbox: 0.2353, loss: 0.3276\n",
      "2022-05-26 14:05:40,523 - mmfewshot - INFO - Iter [34100/100000]\tlr: 1.000e-04, eta: 5:31:46, time: 0.267, data_time: 0.012, memory: 4571, loss_rpn_cls: 0.0139, loss_rpn_bbox: 0.0047, loss_cls: 0.0921, acc: 99.3906, loss_bbox: 0.2394, loss: 0.3500\n",
      "2022-05-26 14:05:53,891 - mmfewshot - INFO - Iter [34150/100000]\tlr: 1.000e-04, eta: 5:31:27, time: 0.267, data_time: 0.012, memory: 4571, loss_rpn_cls: 0.0231, loss_rpn_bbox: 0.0075, loss_cls: 0.0740, acc: 99.3750, loss_bbox: 0.2583, loss: 0.3629\n",
      "2022-05-26 14:06:07,362 - mmfewshot - INFO - Iter [34200/100000]\tlr: 1.000e-04, eta: 5:31:09, time: 0.269, data_time: 0.013, memory: 4571, loss_rpn_cls: 0.0125, loss_rpn_bbox: 0.0050, loss_cls: 0.0747, acc: 99.5469, loss_bbox: 0.2141, loss: 0.3064\n",
      "2022-05-26 14:06:20,606 - mmfewshot - INFO - Iter [34250/100000]\tlr: 1.000e-04, eta: 5:30:50, time: 0.265, data_time: 0.010, memory: 4571, loss_rpn_cls: 0.0133, loss_rpn_bbox: 0.0049, loss_cls: 0.0651, acc: 99.3438, loss_bbox: 0.2557, loss: 0.3391\n",
      "2022-05-26 14:06:33,926 - mmfewshot - INFO - Iter [34300/100000]\tlr: 1.000e-04, eta: 5:30:32, time: 0.267, data_time: 0.011, memory: 4571, loss_rpn_cls: 0.0165, loss_rpn_bbox: 0.0077, loss_cls: 0.0499, acc: 99.5312, loss_bbox: 0.2956, loss: 0.3697\n",
      "2022-05-26 14:06:47,181 - mmfewshot - INFO - Iter [34350/100000]\tlr: 1.000e-04, eta: 5:30:13, time: 0.265, data_time: 0.011, memory: 4571, loss_rpn_cls: 0.0117, loss_rpn_bbox: 0.0050, loss_cls: 0.0589, acc: 99.6328, loss_bbox: 0.2461, loss: 0.3217\n",
      "2022-05-26 14:07:00,604 - mmfewshot - INFO - Iter [34400/100000]\tlr: 1.000e-04, eta: 5:29:55, time: 0.269, data_time: 0.012, memory: 4571, loss_rpn_cls: 0.0220, loss_rpn_bbox: 0.0083, loss_cls: 0.0469, acc: 99.4844, loss_bbox: 0.2886, loss: 0.3657\n",
      "2022-05-26 14:07:13,991 - mmfewshot - INFO - Iter [34450/100000]\tlr: 1.000e-04, eta: 5:29:37, time: 0.267, data_time: 0.012, memory: 4571, loss_rpn_cls: 0.0149, loss_rpn_bbox: 0.0066, loss_cls: 0.0456, acc: 99.6250, loss_bbox: 0.2576, loss: 0.3247\n",
      "2022-05-26 14:07:27,383 - mmfewshot - INFO - Iter [34500/100000]\tlr: 1.000e-04, eta: 5:29:18, time: 0.268, data_time: 0.013, memory: 4571, loss_rpn_cls: 0.0208, loss_rpn_bbox: 0.0096, loss_cls: 0.0536, acc: 99.3828, loss_bbox: 0.3202, loss: 0.4042\n",
      "2022-05-26 14:07:40,936 - mmfewshot - INFO - Iter [34550/100000]\tlr: 1.000e-04, eta: 5:29:00, time: 0.271, data_time: 0.012, memory: 4571, loss_rpn_cls: 0.0149, loss_rpn_bbox: 0.0044, loss_cls: 0.0424, acc: 99.6406, loss_bbox: 0.2449, loss: 0.3066\n",
      "2022-05-26 14:07:54,182 - mmfewshot - INFO - Iter [34600/100000]\tlr: 1.000e-04, eta: 5:28:42, time: 0.265, data_time: 0.011, memory: 4571, loss_rpn_cls: 0.0169, loss_rpn_bbox: 0.0068, loss_cls: 0.0505, acc: 99.5078, loss_bbox: 0.2542, loss: 0.3285\n",
      "2022-05-26 14:08:07,534 - mmfewshot - INFO - Iter [34650/100000]\tlr: 1.000e-04, eta: 5:28:24, time: 0.267, data_time: 0.012, memory: 4571, loss_rpn_cls: 0.0228, loss_rpn_bbox: 0.0103, loss_cls: 0.0483, acc: 99.4688, loss_bbox: 0.2825, loss: 0.3639\n",
      "2022-05-26 14:08:20,897 - mmfewshot - INFO - Iter [34700/100000]\tlr: 1.000e-04, eta: 5:28:05, time: 0.267, data_time: 0.012, memory: 4571, loss_rpn_cls: 0.0099, loss_rpn_bbox: 0.0045, loss_cls: 0.0586, acc: 99.4688, loss_bbox: 0.2863, loss: 0.3593\n",
      "2022-05-26 14:08:34,352 - mmfewshot - INFO - Iter [34750/100000]\tlr: 1.000e-04, eta: 5:27:47, time: 0.269, data_time: 0.011, memory: 4571, loss_rpn_cls: 0.0210, loss_rpn_bbox: 0.0089, loss_cls: 0.0503, acc: 99.4375, loss_bbox: 0.3054, loss: 0.3856\n",
      "2022-05-26 14:08:47,794 - mmfewshot - INFO - Iter [34800/100000]\tlr: 1.000e-04, eta: 5:27:29, time: 0.269, data_time: 0.012, memory: 4571, loss_rpn_cls: 0.0131, loss_rpn_bbox: 0.0034, loss_cls: 0.0629, acc: 99.4844, loss_bbox: 0.2307, loss: 0.3101\n",
      "2022-05-26 14:09:01,175 - mmfewshot - INFO - Iter [34850/100000]\tlr: 1.000e-04, eta: 5:27:11, time: 0.267, data_time: 0.011, memory: 4571, loss_rpn_cls: 0.0187, loss_rpn_bbox: 0.0077, loss_cls: 0.0545, acc: 99.5859, loss_bbox: 0.2595, loss: 0.3404\n",
      "2022-05-26 14:09:14,622 - mmfewshot - INFO - Iter [34900/100000]\tlr: 1.000e-04, eta: 5:26:53, time: 0.269, data_time: 0.013, memory: 4571, loss_rpn_cls: 0.0140, loss_rpn_bbox: 0.0042, loss_cls: 0.0520, acc: 99.5781, loss_bbox: 0.2642, loss: 0.3345\n",
      "2022-05-26 14:09:28,169 - mmfewshot - INFO - Iter [34950/100000]\tlr: 1.000e-04, eta: 5:26:35, time: 0.271, data_time: 0.013, memory: 4571, loss_rpn_cls: 0.0281, loss_rpn_bbox: 0.0091, loss_cls: 0.0564, acc: 99.5625, loss_bbox: 0.2687, loss: 0.3624\n",
      "2022-05-26 14:09:41,693 - mmfewshot - INFO - Exp name: attention-rpn_r50_c4_tb-split2_1shot-fine-tuning-momentum-09.py\n",
      "2022-05-26 14:09:41,696 - mmfewshot - INFO - Iter [35000/100000]\tlr: 1.000e-04, eta: 5:26:17, time: 0.270, data_time: 0.012, memory: 4571, loss_rpn_cls: 0.0120, loss_rpn_bbox: 0.0048, loss_cls: 0.0566, acc: 99.4688, loss_bbox: 0.2544, loss: 0.3277\n",
      "2022-05-26 14:09:41,703 - mmdet - INFO - starting model initialization...\n"
     ]
    },
    {
     "name": "stdout",
     "output_type": "stream",
     "text": [
      "[>>>>>>>>>>>>>>>>>>>>>>>>>>>>>] 850/850, 75.1 task/s, elapsed: 11s, ETA:     0s"
     ]
    },
    {
     "name": "stderr",
     "output_type": "stream",
     "text": [
      "2022-05-26 14:09:53,097 - mmdet - INFO - model initialization done.\n"
     ]
    },
    {
     "name": "stdout",
     "output_type": "stream",
     "text": [
      "[>>>>>>>>>>>>>>>>>>>>>>>>>>>>>] 300/300, 12.9 task/s, elapsed: 23s, ETA:     0s\n",
      "---------------iou_thr: 0.5---------------\n"
     ]
    },
    {
     "name": "stderr",
     "output_type": "stream",
     "text": [
      "2022-05-26 14:10:16,755 - mmfewshot - INFO - \n",
      "+---------+-----+------+--------+-------+\n",
      "| class   | gts | dets | recall | ap    |\n",
      "+---------+-----+------+--------+-------+\n",
      "| fanta   | 291 | 1817 | 0.859  | 0.672 |\n",
      "| Mirinda | 111 | 638  | 0.721  | 0.512 |\n",
      "+---------+-----+------+--------+-------+\n",
      "| mAP     |     |      |        | 0.592 |\n",
      "+---------+-----+------+--------+-------+\n",
      "2022-05-26 14:10:16,757 - mmfewshot - INFO - BASE_CLASSES_SPLIT2 mAP: 0.5917447805404663\n",
      "2022-05-26 14:10:16,758 - mmfewshot - INFO - NOVEL_CLASSES_SPLIT2 mAP: nan\n",
      "2022-05-26 14:10:16,761 - mmfewshot - INFO - Exp name: attention-rpn_r50_c4_tb-split2_1shot-fine-tuning-momentum-09.py\n",
      "2022-05-26 14:10:16,762 - mmfewshot - INFO - Iter(val) [300]\tAP50: 0.5920, BASE_CLASSES_SPLIT2: AP50: 0.5920, NOVEL_CLASSES_SPLIT2: AP50: nan, mAP: 0.5917\n",
      "2022-05-26 14:10:29,916 - mmfewshot - INFO - Iter [35050/100000]\tlr: 1.000e-04, eta: 5:27:03, time: 0.964, data_time: 0.713, memory: 4571, loss_rpn_cls: 0.0148, loss_rpn_bbox: 0.0069, loss_cls: 0.0497, acc: 99.5547, loss_bbox: 0.2725, loss: 0.3439\n",
      "2022-05-26 14:10:43,254 - mmfewshot - INFO - Iter [35100/100000]\tlr: 1.000e-04, eta: 5:26:45, time: 0.267, data_time: 0.013, memory: 4571, loss_rpn_cls: 0.0120, loss_rpn_bbox: 0.0059, loss_cls: 0.0694, acc: 99.4219, loss_bbox: 0.2486, loss: 0.3358\n",
      "2022-05-26 14:10:56,613 - mmfewshot - INFO - Iter [35150/100000]\tlr: 1.000e-04, eta: 5:26:27, time: 0.267, data_time: 0.012, memory: 4571, loss_rpn_cls: 0.0110, loss_rpn_bbox: 0.0042, loss_cls: 0.0630, acc: 99.4922, loss_bbox: 0.2236, loss: 0.3018\n",
      "2022-05-26 14:11:10,018 - mmfewshot - INFO - Iter [35200/100000]\tlr: 1.000e-04, eta: 5:26:08, time: 0.268, data_time: 0.012, memory: 4571, loss_rpn_cls: 0.0204, loss_rpn_bbox: 0.0086, loss_cls: 0.0639, acc: 99.4844, loss_bbox: 0.2701, loss: 0.3631\n",
      "2022-05-26 14:11:23,398 - mmfewshot - INFO - Iter [35250/100000]\tlr: 1.000e-04, eta: 5:25:50, time: 0.267, data_time: 0.012, memory: 4571, loss_rpn_cls: 0.0094, loss_rpn_bbox: 0.0039, loss_cls: 0.0675, acc: 99.4922, loss_bbox: 0.2442, loss: 0.3250\n",
      "2022-05-26 14:11:36,958 - mmfewshot - INFO - Iter [35300/100000]\tlr: 1.000e-04, eta: 5:25:32, time: 0.271, data_time: 0.013, memory: 4571, loss_rpn_cls: 0.0174, loss_rpn_bbox: 0.0081, loss_cls: 0.0445, acc: 99.6172, loss_bbox: 0.2577, loss: 0.3277\n",
      "2022-05-26 14:11:50,403 - mmfewshot - INFO - Iter [35350/100000]\tlr: 1.000e-04, eta: 5:25:14, time: 0.269, data_time: 0.013, memory: 4571, loss_rpn_cls: 0.0176, loss_rpn_bbox: 0.0080, loss_cls: 0.0466, acc: 99.5234, loss_bbox: 0.2949, loss: 0.3672\n",
      "2022-05-26 14:12:03,824 - mmfewshot - INFO - Iter [35400/100000]\tlr: 1.000e-04, eta: 5:24:56, time: 0.268, data_time: 0.013, memory: 4571, loss_rpn_cls: 0.0094, loss_rpn_bbox: 0.0036, loss_cls: 0.0574, acc: 99.4844, loss_bbox: 0.2849, loss: 0.3553\n",
      "2022-05-26 14:12:17,159 - mmfewshot - INFO - Iter [35450/100000]\tlr: 1.000e-04, eta: 5:24:38, time: 0.267, data_time: 0.012, memory: 4571, loss_rpn_cls: 0.0172, loss_rpn_bbox: 0.0072, loss_cls: 0.0443, acc: 99.5703, loss_bbox: 0.2638, loss: 0.3325\n",
      "2022-05-26 14:12:30,464 - mmfewshot - INFO - Iter [35500/100000]\tlr: 1.000e-04, eta: 5:24:19, time: 0.266, data_time: 0.012, memory: 4571, loss_rpn_cls: 0.0136, loss_rpn_bbox: 0.0080, loss_cls: 0.0547, acc: 99.5859, loss_bbox: 0.2646, loss: 0.3409\n",
      "2022-05-26 14:12:43,690 - mmfewshot - INFO - Iter [35550/100000]\tlr: 1.000e-04, eta: 5:24:01, time: 0.264, data_time: 0.012, memory: 4571, loss_rpn_cls: 0.0131, loss_rpn_bbox: 0.0051, loss_cls: 0.0417, acc: 99.6406, loss_bbox: 0.2632, loss: 0.3230\n",
      "2022-05-26 14:12:57,023 - mmfewshot - INFO - Iter [35600/100000]\tlr: 1.000e-04, eta: 5:23:43, time: 0.267, data_time: 0.012, memory: 4571, loss_rpn_cls: 0.0153, loss_rpn_bbox: 0.0053, loss_cls: 0.0408, acc: 99.6484, loss_bbox: 0.2622, loss: 0.3236\n",
      "2022-05-26 14:13:10,382 - mmfewshot - INFO - Iter [35650/100000]\tlr: 1.000e-04, eta: 5:23:24, time: 0.267, data_time: 0.013, memory: 4571, loss_rpn_cls: 0.0178, loss_rpn_bbox: 0.0075, loss_cls: 0.0462, acc: 99.5703, loss_bbox: 0.2807, loss: 0.3522\n",
      "2022-05-26 14:13:23,923 - mmfewshot - INFO - Iter [35700/100000]\tlr: 1.000e-04, eta: 5:23:07, time: 0.271, data_time: 0.014, memory: 4571, loss_rpn_cls: 0.0146, loss_rpn_bbox: 0.0077, loss_cls: 0.0616, acc: 99.6250, loss_bbox: 0.2188, loss: 0.3027\n",
      "2022-05-26 14:13:37,254 - mmfewshot - INFO - Iter [35750/100000]\tlr: 1.000e-04, eta: 5:22:48, time: 0.267, data_time: 0.011, memory: 4571, loss_rpn_cls: 0.0136, loss_rpn_bbox: 0.0055, loss_cls: 0.0581, acc: 99.5625, loss_bbox: 0.2203, loss: 0.2974\n",
      "2022-05-26 14:13:50,669 - mmfewshot - INFO - Iter [35800/100000]\tlr: 1.000e-04, eta: 5:22:30, time: 0.268, data_time: 0.012, memory: 4571, loss_rpn_cls: 0.0132, loss_rpn_bbox: 0.0077, loss_cls: 0.0614, acc: 99.3750, loss_bbox: 0.2950, loss: 0.3773\n",
      "2022-05-26 14:14:04,084 - mmfewshot - INFO - Iter [35850/100000]\tlr: 1.000e-04, eta: 5:22:12, time: 0.268, data_time: 0.012, memory: 4571, loss_rpn_cls: 0.0118, loss_rpn_bbox: 0.0056, loss_cls: 0.0592, acc: 99.5547, loss_bbox: 0.2750, loss: 0.3516\n",
      "2022-05-26 14:14:17,480 - mmfewshot - INFO - Iter [35900/100000]\tlr: 1.000e-04, eta: 5:21:54, time: 0.268, data_time: 0.012, memory: 4571, loss_rpn_cls: 0.0214, loss_rpn_bbox: 0.0068, loss_cls: 0.0618, acc: 99.5547, loss_bbox: 0.2525, loss: 0.3425\n",
      "2022-05-26 14:14:31,064 - mmfewshot - INFO - Iter [35950/100000]\tlr: 1.000e-04, eta: 5:21:37, time: 0.272, data_time: 0.013, memory: 4571, loss_rpn_cls: 0.0154, loss_rpn_bbox: 0.0068, loss_cls: 0.0544, acc: 99.5000, loss_bbox: 0.2707, loss: 0.3473\n",
      "2022-05-26 14:14:44,490 - mmfewshot - INFO - Exp name: attention-rpn_r50_c4_tb-split2_1shot-fine-tuning-momentum-09.py\n",
      "2022-05-26 14:14:44,491 - mmfewshot - INFO - Iter [36000/100000]\tlr: 1.000e-04, eta: 5:21:19, time: 0.269, data_time: 0.012, memory: 4571, loss_rpn_cls: 0.0183, loss_rpn_bbox: 0.0083, loss_cls: 0.0465, acc: 99.5938, loss_bbox: 0.2998, loss: 0.3729\n",
      "2022-05-26 14:14:44,497 - mmdet - INFO - starting model initialization...\n"
     ]
    },
    {
     "name": "stdout",
     "output_type": "stream",
     "text": [
      "[>>>>>>>>>>>>>>>>>>>>>>>>>>>>>] 850/850, 74.9 task/s, elapsed: 11s, ETA:     0s"
     ]
    },
    {
     "name": "stderr",
     "output_type": "stream",
     "text": [
      "2022-05-26 14:14:55,922 - mmdet - INFO - model initialization done.\n"
     ]
    },
    {
     "name": "stdout",
     "output_type": "stream",
     "text": [
      "[>>>>>>>>>>>>>>>>>>>>>>>>>>>>>] 300/300, 12.7 task/s, elapsed: 24s, ETA:     0s\n",
      "---------------iou_thr: 0.5---------------\n"
     ]
    },
    {
     "name": "stderr",
     "output_type": "stream",
     "text": [
      "2022-05-26 14:15:19,992 - mmfewshot - INFO - \n",
      "+---------+-----+------+--------+-------+\n",
      "| class   | gts | dets | recall | ap    |\n",
      "+---------+-----+------+--------+-------+\n",
      "| fanta   | 291 | 1672 | 0.842  | 0.636 |\n",
      "| Mirinda | 111 | 548  | 0.712  | 0.514 |\n",
      "+---------+-----+------+--------+-------+\n",
      "| mAP     |     |      |        | 0.575 |\n",
      "+---------+-----+------+--------+-------+\n",
      "2022-05-26 14:15:19,995 - mmfewshot - INFO - BASE_CLASSES_SPLIT2 mAP: 0.5751981735229492\n",
      "2022-05-26 14:15:19,996 - mmfewshot - INFO - NOVEL_CLASSES_SPLIT2 mAP: nan\n",
      "2022-05-26 14:15:19,999 - mmfewshot - INFO - Exp name: attention-rpn_r50_c4_tb-split2_1shot-fine-tuning-momentum-09.py\n",
      "2022-05-26 14:15:20,000 - mmfewshot - INFO - Iter(val) [300]\tAP50: 0.5750, BASE_CLASSES_SPLIT2: AP50: 0.5750, NOVEL_CLASSES_SPLIT2: AP50: nan, mAP: 0.5752\n",
      "2022-05-26 14:15:33,465 - mmfewshot - INFO - Iter [36050/100000]\tlr: 1.000e-04, eta: 5:22:04, time: 0.980, data_time: 0.723, memory: 4571, loss_rpn_cls: 0.0129, loss_rpn_bbox: 0.0054, loss_cls: 0.0676, acc: 99.5000, loss_bbox: 0.2311, loss: 0.3169\n",
      "2022-05-26 14:15:46,823 - mmfewshot - INFO - Iter [36100/100000]\tlr: 1.000e-04, eta: 5:21:46, time: 0.267, data_time: 0.012, memory: 4571, loss_rpn_cls: 0.0140, loss_rpn_bbox: 0.0070, loss_cls: 0.0534, acc: 99.5469, loss_bbox: 0.3096, loss: 0.3840\n",
      "2022-05-26 14:16:00,103 - mmfewshot - INFO - Iter [36150/100000]\tlr: 1.000e-04, eta: 5:21:27, time: 0.266, data_time: 0.011, memory: 4571, loss_rpn_cls: 0.0200, loss_rpn_bbox: 0.0075, loss_cls: 0.0446, acc: 99.5312, loss_bbox: 0.2826, loss: 0.3548\n",
      "2022-05-26 14:16:13,564 - mmfewshot - INFO - Iter [36200/100000]\tlr: 1.000e-04, eta: 5:21:09, time: 0.269, data_time: 0.012, memory: 4571, loss_rpn_cls: 0.0108, loss_rpn_bbox: 0.0047, loss_cls: 0.0425, acc: 99.6250, loss_bbox: 0.2642, loss: 0.3222\n",
      "2022-05-26 14:16:26,790 - mmfewshot - INFO - Iter [36250/100000]\tlr: 1.000e-04, eta: 5:20:51, time: 0.264, data_time: 0.011, memory: 4571, loss_rpn_cls: 0.0145, loss_rpn_bbox: 0.0068, loss_cls: 0.0404, acc: 99.6406, loss_bbox: 0.2482, loss: 0.3100\n",
      "2022-05-26 14:16:40,223 - mmfewshot - INFO - Iter [36300/100000]\tlr: 1.000e-04, eta: 5:20:33, time: 0.269, data_time: 0.012, memory: 4571, loss_rpn_cls: 0.0160, loss_rpn_bbox: 0.0061, loss_cls: 0.0490, acc: 99.6797, loss_bbox: 0.2256, loss: 0.2967\n",
      "2022-05-26 14:16:53,612 - mmfewshot - INFO - Iter [36350/100000]\tlr: 1.000e-04, eta: 5:20:15, time: 0.268, data_time: 0.012, memory: 4571, loss_rpn_cls: 0.0143, loss_rpn_bbox: 0.0059, loss_cls: 0.0455, acc: 99.6406, loss_bbox: 0.2562, loss: 0.3220\n",
      "2022-05-26 14:17:06,960 - mmfewshot - INFO - Iter [36400/100000]\tlr: 1.000e-04, eta: 5:19:57, time: 0.267, data_time: 0.013, memory: 4571, loss_rpn_cls: 0.0105, loss_rpn_bbox: 0.0064, loss_cls: 0.0413, acc: 99.6250, loss_bbox: 0.2565, loss: 0.3148\n",
      "2022-05-26 14:17:20,284 - mmfewshot - INFO - Iter [36450/100000]\tlr: 1.000e-04, eta: 5:19:38, time: 0.266, data_time: 0.012, memory: 4571, loss_rpn_cls: 0.0182, loss_rpn_bbox: 0.0087, loss_cls: 0.0339, acc: 99.6875, loss_bbox: 0.2738, loss: 0.3347\n",
      "2022-05-26 14:17:33,652 - mmfewshot - INFO - Iter [36500/100000]\tlr: 1.000e-04, eta: 5:19:20, time: 0.267, data_time: 0.012, memory: 4571, loss_rpn_cls: 0.0130, loss_rpn_bbox: 0.0060, loss_cls: 0.0492, acc: 99.6250, loss_bbox: 0.2612, loss: 0.3293\n",
      "2022-05-26 14:17:47,065 - mmfewshot - INFO - Iter [36550/100000]\tlr: 1.000e-04, eta: 5:19:02, time: 0.268, data_time: 0.013, memory: 4571, loss_rpn_cls: 0.0108, loss_rpn_bbox: 0.0050, loss_cls: 0.0549, acc: 99.5703, loss_bbox: 0.2235, loss: 0.2942\n",
      "2022-05-26 14:18:00,526 - mmfewshot - INFO - Iter [36600/100000]\tlr: 1.000e-04, eta: 5:18:44, time: 0.269, data_time: 0.012, memory: 4571, loss_rpn_cls: 0.0138, loss_rpn_bbox: 0.0071, loss_cls: 0.0674, acc: 99.6172, loss_bbox: 0.2803, loss: 0.3686\n",
      "2022-05-26 14:18:13,868 - mmfewshot - INFO - Iter [36650/100000]\tlr: 1.000e-04, eta: 5:18:26, time: 0.267, data_time: 0.012, memory: 4571, loss_rpn_cls: 0.0169, loss_rpn_bbox: 0.0070, loss_cls: 0.0547, acc: 99.5000, loss_bbox: 0.2535, loss: 0.3321\n",
      "2022-05-26 14:18:27,308 - mmfewshot - INFO - Iter [36700/100000]\tlr: 1.000e-04, eta: 5:18:08, time: 0.269, data_time: 0.013, memory: 4571, loss_rpn_cls: 0.0142, loss_rpn_bbox: 0.0056, loss_cls: 0.0544, acc: 99.4844, loss_bbox: 0.2705, loss: 0.3447\n",
      "2022-05-26 14:18:40,598 - mmfewshot - INFO - Iter [36750/100000]\tlr: 1.000e-04, eta: 5:17:50, time: 0.266, data_time: 0.012, memory: 4571, loss_rpn_cls: 0.0146, loss_rpn_bbox: 0.0056, loss_cls: 0.0541, acc: 99.4219, loss_bbox: 0.2643, loss: 0.3386\n",
      "2022-05-26 14:18:54,033 - mmfewshot - INFO - Iter [36800/100000]\tlr: 1.000e-04, eta: 5:17:32, time: 0.269, data_time: 0.012, memory: 4571, loss_rpn_cls: 0.0129, loss_rpn_bbox: 0.0043, loss_cls: 0.0381, acc: 99.6172, loss_bbox: 0.2857, loss: 0.3411\n",
      "2022-05-26 14:19:07,497 - mmfewshot - INFO - Iter [36850/100000]\tlr: 1.000e-04, eta: 5:17:14, time: 0.269, data_time: 0.013, memory: 4571, loss_rpn_cls: 0.0153, loss_rpn_bbox: 0.0062, loss_cls: 0.0482, acc: 99.5938, loss_bbox: 0.2279, loss: 0.2975\n",
      "2022-05-26 14:19:20,846 - mmfewshot - INFO - Iter [36900/100000]\tlr: 1.000e-04, eta: 5:16:56, time: 0.267, data_time: 0.011, memory: 4571, loss_rpn_cls: 0.0138, loss_rpn_bbox: 0.0057, loss_cls: 0.0574, acc: 99.5391, loss_bbox: 0.2297, loss: 0.3067\n",
      "2022-05-26 14:19:34,183 - mmfewshot - INFO - Iter [36950/100000]\tlr: 1.000e-04, eta: 5:16:38, time: 0.267, data_time: 0.012, memory: 4571, loss_rpn_cls: 0.0113, loss_rpn_bbox: 0.0050, loss_cls: 0.0678, acc: 99.3906, loss_bbox: 0.2408, loss: 0.3249\n",
      "2022-05-26 14:19:47,469 - mmfewshot - INFO - Exp name: attention-rpn_r50_c4_tb-split2_1shot-fine-tuning-momentum-09.py\n",
      "2022-05-26 14:19:47,470 - mmfewshot - INFO - Iter [37000/100000]\tlr: 1.000e-04, eta: 5:16:20, time: 0.266, data_time: 0.011, memory: 4571, loss_rpn_cls: 0.0146, loss_rpn_bbox: 0.0051, loss_cls: 0.0551, acc: 99.6562, loss_bbox: 0.2394, loss: 0.3142\n",
      "2022-05-26 14:19:47,476 - mmdet - INFO - starting model initialization...\n"
     ]
    },
    {
     "name": "stdout",
     "output_type": "stream",
     "text": [
      "[>>>>>>>>>>>>>>>>>>>>>>>>>>>>>] 850/850, 79.0 task/s, elapsed: 11s, ETA:     0s"
     ]
    },
    {
     "name": "stderr",
     "output_type": "stream",
     "text": [
      "2022-05-26 14:19:58,301 - mmdet - INFO - model initialization done.\n"
     ]
    },
    {
     "name": "stdout",
     "output_type": "stream",
     "text": [
      "[>>>>>>>>>>>>>>>>>>>>>>>>>>>>>] 300/300, 12.7 task/s, elapsed: 24s, ETA:     0s\n",
      "---------------iou_thr: 0.5---------------\n"
     ]
    },
    {
     "name": "stderr",
     "output_type": "stream",
     "text": [
      "2022-05-26 14:20:22,338 - mmfewshot - INFO - \n",
      "+---------+-----+------+--------+-------+\n",
      "| class   | gts | dets | recall | ap    |\n",
      "+---------+-----+------+--------+-------+\n",
      "| fanta   | 291 | 2171 | 0.880  | 0.674 |\n",
      "| Mirinda | 111 | 590  | 0.685  | 0.512 |\n",
      "+---------+-----+------+--------+-------+\n",
      "| mAP     |     |      |        | 0.593 |\n",
      "+---------+-----+------+--------+-------+\n",
      "2022-05-26 14:20:22,342 - mmfewshot - INFO - BASE_CLASSES_SPLIT2 mAP: 0.5930222272872925\n",
      "2022-05-26 14:20:22,343 - mmfewshot - INFO - NOVEL_CLASSES_SPLIT2 mAP: nan\n",
      "2022-05-26 14:20:22,346 - mmfewshot - INFO - Exp name: attention-rpn_r50_c4_tb-split2_1shot-fine-tuning-momentum-09.py\n",
      "2022-05-26 14:20:22,348 - mmfewshot - INFO - Iter(val) [300]\tAP50: 0.5930, BASE_CLASSES_SPLIT2: AP50: 0.5930, NOVEL_CLASSES_SPLIT2: AP50: nan, mAP: 0.5930\n",
      "2022-05-26 14:20:35,619 - mmfewshot - INFO - Iter [37050/100000]\tlr: 1.000e-04, eta: 5:17:01, time: 0.963, data_time: 0.708, memory: 4571, loss_rpn_cls: 0.0131, loss_rpn_bbox: 0.0045, loss_cls: 0.0516, acc: 99.5781, loss_bbox: 0.2702, loss: 0.3394\n",
      "2022-05-26 14:20:48,979 - mmfewshot - INFO - Iter [37100/100000]\tlr: 1.000e-04, eta: 5:16:43, time: 0.267, data_time: 0.012, memory: 4571, loss_rpn_cls: 0.0117, loss_rpn_bbox: 0.0054, loss_cls: 0.0506, acc: 99.5625, loss_bbox: 0.2741, loss: 0.3417\n",
      "2022-05-26 14:21:02,389 - mmfewshot - INFO - Iter [37150/100000]\tlr: 1.000e-04, eta: 5:16:25, time: 0.268, data_time: 0.012, memory: 4571, loss_rpn_cls: 0.0095, loss_rpn_bbox: 0.0038, loss_cls: 0.0408, acc: 99.6406, loss_bbox: 0.2416, loss: 0.2957\n",
      "2022-05-26 14:21:15,924 - mmfewshot - INFO - Iter [37200/100000]\tlr: 1.000e-04, eta: 5:16:08, time: 0.271, data_time: 0.013, memory: 4571, loss_rpn_cls: 0.0165, loss_rpn_bbox: 0.0067, loss_cls: 0.0480, acc: 99.5859, loss_bbox: 0.2596, loss: 0.3308\n",
      "2022-05-26 14:21:29,469 - mmfewshot - INFO - Iter [37250/100000]\tlr: 1.000e-04, eta: 5:15:50, time: 0.271, data_time: 0.013, memory: 4571, loss_rpn_cls: 0.0125, loss_rpn_bbox: 0.0054, loss_cls: 0.0900, acc: 99.4453, loss_bbox: 0.2339, loss: 0.3418\n",
      "2022-05-26 14:21:42,863 - mmfewshot - INFO - Iter [37300/100000]\tlr: 1.000e-04, eta: 5:15:32, time: 0.268, data_time: 0.012, memory: 4571, loss_rpn_cls: 0.0176, loss_rpn_bbox: 0.0065, loss_cls: 0.0649, acc: 99.5078, loss_bbox: 0.2193, loss: 0.3082\n",
      "2022-05-26 14:21:56,284 - mmfewshot - INFO - Iter [37350/100000]\tlr: 1.000e-04, eta: 5:15:14, time: 0.268, data_time: 0.012, memory: 4571, loss_rpn_cls: 0.0177, loss_rpn_bbox: 0.0071, loss_cls: 0.0734, acc: 99.4766, loss_bbox: 0.2772, loss: 0.3753\n",
      "2022-05-26 14:22:09,806 - mmfewshot - INFO - Iter [37400/100000]\tlr: 1.000e-04, eta: 5:14:56, time: 0.270, data_time: 0.013, memory: 4571, loss_rpn_cls: 0.0192, loss_rpn_bbox: 0.0077, loss_cls: 0.0572, acc: 99.4062, loss_bbox: 0.2948, loss: 0.3789\n",
      "2022-05-26 14:22:23,312 - mmfewshot - INFO - Iter [37450/100000]\tlr: 1.000e-04, eta: 5:14:39, time: 0.270, data_time: 0.013, memory: 4571, loss_rpn_cls: 0.0249, loss_rpn_bbox: 0.0080, loss_cls: 0.0492, acc: 99.6328, loss_bbox: 0.2299, loss: 0.3120\n",
      "2022-05-26 14:22:36,775 - mmfewshot - INFO - Iter [37500/100000]\tlr: 1.000e-04, eta: 5:14:21, time: 0.269, data_time: 0.013, memory: 4571, loss_rpn_cls: 0.0141, loss_rpn_bbox: 0.0047, loss_cls: 0.0457, acc: 99.5703, loss_bbox: 0.2457, loss: 0.3102\n",
      "2022-05-26 14:22:50,294 - mmfewshot - INFO - Iter [37550/100000]\tlr: 1.000e-04, eta: 5:14:03, time: 0.270, data_time: 0.014, memory: 4571, loss_rpn_cls: 0.0197, loss_rpn_bbox: 0.0066, loss_cls: 0.0641, acc: 99.4297, loss_bbox: 0.2655, loss: 0.3559\n",
      "2022-05-26 14:23:03,640 - mmfewshot - INFO - Iter [37600/100000]\tlr: 1.000e-04, eta: 5:13:45, time: 0.267, data_time: 0.012, memory: 4571, loss_rpn_cls: 0.0138, loss_rpn_bbox: 0.0048, loss_cls: 0.0689, acc: 99.4609, loss_bbox: 0.2580, loss: 0.3455\n",
      "2022-05-26 14:23:17,010 - mmfewshot - INFO - Iter [37650/100000]\tlr: 1.000e-04, eta: 5:13:27, time: 0.267, data_time: 0.011, memory: 4571, loss_rpn_cls: 0.0157, loss_rpn_bbox: 0.0063, loss_cls: 0.0503, acc: 99.5703, loss_bbox: 0.2946, loss: 0.3670\n",
      "2022-05-26 14:23:30,506 - mmfewshot - INFO - Iter [37700/100000]\tlr: 1.000e-04, eta: 5:13:09, time: 0.270, data_time: 0.013, memory: 4571, loss_rpn_cls: 0.0117, loss_rpn_bbox: 0.0046, loss_cls: 0.0355, acc: 99.6719, loss_bbox: 0.2472, loss: 0.2990\n",
      "2022-05-26 14:23:43,829 - mmfewshot - INFO - Iter [37750/100000]\tlr: 1.000e-04, eta: 5:12:52, time: 0.266, data_time: 0.012, memory: 4571, loss_rpn_cls: 0.0117, loss_rpn_bbox: 0.0047, loss_cls: 0.0708, acc: 99.5234, loss_bbox: 0.2215, loss: 0.3088\n",
      "2022-05-26 14:23:57,170 - mmfewshot - INFO - Iter [37800/100000]\tlr: 1.000e-04, eta: 5:12:34, time: 0.267, data_time: 0.011, memory: 4571, loss_rpn_cls: 0.0077, loss_rpn_bbox: 0.0031, loss_cls: 0.0413, acc: 99.6016, loss_bbox: 0.2314, loss: 0.2836\n",
      "2022-05-26 14:24:10,508 - mmfewshot - INFO - Iter [37850/100000]\tlr: 1.000e-04, eta: 5:12:16, time: 0.267, data_time: 0.012, memory: 4571, loss_rpn_cls: 0.0078, loss_rpn_bbox: 0.0032, loss_cls: 0.0625, acc: 99.5078, loss_bbox: 0.2694, loss: 0.3429\n",
      "2022-05-26 14:24:23,970 - mmfewshot - INFO - Iter [37900/100000]\tlr: 1.000e-04, eta: 5:11:58, time: 0.269, data_time: 0.012, memory: 4571, loss_rpn_cls: 0.0174, loss_rpn_bbox: 0.0071, loss_cls: 0.0617, acc: 99.3750, loss_bbox: 0.2586, loss: 0.3449\n",
      "2022-05-26 14:24:37,339 - mmfewshot - INFO - Iter [37950/100000]\tlr: 1.000e-04, eta: 5:11:40, time: 0.267, data_time: 0.012, memory: 4571, loss_rpn_cls: 0.0112, loss_rpn_bbox: 0.0039, loss_cls: 0.0585, acc: 99.6484, loss_bbox: 0.2433, loss: 0.3169\n",
      "2022-05-26 14:24:50,722 - mmfewshot - INFO - Exp name: attention-rpn_r50_c4_tb-split2_1shot-fine-tuning-momentum-09.py\n",
      "2022-05-26 14:24:50,725 - mmfewshot - INFO - Iter [38000/100000]\tlr: 1.000e-04, eta: 5:11:22, time: 0.268, data_time: 0.013, memory: 4571, loss_rpn_cls: 0.0149, loss_rpn_bbox: 0.0049, loss_cls: 0.0494, acc: 99.5859, loss_bbox: 0.2535, loss: 0.3226\n",
      "2022-05-26 14:24:50,730 - mmdet - INFO - starting model initialization...\n"
     ]
    },
    {
     "name": "stdout",
     "output_type": "stream",
     "text": [
      "[>>>>>>>>>>>>>>>>>>>>>>>>>>>>>] 850/850, 78.5 task/s, elapsed: 11s, ETA:     0s"
     ]
    },
    {
     "name": "stderr",
     "output_type": "stream",
     "text": [
      "2022-05-26 14:25:01,644 - mmdet - INFO - model initialization done.\n"
     ]
    },
    {
     "name": "stdout",
     "output_type": "stream",
     "text": [
      "[>>>>>>>>>>>>>>>>>>>>>>>>>>>>>] 300/300, 12.7 task/s, elapsed: 24s, ETA:     0s\n",
      "---------------iou_thr: 0.5---------------\n"
     ]
    },
    {
     "name": "stderr",
     "output_type": "stream",
     "text": [
      "2022-05-26 14:25:25,711 - mmfewshot - INFO - \n",
      "+---------+-----+------+--------+-------+\n",
      "| class   | gts | dets | recall | ap    |\n",
      "+---------+-----+------+--------+-------+\n",
      "| fanta   | 291 | 1703 | 0.856  | 0.649 |\n",
      "| Mirinda | 111 | 553  | 0.694  | 0.509 |\n",
      "+---------+-----+------+--------+-------+\n",
      "| mAP     |     |      |        | 0.579 |\n",
      "+---------+-----+------+--------+-------+\n",
      "2022-05-26 14:25:25,713 - mmfewshot - INFO - BASE_CLASSES_SPLIT2 mAP: 0.579008936882019\n",
      "2022-05-26 14:25:25,714 - mmfewshot - INFO - NOVEL_CLASSES_SPLIT2 mAP: nan\n",
      "2022-05-26 14:25:25,718 - mmfewshot - INFO - Exp name: attention-rpn_r50_c4_tb-split2_1shot-fine-tuning-momentum-09.py\n",
      "2022-05-26 14:25:25,719 - mmfewshot - INFO - Iter(val) [300]\tAP50: 0.5790, BASE_CLASSES_SPLIT2: AP50: 0.5790, NOVEL_CLASSES_SPLIT2: AP50: nan, mAP: 0.5790\n",
      "2022-05-26 14:25:39,159 - mmfewshot - INFO - Iter [38050/100000]\tlr: 1.000e-04, eta: 5:12:02, time: 0.969, data_time: 0.713, memory: 4571, loss_rpn_cls: 0.0118, loss_rpn_bbox: 0.0061, loss_cls: 0.0396, acc: 99.6719, loss_bbox: 0.2426, loss: 0.3001\n",
      "2022-05-26 14:25:52,602 - mmfewshot - INFO - Iter [38100/100000]\tlr: 1.000e-04, eta: 5:11:44, time: 0.269, data_time: 0.013, memory: 4571, loss_rpn_cls: 0.0155, loss_rpn_bbox: 0.0067, loss_cls: 0.0500, acc: 99.5625, loss_bbox: 0.2710, loss: 0.3432\n",
      "2022-05-26 14:26:06,055 - mmfewshot - INFO - Iter [38150/100000]\tlr: 1.000e-04, eta: 5:11:26, time: 0.269, data_time: 0.012, memory: 4571, loss_rpn_cls: 0.0145, loss_rpn_bbox: 0.0068, loss_cls: 0.0768, acc: 99.4453, loss_bbox: 0.2632, loss: 0.3612\n",
      "2022-05-26 14:26:19,492 - mmfewshot - INFO - Iter [38200/100000]\tlr: 1.000e-04, eta: 5:11:08, time: 0.269, data_time: 0.012, memory: 4571, loss_rpn_cls: 0.0143, loss_rpn_bbox: 0.0056, loss_cls: 0.0611, acc: 99.4688, loss_bbox: 0.2500, loss: 0.3310\n",
      "2022-05-26 14:26:32,892 - mmfewshot - INFO - Iter [38250/100000]\tlr: 1.000e-04, eta: 5:10:50, time: 0.268, data_time: 0.012, memory: 4571, loss_rpn_cls: 0.0134, loss_rpn_bbox: 0.0044, loss_cls: 0.0944, acc: 99.4062, loss_bbox: 0.2430, loss: 0.3553\n",
      "2022-05-26 14:26:46,286 - mmfewshot - INFO - Iter [38300/100000]\tlr: 1.000e-04, eta: 5:10:32, time: 0.268, data_time: 0.012, memory: 4571, loss_rpn_cls: 0.0159, loss_rpn_bbox: 0.0090, loss_cls: 0.0740, acc: 99.5938, loss_bbox: 0.2192, loss: 0.3181\n",
      "2022-05-26 14:26:59,561 - mmfewshot - INFO - Iter [38350/100000]\tlr: 1.000e-04, eta: 5:10:14, time: 0.266, data_time: 0.012, memory: 4571, loss_rpn_cls: 0.0123, loss_rpn_bbox: 0.0049, loss_cls: 0.0586, acc: 99.5078, loss_bbox: 0.2826, loss: 0.3584\n",
      "2022-05-26 14:27:12,921 - mmfewshot - INFO - Iter [38400/100000]\tlr: 1.000e-04, eta: 5:09:56, time: 0.267, data_time: 0.011, memory: 4571, loss_rpn_cls: 0.0197, loss_rpn_bbox: 0.0092, loss_cls: 0.0451, acc: 99.6172, loss_bbox: 0.2536, loss: 0.3276\n",
      "2022-05-26 14:27:26,375 - mmfewshot - INFO - Iter [38450/100000]\tlr: 1.000e-04, eta: 5:09:39, time: 0.269, data_time: 0.013, memory: 4571, loss_rpn_cls: 0.0120, loss_rpn_bbox: 0.0060, loss_cls: 0.0829, acc: 99.3906, loss_bbox: 0.2495, loss: 0.3504\n",
      "2022-05-26 14:27:39,787 - mmfewshot - INFO - Iter [38500/100000]\tlr: 1.000e-04, eta: 5:09:21, time: 0.268, data_time: 0.012, memory: 4571, loss_rpn_cls: 0.0180, loss_rpn_bbox: 0.0095, loss_cls: 0.0385, acc: 99.6797, loss_bbox: 0.2590, loss: 0.3251\n",
      "2022-05-26 14:27:53,229 - mmfewshot - INFO - Iter [38550/100000]\tlr: 1.000e-04, eta: 5:09:03, time: 0.269, data_time: 0.013, memory: 4571, loss_rpn_cls: 0.0146, loss_rpn_bbox: 0.0078, loss_cls: 0.0592, acc: 99.5156, loss_bbox: 0.2852, loss: 0.3669\n",
      "2022-05-26 14:28:06,659 - mmfewshot - INFO - Iter [38600/100000]\tlr: 1.000e-04, eta: 5:08:46, time: 0.269, data_time: 0.013, memory: 4571, loss_rpn_cls: 0.0109, loss_rpn_bbox: 0.0064, loss_cls: 0.0490, acc: 99.5859, loss_bbox: 0.2733, loss: 0.3396\n",
      "2022-05-26 14:28:19,910 - mmfewshot - INFO - Iter [38650/100000]\tlr: 1.000e-04, eta: 5:08:28, time: 0.265, data_time: 0.011, memory: 4571, loss_rpn_cls: 0.0251, loss_rpn_bbox: 0.0112, loss_cls: 0.0816, acc: 99.3672, loss_bbox: 0.2657, loss: 0.3836\n",
      "2022-05-26 14:28:33,331 - mmfewshot - INFO - Iter [38700/100000]\tlr: 1.000e-04, eta: 5:08:10, time: 0.268, data_time: 0.013, memory: 4571, loss_rpn_cls: 0.0158, loss_rpn_bbox: 0.0076, loss_cls: 0.0598, acc: 99.4766, loss_bbox: 0.2661, loss: 0.3493\n",
      "2022-05-26 14:28:46,662 - mmfewshot - INFO - Iter [38750/100000]\tlr: 1.000e-04, eta: 5:07:52, time: 0.266, data_time: 0.012, memory: 4571, loss_rpn_cls: 0.0210, loss_rpn_bbox: 0.0060, loss_cls: 0.0470, acc: 99.5547, loss_bbox: 0.2712, loss: 0.3453\n",
      "2022-05-26 14:29:00,007 - mmfewshot - INFO - Iter [38800/100000]\tlr: 1.000e-04, eta: 5:07:34, time: 0.267, data_time: 0.011, memory: 4571, loss_rpn_cls: 0.0117, loss_rpn_bbox: 0.0058, loss_cls: 0.0452, acc: 99.5469, loss_bbox: 0.3065, loss: 0.3692\n",
      "2022-05-26 14:29:13,549 - mmfewshot - INFO - Iter [38850/100000]\tlr: 1.000e-04, eta: 5:07:17, time: 0.271, data_time: 0.012, memory: 4571, loss_rpn_cls: 0.0123, loss_rpn_bbox: 0.0054, loss_cls: 0.0549, acc: 99.5078, loss_bbox: 0.2223, loss: 0.2949\n",
      "2022-05-26 14:29:26,910 - mmfewshot - INFO - Iter [38900/100000]\tlr: 1.000e-04, eta: 5:06:59, time: 0.267, data_time: 0.011, memory: 4571, loss_rpn_cls: 0.0106, loss_rpn_bbox: 0.0050, loss_cls: 0.0568, acc: 99.5547, loss_bbox: 0.2292, loss: 0.3016\n",
      "2022-05-26 14:29:40,463 - mmfewshot - INFO - Iter [38950/100000]\tlr: 1.000e-04, eta: 5:06:41, time: 0.271, data_time: 0.013, memory: 4571, loss_rpn_cls: 0.0105, loss_rpn_bbox: 0.0056, loss_cls: 0.0543, acc: 99.5547, loss_bbox: 0.2532, loss: 0.3235\n",
      "2022-05-26 14:29:53,969 - mmfewshot - INFO - Exp name: attention-rpn_r50_c4_tb-split2_1shot-fine-tuning-momentum-09.py\n",
      "2022-05-26 14:29:53,971 - mmfewshot - INFO - Iter [39000/100000]\tlr: 1.000e-04, eta: 5:06:24, time: 0.270, data_time: 0.013, memory: 4571, loss_rpn_cls: 0.0130, loss_rpn_bbox: 0.0059, loss_cls: 0.0529, acc: 99.5000, loss_bbox: 0.2751, loss: 0.3469\n",
      "2022-05-26 14:29:53,977 - mmdet - INFO - starting model initialization...\n"
     ]
    },
    {
     "name": "stdout",
     "output_type": "stream",
     "text": [
      "[>>>>>>>>>>>>>>>>>>>>>>>>>>>>>] 850/850, 76.6 task/s, elapsed: 11s, ETA:     0s"
     ]
    },
    {
     "name": "stderr",
     "output_type": "stream",
     "text": [
      "2022-05-26 14:30:05,148 - mmdet - INFO - model initialization done.\n"
     ]
    },
    {
     "name": "stdout",
     "output_type": "stream",
     "text": [
      "[>>>>>>>>>>>>>>>>>>>>>>>>>>>>>] 300/300, 12.7 task/s, elapsed: 24s, ETA:     0s\n",
      "---------------iou_thr: 0.5---------------\n"
     ]
    },
    {
     "name": "stderr",
     "output_type": "stream",
     "text": [
      "2022-05-26 14:30:29,118 - mmfewshot - INFO - \n",
      "+---------+-----+------+--------+-------+\n",
      "| class   | gts | dets | recall | ap    |\n",
      "+---------+-----+------+--------+-------+\n",
      "| fanta   | 291 | 1912 | 0.876  | 0.672 |\n",
      "| Mirinda | 111 | 693  | 0.730  | 0.530 |\n",
      "+---------+-----+------+--------+-------+\n",
      "| mAP     |     |      |        | 0.601 |\n",
      "+---------+-----+------+--------+-------+\n",
      "2022-05-26 14:30:29,122 - mmfewshot - INFO - BASE_CLASSES_SPLIT2 mAP: 0.600972056388855\n",
      "2022-05-26 14:30:29,122 - mmfewshot - INFO - NOVEL_CLASSES_SPLIT2 mAP: nan\n",
      "2022-05-26 14:30:29,127 - mmfewshot - INFO - Exp name: attention-rpn_r50_c4_tb-split2_1shot-fine-tuning-momentum-09.py\n",
      "2022-05-26 14:30:29,128 - mmfewshot - INFO - Iter(val) [300]\tAP50: 0.6010, BASE_CLASSES_SPLIT2: AP50: 0.6010, NOVEL_CLASSES_SPLIT2: AP50: nan, mAP: 0.6010\n",
      "2022-05-26 14:30:42,709 - mmfewshot - INFO - Iter [39050/100000]\tlr: 1.000e-04, eta: 5:07:01, time: 0.975, data_time: 0.716, memory: 4571, loss_rpn_cls: 0.0116, loss_rpn_bbox: 0.0070, loss_cls: 0.0653, acc: 99.4062, loss_bbox: 0.2565, loss: 0.3405\n",
      "2022-05-26 14:30:56,172 - mmfewshot - INFO - Iter [39100/100000]\tlr: 1.000e-04, eta: 5:06:44, time: 0.269, data_time: 0.012, memory: 4571, loss_rpn_cls: 0.0189, loss_rpn_bbox: 0.0069, loss_cls: 0.0644, acc: 99.4766, loss_bbox: 0.2589, loss: 0.3492\n",
      "2022-05-26 14:31:09,604 - mmfewshot - INFO - Iter [39150/100000]\tlr: 1.000e-04, eta: 5:06:26, time: 0.269, data_time: 0.013, memory: 4571, loss_rpn_cls: 0.0121, loss_rpn_bbox: 0.0045, loss_cls: 0.0530, acc: 99.6172, loss_bbox: 0.2715, loss: 0.3410\n",
      "2022-05-26 14:31:23,120 - mmfewshot - INFO - Iter [39200/100000]\tlr: 1.000e-04, eta: 5:06:08, time: 0.270, data_time: 0.012, memory: 4571, loss_rpn_cls: 0.0140, loss_rpn_bbox: 0.0061, loss_cls: 0.0555, acc: 99.4688, loss_bbox: 0.2641, loss: 0.3396\n",
      "2022-05-26 14:31:36,362 - mmfewshot - INFO - Iter [39250/100000]\tlr: 1.000e-04, eta: 5:05:50, time: 0.265, data_time: 0.010, memory: 4571, loss_rpn_cls: 0.0127, loss_rpn_bbox: 0.0052, loss_cls: 0.0470, acc: 99.6250, loss_bbox: 0.2425, loss: 0.3074\n",
      "2022-05-26 14:31:49,940 - mmfewshot - INFO - Iter [39300/100000]\tlr: 1.000e-04, eta: 5:05:33, time: 0.272, data_time: 0.012, memory: 4571, loss_rpn_cls: 0.0180, loss_rpn_bbox: 0.0073, loss_cls: 0.0580, acc: 99.5078, loss_bbox: 0.2518, loss: 0.3351\n",
      "2022-05-26 14:32:03,266 - mmfewshot - INFO - Iter [39350/100000]\tlr: 1.000e-04, eta: 5:05:15, time: 0.267, data_time: 0.011, memory: 4571, loss_rpn_cls: 0.0153, loss_rpn_bbox: 0.0053, loss_cls: 0.0744, acc: 99.4453, loss_bbox: 0.2816, loss: 0.3768\n",
      "2022-05-26 14:32:16,801 - mmfewshot - INFO - Iter [39400/100000]\tlr: 1.000e-04, eta: 5:04:58, time: 0.271, data_time: 0.013, memory: 4571, loss_rpn_cls: 0.0139, loss_rpn_bbox: 0.0077, loss_cls: 0.0535, acc: 99.4766, loss_bbox: 0.2646, loss: 0.3397\n",
      "2022-05-26 14:32:30,242 - mmfewshot - INFO - Iter [39450/100000]\tlr: 1.000e-04, eta: 5:04:40, time: 0.269, data_time: 0.012, memory: 4571, loss_rpn_cls: 0.0121, loss_rpn_bbox: 0.0062, loss_cls: 0.0602, acc: 99.6016, loss_bbox: 0.2274, loss: 0.3059\n",
      "2022-05-26 14:32:43,829 - mmfewshot - INFO - Iter [39500/100000]\tlr: 1.000e-04, eta: 5:04:23, time: 0.272, data_time: 0.013, memory: 4571, loss_rpn_cls: 0.0149, loss_rpn_bbox: 0.0057, loss_cls: 0.0528, acc: 99.4688, loss_bbox: 0.2815, loss: 0.3549\n",
      "2022-05-26 14:32:57,195 - mmfewshot - INFO - Iter [39550/100000]\tlr: 1.000e-04, eta: 5:04:05, time: 0.267, data_time: 0.012, memory: 4571, loss_rpn_cls: 0.0131, loss_rpn_bbox: 0.0047, loss_cls: 0.0566, acc: 99.4531, loss_bbox: 0.2623, loss: 0.3367\n",
      "2022-05-26 14:33:10,648 - mmfewshot - INFO - Iter [39600/100000]\tlr: 1.000e-04, eta: 5:03:47, time: 0.269, data_time: 0.013, memory: 4571, loss_rpn_cls: 0.0147, loss_rpn_bbox: 0.0083, loss_cls: 0.0455, acc: 99.5938, loss_bbox: 0.2623, loss: 0.3307\n",
      "2022-05-26 14:33:24,030 - mmfewshot - INFO - Iter [39650/100000]\tlr: 1.000e-04, eta: 5:03:30, time: 0.268, data_time: 0.011, memory: 4571, loss_rpn_cls: 0.0139, loss_rpn_bbox: 0.0054, loss_cls: 0.0609, acc: 99.5234, loss_bbox: 0.2655, loss: 0.3457\n",
      "2022-05-26 14:33:37,428 - mmfewshot - INFO - Iter [39700/100000]\tlr: 1.000e-04, eta: 5:03:12, time: 0.268, data_time: 0.012, memory: 4571, loss_rpn_cls: 0.0148, loss_rpn_bbox: 0.0064, loss_cls: 0.0620, acc: 99.5938, loss_bbox: 0.2471, loss: 0.3304\n",
      "2022-05-26 14:33:50,630 - mmfewshot - INFO - Iter [39750/100000]\tlr: 1.000e-04, eta: 5:02:54, time: 0.264, data_time: 0.010, memory: 4571, loss_rpn_cls: 0.0150, loss_rpn_bbox: 0.0054, loss_cls: 0.0649, acc: 99.4375, loss_bbox: 0.2636, loss: 0.3489\n",
      "2022-05-26 14:34:03,911 - mmfewshot - INFO - Iter [39800/100000]\tlr: 1.000e-04, eta: 5:02:36, time: 0.266, data_time: 0.012, memory: 4571, loss_rpn_cls: 0.0133, loss_rpn_bbox: 0.0070, loss_cls: 0.0471, acc: 99.5781, loss_bbox: 0.2310, loss: 0.2985\n",
      "2022-05-26 14:34:17,378 - mmfewshot - INFO - Iter [39850/100000]\tlr: 1.000e-04, eta: 5:02:19, time: 0.269, data_time: 0.013, memory: 4571, loss_rpn_cls: 0.0194, loss_rpn_bbox: 0.0064, loss_cls: 0.0651, acc: 99.5781, loss_bbox: 0.2889, loss: 0.3799\n",
      "2022-05-26 14:34:30,857 - mmfewshot - INFO - Iter [39900/100000]\tlr: 1.000e-04, eta: 5:02:01, time: 0.270, data_time: 0.013, memory: 4571, loss_rpn_cls: 0.0144, loss_rpn_bbox: 0.0060, loss_cls: 0.0585, acc: 99.6016, loss_bbox: 0.2341, loss: 0.3130\n",
      "2022-05-26 14:34:44,280 - mmfewshot - INFO - Iter [39950/100000]\tlr: 1.000e-04, eta: 5:01:44, time: 0.268, data_time: 0.013, memory: 4571, loss_rpn_cls: 0.0133, loss_rpn_bbox: 0.0055, loss_cls: 0.0876, acc: 99.4922, loss_bbox: 0.2307, loss: 0.3371\n",
      "2022-05-26 14:34:57,571 - mmfewshot - INFO - Saving checkpoint at 40000 iterations\n",
      "2022-05-26 14:34:59,230 - mmfewshot - INFO - Exp name: attention-rpn_r50_c4_tb-split2_1shot-fine-tuning-momentum-09.py\n",
      "2022-05-26 14:34:59,231 - mmfewshot - INFO - Iter [40000/100000]\tlr: 1.000e-04, eta: 5:01:28, time: 0.301, data_time: 0.013, memory: 4571, loss_rpn_cls: 0.0143, loss_rpn_bbox: 0.0064, loss_cls: 0.0622, acc: 99.4375, loss_bbox: 0.2681, loss: 0.3510\n",
      "2022-05-26 14:34:59,236 - mmdet - INFO - starting model initialization...\n"
     ]
    },
    {
     "name": "stdout",
     "output_type": "stream",
     "text": [
      "[>>>>>>>>>>>>>>>>>>>>>>>>>>>>>] 850/850, 79.0 task/s, elapsed: 11s, ETA:     0s"
     ]
    },
    {
     "name": "stderr",
     "output_type": "stream",
     "text": [
      "2022-05-26 14:35:10,084 - mmdet - INFO - model initialization done.\n"
     ]
    },
    {
     "name": "stdout",
     "output_type": "stream",
     "text": [
      "[>>>>>>>>>>>>>>>>>>>>>>>>>>>>>] 300/300, 12.5 task/s, elapsed: 24s, ETA:     0s\n",
      "---------------iou_thr: 0.5---------------\n"
     ]
    },
    {
     "name": "stderr",
     "output_type": "stream",
     "text": [
      "2022-05-26 14:35:34,473 - mmfewshot - INFO - \n",
      "+---------+-----+------+--------+-------+\n",
      "| class   | gts | dets | recall | ap    |\n",
      "+---------+-----+------+--------+-------+\n",
      "| fanta   | 291 | 1880 | 0.873  | 0.629 |\n",
      "| Mirinda | 111 | 795  | 0.712  | 0.510 |\n",
      "+---------+-----+------+--------+-------+\n",
      "| mAP     |     |      |        | 0.569 |\n",
      "+---------+-----+------+--------+-------+\n",
      "2022-05-26 14:35:34,476 - mmfewshot - INFO - BASE_CLASSES_SPLIT2 mAP: 0.5694983601570129\n",
      "2022-05-26 14:35:34,477 - mmfewshot - INFO - NOVEL_CLASSES_SPLIT2 mAP: nan\n",
      "2022-05-26 14:35:34,480 - mmfewshot - INFO - Exp name: attention-rpn_r50_c4_tb-split2_1shot-fine-tuning-momentum-09.py\n",
      "2022-05-26 14:35:34,481 - mmfewshot - INFO - Iter(val) [300]\tAP50: 0.5690, BASE_CLASSES_SPLIT2: AP50: 0.5690, NOVEL_CLASSES_SPLIT2: AP50: nan, mAP: 0.5695\n",
      "2022-05-26 14:35:47,938 - mmfewshot - INFO - Iter [40050/100000]\tlr: 1.000e-04, eta: 5:02:04, time: 0.972, data_time: 0.715, memory: 4571, loss_rpn_cls: 0.0147, loss_rpn_bbox: 0.0051, loss_cls: 0.0580, acc: 99.5000, loss_bbox: 0.2608, loss: 0.3385\n",
      "2022-05-26 14:36:01,324 - mmfewshot - INFO - Iter [40100/100000]\tlr: 1.000e-04, eta: 5:01:46, time: 0.268, data_time: 0.012, memory: 4571, loss_rpn_cls: 0.0141, loss_rpn_bbox: 0.0057, loss_cls: 0.0612, acc: 99.4453, loss_bbox: 0.2822, loss: 0.3633\n",
      "2022-05-26 14:36:14,786 - mmfewshot - INFO - Iter [40150/100000]\tlr: 1.000e-04, eta: 5:01:28, time: 0.269, data_time: 0.012, memory: 4571, loss_rpn_cls: 0.0204, loss_rpn_bbox: 0.0079, loss_cls: 0.0414, acc: 99.5625, loss_bbox: 0.2597, loss: 0.3293\n",
      "2022-05-26 14:36:28,157 - mmfewshot - INFO - Iter [40200/100000]\tlr: 1.000e-04, eta: 5:01:11, time: 0.267, data_time: 0.012, memory: 4571, loss_rpn_cls: 0.0159, loss_rpn_bbox: 0.0074, loss_cls: 0.0592, acc: 99.5312, loss_bbox: 0.2489, loss: 0.3313\n",
      "2022-05-26 14:36:41,478 - mmfewshot - INFO - Iter [40250/100000]\tlr: 1.000e-04, eta: 5:00:53, time: 0.266, data_time: 0.012, memory: 4571, loss_rpn_cls: 0.0164, loss_rpn_bbox: 0.0045, loss_cls: 0.0460, acc: 99.6484, loss_bbox: 0.2438, loss: 0.3107\n",
      "2022-05-26 14:36:54,770 - mmfewshot - INFO - Iter [40300/100000]\tlr: 1.000e-04, eta: 5:00:35, time: 0.266, data_time: 0.011, memory: 4571, loss_rpn_cls: 0.0184, loss_rpn_bbox: 0.0100, loss_cls: 0.0530, acc: 99.5391, loss_bbox: 0.2659, loss: 0.3474\n",
      "2022-05-26 14:37:07,983 - mmfewshot - INFO - Iter [40350/100000]\tlr: 1.000e-04, eta: 5:00:17, time: 0.264, data_time: 0.011, memory: 4571, loss_rpn_cls: 0.0222, loss_rpn_bbox: 0.0084, loss_cls: 0.0564, acc: 99.5625, loss_bbox: 0.2625, loss: 0.3495\n",
      "2022-05-26 14:37:21,358 - mmfewshot - INFO - Iter [40400/100000]\tlr: 1.000e-04, eta: 4:59:59, time: 0.267, data_time: 0.012, memory: 4571, loss_rpn_cls: 0.0180, loss_rpn_bbox: 0.0057, loss_cls: 0.0573, acc: 99.4531, loss_bbox: 0.2762, loss: 0.3572\n",
      "2022-05-26 14:37:34,685 - mmfewshot - INFO - Iter [40450/100000]\tlr: 1.000e-04, eta: 4:59:42, time: 0.267, data_time: 0.013, memory: 4571, loss_rpn_cls: 0.0125, loss_rpn_bbox: 0.0060, loss_cls: 0.0607, acc: 99.5078, loss_bbox: 0.2689, loss: 0.3481\n",
      "2022-05-26 14:37:48,021 - mmfewshot - INFO - Iter [40500/100000]\tlr: 1.000e-04, eta: 4:59:24, time: 0.267, data_time: 0.013, memory: 4571, loss_rpn_cls: 0.0112, loss_rpn_bbox: 0.0051, loss_cls: 0.0511, acc: 99.4609, loss_bbox: 0.2716, loss: 0.3391\n",
      "2022-05-26 14:38:01,498 - mmfewshot - INFO - Iter [40550/100000]\tlr: 1.000e-04, eta: 4:59:07, time: 0.270, data_time: 0.013, memory: 4571, loss_rpn_cls: 0.0079, loss_rpn_bbox: 0.0034, loss_cls: 0.0567, acc: 99.4844, loss_bbox: 0.2588, loss: 0.3267\n",
      "2022-05-26 14:38:14,881 - mmfewshot - INFO - Iter [40600/100000]\tlr: 1.000e-04, eta: 4:58:49, time: 0.267, data_time: 0.011, memory: 4571, loss_rpn_cls: 0.0103, loss_rpn_bbox: 0.0045, loss_cls: 0.0447, acc: 99.6016, loss_bbox: 0.2647, loss: 0.3242\n",
      "2022-05-26 14:38:28,340 - mmfewshot - INFO - Iter [40650/100000]\tlr: 1.000e-04, eta: 4:58:32, time: 0.269, data_time: 0.013, memory: 4571, loss_rpn_cls: 0.0098, loss_rpn_bbox: 0.0045, loss_cls: 0.0612, acc: 99.5391, loss_bbox: 0.2311, loss: 0.3067\n",
      "2022-05-26 14:38:41,782 - mmfewshot - INFO - Iter [40700/100000]\tlr: 1.000e-04, eta: 4:58:14, time: 0.269, data_time: 0.013, memory: 4571, loss_rpn_cls: 0.0153, loss_rpn_bbox: 0.0067, loss_cls: 0.0720, acc: 99.3984, loss_bbox: 0.2860, loss: 0.3799\n",
      "2022-05-26 14:38:55,171 - mmfewshot - INFO - Iter [40750/100000]\tlr: 1.000e-04, eta: 4:57:56, time: 0.268, data_time: 0.013, memory: 4571, loss_rpn_cls: 0.0144, loss_rpn_bbox: 0.0072, loss_cls: 0.0657, acc: 99.3516, loss_bbox: 0.2719, loss: 0.3591\n",
      "2022-05-26 14:39:08,591 - mmfewshot - INFO - Iter [40800/100000]\tlr: 1.000e-04, eta: 4:57:39, time: 0.268, data_time: 0.013, memory: 4571, loss_rpn_cls: 0.0148, loss_rpn_bbox: 0.0051, loss_cls: 0.0505, acc: 99.5156, loss_bbox: 0.2912, loss: 0.3616\n",
      "2022-05-26 14:39:21,972 - mmfewshot - INFO - Iter [40850/100000]\tlr: 1.000e-04, eta: 4:57:21, time: 0.267, data_time: 0.012, memory: 4571, loss_rpn_cls: 0.0148, loss_rpn_bbox: 0.0047, loss_cls: 0.0483, acc: 99.5000, loss_bbox: 0.2835, loss: 0.3513\n",
      "2022-05-26 14:39:35,335 - mmfewshot - INFO - Iter [40900/100000]\tlr: 1.000e-04, eta: 4:57:04, time: 0.268, data_time: 0.012, memory: 4571, loss_rpn_cls: 0.0273, loss_rpn_bbox: 0.0112, loss_cls: 0.0492, acc: 99.5547, loss_bbox: 0.3141, loss: 0.4018\n",
      "2022-05-26 14:39:48,926 - mmfewshot - INFO - Iter [40950/100000]\tlr: 1.000e-04, eta: 4:56:47, time: 0.272, data_time: 0.013, memory: 4571, loss_rpn_cls: 0.0095, loss_rpn_bbox: 0.0037, loss_cls: 0.0417, acc: 99.5547, loss_bbox: 0.2608, loss: 0.3157\n",
      "2022-05-26 14:40:02,349 - mmfewshot - INFO - Exp name: attention-rpn_r50_c4_tb-split2_1shot-fine-tuning-momentum-09.py\n",
      "2022-05-26 14:40:02,351 - mmfewshot - INFO - Iter [41000/100000]\tlr: 1.000e-04, eta: 4:56:29, time: 0.268, data_time: 0.012, memory: 4571, loss_rpn_cls: 0.0124, loss_rpn_bbox: 0.0051, loss_cls: 0.0455, acc: 99.5156, loss_bbox: 0.2603, loss: 0.3234\n",
      "2022-05-26 14:40:02,356 - mmdet - INFO - starting model initialization...\n"
     ]
    },
    {
     "name": "stdout",
     "output_type": "stream",
     "text": [
      "[>>>>>>>>>>>>>>>>>>>>>>>>>>>>>] 850/850, 73.7 task/s, elapsed: 12s, ETA:     0s"
     ]
    },
    {
     "name": "stderr",
     "output_type": "stream",
     "text": [
      "2022-05-26 14:40:13,960 - mmdet - INFO - model initialization done.\n"
     ]
    },
    {
     "name": "stdout",
     "output_type": "stream",
     "text": [
      "[>>>>>>>>>>>>>>>>>>>>>>>>>>>>>] 300/300, 12.6 task/s, elapsed: 24s, ETA:     0s\n",
      "---------------iou_thr: 0.5---------------\n"
     ]
    },
    {
     "name": "stderr",
     "output_type": "stream",
     "text": [
      "2022-05-26 14:40:38,128 - mmfewshot - INFO - \n",
      "+---------+-----+------+--------+-------+\n",
      "| class   | gts | dets | recall | ap    |\n",
      "+---------+-----+------+--------+-------+\n",
      "| fanta   | 291 | 1739 | 0.866  | 0.666 |\n",
      "| Mirinda | 111 | 575  | 0.703  | 0.512 |\n",
      "+---------+-----+------+--------+-------+\n",
      "| mAP     |     |      |        | 0.589 |\n",
      "+---------+-----+------+--------+-------+\n",
      "2022-05-26 14:40:38,131 - mmfewshot - INFO - BASE_CLASSES_SPLIT2 mAP: 0.5888643264770508\n",
      "2022-05-26 14:40:38,132 - mmfewshot - INFO - NOVEL_CLASSES_SPLIT2 mAP: nan\n",
      "2022-05-26 14:40:38,135 - mmfewshot - INFO - Exp name: attention-rpn_r50_c4_tb-split2_1shot-fine-tuning-momentum-09.py\n",
      "2022-05-26 14:40:38,137 - mmfewshot - INFO - Iter(val) [300]\tAP50: 0.5890, BASE_CLASSES_SPLIT2: AP50: 0.5890, NOVEL_CLASSES_SPLIT2: AP50: nan, mAP: 0.5889\n",
      "2022-05-26 14:40:51,537 - mmfewshot - INFO - Iter [41050/100000]\tlr: 1.000e-04, eta: 4:57:03, time: 0.984, data_time: 0.728, memory: 4571, loss_rpn_cls: 0.0167, loss_rpn_bbox: 0.0069, loss_cls: 0.0711, acc: 99.5859, loss_bbox: 0.2484, loss: 0.3430\n",
      "2022-05-26 14:41:04,861 - mmfewshot - INFO - Iter [41100/100000]\tlr: 1.000e-04, eta: 4:56:45, time: 0.266, data_time: 0.012, memory: 4571, loss_rpn_cls: 0.0141, loss_rpn_bbox: 0.0073, loss_cls: 0.0360, acc: 99.6875, loss_bbox: 0.2820, loss: 0.3394\n",
      "2022-05-26 14:41:18,276 - mmfewshot - INFO - Iter [41150/100000]\tlr: 1.000e-04, eta: 4:56:28, time: 0.268, data_time: 0.013, memory: 4571, loss_rpn_cls: 0.0132, loss_rpn_bbox: 0.0070, loss_cls: 0.0669, acc: 99.6172, loss_bbox: 0.2730, loss: 0.3601\n",
      "2022-05-26 14:41:31,788 - mmfewshot - INFO - Iter [41200/100000]\tlr: 1.000e-04, eta: 4:56:10, time: 0.270, data_time: 0.013, memory: 4571, loss_rpn_cls: 0.0107, loss_rpn_bbox: 0.0047, loss_cls: 0.0615, acc: 99.5312, loss_bbox: 0.2605, loss: 0.3375\n",
      "2022-05-26 14:41:45,074 - mmfewshot - INFO - Iter [41250/100000]\tlr: 1.000e-04, eta: 4:55:53, time: 0.266, data_time: 0.012, memory: 4571, loss_rpn_cls: 0.0122, loss_rpn_bbox: 0.0057, loss_cls: 0.0563, acc: 99.4844, loss_bbox: 0.2391, loss: 0.3133\n",
      "2022-05-26 14:41:58,422 - mmfewshot - INFO - Iter [41300/100000]\tlr: 1.000e-04, eta: 4:55:35, time: 0.267, data_time: 0.011, memory: 4571, loss_rpn_cls: 0.0125, loss_rpn_bbox: 0.0046, loss_cls: 0.0366, acc: 99.6016, loss_bbox: 0.2965, loss: 0.3502\n",
      "2022-05-26 14:42:11,929 - mmfewshot - INFO - Iter [41350/100000]\tlr: 1.000e-04, eta: 4:55:18, time: 0.270, data_time: 0.013, memory: 4571, loss_rpn_cls: 0.0121, loss_rpn_bbox: 0.0059, loss_cls: 0.0466, acc: 99.5156, loss_bbox: 0.2846, loss: 0.3492\n",
      "2022-05-26 14:42:25,409 - mmfewshot - INFO - Iter [41400/100000]\tlr: 1.000e-04, eta: 4:55:00, time: 0.270, data_time: 0.013, memory: 4571, loss_rpn_cls: 0.0190, loss_rpn_bbox: 0.0061, loss_cls: 0.0586, acc: 99.5703, loss_bbox: 0.2599, loss: 0.3436\n",
      "2022-05-26 14:42:38,851 - mmfewshot - INFO - Iter [41450/100000]\tlr: 1.000e-04, eta: 4:54:43, time: 0.269, data_time: 0.013, memory: 4571, loss_rpn_cls: 0.0116, loss_rpn_bbox: 0.0070, loss_cls: 0.0623, acc: 99.4297, loss_bbox: 0.2424, loss: 0.3232\n",
      "2022-05-26 14:42:52,286 - mmfewshot - INFO - Iter [41500/100000]\tlr: 1.000e-04, eta: 4:54:25, time: 0.269, data_time: 0.012, memory: 4571, loss_rpn_cls: 0.0147, loss_rpn_bbox: 0.0065, loss_cls: 0.0463, acc: 99.5625, loss_bbox: 0.2887, loss: 0.3562\n",
      "2022-05-26 14:43:05,803 - mmfewshot - INFO - Iter [41550/100000]\tlr: 1.000e-04, eta: 4:54:08, time: 0.270, data_time: 0.013, memory: 4571, loss_rpn_cls: 0.0142, loss_rpn_bbox: 0.0057, loss_cls: 0.0552, acc: 99.5469, loss_bbox: 0.2544, loss: 0.3294\n",
      "2022-05-26 14:43:19,247 - mmfewshot - INFO - Iter [41600/100000]\tlr: 1.000e-04, eta: 4:53:51, time: 0.269, data_time: 0.012, memory: 4571, loss_rpn_cls: 0.0114, loss_rpn_bbox: 0.0051, loss_cls: 0.0476, acc: 99.5625, loss_bbox: 0.2851, loss: 0.3492\n",
      "2022-05-26 14:43:32,703 - mmfewshot - INFO - Iter [41650/100000]\tlr: 1.000e-04, eta: 4:53:33, time: 0.269, data_time: 0.013, memory: 4571, loss_rpn_cls: 0.0112, loss_rpn_bbox: 0.0040, loss_cls: 0.0589, acc: 99.6328, loss_bbox: 0.2477, loss: 0.3217\n",
      "2022-05-26 14:43:46,121 - mmfewshot - INFO - Iter [41700/100000]\tlr: 1.000e-04, eta: 4:53:16, time: 0.268, data_time: 0.013, memory: 4571, loss_rpn_cls: 0.0249, loss_rpn_bbox: 0.0091, loss_cls: 0.0572, acc: 99.4453, loss_bbox: 0.2873, loss: 0.3785\n",
      "2022-05-26 14:43:59,579 - mmfewshot - INFO - Iter [41750/100000]\tlr: 1.000e-04, eta: 4:52:58, time: 0.269, data_time: 0.013, memory: 4571, loss_rpn_cls: 0.0151, loss_rpn_bbox: 0.0067, loss_cls: 0.0646, acc: 99.4453, loss_bbox: 0.2557, loss: 0.3421\n",
      "2022-05-26 14:44:13,157 - mmfewshot - INFO - Iter [41800/100000]\tlr: 1.000e-04, eta: 4:52:41, time: 0.271, data_time: 0.013, memory: 4571, loss_rpn_cls: 0.0167, loss_rpn_bbox: 0.0083, loss_cls: 0.0514, acc: 99.6016, loss_bbox: 0.2821, loss: 0.3585\n",
      "2022-05-26 14:44:26,593 - mmfewshot - INFO - Iter [41850/100000]\tlr: 1.000e-04, eta: 4:52:24, time: 0.269, data_time: 0.012, memory: 4571, loss_rpn_cls: 0.0224, loss_rpn_bbox: 0.0078, loss_cls: 0.0776, acc: 99.5078, loss_bbox: 0.2369, loss: 0.3448\n",
      "2022-05-26 14:44:40,035 - mmfewshot - INFO - Iter [41900/100000]\tlr: 1.000e-04, eta: 4:52:07, time: 0.269, data_time: 0.013, memory: 4571, loss_rpn_cls: 0.0090, loss_rpn_bbox: 0.0029, loss_cls: 0.0724, acc: 99.4766, loss_bbox: 0.2394, loss: 0.3238\n",
      "2022-05-26 14:44:53,505 - mmfewshot - INFO - Iter [41950/100000]\tlr: 1.000e-04, eta: 4:51:49, time: 0.269, data_time: 0.012, memory: 4571, loss_rpn_cls: 0.0191, loss_rpn_bbox: 0.0076, loss_cls: 0.0649, acc: 99.5312, loss_bbox: 0.2856, loss: 0.3772\n",
      "2022-05-26 14:45:06,902 - mmfewshot - INFO - Exp name: attention-rpn_r50_c4_tb-split2_1shot-fine-tuning-momentum-09.py\n",
      "2022-05-26 14:45:06,905 - mmfewshot - INFO - Iter [42000/100000]\tlr: 1.000e-04, eta: 4:51:32, time: 0.268, data_time: 0.013, memory: 4571, loss_rpn_cls: 0.0151, loss_rpn_bbox: 0.0057, loss_cls: 0.0552, acc: 99.5078, loss_bbox: 0.2549, loss: 0.3309\n",
      "2022-05-26 14:45:06,913 - mmdet - INFO - starting model initialization...\n"
     ]
    },
    {
     "name": "stdout",
     "output_type": "stream",
     "text": [
      "[>>>>>>>>>>>>>>>>>>>>>>>>>>>>>] 850/850, 75.3 task/s, elapsed: 11s, ETA:     0s"
     ]
    },
    {
     "name": "stderr",
     "output_type": "stream",
     "text": [
      "2022-05-26 14:45:18,283 - mmdet - INFO - model initialization done.\n"
     ]
    },
    {
     "name": "stdout",
     "output_type": "stream",
     "text": [
      "[>>>>>>>>>>>>>>>>>>>>>>>>>>>>>] 300/300, 12.7 task/s, elapsed: 24s, ETA:     0s\n",
      "---------------iou_thr: 0.5---------------\n"
     ]
    },
    {
     "name": "stderr",
     "output_type": "stream",
     "text": [
      "2022-05-26 14:45:42,166 - mmfewshot - INFO - \n",
      "+---------+-----+------+--------+-------+\n",
      "| class   | gts | dets | recall | ap    |\n",
      "+---------+-----+------+--------+-------+\n",
      "| fanta   | 291 | 1758 | 0.876  | 0.688 |\n",
      "| Mirinda | 111 | 699  | 0.748  | 0.556 |\n",
      "+---------+-----+------+--------+-------+\n",
      "| mAP     |     |      |        | 0.622 |\n",
      "+---------+-----+------+--------+-------+\n",
      "2022-05-26 14:45:42,168 - mmfewshot - INFO - BASE_CLASSES_SPLIT2 mAP: 0.6220265626907349\n",
      "2022-05-26 14:45:42,169 - mmfewshot - INFO - NOVEL_CLASSES_SPLIT2 mAP: nan\n",
      "2022-05-26 14:45:42,172 - mmfewshot - INFO - Exp name: attention-rpn_r50_c4_tb-split2_1shot-fine-tuning-momentum-09.py\n",
      "2022-05-26 14:45:42,173 - mmfewshot - INFO - Iter(val) [300]\tAP50: 0.6220, BASE_CLASSES_SPLIT2: AP50: 0.6220, NOVEL_CLASSES_SPLIT2: AP50: nan, mAP: 0.6220\n",
      "2022-05-26 14:45:55,726 - mmfewshot - INFO - Iter [42050/100000]\tlr: 1.000e-04, eta: 4:52:03, time: 0.976, data_time: 0.718, memory: 4571, loss_rpn_cls: 0.0169, loss_rpn_bbox: 0.0065, loss_cls: 0.0543, acc: 99.3672, loss_bbox: 0.3265, loss: 0.4043\n",
      "2022-05-26 14:46:09,196 - mmfewshot - INFO - Iter [42100/100000]\tlr: 1.000e-04, eta: 4:51:46, time: 0.269, data_time: 0.012, memory: 4571, loss_rpn_cls: 0.0177, loss_rpn_bbox: 0.0076, loss_cls: 0.0509, acc: 99.5312, loss_bbox: 0.2699, loss: 0.3461\n",
      "2022-05-26 14:46:22,557 - mmfewshot - INFO - Iter [42150/100000]\tlr: 1.000e-04, eta: 4:51:28, time: 0.267, data_time: 0.013, memory: 4571, loss_rpn_cls: 0.0085, loss_rpn_bbox: 0.0031, loss_cls: 0.0597, acc: 99.5469, loss_bbox: 0.2178, loss: 0.2891\n",
      "2022-05-26 14:46:35,964 - mmfewshot - INFO - Iter [42200/100000]\tlr: 1.000e-04, eta: 4:51:11, time: 0.268, data_time: 0.012, memory: 4571, loss_rpn_cls: 0.0142, loss_rpn_bbox: 0.0059, loss_cls: 0.0679, acc: 99.4922, loss_bbox: 0.2348, loss: 0.3228\n",
      "2022-05-26 14:46:49,443 - mmfewshot - INFO - Iter [42250/100000]\tlr: 1.000e-04, eta: 4:50:54, time: 0.270, data_time: 0.012, memory: 4571, loss_rpn_cls: 0.0170, loss_rpn_bbox: 0.0073, loss_cls: 0.0516, acc: 99.4688, loss_bbox: 0.3071, loss: 0.3830\n",
      "2022-05-26 14:47:02,855 - mmfewshot - INFO - Iter [42300/100000]\tlr: 1.000e-04, eta: 4:50:36, time: 0.268, data_time: 0.012, memory: 4571, loss_rpn_cls: 0.0121, loss_rpn_bbox: 0.0060, loss_cls: 0.0556, acc: 99.5078, loss_bbox: 0.2881, loss: 0.3619\n",
      "2022-05-26 14:47:16,322 - mmfewshot - INFO - Iter [42350/100000]\tlr: 1.000e-04, eta: 4:50:19, time: 0.269, data_time: 0.013, memory: 4571, loss_rpn_cls: 0.0140, loss_rpn_bbox: 0.0070, loss_cls: 0.0609, acc: 99.5469, loss_bbox: 0.2471, loss: 0.3289\n",
      "2022-05-26 14:47:29,798 - mmfewshot - INFO - Iter [42400/100000]\tlr: 1.000e-04, eta: 4:50:01, time: 0.270, data_time: 0.012, memory: 4571, loss_rpn_cls: 0.0136, loss_rpn_bbox: 0.0057, loss_cls: 0.0426, acc: 99.6328, loss_bbox: 0.2708, loss: 0.3327\n",
      "2022-05-26 14:47:43,178 - mmfewshot - INFO - Iter [42450/100000]\tlr: 1.000e-04, eta: 4:49:44, time: 0.267, data_time: 0.012, memory: 4571, loss_rpn_cls: 0.0135, loss_rpn_bbox: 0.0063, loss_cls: 0.0776, acc: 99.4922, loss_bbox: 0.2434, loss: 0.3409\n",
      "2022-05-26 14:47:56,694 - mmfewshot - INFO - Iter [42500/100000]\tlr: 1.000e-04, eta: 4:49:27, time: 0.270, data_time: 0.013, memory: 4571, loss_rpn_cls: 0.0192, loss_rpn_bbox: 0.0071, loss_cls: 0.0518, acc: 99.4609, loss_bbox: 0.2975, loss: 0.3757\n",
      "2022-05-26 14:48:10,209 - mmfewshot - INFO - Iter [42550/100000]\tlr: 1.000e-04, eta: 4:49:09, time: 0.270, data_time: 0.013, memory: 4571, loss_rpn_cls: 0.0087, loss_rpn_bbox: 0.0041, loss_cls: 0.0646, acc: 99.5625, loss_bbox: 0.2640, loss: 0.3414\n",
      "2022-05-26 14:48:23,573 - mmfewshot - INFO - Iter [42600/100000]\tlr: 1.000e-04, eta: 4:48:52, time: 0.268, data_time: 0.012, memory: 4571, loss_rpn_cls: 0.0076, loss_rpn_bbox: 0.0031, loss_cls: 0.0689, acc: 99.5781, loss_bbox: 0.2451, loss: 0.3246\n",
      "2022-05-26 14:48:36,913 - mmfewshot - INFO - Iter [42650/100000]\tlr: 1.000e-04, eta: 4:48:35, time: 0.267, data_time: 0.012, memory: 4571, loss_rpn_cls: 0.0096, loss_rpn_bbox: 0.0062, loss_cls: 0.0486, acc: 99.6172, loss_bbox: 0.2258, loss: 0.2901\n",
      "2022-05-26 14:48:50,415 - mmfewshot - INFO - Iter [42700/100000]\tlr: 1.000e-04, eta: 4:48:17, time: 0.270, data_time: 0.013, memory: 4571, loss_rpn_cls: 0.0170, loss_rpn_bbox: 0.0092, loss_cls: 0.0532, acc: 99.4531, loss_bbox: 0.3150, loss: 0.3944\n",
      "2022-05-26 14:49:03,910 - mmfewshot - INFO - Iter [42750/100000]\tlr: 1.000e-04, eta: 4:48:00, time: 0.270, data_time: 0.013, memory: 4571, loss_rpn_cls: 0.0138, loss_rpn_bbox: 0.0058, loss_cls: 0.0479, acc: 99.5781, loss_bbox: 0.2685, loss: 0.3361\n",
      "2022-05-26 14:49:17,316 - mmfewshot - INFO - Iter [42800/100000]\tlr: 1.000e-04, eta: 4:47:43, time: 0.268, data_time: 0.012, memory: 4571, loss_rpn_cls: 0.0150, loss_rpn_bbox: 0.0069, loss_cls: 0.0516, acc: 99.5859, loss_bbox: 0.2589, loss: 0.3323\n",
      "2022-05-26 14:49:30,585 - mmfewshot - INFO - Iter [42850/100000]\tlr: 1.000e-04, eta: 4:47:25, time: 0.265, data_time: 0.010, memory: 4571, loss_rpn_cls: 0.0130, loss_rpn_bbox: 0.0063, loss_cls: 0.0557, acc: 99.5391, loss_bbox: 0.2963, loss: 0.3714\n",
      "2022-05-26 14:49:44,005 - mmfewshot - INFO - Iter [42900/100000]\tlr: 1.000e-04, eta: 4:47:08, time: 0.269, data_time: 0.012, memory: 4571, loss_rpn_cls: 0.0102, loss_rpn_bbox: 0.0044, loss_cls: 0.0575, acc: 99.5547, loss_bbox: 0.2563, loss: 0.3284\n",
      "2022-05-26 14:49:57,539 - mmfewshot - INFO - Iter [42950/100000]\tlr: 1.000e-04, eta: 4:46:51, time: 0.270, data_time: 0.013, memory: 4571, loss_rpn_cls: 0.0111, loss_rpn_bbox: 0.0060, loss_cls: 0.0552, acc: 99.5938, loss_bbox: 0.2581, loss: 0.3304\n",
      "2022-05-26 14:50:10,934 - mmfewshot - INFO - Exp name: attention-rpn_r50_c4_tb-split2_1shot-fine-tuning-momentum-09.py\n",
      "2022-05-26 14:50:10,935 - mmfewshot - INFO - Iter [43000/100000]\tlr: 1.000e-04, eta: 4:46:33, time: 0.268, data_time: 0.013, memory: 4571, loss_rpn_cls: 0.0114, loss_rpn_bbox: 0.0052, loss_cls: 0.0502, acc: 99.6250, loss_bbox: 0.2595, loss: 0.3263\n",
      "2022-05-26 14:50:10,940 - mmdet - INFO - starting model initialization...\n"
     ]
    },
    {
     "name": "stdout",
     "output_type": "stream",
     "text": [
      "[>>>>>>>>>>>>>>>>>>>>>>>>>>>>>] 850/850, 74.9 task/s, elapsed: 11s, ETA:     0s"
     ]
    },
    {
     "name": "stderr",
     "output_type": "stream",
     "text": [
      "2022-05-26 14:50:22,383 - mmdet - INFO - model initialization done.\n"
     ]
    },
    {
     "name": "stdout",
     "output_type": "stream",
     "text": [
      "[>>>>>>>>>>>>>>>>>>>>>>>>>>>>>] 300/300, 12.7 task/s, elapsed: 24s, ETA:     0s\n",
      "---------------iou_thr: 0.5---------------\n"
     ]
    },
    {
     "name": "stderr",
     "output_type": "stream",
     "text": [
      "2022-05-26 14:50:46,318 - mmfewshot - INFO - \n",
      "+---------+-----+------+--------+-------+\n",
      "| class   | gts | dets | recall | ap    |\n",
      "+---------+-----+------+--------+-------+\n",
      "| fanta   | 291 | 1904 | 0.866  | 0.670 |\n",
      "| Mirinda | 111 | 705  | 0.739  | 0.552 |\n",
      "+---------+-----+------+--------+-------+\n",
      "| mAP     |     |      |        | 0.611 |\n",
      "+---------+-----+------+--------+-------+\n",
      "2022-05-26 14:50:46,321 - mmfewshot - INFO - BASE_CLASSES_SPLIT2 mAP: 0.6107620000839233\n",
      "2022-05-26 14:50:46,322 - mmfewshot - INFO - NOVEL_CLASSES_SPLIT2 mAP: nan\n",
      "2022-05-26 14:50:46,326 - mmfewshot - INFO - Exp name: attention-rpn_r50_c4_tb-split2_1shot-fine-tuning-momentum-09.py\n",
      "2022-05-26 14:50:46,327 - mmfewshot - INFO - Iter(val) [300]\tAP50: 0.6110, BASE_CLASSES_SPLIT2: AP50: 0.6110, NOVEL_CLASSES_SPLIT2: AP50: nan, mAP: 0.6108\n",
      "2022-05-26 14:50:59,729 - mmfewshot - INFO - Iter [43050/100000]\tlr: 1.000e-04, eta: 4:47:03, time: 0.976, data_time: 0.720, memory: 4571, loss_rpn_cls: 0.0114, loss_rpn_bbox: 0.0046, loss_cls: 0.0492, acc: 99.6328, loss_bbox: 0.2544, loss: 0.3196\n",
      "2022-05-26 14:51:12,938 - mmfewshot - INFO - Iter [43100/100000]\tlr: 1.000e-04, eta: 4:46:45, time: 0.264, data_time: 0.010, memory: 4571, loss_rpn_cls: 0.0088, loss_rpn_bbox: 0.0055, loss_cls: 0.0481, acc: 99.5156, loss_bbox: 0.2904, loss: 0.3528\n",
      "2022-05-26 14:51:26,112 - mmfewshot - INFO - Iter [43150/100000]\tlr: 1.000e-04, eta: 4:46:28, time: 0.263, data_time: 0.010, memory: 4571, loss_rpn_cls: 0.0102, loss_rpn_bbox: 0.0063, loss_cls: 0.0621, acc: 99.4922, loss_bbox: 0.2663, loss: 0.3449\n",
      "2022-05-26 14:51:39,305 - mmfewshot - INFO - Iter [43200/100000]\tlr: 1.000e-04, eta: 4:46:10, time: 0.264, data_time: 0.010, memory: 4571, loss_rpn_cls: 0.0155, loss_rpn_bbox: 0.0083, loss_cls: 0.0418, acc: 99.6016, loss_bbox: 0.2778, loss: 0.3435\n",
      "2022-05-26 14:51:52,684 - mmfewshot - INFO - Iter [43250/100000]\tlr: 1.000e-04, eta: 4:45:53, time: 0.268, data_time: 0.011, memory: 4571, loss_rpn_cls: 0.0158, loss_rpn_bbox: 0.0086, loss_cls: 0.0555, acc: 99.5781, loss_bbox: 0.2830, loss: 0.3630\n",
      "2022-05-26 14:52:06,183 - mmfewshot - INFO - Iter [43300/100000]\tlr: 1.000e-04, eta: 4:45:35, time: 0.270, data_time: 0.013, memory: 4571, loss_rpn_cls: 0.0140, loss_rpn_bbox: 0.0051, loss_cls: 0.0520, acc: 99.5156, loss_bbox: 0.2543, loss: 0.3254\n",
      "2022-05-26 14:52:19,691 - mmfewshot - INFO - Iter [43350/100000]\tlr: 1.000e-04, eta: 4:45:18, time: 0.270, data_time: 0.013, memory: 4571, loss_rpn_cls: 0.0135, loss_rpn_bbox: 0.0078, loss_cls: 0.0542, acc: 99.5391, loss_bbox: 0.2577, loss: 0.3332\n",
      "2022-05-26 14:52:32,989 - mmfewshot - INFO - Iter [43400/100000]\tlr: 1.000e-04, eta: 4:45:01, time: 0.266, data_time: 0.011, memory: 4571, loss_rpn_cls: 0.0125, loss_rpn_bbox: 0.0063, loss_cls: 0.0627, acc: 99.5234, loss_bbox: 0.2512, loss: 0.3326\n",
      "2022-05-26 14:52:46,335 - mmfewshot - INFO - Iter [43450/100000]\tlr: 1.000e-04, eta: 4:44:43, time: 0.267, data_time: 0.011, memory: 4571, loss_rpn_cls: 0.0177, loss_rpn_bbox: 0.0082, loss_cls: 0.0657, acc: 99.4141, loss_bbox: 0.2905, loss: 0.3822\n",
      "2022-05-26 14:52:59,802 - mmfewshot - INFO - Iter [43500/100000]\tlr: 1.000e-04, eta: 4:44:26, time: 0.269, data_time: 0.012, memory: 4571, loss_rpn_cls: 0.0105, loss_rpn_bbox: 0.0053, loss_cls: 0.0544, acc: 99.5156, loss_bbox: 0.2858, loss: 0.3560\n",
      "2022-05-26 14:53:13,208 - mmfewshot - INFO - Iter [43550/100000]\tlr: 1.000e-04, eta: 4:44:09, time: 0.268, data_time: 0.013, memory: 4571, loss_rpn_cls: 0.0128, loss_rpn_bbox: 0.0045, loss_cls: 0.0544, acc: 99.4375, loss_bbox: 0.2822, loss: 0.3540\n",
      "2022-05-26 14:53:26,713 - mmfewshot - INFO - Iter [43600/100000]\tlr: 1.000e-04, eta: 4:43:52, time: 0.270, data_time: 0.013, memory: 4571, loss_rpn_cls: 0.0208, loss_rpn_bbox: 0.0068, loss_cls: 0.0411, acc: 99.6094, loss_bbox: 0.2677, loss: 0.3364\n",
      "2022-05-26 14:53:40,137 - mmfewshot - INFO - Iter [43650/100000]\tlr: 1.000e-04, eta: 4:43:34, time: 0.268, data_time: 0.013, memory: 4571, loss_rpn_cls: 0.0092, loss_rpn_bbox: 0.0047, loss_cls: 0.0545, acc: 99.4609, loss_bbox: 0.2717, loss: 0.3401\n",
      "2022-05-26 14:53:53,657 - mmfewshot - INFO - Iter [43700/100000]\tlr: 1.000e-04, eta: 4:43:17, time: 0.270, data_time: 0.013, memory: 4571, loss_rpn_cls: 0.0120, loss_rpn_bbox: 0.0050, loss_cls: 0.0476, acc: 99.5703, loss_bbox: 0.2821, loss: 0.3468\n",
      "2022-05-26 14:54:07,119 - mmfewshot - INFO - Iter [43750/100000]\tlr: 1.000e-04, eta: 4:43:00, time: 0.269, data_time: 0.013, memory: 4571, loss_rpn_cls: 0.0096, loss_rpn_bbox: 0.0041, loss_cls: 0.0671, acc: 99.4766, loss_bbox: 0.2891, loss: 0.3699\n",
      "2022-05-26 14:54:20,654 - mmfewshot - INFO - Iter [43800/100000]\tlr: 1.000e-04, eta: 4:42:43, time: 0.271, data_time: 0.012, memory: 4571, loss_rpn_cls: 0.0122, loss_rpn_bbox: 0.0077, loss_cls: 0.0523, acc: 99.4297, loss_bbox: 0.3064, loss: 0.3786\n",
      "2022-05-26 14:54:34,144 - mmfewshot - INFO - Iter [43850/100000]\tlr: 1.000e-04, eta: 4:42:26, time: 0.270, data_time: 0.012, memory: 4571, loss_rpn_cls: 0.0107, loss_rpn_bbox: 0.0054, loss_cls: 0.0432, acc: 99.5312, loss_bbox: 0.3123, loss: 0.3717\n",
      "2022-05-26 14:54:47,614 - mmfewshot - INFO - Iter [43900/100000]\tlr: 1.000e-04, eta: 4:42:09, time: 0.269, data_time: 0.013, memory: 4571, loss_rpn_cls: 0.0196, loss_rpn_bbox: 0.0103, loss_cls: 0.0673, acc: 99.5547, loss_bbox: 0.2842, loss: 0.3814\n",
      "2022-05-26 14:55:01,069 - mmfewshot - INFO - Iter [43950/100000]\tlr: 1.000e-04, eta: 4:41:51, time: 0.269, data_time: 0.012, memory: 4571, loss_rpn_cls: 0.0082, loss_rpn_bbox: 0.0033, loss_cls: 0.0429, acc: 99.6484, loss_bbox: 0.2507, loss: 0.3051\n",
      "2022-05-26 14:55:14,469 - mmfewshot - INFO - Exp name: attention-rpn_r50_c4_tb-split2_1shot-fine-tuning-momentum-09.py\n",
      "2022-05-26 14:55:14,471 - mmfewshot - INFO - Iter [44000/100000]\tlr: 1.000e-04, eta: 4:41:34, time: 0.268, data_time: 0.012, memory: 4571, loss_rpn_cls: 0.0129, loss_rpn_bbox: 0.0058, loss_cls: 0.0623, acc: 99.5156, loss_bbox: 0.2586, loss: 0.3396\n",
      "2022-05-26 14:55:14,477 - mmdet - INFO - starting model initialization...\n"
     ]
    },
    {
     "name": "stdout",
     "output_type": "stream",
     "text": [
      "[>>>>>>>>>>>>>>>>>>>>>>>>>>>>>] 850/850, 83.0 task/s, elapsed: 10s, ETA:     0s"
     ]
    },
    {
     "name": "stderr",
     "output_type": "stream",
     "text": [
      "2022-05-26 14:55:24,789 - mmdet - INFO - model initialization done.\n"
     ]
    },
    {
     "name": "stdout",
     "output_type": "stream",
     "text": [
      "[>>>>>>>>>>>>>>>>>>>>>>>>>>>>>] 300/300, 12.7 task/s, elapsed: 24s, ETA:     0s\n",
      "---------------iou_thr: 0.5---------------\n"
     ]
    },
    {
     "name": "stderr",
     "output_type": "stream",
     "text": [
      "2022-05-26 14:55:48,813 - mmfewshot - INFO - \n",
      "+---------+-----+------+--------+-------+\n",
      "| class   | gts | dets | recall | ap    |\n",
      "+---------+-----+------+--------+-------+\n",
      "| fanta   | 291 | 1263 | 0.859  | 0.687 |\n",
      "| Mirinda | 111 | 598  | 0.739  | 0.556 |\n",
      "+---------+-----+------+--------+-------+\n",
      "| mAP     |     |      |        | 0.621 |\n",
      "+---------+-----+------+--------+-------+\n",
      "2022-05-26 14:55:48,816 - mmfewshot - INFO - BASE_CLASSES_SPLIT2 mAP: 0.6214320659637451\n",
      "2022-05-26 14:55:48,818 - mmfewshot - INFO - NOVEL_CLASSES_SPLIT2 mAP: nan\n",
      "2022-05-26 14:55:48,821 - mmfewshot - INFO - Exp name: attention-rpn_r50_c4_tb-split2_1shot-fine-tuning-momentum-09.py\n",
      "2022-05-26 14:55:48,822 - mmfewshot - INFO - Iter(val) [300]\tAP50: 0.6210, BASE_CLASSES_SPLIT2: AP50: 0.6210, NOVEL_CLASSES_SPLIT2: AP50: nan, mAP: 0.6214\n",
      "2022-05-26 14:56:02,230 - mmfewshot - INFO - Iter [44050/100000]\tlr: 1.000e-04, eta: 4:42:01, time: 0.955, data_time: 0.699, memory: 4571, loss_rpn_cls: 0.0161, loss_rpn_bbox: 0.0057, loss_cls: 0.0412, acc: 99.5781, loss_bbox: 0.2738, loss: 0.3369\n",
      "2022-05-26 14:56:15,755 - mmfewshot - INFO - Iter [44100/100000]\tlr: 1.000e-04, eta: 4:41:43, time: 0.271, data_time: 0.012, memory: 4571, loss_rpn_cls: 0.0117, loss_rpn_bbox: 0.0054, loss_cls: 0.0590, acc: 99.4297, loss_bbox: 0.2750, loss: 0.3511\n",
      "2022-05-26 14:56:29,373 - mmfewshot - INFO - Iter [44150/100000]\tlr: 1.000e-04, eta: 4:41:26, time: 0.272, data_time: 0.013, memory: 4571, loss_rpn_cls: 0.0090, loss_rpn_bbox: 0.0047, loss_cls: 0.0445, acc: 99.6406, loss_bbox: 0.2577, loss: 0.3159\n",
      "2022-05-26 14:56:42,822 - mmfewshot - INFO - Iter [44200/100000]\tlr: 1.000e-04, eta: 4:41:09, time: 0.269, data_time: 0.013, memory: 4571, loss_rpn_cls: 0.0128, loss_rpn_bbox: 0.0072, loss_cls: 0.0380, acc: 99.6406, loss_bbox: 0.2704, loss: 0.3285\n",
      "2022-05-26 14:56:56,303 - mmfewshot - INFO - Iter [44250/100000]\tlr: 1.000e-04, eta: 4:40:52, time: 0.270, data_time: 0.012, memory: 4571, loss_rpn_cls: 0.0182, loss_rpn_bbox: 0.0088, loss_cls: 0.0399, acc: 99.6172, loss_bbox: 0.2570, loss: 0.3239\n",
      "2022-05-26 14:57:09,756 - mmfewshot - INFO - Iter [44300/100000]\tlr: 1.000e-04, eta: 4:40:35, time: 0.269, data_time: 0.012, memory: 4571, loss_rpn_cls: 0.0122, loss_rpn_bbox: 0.0059, loss_cls: 0.0529, acc: 99.4609, loss_bbox: 0.2763, loss: 0.3473\n",
      "2022-05-26 14:57:23,245 - mmfewshot - INFO - Iter [44350/100000]\tlr: 1.000e-04, eta: 4:40:18, time: 0.270, data_time: 0.013, memory: 4571, loss_rpn_cls: 0.0108, loss_rpn_bbox: 0.0046, loss_cls: 0.0342, acc: 99.6641, loss_bbox: 0.2690, loss: 0.3186\n",
      "2022-05-26 14:57:36,794 - mmfewshot - INFO - Iter [44400/100000]\tlr: 1.000e-04, eta: 4:40:01, time: 0.271, data_time: 0.013, memory: 4571, loss_rpn_cls: 0.0121, loss_rpn_bbox: 0.0057, loss_cls: 0.0439, acc: 99.5703, loss_bbox: 0.2541, loss: 0.3158\n",
      "2022-05-26 14:57:50,211 - mmfewshot - INFO - Iter [44450/100000]\tlr: 1.000e-04, eta: 4:39:43, time: 0.268, data_time: 0.012, memory: 4571, loss_rpn_cls: 0.0074, loss_rpn_bbox: 0.0057, loss_cls: 0.0581, acc: 99.3516, loss_bbox: 0.2991, loss: 0.3703\n",
      "2022-05-26 14:58:03,578 - mmfewshot - INFO - Iter [44500/100000]\tlr: 1.000e-04, eta: 4:39:26, time: 0.268, data_time: 0.012, memory: 4571, loss_rpn_cls: 0.0130, loss_rpn_bbox: 0.0061, loss_cls: 0.0376, acc: 99.5859, loss_bbox: 0.2888, loss: 0.3456\n",
      "2022-05-26 14:58:17,001 - mmfewshot - INFO - Iter [44550/100000]\tlr: 1.000e-04, eta: 4:39:09, time: 0.268, data_time: 0.011, memory: 4571, loss_rpn_cls: 0.0167, loss_rpn_bbox: 0.0073, loss_cls: 0.0767, acc: 99.1797, loss_bbox: 0.2430, loss: 0.3437\n",
      "2022-05-26 14:58:30,373 - mmfewshot - INFO - Iter [44600/100000]\tlr: 1.000e-04, eta: 4:38:52, time: 0.267, data_time: 0.012, memory: 4571, loss_rpn_cls: 0.0198, loss_rpn_bbox: 0.0091, loss_cls: 0.0401, acc: 99.5703, loss_bbox: 0.2865, loss: 0.3556\n",
      "2022-05-26 14:58:43,809 - mmfewshot - INFO - Iter [44650/100000]\tlr: 1.000e-04, eta: 4:38:35, time: 0.269, data_time: 0.012, memory: 4571, loss_rpn_cls: 0.0125, loss_rpn_bbox: 0.0052, loss_cls: 0.0552, acc: 99.6094, loss_bbox: 0.2300, loss: 0.3030\n",
      "2022-05-26 14:58:57,315 - mmfewshot - INFO - Iter [44700/100000]\tlr: 1.000e-04, eta: 4:38:17, time: 0.270, data_time: 0.013, memory: 4571, loss_rpn_cls: 0.0106, loss_rpn_bbox: 0.0048, loss_cls: 0.0591, acc: 99.5000, loss_bbox: 0.2606, loss: 0.3351\n",
      "2022-05-26 14:59:10,682 - mmfewshot - INFO - Iter [44750/100000]\tlr: 1.000e-04, eta: 4:38:00, time: 0.267, data_time: 0.013, memory: 4571, loss_rpn_cls: 0.0100, loss_rpn_bbox: 0.0051, loss_cls: 0.0620, acc: 99.5234, loss_bbox: 0.2818, loss: 0.3590\n",
      "2022-05-26 14:59:24,029 - mmfewshot - INFO - Iter [44800/100000]\tlr: 1.000e-04, eta: 4:37:43, time: 0.267, data_time: 0.012, memory: 4571, loss_rpn_cls: 0.0147, loss_rpn_bbox: 0.0058, loss_cls: 0.0657, acc: 99.4609, loss_bbox: 0.2488, loss: 0.3351\n",
      "2022-05-26 14:59:37,400 - mmfewshot - INFO - Iter [44850/100000]\tlr: 1.000e-04, eta: 4:37:26, time: 0.268, data_time: 0.012, memory: 4571, loss_rpn_cls: 0.0122, loss_rpn_bbox: 0.0051, loss_cls: 0.0415, acc: 99.5781, loss_bbox: 0.3015, loss: 0.3604\n",
      "2022-05-26 14:59:50,880 - mmfewshot - INFO - Iter [44900/100000]\tlr: 1.000e-04, eta: 4:37:09, time: 0.270, data_time: 0.013, memory: 4571, loss_rpn_cls: 0.0117, loss_rpn_bbox: 0.0076, loss_cls: 0.0469, acc: 99.5000, loss_bbox: 0.2925, loss: 0.3588\n",
      "2022-05-26 15:00:04,377 - mmfewshot - INFO - Iter [44950/100000]\tlr: 1.000e-04, eta: 4:36:52, time: 0.270, data_time: 0.013, memory: 4571, loss_rpn_cls: 0.0135, loss_rpn_bbox: 0.0058, loss_cls: 0.0422, acc: 99.5547, loss_bbox: 0.2809, loss: 0.3424\n",
      "2022-05-26 15:00:17,906 - mmfewshot - INFO - Exp name: attention-rpn_r50_c4_tb-split2_1shot-fine-tuning-momentum-09.py\n",
      "2022-05-26 15:00:17,909 - mmfewshot - INFO - Iter [45000/100000]\tlr: 1.000e-04, eta: 4:36:35, time: 0.270, data_time: 0.013, memory: 4571, loss_rpn_cls: 0.0130, loss_rpn_bbox: 0.0072, loss_cls: 0.0670, acc: 99.5234, loss_bbox: 0.2437, loss: 0.3308\n",
      "2022-05-26 15:00:17,914 - mmdet - INFO - starting model initialization...\n"
     ]
    },
    {
     "name": "stdout",
     "output_type": "stream",
     "text": [
      "[>>>>>>>>>>>>>>>>>>>>>>>>>>>>>] 850/850, 74.8 task/s, elapsed: 11s, ETA:     0s"
     ]
    },
    {
     "name": "stderr",
     "output_type": "stream",
     "text": [
      "2022-05-26 15:00:29,352 - mmdet - INFO - model initialization done.\n"
     ]
    },
    {
     "name": "stdout",
     "output_type": "stream",
     "text": [
      "[>>>>>>>>>>>>>>>>>>>>>>>>>>>>>] 300/300, 12.8 task/s, elapsed: 23s, ETA:     0s\n",
      "---------------iou_thr: 0.5---------------\n"
     ]
    },
    {
     "name": "stderr",
     "output_type": "stream",
     "text": [
      "2022-05-26 15:00:53,127 - mmfewshot - INFO - \n",
      "+---------+-----+------+--------+-------+\n",
      "| class   | gts | dets | recall | ap    |\n",
      "+---------+-----+------+--------+-------+\n",
      "| fanta   | 291 | 2567 | 0.900  | 0.690 |\n",
      "| Mirinda | 111 | 904  | 0.757  | 0.540 |\n",
      "+---------+-----+------+--------+-------+\n",
      "| mAP     |     |      |        | 0.615 |\n",
      "+---------+-----+------+--------+-------+\n",
      "2022-05-26 15:00:53,130 - mmfewshot - INFO - BASE_CLASSES_SPLIT2 mAP: 0.6149908304214478\n",
      "2022-05-26 15:00:53,131 - mmfewshot - INFO - NOVEL_CLASSES_SPLIT2 mAP: nan\n",
      "2022-05-26 15:00:53,135 - mmfewshot - INFO - Exp name: attention-rpn_r50_c4_tb-split2_1shot-fine-tuning-momentum-09.py\n",
      "2022-05-26 15:00:53,136 - mmfewshot - INFO - Iter(val) [300]\tAP50: 0.6150, BASE_CLASSES_SPLIT2: AP50: 0.6150, NOVEL_CLASSES_SPLIT2: AP50: nan, mAP: 0.6150\n",
      "2022-05-26 15:01:06,532 - mmfewshot - INFO - Iter [45050/100000]\tlr: 1.000e-04, eta: 4:37:00, time: 0.973, data_time: 0.717, memory: 4571, loss_rpn_cls: 0.0137, loss_rpn_bbox: 0.0059, loss_cls: 0.0541, acc: 99.5781, loss_bbox: 0.2595, loss: 0.3333\n",
      "2022-05-26 15:01:20,026 - mmfewshot - INFO - Iter [45100/100000]\tlr: 1.000e-04, eta: 4:36:43, time: 0.270, data_time: 0.012, memory: 4571, loss_rpn_cls: 0.0140, loss_rpn_bbox: 0.0064, loss_cls: 0.0378, acc: 99.6719, loss_bbox: 0.3042, loss: 0.3624\n",
      "2022-05-26 15:01:33,458 - mmfewshot - INFO - Iter [45150/100000]\tlr: 1.000e-04, eta: 4:36:26, time: 0.269, data_time: 0.013, memory: 4571, loss_rpn_cls: 0.0156, loss_rpn_bbox: 0.0058, loss_cls: 0.0427, acc: 99.5391, loss_bbox: 0.2910, loss: 0.3550\n",
      "2022-05-26 15:01:46,928 - mmfewshot - INFO - Iter [45200/100000]\tlr: 1.000e-04, eta: 4:36:09, time: 0.269, data_time: 0.013, memory: 4571, loss_rpn_cls: 0.0118, loss_rpn_bbox: 0.0054, loss_cls: 0.0471, acc: 99.6250, loss_bbox: 0.2468, loss: 0.3111\n",
      "2022-05-26 15:02:00,352 - mmfewshot - INFO - Iter [45250/100000]\tlr: 1.000e-04, eta: 4:35:52, time: 0.268, data_time: 0.012, memory: 4571, loss_rpn_cls: 0.0101, loss_rpn_bbox: 0.0058, loss_cls: 0.0418, acc: 99.7031, loss_bbox: 0.2834, loss: 0.3411\n",
      "2022-05-26 15:02:13,833 - mmfewshot - INFO - Iter [45300/100000]\tlr: 1.000e-04, eta: 4:35:35, time: 0.270, data_time: 0.013, memory: 4571, loss_rpn_cls: 0.0138, loss_rpn_bbox: 0.0058, loss_cls: 0.0424, acc: 99.6172, loss_bbox: 0.3061, loss: 0.3681\n",
      "2022-05-26 15:02:27,261 - mmfewshot - INFO - Iter [45350/100000]\tlr: 1.000e-04, eta: 4:35:18, time: 0.269, data_time: 0.013, memory: 4571, loss_rpn_cls: 0.0123, loss_rpn_bbox: 0.0049, loss_cls: 0.0347, acc: 99.6484, loss_bbox: 0.2493, loss: 0.3012\n",
      "2022-05-26 15:02:40,776 - mmfewshot - INFO - Iter [45400/100000]\tlr: 1.000e-04, eta: 4:35:01, time: 0.270, data_time: 0.012, memory: 4571, loss_rpn_cls: 0.0106, loss_rpn_bbox: 0.0042, loss_cls: 0.0428, acc: 99.6250, loss_bbox: 0.2882, loss: 0.3458\n",
      "2022-05-26 15:02:54,290 - mmfewshot - INFO - Iter [45450/100000]\tlr: 1.000e-04, eta: 4:34:44, time: 0.270, data_time: 0.013, memory: 4571, loss_rpn_cls: 0.0108, loss_rpn_bbox: 0.0044, loss_cls: 0.1304, acc: 99.4531, loss_bbox: 0.2564, loss: 0.4019\n",
      "2022-05-26 15:03:07,714 - mmfewshot - INFO - Iter [45500/100000]\tlr: 1.000e-04, eta: 4:34:26, time: 0.268, data_time: 0.012, memory: 4571, loss_rpn_cls: 0.0111, loss_rpn_bbox: 0.0068, loss_cls: 0.0575, acc: 99.4297, loss_bbox: 0.3134, loss: 0.3887\n",
      "2022-05-26 15:03:21,069 - mmfewshot - INFO - Iter [45550/100000]\tlr: 1.000e-04, eta: 4:34:09, time: 0.267, data_time: 0.012, memory: 4571, loss_rpn_cls: 0.0211, loss_rpn_bbox: 0.0094, loss_cls: 0.0489, acc: 99.6016, loss_bbox: 0.2825, loss: 0.3619\n",
      "2022-05-26 15:03:34,528 - mmfewshot - INFO - Iter [45600/100000]\tlr: 1.000e-04, eta: 4:33:52, time: 0.269, data_time: 0.012, memory: 4571, loss_rpn_cls: 0.0104, loss_rpn_bbox: 0.0055, loss_cls: 0.0527, acc: 99.5859, loss_bbox: 0.2445, loss: 0.3131\n",
      "2022-05-26 15:03:47,896 - mmfewshot - INFO - Iter [45650/100000]\tlr: 1.000e-04, eta: 4:33:35, time: 0.267, data_time: 0.012, memory: 4571, loss_rpn_cls: 0.0152, loss_rpn_bbox: 0.0078, loss_cls: 0.0583, acc: 99.5859, loss_bbox: 0.2690, loss: 0.3504\n",
      "2022-05-26 15:04:01,238 - mmfewshot - INFO - Iter [45700/100000]\tlr: 1.000e-04, eta: 4:33:18, time: 0.267, data_time: 0.012, memory: 4571, loss_rpn_cls: 0.0118, loss_rpn_bbox: 0.0061, loss_cls: 0.0409, acc: 99.5938, loss_bbox: 0.2967, loss: 0.3555\n",
      "2022-05-26 15:04:14,566 - mmfewshot - INFO - Iter [45750/100000]\tlr: 1.000e-04, eta: 4:33:01, time: 0.266, data_time: 0.011, memory: 4571, loss_rpn_cls: 0.0113, loss_rpn_bbox: 0.0057, loss_cls: 0.0583, acc: 99.6484, loss_bbox: 0.2303, loss: 0.3056\n",
      "2022-05-26 15:04:27,932 - mmfewshot - INFO - Iter [45800/100000]\tlr: 1.000e-04, eta: 4:32:43, time: 0.267, data_time: 0.012, memory: 4571, loss_rpn_cls: 0.0160, loss_rpn_bbox: 0.0052, loss_cls: 0.0395, acc: 99.6484, loss_bbox: 0.2820, loss: 0.3427\n",
      "2022-05-26 15:04:41,482 - mmfewshot - INFO - Iter [45850/100000]\tlr: 1.000e-04, eta: 4:32:27, time: 0.271, data_time: 0.013, memory: 4571, loss_rpn_cls: 0.0077, loss_rpn_bbox: 0.0043, loss_cls: 0.0381, acc: 99.6172, loss_bbox: 0.2425, loss: 0.2926\n",
      "2022-05-26 15:04:54,881 - mmfewshot - INFO - Iter [45900/100000]\tlr: 1.000e-04, eta: 4:32:09, time: 0.268, data_time: 0.012, memory: 4571, loss_rpn_cls: 0.0132, loss_rpn_bbox: 0.0069, loss_cls: 0.0439, acc: 99.6406, loss_bbox: 0.2773, loss: 0.3413\n",
      "2022-05-26 15:05:08,428 - mmfewshot - INFO - Iter [45950/100000]\tlr: 1.000e-04, eta: 4:31:53, time: 0.271, data_time: 0.013, memory: 4571, loss_rpn_cls: 0.0148, loss_rpn_bbox: 0.0071, loss_cls: 0.0649, acc: 99.3672, loss_bbox: 0.2411, loss: 0.3279\n",
      "2022-05-26 15:05:21,891 - mmfewshot - INFO - Exp name: attention-rpn_r50_c4_tb-split2_1shot-fine-tuning-momentum-09.py\n",
      "2022-05-26 15:05:21,892 - mmfewshot - INFO - Iter [46000/100000]\tlr: 1.000e-04, eta: 4:31:36, time: 0.269, data_time: 0.012, memory: 4571, loss_rpn_cls: 0.0131, loss_rpn_bbox: 0.0060, loss_cls: 0.0485, acc: 99.4531, loss_bbox: 0.2835, loss: 0.3510\n",
      "2022-05-26 15:05:21,897 - mmdet - INFO - starting model initialization...\n"
     ]
    },
    {
     "name": "stdout",
     "output_type": "stream",
     "text": [
      "[>>>>>>>>>>>>>>>>>>>>>>>>>>>>>] 850/850, 75.4 task/s, elapsed: 11s, ETA:     0s"
     ]
    },
    {
     "name": "stderr",
     "output_type": "stream",
     "text": [
      "2022-05-26 15:05:33,255 - mmdet - INFO - model initialization done.\n"
     ]
    },
    {
     "name": "stdout",
     "output_type": "stream",
     "text": [
      "[>>>>>>>>>>>>>>>>>>>>>>>>>>>>>] 300/300, 12.7 task/s, elapsed: 24s, ETA:     0s\n",
      "---------------iou_thr: 0.5---------------\n"
     ]
    },
    {
     "name": "stderr",
     "output_type": "stream",
     "text": [
      "2022-05-26 15:05:57,274 - mmfewshot - INFO - \n",
      "+---------+-----+------+--------+-------+\n",
      "| class   | gts | dets | recall | ap    |\n",
      "+---------+-----+------+--------+-------+\n",
      "| fanta   | 291 | 1760 | 0.900  | 0.696 |\n",
      "| Mirinda | 111 | 771  | 0.739  | 0.570 |\n",
      "+---------+-----+------+--------+-------+\n",
      "| mAP     |     |      |        | 0.633 |\n",
      "+---------+-----+------+--------+-------+\n",
      "2022-05-26 15:05:57,277 - mmfewshot - INFO - BASE_CLASSES_SPLIT2 mAP: 0.6332006454467773\n",
      "2022-05-26 15:05:57,277 - mmfewshot - INFO - NOVEL_CLASSES_SPLIT2 mAP: nan\n",
      "2022-05-26 15:05:57,280 - mmfewshot - INFO - Exp name: attention-rpn_r50_c4_tb-split2_1shot-fine-tuning-momentum-09.py\n",
      "2022-05-26 15:05:57,281 - mmfewshot - INFO - Iter(val) [300]\tAP50: 0.6330, BASE_CLASSES_SPLIT2: AP50: 0.6330, NOVEL_CLASSES_SPLIT2: AP50: nan, mAP: 0.6332\n",
      "2022-05-26 15:06:10,713 - mmfewshot - INFO - Iter [46050/100000]\tlr: 1.000e-04, eta: 4:32:00, time: 0.976, data_time: 0.720, memory: 4571, loss_rpn_cls: 0.0114, loss_rpn_bbox: 0.0072, loss_cls: 0.0578, acc: 99.4766, loss_bbox: 0.2854, loss: 0.3617\n",
      "2022-05-26 15:06:24,277 - mmfewshot - INFO - Iter [46100/100000]\tlr: 1.000e-04, eta: 4:31:43, time: 0.271, data_time: 0.013, memory: 4571, loss_rpn_cls: 0.0157, loss_rpn_bbox: 0.0096, loss_cls: 0.0559, acc: 99.5156, loss_bbox: 0.2449, loss: 0.3261\n",
      "2022-05-26 15:06:37,626 - mmfewshot - INFO - Iter [46150/100000]\tlr: 1.000e-04, eta: 4:31:26, time: 0.267, data_time: 0.012, memory: 4571, loss_rpn_cls: 0.0091, loss_rpn_bbox: 0.0043, loss_cls: 0.0553, acc: 99.5469, loss_bbox: 0.2412, loss: 0.3100\n",
      "2022-05-26 15:06:51,017 - mmfewshot - INFO - Iter [46200/100000]\tlr: 1.000e-04, eta: 4:31:09, time: 0.268, data_time: 0.012, memory: 4571, loss_rpn_cls: 0.0072, loss_rpn_bbox: 0.0027, loss_cls: 0.0584, acc: 99.4219, loss_bbox: 0.2746, loss: 0.3429\n",
      "2022-05-26 15:07:04,540 - mmfewshot - INFO - Iter [46250/100000]\tlr: 1.000e-04, eta: 4:30:52, time: 0.270, data_time: 0.012, memory: 4571, loss_rpn_cls: 0.0168, loss_rpn_bbox: 0.0063, loss_cls: 0.0685, acc: 99.5156, loss_bbox: 0.2279, loss: 0.3195\n",
      "2022-05-26 15:07:17,922 - mmfewshot - INFO - Iter [46300/100000]\tlr: 1.000e-04, eta: 4:30:35, time: 0.268, data_time: 0.011, memory: 4571, loss_rpn_cls: 0.0123, loss_rpn_bbox: 0.0051, loss_cls: 0.0497, acc: 99.5312, loss_bbox: 0.3032, loss: 0.3704\n",
      "2022-05-26 15:07:31,333 - mmfewshot - INFO - Iter [46350/100000]\tlr: 1.000e-04, eta: 4:30:17, time: 0.268, data_time: 0.012, memory: 4571, loss_rpn_cls: 0.0088, loss_rpn_bbox: 0.0036, loss_cls: 0.0523, acc: 99.6641, loss_bbox: 0.2245, loss: 0.2891\n",
      "2022-05-26 15:07:44,840 - mmfewshot - INFO - Iter [46400/100000]\tlr: 1.000e-04, eta: 4:30:01, time: 0.270, data_time: 0.013, memory: 4571, loss_rpn_cls: 0.0199, loss_rpn_bbox: 0.0074, loss_cls: 0.0629, acc: 99.3516, loss_bbox: 0.2743, loss: 0.3645\n",
      "2022-05-26 15:07:58,196 - mmfewshot - INFO - Iter [46450/100000]\tlr: 1.000e-04, eta: 4:29:43, time: 0.267, data_time: 0.012, memory: 4571, loss_rpn_cls: 0.0114, loss_rpn_bbox: 0.0044, loss_cls: 0.0431, acc: 99.5547, loss_bbox: 0.2582, loss: 0.3170\n",
      "2022-05-26 15:08:11,541 - mmfewshot - INFO - Iter [46500/100000]\tlr: 1.000e-04, eta: 4:29:26, time: 0.267, data_time: 0.011, memory: 4571, loss_rpn_cls: 0.0089, loss_rpn_bbox: 0.0039, loss_cls: 0.0420, acc: 99.5391, loss_bbox: 0.2690, loss: 0.3237\n",
      "2022-05-26 15:08:25,002 - mmfewshot - INFO - Iter [46550/100000]\tlr: 1.000e-04, eta: 4:29:09, time: 0.269, data_time: 0.013, memory: 4571, loss_rpn_cls: 0.0150, loss_rpn_bbox: 0.0083, loss_cls: 0.0472, acc: 99.5703, loss_bbox: 0.2783, loss: 0.3488\n",
      "2022-05-26 15:08:38,511 - mmfewshot - INFO - Iter [46600/100000]\tlr: 1.000e-04, eta: 4:28:52, time: 0.270, data_time: 0.013, memory: 4571, loss_rpn_cls: 0.0128, loss_rpn_bbox: 0.0063, loss_cls: 0.0531, acc: 99.6250, loss_bbox: 0.2259, loss: 0.2979\n",
      "2022-05-26 15:08:52,136 - mmfewshot - INFO - Iter [46650/100000]\tlr: 1.000e-04, eta: 4:28:35, time: 0.272, data_time: 0.012, memory: 4571, loss_rpn_cls: 0.0249, loss_rpn_bbox: 0.0086, loss_cls: 0.0495, acc: 99.5000, loss_bbox: 0.2854, loss: 0.3684\n",
      "2022-05-26 15:09:05,418 - mmfewshot - INFO - Iter [46700/100000]\tlr: 1.000e-04, eta: 4:28:18, time: 0.266, data_time: 0.012, memory: 4571, loss_rpn_cls: 0.0145, loss_rpn_bbox: 0.0063, loss_cls: 0.0440, acc: 99.4766, loss_bbox: 0.2907, loss: 0.3556\n",
      "2022-05-26 15:09:18,905 - mmfewshot - INFO - Iter [46750/100000]\tlr: 1.000e-04, eta: 4:28:01, time: 0.270, data_time: 0.013, memory: 4571, loss_rpn_cls: 0.0126, loss_rpn_bbox: 0.0058, loss_cls: 0.0474, acc: 99.5391, loss_bbox: 0.2714, loss: 0.3372\n",
      "2022-05-26 15:09:32,326 - mmfewshot - INFO - Iter [46800/100000]\tlr: 1.000e-04, eta: 4:27:44, time: 0.268, data_time: 0.012, memory: 4571, loss_rpn_cls: 0.0145, loss_rpn_bbox: 0.0056, loss_cls: 0.0519, acc: 99.5547, loss_bbox: 0.2581, loss: 0.3301\n",
      "2022-05-26 15:09:45,677 - mmfewshot - INFO - Iter [46850/100000]\tlr: 1.000e-04, eta: 4:27:27, time: 0.267, data_time: 0.012, memory: 4571, loss_rpn_cls: 0.0104, loss_rpn_bbox: 0.0055, loss_cls: 0.0391, acc: 99.6797, loss_bbox: 0.2571, loss: 0.3122\n",
      "2022-05-26 15:09:59,109 - mmfewshot - INFO - Iter [46900/100000]\tlr: 1.000e-04, eta: 4:27:10, time: 0.269, data_time: 0.013, memory: 4571, loss_rpn_cls: 0.0088, loss_rpn_bbox: 0.0037, loss_cls: 0.0587, acc: 99.4844, loss_bbox: 0.2783, loss: 0.3495\n",
      "2022-05-26 15:10:12,691 - mmfewshot - INFO - Iter [46950/100000]\tlr: 1.000e-04, eta: 4:26:53, time: 0.272, data_time: 0.013, memory: 4571, loss_rpn_cls: 0.0135, loss_rpn_bbox: 0.0073, loss_cls: 0.0513, acc: 99.5078, loss_bbox: 0.2901, loss: 0.3622\n",
      "2022-05-26 15:10:26,240 - mmfewshot - INFO - Exp name: attention-rpn_r50_c4_tb-split2_1shot-fine-tuning-momentum-09.py\n",
      "2022-05-26 15:10:26,241 - mmfewshot - INFO - Iter [47000/100000]\tlr: 1.000e-04, eta: 4:26:37, time: 0.271, data_time: 0.013, memory: 4571, loss_rpn_cls: 0.0103, loss_rpn_bbox: 0.0041, loss_cls: 0.0460, acc: 99.6562, loss_bbox: 0.2608, loss: 0.3213\n",
      "2022-05-26 15:10:26,246 - mmdet - INFO - starting model initialization...\n"
     ]
    },
    {
     "name": "stdout",
     "output_type": "stream",
     "text": [
      "[>>>>>>>>>>>>>>>>>>>>>>>>>>>>>] 850/850, 76.3 task/s, elapsed: 11s, ETA:     0s"
     ]
    },
    {
     "name": "stderr",
     "output_type": "stream",
     "text": [
      "2022-05-26 15:10:37,469 - mmdet - INFO - model initialization done.\n"
     ]
    },
    {
     "name": "stdout",
     "output_type": "stream",
     "text": [
      "[>>>>>>>>>>>>>>>>>>>>>>>>>>>>>] 300/300, 12.7 task/s, elapsed: 24s, ETA:     0s\n",
      "---------------iou_thr: 0.5---------------\n"
     ]
    },
    {
     "name": "stderr",
     "output_type": "stream",
     "text": [
      "2022-05-26 15:11:01,399 - mmfewshot - INFO - \n",
      "+---------+-----+------+--------+-------+\n",
      "| class   | gts | dets | recall | ap    |\n",
      "+---------+-----+------+--------+-------+\n",
      "| fanta   | 291 | 1749 | 0.887  | 0.689 |\n",
      "| Mirinda | 111 | 559  | 0.748  | 0.558 |\n",
      "+---------+-----+------+--------+-------+\n",
      "| mAP     |     |      |        | 0.623 |\n",
      "+---------+-----+------+--------+-------+\n",
      "2022-05-26 15:11:01,402 - mmfewshot - INFO - BASE_CLASSES_SPLIT2 mAP: 0.6232548952102661\n",
      "2022-05-26 15:11:01,403 - mmfewshot - INFO - NOVEL_CLASSES_SPLIT2 mAP: nan\n",
      "2022-05-26 15:11:01,406 - mmfewshot - INFO - Exp name: attention-rpn_r50_c4_tb-split2_1shot-fine-tuning-momentum-09.py\n",
      "2022-05-26 15:11:01,407 - mmfewshot - INFO - Iter(val) [300]\tAP50: 0.6230, BASE_CLASSES_SPLIT2: AP50: 0.6230, NOVEL_CLASSES_SPLIT2: AP50: nan, mAP: 0.6233\n",
      "2022-05-26 15:11:14,728 - mmfewshot - INFO - Iter [47050/100000]\tlr: 1.000e-04, eta: 4:26:59, time: 0.970, data_time: 0.714, memory: 4571, loss_rpn_cls: 0.0099, loss_rpn_bbox: 0.0059, loss_cls: 0.0442, acc: 99.5391, loss_bbox: 0.2713, loss: 0.3314\n",
      "2022-05-26 15:11:28,101 - mmfewshot - INFO - Iter [47100/100000]\tlr: 1.000e-04, eta: 4:26:42, time: 0.267, data_time: 0.012, memory: 4571, loss_rpn_cls: 0.0119, loss_rpn_bbox: 0.0072, loss_cls: 0.0423, acc: 99.6328, loss_bbox: 0.2994, loss: 0.3608\n",
      "2022-05-26 15:11:41,517 - mmfewshot - INFO - Iter [47150/100000]\tlr: 1.000e-04, eta: 4:26:25, time: 0.268, data_time: 0.012, memory: 4571, loss_rpn_cls: 0.0103, loss_rpn_bbox: 0.0057, loss_cls: 0.0492, acc: 99.6172, loss_bbox: 0.2783, loss: 0.3435\n",
      "2022-05-26 15:11:54,913 - mmfewshot - INFO - Iter [47200/100000]\tlr: 1.000e-04, eta: 4:26:08, time: 0.268, data_time: 0.011, memory: 4571, loss_rpn_cls: 0.0168, loss_rpn_bbox: 0.0071, loss_cls: 0.0368, acc: 99.5859, loss_bbox: 0.2657, loss: 0.3263\n",
      "2022-05-26 15:12:08,351 - mmfewshot - INFO - Iter [47250/100000]\tlr: 1.000e-04, eta: 4:25:51, time: 0.269, data_time: 0.012, memory: 4571, loss_rpn_cls: 0.0120, loss_rpn_bbox: 0.0051, loss_cls: 0.0408, acc: 99.5625, loss_bbox: 0.2917, loss: 0.3496\n",
      "2022-05-26 15:12:21,771 - mmfewshot - INFO - Iter [47300/100000]\tlr: 1.000e-04, eta: 4:25:34, time: 0.268, data_time: 0.012, memory: 4571, loss_rpn_cls: 0.0101, loss_rpn_bbox: 0.0038, loss_cls: 0.0814, acc: 99.3438, loss_bbox: 0.2730, loss: 0.3682\n",
      "2022-05-26 15:12:35,284 - mmfewshot - INFO - Iter [47350/100000]\tlr: 1.000e-04, eta: 4:25:17, time: 0.270, data_time: 0.012, memory: 4571, loss_rpn_cls: 0.0104, loss_rpn_bbox: 0.0049, loss_cls: 0.0494, acc: 99.4297, loss_bbox: 0.3212, loss: 0.3860\n",
      "2022-05-26 15:12:48,700 - mmfewshot - INFO - Iter [47400/100000]\tlr: 1.000e-04, eta: 4:25:00, time: 0.269, data_time: 0.012, memory: 4571, loss_rpn_cls: 0.0126, loss_rpn_bbox: 0.0056, loss_cls: 0.0504, acc: 99.5312, loss_bbox: 0.2950, loss: 0.3636\n",
      "2022-05-26 15:13:02,205 - mmfewshot - INFO - Iter [47450/100000]\tlr: 1.000e-04, eta: 4:24:43, time: 0.270, data_time: 0.013, memory: 4571, loss_rpn_cls: 0.0081, loss_rpn_bbox: 0.0056, loss_cls: 0.0527, acc: 99.5859, loss_bbox: 0.2454, loss: 0.3119\n",
      "2022-05-26 15:13:15,653 - mmfewshot - INFO - Iter [47500/100000]\tlr: 1.000e-04, eta: 4:24:26, time: 0.269, data_time: 0.011, memory: 4571, loss_rpn_cls: 0.0087, loss_rpn_bbox: 0.0034, loss_cls: 0.0436, acc: 99.5859, loss_bbox: 0.2563, loss: 0.3119\n",
      "2022-05-26 15:13:29,029 - mmfewshot - INFO - Iter [47550/100000]\tlr: 1.000e-04, eta: 4:24:09, time: 0.267, data_time: 0.012, memory: 4571, loss_rpn_cls: 0.0104, loss_rpn_bbox: 0.0055, loss_cls: 0.0778, acc: 99.3750, loss_bbox: 0.2874, loss: 0.3812\n",
      "2022-05-26 15:13:42,475 - mmfewshot - INFO - Iter [47600/100000]\tlr: 1.000e-04, eta: 4:23:52, time: 0.269, data_time: 0.012, memory: 4571, loss_rpn_cls: 0.0113, loss_rpn_bbox: 0.0040, loss_cls: 0.0691, acc: 99.4609, loss_bbox: 0.2493, loss: 0.3337\n",
      "2022-05-26 15:13:55,985 - mmfewshot - INFO - Iter [47650/100000]\tlr: 1.000e-04, eta: 4:23:35, time: 0.270, data_time: 0.012, memory: 4571, loss_rpn_cls: 0.0086, loss_rpn_bbox: 0.0039, loss_cls: 0.0811, acc: 99.4375, loss_bbox: 0.2862, loss: 0.3798\n",
      "2022-05-26 15:14:09,350 - mmfewshot - INFO - Iter [47700/100000]\tlr: 1.000e-04, eta: 4:23:18, time: 0.268, data_time: 0.012, memory: 4571, loss_rpn_cls: 0.0127, loss_rpn_bbox: 0.0061, loss_cls: 0.0551, acc: 99.5078, loss_bbox: 0.2627, loss: 0.3365\n",
      "2022-05-26 15:14:22,801 - mmfewshot - INFO - Iter [47750/100000]\tlr: 1.000e-04, eta: 4:23:01, time: 0.269, data_time: 0.012, memory: 4571, loss_rpn_cls: 0.0104, loss_rpn_bbox: 0.0057, loss_cls: 0.0480, acc: 99.6406, loss_bbox: 0.2896, loss: 0.3537\n",
      "2022-05-26 15:14:36,163 - mmfewshot - INFO - Iter [47800/100000]\tlr: 1.000e-04, eta: 4:22:44, time: 0.267, data_time: 0.012, memory: 4571, loss_rpn_cls: 0.0146, loss_rpn_bbox: 0.0071, loss_cls: 0.0533, acc: 99.5312, loss_bbox: 0.2579, loss: 0.3329\n",
      "2022-05-26 15:14:49,558 - mmfewshot - INFO - Iter [47850/100000]\tlr: 1.000e-04, eta: 4:22:27, time: 0.268, data_time: 0.013, memory: 4571, loss_rpn_cls: 0.0085, loss_rpn_bbox: 0.0041, loss_cls: 0.0510, acc: 99.6094, loss_bbox: 0.2609, loss: 0.3244\n",
      "2022-05-26 15:15:03,054 - mmfewshot - INFO - Iter [47900/100000]\tlr: 1.000e-04, eta: 4:22:11, time: 0.270, data_time: 0.013, memory: 4571, loss_rpn_cls: 0.0096, loss_rpn_bbox: 0.0047, loss_cls: 0.0416, acc: 99.6484, loss_bbox: 0.2791, loss: 0.3350\n",
      "2022-05-26 15:15:16,585 - mmfewshot - INFO - Iter [47950/100000]\tlr: 1.000e-04, eta: 4:21:54, time: 0.271, data_time: 0.013, memory: 4571, loss_rpn_cls: 0.0090, loss_rpn_bbox: 0.0047, loss_cls: 0.0488, acc: 99.6641, loss_bbox: 0.2537, loss: 0.3162\n",
      "2022-05-26 15:15:30,149 - mmfewshot - INFO - Exp name: attention-rpn_r50_c4_tb-split2_1shot-fine-tuning-momentum-09.py\n",
      "2022-05-26 15:15:30,150 - mmfewshot - INFO - Iter [48000/100000]\tlr: 1.000e-04, eta: 4:21:37, time: 0.271, data_time: 0.013, memory: 4571, loss_rpn_cls: 0.0145, loss_rpn_bbox: 0.0055, loss_cls: 0.0672, acc: 99.6016, loss_bbox: 0.2880, loss: 0.3752\n",
      "2022-05-26 15:15:30,155 - mmdet - INFO - starting model initialization...\n"
     ]
    },
    {
     "name": "stdout",
     "output_type": "stream",
     "text": [
      "[>>>>>>>>>>>>>>>>>>>>>>>>>>>>>] 850/850, 75.9 task/s, elapsed: 11s, ETA:     0s"
     ]
    },
    {
     "name": "stderr",
     "output_type": "stream",
     "text": [
      "2022-05-26 15:15:41,436 - mmdet - INFO - model initialization done.\n"
     ]
    },
    {
     "name": "stdout",
     "output_type": "stream",
     "text": [
      "[>>>>>>>>>>>>>>>>>>>>>>>>>>>>>] 300/300, 12.7 task/s, elapsed: 24s, ETA:     0s\n",
      "---------------iou_thr: 0.5---------------\n"
     ]
    },
    {
     "name": "stderr",
     "output_type": "stream",
     "text": [
      "2022-05-26 15:16:05,507 - mmfewshot - INFO - \n",
      "+---------+-----+------+--------+-------+\n",
      "| class   | gts | dets | recall | ap    |\n",
      "+---------+-----+------+--------+-------+\n",
      "| fanta   | 291 | 1858 | 0.883  | 0.676 |\n",
      "| Mirinda | 111 | 687  | 0.721  | 0.540 |\n",
      "+---------+-----+------+--------+-------+\n",
      "| mAP     |     |      |        | 0.608 |\n",
      "+---------+-----+------+--------+-------+\n",
      "2022-05-26 15:16:05,509 - mmfewshot - INFO - BASE_CLASSES_SPLIT2 mAP: 0.6082785129547119\n",
      "2022-05-26 15:16:05,510 - mmfewshot - INFO - NOVEL_CLASSES_SPLIT2 mAP: nan\n",
      "2022-05-26 15:16:05,514 - mmfewshot - INFO - Exp name: attention-rpn_r50_c4_tb-split2_1shot-fine-tuning-momentum-09.py\n",
      "2022-05-26 15:16:05,515 - mmfewshot - INFO - Iter(val) [300]\tAP50: 0.6080, BASE_CLASSES_SPLIT2: AP50: 0.6080, NOVEL_CLASSES_SPLIT2: AP50: nan, mAP: 0.6083\n",
      "2022-05-26 15:16:18,863 - mmfewshot - INFO - Iter [48050/100000]\tlr: 1.000e-04, eta: 4:21:58, time: 0.974, data_time: 0.720, memory: 4571, loss_rpn_cls: 0.0136, loss_rpn_bbox: 0.0046, loss_cls: 0.0625, acc: 99.5938, loss_bbox: 0.2295, loss: 0.3102\n",
      "2022-05-26 15:16:32,269 - mmfewshot - INFO - Iter [48100/100000]\tlr: 1.000e-04, eta: 4:21:41, time: 0.268, data_time: 0.012, memory: 4571, loss_rpn_cls: 0.0146, loss_rpn_bbox: 0.0054, loss_cls: 0.0419, acc: 99.5391, loss_bbox: 0.3015, loss: 0.3634\n",
      "2022-05-26 15:16:45,680 - mmfewshot - INFO - Iter [48150/100000]\tlr: 1.000e-04, eta: 4:21:24, time: 0.268, data_time: 0.012, memory: 4571, loss_rpn_cls: 0.0163, loss_rpn_bbox: 0.0081, loss_cls: 0.0415, acc: 99.5391, loss_bbox: 0.3189, loss: 0.3848\n",
      "2022-05-26 15:16:59,168 - mmfewshot - INFO - Iter [48200/100000]\tlr: 1.000e-04, eta: 4:21:07, time: 0.270, data_time: 0.012, memory: 4571, loss_rpn_cls: 0.0161, loss_rpn_bbox: 0.0090, loss_cls: 0.0465, acc: 99.5391, loss_bbox: 0.3142, loss: 0.3858\n",
      "2022-05-26 15:17:12,605 - mmfewshot - INFO - Iter [48250/100000]\tlr: 1.000e-04, eta: 4:20:51, time: 0.269, data_time: 0.012, memory: 4571, loss_rpn_cls: 0.0120, loss_rpn_bbox: 0.0058, loss_cls: 0.0518, acc: 99.5703, loss_bbox: 0.2676, loss: 0.3372\n",
      "2022-05-26 15:17:26,082 - mmfewshot - INFO - Iter [48300/100000]\tlr: 1.000e-04, eta: 4:20:34, time: 0.270, data_time: 0.013, memory: 4571, loss_rpn_cls: 0.0129, loss_rpn_bbox: 0.0068, loss_cls: 0.0468, acc: 99.5547, loss_bbox: 0.2987, loss: 0.3651\n",
      "2022-05-26 15:17:39,552 - mmfewshot - INFO - Iter [48350/100000]\tlr: 1.000e-04, eta: 4:20:17, time: 0.270, data_time: 0.013, memory: 4571, loss_rpn_cls: 0.0110, loss_rpn_bbox: 0.0050, loss_cls: 0.0459, acc: 99.5312, loss_bbox: 0.2351, loss: 0.2970\n",
      "2022-05-26 15:17:52,934 - mmfewshot - INFO - Iter [48400/100000]\tlr: 1.000e-04, eta: 4:20:00, time: 0.267, data_time: 0.011, memory: 4571, loss_rpn_cls: 0.0130, loss_rpn_bbox: 0.0061, loss_cls: 0.0390, acc: 99.5859, loss_bbox: 0.2811, loss: 0.3392\n",
      "2022-05-26 15:18:06,433 - mmfewshot - INFO - Iter [48450/100000]\tlr: 1.000e-04, eta: 4:19:43, time: 0.270, data_time: 0.013, memory: 4571, loss_rpn_cls: 0.0259, loss_rpn_bbox: 0.0098, loss_cls: 0.0695, acc: 99.5234, loss_bbox: 0.2476, loss: 0.3528\n",
      "2022-05-26 15:18:19,841 - mmfewshot - INFO - Iter [48500/100000]\tlr: 1.000e-04, eta: 4:19:26, time: 0.268, data_time: 0.013, memory: 4571, loss_rpn_cls: 0.0124, loss_rpn_bbox: 0.0051, loss_cls: 0.0393, acc: 99.6250, loss_bbox: 0.2779, loss: 0.3347\n",
      "2022-05-26 15:18:33,297 - mmfewshot - INFO - Iter [48550/100000]\tlr: 1.000e-04, eta: 4:19:09, time: 0.269, data_time: 0.012, memory: 4571, loss_rpn_cls: 0.0103, loss_rpn_bbox: 0.0049, loss_cls: 0.0429, acc: 99.6953, loss_bbox: 0.2620, loss: 0.3202\n",
      "2022-05-26 15:18:46,842 - mmfewshot - INFO - Iter [48600/100000]\tlr: 1.000e-04, eta: 4:18:52, time: 0.271, data_time: 0.013, memory: 4571, loss_rpn_cls: 0.0094, loss_rpn_bbox: 0.0051, loss_cls: 0.0442, acc: 99.5391, loss_bbox: 0.2919, loss: 0.3507\n",
      "2022-05-26 15:19:00,185 - mmfewshot - INFO - Iter [48650/100000]\tlr: 1.000e-04, eta: 4:18:35, time: 0.267, data_time: 0.012, memory: 4571, loss_rpn_cls: 0.0120, loss_rpn_bbox: 0.0053, loss_cls: 0.0463, acc: 99.6016, loss_bbox: 0.2632, loss: 0.3268\n",
      "2022-05-26 15:19:13,664 - mmfewshot - INFO - Iter [48700/100000]\tlr: 1.000e-04, eta: 4:18:19, time: 0.270, data_time: 0.013, memory: 4571, loss_rpn_cls: 0.0092, loss_rpn_bbox: 0.0046, loss_cls: 0.0461, acc: 99.5391, loss_bbox: 0.2711, loss: 0.3310\n",
      "2022-05-26 15:19:27,013 - mmfewshot - INFO - Iter [48750/100000]\tlr: 1.000e-04, eta: 4:18:02, time: 0.267, data_time: 0.012, memory: 4571, loss_rpn_cls: 0.0127, loss_rpn_bbox: 0.0066, loss_cls: 0.0601, acc: 99.3750, loss_bbox: 0.2829, loss: 0.3623\n",
      "2022-05-26 15:19:40,476 - mmfewshot - INFO - Iter [48800/100000]\tlr: 1.000e-04, eta: 4:17:45, time: 0.269, data_time: 0.013, memory: 4571, loss_rpn_cls: 0.0107, loss_rpn_bbox: 0.0086, loss_cls: 0.0472, acc: 99.7188, loss_bbox: 0.2502, loss: 0.3166\n",
      "2022-05-26 15:19:53,841 - mmfewshot - INFO - Iter [48850/100000]\tlr: 1.000e-04, eta: 4:17:28, time: 0.267, data_time: 0.012, memory: 4571, loss_rpn_cls: 0.0088, loss_rpn_bbox: 0.0037, loss_cls: 0.0459, acc: 99.5234, loss_bbox: 0.2854, loss: 0.3439\n",
      "2022-05-26 15:20:07,277 - mmfewshot - INFO - Iter [48900/100000]\tlr: 1.000e-04, eta: 4:17:11, time: 0.269, data_time: 0.012, memory: 4571, loss_rpn_cls: 0.0100, loss_rpn_bbox: 0.0096, loss_cls: 0.0394, acc: 99.7266, loss_bbox: 0.2266, loss: 0.2855\n",
      "2022-05-26 15:20:20,544 - mmfewshot - INFO - Iter [48950/100000]\tlr: 1.000e-04, eta: 4:16:54, time: 0.265, data_time: 0.012, memory: 4571, loss_rpn_cls: 0.0092, loss_rpn_bbox: 0.0049, loss_cls: 0.0519, acc: 99.5625, loss_bbox: 0.2547, loss: 0.3207\n",
      "2022-05-26 15:20:33,959 - mmfewshot - INFO - Exp name: attention-rpn_r50_c4_tb-split2_1shot-fine-tuning-momentum-09.py\n",
      "2022-05-26 15:20:33,961 - mmfewshot - INFO - Iter [49000/100000]\tlr: 1.000e-04, eta: 4:16:37, time: 0.268, data_time: 0.013, memory: 4571, loss_rpn_cls: 0.0113, loss_rpn_bbox: 0.0077, loss_cls: 0.0438, acc: 99.5703, loss_bbox: 0.2833, loss: 0.3461\n",
      "2022-05-26 15:20:33,966 - mmdet - INFO - starting model initialization...\n"
     ]
    },
    {
     "name": "stdout",
     "output_type": "stream",
     "text": [
      "[>>>>>>>>>>>>>>>>>>>>>>>>>>>>>] 850/850, 74.0 task/s, elapsed: 11s, ETA:     0s"
     ]
    },
    {
     "name": "stderr",
     "output_type": "stream",
     "text": [
      "2022-05-26 15:20:45,550 - mmdet - INFO - model initialization done.\n"
     ]
    },
    {
     "name": "stdout",
     "output_type": "stream",
     "text": [
      "[>>>>>>>>>>>>>>>>>>>>>>>>>>>>>] 300/300, 12.7 task/s, elapsed: 24s, ETA:     0s\n",
      "---------------iou_thr: 0.5---------------\n"
     ]
    },
    {
     "name": "stderr",
     "output_type": "stream",
     "text": [
      "2022-05-26 15:21:09,556 - mmfewshot - INFO - \n",
      "+---------+-----+------+--------+-------+\n",
      "| class   | gts | dets | recall | ap    |\n",
      "+---------+-----+------+--------+-------+\n",
      "| fanta   | 291 | 1662 | 0.876  | 0.664 |\n",
      "| Mirinda | 111 | 711  | 0.739  | 0.569 |\n",
      "+---------+-----+------+--------+-------+\n",
      "| mAP     |     |      |        | 0.616 |\n",
      "+---------+-----+------+--------+-------+\n",
      "2022-05-26 15:21:09,559 - mmfewshot - INFO - BASE_CLASSES_SPLIT2 mAP: 0.6163802146911621\n",
      "2022-05-26 15:21:09,560 - mmfewshot - INFO - NOVEL_CLASSES_SPLIT2 mAP: nan\n",
      "2022-05-26 15:21:09,563 - mmfewshot - INFO - Exp name: attention-rpn_r50_c4_tb-split2_1shot-fine-tuning-momentum-09.py\n",
      "2022-05-26 15:21:09,564 - mmfewshot - INFO - Iter(val) [300]\tAP50: 0.6160, BASE_CLASSES_SPLIT2: AP50: 0.6160, NOVEL_CLASSES_SPLIT2: AP50: nan, mAP: 0.6164\n",
      "2022-05-26 15:21:22,987 - mmfewshot - INFO - Iter [49050/100000]\tlr: 1.000e-04, eta: 4:16:57, time: 0.981, data_time: 0.724, memory: 4571, loss_rpn_cls: 0.0090, loss_rpn_bbox: 0.0052, loss_cls: 0.0571, acc: 99.6250, loss_bbox: 0.2506, loss: 0.3220\n",
      "2022-05-26 15:21:36,406 - mmfewshot - INFO - Iter [49100/100000]\tlr: 1.000e-04, eta: 4:16:40, time: 0.268, data_time: 0.012, memory: 4571, loss_rpn_cls: 0.0108, loss_rpn_bbox: 0.0043, loss_cls: 0.0448, acc: 99.6406, loss_bbox: 0.2541, loss: 0.3139\n",
      "2022-05-26 15:21:49,771 - mmfewshot - INFO - Iter [49150/100000]\tlr: 1.000e-04, eta: 4:16:23, time: 0.267, data_time: 0.012, memory: 4571, loss_rpn_cls: 0.0135, loss_rpn_bbox: 0.0081, loss_cls: 0.0482, acc: 99.6641, loss_bbox: 0.2373, loss: 0.3071\n",
      "2022-05-26 15:22:03,220 - mmfewshot - INFO - Iter [49200/100000]\tlr: 1.000e-04, eta: 4:16:07, time: 0.269, data_time: 0.012, memory: 4571, loss_rpn_cls: 0.0090, loss_rpn_bbox: 0.0041, loss_cls: 0.0411, acc: 99.5547, loss_bbox: 0.2642, loss: 0.3184\n",
      "2022-05-26 15:22:16,683 - mmfewshot - INFO - Iter [49250/100000]\tlr: 1.000e-04, eta: 4:15:50, time: 0.269, data_time: 0.012, memory: 4571, loss_rpn_cls: 0.0144, loss_rpn_bbox: 0.0060, loss_cls: 0.0327, acc: 99.7344, loss_bbox: 0.2453, loss: 0.2984\n",
      "2022-05-26 15:22:30,163 - mmfewshot - INFO - Iter [49300/100000]\tlr: 1.000e-04, eta: 4:15:33, time: 0.270, data_time: 0.012, memory: 4571, loss_rpn_cls: 0.0138, loss_rpn_bbox: 0.0079, loss_cls: 0.0358, acc: 99.6953, loss_bbox: 0.2727, loss: 0.3302\n",
      "2022-05-26 15:22:43,648 - mmfewshot - INFO - Iter [49350/100000]\tlr: 1.000e-04, eta: 4:15:16, time: 0.270, data_time: 0.013, memory: 4571, loss_rpn_cls: 0.0106, loss_rpn_bbox: 0.0042, loss_cls: 0.0376, acc: 99.5625, loss_bbox: 0.3080, loss: 0.3605\n",
      "2022-05-26 15:22:56,971 - mmfewshot - INFO - Iter [49400/100000]\tlr: 1.000e-04, eta: 4:14:59, time: 0.266, data_time: 0.012, memory: 4571, loss_rpn_cls: 0.0130, loss_rpn_bbox: 0.0081, loss_cls: 0.0418, acc: 99.5938, loss_bbox: 0.3073, loss: 0.3703\n",
      "2022-05-26 15:23:10,328 - mmfewshot - INFO - Iter [49450/100000]\tlr: 1.000e-04, eta: 4:14:42, time: 0.267, data_time: 0.012, memory: 4571, loss_rpn_cls: 0.0101, loss_rpn_bbox: 0.0041, loss_cls: 0.1272, acc: 99.3594, loss_bbox: 0.2601, loss: 0.4015\n",
      "2022-05-26 15:23:23,822 - mmfewshot - INFO - Iter [49500/100000]\tlr: 1.000e-04, eta: 4:14:26, time: 0.270, data_time: 0.012, memory: 4571, loss_rpn_cls: 0.0092, loss_rpn_bbox: 0.0059, loss_cls: 0.0496, acc: 99.5312, loss_bbox: 0.2991, loss: 0.3638\n",
      "2022-05-26 15:23:37,292 - mmfewshot - INFO - Iter [49550/100000]\tlr: 1.000e-04, eta: 4:14:09, time: 0.269, data_time: 0.013, memory: 4571, loss_rpn_cls: 0.0137, loss_rpn_bbox: 0.0060, loss_cls: 0.0422, acc: 99.6328, loss_bbox: 0.2552, loss: 0.3170\n",
      "2022-05-26 15:23:50,752 - mmfewshot - INFO - Iter [49600/100000]\tlr: 1.000e-04, eta: 4:13:52, time: 0.269, data_time: 0.012, memory: 4571, loss_rpn_cls: 0.0087, loss_rpn_bbox: 0.0056, loss_cls: 0.0398, acc: 99.6172, loss_bbox: 0.2707, loss: 0.3248\n",
      "2022-05-26 15:24:04,127 - mmfewshot - INFO - Iter [49650/100000]\tlr: 1.000e-04, eta: 4:13:35, time: 0.267, data_time: 0.012, memory: 4571, loss_rpn_cls: 0.0119, loss_rpn_bbox: 0.0077, loss_cls: 0.0562, acc: 99.5234, loss_bbox: 0.2920, loss: 0.3678\n",
      "2022-05-26 15:24:17,490 - mmfewshot - INFO - Iter [49700/100000]\tlr: 1.000e-04, eta: 4:13:18, time: 0.267, data_time: 0.012, memory: 4571, loss_rpn_cls: 0.0198, loss_rpn_bbox: 0.0071, loss_cls: 0.0575, acc: 99.3906, loss_bbox: 0.2634, loss: 0.3478\n",
      "2022-05-26 15:24:30,910 - mmfewshot - INFO - Iter [49750/100000]\tlr: 1.000e-04, eta: 4:13:01, time: 0.268, data_time: 0.013, memory: 4571, loss_rpn_cls: 0.0115, loss_rpn_bbox: 0.0081, loss_cls: 0.0462, acc: 99.5625, loss_bbox: 0.3056, loss: 0.3715\n",
      "2022-05-26 15:24:44,319 - mmfewshot - INFO - Iter [49800/100000]\tlr: 1.000e-04, eta: 4:12:45, time: 0.268, data_time: 0.012, memory: 4571, loss_rpn_cls: 0.0112, loss_rpn_bbox: 0.0073, loss_cls: 0.0545, acc: 99.5938, loss_bbox: 0.2688, loss: 0.3417\n",
      "2022-05-26 15:24:57,566 - mmfewshot - INFO - Iter [49850/100000]\tlr: 1.000e-04, eta: 4:12:28, time: 0.265, data_time: 0.010, memory: 4571, loss_rpn_cls: 0.0158, loss_rpn_bbox: 0.0089, loss_cls: 0.0553, acc: 99.6875, loss_bbox: 0.2358, loss: 0.3159\n",
      "2022-05-26 15:25:10,734 - mmfewshot - INFO - Iter [49900/100000]\tlr: 1.000e-04, eta: 4:12:11, time: 0.263, data_time: 0.010, memory: 4571, loss_rpn_cls: 0.0092, loss_rpn_bbox: 0.0046, loss_cls: 0.0478, acc: 99.5469, loss_bbox: 0.2687, loss: 0.3303\n",
      "2022-05-26 15:25:23,951 - mmfewshot - INFO - Iter [49950/100000]\tlr: 1.000e-04, eta: 4:11:54, time: 0.264, data_time: 0.010, memory: 4571, loss_rpn_cls: 0.0097, loss_rpn_bbox: 0.0039, loss_cls: 0.0392, acc: 99.6094, loss_bbox: 0.2413, loss: 0.2942\n",
      "2022-05-26 15:25:37,346 - mmfewshot - INFO - Saving checkpoint at 50000 iterations\n",
      "2022-05-26 15:25:38,915 - mmfewshot - INFO - Exp name: attention-rpn_r50_c4_tb-split2_1shot-fine-tuning-momentum-09.py\n",
      "2022-05-26 15:25:38,916 - mmfewshot - INFO - Iter [50000/100000]\tlr: 1.000e-04, eta: 4:11:38, time: 0.302, data_time: 0.013, memory: 4571, loss_rpn_cls: 0.0222, loss_rpn_bbox: 0.0096, loss_cls: 0.0609, acc: 99.4062, loss_bbox: 0.2749, loss: 0.3676\n",
      "2022-05-26 15:25:38,920 - mmdet - INFO - starting model initialization...\n"
     ]
    },
    {
     "name": "stdout",
     "output_type": "stream",
     "text": [
      "[>>>>>>>>>>>>>>>>>>>>>>>>>>>>>] 850/850, 79.6 task/s, elapsed: 11s, ETA:     0s"
     ]
    },
    {
     "name": "stderr",
     "output_type": "stream",
     "text": [
      "2022-05-26 15:25:49,681 - mmdet - INFO - model initialization done.\n"
     ]
    },
    {
     "name": "stdout",
     "output_type": "stream",
     "text": [
      "[>>>>>>>>>>>>>>>>>>>>>>>>>>>>>] 300/300, 12.6 task/s, elapsed: 24s, ETA:     0s\n",
      "---------------iou_thr: 0.5---------------\n"
     ]
    },
    {
     "name": "stderr",
     "output_type": "stream",
     "text": [
      "2022-05-26 15:26:13,839 - mmfewshot - INFO - \n",
      "+---------+-----+------+--------+-------+\n",
      "| class   | gts | dets | recall | ap    |\n",
      "+---------+-----+------+--------+-------+\n",
      "| fanta   | 291 | 2088 | 0.897  | 0.730 |\n",
      "| Mirinda | 111 | 921  | 0.748  | 0.551 |\n",
      "+---------+-----+------+--------+-------+\n",
      "| mAP     |     |      |        | 0.640 |\n",
      "+---------+-----+------+--------+-------+\n",
      "2022-05-26 15:26:13,842 - mmfewshot - INFO - BASE_CLASSES_SPLIT2 mAP: 0.6402093768119812\n",
      "2022-05-26 15:26:13,842 - mmfewshot - INFO - NOVEL_CLASSES_SPLIT2 mAP: nan\n",
      "2022-05-26 15:26:13,845 - mmfewshot - INFO - Exp name: attention-rpn_r50_c4_tb-split2_1shot-fine-tuning-momentum-09.py\n",
      "2022-05-26 15:26:13,846 - mmfewshot - INFO - Iter(val) [300]\tAP50: 0.6400, BASE_CLASSES_SPLIT2: AP50: 0.6400, NOVEL_CLASSES_SPLIT2: AP50: nan, mAP: 0.6402\n",
      "2022-05-26 15:26:27,300 - mmfewshot - INFO - Iter [50050/100000]\tlr: 1.000e-04, eta: 4:11:56, time: 0.965, data_time: 0.708, memory: 4571, loss_rpn_cls: 0.0118, loss_rpn_bbox: 0.0048, loss_cls: 0.0503, acc: 99.6406, loss_bbox: 0.2722, loss: 0.3390\n",
      "2022-05-26 15:26:40,748 - mmfewshot - INFO - Iter [50100/100000]\tlr: 1.000e-04, eta: 4:11:40, time: 0.269, data_time: 0.013, memory: 4571, loss_rpn_cls: 0.0225, loss_rpn_bbox: 0.0061, loss_cls: 0.0433, acc: 99.6562, loss_bbox: 0.2696, loss: 0.3415\n",
      "2022-05-26 15:26:54,223 - mmfewshot - INFO - Iter [50150/100000]\tlr: 1.000e-04, eta: 4:11:23, time: 0.269, data_time: 0.012, memory: 4571, loss_rpn_cls: 0.0210, loss_rpn_bbox: 0.0090, loss_cls: 0.0525, acc: 99.5391, loss_bbox: 0.2685, loss: 0.3510\n",
      "2022-05-26 15:27:07,514 - mmfewshot - INFO - Iter [50200/100000]\tlr: 1.000e-04, eta: 4:11:06, time: 0.266, data_time: 0.011, memory: 4571, loss_rpn_cls: 0.0144, loss_rpn_bbox: 0.0078, loss_cls: 0.0606, acc: 99.4609, loss_bbox: 0.3048, loss: 0.3876\n",
      "2022-05-26 15:27:20,864 - mmfewshot - INFO - Iter [50250/100000]\tlr: 1.000e-04, eta: 4:10:49, time: 0.267, data_time: 0.013, memory: 4571, loss_rpn_cls: 0.0103, loss_rpn_bbox: 0.0053, loss_cls: 0.0407, acc: 99.5859, loss_bbox: 0.2702, loss: 0.3265\n",
      "2022-05-26 15:27:34,347 - mmfewshot - INFO - Iter [50300/100000]\tlr: 1.000e-04, eta: 4:10:32, time: 0.270, data_time: 0.012, memory: 4571, loss_rpn_cls: 0.0158, loss_rpn_bbox: 0.0071, loss_cls: 0.0436, acc: 99.6016, loss_bbox: 0.2974, loss: 0.3639\n",
      "2022-05-26 15:27:47,769 - mmfewshot - INFO - Iter [50350/100000]\tlr: 1.000e-04, eta: 4:10:15, time: 0.268, data_time: 0.011, memory: 4571, loss_rpn_cls: 0.0078, loss_rpn_bbox: 0.0036, loss_cls: 0.0354, acc: 99.6641, loss_bbox: 0.2550, loss: 0.3019\n",
      "2022-05-26 15:28:01,329 - mmfewshot - INFO - Iter [50400/100000]\tlr: 1.000e-04, eta: 4:09:59, time: 0.271, data_time: 0.013, memory: 4571, loss_rpn_cls: 0.0109, loss_rpn_bbox: 0.0041, loss_cls: 0.0371, acc: 99.6250, loss_bbox: 0.2679, loss: 0.3199\n",
      "2022-05-26 15:28:14,813 - mmfewshot - INFO - Iter [50450/100000]\tlr: 1.000e-04, eta: 4:09:42, time: 0.270, data_time: 0.013, memory: 4571, loss_rpn_cls: 0.0100, loss_rpn_bbox: 0.0057, loss_cls: 0.0588, acc: 99.4531, loss_bbox: 0.3135, loss: 0.3879\n",
      "2022-05-26 15:28:28,281 - mmfewshot - INFO - Iter [50500/100000]\tlr: 1.000e-04, eta: 4:09:25, time: 0.269, data_time: 0.013, memory: 4571, loss_rpn_cls: 0.0129, loss_rpn_bbox: 0.0063, loss_cls: 0.0377, acc: 99.5938, loss_bbox: 0.2991, loss: 0.3561\n",
      "2022-05-26 15:28:41,572 - mmfewshot - INFO - Iter [50550/100000]\tlr: 1.000e-04, eta: 4:09:08, time: 0.266, data_time: 0.011, memory: 4571, loss_rpn_cls: 0.0108, loss_rpn_bbox: 0.0053, loss_cls: 0.0665, acc: 99.4453, loss_bbox: 0.2891, loss: 0.3718\n",
      "2022-05-26 15:28:55,030 - mmfewshot - INFO - Iter [50600/100000]\tlr: 1.000e-04, eta: 4:08:52, time: 0.269, data_time: 0.012, memory: 4571, loss_rpn_cls: 0.0115, loss_rpn_bbox: 0.0061, loss_cls: 0.0490, acc: 99.5156, loss_bbox: 0.2743, loss: 0.3408\n",
      "2022-05-26 15:29:08,405 - mmfewshot - INFO - Iter [50650/100000]\tlr: 1.000e-04, eta: 4:08:35, time: 0.268, data_time: 0.012, memory: 4571, loss_rpn_cls: 0.0074, loss_rpn_bbox: 0.0032, loss_cls: 0.0425, acc: 99.6094, loss_bbox: 0.2678, loss: 0.3210\n",
      "2022-05-26 15:29:21,727 - mmfewshot - INFO - Iter [50700/100000]\tlr: 1.000e-04, eta: 4:08:18, time: 0.267, data_time: 0.012, memory: 4571, loss_rpn_cls: 0.0158, loss_rpn_bbox: 0.0064, loss_cls: 0.0529, acc: 99.5703, loss_bbox: 0.2632, loss: 0.3383\n",
      "2022-05-26 15:29:35,188 - mmfewshot - INFO - Iter [50750/100000]\tlr: 1.000e-04, eta: 4:08:01, time: 0.269, data_time: 0.012, memory: 4571, loss_rpn_cls: 0.0099, loss_rpn_bbox: 0.0069, loss_cls: 0.0441, acc: 99.6875, loss_bbox: 0.2592, loss: 0.3202\n",
      "2022-05-26 15:29:48,730 - mmfewshot - INFO - Iter [50800/100000]\tlr: 1.000e-04, eta: 4:07:45, time: 0.271, data_time: 0.014, memory: 4571, loss_rpn_cls: 0.0057, loss_rpn_bbox: 0.0030, loss_cls: 0.0399, acc: 99.7266, loss_bbox: 0.2631, loss: 0.3117\n",
      "2022-05-26 15:30:02,150 - mmfewshot - INFO - Iter [50850/100000]\tlr: 1.000e-04, eta: 4:07:28, time: 0.268, data_time: 0.012, memory: 4571, loss_rpn_cls: 0.0119, loss_rpn_bbox: 0.0058, loss_cls: 0.0430, acc: 99.5625, loss_bbox: 0.2812, loss: 0.3418\n",
      "2022-05-26 15:30:15,690 - mmfewshot - INFO - Iter [50900/100000]\tlr: 1.000e-04, eta: 4:07:11, time: 0.271, data_time: 0.012, memory: 4571, loss_rpn_cls: 0.0125, loss_rpn_bbox: 0.0078, loss_cls: 0.0555, acc: 99.5703, loss_bbox: 0.2439, loss: 0.3196\n",
      "2022-05-26 15:30:29,107 - mmfewshot - INFO - Iter [50950/100000]\tlr: 1.000e-04, eta: 4:06:55, time: 0.269, data_time: 0.012, memory: 4571, loss_rpn_cls: 0.0131, loss_rpn_bbox: 0.0055, loss_cls: 0.0425, acc: 99.6406, loss_bbox: 0.2526, loss: 0.3137\n",
      "2022-05-26 15:30:42,615 - mmfewshot - INFO - Exp name: attention-rpn_r50_c4_tb-split2_1shot-fine-tuning-momentum-09.py\n",
      "2022-05-26 15:30:42,617 - mmfewshot - INFO - Iter [51000/100000]\tlr: 1.000e-04, eta: 4:06:38, time: 0.270, data_time: 0.012, memory: 4571, loss_rpn_cls: 0.0120, loss_rpn_bbox: 0.0049, loss_cls: 0.0504, acc: 99.5234, loss_bbox: 0.2840, loss: 0.3513\n",
      "2022-05-26 15:30:42,623 - mmdet - INFO - starting model initialization...\n"
     ]
    },
    {
     "name": "stdout",
     "output_type": "stream",
     "text": [
      "[>>>>>>>>>>>>>>>>>>>>>>>>>>>>>] 850/850, 74.7 task/s, elapsed: 11s, ETA:     0s"
     ]
    },
    {
     "name": "stderr",
     "output_type": "stream",
     "text": [
      "2022-05-26 15:30:54,062 - mmdet - INFO - model initialization done.\n"
     ]
    },
    {
     "name": "stdout",
     "output_type": "stream",
     "text": [
      "[>>>>>>>>>>>>>>>>>>>>>>>>>>>>>] 300/300, 12.8 task/s, elapsed: 23s, ETA:     0s\n",
      "---------------iou_thr: 0.5---------------\n"
     ]
    },
    {
     "name": "stderr",
     "output_type": "stream",
     "text": [
      "2022-05-26 15:31:17,852 - mmfewshot - INFO - \n",
      "+---------+-----+------+--------+-------+\n",
      "| class   | gts | dets | recall | ap    |\n",
      "+---------+-----+------+--------+-------+\n",
      "| fanta   | 291 | 1771 | 0.880  | 0.667 |\n",
      "| Mirinda | 111 | 697  | 0.730  | 0.545 |\n",
      "+---------+-----+------+--------+-------+\n",
      "| mAP     |     |      |        | 0.606 |\n",
      "+---------+-----+------+--------+-------+\n",
      "2022-05-26 15:31:17,854 - mmfewshot - INFO - BASE_CLASSES_SPLIT2 mAP: 0.6057872772216797\n",
      "2022-05-26 15:31:17,855 - mmfewshot - INFO - NOVEL_CLASSES_SPLIT2 mAP: nan\n",
      "2022-05-26 15:31:17,858 - mmfewshot - INFO - Exp name: attention-rpn_r50_c4_tb-split2_1shot-fine-tuning-momentum-09.py\n",
      "2022-05-26 15:31:17,859 - mmfewshot - INFO - Iter(val) [300]\tAP50: 0.6060, BASE_CLASSES_SPLIT2: AP50: 0.6060, NOVEL_CLASSES_SPLIT2: AP50: nan, mAP: 0.6058\n",
      "2022-05-26 15:31:31,283 - mmfewshot - INFO - Iter [51050/100000]\tlr: 1.000e-04, eta: 4:06:55, time: 0.973, data_time: 0.717, memory: 4571, loss_rpn_cls: 0.0097, loss_rpn_bbox: 0.0069, loss_cls: 0.0466, acc: 99.5781, loss_bbox: 0.2987, loss: 0.3618\n",
      "2022-05-26 15:31:44,833 - mmfewshot - INFO - Iter [51100/100000]\tlr: 1.000e-04, eta: 4:06:38, time: 0.271, data_time: 0.013, memory: 4571, loss_rpn_cls: 0.0135, loss_rpn_bbox: 0.0050, loss_cls: 0.0522, acc: 99.5234, loss_bbox: 0.2576, loss: 0.3283\n",
      "2022-05-26 15:31:58,304 - mmfewshot - INFO - Iter [51150/100000]\tlr: 1.000e-04, eta: 4:06:22, time: 0.270, data_time: 0.012, memory: 4571, loss_rpn_cls: 0.0136, loss_rpn_bbox: 0.0051, loss_cls: 0.0545, acc: 99.6328, loss_bbox: 0.2721, loss: 0.3453\n",
      "2022-05-26 15:32:11,683 - mmfewshot - INFO - Iter [51200/100000]\tlr: 1.000e-04, eta: 4:06:05, time: 0.268, data_time: 0.012, memory: 4571, loss_rpn_cls: 0.0126, loss_rpn_bbox: 0.0069, loss_cls: 0.0737, acc: 99.6016, loss_bbox: 0.2611, loss: 0.3542\n",
      "2022-05-26 15:32:25,153 - mmfewshot - INFO - Iter [51250/100000]\tlr: 1.000e-04, eta: 4:05:48, time: 0.269, data_time: 0.013, memory: 4571, loss_rpn_cls: 0.0094, loss_rpn_bbox: 0.0040, loss_cls: 0.0449, acc: 99.6250, loss_bbox: 0.2919, loss: 0.3501\n",
      "2022-05-26 15:32:38,643 - mmfewshot - INFO - Iter [51300/100000]\tlr: 1.000e-04, eta: 4:05:31, time: 0.270, data_time: 0.012, memory: 4571, loss_rpn_cls: 0.0142, loss_rpn_bbox: 0.0056, loss_cls: 0.0506, acc: 99.5703, loss_bbox: 0.2772, loss: 0.3476\n",
      "2022-05-26 15:32:52,160 - mmfewshot - INFO - Iter [51350/100000]\tlr: 1.000e-04, eta: 4:05:15, time: 0.270, data_time: 0.013, memory: 4571, loss_rpn_cls: 0.0085, loss_rpn_bbox: 0.0042, loss_cls: 0.0464, acc: 99.6406, loss_bbox: 0.2528, loss: 0.3119\n",
      "2022-05-26 15:33:05,587 - mmfewshot - INFO - Iter [51400/100000]\tlr: 1.000e-04, eta: 4:04:58, time: 0.269, data_time: 0.012, memory: 4571, loss_rpn_cls: 0.0075, loss_rpn_bbox: 0.0045, loss_cls: 0.0418, acc: 99.5781, loss_bbox: 0.2807, loss: 0.3345\n",
      "2022-05-26 15:33:19,046 - mmfewshot - INFO - Iter [51450/100000]\tlr: 1.000e-04, eta: 4:04:41, time: 0.269, data_time: 0.013, memory: 4571, loss_rpn_cls: 0.0233, loss_rpn_bbox: 0.0098, loss_cls: 0.0563, acc: 99.5703, loss_bbox: 0.2557, loss: 0.3451\n",
      "2022-05-26 15:33:32,540 - mmfewshot - INFO - Iter [51500/100000]\tlr: 1.000e-04, eta: 4:04:25, time: 0.270, data_time: 0.013, memory: 4571, loss_rpn_cls: 0.0156, loss_rpn_bbox: 0.0068, loss_cls: 0.0484, acc: 99.5703, loss_bbox: 0.2952, loss: 0.3659\n",
      "2022-05-26 15:33:45,992 - mmfewshot - INFO - Iter [51550/100000]\tlr: 1.000e-04, eta: 4:04:08, time: 0.269, data_time: 0.013, memory: 4571, loss_rpn_cls: 0.0228, loss_rpn_bbox: 0.0111, loss_cls: 0.0428, acc: 99.5625, loss_bbox: 0.2829, loss: 0.3595\n",
      "2022-05-26 15:33:59,456 - mmfewshot - INFO - Iter [51600/100000]\tlr: 1.000e-04, eta: 4:03:51, time: 0.269, data_time: 0.013, memory: 4571, loss_rpn_cls: 0.0135, loss_rpn_bbox: 0.0044, loss_cls: 0.0416, acc: 99.5781, loss_bbox: 0.2621, loss: 0.3216\n",
      "2022-05-26 15:34:12,900 - mmfewshot - INFO - Iter [51650/100000]\tlr: 1.000e-04, eta: 4:03:35, time: 0.269, data_time: 0.013, memory: 4571, loss_rpn_cls: 0.0126, loss_rpn_bbox: 0.0097, loss_cls: 0.0337, acc: 99.6406, loss_bbox: 0.3053, loss: 0.3613\n",
      "2022-05-26 15:34:26,390 - mmfewshot - INFO - Iter [51700/100000]\tlr: 1.000e-04, eta: 4:03:18, time: 0.270, data_time: 0.012, memory: 4571, loss_rpn_cls: 0.0135, loss_rpn_bbox: 0.0056, loss_cls: 0.0374, acc: 99.5312, loss_bbox: 0.3128, loss: 0.3692\n",
      "2022-05-26 15:34:39,845 - mmfewshot - INFO - Iter [51750/100000]\tlr: 1.000e-04, eta: 4:03:01, time: 0.269, data_time: 0.012, memory: 4571, loss_rpn_cls: 0.0090, loss_rpn_bbox: 0.0043, loss_cls: 0.0443, acc: 99.6641, loss_bbox: 0.2658, loss: 0.3233\n",
      "2022-05-26 15:34:53,394 - mmfewshot - INFO - Iter [51800/100000]\tlr: 1.000e-04, eta: 4:02:45, time: 0.271, data_time: 0.013, memory: 4571, loss_rpn_cls: 0.0090, loss_rpn_bbox: 0.0045, loss_cls: 0.0780, acc: 99.5156, loss_bbox: 0.2192, loss: 0.3108\n",
      "2022-05-26 15:35:06,849 - mmfewshot - INFO - Iter [51850/100000]\tlr: 1.000e-04, eta: 4:02:28, time: 0.269, data_time: 0.012, memory: 4571, loss_rpn_cls: 0.0092, loss_rpn_bbox: 0.0060, loss_cls: 0.0429, acc: 99.5938, loss_bbox: 0.2760, loss: 0.3340\n",
      "2022-05-26 15:35:20,363 - mmfewshot - INFO - Iter [51900/100000]\tlr: 1.000e-04, eta: 4:02:12, time: 0.270, data_time: 0.013, memory: 4571, loss_rpn_cls: 0.0077, loss_rpn_bbox: 0.0029, loss_cls: 0.0300, acc: 99.7578, loss_bbox: 0.2744, loss: 0.3150\n",
      "2022-05-26 15:35:33,769 - mmfewshot - INFO - Iter [51950/100000]\tlr: 1.000e-04, eta: 4:01:55, time: 0.268, data_time: 0.013, memory: 4571, loss_rpn_cls: 0.0115, loss_rpn_bbox: 0.0063, loss_cls: 0.0541, acc: 99.6016, loss_bbox: 0.2358, loss: 0.3077\n",
      "2022-05-26 15:35:47,295 - mmfewshot - INFO - Exp name: attention-rpn_r50_c4_tb-split2_1shot-fine-tuning-momentum-09.py\n",
      "2022-05-26 15:35:47,296 - mmfewshot - INFO - Iter [52000/100000]\tlr: 1.000e-04, eta: 4:01:38, time: 0.270, data_time: 0.012, memory: 4571, loss_rpn_cls: 0.0193, loss_rpn_bbox: 0.0078, loss_cls: 0.0410, acc: 99.5859, loss_bbox: 0.3243, loss: 0.3924\n",
      "2022-05-26 15:35:47,301 - mmdet - INFO - starting model initialization...\n"
     ]
    },
    {
     "name": "stdout",
     "output_type": "stream",
     "text": [
      "[>>>>>>>>>>>>>>>>>>>>>>>>>>>>>] 850/850, 78.4 task/s, elapsed: 11s, ETA:     0s"
     ]
    },
    {
     "name": "stderr",
     "output_type": "stream",
     "text": [
      "2022-05-26 15:35:58,222 - mmdet - INFO - model initialization done.\n"
     ]
    },
    {
     "name": "stdout",
     "output_type": "stream",
     "text": [
      "[>>>>>>>>>>>>>>>>>>>>>>>>>>>>>] 300/300, 12.7 task/s, elapsed: 24s, ETA:     0s\n",
      "---------------iou_thr: 0.5---------------\n"
     ]
    },
    {
     "name": "stderr",
     "output_type": "stream",
     "text": [
      "2022-05-26 15:36:22,200 - mmfewshot - INFO - \n",
      "+---------+-----+------+--------+-------+\n",
      "| class   | gts | dets | recall | ap    |\n",
      "+---------+-----+------+--------+-------+\n",
      "| fanta   | 291 | 1603 | 0.876  | 0.706 |\n",
      "| Mirinda | 111 | 609  | 0.739  | 0.560 |\n",
      "+---------+-----+------+--------+-------+\n",
      "| mAP     |     |      |        | 0.633 |\n",
      "+---------+-----+------+--------+-------+\n",
      "2022-05-26 15:36:22,202 - mmfewshot - INFO - BASE_CLASSES_SPLIT2 mAP: 0.6332837343215942\n",
      "2022-05-26 15:36:22,203 - mmfewshot - INFO - NOVEL_CLASSES_SPLIT2 mAP: nan\n",
      "2022-05-26 15:36:22,206 - mmfewshot - INFO - Exp name: attention-rpn_r50_c4_tb-split2_1shot-fine-tuning-momentum-09.py\n",
      "2022-05-26 15:36:22,207 - mmfewshot - INFO - Iter(val) [300]\tAP50: 0.6330, BASE_CLASSES_SPLIT2: AP50: 0.6330, NOVEL_CLASSES_SPLIT2: AP50: nan, mAP: 0.6333\n",
      "2022-05-26 15:36:35,750 - mmfewshot - INFO - Iter [52050/100000]\tlr: 1.000e-04, eta: 4:01:54, time: 0.969, data_time: 0.712, memory: 4571, loss_rpn_cls: 0.0134, loss_rpn_bbox: 0.0049, loss_cls: 0.0417, acc: 99.6016, loss_bbox: 0.2716, loss: 0.3316\n",
      "2022-05-26 15:36:49,277 - mmfewshot - INFO - Iter [52100/100000]\tlr: 1.000e-04, eta: 4:01:37, time: 0.270, data_time: 0.013, memory: 4571, loss_rpn_cls: 0.0111, loss_rpn_bbox: 0.0064, loss_cls: 0.0463, acc: 99.5078, loss_bbox: 0.3025, loss: 0.3663\n",
      "2022-05-26 15:37:02,712 - mmfewshot - INFO - Iter [52150/100000]\tlr: 1.000e-04, eta: 4:01:21, time: 0.269, data_time: 0.012, memory: 4571, loss_rpn_cls: 0.0135, loss_rpn_bbox: 0.0051, loss_cls: 0.0585, acc: 99.5000, loss_bbox: 0.2962, loss: 0.3734\n",
      "2022-05-26 15:37:16,148 - mmfewshot - INFO - Iter [52200/100000]\tlr: 1.000e-04, eta: 4:01:04, time: 0.269, data_time: 0.013, memory: 4571, loss_rpn_cls: 0.0113, loss_rpn_bbox: 0.0044, loss_cls: 0.0524, acc: 99.5703, loss_bbox: 0.2674, loss: 0.3355\n",
      "2022-05-26 15:37:29,613 - mmfewshot - INFO - Iter [52250/100000]\tlr: 1.000e-04, eta: 4:00:47, time: 0.269, data_time: 0.012, memory: 4571, loss_rpn_cls: 0.0181, loss_rpn_bbox: 0.0076, loss_cls: 0.0452, acc: 99.5625, loss_bbox: 0.3031, loss: 0.3739\n",
      "2022-05-26 15:37:43,004 - mmfewshot - INFO - Iter [52300/100000]\tlr: 1.000e-04, eta: 4:00:31, time: 0.268, data_time: 0.012, memory: 4571, loss_rpn_cls: 0.0166, loss_rpn_bbox: 0.0060, loss_cls: 0.0406, acc: 99.5547, loss_bbox: 0.2553, loss: 0.3185\n",
      "2022-05-26 15:37:56,398 - mmfewshot - INFO - Iter [52350/100000]\tlr: 1.000e-04, eta: 4:00:14, time: 0.268, data_time: 0.012, memory: 4571, loss_rpn_cls: 0.0093, loss_rpn_bbox: 0.0048, loss_cls: 0.0544, acc: 99.6328, loss_bbox: 0.2932, loss: 0.3616\n",
      "2022-05-26 15:38:09,880 - mmfewshot - INFO - Iter [52400/100000]\tlr: 1.000e-04, eta: 3:59:57, time: 0.270, data_time: 0.012, memory: 4571, loss_rpn_cls: 0.0086, loss_rpn_bbox: 0.0046, loss_cls: 0.0412, acc: 99.6094, loss_bbox: 0.2663, loss: 0.3206\n",
      "2022-05-26 15:38:23,386 - mmfewshot - INFO - Iter [52450/100000]\tlr: 1.000e-04, eta: 3:59:41, time: 0.270, data_time: 0.012, memory: 4571, loss_rpn_cls: 0.0077, loss_rpn_bbox: 0.0043, loss_cls: 0.0465, acc: 99.6016, loss_bbox: 0.2406, loss: 0.2991\n",
      "2022-05-26 15:38:36,841 - mmfewshot - INFO - Iter [52500/100000]\tlr: 1.000e-04, eta: 3:59:24, time: 0.269, data_time: 0.011, memory: 4571, loss_rpn_cls: 0.0139, loss_rpn_bbox: 0.0057, loss_cls: 0.0679, acc: 99.4062, loss_bbox: 0.2668, loss: 0.3543\n",
      "2022-05-26 15:38:50,366 - mmfewshot - INFO - Iter [52550/100000]\tlr: 1.000e-04, eta: 3:59:08, time: 0.271, data_time: 0.013, memory: 4571, loss_rpn_cls: 0.0102, loss_rpn_bbox: 0.0055, loss_cls: 0.0465, acc: 99.5703, loss_bbox: 0.2820, loss: 0.3443\n",
      "2022-05-26 15:39:03,774 - mmfewshot - INFO - Iter [52600/100000]\tlr: 1.000e-04, eta: 3:58:51, time: 0.268, data_time: 0.012, memory: 4571, loss_rpn_cls: 0.0072, loss_rpn_bbox: 0.0033, loss_cls: 0.0360, acc: 99.6875, loss_bbox: 0.2872, loss: 0.3337\n",
      "2022-05-26 15:39:17,105 - mmfewshot - INFO - Iter [52650/100000]\tlr: 1.000e-04, eta: 3:58:34, time: 0.267, data_time: 0.011, memory: 4571, loss_rpn_cls: 0.0141, loss_rpn_bbox: 0.0043, loss_cls: 0.0341, acc: 99.6875, loss_bbox: 0.2863, loss: 0.3388\n",
      "2022-05-26 15:39:30,530 - mmfewshot - INFO - Iter [52700/100000]\tlr: 1.000e-04, eta: 3:58:18, time: 0.268, data_time: 0.012, memory: 4571, loss_rpn_cls: 0.0075, loss_rpn_bbox: 0.0038, loss_cls: 0.0477, acc: 99.6172, loss_bbox: 0.2277, loss: 0.2867\n",
      "2022-05-26 15:39:43,948 - mmfewshot - INFO - Iter [52750/100000]\tlr: 1.000e-04, eta: 3:58:01, time: 0.268, data_time: 0.013, memory: 4571, loss_rpn_cls: 0.0117, loss_rpn_bbox: 0.0062, loss_cls: 0.0448, acc: 99.5859, loss_bbox: 0.2647, loss: 0.3274\n",
      "2022-05-26 15:39:57,458 - mmfewshot - INFO - Iter [52800/100000]\tlr: 1.000e-04, eta: 3:57:44, time: 0.270, data_time: 0.013, memory: 4571, loss_rpn_cls: 0.0092, loss_rpn_bbox: 0.0047, loss_cls: 0.0421, acc: 99.6328, loss_bbox: 0.2696, loss: 0.3256\n",
      "2022-05-26 15:40:10,913 - mmfewshot - INFO - Iter [52850/100000]\tlr: 1.000e-04, eta: 3:57:28, time: 0.269, data_time: 0.013, memory: 4571, loss_rpn_cls: 0.0105, loss_rpn_bbox: 0.0081, loss_cls: 0.0389, acc: 99.6328, loss_bbox: 0.2800, loss: 0.3375\n",
      "2022-05-26 15:40:24,429 - mmfewshot - INFO - Iter [52900/100000]\tlr: 1.000e-04, eta: 3:57:11, time: 0.270, data_time: 0.012, memory: 4571, loss_rpn_cls: 0.0131, loss_rpn_bbox: 0.0047, loss_cls: 0.0486, acc: 99.5625, loss_bbox: 0.2739, loss: 0.3403\n",
      "2022-05-26 15:40:37,886 - mmfewshot - INFO - Iter [52950/100000]\tlr: 1.000e-04, eta: 3:56:55, time: 0.269, data_time: 0.012, memory: 4571, loss_rpn_cls: 0.0100, loss_rpn_bbox: 0.0059, loss_cls: 0.0444, acc: 99.6250, loss_bbox: 0.2833, loss: 0.3438\n",
      "2022-05-26 15:40:51,221 - mmfewshot - INFO - Exp name: attention-rpn_r50_c4_tb-split2_1shot-fine-tuning-momentum-09.py\n",
      "2022-05-26 15:40:51,223 - mmfewshot - INFO - Iter [53000/100000]\tlr: 1.000e-04, eta: 3:56:38, time: 0.267, data_time: 0.012, memory: 4571, loss_rpn_cls: 0.0100, loss_rpn_bbox: 0.0037, loss_cls: 0.0411, acc: 99.7109, loss_bbox: 0.2227, loss: 0.2774\n",
      "2022-05-26 15:40:51,227 - mmdet - INFO - starting model initialization...\n"
     ]
    },
    {
     "name": "stdout",
     "output_type": "stream",
     "text": [
      "[>>>>>>>>>>>>>>>>>>>>>>>>>>>>>] 850/850, 77.1 task/s, elapsed: 11s, ETA:     0s"
     ]
    },
    {
     "name": "stderr",
     "output_type": "stream",
     "text": [
      "2022-05-26 15:41:02,334 - mmdet - INFO - model initialization done.\n"
     ]
    },
    {
     "name": "stdout",
     "output_type": "stream",
     "text": [
      "[>>>>>>>>>>>>>>>>>>>>>>>>>>>>>] 300/300, 12.7 task/s, elapsed: 24s, ETA:     0s\n",
      "---------------iou_thr: 0.5---------------\n"
     ]
    },
    {
     "name": "stderr",
     "output_type": "stream",
     "text": [
      "2022-05-26 15:41:26,270 - mmfewshot - INFO - \n",
      "+---------+-----+------+--------+-------+\n",
      "| class   | gts | dets | recall | ap    |\n",
      "+---------+-----+------+--------+-------+\n",
      "| fanta   | 291 | 2046 | 0.900  | 0.690 |\n",
      "| Mirinda | 111 | 657  | 0.748  | 0.585 |\n",
      "+---------+-----+------+--------+-------+\n",
      "| mAP     |     |      |        | 0.637 |\n",
      "+---------+-----+------+--------+-------+\n",
      "2022-05-26 15:41:26,273 - mmfewshot - INFO - BASE_CLASSES_SPLIT2 mAP: 0.6370944380760193\n",
      "2022-05-26 15:41:26,273 - mmfewshot - INFO - NOVEL_CLASSES_SPLIT2 mAP: nan\n",
      "2022-05-26 15:41:26,276 - mmfewshot - INFO - Exp name: attention-rpn_r50_c4_tb-split2_1shot-fine-tuning-momentum-09.py\n",
      "2022-05-26 15:41:26,277 - mmfewshot - INFO - Iter(val) [300]\tAP50: 0.6370, BASE_CLASSES_SPLIT2: AP50: 0.6370, NOVEL_CLASSES_SPLIT2: AP50: nan, mAP: 0.6371\n",
      "2022-05-26 15:41:39,619 - mmfewshot - INFO - Iter [53050/100000]\tlr: 1.000e-04, eta: 3:56:52, time: 0.968, data_time: 0.713, memory: 4571, loss_rpn_cls: 0.0149, loss_rpn_bbox: 0.0086, loss_cls: 0.0503, acc: 99.6797, loss_bbox: 0.3168, loss: 0.3905\n",
      "2022-05-26 15:41:52,961 - mmfewshot - INFO - Iter [53100/100000]\tlr: 1.000e-04, eta: 3:56:36, time: 0.267, data_time: 0.011, memory: 4571, loss_rpn_cls: 0.0145, loss_rpn_bbox: 0.0060, loss_cls: 0.0451, acc: 99.5859, loss_bbox: 0.2473, loss: 0.3129\n",
      "2022-05-26 15:42:06,498 - mmfewshot - INFO - Iter [53150/100000]\tlr: 1.000e-04, eta: 3:56:19, time: 0.271, data_time: 0.012, memory: 4571, loss_rpn_cls: 0.0191, loss_rpn_bbox: 0.0085, loss_cls: 0.0339, acc: 99.6797, loss_bbox: 0.2930, loss: 0.3545\n",
      "2022-05-26 15:42:20,074 - mmfewshot - INFO - Iter [53200/100000]\tlr: 1.000e-04, eta: 3:56:03, time: 0.271, data_time: 0.013, memory: 4571, loss_rpn_cls: 0.0116, loss_rpn_bbox: 0.0048, loss_cls: 0.0520, acc: 99.5000, loss_bbox: 0.2977, loss: 0.3661\n",
      "2022-05-26 15:42:33,582 - mmfewshot - INFO - Iter [53250/100000]\tlr: 1.000e-04, eta: 3:55:46, time: 0.270, data_time: 0.012, memory: 4571, loss_rpn_cls: 0.0117, loss_rpn_bbox: 0.0079, loss_cls: 0.0546, acc: 99.5156, loss_bbox: 0.3204, loss: 0.3946\n",
      "2022-05-26 15:42:47,029 - mmfewshot - INFO - Iter [53300/100000]\tlr: 1.000e-04, eta: 3:55:29, time: 0.269, data_time: 0.012, memory: 4571, loss_rpn_cls: 0.0189, loss_rpn_bbox: 0.0073, loss_cls: 0.0340, acc: 99.6719, loss_bbox: 0.2567, loss: 0.3170\n",
      "2022-05-26 15:43:00,344 - mmfewshot - INFO - Iter [53350/100000]\tlr: 1.000e-04, eta: 3:55:13, time: 0.267, data_time: 0.011, memory: 4571, loss_rpn_cls: 0.0135, loss_rpn_bbox: 0.0059, loss_cls: 0.0546, acc: 99.5469, loss_bbox: 0.2829, loss: 0.3569\n",
      "2022-05-26 15:43:13,811 - mmfewshot - INFO - Iter [53400/100000]\tlr: 1.000e-04, eta: 3:54:56, time: 0.269, data_time: 0.013, memory: 4571, loss_rpn_cls: 0.0106, loss_rpn_bbox: 0.0054, loss_cls: 0.0412, acc: 99.5625, loss_bbox: 0.2785, loss: 0.3356\n",
      "2022-05-26 15:43:27,126 - mmfewshot - INFO - Iter [53450/100000]\tlr: 1.000e-04, eta: 3:54:39, time: 0.266, data_time: 0.012, memory: 4571, loss_rpn_cls: 0.0102, loss_rpn_bbox: 0.0059, loss_cls: 0.0456, acc: 99.6406, loss_bbox: 0.2662, loss: 0.3280\n",
      "2022-05-26 15:43:40,546 - mmfewshot - INFO - Iter [53500/100000]\tlr: 1.000e-04, eta: 3:54:23, time: 0.268, data_time: 0.011, memory: 4571, loss_rpn_cls: 0.0106, loss_rpn_bbox: 0.0039, loss_cls: 0.0412, acc: 99.6250, loss_bbox: 0.2441, loss: 0.2997\n",
      "2022-05-26 15:43:54,059 - mmfewshot - INFO - Iter [53550/100000]\tlr: 1.000e-04, eta: 3:54:06, time: 0.271, data_time: 0.014, memory: 4571, loss_rpn_cls: 0.0087, loss_rpn_bbox: 0.0043, loss_cls: 0.0564, acc: 99.6094, loss_bbox: 0.2544, loss: 0.3238\n",
      "2022-05-26 15:44:07,534 - mmfewshot - INFO - Iter [53600/100000]\tlr: 1.000e-04, eta: 3:53:50, time: 0.270, data_time: 0.013, memory: 4571, loss_rpn_cls: 0.0101, loss_rpn_bbox: 0.0040, loss_cls: 0.0545, acc: 99.5938, loss_bbox: 0.2724, loss: 0.3410\n",
      "2022-05-26 15:44:20,903 - mmfewshot - INFO - Iter [53650/100000]\tlr: 1.000e-04, eta: 3:53:33, time: 0.267, data_time: 0.012, memory: 4571, loss_rpn_cls: 0.0097, loss_rpn_bbox: 0.0048, loss_cls: 0.0506, acc: 99.5234, loss_bbox: 0.2697, loss: 0.3348\n",
      "2022-05-26 15:44:34,262 - mmfewshot - INFO - Iter [53700/100000]\tlr: 1.000e-04, eta: 3:53:16, time: 0.267, data_time: 0.010, memory: 4571, loss_rpn_cls: 0.0085, loss_rpn_bbox: 0.0081, loss_cls: 0.0421, acc: 99.6094, loss_bbox: 0.2594, loss: 0.3180\n",
      "2022-05-26 15:44:47,480 - mmfewshot - INFO - Iter [53750/100000]\tlr: 1.000e-04, eta: 3:53:00, time: 0.264, data_time: 0.010, memory: 4571, loss_rpn_cls: 0.0168, loss_rpn_bbox: 0.0074, loss_cls: 0.0649, acc: 99.4688, loss_bbox: 0.2891, loss: 0.3782\n",
      "2022-05-26 15:45:00,840 - mmfewshot - INFO - Iter [53800/100000]\tlr: 1.000e-04, eta: 3:52:43, time: 0.268, data_time: 0.013, memory: 4571, loss_rpn_cls: 0.0164, loss_rpn_bbox: 0.0101, loss_cls: 0.0452, acc: 99.5000, loss_bbox: 0.3017, loss: 0.3734\n",
      "2022-05-26 15:45:14,369 - mmfewshot - INFO - Iter [53850/100000]\tlr: 1.000e-04, eta: 3:52:27, time: 0.270, data_time: 0.012, memory: 4571, loss_rpn_cls: 0.0103, loss_rpn_bbox: 0.0059, loss_cls: 0.0568, acc: 99.5781, loss_bbox: 0.2808, loss: 0.3538\n",
      "2022-05-26 15:45:27,742 - mmfewshot - INFO - Iter [53900/100000]\tlr: 1.000e-04, eta: 3:52:10, time: 0.267, data_time: 0.012, memory: 4571, loss_rpn_cls: 0.0119, loss_rpn_bbox: 0.0061, loss_cls: 0.0426, acc: 99.5781, loss_bbox: 0.2779, loss: 0.3386\n",
      "2022-05-26 15:45:41,091 - mmfewshot - INFO - Iter [53950/100000]\tlr: 1.000e-04, eta: 3:51:53, time: 0.267, data_time: 0.011, memory: 4571, loss_rpn_cls: 0.0122, loss_rpn_bbox: 0.0059, loss_cls: 0.0660, acc: 99.5938, loss_bbox: 0.2664, loss: 0.3505\n",
      "2022-05-26 15:45:54,649 - mmfewshot - INFO - Exp name: attention-rpn_r50_c4_tb-split2_1shot-fine-tuning-momentum-09.py\n",
      "2022-05-26 15:45:54,651 - mmfewshot - INFO - Iter [54000/100000]\tlr: 1.000e-04, eta: 3:51:37, time: 0.271, data_time: 0.013, memory: 4571, loss_rpn_cls: 0.0109, loss_rpn_bbox: 0.0061, loss_cls: 0.0497, acc: 99.5781, loss_bbox: 0.2585, loss: 0.3252\n",
      "2022-05-26 15:45:54,657 - mmdet - INFO - starting model initialization...\n"
     ]
    },
    {
     "name": "stdout",
     "output_type": "stream",
     "text": [
      "[>>>>>>>>>>>>>>>>>>>>>>>>>>>>>] 850/850, 79.0 task/s, elapsed: 11s, ETA:     0s"
     ]
    },
    {
     "name": "stderr",
     "output_type": "stream",
     "text": [
      "2022-05-26 15:46:05,484 - mmdet - INFO - model initialization done.\n"
     ]
    },
    {
     "name": "stdout",
     "output_type": "stream",
     "text": [
      "[>>>>>>>>>>>>>>>>>>>>>>>>>>>>>] 300/300, 12.7 task/s, elapsed: 24s, ETA:     0s\n",
      "---------------iou_thr: 0.5---------------\n"
     ]
    },
    {
     "name": "stderr",
     "output_type": "stream",
     "text": [
      "2022-05-26 15:46:29,503 - mmfewshot - INFO - \n",
      "+---------+-----+------+--------+-------+\n",
      "| class   | gts | dets | recall | ap    |\n",
      "+---------+-----+------+--------+-------+\n",
      "| fanta   | 291 | 1782 | 0.893  | 0.713 |\n",
      "| Mirinda | 111 | 827  | 0.766  | 0.602 |\n",
      "+---------+-----+------+--------+-------+\n",
      "| mAP     |     |      |        | 0.657 |\n",
      "+---------+-----+------+--------+-------+\n",
      "2022-05-26 15:46:29,505 - mmfewshot - INFO - BASE_CLASSES_SPLIT2 mAP: 0.6573082208633423\n",
      "2022-05-26 15:46:29,506 - mmfewshot - INFO - NOVEL_CLASSES_SPLIT2 mAP: nan\n",
      "2022-05-26 15:46:29,509 - mmfewshot - INFO - Exp name: attention-rpn_r50_c4_tb-split2_1shot-fine-tuning-momentum-09.py\n",
      "2022-05-26 15:46:29,510 - mmfewshot - INFO - Iter(val) [300]\tAP50: 0.6570, BASE_CLASSES_SPLIT2: AP50: 0.6570, NOVEL_CLASSES_SPLIT2: AP50: nan, mAP: 0.6573\n",
      "2022-05-26 15:46:42,819 - mmfewshot - INFO - Iter [54050/100000]\tlr: 1.000e-04, eta: 3:51:50, time: 0.963, data_time: 0.710, memory: 4571, loss_rpn_cls: 0.0084, loss_rpn_bbox: 0.0057, loss_cls: 0.0433, acc: 99.5625, loss_bbox: 0.2808, loss: 0.3381\n",
      "2022-05-26 15:46:56,185 - mmfewshot - INFO - Iter [54100/100000]\tlr: 1.000e-04, eta: 3:51:33, time: 0.268, data_time: 0.013, memory: 4571, loss_rpn_cls: 0.0139, loss_rpn_bbox: 0.0083, loss_cls: 0.0408, acc: 99.6172, loss_bbox: 0.2801, loss: 0.3431\n",
      "2022-05-26 15:47:09,516 - mmfewshot - INFO - Iter [54150/100000]\tlr: 1.000e-04, eta: 3:51:17, time: 0.267, data_time: 0.012, memory: 4571, loss_rpn_cls: 0.0056, loss_rpn_bbox: 0.0044, loss_cls: 0.0346, acc: 99.5938, loss_bbox: 0.3107, loss: 0.3553\n",
      "2022-05-26 15:47:22,827 - mmfewshot - INFO - Iter [54200/100000]\tlr: 1.000e-04, eta: 3:51:00, time: 0.266, data_time: 0.012, memory: 4571, loss_rpn_cls: 0.0090, loss_rpn_bbox: 0.0051, loss_cls: 0.0586, acc: 99.4922, loss_bbox: 0.2764, loss: 0.3491\n",
      "2022-05-26 15:47:36,227 - mmfewshot - INFO - Iter [54250/100000]\tlr: 1.000e-04, eta: 3:50:43, time: 0.268, data_time: 0.013, memory: 4571, loss_rpn_cls: 0.0110, loss_rpn_bbox: 0.0064, loss_cls: 0.0416, acc: 99.6875, loss_bbox: 0.2976, loss: 0.3566\n",
      "2022-05-26 15:47:49,520 - mmfewshot - INFO - Iter [54300/100000]\tlr: 1.000e-04, eta: 3:50:27, time: 0.266, data_time: 0.011, memory: 4571, loss_rpn_cls: 0.0127, loss_rpn_bbox: 0.0063, loss_cls: 0.0486, acc: 99.5703, loss_bbox: 0.3250, loss: 0.3926\n",
      "2022-05-26 15:48:02,727 - mmfewshot - INFO - Iter [54350/100000]\tlr: 1.000e-04, eta: 3:50:10, time: 0.264, data_time: 0.010, memory: 4571, loss_rpn_cls: 0.0109, loss_rpn_bbox: 0.0051, loss_cls: 0.0420, acc: 99.5781, loss_bbox: 0.2571, loss: 0.3151\n",
      "2022-05-26 15:48:16,127 - mmfewshot - INFO - Iter [54400/100000]\tlr: 1.000e-04, eta: 3:49:53, time: 0.268, data_time: 0.013, memory: 4571, loss_rpn_cls: 0.0053, loss_rpn_bbox: 0.0042, loss_cls: 0.0409, acc: 99.6719, loss_bbox: 0.2663, loss: 0.3167\n",
      "2022-05-26 15:48:29,603 - mmfewshot - INFO - Iter [54450/100000]\tlr: 1.000e-04, eta: 3:49:37, time: 0.270, data_time: 0.012, memory: 4571, loss_rpn_cls: 0.0139, loss_rpn_bbox: 0.0069, loss_cls: 0.0399, acc: 99.7031, loss_bbox: 0.2954, loss: 0.3562\n",
      "2022-05-26 15:48:42,935 - mmfewshot - INFO - Iter [54500/100000]\tlr: 1.000e-04, eta: 3:49:20, time: 0.267, data_time: 0.012, memory: 4571, loss_rpn_cls: 0.0100, loss_rpn_bbox: 0.0048, loss_cls: 0.0455, acc: 99.5938, loss_bbox: 0.2795, loss: 0.3397\n",
      "2022-05-26 15:48:56,404 - mmfewshot - INFO - Iter [54550/100000]\tlr: 1.000e-04, eta: 3:49:04, time: 0.269, data_time: 0.012, memory: 4571, loss_rpn_cls: 0.0060, loss_rpn_bbox: 0.0037, loss_cls: 0.0495, acc: 99.6328, loss_bbox: 0.2607, loss: 0.3198\n",
      "2022-05-26 15:49:09,872 - mmfewshot - INFO - Iter [54600/100000]\tlr: 1.000e-04, eta: 3:48:47, time: 0.269, data_time: 0.013, memory: 4571, loss_rpn_cls: 0.0175, loss_rpn_bbox: 0.0074, loss_cls: 0.0432, acc: 99.5703, loss_bbox: 0.2982, loss: 0.3663\n",
      "2022-05-26 15:49:23,350 - mmfewshot - INFO - Iter [54650/100000]\tlr: 1.000e-04, eta: 3:48:31, time: 0.270, data_time: 0.013, memory: 4571, loss_rpn_cls: 0.0078, loss_rpn_bbox: 0.0038, loss_cls: 0.0407, acc: 99.5859, loss_bbox: 0.2782, loss: 0.3305\n",
      "2022-05-26 15:49:36,764 - mmfewshot - INFO - Iter [54700/100000]\tlr: 1.000e-04, eta: 3:48:14, time: 0.268, data_time: 0.013, memory: 4571, loss_rpn_cls: 0.0194, loss_rpn_bbox: 0.0081, loss_cls: 0.0399, acc: 99.6016, loss_bbox: 0.2679, loss: 0.3353\n",
      "2022-05-26 15:49:50,277 - mmfewshot - INFO - Iter [54750/100000]\tlr: 1.000e-04, eta: 3:47:58, time: 0.270, data_time: 0.012, memory: 4571, loss_rpn_cls: 0.0129, loss_rpn_bbox: 0.0060, loss_cls: 0.0424, acc: 99.5547, loss_bbox: 0.3080, loss: 0.3693\n",
      "2022-05-26 15:50:03,700 - mmfewshot - INFO - Iter [54800/100000]\tlr: 1.000e-04, eta: 3:47:41, time: 0.268, data_time: 0.012, memory: 4571, loss_rpn_cls: 0.0116, loss_rpn_bbox: 0.0065, loss_cls: 0.0658, acc: 99.3750, loss_bbox: 0.2718, loss: 0.3557\n",
      "2022-05-26 15:50:17,137 - mmfewshot - INFO - Iter [54850/100000]\tlr: 1.000e-04, eta: 3:47:25, time: 0.269, data_time: 0.012, memory: 4571, loss_rpn_cls: 0.0147, loss_rpn_bbox: 0.0114, loss_cls: 0.0462, acc: 99.6562, loss_bbox: 0.2731, loss: 0.3455\n",
      "2022-05-26 15:50:30,647 - mmfewshot - INFO - Iter [54900/100000]\tlr: 1.000e-04, eta: 3:47:08, time: 0.270, data_time: 0.013, memory: 4571, loss_rpn_cls: 0.0092, loss_rpn_bbox: 0.0050, loss_cls: 0.0396, acc: 99.5859, loss_bbox: 0.2869, loss: 0.3408\n",
      "2022-05-26 15:50:44,091 - mmfewshot - INFO - Iter [54950/100000]\tlr: 1.000e-04, eta: 3:46:52, time: 0.269, data_time: 0.012, memory: 4571, loss_rpn_cls: 0.0111, loss_rpn_bbox: 0.0074, loss_cls: 0.0352, acc: 99.6328, loss_bbox: 0.2793, loss: 0.3329\n",
      "2022-05-26 15:50:57,482 - mmfewshot - INFO - Exp name: attention-rpn_r50_c4_tb-split2_1shot-fine-tuning-momentum-09.py\n",
      "2022-05-26 15:50:57,484 - mmfewshot - INFO - Iter [55000/100000]\tlr: 1.000e-04, eta: 3:46:35, time: 0.268, data_time: 0.012, memory: 4571, loss_rpn_cls: 0.0116, loss_rpn_bbox: 0.0057, loss_cls: 0.0428, acc: 99.5078, loss_bbox: 0.3110, loss: 0.3712\n",
      "2022-05-26 15:50:57,489 - mmdet - INFO - starting model initialization...\n"
     ]
    },
    {
     "name": "stdout",
     "output_type": "stream",
     "text": [
      "[>>>>>>>>>>>>>>>>>>>>>>>>>>>>>] 850/850, 79.0 task/s, elapsed: 11s, ETA:     0s"
     ]
    },
    {
     "name": "stderr",
     "output_type": "stream",
     "text": [
      "2022-05-26 15:51:08,312 - mmdet - INFO - model initialization done.\n"
     ]
    },
    {
     "name": "stdout",
     "output_type": "stream",
     "text": [
      "[>>>>>>>>>>>>>>>>>>>>>>>>>>>>>] 300/300, 12.7 task/s, elapsed: 24s, ETA:     0s\n",
      "---------------iou_thr: 0.5---------------\n"
     ]
    },
    {
     "name": "stderr",
     "output_type": "stream",
     "text": [
      "2022-05-26 15:51:32,323 - mmfewshot - INFO - \n",
      "+---------+-----+------+--------+-------+\n",
      "| class   | gts | dets | recall | ap    |\n",
      "+---------+-----+------+--------+-------+\n",
      "| fanta   | 291 | 1841 | 0.900  | 0.734 |\n",
      "| Mirinda | 111 | 644  | 0.757  | 0.607 |\n",
      "+---------+-----+------+--------+-------+\n",
      "| mAP     |     |      |        | 0.671 |\n",
      "+---------+-----+------+--------+-------+\n",
      "2022-05-26 15:51:32,325 - mmfewshot - INFO - BASE_CLASSES_SPLIT2 mAP: 0.6708283424377441\n",
      "2022-05-26 15:51:32,327 - mmfewshot - INFO - NOVEL_CLASSES_SPLIT2 mAP: nan\n",
      "2022-05-26 15:51:32,331 - mmfewshot - INFO - Exp name: attention-rpn_r50_c4_tb-split2_1shot-fine-tuning-momentum-09.py\n",
      "2022-05-26 15:51:32,332 - mmfewshot - INFO - Iter(val) [300]\tAP50: 0.6710, BASE_CLASSES_SPLIT2: AP50: 0.6710, NOVEL_CLASSES_SPLIT2: AP50: nan, mAP: 0.6708\n",
      "2022-05-26 15:51:45,731 - mmfewshot - INFO - Iter [55050/100000]\tlr: 1.000e-04, eta: 3:46:47, time: 0.965, data_time: 0.709, memory: 4571, loss_rpn_cls: 0.0076, loss_rpn_bbox: 0.0036, loss_cls: 0.0434, acc: 99.6250, loss_bbox: 0.2352, loss: 0.2898\n",
      "2022-05-26 15:51:59,123 - mmfewshot - INFO - Iter [55100/100000]\tlr: 1.000e-04, eta: 3:46:31, time: 0.268, data_time: 0.012, memory: 4571, loss_rpn_cls: 0.0103, loss_rpn_bbox: 0.0045, loss_cls: 0.0396, acc: 99.5938, loss_bbox: 0.3024, loss: 0.3568\n",
      "2022-05-26 15:52:12,547 - mmfewshot - INFO - Iter [55150/100000]\tlr: 1.000e-04, eta: 3:46:14, time: 0.268, data_time: 0.012, memory: 4571, loss_rpn_cls: 0.0100, loss_rpn_bbox: 0.0069, loss_cls: 0.0430, acc: 99.5625, loss_bbox: 0.2816, loss: 0.3415\n",
      "2022-05-26 15:52:26,027 - mmfewshot - INFO - Iter [55200/100000]\tlr: 1.000e-04, eta: 3:45:58, time: 0.270, data_time: 0.012, memory: 4571, loss_rpn_cls: 0.0097, loss_rpn_bbox: 0.0049, loss_cls: 0.0371, acc: 99.6406, loss_bbox: 0.3077, loss: 0.3593\n",
      "2022-05-26 15:52:39,446 - mmfewshot - INFO - Iter [55250/100000]\tlr: 1.000e-04, eta: 3:45:41, time: 0.268, data_time: 0.013, memory: 4571, loss_rpn_cls: 0.0093, loss_rpn_bbox: 0.0053, loss_cls: 0.0404, acc: 99.6641, loss_bbox: 0.2799, loss: 0.3350\n",
      "2022-05-26 15:52:52,931 - mmfewshot - INFO - Iter [55300/100000]\tlr: 1.000e-04, eta: 3:45:25, time: 0.270, data_time: 0.014, memory: 4571, loss_rpn_cls: 0.0107, loss_rpn_bbox: 0.0043, loss_cls: 0.0535, acc: 99.6016, loss_bbox: 0.2679, loss: 0.3364\n",
      "2022-05-26 15:53:06,445 - mmfewshot - INFO - Iter [55350/100000]\tlr: 1.000e-04, eta: 3:45:08, time: 0.270, data_time: 0.012, memory: 4571, loss_rpn_cls: 0.0126, loss_rpn_bbox: 0.0074, loss_cls: 0.0382, acc: 99.6250, loss_bbox: 0.3018, loss: 0.3600\n",
      "2022-05-26 15:53:19,782 - mmfewshot - INFO - Iter [55400/100000]\tlr: 1.000e-04, eta: 3:44:52, time: 0.267, data_time: 0.012, memory: 4571, loss_rpn_cls: 0.0096, loss_rpn_bbox: 0.0059, loss_cls: 0.0342, acc: 99.6484, loss_bbox: 0.3198, loss: 0.3695\n",
      "2022-05-26 15:53:33,335 - mmfewshot - INFO - Iter [55450/100000]\tlr: 1.000e-04, eta: 3:44:36, time: 0.271, data_time: 0.013, memory: 4571, loss_rpn_cls: 0.0119, loss_rpn_bbox: 0.0055, loss_cls: 0.0507, acc: 99.4844, loss_bbox: 0.2824, loss: 0.3505\n",
      "2022-05-26 15:53:46,675 - mmfewshot - INFO - Iter [55500/100000]\tlr: 1.000e-04, eta: 3:44:19, time: 0.267, data_time: 0.011, memory: 4571, loss_rpn_cls: 0.0070, loss_rpn_bbox: 0.0032, loss_cls: 0.0487, acc: 99.6719, loss_bbox: 0.2371, loss: 0.2961\n",
      "2022-05-26 15:54:00,230 - mmfewshot - INFO - Iter [55550/100000]\tlr: 1.000e-04, eta: 3:44:03, time: 0.271, data_time: 0.013, memory: 4571, loss_rpn_cls: 0.0081, loss_rpn_bbox: 0.0042, loss_cls: 0.0426, acc: 99.6328, loss_bbox: 0.2491, loss: 0.3040\n",
      "2022-05-26 15:54:13,643 - mmfewshot - INFO - Iter [55600/100000]\tlr: 1.000e-04, eta: 3:43:46, time: 0.268, data_time: 0.012, memory: 4571, loss_rpn_cls: 0.0126, loss_rpn_bbox: 0.0080, loss_cls: 0.0500, acc: 99.4844, loss_bbox: 0.2573, loss: 0.3278\n",
      "2022-05-26 15:54:27,150 - mmfewshot - INFO - Iter [55650/100000]\tlr: 1.000e-04, eta: 3:43:30, time: 0.270, data_time: 0.013, memory: 4571, loss_rpn_cls: 0.0154, loss_rpn_bbox: 0.0061, loss_cls: 0.0544, acc: 99.6328, loss_bbox: 0.2804, loss: 0.3563\n",
      "2022-05-26 15:54:40,619 - mmfewshot - INFO - Iter [55700/100000]\tlr: 1.000e-04, eta: 3:43:13, time: 0.270, data_time: 0.013, memory: 4571, loss_rpn_cls: 0.0081, loss_rpn_bbox: 0.0045, loss_cls: 0.0548, acc: 99.4844, loss_bbox: 0.2575, loss: 0.3249\n",
      "2022-05-26 15:54:54,170 - mmfewshot - INFO - Iter [55750/100000]\tlr: 1.000e-04, eta: 3:42:57, time: 0.271, data_time: 0.013, memory: 4571, loss_rpn_cls: 0.0111, loss_rpn_bbox: 0.0063, loss_cls: 0.0411, acc: 99.6641, loss_bbox: 0.2827, loss: 0.3412\n",
      "2022-05-26 15:55:07,697 - mmfewshot - INFO - Iter [55800/100000]\tlr: 1.000e-04, eta: 3:42:41, time: 0.271, data_time: 0.013, memory: 4571, loss_rpn_cls: 0.0173, loss_rpn_bbox: 0.0074, loss_cls: 0.0406, acc: 99.6016, loss_bbox: 0.3033, loss: 0.3687\n",
      "2022-05-26 15:55:21,075 - mmfewshot - INFO - Iter [55850/100000]\tlr: 1.000e-04, eta: 3:42:24, time: 0.268, data_time: 0.012, memory: 4571, loss_rpn_cls: 0.0182, loss_rpn_bbox: 0.0084, loss_cls: 0.0630, acc: 99.4844, loss_bbox: 0.2759, loss: 0.3655\n",
      "2022-05-26 15:55:34,600 - mmfewshot - INFO - Iter [55900/100000]\tlr: 1.000e-04, eta: 3:42:08, time: 0.270, data_time: 0.013, memory: 4571, loss_rpn_cls: 0.0112, loss_rpn_bbox: 0.0055, loss_cls: 0.0442, acc: 99.5078, loss_bbox: 0.2929, loss: 0.3538\n",
      "2022-05-26 15:55:47,959 - mmfewshot - INFO - Iter [55950/100000]\tlr: 1.000e-04, eta: 3:41:51, time: 0.267, data_time: 0.012, memory: 4571, loss_rpn_cls: 0.0113, loss_rpn_bbox: 0.0062, loss_cls: 0.0366, acc: 99.6484, loss_bbox: 0.3028, loss: 0.3569\n",
      "2022-05-26 15:56:01,148 - mmfewshot - INFO - Exp name: attention-rpn_r50_c4_tb-split2_1shot-fine-tuning-momentum-09.py\n",
      "2022-05-26 15:56:01,149 - mmfewshot - INFO - Iter [56000/100000]\tlr: 1.000e-04, eta: 3:41:35, time: 0.264, data_time: 0.010, memory: 4571, loss_rpn_cls: 0.0142, loss_rpn_bbox: 0.0066, loss_cls: 0.0477, acc: 99.4922, loss_bbox: 0.2905, loss: 0.3590\n",
      "2022-05-26 15:56:01,154 - mmdet - INFO - starting model initialization...\n"
     ]
    },
    {
     "name": "stdout",
     "output_type": "stream",
     "text": [
      "[>>>>>>>>>>>>>>>>>>>>>>>>>>>>>] 850/850, 74.4 task/s, elapsed: 11s, ETA:     0s"
     ]
    },
    {
     "name": "stderr",
     "output_type": "stream",
     "text": [
      "2022-05-26 15:56:12,686 - mmdet - INFO - model initialization done.\n"
     ]
    },
    {
     "name": "stdout",
     "output_type": "stream",
     "text": [
      "[>>>>>>>>>>>>>>>>>>>>>>>>>>>>>] 300/300, 12.6 task/s, elapsed: 24s, ETA:     0s\n",
      "---------------iou_thr: 0.5---------------\n"
     ]
    },
    {
     "name": "stderr",
     "output_type": "stream",
     "text": [
      "2022-05-26 15:56:36,927 - mmfewshot - INFO - \n",
      "+---------+-----+------+--------+-------+\n",
      "| class   | gts | dets | recall | ap    |\n",
      "+---------+-----+------+--------+-------+\n",
      "| fanta   | 291 | 1409 | 0.880  | 0.703 |\n",
      "| Mirinda | 111 | 533  | 0.748  | 0.541 |\n",
      "+---------+-----+------+--------+-------+\n",
      "| mAP     |     |      |        | 0.622 |\n",
      "+---------+-----+------+--------+-------+\n",
      "2022-05-26 15:56:36,930 - mmfewshot - INFO - BASE_CLASSES_SPLIT2 mAP: 0.6220160722732544\n",
      "2022-05-26 15:56:36,931 - mmfewshot - INFO - NOVEL_CLASSES_SPLIT2 mAP: nan\n",
      "2022-05-26 15:56:36,935 - mmfewshot - INFO - Exp name: attention-rpn_r50_c4_tb-split2_1shot-fine-tuning-momentum-09.py\n",
      "2022-05-26 15:56:36,936 - mmfewshot - INFO - Iter(val) [300]\tAP50: 0.6220, BASE_CLASSES_SPLIT2: AP50: 0.6220, NOVEL_CLASSES_SPLIT2: AP50: nan, mAP: 0.6220\n",
      "2022-05-26 15:56:50,338 - mmfewshot - INFO - Iter [56050/100000]\tlr: 1.000e-04, eta: 3:41:46, time: 0.984, data_time: 0.728, memory: 4571, loss_rpn_cls: 0.0104, loss_rpn_bbox: 0.0049, loss_cls: 0.0375, acc: 99.6328, loss_bbox: 0.2450, loss: 0.2979\n",
      "2022-05-26 15:57:03,819 - mmfewshot - INFO - Iter [56100/100000]\tlr: 1.000e-04, eta: 3:41:30, time: 0.270, data_time: 0.013, memory: 4571, loss_rpn_cls: 0.0058, loss_rpn_bbox: 0.0033, loss_cls: 0.0543, acc: 99.5469, loss_bbox: 0.2866, loss: 0.3500\n",
      "2022-05-26 15:57:17,285 - mmfewshot - INFO - Iter [56150/100000]\tlr: 1.000e-04, eta: 3:41:13, time: 0.269, data_time: 0.013, memory: 4571, loss_rpn_cls: 0.0112, loss_rpn_bbox: 0.0055, loss_cls: 0.0439, acc: 99.6562, loss_bbox: 0.2497, loss: 0.3102\n",
      "2022-05-26 15:57:30,712 - mmfewshot - INFO - Iter [56200/100000]\tlr: 1.000e-04, eta: 3:40:57, time: 0.269, data_time: 0.013, memory: 4571, loss_rpn_cls: 0.0095, loss_rpn_bbox: 0.0043, loss_cls: 0.0717, acc: 99.4766, loss_bbox: 0.2640, loss: 0.3495\n",
      "2022-05-26 15:57:44,154 - mmfewshot - INFO - Iter [56250/100000]\tlr: 1.000e-04, eta: 3:40:40, time: 0.269, data_time: 0.013, memory: 4571, loss_rpn_cls: 0.0105, loss_rpn_bbox: 0.0094, loss_cls: 0.0510, acc: 99.6250, loss_bbox: 0.2893, loss: 0.3601\n",
      "2022-05-26 15:57:57,499 - mmfewshot - INFO - Iter [56300/100000]\tlr: 1.000e-04, eta: 3:40:24, time: 0.267, data_time: 0.012, memory: 4571, loss_rpn_cls: 0.0114, loss_rpn_bbox: 0.0064, loss_cls: 0.0664, acc: 99.4766, loss_bbox: 0.2785, loss: 0.3627\n",
      "2022-05-26 15:58:10,914 - mmfewshot - INFO - Iter [56350/100000]\tlr: 1.000e-04, eta: 3:40:07, time: 0.268, data_time: 0.012, memory: 4571, loss_rpn_cls: 0.0098, loss_rpn_bbox: 0.0043, loss_cls: 0.0344, acc: 99.6797, loss_bbox: 0.2908, loss: 0.3393\n",
      "2022-05-26 15:58:24,185 - mmfewshot - INFO - Iter [56400/100000]\tlr: 1.000e-04, eta: 3:39:51, time: 0.266, data_time: 0.011, memory: 4571, loss_rpn_cls: 0.0119, loss_rpn_bbox: 0.0084, loss_cls: 0.0459, acc: 99.6172, loss_bbox: 0.3029, loss: 0.3692\n",
      "2022-05-26 15:58:37,478 - mmfewshot - INFO - Iter [56450/100000]\tlr: 1.000e-04, eta: 3:39:34, time: 0.266, data_time: 0.011, memory: 4571, loss_rpn_cls: 0.0152, loss_rpn_bbox: 0.0047, loss_cls: 0.0623, acc: 99.5938, loss_bbox: 0.2431, loss: 0.3254\n",
      "2022-05-26 15:58:50,970 - mmfewshot - INFO - Iter [56500/100000]\tlr: 1.000e-04, eta: 3:39:18, time: 0.270, data_time: 0.013, memory: 4571, loss_rpn_cls: 0.0208, loss_rpn_bbox: 0.0091, loss_cls: 0.0445, acc: 99.6016, loss_bbox: 0.2591, loss: 0.3335\n",
      "2022-05-26 15:59:04,374 - mmfewshot - INFO - Iter [56550/100000]\tlr: 1.000e-04, eta: 3:39:01, time: 0.268, data_time: 0.012, memory: 4571, loss_rpn_cls: 0.0165, loss_rpn_bbox: 0.0074, loss_cls: 0.0427, acc: 99.5156, loss_bbox: 0.2838, loss: 0.3504\n",
      "2022-05-26 15:59:17,714 - mmfewshot - INFO - Iter [56600/100000]\tlr: 1.000e-04, eta: 3:38:45, time: 0.267, data_time: 0.012, memory: 4571, loss_rpn_cls: 0.0111, loss_rpn_bbox: 0.0078, loss_cls: 0.0530, acc: 99.7109, loss_bbox: 0.2840, loss: 0.3559\n",
      "2022-05-26 15:59:31,303 - mmfewshot - INFO - Iter [56650/100000]\tlr: 1.000e-04, eta: 3:38:29, time: 0.272, data_time: 0.012, memory: 4571, loss_rpn_cls: 0.0138, loss_rpn_bbox: 0.0060, loss_cls: 0.0490, acc: 99.5781, loss_bbox: 0.2948, loss: 0.3635\n",
      "2022-05-26 15:59:44,660 - mmfewshot - INFO - Iter [56700/100000]\tlr: 1.000e-04, eta: 3:38:12, time: 0.267, data_time: 0.012, memory: 4571, loss_rpn_cls: 0.0092, loss_rpn_bbox: 0.0049, loss_cls: 0.0488, acc: 99.6562, loss_bbox: 0.2605, loss: 0.3233\n",
      "2022-05-26 15:59:58,135 - mmfewshot - INFO - Iter [56750/100000]\tlr: 1.000e-04, eta: 3:37:56, time: 0.270, data_time: 0.012, memory: 4571, loss_rpn_cls: 0.0097, loss_rpn_bbox: 0.0046, loss_cls: 0.0528, acc: 99.6484, loss_bbox: 0.2423, loss: 0.3094\n",
      "2022-05-26 16:00:11,710 - mmfewshot - INFO - Iter [56800/100000]\tlr: 1.000e-04, eta: 3:37:40, time: 0.272, data_time: 0.013, memory: 4571, loss_rpn_cls: 0.0098, loss_rpn_bbox: 0.0062, loss_cls: 0.0468, acc: 99.5703, loss_bbox: 0.3035, loss: 0.3663\n",
      "2022-05-26 16:00:25,192 - mmfewshot - INFO - Iter [56850/100000]\tlr: 1.000e-04, eta: 3:37:23, time: 0.270, data_time: 0.013, memory: 4571, loss_rpn_cls: 0.0144, loss_rpn_bbox: 0.0072, loss_cls: 0.0535, acc: 99.3438, loss_bbox: 0.2880, loss: 0.3632\n",
      "2022-05-26 16:00:38,659 - mmfewshot - INFO - Iter [56900/100000]\tlr: 1.000e-04, eta: 3:37:07, time: 0.269, data_time: 0.012, memory: 4571, loss_rpn_cls: 0.0083, loss_rpn_bbox: 0.0072, loss_cls: 0.0489, acc: 99.5859, loss_bbox: 0.2819, loss: 0.3464\n",
      "2022-05-26 16:00:52,162 - mmfewshot - INFO - Iter [56950/100000]\tlr: 1.000e-04, eta: 3:36:50, time: 0.270, data_time: 0.013, memory: 4571, loss_rpn_cls: 0.0112, loss_rpn_bbox: 0.0045, loss_cls: 0.0398, acc: 99.6250, loss_bbox: 0.2655, loss: 0.3210\n",
      "2022-05-26 16:01:05,565 - mmfewshot - INFO - Exp name: attention-rpn_r50_c4_tb-split2_1shot-fine-tuning-momentum-09.py\n",
      "2022-05-26 16:01:05,567 - mmfewshot - INFO - Iter [57000/100000]\tlr: 1.000e-04, eta: 3:36:34, time: 0.268, data_time: 0.012, memory: 4571, loss_rpn_cls: 0.0058, loss_rpn_bbox: 0.0042, loss_cls: 0.0437, acc: 99.5703, loss_bbox: 0.2939, loss: 0.3475\n",
      "2022-05-26 16:01:05,574 - mmdet - INFO - starting model initialization...\n"
     ]
    },
    {
     "name": "stdout",
     "output_type": "stream",
     "text": [
      "[>>>>>>>>>>>>>>>>>>>>>>>>>>>>>] 850/850, 77.0 task/s, elapsed: 11s, ETA:     0s"
     ]
    },
    {
     "name": "stderr",
     "output_type": "stream",
     "text": [
      "2022-05-26 16:01:16,689 - mmdet - INFO - model initialization done.\n"
     ]
    },
    {
     "name": "stdout",
     "output_type": "stream",
     "text": [
      "[>>>>>>>>>>>>>>>>>>>>>>>>>>>>>] 300/300, 12.7 task/s, elapsed: 24s, ETA:     0s\n",
      "---------------iou_thr: 0.5---------------\n"
     ]
    },
    {
     "name": "stderr",
     "output_type": "stream",
     "text": [
      "2022-05-26 16:01:40,692 - mmfewshot - INFO - \n",
      "+---------+-----+------+--------+-------+\n",
      "| class   | gts | dets | recall | ap    |\n",
      "+---------+-----+------+--------+-------+\n",
      "| fanta   | 291 | 1597 | 0.897  | 0.738 |\n",
      "| Mirinda | 111 | 577  | 0.748  | 0.591 |\n",
      "+---------+-----+------+--------+-------+\n",
      "| mAP     |     |      |        | 0.665 |\n",
      "+---------+-----+------+--------+-------+\n",
      "2022-05-26 16:01:40,694 - mmfewshot - INFO - BASE_CLASSES_SPLIT2 mAP: 0.6646075248718262\n",
      "2022-05-26 16:01:40,695 - mmfewshot - INFO - NOVEL_CLASSES_SPLIT2 mAP: nan\n",
      "2022-05-26 16:01:40,698 - mmfewshot - INFO - Exp name: attention-rpn_r50_c4_tb-split2_1shot-fine-tuning-momentum-09.py\n",
      "2022-05-26 16:01:40,698 - mmfewshot - INFO - Iter(val) [300]\tAP50: 0.6650, BASE_CLASSES_SPLIT2: AP50: 0.6650, NOVEL_CLASSES_SPLIT2: AP50: nan, mAP: 0.6646\n",
      "2022-05-26 16:01:54,149 - mmfewshot - INFO - Iter [57050/100000]\tlr: 1.000e-04, eta: 3:36:44, time: 0.972, data_time: 0.715, memory: 4571, loss_rpn_cls: 0.0167, loss_rpn_bbox: 0.0082, loss_cls: 0.0507, acc: 99.4531, loss_bbox: 0.2927, loss: 0.3682\n",
      "2022-05-26 16:02:07,718 - mmfewshot - INFO - Iter [57100/100000]\tlr: 1.000e-04, eta: 3:36:28, time: 0.271, data_time: 0.012, memory: 4571, loss_rpn_cls: 0.0108, loss_rpn_bbox: 0.0053, loss_cls: 0.0358, acc: 99.6797, loss_bbox: 0.2862, loss: 0.3382\n",
      "2022-05-26 16:02:21,066 - mmfewshot - INFO - Iter [57150/100000]\tlr: 1.000e-04, eta: 3:36:11, time: 0.268, data_time: 0.012, memory: 4571, loss_rpn_cls: 0.0096, loss_rpn_bbox: 0.0043, loss_cls: 0.0376, acc: 99.6719, loss_bbox: 0.2752, loss: 0.3267\n",
      "2022-05-26 16:02:34,256 - mmfewshot - INFO - Iter [57200/100000]\tlr: 1.000e-04, eta: 3:35:55, time: 0.263, data_time: 0.009, memory: 4571, loss_rpn_cls: 0.0105, loss_rpn_bbox: 0.0068, loss_cls: 0.0355, acc: 99.5547, loss_bbox: 0.3117, loss: 0.3645\n",
      "2022-05-26 16:02:47,730 - mmfewshot - INFO - Iter [57250/100000]\tlr: 1.000e-04, eta: 3:35:38, time: 0.270, data_time: 0.013, memory: 4571, loss_rpn_cls: 0.0063, loss_rpn_bbox: 0.0050, loss_cls: 0.0360, acc: 99.7266, loss_bbox: 0.2707, loss: 0.3181\n",
      "2022-05-26 16:03:01,298 - mmfewshot - INFO - Iter [57300/100000]\tlr: 1.000e-04, eta: 3:35:22, time: 0.271, data_time: 0.013, memory: 4571, loss_rpn_cls: 0.0124, loss_rpn_bbox: 0.0072, loss_cls: 0.0443, acc: 99.6094, loss_bbox: 0.2977, loss: 0.3616\n",
      "2022-05-26 16:03:14,818 - mmfewshot - INFO - Iter [57350/100000]\tlr: 1.000e-04, eta: 3:35:06, time: 0.270, data_time: 0.013, memory: 4571, loss_rpn_cls: 0.0086, loss_rpn_bbox: 0.0104, loss_cls: 0.0401, acc: 99.6250, loss_bbox: 0.2851, loss: 0.3442\n",
      "2022-05-26 16:03:28,238 - mmfewshot - INFO - Iter [57400/100000]\tlr: 1.000e-04, eta: 3:34:49, time: 0.268, data_time: 0.012, memory: 4571, loss_rpn_cls: 0.0094, loss_rpn_bbox: 0.0051, loss_cls: 0.0361, acc: 99.5859, loss_bbox: 0.3035, loss: 0.3542\n",
      "2022-05-26 16:03:41,704 - mmfewshot - INFO - Iter [57450/100000]\tlr: 1.000e-04, eta: 3:34:33, time: 0.270, data_time: 0.012, memory: 4571, loss_rpn_cls: 0.0118, loss_rpn_bbox: 0.0065, loss_cls: 0.0390, acc: 99.5938, loss_bbox: 0.2756, loss: 0.3329\n",
      "2022-05-26 16:03:55,089 - mmfewshot - INFO - Iter [57500/100000]\tlr: 1.000e-04, eta: 3:34:17, time: 0.268, data_time: 0.013, memory: 4571, loss_rpn_cls: 0.0063, loss_rpn_bbox: 0.0032, loss_cls: 0.0534, acc: 99.7344, loss_bbox: 0.2627, loss: 0.3257\n",
      "2022-05-26 16:04:08,583 - mmfewshot - INFO - Iter [57550/100000]\tlr: 1.000e-04, eta: 3:34:00, time: 0.270, data_time: 0.013, memory: 4571, loss_rpn_cls: 0.0092, loss_rpn_bbox: 0.0048, loss_cls: 0.0840, acc: 99.4922, loss_bbox: 0.2658, loss: 0.3638\n",
      "2022-05-26 16:04:21,998 - mmfewshot - INFO - Iter [57600/100000]\tlr: 1.000e-04, eta: 3:33:44, time: 0.268, data_time: 0.012, memory: 4571, loss_rpn_cls: 0.0126, loss_rpn_bbox: 0.0058, loss_cls: 0.0302, acc: 99.7344, loss_bbox: 0.2229, loss: 0.2714\n",
      "2022-05-26 16:04:35,439 - mmfewshot - INFO - Iter [57650/100000]\tlr: 1.000e-04, eta: 3:33:28, time: 0.269, data_time: 0.011, memory: 4571, loss_rpn_cls: 0.0102, loss_rpn_bbox: 0.0034, loss_cls: 0.0738, acc: 99.5859, loss_bbox: 0.2511, loss: 0.3385\n",
      "2022-05-26 16:04:48,864 - mmfewshot - INFO - Iter [57700/100000]\tlr: 1.000e-04, eta: 3:33:11, time: 0.268, data_time: 0.012, memory: 4571, loss_rpn_cls: 0.0134, loss_rpn_bbox: 0.0070, loss_cls: 0.0534, acc: 99.4688, loss_bbox: 0.3133, loss: 0.3871\n",
      "2022-05-26 16:05:02,272 - mmfewshot - INFO - Iter [57750/100000]\tlr: 1.000e-04, eta: 3:32:55, time: 0.268, data_time: 0.013, memory: 4571, loss_rpn_cls: 0.0126, loss_rpn_bbox: 0.0074, loss_cls: 0.0396, acc: 99.6094, loss_bbox: 0.2966, loss: 0.3561\n",
      "2022-05-26 16:05:15,678 - mmfewshot - INFO - Iter [57800/100000]\tlr: 1.000e-04, eta: 3:32:38, time: 0.268, data_time: 0.012, memory: 4571, loss_rpn_cls: 0.0138, loss_rpn_bbox: 0.0086, loss_cls: 0.0513, acc: 99.5625, loss_bbox: 0.2965, loss: 0.3701\n",
      "2022-05-26 16:05:29,088 - mmfewshot - INFO - Iter [57850/100000]\tlr: 1.000e-04, eta: 3:32:22, time: 0.268, data_time: 0.012, memory: 4571, loss_rpn_cls: 0.0137, loss_rpn_bbox: 0.0086, loss_cls: 0.0530, acc: 99.6641, loss_bbox: 0.2683, loss: 0.3437\n",
      "2022-05-26 16:05:42,531 - mmfewshot - INFO - Iter [57900/100000]\tlr: 1.000e-04, eta: 3:32:06, time: 0.269, data_time: 0.013, memory: 4571, loss_rpn_cls: 0.0097, loss_rpn_bbox: 0.0048, loss_cls: 0.0459, acc: 99.6094, loss_bbox: 0.2494, loss: 0.3098\n",
      "2022-05-26 16:05:55,849 - mmfewshot - INFO - Iter [57950/100000]\tlr: 1.000e-04, eta: 3:31:49, time: 0.266, data_time: 0.010, memory: 4571, loss_rpn_cls: 0.0064, loss_rpn_bbox: 0.0032, loss_cls: 0.0401, acc: 99.6250, loss_bbox: 0.2799, loss: 0.3296\n",
      "2022-05-26 16:06:09,406 - mmfewshot - INFO - Exp name: attention-rpn_r50_c4_tb-split2_1shot-fine-tuning-momentum-09.py\n",
      "2022-05-26 16:06:09,407 - mmfewshot - INFO - Iter [58000/100000]\tlr: 1.000e-04, eta: 3:31:33, time: 0.271, data_time: 0.014, memory: 4571, loss_rpn_cls: 0.0080, loss_rpn_bbox: 0.0032, loss_cls: 0.0399, acc: 99.6562, loss_bbox: 0.2529, loss: 0.3040\n",
      "2022-05-26 16:06:09,412 - mmdet - INFO - starting model initialization...\n"
     ]
    },
    {
     "name": "stdout",
     "output_type": "stream",
     "text": [
      "[>>>>>>>>>>>>>>>>>>>>>>>>>>>>>] 850/850, 78.4 task/s, elapsed: 11s, ETA:     0s"
     ]
    },
    {
     "name": "stderr",
     "output_type": "stream",
     "text": [
      "2022-05-26 16:06:20,361 - mmdet - INFO - model initialization done.\n"
     ]
    },
    {
     "name": "stdout",
     "output_type": "stream",
     "text": [
      "[>>>>>>>>>>>>>>>>>>>>>>>>>>>>>] 300/300, 12.5 task/s, elapsed: 24s, ETA:     0s\n",
      "---------------iou_thr: 0.5---------------\n"
     ]
    },
    {
     "name": "stderr",
     "output_type": "stream",
     "text": [
      "2022-05-26 16:06:44,704 - mmfewshot - INFO - \n",
      "+---------+-----+------+--------+-------+\n",
      "| class   | gts | dets | recall | ap    |\n",
      "+---------+-----+------+--------+-------+\n",
      "| fanta   | 291 | 1353 | 0.856  | 0.716 |\n",
      "| Mirinda | 111 | 456  | 0.766  | 0.580 |\n",
      "+---------+-----+------+--------+-------+\n",
      "| mAP     |     |      |        | 0.648 |\n",
      "+---------+-----+------+--------+-------+\n",
      "2022-05-26 16:06:44,707 - mmfewshot - INFO - BASE_CLASSES_SPLIT2 mAP: 0.6480370759963989\n",
      "2022-05-26 16:06:44,708 - mmfewshot - INFO - NOVEL_CLASSES_SPLIT2 mAP: nan\n",
      "2022-05-26 16:06:44,712 - mmfewshot - INFO - Exp name: attention-rpn_r50_c4_tb-split2_1shot-fine-tuning-momentum-09.py\n",
      "2022-05-26 16:06:44,714 - mmfewshot - INFO - Iter(val) [300]\tAP50: 0.6480, BASE_CLASSES_SPLIT2: AP50: 0.6480, NOVEL_CLASSES_SPLIT2: AP50: nan, mAP: 0.6480\n",
      "2022-05-26 16:06:58,172 - mmfewshot - INFO - Iter [58050/100000]\tlr: 1.000e-04, eta: 3:31:42, time: 0.975, data_time: 0.719, memory: 4571, loss_rpn_cls: 0.0122, loss_rpn_bbox: 0.0075, loss_cls: 0.0460, acc: 99.6562, loss_bbox: 0.2965, loss: 0.3623\n",
      "2022-05-26 16:07:11,696 - mmfewshot - INFO - Iter [58100/100000]\tlr: 1.000e-04, eta: 3:31:26, time: 0.270, data_time: 0.013, memory: 4571, loss_rpn_cls: 0.0115, loss_rpn_bbox: 0.0042, loss_cls: 0.0330, acc: 99.7422, loss_bbox: 0.2558, loss: 0.3045\n",
      "2022-05-26 16:07:25,138 - mmfewshot - INFO - Iter [58150/100000]\tlr: 1.000e-04, eta: 3:31:10, time: 0.269, data_time: 0.013, memory: 4571, loss_rpn_cls: 0.0134, loss_rpn_bbox: 0.0060, loss_cls: 0.0410, acc: 99.6094, loss_bbox: 0.2900, loss: 0.3505\n",
      "2022-05-26 16:07:38,712 - mmfewshot - INFO - Iter [58200/100000]\tlr: 1.000e-04, eta: 3:30:53, time: 0.271, data_time: 0.013, memory: 4571, loss_rpn_cls: 0.0058, loss_rpn_bbox: 0.0035, loss_cls: 0.0444, acc: 99.5156, loss_bbox: 0.2856, loss: 0.3394\n",
      "2022-05-26 16:07:52,173 - mmfewshot - INFO - Iter [58250/100000]\tlr: 1.000e-04, eta: 3:30:37, time: 0.269, data_time: 0.012, memory: 4571, loss_rpn_cls: 0.0095, loss_rpn_bbox: 0.0051, loss_cls: 0.0732, acc: 99.2734, loss_bbox: 0.2798, loss: 0.3677\n",
      "2022-05-26 16:08:05,445 - mmfewshot - INFO - Iter [58300/100000]\tlr: 1.000e-04, eta: 3:30:21, time: 0.265, data_time: 0.012, memory: 4571, loss_rpn_cls: 0.0108, loss_rpn_bbox: 0.0048, loss_cls: 0.0512, acc: 99.5781, loss_bbox: 0.2640, loss: 0.3308\n",
      "2022-05-26 16:08:19,013 - mmfewshot - INFO - Iter [58350/100000]\tlr: 1.000e-04, eta: 3:30:04, time: 0.271, data_time: 0.013, memory: 4571, loss_rpn_cls: 0.0110, loss_rpn_bbox: 0.0061, loss_cls: 0.0509, acc: 99.5391, loss_bbox: 0.3191, loss: 0.3871\n",
      "2022-05-26 16:08:32,342 - mmfewshot - INFO - Iter [58400/100000]\tlr: 1.000e-04, eta: 3:29:48, time: 0.267, data_time: 0.012, memory: 4571, loss_rpn_cls: 0.0072, loss_rpn_bbox: 0.0036, loss_cls: 0.0379, acc: 99.6562, loss_bbox: 0.2560, loss: 0.3047\n",
      "2022-05-26 16:08:45,789 - mmfewshot - INFO - Iter [58450/100000]\tlr: 1.000e-04, eta: 3:29:32, time: 0.269, data_time: 0.012, memory: 4571, loss_rpn_cls: 0.0082, loss_rpn_bbox: 0.0048, loss_cls: 0.0590, acc: 99.6484, loss_bbox: 0.2837, loss: 0.3557\n",
      "2022-05-26 16:08:59,280 - mmfewshot - INFO - Iter [58500/100000]\tlr: 1.000e-04, eta: 3:29:15, time: 0.270, data_time: 0.013, memory: 4571, loss_rpn_cls: 0.0129, loss_rpn_bbox: 0.0072, loss_cls: 0.0383, acc: 99.6484, loss_bbox: 0.2862, loss: 0.3446\n",
      "2022-05-26 16:09:12,862 - mmfewshot - INFO - Iter [58550/100000]\tlr: 1.000e-04, eta: 3:28:59, time: 0.272, data_time: 0.013, memory: 4571, loss_rpn_cls: 0.0098, loss_rpn_bbox: 0.0065, loss_cls: 0.0637, acc: 99.5000, loss_bbox: 0.2717, loss: 0.3517\n",
      "2022-05-26 16:09:26,351 - mmfewshot - INFO - Iter [58600/100000]\tlr: 1.000e-04, eta: 3:28:43, time: 0.270, data_time: 0.012, memory: 4571, loss_rpn_cls: 0.0090, loss_rpn_bbox: 0.0043, loss_cls: 0.0490, acc: 99.5469, loss_bbox: 0.2970, loss: 0.3594\n",
      "2022-05-26 16:09:39,791 - mmfewshot - INFO - Iter [58650/100000]\tlr: 1.000e-04, eta: 3:28:26, time: 0.269, data_time: 0.013, memory: 4571, loss_rpn_cls: 0.0106, loss_rpn_bbox: 0.0067, loss_cls: 0.0356, acc: 99.6250, loss_bbox: 0.2935, loss: 0.3465\n",
      "2022-05-26 16:09:53,231 - mmfewshot - INFO - Iter [58700/100000]\tlr: 1.000e-04, eta: 3:28:10, time: 0.269, data_time: 0.012, memory: 4571, loss_rpn_cls: 0.0097, loss_rpn_bbox: 0.0054, loss_cls: 0.0358, acc: 99.6328, loss_bbox: 0.3105, loss: 0.3613\n",
      "2022-05-26 16:10:06,636 - mmfewshot - INFO - Iter [58750/100000]\tlr: 1.000e-04, eta: 3:27:54, time: 0.268, data_time: 0.012, memory: 4571, loss_rpn_cls: 0.0091, loss_rpn_bbox: 0.0036, loss_cls: 0.0481, acc: 99.6016, loss_bbox: 0.2493, loss: 0.3101\n",
      "2022-05-26 16:10:20,053 - mmfewshot - INFO - Iter [58800/100000]\tlr: 1.000e-04, eta: 3:27:37, time: 0.268, data_time: 0.012, memory: 4571, loss_rpn_cls: 0.0069, loss_rpn_bbox: 0.0040, loss_cls: 0.0443, acc: 99.6484, loss_bbox: 0.2787, loss: 0.3339\n",
      "2022-05-26 16:10:33,551 - mmfewshot - INFO - Iter [58850/100000]\tlr: 1.000e-04, eta: 3:27:21, time: 0.270, data_time: 0.013, memory: 4571, loss_rpn_cls: 0.0089, loss_rpn_bbox: 0.0078, loss_cls: 0.0409, acc: 99.6719, loss_bbox: 0.2420, loss: 0.2996\n",
      "2022-05-26 16:10:47,103 - mmfewshot - INFO - Iter [58900/100000]\tlr: 1.000e-04, eta: 3:27:05, time: 0.271, data_time: 0.012, memory: 4571, loss_rpn_cls: 0.0081, loss_rpn_bbox: 0.0050, loss_cls: 0.0336, acc: 99.6797, loss_bbox: 0.2427, loss: 0.2894\n",
      "2022-05-26 16:11:00,605 - mmfewshot - INFO - Iter [58950/100000]\tlr: 1.000e-04, eta: 3:26:49, time: 0.270, data_time: 0.013, memory: 4571, loss_rpn_cls: 0.0082, loss_rpn_bbox: 0.0053, loss_cls: 0.0357, acc: 99.7578, loss_bbox: 0.2263, loss: 0.2756\n",
      "2022-05-26 16:11:14,027 - mmfewshot - INFO - Exp name: attention-rpn_r50_c4_tb-split2_1shot-fine-tuning-momentum-09.py\n",
      "2022-05-26 16:11:14,029 - mmfewshot - INFO - Iter [59000/100000]\tlr: 1.000e-04, eta: 3:26:32, time: 0.269, data_time: 0.011, memory: 4571, loss_rpn_cls: 0.0115, loss_rpn_bbox: 0.0057, loss_cls: 0.0423, acc: 99.6172, loss_bbox: 0.2526, loss: 0.3122\n",
      "2022-05-26 16:11:14,033 - mmdet - INFO - starting model initialization...\n"
     ]
    },
    {
     "name": "stdout",
     "output_type": "stream",
     "text": [
      "[>>>>>>>>>>>>>>>>>>>>>>>>>>>>>] 850/850, 81.6 task/s, elapsed: 10s, ETA:     0s"
     ]
    },
    {
     "name": "stderr",
     "output_type": "stream",
     "text": [
      "2022-05-26 16:11:24,519 - mmdet - INFO - model initialization done.\n"
     ]
    },
    {
     "name": "stdout",
     "output_type": "stream",
     "text": [
      "[>>>>>>>>>>>>>>>>>>>>>>>>>>>>>] 300/300, 12.8 task/s, elapsed: 23s, ETA:     0s\n",
      "---------------iou_thr: 0.5---------------\n"
     ]
    },
    {
     "name": "stderr",
     "output_type": "stream",
     "text": [
      "2022-05-26 16:11:48,294 - mmfewshot - INFO - \n",
      "+---------+-----+------+--------+-------+\n",
      "| class   | gts | dets | recall | ap    |\n",
      "+---------+-----+------+--------+-------+\n",
      "| fanta   | 291 | 1727 | 0.893  | 0.733 |\n",
      "| Mirinda | 111 | 638  | 0.766  | 0.574 |\n",
      "+---------+-----+------+--------+-------+\n",
      "| mAP     |     |      |        | 0.654 |\n",
      "+---------+-----+------+--------+-------+\n",
      "2022-05-26 16:11:48,296 - mmfewshot - INFO - BASE_CLASSES_SPLIT2 mAP: 0.6539006233215332\n",
      "2022-05-26 16:11:48,297 - mmfewshot - INFO - NOVEL_CLASSES_SPLIT2 mAP: nan\n",
      "2022-05-26 16:11:48,300 - mmfewshot - INFO - Exp name: attention-rpn_r50_c4_tb-split2_1shot-fine-tuning-momentum-09.py\n",
      "2022-05-26 16:11:48,300 - mmfewshot - INFO - Iter(val) [300]\tAP50: 0.6540, BASE_CLASSES_SPLIT2: AP50: 0.6540, NOVEL_CLASSES_SPLIT2: AP50: nan, mAP: 0.6539\n",
      "2022-05-26 16:12:01,824 - mmfewshot - INFO - Iter [59050/100000]\tlr: 1.000e-04, eta: 3:26:40, time: 0.956, data_time: 0.699, memory: 4571, loss_rpn_cls: 0.0074, loss_rpn_bbox: 0.0050, loss_cls: 0.0455, acc: 99.5781, loss_bbox: 0.3140, loss: 0.3720\n",
      "2022-05-26 16:12:15,204 - mmfewshot - INFO - Iter [59100/100000]\tlr: 1.000e-04, eta: 3:26:24, time: 0.268, data_time: 0.012, memory: 4571, loss_rpn_cls: 0.0062, loss_rpn_bbox: 0.0029, loss_cls: 0.0344, acc: 99.6797, loss_bbox: 0.2574, loss: 0.3009\n",
      "2022-05-26 16:12:28,620 - mmfewshot - INFO - Iter [59150/100000]\tlr: 1.000e-04, eta: 3:26:07, time: 0.268, data_time: 0.012, memory: 4571, loss_rpn_cls: 0.0106, loss_rpn_bbox: 0.0069, loss_cls: 0.0375, acc: 99.6250, loss_bbox: 0.2889, loss: 0.3438\n",
      "2022-05-26 16:12:41,996 - mmfewshot - INFO - Iter [59200/100000]\tlr: 1.000e-04, eta: 3:25:51, time: 0.268, data_time: 0.012, memory: 4571, loss_rpn_cls: 0.0129, loss_rpn_bbox: 0.0075, loss_cls: 0.0494, acc: 99.6016, loss_bbox: 0.2991, loss: 0.3689\n",
      "2022-05-26 16:12:55,566 - mmfewshot - INFO - Iter [59250/100000]\tlr: 1.000e-04, eta: 3:25:35, time: 0.271, data_time: 0.014, memory: 4571, loss_rpn_cls: 0.0175, loss_rpn_bbox: 0.0086, loss_cls: 0.0458, acc: 99.4844, loss_bbox: 0.3073, loss: 0.3793\n",
      "2022-05-26 16:13:08,990 - mmfewshot - INFO - Iter [59300/100000]\tlr: 1.000e-04, eta: 3:25:18, time: 0.268, data_time: 0.012, memory: 4571, loss_rpn_cls: 0.0120, loss_rpn_bbox: 0.0076, loss_cls: 0.0425, acc: 99.5703, loss_bbox: 0.2887, loss: 0.3509\n",
      "2022-05-26 16:13:22,377 - mmfewshot - INFO - Iter [59350/100000]\tlr: 1.000e-04, eta: 3:25:02, time: 0.267, data_time: 0.012, memory: 4571, loss_rpn_cls: 0.0163, loss_rpn_bbox: 0.0075, loss_cls: 0.0348, acc: 99.6953, loss_bbox: 0.2894, loss: 0.3480\n",
      "2022-05-26 16:13:35,761 - mmfewshot - INFO - Iter [59400/100000]\tlr: 1.000e-04, eta: 3:24:46, time: 0.268, data_time: 0.011, memory: 4571, loss_rpn_cls: 0.0127, loss_rpn_bbox: 0.0069, loss_cls: 0.0433, acc: 99.5938, loss_bbox: 0.2994, loss: 0.3623\n",
      "2022-05-26 16:13:49,062 - mmfewshot - INFO - Iter [59450/100000]\tlr: 1.000e-04, eta: 3:24:29, time: 0.266, data_time: 0.011, memory: 4571, loss_rpn_cls: 0.0089, loss_rpn_bbox: 0.0043, loss_cls: 0.0388, acc: 99.6406, loss_bbox: 0.2687, loss: 0.3207\n",
      "2022-05-26 16:14:02,345 - mmfewshot - INFO - Iter [59500/100000]\tlr: 1.000e-04, eta: 3:24:13, time: 0.266, data_time: 0.012, memory: 4571, loss_rpn_cls: 0.0116, loss_rpn_bbox: 0.0074, loss_cls: 0.0434, acc: 99.5000, loss_bbox: 0.2838, loss: 0.3462\n",
      "2022-05-26 16:14:15,724 - mmfewshot - INFO - Iter [59550/100000]\tlr: 1.000e-04, eta: 3:23:57, time: 0.268, data_time: 0.012, memory: 4571, loss_rpn_cls: 0.0113, loss_rpn_bbox: 0.0065, loss_cls: 0.0441, acc: 99.5703, loss_bbox: 0.2929, loss: 0.3549\n",
      "2022-05-26 16:14:29,143 - mmfewshot - INFO - Iter [59600/100000]\tlr: 1.000e-04, eta: 3:23:40, time: 0.268, data_time: 0.012, memory: 4571, loss_rpn_cls: 0.0081, loss_rpn_bbox: 0.0037, loss_cls: 0.0420, acc: 99.6484, loss_bbox: 0.2937, loss: 0.3475\n",
      "2022-05-26 16:14:42,514 - mmfewshot - INFO - Iter [59650/100000]\tlr: 1.000e-04, eta: 3:23:24, time: 0.267, data_time: 0.013, memory: 4571, loss_rpn_cls: 0.0084, loss_rpn_bbox: 0.0055, loss_cls: 0.0321, acc: 99.6797, loss_bbox: 0.2731, loss: 0.3190\n",
      "2022-05-26 16:14:56,014 - mmfewshot - INFO - Iter [59700/100000]\tlr: 1.000e-04, eta: 3:23:08, time: 0.270, data_time: 0.013, memory: 4571, loss_rpn_cls: 0.0055, loss_rpn_bbox: 0.0026, loss_cls: 0.0376, acc: 99.7500, loss_bbox: 0.2574, loss: 0.3031\n",
      "2022-05-26 16:15:09,440 - mmfewshot - INFO - Iter [59750/100000]\tlr: 1.000e-04, eta: 3:22:52, time: 0.269, data_time: 0.013, memory: 4571, loss_rpn_cls: 0.0103, loss_rpn_bbox: 0.0045, loss_cls: 0.0397, acc: 99.6641, loss_bbox: 0.2588, loss: 0.3133\n",
      "2022-05-26 16:15:23,002 - mmfewshot - INFO - Iter [59800/100000]\tlr: 1.000e-04, eta: 3:22:35, time: 0.271, data_time: 0.013, memory: 4571, loss_rpn_cls: 0.0129, loss_rpn_bbox: 0.0056, loss_cls: 0.0431, acc: 99.5391, loss_bbox: 0.2911, loss: 0.3527\n",
      "2022-05-26 16:15:36,443 - mmfewshot - INFO - Iter [59850/100000]\tlr: 1.000e-04, eta: 3:22:19, time: 0.269, data_time: 0.012, memory: 4571, loss_rpn_cls: 0.0097, loss_rpn_bbox: 0.0061, loss_cls: 0.0563, acc: 99.6484, loss_bbox: 0.2619, loss: 0.3340\n",
      "2022-05-26 16:15:49,948 - mmfewshot - INFO - Iter [59900/100000]\tlr: 1.000e-04, eta: 3:22:03, time: 0.270, data_time: 0.013, memory: 4571, loss_rpn_cls: 0.0150, loss_rpn_bbox: 0.0097, loss_cls: 0.0360, acc: 99.6484, loss_bbox: 0.2869, loss: 0.3476\n",
      "2022-05-26 16:16:03,347 - mmfewshot - INFO - Iter [59950/100000]\tlr: 1.000e-04, eta: 3:21:47, time: 0.268, data_time: 0.012, memory: 4571, loss_rpn_cls: 0.0079, loss_rpn_bbox: 0.0044, loss_cls: 0.0429, acc: 99.6172, loss_bbox: 0.2537, loss: 0.3090\n",
      "2022-05-26 16:16:16,754 - mmfewshot - INFO - Saving checkpoint at 60000 iterations\n",
      "2022-05-26 16:16:18,346 - mmfewshot - INFO - Exp name: attention-rpn_r50_c4_tb-split2_1shot-fine-tuning-momentum-09.py\n",
      "2022-05-26 16:16:18,347 - mmfewshot - INFO - Iter [60000/100000]\tlr: 1.000e-04, eta: 3:21:32, time: 0.302, data_time: 0.013, memory: 4571, loss_rpn_cls: 0.0116, loss_rpn_bbox: 0.0063, loss_cls: 0.0511, acc: 99.4922, loss_bbox: 0.3136, loss: 0.3827\n",
      "2022-05-26 16:16:18,351 - mmdet - INFO - starting model initialization...\n"
     ]
    },
    {
     "name": "stdout",
     "output_type": "stream",
     "text": [
      "[>>>>>>>>>>>>>>>>>>>>>>>>>>>>>] 850/850, 76.1 task/s, elapsed: 11s, ETA:     0s"
     ]
    },
    {
     "name": "stderr",
     "output_type": "stream",
     "text": [
      "2022-05-26 16:16:29,590 - mmdet - INFO - model initialization done.\n"
     ]
    },
    {
     "name": "stdout",
     "output_type": "stream",
     "text": [
      "[>>>>>>>>>>>>>>>>>>>>>>>>>>>>>] 300/300, 12.6 task/s, elapsed: 24s, ETA:     0s\n",
      "---------------iou_thr: 0.5---------------\n"
     ]
    },
    {
     "name": "stderr",
     "output_type": "stream",
     "text": [
      "2022-05-26 16:16:53,676 - mmfewshot - INFO - \n",
      "+---------+-----+------+--------+-------+\n",
      "| class   | gts | dets | recall | ap    |\n",
      "+---------+-----+------+--------+-------+\n",
      "| fanta   | 291 | 1773 | 0.897  | 0.702 |\n",
      "| Mirinda | 111 | 668  | 0.775  | 0.596 |\n",
      "+---------+-----+------+--------+-------+\n",
      "| mAP     |     |      |        | 0.649 |\n",
      "+---------+-----+------+--------+-------+\n",
      "2022-05-26 16:16:53,678 - mmfewshot - INFO - BASE_CLASSES_SPLIT2 mAP: 0.6487370729446411\n",
      "2022-05-26 16:16:53,679 - mmfewshot - INFO - NOVEL_CLASSES_SPLIT2 mAP: nan\n",
      "2022-05-26 16:16:53,682 - mmfewshot - INFO - Exp name: attention-rpn_r50_c4_tb-split2_1shot-fine-tuning-momentum-09.py\n",
      "2022-05-26 16:16:53,683 - mmfewshot - INFO - Iter(val) [300]\tAP50: 0.6490, BASE_CLASSES_SPLIT2: AP50: 0.6490, NOVEL_CLASSES_SPLIT2: AP50: nan, mAP: 0.6487\n",
      "2022-05-26 16:17:07,186 - mmfewshot - INFO - Iter [60050/100000]\tlr: 1.000e-04, eta: 3:21:39, time: 0.974, data_time: 0.716, memory: 4571, loss_rpn_cls: 0.0204, loss_rpn_bbox: 0.0080, loss_cls: 0.0417, acc: 99.5938, loss_bbox: 0.2940, loss: 0.3641\n",
      "2022-05-26 16:17:20,616 - mmfewshot - INFO - Iter [60100/100000]\tlr: 1.000e-04, eta: 3:21:23, time: 0.269, data_time: 0.013, memory: 4571, loss_rpn_cls: 0.0120, loss_rpn_bbox: 0.0058, loss_cls: 0.0460, acc: 99.6875, loss_bbox: 0.2464, loss: 0.3102\n",
      "2022-05-26 16:17:34,100 - mmfewshot - INFO - Iter [60150/100000]\tlr: 1.000e-04, eta: 3:21:06, time: 0.269, data_time: 0.012, memory: 4571, loss_rpn_cls: 0.0101, loss_rpn_bbox: 0.0052, loss_cls: 0.0413, acc: 99.6172, loss_bbox: 0.2687, loss: 0.3254\n",
      "2022-05-26 16:17:47,497 - mmfewshot - INFO - Iter [60200/100000]\tlr: 1.000e-04, eta: 3:20:50, time: 0.268, data_time: 0.012, memory: 4571, loss_rpn_cls: 0.0081, loss_rpn_bbox: 0.0051, loss_cls: 0.0537, acc: 99.5547, loss_bbox: 0.2687, loss: 0.3356\n",
      "2022-05-26 16:18:00,833 - mmfewshot - INFO - Iter [60250/100000]\tlr: 1.000e-04, eta: 3:20:34, time: 0.267, data_time: 0.012, memory: 4571, loss_rpn_cls: 0.0188, loss_rpn_bbox: 0.0113, loss_cls: 0.0548, acc: 99.5156, loss_bbox: 0.2743, loss: 0.3592\n",
      "2022-05-26 16:18:14,022 - mmfewshot - INFO - Iter [60300/100000]\tlr: 1.000e-04, eta: 3:20:17, time: 0.264, data_time: 0.010, memory: 4571, loss_rpn_cls: 0.0085, loss_rpn_bbox: 0.0059, loss_cls: 0.0335, acc: 99.5781, loss_bbox: 0.3148, loss: 0.3626\n",
      "2022-05-26 16:18:27,509 - mmfewshot - INFO - Iter [60350/100000]\tlr: 1.000e-04, eta: 3:20:01, time: 0.270, data_time: 0.012, memory: 4571, loss_rpn_cls: 0.0149, loss_rpn_bbox: 0.0053, loss_cls: 0.0361, acc: 99.6328, loss_bbox: 0.2949, loss: 0.3513\n",
      "2022-05-26 16:18:40,986 - mmfewshot - INFO - Iter [60400/100000]\tlr: 1.000e-04, eta: 3:19:45, time: 0.270, data_time: 0.013, memory: 4571, loss_rpn_cls: 0.0099, loss_rpn_bbox: 0.0081, loss_cls: 0.0496, acc: 99.6562, loss_bbox: 0.3356, loss: 0.4032\n",
      "2022-05-26 16:18:54,403 - mmfewshot - INFO - Iter [60450/100000]\tlr: 1.000e-04, eta: 3:19:29, time: 0.268, data_time: 0.013, memory: 4571, loss_rpn_cls: 0.0103, loss_rpn_bbox: 0.0067, loss_cls: 0.0434, acc: 99.5547, loss_bbox: 0.2815, loss: 0.3419\n",
      "2022-05-26 16:19:07,890 - mmfewshot - INFO - Iter [60500/100000]\tlr: 1.000e-04, eta: 3:19:12, time: 0.270, data_time: 0.013, memory: 4571, loss_rpn_cls: 0.0096, loss_rpn_bbox: 0.0041, loss_cls: 0.0527, acc: 99.6016, loss_bbox: 0.2724, loss: 0.3387\n",
      "2022-05-26 16:19:21,268 - mmfewshot - INFO - Iter [60550/100000]\tlr: 1.000e-04, eta: 3:18:56, time: 0.268, data_time: 0.012, memory: 4571, loss_rpn_cls: 0.0099, loss_rpn_bbox: 0.0043, loss_cls: 0.0390, acc: 99.6562, loss_bbox: 0.2845, loss: 0.3377\n",
      "2022-05-26 16:19:34,686 - mmfewshot - INFO - Iter [60600/100000]\tlr: 1.000e-04, eta: 3:18:40, time: 0.268, data_time: 0.013, memory: 4571, loss_rpn_cls: 0.0075, loss_rpn_bbox: 0.0046, loss_cls: 0.0410, acc: 99.5234, loss_bbox: 0.3180, loss: 0.3712\n",
      "2022-05-26 16:19:48,140 - mmfewshot - INFO - Iter [60650/100000]\tlr: 1.000e-04, eta: 3:18:24, time: 0.269, data_time: 0.012, memory: 4571, loss_rpn_cls: 0.0063, loss_rpn_bbox: 0.0031, loss_cls: 0.0452, acc: 99.6562, loss_bbox: 0.2392, loss: 0.2937\n",
      "2022-05-26 16:20:01,546 - mmfewshot - INFO - Iter [60700/100000]\tlr: 1.000e-04, eta: 3:18:07, time: 0.268, data_time: 0.012, memory: 4571, loss_rpn_cls: 0.0062, loss_rpn_bbox: 0.0030, loss_cls: 0.0400, acc: 99.6406, loss_bbox: 0.2744, loss: 0.3236\n",
      "2022-05-26 16:20:14,987 - mmfewshot - INFO - Iter [60750/100000]\tlr: 1.000e-04, eta: 3:17:51, time: 0.269, data_time: 0.013, memory: 4571, loss_rpn_cls: 0.0103, loss_rpn_bbox: 0.0066, loss_cls: 0.0814, acc: 99.5703, loss_bbox: 0.2456, loss: 0.3438\n",
      "2022-05-26 16:20:28,419 - mmfewshot - INFO - Iter [60800/100000]\tlr: 1.000e-04, eta: 3:17:35, time: 0.269, data_time: 0.012, memory: 4571, loss_rpn_cls: 0.0093, loss_rpn_bbox: 0.0067, loss_cls: 0.0468, acc: 99.5078, loss_bbox: 0.3048, loss: 0.3676\n",
      "2022-05-26 16:20:41,858 - mmfewshot - INFO - Iter [60850/100000]\tlr: 1.000e-04, eta: 3:17:19, time: 0.269, data_time: 0.012, memory: 4571, loss_rpn_cls: 0.0126, loss_rpn_bbox: 0.0054, loss_cls: 0.0412, acc: 99.6875, loss_bbox: 0.2710, loss: 0.3302\n",
      "2022-05-26 16:20:55,355 - mmfewshot - INFO - Iter [60900/100000]\tlr: 1.000e-04, eta: 3:17:03, time: 0.270, data_time: 0.013, memory: 4571, loss_rpn_cls: 0.0091, loss_rpn_bbox: 0.0039, loss_cls: 0.0465, acc: 99.6797, loss_bbox: 0.2614, loss: 0.3210\n",
      "2022-05-26 16:21:08,732 - mmfewshot - INFO - Iter [60950/100000]\tlr: 1.000e-04, eta: 3:16:46, time: 0.268, data_time: 0.012, memory: 4571, loss_rpn_cls: 0.0133, loss_rpn_bbox: 0.0066, loss_cls: 0.0417, acc: 99.5859, loss_bbox: 0.2829, loss: 0.3445\n",
      "2022-05-26 16:21:22,256 - mmfewshot - INFO - Exp name: attention-rpn_r50_c4_tb-split2_1shot-fine-tuning-momentum-09.py\n",
      "2022-05-26 16:21:22,257 - mmfewshot - INFO - Iter [61000/100000]\tlr: 1.000e-04, eta: 3:16:30, time: 0.270, data_time: 0.012, memory: 4571, loss_rpn_cls: 0.0124, loss_rpn_bbox: 0.0050, loss_cls: 0.0520, acc: 99.5156, loss_bbox: 0.3005, loss: 0.3699\n",
      "2022-05-26 16:21:22,262 - mmdet - INFO - starting model initialization...\n"
     ]
    },
    {
     "name": "stdout",
     "output_type": "stream",
     "text": [
      "[>>>>>>>>>>>>>>>>>>>>>>>>>>>>>] 850/850, 78.3 task/s, elapsed: 11s, ETA:     0s"
     ]
    },
    {
     "name": "stderr",
     "output_type": "stream",
     "text": [
      "2022-05-26 16:21:33,184 - mmdet - INFO - model initialization done.\n"
     ]
    },
    {
     "name": "stdout",
     "output_type": "stream",
     "text": [
      "[>>>>>>>>>>>>>>>>>>>>>>>>>>>>>] 300/300, 12.6 task/s, elapsed: 24s, ETA:     0s\n",
      "---------------iou_thr: 0.5---------------\n"
     ]
    },
    {
     "name": "stderr",
     "output_type": "stream",
     "text": [
      "2022-05-26 16:21:57,383 - mmfewshot - INFO - \n",
      "+---------+-----+------+--------+-------+\n",
      "| class   | gts | dets | recall | ap    |\n",
      "+---------+-----+------+--------+-------+\n",
      "| fanta   | 291 | 1859 | 0.883  | 0.689 |\n",
      "| Mirinda | 111 | 811  | 0.766  | 0.589 |\n",
      "+---------+-----+------+--------+-------+\n",
      "| mAP     |     |      |        | 0.639 |\n",
      "+---------+-----+------+--------+-------+\n",
      "2022-05-26 16:21:57,386 - mmfewshot - INFO - BASE_CLASSES_SPLIT2 mAP: 0.6388949155807495\n",
      "2022-05-26 16:21:57,386 - mmfewshot - INFO - NOVEL_CLASSES_SPLIT2 mAP: nan\n",
      "2022-05-26 16:21:57,389 - mmfewshot - INFO - Exp name: attention-rpn_r50_c4_tb-split2_1shot-fine-tuning-momentum-09.py\n",
      "2022-05-26 16:21:57,390 - mmfewshot - INFO - Iter(val) [300]\tAP50: 0.6390, BASE_CLASSES_SPLIT2: AP50: 0.6390, NOVEL_CLASSES_SPLIT2: AP50: nan, mAP: 0.6389\n",
      "2022-05-26 16:22:10,916 - mmfewshot - INFO - Iter [61050/100000]\tlr: 1.000e-04, eta: 3:16:37, time: 0.973, data_time: 0.716, memory: 4571, loss_rpn_cls: 0.0084, loss_rpn_bbox: 0.0050, loss_cls: 0.0478, acc: 99.4766, loss_bbox: 0.2877, loss: 0.3489\n",
      "2022-05-26 16:22:24,411 - mmfewshot - INFO - Iter [61100/100000]\tlr: 1.000e-04, eta: 3:16:20, time: 0.270, data_time: 0.012, memory: 4571, loss_rpn_cls: 0.0084, loss_rpn_bbox: 0.0044, loss_cls: 0.0396, acc: 99.7188, loss_bbox: 0.2678, loss: 0.3202\n",
      "2022-05-26 16:22:37,932 - mmfewshot - INFO - Iter [61150/100000]\tlr: 1.000e-04, eta: 3:16:04, time: 0.270, data_time: 0.013, memory: 4571, loss_rpn_cls: 0.0080, loss_rpn_bbox: 0.0037, loss_cls: 0.0525, acc: 99.6562, loss_bbox: 0.2571, loss: 0.3213\n",
      "2022-05-26 16:22:51,367 - mmfewshot - INFO - Iter [61200/100000]\tlr: 1.000e-04, eta: 3:15:48, time: 0.269, data_time: 0.012, memory: 4571, loss_rpn_cls: 0.0088, loss_rpn_bbox: 0.0036, loss_cls: 0.0644, acc: 99.5469, loss_bbox: 0.2708, loss: 0.3477\n",
      "2022-05-26 16:23:04,841 - mmfewshot - INFO - Iter [61250/100000]\tlr: 1.000e-04, eta: 3:15:32, time: 0.269, data_time: 0.012, memory: 4571, loss_rpn_cls: 0.0084, loss_rpn_bbox: 0.0066, loss_cls: 0.0400, acc: 99.5703, loss_bbox: 0.2953, loss: 0.3502\n",
      "2022-05-26 16:23:18,160 - mmfewshot - INFO - Iter [61300/100000]\tlr: 1.000e-04, eta: 3:15:16, time: 0.266, data_time: 0.012, memory: 4571, loss_rpn_cls: 0.0133, loss_rpn_bbox: 0.0055, loss_cls: 0.0334, acc: 99.6953, loss_bbox: 0.2805, loss: 0.3328\n",
      "2022-05-26 16:23:31,590 - mmfewshot - INFO - Iter [61350/100000]\tlr: 1.000e-04, eta: 3:14:59, time: 0.269, data_time: 0.012, memory: 4571, loss_rpn_cls: 0.0154, loss_rpn_bbox: 0.0055, loss_cls: 0.0353, acc: 99.5859, loss_bbox: 0.2736, loss: 0.3297\n",
      "2022-05-26 16:23:44,993 - mmfewshot - INFO - Iter [61400/100000]\tlr: 1.000e-04, eta: 3:14:43, time: 0.268, data_time: 0.011, memory: 4571, loss_rpn_cls: 0.0180, loss_rpn_bbox: 0.0107, loss_cls: 0.0458, acc: 99.6641, loss_bbox: 0.2665, loss: 0.3409\n",
      "2022-05-26 16:23:58,453 - mmfewshot - INFO - Iter [61450/100000]\tlr: 1.000e-04, eta: 3:14:27, time: 0.269, data_time: 0.013, memory: 4571, loss_rpn_cls: 0.0095, loss_rpn_bbox: 0.0070, loss_cls: 0.0557, acc: 99.4766, loss_bbox: 0.2832, loss: 0.3553\n",
      "2022-05-26 16:24:11,982 - mmfewshot - INFO - Iter [61500/100000]\tlr: 1.000e-04, eta: 3:14:11, time: 0.270, data_time: 0.012, memory: 4571, loss_rpn_cls: 0.0064, loss_rpn_bbox: 0.0038, loss_cls: 0.0475, acc: 99.5938, loss_bbox: 0.2709, loss: 0.3286\n",
      "2022-05-26 16:24:25,465 - mmfewshot - INFO - Iter [61550/100000]\tlr: 1.000e-04, eta: 3:13:55, time: 0.270, data_time: 0.013, memory: 4571, loss_rpn_cls: 0.0096, loss_rpn_bbox: 0.0050, loss_cls: 0.0454, acc: 99.6328, loss_bbox: 0.3060, loss: 0.3660\n",
      "2022-05-26 16:24:38,895 - mmfewshot - INFO - Iter [61600/100000]\tlr: 1.000e-04, eta: 3:13:38, time: 0.268, data_time: 0.012, memory: 4571, loss_rpn_cls: 0.0063, loss_rpn_bbox: 0.0037, loss_cls: 0.0317, acc: 99.6953, loss_bbox: 0.2993, loss: 0.3411\n",
      "2022-05-26 16:24:52,148 - mmfewshot - INFO - Iter [61650/100000]\tlr: 1.000e-04, eta: 3:13:22, time: 0.265, data_time: 0.011, memory: 4571, loss_rpn_cls: 0.0134, loss_rpn_bbox: 0.0056, loss_cls: 0.0800, acc: 99.5938, loss_bbox: 0.2571, loss: 0.3562\n",
      "2022-05-26 16:25:05,620 - mmfewshot - INFO - Iter [61700/100000]\tlr: 1.000e-04, eta: 3:13:06, time: 0.270, data_time: 0.012, memory: 4571, loss_rpn_cls: 0.0098, loss_rpn_bbox: 0.0057, loss_cls: 0.0578, acc: 99.5234, loss_bbox: 0.2578, loss: 0.3310\n",
      "2022-05-26 16:25:19,056 - mmfewshot - INFO - Iter [61750/100000]\tlr: 1.000e-04, eta: 3:12:50, time: 0.269, data_time: 0.011, memory: 4571, loss_rpn_cls: 0.0077, loss_rpn_bbox: 0.0035, loss_cls: 0.0379, acc: 99.6328, loss_bbox: 0.2504, loss: 0.2996\n",
      "2022-05-26 16:25:32,514 - mmfewshot - INFO - Iter [61800/100000]\tlr: 1.000e-04, eta: 3:12:34, time: 0.269, data_time: 0.013, memory: 4571, loss_rpn_cls: 0.0108, loss_rpn_bbox: 0.0072, loss_cls: 0.0400, acc: 99.6250, loss_bbox: 0.3087, loss: 0.3667\n",
      "2022-05-26 16:25:45,887 - mmfewshot - INFO - Iter [61850/100000]\tlr: 1.000e-04, eta: 3:12:17, time: 0.267, data_time: 0.012, memory: 4571, loss_rpn_cls: 0.0100, loss_rpn_bbox: 0.0052, loss_cls: 0.0370, acc: 99.6797, loss_bbox: 0.3147, loss: 0.3668\n",
      "2022-05-26 16:25:59,387 - mmfewshot - INFO - Iter [61900/100000]\tlr: 1.000e-04, eta: 3:12:01, time: 0.270, data_time: 0.012, memory: 4571, loss_rpn_cls: 0.0091, loss_rpn_bbox: 0.0042, loss_cls: 0.0522, acc: 99.5469, loss_bbox: 0.2914, loss: 0.3568\n",
      "2022-05-26 16:26:12,816 - mmfewshot - INFO - Iter [61950/100000]\tlr: 1.000e-04, eta: 3:11:45, time: 0.269, data_time: 0.011, memory: 4571, loss_rpn_cls: 0.0098, loss_rpn_bbox: 0.0048, loss_cls: 0.0438, acc: 99.6484, loss_bbox: 0.2953, loss: 0.3537\n",
      "2022-05-26 16:26:26,381 - mmfewshot - INFO - Exp name: attention-rpn_r50_c4_tb-split2_1shot-fine-tuning-momentum-09.py\n",
      "2022-05-26 16:26:26,382 - mmfewshot - INFO - Iter [62000/100000]\tlr: 1.000e-04, eta: 3:11:29, time: 0.271, data_time: 0.013, memory: 4571, loss_rpn_cls: 0.0076, loss_rpn_bbox: 0.0041, loss_cls: 0.0410, acc: 99.6562, loss_bbox: 0.3178, loss: 0.3705\n",
      "2022-05-26 16:26:26,387 - mmdet - INFO - starting model initialization...\n"
     ]
    },
    {
     "name": "stdout",
     "output_type": "stream",
     "text": [
      "[>>>>>>>>>>>>>>>>>>>>>>>>>>>>>] 850/850, 79.5 task/s, elapsed: 11s, ETA:     0s"
     ]
    },
    {
     "name": "stderr",
     "output_type": "stream",
     "text": [
      "2022-05-26 16:26:37,169 - mmdet - INFO - model initialization done.\n"
     ]
    },
    {
     "name": "stdout",
     "output_type": "stream",
     "text": [
      "[>>>>>>>>>>>>>>>>>>>>>>>>>>>>>] 300/300, 12.6 task/s, elapsed: 24s, ETA:     0s\n",
      "---------------iou_thr: 0.5---------------\n"
     ]
    },
    {
     "name": "stderr",
     "output_type": "stream",
     "text": [
      "2022-05-26 16:27:01,428 - mmfewshot - INFO - \n",
      "+---------+-----+------+--------+-------+\n",
      "| class   | gts | dets | recall | ap    |\n",
      "+---------+-----+------+--------+-------+\n",
      "| fanta   | 291 | 1554 | 0.876  | 0.713 |\n",
      "| Mirinda | 111 | 634  | 0.775  | 0.566 |\n",
      "+---------+-----+------+--------+-------+\n",
      "| mAP     |     |      |        | 0.640 |\n",
      "+---------+-----+------+--------+-------+\n",
      "2022-05-26 16:27:01,431 - mmfewshot - INFO - BASE_CLASSES_SPLIT2 mAP: 0.639609694480896\n",
      "2022-05-26 16:27:01,432 - mmfewshot - INFO - NOVEL_CLASSES_SPLIT2 mAP: nan\n",
      "2022-05-26 16:27:01,436 - mmfewshot - INFO - Exp name: attention-rpn_r50_c4_tb-split2_1shot-fine-tuning-momentum-09.py\n",
      "2022-05-26 16:27:01,440 - mmfewshot - INFO - Iter(val) [300]\tAP50: 0.6400, BASE_CLASSES_SPLIT2: AP50: 0.6400, NOVEL_CLASSES_SPLIT2: AP50: nan, mAP: 0.6396\n",
      "2022-05-26 16:27:14,872 - mmfewshot - INFO - Iter [62050/100000]\tlr: 1.000e-04, eta: 3:11:34, time: 0.970, data_time: 0.714, memory: 4571, loss_rpn_cls: 0.0151, loss_rpn_bbox: 0.0091, loss_cls: 0.0491, acc: 99.5312, loss_bbox: 0.3042, loss: 0.3775\n",
      "2022-05-26 16:27:28,198 - mmfewshot - INFO - Iter [62100/100000]\tlr: 1.000e-04, eta: 3:11:18, time: 0.266, data_time: 0.011, memory: 4571, loss_rpn_cls: 0.0153, loss_rpn_bbox: 0.0079, loss_cls: 0.0432, acc: 99.6406, loss_bbox: 0.2675, loss: 0.3340\n",
      "2022-05-26 16:27:41,757 - mmfewshot - INFO - Iter [62150/100000]\tlr: 1.000e-04, eta: 3:11:02, time: 0.271, data_time: 0.013, memory: 4571, loss_rpn_cls: 0.0102, loss_rpn_bbox: 0.0084, loss_cls: 0.0383, acc: 99.5938, loss_bbox: 0.3208, loss: 0.3776\n",
      "2022-05-26 16:27:55,157 - mmfewshot - INFO - Iter [62200/100000]\tlr: 1.000e-04, eta: 3:10:46, time: 0.268, data_time: 0.011, memory: 4571, loss_rpn_cls: 0.0105, loss_rpn_bbox: 0.0054, loss_cls: 0.0319, acc: 99.6719, loss_bbox: 0.2746, loss: 0.3224\n",
      "2022-05-26 16:28:08,541 - mmfewshot - INFO - Iter [62250/100000]\tlr: 1.000e-04, eta: 3:10:30, time: 0.268, data_time: 0.012, memory: 4571, loss_rpn_cls: 0.0118, loss_rpn_bbox: 0.0053, loss_cls: 0.0392, acc: 99.6797, loss_bbox: 0.2570, loss: 0.3132\n",
      "2022-05-26 16:28:21,918 - mmfewshot - INFO - Iter [62300/100000]\tlr: 1.000e-04, eta: 3:10:13, time: 0.267, data_time: 0.012, memory: 4571, loss_rpn_cls: 0.0090, loss_rpn_bbox: 0.0039, loss_cls: 0.0608, acc: 99.5781, loss_bbox: 0.2779, loss: 0.3516\n",
      "2022-05-26 16:28:35,219 - mmfewshot - INFO - Iter [62350/100000]\tlr: 1.000e-04, eta: 3:09:57, time: 0.266, data_time: 0.012, memory: 4571, loss_rpn_cls: 0.0141, loss_rpn_bbox: 0.0058, loss_cls: 0.0349, acc: 99.7344, loss_bbox: 0.2556, loss: 0.3103\n",
      "2022-05-26 16:28:48,616 - mmfewshot - INFO - Iter [62400/100000]\tlr: 1.000e-04, eta: 3:09:41, time: 0.268, data_time: 0.012, memory: 4571, loss_rpn_cls: 0.0092, loss_rpn_bbox: 0.0041, loss_cls: 0.0451, acc: 99.7109, loss_bbox: 0.2420, loss: 0.3003\n",
      "2022-05-26 16:29:02,043 - mmfewshot - INFO - Iter [62450/100000]\tlr: 1.000e-04, eta: 3:09:25, time: 0.268, data_time: 0.012, memory: 4571, loss_rpn_cls: 0.0126, loss_rpn_bbox: 0.0081, loss_cls: 0.0514, acc: 99.5469, loss_bbox: 0.3218, loss: 0.3939\n",
      "2022-05-26 16:29:15,553 - mmfewshot - INFO - Iter [62500/100000]\tlr: 1.000e-04, eta: 3:09:09, time: 0.270, data_time: 0.013, memory: 4571, loss_rpn_cls: 0.0086, loss_rpn_bbox: 0.0041, loss_cls: 0.0317, acc: 99.6328, loss_bbox: 0.3021, loss: 0.3466\n",
      "2022-05-26 16:29:28,984 - mmfewshot - INFO - Iter [62550/100000]\tlr: 1.000e-04, eta: 3:08:53, time: 0.269, data_time: 0.012, memory: 4571, loss_rpn_cls: 0.0059, loss_rpn_bbox: 0.0025, loss_cls: 0.0448, acc: 99.7109, loss_bbox: 0.2475, loss: 0.3007\n",
      "2022-05-26 16:29:42,480 - mmfewshot - INFO - Iter [62600/100000]\tlr: 1.000e-04, eta: 3:08:36, time: 0.270, data_time: 0.013, memory: 4571, loss_rpn_cls: 0.0127, loss_rpn_bbox: 0.0057, loss_cls: 0.0400, acc: 99.6016, loss_bbox: 0.3194, loss: 0.3778\n",
      "2022-05-26 16:29:55,914 - mmfewshot - INFO - Iter [62650/100000]\tlr: 1.000e-04, eta: 3:08:20, time: 0.269, data_time: 0.013, memory: 4571, loss_rpn_cls: 0.0150, loss_rpn_bbox: 0.0104, loss_cls: 0.0422, acc: 99.6328, loss_bbox: 0.2787, loss: 0.3462\n",
      "2022-05-26 16:30:09,405 - mmfewshot - INFO - Iter [62700/100000]\tlr: 1.000e-04, eta: 3:08:04, time: 0.270, data_time: 0.013, memory: 4571, loss_rpn_cls: 0.0066, loss_rpn_bbox: 0.0037, loss_cls: 0.0278, acc: 99.7500, loss_bbox: 0.3016, loss: 0.3397\n",
      "2022-05-26 16:30:22,840 - mmfewshot - INFO - Iter [62750/100000]\tlr: 1.000e-04, eta: 3:07:48, time: 0.269, data_time: 0.013, memory: 4571, loss_rpn_cls: 0.0093, loss_rpn_bbox: 0.0039, loss_cls: 0.0487, acc: 99.6016, loss_bbox: 0.2477, loss: 0.3096\n",
      "2022-05-26 16:30:36,311 - mmfewshot - INFO - Iter [62800/100000]\tlr: 1.000e-04, eta: 3:07:32, time: 0.269, data_time: 0.012, memory: 4571, loss_rpn_cls: 0.0105, loss_rpn_bbox: 0.0066, loss_cls: 0.0529, acc: 99.5625, loss_bbox: 0.3081, loss: 0.3780\n",
      "2022-05-26 16:30:49,716 - mmfewshot - INFO - Iter [62850/100000]\tlr: 1.000e-04, eta: 3:07:16, time: 0.268, data_time: 0.012, memory: 4571, loss_rpn_cls: 0.0082, loss_rpn_bbox: 0.0060, loss_cls: 0.0370, acc: 99.6016, loss_bbox: 0.2639, loss: 0.3150\n",
      "2022-05-26 16:31:03,202 - mmfewshot - INFO - Iter [62900/100000]\tlr: 1.000e-04, eta: 3:07:00, time: 0.270, data_time: 0.012, memory: 4571, loss_rpn_cls: 0.0070, loss_rpn_bbox: 0.0046, loss_cls: 0.0347, acc: 99.6953, loss_bbox: 0.2606, loss: 0.3068\n",
      "2022-05-26 16:31:16,635 - mmfewshot - INFO - Iter [62950/100000]\tlr: 1.000e-04, eta: 3:06:44, time: 0.269, data_time: 0.012, memory: 4571, loss_rpn_cls: 0.0073, loss_rpn_bbox: 0.0044, loss_cls: 0.0361, acc: 99.6094, loss_bbox: 0.2956, loss: 0.3433\n",
      "2022-05-26 16:31:30,124 - mmfewshot - INFO - Exp name: attention-rpn_r50_c4_tb-split2_1shot-fine-tuning-momentum-09.py\n",
      "2022-05-26 16:31:30,126 - mmfewshot - INFO - Iter [63000/100000]\tlr: 1.000e-04, eta: 3:06:28, time: 0.270, data_time: 0.012, memory: 4571, loss_rpn_cls: 0.0077, loss_rpn_bbox: 0.0043, loss_cls: 0.0455, acc: 99.6250, loss_bbox: 0.2936, loss: 0.3512\n",
      "2022-05-26 16:31:30,132 - mmdet - INFO - starting model initialization...\n"
     ]
    },
    {
     "name": "stdout",
     "output_type": "stream",
     "text": [
      "[>>>>>>>>>>>>>>>>>>>>>>>>>>>>>] 850/850, 80.5 task/s, elapsed: 11s, ETA:     0s"
     ]
    },
    {
     "name": "stderr",
     "output_type": "stream",
     "text": [
      "2022-05-26 16:31:40,785 - mmdet - INFO - model initialization done.\n"
     ]
    },
    {
     "name": "stdout",
     "output_type": "stream",
     "text": [
      "[>>>>>>>>>>>>>>>>>>>>>>>>>>>>>] 300/300, 12.8 task/s, elapsed: 24s, ETA:     0s\n",
      "---------------iou_thr: 0.5---------------\n"
     ]
    },
    {
     "name": "stderr",
     "output_type": "stream",
     "text": [
      "2022-05-26 16:32:04,629 - mmfewshot - INFO - \n",
      "+---------+-----+------+--------+-------+\n",
      "| class   | gts | dets | recall | ap    |\n",
      "+---------+-----+------+--------+-------+\n",
      "| fanta   | 291 | 1097 | 0.852  | 0.698 |\n",
      "| Mirinda | 111 | 652  | 0.757  | 0.626 |\n",
      "+---------+-----+------+--------+-------+\n",
      "| mAP     |     |      |        | 0.662 |\n",
      "+---------+-----+------+--------+-------+\n",
      "2022-05-26 16:32:04,632 - mmfewshot - INFO - BASE_CLASSES_SPLIT2 mAP: 0.661736249923706\n",
      "2022-05-26 16:32:04,633 - mmfewshot - INFO - NOVEL_CLASSES_SPLIT2 mAP: nan\n",
      "2022-05-26 16:32:04,637 - mmfewshot - INFO - Exp name: attention-rpn_r50_c4_tb-split2_1shot-fine-tuning-momentum-09.py\n",
      "2022-05-26 16:32:04,639 - mmfewshot - INFO - Iter(val) [300]\tAP50: 0.6620, BASE_CLASSES_SPLIT2: AP50: 0.6620, NOVEL_CLASSES_SPLIT2: AP50: nan, mAP: 0.6617\n",
      "2022-05-26 16:32:17,948 - mmfewshot - INFO - Iter [63050/100000]\tlr: 1.000e-04, eta: 3:06:32, time: 0.956, data_time: 0.703, memory: 4571, loss_rpn_cls: 0.0096, loss_rpn_bbox: 0.0048, loss_cls: 0.0480, acc: 99.6016, loss_bbox: 0.2740, loss: 0.3363\n",
      "2022-05-26 16:32:31,348 - mmfewshot - INFO - Iter [63100/100000]\tlr: 1.000e-04, eta: 3:06:15, time: 0.268, data_time: 0.012, memory: 4571, loss_rpn_cls: 0.0130, loss_rpn_bbox: 0.0073, loss_cls: 0.0324, acc: 99.6719, loss_bbox: 0.2808, loss: 0.3335\n",
      "2022-05-26 16:32:44,824 - mmfewshot - INFO - Iter [63150/100000]\tlr: 1.000e-04, eta: 3:05:59, time: 0.270, data_time: 0.013, memory: 4571, loss_rpn_cls: 0.0060, loss_rpn_bbox: 0.0031, loss_cls: 0.0375, acc: 99.6641, loss_bbox: 0.2512, loss: 0.2977\n",
      "2022-05-26 16:32:58,285 - mmfewshot - INFO - Iter [63200/100000]\tlr: 1.000e-04, eta: 3:05:43, time: 0.269, data_time: 0.012, memory: 4571, loss_rpn_cls: 0.0107, loss_rpn_bbox: 0.0065, loss_cls: 0.0467, acc: 99.5547, loss_bbox: 0.2941, loss: 0.3580\n",
      "2022-05-26 16:33:11,762 - mmfewshot - INFO - Iter [63250/100000]\tlr: 1.000e-04, eta: 3:05:27, time: 0.270, data_time: 0.012, memory: 4571, loss_rpn_cls: 0.0121, loss_rpn_bbox: 0.0046, loss_cls: 0.0502, acc: 99.5703, loss_bbox: 0.2801, loss: 0.3471\n",
      "2022-05-26 16:33:25,144 - mmfewshot - INFO - Iter [63300/100000]\tlr: 1.000e-04, eta: 3:05:11, time: 0.268, data_time: 0.012, memory: 4571, loss_rpn_cls: 0.0068, loss_rpn_bbox: 0.0043, loss_cls: 0.0383, acc: 99.6172, loss_bbox: 0.3392, loss: 0.3886\n",
      "2022-05-26 16:33:38,591 - mmfewshot - INFO - Iter [63350/100000]\tlr: 1.000e-04, eta: 3:04:55, time: 0.269, data_time: 0.013, memory: 4571, loss_rpn_cls: 0.0086, loss_rpn_bbox: 0.0051, loss_cls: 0.0352, acc: 99.6641, loss_bbox: 0.2821, loss: 0.3310\n",
      "2022-05-26 16:33:52,129 - mmfewshot - INFO - Iter [63400/100000]\tlr: 1.000e-04, eta: 3:04:39, time: 0.271, data_time: 0.013, memory: 4571, loss_rpn_cls: 0.0090, loss_rpn_bbox: 0.0047, loss_cls: 0.0452, acc: 99.6172, loss_bbox: 0.2632, loss: 0.3221\n",
      "2022-05-26 16:34:05,695 - mmfewshot - INFO - Iter [63450/100000]\tlr: 1.000e-04, eta: 3:04:23, time: 0.271, data_time: 0.013, memory: 4571, loss_rpn_cls: 0.0104, loss_rpn_bbox: 0.0056, loss_cls: 0.0320, acc: 99.6406, loss_bbox: 0.3075, loss: 0.3554\n",
      "2022-05-26 16:34:19,284 - mmfewshot - INFO - Iter [63500/100000]\tlr: 1.000e-04, eta: 3:04:07, time: 0.272, data_time: 0.013, memory: 4571, loss_rpn_cls: 0.0115, loss_rpn_bbox: 0.0093, loss_cls: 0.0564, acc: 99.5391, loss_bbox: 0.2797, loss: 0.3570\n",
      "2022-05-26 16:34:32,804 - mmfewshot - INFO - Iter [63550/100000]\tlr: 1.000e-04, eta: 3:03:51, time: 0.270, data_time: 0.013, memory: 4571, loss_rpn_cls: 0.0109, loss_rpn_bbox: 0.0134, loss_cls: 0.0483, acc: 99.6484, loss_bbox: 0.2601, loss: 0.3327\n",
      "2022-05-26 16:34:46,241 - mmfewshot - INFO - Iter [63600/100000]\tlr: 1.000e-04, eta: 3:03:35, time: 0.269, data_time: 0.013, memory: 4571, loss_rpn_cls: 0.0061, loss_rpn_bbox: 0.0038, loss_cls: 0.0399, acc: 99.6250, loss_bbox: 0.2934, loss: 0.3432\n",
      "2022-05-26 16:34:59,641 - mmfewshot - INFO - Iter [63650/100000]\tlr: 1.000e-04, eta: 3:03:18, time: 0.268, data_time: 0.013, memory: 4571, loss_rpn_cls: 0.0170, loss_rpn_bbox: 0.0105, loss_cls: 0.0323, acc: 99.6719, loss_bbox: 0.3138, loss: 0.3736\n",
      "2022-05-26 16:35:13,174 - mmfewshot - INFO - Iter [63700/100000]\tlr: 1.000e-04, eta: 3:03:02, time: 0.271, data_time: 0.013, memory: 4571, loss_rpn_cls: 0.0091, loss_rpn_bbox: 0.0076, loss_cls: 0.0359, acc: 99.6094, loss_bbox: 0.3047, loss: 0.3573\n",
      "2022-05-26 16:35:26,582 - mmfewshot - INFO - Iter [63750/100000]\tlr: 1.000e-04, eta: 3:02:46, time: 0.268, data_time: 0.012, memory: 4571, loss_rpn_cls: 0.0116, loss_rpn_bbox: 0.0065, loss_cls: 0.0488, acc: 99.6641, loss_bbox: 0.2612, loss: 0.3280\n",
      "2022-05-26 16:35:40,003 - mmfewshot - INFO - Iter [63800/100000]\tlr: 1.000e-04, eta: 3:02:30, time: 0.269, data_time: 0.012, memory: 4571, loss_rpn_cls: 0.0082, loss_rpn_bbox: 0.0065, loss_cls: 0.0380, acc: 99.6797, loss_bbox: 0.2821, loss: 0.3349\n",
      "2022-05-26 16:35:53,405 - mmfewshot - INFO - Iter [63850/100000]\tlr: 1.000e-04, eta: 3:02:14, time: 0.268, data_time: 0.012, memory: 4571, loss_rpn_cls: 0.0153, loss_rpn_bbox: 0.0088, loss_cls: 0.0307, acc: 99.7422, loss_bbox: 0.2882, loss: 0.3430\n",
      "2022-05-26 16:36:06,878 - mmfewshot - INFO - Iter [63900/100000]\tlr: 1.000e-04, eta: 3:01:58, time: 0.269, data_time: 0.012, memory: 4571, loss_rpn_cls: 0.0051, loss_rpn_bbox: 0.0035, loss_cls: 0.0431, acc: 99.6016, loss_bbox: 0.2796, loss: 0.3312\n",
      "2022-05-26 16:36:20,337 - mmfewshot - INFO - Iter [63950/100000]\tlr: 1.000e-04, eta: 3:01:42, time: 0.269, data_time: 0.013, memory: 4571, loss_rpn_cls: 0.0068, loss_rpn_bbox: 0.0037, loss_cls: 0.0369, acc: 99.5938, loss_bbox: 0.2814, loss: 0.3288\n",
      "2022-05-26 16:36:33,609 - mmfewshot - INFO - Exp name: attention-rpn_r50_c4_tb-split2_1shot-fine-tuning-momentum-09.py\n",
      "2022-05-26 16:36:33,611 - mmfewshot - INFO - Iter [64000/100000]\tlr: 1.000e-04, eta: 3:01:26, time: 0.265, data_time: 0.010, memory: 4571, loss_rpn_cls: 0.0109, loss_rpn_bbox: 0.0088, loss_cls: 0.0322, acc: 99.6484, loss_bbox: 0.3236, loss: 0.3755\n",
      "2022-05-26 16:36:33,616 - mmdet - INFO - starting model initialization...\n"
     ]
    },
    {
     "name": "stdout",
     "output_type": "stream",
     "text": [
      "[>>>>>>>>>>>>>>>>>>>>>>>>>>>>>] 850/850, 74.5 task/s, elapsed: 11s, ETA:     0s"
     ]
    },
    {
     "name": "stderr",
     "output_type": "stream",
     "text": [
      "2022-05-26 16:36:45,096 - mmdet - INFO - model initialization done.\n"
     ]
    },
    {
     "name": "stdout",
     "output_type": "stream",
     "text": [
      "[>>>>>>>>>>>>>>>>>>>>>>>>>>>>>] 300/300, 12.6 task/s, elapsed: 24s, ETA:     0s\n",
      "---------------iou_thr: 0.5---------------\n"
     ]
    },
    {
     "name": "stderr",
     "output_type": "stream",
     "text": [
      "2022-05-26 16:37:09,169 - mmfewshot - INFO - \n",
      "+---------+-----+------+--------+-------+\n",
      "| class   | gts | dets | recall | ap    |\n",
      "+---------+-----+------+--------+-------+\n",
      "| fanta   | 291 | 1587 | 0.883  | 0.730 |\n",
      "| Mirinda | 111 | 632  | 0.775  | 0.619 |\n",
      "+---------+-----+------+--------+-------+\n",
      "| mAP     |     |      |        | 0.674 |\n",
      "+---------+-----+------+--------+-------+\n",
      "2022-05-26 16:37:09,172 - mmfewshot - INFO - BASE_CLASSES_SPLIT2 mAP: 0.6742149591445923\n",
      "2022-05-26 16:37:09,173 - mmfewshot - INFO - NOVEL_CLASSES_SPLIT2 mAP: nan\n",
      "2022-05-26 16:37:09,177 - mmfewshot - INFO - Exp name: attention-rpn_r50_c4_tb-split2_1shot-fine-tuning-momentum-09.py\n",
      "2022-05-26 16:37:09,178 - mmfewshot - INFO - Iter(val) [300]\tAP50: 0.6740, BASE_CLASSES_SPLIT2: AP50: 0.6740, NOVEL_CLASSES_SPLIT2: AP50: nan, mAP: 0.6742\n",
      "2022-05-26 16:37:22,678 - mmfewshot - INFO - Iter [64050/100000]\tlr: 1.000e-04, eta: 3:01:30, time: 0.982, data_time: 0.724, memory: 4571, loss_rpn_cls: 0.0079, loss_rpn_bbox: 0.0040, loss_cls: 0.0404, acc: 99.6953, loss_bbox: 0.3006, loss: 0.3528\n",
      "2022-05-26 16:37:36,145 - mmfewshot - INFO - Iter [64100/100000]\tlr: 1.000e-04, eta: 3:01:14, time: 0.269, data_time: 0.013, memory: 4571, loss_rpn_cls: 0.0159, loss_rpn_bbox: 0.0099, loss_cls: 0.0379, acc: 99.7031, loss_bbox: 0.2677, loss: 0.3313\n",
      "2022-05-26 16:37:49,707 - mmfewshot - INFO - Iter [64150/100000]\tlr: 1.000e-04, eta: 3:00:58, time: 0.271, data_time: 0.012, memory: 4571, loss_rpn_cls: 0.0122, loss_rpn_bbox: 0.0070, loss_cls: 0.0363, acc: 99.5312, loss_bbox: 0.3224, loss: 0.3780\n",
      "2022-05-26 16:38:03,157 - mmfewshot - INFO - Iter [64200/100000]\tlr: 1.000e-04, eta: 3:00:41, time: 0.269, data_time: 0.012, memory: 4571, loss_rpn_cls: 0.0134, loss_rpn_bbox: 0.0071, loss_cls: 0.0329, acc: 99.6953, loss_bbox: 0.2822, loss: 0.3356\n",
      "2022-05-26 16:38:16,574 - mmfewshot - INFO - Iter [64250/100000]\tlr: 1.000e-04, eta: 3:00:25, time: 0.268, data_time: 0.013, memory: 4571, loss_rpn_cls: 0.0067, loss_rpn_bbox: 0.0038, loss_cls: 0.0450, acc: 99.7031, loss_bbox: 0.2506, loss: 0.3061\n",
      "2022-05-26 16:38:30,074 - mmfewshot - INFO - Iter [64300/100000]\tlr: 1.000e-04, eta: 3:00:09, time: 0.270, data_time: 0.012, memory: 4571, loss_rpn_cls: 0.0060, loss_rpn_bbox: 0.0031, loss_cls: 0.0440, acc: 99.5781, loss_bbox: 0.2792, loss: 0.3324\n",
      "2022-05-26 16:38:43,593 - mmfewshot - INFO - Iter [64350/100000]\tlr: 1.000e-04, eta: 2:59:53, time: 0.271, data_time: 0.013, memory: 4571, loss_rpn_cls: 0.0124, loss_rpn_bbox: 0.0072, loss_cls: 0.0345, acc: 99.6562, loss_bbox: 0.2612, loss: 0.3152\n",
      "2022-05-26 16:38:56,991 - mmfewshot - INFO - Iter [64400/100000]\tlr: 1.000e-04, eta: 2:59:37, time: 0.268, data_time: 0.012, memory: 4571, loss_rpn_cls: 0.0079, loss_rpn_bbox: 0.0043, loss_cls: 0.0399, acc: 99.6406, loss_bbox: 0.2711, loss: 0.3232\n",
      "2022-05-26 16:39:10,358 - mmfewshot - INFO - Iter [64450/100000]\tlr: 1.000e-04, eta: 2:59:21, time: 0.267, data_time: 0.011, memory: 4571, loss_rpn_cls: 0.0065, loss_rpn_bbox: 0.0041, loss_cls: 0.0438, acc: 99.6719, loss_bbox: 0.2593, loss: 0.3138\n",
      "2022-05-26 16:39:23,731 - mmfewshot - INFO - Iter [64500/100000]\tlr: 1.000e-04, eta: 2:59:05, time: 0.268, data_time: 0.012, memory: 4571, loss_rpn_cls: 0.0099, loss_rpn_bbox: 0.0055, loss_cls: 0.0343, acc: 99.6953, loss_bbox: 0.2728, loss: 0.3226\n",
      "2022-05-26 16:39:37,195 - mmfewshot - INFO - Iter [64550/100000]\tlr: 1.000e-04, eta: 2:58:49, time: 0.269, data_time: 0.011, memory: 4571, loss_rpn_cls: 0.0067, loss_rpn_bbox: 0.0049, loss_cls: 0.0480, acc: 99.7344, loss_bbox: 0.2533, loss: 0.3129\n",
      "2022-05-26 16:39:50,533 - mmfewshot - INFO - Iter [64600/100000]\tlr: 1.000e-04, eta: 2:58:33, time: 0.267, data_time: 0.011, memory: 4571, loss_rpn_cls: 0.0132, loss_rpn_bbox: 0.0071, loss_cls: 0.0957, acc: 99.5391, loss_bbox: 0.2706, loss: 0.3866\n",
      "2022-05-26 16:40:04,035 - mmfewshot - INFO - Iter [64650/100000]\tlr: 1.000e-04, eta: 2:58:17, time: 0.270, data_time: 0.012, memory: 4571, loss_rpn_cls: 0.0071, loss_rpn_bbox: 0.0028, loss_cls: 0.0362, acc: 99.6719, loss_bbox: 0.2500, loss: 0.2961\n",
      "2022-05-26 16:40:17,525 - mmfewshot - INFO - Iter [64700/100000]\tlr: 1.000e-04, eta: 2:58:01, time: 0.270, data_time: 0.013, memory: 4571, loss_rpn_cls: 0.0072, loss_rpn_bbox: 0.0042, loss_cls: 0.0379, acc: 99.6484, loss_bbox: 0.2728, loss: 0.3221\n",
      "2022-05-26 16:40:30,944 - mmfewshot - INFO - Iter [64750/100000]\tlr: 1.000e-04, eta: 2:57:45, time: 0.268, data_time: 0.013, memory: 4571, loss_rpn_cls: 0.0083, loss_rpn_bbox: 0.0046, loss_cls: 0.0427, acc: 99.6875, loss_bbox: 0.2626, loss: 0.3181\n",
      "2022-05-26 16:40:44,362 - mmfewshot - INFO - Iter [64800/100000]\tlr: 1.000e-04, eta: 2:57:29, time: 0.269, data_time: 0.012, memory: 4571, loss_rpn_cls: 0.0063, loss_rpn_bbox: 0.0031, loss_cls: 0.0370, acc: 99.7344, loss_bbox: 0.2291, loss: 0.2756\n",
      "2022-05-26 16:40:57,720 - mmfewshot - INFO - Iter [64850/100000]\tlr: 1.000e-04, eta: 2:57:13, time: 0.267, data_time: 0.011, memory: 4571, loss_rpn_cls: 0.0128, loss_rpn_bbox: 0.0047, loss_cls: 0.0309, acc: 99.7422, loss_bbox: 0.2828, loss: 0.3313\n",
      "2022-05-26 16:41:11,236 - mmfewshot - INFO - Iter [64900/100000]\tlr: 1.000e-04, eta: 2:56:57, time: 0.271, data_time: 0.013, memory: 4571, loss_rpn_cls: 0.0088, loss_rpn_bbox: 0.0060, loss_cls: 0.0402, acc: 99.6328, loss_bbox: 0.2670, loss: 0.3219\n",
      "2022-05-26 16:41:24,622 - mmfewshot - INFO - Iter [64950/100000]\tlr: 1.000e-04, eta: 2:56:40, time: 0.268, data_time: 0.012, memory: 4571, loss_rpn_cls: 0.0064, loss_rpn_bbox: 0.0037, loss_cls: 0.0534, acc: 99.6641, loss_bbox: 0.2470, loss: 0.3106\n",
      "2022-05-26 16:41:37,964 - mmfewshot - INFO - Exp name: attention-rpn_r50_c4_tb-split2_1shot-fine-tuning-momentum-09.py\n",
      "2022-05-26 16:41:37,966 - mmfewshot - INFO - Iter [65000/100000]\tlr: 1.000e-04, eta: 2:56:24, time: 0.267, data_time: 0.011, memory: 4571, loss_rpn_cls: 0.0101, loss_rpn_bbox: 0.0045, loss_cls: 0.0438, acc: 99.6484, loss_bbox: 0.2844, loss: 0.3428\n",
      "2022-05-26 16:41:37,971 - mmdet - INFO - starting model initialization...\n"
     ]
    },
    {
     "name": "stdout",
     "output_type": "stream",
     "text": [
      "[>>>>>>>>>>>>>>>>>>>>>>>>>>>>>] 850/850, 73.8 task/s, elapsed: 12s, ETA:     0s"
     ]
    },
    {
     "name": "stderr",
     "output_type": "stream",
     "text": [
      "2022-05-26 16:41:49,558 - mmdet - INFO - model initialization done.\n"
     ]
    },
    {
     "name": "stdout",
     "output_type": "stream",
     "text": [
      "[>>>>>>>>>>>>>>>>>>>>>>>>>>>>>] 300/300, 12.5 task/s, elapsed: 24s, ETA:     0s\n",
      "---------------iou_thr: 0.5---------------\n"
     ]
    },
    {
     "name": "stderr",
     "output_type": "stream",
     "text": [
      "2022-05-26 16:42:13,886 - mmfewshot - INFO - \n",
      "+---------+-----+------+--------+-------+\n",
      "| class   | gts | dets | recall | ap    |\n",
      "+---------+-----+------+--------+-------+\n",
      "| fanta   | 291 | 1359 | 0.880  | 0.738 |\n",
      "| Mirinda | 111 | 582  | 0.757  | 0.590 |\n",
      "+---------+-----+------+--------+-------+\n",
      "| mAP     |     |      |        | 0.664 |\n",
      "+---------+-----+------+--------+-------+\n",
      "2022-05-26 16:42:13,889 - mmfewshot - INFO - BASE_CLASSES_SPLIT2 mAP: 0.6637117862701416\n",
      "2022-05-26 16:42:13,890 - mmfewshot - INFO - NOVEL_CLASSES_SPLIT2 mAP: nan\n",
      "2022-05-26 16:42:13,894 - mmfewshot - INFO - Exp name: attention-rpn_r50_c4_tb-split2_1shot-fine-tuning-momentum-09.py\n",
      "2022-05-26 16:42:13,895 - mmfewshot - INFO - Iter(val) [300]\tAP50: 0.6640, BASE_CLASSES_SPLIT2: AP50: 0.6640, NOVEL_CLASSES_SPLIT2: AP50: nan, mAP: 0.6637\n",
      "2022-05-26 16:42:27,356 - mmfewshot - INFO - Iter [65050/100000]\tlr: 1.000e-04, eta: 2:56:28, time: 0.988, data_time: 0.731, memory: 4571, loss_rpn_cls: 0.0108, loss_rpn_bbox: 0.0045, loss_cls: 0.0468, acc: 99.5156, loss_bbox: 0.2844, loss: 0.3465\n",
      "2022-05-26 16:42:40,850 - mmfewshot - INFO - Iter [65100/100000]\tlr: 1.000e-04, eta: 2:56:12, time: 0.270, data_time: 0.012, memory: 4571, loss_rpn_cls: 0.0118, loss_rpn_bbox: 0.0070, loss_cls: 0.0504, acc: 99.4766, loss_bbox: 0.3051, loss: 0.3743\n",
      "2022-05-26 16:42:54,366 - mmfewshot - INFO - Iter [65150/100000]\tlr: 1.000e-04, eta: 2:55:56, time: 0.271, data_time: 0.013, memory: 4571, loss_rpn_cls: 0.0119, loss_rpn_bbox: 0.0064, loss_cls: 0.0291, acc: 99.6641, loss_bbox: 0.2891, loss: 0.3365\n",
      "2022-05-26 16:43:07,946 - mmfewshot - INFO - Iter [65200/100000]\tlr: 1.000e-04, eta: 2:55:40, time: 0.271, data_time: 0.012, memory: 4571, loss_rpn_cls: 0.0098, loss_rpn_bbox: 0.0065, loss_cls: 0.0312, acc: 99.6562, loss_bbox: 0.2801, loss: 0.3276\n",
      "2022-05-26 16:43:21,432 - mmfewshot - INFO - Iter [65250/100000]\tlr: 1.000e-04, eta: 2:55:24, time: 0.270, data_time: 0.013, memory: 4571, loss_rpn_cls: 0.0073, loss_rpn_bbox: 0.0047, loss_cls: 0.0401, acc: 99.5703, loss_bbox: 0.3079, loss: 0.3601\n",
      "2022-05-26 16:43:34,884 - mmfewshot - INFO - Iter [65300/100000]\tlr: 1.000e-04, eta: 2:55:08, time: 0.269, data_time: 0.013, memory: 4571, loss_rpn_cls: 0.0108, loss_rpn_bbox: 0.0054, loss_cls: 0.0315, acc: 99.6328, loss_bbox: 0.3293, loss: 0.3769\n",
      "2022-05-26 16:43:48,307 - mmfewshot - INFO - Iter [65350/100000]\tlr: 1.000e-04, eta: 2:54:52, time: 0.268, data_time: 0.012, memory: 4571, loss_rpn_cls: 0.0075, loss_rpn_bbox: 0.0042, loss_cls: 0.0343, acc: 99.6797, loss_bbox: 0.2649, loss: 0.3109\n",
      "2022-05-26 16:44:01,675 - mmfewshot - INFO - Iter [65400/100000]\tlr: 1.000e-04, eta: 2:54:35, time: 0.267, data_time: 0.013, memory: 4571, loss_rpn_cls: 0.0074, loss_rpn_bbox: 0.0046, loss_cls: 0.0371, acc: 99.6328, loss_bbox: 0.2884, loss: 0.3375\n",
      "2022-05-26 16:44:15,159 - mmfewshot - INFO - Iter [65450/100000]\tlr: 1.000e-04, eta: 2:54:19, time: 0.270, data_time: 0.013, memory: 4571, loss_rpn_cls: 0.0048, loss_rpn_bbox: 0.0028, loss_cls: 0.0694, acc: 99.5234, loss_bbox: 0.2609, loss: 0.3378\n",
      "2022-05-26 16:44:28,402 - mmfewshot - INFO - Iter [65500/100000]\tlr: 1.000e-04, eta: 2:54:03, time: 0.265, data_time: 0.010, memory: 4571, loss_rpn_cls: 0.0092, loss_rpn_bbox: 0.0045, loss_cls: 0.0384, acc: 99.6719, loss_bbox: 0.2854, loss: 0.3376\n",
      "2022-05-26 16:44:41,732 - mmfewshot - INFO - Iter [65550/100000]\tlr: 1.000e-04, eta: 2:53:47, time: 0.267, data_time: 0.012, memory: 4571, loss_rpn_cls: 0.0177, loss_rpn_bbox: 0.0069, loss_cls: 0.0566, acc: 99.5312, loss_bbox: 0.2722, loss: 0.3534\n",
      "2022-05-26 16:44:55,188 - mmfewshot - INFO - Iter [65600/100000]\tlr: 1.000e-04, eta: 2:53:31, time: 0.269, data_time: 0.012, memory: 4571, loss_rpn_cls: 0.0112, loss_rpn_bbox: 0.0086, loss_cls: 0.0337, acc: 99.6406, loss_bbox: 0.2939, loss: 0.3475\n",
      "2022-05-26 16:45:08,638 - mmfewshot - INFO - Iter [65650/100000]\tlr: 1.000e-04, eta: 2:53:15, time: 0.269, data_time: 0.012, memory: 4571, loss_rpn_cls: 0.0073, loss_rpn_bbox: 0.0047, loss_cls: 0.0467, acc: 99.7266, loss_bbox: 0.2600, loss: 0.3187\n",
      "2022-05-26 16:45:22,186 - mmfewshot - INFO - Iter [65700/100000]\tlr: 1.000e-04, eta: 2:52:59, time: 0.271, data_time: 0.013, memory: 4571, loss_rpn_cls: 0.0183, loss_rpn_bbox: 0.0084, loss_cls: 0.0433, acc: 99.6562, loss_bbox: 0.2606, loss: 0.3306\n",
      "2022-05-26 16:45:35,583 - mmfewshot - INFO - Iter [65750/100000]\tlr: 1.000e-04, eta: 2:52:43, time: 0.268, data_time: 0.012, memory: 4571, loss_rpn_cls: 0.0073, loss_rpn_bbox: 0.0065, loss_cls: 0.0354, acc: 99.5938, loss_bbox: 0.2880, loss: 0.3371\n",
      "2022-05-26 16:45:49,028 - mmfewshot - INFO - Iter [65800/100000]\tlr: 1.000e-04, eta: 2:52:27, time: 0.269, data_time: 0.013, memory: 4571, loss_rpn_cls: 0.0069, loss_rpn_bbox: 0.0026, loss_cls: 0.0462, acc: 99.5938, loss_bbox: 0.2611, loss: 0.3168\n",
      "2022-05-26 16:46:02,455 - mmfewshot - INFO - Iter [65850/100000]\tlr: 1.000e-04, eta: 2:52:11, time: 0.269, data_time: 0.012, memory: 4571, loss_rpn_cls: 0.0083, loss_rpn_bbox: 0.0034, loss_cls: 0.0424, acc: 99.6719, loss_bbox: 0.2483, loss: 0.3024\n",
      "2022-05-26 16:46:15,860 - mmfewshot - INFO - Iter [65900/100000]\tlr: 1.000e-04, eta: 2:51:55, time: 0.268, data_time: 0.012, memory: 4571, loss_rpn_cls: 0.0115, loss_rpn_bbox: 0.0051, loss_cls: 0.0633, acc: 99.6562, loss_bbox: 0.2679, loss: 0.3478\n",
      "2022-05-26 16:46:29,230 - mmfewshot - INFO - Iter [65950/100000]\tlr: 1.000e-04, eta: 2:51:39, time: 0.267, data_time: 0.012, memory: 4571, loss_rpn_cls: 0.0112, loss_rpn_bbox: 0.0068, loss_cls: 0.0687, acc: 99.5000, loss_bbox: 0.2676, loss: 0.3543\n",
      "2022-05-26 16:46:42,556 - mmfewshot - INFO - Exp name: attention-rpn_r50_c4_tb-split2_1shot-fine-tuning-momentum-09.py\n",
      "2022-05-26 16:46:42,558 - mmfewshot - INFO - Iter [66000/100000]\tlr: 1.000e-04, eta: 2:51:23, time: 0.266, data_time: 0.011, memory: 4571, loss_rpn_cls: 0.0089, loss_rpn_bbox: 0.0059, loss_cls: 0.0623, acc: 99.5078, loss_bbox: 0.3257, loss: 0.4029\n",
      "2022-05-26 16:46:42,563 - mmdet - INFO - starting model initialization...\n"
     ]
    },
    {
     "name": "stdout",
     "output_type": "stream",
     "text": [
      "[>>>>>>>>>>>>>>>>>>>>>>>>>>>>>] 850/850, 77.2 task/s, elapsed: 11s, ETA:     0s"
     ]
    },
    {
     "name": "stderr",
     "output_type": "stream",
     "text": [
      "2022-05-26 16:46:53,650 - mmdet - INFO - model initialization done.\n"
     ]
    },
    {
     "name": "stdout",
     "output_type": "stream",
     "text": [
      "[>>>>>>>>>>>>>>>>>>>>>>>>>>>>>] 300/300, 12.7 task/s, elapsed: 24s, ETA:     0s\n",
      "---------------iou_thr: 0.5---------------\n"
     ]
    },
    {
     "name": "stderr",
     "output_type": "stream",
     "text": [
      "2022-05-26 16:47:17,667 - mmfewshot - INFO - \n",
      "+---------+-----+------+--------+-------+\n",
      "| class   | gts | dets | recall | ap    |\n",
      "+---------+-----+------+--------+-------+\n",
      "| fanta   | 291 | 1599 | 0.890  | 0.718 |\n",
      "| Mirinda | 111 | 793  | 0.757  | 0.639 |\n",
      "+---------+-----+------+--------+-------+\n",
      "| mAP     |     |      |        | 0.679 |\n",
      "+---------+-----+------+--------+-------+\n",
      "2022-05-26 16:47:17,670 - mmfewshot - INFO - BASE_CLASSES_SPLIT2 mAP: 0.6787114143371582\n",
      "2022-05-26 16:47:17,671 - mmfewshot - INFO - NOVEL_CLASSES_SPLIT2 mAP: nan\n",
      "2022-05-26 16:47:17,674 - mmfewshot - INFO - Exp name: attention-rpn_r50_c4_tb-split2_1shot-fine-tuning-momentum-09.py\n",
      "2022-05-26 16:47:17,675 - mmfewshot - INFO - Iter(val) [300]\tAP50: 0.6790, BASE_CLASSES_SPLIT2: AP50: 0.6790, NOVEL_CLASSES_SPLIT2: AP50: nan, mAP: 0.6787\n",
      "2022-05-26 16:47:31,166 - mmfewshot - INFO - Iter [66050/100000]\tlr: 1.000e-04, eta: 2:51:25, time: 0.972, data_time: 0.715, memory: 4571, loss_rpn_cls: 0.0150, loss_rpn_bbox: 0.0079, loss_cls: 0.0375, acc: 99.5938, loss_bbox: 0.2989, loss: 0.3593\n",
      "2022-05-26 16:47:44,584 - mmfewshot - INFO - Iter [66100/100000]\tlr: 1.000e-04, eta: 2:51:09, time: 0.268, data_time: 0.012, memory: 4571, loss_rpn_cls: 0.0113, loss_rpn_bbox: 0.0056, loss_cls: 0.0628, acc: 99.6562, loss_bbox: 0.2753, loss: 0.3550\n",
      "2022-05-26 16:47:57,950 - mmfewshot - INFO - Iter [66150/100000]\tlr: 1.000e-04, eta: 2:50:53, time: 0.267, data_time: 0.011, memory: 4571, loss_rpn_cls: 0.0055, loss_rpn_bbox: 0.0033, loss_cls: 0.0443, acc: 99.7656, loss_bbox: 0.2260, loss: 0.2790\n",
      "2022-05-26 16:48:11,361 - mmfewshot - INFO - Iter [66200/100000]\tlr: 1.000e-04, eta: 2:50:37, time: 0.268, data_time: 0.013, memory: 4571, loss_rpn_cls: 0.0080, loss_rpn_bbox: 0.0042, loss_cls: 0.0399, acc: 99.5859, loss_bbox: 0.2723, loss: 0.3244\n",
      "2022-05-26 16:48:24,830 - mmfewshot - INFO - Iter [66250/100000]\tlr: 1.000e-04, eta: 2:50:21, time: 0.269, data_time: 0.012, memory: 4571, loss_rpn_cls: 0.0115, loss_rpn_bbox: 0.0076, loss_cls: 0.0298, acc: 99.6719, loss_bbox: 0.2846, loss: 0.3335\n",
      "2022-05-26 16:48:38,408 - mmfewshot - INFO - Iter [66300/100000]\tlr: 1.000e-04, eta: 2:50:05, time: 0.272, data_time: 0.012, memory: 4571, loss_rpn_cls: 0.0117, loss_rpn_bbox: 0.0049, loss_cls: 0.0375, acc: 99.6797, loss_bbox: 0.2771, loss: 0.3312\n",
      "2022-05-26 16:48:51,886 - mmfewshot - INFO - Iter [66350/100000]\tlr: 1.000e-04, eta: 2:49:49, time: 0.270, data_time: 0.012, memory: 4571, loss_rpn_cls: 0.0066, loss_rpn_bbox: 0.0036, loss_cls: 0.0537, acc: 99.5156, loss_bbox: 0.2765, loss: 0.3404\n",
      "2022-05-26 16:49:05,346 - mmfewshot - INFO - Iter [66400/100000]\tlr: 1.000e-04, eta: 2:49:33, time: 0.269, data_time: 0.012, memory: 4571, loss_rpn_cls: 0.0135, loss_rpn_bbox: 0.0092, loss_cls: 0.0439, acc: 99.5938, loss_bbox: 0.3347, loss: 0.4012\n",
      "2022-05-26 16:49:18,714 - mmfewshot - INFO - Iter [66450/100000]\tlr: 1.000e-04, eta: 2:49:17, time: 0.267, data_time: 0.012, memory: 4571, loss_rpn_cls: 0.0141, loss_rpn_bbox: 0.0085, loss_cls: 0.0396, acc: 99.5547, loss_bbox: 0.3293, loss: 0.3915\n",
      "2022-05-26 16:49:32,065 - mmfewshot - INFO - Iter [66500/100000]\tlr: 1.000e-04, eta: 2:49:01, time: 0.267, data_time: 0.012, memory: 4571, loss_rpn_cls: 0.0106, loss_rpn_bbox: 0.0060, loss_cls: 0.0343, acc: 99.6328, loss_bbox: 0.2736, loss: 0.3244\n",
      "2022-05-26 16:49:45,501 - mmfewshot - INFO - Iter [66550/100000]\tlr: 1.000e-04, eta: 2:48:45, time: 0.269, data_time: 0.012, memory: 4571, loss_rpn_cls: 0.0065, loss_rpn_bbox: 0.0054, loss_cls: 0.0300, acc: 99.6953, loss_bbox: 0.3058, loss: 0.3476\n",
      "2022-05-26 16:49:58,920 - mmfewshot - INFO - Iter [66600/100000]\tlr: 1.000e-04, eta: 2:48:29, time: 0.268, data_time: 0.012, memory: 4571, loss_rpn_cls: 0.0103, loss_rpn_bbox: 0.0043, loss_cls: 0.0324, acc: 99.6797, loss_bbox: 0.2917, loss: 0.3388\n",
      "2022-05-26 16:50:12,496 - mmfewshot - INFO - Iter [66650/100000]\tlr: 1.000e-04, eta: 2:48:13, time: 0.272, data_time: 0.013, memory: 4571, loss_rpn_cls: 0.0083, loss_rpn_bbox: 0.0054, loss_cls: 0.0517, acc: 99.5859, loss_bbox: 0.2908, loss: 0.3561\n",
      "2022-05-26 16:50:26,024 - mmfewshot - INFO - Iter [66700/100000]\tlr: 1.000e-04, eta: 2:47:57, time: 0.270, data_time: 0.013, memory: 4571, loss_rpn_cls: 0.0081, loss_rpn_bbox: 0.0038, loss_cls: 0.0502, acc: 99.6250, loss_bbox: 0.2516, loss: 0.3137\n",
      "2022-05-26 16:50:39,355 - mmfewshot - INFO - Iter [66750/100000]\tlr: 1.000e-04, eta: 2:47:41, time: 0.267, data_time: 0.012, memory: 4571, loss_rpn_cls: 0.0097, loss_rpn_bbox: 0.0044, loss_cls: 0.0549, acc: 99.6172, loss_bbox: 0.2270, loss: 0.2960\n",
      "2022-05-26 16:50:52,755 - mmfewshot - INFO - Iter [66800/100000]\tlr: 1.000e-04, eta: 2:47:25, time: 0.268, data_time: 0.012, memory: 4571, loss_rpn_cls: 0.0133, loss_rpn_bbox: 0.0061, loss_cls: 0.0401, acc: 99.5938, loss_bbox: 0.3044, loss: 0.3639\n",
      "2022-05-26 16:51:06,220 - mmfewshot - INFO - Iter [66850/100000]\tlr: 1.000e-04, eta: 2:47:09, time: 0.269, data_time: 0.013, memory: 4571, loss_rpn_cls: 0.0083, loss_rpn_bbox: 0.0049, loss_cls: 0.0379, acc: 99.7344, loss_bbox: 0.2708, loss: 0.3219\n",
      "2022-05-26 16:51:19,649 - mmfewshot - INFO - Iter [66900/100000]\tlr: 1.000e-04, eta: 2:46:53, time: 0.269, data_time: 0.013, memory: 4571, loss_rpn_cls: 0.0063, loss_rpn_bbox: 0.0030, loss_cls: 0.0533, acc: 99.6250, loss_bbox: 0.2886, loss: 0.3513\n",
      "2022-05-26 16:51:33,099 - mmfewshot - INFO - Iter [66950/100000]\tlr: 1.000e-04, eta: 2:46:37, time: 0.269, data_time: 0.012, memory: 4571, loss_rpn_cls: 0.0090, loss_rpn_bbox: 0.0043, loss_cls: 0.0461, acc: 99.6719, loss_bbox: 0.2849, loss: 0.3444\n",
      "2022-05-26 16:51:46,565 - mmfewshot - INFO - Exp name: attention-rpn_r50_c4_tb-split2_1shot-fine-tuning-momentum-09.py\n",
      "2022-05-26 16:51:46,567 - mmfewshot - INFO - Iter [67000/100000]\tlr: 1.000e-04, eta: 2:46:21, time: 0.269, data_time: 0.013, memory: 4571, loss_rpn_cls: 0.0082, loss_rpn_bbox: 0.0039, loss_cls: 0.0447, acc: 99.6641, loss_bbox: 0.2659, loss: 0.3227\n",
      "2022-05-26 16:51:46,572 - mmdet - INFO - starting model initialization...\n"
     ]
    },
    {
     "name": "stdout",
     "output_type": "stream",
     "text": [
      "[>>>>>>>>>>>>>>>>>>>>>>>>>>>>>] 850/850, 79.8 task/s, elapsed: 11s, ETA:     0s"
     ]
    },
    {
     "name": "stderr",
     "output_type": "stream",
     "text": [
      "2022-05-26 16:51:57,309 - mmdet - INFO - model initialization done.\n"
     ]
    },
    {
     "name": "stdout",
     "output_type": "stream",
     "text": [
      "[>>>>>>>>>>>>>>>>>>>>>>>>>>>>>] 300/300, 12.8 task/s, elapsed: 23s, ETA:     0s\n",
      "---------------iou_thr: 0.5---------------\n"
     ]
    },
    {
     "name": "stderr",
     "output_type": "stream",
     "text": [
      "2022-05-26 16:52:21,064 - mmfewshot - INFO - \n",
      "+---------+-----+------+--------+-------+\n",
      "| class   | gts | dets | recall | ap    |\n",
      "+---------+-----+------+--------+-------+\n",
      "| fanta   | 291 | 1524 | 0.856  | 0.696 |\n",
      "| Mirinda | 111 | 533  | 0.793  | 0.614 |\n",
      "+---------+-----+------+--------+-------+\n",
      "| mAP     |     |      |        | 0.655 |\n",
      "+---------+-----+------+--------+-------+\n",
      "2022-05-26 16:52:21,067 - mmfewshot - INFO - BASE_CLASSES_SPLIT2 mAP: 0.6550840139389038\n",
      "2022-05-26 16:52:21,068 - mmfewshot - INFO - NOVEL_CLASSES_SPLIT2 mAP: nan\n",
      "2022-05-26 16:52:21,071 - mmfewshot - INFO - Exp name: attention-rpn_r50_c4_tb-split2_1shot-fine-tuning-momentum-09.py\n",
      "2022-05-26 16:52:21,072 - mmfewshot - INFO - Iter(val) [300]\tAP50: 0.6550, BASE_CLASSES_SPLIT2: AP50: 0.6550, NOVEL_CLASSES_SPLIT2: AP50: nan, mAP: 0.6551\n",
      "2022-05-26 16:52:34,543 - mmfewshot - INFO - Iter [67050/100000]\tlr: 1.000e-04, eta: 2:46:22, time: 0.959, data_time: 0.703, memory: 4571, loss_rpn_cls: 0.0200, loss_rpn_bbox: 0.0107, loss_cls: 0.0430, acc: 99.6719, loss_bbox: 0.2745, loss: 0.3481\n",
      "2022-05-26 16:52:47,886 - mmfewshot - INFO - Iter [67100/100000]\tlr: 1.000e-04, eta: 2:46:06, time: 0.267, data_time: 0.012, memory: 4571, loss_rpn_cls: 0.0083, loss_rpn_bbox: 0.0044, loss_cls: 0.0362, acc: 99.7031, loss_bbox: 0.3061, loss: 0.3550\n",
      "2022-05-26 16:53:01,218 - mmfewshot - INFO - Iter [67150/100000]\tlr: 1.000e-04, eta: 2:45:50, time: 0.267, data_time: 0.012, memory: 4571, loss_rpn_cls: 0.0076, loss_rpn_bbox: 0.0047, loss_cls: 0.0399, acc: 99.5078, loss_bbox: 0.3143, loss: 0.3664\n",
      "2022-05-26 16:53:14,531 - mmfewshot - INFO - Iter [67200/100000]\tlr: 1.000e-04, eta: 2:45:34, time: 0.266, data_time: 0.012, memory: 4571, loss_rpn_cls: 0.0093, loss_rpn_bbox: 0.0044, loss_cls: 0.0489, acc: 99.6172, loss_bbox: 0.2463, loss: 0.3089\n",
      "2022-05-26 16:53:27,994 - mmfewshot - INFO - Iter [67250/100000]\tlr: 1.000e-04, eta: 2:45:18, time: 0.269, data_time: 0.012, memory: 4571, loss_rpn_cls: 0.0118, loss_rpn_bbox: 0.0065, loss_cls: 0.0391, acc: 99.6641, loss_bbox: 0.2851, loss: 0.3425\n",
      "2022-05-26 16:53:41,381 - mmfewshot - INFO - Iter [67300/100000]\tlr: 1.000e-04, eta: 2:45:02, time: 0.268, data_time: 0.012, memory: 4571, loss_rpn_cls: 0.0075, loss_rpn_bbox: 0.0045, loss_cls: 0.0433, acc: 99.4922, loss_bbox: 0.2870, loss: 0.3422\n",
      "2022-05-26 16:53:54,755 - mmfewshot - INFO - Iter [67350/100000]\tlr: 1.000e-04, eta: 2:44:46, time: 0.267, data_time: 0.012, memory: 4571, loss_rpn_cls: 0.0110, loss_rpn_bbox: 0.0067, loss_cls: 0.0386, acc: 99.6328, loss_bbox: 0.2862, loss: 0.3425\n",
      "2022-05-26 16:54:08,183 - mmfewshot - INFO - Iter [67400/100000]\tlr: 1.000e-04, eta: 2:44:30, time: 0.268, data_time: 0.012, memory: 4571, loss_rpn_cls: 0.0055, loss_rpn_bbox: 0.0029, loss_cls: 0.0457, acc: 99.6953, loss_bbox: 0.2851, loss: 0.3391\n",
      "2022-05-26 16:54:21,552 - mmfewshot - INFO - Iter [67450/100000]\tlr: 1.000e-04, eta: 2:44:14, time: 0.267, data_time: 0.012, memory: 4571, loss_rpn_cls: 0.0068, loss_rpn_bbox: 0.0058, loss_cls: 0.0363, acc: 99.6875, loss_bbox: 0.2688, loss: 0.3178\n",
      "2022-05-26 16:54:34,964 - mmfewshot - INFO - Iter [67500/100000]\tlr: 1.000e-04, eta: 2:43:58, time: 0.268, data_time: 0.012, memory: 4571, loss_rpn_cls: 0.0060, loss_rpn_bbox: 0.0041, loss_cls: 0.0346, acc: 99.6719, loss_bbox: 0.2982, loss: 0.3429\n",
      "2022-05-26 16:54:48,480 - mmfewshot - INFO - Iter [67550/100000]\tlr: 1.000e-04, eta: 2:43:43, time: 0.270, data_time: 0.013, memory: 4571, loss_rpn_cls: 0.0127, loss_rpn_bbox: 0.0069, loss_cls: 0.0502, acc: 99.5078, loss_bbox: 0.2877, loss: 0.3575\n",
      "2022-05-26 16:55:01,961 - mmfewshot - INFO - Iter [67600/100000]\tlr: 1.000e-04, eta: 2:43:27, time: 0.270, data_time: 0.012, memory: 4571, loss_rpn_cls: 0.0075, loss_rpn_bbox: 0.0043, loss_cls: 0.0333, acc: 99.6875, loss_bbox: 0.2576, loss: 0.3027\n",
      "2022-05-26 16:55:15,469 - mmfewshot - INFO - Iter [67650/100000]\tlr: 1.000e-04, eta: 2:43:11, time: 0.270, data_time: 0.012, memory: 4571, loss_rpn_cls: 0.0096, loss_rpn_bbox: 0.0056, loss_cls: 0.0354, acc: 99.6562, loss_bbox: 0.2918, loss: 0.3425\n",
      "2022-05-26 16:55:28,855 - mmfewshot - INFO - Iter [67700/100000]\tlr: 1.000e-04, eta: 2:42:55, time: 0.268, data_time: 0.012, memory: 4571, loss_rpn_cls: 0.0054, loss_rpn_bbox: 0.0029, loss_cls: 0.0285, acc: 99.6953, loss_bbox: 0.2567, loss: 0.2935\n",
      "2022-05-26 16:55:42,370 - mmfewshot - INFO - Iter [67750/100000]\tlr: 1.000e-04, eta: 2:42:39, time: 0.270, data_time: 0.013, memory: 4571, loss_rpn_cls: 0.0074, loss_rpn_bbox: 0.0054, loss_cls: 0.0519, acc: 99.4688, loss_bbox: 0.3208, loss: 0.3856\n",
      "2022-05-26 16:55:55,893 - mmfewshot - INFO - Iter [67800/100000]\tlr: 1.000e-04, eta: 2:42:23, time: 0.270, data_time: 0.013, memory: 4571, loss_rpn_cls: 0.0061, loss_rpn_bbox: 0.0031, loss_cls: 0.0456, acc: 99.5391, loss_bbox: 0.2667, loss: 0.3215\n",
      "2022-05-26 16:56:09,369 - mmfewshot - INFO - Iter [67850/100000]\tlr: 1.000e-04, eta: 2:42:07, time: 0.269, data_time: 0.013, memory: 4571, loss_rpn_cls: 0.0085, loss_rpn_bbox: 0.0043, loss_cls: 0.0410, acc: 99.5938, loss_bbox: 0.2638, loss: 0.3176\n",
      "2022-05-26 16:56:22,728 - mmfewshot - INFO - Iter [67900/100000]\tlr: 1.000e-04, eta: 2:41:51, time: 0.267, data_time: 0.012, memory: 4571, loss_rpn_cls: 0.0096, loss_rpn_bbox: 0.0096, loss_cls: 0.0375, acc: 99.5938, loss_bbox: 0.3153, loss: 0.3720\n",
      "2022-05-26 16:56:36,219 - mmfewshot - INFO - Iter [67950/100000]\tlr: 1.000e-04, eta: 2:41:35, time: 0.270, data_time: 0.012, memory: 4571, loss_rpn_cls: 0.0085, loss_rpn_bbox: 0.0058, loss_cls: 0.0508, acc: 99.6406, loss_bbox: 0.2872, loss: 0.3522\n",
      "2022-05-26 16:56:49,680 - mmfewshot - INFO - Exp name: attention-rpn_r50_c4_tb-split2_1shot-fine-tuning-momentum-09.py\n",
      "2022-05-26 16:56:49,681 - mmfewshot - INFO - Iter [68000/100000]\tlr: 1.000e-04, eta: 2:41:19, time: 0.269, data_time: 0.013, memory: 4571, loss_rpn_cls: 0.0074, loss_rpn_bbox: 0.0063, loss_cls: 0.0412, acc: 99.6328, loss_bbox: 0.2755, loss: 0.3304\n",
      "2022-05-26 16:56:49,687 - mmdet - INFO - starting model initialization...\n"
     ]
    },
    {
     "name": "stdout",
     "output_type": "stream",
     "text": [
      "[>>>>>>>>>>>>>>>>>>>>>>>>>>>>>] 850/850, 79.7 task/s, elapsed: 11s, ETA:     0s"
     ]
    },
    {
     "name": "stderr",
     "output_type": "stream",
     "text": [
      "2022-05-26 16:57:00,424 - mmdet - INFO - model initialization done.\n"
     ]
    },
    {
     "name": "stdout",
     "output_type": "stream",
     "text": [
      "[>>>>>>>>>>>>>>>>>>>>>>>>>>>>>] 300/300, 12.7 task/s, elapsed: 24s, ETA:     0s\n",
      "---------------iou_thr: 0.5---------------\n"
     ]
    },
    {
     "name": "stderr",
     "output_type": "stream",
     "text": [
      "2022-05-26 16:57:24,336 - mmfewshot - INFO - \n",
      "+---------+-----+------+--------+-------+\n",
      "| class   | gts | dets | recall | ap    |\n",
      "+---------+-----+------+--------+-------+\n",
      "| fanta   | 291 | 1378 | 0.866  | 0.710 |\n",
      "| Mirinda | 111 | 553  | 0.766  | 0.625 |\n",
      "+---------+-----+------+--------+-------+\n",
      "| mAP     |     |      |        | 0.668 |\n",
      "+---------+-----+------+--------+-------+\n",
      "2022-05-26 16:57:24,339 - mmfewshot - INFO - BASE_CLASSES_SPLIT2 mAP: 0.6678454875946045\n",
      "2022-05-26 16:57:24,340 - mmfewshot - INFO - NOVEL_CLASSES_SPLIT2 mAP: nan\n",
      "2022-05-26 16:57:24,343 - mmfewshot - INFO - Exp name: attention-rpn_r50_c4_tb-split2_1shot-fine-tuning-momentum-09.py\n",
      "2022-05-26 16:57:24,344 - mmfewshot - INFO - Iter(val) [300]\tAP50: 0.6680, BASE_CLASSES_SPLIT2: AP50: 0.6680, NOVEL_CLASSES_SPLIT2: AP50: nan, mAP: 0.6678\n",
      "2022-05-26 16:57:37,746 - mmfewshot - INFO - Iter [68050/100000]\tlr: 1.000e-04, eta: 2:41:20, time: 0.961, data_time: 0.706, memory: 4571, loss_rpn_cls: 0.0080, loss_rpn_bbox: 0.0043, loss_cls: 0.0446, acc: 99.6328, loss_bbox: 0.2777, loss: 0.3346\n",
      "2022-05-26 16:57:51,177 - mmfewshot - INFO - Iter [68100/100000]\tlr: 1.000e-04, eta: 2:41:04, time: 0.269, data_time: 0.012, memory: 4571, loss_rpn_cls: 0.0098, loss_rpn_bbox: 0.0077, loss_cls: 0.0389, acc: 99.6875, loss_bbox: 0.3230, loss: 0.3792\n",
      "2022-05-26 16:58:04,625 - mmfewshot - INFO - Iter [68150/100000]\tlr: 1.000e-04, eta: 2:40:48, time: 0.269, data_time: 0.012, memory: 4571, loss_rpn_cls: 0.0094, loss_rpn_bbox: 0.0040, loss_cls: 0.0397, acc: 99.6094, loss_bbox: 0.3111, loss: 0.3643\n",
      "2022-05-26 16:58:18,076 - mmfewshot - INFO - Iter [68200/100000]\tlr: 1.000e-04, eta: 2:40:32, time: 0.269, data_time: 0.012, memory: 4571, loss_rpn_cls: 0.0085, loss_rpn_bbox: 0.0065, loss_cls: 0.0378, acc: 99.6328, loss_bbox: 0.3133, loss: 0.3660\n",
      "2022-05-26 16:58:31,618 - mmfewshot - INFO - Iter [68250/100000]\tlr: 1.000e-04, eta: 2:40:16, time: 0.271, data_time: 0.013, memory: 4571, loss_rpn_cls: 0.0077, loss_rpn_bbox: 0.0045, loss_cls: 0.0343, acc: 99.6875, loss_bbox: 0.2665, loss: 0.3130\n",
      "2022-05-26 16:58:45,142 - mmfewshot - INFO - Iter [68300/100000]\tlr: 1.000e-04, eta: 2:40:00, time: 0.270, data_time: 0.013, memory: 4571, loss_rpn_cls: 0.0078, loss_rpn_bbox: 0.0032, loss_cls: 0.0484, acc: 99.5859, loss_bbox: 0.2401, loss: 0.2995\n",
      "2022-05-26 16:58:58,661 - mmfewshot - INFO - Iter [68350/100000]\tlr: 1.000e-04, eta: 2:39:44, time: 0.270, data_time: 0.013, memory: 4571, loss_rpn_cls: 0.0075, loss_rpn_bbox: 0.0059, loss_cls: 0.0314, acc: 99.6641, loss_bbox: 0.3074, loss: 0.3522\n",
      "2022-05-26 16:59:12,170 - mmfewshot - INFO - Iter [68400/100000]\tlr: 1.000e-04, eta: 2:39:28, time: 0.270, data_time: 0.012, memory: 4571, loss_rpn_cls: 0.0090, loss_rpn_bbox: 0.0059, loss_cls: 0.0288, acc: 99.7734, loss_bbox: 0.2673, loss: 0.3110\n",
      "2022-05-26 16:59:25,557 - mmfewshot - INFO - Iter [68450/100000]\tlr: 1.000e-04, eta: 2:39:12, time: 0.268, data_time: 0.012, memory: 4571, loss_rpn_cls: 0.0091, loss_rpn_bbox: 0.0050, loss_cls: 0.0380, acc: 99.6406, loss_bbox: 0.2851, loss: 0.3372\n",
      "2022-05-26 16:59:39,106 - mmfewshot - INFO - Iter [68500/100000]\tlr: 1.000e-04, eta: 2:38:56, time: 0.271, data_time: 0.013, memory: 4571, loss_rpn_cls: 0.0136, loss_rpn_bbox: 0.0116, loss_cls: 0.0392, acc: 99.6641, loss_bbox: 0.2993, loss: 0.3636\n",
      "2022-05-26 16:59:52,555 - mmfewshot - INFO - Iter [68550/100000]\tlr: 1.000e-04, eta: 2:38:40, time: 0.269, data_time: 0.013, memory: 4571, loss_rpn_cls: 0.0082, loss_rpn_bbox: 0.0053, loss_cls: 0.0424, acc: 99.5547, loss_bbox: 0.2484, loss: 0.3043\n",
      "2022-05-26 17:00:06,005 - mmfewshot - INFO - Iter [68600/100000]\tlr: 1.000e-04, eta: 2:38:25, time: 0.269, data_time: 0.013, memory: 4571, loss_rpn_cls: 0.0103, loss_rpn_bbox: 0.0068, loss_cls: 0.0305, acc: 99.6797, loss_bbox: 0.3177, loss: 0.3653\n",
      "2022-05-26 17:00:19,418 - mmfewshot - INFO - Iter [68650/100000]\tlr: 1.000e-04, eta: 2:38:09, time: 0.268, data_time: 0.013, memory: 4571, loss_rpn_cls: 0.0095, loss_rpn_bbox: 0.0100, loss_cls: 0.0423, acc: 99.5469, loss_bbox: 0.3344, loss: 0.3962\n",
      "2022-05-26 17:00:32,898 - mmfewshot - INFO - Iter [68700/100000]\tlr: 1.000e-04, eta: 2:37:53, time: 0.270, data_time: 0.013, memory: 4571, loss_rpn_cls: 0.0076, loss_rpn_bbox: 0.0046, loss_cls: 0.0376, acc: 99.5781, loss_bbox: 0.3228, loss: 0.3726\n",
      "2022-05-26 17:00:46,359 - mmfewshot - INFO - Iter [68750/100000]\tlr: 1.000e-04, eta: 2:37:37, time: 0.269, data_time: 0.013, memory: 4571, loss_rpn_cls: 0.0079, loss_rpn_bbox: 0.0046, loss_cls: 0.0384, acc: 99.6094, loss_bbox: 0.3106, loss: 0.3615\n",
      "2022-05-26 17:00:59,770 - mmfewshot - INFO - Iter [68800/100000]\tlr: 1.000e-04, eta: 2:37:21, time: 0.268, data_time: 0.012, memory: 4571, loss_rpn_cls: 0.0120, loss_rpn_bbox: 0.0069, loss_cls: 0.0333, acc: 99.6953, loss_bbox: 0.2725, loss: 0.3248\n",
      "2022-05-26 17:01:13,321 - mmfewshot - INFO - Iter [68850/100000]\tlr: 1.000e-04, eta: 2:37:05, time: 0.271, data_time: 0.013, memory: 4571, loss_rpn_cls: 0.0065, loss_rpn_bbox: 0.0028, loss_cls: 0.0358, acc: 99.6562, loss_bbox: 0.2677, loss: 0.3128\n",
      "2022-05-26 17:01:26,891 - mmfewshot - INFO - Iter [68900/100000]\tlr: 1.000e-04, eta: 2:36:49, time: 0.271, data_time: 0.013, memory: 4571, loss_rpn_cls: 0.0098, loss_rpn_bbox: 0.0064, loss_cls: 0.0466, acc: 99.6016, loss_bbox: 0.2749, loss: 0.3377\n",
      "2022-05-26 17:01:40,335 - mmfewshot - INFO - Iter [68950/100000]\tlr: 1.000e-04, eta: 2:36:33, time: 0.269, data_time: 0.012, memory: 4571, loss_rpn_cls: 0.0091, loss_rpn_bbox: 0.0050, loss_cls: 0.0323, acc: 99.6250, loss_bbox: 0.3247, loss: 0.3711\n",
      "2022-05-26 17:01:53,717 - mmfewshot - INFO - Exp name: attention-rpn_r50_c4_tb-split2_1shot-fine-tuning-momentum-09.py\n",
      "2022-05-26 17:01:53,718 - mmfewshot - INFO - Iter [69000/100000]\tlr: 1.000e-04, eta: 2:36:17, time: 0.268, data_time: 0.010, memory: 4571, loss_rpn_cls: 0.0071, loss_rpn_bbox: 0.0069, loss_cls: 0.0597, acc: 99.5312, loss_bbox: 0.2791, loss: 0.3528\n",
      "2022-05-26 17:01:53,723 - mmdet - INFO - starting model initialization...\n"
     ]
    },
    {
     "name": "stdout",
     "output_type": "stream",
     "text": [
      "[>>>>>>>>>>>>>>>>>>>>>>>>>>>>>] 850/850, 76.5 task/s, elapsed: 11s, ETA:     0s"
     ]
    },
    {
     "name": "stderr",
     "output_type": "stream",
     "text": [
      "2022-05-26 17:02:04,916 - mmdet - INFO - model initialization done.\n"
     ]
    },
    {
     "name": "stdout",
     "output_type": "stream",
     "text": [
      "[>>>>>>>>>>>>>>>>>>>>>>>>>>>>>] 300/300, 12.7 task/s, elapsed: 24s, ETA:     0s\n",
      "---------------iou_thr: 0.5---------------\n"
     ]
    },
    {
     "name": "stderr",
     "output_type": "stream",
     "text": [
      "2022-05-26 17:02:28,877 - mmfewshot - INFO - \n",
      "+---------+-----+------+--------+-------+\n",
      "| class   | gts | dets | recall | ap    |\n",
      "+---------+-----+------+--------+-------+\n",
      "| fanta   | 291 | 1276 | 0.876  | 0.741 |\n",
      "| Mirinda | 111 | 548  | 0.748  | 0.606 |\n",
      "+---------+-----+------+--------+-------+\n",
      "| mAP     |     |      |        | 0.673 |\n",
      "+---------+-----+------+--------+-------+\n",
      "2022-05-26 17:02:28,880 - mmfewshot - INFO - BASE_CLASSES_SPLIT2 mAP: 0.673454761505127\n",
      "2022-05-26 17:02:28,881 - mmfewshot - INFO - NOVEL_CLASSES_SPLIT2 mAP: nan\n",
      "2022-05-26 17:02:28,884 - mmfewshot - INFO - Exp name: attention-rpn_r50_c4_tb-split2_1shot-fine-tuning-momentum-09.py\n",
      "2022-05-26 17:02:28,885 - mmfewshot - INFO - Iter(val) [300]\tAP50: 0.6730, BASE_CLASSES_SPLIT2: AP50: 0.6730, NOVEL_CLASSES_SPLIT2: AP50: nan, mAP: 0.6735\n",
      "2022-05-26 17:02:42,474 - mmfewshot - INFO - Iter [69050/100000]\tlr: 1.000e-04, eta: 2:36:17, time: 0.975, data_time: 0.717, memory: 4571, loss_rpn_cls: 0.0044, loss_rpn_bbox: 0.0027, loss_cls: 0.0394, acc: 99.7500, loss_bbox: 0.2692, loss: 0.3158\n",
      "2022-05-26 17:02:55,962 - mmfewshot - INFO - Iter [69100/100000]\tlr: 1.000e-04, eta: 2:36:01, time: 0.270, data_time: 0.013, memory: 4571, loss_rpn_cls: 0.0059, loss_rpn_bbox: 0.0039, loss_cls: 0.0382, acc: 99.6797, loss_bbox: 0.2372, loss: 0.2852\n",
      "2022-05-26 17:03:09,473 - mmfewshot - INFO - Iter [69150/100000]\tlr: 1.000e-04, eta: 2:35:46, time: 0.270, data_time: 0.012, memory: 4571, loss_rpn_cls: 0.0119, loss_rpn_bbox: 0.0075, loss_cls: 0.0417, acc: 99.6328, loss_bbox: 0.3156, loss: 0.3766\n",
      "2022-05-26 17:03:22,940 - mmfewshot - INFO - Iter [69200/100000]\tlr: 1.000e-04, eta: 2:35:30, time: 0.269, data_time: 0.012, memory: 4571, loss_rpn_cls: 0.0076, loss_rpn_bbox: 0.0058, loss_cls: 0.0359, acc: 99.6797, loss_bbox: 0.2979, loss: 0.3473\n",
      "2022-05-26 17:03:36,190 - mmfewshot - INFO - Iter [69250/100000]\tlr: 1.000e-04, eta: 2:35:14, time: 0.265, data_time: 0.010, memory: 4571, loss_rpn_cls: 0.0127, loss_rpn_bbox: 0.0095, loss_cls: 0.0332, acc: 99.6953, loss_bbox: 0.2758, loss: 0.3311\n",
      "2022-05-26 17:03:49,600 - mmfewshot - INFO - Iter [69300/100000]\tlr: 1.000e-04, eta: 2:34:58, time: 0.268, data_time: 0.011, memory: 4571, loss_rpn_cls: 0.0059, loss_rpn_bbox: 0.0030, loss_cls: 0.0431, acc: 99.6875, loss_bbox: 0.2753, loss: 0.3273\n",
      "2022-05-26 17:04:03,075 - mmfewshot - INFO - Iter [69350/100000]\tlr: 1.000e-04, eta: 2:34:42, time: 0.270, data_time: 0.012, memory: 4571, loss_rpn_cls: 0.0095, loss_rpn_bbox: 0.0034, loss_cls: 0.0335, acc: 99.6250, loss_bbox: 0.2965, loss: 0.3428\n",
      "2022-05-26 17:04:16,629 - mmfewshot - INFO - Iter [69400/100000]\tlr: 1.000e-04, eta: 2:34:26, time: 0.271, data_time: 0.013, memory: 4571, loss_rpn_cls: 0.0105, loss_rpn_bbox: 0.0039, loss_cls: 0.0389, acc: 99.6094, loss_bbox: 0.2934, loss: 0.3466\n",
      "2022-05-26 17:04:30,175 - mmfewshot - INFO - Iter [69450/100000]\tlr: 1.000e-04, eta: 2:34:10, time: 0.271, data_time: 0.013, memory: 4571, loss_rpn_cls: 0.0082, loss_rpn_bbox: 0.0060, loss_cls: 0.0427, acc: 99.6953, loss_bbox: 0.2593, loss: 0.3163\n",
      "2022-05-26 17:04:43,692 - mmfewshot - INFO - Iter [69500/100000]\tlr: 1.000e-04, eta: 2:33:54, time: 0.270, data_time: 0.013, memory: 4571, loss_rpn_cls: 0.0080, loss_rpn_bbox: 0.0062, loss_cls: 0.0318, acc: 99.6406, loss_bbox: 0.3014, loss: 0.3474\n",
      "2022-05-26 17:04:57,303 - mmfewshot - INFO - Iter [69550/100000]\tlr: 1.000e-04, eta: 2:33:39, time: 0.272, data_time: 0.013, memory: 4571, loss_rpn_cls: 0.0086, loss_rpn_bbox: 0.0061, loss_cls: 0.0534, acc: 99.5469, loss_bbox: 0.2775, loss: 0.3456\n",
      "2022-05-26 17:05:10,769 - mmfewshot - INFO - Iter [69600/100000]\tlr: 1.000e-04, eta: 2:33:23, time: 0.269, data_time: 0.012, memory: 4571, loss_rpn_cls: 0.0122, loss_rpn_bbox: 0.0062, loss_cls: 0.0374, acc: 99.5547, loss_bbox: 0.3192, loss: 0.3749\n",
      "2022-05-26 17:05:24,346 - mmfewshot - INFO - Iter [69650/100000]\tlr: 1.000e-04, eta: 2:33:07, time: 0.272, data_time: 0.013, memory: 4571, loss_rpn_cls: 0.0092, loss_rpn_bbox: 0.0058, loss_cls: 0.0380, acc: 99.6250, loss_bbox: 0.3140, loss: 0.3669\n",
      "2022-05-26 17:05:37,816 - mmfewshot - INFO - Iter [69700/100000]\tlr: 1.000e-04, eta: 2:32:51, time: 0.269, data_time: 0.013, memory: 4571, loss_rpn_cls: 0.0121, loss_rpn_bbox: 0.0068, loss_cls: 0.0305, acc: 99.6094, loss_bbox: 0.3204, loss: 0.3698\n",
      "2022-05-26 17:05:51,249 - mmfewshot - INFO - Iter [69750/100000]\tlr: 1.000e-04, eta: 2:32:35, time: 0.269, data_time: 0.012, memory: 4571, loss_rpn_cls: 0.0114, loss_rpn_bbox: 0.0045, loss_cls: 0.0368, acc: 99.6641, loss_bbox: 0.2823, loss: 0.3351\n",
      "2022-05-26 17:06:04,845 - mmfewshot - INFO - Iter [69800/100000]\tlr: 1.000e-04, eta: 2:32:19, time: 0.272, data_time: 0.012, memory: 4571, loss_rpn_cls: 0.0084, loss_rpn_bbox: 0.0053, loss_cls: 0.0333, acc: 99.6719, loss_bbox: 0.2931, loss: 0.3401\n",
      "2022-05-26 17:06:18,327 - mmfewshot - INFO - Iter [69850/100000]\tlr: 1.000e-04, eta: 2:32:04, time: 0.270, data_time: 0.012, memory: 4571, loss_rpn_cls: 0.0063, loss_rpn_bbox: 0.0033, loss_cls: 0.0398, acc: 99.6719, loss_bbox: 0.2858, loss: 0.3353\n",
      "2022-05-26 17:06:31,781 - mmfewshot - INFO - Iter [69900/100000]\tlr: 1.000e-04, eta: 2:31:48, time: 0.269, data_time: 0.012, memory: 4571, loss_rpn_cls: 0.0132, loss_rpn_bbox: 0.0059, loss_cls: 0.0393, acc: 99.5938, loss_bbox: 0.2865, loss: 0.3449\n",
      "2022-05-26 17:06:45,147 - mmfewshot - INFO - Iter [69950/100000]\tlr: 1.000e-04, eta: 2:31:32, time: 0.267, data_time: 0.012, memory: 4571, loss_rpn_cls: 0.0149, loss_rpn_bbox: 0.0070, loss_cls: 0.0380, acc: 99.5938, loss_bbox: 0.3028, loss: 0.3628\n",
      "2022-05-26 17:06:58,313 - mmfewshot - INFO - Saving checkpoint at 70000 iterations\n",
      "2022-05-26 17:06:59,914 - mmfewshot - INFO - Exp name: attention-rpn_r50_c4_tb-split2_1shot-fine-tuning-momentum-09.py\n",
      "2022-05-26 17:06:59,915 - mmfewshot - INFO - Iter [70000/100000]\tlr: 1.000e-04, eta: 2:31:17, time: 0.298, data_time: 0.012, memory: 4571, loss_rpn_cls: 0.0080, loss_rpn_bbox: 0.0047, loss_cls: 0.0349, acc: 99.7188, loss_bbox: 0.2725, loss: 0.3202\n",
      "2022-05-26 17:06:59,920 - mmdet - INFO - starting model initialization...\n"
     ]
    },
    {
     "name": "stdout",
     "output_type": "stream",
     "text": [
      "[>>>>>>>>>>>>>>>>>>>>>>>>>>>>>] 850/850, 78.6 task/s, elapsed: 11s, ETA:     0s"
     ]
    },
    {
     "name": "stderr",
     "output_type": "stream",
     "text": [
      "2022-05-26 17:07:10,806 - mmdet - INFO - model initialization done.\n"
     ]
    },
    {
     "name": "stdout",
     "output_type": "stream",
     "text": [
      "[>>>>>>>>>>>>>>>>>>>>>>>>>>>>>] 300/300, 12.7 task/s, elapsed: 24s, ETA:     0s\n",
      "---------------iou_thr: 0.5---------------\n"
     ]
    },
    {
     "name": "stderr",
     "output_type": "stream",
     "text": [
      "2022-05-26 17:07:34,698 - mmfewshot - INFO - \n",
      "+---------+-----+------+--------+-------+\n",
      "| class   | gts | dets | recall | ap    |\n",
      "+---------+-----+------+--------+-------+\n",
      "| fanta   | 291 | 1623 | 0.897  | 0.754 |\n",
      "| Mirinda | 111 | 514  | 0.775  | 0.617 |\n",
      "+---------+-----+------+--------+-------+\n",
      "| mAP     |     |      |        | 0.685 |\n",
      "+---------+-----+------+--------+-------+\n",
      "2022-05-26 17:07:34,700 - mmfewshot - INFO - BASE_CLASSES_SPLIT2 mAP: 0.6854170560836792\n",
      "2022-05-26 17:07:34,701 - mmfewshot - INFO - NOVEL_CLASSES_SPLIT2 mAP: nan\n",
      "2022-05-26 17:07:34,704 - mmfewshot - INFO - Exp name: attention-rpn_r50_c4_tb-split2_1shot-fine-tuning-momentum-09.py\n",
      "2022-05-26 17:07:34,705 - mmfewshot - INFO - Iter(val) [300]\tAP50: 0.6850, BASE_CLASSES_SPLIT2: AP50: 0.6850, NOVEL_CLASSES_SPLIT2: AP50: nan, mAP: 0.6854\n",
      "2022-05-26 17:07:48,202 - mmfewshot - INFO - Iter [70050/100000]\tlr: 1.000e-04, eta: 2:31:16, time: 0.963, data_time: 0.706, memory: 4571, loss_rpn_cls: 0.0041, loss_rpn_bbox: 0.0025, loss_cls: 0.0371, acc: 99.6562, loss_bbox: 0.2819, loss: 0.3256\n",
      "2022-05-26 17:08:01,574 - mmfewshot - INFO - Iter [70100/100000]\tlr: 1.000e-04, eta: 2:31:00, time: 0.267, data_time: 0.012, memory: 4571, loss_rpn_cls: 0.0102, loss_rpn_bbox: 0.0057, loss_cls: 0.0528, acc: 99.5547, loss_bbox: 0.2783, loss: 0.3469\n",
      "2022-05-26 17:08:14,963 - mmfewshot - INFO - Iter [70150/100000]\tlr: 1.000e-04, eta: 2:30:44, time: 0.268, data_time: 0.012, memory: 4571, loss_rpn_cls: 0.0059, loss_rpn_bbox: 0.0037, loss_cls: 0.0405, acc: 99.6250, loss_bbox: 0.2545, loss: 0.3046\n",
      "2022-05-26 17:08:28,490 - mmfewshot - INFO - Iter [70200/100000]\tlr: 1.000e-04, eta: 2:30:28, time: 0.271, data_time: 0.013, memory: 4571, loss_rpn_cls: 0.0051, loss_rpn_bbox: 0.0032, loss_cls: 0.0321, acc: 99.6719, loss_bbox: 0.2854, loss: 0.3259\n",
      "2022-05-26 17:08:42,037 - mmfewshot - INFO - Iter [70250/100000]\tlr: 1.000e-04, eta: 2:30:12, time: 0.271, data_time: 0.012, memory: 4571, loss_rpn_cls: 0.0096, loss_rpn_bbox: 0.0058, loss_cls: 0.0356, acc: 99.5859, loss_bbox: 0.2982, loss: 0.3492\n",
      "2022-05-26 17:08:55,468 - mmfewshot - INFO - Iter [70300/100000]\tlr: 1.000e-04, eta: 2:29:56, time: 0.268, data_time: 0.012, memory: 4571, loss_rpn_cls: 0.0101, loss_rpn_bbox: 0.0044, loss_cls: 0.0347, acc: 99.6406, loss_bbox: 0.2787, loss: 0.3280\n",
      "2022-05-26 17:09:08,952 - mmfewshot - INFO - Iter [70350/100000]\tlr: 1.000e-04, eta: 2:29:40, time: 0.270, data_time: 0.013, memory: 4571, loss_rpn_cls: 0.0125, loss_rpn_bbox: 0.0063, loss_cls: 0.0459, acc: 99.5781, loss_bbox: 0.2942, loss: 0.3590\n",
      "2022-05-26 17:09:22,437 - mmfewshot - INFO - Iter [70400/100000]\tlr: 1.000e-04, eta: 2:29:24, time: 0.269, data_time: 0.013, memory: 4571, loss_rpn_cls: 0.0073, loss_rpn_bbox: 0.0038, loss_cls: 0.0459, acc: 99.7344, loss_bbox: 0.2662, loss: 0.3232\n",
      "2022-05-26 17:09:35,859 - mmfewshot - INFO - Iter [70450/100000]\tlr: 1.000e-04, eta: 2:29:09, time: 0.269, data_time: 0.013, memory: 4571, loss_rpn_cls: 0.0069, loss_rpn_bbox: 0.0041, loss_cls: 0.0376, acc: 99.6250, loss_bbox: 0.2818, loss: 0.3304\n",
      "2022-05-26 17:09:49,251 - mmfewshot - INFO - Iter [70500/100000]\tlr: 1.000e-04, eta: 2:28:53, time: 0.268, data_time: 0.011, memory: 4571, loss_rpn_cls: 0.0073, loss_rpn_bbox: 0.0043, loss_cls: 0.0396, acc: 99.5156, loss_bbox: 0.2917, loss: 0.3430\n",
      "2022-05-26 17:10:02,695 - mmfewshot - INFO - Iter [70550/100000]\tlr: 1.000e-04, eta: 2:28:37, time: 0.269, data_time: 0.013, memory: 4571, loss_rpn_cls: 0.0143, loss_rpn_bbox: 0.0074, loss_cls: 0.0397, acc: 99.6250, loss_bbox: 0.2893, loss: 0.3507\n",
      "2022-05-26 17:10:16,228 - mmfewshot - INFO - Iter [70600/100000]\tlr: 1.000e-04, eta: 2:28:21, time: 0.270, data_time: 0.013, memory: 4571, loss_rpn_cls: 0.0098, loss_rpn_bbox: 0.0073, loss_cls: 0.0584, acc: 99.5547, loss_bbox: 0.3295, loss: 0.4050\n",
      "2022-05-26 17:10:29,810 - mmfewshot - INFO - Iter [70650/100000]\tlr: 1.000e-04, eta: 2:28:05, time: 0.272, data_time: 0.013, memory: 4571, loss_rpn_cls: 0.0081, loss_rpn_bbox: 0.0055, loss_cls: 0.0486, acc: 99.6406, loss_bbox: 0.3262, loss: 0.3884\n",
      "2022-05-26 17:10:43,241 - mmfewshot - INFO - Iter [70700/100000]\tlr: 1.000e-04, eta: 2:27:49, time: 0.269, data_time: 0.013, memory: 4571, loss_rpn_cls: 0.0080, loss_rpn_bbox: 0.0037, loss_cls: 0.0505, acc: 99.6016, loss_bbox: 0.2796, loss: 0.3418\n",
      "2022-05-26 17:10:56,715 - mmfewshot - INFO - Iter [70750/100000]\tlr: 1.000e-04, eta: 2:27:34, time: 0.269, data_time: 0.012, memory: 4571, loss_rpn_cls: 0.0115, loss_rpn_bbox: 0.0097, loss_cls: 0.0428, acc: 99.5391, loss_bbox: 0.3198, loss: 0.3838\n",
      "2022-05-26 17:11:10,160 - mmfewshot - INFO - Iter [70800/100000]\tlr: 1.000e-04, eta: 2:27:18, time: 0.269, data_time: 0.012, memory: 4571, loss_rpn_cls: 0.0068, loss_rpn_bbox: 0.0050, loss_cls: 0.0277, acc: 99.7188, loss_bbox: 0.2815, loss: 0.3210\n",
      "2022-05-26 17:11:23,677 - mmfewshot - INFO - Iter [70850/100000]\tlr: 1.000e-04, eta: 2:27:02, time: 0.270, data_time: 0.013, memory: 4571, loss_rpn_cls: 0.0155, loss_rpn_bbox: 0.0093, loss_cls: 0.0409, acc: 99.6250, loss_bbox: 0.2620, loss: 0.3276\n",
      "2022-05-26 17:11:37,052 - mmfewshot - INFO - Iter [70900/100000]\tlr: 1.000e-04, eta: 2:26:46, time: 0.268, data_time: 0.012, memory: 4571, loss_rpn_cls: 0.0123, loss_rpn_bbox: 0.0071, loss_cls: 0.0703, acc: 99.5938, loss_bbox: 0.2789, loss: 0.3686\n",
      "2022-05-26 17:11:50,539 - mmfewshot - INFO - Iter [70950/100000]\tlr: 1.000e-04, eta: 2:26:30, time: 0.269, data_time: 0.012, memory: 4571, loss_rpn_cls: 0.0120, loss_rpn_bbox: 0.0065, loss_cls: 0.0662, acc: 99.4609, loss_bbox: 0.2736, loss: 0.3584\n",
      "2022-05-26 17:12:03,856 - mmfewshot - INFO - Exp name: attention-rpn_r50_c4_tb-split2_1shot-fine-tuning-momentum-09.py\n",
      "2022-05-26 17:12:03,858 - mmfewshot - INFO - Iter [71000/100000]\tlr: 1.000e-04, eta: 2:26:14, time: 0.267, data_time: 0.013, memory: 4571, loss_rpn_cls: 0.0059, loss_rpn_bbox: 0.0043, loss_cls: 0.0367, acc: 99.5703, loss_bbox: 0.2878, loss: 0.3346\n",
      "2022-05-26 17:12:03,863 - mmdet - INFO - starting model initialization...\n"
     ]
    },
    {
     "name": "stdout",
     "output_type": "stream",
     "text": [
      "[>>>>>>>>>>>>>>>>>>>>>>>>>>>>>] 850/850, 74.3 task/s, elapsed: 11s, ETA:     0s"
     ]
    },
    {
     "name": "stderr",
     "output_type": "stream",
     "text": [
      "2022-05-26 17:12:15,379 - mmdet - INFO - model initialization done.\n"
     ]
    },
    {
     "name": "stdout",
     "output_type": "stream",
     "text": [
      "[>>>>>>>>>>>>>>>>>>>>>>>>>>>>>] 300/300, 12.8 task/s, elapsed: 23s, ETA:     0s\n",
      "---------------iou_thr: 0.5---------------\n"
     ]
    },
    {
     "name": "stderr",
     "output_type": "stream",
     "text": [
      "2022-05-26 17:12:39,208 - mmfewshot - INFO - \n",
      "+---------+-----+------+--------+-------+\n",
      "| class   | gts | dets | recall | ap    |\n",
      "+---------+-----+------+--------+-------+\n",
      "| fanta   | 291 | 1799 | 0.893  | 0.736 |\n",
      "| Mirinda | 111 | 811  | 0.784  | 0.598 |\n",
      "+---------+-----+------+--------+-------+\n",
      "| mAP     |     |      |        | 0.667 |\n",
      "+---------+-----+------+--------+-------+\n",
      "2022-05-26 17:12:39,211 - mmfewshot - INFO - BASE_CLASSES_SPLIT2 mAP: 0.6671929359436035\n",
      "2022-05-26 17:12:39,213 - mmfewshot - INFO - NOVEL_CLASSES_SPLIT2 mAP: nan\n",
      "2022-05-26 17:12:39,216 - mmfewshot - INFO - Exp name: attention-rpn_r50_c4_tb-split2_1shot-fine-tuning-momentum-09.py\n",
      "2022-05-26 17:12:39,217 - mmfewshot - INFO - Iter(val) [300]\tAP50: 0.6670, BASE_CLASSES_SPLIT2: AP50: 0.6670, NOVEL_CLASSES_SPLIT2: AP50: nan, mAP: 0.6672\n",
      "2022-05-26 17:12:52,683 - mmfewshot - INFO - Iter [71050/100000]\tlr: 1.000e-04, eta: 2:26:13, time: 0.977, data_time: 0.720, memory: 4571, loss_rpn_cls: 0.0079, loss_rpn_bbox: 0.0036, loss_cls: 0.0470, acc: 99.6172, loss_bbox: 0.2579, loss: 0.3164\n",
      "2022-05-26 17:13:06,073 - mmfewshot - INFO - Iter [71100/100000]\tlr: 1.000e-04, eta: 2:25:57, time: 0.268, data_time: 0.012, memory: 4571, loss_rpn_cls: 0.0060, loss_rpn_bbox: 0.0029, loss_cls: 0.0393, acc: 99.6797, loss_bbox: 0.2732, loss: 0.3214\n",
      "2022-05-26 17:13:19,526 - mmfewshot - INFO - Iter [71150/100000]\tlr: 1.000e-04, eta: 2:25:41, time: 0.269, data_time: 0.013, memory: 4571, loss_rpn_cls: 0.0046, loss_rpn_bbox: 0.0027, loss_cls: 0.0445, acc: 99.6562, loss_bbox: 0.2499, loss: 0.3018\n",
      "2022-05-26 17:13:32,966 - mmfewshot - INFO - Iter [71200/100000]\tlr: 1.000e-04, eta: 2:25:26, time: 0.269, data_time: 0.012, memory: 4571, loss_rpn_cls: 0.0140, loss_rpn_bbox: 0.0080, loss_cls: 0.0320, acc: 99.6562, loss_bbox: 0.2983, loss: 0.3524\n",
      "2022-05-26 17:13:46,416 - mmfewshot - INFO - Iter [71250/100000]\tlr: 1.000e-04, eta: 2:25:10, time: 0.269, data_time: 0.013, memory: 4571, loss_rpn_cls: 0.0073, loss_rpn_bbox: 0.0074, loss_cls: 0.0288, acc: 99.6875, loss_bbox: 0.2771, loss: 0.3205\n",
      "2022-05-26 17:13:59,880 - mmfewshot - INFO - Iter [71300/100000]\tlr: 1.000e-04, eta: 2:24:54, time: 0.269, data_time: 0.012, memory: 4571, loss_rpn_cls: 0.0067, loss_rpn_bbox: 0.0045, loss_cls: 0.0442, acc: 99.6641, loss_bbox: 0.2899, loss: 0.3453\n",
      "2022-05-26 17:14:13,277 - mmfewshot - INFO - Iter [71350/100000]\tlr: 1.000e-04, eta: 2:24:38, time: 0.268, data_time: 0.012, memory: 4571, loss_rpn_cls: 0.0081, loss_rpn_bbox: 0.0054, loss_cls: 0.0463, acc: 99.5938, loss_bbox: 0.2684, loss: 0.3283\n",
      "2022-05-26 17:14:26,858 - mmfewshot - INFO - Iter [71400/100000]\tlr: 1.000e-04, eta: 2:24:22, time: 0.272, data_time: 0.012, memory: 4571, loss_rpn_cls: 0.0075, loss_rpn_bbox: 0.0049, loss_cls: 0.0339, acc: 99.6641, loss_bbox: 0.2705, loss: 0.3168\n",
      "2022-05-26 17:14:40,405 - mmfewshot - INFO - Iter [71450/100000]\tlr: 1.000e-04, eta: 2:24:06, time: 0.270, data_time: 0.012, memory: 4571, loss_rpn_cls: 0.0090, loss_rpn_bbox: 0.0087, loss_cls: 0.0313, acc: 99.6641, loss_bbox: 0.2856, loss: 0.3346\n",
      "2022-05-26 17:14:53,789 - mmfewshot - INFO - Iter [71500/100000]\tlr: 1.000e-04, eta: 2:23:51, time: 0.268, data_time: 0.012, memory: 4571, loss_rpn_cls: 0.0163, loss_rpn_bbox: 0.0054, loss_cls: 0.0434, acc: 99.6016, loss_bbox: 0.2793, loss: 0.3444\n",
      "2022-05-26 17:15:07,038 - mmfewshot - INFO - Iter [71550/100000]\tlr: 1.000e-04, eta: 2:23:35, time: 0.265, data_time: 0.010, memory: 4571, loss_rpn_cls: 0.0073, loss_rpn_bbox: 0.0039, loss_cls: 0.0460, acc: 99.5781, loss_bbox: 0.2790, loss: 0.3362\n",
      "2022-05-26 17:15:20,504 - mmfewshot - INFO - Iter [71600/100000]\tlr: 1.000e-04, eta: 2:23:19, time: 0.270, data_time: 0.012, memory: 4571, loss_rpn_cls: 0.0088, loss_rpn_bbox: 0.0067, loss_cls: 0.0248, acc: 99.7812, loss_bbox: 0.2721, loss: 0.3123\n",
      "2022-05-26 17:15:33,851 - mmfewshot - INFO - Iter [71650/100000]\tlr: 1.000e-04, eta: 2:23:03, time: 0.267, data_time: 0.013, memory: 4571, loss_rpn_cls: 0.0056, loss_rpn_bbox: 0.0030, loss_cls: 0.0335, acc: 99.7500, loss_bbox: 0.2336, loss: 0.2756\n",
      "2022-05-26 17:15:47,281 - mmfewshot - INFO - Iter [71700/100000]\tlr: 1.000e-04, eta: 2:22:47, time: 0.268, data_time: 0.012, memory: 4571, loss_rpn_cls: 0.0067, loss_rpn_bbox: 0.0047, loss_cls: 0.0370, acc: 99.6250, loss_bbox: 0.2835, loss: 0.3319\n",
      "2022-05-26 17:16:00,757 - mmfewshot - INFO - Iter [71750/100000]\tlr: 1.000e-04, eta: 2:22:31, time: 0.270, data_time: 0.013, memory: 4571, loss_rpn_cls: 0.0101, loss_rpn_bbox: 0.0073, loss_cls: 0.0318, acc: 99.6562, loss_bbox: 0.3372, loss: 0.3864\n",
      "2022-05-26 17:16:14,005 - mmfewshot - INFO - Iter [71800/100000]\tlr: 1.000e-04, eta: 2:22:16, time: 0.265, data_time: 0.010, memory: 4571, loss_rpn_cls: 0.0082, loss_rpn_bbox: 0.0046, loss_cls: 0.0301, acc: 99.6406, loss_bbox: 0.3305, loss: 0.3734\n",
      "2022-05-26 17:16:27,503 - mmfewshot - INFO - Iter [71850/100000]\tlr: 1.000e-04, eta: 2:22:00, time: 0.270, data_time: 0.013, memory: 4571, loss_rpn_cls: 0.0079, loss_rpn_bbox: 0.0052, loss_cls: 0.0650, acc: 99.5625, loss_bbox: 0.2900, loss: 0.3681\n",
      "2022-05-26 17:16:41,035 - mmfewshot - INFO - Iter [71900/100000]\tlr: 1.000e-04, eta: 2:21:44, time: 0.271, data_time: 0.013, memory: 4571, loss_rpn_cls: 0.0073, loss_rpn_bbox: 0.0043, loss_cls: 0.0505, acc: 99.4609, loss_bbox: 0.2863, loss: 0.3484\n",
      "2022-05-26 17:16:54,436 - mmfewshot - INFO - Iter [71950/100000]\tlr: 1.000e-04, eta: 2:21:28, time: 0.268, data_time: 0.012, memory: 4571, loss_rpn_cls: 0.0135, loss_rpn_bbox: 0.0089, loss_cls: 0.0332, acc: 99.6562, loss_bbox: 0.3303, loss: 0.3859\n",
      "2022-05-26 17:17:07,724 - mmfewshot - INFO - Exp name: attention-rpn_r50_c4_tb-split2_1shot-fine-tuning-momentum-09.py\n",
      "2022-05-26 17:17:07,725 - mmfewshot - INFO - Iter [72000/100000]\tlr: 1.000e-04, eta: 2:21:12, time: 0.266, data_time: 0.011, memory: 4571, loss_rpn_cls: 0.0091, loss_rpn_bbox: 0.0080, loss_cls: 0.0445, acc: 99.5703, loss_bbox: 0.2757, loss: 0.3373\n",
      "2022-05-26 17:17:07,730 - mmdet - INFO - starting model initialization...\n"
     ]
    },
    {
     "name": "stdout",
     "output_type": "stream",
     "text": [
      "[>>>>>>>>>>>>>>>>>>>>>>>>>>>>>] 850/850, 74.9 task/s, elapsed: 11s, ETA:     0s"
     ]
    },
    {
     "name": "stderr",
     "output_type": "stream",
     "text": [
      "2022-05-26 17:17:19,154 - mmdet - INFO - model initialization done.\n"
     ]
    },
    {
     "name": "stdout",
     "output_type": "stream",
     "text": [
      "[>>>>>>>>>>>>>>>>>>>>>>>>>>>>>] 300/300, 12.8 task/s, elapsed: 23s, ETA:     0s\n",
      "---------------iou_thr: 0.5---------------\n"
     ]
    },
    {
     "name": "stderr",
     "output_type": "stream",
     "text": [
      "2022-05-26 17:17:42,958 - mmfewshot - INFO - \n",
      "+---------+-----+------+--------+-------+\n",
      "| class   | gts | dets | recall | ap    |\n",
      "+---------+-----+------+--------+-------+\n",
      "| fanta   | 291 | 1669 | 0.907  | 0.759 |\n",
      "| Mirinda | 111 | 544  | 0.793  | 0.608 |\n",
      "+---------+-----+------+--------+-------+\n",
      "| mAP     |     |      |        | 0.683 |\n",
      "+---------+-----+------+--------+-------+\n",
      "2022-05-26 17:17:42,961 - mmfewshot - INFO - BASE_CLASSES_SPLIT2 mAP: 0.683292031288147\n",
      "2022-05-26 17:17:42,962 - mmfewshot - INFO - NOVEL_CLASSES_SPLIT2 mAP: nan\n",
      "2022-05-26 17:17:42,966 - mmfewshot - INFO - Exp name: attention-rpn_r50_c4_tb-split2_1shot-fine-tuning-momentum-09.py\n",
      "2022-05-26 17:17:42,968 - mmfewshot - INFO - Iter(val) [300]\tAP50: 0.6830, BASE_CLASSES_SPLIT2: AP50: 0.6830, NOVEL_CLASSES_SPLIT2: AP50: nan, mAP: 0.6833\n",
      "2022-05-26 17:17:56,506 - mmfewshot - INFO - Iter [72050/100000]\tlr: 1.000e-04, eta: 2:21:10, time: 0.976, data_time: 0.718, memory: 4571, loss_rpn_cls: 0.0066, loss_rpn_bbox: 0.0052, loss_cls: 0.0429, acc: 99.5703, loss_bbox: 0.3064, loss: 0.3611\n",
      "2022-05-26 17:18:09,909 - mmfewshot - INFO - Iter [72100/100000]\tlr: 1.000e-04, eta: 2:20:54, time: 0.268, data_time: 0.012, memory: 4571, loss_rpn_cls: 0.0083, loss_rpn_bbox: 0.0044, loss_cls: 0.0389, acc: 99.6953, loss_bbox: 0.3034, loss: 0.3550\n",
      "2022-05-26 17:18:23,317 - mmfewshot - INFO - Iter [72150/100000]\tlr: 1.000e-04, eta: 2:20:39, time: 0.268, data_time: 0.011, memory: 4571, loss_rpn_cls: 0.0128, loss_rpn_bbox: 0.0071, loss_cls: 0.0345, acc: 99.6719, loss_bbox: 0.2713, loss: 0.3257\n",
      "2022-05-26 17:18:36,637 - mmfewshot - INFO - Iter [72200/100000]\tlr: 1.000e-04, eta: 2:20:23, time: 0.267, data_time: 0.011, memory: 4571, loss_rpn_cls: 0.0099, loss_rpn_bbox: 0.0046, loss_cls: 0.0516, acc: 99.6406, loss_bbox: 0.2748, loss: 0.3409\n",
      "2022-05-26 17:18:50,114 - mmfewshot - INFO - Iter [72250/100000]\tlr: 1.000e-04, eta: 2:20:07, time: 0.270, data_time: 0.012, memory: 4571, loss_rpn_cls: 0.0092, loss_rpn_bbox: 0.0059, loss_cls: 0.0417, acc: 99.6016, loss_bbox: 0.2608, loss: 0.3176\n",
      "2022-05-26 17:19:03,463 - mmfewshot - INFO - Iter [72300/100000]\tlr: 1.000e-04, eta: 2:19:51, time: 0.267, data_time: 0.013, memory: 4571, loss_rpn_cls: 0.0098, loss_rpn_bbox: 0.0074, loss_cls: 0.0354, acc: 99.6719, loss_bbox: 0.2954, loss: 0.3479\n",
      "2022-05-26 17:19:16,973 - mmfewshot - INFO - Iter [72350/100000]\tlr: 1.000e-04, eta: 2:19:35, time: 0.270, data_time: 0.012, memory: 4571, loss_rpn_cls: 0.0129, loss_rpn_bbox: 0.0080, loss_cls: 0.0596, acc: 99.6016, loss_bbox: 0.3007, loss: 0.3812\n",
      "2022-05-26 17:19:30,311 - mmfewshot - INFO - Iter [72400/100000]\tlr: 1.000e-04, eta: 2:19:20, time: 0.266, data_time: 0.011, memory: 4571, loss_rpn_cls: 0.0057, loss_rpn_bbox: 0.0035, loss_cls: 0.0407, acc: 99.6484, loss_bbox: 0.2661, loss: 0.3160\n",
      "2022-05-26 17:19:43,513 - mmfewshot - INFO - Iter [72450/100000]\tlr: 1.000e-04, eta: 2:19:04, time: 0.264, data_time: 0.010, memory: 4571, loss_rpn_cls: 0.0070, loss_rpn_bbox: 0.0049, loss_cls: 0.0400, acc: 99.6172, loss_bbox: 0.3125, loss: 0.3643\n",
      "2022-05-26 17:19:56,848 - mmfewshot - INFO - Iter [72500/100000]\tlr: 1.000e-04, eta: 2:18:48, time: 0.267, data_time: 0.012, memory: 4571, loss_rpn_cls: 0.0085, loss_rpn_bbox: 0.0046, loss_cls: 0.0361, acc: 99.6250, loss_bbox: 0.3030, loss: 0.3522\n",
      "2022-05-26 17:20:10,311 - mmfewshot - INFO - Iter [72550/100000]\tlr: 1.000e-04, eta: 2:18:32, time: 0.269, data_time: 0.013, memory: 4571, loss_rpn_cls: 0.0102, loss_rpn_bbox: 0.0067, loss_cls: 0.0460, acc: 99.5859, loss_bbox: 0.2663, loss: 0.3292\n",
      "2022-05-26 17:20:23,787 - mmfewshot - INFO - Iter [72600/100000]\tlr: 1.000e-04, eta: 2:18:16, time: 0.269, data_time: 0.013, memory: 4571, loss_rpn_cls: 0.0127, loss_rpn_bbox: 0.0079, loss_cls: 0.0427, acc: 99.5234, loss_bbox: 0.3403, loss: 0.4035\n",
      "2022-05-26 17:20:37,230 - mmfewshot - INFO - Iter [72650/100000]\tlr: 1.000e-04, eta: 2:18:01, time: 0.269, data_time: 0.012, memory: 4571, loss_rpn_cls: 0.0064, loss_rpn_bbox: 0.0034, loss_cls: 0.0394, acc: 99.6797, loss_bbox: 0.2471, loss: 0.2963\n",
      "2022-05-26 17:20:50,668 - mmfewshot - INFO - Iter [72700/100000]\tlr: 1.000e-04, eta: 2:17:45, time: 0.269, data_time: 0.013, memory: 4571, loss_rpn_cls: 0.0078, loss_rpn_bbox: 0.0055, loss_cls: 0.0408, acc: 99.6016, loss_bbox: 0.2912, loss: 0.3452\n",
      "2022-05-26 17:21:04,237 - mmfewshot - INFO - Iter [72750/100000]\tlr: 1.000e-04, eta: 2:17:29, time: 0.271, data_time: 0.013, memory: 4571, loss_rpn_cls: 0.0090, loss_rpn_bbox: 0.0051, loss_cls: 0.0346, acc: 99.6406, loss_bbox: 0.3044, loss: 0.3531\n",
      "2022-05-26 17:21:17,863 - mmfewshot - INFO - Iter [72800/100000]\tlr: 1.000e-04, eta: 2:17:13, time: 0.272, data_time: 0.013, memory: 4571, loss_rpn_cls: 0.0077, loss_rpn_bbox: 0.0053, loss_cls: 0.0372, acc: 99.6406, loss_bbox: 0.2996, loss: 0.3498\n",
      "2022-05-26 17:21:31,289 - mmfewshot - INFO - Iter [72850/100000]\tlr: 1.000e-04, eta: 2:16:58, time: 0.268, data_time: 0.012, memory: 4571, loss_rpn_cls: 0.0055, loss_rpn_bbox: 0.0050, loss_cls: 0.0413, acc: 99.6328, loss_bbox: 0.2924, loss: 0.3442\n",
      "2022-05-26 17:21:44,703 - mmfewshot - INFO - Iter [72900/100000]\tlr: 1.000e-04, eta: 2:16:42, time: 0.268, data_time: 0.012, memory: 4571, loss_rpn_cls: 0.0069, loss_rpn_bbox: 0.0049, loss_cls: 0.0393, acc: 99.5469, loss_bbox: 0.3109, loss: 0.3620\n",
      "2022-05-26 17:21:58,164 - mmfewshot - INFO - Iter [72950/100000]\tlr: 1.000e-04, eta: 2:16:26, time: 0.269, data_time: 0.012, memory: 4571, loss_rpn_cls: 0.0062, loss_rpn_bbox: 0.0032, loss_cls: 0.0381, acc: 99.7266, loss_bbox: 0.2466, loss: 0.2940\n",
      "2022-05-26 17:22:11,565 - mmfewshot - INFO - Exp name: attention-rpn_r50_c4_tb-split2_1shot-fine-tuning-momentum-09.py\n",
      "2022-05-26 17:22:11,568 - mmfewshot - INFO - Iter [73000/100000]\tlr: 1.000e-04, eta: 2:16:10, time: 0.268, data_time: 0.013, memory: 4571, loss_rpn_cls: 0.0055, loss_rpn_bbox: 0.0051, loss_cls: 0.0303, acc: 99.6406, loss_bbox: 0.3004, loss: 0.3413\n",
      "2022-05-26 17:22:11,573 - mmdet - INFO - starting model initialization...\n"
     ]
    },
    {
     "name": "stdout",
     "output_type": "stream",
     "text": [
      "[>>>>>>>>>>>>>>>>>>>>>>>>>>>>>] 850/850, 75.7 task/s, elapsed: 11s, ETA:     0s"
     ]
    },
    {
     "name": "stderr",
     "output_type": "stream",
     "text": [
      "2022-05-26 17:22:22,882 - mmdet - INFO - model initialization done.\n"
     ]
    },
    {
     "name": "stdout",
     "output_type": "stream",
     "text": [
      "[>>>>>>>>>>>>>>>>>>>>>>>>>>>>>] 300/300, 12.7 task/s, elapsed: 24s, ETA:     0s\n",
      "---------------iou_thr: 0.5---------------\n"
     ]
    },
    {
     "name": "stderr",
     "output_type": "stream",
     "text": [
      "2022-05-26 17:22:46,797 - mmfewshot - INFO - \n",
      "+---------+-----+------+--------+-------+\n",
      "| class   | gts | dets | recall | ap    |\n",
      "+---------+-----+------+--------+-------+\n",
      "| fanta   | 291 | 1388 | 0.876  | 0.712 |\n",
      "| Mirinda | 111 | 626  | 0.757  | 0.622 |\n",
      "+---------+-----+------+--------+-------+\n",
      "| mAP     |     |      |        | 0.667 |\n",
      "+---------+-----+------+--------+-------+\n",
      "2022-05-26 17:22:46,800 - mmfewshot - INFO - BASE_CLASSES_SPLIT2 mAP: 0.667312741279602\n",
      "2022-05-26 17:22:46,801 - mmfewshot - INFO - NOVEL_CLASSES_SPLIT2 mAP: nan\n",
      "2022-05-26 17:22:46,805 - mmfewshot - INFO - Exp name: attention-rpn_r50_c4_tb-split2_1shot-fine-tuning-momentum-09.py\n",
      "2022-05-26 17:22:46,806 - mmfewshot - INFO - Iter(val) [300]\tAP50: 0.6670, BASE_CLASSES_SPLIT2: AP50: 0.6670, NOVEL_CLASSES_SPLIT2: AP50: nan, mAP: 0.6673\n",
      "2022-05-26 17:23:00,285 - mmfewshot - INFO - Iter [73050/100000]\tlr: 1.000e-04, eta: 2:16:07, time: 0.975, data_time: 0.717, memory: 4571, loss_rpn_cls: 0.0146, loss_rpn_bbox: 0.0077, loss_cls: 0.0318, acc: 99.7109, loss_bbox: 0.2634, loss: 0.3175\n",
      "2022-05-26 17:23:13,815 - mmfewshot - INFO - Iter [73100/100000]\tlr: 1.000e-04, eta: 2:15:52, time: 0.271, data_time: 0.012, memory: 4571, loss_rpn_cls: 0.0111, loss_rpn_bbox: 0.0070, loss_cls: 0.0255, acc: 99.7188, loss_bbox: 0.2648, loss: 0.3083\n",
      "2022-05-26 17:23:27,380 - mmfewshot - INFO - Iter [73150/100000]\tlr: 1.000e-04, eta: 2:15:36, time: 0.271, data_time: 0.013, memory: 4571, loss_rpn_cls: 0.0132, loss_rpn_bbox: 0.0079, loss_cls: 0.0370, acc: 99.5938, loss_bbox: 0.2907, loss: 0.3488\n",
      "2022-05-26 17:23:40,751 - mmfewshot - INFO - Iter [73200/100000]\tlr: 1.000e-04, eta: 2:15:20, time: 0.267, data_time: 0.012, memory: 4571, loss_rpn_cls: 0.0088, loss_rpn_bbox: 0.0064, loss_cls: 0.0419, acc: 99.6641, loss_bbox: 0.2710, loss: 0.3281\n",
      "2022-05-26 17:23:54,277 - mmfewshot - INFO - Iter [73250/100000]\tlr: 1.000e-04, eta: 2:15:04, time: 0.271, data_time: 0.013, memory: 4571, loss_rpn_cls: 0.0112, loss_rpn_bbox: 0.0056, loss_cls: 0.0483, acc: 99.4688, loss_bbox: 0.3055, loss: 0.3705\n",
      "2022-05-26 17:24:07,644 - mmfewshot - INFO - Iter [73300/100000]\tlr: 1.000e-04, eta: 2:14:49, time: 0.267, data_time: 0.011, memory: 4571, loss_rpn_cls: 0.0103, loss_rpn_bbox: 0.0067, loss_cls: 0.0311, acc: 99.6797, loss_bbox: 0.2774, loss: 0.3256\n",
      "2022-05-26 17:24:20,964 - mmfewshot - INFO - Iter [73350/100000]\tlr: 1.000e-04, eta: 2:14:33, time: 0.266, data_time: 0.011, memory: 4571, loss_rpn_cls: 0.0080, loss_rpn_bbox: 0.0051, loss_cls: 0.0370, acc: 99.6719, loss_bbox: 0.2670, loss: 0.3170\n",
      "2022-05-26 17:24:34,247 - mmfewshot - INFO - Iter [73400/100000]\tlr: 1.000e-04, eta: 2:14:17, time: 0.266, data_time: 0.012, memory: 4571, loss_rpn_cls: 0.0098, loss_rpn_bbox: 0.0052, loss_cls: 0.0360, acc: 99.6875, loss_bbox: 0.3062, loss: 0.3573\n",
      "2022-05-26 17:24:47,799 - mmfewshot - INFO - Iter [73450/100000]\tlr: 1.000e-04, eta: 2:14:01, time: 0.271, data_time: 0.013, memory: 4571, loss_rpn_cls: 0.0089, loss_rpn_bbox: 0.0061, loss_cls: 0.0347, acc: 99.6328, loss_bbox: 0.3175, loss: 0.3672\n",
      "2022-05-26 17:25:01,320 - mmfewshot - INFO - Iter [73500/100000]\tlr: 1.000e-04, eta: 2:13:46, time: 0.270, data_time: 0.012, memory: 4571, loss_rpn_cls: 0.0090, loss_rpn_bbox: 0.0059, loss_cls: 0.0292, acc: 99.6875, loss_bbox: 0.2817, loss: 0.3257\n",
      "2022-05-26 17:25:14,830 - mmfewshot - INFO - Iter [73550/100000]\tlr: 1.000e-04, eta: 2:13:30, time: 0.270, data_time: 0.013, memory: 4571, loss_rpn_cls: 0.0102, loss_rpn_bbox: 0.0064, loss_cls: 0.0371, acc: 99.6641, loss_bbox: 0.2978, loss: 0.3515\n",
      "2022-05-26 17:25:28,316 - mmfewshot - INFO - Iter [73600/100000]\tlr: 1.000e-04, eta: 2:13:14, time: 0.270, data_time: 0.013, memory: 4571, loss_rpn_cls: 0.0072, loss_rpn_bbox: 0.0044, loss_cls: 0.0298, acc: 99.6562, loss_bbox: 0.3339, loss: 0.3753\n",
      "2022-05-26 17:25:41,795 - mmfewshot - INFO - Iter [73650/100000]\tlr: 1.000e-04, eta: 2:12:58, time: 0.269, data_time: 0.013, memory: 4571, loss_rpn_cls: 0.0095, loss_rpn_bbox: 0.0070, loss_cls: 0.0322, acc: 99.7109, loss_bbox: 0.2912, loss: 0.3399\n",
      "2022-05-26 17:25:55,299 - mmfewshot - INFO - Iter [73700/100000]\tlr: 1.000e-04, eta: 2:12:43, time: 0.270, data_time: 0.012, memory: 4571, loss_rpn_cls: 0.0097, loss_rpn_bbox: 0.0049, loss_cls: 0.0549, acc: 99.5547, loss_bbox: 0.2858, loss: 0.3553\n",
      "2022-05-26 17:26:08,790 - mmfewshot - INFO - Iter [73750/100000]\tlr: 1.000e-04, eta: 2:12:27, time: 0.270, data_time: 0.012, memory: 4571, loss_rpn_cls: 0.0075, loss_rpn_bbox: 0.0076, loss_cls: 0.0326, acc: 99.5859, loss_bbox: 0.2914, loss: 0.3391\n",
      "2022-05-26 17:26:22,348 - mmfewshot - INFO - Iter [73800/100000]\tlr: 1.000e-04, eta: 2:12:11, time: 0.271, data_time: 0.013, memory: 4571, loss_rpn_cls: 0.0045, loss_rpn_bbox: 0.0034, loss_cls: 0.0387, acc: 99.6641, loss_bbox: 0.2537, loss: 0.3003\n",
      "2022-05-26 17:26:35,788 - mmfewshot - INFO - Iter [73850/100000]\tlr: 1.000e-04, eta: 2:11:55, time: 0.269, data_time: 0.012, memory: 4571, loss_rpn_cls: 0.0080, loss_rpn_bbox: 0.0053, loss_cls: 0.0356, acc: 99.5938, loss_bbox: 0.2728, loss: 0.3217\n",
      "2022-05-26 17:26:49,212 - mmfewshot - INFO - Iter [73900/100000]\tlr: 1.000e-04, eta: 2:11:40, time: 0.268, data_time: 0.012, memory: 4571, loss_rpn_cls: 0.0073, loss_rpn_bbox: 0.0039, loss_cls: 0.0335, acc: 99.6719, loss_bbox: 0.3025, loss: 0.3471\n",
      "2022-05-26 17:27:02,616 - mmfewshot - INFO - Iter [73950/100000]\tlr: 1.000e-04, eta: 2:11:24, time: 0.268, data_time: 0.012, memory: 4571, loss_rpn_cls: 0.0076, loss_rpn_bbox: 0.0044, loss_cls: 0.0285, acc: 99.6875, loss_bbox: 0.2815, loss: 0.3219\n",
      "2022-05-26 17:27:16,120 - mmfewshot - INFO - Exp name: attention-rpn_r50_c4_tb-split2_1shot-fine-tuning-momentum-09.py\n",
      "2022-05-26 17:27:16,121 - mmfewshot - INFO - Iter [74000/100000]\tlr: 1.000e-04, eta: 2:11:08, time: 0.270, data_time: 0.012, memory: 4571, loss_rpn_cls: 0.0061, loss_rpn_bbox: 0.0036, loss_cls: 0.0329, acc: 99.7266, loss_bbox: 0.2599, loss: 0.3025\n",
      "2022-05-26 17:27:16,125 - mmdet - INFO - starting model initialization...\n"
     ]
    },
    {
     "name": "stdout",
     "output_type": "stream",
     "text": [
      "[>>>>>>>>>>>>>>>>>>>>>>>>>>>>>] 850/850, 78.9 task/s, elapsed: 11s, ETA:     0s"
     ]
    },
    {
     "name": "stderr",
     "output_type": "stream",
     "text": [
      "2022-05-26 17:27:26,975 - mmdet - INFO - model initialization done.\n"
     ]
    },
    {
     "name": "stdout",
     "output_type": "stream",
     "text": [
      "[>>>>>>>>>>>>>>>>>>>>>>>>>>>>>] 300/300, 12.7 task/s, elapsed: 24s, ETA:     0s\n",
      "---------------iou_thr: 0.5---------------\n"
     ]
    },
    {
     "name": "stderr",
     "output_type": "stream",
     "text": [
      "2022-05-26 17:27:50,871 - mmfewshot - INFO - \n",
      "+---------+-----+------+--------+-------+\n",
      "| class   | gts | dets | recall | ap    |\n",
      "+---------+-----+------+--------+-------+\n",
      "| fanta   | 291 | 1603 | 0.897  | 0.756 |\n",
      "| Mirinda | 111 | 508  | 0.775  | 0.614 |\n",
      "+---------+-----+------+--------+-------+\n",
      "| mAP     |     |      |        | 0.685 |\n",
      "+---------+-----+------+--------+-------+\n",
      "2022-05-26 17:27:50,873 - mmfewshot - INFO - BASE_CLASSES_SPLIT2 mAP: 0.6853066682815552\n",
      "2022-05-26 17:27:50,874 - mmfewshot - INFO - NOVEL_CLASSES_SPLIT2 mAP: nan\n",
      "2022-05-26 17:27:50,876 - mmfewshot - INFO - Exp name: attention-rpn_r50_c4_tb-split2_1shot-fine-tuning-momentum-09.py\n",
      "2022-05-26 17:27:50,878 - mmfewshot - INFO - Iter(val) [300]\tAP50: 0.6850, BASE_CLASSES_SPLIT2: AP50: 0.6850, NOVEL_CLASSES_SPLIT2: AP50: nan, mAP: 0.6853\n",
      "2022-05-26 17:28:04,298 - mmfewshot - INFO - Iter [74050/100000]\tlr: 1.000e-04, eta: 2:11:05, time: 0.964, data_time: 0.707, memory: 4571, loss_rpn_cls: 0.0071, loss_rpn_bbox: 0.0042, loss_cls: 0.0412, acc: 99.6172, loss_bbox: 0.2927, loss: 0.3452\n",
      "2022-05-26 17:28:17,979 - mmfewshot - INFO - Iter [74100/100000]\tlr: 1.000e-04, eta: 2:10:49, time: 0.274, data_time: 0.013, memory: 4571, loss_rpn_cls: 0.0142, loss_rpn_bbox: 0.0090, loss_cls: 0.0358, acc: 99.5703, loss_bbox: 0.3183, loss: 0.3772\n",
      "2022-05-26 17:28:31,670 - mmfewshot - INFO - Iter [74150/100000]\tlr: 1.000e-04, eta: 2:10:33, time: 0.274, data_time: 0.014, memory: 4571, loss_rpn_cls: 0.0125, loss_rpn_bbox: 0.0128, loss_cls: 0.0404, acc: 99.5547, loss_bbox: 0.3492, loss: 0.4149\n",
      "2022-05-26 17:28:45,165 - mmfewshot - INFO - Iter [74200/100000]\tlr: 1.000e-04, eta: 2:10:18, time: 0.270, data_time: 0.013, memory: 4571, loss_rpn_cls: 0.0075, loss_rpn_bbox: 0.0044, loss_cls: 0.0354, acc: 99.6797, loss_bbox: 0.3036, loss: 0.3509\n",
      "2022-05-26 17:28:58,621 - mmfewshot - INFO - Iter [74250/100000]\tlr: 1.000e-04, eta: 2:10:02, time: 0.269, data_time: 0.013, memory: 4571, loss_rpn_cls: 0.0042, loss_rpn_bbox: 0.0033, loss_cls: 0.0307, acc: 99.7500, loss_bbox: 0.2676, loss: 0.3058\n",
      "2022-05-26 17:29:12,071 - mmfewshot - INFO - Iter [74300/100000]\tlr: 1.000e-04, eta: 2:09:46, time: 0.269, data_time: 0.012, memory: 4571, loss_rpn_cls: 0.0128, loss_rpn_bbox: 0.0071, loss_cls: 0.0382, acc: 99.6094, loss_bbox: 0.3032, loss: 0.3613\n",
      "2022-05-26 17:29:25,626 - mmfewshot - INFO - Iter [74350/100000]\tlr: 1.000e-04, eta: 2:09:30, time: 0.271, data_time: 0.013, memory: 4571, loss_rpn_cls: 0.0124, loss_rpn_bbox: 0.0093, loss_cls: 0.0781, acc: 99.4062, loss_bbox: 0.2795, loss: 0.3793\n",
      "2022-05-26 17:29:39,051 - mmfewshot - INFO - Iter [74400/100000]\tlr: 1.000e-04, eta: 2:09:15, time: 0.268, data_time: 0.012, memory: 4571, loss_rpn_cls: 0.0105, loss_rpn_bbox: 0.0061, loss_cls: 0.0431, acc: 99.5469, loss_bbox: 0.3129, loss: 0.3726\n",
      "2022-05-26 17:29:52,446 - mmfewshot - INFO - Iter [74450/100000]\tlr: 1.000e-04, eta: 2:08:59, time: 0.268, data_time: 0.011, memory: 4571, loss_rpn_cls: 0.0108, loss_rpn_bbox: 0.0065, loss_cls: 0.0365, acc: 99.5859, loss_bbox: 0.3222, loss: 0.3759\n",
      "2022-05-26 17:30:05,895 - mmfewshot - INFO - Iter [74500/100000]\tlr: 1.000e-04, eta: 2:08:43, time: 0.269, data_time: 0.012, memory: 4571, loss_rpn_cls: 0.0060, loss_rpn_bbox: 0.0043, loss_cls: 0.0524, acc: 99.5938, loss_bbox: 0.2697, loss: 0.3324\n",
      "2022-05-26 17:30:19,389 - mmfewshot - INFO - Iter [74550/100000]\tlr: 1.000e-04, eta: 2:08:28, time: 0.270, data_time: 0.012, memory: 4571, loss_rpn_cls: 0.0123, loss_rpn_bbox: 0.0066, loss_cls: 0.0343, acc: 99.5703, loss_bbox: 0.3414, loss: 0.3947\n",
      "2022-05-26 17:30:32,750 - mmfewshot - INFO - Iter [74600/100000]\tlr: 1.000e-04, eta: 2:08:12, time: 0.267, data_time: 0.012, memory: 4571, loss_rpn_cls: 0.0075, loss_rpn_bbox: 0.0042, loss_cls: 0.0399, acc: 99.6328, loss_bbox: 0.3182, loss: 0.3698\n",
      "2022-05-26 17:30:46,166 - mmfewshot - INFO - Iter [74650/100000]\tlr: 1.000e-04, eta: 2:07:56, time: 0.268, data_time: 0.011, memory: 4571, loss_rpn_cls: 0.0093, loss_rpn_bbox: 0.0071, loss_cls: 0.0352, acc: 99.6875, loss_bbox: 0.2618, loss: 0.3134\n",
      "2022-05-26 17:30:59,602 - mmfewshot - INFO - Iter [74700/100000]\tlr: 1.000e-04, eta: 2:07:40, time: 0.269, data_time: 0.012, memory: 4571, loss_rpn_cls: 0.0084, loss_rpn_bbox: 0.0051, loss_cls: 0.0340, acc: 99.7422, loss_bbox: 0.2969, loss: 0.3443\n",
      "2022-05-26 17:31:12,982 - mmfewshot - INFO - Iter [74750/100000]\tlr: 1.000e-04, eta: 2:07:25, time: 0.267, data_time: 0.011, memory: 4571, loss_rpn_cls: 0.0072, loss_rpn_bbox: 0.0054, loss_cls: 0.0344, acc: 99.7031, loss_bbox: 0.2786, loss: 0.3258\n",
      "2022-05-26 17:31:26,312 - mmfewshot - INFO - Iter [74800/100000]\tlr: 1.000e-04, eta: 2:07:09, time: 0.267, data_time: 0.011, memory: 4571, loss_rpn_cls: 0.0102, loss_rpn_bbox: 0.0067, loss_cls: 0.0329, acc: 99.7031, loss_bbox: 0.2802, loss: 0.3300\n",
      "2022-05-26 17:31:39,600 - mmfewshot - INFO - Iter [74850/100000]\tlr: 1.000e-04, eta: 2:06:53, time: 0.266, data_time: 0.011, memory: 4571, loss_rpn_cls: 0.0058, loss_rpn_bbox: 0.0059, loss_cls: 0.0311, acc: 99.7344, loss_bbox: 0.2961, loss: 0.3389\n",
      "2022-05-26 17:31:53,023 - mmfewshot - INFO - Iter [74900/100000]\tlr: 1.000e-04, eta: 2:06:37, time: 0.268, data_time: 0.012, memory: 4571, loss_rpn_cls: 0.0047, loss_rpn_bbox: 0.0036, loss_cls: 0.0532, acc: 99.5781, loss_bbox: 0.2867, loss: 0.3482\n",
      "2022-05-26 17:32:06,523 - mmfewshot - INFO - Iter [74950/100000]\tlr: 1.000e-04, eta: 2:06:22, time: 0.270, data_time: 0.012, memory: 4571, loss_rpn_cls: 0.0082, loss_rpn_bbox: 0.0060, loss_cls: 0.0387, acc: 99.5859, loss_bbox: 0.2873, loss: 0.3402\n",
      "2022-05-26 17:32:19,974 - mmfewshot - INFO - Exp name: attention-rpn_r50_c4_tb-split2_1shot-fine-tuning-momentum-09.py\n",
      "2022-05-26 17:32:19,976 - mmfewshot - INFO - Iter [75000/100000]\tlr: 1.000e-04, eta: 2:06:06, time: 0.269, data_time: 0.011, memory: 4571, loss_rpn_cls: 0.0059, loss_rpn_bbox: 0.0057, loss_cls: 0.0325, acc: 99.6641, loss_bbox: 0.3091, loss: 0.3532\n",
      "2022-05-26 17:32:19,981 - mmdet - INFO - starting model initialization...\n"
     ]
    },
    {
     "name": "stdout",
     "output_type": "stream",
     "text": [
      "[>>>>>>>>>>>>>>>>>>>>>>>>>>>>>] 850/850, 75.2 task/s, elapsed: 11s, ETA:     0s"
     ]
    },
    {
     "name": "stderr",
     "output_type": "stream",
     "text": [
      "2022-05-26 17:32:31,358 - mmdet - INFO - model initialization done.\n"
     ]
    },
    {
     "name": "stdout",
     "output_type": "stream",
     "text": [
      "[>>>>>>>>>>>>>>>>>>>>>>>>>>>>>] 300/300, 12.7 task/s, elapsed: 24s, ETA:     0s\n",
      "---------------iou_thr: 0.5---------------\n"
     ]
    },
    {
     "name": "stderr",
     "output_type": "stream",
     "text": [
      "2022-05-26 17:32:55,431 - mmfewshot - INFO - \n",
      "+---------+-----+------+--------+-------+\n",
      "| class   | gts | dets | recall | ap    |\n",
      "+---------+-----+------+--------+-------+\n",
      "| fanta   | 291 | 1263 | 0.863  | 0.675 |\n",
      "| Mirinda | 111 | 465  | 0.748  | 0.625 |\n",
      "+---------+-----+------+--------+-------+\n",
      "| mAP     |     |      |        | 0.650 |\n",
      "+---------+-----+------+--------+-------+\n",
      "2022-05-26 17:32:55,434 - mmfewshot - INFO - BASE_CLASSES_SPLIT2 mAP: 0.6500089764595032\n",
      "2022-05-26 17:32:55,436 - mmfewshot - INFO - NOVEL_CLASSES_SPLIT2 mAP: nan\n",
      "2022-05-26 17:32:55,439 - mmfewshot - INFO - Exp name: attention-rpn_r50_c4_tb-split2_1shot-fine-tuning-momentum-09.py\n",
      "2022-05-26 17:32:55,441 - mmfewshot - INFO - Iter(val) [300]\tAP50: 0.6500, BASE_CLASSES_SPLIT2: AP50: 0.6500, NOVEL_CLASSES_SPLIT2: AP50: nan, mAP: 0.6500\n",
      "2022-05-26 17:33:09,020 - mmfewshot - INFO - Iter [75050/100000]\tlr: 1.000e-04, eta: 2:06:02, time: 0.981, data_time: 0.723, memory: 4571, loss_rpn_cls: 0.0068, loss_rpn_bbox: 0.0067, loss_cls: 0.0403, acc: 99.5938, loss_bbox: 0.2654, loss: 0.3193\n",
      "2022-05-26 17:33:22,449 - mmfewshot - INFO - Iter [75100/100000]\tlr: 1.000e-04, eta: 2:05:46, time: 0.268, data_time: 0.013, memory: 4571, loss_rpn_cls: 0.0069, loss_rpn_bbox: 0.0047, loss_cls: 0.0347, acc: 99.6406, loss_bbox: 0.2970, loss: 0.3433\n",
      "2022-05-26 17:33:35,882 - mmfewshot - INFO - Iter [75150/100000]\tlr: 1.000e-04, eta: 2:05:31, time: 0.269, data_time: 0.012, memory: 4571, loss_rpn_cls: 0.0067, loss_rpn_bbox: 0.0035, loss_cls: 0.0381, acc: 99.5938, loss_bbox: 0.2906, loss: 0.3390\n",
      "2022-05-26 17:33:49,288 - mmfewshot - INFO - Iter [75200/100000]\tlr: 1.000e-04, eta: 2:05:15, time: 0.268, data_time: 0.013, memory: 4571, loss_rpn_cls: 0.0064, loss_rpn_bbox: 0.0041, loss_cls: 0.0408, acc: 99.6172, loss_bbox: 0.2917, loss: 0.3430\n",
      "2022-05-26 17:34:02,808 - mmfewshot - INFO - Iter [75250/100000]\tlr: 1.000e-04, eta: 2:04:59, time: 0.270, data_time: 0.013, memory: 4571, loss_rpn_cls: 0.0080, loss_rpn_bbox: 0.0060, loss_cls: 0.0296, acc: 99.6328, loss_bbox: 0.3530, loss: 0.3966\n",
      "2022-05-26 17:34:16,398 - mmfewshot - INFO - Iter [75300/100000]\tlr: 1.000e-04, eta: 2:04:44, time: 0.272, data_time: 0.013, memory: 4571, loss_rpn_cls: 0.0067, loss_rpn_bbox: 0.0048, loss_cls: 0.0352, acc: 99.6094, loss_bbox: 0.3280, loss: 0.3747\n",
      "2022-05-26 17:34:29,959 - mmfewshot - INFO - Iter [75350/100000]\tlr: 1.000e-04, eta: 2:04:28, time: 0.271, data_time: 0.013, memory: 4571, loss_rpn_cls: 0.0082, loss_rpn_bbox: 0.0048, loss_cls: 0.0551, acc: 99.5938, loss_bbox: 0.2948, loss: 0.3630\n",
      "2022-05-26 17:34:43,465 - mmfewshot - INFO - Iter [75400/100000]\tlr: 1.000e-04, eta: 2:04:12, time: 0.270, data_time: 0.012, memory: 4571, loss_rpn_cls: 0.0079, loss_rpn_bbox: 0.0040, loss_cls: 0.0451, acc: 99.6094, loss_bbox: 0.2792, loss: 0.3363\n",
      "2022-05-26 17:34:56,855 - mmfewshot - INFO - Iter [75450/100000]\tlr: 1.000e-04, eta: 2:03:57, time: 0.268, data_time: 0.012, memory: 4571, loss_rpn_cls: 0.0052, loss_rpn_bbox: 0.0030, loss_cls: 0.0388, acc: 99.6328, loss_bbox: 0.2990, loss: 0.3459\n",
      "2022-05-26 17:35:10,259 - mmfewshot - INFO - Iter [75500/100000]\tlr: 1.000e-04, eta: 2:03:41, time: 0.268, data_time: 0.012, memory: 4571, loss_rpn_cls: 0.0135, loss_rpn_bbox: 0.0077, loss_cls: 0.0501, acc: 99.5859, loss_bbox: 0.2702, loss: 0.3415\n",
      "2022-05-26 17:35:23,639 - mmfewshot - INFO - Iter [75550/100000]\tlr: 1.000e-04, eta: 2:03:25, time: 0.268, data_time: 0.012, memory: 4571, loss_rpn_cls: 0.0057, loss_rpn_bbox: 0.0045, loss_cls: 0.0529, acc: 99.6797, loss_bbox: 0.2635, loss: 0.3265\n",
      "2022-05-26 17:35:37,114 - mmfewshot - INFO - Iter [75600/100000]\tlr: 1.000e-04, eta: 2:03:09, time: 0.269, data_time: 0.012, memory: 4571, loss_rpn_cls: 0.0083, loss_rpn_bbox: 0.0034, loss_cls: 0.0496, acc: 99.5078, loss_bbox: 0.2799, loss: 0.3412\n",
      "2022-05-26 17:35:50,737 - mmfewshot - INFO - Iter [75650/100000]\tlr: 1.000e-04, eta: 2:02:54, time: 0.272, data_time: 0.013, memory: 4571, loss_rpn_cls: 0.0090, loss_rpn_bbox: 0.0068, loss_cls: 0.0551, acc: 99.5391, loss_bbox: 0.3062, loss: 0.3771\n",
      "2022-05-26 17:36:04,259 - mmfewshot - INFO - Iter [75700/100000]\tlr: 1.000e-04, eta: 2:02:38, time: 0.270, data_time: 0.013, memory: 4571, loss_rpn_cls: 0.0134, loss_rpn_bbox: 0.0060, loss_cls: 0.0447, acc: 99.5781, loss_bbox: 0.2817, loss: 0.3458\n",
      "2022-05-26 17:36:17,755 - mmfewshot - INFO - Iter [75750/100000]\tlr: 1.000e-04, eta: 2:02:22, time: 0.270, data_time: 0.012, memory: 4571, loss_rpn_cls: 0.0060, loss_rpn_bbox: 0.0058, loss_cls: 0.0362, acc: 99.5625, loss_bbox: 0.2993, loss: 0.3473\n",
      "2022-05-26 17:36:31,305 - mmfewshot - INFO - Iter [75800/100000]\tlr: 1.000e-04, eta: 2:02:07, time: 0.271, data_time: 0.013, memory: 4571, loss_rpn_cls: 0.0076, loss_rpn_bbox: 0.0061, loss_cls: 0.0331, acc: 99.7109, loss_bbox: 0.2937, loss: 0.3405\n",
      "2022-05-26 17:36:44,719 - mmfewshot - INFO - Iter [75850/100000]\tlr: 1.000e-04, eta: 2:01:51, time: 0.268, data_time: 0.012, memory: 4571, loss_rpn_cls: 0.0092, loss_rpn_bbox: 0.0055, loss_cls: 0.0687, acc: 99.3281, loss_bbox: 0.3133, loss: 0.3967\n",
      "2022-05-26 17:36:58,321 - mmfewshot - INFO - Iter [75900/100000]\tlr: 1.000e-04, eta: 2:01:36, time: 0.272, data_time: 0.013, memory: 4571, loss_rpn_cls: 0.0091, loss_rpn_bbox: 0.0074, loss_cls: 0.0402, acc: 99.6094, loss_bbox: 0.3293, loss: 0.3861\n",
      "2022-05-26 17:37:11,853 - mmfewshot - INFO - Iter [75950/100000]\tlr: 1.000e-04, eta: 2:01:20, time: 0.271, data_time: 0.012, memory: 4571, loss_rpn_cls: 0.0078, loss_rpn_bbox: 0.0046, loss_cls: 0.0373, acc: 99.6172, loss_bbox: 0.3193, loss: 0.3690\n",
      "2022-05-26 17:37:25,360 - mmfewshot - INFO - Exp name: attention-rpn_r50_c4_tb-split2_1shot-fine-tuning-momentum-09.py\n",
      "2022-05-26 17:37:25,362 - mmfewshot - INFO - Iter [76000/100000]\tlr: 1.000e-04, eta: 2:01:04, time: 0.270, data_time: 0.013, memory: 4571, loss_rpn_cls: 0.0055, loss_rpn_bbox: 0.0044, loss_cls: 0.0420, acc: 99.6172, loss_bbox: 0.2973, loss: 0.3492\n",
      "2022-05-26 17:37:25,367 - mmdet - INFO - starting model initialization...\n"
     ]
    },
    {
     "name": "stdout",
     "output_type": "stream",
     "text": [
      "[>>>>>>>>>>>>>>>>>>>>>>>>>>>>>] 850/850, 76.5 task/s, elapsed: 11s, ETA:     0s"
     ]
    },
    {
     "name": "stderr",
     "output_type": "stream",
     "text": [
      "2022-05-26 17:37:36,566 - mmdet - INFO - model initialization done.\n"
     ]
    },
    {
     "name": "stdout",
     "output_type": "stream",
     "text": [
      "[>>>>>>>>>>>>>>>>>>>>>>>>>>>>>] 300/300, 12.7 task/s, elapsed: 24s, ETA:     0s\n",
      "---------------iou_thr: 0.5---------------\n"
     ]
    },
    {
     "name": "stderr",
     "output_type": "stream",
     "text": [
      "2022-05-26 17:38:00,475 - mmfewshot - INFO - \n",
      "+---------+-----+------+--------+-------+\n",
      "| class   | gts | dets | recall | ap    |\n",
      "+---------+-----+------+--------+-------+\n",
      "| fanta   | 291 | 1579 | 0.900  | 0.724 |\n",
      "| Mirinda | 111 | 713  | 0.766  | 0.640 |\n",
      "+---------+-----+------+--------+-------+\n",
      "| mAP     |     |      |        | 0.682 |\n",
      "+---------+-----+------+--------+-------+\n",
      "2022-05-26 17:38:00,478 - mmfewshot - INFO - BASE_CLASSES_SPLIT2 mAP: 0.6818388104438782\n",
      "2022-05-26 17:38:00,479 - mmfewshot - INFO - NOVEL_CLASSES_SPLIT2 mAP: nan\n",
      "2022-05-26 17:38:00,483 - mmfewshot - INFO - Exp name: attention-rpn_r50_c4_tb-split2_1shot-fine-tuning-momentum-09.py\n",
      "2022-05-26 17:38:00,484 - mmfewshot - INFO - Iter(val) [300]\tAP50: 0.6820, BASE_CLASSES_SPLIT2: AP50: 0.6820, NOVEL_CLASSES_SPLIT2: AP50: nan, mAP: 0.6818\n",
      "2022-05-26 17:38:13,887 - mmfewshot - INFO - Iter [76050/100000]\tlr: 1.000e-04, eta: 2:01:00, time: 0.971, data_time: 0.714, memory: 4571, loss_rpn_cls: 0.0073, loss_rpn_bbox: 0.0050, loss_cls: 0.0415, acc: 99.6641, loss_bbox: 0.3337, loss: 0.3875\n",
      "2022-05-26 17:38:27,424 - mmfewshot - INFO - Iter [76100/100000]\tlr: 1.000e-04, eta: 2:00:44, time: 0.271, data_time: 0.013, memory: 4571, loss_rpn_cls: 0.0063, loss_rpn_bbox: 0.0049, loss_cls: 0.0340, acc: 99.6797, loss_bbox: 0.2889, loss: 0.3342\n",
      "2022-05-26 17:38:40,817 - mmfewshot - INFO - Iter [76150/100000]\tlr: 1.000e-04, eta: 2:00:28, time: 0.268, data_time: 0.012, memory: 4571, loss_rpn_cls: 0.0059, loss_rpn_bbox: 0.0027, loss_cls: 0.0393, acc: 99.7031, loss_bbox: 0.2471, loss: 0.2949\n",
      "2022-05-26 17:38:54,246 - mmfewshot - INFO - Iter [76200/100000]\tlr: 1.000e-04, eta: 2:00:13, time: 0.268, data_time: 0.012, memory: 4571, loss_rpn_cls: 0.0072, loss_rpn_bbox: 0.0050, loss_cls: 0.0258, acc: 99.6641, loss_bbox: 0.2882, loss: 0.3262\n",
      "2022-05-26 17:39:07,658 - mmfewshot - INFO - Iter [76250/100000]\tlr: 1.000e-04, eta: 1:59:57, time: 0.268, data_time: 0.012, memory: 4571, loss_rpn_cls: 0.0053, loss_rpn_bbox: 0.0036, loss_cls: 0.0334, acc: 99.6719, loss_bbox: 0.2937, loss: 0.3360\n",
      "2022-05-26 17:39:21,143 - mmfewshot - INFO - Iter [76300/100000]\tlr: 1.000e-04, eta: 1:59:41, time: 0.270, data_time: 0.013, memory: 4571, loss_rpn_cls: 0.0136, loss_rpn_bbox: 0.0064, loss_cls: 0.0387, acc: 99.6484, loss_bbox: 0.2816, loss: 0.3404\n",
      "2022-05-26 17:39:34,683 - mmfewshot - INFO - Iter [76350/100000]\tlr: 1.000e-04, eta: 1:59:26, time: 0.271, data_time: 0.013, memory: 4571, loss_rpn_cls: 0.0096, loss_rpn_bbox: 0.0042, loss_cls: 0.0397, acc: 99.7266, loss_bbox: 0.2730, loss: 0.3265\n",
      "2022-05-26 17:39:48,150 - mmfewshot - INFO - Iter [76400/100000]\tlr: 1.000e-04, eta: 1:59:10, time: 0.269, data_time: 0.012, memory: 4571, loss_rpn_cls: 0.0090, loss_rpn_bbox: 0.0075, loss_cls: 0.0448, acc: 99.6797, loss_bbox: 0.2763, loss: 0.3376\n",
      "2022-05-26 17:40:01,543 - mmfewshot - INFO - Iter [76450/100000]\tlr: 1.000e-04, eta: 1:58:54, time: 0.268, data_time: 0.013, memory: 4571, loss_rpn_cls: 0.0053, loss_rpn_bbox: 0.0043, loss_cls: 0.0313, acc: 99.7109, loss_bbox: 0.2925, loss: 0.3334\n",
      "2022-05-26 17:40:14,961 - mmfewshot - INFO - Iter [76500/100000]\tlr: 1.000e-04, eta: 1:58:38, time: 0.268, data_time: 0.012, memory: 4571, loss_rpn_cls: 0.0095, loss_rpn_bbox: 0.0054, loss_cls: 0.0284, acc: 99.7500, loss_bbox: 0.2947, loss: 0.3380\n",
      "2022-05-26 17:40:28,407 - mmfewshot - INFO - Iter [76550/100000]\tlr: 1.000e-04, eta: 1:58:23, time: 0.269, data_time: 0.012, memory: 4571, loss_rpn_cls: 0.0082, loss_rpn_bbox: 0.0065, loss_cls: 0.0408, acc: 99.6094, loss_bbox: 0.3001, loss: 0.3556\n",
      "2022-05-26 17:40:41,831 - mmfewshot - INFO - Iter [76600/100000]\tlr: 1.000e-04, eta: 1:58:07, time: 0.269, data_time: 0.012, memory: 4571, loss_rpn_cls: 0.0053, loss_rpn_bbox: 0.0040, loss_cls: 0.0315, acc: 99.7188, loss_bbox: 0.2736, loss: 0.3144\n",
      "2022-05-26 17:40:55,204 - mmfewshot - INFO - Iter [76650/100000]\tlr: 1.000e-04, eta: 1:57:51, time: 0.267, data_time: 0.012, memory: 4571, loss_rpn_cls: 0.0098, loss_rpn_bbox: 0.0043, loss_cls: 0.0440, acc: 99.5625, loss_bbox: 0.2898, loss: 0.3479\n",
      "2022-05-26 17:41:08,720 - mmfewshot - INFO - Iter [76700/100000]\tlr: 1.000e-04, eta: 1:57:36, time: 0.270, data_time: 0.012, memory: 4571, loss_rpn_cls: 0.0076, loss_rpn_bbox: 0.0048, loss_cls: 0.0399, acc: 99.5547, loss_bbox: 0.3136, loss: 0.3658\n",
      "2022-05-26 17:41:22,106 - mmfewshot - INFO - Iter [76750/100000]\tlr: 1.000e-04, eta: 1:57:20, time: 0.268, data_time: 0.012, memory: 4571, loss_rpn_cls: 0.0062, loss_rpn_bbox: 0.0035, loss_cls: 0.0482, acc: 99.4609, loss_bbox: 0.3152, loss: 0.3731\n",
      "2022-05-26 17:41:35,611 - mmfewshot - INFO - Iter [76800/100000]\tlr: 1.000e-04, eta: 1:57:05, time: 0.270, data_time: 0.013, memory: 4571, loss_rpn_cls: 0.0076, loss_rpn_bbox: 0.0046, loss_cls: 0.0243, acc: 99.8281, loss_bbox: 0.2756, loss: 0.3122\n",
      "2022-05-26 17:41:49,178 - mmfewshot - INFO - Iter [76850/100000]\tlr: 1.000e-04, eta: 1:56:49, time: 0.272, data_time: 0.013, memory: 4571, loss_rpn_cls: 0.0085, loss_rpn_bbox: 0.0062, loss_cls: 0.0363, acc: 99.6875, loss_bbox: 0.2806, loss: 0.3316\n",
      "2022-05-26 17:42:02,661 - mmfewshot - INFO - Iter [76900/100000]\tlr: 1.000e-04, eta: 1:56:33, time: 0.270, data_time: 0.012, memory: 4571, loss_rpn_cls: 0.0084, loss_rpn_bbox: 0.0047, loss_cls: 0.0371, acc: 99.6406, loss_bbox: 0.2913, loss: 0.3415\n",
      "2022-05-26 17:42:16,142 - mmfewshot - INFO - Iter [76950/100000]\tlr: 1.000e-04, eta: 1:56:18, time: 0.270, data_time: 0.013, memory: 4571, loss_rpn_cls: 0.0091, loss_rpn_bbox: 0.0062, loss_cls: 0.0418, acc: 99.6094, loss_bbox: 0.2935, loss: 0.3507\n",
      "2022-05-26 17:42:29,570 - mmfewshot - INFO - Exp name: attention-rpn_r50_c4_tb-split2_1shot-fine-tuning-momentum-09.py\n",
      "2022-05-26 17:42:29,572 - mmfewshot - INFO - Iter [77000/100000]\tlr: 1.000e-04, eta: 1:56:02, time: 0.268, data_time: 0.013, memory: 4571, loss_rpn_cls: 0.0075, loss_rpn_bbox: 0.0050, loss_cls: 0.0450, acc: 99.7031, loss_bbox: 0.2666, loss: 0.3242\n",
      "2022-05-26 17:42:29,577 - mmdet - INFO - starting model initialization...\n"
     ]
    },
    {
     "name": "stdout",
     "output_type": "stream",
     "text": [
      "[>>>>>>>>>>>>>>>>>>>>>>>>>>>>>] 850/850, 72.1 task/s, elapsed: 12s, ETA:     0s"
     ]
    },
    {
     "name": "stderr",
     "output_type": "stream",
     "text": [
      "2022-05-26 17:42:41,437 - mmdet - INFO - model initialization done.\n"
     ]
    },
    {
     "name": "stdout",
     "output_type": "stream",
     "text": [
      "[>>>>>>>>>>>>>>>>>>>>>>>>>>>>>] 300/300, 12.7 task/s, elapsed: 24s, ETA:     0s\n",
      "---------------iou_thr: 0.5---------------\n"
     ]
    },
    {
     "name": "stderr",
     "output_type": "stream",
     "text": [
      "2022-05-26 17:43:05,396 - mmfewshot - INFO - \n",
      "+---------+-----+------+--------+-------+\n",
      "| class   | gts | dets | recall | ap    |\n",
      "+---------+-----+------+--------+-------+\n",
      "| fanta   | 291 | 1528 | 0.900  | 0.732 |\n",
      "| Mirinda | 111 | 615  | 0.757  | 0.616 |\n",
      "+---------+-----+------+--------+-------+\n",
      "| mAP     |     |      |        | 0.674 |\n",
      "+---------+-----+------+--------+-------+\n",
      "2022-05-26 17:43:05,398 - mmfewshot - INFO - BASE_CLASSES_SPLIT2 mAP: 0.6742351055145264\n",
      "2022-05-26 17:43:05,399 - mmfewshot - INFO - NOVEL_CLASSES_SPLIT2 mAP: nan\n",
      "2022-05-26 17:43:05,401 - mmfewshot - INFO - Exp name: attention-rpn_r50_c4_tb-split2_1shot-fine-tuning-momentum-09.py\n",
      "2022-05-26 17:43:05,402 - mmfewshot - INFO - Iter(val) [300]\tAP50: 0.6740, BASE_CLASSES_SPLIT2: AP50: 0.6740, NOVEL_CLASSES_SPLIT2: AP50: nan, mAP: 0.6742\n",
      "2022-05-26 17:43:18,757 - mmfewshot - INFO - Iter [77050/100000]\tlr: 1.000e-04, eta: 1:55:57, time: 0.984, data_time: 0.729, memory: 4571, loss_rpn_cls: 0.0051, loss_rpn_bbox: 0.0028, loss_cls: 0.0343, acc: 99.6328, loss_bbox: 0.2865, loss: 0.3288\n",
      "2022-05-26 17:43:32,168 - mmfewshot - INFO - Iter [77100/100000]\tlr: 1.000e-04, eta: 1:55:41, time: 0.268, data_time: 0.012, memory: 4571, loss_rpn_cls: 0.0079, loss_rpn_bbox: 0.0061, loss_cls: 0.0416, acc: 99.5938, loss_bbox: 0.2944, loss: 0.3500\n",
      "2022-05-26 17:43:45,517 - mmfewshot - INFO - Iter [77150/100000]\tlr: 1.000e-04, eta: 1:55:26, time: 0.267, data_time: 0.012, memory: 4571, loss_rpn_cls: 0.0050, loss_rpn_bbox: 0.0031, loss_cls: 0.0391, acc: 99.6016, loss_bbox: 0.3018, loss: 0.3491\n",
      "2022-05-26 17:43:58,748 - mmfewshot - INFO - Iter [77200/100000]\tlr: 1.000e-04, eta: 1:55:10, time: 0.265, data_time: 0.012, memory: 4571, loss_rpn_cls: 0.0090, loss_rpn_bbox: 0.0052, loss_cls: 0.0382, acc: 99.5703, loss_bbox: 0.2789, loss: 0.3312\n",
      "2022-05-26 17:44:12,060 - mmfewshot - INFO - Iter [77250/100000]\tlr: 1.000e-04, eta: 1:54:54, time: 0.266, data_time: 0.012, memory: 4571, loss_rpn_cls: 0.0096, loss_rpn_bbox: 0.0064, loss_cls: 0.0374, acc: 99.6641, loss_bbox: 0.2973, loss: 0.3507\n",
      "2022-05-26 17:44:25,462 - mmfewshot - INFO - Iter [77300/100000]\tlr: 1.000e-04, eta: 1:54:39, time: 0.268, data_time: 0.012, memory: 4571, loss_rpn_cls: 0.0133, loss_rpn_bbox: 0.0069, loss_cls: 0.0376, acc: 99.6172, loss_bbox: 0.2845, loss: 0.3424\n",
      "2022-05-26 17:44:38,926 - mmfewshot - INFO - Iter [77350/100000]\tlr: 1.000e-04, eta: 1:54:23, time: 0.269, data_time: 0.013, memory: 4571, loss_rpn_cls: 0.0058, loss_rpn_bbox: 0.0044, loss_cls: 0.0422, acc: 99.5859, loss_bbox: 0.2899, loss: 0.3424\n",
      "2022-05-26 17:44:52,350 - mmfewshot - INFO - Iter [77400/100000]\tlr: 1.000e-04, eta: 1:54:07, time: 0.269, data_time: 0.011, memory: 4571, loss_rpn_cls: 0.0054, loss_rpn_bbox: 0.0032, loss_cls: 0.0310, acc: 99.6641, loss_bbox: 0.3056, loss: 0.3453\n",
      "2022-05-26 17:45:05,809 - mmfewshot - INFO - Iter [77450/100000]\tlr: 1.000e-04, eta: 1:53:52, time: 0.269, data_time: 0.012, memory: 4571, loss_rpn_cls: 0.0068, loss_rpn_bbox: 0.0058, loss_cls: 0.0298, acc: 99.6953, loss_bbox: 0.3068, loss: 0.3492\n",
      "2022-05-26 17:45:19,188 - mmfewshot - INFO - Iter [77500/100000]\tlr: 1.000e-04, eta: 1:53:36, time: 0.268, data_time: 0.012, memory: 4571, loss_rpn_cls: 0.0048, loss_rpn_bbox: 0.0031, loss_cls: 0.0315, acc: 99.7422, loss_bbox: 0.3008, loss: 0.3402\n",
      "2022-05-26 17:45:32,603 - mmfewshot - INFO - Iter [77550/100000]\tlr: 1.000e-04, eta: 1:53:20, time: 0.268, data_time: 0.012, memory: 4571, loss_rpn_cls: 0.0051, loss_rpn_bbox: 0.0044, loss_cls: 0.0335, acc: 99.6875, loss_bbox: 0.2912, loss: 0.3343\n",
      "2022-05-26 17:45:46,073 - mmfewshot - INFO - Iter [77600/100000]\tlr: 1.000e-04, eta: 1:53:05, time: 0.269, data_time: 0.012, memory: 4571, loss_rpn_cls: 0.0093, loss_rpn_bbox: 0.0042, loss_cls: 0.0436, acc: 99.6562, loss_bbox: 0.2978, loss: 0.3549\n",
      "2022-05-26 17:45:59,580 - mmfewshot - INFO - Iter [77650/100000]\tlr: 1.000e-04, eta: 1:52:49, time: 0.270, data_time: 0.012, memory: 4571, loss_rpn_cls: 0.0077, loss_rpn_bbox: 0.0064, loss_cls: 0.0480, acc: 99.5391, loss_bbox: 0.2978, loss: 0.3599\n",
      "2022-05-26 17:46:12,981 - mmfewshot - INFO - Iter [77700/100000]\tlr: 1.000e-04, eta: 1:52:33, time: 0.268, data_time: 0.012, memory: 4571, loss_rpn_cls: 0.0089, loss_rpn_bbox: 0.0051, loss_cls: 0.0292, acc: 99.6953, loss_bbox: 0.2778, loss: 0.3209\n",
      "2022-05-26 17:46:26,446 - mmfewshot - INFO - Iter [77750/100000]\tlr: 1.000e-04, eta: 1:52:18, time: 0.269, data_time: 0.012, memory: 4571, loss_rpn_cls: 0.0087, loss_rpn_bbox: 0.0058, loss_cls: 0.0313, acc: 99.7188, loss_bbox: 0.2710, loss: 0.3168\n",
      "2022-05-26 17:46:39,723 - mmfewshot - INFO - Iter [77800/100000]\tlr: 1.000e-04, eta: 1:52:02, time: 0.265, data_time: 0.010, memory: 4571, loss_rpn_cls: 0.0086, loss_rpn_bbox: 0.0078, loss_cls: 0.0290, acc: 99.6797, loss_bbox: 0.3463, loss: 0.3916\n",
      "2022-05-26 17:46:53,111 - mmfewshot - INFO - Iter [77850/100000]\tlr: 1.000e-04, eta: 1:51:46, time: 0.268, data_time: 0.012, memory: 4571, loss_rpn_cls: 0.0073, loss_rpn_bbox: 0.0033, loss_cls: 0.0243, acc: 99.7891, loss_bbox: 0.2538, loss: 0.2888\n",
      "2022-05-26 17:47:06,631 - mmfewshot - INFO - Iter [77900/100000]\tlr: 1.000e-04, eta: 1:51:31, time: 0.270, data_time: 0.013, memory: 4571, loss_rpn_cls: 0.0068, loss_rpn_bbox: 0.0037, loss_cls: 0.0295, acc: 99.6641, loss_bbox: 0.3269, loss: 0.3668\n",
      "2022-05-26 17:47:20,016 - mmfewshot - INFO - Iter [77950/100000]\tlr: 1.000e-04, eta: 1:51:15, time: 0.268, data_time: 0.012, memory: 4571, loss_rpn_cls: 0.0053, loss_rpn_bbox: 0.0035, loss_cls: 0.0213, acc: 99.8047, loss_bbox: 0.2813, loss: 0.3114\n",
      "2022-05-26 17:47:33,440 - mmfewshot - INFO - Exp name: attention-rpn_r50_c4_tb-split2_1shot-fine-tuning-momentum-09.py\n",
      "2022-05-26 17:47:33,442 - mmfewshot - INFO - Iter [78000/100000]\tlr: 1.000e-04, eta: 1:51:00, time: 0.269, data_time: 0.012, memory: 4571, loss_rpn_cls: 0.0136, loss_rpn_bbox: 0.0062, loss_cls: 0.0333, acc: 99.6328, loss_bbox: 0.3005, loss: 0.3535\n",
      "2022-05-26 17:47:33,447 - mmdet - INFO - starting model initialization...\n"
     ]
    },
    {
     "name": "stdout",
     "output_type": "stream",
     "text": [
      "[>>>>>>>>>>>>>>>>>>>>>>>>>>>>>] 850/850, 74.2 task/s, elapsed: 11s, ETA:     0s"
     ]
    },
    {
     "name": "stderr",
     "output_type": "stream",
     "text": [
      "2022-05-26 17:47:44,978 - mmdet - INFO - model initialization done.\n"
     ]
    },
    {
     "name": "stdout",
     "output_type": "stream",
     "text": [
      "[>>>>>>>>>>>>>>>>>>>>>>>>>>>>>] 300/300, 12.8 task/s, elapsed: 23s, ETA:     0s\n",
      "---------------iou_thr: 0.5---------------\n"
     ]
    },
    {
     "name": "stderr",
     "output_type": "stream",
     "text": [
      "2022-05-26 17:48:08,755 - mmfewshot - INFO - \n",
      "+---------+-----+------+--------+-------+\n",
      "| class   | gts | dets | recall | ap    |\n",
      "+---------+-----+------+--------+-------+\n",
      "| fanta   | 291 | 1010 | 0.838  | 0.696 |\n",
      "| Mirinda | 111 | 509  | 0.775  | 0.621 |\n",
      "+---------+-----+------+--------+-------+\n",
      "| mAP     |     |      |        | 0.658 |\n",
      "+---------+-----+------+--------+-------+\n",
      "2022-05-26 17:48:08,757 - mmfewshot - INFO - BASE_CLASSES_SPLIT2 mAP: 0.6582350134849548\n",
      "2022-05-26 17:48:08,758 - mmfewshot - INFO - NOVEL_CLASSES_SPLIT2 mAP: nan\n",
      "2022-05-26 17:48:08,760 - mmfewshot - INFO - Exp name: attention-rpn_r50_c4_tb-split2_1shot-fine-tuning-momentum-09.py\n",
      "2022-05-26 17:48:08,761 - mmfewshot - INFO - Iter(val) [300]\tAP50: 0.6580, BASE_CLASSES_SPLIT2: AP50: 0.6580, NOVEL_CLASSES_SPLIT2: AP50: nan, mAP: 0.6582\n",
      "2022-05-26 17:48:22,251 - mmfewshot - INFO - Iter [78050/100000]\tlr: 1.000e-04, eta: 1:50:54, time: 0.976, data_time: 0.719, memory: 4571, loss_rpn_cls: 0.0080, loss_rpn_bbox: 0.0044, loss_cls: 0.0363, acc: 99.7109, loss_bbox: 0.3026, loss: 0.3513\n",
      "2022-05-26 17:48:35,773 - mmfewshot - INFO - Iter [78100/100000]\tlr: 1.000e-04, eta: 1:50:38, time: 0.270, data_time: 0.013, memory: 4571, loss_rpn_cls: 0.0084, loss_rpn_bbox: 0.0039, loss_cls: 0.0275, acc: 99.7188, loss_bbox: 0.3264, loss: 0.3662\n",
      "2022-05-26 17:48:49,238 - mmfewshot - INFO - Iter [78150/100000]\tlr: 1.000e-04, eta: 1:50:23, time: 0.269, data_time: 0.012, memory: 4571, loss_rpn_cls: 0.0069, loss_rpn_bbox: 0.0047, loss_cls: 0.0277, acc: 99.6328, loss_bbox: 0.3373, loss: 0.3767\n",
      "2022-05-26 17:49:02,702 - mmfewshot - INFO - Iter [78200/100000]\tlr: 1.000e-04, eta: 1:50:07, time: 0.269, data_time: 0.013, memory: 4571, loss_rpn_cls: 0.0109, loss_rpn_bbox: 0.0072, loss_cls: 0.0365, acc: 99.6875, loss_bbox: 0.2983, loss: 0.3528\n",
      "2022-05-26 17:49:16,077 - mmfewshot - INFO - Iter [78250/100000]\tlr: 1.000e-04, eta: 1:49:51, time: 0.268, data_time: 0.012, memory: 4571, loss_rpn_cls: 0.0057, loss_rpn_bbox: 0.0060, loss_cls: 0.0342, acc: 99.6172, loss_bbox: 0.2689, loss: 0.3149\n",
      "2022-05-26 17:49:29,613 - mmfewshot - INFO - Iter [78300/100000]\tlr: 1.000e-04, eta: 1:49:36, time: 0.271, data_time: 0.013, memory: 4571, loss_rpn_cls: 0.0042, loss_rpn_bbox: 0.0026, loss_cls: 0.0418, acc: 99.7344, loss_bbox: 0.2642, loss: 0.3128\n",
      "2022-05-26 17:49:43,168 - mmfewshot - INFO - Iter [78350/100000]\tlr: 1.000e-04, eta: 1:49:20, time: 0.271, data_time: 0.013, memory: 4571, loss_rpn_cls: 0.0085, loss_rpn_bbox: 0.0065, loss_cls: 0.0390, acc: 99.6328, loss_bbox: 0.2852, loss: 0.3391\n",
      "2022-05-26 17:49:56,683 - mmfewshot - INFO - Iter [78400/100000]\tlr: 1.000e-04, eta: 1:49:05, time: 0.270, data_time: 0.013, memory: 4571, loss_rpn_cls: 0.0073, loss_rpn_bbox: 0.0056, loss_cls: 0.0530, acc: 99.5312, loss_bbox: 0.2886, loss: 0.3545\n",
      "2022-05-26 17:50:10,243 - mmfewshot - INFO - Iter [78450/100000]\tlr: 1.000e-04, eta: 1:48:49, time: 0.271, data_time: 0.013, memory: 4571, loss_rpn_cls: 0.0134, loss_rpn_bbox: 0.0072, loss_cls: 0.0370, acc: 99.6797, loss_bbox: 0.2952, loss: 0.3528\n",
      "2022-05-26 17:50:23,689 - mmfewshot - INFO - Iter [78500/100000]\tlr: 1.000e-04, eta: 1:48:33, time: 0.269, data_time: 0.012, memory: 4571, loss_rpn_cls: 0.0098, loss_rpn_bbox: 0.0058, loss_cls: 0.0432, acc: 99.5781, loss_bbox: 0.3015, loss: 0.3602\n",
      "2022-05-26 17:50:37,260 - mmfewshot - INFO - Iter [78550/100000]\tlr: 1.000e-04, eta: 1:48:18, time: 0.271, data_time: 0.013, memory: 4571, loss_rpn_cls: 0.0085, loss_rpn_bbox: 0.0054, loss_cls: 0.0354, acc: 99.6484, loss_bbox: 0.2727, loss: 0.3220\n",
      "2022-05-26 17:50:50,472 - mmfewshot - INFO - Iter [78600/100000]\tlr: 1.000e-04, eta: 1:48:02, time: 0.264, data_time: 0.011, memory: 4571, loss_rpn_cls: 0.0069, loss_rpn_bbox: 0.0038, loss_cls: 0.0285, acc: 99.7109, loss_bbox: 0.2924, loss: 0.3316\n",
      "2022-05-26 17:51:04,009 - mmfewshot - INFO - Iter [78650/100000]\tlr: 1.000e-04, eta: 1:47:47, time: 0.271, data_time: 0.012, memory: 4571, loss_rpn_cls: 0.0094, loss_rpn_bbox: 0.0081, loss_cls: 0.0355, acc: 99.7578, loss_bbox: 0.2891, loss: 0.3420\n",
      "2022-05-26 17:51:17,566 - mmfewshot - INFO - Iter [78700/100000]\tlr: 1.000e-04, eta: 1:47:31, time: 0.271, data_time: 0.013, memory: 4571, loss_rpn_cls: 0.0087, loss_rpn_bbox: 0.0056, loss_cls: 0.0434, acc: 99.6719, loss_bbox: 0.3040, loss: 0.3617\n",
      "2022-05-26 17:51:31,070 - mmfewshot - INFO - Iter [78750/100000]\tlr: 1.000e-04, eta: 1:47:15, time: 0.270, data_time: 0.012, memory: 4571, loss_rpn_cls: 0.0058, loss_rpn_bbox: 0.0044, loss_cls: 0.0327, acc: 99.6406, loss_bbox: 0.3001, loss: 0.3429\n",
      "2022-05-26 17:51:44,535 - mmfewshot - INFO - Iter [78800/100000]\tlr: 1.000e-04, eta: 1:47:00, time: 0.269, data_time: 0.013, memory: 4571, loss_rpn_cls: 0.0061, loss_rpn_bbox: 0.0044, loss_cls: 0.0303, acc: 99.6953, loss_bbox: 0.2704, loss: 0.3112\n",
      "2022-05-26 17:51:57,961 - mmfewshot - INFO - Iter [78850/100000]\tlr: 1.000e-04, eta: 1:46:44, time: 0.269, data_time: 0.013, memory: 4571, loss_rpn_cls: 0.0046, loss_rpn_bbox: 0.0050, loss_cls: 0.0300, acc: 99.8203, loss_bbox: 0.2577, loss: 0.2974\n",
      "2022-05-26 17:52:11,431 - mmfewshot - INFO - Iter [78900/100000]\tlr: 1.000e-04, eta: 1:46:29, time: 0.269, data_time: 0.012, memory: 4571, loss_rpn_cls: 0.0088, loss_rpn_bbox: 0.0069, loss_cls: 0.0394, acc: 99.5625, loss_bbox: 0.2829, loss: 0.3381\n",
      "2022-05-26 17:52:24,908 - mmfewshot - INFO - Iter [78950/100000]\tlr: 1.000e-04, eta: 1:46:13, time: 0.270, data_time: 0.013, memory: 4571, loss_rpn_cls: 0.0057, loss_rpn_bbox: 0.0040, loss_cls: 0.0337, acc: 99.6250, loss_bbox: 0.3069, loss: 0.3503\n",
      "2022-05-26 17:52:38,308 - mmfewshot - INFO - Exp name: attention-rpn_r50_c4_tb-split2_1shot-fine-tuning-momentum-09.py\n",
      "2022-05-26 17:52:38,309 - mmfewshot - INFO - Iter [79000/100000]\tlr: 1.000e-04, eta: 1:45:57, time: 0.268, data_time: 0.011, memory: 4571, loss_rpn_cls: 0.0105, loss_rpn_bbox: 0.0061, loss_cls: 0.0461, acc: 99.6250, loss_bbox: 0.2621, loss: 0.3247\n",
      "2022-05-26 17:52:38,314 - mmdet - INFO - starting model initialization...\n"
     ]
    },
    {
     "name": "stdout",
     "output_type": "stream",
     "text": [
      "[>>>>>>>>>>>>>>>>>>>>>>>>>>>>>] 850/850, 76.0 task/s, elapsed: 11s, ETA:     0s"
     ]
    },
    {
     "name": "stderr",
     "output_type": "stream",
     "text": [
      "2022-05-26 17:52:49,602 - mmdet - INFO - model initialization done.\n"
     ]
    },
    {
     "name": "stdout",
     "output_type": "stream",
     "text": [
      "[>>>>>>>>>>>>>>>>>>>>>>>>>>>>>] 300/300, 12.7 task/s, elapsed: 24s, ETA:     0s\n",
      "---------------iou_thr: 0.5---------------\n"
     ]
    },
    {
     "name": "stderr",
     "output_type": "stream",
     "text": [
      "2022-05-26 17:53:13,663 - mmfewshot - INFO - \n",
      "+---------+-----+------+--------+-------+\n",
      "| class   | gts | dets | recall | ap    |\n",
      "+---------+-----+------+--------+-------+\n",
      "| fanta   | 291 | 1835 | 0.900  | 0.710 |\n",
      "| Mirinda | 111 | 669  | 0.766  | 0.604 |\n",
      "+---------+-----+------+--------+-------+\n",
      "| mAP     |     |      |        | 0.657 |\n",
      "+---------+-----+------+--------+-------+\n",
      "2022-05-26 17:53:13,666 - mmfewshot - INFO - BASE_CLASSES_SPLIT2 mAP: 0.6567285656929016\n",
      "2022-05-26 17:53:13,667 - mmfewshot - INFO - NOVEL_CLASSES_SPLIT2 mAP: nan\n",
      "2022-05-26 17:53:13,671 - mmfewshot - INFO - Exp name: attention-rpn_r50_c4_tb-split2_1shot-fine-tuning-momentum-09.py\n",
      "2022-05-26 17:53:13,672 - mmfewshot - INFO - Iter(val) [300]\tAP50: 0.6570, BASE_CLASSES_SPLIT2: AP50: 0.6570, NOVEL_CLASSES_SPLIT2: AP50: nan, mAP: 0.6567\n",
      "2022-05-26 17:53:27,182 - mmfewshot - INFO - Iter [79050/100000]\tlr: 1.000e-04, eta: 1:45:51, time: 0.977, data_time: 0.720, memory: 4571, loss_rpn_cls: 0.0058, loss_rpn_bbox: 0.0052, loss_cls: 0.0477, acc: 99.5625, loss_bbox: 0.3354, loss: 0.3941\n",
      "2022-05-26 17:53:40,698 - mmfewshot - INFO - Iter [79100/100000]\tlr: 1.000e-04, eta: 1:45:36, time: 0.270, data_time: 0.013, memory: 4571, loss_rpn_cls: 0.0043, loss_rpn_bbox: 0.0037, loss_cls: 0.0416, acc: 99.6406, loss_bbox: 0.3358, loss: 0.3854\n",
      "2022-05-26 17:53:54,202 - mmfewshot - INFO - Iter [79150/100000]\tlr: 1.000e-04, eta: 1:45:20, time: 0.270, data_time: 0.013, memory: 4571, loss_rpn_cls: 0.0105, loss_rpn_bbox: 0.0064, loss_cls: 0.0362, acc: 99.6328, loss_bbox: 0.3101, loss: 0.3631\n",
      "2022-05-26 17:54:07,709 - mmfewshot - INFO - Iter [79200/100000]\tlr: 1.000e-04, eta: 1:45:04, time: 0.270, data_time: 0.013, memory: 4571, loss_rpn_cls: 0.0044, loss_rpn_bbox: 0.0048, loss_cls: 0.0373, acc: 99.6875, loss_bbox: 0.2953, loss: 0.3417\n",
      "2022-05-26 17:54:21,212 - mmfewshot - INFO - Iter [79250/100000]\tlr: 1.000e-04, eta: 1:44:49, time: 0.270, data_time: 0.013, memory: 4571, loss_rpn_cls: 0.0069, loss_rpn_bbox: 0.0059, loss_cls: 0.0483, acc: 99.6172, loss_bbox: 0.2985, loss: 0.3596\n",
      "2022-05-26 17:54:34,629 - mmfewshot - INFO - Iter [79300/100000]\tlr: 1.000e-04, eta: 1:44:33, time: 0.268, data_time: 0.012, memory: 4571, loss_rpn_cls: 0.0074, loss_rpn_bbox: 0.0049, loss_cls: 0.0534, acc: 99.6484, loss_bbox: 0.2731, loss: 0.3388\n",
      "2022-05-26 17:54:48,086 - mmfewshot - INFO - Iter [79350/100000]\tlr: 1.000e-04, eta: 1:44:18, time: 0.269, data_time: 0.012, memory: 4571, loss_rpn_cls: 0.0074, loss_rpn_bbox: 0.0058, loss_cls: 0.0338, acc: 99.6328, loss_bbox: 0.3377, loss: 0.3848\n",
      "2022-05-26 17:55:01,528 - mmfewshot - INFO - Iter [79400/100000]\tlr: 1.000e-04, eta: 1:44:02, time: 0.269, data_time: 0.012, memory: 4571, loss_rpn_cls: 0.0044, loss_rpn_bbox: 0.0032, loss_cls: 0.0421, acc: 99.6172, loss_bbox: 0.3041, loss: 0.3538\n",
      "2022-05-26 17:55:15,128 - mmfewshot - INFO - Iter [79450/100000]\tlr: 1.000e-04, eta: 1:43:47, time: 0.272, data_time: 0.013, memory: 4571, loss_rpn_cls: 0.0077, loss_rpn_bbox: 0.0045, loss_cls: 0.0435, acc: 99.5859, loss_bbox: 0.2911, loss: 0.3469\n",
      "2022-05-26 17:55:28,570 - mmfewshot - INFO - Iter [79500/100000]\tlr: 1.000e-04, eta: 1:43:31, time: 0.268, data_time: 0.011, memory: 4571, loss_rpn_cls: 0.0070, loss_rpn_bbox: 0.0045, loss_cls: 0.0352, acc: 99.6641, loss_bbox: 0.2995, loss: 0.3462\n",
      "2022-05-26 17:55:42,007 - mmfewshot - INFO - Iter [79550/100000]\tlr: 1.000e-04, eta: 1:43:15, time: 0.269, data_time: 0.013, memory: 4571, loss_rpn_cls: 0.0061, loss_rpn_bbox: 0.0047, loss_cls: 0.0446, acc: 99.5078, loss_bbox: 0.2910, loss: 0.3464\n",
      "2022-05-26 17:55:55,456 - mmfewshot - INFO - Iter [79600/100000]\tlr: 1.000e-04, eta: 1:43:00, time: 0.269, data_time: 0.013, memory: 4571, loss_rpn_cls: 0.0149, loss_rpn_bbox: 0.0091, loss_cls: 0.0565, acc: 99.5625, loss_bbox: 0.3067, loss: 0.3873\n",
      "2022-05-26 17:56:08,804 - mmfewshot - INFO - Iter [79650/100000]\tlr: 1.000e-04, eta: 1:42:44, time: 0.267, data_time: 0.011, memory: 4571, loss_rpn_cls: 0.0072, loss_rpn_bbox: 0.0066, loss_cls: 0.0370, acc: 99.6641, loss_bbox: 0.3201, loss: 0.3709\n",
      "2022-05-26 17:56:22,309 - mmfewshot - INFO - Iter [79700/100000]\tlr: 1.000e-04, eta: 1:42:29, time: 0.270, data_time: 0.012, memory: 4571, loss_rpn_cls: 0.0111, loss_rpn_bbox: 0.0065, loss_cls: 0.0348, acc: 99.6797, loss_bbox: 0.2814, loss: 0.3337\n",
      "2022-05-26 17:56:35,659 - mmfewshot - INFO - Iter [79750/100000]\tlr: 1.000e-04, eta: 1:42:13, time: 0.267, data_time: 0.011, memory: 4571, loss_rpn_cls: 0.0079, loss_rpn_bbox: 0.0049, loss_cls: 0.0241, acc: 99.7891, loss_bbox: 0.2722, loss: 0.3091\n",
      "2022-05-26 17:56:49,093 - mmfewshot - INFO - Iter [79800/100000]\tlr: 1.000e-04, eta: 1:41:57, time: 0.269, data_time: 0.012, memory: 4571, loss_rpn_cls: 0.0077, loss_rpn_bbox: 0.0044, loss_cls: 0.0429, acc: 99.6250, loss_bbox: 0.2626, loss: 0.3176\n",
      "2022-05-26 17:57:02,653 - mmfewshot - INFO - Iter [79850/100000]\tlr: 1.000e-04, eta: 1:41:42, time: 0.271, data_time: 0.013, memory: 4571, loss_rpn_cls: 0.0076, loss_rpn_bbox: 0.0070, loss_cls: 0.0366, acc: 99.7109, loss_bbox: 0.2597, loss: 0.3109\n",
      "2022-05-26 17:57:16,102 - mmfewshot - INFO - Iter [79900/100000]\tlr: 1.000e-04, eta: 1:41:26, time: 0.269, data_time: 0.013, memory: 4571, loss_rpn_cls: 0.0048, loss_rpn_bbox: 0.0028, loss_cls: 0.0384, acc: 99.7031, loss_bbox: 0.2799, loss: 0.3260\n",
      "2022-05-26 17:57:29,602 - mmfewshot - INFO - Iter [79950/100000]\tlr: 1.000e-04, eta: 1:41:11, time: 0.270, data_time: 0.013, memory: 4571, loss_rpn_cls: 0.0084, loss_rpn_bbox: 0.0056, loss_cls: 0.0325, acc: 99.6250, loss_bbox: 0.2950, loss: 0.3415\n",
      "2022-05-26 17:57:43,095 - mmfewshot - INFO - Saving checkpoint at 80000 iterations\n",
      "2022-05-26 17:57:44,740 - mmfewshot - INFO - Exp name: attention-rpn_r50_c4_tb-split2_1shot-fine-tuning-momentum-09.py\n",
      "2022-05-26 17:57:44,741 - mmfewshot - INFO - Iter [80000/100000]\tlr: 1.000e-04, eta: 1:40:56, time: 0.305, data_time: 0.013, memory: 4571, loss_rpn_cls: 0.0078, loss_rpn_bbox: 0.0057, loss_cls: 0.0310, acc: 99.6250, loss_bbox: 0.2975, loss: 0.3421\n",
      "2022-05-26 17:57:44,746 - mmdet - INFO - starting model initialization...\n"
     ]
    },
    {
     "name": "stdout",
     "output_type": "stream",
     "text": [
      "[>>>>>>>>>>>>>>>>>>>>>>>>>>>>>] 850/850, 74.7 task/s, elapsed: 11s, ETA:     0s"
     ]
    },
    {
     "name": "stderr",
     "output_type": "stream",
     "text": [
      "2022-05-26 17:57:56,201 - mmdet - INFO - model initialization done.\n"
     ]
    },
    {
     "name": "stdout",
     "output_type": "stream",
     "text": [
      "[>>>>>>>>>>>>>>>>>>>>>>>>>>>>>] 300/300, 12.7 task/s, elapsed: 24s, ETA:     0s\n",
      "---------------iou_thr: 0.5---------------\n"
     ]
    },
    {
     "name": "stderr",
     "output_type": "stream",
     "text": [
      "2022-05-26 17:58:20,202 - mmfewshot - INFO - \n",
      "+---------+-----+------+--------+-------+\n",
      "| class   | gts | dets | recall | ap    |\n",
      "+---------+-----+------+--------+-------+\n",
      "| fanta   | 291 | 1389 | 0.900  | 0.727 |\n",
      "| Mirinda | 111 | 536  | 0.775  | 0.608 |\n",
      "+---------+-----+------+--------+-------+\n",
      "| mAP     |     |      |        | 0.667 |\n",
      "+---------+-----+------+--------+-------+\n",
      "2022-05-26 17:58:20,204 - mmfewshot - INFO - BASE_CLASSES_SPLIT2 mAP: 0.6674998998641968\n",
      "2022-05-26 17:58:20,205 - mmfewshot - INFO - NOVEL_CLASSES_SPLIT2 mAP: nan\n",
      "2022-05-26 17:58:20,209 - mmfewshot - INFO - Exp name: attention-rpn_r50_c4_tb-split2_1shot-fine-tuning-momentum-09.py\n",
      "2022-05-26 17:58:20,209 - mmfewshot - INFO - Iter(val) [300]\tAP50: 0.6670, BASE_CLASSES_SPLIT2: AP50: 0.6670, NOVEL_CLASSES_SPLIT2: AP50: nan, mAP: 0.6675\n",
      "2022-05-26 17:58:33,616 - mmfewshot - INFO - Iter [80050/100000]\tlr: 1.000e-04, eta: 1:40:49, time: 0.975, data_time: 0.719, memory: 4571, loss_rpn_cls: 0.0049, loss_rpn_bbox: 0.0044, loss_cls: 0.0383, acc: 99.6719, loss_bbox: 0.3152, loss: 0.3628\n",
      "2022-05-26 17:58:47,037 - mmfewshot - INFO - Iter [80100/100000]\tlr: 1.000e-04, eta: 1:40:33, time: 0.268, data_time: 0.013, memory: 4571, loss_rpn_cls: 0.0059, loss_rpn_bbox: 0.0059, loss_cls: 0.0367, acc: 99.6562, loss_bbox: 0.2833, loss: 0.3318\n",
      "2022-05-26 17:59:00,531 - mmfewshot - INFO - Iter [80150/100000]\tlr: 1.000e-04, eta: 1:40:18, time: 0.270, data_time: 0.013, memory: 4571, loss_rpn_cls: 0.0122, loss_rpn_bbox: 0.0064, loss_cls: 0.0312, acc: 99.6797, loss_bbox: 0.2984, loss: 0.3482\n",
      "2022-05-26 17:59:14,083 - mmfewshot - INFO - Iter [80200/100000]\tlr: 1.000e-04, eta: 1:40:02, time: 0.271, data_time: 0.013, memory: 4571, loss_rpn_cls: 0.0070, loss_rpn_bbox: 0.0037, loss_cls: 0.0479, acc: 99.6172, loss_bbox: 0.2559, loss: 0.3145\n",
      "2022-05-26 17:59:27,575 - mmfewshot - INFO - Iter [80250/100000]\tlr: 1.000e-04, eta: 1:39:47, time: 0.270, data_time: 0.012, memory: 4571, loss_rpn_cls: 0.0086, loss_rpn_bbox: 0.0075, loss_cls: 0.0296, acc: 99.6484, loss_bbox: 0.2784, loss: 0.3242\n",
      "2022-05-26 17:59:41,018 - mmfewshot - INFO - Iter [80300/100000]\tlr: 1.000e-04, eta: 1:39:31, time: 0.269, data_time: 0.013, memory: 4571, loss_rpn_cls: 0.0063, loss_rpn_bbox: 0.0050, loss_cls: 0.0410, acc: 99.6328, loss_bbox: 0.2902, loss: 0.3424\n",
      "2022-05-26 17:59:54,490 - mmfewshot - INFO - Iter [80350/100000]\tlr: 1.000e-04, eta: 1:39:15, time: 0.269, data_time: 0.012, memory: 4571, loss_rpn_cls: 0.0046, loss_rpn_bbox: 0.0026, loss_cls: 0.0417, acc: 99.6094, loss_bbox: 0.2601, loss: 0.3089\n",
      "2022-05-26 18:00:07,857 - mmfewshot - INFO - Iter [80400/100000]\tlr: 1.000e-04, eta: 1:39:00, time: 0.267, data_time: 0.012, memory: 4571, loss_rpn_cls: 0.0088, loss_rpn_bbox: 0.0051, loss_cls: 0.0324, acc: 99.6953, loss_bbox: 0.3057, loss: 0.3520\n",
      "2022-05-26 18:00:21,378 - mmfewshot - INFO - Iter [80450/100000]\tlr: 1.000e-04, eta: 1:38:44, time: 0.270, data_time: 0.012, memory: 4571, loss_rpn_cls: 0.0086, loss_rpn_bbox: 0.0066, loss_cls: 0.0407, acc: 99.5703, loss_bbox: 0.3493, loss: 0.4052\n",
      "2022-05-26 18:00:34,966 - mmfewshot - INFO - Iter [80500/100000]\tlr: 1.000e-04, eta: 1:38:29, time: 0.272, data_time: 0.012, memory: 4571, loss_rpn_cls: 0.0069, loss_rpn_bbox: 0.0071, loss_cls: 0.0305, acc: 99.7109, loss_bbox: 0.3312, loss: 0.3756\n",
      "2022-05-26 18:00:48,398 - mmfewshot - INFO - Iter [80550/100000]\tlr: 1.000e-04, eta: 1:38:13, time: 0.268, data_time: 0.012, memory: 4571, loss_rpn_cls: 0.0107, loss_rpn_bbox: 0.0059, loss_cls: 0.0446, acc: 99.6484, loss_bbox: 0.2790, loss: 0.3402\n",
      "2022-05-26 18:01:01,848 - mmfewshot - INFO - Iter [80600/100000]\tlr: 1.000e-04, eta: 1:37:58, time: 0.269, data_time: 0.013, memory: 4571, loss_rpn_cls: 0.0054, loss_rpn_bbox: 0.0039, loss_cls: 0.0305, acc: 99.7109, loss_bbox: 0.3064, loss: 0.3461\n",
      "2022-05-26 18:01:15,267 - mmfewshot - INFO - Iter [80650/100000]\tlr: 1.000e-04, eta: 1:37:42, time: 0.268, data_time: 0.013, memory: 4571, loss_rpn_cls: 0.0046, loss_rpn_bbox: 0.0029, loss_cls: 0.0342, acc: 99.6641, loss_bbox: 0.2548, loss: 0.2964\n",
      "2022-05-26 18:01:28,736 - mmfewshot - INFO - Iter [80700/100000]\tlr: 1.000e-04, eta: 1:37:26, time: 0.269, data_time: 0.012, memory: 4571, loss_rpn_cls: 0.0043, loss_rpn_bbox: 0.0029, loss_cls: 0.0360, acc: 99.6562, loss_bbox: 0.3205, loss: 0.3636\n",
      "2022-05-26 18:01:42,183 - mmfewshot - INFO - Iter [80750/100000]\tlr: 1.000e-04, eta: 1:37:11, time: 0.269, data_time: 0.012, memory: 4571, loss_rpn_cls: 0.0114, loss_rpn_bbox: 0.0039, loss_cls: 0.0297, acc: 99.6875, loss_bbox: 0.2579, loss: 0.3029\n",
      "2022-05-26 18:01:55,708 - mmfewshot - INFO - Iter [80800/100000]\tlr: 1.000e-04, eta: 1:36:55, time: 0.270, data_time: 0.013, memory: 4571, loss_rpn_cls: 0.0106, loss_rpn_bbox: 0.0075, loss_cls: 0.0361, acc: 99.7109, loss_bbox: 0.2625, loss: 0.3168\n",
      "2022-05-26 18:02:09,134 - mmfewshot - INFO - Iter [80850/100000]\tlr: 1.000e-04, eta: 1:36:40, time: 0.268, data_time: 0.012, memory: 4571, loss_rpn_cls: 0.0110, loss_rpn_bbox: 0.0073, loss_cls: 0.0395, acc: 99.6484, loss_bbox: 0.2927, loss: 0.3505\n",
      "2022-05-26 18:02:22,688 - mmfewshot - INFO - Iter [80900/100000]\tlr: 1.000e-04, eta: 1:36:24, time: 0.271, data_time: 0.013, memory: 4571, loss_rpn_cls: 0.0072, loss_rpn_bbox: 0.0053, loss_cls: 0.0484, acc: 99.5781, loss_bbox: 0.2903, loss: 0.3513\n",
      "2022-05-26 18:02:36,188 - mmfewshot - INFO - Iter [80950/100000]\tlr: 1.000e-04, eta: 1:36:09, time: 0.270, data_time: 0.013, memory: 4571, loss_rpn_cls: 0.0078, loss_rpn_bbox: 0.0056, loss_cls: 0.0474, acc: 99.6484, loss_bbox: 0.2600, loss: 0.3208\n",
      "2022-05-26 18:02:49,577 - mmfewshot - INFO - Exp name: attention-rpn_r50_c4_tb-split2_1shot-fine-tuning-momentum-09.py\n",
      "2022-05-26 18:02:49,578 - mmfewshot - INFO - Iter [81000/100000]\tlr: 1.000e-04, eta: 1:35:53, time: 0.267, data_time: 0.011, memory: 4571, loss_rpn_cls: 0.0100, loss_rpn_bbox: 0.0044, loss_cls: 0.0295, acc: 99.7656, loss_bbox: 0.2694, loss: 0.3133\n",
      "2022-05-26 18:02:49,583 - mmdet - INFO - starting model initialization...\n"
     ]
    },
    {
     "name": "stdout",
     "output_type": "stream",
     "text": [
      "[>>>>>>>>>>>>>>>>>>>>>>>>>>>>>] 850/850, 80.0 task/s, elapsed: 11s, ETA:     0s"
     ]
    },
    {
     "name": "stderr",
     "output_type": "stream",
     "text": [
      "2022-05-26 18:03:00,311 - mmdet - INFO - model initialization done.\n"
     ]
    },
    {
     "name": "stdout",
     "output_type": "stream",
     "text": [
      "[>>>>>>>>>>>>>>>>>>>>>>>>>>>>>] 300/300, 12.7 task/s, elapsed: 24s, ETA:     0s\n",
      "---------------iou_thr: 0.5---------------\n"
     ]
    },
    {
     "name": "stderr",
     "output_type": "stream",
     "text": [
      "2022-05-26 18:03:24,283 - mmfewshot - INFO - \n",
      "+---------+-----+------+--------+-------+\n",
      "| class   | gts | dets | recall | ap    |\n",
      "+---------+-----+------+--------+-------+\n",
      "| fanta   | 291 | 1352 | 0.873  | 0.739 |\n",
      "| Mirinda | 111 | 586  | 0.766  | 0.640 |\n",
      "+---------+-----+------+--------+-------+\n",
      "| mAP     |     |      |        | 0.690 |\n",
      "+---------+-----+------+--------+-------+\n",
      "2022-05-26 18:03:24,285 - mmfewshot - INFO - BASE_CLASSES_SPLIT2 mAP: 0.6895897388458252\n",
      "2022-05-26 18:03:24,286 - mmfewshot - INFO - NOVEL_CLASSES_SPLIT2 mAP: nan\n",
      "2022-05-26 18:03:24,289 - mmfewshot - INFO - Exp name: attention-rpn_r50_c4_tb-split2_1shot-fine-tuning-momentum-09.py\n",
      "2022-05-26 18:03:24,290 - mmfewshot - INFO - Iter(val) [300]\tAP50: 0.6900, BASE_CLASSES_SPLIT2: AP50: 0.6900, NOVEL_CLASSES_SPLIT2: AP50: nan, mAP: 0.6896\n",
      "2022-05-26 18:03:37,585 - mmfewshot - INFO - Iter [81050/100000]\tlr: 1.000e-04, eta: 1:35:46, time: 0.960, data_time: 0.705, memory: 4571, loss_rpn_cls: 0.0064, loss_rpn_bbox: 0.0046, loss_cls: 0.0313, acc: 99.6953, loss_bbox: 0.3024, loss: 0.3447\n",
      "2022-05-26 18:03:51,009 - mmfewshot - INFO - Iter [81100/100000]\tlr: 1.000e-04, eta: 1:35:30, time: 0.268, data_time: 0.012, memory: 4571, loss_rpn_cls: 0.0087, loss_rpn_bbox: 0.0040, loss_cls: 0.0392, acc: 99.6719, loss_bbox: 0.3019, loss: 0.3538\n",
      "2022-05-26 18:04:04,591 - mmfewshot - INFO - Iter [81150/100000]\tlr: 1.000e-04, eta: 1:35:15, time: 0.272, data_time: 0.013, memory: 4571, loss_rpn_cls: 0.0077, loss_rpn_bbox: 0.0054, loss_cls: 0.0419, acc: 99.6641, loss_bbox: 0.3219, loss: 0.3770\n",
      "2022-05-26 18:04:18,120 - mmfewshot - INFO - Iter [81200/100000]\tlr: 1.000e-04, eta: 1:34:59, time: 0.271, data_time: 0.013, memory: 4571, loss_rpn_cls: 0.0082, loss_rpn_bbox: 0.0049, loss_cls: 0.0322, acc: 99.7734, loss_bbox: 0.2404, loss: 0.2856\n",
      "2022-05-26 18:04:31,439 - mmfewshot - INFO - Iter [81250/100000]\tlr: 1.000e-04, eta: 1:34:44, time: 0.266, data_time: 0.012, memory: 4571, loss_rpn_cls: 0.0088, loss_rpn_bbox: 0.0033, loss_cls: 0.0359, acc: 99.6094, loss_bbox: 0.2622, loss: 0.3102\n",
      "2022-05-26 18:04:44,941 - mmfewshot - INFO - Iter [81300/100000]\tlr: 1.000e-04, eta: 1:34:28, time: 0.270, data_time: 0.013, memory: 4571, loss_rpn_cls: 0.0107, loss_rpn_bbox: 0.0086, loss_cls: 0.0399, acc: 99.6172, loss_bbox: 0.3155, loss: 0.3747\n",
      "2022-05-26 18:04:58,351 - mmfewshot - INFO - Iter [81350/100000]\tlr: 1.000e-04, eta: 1:34:12, time: 0.268, data_time: 0.012, memory: 4571, loss_rpn_cls: 0.0069, loss_rpn_bbox: 0.0072, loss_cls: 0.0409, acc: 99.6094, loss_bbox: 0.3067, loss: 0.3616\n",
      "2022-05-26 18:05:11,779 - mmfewshot - INFO - Iter [81400/100000]\tlr: 1.000e-04, eta: 1:33:57, time: 0.269, data_time: 0.013, memory: 4571, loss_rpn_cls: 0.0063, loss_rpn_bbox: 0.0042, loss_cls: 0.0393, acc: 99.6875, loss_bbox: 0.2798, loss: 0.3296\n",
      "2022-05-26 18:05:25,176 - mmfewshot - INFO - Iter [81450/100000]\tlr: 1.000e-04, eta: 1:33:41, time: 0.268, data_time: 0.011, memory: 4571, loss_rpn_cls: 0.0049, loss_rpn_bbox: 0.0067, loss_cls: 0.0341, acc: 99.7109, loss_bbox: 0.3049, loss: 0.3505\n",
      "2022-05-26 18:05:38,587 - mmfewshot - INFO - Iter [81500/100000]\tlr: 1.000e-04, eta: 1:33:26, time: 0.268, data_time: 0.012, memory: 4571, loss_rpn_cls: 0.0073, loss_rpn_bbox: 0.0052, loss_cls: 0.0329, acc: 99.6250, loss_bbox: 0.3304, loss: 0.3759\n",
      "2022-05-26 18:05:52,135 - mmfewshot - INFO - Iter [81550/100000]\tlr: 1.000e-04, eta: 1:33:10, time: 0.271, data_time: 0.012, memory: 4571, loss_rpn_cls: 0.0061, loss_rpn_bbox: 0.0036, loss_cls: 0.0355, acc: 99.6172, loss_bbox: 0.2887, loss: 0.3339\n",
      "2022-05-26 18:06:05,446 - mmfewshot - INFO - Iter [81600/100000]\tlr: 1.000e-04, eta: 1:32:55, time: 0.267, data_time: 0.011, memory: 4571, loss_rpn_cls: 0.0066, loss_rpn_bbox: 0.0048, loss_cls: 0.0309, acc: 99.7031, loss_bbox: 0.3029, loss: 0.3452\n",
      "2022-05-26 18:06:18,962 - mmfewshot - INFO - Iter [81650/100000]\tlr: 1.000e-04, eta: 1:32:39, time: 0.270, data_time: 0.013, memory: 4571, loss_rpn_cls: 0.0082, loss_rpn_bbox: 0.0071, loss_cls: 0.0288, acc: 99.6953, loss_bbox: 0.2713, loss: 0.3154\n",
      "2022-05-26 18:06:32,524 - mmfewshot - INFO - Iter [81700/100000]\tlr: 1.000e-04, eta: 1:32:24, time: 0.271, data_time: 0.013, memory: 4571, loss_rpn_cls: 0.0058, loss_rpn_bbox: 0.0037, loss_cls: 0.0372, acc: 99.7500, loss_bbox: 0.2815, loss: 0.3282\n",
      "2022-05-26 18:06:45,938 - mmfewshot - INFO - Iter [81750/100000]\tlr: 1.000e-04, eta: 1:32:08, time: 0.268, data_time: 0.012, memory: 4571, loss_rpn_cls: 0.0105, loss_rpn_bbox: 0.0072, loss_cls: 0.0300, acc: 99.6406, loss_bbox: 0.3285, loss: 0.3762\n",
      "2022-05-26 18:06:59,294 - mmfewshot - INFO - Iter [81800/100000]\tlr: 1.000e-04, eta: 1:31:53, time: 0.267, data_time: 0.011, memory: 4571, loss_rpn_cls: 0.0083, loss_rpn_bbox: 0.0051, loss_cls: 0.0332, acc: 99.7188, loss_bbox: 0.2682, loss: 0.3148\n",
      "2022-05-26 18:07:12,717 - mmfewshot - INFO - Iter [81850/100000]\tlr: 1.000e-04, eta: 1:31:37, time: 0.269, data_time: 0.013, memory: 4571, loss_rpn_cls: 0.0056, loss_rpn_bbox: 0.0035, loss_cls: 0.0296, acc: 99.8047, loss_bbox: 0.2811, loss: 0.3198\n",
      "2022-05-26 18:07:26,298 - mmfewshot - INFO - Iter [81900/100000]\tlr: 1.000e-04, eta: 1:31:22, time: 0.272, data_time: 0.013, memory: 4571, loss_rpn_cls: 0.0085, loss_rpn_bbox: 0.0065, loss_cls: 0.0469, acc: 99.5625, loss_bbox: 0.3105, loss: 0.3724\n",
      "2022-05-26 18:07:39,632 - mmfewshot - INFO - Iter [81950/100000]\tlr: 1.000e-04, eta: 1:31:06, time: 0.266, data_time: 0.012, memory: 4571, loss_rpn_cls: 0.0075, loss_rpn_bbox: 0.0075, loss_cls: 0.0446, acc: 99.5469, loss_bbox: 0.2861, loss: 0.3456\n",
      "2022-05-26 18:07:53,208 - mmfewshot - INFO - Exp name: attention-rpn_r50_c4_tb-split2_1shot-fine-tuning-momentum-09.py\n",
      "2022-05-26 18:07:53,210 - mmfewshot - INFO - Iter [82000/100000]\tlr: 1.000e-04, eta: 1:30:51, time: 0.272, data_time: 0.013, memory: 4571, loss_rpn_cls: 0.0075, loss_rpn_bbox: 0.0058, loss_cls: 0.0296, acc: 99.7031, loss_bbox: 0.3289, loss: 0.3719\n",
      "2022-05-26 18:07:53,215 - mmdet - INFO - starting model initialization...\n"
     ]
    },
    {
     "name": "stdout",
     "output_type": "stream",
     "text": [
      "[>>>>>>>>>>>>>>>>>>>>>>>>>>>>>] 850/850, 81.8 task/s, elapsed: 10s, ETA:     0s"
     ]
    },
    {
     "name": "stderr",
     "output_type": "stream",
     "text": [
      "2022-05-26 18:08:03,680 - mmdet - INFO - model initialization done.\n"
     ]
    },
    {
     "name": "stdout",
     "output_type": "stream",
     "text": [
      "[>>>>>>>>>>>>>>>>>>>>>>>>>>>>>] 300/300, 12.7 task/s, elapsed: 24s, ETA:     0s\n",
      "---------------iou_thr: 0.5---------------\n"
     ]
    },
    {
     "name": "stderr",
     "output_type": "stream",
     "text": [
      "2022-05-26 18:08:27,599 - mmfewshot - INFO - \n",
      "+---------+-----+------+--------+-------+\n",
      "| class   | gts | dets | recall | ap    |\n",
      "+---------+-----+------+--------+-------+\n",
      "| fanta   | 291 | 1690 | 0.897  | 0.731 |\n",
      "| Mirinda | 111 | 561  | 0.766  | 0.610 |\n",
      "+---------+-----+------+--------+-------+\n",
      "| mAP     |     |      |        | 0.671 |\n",
      "+---------+-----+------+--------+-------+\n",
      "2022-05-26 18:08:27,602 - mmfewshot - INFO - BASE_CLASSES_SPLIT2 mAP: 0.670681357383728\n",
      "2022-05-26 18:08:27,604 - mmfewshot - INFO - NOVEL_CLASSES_SPLIT2 mAP: nan\n",
      "2022-05-26 18:08:27,608 - mmfewshot - INFO - Exp name: attention-rpn_r50_c4_tb-split2_1shot-fine-tuning-momentum-09.py\n",
      "2022-05-26 18:08:27,609 - mmfewshot - INFO - Iter(val) [300]\tAP50: 0.6710, BASE_CLASSES_SPLIT2: AP50: 0.6710, NOVEL_CLASSES_SPLIT2: AP50: nan, mAP: 0.6707\n",
      "2022-05-26 18:08:41,160 - mmfewshot - INFO - Iter [82050/100000]\tlr: 1.000e-04, eta: 1:30:43, time: 0.959, data_time: 0.701, memory: 4571, loss_rpn_cls: 0.0059, loss_rpn_bbox: 0.0044, loss_cls: 0.0320, acc: 99.6797, loss_bbox: 0.2815, loss: 0.3238\n",
      "2022-05-26 18:08:54,526 - mmfewshot - INFO - Iter [82100/100000]\tlr: 1.000e-04, eta: 1:30:27, time: 0.267, data_time: 0.011, memory: 4571, loss_rpn_cls: 0.0075, loss_rpn_bbox: 0.0045, loss_cls: 0.0400, acc: 99.6250, loss_bbox: 0.2565, loss: 0.3086\n",
      "2022-05-26 18:09:08,001 - mmfewshot - INFO - Iter [82150/100000]\tlr: 1.000e-04, eta: 1:30:12, time: 0.270, data_time: 0.012, memory: 4571, loss_rpn_cls: 0.0061, loss_rpn_bbox: 0.0029, loss_cls: 0.0371, acc: 99.6328, loss_bbox: 0.2848, loss: 0.3310\n",
      "2022-05-26 18:09:21,534 - mmfewshot - INFO - Iter [82200/100000]\tlr: 1.000e-04, eta: 1:29:56, time: 0.270, data_time: 0.012, memory: 4571, loss_rpn_cls: 0.0085, loss_rpn_bbox: 0.0040, loss_cls: 0.0415, acc: 99.5938, loss_bbox: 0.2998, loss: 0.3538\n",
      "2022-05-26 18:09:35,024 - mmfewshot - INFO - Iter [82250/100000]\tlr: 1.000e-04, eta: 1:29:41, time: 0.270, data_time: 0.012, memory: 4571, loss_rpn_cls: 0.0065, loss_rpn_bbox: 0.0029, loss_cls: 0.0378, acc: 99.6875, loss_bbox: 0.2505, loss: 0.2978\n",
      "2022-05-26 18:09:48,434 - mmfewshot - INFO - Iter [82300/100000]\tlr: 1.000e-04, eta: 1:29:25, time: 0.268, data_time: 0.012, memory: 4571, loss_rpn_cls: 0.0076, loss_rpn_bbox: 0.0055, loss_cls: 0.0248, acc: 99.7344, loss_bbox: 0.3032, loss: 0.3411\n",
      "2022-05-26 18:10:01,929 - mmfewshot - INFO - Iter [82350/100000]\tlr: 1.000e-04, eta: 1:29:09, time: 0.270, data_time: 0.011, memory: 4571, loss_rpn_cls: 0.0114, loss_rpn_bbox: 0.0082, loss_cls: 0.0326, acc: 99.6719, loss_bbox: 0.2931, loss: 0.3452\n",
      "2022-05-26 18:10:15,474 - mmfewshot - INFO - Iter [82400/100000]\tlr: 1.000e-04, eta: 1:28:54, time: 0.271, data_time: 0.014, memory: 4571, loss_rpn_cls: 0.0173, loss_rpn_bbox: 0.0085, loss_cls: 0.0352, acc: 99.5703, loss_bbox: 0.3264, loss: 0.3873\n",
      "2022-05-26 18:10:28,829 - mmfewshot - INFO - Iter [82450/100000]\tlr: 1.000e-04, eta: 1:28:38, time: 0.267, data_time: 0.012, memory: 4571, loss_rpn_cls: 0.0082, loss_rpn_bbox: 0.0056, loss_cls: 0.0387, acc: 99.6484, loss_bbox: 0.2887, loss: 0.3412\n",
      "2022-05-26 18:10:42,323 - mmfewshot - INFO - Iter [82500/100000]\tlr: 1.000e-04, eta: 1:28:23, time: 0.270, data_time: 0.013, memory: 4571, loss_rpn_cls: 0.0080, loss_rpn_bbox: 0.0046, loss_cls: 0.0437, acc: 99.6016, loss_bbox: 0.2677, loss: 0.3240\n",
      "2022-05-26 18:10:55,826 - mmfewshot - INFO - Iter [82550/100000]\tlr: 1.000e-04, eta: 1:28:07, time: 0.270, data_time: 0.013, memory: 4571, loss_rpn_cls: 0.0081, loss_rpn_bbox: 0.0057, loss_cls: 0.0348, acc: 99.7188, loss_bbox: 0.2812, loss: 0.3299\n",
      "2022-05-26 18:11:09,227 - mmfewshot - INFO - Iter [82600/100000]\tlr: 1.000e-04, eta: 1:27:52, time: 0.268, data_time: 0.011, memory: 4571, loss_rpn_cls: 0.0067, loss_rpn_bbox: 0.0049, loss_cls: 0.0327, acc: 99.7578, loss_bbox: 0.2973, loss: 0.3417\n",
      "2022-05-26 18:11:22,721 - mmfewshot - INFO - Iter [82650/100000]\tlr: 1.000e-04, eta: 1:27:36, time: 0.270, data_time: 0.012, memory: 4571, loss_rpn_cls: 0.0062, loss_rpn_bbox: 0.0037, loss_cls: 0.0705, acc: 99.6562, loss_bbox: 0.2899, loss: 0.3704\n",
      "2022-05-26 18:11:36,279 - mmfewshot - INFO - Iter [82700/100000]\tlr: 1.000e-04, eta: 1:27:21, time: 0.271, data_time: 0.013, memory: 4571, loss_rpn_cls: 0.0064, loss_rpn_bbox: 0.0045, loss_cls: 0.0339, acc: 99.6797, loss_bbox: 0.2868, loss: 0.3316\n",
      "2022-05-26 18:11:49,720 - mmfewshot - INFO - Iter [82750/100000]\tlr: 1.000e-04, eta: 1:27:05, time: 0.269, data_time: 0.012, memory: 4571, loss_rpn_cls: 0.0053, loss_rpn_bbox: 0.0036, loss_cls: 0.0402, acc: 99.7422, loss_bbox: 0.2731, loss: 0.3222\n",
      "2022-05-26 18:12:03,119 - mmfewshot - INFO - Iter [82800/100000]\tlr: 1.000e-04, eta: 1:26:50, time: 0.268, data_time: 0.012, memory: 4571, loss_rpn_cls: 0.0050, loss_rpn_bbox: 0.0039, loss_cls: 0.0332, acc: 99.6797, loss_bbox: 0.2891, loss: 0.3313\n",
      "2022-05-26 18:12:16,759 - mmfewshot - INFO - Iter [82850/100000]\tlr: 1.000e-04, eta: 1:26:34, time: 0.273, data_time: 0.012, memory: 4571, loss_rpn_cls: 0.0053, loss_rpn_bbox: 0.0036, loss_cls: 0.0314, acc: 99.7031, loss_bbox: 0.2672, loss: 0.3075\n",
      "2022-05-26 18:12:30,198 - mmfewshot - INFO - Iter [82900/100000]\tlr: 1.000e-04, eta: 1:26:19, time: 0.269, data_time: 0.012, memory: 4571, loss_rpn_cls: 0.0067, loss_rpn_bbox: 0.0041, loss_cls: 0.0331, acc: 99.6797, loss_bbox: 0.2737, loss: 0.3176\n",
      "2022-05-26 18:12:43,761 - mmfewshot - INFO - Iter [82950/100000]\tlr: 1.000e-04, eta: 1:26:03, time: 0.271, data_time: 0.013, memory: 4571, loss_rpn_cls: 0.0055, loss_rpn_bbox: 0.0047, loss_cls: 0.0308, acc: 99.6953, loss_bbox: 0.3220, loss: 0.3630\n",
      "2022-05-26 18:12:57,369 - mmfewshot - INFO - Exp name: attention-rpn_r50_c4_tb-split2_1shot-fine-tuning-momentum-09.py\n",
      "2022-05-26 18:12:57,371 - mmfewshot - INFO - Iter [83000/100000]\tlr: 1.000e-04, eta: 1:25:48, time: 0.272, data_time: 0.013, memory: 4571, loss_rpn_cls: 0.0077, loss_rpn_bbox: 0.0077, loss_cls: 0.0351, acc: 99.6953, loss_bbox: 0.2940, loss: 0.3445\n",
      "2022-05-26 18:12:57,377 - mmdet - INFO - starting model initialization...\n"
     ]
    },
    {
     "name": "stdout",
     "output_type": "stream",
     "text": [
      "[>>>>>>>>>>>>>>>>>>>>>>>>>>>>>] 850/850, 78.4 task/s, elapsed: 11s, ETA:     0s"
     ]
    },
    {
     "name": "stderr",
     "output_type": "stream",
     "text": [
      "2022-05-26 18:13:08,308 - mmdet - INFO - model initialization done.\n"
     ]
    },
    {
     "name": "stdout",
     "output_type": "stream",
     "text": [
      "[>>>>>>>>>>>>>>>>>>>>>>>>>>>>>] 300/300, 12.8 task/s, elapsed: 23s, ETA:     0s\n",
      "---------------iou_thr: 0.5---------------\n"
     ]
    },
    {
     "name": "stderr",
     "output_type": "stream",
     "text": [
      "2022-05-26 18:13:32,117 - mmfewshot - INFO - \n",
      "+---------+-----+------+--------+-------+\n",
      "| class   | gts | dets | recall | ap    |\n",
      "+---------+-----+------+--------+-------+\n",
      "| fanta   | 291 | 1122 | 0.897  | 0.754 |\n",
      "| Mirinda | 111 | 411  | 0.766  | 0.603 |\n",
      "+---------+-----+------+--------+-------+\n",
      "| mAP     |     |      |        | 0.678 |\n",
      "+---------+-----+------+--------+-------+\n",
      "2022-05-26 18:13:32,120 - mmfewshot - INFO - BASE_CLASSES_SPLIT2 mAP: 0.6781145334243774\n",
      "2022-05-26 18:13:32,121 - mmfewshot - INFO - NOVEL_CLASSES_SPLIT2 mAP: nan\n",
      "2022-05-26 18:13:32,125 - mmfewshot - INFO - Exp name: attention-rpn_r50_c4_tb-split2_1shot-fine-tuning-momentum-09.py\n",
      "2022-05-26 18:13:32,126 - mmfewshot - INFO - Iter(val) [300]\tAP50: 0.6780, BASE_CLASSES_SPLIT2: AP50: 0.6780, NOVEL_CLASSES_SPLIT2: AP50: nan, mAP: 0.6781\n",
      "2022-05-26 18:13:45,596 - mmfewshot - INFO - Iter [83050/100000]\tlr: 1.000e-04, eta: 1:25:40, time: 0.965, data_time: 0.706, memory: 4571, loss_rpn_cls: 0.0054, loss_rpn_bbox: 0.0050, loss_cls: 0.0345, acc: 99.5391, loss_bbox: 0.3250, loss: 0.3698\n",
      "2022-05-26 18:13:59,063 - mmfewshot - INFO - Iter [83100/100000]\tlr: 1.000e-04, eta: 1:25:24, time: 0.269, data_time: 0.012, memory: 4571, loss_rpn_cls: 0.0061, loss_rpn_bbox: 0.0049, loss_cls: 0.0325, acc: 99.6094, loss_bbox: 0.3100, loss: 0.3536\n",
      "2022-05-26 18:14:12,602 - mmfewshot - INFO - Iter [83150/100000]\tlr: 1.000e-04, eta: 1:25:09, time: 0.271, data_time: 0.013, memory: 4571, loss_rpn_cls: 0.0071, loss_rpn_bbox: 0.0039, loss_cls: 0.0349, acc: 99.6484, loss_bbox: 0.2590, loss: 0.3048\n",
      "2022-05-26 18:14:26,104 - mmfewshot - INFO - Iter [83200/100000]\tlr: 1.000e-04, eta: 1:24:53, time: 0.270, data_time: 0.013, memory: 4571, loss_rpn_cls: 0.0112, loss_rpn_bbox: 0.0073, loss_cls: 0.0496, acc: 99.6094, loss_bbox: 0.3165, loss: 0.3846\n",
      "2022-05-26 18:14:39,539 - mmfewshot - INFO - Iter [83250/100000]\tlr: 1.000e-04, eta: 1:24:38, time: 0.269, data_time: 0.013, memory: 4571, loss_rpn_cls: 0.0108, loss_rpn_bbox: 0.0060, loss_cls: 0.0357, acc: 99.6250, loss_bbox: 0.3240, loss: 0.3765\n",
      "2022-05-26 18:14:53,057 - mmfewshot - INFO - Iter [83300/100000]\tlr: 1.000e-04, eta: 1:24:22, time: 0.271, data_time: 0.012, memory: 4571, loss_rpn_cls: 0.0067, loss_rpn_bbox: 0.0065, loss_cls: 0.0333, acc: 99.6328, loss_bbox: 0.2982, loss: 0.3447\n",
      "2022-05-26 18:15:06,457 - mmfewshot - INFO - Iter [83350/100000]\tlr: 1.000e-04, eta: 1:24:07, time: 0.268, data_time: 0.012, memory: 4571, loss_rpn_cls: 0.0068, loss_rpn_bbox: 0.0060, loss_cls: 0.0432, acc: 99.6797, loss_bbox: 0.2724, loss: 0.3284\n",
      "2022-05-26 18:15:19,962 - mmfewshot - INFO - Iter [83400/100000]\tlr: 1.000e-04, eta: 1:23:51, time: 0.270, data_time: 0.012, memory: 4571, loss_rpn_cls: 0.0071, loss_rpn_bbox: 0.0030, loss_cls: 0.0369, acc: 99.6250, loss_bbox: 0.3032, loss: 0.3503\n",
      "2022-05-26 18:15:33,467 - mmfewshot - INFO - Iter [83450/100000]\tlr: 1.000e-04, eta: 1:23:36, time: 0.270, data_time: 0.013, memory: 4571, loss_rpn_cls: 0.0105, loss_rpn_bbox: 0.0062, loss_cls: 0.0456, acc: 99.5625, loss_bbox: 0.2568, loss: 0.3190\n",
      "2022-05-26 18:15:46,977 - mmfewshot - INFO - Iter [83500/100000]\tlr: 1.000e-04, eta: 1:23:20, time: 0.270, data_time: 0.013, memory: 4571, loss_rpn_cls: 0.0048, loss_rpn_bbox: 0.0034, loss_cls: 0.0311, acc: 99.6875, loss_bbox: 0.2797, loss: 0.3190\n",
      "2022-05-26 18:16:00,507 - mmfewshot - INFO - Iter [83550/100000]\tlr: 1.000e-04, eta: 1:23:05, time: 0.271, data_time: 0.013, memory: 4571, loss_rpn_cls: 0.0080, loss_rpn_bbox: 0.0085, loss_cls: 0.0263, acc: 99.6406, loss_bbox: 0.3562, loss: 0.3990\n",
      "2022-05-26 18:16:14,019 - mmfewshot - INFO - Iter [83600/100000]\tlr: 1.000e-04, eta: 1:22:49, time: 0.270, data_time: 0.012, memory: 4571, loss_rpn_cls: 0.0063, loss_rpn_bbox: 0.0084, loss_cls: 0.0307, acc: 99.6953, loss_bbox: 0.3028, loss: 0.3482\n",
      "2022-05-26 18:16:27,475 - mmfewshot - INFO - Iter [83650/100000]\tlr: 1.000e-04, eta: 1:22:34, time: 0.269, data_time: 0.011, memory: 4571, loss_rpn_cls: 0.0056, loss_rpn_bbox: 0.0041, loss_cls: 0.0433, acc: 99.5703, loss_bbox: 0.3135, loss: 0.3665\n",
      "2022-05-26 18:16:40,845 - mmfewshot - INFO - Iter [83700/100000]\tlr: 1.000e-04, eta: 1:22:18, time: 0.267, data_time: 0.012, memory: 4571, loss_rpn_cls: 0.0040, loss_rpn_bbox: 0.0028, loss_cls: 0.0402, acc: 99.6016, loss_bbox: 0.2980, loss: 0.3450\n",
      "2022-05-26 18:16:54,240 - mmfewshot - INFO - Iter [83750/100000]\tlr: 1.000e-04, eta: 1:22:03, time: 0.268, data_time: 0.012, memory: 4571, loss_rpn_cls: 0.0064, loss_rpn_bbox: 0.0044, loss_cls: 0.0608, acc: 99.6875, loss_bbox: 0.2527, loss: 0.3243\n",
      "2022-05-26 18:17:07,425 - mmfewshot - INFO - Iter [83800/100000]\tlr: 1.000e-04, eta: 1:21:47, time: 0.264, data_time: 0.010, memory: 4571, loss_rpn_cls: 0.0053, loss_rpn_bbox: 0.0039, loss_cls: 0.0356, acc: 99.6953, loss_bbox: 0.2758, loss: 0.3205\n",
      "2022-05-26 18:17:20,893 - mmfewshot - INFO - Iter [83850/100000]\tlr: 1.000e-04, eta: 1:21:32, time: 0.269, data_time: 0.012, memory: 4571, loss_rpn_cls: 0.0083, loss_rpn_bbox: 0.0068, loss_cls: 0.0482, acc: 99.5469, loss_bbox: 0.3171, loss: 0.3803\n",
      "2022-05-26 18:17:34,315 - mmfewshot - INFO - Iter [83900/100000]\tlr: 1.000e-04, eta: 1:21:16, time: 0.268, data_time: 0.011, memory: 4571, loss_rpn_cls: 0.0084, loss_rpn_bbox: 0.0077, loss_cls: 0.0420, acc: 99.5547, loss_bbox: 0.3004, loss: 0.3585\n",
      "2022-05-26 18:17:47,783 - mmfewshot - INFO - Iter [83950/100000]\tlr: 1.000e-04, eta: 1:21:01, time: 0.269, data_time: 0.012, memory: 4571, loss_rpn_cls: 0.0092, loss_rpn_bbox: 0.0066, loss_cls: 0.0306, acc: 99.6719, loss_bbox: 0.3340, loss: 0.3804\n",
      "2022-05-26 18:18:01,105 - mmfewshot - INFO - Exp name: attention-rpn_r50_c4_tb-split2_1shot-fine-tuning-momentum-09.py\n",
      "2022-05-26 18:18:01,107 - mmfewshot - INFO - Iter [84000/100000]\tlr: 1.000e-04, eta: 1:20:45, time: 0.267, data_time: 0.011, memory: 4571, loss_rpn_cls: 0.0055, loss_rpn_bbox: 0.0035, loss_cls: 0.0421, acc: 99.7578, loss_bbox: 0.2769, loss: 0.3280\n",
      "2022-05-26 18:18:01,112 - mmdet - INFO - starting model initialization...\n"
     ]
    },
    {
     "name": "stdout",
     "output_type": "stream",
     "text": [
      "[>>>>>>>>>>>>>>>>>>>>>>>>>>>>>] 850/850, 79.5 task/s, elapsed: 11s, ETA:     0s"
     ]
    },
    {
     "name": "stderr",
     "output_type": "stream",
     "text": [
      "2022-05-26 18:18:11,928 - mmdet - INFO - model initialization done.\n"
     ]
    },
    {
     "name": "stdout",
     "output_type": "stream",
     "text": [
      "[>>>>>>>>>>>>>>>>>>>>>>>>>>>>>] 300/300, 12.6 task/s, elapsed: 24s, ETA:     0s\n",
      "---------------iou_thr: 0.5---------------\n"
     ]
    },
    {
     "name": "stderr",
     "output_type": "stream",
     "text": [
      "2022-05-26 18:18:36,093 - mmfewshot - INFO - \n",
      "+---------+-----+------+--------+-------+\n",
      "| class   | gts | dets | recall | ap    |\n",
      "+---------+-----+------+--------+-------+\n",
      "| fanta   | 291 | 1380 | 0.900  | 0.762 |\n",
      "| Mirinda | 111 | 632  | 0.784  | 0.604 |\n",
      "+---------+-----+------+--------+-------+\n",
      "| mAP     |     |      |        | 0.683 |\n",
      "+---------+-----+------+--------+-------+\n",
      "2022-05-26 18:18:36,095 - mmfewshot - INFO - BASE_CLASSES_SPLIT2 mAP: 0.6830732822418213\n",
      "2022-05-26 18:18:36,096 - mmfewshot - INFO - NOVEL_CLASSES_SPLIT2 mAP: nan\n",
      "2022-05-26 18:18:36,100 - mmfewshot - INFO - Exp name: attention-rpn_r50_c4_tb-split2_1shot-fine-tuning-momentum-09.py\n",
      "2022-05-26 18:18:36,102 - mmfewshot - INFO - Iter(val) [300]\tAP50: 0.6830, BASE_CLASSES_SPLIT2: AP50: 0.6830, NOVEL_CLASSES_SPLIT2: AP50: nan, mAP: 0.6831\n",
      "2022-05-26 18:18:49,607 - mmfewshot - INFO - Iter [84050/100000]\tlr: 1.000e-04, eta: 1:20:37, time: 0.970, data_time: 0.712, memory: 4571, loss_rpn_cls: 0.0141, loss_rpn_bbox: 0.0074, loss_cls: 0.0301, acc: 99.7031, loss_bbox: 0.2850, loss: 0.3366\n",
      "2022-05-26 18:19:02,983 - mmfewshot - INFO - Iter [84100/100000]\tlr: 1.000e-04, eta: 1:20:21, time: 0.268, data_time: 0.012, memory: 4571, loss_rpn_cls: 0.0061, loss_rpn_bbox: 0.0029, loss_cls: 0.0348, acc: 99.7109, loss_bbox: 0.2732, loss: 0.3170\n",
      "2022-05-26 18:19:16,348 - mmfewshot - INFO - Iter [84150/100000]\tlr: 1.000e-04, eta: 1:20:06, time: 0.267, data_time: 0.011, memory: 4571, loss_rpn_cls: 0.0051, loss_rpn_bbox: 0.0040, loss_cls: 0.0244, acc: 99.7969, loss_bbox: 0.2793, loss: 0.3128\n",
      "2022-05-26 18:19:29,892 - mmfewshot - INFO - Iter [84200/100000]\tlr: 1.000e-04, eta: 1:19:50, time: 0.271, data_time: 0.013, memory: 4571, loss_rpn_cls: 0.0071, loss_rpn_bbox: 0.0053, loss_cls: 0.0337, acc: 99.7344, loss_bbox: 0.2962, loss: 0.3423\n",
      "2022-05-26 18:19:43,396 - mmfewshot - INFO - Iter [84250/100000]\tlr: 1.000e-04, eta: 1:19:35, time: 0.270, data_time: 0.013, memory: 4571, loss_rpn_cls: 0.0076, loss_rpn_bbox: 0.0056, loss_cls: 0.0598, acc: 99.6719, loss_bbox: 0.2625, loss: 0.3356\n",
      "2022-05-26 18:19:56,842 - mmfewshot - INFO - Iter [84300/100000]\tlr: 1.000e-04, eta: 1:19:19, time: 0.269, data_time: 0.011, memory: 4571, loss_rpn_cls: 0.0055, loss_rpn_bbox: 0.0033, loss_cls: 0.0338, acc: 99.6484, loss_bbox: 0.3222, loss: 0.3647\n",
      "2022-05-26 18:20:10,250 - mmfewshot - INFO - Iter [84350/100000]\tlr: 1.000e-04, eta: 1:19:04, time: 0.268, data_time: 0.012, memory: 4571, loss_rpn_cls: 0.0066, loss_rpn_bbox: 0.0048, loss_cls: 0.0404, acc: 99.6719, loss_bbox: 0.2615, loss: 0.3133\n",
      "2022-05-26 18:20:23,745 - mmfewshot - INFO - Iter [84400/100000]\tlr: 1.000e-04, eta: 1:18:48, time: 0.270, data_time: 0.013, memory: 4571, loss_rpn_cls: 0.0083, loss_rpn_bbox: 0.0057, loss_cls: 0.0366, acc: 99.7109, loss_bbox: 0.2822, loss: 0.3328\n",
      "2022-05-26 18:20:37,274 - mmfewshot - INFO - Iter [84450/100000]\tlr: 1.000e-04, eta: 1:18:33, time: 0.270, data_time: 0.012, memory: 4571, loss_rpn_cls: 0.0083, loss_rpn_bbox: 0.0066, loss_cls: 0.0496, acc: 99.6094, loss_bbox: 0.3036, loss: 0.3681\n",
      "2022-05-26 18:20:50,661 - mmfewshot - INFO - Iter [84500/100000]\tlr: 1.000e-04, eta: 1:18:17, time: 0.268, data_time: 0.012, memory: 4571, loss_rpn_cls: 0.0068, loss_rpn_bbox: 0.0079, loss_cls: 0.0312, acc: 99.6641, loss_bbox: 0.3332, loss: 0.3790\n",
      "2022-05-26 18:21:03,992 - mmfewshot - INFO - Iter [84550/100000]\tlr: 1.000e-04, eta: 1:18:02, time: 0.267, data_time: 0.012, memory: 4571, loss_rpn_cls: 0.0054, loss_rpn_bbox: 0.0042, loss_cls: 0.0392, acc: 99.6953, loss_bbox: 0.2926, loss: 0.3414\n",
      "2022-05-26 18:21:17,279 - mmfewshot - INFO - Iter [84600/100000]\tlr: 1.000e-04, eta: 1:17:46, time: 0.266, data_time: 0.012, memory: 4571, loss_rpn_cls: 0.0059, loss_rpn_bbox: 0.0042, loss_cls: 0.0319, acc: 99.6953, loss_bbox: 0.3117, loss: 0.3537\n",
      "2022-05-26 18:21:30,815 - mmfewshot - INFO - Iter [84650/100000]\tlr: 1.000e-04, eta: 1:17:31, time: 0.271, data_time: 0.013, memory: 4571, loss_rpn_cls: 0.0069, loss_rpn_bbox: 0.0052, loss_cls: 0.0262, acc: 99.7266, loss_bbox: 0.3108, loss: 0.3492\n",
      "2022-05-26 18:21:44,369 - mmfewshot - INFO - Iter [84700/100000]\tlr: 1.000e-04, eta: 1:17:15, time: 0.271, data_time: 0.013, memory: 4571, loss_rpn_cls: 0.0088, loss_rpn_bbox: 0.0077, loss_cls: 0.0335, acc: 99.6094, loss_bbox: 0.3440, loss: 0.3940\n",
      "2022-05-26 18:21:57,693 - mmfewshot - INFO - Iter [84750/100000]\tlr: 1.000e-04, eta: 1:17:00, time: 0.267, data_time: 0.011, memory: 4571, loss_rpn_cls: 0.0074, loss_rpn_bbox: 0.0083, loss_cls: 0.0335, acc: 99.6406, loss_bbox: 0.3349, loss: 0.3840\n",
      "2022-05-26 18:22:11,102 - mmfewshot - INFO - Iter [84800/100000]\tlr: 1.000e-04, eta: 1:16:44, time: 0.268, data_time: 0.011, memory: 4571, loss_rpn_cls: 0.0080, loss_rpn_bbox: 0.0059, loss_cls: 0.0515, acc: 99.5625, loss_bbox: 0.3004, loss: 0.3658\n",
      "2022-05-26 18:22:24,641 - mmfewshot - INFO - Iter [84850/100000]\tlr: 1.000e-04, eta: 1:16:29, time: 0.271, data_time: 0.013, memory: 4571, loss_rpn_cls: 0.0093, loss_rpn_bbox: 0.0047, loss_cls: 0.0527, acc: 99.5547, loss_bbox: 0.2656, loss: 0.3322\n",
      "2022-05-26 18:22:38,200 - mmfewshot - INFO - Iter [84900/100000]\tlr: 1.000e-04, eta: 1:16:14, time: 0.271, data_time: 0.013, memory: 4571, loss_rpn_cls: 0.0051, loss_rpn_bbox: 0.0043, loss_cls: 0.0226, acc: 99.7500, loss_bbox: 0.3004, loss: 0.3324\n",
      "2022-05-26 18:22:51,551 - mmfewshot - INFO - Iter [84950/100000]\tlr: 1.000e-04, eta: 1:15:58, time: 0.267, data_time: 0.011, memory: 4571, loss_rpn_cls: 0.0072, loss_rpn_bbox: 0.0060, loss_cls: 0.0327, acc: 99.6250, loss_bbox: 0.2996, loss: 0.3455\n",
      "2022-05-26 18:23:04,890 - mmfewshot - INFO - Exp name: attention-rpn_r50_c4_tb-split2_1shot-fine-tuning-momentum-09.py\n",
      "2022-05-26 18:23:04,893 - mmfewshot - INFO - Iter [85000/100000]\tlr: 1.000e-04, eta: 1:15:43, time: 0.267, data_time: 0.012, memory: 4571, loss_rpn_cls: 0.0065, loss_rpn_bbox: 0.0036, loss_cls: 0.0382, acc: 99.6406, loss_bbox: 0.3219, loss: 0.3701\n",
      "2022-05-26 18:23:04,899 - mmdet - INFO - starting model initialization...\n"
     ]
    },
    {
     "name": "stdout",
     "output_type": "stream",
     "text": [
      "[>>>>>>>>>>>>>>>>>>>>>>>>>>>>>] 850/850, 77.8 task/s, elapsed: 11s, ETA:     0s"
     ]
    },
    {
     "name": "stderr",
     "output_type": "stream",
     "text": [
      "2022-05-26 18:23:15,902 - mmdet - INFO - model initialization done.\n"
     ]
    },
    {
     "name": "stdout",
     "output_type": "stream",
     "text": [
      "[>>>>>>>>>>>>>>>>>>>>>>>>>>>>>] 300/300, 12.7 task/s, elapsed: 24s, ETA:     0s\n",
      "---------------iou_thr: 0.5---------------\n"
     ]
    },
    {
     "name": "stderr",
     "output_type": "stream",
     "text": [
      "2022-05-26 18:23:39,783 - mmfewshot - INFO - \n",
      "+---------+-----+------+--------+-------+\n",
      "| class   | gts | dets | recall | ap    |\n",
      "+---------+-----+------+--------+-------+\n",
      "| fanta   | 291 | 1504 | 0.907  | 0.774 |\n",
      "| Mirinda | 111 | 562  | 0.775  | 0.586 |\n",
      "+---------+-----+------+--------+-------+\n",
      "| mAP     |     |      |        | 0.680 |\n",
      "+---------+-----+------+--------+-------+\n",
      "2022-05-26 18:23:39,786 - mmfewshot - INFO - BASE_CLASSES_SPLIT2 mAP: 0.6801275610923767\n",
      "2022-05-26 18:23:39,788 - mmfewshot - INFO - NOVEL_CLASSES_SPLIT2 mAP: nan\n",
      "2022-05-26 18:23:39,792 - mmfewshot - INFO - Exp name: attention-rpn_r50_c4_tb-split2_1shot-fine-tuning-momentum-09.py\n",
      "2022-05-26 18:23:39,793 - mmfewshot - INFO - Iter(val) [300]\tAP50: 0.6800, BASE_CLASSES_SPLIT2: AP50: 0.6800, NOVEL_CLASSES_SPLIT2: AP50: nan, mAP: 0.6801\n",
      "2022-05-26 18:23:53,185 - mmfewshot - INFO - Iter [85050/100000]\tlr: 1.000e-04, eta: 1:15:33, time: 0.966, data_time: 0.710, memory: 4571, loss_rpn_cls: 0.0059, loss_rpn_bbox: 0.0056, loss_cls: 0.0266, acc: 99.7344, loss_bbox: 0.2900, loss: 0.3281\n",
      "2022-05-26 18:24:06,526 - mmfewshot - INFO - Iter [85100/100000]\tlr: 1.000e-04, eta: 1:15:18, time: 0.266, data_time: 0.012, memory: 4571, loss_rpn_cls: 0.0087, loss_rpn_bbox: 0.0049, loss_cls: 0.0398, acc: 99.6172, loss_bbox: 0.2955, loss: 0.3490\n",
      "2022-05-26 18:24:20,038 - mmfewshot - INFO - Iter [85150/100000]\tlr: 1.000e-04, eta: 1:15:02, time: 0.271, data_time: 0.013, memory: 4571, loss_rpn_cls: 0.0062, loss_rpn_bbox: 0.0050, loss_cls: 0.0533, acc: 99.7344, loss_bbox: 0.2799, loss: 0.3445\n",
      "2022-05-26 18:24:33,547 - mmfewshot - INFO - Iter [85200/100000]\tlr: 1.000e-04, eta: 1:14:47, time: 0.270, data_time: 0.012, memory: 4571, loss_rpn_cls: 0.0080, loss_rpn_bbox: 0.0054, loss_cls: 0.0409, acc: 99.5938, loss_bbox: 0.3116, loss: 0.3660\n",
      "2022-05-26 18:24:47,096 - mmfewshot - INFO - Iter [85250/100000]\tlr: 1.000e-04, eta: 1:14:32, time: 0.271, data_time: 0.012, memory: 4571, loss_rpn_cls: 0.0063, loss_rpn_bbox: 0.0033, loss_cls: 0.0343, acc: 99.6406, loss_bbox: 0.2788, loss: 0.3227\n",
      "2022-05-26 18:25:00,595 - mmfewshot - INFO - Iter [85300/100000]\tlr: 1.000e-04, eta: 1:14:16, time: 0.270, data_time: 0.013, memory: 4571, loss_rpn_cls: 0.0072, loss_rpn_bbox: 0.0038, loss_cls: 0.0347, acc: 99.7109, loss_bbox: 0.2570, loss: 0.3025\n",
      "2022-05-26 18:25:13,999 - mmfewshot - INFO - Iter [85350/100000]\tlr: 1.000e-04, eta: 1:14:01, time: 0.268, data_time: 0.012, memory: 4571, loss_rpn_cls: 0.0081, loss_rpn_bbox: 0.0056, loss_cls: 0.0331, acc: 99.6328, loss_bbox: 0.2813, loss: 0.3281\n",
      "2022-05-26 18:25:27,521 - mmfewshot - INFO - Iter [85400/100000]\tlr: 1.000e-04, eta: 1:13:45, time: 0.270, data_time: 0.013, memory: 4571, loss_rpn_cls: 0.0086, loss_rpn_bbox: 0.0066, loss_cls: 0.0385, acc: 99.6172, loss_bbox: 0.2776, loss: 0.3314\n",
      "2022-05-26 18:25:40,917 - mmfewshot - INFO - Iter [85450/100000]\tlr: 1.000e-04, eta: 1:13:30, time: 0.268, data_time: 0.012, memory: 4571, loss_rpn_cls: 0.0088, loss_rpn_bbox: 0.0049, loss_cls: 0.0377, acc: 99.6406, loss_bbox: 0.2946, loss: 0.3460\n",
      "2022-05-26 18:25:54,371 - mmfewshot - INFO - Iter [85500/100000]\tlr: 1.000e-04, eta: 1:13:14, time: 0.269, data_time: 0.013, memory: 4571, loss_rpn_cls: 0.0059, loss_rpn_bbox: 0.0036, loss_cls: 0.0321, acc: 99.6719, loss_bbox: 0.3076, loss: 0.3493\n",
      "2022-05-26 18:26:07,694 - mmfewshot - INFO - Iter [85550/100000]\tlr: 1.000e-04, eta: 1:12:59, time: 0.267, data_time: 0.012, memory: 4571, loss_rpn_cls: 0.0129, loss_rpn_bbox: 0.0064, loss_cls: 0.0474, acc: 99.5547, loss_bbox: 0.2819, loss: 0.3486\n",
      "2022-05-26 18:26:21,143 - mmfewshot - INFO - Iter [85600/100000]\tlr: 1.000e-04, eta: 1:12:43, time: 0.269, data_time: 0.012, memory: 4571, loss_rpn_cls: 0.0040, loss_rpn_bbox: 0.0035, loss_cls: 0.0598, acc: 99.7266, loss_bbox: 0.2360, loss: 0.3032\n",
      "2022-05-26 18:26:34,429 - mmfewshot - INFO - Iter [85650/100000]\tlr: 1.000e-04, eta: 1:12:28, time: 0.266, data_time: 0.012, memory: 4571, loss_rpn_cls: 0.0064, loss_rpn_bbox: 0.0041, loss_cls: 0.0371, acc: 99.6328, loss_bbox: 0.2869, loss: 0.3344\n",
      "2022-05-26 18:26:47,819 - mmfewshot - INFO - Iter [85700/100000]\tlr: 1.000e-04, eta: 1:12:12, time: 0.268, data_time: 0.012, memory: 4571, loss_rpn_cls: 0.0043, loss_rpn_bbox: 0.0030, loss_cls: 0.0302, acc: 99.7344, loss_bbox: 0.3204, loss: 0.3579\n",
      "2022-05-26 18:27:01,288 - mmfewshot - INFO - Iter [85750/100000]\tlr: 1.000e-04, eta: 1:11:57, time: 0.269, data_time: 0.013, memory: 4571, loss_rpn_cls: 0.0067, loss_rpn_bbox: 0.0043, loss_cls: 0.0389, acc: 99.6328, loss_bbox: 0.2827, loss: 0.3325\n",
      "2022-05-26 18:27:14,773 - mmfewshot - INFO - Iter [85800/100000]\tlr: 1.000e-04, eta: 1:11:42, time: 0.270, data_time: 0.013, memory: 4571, loss_rpn_cls: 0.0098, loss_rpn_bbox: 0.0054, loss_cls: 0.0323, acc: 99.7031, loss_bbox: 0.2970, loss: 0.3445\n",
      "2022-05-26 18:27:28,221 - mmfewshot - INFO - Iter [85850/100000]\tlr: 1.000e-04, eta: 1:11:26, time: 0.269, data_time: 0.013, memory: 4571, loss_rpn_cls: 0.0086, loss_rpn_bbox: 0.0063, loss_cls: 0.0542, acc: 99.6719, loss_bbox: 0.3017, loss: 0.3709\n",
      "2022-05-26 18:27:41,705 - mmfewshot - INFO - Iter [85900/100000]\tlr: 1.000e-04, eta: 1:11:11, time: 0.270, data_time: 0.012, memory: 4571, loss_rpn_cls: 0.0047, loss_rpn_bbox: 0.0041, loss_cls: 0.0312, acc: 99.7188, loss_bbox: 0.2782, loss: 0.3182\n",
      "2022-05-26 18:27:55,171 - mmfewshot - INFO - Iter [85950/100000]\tlr: 1.000e-04, eta: 1:10:55, time: 0.269, data_time: 0.011, memory: 4571, loss_rpn_cls: 0.0081, loss_rpn_bbox: 0.0060, loss_cls: 0.0305, acc: 99.6250, loss_bbox: 0.3109, loss: 0.3555\n",
      "2022-05-26 18:28:08,638 - mmfewshot - INFO - Exp name: attention-rpn_r50_c4_tb-split2_1shot-fine-tuning-momentum-09.py\n",
      "2022-05-26 18:28:08,639 - mmfewshot - INFO - Iter [86000/100000]\tlr: 1.000e-04, eta: 1:10:40, time: 0.269, data_time: 0.013, memory: 4571, loss_rpn_cls: 0.0056, loss_rpn_bbox: 0.0045, loss_cls: 0.0276, acc: 99.6875, loss_bbox: 0.3328, loss: 0.3704\n",
      "2022-05-26 18:28:08,644 - mmdet - INFO - starting model initialization...\n"
     ]
    },
    {
     "name": "stdout",
     "output_type": "stream",
     "text": [
      "[>>>>>>>>>>>>>>>>>>>>>>>>>>>>>] 850/850, 78.6 task/s, elapsed: 11s, ETA:     0s"
     ]
    },
    {
     "name": "stderr",
     "output_type": "stream",
     "text": [
      "2022-05-26 18:28:19,541 - mmdet - INFO - model initialization done.\n"
     ]
    },
    {
     "name": "stdout",
     "output_type": "stream",
     "text": [
      "[>>>>>>>>>>>>>>>>>>>>>>>>>>>>>] 300/300, 12.6 task/s, elapsed: 24s, ETA:     0s\n",
      "---------------iou_thr: 0.5---------------\n"
     ]
    },
    {
     "name": "stderr",
     "output_type": "stream",
     "text": [
      "2022-05-26 18:28:43,673 - mmfewshot - INFO - \n",
      "+---------+-----+------+--------+-------+\n",
      "| class   | gts | dets | recall | ap    |\n",
      "+---------+-----+------+--------+-------+\n",
      "| fanta   | 291 | 1458 | 0.893  | 0.747 |\n",
      "| Mirinda | 111 | 530  | 0.766  | 0.601 |\n",
      "+---------+-----+------+--------+-------+\n",
      "| mAP     |     |      |        | 0.674 |\n",
      "+---------+-----+------+--------+-------+\n",
      "2022-05-26 18:28:43,675 - mmfewshot - INFO - BASE_CLASSES_SPLIT2 mAP: 0.673833429813385\n",
      "2022-05-26 18:28:43,676 - mmfewshot - INFO - NOVEL_CLASSES_SPLIT2 mAP: nan\n",
      "2022-05-26 18:28:43,678 - mmfewshot - INFO - Exp name: attention-rpn_r50_c4_tb-split2_1shot-fine-tuning-momentum-09.py\n",
      "2022-05-26 18:28:43,679 - mmfewshot - INFO - Iter(val) [300]\tAP50: 0.6740, BASE_CLASSES_SPLIT2: AP50: 0.6740, NOVEL_CLASSES_SPLIT2: AP50: nan, mAP: 0.6738\n",
      "2022-05-26 18:28:57,187 - mmfewshot - INFO - Iter [86050/100000]\tlr: 1.000e-04, eta: 1:10:30, time: 0.971, data_time: 0.713, memory: 4571, loss_rpn_cls: 0.0081, loss_rpn_bbox: 0.0063, loss_cls: 0.0431, acc: 99.6562, loss_bbox: 0.3043, loss: 0.3618\n",
      "2022-05-26 18:29:10,664 - mmfewshot - INFO - Iter [86100/100000]\tlr: 1.000e-04, eta: 1:10:15, time: 0.270, data_time: 0.013, memory: 4571, loss_rpn_cls: 0.0073, loss_rpn_bbox: 0.0061, loss_cls: 0.0348, acc: 99.6562, loss_bbox: 0.3045, loss: 0.3528\n",
      "2022-05-26 18:29:24,133 - mmfewshot - INFO - Iter [86150/100000]\tlr: 1.000e-04, eta: 1:09:59, time: 0.269, data_time: 0.012, memory: 4571, loss_rpn_cls: 0.0068, loss_rpn_bbox: 0.0039, loss_cls: 0.0303, acc: 99.6875, loss_bbox: 0.3032, loss: 0.3442\n",
      "2022-05-26 18:29:37,550 - mmfewshot - INFO - Iter [86200/100000]\tlr: 1.000e-04, eta: 1:09:44, time: 0.268, data_time: 0.012, memory: 4571, loss_rpn_cls: 0.0059, loss_rpn_bbox: 0.0038, loss_cls: 0.0236, acc: 99.7734, loss_bbox: 0.2662, loss: 0.2995\n",
      "2022-05-26 18:29:51,010 - mmfewshot - INFO - Iter [86250/100000]\tlr: 1.000e-04, eta: 1:09:28, time: 0.269, data_time: 0.012, memory: 4571, loss_rpn_cls: 0.0038, loss_rpn_bbox: 0.0046, loss_cls: 0.0262, acc: 99.7500, loss_bbox: 0.2957, loss: 0.3304\n",
      "2022-05-26 18:30:04,422 - mmfewshot - INFO - Iter [86300/100000]\tlr: 1.000e-04, eta: 1:09:13, time: 0.268, data_time: 0.011, memory: 4571, loss_rpn_cls: 0.0072, loss_rpn_bbox: 0.0056, loss_cls: 0.0239, acc: 99.7734, loss_bbox: 0.3130, loss: 0.3497\n",
      "2022-05-26 18:30:17,780 - mmfewshot - INFO - Iter [86350/100000]\tlr: 1.000e-04, eta: 1:08:58, time: 0.267, data_time: 0.012, memory: 4571, loss_rpn_cls: 0.0052, loss_rpn_bbox: 0.0054, loss_cls: 0.0304, acc: 99.6953, loss_bbox: 0.3108, loss: 0.3518\n",
      "2022-05-26 18:30:31,332 - mmfewshot - INFO - Iter [86400/100000]\tlr: 1.000e-04, eta: 1:08:42, time: 0.271, data_time: 0.012, memory: 4571, loss_rpn_cls: 0.0061, loss_rpn_bbox: 0.0055, loss_cls: 0.0326, acc: 99.6719, loss_bbox: 0.2995, loss: 0.3437\n",
      "2022-05-26 18:30:44,806 - mmfewshot - INFO - Iter [86450/100000]\tlr: 1.000e-04, eta: 1:08:27, time: 0.269, data_time: 0.012, memory: 4571, loss_rpn_cls: 0.0114, loss_rpn_bbox: 0.0117, loss_cls: 0.0273, acc: 99.7656, loss_bbox: 0.3045, loss: 0.3549\n",
      "2022-05-26 18:30:58,228 - mmfewshot - INFO - Iter [86500/100000]\tlr: 1.000e-04, eta: 1:08:11, time: 0.269, data_time: 0.012, memory: 4571, loss_rpn_cls: 0.0123, loss_rpn_bbox: 0.0087, loss_cls: 0.0511, acc: 99.6562, loss_bbox: 0.2686, loss: 0.3406\n",
      "2022-05-26 18:31:11,678 - mmfewshot - INFO - Iter [86550/100000]\tlr: 1.000e-04, eta: 1:07:56, time: 0.269, data_time: 0.012, memory: 4571, loss_rpn_cls: 0.0060, loss_rpn_bbox: 0.0047, loss_cls: 0.0278, acc: 99.7734, loss_bbox: 0.2712, loss: 0.3097\n",
      "2022-05-26 18:31:25,185 - mmfewshot - INFO - Iter [86600/100000]\tlr: 1.000e-04, eta: 1:07:40, time: 0.270, data_time: 0.012, memory: 4571, loss_rpn_cls: 0.0060, loss_rpn_bbox: 0.0039, loss_cls: 0.0277, acc: 99.8281, loss_bbox: 0.2738, loss: 0.3115\n",
      "2022-05-26 18:31:38,578 - mmfewshot - INFO - Iter [86650/100000]\tlr: 1.000e-04, eta: 1:07:25, time: 0.268, data_time: 0.012, memory: 4571, loss_rpn_cls: 0.0092, loss_rpn_bbox: 0.0098, loss_cls: 0.0408, acc: 99.6797, loss_bbox: 0.3009, loss: 0.3606\n",
      "2022-05-26 18:31:51,871 - mmfewshot - INFO - Iter [86700/100000]\tlr: 1.000e-04, eta: 1:07:10, time: 0.266, data_time: 0.010, memory: 4571, loss_rpn_cls: 0.0038, loss_rpn_bbox: 0.0037, loss_cls: 0.0299, acc: 99.6641, loss_bbox: 0.3179, loss: 0.3554\n",
      "2022-05-26 18:32:05,219 - mmfewshot - INFO - Iter [86750/100000]\tlr: 1.000e-04, eta: 1:06:54, time: 0.267, data_time: 0.011, memory: 4571, loss_rpn_cls: 0.0064, loss_rpn_bbox: 0.0067, loss_cls: 0.0385, acc: 99.6719, loss_bbox: 0.2961, loss: 0.3477\n",
      "2022-05-26 18:32:18,723 - mmfewshot - INFO - Iter [86800/100000]\tlr: 1.000e-04, eta: 1:06:39, time: 0.270, data_time: 0.012, memory: 4571, loss_rpn_cls: 0.0068, loss_rpn_bbox: 0.0041, loss_cls: 0.0358, acc: 99.6719, loss_bbox: 0.2793, loss: 0.3261\n",
      "2022-05-26 18:32:32,130 - mmfewshot - INFO - Iter [86850/100000]\tlr: 1.000e-04, eta: 1:06:23, time: 0.268, data_time: 0.011, memory: 4571, loss_rpn_cls: 0.0077, loss_rpn_bbox: 0.0062, loss_cls: 0.0205, acc: 99.7891, loss_bbox: 0.2925, loss: 0.3269\n",
      "2022-05-26 18:32:45,494 - mmfewshot - INFO - Iter [86900/100000]\tlr: 1.000e-04, eta: 1:06:08, time: 0.267, data_time: 0.011, memory: 4571, loss_rpn_cls: 0.0056, loss_rpn_bbox: 0.0046, loss_cls: 0.0412, acc: 99.5859, loss_bbox: 0.3124, loss: 0.3638\n",
      "2022-05-26 18:32:58,876 - mmfewshot - INFO - Iter [86950/100000]\tlr: 1.000e-04, eta: 1:05:53, time: 0.268, data_time: 0.011, memory: 4571, loss_rpn_cls: 0.0089, loss_rpn_bbox: 0.0062, loss_cls: 0.0336, acc: 99.5859, loss_bbox: 0.2946, loss: 0.3432\n",
      "2022-05-26 18:33:12,433 - mmfewshot - INFO - Exp name: attention-rpn_r50_c4_tb-split2_1shot-fine-tuning-momentum-09.py\n",
      "2022-05-26 18:33:12,435 - mmfewshot - INFO - Iter [87000/100000]\tlr: 1.000e-04, eta: 1:05:37, time: 0.271, data_time: 0.013, memory: 4571, loss_rpn_cls: 0.0082, loss_rpn_bbox: 0.0047, loss_cls: 0.0269, acc: 99.7266, loss_bbox: 0.2517, loss: 0.2915\n",
      "2022-05-26 18:33:12,442 - mmdet - INFO - starting model initialization...\n"
     ]
    },
    {
     "name": "stdout",
     "output_type": "stream",
     "text": [
      "[>>>>>>>>>>>>>>>>>>>>>>>>>>>>>] 850/850, 79.8 task/s, elapsed: 11s, ETA:     0s"
     ]
    },
    {
     "name": "stderr",
     "output_type": "stream",
     "text": [
      "2022-05-26 18:33:23,169 - mmdet - INFO - model initialization done.\n"
     ]
    },
    {
     "name": "stdout",
     "output_type": "stream",
     "text": [
      "[>>>>>>>>>>>>>>>>>>>>>>>>>>>>>] 300/300, 12.6 task/s, elapsed: 24s, ETA:     0s\n",
      "---------------iou_thr: 0.5---------------\n"
     ]
    },
    {
     "name": "stderr",
     "output_type": "stream",
     "text": [
      "2022-05-26 18:33:47,397 - mmfewshot - INFO - \n",
      "+---------+-----+------+--------+-------+\n",
      "| class   | gts | dets | recall | ap    |\n",
      "+---------+-----+------+--------+-------+\n",
      "| fanta   | 291 | 1334 | 0.900  | 0.751 |\n",
      "| Mirinda | 111 | 558  | 0.784  | 0.593 |\n",
      "+---------+-----+------+--------+-------+\n",
      "| mAP     |     |      |        | 0.672 |\n",
      "+---------+-----+------+--------+-------+\n",
      "2022-05-26 18:33:47,400 - mmfewshot - INFO - BASE_CLASSES_SPLIT2 mAP: 0.6720702052116394\n",
      "2022-05-26 18:33:47,402 - mmfewshot - INFO - NOVEL_CLASSES_SPLIT2 mAP: nan\n",
      "2022-05-26 18:33:47,406 - mmfewshot - INFO - Exp name: attention-rpn_r50_c4_tb-split2_1shot-fine-tuning-momentum-09.py\n",
      "2022-05-26 18:33:47,408 - mmfewshot - INFO - Iter(val) [300]\tAP50: 0.6720, BASE_CLASSES_SPLIT2: AP50: 0.6720, NOVEL_CLASSES_SPLIT2: AP50: nan, mAP: 0.6721\n",
      "2022-05-26 18:34:01,059 - mmfewshot - INFO - Iter [87050/100000]\tlr: 1.000e-04, eta: 1:05:27, time: 0.972, data_time: 0.713, memory: 4571, loss_rpn_cls: 0.0102, loss_rpn_bbox: 0.0085, loss_cls: 0.0279, acc: 99.7109, loss_bbox: 0.3299, loss: 0.3765\n",
      "2022-05-26 18:34:14,571 - mmfewshot - INFO - Iter [87100/100000]\tlr: 1.000e-04, eta: 1:05:12, time: 0.270, data_time: 0.013, memory: 4571, loss_rpn_cls: 0.0055, loss_rpn_bbox: 0.0033, loss_cls: 0.0301, acc: 99.7109, loss_bbox: 0.2862, loss: 0.3250\n",
      "2022-05-26 18:34:28,196 - mmfewshot - INFO - Iter [87150/100000]\tlr: 1.000e-04, eta: 1:04:56, time: 0.272, data_time: 0.013, memory: 4571, loss_rpn_cls: 0.0067, loss_rpn_bbox: 0.0078, loss_cls: 0.0359, acc: 99.6953, loss_bbox: 0.3099, loss: 0.3604\n",
      "2022-05-26 18:34:41,644 - mmfewshot - INFO - Iter [87200/100000]\tlr: 1.000e-04, eta: 1:04:41, time: 0.269, data_time: 0.012, memory: 4571, loss_rpn_cls: 0.0048, loss_rpn_bbox: 0.0058, loss_cls: 0.0314, acc: 99.7578, loss_bbox: 0.2579, loss: 0.2999\n",
      "2022-05-26 18:34:55,121 - mmfewshot - INFO - Iter [87250/100000]\tlr: 1.000e-04, eta: 1:04:25, time: 0.269, data_time: 0.012, memory: 4571, loss_rpn_cls: 0.0048, loss_rpn_bbox: 0.0036, loss_cls: 0.0389, acc: 99.6641, loss_bbox: 0.2771, loss: 0.3244\n",
      "2022-05-26 18:35:08,509 - mmfewshot - INFO - Iter [87300/100000]\tlr: 1.000e-04, eta: 1:04:10, time: 0.268, data_time: 0.012, memory: 4571, loss_rpn_cls: 0.0052, loss_rpn_bbox: 0.0048, loss_cls: 0.0365, acc: 99.6094, loss_bbox: 0.3259, loss: 0.3724\n",
      "2022-05-26 18:35:21,987 - mmfewshot - INFO - Iter [87350/100000]\tlr: 1.000e-04, eta: 1:03:55, time: 0.270, data_time: 0.011, memory: 4571, loss_rpn_cls: 0.0046, loss_rpn_bbox: 0.0029, loss_cls: 0.0275, acc: 99.7109, loss_bbox: 0.2799, loss: 0.3149\n",
      "2022-05-26 18:35:35,564 - mmfewshot - INFO - Iter [87400/100000]\tlr: 1.000e-04, eta: 1:03:39, time: 0.272, data_time: 0.013, memory: 4571, loss_rpn_cls: 0.0062, loss_rpn_bbox: 0.0060, loss_cls: 0.0314, acc: 99.6484, loss_bbox: 0.3106, loss: 0.3543\n",
      "2022-05-26 18:35:49,060 - mmfewshot - INFO - Iter [87450/100000]\tlr: 1.000e-04, eta: 1:03:24, time: 0.270, data_time: 0.012, memory: 4571, loss_rpn_cls: 0.0091, loss_rpn_bbox: 0.0043, loss_cls: 0.0322, acc: 99.7109, loss_bbox: 0.2974, loss: 0.3429\n",
      "2022-05-26 18:36:02,515 - mmfewshot - INFO - Iter [87500/100000]\tlr: 1.000e-04, eta: 1:03:08, time: 0.269, data_time: 0.012, memory: 4571, loss_rpn_cls: 0.0057, loss_rpn_bbox: 0.0062, loss_cls: 0.0335, acc: 99.6719, loss_bbox: 0.2666, loss: 0.3119\n",
      "2022-05-26 18:36:15,846 - mmfewshot - INFO - Iter [87550/100000]\tlr: 1.000e-04, eta: 1:02:53, time: 0.267, data_time: 0.011, memory: 4571, loss_rpn_cls: 0.0067, loss_rpn_bbox: 0.0057, loss_cls: 0.0395, acc: 99.6406, loss_bbox: 0.3060, loss: 0.3579\n",
      "2022-05-26 18:36:29,316 - mmfewshot - INFO - Iter [87600/100000]\tlr: 1.000e-04, eta: 1:02:38, time: 0.269, data_time: 0.012, memory: 4571, loss_rpn_cls: 0.0047, loss_rpn_bbox: 0.0044, loss_cls: 0.0252, acc: 99.7188, loss_bbox: 0.3176, loss: 0.3519\n",
      "2022-05-26 18:36:42,854 - mmfewshot - INFO - Iter [87650/100000]\tlr: 1.000e-04, eta: 1:02:22, time: 0.271, data_time: 0.012, memory: 4571, loss_rpn_cls: 0.0043, loss_rpn_bbox: 0.0040, loss_cls: 0.0446, acc: 99.5625, loss_bbox: 0.3104, loss: 0.3633\n",
      "2022-05-26 18:36:56,353 - mmfewshot - INFO - Iter [87700/100000]\tlr: 1.000e-04, eta: 1:02:07, time: 0.270, data_time: 0.012, memory: 4571, loss_rpn_cls: 0.0056, loss_rpn_bbox: 0.0039, loss_cls: 0.0305, acc: 99.7344, loss_bbox: 0.2455, loss: 0.2855\n",
      "2022-05-26 18:37:09,871 - mmfewshot - INFO - Iter [87750/100000]\tlr: 1.000e-04, eta: 1:01:51, time: 0.270, data_time: 0.012, memory: 4571, loss_rpn_cls: 0.0103, loss_rpn_bbox: 0.0070, loss_cls: 0.0365, acc: 99.6719, loss_bbox: 0.3058, loss: 0.3595\n",
      "2022-05-26 18:37:23,365 - mmfewshot - INFO - Iter [87800/100000]\tlr: 1.000e-04, eta: 1:01:36, time: 0.270, data_time: 0.013, memory: 4571, loss_rpn_cls: 0.0054, loss_rpn_bbox: 0.0050, loss_cls: 0.0315, acc: 99.6406, loss_bbox: 0.3196, loss: 0.3615\n",
      "2022-05-26 18:37:36,945 - mmfewshot - INFO - Iter [87850/100000]\tlr: 1.000e-04, eta: 1:01:21, time: 0.272, data_time: 0.013, memory: 4571, loss_rpn_cls: 0.0044, loss_rpn_bbox: 0.0035, loss_cls: 0.0373, acc: 99.5781, loss_bbox: 0.2970, loss: 0.3422\n",
      "2022-05-26 18:37:50,402 - mmfewshot - INFO - Iter [87900/100000]\tlr: 1.000e-04, eta: 1:01:05, time: 0.269, data_time: 0.013, memory: 4571, loss_rpn_cls: 0.0063, loss_rpn_bbox: 0.0054, loss_cls: 0.0287, acc: 99.7266, loss_bbox: 0.3282, loss: 0.3685\n",
      "2022-05-26 18:38:03,887 - mmfewshot - INFO - Iter [87950/100000]\tlr: 1.000e-04, eta: 1:00:50, time: 0.270, data_time: 0.013, memory: 4571, loss_rpn_cls: 0.0085, loss_rpn_bbox: 0.0046, loss_cls: 0.0402, acc: 99.6562, loss_bbox: 0.2832, loss: 0.3365\n",
      "2022-05-26 18:38:17,407 - mmfewshot - INFO - Exp name: attention-rpn_r50_c4_tb-split2_1shot-fine-tuning-momentum-09.py\n",
      "2022-05-26 18:38:17,409 - mmfewshot - INFO - Iter [88000/100000]\tlr: 1.000e-04, eta: 1:00:35, time: 0.270, data_time: 0.013, memory: 4571, loss_rpn_cls: 0.0068, loss_rpn_bbox: 0.0061, loss_cls: 0.0296, acc: 99.6797, loss_bbox: 0.3038, loss: 0.3463\n",
      "2022-05-26 18:38:17,414 - mmdet - INFO - starting model initialization...\n"
     ]
    },
    {
     "name": "stdout",
     "output_type": "stream",
     "text": [
      "[>>>>>>>>>>>>>>>>>>>>>>>>>>>>>] 850/850, 74.8 task/s, elapsed: 11s, ETA:     0s"
     ]
    },
    {
     "name": "stderr",
     "output_type": "stream",
     "text": [
      "2022-05-26 18:38:28,862 - mmdet - INFO - model initialization done.\n"
     ]
    },
    {
     "name": "stdout",
     "output_type": "stream",
     "text": [
      "[>>>>>>>>>>>>>>>>>>>>>>>>>>>>>] 300/300, 12.6 task/s, elapsed: 24s, ETA:     0s\n",
      "---------------iou_thr: 0.5---------------\n"
     ]
    },
    {
     "name": "stderr",
     "output_type": "stream",
     "text": [
      "2022-05-26 18:38:52,983 - mmfewshot - INFO - \n",
      "+---------+-----+------+--------+-------+\n",
      "| class   | gts | dets | recall | ap    |\n",
      "+---------+-----+------+--------+-------+\n",
      "| fanta   | 291 | 1533 | 0.918  | 0.779 |\n",
      "| Mirinda | 111 | 656  | 0.793  | 0.656 |\n",
      "+---------+-----+------+--------+-------+\n",
      "| mAP     |     |      |        | 0.718 |\n",
      "+---------+-----+------+--------+-------+\n",
      "2022-05-26 18:38:52,987 - mmfewshot - INFO - BASE_CLASSES_SPLIT2 mAP: 0.7178694009780884\n",
      "2022-05-26 18:38:52,987 - mmfewshot - INFO - NOVEL_CLASSES_SPLIT2 mAP: nan\n",
      "2022-05-26 18:38:52,992 - mmfewshot - INFO - Exp name: attention-rpn_r50_c4_tb-split2_1shot-fine-tuning-momentum-09.py\n",
      "2022-05-26 18:38:52,993 - mmfewshot - INFO - Iter(val) [300]\tAP50: 0.7180, BASE_CLASSES_SPLIT2: AP50: 0.7180, NOVEL_CLASSES_SPLIT2: AP50: nan, mAP: 0.7179\n",
      "2022-05-26 18:39:06,535 - mmfewshot - INFO - Iter [88050/100000]\tlr: 1.000e-04, eta: 1:00:24, time: 0.982, data_time: 0.724, memory: 4571, loss_rpn_cls: 0.0084, loss_rpn_bbox: 0.0071, loss_cls: 0.0344, acc: 99.6094, loss_bbox: 0.3528, loss: 0.4028\n",
      "2022-05-26 18:39:20,134 - mmfewshot - INFO - Iter [88100/100000]\tlr: 1.000e-04, eta: 1:00:09, time: 0.272, data_time: 0.013, memory: 4571, loss_rpn_cls: 0.0056, loss_rpn_bbox: 0.0041, loss_cls: 0.0353, acc: 99.6719, loss_bbox: 0.2791, loss: 0.3241\n",
      "2022-05-26 18:39:33,641 - mmfewshot - INFO - Iter [88150/100000]\tlr: 1.000e-04, eta: 0:59:53, time: 0.270, data_time: 0.013, memory: 4571, loss_rpn_cls: 0.0102, loss_rpn_bbox: 0.0048, loss_cls: 0.0349, acc: 99.6250, loss_bbox: 0.2798, loss: 0.3297\n",
      "2022-05-26 18:39:47,150 - mmfewshot - INFO - Iter [88200/100000]\tlr: 1.000e-04, eta: 0:59:38, time: 0.270, data_time: 0.013, memory: 4571, loss_rpn_cls: 0.0062, loss_rpn_bbox: 0.0040, loss_cls: 0.0277, acc: 99.6953, loss_bbox: 0.2986, loss: 0.3366\n",
      "2022-05-26 18:40:00,534 - mmfewshot - INFO - Iter [88250/100000]\tlr: 1.000e-04, eta: 0:59:22, time: 0.267, data_time: 0.011, memory: 4571, loss_rpn_cls: 0.0048, loss_rpn_bbox: 0.0051, loss_cls: 0.0426, acc: 99.6562, loss_bbox: 0.2824, loss: 0.3349\n",
      "2022-05-26 18:40:13,902 - mmfewshot - INFO - Iter [88300/100000]\tlr: 1.000e-04, eta: 0:59:07, time: 0.267, data_time: 0.012, memory: 4571, loss_rpn_cls: 0.0060, loss_rpn_bbox: 0.0057, loss_cls: 0.0395, acc: 99.5781, loss_bbox: 0.3187, loss: 0.3698\n",
      "2022-05-26 18:40:27,397 - mmfewshot - INFO - Iter [88350/100000]\tlr: 1.000e-04, eta: 0:58:52, time: 0.270, data_time: 0.012, memory: 4571, loss_rpn_cls: 0.0049, loss_rpn_bbox: 0.0050, loss_cls: 0.0441, acc: 99.6641, loss_bbox: 0.2844, loss: 0.3383\n",
      "2022-05-26 18:40:40,839 - mmfewshot - INFO - Iter [88400/100000]\tlr: 1.000e-04, eta: 0:58:36, time: 0.269, data_time: 0.012, memory: 4571, loss_rpn_cls: 0.0050, loss_rpn_bbox: 0.0037, loss_cls: 0.0562, acc: 99.5078, loss_bbox: 0.2904, loss: 0.3552\n",
      "2022-05-26 18:40:54,308 - mmfewshot - INFO - Iter [88450/100000]\tlr: 1.000e-04, eta: 0:58:21, time: 0.269, data_time: 0.012, memory: 4571, loss_rpn_cls: 0.0087, loss_rpn_bbox: 0.0060, loss_cls: 0.0432, acc: 99.6016, loss_bbox: 0.2986, loss: 0.3565\n",
      "2022-05-26 18:41:07,902 - mmfewshot - INFO - Iter [88500/100000]\tlr: 1.000e-04, eta: 0:58:06, time: 0.272, data_time: 0.013, memory: 4571, loss_rpn_cls: 0.0099, loss_rpn_bbox: 0.0101, loss_cls: 0.0264, acc: 99.6875, loss_bbox: 0.3001, loss: 0.3465\n",
      "2022-05-26 18:41:21,340 - mmfewshot - INFO - Iter [88550/100000]\tlr: 1.000e-04, eta: 0:57:50, time: 0.269, data_time: 0.012, memory: 4571, loss_rpn_cls: 0.0056, loss_rpn_bbox: 0.0033, loss_cls: 0.0391, acc: 99.7344, loss_bbox: 0.2793, loss: 0.3274\n",
      "2022-05-26 18:41:34,773 - mmfewshot - INFO - Iter [88600/100000]\tlr: 1.000e-04, eta: 0:57:35, time: 0.269, data_time: 0.010, memory: 4571, loss_rpn_cls: 0.0070, loss_rpn_bbox: 0.0058, loss_cls: 0.0364, acc: 99.6484, loss_bbox: 0.2839, loss: 0.3331\n",
      "2022-05-26 18:41:48,242 - mmfewshot - INFO - Iter [88650/100000]\tlr: 1.000e-04, eta: 0:57:19, time: 0.269, data_time: 0.012, memory: 4571, loss_rpn_cls: 0.0062, loss_rpn_bbox: 0.0045, loss_cls: 0.0374, acc: 99.7422, loss_bbox: 0.2565, loss: 0.3046\n",
      "2022-05-26 18:42:01,672 - mmfewshot - INFO - Iter [88700/100000]\tlr: 1.000e-04, eta: 0:57:04, time: 0.269, data_time: 0.013, memory: 4571, loss_rpn_cls: 0.0043, loss_rpn_bbox: 0.0024, loss_cls: 0.0396, acc: 99.6484, loss_bbox: 0.2742, loss: 0.3205\n",
      "2022-05-26 18:42:15,198 - mmfewshot - INFO - Iter [88750/100000]\tlr: 1.000e-04, eta: 0:56:49, time: 0.271, data_time: 0.013, memory: 4571, loss_rpn_cls: 0.0048, loss_rpn_bbox: 0.0052, loss_cls: 0.0379, acc: 99.6562, loss_bbox: 0.2895, loss: 0.3375\n",
      "2022-05-26 18:42:28,619 - mmfewshot - INFO - Iter [88800/100000]\tlr: 1.000e-04, eta: 0:56:33, time: 0.268, data_time: 0.012, memory: 4571, loss_rpn_cls: 0.0060, loss_rpn_bbox: 0.0045, loss_cls: 0.0373, acc: 99.6484, loss_bbox: 0.2851, loss: 0.3330\n",
      "2022-05-26 18:42:42,074 - mmfewshot - INFO - Iter [88850/100000]\tlr: 1.000e-04, eta: 0:56:18, time: 0.269, data_time: 0.013, memory: 4571, loss_rpn_cls: 0.0048, loss_rpn_bbox: 0.0036, loss_cls: 0.0317, acc: 99.7109, loss_bbox: 0.2866, loss: 0.3268\n",
      "2022-05-26 18:42:55,593 - mmfewshot - INFO - Iter [88900/100000]\tlr: 1.000e-04, eta: 0:56:03, time: 0.271, data_time: 0.013, memory: 4571, loss_rpn_cls: 0.0078, loss_rpn_bbox: 0.0063, loss_cls: 0.0283, acc: 99.6406, loss_bbox: 0.3511, loss: 0.3935\n",
      "2022-05-26 18:43:09,014 - mmfewshot - INFO - Iter [88950/100000]\tlr: 1.000e-04, eta: 0:55:47, time: 0.268, data_time: 0.012, memory: 4571, loss_rpn_cls: 0.0055, loss_rpn_bbox: 0.0060, loss_cls: 0.0355, acc: 99.6328, loss_bbox: 0.3315, loss: 0.3784\n",
      "2022-05-26 18:43:22,460 - mmfewshot - INFO - Exp name: attention-rpn_r50_c4_tb-split2_1shot-fine-tuning-momentum-09.py\n",
      "2022-05-26 18:43:22,461 - mmfewshot - INFO - Iter [89000/100000]\tlr: 1.000e-04, eta: 0:55:32, time: 0.269, data_time: 0.012, memory: 4571, loss_rpn_cls: 0.0063, loss_rpn_bbox: 0.0035, loss_cls: 0.0289, acc: 99.7344, loss_bbox: 0.2926, loss: 0.3313\n",
      "2022-05-26 18:43:22,467 - mmdet - INFO - starting model initialization...\n"
     ]
    },
    {
     "name": "stdout",
     "output_type": "stream",
     "text": [
      "[>>>>>>>>>>>>>>>>>>>>>>>>>>>>>] 850/850, 76.5 task/s, elapsed: 11s, ETA:     0s"
     ]
    },
    {
     "name": "stderr",
     "output_type": "stream",
     "text": [
      "2022-05-26 18:43:33,662 - mmdet - INFO - model initialization done.\n"
     ]
    },
    {
     "name": "stdout",
     "output_type": "stream",
     "text": [
      "[>>>>>>>>>>>>>>>>>>>>>>>>>>>>>] 300/300, 12.5 task/s, elapsed: 24s, ETA:     0s\n",
      "---------------iou_thr: 0.5---------------\n"
     ]
    },
    {
     "name": "stderr",
     "output_type": "stream",
     "text": [
      "2022-05-26 18:43:58,027 - mmfewshot - INFO - \n",
      "+---------+-----+------+--------+-------+\n",
      "| class   | gts | dets | recall | ap    |\n",
      "+---------+-----+------+--------+-------+\n",
      "| fanta   | 291 | 1232 | 0.883  | 0.761 |\n",
      "| Mirinda | 111 | 454  | 0.775  | 0.623 |\n",
      "+---------+-----+------+--------+-------+\n",
      "| mAP     |     |      |        | 0.692 |\n",
      "+---------+-----+------+--------+-------+\n",
      "2022-05-26 18:43:58,030 - mmfewshot - INFO - BASE_CLASSES_SPLIT2 mAP: 0.6919082403182983\n",
      "2022-05-26 18:43:58,031 - mmfewshot - INFO - NOVEL_CLASSES_SPLIT2 mAP: nan\n",
      "2022-05-26 18:43:58,034 - mmfewshot - INFO - Exp name: attention-rpn_r50_c4_tb-split2_1shot-fine-tuning-momentum-09.py\n",
      "2022-05-26 18:43:58,034 - mmfewshot - INFO - Iter(val) [300]\tAP50: 0.6920, BASE_CLASSES_SPLIT2: AP50: 0.6920, NOVEL_CLASSES_SPLIT2: AP50: nan, mAP: 0.6919\n",
      "2022-05-26 18:44:11,540 - mmfewshot - INFO - Iter [89050/100000]\tlr: 1.000e-04, eta: 0:55:21, time: 0.982, data_time: 0.724, memory: 4571, loss_rpn_cls: 0.0060, loss_rpn_bbox: 0.0047, loss_cls: 0.0341, acc: 99.6797, loss_bbox: 0.2971, loss: 0.3419\n",
      "2022-05-26 18:44:25,073 - mmfewshot - INFO - Iter [89100/100000]\tlr: 1.000e-04, eta: 0:55:06, time: 0.271, data_time: 0.013, memory: 4571, loss_rpn_cls: 0.0067, loss_rpn_bbox: 0.0044, loss_cls: 0.0337, acc: 99.7188, loss_bbox: 0.2592, loss: 0.3040\n",
      "2022-05-26 18:44:38,567 - mmfewshot - INFO - Iter [89150/100000]\tlr: 1.000e-04, eta: 0:54:50, time: 0.270, data_time: 0.013, memory: 4571, loss_rpn_cls: 0.0065, loss_rpn_bbox: 0.0060, loss_cls: 0.0468, acc: 99.6094, loss_bbox: 0.2728, loss: 0.3321\n",
      "2022-05-26 18:44:52,194 - mmfewshot - INFO - Iter [89200/100000]\tlr: 1.000e-04, eta: 0:54:35, time: 0.273, data_time: 0.013, memory: 4571, loss_rpn_cls: 0.0052, loss_rpn_bbox: 0.0037, loss_cls: 0.0337, acc: 99.7031, loss_bbox: 0.2938, loss: 0.3364\n",
      "2022-05-26 18:45:05,687 - mmfewshot - INFO - Iter [89250/100000]\tlr: 1.000e-04, eta: 0:54:19, time: 0.270, data_time: 0.013, memory: 4571, loss_rpn_cls: 0.0067, loss_rpn_bbox: 0.0051, loss_cls: 0.0313, acc: 99.6562, loss_bbox: 0.3184, loss: 0.3616\n",
      "2022-05-26 18:45:19,212 - mmfewshot - INFO - Iter [89300/100000]\tlr: 1.000e-04, eta: 0:54:04, time: 0.270, data_time: 0.012, memory: 4571, loss_rpn_cls: 0.0103, loss_rpn_bbox: 0.0093, loss_cls: 0.0413, acc: 99.6406, loss_bbox: 0.2693, loss: 0.3302\n",
      "2022-05-26 18:45:32,698 - mmfewshot - INFO - Iter [89350/100000]\tlr: 1.000e-04, eta: 0:53:49, time: 0.270, data_time: 0.013, memory: 4571, loss_rpn_cls: 0.0065, loss_rpn_bbox: 0.0054, loss_cls: 0.0317, acc: 99.7188, loss_bbox: 0.2872, loss: 0.3307\n",
      "2022-05-26 18:45:46,116 - mmfewshot - INFO - Iter [89400/100000]\tlr: 1.000e-04, eta: 0:53:33, time: 0.268, data_time: 0.012, memory: 4571, loss_rpn_cls: 0.0090, loss_rpn_bbox: 0.0079, loss_cls: 0.0259, acc: 99.7266, loss_bbox: 0.3277, loss: 0.3705\n",
      "2022-05-26 18:45:59,626 - mmfewshot - INFO - Iter [89450/100000]\tlr: 1.000e-04, eta: 0:53:18, time: 0.270, data_time: 0.012, memory: 4571, loss_rpn_cls: 0.0074, loss_rpn_bbox: 0.0082, loss_cls: 0.0333, acc: 99.5938, loss_bbox: 0.3307, loss: 0.3796\n",
      "2022-05-26 18:46:13,125 - mmfewshot - INFO - Iter [89500/100000]\tlr: 1.000e-04, eta: 0:53:03, time: 0.270, data_time: 0.012, memory: 4571, loss_rpn_cls: 0.0067, loss_rpn_bbox: 0.0037, loss_cls: 0.0327, acc: 99.6562, loss_bbox: 0.2701, loss: 0.3132\n",
      "2022-05-26 18:46:26,655 - mmfewshot - INFO - Iter [89550/100000]\tlr: 1.000e-04, eta: 0:52:47, time: 0.270, data_time: 0.012, memory: 4571, loss_rpn_cls: 0.0040, loss_rpn_bbox: 0.0029, loss_cls: 0.0340, acc: 99.6172, loss_bbox: 0.2814, loss: 0.3224\n",
      "2022-05-26 18:46:40,186 - mmfewshot - INFO - Iter [89600/100000]\tlr: 1.000e-04, eta: 0:52:32, time: 0.271, data_time: 0.012, memory: 4571, loss_rpn_cls: 0.0082, loss_rpn_bbox: 0.0034, loss_cls: 0.0337, acc: 99.6484, loss_bbox: 0.2742, loss: 0.3195\n",
      "2022-05-26 18:46:53,687 - mmfewshot - INFO - Iter [89650/100000]\tlr: 1.000e-04, eta: 0:52:17, time: 0.270, data_time: 0.012, memory: 4571, loss_rpn_cls: 0.0085, loss_rpn_bbox: 0.0061, loss_cls: 0.0419, acc: 99.6250, loss_bbox: 0.2809, loss: 0.3374\n",
      "2022-05-26 18:47:07,117 - mmfewshot - INFO - Iter [89700/100000]\tlr: 1.000e-04, eta: 0:52:01, time: 0.269, data_time: 0.011, memory: 4571, loss_rpn_cls: 0.0080, loss_rpn_bbox: 0.0042, loss_cls: 0.0366, acc: 99.6953, loss_bbox: 0.2640, loss: 0.3128\n",
      "2022-05-26 18:47:20,621 - mmfewshot - INFO - Iter [89750/100000]\tlr: 1.000e-04, eta: 0:51:46, time: 0.270, data_time: 0.013, memory: 4571, loss_rpn_cls: 0.0074, loss_rpn_bbox: 0.0053, loss_cls: 0.0558, acc: 99.6172, loss_bbox: 0.2888, loss: 0.3573\n",
      "2022-05-26 18:47:34,072 - mmfewshot - INFO - Iter [89800/100000]\tlr: 1.000e-04, eta: 0:51:31, time: 0.269, data_time: 0.013, memory: 4571, loss_rpn_cls: 0.0059, loss_rpn_bbox: 0.0050, loss_cls: 0.0299, acc: 99.6719, loss_bbox: 0.3272, loss: 0.3681\n",
      "2022-05-26 18:47:47,459 - mmfewshot - INFO - Iter [89850/100000]\tlr: 1.000e-04, eta: 0:51:15, time: 0.268, data_time: 0.012, memory: 4571, loss_rpn_cls: 0.0046, loss_rpn_bbox: 0.0038, loss_cls: 0.0298, acc: 99.6641, loss_bbox: 0.2776, loss: 0.3157\n",
      "2022-05-26 18:48:00,919 - mmfewshot - INFO - Iter [89900/100000]\tlr: 1.000e-04, eta: 0:51:00, time: 0.269, data_time: 0.012, memory: 4571, loss_rpn_cls: 0.0082, loss_rpn_bbox: 0.0060, loss_cls: 0.0478, acc: 99.5625, loss_bbox: 0.3104, loss: 0.3724\n",
      "2022-05-26 18:48:14,345 - mmfewshot - INFO - Iter [89950/100000]\tlr: 1.000e-04, eta: 0:50:45, time: 0.268, data_time: 0.012, memory: 4571, loss_rpn_cls: 0.0040, loss_rpn_bbox: 0.0030, loss_cls: 0.0348, acc: 99.7188, loss_bbox: 0.2595, loss: 0.3013\n",
      "2022-05-26 18:48:27,754 - mmfewshot - INFO - Saving checkpoint at 90000 iterations\n",
      "2022-05-26 18:48:29,515 - mmfewshot - INFO - Exp name: attention-rpn_r50_c4_tb-split2_1shot-fine-tuning-momentum-09.py\n",
      "2022-05-26 18:48:29,516 - mmfewshot - INFO - Iter [90000/100000]\tlr: 1.000e-04, eta: 0:50:29, time: 0.306, data_time: 0.013, memory: 4571, loss_rpn_cls: 0.0084, loss_rpn_bbox: 0.0060, loss_cls: 0.0314, acc: 99.6406, loss_bbox: 0.3298, loss: 0.3757\n",
      "2022-05-26 18:48:29,521 - mmdet - INFO - starting model initialization...\n"
     ]
    },
    {
     "name": "stdout",
     "output_type": "stream",
     "text": [
      "[>>>>>>>>>>>>>>>>>>>>>>>>>>>>>] 850/850, 76.6 task/s, elapsed: 11s, ETA:     0s"
     ]
    },
    {
     "name": "stderr",
     "output_type": "stream",
     "text": [
      "2022-05-26 18:48:40,696 - mmdet - INFO - model initialization done.\n"
     ]
    },
    {
     "name": "stdout",
     "output_type": "stream",
     "text": [
      "[>>>>>>>>>>>>>>>>>>>>>>>>>>>>>] 300/300, 12.5 task/s, elapsed: 24s, ETA:     0s\n",
      "---------------iou_thr: 0.5---------------\n"
     ]
    },
    {
     "name": "stderr",
     "output_type": "stream",
     "text": [
      "2022-05-26 18:49:04,999 - mmfewshot - INFO - \n",
      "+---------+-----+------+--------+-------+\n",
      "| class   | gts | dets | recall | ap    |\n",
      "+---------+-----+------+--------+-------+\n",
      "| fanta   | 291 | 1480 | 0.890  | 0.750 |\n",
      "| Mirinda | 111 | 435  | 0.784  | 0.615 |\n",
      "+---------+-----+------+--------+-------+\n",
      "| mAP     |     |      |        | 0.682 |\n",
      "+---------+-----+------+--------+-------+\n",
      "2022-05-26 18:49:05,002 - mmfewshot - INFO - BASE_CLASSES_SPLIT2 mAP: 0.6823732852935791\n",
      "2022-05-26 18:49:05,003 - mmfewshot - INFO - NOVEL_CLASSES_SPLIT2 mAP: nan\n",
      "2022-05-26 18:49:05,007 - mmfewshot - INFO - Exp name: attention-rpn_r50_c4_tb-split2_1shot-fine-tuning-momentum-09.py\n",
      "2022-05-26 18:49:05,008 - mmfewshot - INFO - Iter(val) [300]\tAP50: 0.6820, BASE_CLASSES_SPLIT2: AP50: 0.6820, NOVEL_CLASSES_SPLIT2: AP50: nan, mAP: 0.6824\n",
      "2022-05-26 18:49:18,480 - mmfewshot - INFO - Iter [90050/100000]\tlr: 1.000e-04, eta: 0:50:18, time: 0.977, data_time: 0.720, memory: 4571, loss_rpn_cls: 0.0074, loss_rpn_bbox: 0.0084, loss_cls: 0.0284, acc: 99.6875, loss_bbox: 0.3173, loss: 0.3614\n",
      "2022-05-26 18:49:31,979 - mmfewshot - INFO - Iter [90100/100000]\tlr: 1.000e-04, eta: 0:50:03, time: 0.270, data_time: 0.012, memory: 4571, loss_rpn_cls: 0.0056, loss_rpn_bbox: 0.0043, loss_cls: 0.0353, acc: 99.6328, loss_bbox: 0.2834, loss: 0.3285\n",
      "2022-05-26 18:49:45,547 - mmfewshot - INFO - Iter [90150/100000]\tlr: 1.000e-04, eta: 0:49:47, time: 0.271, data_time: 0.012, memory: 4571, loss_rpn_cls: 0.0079, loss_rpn_bbox: 0.0035, loss_cls: 0.0234, acc: 99.7578, loss_bbox: 0.2874, loss: 0.3222\n",
      "2022-05-26 18:49:58,966 - mmfewshot - INFO - Iter [90200/100000]\tlr: 1.000e-04, eta: 0:49:32, time: 0.268, data_time: 0.012, memory: 4571, loss_rpn_cls: 0.0070, loss_rpn_bbox: 0.0042, loss_cls: 0.0363, acc: 99.6094, loss_bbox: 0.2974, loss: 0.3449\n",
      "2022-05-26 18:50:12,410 - mmfewshot - INFO - Iter [90250/100000]\tlr: 1.000e-04, eta: 0:49:17, time: 0.269, data_time: 0.012, memory: 4571, loss_rpn_cls: 0.0054, loss_rpn_bbox: 0.0050, loss_cls: 0.0533, acc: 99.5781, loss_bbox: 0.2679, loss: 0.3315\n",
      "2022-05-26 18:50:25,842 - mmfewshot - INFO - Iter [90300/100000]\tlr: 1.000e-04, eta: 0:49:01, time: 0.268, data_time: 0.012, memory: 4571, loss_rpn_cls: 0.0063, loss_rpn_bbox: 0.0036, loss_cls: 0.0376, acc: 99.5781, loss_bbox: 0.2673, loss: 0.3149\n",
      "2022-05-26 18:50:39,421 - mmfewshot - INFO - Iter [90350/100000]\tlr: 1.000e-04, eta: 0:48:46, time: 0.272, data_time: 0.013, memory: 4571, loss_rpn_cls: 0.0151, loss_rpn_bbox: 0.0068, loss_cls: 0.0306, acc: 99.6797, loss_bbox: 0.3078, loss: 0.3603\n",
      "2022-05-26 18:50:52,802 - mmfewshot - INFO - Iter [90400/100000]\tlr: 1.000e-04, eta: 0:48:31, time: 0.268, data_time: 0.012, memory: 4571, loss_rpn_cls: 0.0077, loss_rpn_bbox: 0.0057, loss_cls: 0.0339, acc: 99.7188, loss_bbox: 0.2977, loss: 0.3451\n",
      "2022-05-26 18:51:06,372 - mmfewshot - INFO - Iter [90450/100000]\tlr: 1.000e-04, eta: 0:48:15, time: 0.271, data_time: 0.013, memory: 4571, loss_rpn_cls: 0.0048, loss_rpn_bbox: 0.0032, loss_cls: 0.0340, acc: 99.7344, loss_bbox: 0.2705, loss: 0.3124\n",
      "2022-05-26 18:51:19,757 - mmfewshot - INFO - Iter [90500/100000]\tlr: 1.000e-04, eta: 0:48:00, time: 0.268, data_time: 0.012, memory: 4571, loss_rpn_cls: 0.0046, loss_rpn_bbox: 0.0053, loss_cls: 0.0364, acc: 99.6406, loss_bbox: 0.3027, loss: 0.3491\n",
      "2022-05-26 18:51:33,329 - mmfewshot - INFO - Iter [90550/100000]\tlr: 1.000e-04, eta: 0:47:45, time: 0.271, data_time: 0.012, memory: 4571, loss_rpn_cls: 0.0046, loss_rpn_bbox: 0.0041, loss_cls: 0.0530, acc: 99.4922, loss_bbox: 0.2851, loss: 0.3467\n",
      "2022-05-26 18:51:46,845 - mmfewshot - INFO - Iter [90600/100000]\tlr: 1.000e-04, eta: 0:47:29, time: 0.270, data_time: 0.013, memory: 4571, loss_rpn_cls: 0.0067, loss_rpn_bbox: 0.0068, loss_cls: 0.0421, acc: 99.6172, loss_bbox: 0.2813, loss: 0.3369\n",
      "2022-05-26 18:52:00,418 - mmfewshot - INFO - Iter [90650/100000]\tlr: 1.000e-04, eta: 0:47:14, time: 0.272, data_time: 0.013, memory: 4571, loss_rpn_cls: 0.0058, loss_rpn_bbox: 0.0035, loss_cls: 0.0334, acc: 99.7812, loss_bbox: 0.2444, loss: 0.2872\n",
      "2022-05-26 18:52:13,908 - mmfewshot - INFO - Iter [90700/100000]\tlr: 1.000e-04, eta: 0:46:59, time: 0.270, data_time: 0.012, memory: 4571, loss_rpn_cls: 0.0124, loss_rpn_bbox: 0.0081, loss_cls: 0.0307, acc: 99.6875, loss_bbox: 0.2791, loss: 0.3303\n",
      "2022-05-26 18:52:27,443 - mmfewshot - INFO - Iter [90750/100000]\tlr: 1.000e-04, eta: 0:46:43, time: 0.271, data_time: 0.012, memory: 4571, loss_rpn_cls: 0.0074, loss_rpn_bbox: 0.0054, loss_cls: 0.0612, acc: 99.5078, loss_bbox: 0.3149, loss: 0.3888\n",
      "2022-05-26 18:52:40,979 - mmfewshot - INFO - Iter [90800/100000]\tlr: 1.000e-04, eta: 0:46:28, time: 0.270, data_time: 0.012, memory: 4571, loss_rpn_cls: 0.0052, loss_rpn_bbox: 0.0032, loss_cls: 0.0343, acc: 99.6953, loss_bbox: 0.2734, loss: 0.3161\n",
      "2022-05-26 18:52:54,531 - mmfewshot - INFO - Iter [90850/100000]\tlr: 1.000e-04, eta: 0:46:13, time: 0.271, data_time: 0.014, memory: 4571, loss_rpn_cls: 0.0068, loss_rpn_bbox: 0.0048, loss_cls: 0.0308, acc: 99.6953, loss_bbox: 0.2992, loss: 0.3416\n",
      "2022-05-26 18:53:08,002 - mmfewshot - INFO - Iter [90900/100000]\tlr: 1.000e-04, eta: 0:45:57, time: 0.269, data_time: 0.012, memory: 4571, loss_rpn_cls: 0.0083, loss_rpn_bbox: 0.0071, loss_cls: 0.0312, acc: 99.7266, loss_bbox: 0.3379, loss: 0.3846\n",
      "2022-05-26 18:53:21,365 - mmfewshot - INFO - Iter [90950/100000]\tlr: 1.000e-04, eta: 0:45:42, time: 0.267, data_time: 0.010, memory: 4571, loss_rpn_cls: 0.0051, loss_rpn_bbox: 0.0030, loss_cls: 0.0327, acc: 99.6719, loss_bbox: 0.3094, loss: 0.3502\n",
      "2022-05-26 18:53:34,645 - mmfewshot - INFO - Exp name: attention-rpn_r50_c4_tb-split2_1shot-fine-tuning-momentum-09.py\n",
      "2022-05-26 18:53:34,647 - mmfewshot - INFO - Iter [91000/100000]\tlr: 1.000e-04, eta: 0:45:27, time: 0.266, data_time: 0.011, memory: 4571, loss_rpn_cls: 0.0044, loss_rpn_bbox: 0.0037, loss_cls: 0.0279, acc: 99.6953, loss_bbox: 0.3155, loss: 0.3516\n",
      "2022-05-26 18:53:34,652 - mmdet - INFO - starting model initialization...\n"
     ]
    },
    {
     "name": "stdout",
     "output_type": "stream",
     "text": [
      "[>>>>>>>>>>>>>>>>>>>>>>>>>>>>>] 850/850, 76.7 task/s, elapsed: 11s, ETA:     0s"
     ]
    },
    {
     "name": "stderr",
     "output_type": "stream",
     "text": [
      "2022-05-26 18:53:45,825 - mmdet - INFO - model initialization done.\n"
     ]
    },
    {
     "name": "stdout",
     "output_type": "stream",
     "text": [
      "[>>>>>>>>>>>>>>>>>>>>>>>>>>>>>] 300/300, 12.6 task/s, elapsed: 24s, ETA:     0s\n",
      "---------------iou_thr: 0.5---------------\n"
     ]
    },
    {
     "name": "stderr",
     "output_type": "stream",
     "text": [
      "2022-05-26 18:54:09,981 - mmfewshot - INFO - \n",
      "+---------+-----+------+--------+-------+\n",
      "| class   | gts | dets | recall | ap    |\n",
      "+---------+-----+------+--------+-------+\n",
      "| fanta   | 291 | 1233 | 0.866  | 0.748 |\n",
      "| Mirinda | 111 | 545  | 0.793  | 0.627 |\n",
      "+---------+-----+------+--------+-------+\n",
      "| mAP     |     |      |        | 0.688 |\n",
      "+---------+-----+------+--------+-------+\n",
      "2022-05-26 18:54:09,984 - mmfewshot - INFO - BASE_CLASSES_SPLIT2 mAP: 0.6877317428588867\n",
      "2022-05-26 18:54:09,985 - mmfewshot - INFO - NOVEL_CLASSES_SPLIT2 mAP: nan\n",
      "2022-05-26 18:54:09,988 - mmfewshot - INFO - Exp name: attention-rpn_r50_c4_tb-split2_1shot-fine-tuning-momentum-09.py\n",
      "2022-05-26 18:54:09,989 - mmfewshot - INFO - Iter(val) [300]\tAP50: 0.6880, BASE_CLASSES_SPLIT2: AP50: 0.6880, NOVEL_CLASSES_SPLIT2: AP50: nan, mAP: 0.6877\n",
      "2022-05-26 18:54:23,399 - mmfewshot - INFO - Iter [91050/100000]\tlr: 1.000e-04, eta: 0:45:15, time: 0.975, data_time: 0.719, memory: 4571, loss_rpn_cls: 0.0069, loss_rpn_bbox: 0.0059, loss_cls: 0.0333, acc: 99.5938, loss_bbox: 0.3154, loss: 0.3616\n",
      "2022-05-26 18:54:36,922 - mmfewshot - INFO - Iter [91100/100000]\tlr: 1.000e-04, eta: 0:44:59, time: 0.270, data_time: 0.012, memory: 4571, loss_rpn_cls: 0.0071, loss_rpn_bbox: 0.0062, loss_cls: 0.0474, acc: 99.5156, loss_bbox: 0.3009, loss: 0.3615\n",
      "2022-05-26 18:54:50,529 - mmfewshot - INFO - Iter [91150/100000]\tlr: 1.000e-04, eta: 0:44:44, time: 0.272, data_time: 0.013, memory: 4571, loss_rpn_cls: 0.0057, loss_rpn_bbox: 0.0035, loss_cls: 0.0368, acc: 99.7266, loss_bbox: 0.2641, loss: 0.3100\n",
      "2022-05-26 18:55:04,106 - mmfewshot - INFO - Iter [91200/100000]\tlr: 1.000e-04, eta: 0:44:29, time: 0.272, data_time: 0.013, memory: 4571, loss_rpn_cls: 0.0066, loss_rpn_bbox: 0.0041, loss_cls: 0.0200, acc: 99.8359, loss_bbox: 0.3130, loss: 0.3437\n",
      "2022-05-26 18:55:17,671 - mmfewshot - INFO - Iter [91250/100000]\tlr: 1.000e-04, eta: 0:44:13, time: 0.271, data_time: 0.013, memory: 4571, loss_rpn_cls: 0.0062, loss_rpn_bbox: 0.0047, loss_cls: 0.0247, acc: 99.7266, loss_bbox: 0.2793, loss: 0.3150\n",
      "2022-05-26 18:55:31,152 - mmfewshot - INFO - Iter [91300/100000]\tlr: 1.000e-04, eta: 0:43:58, time: 0.270, data_time: 0.012, memory: 4571, loss_rpn_cls: 0.0070, loss_rpn_bbox: 0.0043, loss_cls: 0.0362, acc: 99.6484, loss_bbox: 0.2918, loss: 0.3394\n",
      "2022-05-26 18:55:44,683 - mmfewshot - INFO - Iter [91350/100000]\tlr: 1.000e-04, eta: 0:43:43, time: 0.270, data_time: 0.012, memory: 4571, loss_rpn_cls: 0.0108, loss_rpn_bbox: 0.0079, loss_cls: 0.0385, acc: 99.7188, loss_bbox: 0.2629, loss: 0.3200\n",
      "2022-05-26 18:55:58,175 - mmfewshot - INFO - Iter [91400/100000]\tlr: 1.000e-04, eta: 0:43:28, time: 0.270, data_time: 0.013, memory: 4571, loss_rpn_cls: 0.0075, loss_rpn_bbox: 0.0102, loss_cls: 0.0237, acc: 99.7109, loss_bbox: 0.3176, loss: 0.3591\n",
      "2022-05-26 18:56:11,592 - mmfewshot - INFO - Iter [91450/100000]\tlr: 1.000e-04, eta: 0:43:12, time: 0.268, data_time: 0.012, memory: 4571, loss_rpn_cls: 0.0040, loss_rpn_bbox: 0.0034, loss_cls: 0.0355, acc: 99.6562, loss_bbox: 0.2915, loss: 0.3344\n",
      "2022-05-26 18:56:25,044 - mmfewshot - INFO - Iter [91500/100000]\tlr: 1.000e-04, eta: 0:42:57, time: 0.269, data_time: 0.013, memory: 4571, loss_rpn_cls: 0.0039, loss_rpn_bbox: 0.0037, loss_cls: 0.0478, acc: 99.6719, loss_bbox: 0.2958, loss: 0.3512\n",
      "2022-05-26 18:56:38,557 - mmfewshot - INFO - Iter [91550/100000]\tlr: 1.000e-04, eta: 0:42:42, time: 0.270, data_time: 0.013, memory: 4571, loss_rpn_cls: 0.0074, loss_rpn_bbox: 0.0087, loss_cls: 0.0295, acc: 99.7500, loss_bbox: 0.2860, loss: 0.3315\n",
      "2022-05-26 18:56:52,017 - mmfewshot - INFO - Iter [91600/100000]\tlr: 1.000e-04, eta: 0:42:26, time: 0.269, data_time: 0.012, memory: 4571, loss_rpn_cls: 0.0084, loss_rpn_bbox: 0.0055, loss_cls: 0.0329, acc: 99.7266, loss_bbox: 0.2378, loss: 0.2845\n",
      "2022-05-26 18:57:05,460 - mmfewshot - INFO - Iter [91650/100000]\tlr: 1.000e-04, eta: 0:42:11, time: 0.269, data_time: 0.012, memory: 4571, loss_rpn_cls: 0.0075, loss_rpn_bbox: 0.0061, loss_cls: 0.0379, acc: 99.6094, loss_bbox: 0.2985, loss: 0.3500\n",
      "2022-05-26 18:57:18,881 - mmfewshot - INFO - Iter [91700/100000]\tlr: 1.000e-04, eta: 0:41:56, time: 0.269, data_time: 0.011, memory: 4571, loss_rpn_cls: 0.0120, loss_rpn_bbox: 0.0069, loss_cls: 0.0339, acc: 99.6562, loss_bbox: 0.3017, loss: 0.3544\n",
      "2022-05-26 18:57:32,198 - mmfewshot - INFO - Iter [91750/100000]\tlr: 1.000e-04, eta: 0:41:40, time: 0.266, data_time: 0.011, memory: 4571, loss_rpn_cls: 0.0055, loss_rpn_bbox: 0.0052, loss_cls: 0.0228, acc: 99.7656, loss_bbox: 0.3146, loss: 0.3481\n",
      "2022-05-26 18:57:45,548 - mmfewshot - INFO - Iter [91800/100000]\tlr: 1.000e-04, eta: 0:41:25, time: 0.267, data_time: 0.012, memory: 4571, loss_rpn_cls: 0.0058, loss_rpn_bbox: 0.0042, loss_cls: 0.0354, acc: 99.7031, loss_bbox: 0.2711, loss: 0.3164\n",
      "2022-05-26 18:57:59,119 - mmfewshot - INFO - Iter [91850/100000]\tlr: 1.000e-04, eta: 0:41:10, time: 0.271, data_time: 0.013, memory: 4571, loss_rpn_cls: 0.0052, loss_rpn_bbox: 0.0040, loss_cls: 0.0362, acc: 99.7188, loss_bbox: 0.2655, loss: 0.3109\n",
      "2022-05-26 18:58:12,731 - mmfewshot - INFO - Iter [91900/100000]\tlr: 1.000e-04, eta: 0:40:54, time: 0.272, data_time: 0.013, memory: 4571, loss_rpn_cls: 0.0114, loss_rpn_bbox: 0.0099, loss_cls: 0.0397, acc: 99.5859, loss_bbox: 0.3167, loss: 0.3776\n",
      "2022-05-26 18:58:26,097 - mmfewshot - INFO - Iter [91950/100000]\tlr: 1.000e-04, eta: 0:40:39, time: 0.267, data_time: 0.011, memory: 4571, loss_rpn_cls: 0.0075, loss_rpn_bbox: 0.0049, loss_cls: 0.0325, acc: 99.6719, loss_bbox: 0.3235, loss: 0.3684\n",
      "2022-05-26 18:58:39,648 - mmfewshot - INFO - Exp name: attention-rpn_r50_c4_tb-split2_1shot-fine-tuning-momentum-09.py\n",
      "2022-05-26 18:58:39,650 - mmfewshot - INFO - Iter [92000/100000]\tlr: 1.000e-04, eta: 0:40:24, time: 0.271, data_time: 0.012, memory: 4571, loss_rpn_cls: 0.0074, loss_rpn_bbox: 0.0066, loss_cls: 0.0282, acc: 99.6484, loss_bbox: 0.3280, loss: 0.3701\n",
      "2022-05-26 18:58:39,655 - mmdet - INFO - starting model initialization...\n"
     ]
    },
    {
     "name": "stdout",
     "output_type": "stream",
     "text": [
      "[>>>>>>>>>>>>>>>>>>>>>>>>>>>>>] 850/850, 76.4 task/s, elapsed: 11s, ETA:     0s"
     ]
    },
    {
     "name": "stderr",
     "output_type": "stream",
     "text": [
      "2022-05-26 18:58:50,869 - mmdet - INFO - model initialization done.\n"
     ]
    },
    {
     "name": "stdout",
     "output_type": "stream",
     "text": [
      "[>>>>>>>>>>>>>>>>>>>>>>>>>>>>>] 300/300, 12.6 task/s, elapsed: 24s, ETA:     0s\n",
      "---------------iou_thr: 0.5---------------\n"
     ]
    },
    {
     "name": "stderr",
     "output_type": "stream",
     "text": [
      "2022-05-26 18:59:15,107 - mmfewshot - INFO - \n",
      "+---------+-----+------+--------+-------+\n",
      "| class   | gts | dets | recall | ap    |\n",
      "+---------+-----+------+--------+-------+\n",
      "| fanta   | 291 | 1231 | 0.869  | 0.758 |\n",
      "| Mirinda | 111 | 516  | 0.784  | 0.618 |\n",
      "+---------+-----+------+--------+-------+\n",
      "| mAP     |     |      |        | 0.688 |\n",
      "+---------+-----+------+--------+-------+\n",
      "2022-05-26 18:59:15,110 - mmfewshot - INFO - BASE_CLASSES_SPLIT2 mAP: 0.6882224082946777\n",
      "2022-05-26 18:59:15,111 - mmfewshot - INFO - NOVEL_CLASSES_SPLIT2 mAP: nan\n",
      "2022-05-26 18:59:15,116 - mmfewshot - INFO - Exp name: attention-rpn_r50_c4_tb-split2_1shot-fine-tuning-momentum-09.py\n",
      "2022-05-26 18:59:15,118 - mmfewshot - INFO - Iter(val) [300]\tAP50: 0.6880, BASE_CLASSES_SPLIT2: AP50: 0.6880, NOVEL_CLASSES_SPLIT2: AP50: nan, mAP: 0.6882\n",
      "2022-05-26 18:59:28,563 - mmfewshot - INFO - Iter [92050/100000]\tlr: 1.000e-04, eta: 0:40:12, time: 0.978, data_time: 0.722, memory: 4571, loss_rpn_cls: 0.0056, loss_rpn_bbox: 0.0033, loss_cls: 0.0286, acc: 99.7109, loss_bbox: 0.2983, loss: 0.3359\n",
      "2022-05-26 18:59:42,224 - mmfewshot - INFO - Iter [92100/100000]\tlr: 1.000e-04, eta: 0:39:56, time: 0.273, data_time: 0.013, memory: 4571, loss_rpn_cls: 0.0057, loss_rpn_bbox: 0.0042, loss_cls: 0.0281, acc: 99.6875, loss_bbox: 0.3001, loss: 0.3381\n",
      "2022-05-26 18:59:55,572 - mmfewshot - INFO - Iter [92150/100000]\tlr: 1.000e-04, eta: 0:39:41, time: 0.267, data_time: 0.012, memory: 4571, loss_rpn_cls: 0.0080, loss_rpn_bbox: 0.0050, loss_cls: 0.0400, acc: 99.5781, loss_bbox: 0.3077, loss: 0.3607\n",
      "2022-05-26 19:00:09,029 - mmfewshot - INFO - Iter [92200/100000]\tlr: 1.000e-04, eta: 0:39:26, time: 0.269, data_time: 0.012, memory: 4571, loss_rpn_cls: 0.0082, loss_rpn_bbox: 0.0061, loss_cls: 0.0317, acc: 99.7109, loss_bbox: 0.3019, loss: 0.3478\n",
      "2022-05-26 19:00:22,386 - mmfewshot - INFO - Iter [92250/100000]\tlr: 1.000e-04, eta: 0:39:10, time: 0.267, data_time: 0.011, memory: 4571, loss_rpn_cls: 0.0071, loss_rpn_bbox: 0.0051, loss_cls: 0.0308, acc: 99.6016, loss_bbox: 0.3135, loss: 0.3564\n",
      "2022-05-26 19:00:35,886 - mmfewshot - INFO - Iter [92300/100000]\tlr: 1.000e-04, eta: 0:38:55, time: 0.270, data_time: 0.012, memory: 4571, loss_rpn_cls: 0.0076, loss_rpn_bbox: 0.0071, loss_cls: 0.0338, acc: 99.7188, loss_bbox: 0.2755, loss: 0.3241\n",
      "2022-05-26 19:00:49,273 - mmfewshot - INFO - Iter [92350/100000]\tlr: 1.000e-04, eta: 0:38:40, time: 0.267, data_time: 0.012, memory: 4571, loss_rpn_cls: 0.0064, loss_rpn_bbox: 0.0036, loss_cls: 0.0355, acc: 99.6719, loss_bbox: 0.2482, loss: 0.2937\n",
      "2022-05-26 19:01:02,760 - mmfewshot - INFO - Iter [92400/100000]\tlr: 1.000e-04, eta: 0:38:24, time: 0.270, data_time: 0.012, memory: 4571, loss_rpn_cls: 0.0050, loss_rpn_bbox: 0.0038, loss_cls: 0.0353, acc: 99.7109, loss_bbox: 0.2700, loss: 0.3142\n",
      "2022-05-26 19:01:16,237 - mmfewshot - INFO - Iter [92450/100000]\tlr: 1.000e-04, eta: 0:38:09, time: 0.269, data_time: 0.012, memory: 4571, loss_rpn_cls: 0.0047, loss_rpn_bbox: 0.0035, loss_cls: 0.0320, acc: 99.7656, loss_bbox: 0.2489, loss: 0.2891\n",
      "2022-05-26 19:01:29,658 - mmfewshot - INFO - Iter [92500/100000]\tlr: 1.000e-04, eta: 0:37:54, time: 0.268, data_time: 0.012, memory: 4571, loss_rpn_cls: 0.0056, loss_rpn_bbox: 0.0050, loss_cls: 0.0355, acc: 99.7422, loss_bbox: 0.2543, loss: 0.3003\n",
      "2022-05-26 19:01:43,196 - mmfewshot - INFO - Iter [92550/100000]\tlr: 1.000e-04, eta: 0:37:38, time: 0.271, data_time: 0.013, memory: 4571, loss_rpn_cls: 0.0076, loss_rpn_bbox: 0.0075, loss_cls: 0.0256, acc: 99.6641, loss_bbox: 0.3449, loss: 0.3856\n",
      "2022-05-26 19:01:56,632 - mmfewshot - INFO - Iter [92600/100000]\tlr: 1.000e-04, eta: 0:37:23, time: 0.269, data_time: 0.012, memory: 4571, loss_rpn_cls: 0.0068, loss_rpn_bbox: 0.0045, loss_cls: 0.0353, acc: 99.6562, loss_bbox: 0.2876, loss: 0.3342\n",
      "2022-05-26 19:02:09,903 - mmfewshot - INFO - Iter [92650/100000]\tlr: 1.000e-04, eta: 0:37:08, time: 0.265, data_time: 0.011, memory: 4571, loss_rpn_cls: 0.0063, loss_rpn_bbox: 0.0059, loss_cls: 0.0346, acc: 99.6250, loss_bbox: 0.2955, loss: 0.3422\n",
      "2022-05-26 19:02:23,446 - mmfewshot - INFO - Iter [92700/100000]\tlr: 1.000e-04, eta: 0:36:53, time: 0.271, data_time: 0.013, memory: 4571, loss_rpn_cls: 0.0055, loss_rpn_bbox: 0.0067, loss_cls: 0.0233, acc: 99.6953, loss_bbox: 0.3392, loss: 0.3746\n",
      "2022-05-26 19:02:36,959 - mmfewshot - INFO - Iter [92750/100000]\tlr: 1.000e-04, eta: 0:36:37, time: 0.270, data_time: 0.012, memory: 4571, loss_rpn_cls: 0.0053, loss_rpn_bbox: 0.0038, loss_cls: 0.0269, acc: 99.7031, loss_bbox: 0.2742, loss: 0.3102\n",
      "2022-05-26 19:02:50,335 - mmfewshot - INFO - Iter [92800/100000]\tlr: 1.000e-04, eta: 0:36:22, time: 0.268, data_time: 0.011, memory: 4571, loss_rpn_cls: 0.0048, loss_rpn_bbox: 0.0026, loss_cls: 0.0368, acc: 99.6797, loss_bbox: 0.2346, loss: 0.2788\n",
      "2022-05-26 19:03:03,797 - mmfewshot - INFO - Iter [92850/100000]\tlr: 1.000e-04, eta: 0:36:07, time: 0.269, data_time: 0.013, memory: 4571, loss_rpn_cls: 0.0089, loss_rpn_bbox: 0.0051, loss_cls: 0.0325, acc: 99.7188, loss_bbox: 0.2734, loss: 0.3199\n",
      "2022-05-26 19:03:17,257 - mmfewshot - INFO - Iter [92900/100000]\tlr: 1.000e-04, eta: 0:35:51, time: 0.269, data_time: 0.012, memory: 4571, loss_rpn_cls: 0.0073, loss_rpn_bbox: 0.0058, loss_cls: 0.0293, acc: 99.6562, loss_bbox: 0.3036, loss: 0.3460\n",
      "2022-05-26 19:03:30,753 - mmfewshot - INFO - Iter [92950/100000]\tlr: 1.000e-04, eta: 0:35:36, time: 0.270, data_time: 0.012, memory: 4571, loss_rpn_cls: 0.0064, loss_rpn_bbox: 0.0056, loss_cls: 0.0406, acc: 99.6094, loss_bbox: 0.3260, loss: 0.3785\n",
      "2022-05-26 19:03:44,283 - mmfewshot - INFO - Exp name: attention-rpn_r50_c4_tb-split2_1shot-fine-tuning-momentum-09.py\n",
      "2022-05-26 19:03:44,286 - mmfewshot - INFO - Iter [93000/100000]\tlr: 1.000e-04, eta: 0:35:21, time: 0.271, data_time: 0.013, memory: 4571, loss_rpn_cls: 0.0095, loss_rpn_bbox: 0.0081, loss_cls: 0.0327, acc: 99.6172, loss_bbox: 0.3181, loss: 0.3684\n",
      "2022-05-26 19:03:44,293 - mmdet - INFO - starting model initialization...\n"
     ]
    },
    {
     "name": "stdout",
     "output_type": "stream",
     "text": [
      "[>>>>>>>>>>>>>>>>>>>>>>>>>>>>>] 850/850, 75.3 task/s, elapsed: 11s, ETA:     0s"
     ]
    },
    {
     "name": "stderr",
     "output_type": "stream",
     "text": [
      "2022-05-26 19:03:55,659 - mmdet - INFO - model initialization done.\n"
     ]
    },
    {
     "name": "stdout",
     "output_type": "stream",
     "text": [
      "[>>>>>>>>>>>>>>>>>>>>>>>>>>>>>] 300/300, 12.6 task/s, elapsed: 24s, ETA:     0s\n",
      "---------------iou_thr: 0.5---------------\n"
     ]
    },
    {
     "name": "stderr",
     "output_type": "stream",
     "text": [
      "2022-05-26 19:04:19,774 - mmfewshot - INFO - \n",
      "+---------+-----+------+--------+-------+\n",
      "| class   | gts | dets | recall | ap    |\n",
      "+---------+-----+------+--------+-------+\n",
      "| fanta   | 291 | 1399 | 0.900  | 0.758 |\n",
      "| Mirinda | 111 | 592  | 0.793  | 0.648 |\n",
      "+---------+-----+------+--------+-------+\n",
      "| mAP     |     |      |        | 0.703 |\n",
      "+---------+-----+------+--------+-------+\n",
      "2022-05-26 19:04:19,776 - mmfewshot - INFO - BASE_CLASSES_SPLIT2 mAP: 0.7030469179153442\n",
      "2022-05-26 19:04:19,777 - mmfewshot - INFO - NOVEL_CLASSES_SPLIT2 mAP: nan\n",
      "2022-05-26 19:04:19,779 - mmfewshot - INFO - Exp name: attention-rpn_r50_c4_tb-split2_1shot-fine-tuning-momentum-09.py\n",
      "2022-05-26 19:04:19,780 - mmfewshot - INFO - Iter(val) [300]\tAP50: 0.7030, BASE_CLASSES_SPLIT2: AP50: 0.7030, NOVEL_CLASSES_SPLIT2: AP50: nan, mAP: 0.7030\n",
      "2022-05-26 19:04:33,256 - mmfewshot - INFO - Iter [93050/100000]\tlr: 1.000e-04, eta: 0:35:08, time: 0.980, data_time: 0.722, memory: 4571, loss_rpn_cls: 0.0079, loss_rpn_bbox: 0.0076, loss_cls: 0.0231, acc: 99.7109, loss_bbox: 0.3189, loss: 0.3574\n",
      "2022-05-26 19:04:46,593 - mmfewshot - INFO - Iter [93100/100000]\tlr: 1.000e-04, eta: 0:34:53, time: 0.267, data_time: 0.012, memory: 4571, loss_rpn_cls: 0.0074, loss_rpn_bbox: 0.0057, loss_cls: 0.0264, acc: 99.6875, loss_bbox: 0.2904, loss: 0.3299\n",
      "2022-05-26 19:05:00,170 - mmfewshot - INFO - Iter [93150/100000]\tlr: 1.000e-04, eta: 0:34:38, time: 0.271, data_time: 0.013, memory: 4571, loss_rpn_cls: 0.0072, loss_rpn_bbox: 0.0056, loss_cls: 0.0395, acc: 99.6250, loss_bbox: 0.2941, loss: 0.3465\n",
      "2022-05-26 19:05:13,596 - mmfewshot - INFO - Iter [93200/100000]\tlr: 1.000e-04, eta: 0:34:22, time: 0.268, data_time: 0.013, memory: 4571, loss_rpn_cls: 0.0057, loss_rpn_bbox: 0.0046, loss_cls: 0.0316, acc: 99.6719, loss_bbox: 0.3132, loss: 0.3551\n",
      "2022-05-26 19:05:27,104 - mmfewshot - INFO - Iter [93250/100000]\tlr: 1.000e-04, eta: 0:34:07, time: 0.270, data_time: 0.012, memory: 4571, loss_rpn_cls: 0.0071, loss_rpn_bbox: 0.0053, loss_cls: 0.0420, acc: 99.6406, loss_bbox: 0.2741, loss: 0.3285\n",
      "2022-05-26 19:05:40,734 - mmfewshot - INFO - Iter [93300/100000]\tlr: 1.000e-04, eta: 0:33:52, time: 0.273, data_time: 0.013, memory: 4571, loss_rpn_cls: 0.0042, loss_rpn_bbox: 0.0037, loss_cls: 0.0347, acc: 99.7188, loss_bbox: 0.2790, loss: 0.3215\n",
      "2022-05-26 19:05:54,179 - mmfewshot - INFO - Iter [93350/100000]\tlr: 1.000e-04, eta: 0:33:36, time: 0.269, data_time: 0.012, memory: 4571, loss_rpn_cls: 0.0050, loss_rpn_bbox: 0.0069, loss_cls: 0.0313, acc: 99.6562, loss_bbox: 0.3152, loss: 0.3584\n",
      "2022-05-26 19:06:07,641 - mmfewshot - INFO - Iter [93400/100000]\tlr: 1.000e-04, eta: 0:33:21, time: 0.269, data_time: 0.013, memory: 4571, loss_rpn_cls: 0.0059, loss_rpn_bbox: 0.0045, loss_cls: 0.0280, acc: 99.7109, loss_bbox: 0.3135, loss: 0.3519\n",
      "2022-05-26 19:06:21,201 - mmfewshot - INFO - Iter [93450/100000]\tlr: 1.000e-04, eta: 0:33:06, time: 0.271, data_time: 0.013, memory: 4571, loss_rpn_cls: 0.0061, loss_rpn_bbox: 0.0039, loss_cls: 0.0293, acc: 99.7188, loss_bbox: 0.2923, loss: 0.3315\n",
      "2022-05-26 19:06:34,657 - mmfewshot - INFO - Iter [93500/100000]\tlr: 1.000e-04, eta: 0:32:51, time: 0.269, data_time: 0.012, memory: 4571, loss_rpn_cls: 0.0074, loss_rpn_bbox: 0.0049, loss_cls: 0.0336, acc: 99.7656, loss_bbox: 0.2921, loss: 0.3380\n",
      "2022-05-26 19:06:48,094 - mmfewshot - INFO - Iter [93550/100000]\tlr: 1.000e-04, eta: 0:32:35, time: 0.269, data_time: 0.012, memory: 4571, loss_rpn_cls: 0.0071, loss_rpn_bbox: 0.0052, loss_cls: 0.0221, acc: 99.7578, loss_bbox: 0.3137, loss: 0.3481\n",
      "2022-05-26 19:07:01,632 - mmfewshot - INFO - Iter [93600/100000]\tlr: 1.000e-04, eta: 0:32:20, time: 0.271, data_time: 0.013, memory: 4571, loss_rpn_cls: 0.0043, loss_rpn_bbox: 0.0038, loss_cls: 0.0535, acc: 99.6875, loss_bbox: 0.2726, loss: 0.3342\n",
      "2022-05-26 19:07:15,014 - mmfewshot - INFO - Iter [93650/100000]\tlr: 1.000e-04, eta: 0:32:05, time: 0.267, data_time: 0.012, memory: 4571, loss_rpn_cls: 0.0064, loss_rpn_bbox: 0.0047, loss_cls: 0.0380, acc: 99.5859, loss_bbox: 0.2933, loss: 0.3424\n",
      "2022-05-26 19:07:28,561 - mmfewshot - INFO - Iter [93700/100000]\tlr: 1.000e-04, eta: 0:31:50, time: 0.271, data_time: 0.013, memory: 4571, loss_rpn_cls: 0.0088, loss_rpn_bbox: 0.0072, loss_cls: 0.0309, acc: 99.6719, loss_bbox: 0.3236, loss: 0.3704\n",
      "2022-05-26 19:07:42,241 - mmfewshot - INFO - Iter [93750/100000]\tlr: 1.000e-04, eta: 0:31:34, time: 0.274, data_time: 0.013, memory: 4571, loss_rpn_cls: 0.0078, loss_rpn_bbox: 0.0064, loss_cls: 0.0333, acc: 99.6719, loss_bbox: 0.2942, loss: 0.3417\n",
      "2022-05-26 19:07:55,683 - mmfewshot - INFO - Iter [93800/100000]\tlr: 1.000e-04, eta: 0:31:19, time: 0.269, data_time: 0.013, memory: 4571, loss_rpn_cls: 0.0069, loss_rpn_bbox: 0.0118, loss_cls: 0.0309, acc: 99.6094, loss_bbox: 0.2939, loss: 0.3435\n",
      "2022-05-26 19:08:09,254 - mmfewshot - INFO - Iter [93850/100000]\tlr: 1.000e-04, eta: 0:31:04, time: 0.272, data_time: 0.013, memory: 4571, loss_rpn_cls: 0.0052, loss_rpn_bbox: 0.0041, loss_cls: 0.0305, acc: 99.6875, loss_bbox: 0.2949, loss: 0.3347\n",
      "2022-05-26 19:08:22,616 - mmfewshot - INFO - Iter [93900/100000]\tlr: 1.000e-04, eta: 0:30:48, time: 0.267, data_time: 0.012, memory: 4571, loss_rpn_cls: 0.0074, loss_rpn_bbox: 0.0042, loss_cls: 0.0232, acc: 99.7344, loss_bbox: 0.2915, loss: 0.3263\n",
      "2022-05-26 19:08:36,087 - mmfewshot - INFO - Iter [93950/100000]\tlr: 1.000e-04, eta: 0:30:33, time: 0.269, data_time: 0.012, memory: 4571, loss_rpn_cls: 0.0047, loss_rpn_bbox: 0.0027, loss_cls: 0.0356, acc: 99.6953, loss_bbox: 0.2380, loss: 0.2810\n",
      "2022-05-26 19:08:49,514 - mmfewshot - INFO - Exp name: attention-rpn_r50_c4_tb-split2_1shot-fine-tuning-momentum-09.py\n",
      "2022-05-26 19:08:49,515 - mmfewshot - INFO - Iter [94000/100000]\tlr: 1.000e-04, eta: 0:30:18, time: 0.268, data_time: 0.012, memory: 4571, loss_rpn_cls: 0.0059, loss_rpn_bbox: 0.0043, loss_cls: 0.0432, acc: 99.7344, loss_bbox: 0.2882, loss: 0.3416\n",
      "2022-05-26 19:08:49,520 - mmdet - INFO - starting model initialization...\n"
     ]
    },
    {
     "name": "stdout",
     "output_type": "stream",
     "text": [
      "[>>>>>>>>>>>>>>>>>>>>>>>>>>>>>] 850/850, 82.6 task/s, elapsed: 10s, ETA:     0s"
     ]
    },
    {
     "name": "stderr",
     "output_type": "stream",
     "text": [
      "2022-05-26 19:08:59,881 - mmdet - INFO - model initialization done.\n"
     ]
    },
    {
     "name": "stdout",
     "output_type": "stream",
     "text": [
      "[>>>>>>>>>>>>>>>>>>>>>>>>>>>>>] 300/300, 12.5 task/s, elapsed: 24s, ETA:     0s\n",
      "---------------iou_thr: 0.5---------------\n"
     ]
    },
    {
     "name": "stderr",
     "output_type": "stream",
     "text": [
      "2022-05-26 19:09:24,152 - mmfewshot - INFO - \n",
      "+---------+-----+------+--------+-------+\n",
      "| class   | gts | dets | recall | ap    |\n",
      "+---------+-----+------+--------+-------+\n",
      "| fanta   | 291 | 1883 | 0.938  | 0.798 |\n",
      "| Mirinda | 111 | 485  | 0.766  | 0.590 |\n",
      "+---------+-----+------+--------+-------+\n",
      "| mAP     |     |      |        | 0.694 |\n",
      "+---------+-----+------+--------+-------+\n",
      "2022-05-26 19:09:24,155 - mmfewshot - INFO - BASE_CLASSES_SPLIT2 mAP: 0.6939725875854492\n",
      "2022-05-26 19:09:24,156 - mmfewshot - INFO - NOVEL_CLASSES_SPLIT2 mAP: nan\n",
      "2022-05-26 19:09:24,159 - mmfewshot - INFO - Exp name: attention-rpn_r50_c4_tb-split2_1shot-fine-tuning-momentum-09.py\n",
      "2022-05-26 19:09:24,160 - mmfewshot - INFO - Iter(val) [300]\tAP50: 0.6940, BASE_CLASSES_SPLIT2: AP50: 0.6940, NOVEL_CLASSES_SPLIT2: AP50: nan, mAP: 0.6940\n",
      "2022-05-26 19:09:37,719 - mmfewshot - INFO - Iter [94050/100000]\tlr: 1.000e-04, eta: 0:30:05, time: 0.964, data_time: 0.706, memory: 4571, loss_rpn_cls: 0.0081, loss_rpn_bbox: 0.0048, loss_cls: 0.0291, acc: 99.6953, loss_bbox: 0.3149, loss: 0.3569\n",
      "2022-05-26 19:09:51,024 - mmfewshot - INFO - Iter [94100/100000]\tlr: 1.000e-04, eta: 0:29:50, time: 0.266, data_time: 0.012, memory: 4571, loss_rpn_cls: 0.0060, loss_rpn_bbox: 0.0056, loss_cls: 0.0414, acc: 99.6172, loss_bbox: 0.3341, loss: 0.3871\n",
      "2022-05-26 19:10:04,456 - mmfewshot - INFO - Iter [94150/100000]\tlr: 1.000e-04, eta: 0:29:34, time: 0.269, data_time: 0.013, memory: 4571, loss_rpn_cls: 0.0055, loss_rpn_bbox: 0.0024, loss_cls: 0.0226, acc: 99.7578, loss_bbox: 0.2766, loss: 0.3070\n",
      "2022-05-26 19:10:17,957 - mmfewshot - INFO - Iter [94200/100000]\tlr: 1.000e-04, eta: 0:29:19, time: 0.270, data_time: 0.013, memory: 4571, loss_rpn_cls: 0.0064, loss_rpn_bbox: 0.0050, loss_cls: 0.0244, acc: 99.7422, loss_bbox: 0.3099, loss: 0.3457\n",
      "2022-05-26 19:10:31,536 - mmfewshot - INFO - Iter [94250/100000]\tlr: 1.000e-04, eta: 0:29:04, time: 0.272, data_time: 0.013, memory: 4571, loss_rpn_cls: 0.0087, loss_rpn_bbox: 0.0047, loss_cls: 0.0403, acc: 99.6250, loss_bbox: 0.2676, loss: 0.3212\n",
      "2022-05-26 19:10:45,130 - mmfewshot - INFO - Iter [94300/100000]\tlr: 1.000e-04, eta: 0:28:49, time: 0.272, data_time: 0.012, memory: 4571, loss_rpn_cls: 0.0086, loss_rpn_bbox: 0.0069, loss_cls: 0.0332, acc: 99.6406, loss_bbox: 0.3131, loss: 0.3618\n",
      "2022-05-26 19:10:58,538 - mmfewshot - INFO - Iter [94350/100000]\tlr: 1.000e-04, eta: 0:28:33, time: 0.268, data_time: 0.011, memory: 4571, loss_rpn_cls: 0.0075, loss_rpn_bbox: 0.0066, loss_cls: 0.0299, acc: 99.6172, loss_bbox: 0.3006, loss: 0.3447\n",
      "2022-05-26 19:11:12,069 - mmfewshot - INFO - Iter [94400/100000]\tlr: 1.000e-04, eta: 0:28:18, time: 0.271, data_time: 0.013, memory: 4571, loss_rpn_cls: 0.0061, loss_rpn_bbox: 0.0059, loss_cls: 0.0488, acc: 99.5312, loss_bbox: 0.2576, loss: 0.3183\n",
      "2022-05-26 19:11:25,616 - mmfewshot - INFO - Iter [94450/100000]\tlr: 1.000e-04, eta: 0:28:03, time: 0.271, data_time: 0.012, memory: 4571, loss_rpn_cls: 0.0049, loss_rpn_bbox: 0.0052, loss_cls: 0.0372, acc: 99.6328, loss_bbox: 0.2961, loss: 0.3433\n",
      "2022-05-26 19:11:39,118 - mmfewshot - INFO - Iter [94500/100000]\tlr: 1.000e-04, eta: 0:27:47, time: 0.270, data_time: 0.012, memory: 4571, loss_rpn_cls: 0.0062, loss_rpn_bbox: 0.0079, loss_cls: 0.0361, acc: 99.5938, loss_bbox: 0.3144, loss: 0.3646\n",
      "2022-05-26 19:11:52,491 - mmfewshot - INFO - Iter [94550/100000]\tlr: 1.000e-04, eta: 0:27:32, time: 0.268, data_time: 0.012, memory: 4571, loss_rpn_cls: 0.0061, loss_rpn_bbox: 0.0060, loss_cls: 0.0394, acc: 99.5156, loss_bbox: 0.3236, loss: 0.3752\n",
      "2022-05-26 19:12:05,968 - mmfewshot - INFO - Iter [94600/100000]\tlr: 1.000e-04, eta: 0:27:17, time: 0.269, data_time: 0.012, memory: 4571, loss_rpn_cls: 0.0044, loss_rpn_bbox: 0.0034, loss_cls: 0.0625, acc: 99.6172, loss_bbox: 0.2483, loss: 0.3186\n",
      "2022-05-26 19:12:19,450 - mmfewshot - INFO - Iter [94650/100000]\tlr: 1.000e-04, eta: 0:27:02, time: 0.270, data_time: 0.013, memory: 4571, loss_rpn_cls: 0.0054, loss_rpn_bbox: 0.0050, loss_cls: 0.0413, acc: 99.6016, loss_bbox: 0.2812, loss: 0.3328\n",
      "2022-05-26 19:12:32,930 - mmfewshot - INFO - Iter [94700/100000]\tlr: 1.000e-04, eta: 0:26:46, time: 0.270, data_time: 0.013, memory: 4571, loss_rpn_cls: 0.0034, loss_rpn_bbox: 0.0030, loss_cls: 0.0315, acc: 99.6797, loss_bbox: 0.3025, loss: 0.3404\n",
      "2022-05-26 19:12:46,437 - mmfewshot - INFO - Iter [94750/100000]\tlr: 1.000e-04, eta: 0:26:31, time: 0.270, data_time: 0.012, memory: 4571, loss_rpn_cls: 0.0048, loss_rpn_bbox: 0.0043, loss_cls: 0.0282, acc: 99.7344, loss_bbox: 0.3143, loss: 0.3516\n",
      "2022-05-26 19:13:00,000 - mmfewshot - INFO - Iter [94800/100000]\tlr: 1.000e-04, eta: 0:26:16, time: 0.271, data_time: 0.013, memory: 4571, loss_rpn_cls: 0.0064, loss_rpn_bbox: 0.0071, loss_cls: 0.0325, acc: 99.6875, loss_bbox: 0.2970, loss: 0.3431\n",
      "2022-05-26 19:13:13,320 - mmfewshot - INFO - Iter [94850/100000]\tlr: 1.000e-04, eta: 0:26:01, time: 0.266, data_time: 0.012, memory: 4571, loss_rpn_cls: 0.0056, loss_rpn_bbox: 0.0050, loss_cls: 0.0418, acc: 99.7031, loss_bbox: 0.2603, loss: 0.3127\n",
      "2022-05-26 19:13:26,712 - mmfewshot - INFO - Iter [94900/100000]\tlr: 1.000e-04, eta: 0:25:45, time: 0.268, data_time: 0.012, memory: 4571, loss_rpn_cls: 0.0076, loss_rpn_bbox: 0.0047, loss_cls: 0.0316, acc: 99.6953, loss_bbox: 0.2477, loss: 0.2917\n",
      "2022-05-26 19:13:40,329 - mmfewshot - INFO - Iter [94950/100000]\tlr: 1.000e-04, eta: 0:25:30, time: 0.272, data_time: 0.013, memory: 4571, loss_rpn_cls: 0.0038, loss_rpn_bbox: 0.0036, loss_cls: 0.0325, acc: 99.6094, loss_bbox: 0.3177, loss: 0.3576\n",
      "2022-05-26 19:13:53,758 - mmfewshot - INFO - Exp name: attention-rpn_r50_c4_tb-split2_1shot-fine-tuning-momentum-09.py\n",
      "2022-05-26 19:13:53,760 - mmfewshot - INFO - Iter [95000/100000]\tlr: 1.000e-04, eta: 0:25:15, time: 0.269, data_time: 0.013, memory: 4571, loss_rpn_cls: 0.0069, loss_rpn_bbox: 0.0057, loss_cls: 0.0387, acc: 99.6250, loss_bbox: 0.3123, loss: 0.3636\n",
      "2022-05-26 19:13:53,765 - mmdet - INFO - starting model initialization...\n"
     ]
    },
    {
     "name": "stdout",
     "output_type": "stream",
     "text": [
      "[>>>>>>>>>>>>>>>>>>>>>>>>>>>>>] 850/850, 76.8 task/s, elapsed: 11s, ETA:     0s"
     ]
    },
    {
     "name": "stderr",
     "output_type": "stream",
     "text": [
      "2022-05-26 19:14:04,901 - mmdet - INFO - model initialization done.\n"
     ]
    },
    {
     "name": "stdout",
     "output_type": "stream",
     "text": [
      "[>>>>>>>>>>>>>>>>>>>>>>>>>>>>>] 300/300, 12.7 task/s, elapsed: 24s, ETA:     0s\n",
      "---------------iou_thr: 0.5---------------\n"
     ]
    },
    {
     "name": "stderr",
     "output_type": "stream",
     "text": [
      "2022-05-26 19:14:28,845 - mmfewshot - INFO - \n",
      "+---------+-----+------+--------+-------+\n",
      "| class   | gts | dets | recall | ap    |\n",
      "+---------+-----+------+--------+-------+\n",
      "| fanta   | 291 | 1434 | 0.907  | 0.774 |\n",
      "| Mirinda | 111 | 509  | 0.802  | 0.620 |\n",
      "+---------+-----+------+--------+-------+\n",
      "| mAP     |     |      |        | 0.697 |\n",
      "+---------+-----+------+--------+-------+\n",
      "2022-05-26 19:14:28,848 - mmfewshot - INFO - BASE_CLASSES_SPLIT2 mAP: 0.6970568895339966\n",
      "2022-05-26 19:14:28,849 - mmfewshot - INFO - NOVEL_CLASSES_SPLIT2 mAP: nan\n",
      "2022-05-26 19:14:28,853 - mmfewshot - INFO - Exp name: attention-rpn_r50_c4_tb-split2_1shot-fine-tuning-momentum-09.py\n",
      "2022-05-26 19:14:28,855 - mmfewshot - INFO - Iter(val) [300]\tAP50: 0.6970, BASE_CLASSES_SPLIT2: AP50: 0.6970, NOVEL_CLASSES_SPLIT2: AP50: nan, mAP: 0.6971\n",
      "2022-05-26 19:14:42,291 - mmfewshot - INFO - Iter [95050/100000]\tlr: 1.000e-04, eta: 0:25:02, time: 0.971, data_time: 0.713, memory: 4571, loss_rpn_cls: 0.0088, loss_rpn_bbox: 0.0045, loss_cls: 0.0293, acc: 99.7188, loss_bbox: 0.2980, loss: 0.3406\n",
      "2022-05-26 19:14:55,899 - mmfewshot - INFO - Iter [95100/100000]\tlr: 1.000e-04, eta: 0:24:46, time: 0.272, data_time: 0.013, memory: 4571, loss_rpn_cls: 0.0058, loss_rpn_bbox: 0.0034, loss_cls: 0.0252, acc: 99.8125, loss_bbox: 0.2749, loss: 0.3092\n",
      "2022-05-26 19:15:09,428 - mmfewshot - INFO - Iter [95150/100000]\tlr: 1.000e-04, eta: 0:24:31, time: 0.270, data_time: 0.013, memory: 4571, loss_rpn_cls: 0.0040, loss_rpn_bbox: 0.0034, loss_cls: 0.0377, acc: 99.7500, loss_bbox: 0.2896, loss: 0.3347\n",
      "2022-05-26 19:15:22,886 - mmfewshot - INFO - Iter [95200/100000]\tlr: 1.000e-04, eta: 0:24:16, time: 0.269, data_time: 0.013, memory: 4571, loss_rpn_cls: 0.0052, loss_rpn_bbox: 0.0032, loss_cls: 0.0437, acc: 99.5625, loss_bbox: 0.2918, loss: 0.3439\n",
      "2022-05-26 19:15:36,277 - mmfewshot - INFO - Iter [95250/100000]\tlr: 1.000e-04, eta: 0:24:00, time: 0.268, data_time: 0.011, memory: 4571, loss_rpn_cls: 0.0088, loss_rpn_bbox: 0.0068, loss_cls: 0.0350, acc: 99.6016, loss_bbox: 0.3011, loss: 0.3518\n",
      "2022-05-26 19:15:49,766 - mmfewshot - INFO - Iter [95300/100000]\tlr: 1.000e-04, eta: 0:23:45, time: 0.270, data_time: 0.012, memory: 4571, loss_rpn_cls: 0.0079, loss_rpn_bbox: 0.0052, loss_cls: 0.0381, acc: 99.5781, loss_bbox: 0.2848, loss: 0.3360\n",
      "2022-05-26 19:16:03,305 - mmfewshot - INFO - Iter [95350/100000]\tlr: 1.000e-04, eta: 0:23:30, time: 0.271, data_time: 0.012, memory: 4571, loss_rpn_cls: 0.0055, loss_rpn_bbox: 0.0034, loss_cls: 0.0377, acc: 99.7344, loss_bbox: 0.2720, loss: 0.3186\n",
      "2022-05-26 19:16:16,768 - mmfewshot - INFO - Iter [95400/100000]\tlr: 1.000e-04, eta: 0:23:15, time: 0.269, data_time: 0.012, memory: 4571, loss_rpn_cls: 0.0061, loss_rpn_bbox: 0.0042, loss_cls: 0.0324, acc: 99.6875, loss_bbox: 0.3125, loss: 0.3552\n",
      "2022-05-26 19:16:30,314 - mmfewshot - INFO - Iter [95450/100000]\tlr: 1.000e-04, eta: 0:23:00, time: 0.271, data_time: 0.013, memory: 4571, loss_rpn_cls: 0.0098, loss_rpn_bbox: 0.0073, loss_cls: 0.0426, acc: 99.6406, loss_bbox: 0.2745, loss: 0.3342\n",
      "2022-05-26 19:16:43,770 - mmfewshot - INFO - Iter [95500/100000]\tlr: 1.000e-04, eta: 0:22:44, time: 0.269, data_time: 0.013, memory: 4571, loss_rpn_cls: 0.0049, loss_rpn_bbox: 0.0044, loss_cls: 0.0367, acc: 99.6016, loss_bbox: 0.2825, loss: 0.3286\n",
      "2022-05-26 19:16:57,224 - mmfewshot - INFO - Iter [95550/100000]\tlr: 1.000e-04, eta: 0:22:29, time: 0.269, data_time: 0.012, memory: 4571, loss_rpn_cls: 0.0045, loss_rpn_bbox: 0.0038, loss_cls: 0.0328, acc: 99.6484, loss_bbox: 0.3016, loss: 0.3427\n",
      "2022-05-26 19:17:10,784 - mmfewshot - INFO - Iter [95600/100000]\tlr: 1.000e-04, eta: 0:22:14, time: 0.271, data_time: 0.013, memory: 4571, loss_rpn_cls: 0.0067, loss_rpn_bbox: 0.0072, loss_cls: 0.0308, acc: 99.6250, loss_bbox: 0.2918, loss: 0.3365\n",
      "2022-05-26 19:17:24,348 - mmfewshot - INFO - Iter [95650/100000]\tlr: 1.000e-04, eta: 0:21:59, time: 0.271, data_time: 0.012, memory: 4571, loss_rpn_cls: 0.0128, loss_rpn_bbox: 0.0089, loss_cls: 0.0243, acc: 99.7656, loss_bbox: 0.3172, loss: 0.3632\n",
      "2022-05-26 19:17:37,799 - mmfewshot - INFO - Iter [95700/100000]\tlr: 1.000e-04, eta: 0:21:43, time: 0.269, data_time: 0.012, memory: 4571, loss_rpn_cls: 0.0050, loss_rpn_bbox: 0.0026, loss_cls: 0.0592, acc: 99.6016, loss_bbox: 0.2771, loss: 0.3439\n",
      "2022-05-26 19:17:51,248 - mmfewshot - INFO - Iter [95750/100000]\tlr: 1.000e-04, eta: 0:21:28, time: 0.269, data_time: 0.012, memory: 4571, loss_rpn_cls: 0.0054, loss_rpn_bbox: 0.0037, loss_cls: 0.0236, acc: 99.7344, loss_bbox: 0.3054, loss: 0.3382\n",
      "2022-05-26 19:18:04,784 - mmfewshot - INFO - Iter [95800/100000]\tlr: 1.000e-04, eta: 0:21:13, time: 0.271, data_time: 0.012, memory: 4571, loss_rpn_cls: 0.0060, loss_rpn_bbox: 0.0054, loss_cls: 0.0340, acc: 99.6406, loss_bbox: 0.3085, loss: 0.3540\n",
      "2022-05-26 19:18:18,331 - mmfewshot - INFO - Iter [95850/100000]\tlr: 1.000e-04, eta: 0:20:58, time: 0.271, data_time: 0.013, memory: 4571, loss_rpn_cls: 0.0065, loss_rpn_bbox: 0.0048, loss_cls: 0.0312, acc: 99.5859, loss_bbox: 0.3219, loss: 0.3644\n",
      "2022-05-26 19:18:31,807 - mmfewshot - INFO - Iter [95900/100000]\tlr: 1.000e-04, eta: 0:20:42, time: 0.270, data_time: 0.012, memory: 4571, loss_rpn_cls: 0.0061, loss_rpn_bbox: 0.0050, loss_cls: 0.0382, acc: 99.6641, loss_bbox: 0.2911, loss: 0.3404\n",
      "2022-05-26 19:18:45,227 - mmfewshot - INFO - Iter [95950/100000]\tlr: 1.000e-04, eta: 0:20:27, time: 0.268, data_time: 0.012, memory: 4571, loss_rpn_cls: 0.0089, loss_rpn_bbox: 0.0069, loss_cls: 0.0319, acc: 99.7109, loss_bbox: 0.2741, loss: 0.3217\n",
      "2022-05-26 19:18:58,620 - mmfewshot - INFO - Exp name: attention-rpn_r50_c4_tb-split2_1shot-fine-tuning-momentum-09.py\n",
      "2022-05-26 19:18:58,621 - mmfewshot - INFO - Iter [96000/100000]\tlr: 1.000e-04, eta: 0:20:12, time: 0.268, data_time: 0.012, memory: 4571, loss_rpn_cls: 0.0060, loss_rpn_bbox: 0.0067, loss_cls: 0.0285, acc: 99.6719, loss_bbox: 0.2914, loss: 0.3326\n",
      "2022-05-26 19:18:58,626 - mmdet - INFO - starting model initialization...\n"
     ]
    },
    {
     "name": "stdout",
     "output_type": "stream",
     "text": [
      "[>>>>>>>>>>>>>>>>>>>>>>>>>>>>>] 850/850, 78.0 task/s, elapsed: 11s, ETA:     0s"
     ]
    },
    {
     "name": "stderr",
     "output_type": "stream",
     "text": [
      "2022-05-26 19:19:09,596 - mmdet - INFO - model initialization done.\n"
     ]
    },
    {
     "name": "stdout",
     "output_type": "stream",
     "text": [
      "[>>>>>>>>>>>>>>>>>>>>>>>>>>>>>] 300/300, 12.6 task/s, elapsed: 24s, ETA:     0s\n",
      "---------------iou_thr: 0.5---------------\n"
     ]
    },
    {
     "name": "stderr",
     "output_type": "stream",
     "text": [
      "2022-05-26 19:19:33,672 - mmfewshot - INFO - \n",
      "+---------+-----+------+--------+-------+\n",
      "| class   | gts | dets | recall | ap    |\n",
      "+---------+-----+------+--------+-------+\n",
      "| fanta   | 291 | 1416 | 0.911  | 0.764 |\n",
      "| Mirinda | 111 | 479  | 0.802  | 0.611 |\n",
      "+---------+-----+------+--------+-------+\n",
      "| mAP     |     |      |        | 0.688 |\n",
      "+---------+-----+------+--------+-------+\n",
      "2022-05-26 19:19:33,675 - mmfewshot - INFO - BASE_CLASSES_SPLIT2 mAP: 0.6876500844955444\n",
      "2022-05-26 19:19:33,676 - mmfewshot - INFO - NOVEL_CLASSES_SPLIT2 mAP: nan\n",
      "2022-05-26 19:19:33,679 - mmfewshot - INFO - Exp name: attention-rpn_r50_c4_tb-split2_1shot-fine-tuning-momentum-09.py\n",
      "2022-05-26 19:19:33,681 - mmfewshot - INFO - Iter(val) [300]\tAP50: 0.6880, BASE_CLASSES_SPLIT2: AP50: 0.6880, NOVEL_CLASSES_SPLIT2: AP50: nan, mAP: 0.6877\n",
      "2022-05-26 19:19:47,146 - mmfewshot - INFO - Iter [96050/100000]\tlr: 1.000e-04, eta: 0:19:58, time: 0.970, data_time: 0.714, memory: 4571, loss_rpn_cls: 0.0066, loss_rpn_bbox: 0.0039, loss_cls: 0.0374, acc: 99.7344, loss_bbox: 0.2939, loss: 0.3418\n",
      "2022-05-26 19:20:00,611 - mmfewshot - INFO - Iter [96100/100000]\tlr: 1.000e-04, eta: 0:19:43, time: 0.269, data_time: 0.012, memory: 4571, loss_rpn_cls: 0.0064, loss_rpn_bbox: 0.0045, loss_cls: 0.0423, acc: 99.6641, loss_bbox: 0.2456, loss: 0.2988\n",
      "2022-05-26 19:20:14,001 - mmfewshot - INFO - Iter [96150/100000]\tlr: 1.000e-04, eta: 0:19:28, time: 0.268, data_time: 0.012, memory: 4571, loss_rpn_cls: 0.0045, loss_rpn_bbox: 0.0049, loss_cls: 0.0543, acc: 99.5625, loss_bbox: 0.2700, loss: 0.3336\n",
      "2022-05-26 19:20:27,417 - mmfewshot - INFO - Iter [96200/100000]\tlr: 1.000e-04, eta: 0:19:12, time: 0.268, data_time: 0.013, memory: 4571, loss_rpn_cls: 0.0098, loss_rpn_bbox: 0.0070, loss_cls: 0.0324, acc: 99.7266, loss_bbox: 0.2782, loss: 0.3274\n",
      "2022-05-26 19:20:40,809 - mmfewshot - INFO - Iter [96250/100000]\tlr: 1.000e-04, eta: 0:18:57, time: 0.268, data_time: 0.012, memory: 4571, loss_rpn_cls: 0.0064, loss_rpn_bbox: 0.0044, loss_cls: 0.0309, acc: 99.6641, loss_bbox: 0.3071, loss: 0.3487\n",
      "2022-05-26 19:20:54,279 - mmfewshot - INFO - Iter [96300/100000]\tlr: 1.000e-04, eta: 0:18:42, time: 0.269, data_time: 0.012, memory: 4571, loss_rpn_cls: 0.0045, loss_rpn_bbox: 0.0045, loss_cls: 0.0420, acc: 99.5938, loss_bbox: 0.3175, loss: 0.3685\n",
      "2022-05-26 19:21:07,692 - mmfewshot - INFO - Iter [96350/100000]\tlr: 1.000e-04, eta: 0:18:27, time: 0.268, data_time: 0.013, memory: 4571, loss_rpn_cls: 0.0101, loss_rpn_bbox: 0.0076, loss_cls: 0.0429, acc: 99.6641, loss_bbox: 0.2931, loss: 0.3538\n",
      "2022-05-26 19:21:21,119 - mmfewshot - INFO - Iter [96400/100000]\tlr: 1.000e-04, eta: 0:18:11, time: 0.269, data_time: 0.012, memory: 4571, loss_rpn_cls: 0.0126, loss_rpn_bbox: 0.0077, loss_cls: 0.0343, acc: 99.7500, loss_bbox: 0.3011, loss: 0.3557\n",
      "2022-05-26 19:21:34,566 - mmfewshot - INFO - Iter [96450/100000]\tlr: 1.000e-04, eta: 0:17:56, time: 0.269, data_time: 0.012, memory: 4571, loss_rpn_cls: 0.0070, loss_rpn_bbox: 0.0047, loss_cls: 0.0335, acc: 99.6953, loss_bbox: 0.2615, loss: 0.3068\n",
      "2022-05-26 19:21:48,090 - mmfewshot - INFO - Iter [96500/100000]\tlr: 1.000e-04, eta: 0:17:41, time: 0.270, data_time: 0.013, memory: 4571, loss_rpn_cls: 0.0077, loss_rpn_bbox: 0.0063, loss_cls: 0.0285, acc: 99.6562, loss_bbox: 0.3022, loss: 0.3447\n",
      "2022-05-26 19:22:01,598 - mmfewshot - INFO - Iter [96550/100000]\tlr: 1.000e-04, eta: 0:17:26, time: 0.270, data_time: 0.013, memory: 4571, loss_rpn_cls: 0.0044, loss_rpn_bbox: 0.0039, loss_cls: 0.0348, acc: 99.6484, loss_bbox: 0.2814, loss: 0.3245\n",
      "2022-05-26 19:22:14,966 - mmfewshot - INFO - Iter [96600/100000]\tlr: 1.000e-04, eta: 0:17:11, time: 0.267, data_time: 0.011, memory: 4571, loss_rpn_cls: 0.0045, loss_rpn_bbox: 0.0042, loss_cls: 0.0324, acc: 99.7109, loss_bbox: 0.2936, loss: 0.3347\n",
      "2022-05-26 19:22:28,495 - mmfewshot - INFO - Iter [96650/100000]\tlr: 1.000e-04, eta: 0:16:55, time: 0.270, data_time: 0.012, memory: 4571, loss_rpn_cls: 0.0157, loss_rpn_bbox: 0.0097, loss_cls: 0.0289, acc: 99.6328, loss_bbox: 0.3290, loss: 0.3833\n",
      "2022-05-26 19:22:41,741 - mmfewshot - INFO - Iter [96700/100000]\tlr: 1.000e-04, eta: 0:16:40, time: 0.265, data_time: 0.011, memory: 4571, loss_rpn_cls: 0.0046, loss_rpn_bbox: 0.0031, loss_cls: 0.0319, acc: 99.7578, loss_bbox: 0.2582, loss: 0.2978\n",
      "2022-05-26 19:22:55,196 - mmfewshot - INFO - Iter [96750/100000]\tlr: 1.000e-04, eta: 0:16:25, time: 0.269, data_time: 0.013, memory: 4571, loss_rpn_cls: 0.0045, loss_rpn_bbox: 0.0037, loss_cls: 0.0387, acc: 99.5781, loss_bbox: 0.2730, loss: 0.3200\n",
      "2022-05-26 19:23:08,685 - mmfewshot - INFO - Iter [96800/100000]\tlr: 1.000e-04, eta: 0:16:10, time: 0.270, data_time: 0.012, memory: 4571, loss_rpn_cls: 0.0092, loss_rpn_bbox: 0.0100, loss_cls: 0.0345, acc: 99.6250, loss_bbox: 0.3282, loss: 0.3819\n",
      "2022-05-26 19:23:22,047 - mmfewshot - INFO - Iter [96850/100000]\tlr: 1.000e-04, eta: 0:15:54, time: 0.267, data_time: 0.011, memory: 4571, loss_rpn_cls: 0.0042, loss_rpn_bbox: 0.0030, loss_cls: 0.0385, acc: 99.6484, loss_bbox: 0.2875, loss: 0.3333\n",
      "2022-05-26 19:23:35,323 - mmfewshot - INFO - Iter [96900/100000]\tlr: 1.000e-04, eta: 0:15:39, time: 0.265, data_time: 0.010, memory: 4571, loss_rpn_cls: 0.0049, loss_rpn_bbox: 0.0039, loss_cls: 0.0341, acc: 99.7344, loss_bbox: 0.2704, loss: 0.3133\n",
      "2022-05-26 19:23:48,715 - mmfewshot - INFO - Iter [96950/100000]\tlr: 1.000e-04, eta: 0:15:24, time: 0.268, data_time: 0.012, memory: 4571, loss_rpn_cls: 0.0063, loss_rpn_bbox: 0.0043, loss_cls: 0.0277, acc: 99.6875, loss_bbox: 0.2785, loss: 0.3168\n",
      "2022-05-26 19:24:02,022 - mmfewshot - INFO - Exp name: attention-rpn_r50_c4_tb-split2_1shot-fine-tuning-momentum-09.py\n",
      "2022-05-26 19:24:02,023 - mmfewshot - INFO - Iter [97000/100000]\tlr: 1.000e-04, eta: 0:15:09, time: 0.266, data_time: 0.012, memory: 4571, loss_rpn_cls: 0.0059, loss_rpn_bbox: 0.0042, loss_cls: 0.0388, acc: 99.5938, loss_bbox: 0.3384, loss: 0.3873\n",
      "2022-05-26 19:24:02,028 - mmdet - INFO - starting model initialization...\n"
     ]
    },
    {
     "name": "stdout",
     "output_type": "stream",
     "text": [
      "[>>>>>>>>>>>>>>>>>>>>>>>>>>>>>] 850/850, 74.6 task/s, elapsed: 11s, ETA:     0s"
     ]
    },
    {
     "name": "stderr",
     "output_type": "stream",
     "text": [
      "2022-05-26 19:24:13,489 - mmdet - INFO - model initialization done.\n"
     ]
    },
    {
     "name": "stdout",
     "output_type": "stream",
     "text": [
      "[>>>>>>>>>>>>>>>>>>>>>>>>>>>>>] 300/300, 12.7 task/s, elapsed: 24s, ETA:     0s\n",
      "---------------iou_thr: 0.5---------------\n"
     ]
    },
    {
     "name": "stderr",
     "output_type": "stream",
     "text": [
      "2022-05-26 19:24:37,464 - mmfewshot - INFO - \n",
      "+---------+-----+------+--------+-------+\n",
      "| class   | gts | dets | recall | ap    |\n",
      "+---------+-----+------+--------+-------+\n",
      "| fanta   | 291 | 1357 | 0.928  | 0.814 |\n",
      "| Mirinda | 111 | 402  | 0.793  | 0.628 |\n",
      "+---------+-----+------+--------+-------+\n",
      "| mAP     |     |      |        | 0.721 |\n",
      "+---------+-----+------+--------+-------+\n",
      "2022-05-26 19:24:37,467 - mmfewshot - INFO - BASE_CLASSES_SPLIT2 mAP: 0.7210782766342163\n",
      "2022-05-26 19:24:37,468 - mmfewshot - INFO - NOVEL_CLASSES_SPLIT2 mAP: nan\n",
      "2022-05-26 19:24:37,471 - mmfewshot - INFO - Exp name: attention-rpn_r50_c4_tb-split2_1shot-fine-tuning-momentum-09.py\n",
      "2022-05-26 19:24:37,472 - mmfewshot - INFO - Iter(val) [300]\tAP50: 0.7210, BASE_CLASSES_SPLIT2: AP50: 0.7210, NOVEL_CLASSES_SPLIT2: AP50: nan, mAP: 0.7211\n",
      "2022-05-26 19:24:50,909 - mmfewshot - INFO - Iter [97050/100000]\tlr: 1.000e-04, eta: 0:14:55, time: 0.978, data_time: 0.722, memory: 4571, loss_rpn_cls: 0.0047, loss_rpn_bbox: 0.0035, loss_cls: 0.0332, acc: 99.7109, loss_bbox: 0.2722, loss: 0.3136\n",
      "2022-05-26 19:25:04,403 - mmfewshot - INFO - Iter [97100/100000]\tlr: 1.000e-04, eta: 0:14:39, time: 0.270, data_time: 0.013, memory: 4571, loss_rpn_cls: 0.0060, loss_rpn_bbox: 0.0053, loss_cls: 0.0328, acc: 99.6641, loss_bbox: 0.3055, loss: 0.3495\n",
      "2022-05-26 19:25:17,966 - mmfewshot - INFO - Iter [97150/100000]\tlr: 1.000e-04, eta: 0:14:24, time: 0.271, data_time: 0.012, memory: 4571, loss_rpn_cls: 0.0059, loss_rpn_bbox: 0.0036, loss_cls: 0.0368, acc: 99.7109, loss_bbox: 0.2523, loss: 0.2985\n",
      "2022-05-26 19:25:31,308 - mmfewshot - INFO - Iter [97200/100000]\tlr: 1.000e-04, eta: 0:14:09, time: 0.267, data_time: 0.012, memory: 4571, loss_rpn_cls: 0.0047, loss_rpn_bbox: 0.0043, loss_cls: 0.0245, acc: 99.7422, loss_bbox: 0.2951, loss: 0.3286\n",
      "2022-05-26 19:25:44,626 - mmfewshot - INFO - Iter [97250/100000]\tlr: 1.000e-04, eta: 0:13:54, time: 0.266, data_time: 0.011, memory: 4571, loss_rpn_cls: 0.0067, loss_rpn_bbox: 0.0046, loss_cls: 0.0221, acc: 99.7734, loss_bbox: 0.2701, loss: 0.3034\n",
      "2022-05-26 19:25:57,999 - mmfewshot - INFO - Iter [97300/100000]\tlr: 1.000e-04, eta: 0:13:39, time: 0.267, data_time: 0.011, memory: 4571, loss_rpn_cls: 0.0077, loss_rpn_bbox: 0.0057, loss_cls: 0.0341, acc: 99.6797, loss_bbox: 0.2995, loss: 0.3471\n",
      "2022-05-26 19:26:11,574 - mmfewshot - INFO - Iter [97350/100000]\tlr: 1.000e-04, eta: 0:13:23, time: 0.272, data_time: 0.014, memory: 4571, loss_rpn_cls: 0.0039, loss_rpn_bbox: 0.0032, loss_cls: 0.0369, acc: 99.7656, loss_bbox: 0.2641, loss: 0.3082\n",
      "2022-05-26 19:26:25,061 - mmfewshot - INFO - Iter [97400/100000]\tlr: 1.000e-04, eta: 0:13:08, time: 0.270, data_time: 0.012, memory: 4571, loss_rpn_cls: 0.0066, loss_rpn_bbox: 0.0058, loss_cls: 0.0355, acc: 99.6953, loss_bbox: 0.3119, loss: 0.3597\n",
      "2022-05-26 19:26:38,538 - mmfewshot - INFO - Iter [97450/100000]\tlr: 1.000e-04, eta: 0:12:53, time: 0.270, data_time: 0.012, memory: 4571, loss_rpn_cls: 0.0068, loss_rpn_bbox: 0.0047, loss_cls: 0.0356, acc: 99.6953, loss_bbox: 0.2814, loss: 0.3284\n",
      "2022-05-26 19:26:52,035 - mmfewshot - INFO - Iter [97500/100000]\tlr: 1.000e-04, eta: 0:12:38, time: 0.270, data_time: 0.012, memory: 4571, loss_rpn_cls: 0.0052, loss_rpn_bbox: 0.0052, loss_cls: 0.0288, acc: 99.7266, loss_bbox: 0.3043, loss: 0.3434\n",
      "2022-05-26 19:27:05,695 - mmfewshot - INFO - Iter [97550/100000]\tlr: 1.000e-04, eta: 0:12:23, time: 0.273, data_time: 0.013, memory: 4571, loss_rpn_cls: 0.0061, loss_rpn_bbox: 0.0073, loss_cls: 0.0343, acc: 99.6406, loss_bbox: 0.2888, loss: 0.3364\n",
      "2022-05-26 19:27:19,200 - mmfewshot - INFO - Iter [97600/100000]\tlr: 1.000e-04, eta: 0:12:07, time: 0.270, data_time: 0.013, memory: 4571, loss_rpn_cls: 0.0051, loss_rpn_bbox: 0.0041, loss_cls: 0.0422, acc: 99.6797, loss_bbox: 0.2917, loss: 0.3432\n",
      "2022-05-26 19:27:32,657 - mmfewshot - INFO - Iter [97650/100000]\tlr: 1.000e-04, eta: 0:11:52, time: 0.269, data_time: 0.012, memory: 4571, loss_rpn_cls: 0.0035, loss_rpn_bbox: 0.0035, loss_cls: 0.0319, acc: 99.7188, loss_bbox: 0.3032, loss: 0.3421\n",
      "2022-05-26 19:27:46,079 - mmfewshot - INFO - Iter [97700/100000]\tlr: 1.000e-04, eta: 0:11:37, time: 0.268, data_time: 0.012, memory: 4571, loss_rpn_cls: 0.0059, loss_rpn_bbox: 0.0056, loss_cls: 0.0423, acc: 99.7031, loss_bbox: 0.2939, loss: 0.3478\n",
      "2022-05-26 19:27:59,577 - mmfewshot - INFO - Iter [97750/100000]\tlr: 1.000e-04, eta: 0:11:22, time: 0.270, data_time: 0.013, memory: 4571, loss_rpn_cls: 0.0065, loss_rpn_bbox: 0.0056, loss_cls: 0.0378, acc: 99.7031, loss_bbox: 0.2758, loss: 0.3256\n",
      "2022-05-26 19:28:13,005 - mmfewshot - INFO - Iter [97800/100000]\tlr: 1.000e-04, eta: 0:11:07, time: 0.268, data_time: 0.012, memory: 4571, loss_rpn_cls: 0.0077, loss_rpn_bbox: 0.0057, loss_cls: 0.0372, acc: 99.7422, loss_bbox: 0.2964, loss: 0.3470\n",
      "2022-05-26 19:28:26,428 - mmfewshot - INFO - Iter [97850/100000]\tlr: 1.000e-04, eta: 0:10:51, time: 0.268, data_time: 0.010, memory: 4571, loss_rpn_cls: 0.0048, loss_rpn_bbox: 0.0049, loss_cls: 0.0291, acc: 99.6562, loss_bbox: 0.3137, loss: 0.3525\n",
      "2022-05-26 19:28:39,662 - mmfewshot - INFO - Iter [97900/100000]\tlr: 1.000e-04, eta: 0:10:36, time: 0.265, data_time: 0.010, memory: 4571, loss_rpn_cls: 0.0070, loss_rpn_bbox: 0.0043, loss_cls: 0.0298, acc: 99.7422, loss_bbox: 0.2897, loss: 0.3309\n",
      "2022-05-26 19:28:53,079 - mmfewshot - INFO - Iter [97950/100000]\tlr: 1.000e-04, eta: 0:10:21, time: 0.269, data_time: 0.011, memory: 4571, loss_rpn_cls: 0.0086, loss_rpn_bbox: 0.0078, loss_cls: 0.0298, acc: 99.6875, loss_bbox: 0.2735, loss: 0.3197\n",
      "2022-05-26 19:29:06,522 - mmfewshot - INFO - Exp name: attention-rpn_r50_c4_tb-split2_1shot-fine-tuning-momentum-09.py\n",
      "2022-05-26 19:29:06,524 - mmfewshot - INFO - Iter [98000/100000]\tlr: 1.000e-04, eta: 0:10:06, time: 0.269, data_time: 0.012, memory: 4571, loss_rpn_cls: 0.0037, loss_rpn_bbox: 0.0027, loss_cls: 0.0444, acc: 99.5859, loss_bbox: 0.2712, loss: 0.3220\n",
      "2022-05-26 19:29:06,529 - mmdet - INFO - starting model initialization...\n"
     ]
    },
    {
     "name": "stdout",
     "output_type": "stream",
     "text": [
      "[>>>>>>>>>>>>>>>>>>>>>>>>>>>>>] 850/850, 76.7 task/s, elapsed: 11s, ETA:     0s"
     ]
    },
    {
     "name": "stderr",
     "output_type": "stream",
     "text": [
      "2022-05-26 19:29:17,695 - mmdet - INFO - model initialization done.\n"
     ]
    },
    {
     "name": "stdout",
     "output_type": "stream",
     "text": [
      "[>>>>>>>>>>>>>>>>>>>>>>>>>>>>>] 300/300, 12.6 task/s, elapsed: 24s, ETA:     0s\n",
      "---------------iou_thr: 0.5---------------\n"
     ]
    },
    {
     "name": "stderr",
     "output_type": "stream",
     "text": [
      "2022-05-26 19:29:41,874 - mmfewshot - INFO - \n",
      "+---------+-----+------+--------+-------+\n",
      "| class   | gts | dets | recall | ap    |\n",
      "+---------+-----+------+--------+-------+\n",
      "| fanta   | 291 | 1333 | 0.897  | 0.765 |\n",
      "| Mirinda | 111 | 502  | 0.802  | 0.648 |\n",
      "+---------+-----+------+--------+-------+\n",
      "| mAP     |     |      |        | 0.706 |\n",
      "+---------+-----+------+--------+-------+\n",
      "2022-05-26 19:29:41,878 - mmfewshot - INFO - BASE_CLASSES_SPLIT2 mAP: 0.7064684629440308\n",
      "2022-05-26 19:29:41,879 - mmfewshot - INFO - NOVEL_CLASSES_SPLIT2 mAP: nan\n",
      "2022-05-26 19:29:41,884 - mmfewshot - INFO - Exp name: attention-rpn_r50_c4_tb-split2_1shot-fine-tuning-momentum-09.py\n",
      "2022-05-26 19:29:41,886 - mmfewshot - INFO - Iter(val) [300]\tAP50: 0.7060, BASE_CLASSES_SPLIT2: AP50: 0.7060, NOVEL_CLASSES_SPLIT2: AP50: nan, mAP: 0.7065\n",
      "2022-05-26 19:29:55,398 - mmfewshot - INFO - Iter [98050/100000]\tlr: 1.000e-04, eta: 0:09:51, time: 0.978, data_time: 0.720, memory: 4571, loss_rpn_cls: 0.0058, loss_rpn_bbox: 0.0051, loss_cls: 0.0261, acc: 99.8047, loss_bbox: 0.2719, loss: 0.3090\n",
      "2022-05-26 19:30:08,786 - mmfewshot - INFO - Iter [98100/100000]\tlr: 1.000e-04, eta: 0:09:36, time: 0.268, data_time: 0.012, memory: 4571, loss_rpn_cls: 0.0035, loss_rpn_bbox: 0.0034, loss_cls: 0.0278, acc: 99.7344, loss_bbox: 0.2834, loss: 0.3181\n",
      "2022-05-26 19:30:22,361 - mmfewshot - INFO - Iter [98150/100000]\tlr: 1.000e-04, eta: 0:09:21, time: 0.271, data_time: 0.013, memory: 4571, loss_rpn_cls: 0.0095, loss_rpn_bbox: 0.0074, loss_cls: 0.0288, acc: 99.6953, loss_bbox: 0.3343, loss: 0.3799\n",
      "2022-05-26 19:30:35,889 - mmfewshot - INFO - Iter [98200/100000]\tlr: 1.000e-04, eta: 0:09:06, time: 0.270, data_time: 0.012, memory: 4571, loss_rpn_cls: 0.0064, loss_rpn_bbox: 0.0065, loss_cls: 0.0306, acc: 99.6875, loss_bbox: 0.3237, loss: 0.3671\n",
      "2022-05-26 19:30:49,380 - mmfewshot - INFO - Iter [98250/100000]\tlr: 1.000e-04, eta: 0:08:50, time: 0.270, data_time: 0.013, memory: 4571, loss_rpn_cls: 0.0048, loss_rpn_bbox: 0.0046, loss_cls: 0.0345, acc: 99.6875, loss_bbox: 0.2653, loss: 0.3091\n",
      "2022-05-26 19:31:03,042 - mmfewshot - INFO - Iter [98300/100000]\tlr: 1.000e-04, eta: 0:08:35, time: 0.273, data_time: 0.013, memory: 4571, loss_rpn_cls: 0.0070, loss_rpn_bbox: 0.0050, loss_cls: 0.0241, acc: 99.6875, loss_bbox: 0.3288, loss: 0.3648\n",
      "2022-05-26 19:31:16,616 - mmfewshot - INFO - Iter [98350/100000]\tlr: 1.000e-04, eta: 0:08:20, time: 0.272, data_time: 0.013, memory: 4571, loss_rpn_cls: 0.0056, loss_rpn_bbox: 0.0053, loss_cls: 0.0274, acc: 99.6953, loss_bbox: 0.3065, loss: 0.3448\n",
      "2022-05-26 19:31:30,134 - mmfewshot - INFO - Iter [98400/100000]\tlr: 1.000e-04, eta: 0:08:05, time: 0.270, data_time: 0.012, memory: 4571, loss_rpn_cls: 0.0047, loss_rpn_bbox: 0.0037, loss_cls: 0.0361, acc: 99.6953, loss_bbox: 0.2883, loss: 0.3327\n",
      "2022-05-26 19:31:43,683 - mmfewshot - INFO - Iter [98450/100000]\tlr: 1.000e-04, eta: 0:07:50, time: 0.271, data_time: 0.013, memory: 4571, loss_rpn_cls: 0.0053, loss_rpn_bbox: 0.0074, loss_cls: 0.0297, acc: 99.6406, loss_bbox: 0.3250, loss: 0.3674\n",
      "2022-05-26 19:31:57,110 - mmfewshot - INFO - Iter [98500/100000]\tlr: 1.000e-04, eta: 0:07:34, time: 0.268, data_time: 0.012, memory: 4571, loss_rpn_cls: 0.0036, loss_rpn_bbox: 0.0036, loss_cls: 0.0315, acc: 99.6875, loss_bbox: 0.3135, loss: 0.3522\n",
      "2022-05-26 19:32:10,401 - mmfewshot - INFO - Iter [98550/100000]\tlr: 1.000e-04, eta: 0:07:19, time: 0.266, data_time: 0.011, memory: 4571, loss_rpn_cls: 0.0042, loss_rpn_bbox: 0.0053, loss_cls: 0.0300, acc: 99.7344, loss_bbox: 0.3072, loss: 0.3467\n",
      "2022-05-26 19:32:23,883 - mmfewshot - INFO - Iter [98600/100000]\tlr: 1.000e-04, eta: 0:07:04, time: 0.270, data_time: 0.012, memory: 4571, loss_rpn_cls: 0.0057, loss_rpn_bbox: 0.0034, loss_cls: 0.0367, acc: 99.7344, loss_bbox: 0.2528, loss: 0.2986\n",
      "2022-05-26 19:32:37,339 - mmfewshot - INFO - Iter [98650/100000]\tlr: 1.000e-04, eta: 0:06:49, time: 0.269, data_time: 0.012, memory: 4571, loss_rpn_cls: 0.0054, loss_rpn_bbox: 0.0037, loss_cls: 0.0283, acc: 99.7500, loss_bbox: 0.2784, loss: 0.3158\n",
      "2022-05-26 19:32:50,831 - mmfewshot - INFO - Iter [98700/100000]\tlr: 1.000e-04, eta: 0:06:34, time: 0.270, data_time: 0.013, memory: 4571, loss_rpn_cls: 0.0041, loss_rpn_bbox: 0.0049, loss_cls: 0.0375, acc: 99.6328, loss_bbox: 0.2914, loss: 0.3379\n",
      "2022-05-26 19:33:04,286 - mmfewshot - INFO - Iter [98750/100000]\tlr: 1.000e-04, eta: 0:06:19, time: 0.269, data_time: 0.013, memory: 4571, loss_rpn_cls: 0.0043, loss_rpn_bbox: 0.0033, loss_cls: 0.0422, acc: 99.7188, loss_bbox: 0.2752, loss: 0.3249\n",
      "2022-05-26 19:33:17,768 - mmfewshot - INFO - Iter [98800/100000]\tlr: 1.000e-04, eta: 0:06:03, time: 0.270, data_time: 0.012, memory: 4571, loss_rpn_cls: 0.0068, loss_rpn_bbox: 0.0083, loss_cls: 0.0339, acc: 99.6641, loss_bbox: 0.2847, loss: 0.3337\n",
      "2022-05-26 19:33:31,230 - mmfewshot - INFO - Iter [98850/100000]\tlr: 1.000e-04, eta: 0:05:48, time: 0.269, data_time: 0.012, memory: 4571, loss_rpn_cls: 0.0085, loss_rpn_bbox: 0.0088, loss_cls: 0.0347, acc: 99.6250, loss_bbox: 0.2786, loss: 0.3306\n",
      "2022-05-26 19:33:44,691 - mmfewshot - INFO - Iter [98900/100000]\tlr: 1.000e-04, eta: 0:05:33, time: 0.269, data_time: 0.013, memory: 4571, loss_rpn_cls: 0.0043, loss_rpn_bbox: 0.0037, loss_cls: 0.0361, acc: 99.7031, loss_bbox: 0.2870, loss: 0.3310\n",
      "2022-05-26 19:33:58,159 - mmfewshot - INFO - Iter [98950/100000]\tlr: 1.000e-04, eta: 0:05:18, time: 0.269, data_time: 0.013, memory: 4571, loss_rpn_cls: 0.0046, loss_rpn_bbox: 0.0039, loss_cls: 0.0310, acc: 99.7500, loss_bbox: 0.2973, loss: 0.3367\n",
      "2022-05-26 19:34:11,693 - mmfewshot - INFO - Exp name: attention-rpn_r50_c4_tb-split2_1shot-fine-tuning-momentum-09.py\n",
      "2022-05-26 19:34:11,696 - mmfewshot - INFO - Iter [99000/100000]\tlr: 1.000e-04, eta: 0:05:03, time: 0.271, data_time: 0.012, memory: 4571, loss_rpn_cls: 0.0063, loss_rpn_bbox: 0.0058, loss_cls: 0.0306, acc: 99.6719, loss_bbox: 0.3195, loss: 0.3622\n",
      "2022-05-26 19:34:11,701 - mmdet - INFO - starting model initialization...\n"
     ]
    },
    {
     "name": "stdout",
     "output_type": "stream",
     "text": [
      "[>>>>>>>>>>>>>>>>>>>>>>>>>>>>>] 850/850, 77.3 task/s, elapsed: 11s, ETA:     0s"
     ]
    },
    {
     "name": "stderr",
     "output_type": "stream",
     "text": [
      "2022-05-26 19:34:22,762 - mmdet - INFO - model initialization done.\n"
     ]
    },
    {
     "name": "stdout",
     "output_type": "stream",
     "text": [
      "[>>>>>>>>>>>>>>>>>>>>>>>>>>>>>] 300/300, 12.8 task/s, elapsed: 23s, ETA:     0s\n",
      "---------------iou_thr: 0.5---------------\n"
     ]
    },
    {
     "name": "stderr",
     "output_type": "stream",
     "text": [
      "2022-05-26 19:34:46,522 - mmfewshot - INFO - \n",
      "+---------+-----+------+--------+-------+\n",
      "| class   | gts | dets | recall | ap    |\n",
      "+---------+-----+------+--------+-------+\n",
      "| fanta   | 291 | 1288 | 0.897  | 0.786 |\n",
      "| Mirinda | 111 | 518  | 0.793  | 0.655 |\n",
      "+---------+-----+------+--------+-------+\n",
      "| mAP     |     |      |        | 0.720 |\n",
      "+---------+-----+------+--------+-------+\n",
      "2022-05-26 19:34:46,525 - mmfewshot - INFO - BASE_CLASSES_SPLIT2 mAP: 0.7204873561859131\n",
      "2022-05-26 19:34:46,526 - mmfewshot - INFO - NOVEL_CLASSES_SPLIT2 mAP: nan\n",
      "2022-05-26 19:34:46,530 - mmfewshot - INFO - Exp name: attention-rpn_r50_c4_tb-split2_1shot-fine-tuning-momentum-09.py\n",
      "2022-05-26 19:34:46,531 - mmfewshot - INFO - Iter(val) [300]\tAP50: 0.7200, BASE_CLASSES_SPLIT2: AP50: 0.7200, NOVEL_CLASSES_SPLIT2: AP50: nan, mAP: 0.7205\n",
      "2022-05-26 19:35:00,101 - mmfewshot - INFO - Iter [99050/100000]\tlr: 1.000e-04, eta: 0:04:48, time: 0.968, data_time: 0.709, memory: 4571, loss_rpn_cls: 0.0086, loss_rpn_bbox: 0.0045, loss_cls: 0.0288, acc: 99.6641, loss_bbox: 0.2809, loss: 0.3229\n",
      "2022-05-26 19:35:13,529 - mmfewshot - INFO - Iter [99100/100000]\tlr: 1.000e-04, eta: 0:04:33, time: 0.269, data_time: 0.013, memory: 4571, loss_rpn_cls: 0.0045, loss_rpn_bbox: 0.0040, loss_cls: 0.0501, acc: 99.6172, loss_bbox: 0.2934, loss: 0.3520\n",
      "2022-05-26 19:35:27,081 - mmfewshot - INFO - Iter [99150/100000]\tlr: 1.000e-04, eta: 0:04:17, time: 0.271, data_time: 0.013, memory: 4571, loss_rpn_cls: 0.0058, loss_rpn_bbox: 0.0047, loss_cls: 0.0306, acc: 99.7188, loss_bbox: 0.3285, loss: 0.3696\n",
      "2022-05-26 19:35:40,464 - mmfewshot - INFO - Iter [99200/100000]\tlr: 1.000e-04, eta: 0:04:02, time: 0.267, data_time: 0.012, memory: 4571, loss_rpn_cls: 0.0069, loss_rpn_bbox: 0.0055, loss_cls: 0.0314, acc: 99.6641, loss_bbox: 0.3223, loss: 0.3661\n",
      "2022-05-26 19:35:53,961 - mmfewshot - INFO - Iter [99250/100000]\tlr: 1.000e-04, eta: 0:03:47, time: 0.270, data_time: 0.013, memory: 4571, loss_rpn_cls: 0.0051, loss_rpn_bbox: 0.0043, loss_cls: 0.0447, acc: 99.6094, loss_bbox: 0.2584, loss: 0.3125\n",
      "2022-05-26 19:36:07,467 - mmfewshot - INFO - Iter [99300/100000]\tlr: 1.000e-04, eta: 0:03:32, time: 0.270, data_time: 0.013, memory: 4571, loss_rpn_cls: 0.0129, loss_rpn_bbox: 0.0118, loss_cls: 0.0372, acc: 99.6328, loss_bbox: 0.2852, loss: 0.3472\n",
      "2022-05-26 19:36:20,935 - mmfewshot - INFO - Iter [99350/100000]\tlr: 1.000e-04, eta: 0:03:17, time: 0.269, data_time: 0.012, memory: 4571, loss_rpn_cls: 0.0061, loss_rpn_bbox: 0.0045, loss_cls: 0.0346, acc: 99.6172, loss_bbox: 0.3090, loss: 0.3541\n",
      "2022-05-26 19:36:34,432 - mmfewshot - INFO - Iter [99400/100000]\tlr: 1.000e-04, eta: 0:03:02, time: 0.270, data_time: 0.013, memory: 4571, loss_rpn_cls: 0.0084, loss_rpn_bbox: 0.0085, loss_cls: 0.0369, acc: 99.6094, loss_bbox: 0.2826, loss: 0.3364\n",
      "2022-05-26 19:36:47,887 - mmfewshot - INFO - Iter [99450/100000]\tlr: 1.000e-04, eta: 0:02:46, time: 0.269, data_time: 0.013, memory: 4571, loss_rpn_cls: 0.0049, loss_rpn_bbox: 0.0044, loss_cls: 0.0554, acc: 99.7031, loss_bbox: 0.3023, loss: 0.3670\n",
      "2022-05-26 19:37:01,469 - mmfewshot - INFO - Iter [99500/100000]\tlr: 1.000e-04, eta: 0:02:31, time: 0.271, data_time: 0.013, memory: 4571, loss_rpn_cls: 0.0037, loss_rpn_bbox: 0.0033, loss_cls: 0.0475, acc: 99.5703, loss_bbox: 0.3379, loss: 0.3923\n",
      "2022-05-26 19:37:14,931 - mmfewshot - INFO - Iter [99550/100000]\tlr: 1.000e-04, eta: 0:02:16, time: 0.269, data_time: 0.012, memory: 4571, loss_rpn_cls: 0.0052, loss_rpn_bbox: 0.0063, loss_cls: 0.0464, acc: 99.6875, loss_bbox: 0.2533, loss: 0.3113\n",
      "2022-05-26 19:37:28,535 - mmfewshot - INFO - Iter [99600/100000]\tlr: 1.000e-04, eta: 0:02:01, time: 0.272, data_time: 0.013, memory: 4571, loss_rpn_cls: 0.0064, loss_rpn_bbox: 0.0077, loss_cls: 0.0261, acc: 99.7578, loss_bbox: 0.3477, loss: 0.3878\n",
      "2022-05-26 19:37:42,020 - mmfewshot - INFO - Iter [99650/100000]\tlr: 1.000e-04, eta: 0:01:46, time: 0.270, data_time: 0.013, memory: 4571, loss_rpn_cls: 0.0091, loss_rpn_bbox: 0.0082, loss_cls: 0.0386, acc: 99.6250, loss_bbox: 0.2774, loss: 0.3333\n",
      "2022-05-26 19:37:55,495 - mmfewshot - INFO - Iter [99700/100000]\tlr: 1.000e-04, eta: 0:01:30, time: 0.270, data_time: 0.013, memory: 4571, loss_rpn_cls: 0.0054, loss_rpn_bbox: 0.0054, loss_cls: 0.0348, acc: 99.6641, loss_bbox: 0.3026, loss: 0.3482\n",
      "2022-05-26 19:38:08,995 - mmfewshot - INFO - Iter [99750/100000]\tlr: 1.000e-04, eta: 0:01:15, time: 0.270, data_time: 0.012, memory: 4571, loss_rpn_cls: 0.0050, loss_rpn_bbox: 0.0068, loss_cls: 0.0388, acc: 99.6953, loss_bbox: 0.2690, loss: 0.3196\n",
      "2022-05-26 19:38:22,517 - mmfewshot - INFO - Iter [99800/100000]\tlr: 1.000e-04, eta: 0:01:00, time: 0.270, data_time: 0.013, memory: 4571, loss_rpn_cls: 0.0056, loss_rpn_bbox: 0.0059, loss_cls: 0.0254, acc: 99.7891, loss_bbox: 0.3040, loss: 0.3408\n",
      "2022-05-26 19:38:35,981 - mmfewshot - INFO - Iter [99850/100000]\tlr: 1.000e-04, eta: 0:00:45, time: 0.269, data_time: 0.013, memory: 4571, loss_rpn_cls: 0.0041, loss_rpn_bbox: 0.0026, loss_cls: 0.0388, acc: 99.6797, loss_bbox: 0.2568, loss: 0.3023\n",
      "2022-05-26 19:38:49,403 - mmfewshot - INFO - Iter [99900/100000]\tlr: 1.000e-04, eta: 0:00:30, time: 0.268, data_time: 0.012, memory: 4571, loss_rpn_cls: 0.0060, loss_rpn_bbox: 0.0048, loss_cls: 0.0322, acc: 99.6406, loss_bbox: 0.2696, loss: 0.3126\n",
      "2022-05-26 19:39:02,760 - mmfewshot - INFO - Iter [99950/100000]\tlr: 1.000e-04, eta: 0:00:15, time: 0.267, data_time: 0.012, memory: 4571, loss_rpn_cls: 0.0051, loss_rpn_bbox: 0.0037, loss_cls: 0.0620, acc: 99.5312, loss_bbox: 0.2933, loss: 0.3642\n",
      "2022-05-26 19:39:16,133 - mmfewshot - INFO - Saving checkpoint at 100000 iterations\n",
      "2022-05-26 19:39:17,837 - mmfewshot - INFO - Exp name: attention-rpn_r50_c4_tb-split2_1shot-fine-tuning-momentum-09.py\n",
      "2022-05-26 19:39:17,838 - mmfewshot - INFO - Iter [100000/100000]\tlr: 1.000e-04, eta: 0:00:00, time: 0.304, data_time: 0.012, memory: 4571, loss_rpn_cls: 0.0066, loss_rpn_bbox: 0.0050, loss_cls: 0.0367, acc: 99.6406, loss_bbox: 0.3322, loss: 0.3805\n",
      "2022-05-26 19:39:17,842 - mmdet - INFO - starting model initialization...\n"
     ]
    },
    {
     "name": "stdout",
     "output_type": "stream",
     "text": [
      "[>>>>>>>>>>>>>>>>>>>>>>>>>>>>>] 850/850, 77.4 task/s, elapsed: 11s, ETA:     0s"
     ]
    },
    {
     "name": "stderr",
     "output_type": "stream",
     "text": [
      "2022-05-26 19:39:28,904 - mmdet - INFO - model initialization done.\n"
     ]
    },
    {
     "name": "stdout",
     "output_type": "stream",
     "text": [
      "[>>>>>>>>>>>>>>>>>>>>>>>>>>>>>] 300/300, 12.5 task/s, elapsed: 24s, ETA:     0s\n",
      "---------------iou_thr: 0.5---------------\n"
     ]
    },
    {
     "name": "stderr",
     "output_type": "stream",
     "text": [
      "2022-05-26 19:39:53,238 - mmfewshot - INFO - \n",
      "+---------+-----+------+--------+-------+\n",
      "| class   | gts | dets | recall | ap    |\n",
      "+---------+-----+------+--------+-------+\n",
      "| fanta   | 291 | 1631 | 0.918  | 0.763 |\n",
      "| Mirinda | 111 | 526  | 0.802  | 0.653 |\n",
      "+---------+-----+------+--------+-------+\n",
      "| mAP     |     |      |        | 0.708 |\n",
      "+---------+-----+------+--------+-------+\n",
      "2022-05-26 19:39:53,240 - mmfewshot - INFO - BASE_CLASSES_SPLIT2 mAP: 0.7077518701553345\n",
      "2022-05-26 19:39:53,241 - mmfewshot - INFO - NOVEL_CLASSES_SPLIT2 mAP: nan\n",
      "2022-05-26 19:39:53,244 - mmfewshot - INFO - Exp name: attention-rpn_r50_c4_tb-split2_1shot-fine-tuning-momentum-09.py\n",
      "2022-05-26 19:39:53,245 - mmfewshot - INFO - Iter(val) [300]\tAP50: 0.7080, BASE_CLASSES_SPLIT2: AP50: 0.7080, NOVEL_CLASSES_SPLIT2: AP50: nan, mAP: 0.7078\n",
      "/home/zhaozhiyuan/anaconda3/envs/mmfewshot/lib/python3.7/site-packages/mmdet/datasets/custom.py:147: DeprecationWarning: `np.int` is a deprecated alias for the builtin `int`. To silence this warning, use `int` by itself. Doing this will not modify any behavior and is safe. When replacing `np.int`, you may wish to use e.g. `np.int64` or `np.int32` to specify the precision. If you wish to review your current use, check the release note link for additional information.\n",
      "Deprecated in NumPy 1.20; for more details and guidance: https://numpy.org/devdocs/release/1.20.0-notes.html#deprecations\n",
      "  return self.data_infos[idx]['ann']['labels'].astype(np.int).tolist()\n",
      "/home/zhaozhiyuan/anaconda3/envs/mmfewshot/lib/python3.7/site-packages/mmdet/datasets/custom.py:147: DeprecationWarning: `np.int` is a deprecated alias for the builtin `int`. To silence this warning, use `int` by itself. Doing this will not modify any behavior and is safe. When replacing `np.int`, you may wish to use e.g. `np.int64` or `np.int32` to specify the precision. If you wish to review your current use, check the release note link for additional information.\n",
      "Deprecated in NumPy 1.20; for more details and guidance: https://numpy.org/devdocs/release/1.20.0-notes.html#deprecations\n",
      "  return self.data_infos[idx]['ann']['labels'].astype(np.int).tolist()\n"
     ]
    }
   ],
   "source": [
    "import os\n",
    "os.environ['CUDA_VISIBLE_DEVICES'] = '1'\n",
    "\n",
    "%run tools/detection/train.py configs/detection/attention_rpn/Flickr-FoodLogos-10/split2/attention-rpn_r50_c4_tb-split2_1shot-fine-tuning-momentum-09.py\n",
    "#!PORT=29500 ./tools/detection/dist_train.sh configs/detection/meta_rcnn/tb_var/split1/task0/meta-rcnn_r101_c4_8xb4_tb-split1_1shot-fine-tuning-variation.py 6"
   ]
  },
  {
   "cell_type": "code",
   "execution_count": 6,
   "id": "105a17ed",
   "metadata": {},
   "outputs": [
    {
     "name": "stderr",
     "output_type": "stream",
     "text": [
      "2022-05-28 20:58:27,924 - mmfewshot - INFO - \n",
      "FewShotVOCDatasetFOODVAR Test dataset with number of images 300, and instance counts: \n",
      "+----------+-------+----------+-------+----------+-------+----------+-------+----------+-------+\n",
      "| category | count | category | count | category | count | category | count | category | count |\n",
      "+----------+-------+----------+-------+----------+-------+----------+-------+----------+-------+\n",
      "2022-05-28 20:58:28,742 - mmfewshot - INFO - initialize ResNet with init_cfg [{'type': 'Kaiming', 'layer': 'Conv2d'}, {'type': 'Constant', 'val': 1, 'layer': ['_BatchNorm', 'GroupNorm']}]\n",
      "2022-05-28 20:58:28,938 - mmfewshot - INFO - initialize Bottleneck with init_cfg {'type': 'Constant', 'val': 0, 'override': {'name': 'norm3'}}\n",
      "2022-05-28 20:58:28,942 - mmfewshot - INFO - initialize Bottleneck with init_cfg {'type': 'Constant', 'val': 0, 'override': {'name': 'norm3'}}\n",
      "2022-05-28 20:58:28,945 - mmfewshot - INFO - initialize Bottleneck with init_cfg {'type': 'Constant', 'val': 0, 'override': {'name': 'norm3'}}\n",
      "2022-05-28 20:58:28,951 - mmfewshot - INFO - initialize Bottleneck with init_cfg {'type': 'Constant', 'val': 0, 'override': {'name': 'norm3'}}\n",
      "2022-05-28 20:58:28,955 - mmfewshot - INFO - initialize Bottleneck with init_cfg {'type': 'Constant', 'val': 0, 'override': {'name': 'norm3'}}\n",
      "2022-05-28 20:58:28,958 - mmfewshot - INFO - initialize Bottleneck with init_cfg {'type': 'Constant', 'val': 0, 'override': {'name': 'norm3'}}\n",
      "2022-05-28 20:58:28,961 - mmfewshot - INFO - initialize Bottleneck with init_cfg {'type': 'Constant', 'val': 0, 'override': {'name': 'norm3'}}\n",
      "2022-05-28 20:58:28,968 - mmfewshot - INFO - initialize Bottleneck with init_cfg {'type': 'Constant', 'val': 0, 'override': {'name': 'norm3'}}\n",
      "2022-05-28 20:58:28,972 - mmfewshot - INFO - initialize Bottleneck with init_cfg {'type': 'Constant', 'val': 0, 'override': {'name': 'norm3'}}\n",
      "2022-05-28 20:58:28,975 - mmfewshot - INFO - initialize Bottleneck with init_cfg {'type': 'Constant', 'val': 0, 'override': {'name': 'norm3'}}\n",
      "2022-05-28 20:58:28,979 - mmfewshot - INFO - initialize Bottleneck with init_cfg {'type': 'Constant', 'val': 0, 'override': {'name': 'norm3'}}\n",
      "2022-05-28 20:58:28,985 - mmfewshot - INFO - initialize Bottleneck with init_cfg {'type': 'Constant', 'val': 0, 'override': {'name': 'norm3'}}\n",
      "2022-05-28 20:58:28,989 - mmfewshot - INFO - initialize Bottleneck with init_cfg {'type': 'Constant', 'val': 0, 'override': {'name': 'norm3'}}\n",
      "2022-05-28 20:58:29,008 - mmfewshot - INFO - initialize AttentionRPNHead with init_cfg {'type': 'Normal', 'layer': 'Conv2d', 'std': 0.01}\n",
      "2022-05-28 20:58:29,176 - mmfewshot - INFO - initialize ResLayer with init_cfg [{'type': 'Kaiming', 'layer': 'Conv2d'}, {'type': 'Constant', 'val': 1, 'layer': ['_BatchNorm', 'GroupNorm']}]\n",
      "2022-05-28 20:58:29,500 - mmfewshot - INFO - initialize MultiRelationBBoxHead with init_cfg [{'type': 'Normal', 'override': {'type': 'Normal', 'name': 'patch_relation_branch', 'std': 0.01}}, {'type': 'Normal', 'override': {'type': 'Normal', 'name': 'patch_relation_fc_cls', 'std': 0.01}}, {'type': 'Normal', 'override': {'type': 'Normal', 'name': 'patch_relation_fc_reg', 'std': 0.001}}, {'type': 'Normal', 'override': {'type': 'Normal', 'name': 'local_correlation_branch', 'std': 0.01}}, {'type': 'Normal', 'override': {'type': 'Normal', 'name': 'local_correlation_fc_cls', 'std': 0.01}}, {'type': 'Normal', 'override': {'type': 'Normal', 'name': 'global_relation_branch', 'std': 0.01}}, {'type': 'Normal', 'override': {'type': 'Normal', 'name': 'global_relation_fc_cls', 'std': 0.01}}]\n",
      "2022-05-28 20:58:29,856 - mmfewshot - INFO - \n",
      "backbone.conv1.weight - torch.Size([64, 3, 7, 7]): \n",
      "KaimingInit: a=0, mode=fan_out, nonlinearity=relu, distribution =normal, bias=0 \n",
      " \n",
      "2022-05-28 20:58:29,858 - mmfewshot - INFO - \n",
      "backbone.bn1.weight - torch.Size([64]): \n",
      "The value is the same before and after calling `init_weights` of AttentionRPNDetector  \n",
      " \n",
      "2022-05-28 20:58:29,858 - mmfewshot - INFO - \n",
      "backbone.bn1.bias - torch.Size([64]): \n",
      "The value is the same before and after calling `init_weights` of AttentionRPNDetector  \n",
      " \n",
      "2022-05-28 20:58:29,859 - mmfewshot - INFO - \n",
      "backbone.layer1.0.conv1.weight - torch.Size([64, 64, 1, 1]): \n",
      "KaimingInit: a=0, mode=fan_out, nonlinearity=relu, distribution =normal, bias=0 \n",
      " \n",
      "2022-05-28 20:58:29,860 - mmfewshot - INFO - \n",
      "backbone.layer1.0.bn1.weight - torch.Size([64]): \n",
      "The value is the same before and after calling `init_weights` of AttentionRPNDetector  \n",
      " \n",
      "2022-05-28 20:58:29,860 - mmfewshot - INFO - \n",
      "backbone.layer1.0.bn1.bias - torch.Size([64]): \n",
      "The value is the same before and after calling `init_weights` of AttentionRPNDetector  \n",
      " \n",
      "2022-05-28 20:58:29,861 - mmfewshot - INFO - \n",
      "backbone.layer1.0.conv2.weight - torch.Size([64, 64, 3, 3]): \n",
      "KaimingInit: a=0, mode=fan_out, nonlinearity=relu, distribution =normal, bias=0 \n",
      " \n",
      "2022-05-28 20:58:29,862 - mmfewshot - INFO - \n",
      "backbone.layer1.0.bn2.weight - torch.Size([64]): \n",
      "The value is the same before and after calling `init_weights` of AttentionRPNDetector  \n",
      " \n",
      "2022-05-28 20:58:29,862 - mmfewshot - INFO - \n",
      "backbone.layer1.0.bn2.bias - torch.Size([64]): \n",
      "The value is the same before and after calling `init_weights` of AttentionRPNDetector  \n",
      " \n",
      "2022-05-28 20:58:29,863 - mmfewshot - INFO - \n",
      "backbone.layer1.0.conv3.weight - torch.Size([256, 64, 1, 1]): \n",
      "KaimingInit: a=0, mode=fan_out, nonlinearity=relu, distribution =normal, bias=0 \n",
      " \n",
      "2022-05-28 20:58:29,864 - mmfewshot - INFO - \n",
      "backbone.layer1.0.bn3.weight - torch.Size([256]): \n",
      "ConstantInit: val=0, bias=0 \n",
      " \n",
      "2022-05-28 20:58:29,864 - mmfewshot - INFO - \n",
      "backbone.layer1.0.bn3.bias - torch.Size([256]): \n",
      "The value is the same before and after calling `init_weights` of AttentionRPNDetector  \n",
      " \n",
      "2022-05-28 20:58:29,865 - mmfewshot - INFO - \n",
      "backbone.layer1.0.downsample.0.weight - torch.Size([256, 64, 1, 1]): \n",
      "KaimingInit: a=0, mode=fan_out, nonlinearity=relu, distribution =normal, bias=0 \n",
      " \n",
      "2022-05-28 20:58:29,866 - mmfewshot - INFO - \n",
      "backbone.layer1.0.downsample.1.weight - torch.Size([256]): \n",
      "The value is the same before and after calling `init_weights` of AttentionRPNDetector  \n",
      " \n",
      "2022-05-28 20:58:29,867 - mmfewshot - INFO - \n",
      "backbone.layer1.0.downsample.1.bias - torch.Size([256]): \n",
      "The value is the same before and after calling `init_weights` of AttentionRPNDetector  \n",
      " \n",
      "2022-05-28 20:58:29,867 - mmfewshot - INFO - \n",
      "backbone.layer1.1.conv1.weight - torch.Size([64, 256, 1, 1]): \n",
      "KaimingInit: a=0, mode=fan_out, nonlinearity=relu, distribution =normal, bias=0 \n",
      " \n",
      "2022-05-28 20:58:29,868 - mmfewshot - INFO - \n",
      "backbone.layer1.1.bn1.weight - torch.Size([64]): \n",
      "The value is the same before and after calling `init_weights` of AttentionRPNDetector  \n",
      " \n",
      "2022-05-28 20:58:29,869 - mmfewshot - INFO - \n",
      "backbone.layer1.1.bn1.bias - torch.Size([64]): \n",
      "The value is the same before and after calling `init_weights` of AttentionRPNDetector  \n",
      " \n",
      "2022-05-28 20:58:29,870 - mmfewshot - INFO - \n",
      "backbone.layer1.1.conv2.weight - torch.Size([64, 64, 3, 3]): \n",
      "KaimingInit: a=0, mode=fan_out, nonlinearity=relu, distribution =normal, bias=0 \n",
      " \n",
      "2022-05-28 20:58:29,870 - mmfewshot - INFO - \n",
      "backbone.layer1.1.bn2.weight - torch.Size([64]): \n",
      "The value is the same before and after calling `init_weights` of AttentionRPNDetector  \n",
      " \n",
      "2022-05-28 20:58:29,871 - mmfewshot - INFO - \n",
      "backbone.layer1.1.bn2.bias - torch.Size([64]): \n",
      "The value is the same before and after calling `init_weights` of AttentionRPNDetector  \n",
      " \n",
      "2022-05-28 20:58:29,872 - mmfewshot - INFO - \n",
      "backbone.layer1.1.conv3.weight - torch.Size([256, 64, 1, 1]): \n",
      "KaimingInit: a=0, mode=fan_out, nonlinearity=relu, distribution =normal, bias=0 \n",
      " \n",
      "2022-05-28 20:58:29,873 - mmfewshot - INFO - \n",
      "backbone.layer1.1.bn3.weight - torch.Size([256]): \n",
      "ConstantInit: val=0, bias=0 \n",
      " \n",
      "2022-05-28 20:58:29,873 - mmfewshot - INFO - \n",
      "backbone.layer1.1.bn3.bias - torch.Size([256]): \n",
      "The value is the same before and after calling `init_weights` of AttentionRPNDetector  \n",
      " \n",
      "2022-05-28 20:58:29,874 - mmfewshot - INFO - \n",
      "backbone.layer1.2.conv1.weight - torch.Size([64, 256, 1, 1]): \n",
      "KaimingInit: a=0, mode=fan_out, nonlinearity=relu, distribution =normal, bias=0 \n",
      " \n",
      "2022-05-28 20:58:29,875 - mmfewshot - INFO - \n",
      "backbone.layer1.2.bn1.weight - torch.Size([64]): \n",
      "The value is the same before and after calling `init_weights` of AttentionRPNDetector  \n",
      " \n"
     ]
    },
    {
     "name": "stderr",
     "output_type": "stream",
     "text": [
      "2022-05-28 20:58:29,876 - mmfewshot - INFO - \n",
      "backbone.layer1.2.bn1.bias - torch.Size([64]): \n",
      "The value is the same before and after calling `init_weights` of AttentionRPNDetector  \n",
      " \n",
      "2022-05-28 20:58:29,876 - mmfewshot - INFO - \n",
      "backbone.layer1.2.conv2.weight - torch.Size([64, 64, 3, 3]): \n",
      "KaimingInit: a=0, mode=fan_out, nonlinearity=relu, distribution =normal, bias=0 \n",
      " \n",
      "2022-05-28 20:58:29,877 - mmfewshot - INFO - \n",
      "backbone.layer1.2.bn2.weight - torch.Size([64]): \n",
      "The value is the same before and after calling `init_weights` of AttentionRPNDetector  \n",
      " \n",
      "2022-05-28 20:58:29,878 - mmfewshot - INFO - \n",
      "backbone.layer1.2.bn2.bias - torch.Size([64]): \n",
      "The value is the same before and after calling `init_weights` of AttentionRPNDetector  \n",
      " \n",
      "2022-05-28 20:58:29,879 - mmfewshot - INFO - \n",
      "backbone.layer1.2.conv3.weight - torch.Size([256, 64, 1, 1]): \n",
      "KaimingInit: a=0, mode=fan_out, nonlinearity=relu, distribution =normal, bias=0 \n",
      " \n",
      "2022-05-28 20:58:29,879 - mmfewshot - INFO - \n",
      "backbone.layer1.2.bn3.weight - torch.Size([256]): \n",
      "ConstantInit: val=0, bias=0 \n",
      " \n",
      "2022-05-28 20:58:29,881 - mmfewshot - INFO - \n",
      "backbone.layer1.2.bn3.bias - torch.Size([256]): \n",
      "The value is the same before and after calling `init_weights` of AttentionRPNDetector  \n",
      " \n",
      "2022-05-28 20:58:29,882 - mmfewshot - INFO - \n",
      "backbone.layer2.0.conv1.weight - torch.Size([128, 256, 1, 1]): \n",
      "KaimingInit: a=0, mode=fan_out, nonlinearity=relu, distribution =normal, bias=0 \n",
      " \n",
      "2022-05-28 20:58:29,882 - mmfewshot - INFO - \n",
      "backbone.layer2.0.bn1.weight - torch.Size([128]): \n",
      "The value is the same before and after calling `init_weights` of AttentionRPNDetector  \n",
      " \n",
      "2022-05-28 20:58:29,883 - mmfewshot - INFO - \n",
      "backbone.layer2.0.bn1.bias - torch.Size([128]): \n",
      "The value is the same before and after calling `init_weights` of AttentionRPNDetector  \n",
      " \n",
      "2022-05-28 20:58:29,884 - mmfewshot - INFO - \n",
      "backbone.layer2.0.conv2.weight - torch.Size([128, 128, 3, 3]): \n",
      "KaimingInit: a=0, mode=fan_out, nonlinearity=relu, distribution =normal, bias=0 \n",
      " \n",
      "2022-05-28 20:58:29,885 - mmfewshot - INFO - \n",
      "backbone.layer2.0.bn2.weight - torch.Size([128]): \n",
      "The value is the same before and after calling `init_weights` of AttentionRPNDetector  \n",
      " \n",
      "2022-05-28 20:58:29,885 - mmfewshot - INFO - \n",
      "backbone.layer2.0.bn2.bias - torch.Size([128]): \n",
      "The value is the same before and after calling `init_weights` of AttentionRPNDetector  \n",
      " \n",
      "2022-05-28 20:58:29,886 - mmfewshot - INFO - \n",
      "backbone.layer2.0.conv3.weight - torch.Size([512, 128, 1, 1]): \n",
      "KaimingInit: a=0, mode=fan_out, nonlinearity=relu, distribution =normal, bias=0 \n",
      " \n",
      "2022-05-28 20:58:29,887 - mmfewshot - INFO - \n",
      "backbone.layer2.0.bn3.weight - torch.Size([512]): \n",
      "ConstantInit: val=0, bias=0 \n",
      " \n",
      "2022-05-28 20:58:29,888 - mmfewshot - INFO - \n",
      "backbone.layer2.0.bn3.bias - torch.Size([512]): \n",
      "The value is the same before and after calling `init_weights` of AttentionRPNDetector  \n",
      " \n",
      "2022-05-28 20:58:29,888 - mmfewshot - INFO - \n",
      "backbone.layer2.0.downsample.0.weight - torch.Size([512, 256, 1, 1]): \n",
      "KaimingInit: a=0, mode=fan_out, nonlinearity=relu, distribution =normal, bias=0 \n",
      " \n",
      "2022-05-28 20:58:29,889 - mmfewshot - INFO - \n",
      "backbone.layer2.0.downsample.1.weight - torch.Size([512]): \n",
      "The value is the same before and after calling `init_weights` of AttentionRPNDetector  \n",
      " \n",
      "2022-05-28 20:58:29,890 - mmfewshot - INFO - \n",
      "backbone.layer2.0.downsample.1.bias - torch.Size([512]): \n",
      "The value is the same before and after calling `init_weights` of AttentionRPNDetector  \n",
      " \n",
      "2022-05-28 20:58:29,891 - mmfewshot - INFO - \n",
      "backbone.layer2.1.conv1.weight - torch.Size([128, 512, 1, 1]): \n",
      "KaimingInit: a=0, mode=fan_out, nonlinearity=relu, distribution =normal, bias=0 \n",
      " \n",
      "2022-05-28 20:58:29,891 - mmfewshot - INFO - \n",
      "backbone.layer2.1.bn1.weight - torch.Size([128]): \n",
      "The value is the same before and after calling `init_weights` of AttentionRPNDetector  \n",
      " \n",
      "2022-05-28 20:58:29,892 - mmfewshot - INFO - \n",
      "backbone.layer2.1.bn1.bias - torch.Size([128]): \n",
      "The value is the same before and after calling `init_weights` of AttentionRPNDetector  \n",
      " \n",
      "2022-05-28 20:58:29,893 - mmfewshot - INFO - \n",
      "backbone.layer2.1.conv2.weight - torch.Size([128, 128, 3, 3]): \n",
      "KaimingInit: a=0, mode=fan_out, nonlinearity=relu, distribution =normal, bias=0 \n",
      " \n",
      "2022-05-28 20:58:29,894 - mmfewshot - INFO - \n",
      "backbone.layer2.1.bn2.weight - torch.Size([128]): \n",
      "The value is the same before and after calling `init_weights` of AttentionRPNDetector  \n",
      " \n",
      "2022-05-28 20:58:29,894 - mmfewshot - INFO - \n",
      "backbone.layer2.1.bn2.bias - torch.Size([128]): \n",
      "The value is the same before and after calling `init_weights` of AttentionRPNDetector  \n",
      " \n",
      "2022-05-28 20:58:29,895 - mmfewshot - INFO - \n",
      "backbone.layer2.1.conv3.weight - torch.Size([512, 128, 1, 1]): \n",
      "KaimingInit: a=0, mode=fan_out, nonlinearity=relu, distribution =normal, bias=0 \n",
      " \n",
      "2022-05-28 20:58:29,896 - mmfewshot - INFO - \n",
      "backbone.layer2.1.bn3.weight - torch.Size([512]): \n",
      "ConstantInit: val=0, bias=0 \n",
      " \n",
      "2022-05-28 20:58:29,896 - mmfewshot - INFO - \n",
      "backbone.layer2.1.bn3.bias - torch.Size([512]): \n",
      "The value is the same before and after calling `init_weights` of AttentionRPNDetector  \n",
      " \n",
      "2022-05-28 20:58:29,897 - mmfewshot - INFO - \n",
      "backbone.layer2.2.conv1.weight - torch.Size([128, 512, 1, 1]): \n",
      "KaimingInit: a=0, mode=fan_out, nonlinearity=relu, distribution =normal, bias=0 \n",
      " \n",
      "2022-05-28 20:58:29,898 - mmfewshot - INFO - \n",
      "backbone.layer2.2.bn1.weight - torch.Size([128]): \n",
      "The value is the same before and after calling `init_weights` of AttentionRPNDetector  \n",
      " \n",
      "2022-05-28 20:58:29,899 - mmfewshot - INFO - \n",
      "backbone.layer2.2.bn1.bias - torch.Size([128]): \n",
      "The value is the same before and after calling `init_weights` of AttentionRPNDetector  \n",
      " \n",
      "2022-05-28 20:58:29,899 - mmfewshot - INFO - \n",
      "backbone.layer2.2.conv2.weight - torch.Size([128, 128, 3, 3]): \n",
      "KaimingInit: a=0, mode=fan_out, nonlinearity=relu, distribution =normal, bias=0 \n",
      " \n",
      "2022-05-28 20:58:29,900 - mmfewshot - INFO - \n",
      "backbone.layer2.2.bn2.weight - torch.Size([128]): \n",
      "The value is the same before and after calling `init_weights` of AttentionRPNDetector  \n",
      " \n",
      "2022-05-28 20:58:29,911 - mmfewshot - INFO - \n",
      "backbone.layer2.2.bn2.bias - torch.Size([128]): \n",
      "The value is the same before and after calling `init_weights` of AttentionRPNDetector  \n",
      " \n",
      "2022-05-28 20:58:29,911 - mmfewshot - INFO - \n",
      "backbone.layer2.2.conv3.weight - torch.Size([512, 128, 1, 1]): \n",
      "KaimingInit: a=0, mode=fan_out, nonlinearity=relu, distribution =normal, bias=0 \n",
      " \n",
      "2022-05-28 20:58:29,912 - mmfewshot - INFO - \n",
      "backbone.layer2.2.bn3.weight - torch.Size([512]): \n",
      "ConstantInit: val=0, bias=0 \n",
      " \n",
      "2022-05-28 20:58:29,913 - mmfewshot - INFO - \n",
      "backbone.layer2.2.bn3.bias - torch.Size([512]): \n",
      "The value is the same before and after calling `init_weights` of AttentionRPNDetector  \n",
      " \n",
      "2022-05-28 20:58:29,914 - mmfewshot - INFO - \n",
      "backbone.layer2.3.conv1.weight - torch.Size([128, 512, 1, 1]): \n",
      "KaimingInit: a=0, mode=fan_out, nonlinearity=relu, distribution =normal, bias=0 \n",
      " \n",
      "2022-05-28 20:58:29,915 - mmfewshot - INFO - \n",
      "backbone.layer2.3.bn1.weight - torch.Size([128]): \n",
      "The value is the same before and after calling `init_weights` of AttentionRPNDetector  \n",
      " \n",
      "2022-05-28 20:58:29,915 - mmfewshot - INFO - \n",
      "backbone.layer2.3.bn1.bias - torch.Size([128]): \n",
      "The value is the same before and after calling `init_weights` of AttentionRPNDetector  \n",
      " \n",
      "2022-05-28 20:58:29,916 - mmfewshot - INFO - \n",
      "backbone.layer2.3.conv2.weight - torch.Size([128, 128, 3, 3]): \n",
      "KaimingInit: a=0, mode=fan_out, nonlinearity=relu, distribution =normal, bias=0 \n",
      " \n",
      "2022-05-28 20:58:29,917 - mmfewshot - INFO - \n",
      "backbone.layer2.3.bn2.weight - torch.Size([128]): \n",
      "The value is the same before and after calling `init_weights` of AttentionRPNDetector  \n",
      " \n",
      "2022-05-28 20:58:29,917 - mmfewshot - INFO - \n",
      "backbone.layer2.3.bn2.bias - torch.Size([128]): \n",
      "The value is the same before and after calling `init_weights` of AttentionRPNDetector  \n",
      " \n",
      "2022-05-28 20:58:29,918 - mmfewshot - INFO - \n",
      "backbone.layer2.3.conv3.weight - torch.Size([512, 128, 1, 1]): \n",
      "KaimingInit: a=0, mode=fan_out, nonlinearity=relu, distribution =normal, bias=0 \n",
      " \n",
      "2022-05-28 20:58:29,919 - mmfewshot - INFO - \n",
      "backbone.layer2.3.bn3.weight - torch.Size([512]): \n",
      "ConstantInit: val=0, bias=0 \n",
      " \n"
     ]
    },
    {
     "name": "stderr",
     "output_type": "stream",
     "text": [
      "2022-05-28 20:58:29,920 - mmfewshot - INFO - \n",
      "backbone.layer2.3.bn3.bias - torch.Size([512]): \n",
      "The value is the same before and after calling `init_weights` of AttentionRPNDetector  \n",
      " \n",
      "2022-05-28 20:58:29,920 - mmfewshot - INFO - \n",
      "backbone.layer3.0.conv1.weight - torch.Size([256, 512, 1, 1]): \n",
      "KaimingInit: a=0, mode=fan_out, nonlinearity=relu, distribution =normal, bias=0 \n",
      " \n",
      "2022-05-28 20:58:29,921 - mmfewshot - INFO - \n",
      "backbone.layer3.0.bn1.weight - torch.Size([256]): \n",
      "The value is the same before and after calling `init_weights` of AttentionRPNDetector  \n",
      " \n",
      "2022-05-28 20:58:29,922 - mmfewshot - INFO - \n",
      "backbone.layer3.0.bn1.bias - torch.Size([256]): \n",
      "The value is the same before and after calling `init_weights` of AttentionRPNDetector  \n",
      " \n",
      "2022-05-28 20:58:29,923 - mmfewshot - INFO - \n",
      "backbone.layer3.0.conv2.weight - torch.Size([256, 256, 3, 3]): \n",
      "KaimingInit: a=0, mode=fan_out, nonlinearity=relu, distribution =normal, bias=0 \n",
      " \n",
      "2022-05-28 20:58:29,923 - mmfewshot - INFO - \n",
      "backbone.layer3.0.bn2.weight - torch.Size([256]): \n",
      "The value is the same before and after calling `init_weights` of AttentionRPNDetector  \n",
      " \n",
      "2022-05-28 20:58:29,924 - mmfewshot - INFO - \n",
      "backbone.layer3.0.bn2.bias - torch.Size([256]): \n",
      "The value is the same before and after calling `init_weights` of AttentionRPNDetector  \n",
      " \n",
      "2022-05-28 20:58:29,925 - mmfewshot - INFO - \n",
      "backbone.layer3.0.conv3.weight - torch.Size([1024, 256, 1, 1]): \n",
      "KaimingInit: a=0, mode=fan_out, nonlinearity=relu, distribution =normal, bias=0 \n",
      " \n",
      "2022-05-28 20:58:29,926 - mmfewshot - INFO - \n",
      "backbone.layer3.0.bn3.weight - torch.Size([1024]): \n",
      "ConstantInit: val=0, bias=0 \n",
      " \n",
      "2022-05-28 20:58:29,926 - mmfewshot - INFO - \n",
      "backbone.layer3.0.bn3.bias - torch.Size([1024]): \n",
      "The value is the same before and after calling `init_weights` of AttentionRPNDetector  \n",
      " \n",
      "2022-05-28 20:58:29,927 - mmfewshot - INFO - \n",
      "backbone.layer3.0.downsample.0.weight - torch.Size([1024, 512, 1, 1]): \n",
      "KaimingInit: a=0, mode=fan_out, nonlinearity=relu, distribution =normal, bias=0 \n",
      " \n",
      "2022-05-28 20:58:29,928 - mmfewshot - INFO - \n",
      "backbone.layer3.0.downsample.1.weight - torch.Size([1024]): \n",
      "The value is the same before and after calling `init_weights` of AttentionRPNDetector  \n",
      " \n",
      "2022-05-28 20:58:29,929 - mmfewshot - INFO - \n",
      "backbone.layer3.0.downsample.1.bias - torch.Size([1024]): \n",
      "The value is the same before and after calling `init_weights` of AttentionRPNDetector  \n",
      " \n",
      "2022-05-28 20:58:29,929 - mmfewshot - INFO - \n",
      "backbone.layer3.1.conv1.weight - torch.Size([256, 1024, 1, 1]): \n",
      "KaimingInit: a=0, mode=fan_out, nonlinearity=relu, distribution =normal, bias=0 \n",
      " \n",
      "2022-05-28 20:58:29,930 - mmfewshot - INFO - \n",
      "backbone.layer3.1.bn1.weight - torch.Size([256]): \n",
      "The value is the same before and after calling `init_weights` of AttentionRPNDetector  \n",
      " \n",
      "2022-05-28 20:58:29,931 - mmfewshot - INFO - \n",
      "backbone.layer3.1.bn1.bias - torch.Size([256]): \n",
      "The value is the same before and after calling `init_weights` of AttentionRPNDetector  \n",
      " \n",
      "2022-05-28 20:58:29,932 - mmfewshot - INFO - \n",
      "backbone.layer3.1.conv2.weight - torch.Size([256, 256, 3, 3]): \n",
      "KaimingInit: a=0, mode=fan_out, nonlinearity=relu, distribution =normal, bias=0 \n",
      " \n",
      "2022-05-28 20:58:29,932 - mmfewshot - INFO - \n",
      "backbone.layer3.1.bn2.weight - torch.Size([256]): \n",
      "The value is the same before and after calling `init_weights` of AttentionRPNDetector  \n",
      " \n",
      "2022-05-28 20:58:29,933 - mmfewshot - INFO - \n",
      "backbone.layer3.1.bn2.bias - torch.Size([256]): \n",
      "The value is the same before and after calling `init_weights` of AttentionRPNDetector  \n",
      " \n",
      "2022-05-28 20:58:29,934 - mmfewshot - INFO - \n",
      "backbone.layer3.1.conv3.weight - torch.Size([1024, 256, 1, 1]): \n",
      "KaimingInit: a=0, mode=fan_out, nonlinearity=relu, distribution =normal, bias=0 \n",
      " \n",
      "2022-05-28 20:58:29,935 - mmfewshot - INFO - \n",
      "backbone.layer3.1.bn3.weight - torch.Size([1024]): \n",
      "ConstantInit: val=0, bias=0 \n",
      " \n",
      "2022-05-28 20:58:29,935 - mmfewshot - INFO - \n",
      "backbone.layer3.1.bn3.bias - torch.Size([1024]): \n",
      "The value is the same before and after calling `init_weights` of AttentionRPNDetector  \n",
      " \n",
      "2022-05-28 20:58:29,936 - mmfewshot - INFO - \n",
      "backbone.layer3.2.conv1.weight - torch.Size([256, 1024, 1, 1]): \n",
      "KaimingInit: a=0, mode=fan_out, nonlinearity=relu, distribution =normal, bias=0 \n",
      " \n",
      "2022-05-28 20:58:29,937 - mmfewshot - INFO - \n",
      "backbone.layer3.2.bn1.weight - torch.Size([256]): \n",
      "The value is the same before and after calling `init_weights` of AttentionRPNDetector  \n",
      " \n",
      "2022-05-28 20:58:29,938 - mmfewshot - INFO - \n",
      "backbone.layer3.2.bn1.bias - torch.Size([256]): \n",
      "The value is the same before and after calling `init_weights` of AttentionRPNDetector  \n",
      " \n",
      "2022-05-28 20:58:29,939 - mmfewshot - INFO - \n",
      "backbone.layer3.2.conv2.weight - torch.Size([256, 256, 3, 3]): \n",
      "KaimingInit: a=0, mode=fan_out, nonlinearity=relu, distribution =normal, bias=0 \n",
      " \n",
      "2022-05-28 20:58:29,939 - mmfewshot - INFO - \n",
      "backbone.layer3.2.bn2.weight - torch.Size([256]): \n",
      "The value is the same before and after calling `init_weights` of AttentionRPNDetector  \n",
      " \n",
      "2022-05-28 20:58:29,940 - mmfewshot - INFO - \n",
      "backbone.layer3.2.bn2.bias - torch.Size([256]): \n",
      "The value is the same before and after calling `init_weights` of AttentionRPNDetector  \n",
      " \n",
      "2022-05-28 20:58:29,941 - mmfewshot - INFO - \n",
      "backbone.layer3.2.conv3.weight - torch.Size([1024, 256, 1, 1]): \n",
      "KaimingInit: a=0, mode=fan_out, nonlinearity=relu, distribution =normal, bias=0 \n",
      " \n",
      "2022-05-28 20:58:29,942 - mmfewshot - INFO - \n",
      "backbone.layer3.2.bn3.weight - torch.Size([1024]): \n",
      "ConstantInit: val=0, bias=0 \n",
      " \n",
      "2022-05-28 20:58:29,943 - mmfewshot - INFO - \n",
      "backbone.layer3.2.bn3.bias - torch.Size([1024]): \n",
      "The value is the same before and after calling `init_weights` of AttentionRPNDetector  \n",
      " \n",
      "2022-05-28 20:58:29,943 - mmfewshot - INFO - \n",
      "backbone.layer3.3.conv1.weight - torch.Size([256, 1024, 1, 1]): \n",
      "KaimingInit: a=0, mode=fan_out, nonlinearity=relu, distribution =normal, bias=0 \n",
      " \n",
      "2022-05-28 20:58:29,944 - mmfewshot - INFO - \n",
      "backbone.layer3.3.bn1.weight - torch.Size([256]): \n",
      "The value is the same before and after calling `init_weights` of AttentionRPNDetector  \n",
      " \n",
      "2022-05-28 20:58:29,945 - mmfewshot - INFO - \n",
      "backbone.layer3.3.bn1.bias - torch.Size([256]): \n",
      "The value is the same before and after calling `init_weights` of AttentionRPNDetector  \n",
      " \n",
      "2022-05-28 20:58:29,946 - mmfewshot - INFO - \n",
      "backbone.layer3.3.conv2.weight - torch.Size([256, 256, 3, 3]): \n",
      "KaimingInit: a=0, mode=fan_out, nonlinearity=relu, distribution =normal, bias=0 \n",
      " \n",
      "2022-05-28 20:58:29,947 - mmfewshot - INFO - \n",
      "backbone.layer3.3.bn2.weight - torch.Size([256]): \n",
      "The value is the same before and after calling `init_weights` of AttentionRPNDetector  \n",
      " \n",
      "2022-05-28 20:58:29,947 - mmfewshot - INFO - \n",
      "backbone.layer3.3.bn2.bias - torch.Size([256]): \n",
      "The value is the same before and after calling `init_weights` of AttentionRPNDetector  \n",
      " \n",
      "2022-05-28 20:58:29,948 - mmfewshot - INFO - \n",
      "backbone.layer3.3.conv3.weight - torch.Size([1024, 256, 1, 1]): \n",
      "KaimingInit: a=0, mode=fan_out, nonlinearity=relu, distribution =normal, bias=0 \n",
      " \n",
      "2022-05-28 20:58:29,949 - mmfewshot - INFO - \n",
      "backbone.layer3.3.bn3.weight - torch.Size([1024]): \n",
      "ConstantInit: val=0, bias=0 \n",
      " \n",
      "2022-05-28 20:58:29,950 - mmfewshot - INFO - \n",
      "backbone.layer3.3.bn3.bias - torch.Size([1024]): \n",
      "The value is the same before and after calling `init_weights` of AttentionRPNDetector  \n",
      " \n",
      "2022-05-28 20:58:29,950 - mmfewshot - INFO - \n",
      "backbone.layer3.4.conv1.weight - torch.Size([256, 1024, 1, 1]): \n",
      "KaimingInit: a=0, mode=fan_out, nonlinearity=relu, distribution =normal, bias=0 \n",
      " \n",
      "2022-05-28 20:58:29,960 - mmfewshot - INFO - \n",
      "backbone.layer3.4.bn1.weight - torch.Size([256]): \n",
      "The value is the same before and after calling `init_weights` of AttentionRPNDetector  \n",
      " \n",
      "2022-05-28 20:58:29,961 - mmfewshot - INFO - \n",
      "backbone.layer3.4.bn1.bias - torch.Size([256]): \n",
      "The value is the same before and after calling `init_weights` of AttentionRPNDetector  \n",
      " \n",
      "2022-05-28 20:58:29,962 - mmfewshot - INFO - \n",
      "backbone.layer3.4.conv2.weight - torch.Size([256, 256, 3, 3]): \n",
      "KaimingInit: a=0, mode=fan_out, nonlinearity=relu, distribution =normal, bias=0 \n",
      " \n",
      "2022-05-28 20:58:29,963 - mmfewshot - INFO - \n",
      "backbone.layer3.4.bn2.weight - torch.Size([256]): \n",
      "The value is the same before and after calling `init_weights` of AttentionRPNDetector  \n",
      " \n"
     ]
    },
    {
     "name": "stderr",
     "output_type": "stream",
     "text": [
      "2022-05-28 20:58:29,963 - mmfewshot - INFO - \n",
      "backbone.layer3.4.bn2.bias - torch.Size([256]): \n",
      "The value is the same before and after calling `init_weights` of AttentionRPNDetector  \n",
      " \n",
      "2022-05-28 20:58:29,964 - mmfewshot - INFO - \n",
      "backbone.layer3.4.conv3.weight - torch.Size([1024, 256, 1, 1]): \n",
      "KaimingInit: a=0, mode=fan_out, nonlinearity=relu, distribution =normal, bias=0 \n",
      " \n",
      "2022-05-28 20:58:29,965 - mmfewshot - INFO - \n",
      "backbone.layer3.4.bn3.weight - torch.Size([1024]): \n",
      "ConstantInit: val=0, bias=0 \n",
      " \n",
      "2022-05-28 20:58:29,965 - mmfewshot - INFO - \n",
      "backbone.layer3.4.bn3.bias - torch.Size([1024]): \n",
      "The value is the same before and after calling `init_weights` of AttentionRPNDetector  \n",
      " \n",
      "2022-05-28 20:58:29,966 - mmfewshot - INFO - \n",
      "backbone.layer3.5.conv1.weight - torch.Size([256, 1024, 1, 1]): \n",
      "KaimingInit: a=0, mode=fan_out, nonlinearity=relu, distribution =normal, bias=0 \n",
      " \n",
      "2022-05-28 20:58:29,967 - mmfewshot - INFO - \n",
      "backbone.layer3.5.bn1.weight - torch.Size([256]): \n",
      "The value is the same before and after calling `init_weights` of AttentionRPNDetector  \n",
      " \n",
      "2022-05-28 20:58:29,967 - mmfewshot - INFO - \n",
      "backbone.layer3.5.bn1.bias - torch.Size([256]): \n",
      "The value is the same before and after calling `init_weights` of AttentionRPNDetector  \n",
      " \n",
      "2022-05-28 20:58:29,968 - mmfewshot - INFO - \n",
      "backbone.layer3.5.conv2.weight - torch.Size([256, 256, 3, 3]): \n",
      "KaimingInit: a=0, mode=fan_out, nonlinearity=relu, distribution =normal, bias=0 \n",
      " \n",
      "2022-05-28 20:58:29,969 - mmfewshot - INFO - \n",
      "backbone.layer3.5.bn2.weight - torch.Size([256]): \n",
      "The value is the same before and after calling `init_weights` of AttentionRPNDetector  \n",
      " \n",
      "2022-05-28 20:58:29,969 - mmfewshot - INFO - \n",
      "backbone.layer3.5.bn2.bias - torch.Size([256]): \n",
      "The value is the same before and after calling `init_weights` of AttentionRPNDetector  \n",
      " \n",
      "2022-05-28 20:58:29,970 - mmfewshot - INFO - \n",
      "backbone.layer3.5.conv3.weight - torch.Size([1024, 256, 1, 1]): \n",
      "KaimingInit: a=0, mode=fan_out, nonlinearity=relu, distribution =normal, bias=0 \n",
      " \n",
      "2022-05-28 20:58:29,971 - mmfewshot - INFO - \n",
      "backbone.layer3.5.bn3.weight - torch.Size([1024]): \n",
      "ConstantInit: val=0, bias=0 \n",
      " \n",
      "2022-05-28 20:58:29,972 - mmfewshot - INFO - \n",
      "backbone.layer3.5.bn3.bias - torch.Size([1024]): \n",
      "The value is the same before and after calling `init_weights` of AttentionRPNDetector  \n",
      " \n",
      "2022-05-28 20:58:29,973 - mmfewshot - INFO - \n",
      "rpn_head.rpn_conv.weight - torch.Size([1024, 1024, 3, 3]): \n",
      "NormalInit: mean=0, std=0.01, bias=0 \n",
      " \n",
      "2022-05-28 20:58:29,973 - mmfewshot - INFO - \n",
      "rpn_head.rpn_conv.bias - torch.Size([1024]): \n",
      "NormalInit: mean=0, std=0.01, bias=0 \n",
      " \n",
      "2022-05-28 20:58:29,974 - mmfewshot - INFO - \n",
      "rpn_head.rpn_cls.weight - torch.Size([15, 1024, 1, 1]): \n",
      "NormalInit: mean=0, std=0.01, bias=0 \n",
      " \n",
      "2022-05-28 20:58:29,975 - mmfewshot - INFO - \n",
      "rpn_head.rpn_cls.bias - torch.Size([15]): \n",
      "NormalInit: mean=0, std=0.01, bias=0 \n",
      " \n",
      "2022-05-28 20:58:29,975 - mmfewshot - INFO - \n",
      "rpn_head.rpn_reg.weight - torch.Size([60, 1024, 1, 1]): \n",
      "NormalInit: mean=0, std=0.01, bias=0 \n",
      " \n",
      "2022-05-28 20:58:29,976 - mmfewshot - INFO - \n",
      "rpn_head.rpn_reg.bias - torch.Size([60]): \n",
      "NormalInit: mean=0, std=0.01, bias=0 \n",
      " \n",
      "2022-05-28 20:58:29,977 - mmfewshot - INFO - \n",
      "roi_head.shared_head.layer4.0.conv1.weight - torch.Size([512, 1024, 1, 1]): \n",
      "KaimingInit: a=0, mode=fan_out, nonlinearity=relu, distribution =normal, bias=0 \n",
      " \n",
      "2022-05-28 20:58:29,977 - mmfewshot - INFO - \n",
      "roi_head.shared_head.layer4.0.bn1.weight - torch.Size([512]): \n",
      "The value is the same before and after calling `init_weights` of AttentionRPNDetector  \n",
      " \n",
      "2022-05-28 20:58:29,978 - mmfewshot - INFO - \n",
      "roi_head.shared_head.layer4.0.bn1.bias - torch.Size([512]): \n",
      "The value is the same before and after calling `init_weights` of AttentionRPNDetector  \n",
      " \n",
      "2022-05-28 20:58:29,979 - mmfewshot - INFO - \n",
      "roi_head.shared_head.layer4.0.conv2.weight - torch.Size([512, 512, 3, 3]): \n",
      "KaimingInit: a=0, mode=fan_out, nonlinearity=relu, distribution =normal, bias=0 \n",
      " \n",
      "2022-05-28 20:58:29,979 - mmfewshot - INFO - \n",
      "roi_head.shared_head.layer4.0.bn2.weight - torch.Size([512]): \n",
      "The value is the same before and after calling `init_weights` of AttentionRPNDetector  \n",
      " \n",
      "2022-05-28 20:58:29,980 - mmfewshot - INFO - \n",
      "roi_head.shared_head.layer4.0.bn2.bias - torch.Size([512]): \n",
      "The value is the same before and after calling `init_weights` of AttentionRPNDetector  \n",
      " \n",
      "2022-05-28 20:58:29,980 - mmfewshot - INFO - \n",
      "roi_head.shared_head.layer4.0.conv3.weight - torch.Size([2048, 512, 1, 1]): \n",
      "KaimingInit: a=0, mode=fan_out, nonlinearity=relu, distribution =normal, bias=0 \n",
      " \n",
      "2022-05-28 20:58:29,981 - mmfewshot - INFO - \n",
      "roi_head.shared_head.layer4.0.bn3.weight - torch.Size([2048]): \n",
      "The value is the same before and after calling `init_weights` of AttentionRPNDetector  \n",
      " \n",
      "2022-05-28 20:58:29,982 - mmfewshot - INFO - \n",
      "roi_head.shared_head.layer4.0.bn3.bias - torch.Size([2048]): \n",
      "The value is the same before and after calling `init_weights` of AttentionRPNDetector  \n",
      " \n",
      "2022-05-28 20:58:29,982 - mmfewshot - INFO - \n",
      "roi_head.shared_head.layer4.0.downsample.0.weight - torch.Size([2048, 1024, 1, 1]): \n",
      "KaimingInit: a=0, mode=fan_out, nonlinearity=relu, distribution =normal, bias=0 \n",
      " \n",
      "2022-05-28 20:58:29,983 - mmfewshot - INFO - \n",
      "roi_head.shared_head.layer4.0.downsample.1.weight - torch.Size([2048]): \n",
      "The value is the same before and after calling `init_weights` of AttentionRPNDetector  \n",
      " \n",
      "2022-05-28 20:58:29,984 - mmfewshot - INFO - \n",
      "roi_head.shared_head.layer4.0.downsample.1.bias - torch.Size([2048]): \n",
      "The value is the same before and after calling `init_weights` of AttentionRPNDetector  \n",
      " \n",
      "2022-05-28 20:58:29,984 - mmfewshot - INFO - \n",
      "roi_head.shared_head.layer4.1.conv1.weight - torch.Size([512, 2048, 1, 1]): \n",
      "KaimingInit: a=0, mode=fan_out, nonlinearity=relu, distribution =normal, bias=0 \n",
      " \n",
      "2022-05-28 20:58:29,985 - mmfewshot - INFO - \n",
      "roi_head.shared_head.layer4.1.bn1.weight - torch.Size([512]): \n",
      "The value is the same before and after calling `init_weights` of AttentionRPNDetector  \n",
      " \n",
      "2022-05-28 20:58:29,986 - mmfewshot - INFO - \n",
      "roi_head.shared_head.layer4.1.bn1.bias - torch.Size([512]): \n",
      "The value is the same before and after calling `init_weights` of AttentionRPNDetector  \n",
      " \n",
      "2022-05-28 20:58:29,986 - mmfewshot - INFO - \n",
      "roi_head.shared_head.layer4.1.conv2.weight - torch.Size([512, 512, 3, 3]): \n",
      "KaimingInit: a=0, mode=fan_out, nonlinearity=relu, distribution =normal, bias=0 \n",
      " \n",
      "2022-05-28 20:58:29,987 - mmfewshot - INFO - \n",
      "roi_head.shared_head.layer4.1.bn2.weight - torch.Size([512]): \n",
      "The value is the same before and after calling `init_weights` of AttentionRPNDetector  \n",
      " \n",
      "2022-05-28 20:58:29,988 - mmfewshot - INFO - \n",
      "roi_head.shared_head.layer4.1.bn2.bias - torch.Size([512]): \n",
      "The value is the same before and after calling `init_weights` of AttentionRPNDetector  \n",
      " \n",
      "2022-05-28 20:58:29,989 - mmfewshot - INFO - \n",
      "roi_head.shared_head.layer4.1.conv3.weight - torch.Size([2048, 512, 1, 1]): \n",
      "KaimingInit: a=0, mode=fan_out, nonlinearity=relu, distribution =normal, bias=0 \n",
      " \n",
      "2022-05-28 20:58:29,990 - mmfewshot - INFO - \n",
      "roi_head.shared_head.layer4.1.bn3.weight - torch.Size([2048]): \n",
      "The value is the same before and after calling `init_weights` of AttentionRPNDetector  \n",
      " \n",
      "2022-05-28 20:58:29,990 - mmfewshot - INFO - \n",
      "roi_head.shared_head.layer4.1.bn3.bias - torch.Size([2048]): \n",
      "The value is the same before and after calling `init_weights` of AttentionRPNDetector  \n",
      " \n",
      "2022-05-28 20:58:29,991 - mmfewshot - INFO - \n",
      "roi_head.shared_head.layer4.2.conv1.weight - torch.Size([512, 2048, 1, 1]): \n",
      "KaimingInit: a=0, mode=fan_out, nonlinearity=relu, distribution =normal, bias=0 \n",
      " \n",
      "2022-05-28 20:58:29,992 - mmfewshot - INFO - \n",
      "roi_head.shared_head.layer4.2.bn1.weight - torch.Size([512]): \n",
      "The value is the same before and after calling `init_weights` of AttentionRPNDetector  \n",
      " \n",
      "2022-05-28 20:58:29,992 - mmfewshot - INFO - \n",
      "roi_head.shared_head.layer4.2.bn1.bias - torch.Size([512]): \n",
      "The value is the same before and after calling `init_weights` of AttentionRPNDetector  \n",
      " \n",
      "2022-05-28 20:58:29,993 - mmfewshot - INFO - \n",
      "roi_head.shared_head.layer4.2.conv2.weight - torch.Size([512, 512, 3, 3]): \n",
      "KaimingInit: a=0, mode=fan_out, nonlinearity=relu, distribution =normal, bias=0 \n",
      " \n"
     ]
    },
    {
     "name": "stderr",
     "output_type": "stream",
     "text": [
      "2022-05-28 20:58:29,994 - mmfewshot - INFO - \n",
      "roi_head.shared_head.layer4.2.bn2.weight - torch.Size([512]): \n",
      "The value is the same before and after calling `init_weights` of AttentionRPNDetector  \n",
      " \n",
      "2022-05-28 20:58:29,994 - mmfewshot - INFO - \n",
      "roi_head.shared_head.layer4.2.bn2.bias - torch.Size([512]): \n",
      "The value is the same before and after calling `init_weights` of AttentionRPNDetector  \n",
      " \n",
      "2022-05-28 20:58:29,995 - mmfewshot - INFO - \n",
      "roi_head.shared_head.layer4.2.conv3.weight - torch.Size([2048, 512, 1, 1]): \n",
      "KaimingInit: a=0, mode=fan_out, nonlinearity=relu, distribution =normal, bias=0 \n",
      " \n",
      "2022-05-28 20:58:29,996 - mmfewshot - INFO - \n",
      "roi_head.shared_head.layer4.2.bn3.weight - torch.Size([2048]): \n",
      "The value is the same before and after calling `init_weights` of AttentionRPNDetector  \n",
      " \n",
      "2022-05-28 20:58:29,996 - mmfewshot - INFO - \n",
      "roi_head.shared_head.layer4.2.bn3.bias - torch.Size([2048]): \n",
      "The value is the same before and after calling `init_weights` of AttentionRPNDetector  \n",
      " \n",
      "2022-05-28 20:58:29,997 - mmfewshot - INFO - \n",
      "roi_head.bbox_head.patch_relation_branch.0.weight - torch.Size([512, 4096, 1, 1]): \n",
      "NormalInit: mean=0, std=0.01, bias=0 \n",
      " \n",
      "2022-05-28 20:58:29,998 - mmfewshot - INFO - \n",
      "roi_head.bbox_head.patch_relation_branch.3.weight - torch.Size([512, 512, 3, 3]): \n",
      "NormalInit: mean=0, std=0.01, bias=0 \n",
      " \n",
      "2022-05-28 20:58:29,998 - mmfewshot - INFO - \n",
      "roi_head.bbox_head.patch_relation_branch.5.weight - torch.Size([2048, 512, 1, 1]): \n",
      "NormalInit: mean=0, std=0.01, bias=0 \n",
      " \n",
      "2022-05-28 20:58:29,999 - mmfewshot - INFO - \n",
      "roi_head.bbox_head.patch_relation_fc_reg.weight - torch.Size([4, 2048]): \n",
      "NormalInit: mean=0, std=0.001, bias=0 \n",
      " \n",
      "2022-05-28 20:58:30,000 - mmfewshot - INFO - \n",
      "roi_head.bbox_head.patch_relation_fc_reg.bias - torch.Size([4]): \n",
      "NormalInit: mean=0, std=0.001, bias=0 \n",
      " \n",
      "2022-05-28 20:58:30,000 - mmfewshot - INFO - \n",
      "roi_head.bbox_head.patch_relation_fc_cls.weight - torch.Size([2, 2048]): \n",
      "NormalInit: mean=0, std=0.01, bias=0 \n",
      " \n",
      "2022-05-28 20:58:30,001 - mmfewshot - INFO - \n",
      "roi_head.bbox_head.patch_relation_fc_cls.bias - torch.Size([2]): \n",
      "NormalInit: mean=0, std=0.01, bias=0 \n",
      " \n",
      "2022-05-28 20:58:30,002 - mmfewshot - INFO - \n",
      "roi_head.bbox_head.local_correlation_branch.0.weight - torch.Size([2048, 2048, 1, 1]): \n",
      "NormalInit: mean=0, std=0.01, bias=0 \n",
      " \n",
      "2022-05-28 20:58:30,002 - mmfewshot - INFO - \n",
      "roi_head.bbox_head.local_correlation_fc_cls.weight - torch.Size([2, 2048]): \n",
      "NormalInit: mean=0, std=0.01, bias=0 \n",
      " \n",
      "2022-05-28 20:58:30,003 - mmfewshot - INFO - \n",
      "roi_head.bbox_head.local_correlation_fc_cls.bias - torch.Size([2]): \n",
      "NormalInit: mean=0, std=0.01, bias=0 \n",
      " \n",
      "2022-05-28 20:58:30,004 - mmfewshot - INFO - \n",
      "roi_head.bbox_head.global_relation_branch.0.weight - torch.Size([2048, 4096]): \n",
      "NormalInit: mean=0, std=0.01, bias=0 \n",
      " \n",
      "2022-05-28 20:58:30,004 - mmfewshot - INFO - \n",
      "roi_head.bbox_head.global_relation_branch.0.bias - torch.Size([2048]): \n",
      "NormalInit: mean=0, std=0.01, bias=0 \n",
      " \n",
      "2022-05-28 20:58:30,005 - mmfewshot - INFO - \n",
      "roi_head.bbox_head.global_relation_branch.2.weight - torch.Size([2048, 2048]): \n",
      "NormalInit: mean=0, std=0.01, bias=0 \n",
      " \n",
      "2022-05-28 20:58:30,006 - mmfewshot - INFO - \n",
      "roi_head.bbox_head.global_relation_branch.2.bias - torch.Size([2048]): \n",
      "NormalInit: mean=0, std=0.01, bias=0 \n",
      " \n",
      "2022-05-28 20:58:30,007 - mmfewshot - INFO - \n",
      "roi_head.bbox_head.global_relation_fc_cls.weight - torch.Size([2, 2048]): \n",
      "NormalInit: mean=0, std=0.01, bias=0 \n",
      " \n",
      "2022-05-28 20:58:30,008 - mmfewshot - INFO - \n",
      "roi_head.bbox_head.global_relation_fc_cls.bias - torch.Size([2]): \n",
      "NormalInit: mean=0, std=0.01, bias=0 \n",
      " \n"
     ]
    },
    {
     "name": "stdout",
     "output_type": "stream",
     "text": [
      "load checkpoint from local path: work_dirs/Flickr-FoodLogos-10/attention-rpn/split2/attention-rpn_r50_c4_tb-split2_1shot-fine-tuning/iter_100000.pth\n"
     ]
    },
    {
     "name": "stderr",
     "output_type": "stream",
     "text": [
      "2022-05-28 20:58:30,548 - mmfewshot - INFO - \n",
      "FewShotVOCCopyDatasetFOODVAR model_init_dataset with number of images 850, and instance counts: \n",
      "+----------+-------+----------+-------+----------+-------+----------+-------+----------+-------+\n",
      "| category | count | category | count | category | count | category | count | category | count |\n",
      "+----------+-------+----------+-------+----------+-------+----------+-------+----------+-------+\n",
      "2022-05-28 20:58:30,634 - mmdet - INFO - starting model initialization...\n"
     ]
    },
    {
     "name": "stdout",
     "output_type": "stream",
     "text": [
      "[>>>>>>>>>>>>>>>>>>>>>>>>>>>>>] 850/850, 66.3 task/s, elapsed: 13s, ETA:     0s"
     ]
    },
    {
     "name": "stderr",
     "output_type": "stream",
     "text": [
      "2022-05-28 20:58:43,580 - mmdet - INFO - model initialization done.\n"
     ]
    },
    {
     "name": "stdout",
     "output_type": "stream",
     "text": [
      "[>>>>>>>>>>>>>>>>>>>>>>>>>>>>>] 300/300, 12.1 task/s, elapsed: 25s, ETA:     0s\n",
      "---------------iou_thr: 0.5---------------\n",
      "\n",
      "+---------+-----+------+--------+-------+\n",
      "| class   | gts | dets | recall | ap    |\n",
      "+---------+-----+------+--------+-------+\n",
      "| fanta   | 291 | 1631 | 0.918  | 0.763 |\n",
      "| Mirinda | 111 | 526  | 0.802  | 0.653 |\n",
      "+---------+-----+------+--------+-------+\n",
      "| mAP     |     |      |        | 0.708 |\n",
      "+---------+-----+------+--------+-------+\n",
      "BASE_CLASSES_SPLIT2 mAP: 0.7077518701553345\n",
      "NOVEL_CLASSES_SPLIT2 mAP: nan\n",
      "OrderedDict([('AP50', 0.708), ('BASE_CLASSES_SPLIT2: AP50', 0.708), ('NOVEL_CLASSES_SPLIT2: AP50', nan), ('mAP', 0.7077518701553345)])\n"
     ]
    }
   ],
   "source": [
    "import os\n",
    "os.environ['CUDA_VISIBLE_DEVICES'] = '1'\n",
    "\n",
    "%run ./tools/detection/test.py \\\n",
    "    work_dirs/Flickr-FoodLogos-10/attention-rpn/split2/attention-rpn_r50_c4_tb-split2_1shot-fine-tuning/attention-rpn_r50_c4_tb-split2_1shot-fine-tuning-momentum-09.py \\\n",
    "    work_dirs/Flickr-FoodLogos-10/attention-rpn/split2/attention-rpn_r50_c4_tb-split2_1shot-fine-tuning/iter_100000.pth --eval mAP"
   ]
  },
  {
   "cell_type": "code",
   "execution_count": null,
   "id": "b980bab4",
   "metadata": {},
   "outputs": [],
   "source": []
  }
 ],
 "metadata": {
  "kernelspec": {
   "display_name": "Python 3 (ipykernel)",
   "language": "python",
   "name": "python3"
  },
  "language_info": {
   "codemirror_mode": {
    "name": "ipython",
    "version": 3
   },
   "file_extension": ".py",
   "mimetype": "text/x-python",
   "name": "python",
   "nbconvert_exporter": "python",
   "pygments_lexer": "ipython3",
   "version": "3.7.11"
  }
 },
 "nbformat": 4,
 "nbformat_minor": 5
}
