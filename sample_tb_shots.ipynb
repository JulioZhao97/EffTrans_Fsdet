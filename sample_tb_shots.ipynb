{
 "cells": [
  {
   "cell_type": "code",
   "execution_count": 9,
   "id": "13afba8e",
   "metadata": {},
   "outputs": [
    {
     "name": "stdout",
     "output_type": "stream",
     "text": [
      "0.6028635068423841\n"
     ]
    }
   ],
   "source": [
    "import random\n",
    "print(random.uniform(0.6,0.8))\n"
   ]
  },
  {
   "cell_type": "code",
   "execution_count": 2,
   "id": "44f47482",
   "metadata": {},
   "outputs": [],
   "source": [
    "style_class = {\n",
    "    '019-fenghuangweishi':2,\n",
    "    '004-CNN':1,\n",
    "    '011-history_channel':0,\n",
    "    '010-sichuanweishi':3,\n",
    "    '020-tbs':3,\n",
    "    '014-VOA':2,\n",
    "    '015-DWTV':2,\n",
    "    '002-beijingweishi':6,\n",
    "    '008-shenzhenweishi':0,\n",
    "    '016-CBS':6,\n",
    "    '006-henanweishi':3,\n",
    "    '003-tianjinweishi':2,\n",
    "    '005-shandongweishi':3,\n",
    "    '019-TVBS':0,\n",
    "    '001-CCTV1':3\n",
    "}\n"
   ]
  },
  {
   "cell_type": "code",
   "execution_count": 3,
   "id": "8de2719f",
   "metadata": {},
   "outputs": [
    {
     "name": "stdout",
     "output_type": "stream",
     "text": [
      "['019-fenghuangweishi', '004-CNN', '011-history_channel', '010-sichuanweishi', '020-tbs', '014-VOA', '015-DWTV', '002-beijingweishi', '008-shenzhenweishi', '016-CBS', '006-henanweishi', '003-tianjinweishi', '005-shandongweishi', '019-TVBS', '001-CCTV1'] 15\n"
     ]
    }
   ],
   "source": [
    "CLASSES = list(style_class.keys())\n",
    "print(CLASSES, len(CLASSES))"
   ]
  },
  {
   "cell_type": "code",
   "execution_count": 5,
   "id": "588768a4",
   "metadata": {},
   "outputs": [
    {
     "name": "stdout",
     "output_type": "stream",
     "text": [
      "['014-VOA', '015-DWTV', '002-beijingweishi', '008-shenzhenweishi', '016-CBS', '006-henanweishi', '003-tianjinweishi', '005-shandongweishi', '019-TVBS', '001-CCTV1']\n",
      "['019-fenghuangweishi', '004-CNN', '011-history_channel', '010-sichuanweishi', '020-tbs', '014-VOA', '015-DWTV', '002-beijingweishi', '008-shenzhenweishi', '016-CBS', '006-henanweishi', '003-tianjinweishi', '005-shandongweishi', '019-TVBS', '001-CCTV1']\n"
     ]
    }
   ],
   "source": [
    "\"\"\"\n",
    "    base split 1 and novel split1\n",
    "\"\"\"\n",
    "\n",
    "base_split1, all_split1 = CLASSES[5:], CLASSES[:]\n",
    "print(base_split1)\n",
    "print(all_split1)"
   ]
  },
  {
   "cell_type": "code",
   "execution_count": 13,
   "id": "54502f29",
   "metadata": {},
   "outputs": [
    {
     "name": "stdout",
     "output_type": "stream",
     "text": [
      "['019-fenghuangweishi', '004-CNN', '011-history_channel', '010-sichuanweishi', '020-tbs', '014-VOA', '015-DWTV', '002-beijingweishi', '008-shenzhenweishi', '016-CBS', '006-henanweishi', '003-tianjinweishi', '005-shandongweishi', '019-TVBS', '001-CCTV1']\n"
     ]
    }
   ],
   "source": [
    "import os\n",
    "import random\n",
    "import xml.etree.ElementTree as ET\n",
    "\n",
    "print(all_split1)\n",
    "\n",
    "count = {c : [] for c in all_split1}\n",
    "\n",
    "need = 200\n",
    "\n",
    "datapath = '/opt/data/nfs/zhaozhiyuan/data/Youtube-TVLogo-10/VOCdevkit_all/VOC2007'\n",
    "#datapath = '/home/zhaozhiyuan_aaai/VOCdevkit_0415/VOC2007'\n",
    "\n",
    "img_all = os.listdir(os.path.join(datapath, 'JPEGImages'))\n",
    "index_all = [img.split('.')[0] for img in img_all]\n",
    "for index in index_all:\n",
    "    if 'dst_dir' in index or 'rename_dir' in index:\n",
    "        continue\n",
    "    anno = ET.parse(os.path.join(datapath, 'Annotations', '{}.xml'.format(index)))\n",
    "    name = anno.find('object').find('name').text\n",
    "    style = anno.find('object').find('style').text\n",
    "    if name in all_split1 and int(style) == style_class[name]:\n",
    "        count[name].append(index)\n",
    "_count = {c : random.sample(count[c], need) for c in all_split1}\n",
    "_count_test = {c : random.sample(list(set(count[c]) - set(_count[c])), need) for c in all_split1}"
   ]
  },
  {
   "cell_type": "markdown",
   "id": "a03cc30b",
   "metadata": {},
   "source": [
    "<font size=10>trainval</font>"
   ]
  },
  {
   "cell_type": "code",
   "execution_count": 18,
   "id": "fb4ee17e",
   "metadata": {},
   "outputs": [],
   "source": [
    "import os\n",
    "\n",
    "trainval = open('/opt/data/nfs/zhaozhiyuan/data/Youtube-TVLogo-10/VOCdevkit_all/VOC2007/ImageSets/Main/few-shot/trainval.txt', 'w')\n",
    "test = open('/opt/data/nfs/zhaozhiyuan/data/Youtube-TVLogo-10/VOCdevkit_all/VOC2007/ImageSets/Main/few-shot/test.txt', 'w')\n",
    "for k, v in _count.items():\n",
    "    #print(k, len(_count[k]), len(_count_test[k]))\n",
    "    #print(_count[k][0])\n",
    "    #break\n",
    "    # trainval\n",
    "    for img in _count[k]:\n",
    "        trainval.write(img)\n",
    "        trainval.write('\\n')\n",
    "    for img in _count_test[k]:\n",
    "        test.write(img)\n",
    "        test.write('\\n')\n",
    "trainval.close()\n",
    "test.close()"
   ]
  },
  {
   "cell_type": "markdown",
   "id": "1aa848b2",
   "metadata": {},
   "source": [
    "<font size=10>sample shots</font>"
   ]
  },
  {
   "cell_type": "code",
   "execution_count": 7,
   "id": "c91fa68f",
   "metadata": {},
   "outputs": [
    {
     "name": "stdout",
     "output_type": "stream",
     "text": [
      "['019-fenghuangweishi', '004-CNN', '011-history_channel', '010-sichuanweishi', '020-tbs', '014-VOA', '015-DWTV', '002-beijingweishi', '008-shenzhenweishi', '016-CBS', '006-henanweishi', '003-tianjinweishi', '005-shandongweishi', '019-TVBS', '001-CCTV1']\n",
      "019-fenghuangweishi 200\n",
      "004-CNN 200\n",
      "011-history_channel 200\n",
      "010-sichuanweishi 200\n",
      "020-tbs 200\n",
      "014-VOA 200\n",
      "015-DWTV 200\n",
      "002-beijingweishi 200\n",
      "008-shenzhenweishi 200\n",
      "016-CBS 200\n",
      "006-henanweishi 200\n",
      "003-tianjinweishi 200\n",
      "005-shandongweishi 200\n",
      "019-TVBS 200\n",
      "001-CCTV1 200\n"
     ]
    }
   ],
   "source": [
    "import os\n",
    "import random\n",
    "import xml.etree.ElementTree as ET\n",
    "\n",
    "print(CLASSES)\n",
    "\n",
    "count = {c : [] for c in all_split1}\n",
    "datapath = '/data/zhaozhiyuan/mmfewshot-main/data/VOCdevkit_tb/VOC2007'\n",
    "trainval = open('/data/zhaozhiyuan/mmfewshot-main/data/VOCdevkit_tb/VOC2007/ImageSets/Main/few-shot/trainval.txt', 'r')\n",
    "trainval = trainval.readlines()\n",
    "trainval = [line.split('\\n')[0] for line in trainval]\n",
    "#img_all = os.listdir(os.path.join(datapath, 'JPEGImages'))\n",
    "#index_all = [img.split('.')[0] for img in img_all]\n",
    "for index in trainval:\n",
    "    if 'dst_dir' in index or 'rename_dir' in index:\n",
    "        continue\n",
    "    anno = ET.parse(os.path.join(datapath, 'Annotations', '{}.xml'.format(index)))\n",
    "    name = anno.find('object').find('name').text\n",
    "    style = anno.find('object').find('style').text\n",
    "    if name in all_split1 and int(style) == style_class[name]:\n",
    "        count[name].append(index)\n",
    "for k, v in count.items():\n",
    "    print(k, len(v))"
   ]
  },
  {
   "cell_type": "markdown",
   "id": "0cb6339a",
   "metadata": {},
   "source": [
    "<font size=10>1shot</font>"
   ]
  },
  {
   "cell_type": "code",
   "execution_count": 13,
   "id": "5e534ee3",
   "metadata": {},
   "outputs": [],
   "source": [
    "import os\n",
    "import random\n",
    "shot = 10\n",
    "tasks = 10\n",
    "\n",
    "base_path = '/data/zhaozhiyuan/mmfewshot-main/data/few_shot_ann/tb/benchmark_{}shot/'.format(shot)\n",
    "if not os.path.exists(base_path):\n",
    "    os.mkdir(base_path)\n",
    "    \n",
    "for task in range(tasks):\n",
    "    os.mkdir(os.path.join(base_path, 'task{}'.format(task)))\n",
    "    for CLASS in CLASSES:\n",
    "        #print(CLASS,len(count[CLASS]))\n",
    "        index_path = base_path.format(CLASS)\n",
    "        #print(index_path)\n",
    "        f = open(os.path.join(base_path,'task{}'.format(task),'box_{}shot_{}_train.txt'.format(shot, CLASS)), 'w')\n",
    "        shots = random.sample(count[CLASS], shot)\n",
    "        #print(shots)\n",
    "        for img in shots:\n",
    "            f.write('VOC2007/JPEGImages/{}.jpg'.format(img))\n",
    "            f.write('\\n')\n",
    "        f.close()\n",
    "    "
   ]
  },
  {
   "cell_type": "code",
   "execution_count": null,
   "id": "8160996b",
   "metadata": {},
   "outputs": [],
   "source": []
  }
 ],
 "metadata": {
  "kernelspec": {
   "display_name": "Python 3 (ipykernel)",
   "language": "python",
   "name": "python3"
  },
  "language_info": {
   "codemirror_mode": {
    "name": "ipython",
    "version": 3
   },
   "file_extension": ".py",
   "mimetype": "text/x-python",
   "name": "python",
   "nbconvert_exporter": "python",
   "pygments_lexer": "ipython3",
   "version": "3.7.11"
  }
 },
 "nbformat": 4,
 "nbformat_minor": 5
}
