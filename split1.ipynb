{
 "cells": [
  {
   "cell_type": "code",
   "execution_count": 4,
   "id": "8fa3dc65",
   "metadata": {
    "scrolled": true
   },
   "outputs": [
    {
     "name": "stderr",
     "output_type": "stream",
     "text": [
      "fatal: Not a git repository (or any parent up to mount point /data)\n",
      "Stopping at filesystem boundary (GIT_DISCOVERY_ACROSS_FILESYSTEM not set).\n",
      "2022-05-26 11:12:31,374 - mmfewshot - INFO - Environment info:\n",
      "------------------------------------------------------------\n",
      "sys.platform: linux\n",
      "Python: 3.7.11 (default, Jul 27 2021, 14:32:16) [GCC 7.5.0]\n",
      "CUDA available: True\n",
      "GPU 0: GeForce RTX 2080 Ti\n",
      "CUDA_HOME: /usr/local/cuda\n",
      "NVCC: Cuda compilation tools, release 10.0, V10.0.130\n",
      "GCC: gcc (Ubuntu 5.4.0-6ubuntu1~16.04.12) 5.4.0 20160609\n",
      "PyTorch: 1.7.0\n",
      "PyTorch compiling details: PyTorch built with:\n",
      "  - GCC 7.3\n",
      "  - C++ Version: 201402\n",
      "  - Intel(R) oneAPI Math Kernel Library Version 2021.4-Product Build 20210904 for Intel(R) 64 architecture applications\n",
      "  - Intel(R) MKL-DNN v1.6.0 (Git Hash 5ef631a030a6f73131c77892041042805a06064f)\n",
      "  - OpenMP 201511 (a.k.a. OpenMP 4.5)\n",
      "  - NNPACK is enabled\n",
      "  - CPU capability usage: AVX2\n",
      "  - CUDA Runtime 10.1\n",
      "  - NVCC architecture flags: -gencode;arch=compute_37,code=sm_37;-gencode;arch=compute_50,code=sm_50;-gencode;arch=compute_60,code=sm_60;-gencode;arch=compute_61,code=sm_61;-gencode;arch=compute_70,code=sm_70;-gencode;arch=compute_75,code=sm_75;-gencode;arch=compute_37,code=compute_37\n",
      "  - CuDNN 7.6.3\n",
      "  - Magma 2.5.2\n",
      "  - Build settings: BLAS=MKL, BUILD_TYPE=Release, CXX_FLAGS= -Wno-deprecated -fvisibility-inlines-hidden -DUSE_PTHREADPOOL -fopenmp -DNDEBUG -DUSE_FBGEMM -DUSE_QNNPACK -DUSE_PYTORCH_QNNPACK -DUSE_XNNPACK -DUSE_VULKAN_WRAPPER -O2 -fPIC -Wno-narrowing -Wall -Wextra -Werror=return-type -Wno-missing-field-initializers -Wno-type-limits -Wno-array-bounds -Wno-unknown-pragmas -Wno-sign-compare -Wno-unused-parameter -Wno-unused-variable -Wno-unused-function -Wno-unused-result -Wno-unused-local-typedefs -Wno-strict-overflow -Wno-strict-aliasing -Wno-error=deprecated-declarations -Wno-stringop-overflow -Wno-psabi -Wno-error=pedantic -Wno-error=redundant-decls -Wno-error=old-style-cast -fdiagnostics-color=always -faligned-new -Wno-unused-but-set-variable -Wno-maybe-uninitialized -fno-math-errno -fno-trapping-math -Werror=format -Wno-stringop-overflow, PERF_WITH_AVX=1, PERF_WITH_AVX2=1, PERF_WITH_AVX512=1, USE_CUDA=ON, USE_EXCEPTION_PTR=1, USE_GFLAGS=OFF, USE_GLOG=OFF, USE_MKL=ON, USE_MKLDNN=ON, USE_MPI=OFF, USE_NCCL=ON, USE_NNPACK=ON, USE_OPENMP=ON, \n",
      "\n",
      "TorchVision: 0.8.0\n",
      "OpenCV: 4.5.5\n",
      "MMCV: 1.4.0\n",
      "MMCV Compiler: GCC 7.3\n",
      "MMCV CUDA Compiler: 10.1\n",
      "MMDetection: 2.19.0+\n",
      "------------------------------------------------------------\n",
      "\n",
      "2022-05-26 11:12:32,835 - mmfewshot - INFO - Distributed training: False\n",
      "2022-05-26 11:12:34,347 - mmfewshot - INFO - Config:\n",
      "img_norm_cfg = dict(\n",
      "    mean=[103.53, 116.28, 123.675], std=[1.0, 1.0, 1.0], to_rgb=False)\n",
      "train_multi_pipelines = dict(\n",
      "    query=[\n",
      "        dict(type='LoadImageFromFile'),\n",
      "        dict(type='LoadAnnotations', with_bbox=True),\n",
      "        dict(\n",
      "            type='Resize',\n",
      "            img_scale=[(1000, 440), (1000, 472), (1000, 504), (1000, 536),\n",
      "                       (1000, 568), (1000, 600)],\n",
      "            keep_ratio=True,\n",
      "            multiscale_mode='value'),\n",
      "        dict(type='RandomFlip', flip_ratio=0.0),\n",
      "        dict(\n",
      "            type='Normalize',\n",
      "            mean=[103.53, 116.28, 123.675],\n",
      "            std=[1.0, 1.0, 1.0],\n",
      "            to_rgb=False),\n",
      "        dict(type='DefaultFormatBundle'),\n",
      "        dict(type='Collect', keys=['img', 'gt_bboxes', 'gt_labels'])\n",
      "    ],\n",
      "    support=[\n",
      "        dict(type='LoadImageFromFile'),\n",
      "        dict(type='LoadAnnotations', with_bbox=True),\n",
      "        dict(\n",
      "            type='CropResizeInstance',\n",
      "            num_context_pixels=16,\n",
      "            target_size=(320, 320)),\n",
      "        dict(type='RandomFlip', flip_ratio=0.0),\n",
      "        dict(\n",
      "            type='Normalize',\n",
      "            mean=[103.53, 116.28, 123.675],\n",
      "            std=[1.0, 1.0, 1.0],\n",
      "            to_rgb=False),\n",
      "        dict(type='DefaultFormatBundle'),\n",
      "        dict(type='Collect', keys=['img', 'gt_bboxes', 'gt_labels'])\n",
      "    ])\n",
      "test_pipeline = [\n",
      "    dict(type='LoadImageFromFile'),\n",
      "    dict(\n",
      "        type='MultiScaleFlipAug',\n",
      "        img_scale=(1000, 600),\n",
      "        flip=False,\n",
      "        transforms=[\n",
      "            dict(type='Resize', keep_ratio=True),\n",
      "            dict(type='RandomFlip'),\n",
      "            dict(\n",
      "                type='Normalize',\n",
      "                mean=[103.53, 116.28, 123.675],\n",
      "                std=[1.0, 1.0, 1.0],\n",
      "                to_rgb=False),\n",
      "            dict(type='ImageToTensor', keys=['img']),\n",
      "            dict(type='Collect', keys=['img'])\n",
      "        ])\n",
      "]\n",
      "data_root = 'data/Flickr-FoodLogos-10/VOCdevkit_FoodLogo_split1/'\n",
      "data = dict(\n",
      "    samples_per_gpu=1,\n",
      "    workers_per_gpu=2,\n",
      "    train=dict(\n",
      "        type='QueryAwareDataset',\n",
      "        num_support_ways=2,\n",
      "        num_support_shots=1,\n",
      "        save_dataset=True,\n",
      "        dataset=dict(\n",
      "            type='FewShotVOCDefaultDatasetFOODVAR',\n",
      "            ann_cfg=[\n",
      "                dict(\n",
      "                    method='Attention_RPN',\n",
      "                    setting='SPLIT1_1SHOT',\n",
      "                    task='TASK0')\n",
      "            ],\n",
      "            img_prefix='data/Flickr-FoodLogos-10/VOCdevkit_FoodLogo_split1',\n",
      "            multi_pipelines=dict(\n",
      "                query=[\n",
      "                    dict(type='LoadImageFromFile'),\n",
      "                    dict(type='LoadAnnotations', with_bbox=True),\n",
      "                    dict(\n",
      "                        type='Resize',\n",
      "                        img_scale=[(1000, 440), (1000, 472), (1000, 504),\n",
      "                                   (1000, 536), (1000, 568), (1000, 600)],\n",
      "                        keep_ratio=True,\n",
      "                        multiscale_mode='value'),\n",
      "                    dict(type='RandomFlip', flip_ratio=0.0),\n",
      "                    dict(\n",
      "                        type='Normalize',\n",
      "                        mean=[103.53, 116.28, 123.675],\n",
      "                        std=[1.0, 1.0, 1.0],\n",
      "                        to_rgb=False),\n",
      "                    dict(type='DefaultFormatBundle'),\n",
      "                    dict(\n",
      "                        type='Collect', keys=['img', 'gt_bboxes', 'gt_labels'])\n",
      "                ],\n",
      "                support=[\n",
      "                    dict(type='LoadImageFromFile'),\n",
      "                    dict(type='LoadAnnotations', with_bbox=True),\n",
      "                    dict(\n",
      "                        type='CropResizeInstance',\n",
      "                        num_context_pixels=16,\n",
      "                        target_size=(320, 320)),\n",
      "                    dict(type='RandomFlip', flip_ratio=0.0),\n",
      "                    dict(\n",
      "                        type='Normalize',\n",
      "                        mean=[103.53, 116.28, 123.675],\n",
      "                        std=[1.0, 1.0, 1.0],\n",
      "                        to_rgb=False),\n",
      "                    dict(type='DefaultFormatBundle'),\n",
      "                    dict(\n",
      "                        type='Collect', keys=['img', 'gt_bboxes', 'gt_labels'])\n",
      "                ]),\n",
      "            classes='ALL_CLASSES_SPLIT1',\n",
      "            use_difficult=False,\n",
      "            instance_wise=False,\n",
      "            min_bbox_area=0,\n",
      "            dataset_name='query_support_dataset',\n",
      "            num_novel_shots=10000,\n",
      "            num_base_shots=10000)),\n",
      "    val=dict(\n",
      "        type='FewShotVOCDatasetFOODVAR',\n",
      "        ann_cfg=[\n",
      "            dict(\n",
      "                type='ann_file',\n",
      "                ann_file=\n",
      "                'data/Flickr-FoodLogos-10/VOCdevkit_FoodLogo_split1/VOC2007/ImageSets/Main/test_across_style.txt'\n",
      "            )\n",
      "        ],\n",
      "        img_prefix='data/Flickr-FoodLogos-10/VOCdevkit_FoodLogo_split1',\n",
      "        pipeline=[\n",
      "            dict(type='LoadImageFromFile'),\n",
      "            dict(\n",
      "                type='MultiScaleFlipAug',\n",
      "                img_scale=(1000, 600),\n",
      "                flip=False,\n",
      "                transforms=[\n",
      "                    dict(type='Resize', keep_ratio=True),\n",
      "                    dict(type='RandomFlip'),\n",
      "                    dict(\n",
      "                        type='Normalize',\n",
      "                        mean=[103.53, 116.28, 123.675],\n",
      "                        std=[1.0, 1.0, 1.0],\n",
      "                        to_rgb=False),\n",
      "                    dict(type='ImageToTensor', keys=['img']),\n",
      "                    dict(type='Collect', keys=['img'])\n",
      "                ])\n",
      "        ],\n",
      "        classes='ALL_CLASSES_SPLIT1'),\n",
      "    test=dict(\n",
      "        type='FewShotVOCDatasetFOODVAR',\n",
      "        ann_cfg=[\n",
      "            dict(\n",
      "                type='ann_file',\n",
      "                ann_file=\n",
      "                'data/Flickr-FoodLogos-10/VOCdevkit_FoodLogo_split1/VOC2007/ImageSets/Main/test_across_style.txt'\n",
      "            )\n",
      "        ],\n",
      "        img_prefix='data/Flickr-FoodLogos-10/VOCdevkit_FoodLogo_split1',\n",
      "        pipeline=[\n",
      "            dict(type='LoadImageFromFile'),\n",
      "            dict(\n",
      "                type='MultiScaleFlipAug',\n",
      "                img_scale=(1000, 600),\n",
      "                flip=False,\n",
      "                transforms=[\n",
      "                    dict(type='Resize', keep_ratio=True),\n",
      "                    dict(type='RandomFlip'),\n",
      "                    dict(\n",
      "                        type='Normalize',\n",
      "                        mean=[103.53, 116.28, 123.675],\n",
      "                        std=[1.0, 1.0, 1.0],\n",
      "                        to_rgb=False),\n",
      "                    dict(type='ImageToTensor', keys=['img']),\n",
      "                    dict(type='Collect', keys=['img'])\n",
      "                ])\n",
      "        ],\n",
      "        test_mode=True,\n",
      "        classes='ALL_CLASSES_SPLIT1'),\n",
      "    model_init=dict(\n",
      "        copy_from_train_dataset=True,\n",
      "        samples_per_gpu=16,\n",
      "        workers_per_gpu=1,\n",
      "        type='FewShotVOCDatasetFOODVAR',\n",
      "        ann_cfg=None,\n",
      "        img_prefix='data/Flickr-FoodLogos-10/VOCdevkit_FoodLogo_split1/',\n",
      "        pipeline=[\n",
      "            dict(type='LoadImageFromFile'),\n",
      "            dict(type='LoadAnnotations', with_bbox=True),\n",
      "            dict(\n",
      "                type='CropResizeInstance',\n",
      "                num_context_pixels=16,\n",
      "                target_size=(320, 320)),\n",
      "            dict(type='RandomFlip', flip_ratio=0.0),\n",
      "            dict(\n",
      "                type='Normalize',\n",
      "                mean=[103.53, 116.28, 123.675],\n",
      "                std=[1.0, 1.0, 1.0],\n",
      "                to_rgb=False),\n",
      "            dict(type='DefaultFormatBundle'),\n",
      "            dict(type='Collect', keys=['img', 'gt_bboxes', 'gt_labels'])\n",
      "        ],\n",
      "        use_difficult=False,\n",
      "        instance_wise=True,\n",
      "        num_novel_shots=None,\n",
      "        classes='ALL_CLASSES_SPLIT1',\n",
      "        min_bbox_area=1024,\n",
      "        dataset_name='model_init_dataset'))\n",
      "evaluation = dict(\n",
      "    interval=1000,\n",
      "    metric='mAP',\n",
      "    class_splits=['BASE_CLASSES_SPLIT1', 'NOVEL_CLASSES_SPLIT1'])\n",
      "optimizer = dict(type='SGD', lr=0.0001, momentum=0.9, weight_decay=0.0001)\n",
      "optimizer_config = dict(grad_clip=None)\n",
      "lr_config = dict(\n",
      "    policy='step',\n",
      "    warmup=None,\n",
      "    warmup_iters=500,\n",
      "    warmup_ratio=0.001,\n",
      "    step=[100000])\n",
      "runner = dict(type='IterBasedRunner', max_iters=100000)\n",
      "norm_cfg = dict(type='BN', requires_grad=False)\n",
      "pretrained = 'open-mmlab://detectron2/resnet50_caffe'\n",
      "model = dict(\n",
      "    type='AttentionRPNDetector',\n",
      "    pretrained='open-mmlab://detectron2/resnet50_caffe',\n",
      "    backbone=dict(\n",
      "        type='ResNet',\n",
      "        depth=50,\n",
      "        num_stages=3,\n",
      "        strides=(1, 2, 2),\n",
      "        dilations=(1, 1, 1),\n",
      "        out_indices=(2, ),\n",
      "        frozen_stages=2,\n",
      "        norm_cfg=dict(type='BN', requires_grad=False),\n",
      "        norm_eval=True,\n",
      "        style='caffe'),\n",
      "    rpn_head=dict(\n",
      "        type='AttentionRPNHead',\n",
      "        in_channels=1024,\n",
      "        feat_channels=1024,\n",
      "        anchor_generator=dict(\n",
      "            type='AnchorGenerator',\n",
      "            scales=[2, 4, 8, 16, 32],\n",
      "            ratios=[0.5, 1.0, 2.0],\n",
      "            scale_major=False,\n",
      "            strides=[16]),\n",
      "        bbox_coder=dict(\n",
      "            type='DeltaXYWHBBoxCoder',\n",
      "            target_means=[0.0, 0.0, 0.0, 0.0],\n",
      "            target_stds=[1.0, 1.0, 1.0, 1.0]),\n",
      "        loss_cls=dict(\n",
      "            type='CrossEntropyLoss', use_sigmoid=True, loss_weight=1.0),\n",
      "        loss_bbox=dict(type='L1Loss', loss_weight=1.0),\n",
      "        num_support_ways=2,\n",
      "        num_support_shots=1,\n",
      "        roi_extractor=dict(\n",
      "            type='SingleRoIExtractor',\n",
      "            roi_layer=dict(type='RoIAlign', output_size=14, sampling_ratio=0),\n",
      "            out_channels=1024,\n",
      "            featmap_strides=[16]),\n",
      "        aggregation_layer=dict(\n",
      "            type='AggregationLayer',\n",
      "            aggregator_cfgs=[\n",
      "                dict(\n",
      "                    type='DepthWiseCorrelationAggregator',\n",
      "                    in_channels=1024,\n",
      "                    with_fc=False)\n",
      "            ])),\n",
      "    roi_head=dict(\n",
      "        type='MultiRelationRoIHead',\n",
      "        shared_head=dict(\n",
      "            type='ResLayer',\n",
      "            pretrained='open-mmlab://detectron2/resnet50_caffe',\n",
      "            depth=50,\n",
      "            stage=3,\n",
      "            stride=2,\n",
      "            dilation=1,\n",
      "            style='caffe',\n",
      "            norm_cfg=dict(type='BN', requires_grad=False),\n",
      "            norm_eval=True),\n",
      "        bbox_roi_extractor=dict(\n",
      "            type='SingleRoIExtractor',\n",
      "            roi_layer=dict(type='RoIAlign', output_size=14, sampling_ratio=0),\n",
      "            out_channels=1024,\n",
      "            featmap_strides=[16]),\n",
      "        bbox_head=dict(\n",
      "            type='MultiRelationBBoxHead',\n",
      "            with_avg_pool=True,\n",
      "            roi_feat_size=14,\n",
      "            in_channels=2048,\n",
      "            num_classes=1,\n",
      "            bbox_coder=dict(\n",
      "                type='DeltaXYWHBBoxCoder',\n",
      "                target_means=[0.0, 0.0, 0.0, 0.0],\n",
      "                target_stds=[0.1, 0.1, 0.2, 0.2]),\n",
      "            reg_class_agnostic=True,\n",
      "            loss_cls=dict(\n",
      "                type='CrossEntropyLoss', use_sigmoid=False, loss_weight=1.0),\n",
      "            loss_bbox=dict(type='L1Loss', loss_weight=1.0),\n",
      "            patch_relation=True,\n",
      "            local_correlation=True,\n",
      "            global_relation=True,\n",
      "            init_cfg=[\n",
      "                dict(\n",
      "                    type='Normal',\n",
      "                    override=dict(\n",
      "                        type='Normal', name='patch_relation_branch',\n",
      "                        std=0.01)),\n",
      "                dict(\n",
      "                    type='Normal',\n",
      "                    override=dict(\n",
      "                        type='Normal', name='patch_relation_fc_cls',\n",
      "                        std=0.01)),\n",
      "                dict(\n",
      "                    type='Normal',\n",
      "                    override=dict(\n",
      "                        type='Normal', name='patch_relation_fc_reg',\n",
      "                        std=0.001)),\n",
      "                dict(\n",
      "                    type='Normal',\n",
      "                    override=dict(\n",
      "                        type='Normal',\n",
      "                        name='local_correlation_branch',\n",
      "                        std=0.01)),\n",
      "                dict(\n",
      "                    type='Normal',\n",
      "                    override=dict(\n",
      "                        type='Normal',\n",
      "                        name='local_correlation_fc_cls',\n",
      "                        std=0.01)),\n",
      "                dict(\n",
      "                    type='Normal',\n",
      "                    override=dict(\n",
      "                        type='Normal', name='global_relation_branch',\n",
      "                        std=0.01)),\n",
      "                dict(\n",
      "                    type='Normal',\n",
      "                    override=dict(\n",
      "                        type='Normal', name='global_relation_fc_cls',\n",
      "                        std=0.01))\n",
      "            ]),\n",
      "        num_support_ways=2,\n",
      "        num_support_shots=1),\n",
      "    train_cfg=dict(\n",
      "        rpn=dict(\n",
      "            assigner=dict(\n",
      "                type='MaxIoUAssigner',\n",
      "                pos_iou_thr=0.7,\n",
      "                neg_iou_thr=0.3,\n",
      "                min_pos_iou=0.3,\n",
      "                match_low_quality=True,\n",
      "                ignore_iof_thr=-1),\n",
      "            sampler=dict(\n",
      "                type='RandomSampler',\n",
      "                num=256,\n",
      "                pos_fraction=0.5,\n",
      "                neg_pos_ub=-1,\n",
      "                add_gt_as_proposals=False),\n",
      "            allowed_border=-1,\n",
      "            pos_weight=-1,\n",
      "            debug=False),\n",
      "        rpn_proposal=dict(\n",
      "            nms_pre=12000,\n",
      "            max_per_img=2000,\n",
      "            nms=dict(type='nms', iou_threshold=0.7),\n",
      "            min_bbox_size=0),\n",
      "        rcnn=dict(\n",
      "            assigner=dict(\n",
      "                type='MaxIoUAssigner',\n",
      "                pos_iou_thr=0.5,\n",
      "                neg_iou_thr=0.5,\n",
      "                min_pos_iou=0.5,\n",
      "                match_low_quality=False,\n",
      "                ignore_iof_thr=-1),\n",
      "            sampler=dict(\n",
      "                type='RandomSampler',\n",
      "                num=128,\n",
      "                pos_fraction=0.5,\n",
      "                neg_pos_ub=-1,\n",
      "                add_gt_as_proposals=True),\n",
      "            pos_weight=-1,\n",
      "            debug=False)),\n",
      "    test_cfg=dict(\n",
      "        rpn=dict(\n",
      "            nms_pre=6000,\n",
      "            max_per_img=100,\n",
      "            nms=dict(type='nms', iou_threshold=0.7),\n",
      "            min_bbox_size=0),\n",
      "        rcnn=dict(\n",
      "            score_thr=0.05,\n",
      "            nms=dict(type='nms', iou_threshold=0.5),\n",
      "            max_per_img=100)))\n",
      "num_support_ways = 2\n",
      "num_support_shots = 1\n",
      "checkpoint_config = dict(interval=10000)\n",
      "log_config = dict(\n",
      "    interval=50,\n",
      "    hooks=[dict(type='TextLoggerHook'),\n",
      "           dict(type='TensorboardLoggerHook')])\n",
      "custom_hooks = [dict(type='NumClassCheckHook')]\n",
      "dist_params = dict(backend='nccl')\n",
      "log_level = 'INFO'\n",
      "load_from = None\n",
      "resume_from = None\n",
      "workflow = [('train', 1)]\n",
      "use_infinite_sampler = True\n",
      "seed = 42\n",
      "work_dir = './work_dirs/tb_variation/Flickr-FoodLogos-10/attention-rpn/split1/attention-rpn_r50_c4_tb-split1_1shot-fine-tuning'\n",
      "gpu_ids = range(0, 1)\n",
      "\n"
     ]
    },
    {
     "name": "stderr",
     "output_type": "stream",
     "text": [
      "2022-05-26 11:12:34,349 - mmfewshot - INFO - Set random seed to 42, deterministic: False\n",
      "/home/zhaozhiyuan/anaconda3/envs/mmfewshot/lib/python3.7/site-packages/mmdet/models/backbones/resnet.py:401: UserWarning: DeprecationWarning: pretrained is deprecated, please use \"init_cfg\" instead\n",
      "  warnings.warn('DeprecationWarning: pretrained is deprecated, '\n",
      "/home/zhaozhiyuan/anaconda3/envs/mmfewshot/lib/python3.7/site-packages/mmdet/models/roi_heads/shared_heads/res_layer.py:54: UserWarning: DeprecationWarning: pretrained is a deprecated, please use \"init_cfg\" instead\n",
      "  warnings.warn('DeprecationWarning: pretrained is a deprecated, '\n",
      "2022-05-26 11:12:34,852 - mmfewshot - INFO - initialize ResNet with init_cfg {'type': 'Pretrained', 'checkpoint': 'open-mmlab://detectron2/resnet50_caffe'}\n",
      "2022-05-26 11:12:34,853 - mmcv - INFO - load model from: open-mmlab://detectron2/resnet50_caffe\n",
      "2022-05-26 11:12:34,854 - mmcv - INFO - load checkpoint from openmmlab path: open-mmlab://detectron2/resnet50_caffe\n",
      "2022-05-26 11:12:34,948 - mmcv - WARNING - The model and loaded state dict do not match exactly\n",
      "\n",
      "unexpected key in source state_dict: layer4.0.downsample.0.weight, layer4.0.downsample.1.bias, layer4.0.downsample.1.weight, layer4.0.downsample.1.running_mean, layer4.0.downsample.1.running_var, layer4.0.conv1.weight, layer4.0.bn1.bias, layer4.0.bn1.weight, layer4.0.bn1.running_mean, layer4.0.bn1.running_var, layer4.0.conv2.weight, layer4.0.bn2.bias, layer4.0.bn2.weight, layer4.0.bn2.running_mean, layer4.0.bn2.running_var, layer4.0.conv3.weight, layer4.0.bn3.bias, layer4.0.bn3.weight, layer4.0.bn3.running_mean, layer4.0.bn3.running_var, layer4.1.conv1.weight, layer4.1.bn1.bias, layer4.1.bn1.weight, layer4.1.bn1.running_mean, layer4.1.bn1.running_var, layer4.1.conv2.weight, layer4.1.bn2.bias, layer4.1.bn2.weight, layer4.1.bn2.running_mean, layer4.1.bn2.running_var, layer4.1.conv3.weight, layer4.1.bn3.bias, layer4.1.bn3.weight, layer4.1.bn3.running_mean, layer4.1.bn3.running_var, layer4.2.conv1.weight, layer4.2.bn1.bias, layer4.2.bn1.weight, layer4.2.bn1.running_mean, layer4.2.bn1.running_var, layer4.2.conv2.weight, layer4.2.bn2.bias, layer4.2.bn2.weight, layer4.2.bn2.running_mean, layer4.2.bn2.running_var, layer4.2.conv3.weight, layer4.2.bn3.bias, layer4.2.bn3.weight, layer4.2.bn3.running_mean, layer4.2.bn3.running_var, conv1.bias\n",
      "\n",
      "2022-05-26 11:12:34,979 - mmfewshot - INFO - initialize AttentionRPNHead with init_cfg {'type': 'Normal', 'layer': 'Conv2d', 'std': 0.01}\n",
      "2022-05-26 11:12:35,146 - mmfewshot - INFO - initialize ResLayer with init_cfg {'type': 'Pretrained', 'checkpoint': 'open-mmlab://detectron2/resnet50_caffe'}\n",
      "2022-05-26 11:12:35,147 - mmcv - INFO - load model from: open-mmlab://detectron2/resnet50_caffe\n",
      "2022-05-26 11:12:35,148 - mmcv - INFO - load checkpoint from openmmlab path: open-mmlab://detectron2/resnet50_caffe\n",
      "2022-05-26 11:12:35,230 - mmcv - WARNING - The model and loaded state dict do not match exactly\n",
      "\n",
      "unexpected key in source state_dict: conv1.weight, conv1.bias, bn1.bias, bn1.weight, bn1.running_mean, bn1.running_var, layer1.0.downsample.0.weight, layer1.0.downsample.1.bias, layer1.0.downsample.1.weight, layer1.0.downsample.1.running_mean, layer1.0.downsample.1.running_var, layer1.0.conv1.weight, layer1.0.bn1.bias, layer1.0.bn1.weight, layer1.0.bn1.running_mean, layer1.0.bn1.running_var, layer1.0.conv2.weight, layer1.0.bn2.bias, layer1.0.bn2.weight, layer1.0.bn2.running_mean, layer1.0.bn2.running_var, layer1.0.conv3.weight, layer1.0.bn3.bias, layer1.0.bn3.weight, layer1.0.bn3.running_mean, layer1.0.bn3.running_var, layer1.1.conv1.weight, layer1.1.bn1.bias, layer1.1.bn1.weight, layer1.1.bn1.running_mean, layer1.1.bn1.running_var, layer1.1.conv2.weight, layer1.1.bn2.bias, layer1.1.bn2.weight, layer1.1.bn2.running_mean, layer1.1.bn2.running_var, layer1.1.conv3.weight, layer1.1.bn3.bias, layer1.1.bn3.weight, layer1.1.bn3.running_mean, layer1.1.bn3.running_var, layer1.2.conv1.weight, layer1.2.bn1.bias, layer1.2.bn1.weight, layer1.2.bn1.running_mean, layer1.2.bn1.running_var, layer1.2.conv2.weight, layer1.2.bn2.bias, layer1.2.bn2.weight, layer1.2.bn2.running_mean, layer1.2.bn2.running_var, layer1.2.conv3.weight, layer1.2.bn3.bias, layer1.2.bn3.weight, layer1.2.bn3.running_mean, layer1.2.bn3.running_var, layer2.0.downsample.0.weight, layer2.0.downsample.1.bias, layer2.0.downsample.1.weight, layer2.0.downsample.1.running_mean, layer2.0.downsample.1.running_var, layer2.0.conv1.weight, layer2.0.bn1.bias, layer2.0.bn1.weight, layer2.0.bn1.running_mean, layer2.0.bn1.running_var, layer2.0.conv2.weight, layer2.0.bn2.bias, layer2.0.bn2.weight, layer2.0.bn2.running_mean, layer2.0.bn2.running_var, layer2.0.conv3.weight, layer2.0.bn3.bias, layer2.0.bn3.weight, layer2.0.bn3.running_mean, layer2.0.bn3.running_var, layer2.1.conv1.weight, layer2.1.bn1.bias, layer2.1.bn1.weight, layer2.1.bn1.running_mean, layer2.1.bn1.running_var, layer2.1.conv2.weight, layer2.1.bn2.bias, layer2.1.bn2.weight, layer2.1.bn2.running_mean, layer2.1.bn2.running_var, layer2.1.conv3.weight, layer2.1.bn3.bias, layer2.1.bn3.weight, layer2.1.bn3.running_mean, layer2.1.bn3.running_var, layer2.2.conv1.weight, layer2.2.bn1.bias, layer2.2.bn1.weight, layer2.2.bn1.running_mean, layer2.2.bn1.running_var, layer2.2.conv2.weight, layer2.2.bn2.bias, layer2.2.bn2.weight, layer2.2.bn2.running_mean, layer2.2.bn2.running_var, layer2.2.conv3.weight, layer2.2.bn3.bias, layer2.2.bn3.weight, layer2.2.bn3.running_mean, layer2.2.bn3.running_var, layer2.3.conv1.weight, layer2.3.bn1.bias, layer2.3.bn1.weight, layer2.3.bn1.running_mean, layer2.3.bn1.running_var, layer2.3.conv2.weight, layer2.3.bn2.bias, layer2.3.bn2.weight, layer2.3.bn2.running_mean, layer2.3.bn2.running_var, layer2.3.conv3.weight, layer2.3.bn3.bias, layer2.3.bn3.weight, layer2.3.bn3.running_mean, layer2.3.bn3.running_var, layer3.0.downsample.0.weight, layer3.0.downsample.1.bias, layer3.0.downsample.1.weight, layer3.0.downsample.1.running_mean, layer3.0.downsample.1.running_var, layer3.0.conv1.weight, layer3.0.bn1.bias, layer3.0.bn1.weight, layer3.0.bn1.running_mean, layer3.0.bn1.running_var, layer3.0.conv2.weight, layer3.0.bn2.bias, layer3.0.bn2.weight, layer3.0.bn2.running_mean, layer3.0.bn2.running_var, layer3.0.conv3.weight, layer3.0.bn3.bias, layer3.0.bn3.weight, layer3.0.bn3.running_mean, layer3.0.bn3.running_var, layer3.1.conv1.weight, layer3.1.bn1.bias, layer3.1.bn1.weight, layer3.1.bn1.running_mean, layer3.1.bn1.running_var, layer3.1.conv2.weight, layer3.1.bn2.bias, layer3.1.bn2.weight, layer3.1.bn2.running_mean, layer3.1.bn2.running_var, layer3.1.conv3.weight, layer3.1.bn3.bias, layer3.1.bn3.weight, layer3.1.bn3.running_mean, layer3.1.bn3.running_var, layer3.2.conv1.weight, layer3.2.bn1.bias, layer3.2.bn1.weight, layer3.2.bn1.running_mean, layer3.2.bn1.running_var, layer3.2.conv2.weight, layer3.2.bn2.bias, layer3.2.bn2.weight, layer3.2.bn2.running_mean, layer3.2.bn2.running_var, layer3.2.conv3.weight, layer3.2.bn3.bias, layer3.2.bn3.weight, layer3.2.bn3.running_mean, layer3.2.bn3.running_var, layer3.3.conv1.weight, layer3.3.bn1.bias, layer3.3.bn1.weight, layer3.3.bn1.running_mean, layer3.3.bn1.running_var, layer3.3.conv2.weight, layer3.3.bn2.bias, layer3.3.bn2.weight, layer3.3.bn2.running_mean, layer3.3.bn2.running_var, layer3.3.conv3.weight, layer3.3.bn3.bias, layer3.3.bn3.weight, layer3.3.bn3.running_mean, layer3.3.bn3.running_var, layer3.4.conv1.weight, layer3.4.bn1.bias, layer3.4.bn1.weight, layer3.4.bn1.running_mean, layer3.4.bn1.running_var, layer3.4.conv2.weight, layer3.4.bn2.bias, layer3.4.bn2.weight, layer3.4.bn2.running_mean, layer3.4.bn2.running_var, layer3.4.conv3.weight, layer3.4.bn3.bias, layer3.4.bn3.weight, layer3.4.bn3.running_mean, layer3.4.bn3.running_var, layer3.5.conv1.weight, layer3.5.bn1.bias, layer3.5.bn1.weight, layer3.5.bn1.running_mean, layer3.5.bn1.running_var, layer3.5.conv2.weight, layer3.5.bn2.bias, layer3.5.bn2.weight, layer3.5.bn2.running_mean, layer3.5.bn2.running_var, layer3.5.conv3.weight, layer3.5.bn3.bias, layer3.5.bn3.weight, layer3.5.bn3.running_mean, layer3.5.bn3.running_var\n",
      "\n",
      "2022-05-26 11:12:35,243 - mmfewshot - INFO - initialize MultiRelationBBoxHead with init_cfg [{'type': 'Normal', 'override': {'type': 'Normal', 'name': 'patch_relation_branch', 'std': 0.01}}, {'type': 'Normal', 'override': {'type': 'Normal', 'name': 'patch_relation_fc_cls', 'std': 0.01}}, {'type': 'Normal', 'override': {'type': 'Normal', 'name': 'patch_relation_fc_reg', 'std': 0.001}}, {'type': 'Normal', 'override': {'type': 'Normal', 'name': 'local_correlation_branch', 'std': 0.01}}, {'type': 'Normal', 'override': {'type': 'Normal', 'name': 'local_correlation_fc_cls', 'std': 0.01}}, {'type': 'Normal', 'override': {'type': 'Normal', 'name': 'global_relation_branch', 'std': 0.01}}, {'type': 'Normal', 'override': {'type': 'Normal', 'name': 'global_relation_fc_cls', 'std': 0.01}}]\n"
     ]
    },
    {
     "name": "stderr",
     "output_type": "stream",
     "text": [
      "/data/zhaozhiyuan/mmfewshot-main/mmfewshot/detection/datasets/base.py:395: UserWarning: number of 7up instance is 389 which is less than predefined shots 10000.\n",
      "  warnings.warn(f'number of {class_name} instance is '\n",
      "/data/zhaozhiyuan/mmfewshot-main/mmfewshot/detection/datasets/base.py:395: UserWarning: number of BudLight instance is 314 which is less than predefined shots 10000.\n",
      "  warnings.warn(f'number of {class_name} instance is '\n",
      "2022-05-26 11:12:35,739 - mmfewshot - INFO - \n",
      "FewShotVOCDefaultDatasetFOODVAR query_support_dataset with number of images 551, and instance counts: \n",
      "+----------+-------+----------+-------+----------+-------+----------+-------+----------+-------+\n",
      "| category | count | category | count | category | count | category | count | category | count |\n",
      "+----------+-------+----------+-------+----------+-------+----------+-------+----------+-------+\n"
     ]
    },
    {
     "name": "stdout",
     "output_type": "stream",
     "text": [
      "Attention_RPN SPLIT1_1SHOT TASK0\n"
     ]
    },
    {
     "name": "stderr",
     "output_type": "stream",
     "text": [
      "fatal: Not a git repository (or any parent up to mount point /data)\n",
      "Stopping at filesystem boundary (GIT_DISCOVERY_ACROSS_FILESYSTEM not set).\n",
      "2022-05-26 11:12:36,167 - mmfewshot - INFO - \n",
      "FewShotVOCDatasetFOODVAR Test dataset with number of images 712, and instance counts: \n",
      "+----------+-------+----------+-------+----------+-------+----------+-------+----------+-------+\n",
      "| category | count | category | count | category | count | category | count | category | count |\n",
      "+----------+-------+----------+-------+----------+-------+----------+-------+----------+-------+\n",
      "2022-05-26 11:12:36,221 - mmfewshot - INFO - \n",
      "FewShotVOCCopyDatasetFOODVAR model_init_dataset with number of images 640, and instance counts: \n",
      "+----------+-------+----------+-------+----------+-------+----------+-------+----------+-------+\n",
      "| category | count | category | count | category | count | category | count | category | count |\n",
      "+----------+-------+----------+-------+----------+-------+----------+-------+----------+-------+\n",
      "2022-05-26 11:12:36,222 - mmfewshot - INFO - Start running, host: zhaozhiyuan@amax, work_dir: /data/zhaozhiyuan/mmfewshot-main/work_dirs/tb_variation/Flickr-FoodLogos-10/attention-rpn/split1/attention-rpn_r50_c4_tb-split1_1shot-fine-tuning\n",
      "2022-05-26 11:12:36,223 - mmfewshot - INFO - Hooks will be executed in the following order:\n",
      "before_run:\n",
      "(VERY_HIGH   ) StepLrUpdaterHook                  \n",
      "(NORMAL      ) CheckpointHook                     \n",
      "(LOW         ) QuerySupportEvalHook               \n",
      "(VERY_LOW    ) TextLoggerHook                     \n",
      "(VERY_LOW    ) TensorboardLoggerHook              \n",
      " -------------------- \n",
      "before_train_epoch:\n",
      "(VERY_HIGH   ) StepLrUpdaterHook                  \n",
      "(NORMAL      ) NumClassCheckHook                  \n",
      "(LOW         ) IterTimerHook                      \n",
      "(LOW         ) QuerySupportEvalHook               \n",
      "(VERY_LOW    ) TextLoggerHook                     \n",
      "(VERY_LOW    ) TensorboardLoggerHook              \n",
      " -------------------- \n",
      "before_train_iter:\n",
      "(VERY_HIGH   ) StepLrUpdaterHook                  \n",
      "(LOW         ) IterTimerHook                      \n",
      "(LOW         ) QuerySupportEvalHook               \n",
      " -------------------- \n",
      "after_train_iter:\n",
      "(ABOVE_NORMAL) OptimizerHook                      \n",
      "(NORMAL      ) CheckpointHook                     \n",
      "(LOW         ) IterTimerHook                      \n",
      "(LOW         ) QuerySupportEvalHook               \n",
      "(VERY_LOW    ) TextLoggerHook                     \n",
      "(VERY_LOW    ) TensorboardLoggerHook              \n",
      " -------------------- \n",
      "after_train_epoch:\n",
      "(NORMAL      ) CheckpointHook                     \n",
      "(LOW         ) QuerySupportEvalHook               \n",
      "(VERY_LOW    ) TextLoggerHook                     \n",
      "(VERY_LOW    ) TensorboardLoggerHook              \n",
      " -------------------- \n",
      "before_val_epoch:\n",
      "(NORMAL      ) NumClassCheckHook                  \n",
      "(LOW         ) IterTimerHook                      \n",
      "(VERY_LOW    ) TextLoggerHook                     \n",
      "(VERY_LOW    ) TensorboardLoggerHook              \n",
      " -------------------- \n",
      "before_val_iter:\n",
      "(LOW         ) IterTimerHook                      \n",
      " -------------------- \n",
      "after_val_iter:\n",
      "(LOW         ) IterTimerHook                      \n",
      " -------------------- \n",
      "after_val_epoch:\n",
      "(VERY_LOW    ) TextLoggerHook                     \n",
      "(VERY_LOW    ) TensorboardLoggerHook              \n",
      " -------------------- \n",
      "after_run:\n",
      "(VERY_LOW    ) TextLoggerHook                     \n",
      "(VERY_LOW    ) TensorboardLoggerHook              \n",
      " -------------------- \n",
      "2022-05-26 11:12:36,224 - mmfewshot - INFO - workflow: [('train', 1)], max: 100000 iters\n",
      "2022-05-26 11:12:36,225 - mmfewshot - INFO - Checkpoints will be saved to /data/zhaozhiyuan/mmfewshot-main/work_dirs/tb_variation/Flickr-FoodLogos-10/attention-rpn/split1/attention-rpn_r50_c4_tb-split1_1shot-fine-tuning by HardDiskBackend.\n",
      "/home/zhaozhiyuan/anaconda3/envs/mmfewshot/lib/python3.7/site-packages/mmdet/models/dense_heads/anchor_head.py:123: UserWarning: DeprecationWarning: anchor_generator is deprecated, please use \"prior_generator\" instead\n",
      "  warnings.warn('DeprecationWarning: anchor_generator is deprecated, '\n",
      "2022-05-26 11:12:49,494 - mmfewshot - INFO - Iter [50/100000]\tlr: 1.000e-04, eta: 7:12:36, time: 0.260, data_time: 0.012, memory: 5635, loss_rpn_cls: 0.4427, loss_rpn_bbox: 0.0372, loss_cls: 1.4546, acc: 97.2422, loss_bbox: 0.0341, loss: 1.9686\n",
      "2022-05-26 11:13:02,251 - mmfewshot - INFO - Iter [100/100000]\tlr: 1.000e-04, eta: 7:08:37, time: 0.255, data_time: 0.012, memory: 5635, loss_rpn_cls: 0.1109, loss_rpn_bbox: 0.0495, loss_cls: 0.5895, acc: 98.7031, loss_bbox: 0.0396, loss: 0.7895\n",
      "2022-05-26 11:13:14,960 - mmfewshot - INFO - Iter [150/100000]\tlr: 1.000e-04, eta: 7:06:33, time: 0.254, data_time: 0.012, memory: 5635, loss_rpn_cls: 0.1305, loss_rpn_bbox: 0.0682, loss_cls: 0.5615, acc: 98.7969, loss_bbox: 0.0365, loss: 0.7967\n",
      "2022-05-26 11:13:27,947 - mmfewshot - INFO - Iter [200/100000]\tlr: 1.000e-04, eta: 7:07:46, time: 0.260, data_time: 0.014, memory: 5635, loss_rpn_cls: 0.0689, loss_rpn_bbox: 0.0187, loss_cls: 0.5575, acc: 98.5859, loss_bbox: 0.0453, loss: 0.6904\n",
      "2022-05-26 11:13:40,813 - mmfewshot - INFO - Iter [250/100000]\tlr: 1.000e-04, eta: 7:07:29, time: 0.257, data_time: 0.011, memory: 5635, loss_rpn_cls: 0.0833, loss_rpn_bbox: 0.0225, loss_cls: 0.5499, acc: 98.7656, loss_bbox: 0.0366, loss: 0.6923\n",
      "2022-05-26 11:13:53,422 - mmfewshot - INFO - Iter [300/100000]\tlr: 1.000e-04, eta: 7:05:54, time: 0.252, data_time: 0.009, memory: 5635, loss_rpn_cls: 0.1120, loss_rpn_bbox: 0.0488, loss_cls: 0.5581, acc: 97.7266, loss_bbox: 0.0819, loss: 0.8007\n",
      "2022-05-26 11:14:06,408 - mmfewshot - INFO - Iter [350/100000]\tlr: 1.000e-04, eta: 7:06:31, time: 0.260, data_time: 0.011, memory: 5635, loss_rpn_cls: 0.0852, loss_rpn_bbox: 0.0283, loss_cls: 0.5361, acc: 97.6250, loss_bbox: 0.0876, loss: 0.7372\n",
      "2022-05-26 11:14:19,182 - mmfewshot - INFO - Iter [400/100000]\tlr: 1.000e-04, eta: 7:06:03, time: 0.256, data_time: 0.012, memory: 5635, loss_rpn_cls: 0.0784, loss_rpn_bbox: 0.0192, loss_cls: 0.5407, acc: 97.7344, loss_bbox: 0.0845, loss: 0.7228\n",
      "2022-05-26 11:14:32,102 - mmfewshot - INFO - Iter [450/100000]\tlr: 1.000e-04, eta: 7:06:07, time: 0.258, data_time: 0.011, memory: 5635, loss_rpn_cls: 0.0799, loss_rpn_bbox: 0.0193, loss_cls: 0.5321, acc: 97.3359, loss_bbox: 0.0983, loss: 0.7295\n",
      "2022-05-26 11:14:45,261 - mmfewshot - INFO - Iter [500/100000]\tlr: 1.000e-04, eta: 7:06:59, time: 0.263, data_time: 0.012, memory: 5635, loss_rpn_cls: 0.0518, loss_rpn_bbox: 0.0102, loss_cls: 0.5174, acc: 97.9844, loss_bbox: 0.0721, loss: 0.6515\n",
      "2022-05-26 11:14:58,307 - mmfewshot - INFO - Iter [550/100000]\tlr: 1.000e-04, eta: 7:07:19, time: 0.261, data_time: 0.012, memory: 5635, loss_rpn_cls: 0.0858, loss_rpn_bbox: 0.0189, loss_cls: 0.5143, acc: 96.0625, loss_bbox: 0.1566, loss: 0.7756\n",
      "2022-05-26 11:15:11,318 - mmfewshot - INFO - Iter [600/100000]\tlr: 1.000e-04, eta: 7:07:25, time: 0.260, data_time: 0.011, memory: 5635, loss_rpn_cls: 0.0760, loss_rpn_bbox: 0.0213, loss_cls: 0.5296, acc: 97.1016, loss_bbox: 0.1181, loss: 0.7451\n",
      "2022-05-26 11:15:24,229 - mmfewshot - INFO - Iter [650/100000]\tlr: 1.000e-04, eta: 7:07:12, time: 0.258, data_time: 0.011, memory: 5635, loss_rpn_cls: 0.0588, loss_rpn_bbox: 0.0161, loss_cls: 0.5007, acc: 97.3828, loss_bbox: 0.1044, loss: 0.6800\n",
      "2022-05-26 11:15:37,444 - mmfewshot - INFO - Iter [700/100000]\tlr: 1.000e-04, eta: 7:07:46, time: 0.265, data_time: 0.011, memory: 5635, loss_rpn_cls: 0.0584, loss_rpn_bbox: 0.0115, loss_cls: 0.4869, acc: 96.8672, loss_bbox: 0.1337, loss: 0.6906\n",
      "2022-05-26 11:15:50,547 - mmfewshot - INFO - Iter [750/100000]\tlr: 1.000e-04, eta: 7:07:54, time: 0.262, data_time: 0.012, memory: 5635, loss_rpn_cls: 0.0769, loss_rpn_bbox: 0.0213, loss_cls: 0.5015, acc: 96.7109, loss_bbox: 0.1308, loss: 0.7305\n",
      "2022-05-26 11:16:03,788 - mmfewshot - INFO - Iter [800/100000]\tlr: 1.000e-04, eta: 7:08:19, time: 0.265, data_time: 0.012, memory: 5635, loss_rpn_cls: 0.0574, loss_rpn_bbox: 0.0132, loss_cls: 0.5364, acc: 96.6875, loss_bbox: 0.1329, loss: 0.7399\n",
      "2022-05-26 11:16:17,049 - mmfewshot - INFO - Iter [850/100000]\tlr: 1.000e-04, eta: 7:08:43, time: 0.265, data_time: 0.011, memory: 5635, loss_rpn_cls: 0.0713, loss_rpn_bbox: 0.0178, loss_cls: 0.5013, acc: 96.4453, loss_bbox: 0.1418, loss: 0.7322\n"
     ]
    },
    {
     "name": "stderr",
     "output_type": "stream",
     "text": [
      "2022-05-26 11:16:30,481 - mmfewshot - INFO - Iter [900/100000]\tlr: 1.000e-04, eta: 7:09:21, time: 0.269, data_time: 0.012, memory: 5635, loss_rpn_cls: 0.0678, loss_rpn_bbox: 0.0153, loss_cls: 0.4919, acc: 96.2656, loss_bbox: 0.1493, loss: 0.7244\n",
      "2022-05-26 11:16:43,646 - mmfewshot - INFO - Iter [950/100000]\tlr: 1.000e-04, eta: 7:09:26, time: 0.263, data_time: 0.011, memory: 5635, loss_rpn_cls: 0.0619, loss_rpn_bbox: 0.0134, loss_cls: 0.4737, acc: 97.6719, loss_bbox: 0.1008, loss: 0.6497\n",
      "2022-05-26 11:16:56,820 - mmfewshot - INFO - Exp name: attention-rpn_r50_c4_tb-split1_1shot-fine-tuning-momentum-09.py\n",
      "2022-05-26 11:16:56,822 - mmfewshot - INFO - Iter [1000/100000]\tlr: 1.000e-04, eta: 7:09:28, time: 0.263, data_time: 0.012, memory: 5635, loss_rpn_cls: 0.0586, loss_rpn_bbox: 0.0107, loss_cls: 0.5012, acc: 96.6797, loss_bbox: 0.1297, loss: 0.7002\n",
      "2022-05-26 11:16:56,827 - mmdet - INFO - starting model initialization...\n"
     ]
    },
    {
     "name": "stdout",
     "output_type": "stream",
     "text": [
      "[>>>>>>>>>>>>>>>>>>>>>>>>>>>>>>] 640/640, 74.8 task/s, elapsed: 9s, ETA:     0s"
     ]
    },
    {
     "name": "stderr",
     "output_type": "stream",
     "text": [
      "2022-05-26 11:17:05,469 - mmdet - INFO - model initialization done.\n"
     ]
    },
    {
     "name": "stdout",
     "output_type": "stream",
     "text": [
      "[>>>>>>>>>>>>>>>>>>>>>>>>>>>>>] 712/712, 12.6 task/s, elapsed: 56s, ETA:     0s\n",
      "---------------iou_thr: 0.5---------------\n"
     ]
    },
    {
     "name": "stderr",
     "output_type": "stream",
     "text": [
      "2022-05-26 11:18:02,371 - mmfewshot - INFO - \n",
      "+----------+-----+-------+--------+-------+\n",
      "| class    | gts | dets  | recall | ap    |\n",
      "+----------+-----+-------+--------+-------+\n",
      "| 7up      | 810 | 10213 | 0.395  | 0.072 |\n",
      "| BudLight | 209 | 31512 | 0.167  | 0.005 |\n",
      "+----------+-----+-------+--------+-------+\n",
      "| mAP      |     |       |        | 0.038 |\n",
      "+----------+-----+-------+--------+-------+\n",
      "/data/zhaozhiyuan/mmfewshot-main/mmfewshot/detection/datasets/voc_food_var.py:517: RuntimeWarning: Mean of empty slice.\n",
      "  class_splits_mean_ap = np.array(aps).mean().item()\n",
      "/home/zhaozhiyuan/anaconda3/envs/mmfewshot/lib/python3.7/site-packages/numpy/core/_methods.py:189: RuntimeWarning: invalid value encountered in double_scalars\n",
      "  ret = ret.dtype.type(ret / rcount)\n",
      "2022-05-26 11:18:02,375 - mmfewshot - INFO - BASE_CLASSES_SPLIT1 mAP: 0.03843584284186363\n",
      "2022-05-26 11:18:02,378 - mmfewshot - INFO - NOVEL_CLASSES_SPLIT1 mAP: nan\n",
      "2022-05-26 11:18:02,385 - mmfewshot - INFO - Exp name: attention-rpn_r50_c4_tb-split1_1shot-fine-tuning-momentum-09.py\n",
      "/home/zhaozhiyuan/anaconda3/envs/mmfewshot/lib/python3.7/site-packages/mmdet/core/evaluation/mean_ap.py:203: DeprecationWarning: `np.bool` is a deprecated alias for the builtin `bool`. To silence this warning, use `bool` by itself. Doing this will not modify any behavior and is safe. If you specifically wanted the numpy scalar type, use `np.bool_` here.\n",
      "Deprecated in NumPy 1.20; for more details and guidance: https://numpy.org/devdocs/release/1.20.0-notes.html#deprecations\n",
      "  (np.zeros(gt_bboxes.shape[0], dtype=np.bool),\n",
      "2022-05-26 11:18:02,388 - mmfewshot - INFO - Iter(val) [712]\tAP50: 0.0380, BASE_CLASSES_SPLIT1: AP50: 0.0380, NOVEL_CLASSES_SPLIT1: AP50: nan, mAP: 0.0384\n",
      "/home/zhaozhiyuan/anaconda3/envs/mmfewshot/lib/python3.7/site-packages/mmdet/core/evaluation/mean_ap.py:203: DeprecationWarning: `np.bool` is a deprecated alias for the builtin `bool`. To silence this warning, use `bool` by itself. Doing this will not modify any behavior and is safe. If you specifically wanted the numpy scalar type, use `np.bool_` here.\n",
      "Deprecated in NumPy 1.20; for more details and guidance: https://numpy.org/devdocs/release/1.20.0-notes.html#deprecations\n",
      "  (np.zeros(gt_bboxes.shape[0], dtype=np.bool),\n",
      "2022-05-26 11:18:15,818 - mmfewshot - INFO - Iter [1050/100000]\tlr: 1.000e-04, eta: 8:52:54, time: 1.580, data_time: 1.324, memory: 5635, loss_rpn_cls: 0.0616, loss_rpn_bbox: 0.0153, loss_cls: 0.5007, acc: 96.5469, loss_bbox: 0.1363, loss: 0.7140\n",
      "2022-05-26 11:18:29,136 - mmfewshot - INFO - Iter [1100/100000]\tlr: 1.000e-04, eta: 8:48:22, time: 0.266, data_time: 0.011, memory: 5635, loss_rpn_cls: 0.0451, loss_rpn_bbox: 0.0078, loss_cls: 0.4782, acc: 96.1016, loss_bbox: 0.1746, loss: 0.7057\n",
      "2022-05-26 11:18:42,258 - mmfewshot - INFO - Iter [1150/100000]\tlr: 1.000e-04, eta: 8:43:57, time: 0.263, data_time: 0.011, memory: 5635, loss_rpn_cls: 0.0405, loss_rpn_bbox: 0.0082, loss_cls: 0.4270, acc: 96.7656, loss_bbox: 0.1439, loss: 0.6196\n",
      "2022-05-26 11:18:55,551 - mmfewshot - INFO - Iter [1200/100000]\tlr: 1.000e-04, eta: 8:40:07, time: 0.266, data_time: 0.012, memory: 5635, loss_rpn_cls: 0.0442, loss_rpn_bbox: 0.0082, loss_cls: 0.4745, acc: 96.3281, loss_bbox: 0.1581, loss: 0.6850\n",
      "2022-05-26 11:19:09,013 - mmfewshot - INFO - Iter [1250/100000]\tlr: 1.000e-04, eta: 8:36:45, time: 0.269, data_time: 0.012, memory: 5635, loss_rpn_cls: 0.0445, loss_rpn_bbox: 0.0093, loss_cls: 0.4413, acc: 96.5312, loss_bbox: 0.1641, loss: 0.6591\n",
      "2022-05-26 11:19:22,225 - mmfewshot - INFO - Iter [1300/100000]\tlr: 1.000e-04, eta: 8:33:21, time: 0.264, data_time: 0.012, memory: 5635, loss_rpn_cls: 0.0425, loss_rpn_bbox: 0.0092, loss_cls: 0.4824, acc: 96.9609, loss_bbox: 0.1405, loss: 0.6745\n",
      "2022-05-26 11:19:35,607 - mmfewshot - INFO - Iter [1350/100000]\tlr: 1.000e-04, eta: 8:30:24, time: 0.268, data_time: 0.013, memory: 5635, loss_rpn_cls: 0.0356, loss_rpn_bbox: 0.0065, loss_cls: 0.3994, acc: 97.3594, loss_bbox: 0.1220, loss: 0.5635\n",
      "2022-05-26 11:19:48,932 - mmfewshot - INFO - Iter [1400/100000]\tlr: 1.000e-04, eta: 8:27:33, time: 0.266, data_time: 0.012, memory: 5635, loss_rpn_cls: 0.0529, loss_rpn_bbox: 0.0129, loss_cls: 0.4478, acc: 96.6016, loss_bbox: 0.1641, loss: 0.6778\n",
      "2022-05-26 11:20:02,222 - mmfewshot - INFO - Iter [1450/100000]\tlr: 1.000e-04, eta: 8:24:51, time: 0.266, data_time: 0.011, memory: 5635, loss_rpn_cls: 0.0514, loss_rpn_bbox: 0.0112, loss_cls: 0.4177, acc: 96.9922, loss_bbox: 0.1530, loss: 0.6333\n",
      "2022-05-26 11:20:15,416 - mmfewshot - INFO - Iter [1500/100000]\tlr: 1.000e-04, eta: 8:22:12, time: 0.264, data_time: 0.011, memory: 5635, loss_rpn_cls: 0.0407, loss_rpn_bbox: 0.0099, loss_cls: 0.4023, acc: 96.5234, loss_bbox: 0.1603, loss: 0.6132\n",
      "2022-05-26 11:20:28,645 - mmfewshot - INFO - Iter [1550/100000]\tlr: 1.000e-04, eta: 8:19:47, time: 0.265, data_time: 0.012, memory: 5635, loss_rpn_cls: 0.0423, loss_rpn_bbox: 0.0104, loss_cls: 0.4131, acc: 97.3438, loss_bbox: 0.1434, loss: 0.6092\n",
      "2022-05-26 11:20:41,834 - mmfewshot - INFO - Iter [1600/100000]\tlr: 1.000e-04, eta: 8:17:26, time: 0.264, data_time: 0.011, memory: 5635, loss_rpn_cls: 0.0564, loss_rpn_bbox: 0.0137, loss_cls: 0.4302, acc: 96.8438, loss_bbox: 0.1643, loss: 0.6646\n",
      "2022-05-26 11:20:55,084 - mmfewshot - INFO - Iter [1650/100000]\tlr: 1.000e-04, eta: 8:15:16, time: 0.265, data_time: 0.012, memory: 5635, loss_rpn_cls: 0.0431, loss_rpn_bbox: 0.0089, loss_cls: 0.4198, acc: 97.1797, loss_bbox: 0.1635, loss: 0.6353\n",
      "2022-05-26 11:21:08,504 - mmfewshot - INFO - Iter [1700/100000]\tlr: 1.000e-04, eta: 8:13:23, time: 0.268, data_time: 0.013, memory: 5635, loss_rpn_cls: 0.0443, loss_rpn_bbox: 0.0112, loss_cls: 0.3968, acc: 96.7344, loss_bbox: 0.1797, loss: 0.6321\n",
      "2022-05-26 11:21:21,654 - mmfewshot - INFO - Iter [1750/100000]\tlr: 1.000e-04, eta: 8:11:21, time: 0.263, data_time: 0.011, memory: 5635, loss_rpn_cls: 0.0329, loss_rpn_bbox: 0.0075, loss_cls: 0.4230, acc: 97.5078, loss_bbox: 0.1374, loss: 0.6008\n",
      "2022-05-26 11:21:34,992 - mmfewshot - INFO - Iter [1800/100000]\tlr: 1.000e-04, eta: 8:09:35, time: 0.267, data_time: 0.011, memory: 5635, loss_rpn_cls: 0.0424, loss_rpn_bbox: 0.0082, loss_cls: 0.3770, acc: 96.9766, loss_bbox: 0.1898, loss: 0.6175\n",
      "2022-05-26 11:21:48,102 - mmfewshot - INFO - Iter [1850/100000]\tlr: 1.000e-04, eta: 8:07:42, time: 0.262, data_time: 0.010, memory: 5635, loss_rpn_cls: 0.0425, loss_rpn_bbox: 0.0084, loss_cls: 0.3639, acc: 97.5859, loss_bbox: 0.1514, loss: 0.5663\n",
      "2022-05-26 11:22:01,233 - mmfewshot - INFO - Iter [1900/100000]\tlr: 1.000e-04, eta: 8:05:55, time: 0.263, data_time: 0.011, memory: 5635, loss_rpn_cls: 0.0498, loss_rpn_bbox: 0.0107, loss_cls: 0.3394, acc: 97.1250, loss_bbox: 0.1899, loss: 0.5898\n",
      "2022-05-26 11:22:14,566 - mmfewshot - INFO - Iter [1950/100000]\tlr: 1.000e-04, eta: 8:04:24, time: 0.267, data_time: 0.012, memory: 5635, loss_rpn_cls: 0.0355, loss_rpn_bbox: 0.0083, loss_cls: 0.3851, acc: 96.9609, loss_bbox: 0.1657, loss: 0.5946\n",
      "2022-05-26 11:22:27,871 - mmfewshot - INFO - Exp name: attention-rpn_r50_c4_tb-split1_1shot-fine-tuning-momentum-09.py\n",
      "2022-05-26 11:22:27,873 - mmfewshot - INFO - Iter [2000/100000]\tlr: 1.000e-04, eta: 8:02:55, time: 0.266, data_time: 0.012, memory: 5635, loss_rpn_cls: 0.0568, loss_rpn_bbox: 0.0126, loss_cls: 0.3099, acc: 97.4688, loss_bbox: 0.1675, loss: 0.5468\n",
      "2022-05-26 11:22:27,878 - mmdet - INFO - starting model initialization...\n"
     ]
    },
    {
     "name": "stdout",
     "output_type": "stream",
     "text": [
      "[>>>>>>>>>>>>>>>>>>>>>>>>>>>>>>] 640/640, 74.3 task/s, elapsed: 9s, ETA:     0s"
     ]
    },
    {
     "name": "stderr",
     "output_type": "stream",
     "text": [
      "2022-05-26 11:22:36,568 - mmdet - INFO - model initialization done.\n"
     ]
    },
    {
     "name": "stdout",
     "output_type": "stream",
     "text": [
      "[>>>>>>>>>>>>>>>>>>>>>>>>>>>>>] 712/712, 12.5 task/s, elapsed: 57s, ETA:     0s\n",
      "---------------iou_thr: 0.5---------------\n"
     ]
    },
    {
     "name": "stderr",
     "output_type": "stream",
     "text": [
      "2022-05-26 11:23:34,065 - mmfewshot - INFO - \n",
      "+----------+-----+-------+--------+-------+\n",
      "| class    | gts | dets  | recall | ap    |\n",
      "+----------+-----+-------+--------+-------+\n",
      "| 7up      | 810 | 14767 | 0.575  | 0.145 |\n",
      "| BudLight | 209 | 8346  | 0.397  | 0.104 |\n",
      "+----------+-----+-------+--------+-------+\n",
      "| mAP      |     |       |        | 0.124 |\n",
      "+----------+-----+-------+--------+-------+\n",
      "2022-05-26 11:23:34,067 - mmfewshot - INFO - BASE_CLASSES_SPLIT1 mAP: 0.12438885867595673\n",
      "2022-05-26 11:23:34,068 - mmfewshot - INFO - NOVEL_CLASSES_SPLIT1 mAP: nan\n",
      "2022-05-26 11:23:34,073 - mmfewshot - INFO - Exp name: attention-rpn_r50_c4_tb-split1_1shot-fine-tuning-momentum-09.py\n",
      "2022-05-26 11:23:34,074 - mmfewshot - INFO - Iter(val) [712]\tAP50: 0.1240, BASE_CLASSES_SPLIT1: AP50: 0.1240, NOVEL_CLASSES_SPLIT1: AP50: nan, mAP: 0.1244\n",
      "2022-05-26 11:23:47,622 - mmfewshot - INFO - Iter [2050/100000]\tlr: 1.000e-04, eta: 8:54:24, time: 1.595, data_time: 1.335, memory: 5635, loss_rpn_cls: 0.0463, loss_rpn_bbox: 0.0087, loss_cls: 0.3394, acc: 97.4688, loss_bbox: 0.1731, loss: 0.5675\n",
      "2022-05-26 11:24:00,905 - mmfewshot - INFO - Iter [2100/100000]\tlr: 1.000e-04, eta: 8:51:44, time: 0.266, data_time: 0.012, memory: 5635, loss_rpn_cls: 0.0475, loss_rpn_bbox: 0.0091, loss_cls: 0.3177, acc: 97.5938, loss_bbox: 0.1548, loss: 0.5291\n",
      "2022-05-26 11:24:14,219 - mmfewshot - INFO - Iter [2150/100000]\tlr: 1.000e-04, eta: 8:49:12, time: 0.266, data_time: 0.012, memory: 5635, loss_rpn_cls: 0.0486, loss_rpn_bbox: 0.0099, loss_cls: 0.3454, acc: 97.9219, loss_bbox: 0.1503, loss: 0.5542\n",
      "2022-05-26 11:24:27,363 - mmfewshot - INFO - Iter [2200/100000]\tlr: 1.000e-04, eta: 8:46:39, time: 0.263, data_time: 0.011, memory: 5635, loss_rpn_cls: 0.0340, loss_rpn_bbox: 0.0077, loss_cls: 0.3113, acc: 98.2344, loss_bbox: 0.1416, loss: 0.4946\n",
      "2022-05-26 11:24:40,664 - mmfewshot - INFO - Iter [2250/100000]\tlr: 1.000e-04, eta: 8:44:19, time: 0.266, data_time: 0.013, memory: 5635, loss_rpn_cls: 0.0332, loss_rpn_bbox: 0.0065, loss_cls: 0.3160, acc: 98.0000, loss_bbox: 0.1560, loss: 0.5117\n",
      "2022-05-26 11:24:54,079 - mmfewshot - INFO - Iter [2300/100000]\tlr: 1.000e-04, eta: 8:42:09, time: 0.268, data_time: 0.012, memory: 5635, loss_rpn_cls: 0.0551, loss_rpn_bbox: 0.0196, loss_cls: 0.3435, acc: 97.7266, loss_bbox: 0.1454, loss: 0.5635\n",
      "2022-05-26 11:25:07,488 - mmfewshot - INFO - Iter [2350/100000]\tlr: 1.000e-04, eta: 8:40:04, time: 0.268, data_time: 0.013, memory: 5635, loss_rpn_cls: 0.0312, loss_rpn_bbox: 0.0070, loss_cls: 0.2547, acc: 98.1094, loss_bbox: 0.1751, loss: 0.4681\n",
      "2022-05-26 11:25:20,826 - mmfewshot - INFO - Iter [2400/100000]\tlr: 1.000e-04, eta: 8:38:01, time: 0.267, data_time: 0.011, memory: 5635, loss_rpn_cls: 0.0500, loss_rpn_bbox: 0.0113, loss_cls: 0.3451, acc: 97.4922, loss_bbox: 0.1731, loss: 0.5795\n",
      "2022-05-26 11:25:33,961 - mmfewshot - INFO - Iter [2450/100000]\tlr: 1.000e-04, eta: 8:35:53, time: 0.262, data_time: 0.011, memory: 5635, loss_rpn_cls: 0.0414, loss_rpn_bbox: 0.0085, loss_cls: 0.2810, acc: 97.6250, loss_bbox: 0.1964, loss: 0.5273\n",
      "2022-05-26 11:25:47,194 - mmfewshot - INFO - Iter [2500/100000]\tlr: 1.000e-04, eta: 8:33:55, time: 0.265, data_time: 0.011, memory: 5635, loss_rpn_cls: 0.0483, loss_rpn_bbox: 0.0118, loss_cls: 0.2942, acc: 97.4609, loss_bbox: 0.1884, loss: 0.5426\n",
      "2022-05-26 11:26:00,368 - mmfewshot - INFO - Iter [2550/100000]\tlr: 1.000e-04, eta: 8:31:58, time: 0.263, data_time: 0.010, memory: 5635, loss_rpn_cls: 0.0347, loss_rpn_bbox: 0.0078, loss_cls: 0.3556, acc: 97.3828, loss_bbox: 0.1806, loss: 0.5786\n",
      "2022-05-26 11:26:13,557 - mmfewshot - INFO - Iter [2600/100000]\tlr: 1.000e-04, eta: 8:30:06, time: 0.264, data_time: 0.011, memory: 5635, loss_rpn_cls: 0.0518, loss_rpn_bbox: 0.0116, loss_cls: 0.2905, acc: 97.6875, loss_bbox: 0.2038, loss: 0.5577\n",
      "2022-05-26 11:26:26,842 - mmfewshot - INFO - Iter [2650/100000]\tlr: 1.000e-04, eta: 8:28:21, time: 0.266, data_time: 0.012, memory: 5635, loss_rpn_cls: 0.0396, loss_rpn_bbox: 0.0100, loss_cls: 0.2922, acc: 97.8906, loss_bbox: 0.1783, loss: 0.5201\n",
      "2022-05-26 11:26:40,151 - mmfewshot - INFO - Iter [2700/100000]\tlr: 1.000e-04, eta: 8:26:41, time: 0.266, data_time: 0.012, memory: 5635, loss_rpn_cls: 0.0280, loss_rpn_bbox: 0.0060, loss_cls: 0.2511, acc: 98.6953, loss_bbox: 0.1473, loss: 0.4324\n",
      "2022-05-26 11:26:53,518 - mmfewshot - INFO - Iter [2750/100000]\tlr: 1.000e-04, eta: 8:25:05, time: 0.267, data_time: 0.012, memory: 5635, loss_rpn_cls: 0.0368, loss_rpn_bbox: 0.0077, loss_cls: 0.2752, acc: 98.1172, loss_bbox: 0.1577, loss: 0.4774\n",
      "2022-05-26 11:27:06,690 - mmfewshot - INFO - Iter [2800/100000]\tlr: 1.000e-04, eta: 8:23:26, time: 0.263, data_time: 0.011, memory: 5635, loss_rpn_cls: 0.0398, loss_rpn_bbox: 0.0104, loss_cls: 0.2631, acc: 98.0703, loss_bbox: 0.1911, loss: 0.5043\n",
      "2022-05-26 11:27:20,173 - mmfewshot - INFO - Iter [2850/100000]\tlr: 1.000e-04, eta: 8:22:01, time: 0.270, data_time: 0.012, memory: 5635, loss_rpn_cls: 0.0531, loss_rpn_bbox: 0.0131, loss_cls: 0.2675, acc: 97.8594, loss_bbox: 0.2011, loss: 0.5347\n",
      "2022-05-26 11:27:33,401 - mmfewshot - INFO - Iter [2900/100000]\tlr: 1.000e-04, eta: 8:20:29, time: 0.265, data_time: 0.012, memory: 5635, loss_rpn_cls: 0.0290, loss_rpn_bbox: 0.0064, loss_cls: 0.2382, acc: 98.4531, loss_bbox: 0.1410, loss: 0.4145\n",
      "2022-05-26 11:27:46,624 - mmfewshot - INFO - Iter [2950/100000]\tlr: 1.000e-04, eta: 8:18:59, time: 0.264, data_time: 0.011, memory: 5635, loss_rpn_cls: 0.0400, loss_rpn_bbox: 0.0110, loss_cls: 0.2522, acc: 98.1875, loss_bbox: 0.1698, loss: 0.4730\n",
      "2022-05-26 11:27:59,967 - mmfewshot - INFO - Exp name: attention-rpn_r50_c4_tb-split1_1shot-fine-tuning-momentum-09.py\n",
      "2022-05-26 11:27:59,969 - mmfewshot - INFO - Iter [3000/100000]\tlr: 1.000e-04, eta: 8:17:37, time: 0.267, data_time: 0.013, memory: 5635, loss_rpn_cls: 0.0286, loss_rpn_bbox: 0.0074, loss_cls: 0.2458, acc: 98.3203, loss_bbox: 0.1848, loss: 0.4666\n",
      "2022-05-26 11:27:59,975 - mmdet - INFO - starting model initialization...\n"
     ]
    },
    {
     "name": "stdout",
     "output_type": "stream",
     "text": [
      "[>>>>>>>>>>>>>>>>>>>>>>>>>>>>>>] 640/640, 75.5 task/s, elapsed: 8s, ETA:     0s"
     ]
    },
    {
     "name": "stderr",
     "output_type": "stream",
     "text": [
      "2022-05-26 11:28:08,537 - mmdet - INFO - model initialization done.\n"
     ]
    },
    {
     "name": "stdout",
     "output_type": "stream",
     "text": [
      "[>>>>>>>>>>>>>>>>>>>>>>>>>>>>>] 712/712, 12.6 task/s, elapsed: 57s, ETA:     0s\n",
      "---------------iou_thr: 0.5---------------\n"
     ]
    },
    {
     "name": "stderr",
     "output_type": "stream",
     "text": [
      "2022-05-26 11:29:05,703 - mmfewshot - INFO - \n",
      "+----------+-----+------+--------+-------+\n",
      "| class    | gts | dets | recall | ap    |\n",
      "+----------+-----+------+--------+-------+\n",
      "| 7up      | 810 | 5876 | 0.570  | 0.138 |\n",
      "| BudLight | 209 | 2494 | 0.392  | 0.084 |\n",
      "+----------+-----+------+--------+-------+\n",
      "| mAP      |     |      |        | 0.111 |\n",
      "+----------+-----+------+--------+-------+\n",
      "2022-05-26 11:29:05,706 - mmfewshot - INFO - BASE_CLASSES_SPLIT1 mAP: 0.11081317067146301\n",
      "2022-05-26 11:29:05,707 - mmfewshot - INFO - NOVEL_CLASSES_SPLIT1 mAP: nan\n",
      "2022-05-26 11:29:05,713 - mmfewshot - INFO - Exp name: attention-rpn_r50_c4_tb-split1_1shot-fine-tuning-momentum-09.py\n",
      "2022-05-26 11:29:05,715 - mmfewshot - INFO - Iter(val) [712]\tAP50: 0.1110, BASE_CLASSES_SPLIT1: AP50: 0.1110, NOVEL_CLASSES_SPLIT1: AP50: nan, mAP: 0.1108\n",
      "/home/zhaozhiyuan/anaconda3/envs/mmfewshot/lib/python3.7/site-packages/mmdet/core/evaluation/mean_ap.py:203: DeprecationWarning: `np.bool` is a deprecated alias for the builtin `bool`. To silence this warning, use `bool` by itself. Doing this will not modify any behavior and is safe. If you specifically wanted the numpy scalar type, use `np.bool_` here.\n",
      "Deprecated in NumPy 1.20; for more details and guidance: https://numpy.org/devdocs/release/1.20.0-notes.html#deprecations\n",
      "  (np.zeros(gt_bboxes.shape[0], dtype=np.bool),\n",
      "/home/zhaozhiyuan/anaconda3/envs/mmfewshot/lib/python3.7/site-packages/mmdet/core/evaluation/mean_ap.py:203: DeprecationWarning: `np.bool` is a deprecated alias for the builtin `bool`. To silence this warning, use `bool` by itself. Doing this will not modify any behavior and is safe. If you specifically wanted the numpy scalar type, use `np.bool_` here.\n",
      "Deprecated in NumPy 1.20; for more details and guidance: https://numpy.org/devdocs/release/1.20.0-notes.html#deprecations\n",
      "  (np.zeros(gt_bboxes.shape[0], dtype=np.bool),\n",
      "/home/zhaozhiyuan/anaconda3/envs/mmfewshot/lib/python3.7/site-packages/mmdet/core/evaluation/mean_ap.py:203: DeprecationWarning: `np.bool` is a deprecated alias for the builtin `bool`. To silence this warning, use `bool` by itself. Doing this will not modify any behavior and is safe. If you specifically wanted the numpy scalar type, use `np.bool_` here.\n",
      "Deprecated in NumPy 1.20; for more details and guidance: https://numpy.org/devdocs/release/1.20.0-notes.html#deprecations\n",
      "  (np.zeros(gt_bboxes.shape[0], dtype=np.bool),\n",
      "/home/zhaozhiyuan/anaconda3/envs/mmfewshot/lib/python3.7/site-packages/mmdet/core/evaluation/mean_ap.py:203: DeprecationWarning: `np.bool` is a deprecated alias for the builtin `bool`. To silence this warning, use `bool` by itself. Doing this will not modify any behavior and is safe. If you specifically wanted the numpy scalar type, use `np.bool_` here.\n",
      "Deprecated in NumPy 1.20; for more details and guidance: https://numpy.org/devdocs/release/1.20.0-notes.html#deprecations\n",
      "  (np.zeros(gt_bboxes.shape[0], dtype=np.bool),\n",
      "2022-05-26 11:29:19,146 - mmfewshot - INFO - Iter [3050/100000]\tlr: 1.000e-04, eta: 8:51:09, time: 1.583, data_time: 1.327, memory: 5635, loss_rpn_cls: 0.0265, loss_rpn_bbox: 0.0053, loss_cls: 0.2253, acc: 98.2266, loss_bbox: 0.1563, loss: 0.4134\n",
      "2022-05-26 11:29:32,676 - mmfewshot - INFO - Iter [3100/100000]\tlr: 1.000e-04, eta: 8:49:22, time: 0.271, data_time: 0.012, memory: 5635, loss_rpn_cls: 0.0395, loss_rpn_bbox: 0.0102, loss_cls: 0.2902, acc: 98.0781, loss_bbox: 0.1873, loss: 0.5272\n",
      "2022-05-26 11:29:46,147 - mmfewshot - INFO - Iter [3150/100000]\tlr: 1.000e-04, eta: 8:47:36, time: 0.269, data_time: 0.012, memory: 5635, loss_rpn_cls: 0.0421, loss_rpn_bbox: 0.0083, loss_cls: 0.2126, acc: 98.5391, loss_bbox: 0.1761, loss: 0.4391\n",
      "2022-05-26 11:29:59,574 - mmfewshot - INFO - Iter [3200/100000]\tlr: 1.000e-04, eta: 8:45:51, time: 0.268, data_time: 0.013, memory: 5635, loss_rpn_cls: 0.0445, loss_rpn_bbox: 0.0096, loss_cls: 0.2921, acc: 97.6484, loss_bbox: 0.1888, loss: 0.5350\n",
      "2022-05-26 11:30:12,850 - mmfewshot - INFO - Iter [3250/100000]\tlr: 1.000e-04, eta: 8:44:05, time: 0.265, data_time: 0.012, memory: 5635, loss_rpn_cls: 0.0274, loss_rpn_bbox: 0.0061, loss_cls: 0.2439, acc: 98.7188, loss_bbox: 0.1416, loss: 0.4190\n",
      "2022-05-26 11:30:26,125 - mmfewshot - INFO - Iter [3300/100000]\tlr: 1.000e-04, eta: 8:42:21, time: 0.265, data_time: 0.011, memory: 5635, loss_rpn_cls: 0.0574, loss_rpn_bbox: 0.0132, loss_cls: 0.2461, acc: 97.9609, loss_bbox: 0.1814, loss: 0.4980\n",
      "2022-05-26 11:30:39,442 - mmfewshot - INFO - Iter [3350/100000]\tlr: 1.000e-04, eta: 8:40:42, time: 0.267, data_time: 0.012, memory: 5635, loss_rpn_cls: 0.0467, loss_rpn_bbox: 0.0106, loss_cls: 0.2922, acc: 97.7578, loss_bbox: 0.1789, loss: 0.5285\n",
      "2022-05-26 11:30:52,702 - mmfewshot - INFO - Iter [3400/100000]\tlr: 1.000e-04, eta: 8:39:03, time: 0.265, data_time: 0.012, memory: 5635, loss_rpn_cls: 0.0264, loss_rpn_bbox: 0.0059, loss_cls: 0.2348, acc: 98.5625, loss_bbox: 0.1506, loss: 0.4177\n",
      "2022-05-26 11:31:05,935 - mmfewshot - INFO - Iter [3450/100000]\tlr: 1.000e-04, eta: 8:37:26, time: 0.265, data_time: 0.011, memory: 5635, loss_rpn_cls: 0.0493, loss_rpn_bbox: 0.0108, loss_cls: 0.2790, acc: 98.0938, loss_bbox: 0.1945, loss: 0.5336\n",
      "2022-05-26 11:31:19,155 - mmfewshot - INFO - Iter [3500/100000]\tlr: 1.000e-04, eta: 8:35:51, time: 0.264, data_time: 0.012, memory: 5635, loss_rpn_cls: 0.0332, loss_rpn_bbox: 0.0082, loss_cls: 0.3414, acc: 97.7891, loss_bbox: 0.1393, loss: 0.5221\n",
      "2022-05-26 11:31:32,345 - mmfewshot - INFO - Iter [3550/100000]\tlr: 1.000e-04, eta: 8:34:18, time: 0.264, data_time: 0.011, memory: 5635, loss_rpn_cls: 0.0536, loss_rpn_bbox: 0.0151, loss_cls: 0.2326, acc: 98.1484, loss_bbox: 0.1780, loss: 0.4793\n",
      "2022-05-26 11:31:45,764 - mmfewshot - INFO - Iter [3600/100000]\tlr: 1.000e-04, eta: 8:32:53, time: 0.269, data_time: 0.013, memory: 5635, loss_rpn_cls: 0.0430, loss_rpn_bbox: 0.0090, loss_cls: 0.1980, acc: 98.3047, loss_bbox: 0.1654, loss: 0.4156\n",
      "2022-05-26 11:31:59,177 - mmfewshot - INFO - Iter [3650/100000]\tlr: 1.000e-04, eta: 8:31:30, time: 0.268, data_time: 0.012, memory: 5635, loss_rpn_cls: 0.0363, loss_rpn_bbox: 0.0089, loss_cls: 0.1896, acc: 98.4766, loss_bbox: 0.1834, loss: 0.4181\n",
      "2022-05-26 11:32:12,620 - mmfewshot - INFO - Iter [3700/100000]\tlr: 1.000e-04, eta: 8:30:09, time: 0.269, data_time: 0.012, memory: 5635, loss_rpn_cls: 0.0257, loss_rpn_bbox: 0.0062, loss_cls: 0.2256, acc: 98.5078, loss_bbox: 0.2039, loss: 0.4615\n",
      "2022-05-26 11:32:25,926 - mmfewshot - INFO - Iter [3750/100000]\tlr: 1.000e-04, eta: 8:28:47, time: 0.266, data_time: 0.011, memory: 5635, loss_rpn_cls: 0.0388, loss_rpn_bbox: 0.0079, loss_cls: 0.2763, acc: 98.2422, loss_bbox: 0.1529, loss: 0.4758\n",
      "2022-05-26 11:32:39,317 - mmfewshot - INFO - Iter [3800/100000]\tlr: 1.000e-04, eta: 8:27:28, time: 0.268, data_time: 0.012, memory: 5635, loss_rpn_cls: 0.0290, loss_rpn_bbox: 0.0062, loss_cls: 0.2435, acc: 98.2500, loss_bbox: 0.1509, loss: 0.4296\n",
      "2022-05-26 11:32:52,648 - mmfewshot - INFO - Iter [3850/100000]\tlr: 1.000e-04, eta: 8:26:10, time: 0.266, data_time: 0.013, memory: 5635, loss_rpn_cls: 0.0326, loss_rpn_bbox: 0.0083, loss_cls: 0.2402, acc: 98.0156, loss_bbox: 0.1974, loss: 0.4785\n",
      "2022-05-26 11:33:05,885 - mmfewshot - INFO - Iter [3900/100000]\tlr: 1.000e-04, eta: 8:24:51, time: 0.265, data_time: 0.012, memory: 5635, loss_rpn_cls: 0.0339, loss_rpn_bbox: 0.0067, loss_cls: 0.2452, acc: 98.5938, loss_bbox: 0.1506, loss: 0.4364\n",
      "2022-05-26 11:33:19,107 - mmfewshot - INFO - Iter [3950/100000]\tlr: 1.000e-04, eta: 8:23:34, time: 0.264, data_time: 0.011, memory: 5635, loss_rpn_cls: 0.0431, loss_rpn_bbox: 0.0103, loss_cls: 0.2049, acc: 98.6875, loss_bbox: 0.1659, loss: 0.4242\n",
      "2022-05-26 11:33:32,365 - mmfewshot - INFO - Exp name: attention-rpn_r50_c4_tb-split1_1shot-fine-tuning-momentum-09.py\n",
      "2022-05-26 11:33:32,367 - mmfewshot - INFO - Iter [4000/100000]\tlr: 1.000e-04, eta: 8:22:19, time: 0.265, data_time: 0.011, memory: 5635, loss_rpn_cls: 0.0311, loss_rpn_bbox: 0.0090, loss_cls: 0.1741, acc: 98.6406, loss_bbox: 0.2044, loss: 0.4185\n",
      "2022-05-26 11:33:32,371 - mmdet - INFO - starting model initialization...\n"
     ]
    },
    {
     "name": "stdout",
     "output_type": "stream",
     "text": [
      "[>>>>>>>>>>>>>>>>>>>>>>>>>>>>>>] 640/640, 76.9 task/s, elapsed: 8s, ETA:     0s"
     ]
    },
    {
     "name": "stderr",
     "output_type": "stream",
     "text": [
      "2022-05-26 11:33:40,788 - mmdet - INFO - model initialization done.\n"
     ]
    },
    {
     "name": "stdout",
     "output_type": "stream",
     "text": [
      "[>>>>>>>>>>>>>>>>>>>>>>>>>>>>>] 712/712, 12.6 task/s, elapsed: 56s, ETA:     0s\n",
      "---------------iou_thr: 0.5---------------\n"
     ]
    },
    {
     "name": "stderr",
     "output_type": "stream",
     "text": [
      "2022-05-26 11:34:37,703 - mmfewshot - INFO - \n",
      "+----------+-----+------+--------+-------+\n",
      "| class    | gts | dets | recall | ap    |\n",
      "+----------+-----+------+--------+-------+\n",
      "| 7up      | 810 | 5191 | 0.586  | 0.165 |\n",
      "| BudLight | 209 | 2233 | 0.411  | 0.106 |\n",
      "+----------+-----+------+--------+-------+\n",
      "| mAP      |     |      |        | 0.136 |\n",
      "+----------+-----+------+--------+-------+\n",
      "2022-05-26 11:34:37,706 - mmfewshot - INFO - BASE_CLASSES_SPLIT1 mAP: 0.13583460450172424\n",
      "2022-05-26 11:34:37,707 - mmfewshot - INFO - NOVEL_CLASSES_SPLIT1 mAP: nan\n",
      "2022-05-26 11:34:37,714 - mmfewshot - INFO - Exp name: attention-rpn_r50_c4_tb-split1_1shot-fine-tuning-momentum-09.py\n",
      "2022-05-26 11:34:37,715 - mmfewshot - INFO - Iter(val) [712]\tAP50: 0.1360, BASE_CLASSES_SPLIT1: AP50: 0.1360, NOVEL_CLASSES_SPLIT1: AP50: nan, mAP: 0.1358\n",
      "2022-05-26 11:34:50,899 - mmfewshot - INFO - Iter [4050/100000]\tlr: 1.000e-04, eta: 8:46:52, time: 1.571, data_time: 1.318, memory: 5635, loss_rpn_cls: 0.0432, loss_rpn_bbox: 0.0095, loss_cls: 0.1622, acc: 98.8906, loss_bbox: 0.1820, loss: 0.3969\n",
      "2022-05-26 11:35:04,168 - mmfewshot - INFO - Iter [4100/100000]\tlr: 1.000e-04, eta: 8:45:20, time: 0.265, data_time: 0.011, memory: 5635, loss_rpn_cls: 0.0302, loss_rpn_bbox: 0.0080, loss_cls: 0.1726, acc: 98.6094, loss_bbox: 0.1831, loss: 0.3938\n",
      "2022-05-26 11:35:17,384 - mmfewshot - INFO - Iter [4150/100000]\tlr: 1.000e-04, eta: 8:43:50, time: 0.265, data_time: 0.011, memory: 5635, loss_rpn_cls: 0.0395, loss_rpn_bbox: 0.0102, loss_cls: 0.1931, acc: 98.5938, loss_bbox: 0.1989, loss: 0.4417\n",
      "2022-05-26 11:35:30,747 - mmfewshot - INFO - Iter [4200/100000]\tlr: 1.000e-04, eta: 8:42:24, time: 0.267, data_time: 0.012, memory: 5635, loss_rpn_cls: 0.0466, loss_rpn_bbox: 0.0106, loss_cls: 0.2004, acc: 98.6641, loss_bbox: 0.1863, loss: 0.4439\n",
      "2022-05-26 11:35:43,963 - mmfewshot - INFO - Iter [4250/100000]\tlr: 1.000e-04, eta: 8:40:57, time: 0.264, data_time: 0.012, memory: 5635, loss_rpn_cls: 0.0344, loss_rpn_bbox: 0.0087, loss_cls: 0.2174, acc: 98.3828, loss_bbox: 0.1748, loss: 0.4352\n",
      "2022-05-26 11:35:57,274 - mmfewshot - INFO - Iter [4300/100000]\tlr: 1.000e-04, eta: 8:39:34, time: 0.266, data_time: 0.012, memory: 5635, loss_rpn_cls: 0.0274, loss_rpn_bbox: 0.0059, loss_cls: 0.1829, acc: 98.6641, loss_bbox: 0.1691, loss: 0.3852\n",
      "2022-05-26 11:36:10,539 - mmfewshot - INFO - Iter [4350/100000]\tlr: 1.000e-04, eta: 8:38:11, time: 0.265, data_time: 0.012, memory: 5635, loss_rpn_cls: 0.0281, loss_rpn_bbox: 0.0072, loss_cls: 0.1711, acc: 98.9297, loss_bbox: 0.1436, loss: 0.3500\n",
      "2022-05-26 11:36:23,870 - mmfewshot - INFO - Iter [4400/100000]\tlr: 1.000e-04, eta: 8:36:51, time: 0.267, data_time: 0.012, memory: 5635, loss_rpn_cls: 0.0333, loss_rpn_bbox: 0.0076, loss_cls: 0.1861, acc: 98.3516, loss_bbox: 0.1934, loss: 0.4203\n",
      "2022-05-26 11:36:37,300 - mmfewshot - INFO - Iter [4450/100000]\tlr: 1.000e-04, eta: 8:35:35, time: 0.269, data_time: 0.013, memory: 5635, loss_rpn_cls: 0.0435, loss_rpn_bbox: 0.0095, loss_cls: 0.2068, acc: 98.5078, loss_bbox: 0.1809, loss: 0.4407\n",
      "2022-05-26 11:36:50,654 - mmfewshot - INFO - Iter [4500/100000]\tlr: 1.000e-04, eta: 8:34:18, time: 0.267, data_time: 0.011, memory: 5635, loss_rpn_cls: 0.0370, loss_rpn_bbox: 0.0105, loss_cls: 0.1611, acc: 98.6562, loss_bbox: 0.1841, loss: 0.3928\n",
      "2022-05-26 11:37:03,826 - mmfewshot - INFO - Iter [4550/100000]\tlr: 1.000e-04, eta: 8:33:00, time: 0.264, data_time: 0.011, memory: 5635, loss_rpn_cls: 0.0370, loss_rpn_bbox: 0.0075, loss_cls: 0.1817, acc: 98.1875, loss_bbox: 0.2333, loss: 0.4595\n",
      "2022-05-26 11:37:17,158 - mmfewshot - INFO - Iter [4600/100000]\tlr: 1.000e-04, eta: 8:31:46, time: 0.267, data_time: 0.012, memory: 5635, loss_rpn_cls: 0.0395, loss_rpn_bbox: 0.0103, loss_cls: 0.1980, acc: 98.4688, loss_bbox: 0.1838, loss: 0.4317\n",
      "2022-05-26 11:37:30,586 - mmfewshot - INFO - Iter [4650/100000]\tlr: 1.000e-04, eta: 8:30:35, time: 0.269, data_time: 0.013, memory: 5635, loss_rpn_cls: 0.0331, loss_rpn_bbox: 0.0088, loss_cls: 0.1755, acc: 98.7969, loss_bbox: 0.1775, loss: 0.3949\n",
      "2022-05-26 11:37:43,912 - mmfewshot - INFO - Iter [4700/100000]\tlr: 1.000e-04, eta: 8:29:23, time: 0.266, data_time: 0.012, memory: 5635, loss_rpn_cls: 0.0386, loss_rpn_bbox: 0.0108, loss_cls: 0.2047, acc: 98.5312, loss_bbox: 0.1903, loss: 0.4444\n",
      "2022-05-26 11:37:57,354 - mmfewshot - INFO - Iter [4750/100000]\tlr: 1.000e-04, eta: 8:28:15, time: 0.269, data_time: 0.012, memory: 5635, loss_rpn_cls: 0.0293, loss_rpn_bbox: 0.0065, loss_cls: 0.2015, acc: 98.7656, loss_bbox: 0.1517, loss: 0.3890\n",
      "2022-05-26 11:38:10,680 - mmfewshot - INFO - Iter [4800/100000]\tlr: 1.000e-04, eta: 8:27:06, time: 0.267, data_time: 0.012, memory: 5635, loss_rpn_cls: 0.0419, loss_rpn_bbox: 0.0105, loss_cls: 0.1252, acc: 98.8828, loss_bbox: 0.2367, loss: 0.4143\n",
      "2022-05-26 11:38:23,852 - mmfewshot - INFO - Iter [4850/100000]\tlr: 1.000e-04, eta: 8:25:55, time: 0.263, data_time: 0.011, memory: 5635, loss_rpn_cls: 0.0347, loss_rpn_bbox: 0.0082, loss_cls: 0.1937, acc: 98.6797, loss_bbox: 0.1748, loss: 0.4114\n",
      "2022-05-26 11:38:37,095 - mmfewshot - INFO - Iter [4900/100000]\tlr: 1.000e-04, eta: 8:24:47, time: 0.265, data_time: 0.012, memory: 5635, loss_rpn_cls: 0.0301, loss_rpn_bbox: 0.0074, loss_cls: 0.1621, acc: 98.8672, loss_bbox: 0.1654, loss: 0.3650\n",
      "2022-05-26 11:38:50,431 - mmfewshot - INFO - Iter [4950/100000]\tlr: 1.000e-04, eta: 8:23:41, time: 0.267, data_time: 0.013, memory: 5635, loss_rpn_cls: 0.0273, loss_rpn_bbox: 0.0068, loss_cls: 0.1781, acc: 98.7109, loss_bbox: 0.1631, loss: 0.3753\n",
      "2022-05-26 11:39:03,732 - mmfewshot - INFO - Exp name: attention-rpn_r50_c4_tb-split1_1shot-fine-tuning-momentum-09.py\n",
      "2022-05-26 11:39:03,734 - mmfewshot - INFO - Iter [5000/100000]\tlr: 1.000e-04, eta: 8:22:36, time: 0.266, data_time: 0.011, memory: 5635, loss_rpn_cls: 0.0398, loss_rpn_bbox: 0.0089, loss_cls: 0.2082, acc: 98.3594, loss_bbox: 0.1886, loss: 0.4455\n",
      "2022-05-26 11:39:03,740 - mmdet - INFO - starting model initialization...\n"
     ]
    },
    {
     "name": "stdout",
     "output_type": "stream",
     "text": [
      "[>>>>>>>>>>>>>>>>>>>>>>>>>>>>>>] 640/640, 74.3 task/s, elapsed: 9s, ETA:     0s"
     ]
    },
    {
     "name": "stderr",
     "output_type": "stream",
     "text": [
      "2022-05-26 11:39:12,441 - mmdet - INFO - model initialization done.\n"
     ]
    },
    {
     "name": "stdout",
     "output_type": "stream",
     "text": [
      "[>>>>>>>>>>>>>>>>>>>>>>>>>>>>>] 712/712, 12.7 task/s, elapsed: 56s, ETA:     0s\n",
      "---------------iou_thr: 0.5---------------\n"
     ]
    },
    {
     "name": "stderr",
     "output_type": "stream",
     "text": [
      "2022-05-26 11:40:09,124 - mmfewshot - INFO - \n",
      "+----------+-----+------+--------+-------+\n",
      "| class    | gts | dets | recall | ap    |\n",
      "+----------+-----+------+--------+-------+\n",
      "| 7up      | 810 | 3941 | 0.585  | 0.169 |\n",
      "| BudLight | 209 | 2221 | 0.469  | 0.150 |\n",
      "+----------+-----+------+--------+-------+\n",
      "| mAP      |     |      |        | 0.159 |\n",
      "+----------+-----+------+--------+-------+\n",
      "2022-05-26 11:40:09,127 - mmfewshot - INFO - BASE_CLASSES_SPLIT1 mAP: 0.1592893898487091\n",
      "2022-05-26 11:40:09,129 - mmfewshot - INFO - NOVEL_CLASSES_SPLIT1 mAP: nan\n",
      "2022-05-26 11:40:09,139 - mmfewshot - INFO - Exp name: attention-rpn_r50_c4_tb-split1_1shot-fine-tuning-momentum-09.py\n",
      "2022-05-26 11:40:09,140 - mmfewshot - INFO - Iter(val) [712]\tAP50: 0.1590, BASE_CLASSES_SPLIT1: AP50: 0.1590, NOVEL_CLASSES_SPLIT1: AP50: nan, mAP: 0.1593\n",
      "2022-05-26 11:40:22,532 - mmfewshot - INFO - Iter [5050/100000]\tlr: 1.000e-04, eta: 8:42:03, time: 1.576, data_time: 1.320, memory: 5635, loss_rpn_cls: 0.0314, loss_rpn_bbox: 0.0084, loss_cls: 0.1490, acc: 99.0078, loss_bbox: 0.1718, loss: 0.3607\n",
      "2022-05-26 11:40:35,741 - mmfewshot - INFO - Iter [5100/100000]\tlr: 1.000e-04, eta: 8:40:45, time: 0.264, data_time: 0.011, memory: 5635, loss_rpn_cls: 0.0379, loss_rpn_bbox: 0.0080, loss_cls: 0.1585, acc: 98.7266, loss_bbox: 0.1879, loss: 0.3923\n",
      "2022-05-26 11:40:49,199 - mmfewshot - INFO - Iter [5150/100000]\tlr: 1.000e-04, eta: 8:39:33, time: 0.269, data_time: 0.013, memory: 5635, loss_rpn_cls: 0.0399, loss_rpn_bbox: 0.0103, loss_cls: 0.1486, acc: 98.7500, loss_bbox: 0.2322, loss: 0.4309\n",
      "2022-05-26 11:41:02,554 - mmfewshot - INFO - Iter [5200/100000]\tlr: 1.000e-04, eta: 8:38:21, time: 0.267, data_time: 0.012, memory: 5635, loss_rpn_cls: 0.0197, loss_rpn_bbox: 0.0053, loss_cls: 0.1727, acc: 99.0703, loss_bbox: 0.1502, loss: 0.3478\n",
      "2022-05-26 11:41:15,984 - mmfewshot - INFO - Iter [5250/100000]\tlr: 1.000e-04, eta: 8:37:11, time: 0.269, data_time: 0.012, memory: 5635, loss_rpn_cls: 0.0267, loss_rpn_bbox: 0.0067, loss_cls: 0.2110, acc: 98.3750, loss_bbox: 0.1771, loss: 0.4215\n",
      "2022-05-26 11:41:29,297 - mmfewshot - INFO - Iter [5300/100000]\tlr: 1.000e-04, eta: 8:36:00, time: 0.266, data_time: 0.011, memory: 5635, loss_rpn_cls: 0.0444, loss_rpn_bbox: 0.0109, loss_cls: 0.1612, acc: 98.6172, loss_bbox: 0.2094, loss: 0.4259\n",
      "2022-05-26 11:41:42,540 - mmfewshot - INFO - Iter [5350/100000]\tlr: 1.000e-04, eta: 8:34:48, time: 0.265, data_time: 0.010, memory: 5635, loss_rpn_cls: 0.0287, loss_rpn_bbox: 0.0061, loss_cls: 0.1755, acc: 98.7344, loss_bbox: 0.1704, loss: 0.3807\n",
      "2022-05-26 11:41:55,843 - mmfewshot - INFO - Iter [5400/100000]\tlr: 1.000e-04, eta: 8:33:39, time: 0.266, data_time: 0.012, memory: 5635, loss_rpn_cls: 0.0316, loss_rpn_bbox: 0.0079, loss_cls: 0.1487, acc: 98.6094, loss_bbox: 0.2275, loss: 0.4158\n",
      "2022-05-26 11:42:09,253 - mmfewshot - INFO - Iter [5450/100000]\tlr: 1.000e-04, eta: 8:32:33, time: 0.268, data_time: 0.012, memory: 5635, loss_rpn_cls: 0.0379, loss_rpn_bbox: 0.0087, loss_cls: 0.1622, acc: 98.8828, loss_bbox: 0.1952, loss: 0.4040\n",
      "2022-05-26 11:42:22,652 - mmfewshot - INFO - Iter [5500/100000]\tlr: 1.000e-04, eta: 8:31:28, time: 0.268, data_time: 0.011, memory: 5635, loss_rpn_cls: 0.0361, loss_rpn_bbox: 0.0075, loss_cls: 0.1899, acc: 98.8750, loss_bbox: 0.1757, loss: 0.4091\n",
      "2022-05-26 11:42:35,873 - mmfewshot - INFO - Iter [5550/100000]\tlr: 1.000e-04, eta: 8:30:20, time: 0.264, data_time: 0.011, memory: 5635, loss_rpn_cls: 0.0205, loss_rpn_bbox: 0.0044, loss_cls: 0.1121, acc: 99.1328, loss_bbox: 0.1871, loss: 0.3241\n",
      "2022-05-26 11:42:49,012 - mmfewshot - INFO - Iter [5600/100000]\tlr: 1.000e-04, eta: 8:29:12, time: 0.263, data_time: 0.011, memory: 5635, loss_rpn_cls: 0.0251, loss_rpn_bbox: 0.0067, loss_cls: 0.1552, acc: 98.8516, loss_bbox: 0.1913, loss: 0.3783\n",
      "2022-05-26 11:43:02,469 - mmfewshot - INFO - Iter [5650/100000]\tlr: 1.000e-04, eta: 8:28:10, time: 0.269, data_time: 0.011, memory: 5635, loss_rpn_cls: 0.0420, loss_rpn_bbox: 0.0121, loss_cls: 0.1658, acc: 98.8281, loss_bbox: 0.1787, loss: 0.3985\n",
      "2022-05-26 11:43:15,888 - mmfewshot - INFO - Iter [5700/100000]\tlr: 1.000e-04, eta: 8:27:09, time: 0.268, data_time: 0.012, memory: 5635, loss_rpn_cls: 0.0366, loss_rpn_bbox: 0.0084, loss_cls: 0.1325, acc: 98.8828, loss_bbox: 0.2053, loss: 0.3829\n",
      "2022-05-26 11:43:29,128 - mmfewshot - INFO - Iter [5750/100000]\tlr: 1.000e-04, eta: 8:26:05, time: 0.265, data_time: 0.011, memory: 5635, loss_rpn_cls: 0.0330, loss_rpn_bbox: 0.0081, loss_cls: 0.1367, acc: 98.8281, loss_bbox: 0.2113, loss: 0.3891\n",
      "2022-05-26 11:43:42,463 - mmfewshot - INFO - Iter [5800/100000]\tlr: 1.000e-04, eta: 8:25:04, time: 0.267, data_time: 0.011, memory: 5635, loss_rpn_cls: 0.0256, loss_rpn_bbox: 0.0059, loss_cls: 0.1456, acc: 98.8438, loss_bbox: 0.2016, loss: 0.3787\n",
      "2022-05-26 11:43:55,925 - mmfewshot - INFO - Iter [5850/100000]\tlr: 1.000e-04, eta: 8:24:06, time: 0.269, data_time: 0.013, memory: 5635, loss_rpn_cls: 0.0350, loss_rpn_bbox: 0.0073, loss_cls: 0.1993, acc: 98.7344, loss_bbox: 0.1915, loss: 0.4331\n",
      "2022-05-26 11:44:09,442 - mmfewshot - INFO - Iter [5900/100000]\tlr: 1.000e-04, eta: 8:23:09, time: 0.270, data_time: 0.012, memory: 5635, loss_rpn_cls: 0.0366, loss_rpn_bbox: 0.0099, loss_cls: 0.1643, acc: 98.9062, loss_bbox: 0.1959, loss: 0.4067\n",
      "2022-05-26 11:44:22,692 - mmfewshot - INFO - Iter [5950/100000]\tlr: 1.000e-04, eta: 8:22:09, time: 0.265, data_time: 0.011, memory: 5635, loss_rpn_cls: 0.0267, loss_rpn_bbox: 0.0083, loss_cls: 0.1593, acc: 98.7344, loss_bbox: 0.1853, loss: 0.3796\n",
      "2022-05-26 11:44:35,944 - mmfewshot - INFO - Exp name: attention-rpn_r50_c4_tb-split1_1shot-fine-tuning-momentum-09.py\n",
      "2022-05-26 11:44:35,946 - mmfewshot - INFO - Iter [6000/100000]\tlr: 1.000e-04, eta: 8:21:09, time: 0.265, data_time: 0.011, memory: 5635, loss_rpn_cls: 0.0314, loss_rpn_bbox: 0.0074, loss_cls: 0.1194, acc: 98.8906, loss_bbox: 0.2060, loss: 0.3643\n",
      "2022-05-26 11:44:35,954 - mmdet - INFO - starting model initialization...\n"
     ]
    },
    {
     "name": "stdout",
     "output_type": "stream",
     "text": [
      "[>>>>>>>>>>>>>>>>>>>>>>>>>>>>>>] 640/640, 77.9 task/s, elapsed: 8s, ETA:     0s"
     ]
    },
    {
     "name": "stderr",
     "output_type": "stream",
     "text": [
      "2022-05-26 11:44:44,253 - mmdet - INFO - model initialization done.\n"
     ]
    },
    {
     "name": "stdout",
     "output_type": "stream",
     "text": [
      "[>>>>>>>>>>>>>>>>>>>>>>>>>>>>>] 712/712, 12.7 task/s, elapsed: 56s, ETA:     0s\n",
      "---------------iou_thr: 0.5---------------\n"
     ]
    },
    {
     "name": "stderr",
     "output_type": "stream",
     "text": [
      "2022-05-26 11:45:40,594 - mmfewshot - INFO - \n",
      "+----------+-----+------+--------+-------+\n",
      "| class    | gts | dets | recall | ap    |\n",
      "+----------+-----+------+--------+-------+\n",
      "| 7up      | 810 | 4976 | 0.601  | 0.202 |\n",
      "| BudLight | 209 | 790  | 0.388  | 0.133 |\n",
      "+----------+-----+------+--------+-------+\n",
      "| mAP      |     |      |        | 0.167 |\n",
      "+----------+-----+------+--------+-------+\n",
      "2022-05-26 11:45:40,598 - mmfewshot - INFO - BASE_CLASSES_SPLIT1 mAP: 0.16740626096725464\n",
      "2022-05-26 11:45:40,599 - mmfewshot - INFO - NOVEL_CLASSES_SPLIT1 mAP: nan\n",
      "2022-05-26 11:45:40,604 - mmfewshot - INFO - Exp name: attention-rpn_r50_c4_tb-split1_1shot-fine-tuning-momentum-09.py\n",
      "2022-05-26 11:45:40,606 - mmfewshot - INFO - Iter(val) [712]\tAP50: 0.1670, BASE_CLASSES_SPLIT1: AP50: 0.1670, NOVEL_CLASSES_SPLIT1: AP50: nan, mAP: 0.1674\n",
      "2022-05-26 11:45:54,014 - mmfewshot - INFO - Iter [6050/100000]\tlr: 1.000e-04, eta: 8:36:57, time: 1.562, data_time: 1.305, memory: 5635, loss_rpn_cls: 0.0355, loss_rpn_bbox: 0.0106, loss_cls: 0.2050, acc: 98.4844, loss_bbox: 0.1998, loss: 0.4508\n",
      "2022-05-26 11:46:07,404 - mmfewshot - INFO - Iter [6100/100000]\tlr: 1.000e-04, eta: 8:35:53, time: 0.268, data_time: 0.012, memory: 5635, loss_rpn_cls: 0.0470, loss_rpn_bbox: 0.0112, loss_cls: 0.1329, acc: 98.7969, loss_bbox: 0.2092, loss: 0.4003\n",
      "2022-05-26 11:46:20,663 - mmfewshot - INFO - Iter [6150/100000]\tlr: 1.000e-04, eta: 8:34:47, time: 0.265, data_time: 0.011, memory: 5635, loss_rpn_cls: 0.0226, loss_rpn_bbox: 0.0056, loss_cls: 0.1597, acc: 98.7422, loss_bbox: 0.1807, loss: 0.3686\n",
      "2022-05-26 11:46:33,999 - mmfewshot - INFO - Iter [6200/100000]\tlr: 1.000e-04, eta: 8:33:44, time: 0.267, data_time: 0.011, memory: 5635, loss_rpn_cls: 0.0349, loss_rpn_bbox: 0.0089, loss_cls: 0.1470, acc: 98.8906, loss_bbox: 0.1990, loss: 0.3899\n",
      "2022-05-26 11:46:47,464 - mmfewshot - INFO - Iter [6250/100000]\tlr: 1.000e-04, eta: 8:32:43, time: 0.269, data_time: 0.013, memory: 5635, loss_rpn_cls: 0.0411, loss_rpn_bbox: 0.0106, loss_cls: 0.1358, acc: 99.0469, loss_bbox: 0.1974, loss: 0.3849\n",
      "2022-05-26 11:47:00,772 - mmfewshot - INFO - Iter [6300/100000]\tlr: 1.000e-04, eta: 8:31:40, time: 0.266, data_time: 0.011, memory: 5635, loss_rpn_cls: 0.0336, loss_rpn_bbox: 0.0090, loss_cls: 0.1338, acc: 99.2031, loss_bbox: 0.1861, loss: 0.3623\n",
      "2022-05-26 11:47:14,160 - mmfewshot - INFO - Iter [6350/100000]\tlr: 1.000e-04, eta: 8:30:40, time: 0.268, data_time: 0.012, memory: 5635, loss_rpn_cls: 0.0268, loss_rpn_bbox: 0.0085, loss_cls: 0.1637, acc: 98.7969, loss_bbox: 0.2151, loss: 0.4141\n",
      "2022-05-26 11:47:27,407 - mmfewshot - INFO - Iter [6400/100000]\tlr: 1.000e-04, eta: 8:29:38, time: 0.265, data_time: 0.012, memory: 5635, loss_rpn_cls: 0.0254, loss_rpn_bbox: 0.0054, loss_cls: 0.1700, acc: 98.9766, loss_bbox: 0.1713, loss: 0.3720\n",
      "2022-05-26 11:47:40,677 - mmfewshot - INFO - Iter [6450/100000]\tlr: 1.000e-04, eta: 8:28:37, time: 0.265, data_time: 0.012, memory: 5635, loss_rpn_cls: 0.0474, loss_rpn_bbox: 0.0106, loss_cls: 0.1383, acc: 98.8672, loss_bbox: 0.1772, loss: 0.3734\n",
      "2022-05-26 11:47:54,073 - mmfewshot - INFO - Iter [6500/100000]\tlr: 1.000e-04, eta: 8:27:39, time: 0.268, data_time: 0.012, memory: 5635, loss_rpn_cls: 0.0250, loss_rpn_bbox: 0.0070, loss_cls: 0.1407, acc: 98.7344, loss_bbox: 0.2256, loss: 0.3984\n",
      "2022-05-26 11:48:07,376 - mmfewshot - INFO - Iter [6550/100000]\tlr: 1.000e-04, eta: 8:26:40, time: 0.266, data_time: 0.012, memory: 5635, loss_rpn_cls: 0.0356, loss_rpn_bbox: 0.0084, loss_cls: 0.1378, acc: 98.8672, loss_bbox: 0.1876, loss: 0.3694\n",
      "2022-05-26 11:48:20,559 - mmfewshot - INFO - Iter [6600/100000]\tlr: 1.000e-04, eta: 8:25:40, time: 0.264, data_time: 0.011, memory: 5635, loss_rpn_cls: 0.0238, loss_rpn_bbox: 0.0070, loss_cls: 0.1118, acc: 99.1250, loss_bbox: 0.1852, loss: 0.3279\n",
      "2022-05-26 11:48:33,906 - mmfewshot - INFO - Iter [6650/100000]\tlr: 1.000e-04, eta: 8:24:43, time: 0.267, data_time: 0.011, memory: 5635, loss_rpn_cls: 0.0260, loss_rpn_bbox: 0.0063, loss_cls: 0.1245, acc: 99.0156, loss_bbox: 0.2065, loss: 0.3633\n",
      "2022-05-26 11:48:47,277 - mmfewshot - INFO - Iter [6700/100000]\tlr: 1.000e-04, eta: 8:23:47, time: 0.268, data_time: 0.012, memory: 5635, loss_rpn_cls: 0.0354, loss_rpn_bbox: 0.0084, loss_cls: 0.1581, acc: 98.8984, loss_bbox: 0.1997, loss: 0.4016\n",
      "2022-05-26 11:49:00,601 - mmfewshot - INFO - Iter [6750/100000]\tlr: 1.000e-04, eta: 8:22:51, time: 0.266, data_time: 0.012, memory: 5635, loss_rpn_cls: 0.0356, loss_rpn_bbox: 0.0090, loss_cls: 0.1802, acc: 98.8906, loss_bbox: 0.2060, loss: 0.4309\n",
      "2022-05-26 11:49:13,947 - mmfewshot - INFO - Iter [6800/100000]\tlr: 1.000e-04, eta: 8:21:56, time: 0.267, data_time: 0.011, memory: 5635, loss_rpn_cls: 0.0349, loss_rpn_bbox: 0.0084, loss_cls: 0.1917, acc: 98.8750, loss_bbox: 0.2005, loss: 0.4354\n",
      "2022-05-26 11:49:27,108 - mmfewshot - INFO - Iter [6850/100000]\tlr: 1.000e-04, eta: 8:20:59, time: 0.263, data_time: 0.012, memory: 5635, loss_rpn_cls: 0.0258, loss_rpn_bbox: 0.0078, loss_cls: 0.1422, acc: 98.7969, loss_bbox: 0.2050, loss: 0.3808\n",
      "2022-05-26 11:49:40,158 - mmfewshot - INFO - Iter [6900/100000]\tlr: 1.000e-04, eta: 8:20:02, time: 0.261, data_time: 0.011, memory: 5635, loss_rpn_cls: 0.0286, loss_rpn_bbox: 0.0072, loss_cls: 0.1575, acc: 98.9375, loss_bbox: 0.1780, loss: 0.3713\n",
      "2022-05-26 11:49:53,479 - mmfewshot - INFO - Iter [6950/100000]\tlr: 1.000e-04, eta: 8:19:08, time: 0.267, data_time: 0.011, memory: 5635, loss_rpn_cls: 0.0306, loss_rpn_bbox: 0.0080, loss_cls: 0.1261, acc: 99.2031, loss_bbox: 0.1861, loss: 0.3508\n",
      "2022-05-26 11:50:06,764 - mmfewshot - INFO - Exp name: attention-rpn_r50_c4_tb-split1_1shot-fine-tuning-momentum-09.py\n",
      "2022-05-26 11:50:06,765 - mmfewshot - INFO - Iter [7000/100000]\tlr: 1.000e-04, eta: 8:18:15, time: 0.266, data_time: 0.012, memory: 5635, loss_rpn_cls: 0.0313, loss_rpn_bbox: 0.0078, loss_cls: 0.1202, acc: 98.9609, loss_bbox: 0.2086, loss: 0.3679\n",
      "2022-05-26 11:50:06,771 - mmdet - INFO - starting model initialization...\n"
     ]
    },
    {
     "name": "stdout",
     "output_type": "stream",
     "text": [
      "[>>>>>>>>>>>>>>>>>>>>>>>>>>>>>>] 640/640, 77.2 task/s, elapsed: 8s, ETA:     0s"
     ]
    },
    {
     "name": "stderr",
     "output_type": "stream",
     "text": [
      "2022-05-26 11:50:15,135 - mmdet - INFO - model initialization done.\n"
     ]
    },
    {
     "name": "stdout",
     "output_type": "stream",
     "text": [
      "[>>>>>>>>>>>>>>>>>>>>>>>>>>>>>] 712/712, 12.5 task/s, elapsed: 57s, ETA:     0s\n",
      "---------------iou_thr: 0.5---------------\n"
     ]
    },
    {
     "name": "stderr",
     "output_type": "stream",
     "text": [
      "2022-05-26 11:51:12,409 - mmfewshot - INFO - \n",
      "+----------+-----+------+--------+-------+\n",
      "| class    | gts | dets | recall | ap    |\n",
      "+----------+-----+------+--------+-------+\n",
      "| 7up      | 810 | 5282 | 0.658  | 0.277 |\n",
      "| BudLight | 209 | 1382 | 0.426  | 0.145 |\n",
      "+----------+-----+------+--------+-------+\n",
      "| mAP      |     |      |        | 0.211 |\n",
      "+----------+-----+------+--------+-------+\n",
      "2022-05-26 11:51:12,412 - mmfewshot - INFO - BASE_CLASSES_SPLIT1 mAP: 0.21093067526817322\n",
      "2022-05-26 11:51:12,413 - mmfewshot - INFO - NOVEL_CLASSES_SPLIT1 mAP: nan\n",
      "2022-05-26 11:51:12,418 - mmfewshot - INFO - Exp name: attention-rpn_r50_c4_tb-split1_1shot-fine-tuning-momentum-09.py\n",
      "2022-05-26 11:51:12,419 - mmfewshot - INFO - Iter(val) [712]\tAP50: 0.2110, BASE_CLASSES_SPLIT1: AP50: 0.2110, NOVEL_CLASSES_SPLIT1: AP50: nan, mAP: 0.2109\n",
      "2022-05-26 11:51:25,729 - mmfewshot - INFO - Iter [7050/100000]\tlr: 1.000e-04, eta: 8:31:48, time: 1.579, data_time: 1.325, memory: 5635, loss_rpn_cls: 0.0241, loss_rpn_bbox: 0.0069, loss_cls: 0.1549, acc: 99.1016, loss_bbox: 0.1648, loss: 0.3508\n",
      "2022-05-26 11:51:39,039 - mmfewshot - INFO - Iter [7100/100000]\tlr: 1.000e-04, eta: 8:30:49, time: 0.266, data_time: 0.011, memory: 5635, loss_rpn_cls: 0.0367, loss_rpn_bbox: 0.0114, loss_cls: 0.1379, acc: 98.8359, loss_bbox: 0.2160, loss: 0.4019\n",
      "2022-05-26 11:51:52,176 - mmfewshot - INFO - Iter [7150/100000]\tlr: 1.000e-04, eta: 8:29:49, time: 0.263, data_time: 0.011, memory: 5635, loss_rpn_cls: 0.0354, loss_rpn_bbox: 0.0097, loss_cls: 0.1295, acc: 99.0000, loss_bbox: 0.2273, loss: 0.4020\n",
      "2022-05-26 11:52:05,393 - mmfewshot - INFO - Iter [7200/100000]\tlr: 1.000e-04, eta: 8:28:51, time: 0.264, data_time: 0.012, memory: 5635, loss_rpn_cls: 0.0348, loss_rpn_bbox: 0.0083, loss_cls: 0.1748, acc: 98.9609, loss_bbox: 0.1842, loss: 0.4020\n",
      "2022-05-26 11:52:18,628 - mmfewshot - INFO - Iter [7250/100000]\tlr: 1.000e-04, eta: 8:27:53, time: 0.265, data_time: 0.011, memory: 5635, loss_rpn_cls: 0.0297, loss_rpn_bbox: 0.0075, loss_cls: 0.1514, acc: 98.7031, loss_bbox: 0.1912, loss: 0.3798\n",
      "2022-05-26 11:52:31,849 - mmfewshot - INFO - Iter [7300/100000]\tlr: 1.000e-04, eta: 8:26:56, time: 0.264, data_time: 0.011, memory: 5635, loss_rpn_cls: 0.0341, loss_rpn_bbox: 0.0087, loss_cls: 0.1926, acc: 98.6484, loss_bbox: 0.1828, loss: 0.4182\n",
      "2022-05-26 11:52:45,023 - mmfewshot - INFO - Iter [7350/100000]\tlr: 1.000e-04, eta: 8:25:59, time: 0.264, data_time: 0.011, memory: 5635, loss_rpn_cls: 0.0224, loss_rpn_bbox: 0.0049, loss_cls: 0.1822, acc: 98.8984, loss_bbox: 0.1564, loss: 0.3659\n",
      "2022-05-26 11:52:58,126 - mmfewshot - INFO - Iter [7400/100000]\tlr: 1.000e-04, eta: 8:25:01, time: 0.262, data_time: 0.011, memory: 5635, loss_rpn_cls: 0.0266, loss_rpn_bbox: 0.0071, loss_cls: 0.1328, acc: 99.1016, loss_bbox: 0.1801, loss: 0.3467\n",
      "2022-05-26 11:53:11,399 - mmfewshot - INFO - Iter [7450/100000]\tlr: 1.000e-04, eta: 8:24:07, time: 0.266, data_time: 0.012, memory: 5635, loss_rpn_cls: 0.0269, loss_rpn_bbox: 0.0062, loss_cls: 0.1402, acc: 98.8984, loss_bbox: 0.2021, loss: 0.3753\n",
      "2022-05-26 11:53:24,822 - mmfewshot - INFO - Iter [7500/100000]\tlr: 1.000e-04, eta: 8:23:14, time: 0.268, data_time: 0.012, memory: 5635, loss_rpn_cls: 0.0293, loss_rpn_bbox: 0.0072, loss_cls: 0.1665, acc: 98.8906, loss_bbox: 0.1769, loss: 0.3800\n",
      "2022-05-26 11:53:38,248 - mmfewshot - INFO - Iter [7550/100000]\tlr: 1.000e-04, eta: 8:22:23, time: 0.269, data_time: 0.013, memory: 5635, loss_rpn_cls: 0.0337, loss_rpn_bbox: 0.0085, loss_cls: 0.1314, acc: 99.0000, loss_bbox: 0.2175, loss: 0.3910\n",
      "2022-05-26 11:53:51,638 - mmfewshot - INFO - Iter [7600/100000]\tlr: 1.000e-04, eta: 8:21:31, time: 0.268, data_time: 0.012, memory: 5635, loss_rpn_cls: 0.0301, loss_rpn_bbox: 0.0079, loss_cls: 0.1168, acc: 99.0547, loss_bbox: 0.2258, loss: 0.3805\n",
      "2022-05-26 11:54:05,028 - mmfewshot - INFO - Iter [7650/100000]\tlr: 1.000e-04, eta: 8:20:40, time: 0.268, data_time: 0.012, memory: 5635, loss_rpn_cls: 0.0415, loss_rpn_bbox: 0.0099, loss_cls: 0.1562, acc: 98.8594, loss_bbox: 0.2002, loss: 0.4078\n",
      "2022-05-26 11:54:18,253 - mmfewshot - INFO - Iter [7700/100000]\tlr: 1.000e-04, eta: 8:19:47, time: 0.264, data_time: 0.012, memory: 5635, loss_rpn_cls: 0.0262, loss_rpn_bbox: 0.0055, loss_cls: 0.1127, acc: 99.0781, loss_bbox: 0.1775, loss: 0.3219\n",
      "2022-05-26 11:54:31,515 - mmfewshot - INFO - Iter [7750/100000]\tlr: 1.000e-04, eta: 8:18:55, time: 0.265, data_time: 0.011, memory: 5635, loss_rpn_cls: 0.0254, loss_rpn_bbox: 0.0076, loss_cls: 0.1211, acc: 98.9453, loss_bbox: 0.2513, loss: 0.4054\n",
      "2022-05-26 11:54:44,869 - mmfewshot - INFO - Iter [7800/100000]\tlr: 1.000e-04, eta: 8:18:05, time: 0.267, data_time: 0.012, memory: 5635, loss_rpn_cls: 0.0363, loss_rpn_bbox: 0.0088, loss_cls: 0.0949, acc: 98.9141, loss_bbox: 0.2453, loss: 0.3852\n",
      "2022-05-26 11:54:58,111 - mmfewshot - INFO - Iter [7850/100000]\tlr: 1.000e-04, eta: 8:17:14, time: 0.265, data_time: 0.012, memory: 5635, loss_rpn_cls: 0.0316, loss_rpn_bbox: 0.0087, loss_cls: 0.1313, acc: 98.9922, loss_bbox: 0.2151, loss: 0.3867\n",
      "2022-05-26 11:55:11,303 - mmfewshot - INFO - Iter [7900/100000]\tlr: 1.000e-04, eta: 8:16:23, time: 0.264, data_time: 0.012, memory: 5635, loss_rpn_cls: 0.0314, loss_rpn_bbox: 0.0077, loss_cls: 0.1291, acc: 99.0156, loss_bbox: 0.1859, loss: 0.3540\n",
      "2022-05-26 11:55:24,680 - mmfewshot - INFO - Iter [7950/100000]\tlr: 1.000e-04, eta: 8:15:34, time: 0.267, data_time: 0.012, memory: 5635, loss_rpn_cls: 0.0175, loss_rpn_bbox: 0.0044, loss_cls: 0.1095, acc: 99.2422, loss_bbox: 0.2062, loss: 0.3375\n",
      "2022-05-26 11:55:38,041 - mmfewshot - INFO - Exp name: attention-rpn_r50_c4_tb-split1_1shot-fine-tuning-momentum-09.py\n",
      "2022-05-26 11:55:38,044 - mmfewshot - INFO - Iter [8000/100000]\tlr: 1.000e-04, eta: 8:14:46, time: 0.268, data_time: 0.012, memory: 5635, loss_rpn_cls: 0.0202, loss_rpn_bbox: 0.0058, loss_cls: 0.1100, acc: 99.1875, loss_bbox: 0.2124, loss: 0.3484\n",
      "2022-05-26 11:55:38,049 - mmdet - INFO - starting model initialization...\n"
     ]
    },
    {
     "name": "stdout",
     "output_type": "stream",
     "text": [
      "[>>>>>>>>>>>>>>>>>>>>>>>>>>>>>>] 640/640, 77.2 task/s, elapsed: 8s, ETA:     0s"
     ]
    },
    {
     "name": "stderr",
     "output_type": "stream",
     "text": [
      "2022-05-26 11:55:46,432 - mmdet - INFO - model initialization done.\n"
     ]
    },
    {
     "name": "stdout",
     "output_type": "stream",
     "text": [
      "[>>>>>>>>>>>>>>>>>>>>>>>>>>>>>] 712/712, 12.7 task/s, elapsed: 56s, ETA:     0s\n",
      "---------------iou_thr: 0.5---------------\n"
     ]
    },
    {
     "name": "stderr",
     "output_type": "stream",
     "text": [
      "2022-05-26 11:56:42,980 - mmfewshot - INFO - \n",
      "+----------+-----+------+--------+-------+\n",
      "| class    | gts | dets | recall | ap    |\n",
      "+----------+-----+------+--------+-------+\n",
      "| 7up      | 810 | 4747 | 0.642  | 0.203 |\n",
      "| BudLight | 209 | 820  | 0.445  | 0.141 |\n",
      "+----------+-----+------+--------+-------+\n",
      "| mAP      |     |      |        | 0.172 |\n",
      "+----------+-----+------+--------+-------+\n",
      "2022-05-26 11:56:43,043 - mmfewshot - INFO - BASE_CLASSES_SPLIT1 mAP: 0.1719299554824829\n",
      "2022-05-26 11:56:43,044 - mmfewshot - INFO - NOVEL_CLASSES_SPLIT1 mAP: nan\n",
      "2022-05-26 11:56:43,048 - mmfewshot - INFO - Exp name: attention-rpn_r50_c4_tb-split1_1shot-fine-tuning-momentum-09.py\n",
      "2022-05-26 11:56:43,048 - mmfewshot - INFO - Iter(val) [712]\tAP50: 0.1720, BASE_CLASSES_SPLIT1: AP50: 0.1720, NOVEL_CLASSES_SPLIT1: AP50: nan, mAP: 0.1719\n",
      "2022-05-26 11:56:56,372 - mmfewshot - INFO - Iter [8050/100000]\tlr: 1.000e-04, eta: 8:26:20, time: 1.566, data_time: 1.312, memory: 5635, loss_rpn_cls: 0.0326, loss_rpn_bbox: 0.0070, loss_cls: 0.1180, acc: 99.3438, loss_bbox: 0.1652, loss: 0.3228\n",
      "2022-05-26 11:57:09,680 - mmfewshot - INFO - Iter [8100/100000]\tlr: 1.000e-04, eta: 8:25:27, time: 0.266, data_time: 0.011, memory: 5635, loss_rpn_cls: 0.0413, loss_rpn_bbox: 0.0089, loss_cls: 0.1508, acc: 98.8438, loss_bbox: 0.1916, loss: 0.3926\n",
      "2022-05-26 11:57:22,987 - mmfewshot - INFO - Iter [8150/100000]\tlr: 1.000e-04, eta: 8:24:35, time: 0.266, data_time: 0.012, memory: 5635, loss_rpn_cls: 0.0323, loss_rpn_bbox: 0.0093, loss_cls: 0.1096, acc: 99.2031, loss_bbox: 0.1881, loss: 0.3392\n",
      "2022-05-26 11:57:36,341 - mmfewshot - INFO - Iter [8200/100000]\tlr: 1.000e-04, eta: 8:23:43, time: 0.267, data_time: 0.011, memory: 5635, loss_rpn_cls: 0.0384, loss_rpn_bbox: 0.0088, loss_cls: 0.1430, acc: 98.9766, loss_bbox: 0.1801, loss: 0.3704\n",
      "2022-05-26 11:57:49,712 - mmfewshot - INFO - Iter [8250/100000]\tlr: 1.000e-04, eta: 8:22:53, time: 0.268, data_time: 0.012, memory: 5635, loss_rpn_cls: 0.0275, loss_rpn_bbox: 0.0071, loss_cls: 0.1216, acc: 98.8984, loss_bbox: 0.2341, loss: 0.3904\n",
      "2022-05-26 11:58:03,088 - mmfewshot - INFO - Iter [8300/100000]\tlr: 1.000e-04, eta: 8:22:02, time: 0.267, data_time: 0.012, memory: 5635, loss_rpn_cls: 0.0269, loss_rpn_bbox: 0.0079, loss_cls: 0.1148, acc: 99.0781, loss_bbox: 0.2274, loss: 0.3770\n",
      "2022-05-26 11:58:16,484 - mmfewshot - INFO - Iter [8350/100000]\tlr: 1.000e-04, eta: 8:21:12, time: 0.268, data_time: 0.011, memory: 5635, loss_rpn_cls: 0.0205, loss_rpn_bbox: 0.0066, loss_cls: 0.1122, acc: 99.1250, loss_bbox: 0.2217, loss: 0.3610\n",
      "2022-05-26 11:58:29,807 - mmfewshot - INFO - Iter [8400/100000]\tlr: 1.000e-04, eta: 8:20:23, time: 0.267, data_time: 0.012, memory: 5635, loss_rpn_cls: 0.0317, loss_rpn_bbox: 0.0087, loss_cls: 0.1175, acc: 99.1172, loss_bbox: 0.2159, loss: 0.3738\n",
      "2022-05-26 11:58:43,000 - mmfewshot - INFO - Iter [8450/100000]\tlr: 1.000e-04, eta: 8:19:31, time: 0.264, data_time: 0.011, memory: 5635, loss_rpn_cls: 0.0292, loss_rpn_bbox: 0.0075, loss_cls: 0.1021, acc: 99.0312, loss_bbox: 0.2233, loss: 0.3620\n",
      "2022-05-26 11:58:56,353 - mmfewshot - INFO - Iter [8500/100000]\tlr: 1.000e-04, eta: 8:18:43, time: 0.267, data_time: 0.012, memory: 5635, loss_rpn_cls: 0.0320, loss_rpn_bbox: 0.0088, loss_cls: 0.1317, acc: 98.9766, loss_bbox: 0.2247, loss: 0.3971\n",
      "2022-05-26 11:59:09,837 - mmfewshot - INFO - Iter [8550/100000]\tlr: 1.000e-04, eta: 8:17:56, time: 0.270, data_time: 0.013, memory: 5635, loss_rpn_cls: 0.0275, loss_rpn_bbox: 0.0084, loss_cls: 0.1366, acc: 99.0703, loss_bbox: 0.1864, loss: 0.3589\n",
      "2022-05-26 11:59:23,193 - mmfewshot - INFO - Iter [8600/100000]\tlr: 1.000e-04, eta: 8:17:08, time: 0.267, data_time: 0.012, memory: 5635, loss_rpn_cls: 0.0271, loss_rpn_bbox: 0.0074, loss_cls: 0.1048, acc: 99.2578, loss_bbox: 0.1841, loss: 0.3234\n",
      "2022-05-26 11:59:36,403 - mmfewshot - INFO - Iter [8650/100000]\tlr: 1.000e-04, eta: 8:16:19, time: 0.264, data_time: 0.012, memory: 5635, loss_rpn_cls: 0.0235, loss_rpn_bbox: 0.0085, loss_cls: 0.1075, acc: 99.0859, loss_bbox: 0.2584, loss: 0.3979\n",
      "2022-05-26 11:59:49,708 - mmfewshot - INFO - Iter [8700/100000]\tlr: 1.000e-04, eta: 8:15:31, time: 0.266, data_time: 0.012, memory: 5635, loss_rpn_cls: 0.0221, loss_rpn_bbox: 0.0052, loss_cls: 0.1004, acc: 99.1719, loss_bbox: 0.1955, loss: 0.3232\n",
      "2022-05-26 12:00:02,870 - mmfewshot - INFO - Iter [8750/100000]\tlr: 1.000e-04, eta: 8:14:42, time: 0.263, data_time: 0.011, memory: 5635, loss_rpn_cls: 0.0229, loss_rpn_bbox: 0.0054, loss_cls: 0.1345, acc: 99.2500, loss_bbox: 0.1748, loss: 0.3376\n",
      "2022-05-26 12:00:16,244 - mmfewshot - INFO - Iter [8800/100000]\tlr: 1.000e-04, eta: 8:13:56, time: 0.268, data_time: 0.011, memory: 5635, loss_rpn_cls: 0.0374, loss_rpn_bbox: 0.0090, loss_cls: 0.1227, acc: 99.0312, loss_bbox: 0.1932, loss: 0.3622\n",
      "2022-05-26 12:00:29,746 - mmfewshot - INFO - Iter [8850/100000]\tlr: 1.000e-04, eta: 8:13:11, time: 0.270, data_time: 0.012, memory: 5635, loss_rpn_cls: 0.0266, loss_rpn_bbox: 0.0087, loss_cls: 0.1031, acc: 99.2109, loss_bbox: 0.2159, loss: 0.3542\n",
      "2022-05-26 12:00:43,097 - mmfewshot - INFO - Iter [8900/100000]\tlr: 1.000e-04, eta: 8:12:25, time: 0.267, data_time: 0.012, memory: 5635, loss_rpn_cls: 0.0290, loss_rpn_bbox: 0.0090, loss_cls: 0.0826, acc: 99.3203, loss_bbox: 0.2233, loss: 0.3439\n",
      "2022-05-26 12:00:56,378 - mmfewshot - INFO - Iter [8950/100000]\tlr: 1.000e-04, eta: 8:11:39, time: 0.265, data_time: 0.011, memory: 5635, loss_rpn_cls: 0.0359, loss_rpn_bbox: 0.0096, loss_cls: 0.1290, acc: 98.8281, loss_bbox: 0.2181, loss: 0.3925\n",
      "2022-05-26 12:01:09,662 - mmfewshot - INFO - Exp name: attention-rpn_r50_c4_tb-split1_1shot-fine-tuning-momentum-09.py\n",
      "2022-05-26 12:01:09,663 - mmfewshot - INFO - Iter [9000/100000]\tlr: 1.000e-04, eta: 8:10:54, time: 0.266, data_time: 0.011, memory: 5635, loss_rpn_cls: 0.0276, loss_rpn_bbox: 0.0072, loss_cls: 0.1218, acc: 99.0859, loss_bbox: 0.1989, loss: 0.3555\n",
      "2022-05-26 12:01:09,668 - mmdet - INFO - starting model initialization...\n"
     ]
    },
    {
     "name": "stdout",
     "output_type": "stream",
     "text": [
      "[>>>>>>>>>>>>>>>>>>>>>>>>>>>>>>] 640/640, 76.8 task/s, elapsed: 8s, ETA:     0s"
     ]
    },
    {
     "name": "stderr",
     "output_type": "stream",
     "text": [
      "2022-05-26 12:01:18,075 - mmdet - INFO - model initialization done.\n"
     ]
    },
    {
     "name": "stdout",
     "output_type": "stream",
     "text": [
      "[>>>>>>>>>>>>>>>>>>>>>>>>>>>>>] 712/712, 12.7 task/s, elapsed: 56s, ETA:     0s\n",
      "---------------iou_thr: 0.5---------------\n"
     ]
    },
    {
     "name": "stderr",
     "output_type": "stream",
     "text": [
      "2022-05-26 12:02:14,494 - mmfewshot - INFO - \n",
      "+----------+-----+------+--------+-------+\n",
      "| class    | gts | dets | recall | ap    |\n",
      "+----------+-----+------+--------+-------+\n",
      "| 7up      | 810 | 3504 | 0.591  | 0.193 |\n",
      "| BudLight | 209 | 815  | 0.364  | 0.114 |\n",
      "+----------+-----+------+--------+-------+\n",
      "| mAP      |     |      |        | 0.154 |\n",
      "+----------+-----+------+--------+-------+\n",
      "2022-05-26 12:02:14,497 - mmfewshot - INFO - BASE_CLASSES_SPLIT1 mAP: 0.15366482734680176\n",
      "2022-05-26 12:02:14,498 - mmfewshot - INFO - NOVEL_CLASSES_SPLIT1 mAP: nan\n",
      "2022-05-26 12:02:14,505 - mmfewshot - INFO - Exp name: attention-rpn_r50_c4_tb-split1_1shot-fine-tuning-momentum-09.py\n",
      "2022-05-26 12:02:14,507 - mmfewshot - INFO - Iter(val) [712]\tAP50: 0.1540, BASE_CLASSES_SPLIT1: AP50: 0.1540, NOVEL_CLASSES_SPLIT1: AP50: nan, mAP: 0.1537\n",
      "2022-05-26 12:02:27,841 - mmfewshot - INFO - Iter [9050/100000]\tlr: 1.000e-04, eta: 8:21:01, time: 1.564, data_time: 1.308, memory: 5635, loss_rpn_cls: 0.0282, loss_rpn_bbox: 0.0083, loss_cls: 0.1021, acc: 99.1250, loss_bbox: 0.2417, loss: 0.3804\n",
      "2022-05-26 12:02:41,033 - mmfewshot - INFO - Iter [9100/100000]\tlr: 1.000e-04, eta: 8:20:11, time: 0.264, data_time: 0.011, memory: 5635, loss_rpn_cls: 0.0325, loss_rpn_bbox: 0.0082, loss_cls: 0.1023, acc: 99.1328, loss_bbox: 0.2102, loss: 0.3531\n",
      "2022-05-26 12:02:54,304 - mmfewshot - INFO - Iter [9150/100000]\tlr: 1.000e-04, eta: 8:19:22, time: 0.265, data_time: 0.012, memory: 5635, loss_rpn_cls: 0.0214, loss_rpn_bbox: 0.0065, loss_cls: 0.1185, acc: 98.9297, loss_bbox: 0.2185, loss: 0.3650\n",
      "2022-05-26 12:03:07,516 - mmfewshot - INFO - Iter [9200/100000]\tlr: 1.000e-04, eta: 8:18:33, time: 0.264, data_time: 0.011, memory: 5635, loss_rpn_cls: 0.0205, loss_rpn_bbox: 0.0055, loss_cls: 0.0987, acc: 99.3281, loss_bbox: 0.1941, loss: 0.3189\n",
      "2022-05-26 12:03:20,718 - mmfewshot - INFO - Iter [9250/100000]\tlr: 1.000e-04, eta: 8:17:45, time: 0.264, data_time: 0.011, memory: 5635, loss_rpn_cls: 0.0322, loss_rpn_bbox: 0.0082, loss_cls: 0.1149, acc: 98.9922, loss_bbox: 0.2301, loss: 0.3853\n",
      "2022-05-26 12:03:33,969 - mmfewshot - INFO - Iter [9300/100000]\tlr: 1.000e-04, eta: 8:16:57, time: 0.265, data_time: 0.011, memory: 5635, loss_rpn_cls: 0.0272, loss_rpn_bbox: 0.0089, loss_cls: 0.1022, acc: 99.1250, loss_bbox: 0.2180, loss: 0.3563\n",
      "2022-05-26 12:03:47,180 - mmfewshot - INFO - Iter [9350/100000]\tlr: 1.000e-04, eta: 8:16:09, time: 0.265, data_time: 0.011, memory: 5635, loss_rpn_cls: 0.0183, loss_rpn_bbox: 0.0061, loss_cls: 0.0982, acc: 99.2891, loss_bbox: 0.1979, loss: 0.3205\n",
      "2022-05-26 12:04:00,455 - mmfewshot - INFO - Iter [9400/100000]\tlr: 1.000e-04, eta: 8:15:23, time: 0.265, data_time: 0.011, memory: 5635, loss_rpn_cls: 0.0291, loss_rpn_bbox: 0.0113, loss_cls: 0.1475, acc: 99.1094, loss_bbox: 0.2154, loss: 0.4033\n",
      "2022-05-26 12:04:13,869 - mmfewshot - INFO - Iter [9450/100000]\tlr: 1.000e-04, eta: 8:14:37, time: 0.268, data_time: 0.012, memory: 5635, loss_rpn_cls: 0.0296, loss_rpn_bbox: 0.0074, loss_cls: 0.1086, acc: 98.8828, loss_bbox: 0.2547, loss: 0.4002\n",
      "2022-05-26 12:04:27,174 - mmfewshot - INFO - Iter [9500/100000]\tlr: 1.000e-04, eta: 8:13:52, time: 0.266, data_time: 0.011, memory: 5635, loss_rpn_cls: 0.0272, loss_rpn_bbox: 0.0091, loss_cls: 0.1145, acc: 99.0938, loss_bbox: 0.2147, loss: 0.3655\n",
      "2022-05-26 12:04:40,437 - mmfewshot - INFO - Iter [9550/100000]\tlr: 1.000e-04, eta: 8:13:06, time: 0.266, data_time: 0.011, memory: 5635, loss_rpn_cls: 0.0275, loss_rpn_bbox: 0.0082, loss_cls: 0.1410, acc: 98.8047, loss_bbox: 0.2216, loss: 0.3982\n",
      "2022-05-26 12:04:54,017 - mmfewshot - INFO - Iter [9600/100000]\tlr: 1.000e-04, eta: 8:12:23, time: 0.272, data_time: 0.012, memory: 5635, loss_rpn_cls: 0.0166, loss_rpn_bbox: 0.0041, loss_cls: 0.1159, acc: 99.1719, loss_bbox: 0.1815, loss: 0.3182\n",
      "2022-05-26 12:05:07,353 - mmfewshot - INFO - Iter [9650/100000]\tlr: 1.000e-04, eta: 8:11:39, time: 0.267, data_time: 0.012, memory: 5635, loss_rpn_cls: 0.0374, loss_rpn_bbox: 0.0106, loss_cls: 0.1246, acc: 99.1641, loss_bbox: 0.2066, loss: 0.3792\n",
      "2022-05-26 12:05:20,615 - mmfewshot - INFO - Iter [9700/100000]\tlr: 1.000e-04, eta: 8:10:54, time: 0.265, data_time: 0.012, memory: 5635, loss_rpn_cls: 0.0246, loss_rpn_bbox: 0.0065, loss_cls: 0.1074, acc: 99.1328, loss_bbox: 0.2063, loss: 0.3448\n",
      "2022-05-26 12:05:33,803 - mmfewshot - INFO - Iter [9750/100000]\tlr: 1.000e-04, eta: 8:10:09, time: 0.264, data_time: 0.011, memory: 5635, loss_rpn_cls: 0.0295, loss_rpn_bbox: 0.0084, loss_cls: 0.1404, acc: 99.1797, loss_bbox: 0.2080, loss: 0.3862\n",
      "2022-05-26 12:05:46,974 - mmfewshot - INFO - Iter [9800/100000]\tlr: 1.000e-04, eta: 8:09:24, time: 0.263, data_time: 0.012, memory: 5635, loss_rpn_cls: 0.0237, loss_rpn_bbox: 0.0083, loss_cls: 0.1204, acc: 99.0859, loss_bbox: 0.2067, loss: 0.3592\n",
      "2022-05-26 12:06:00,427 - mmfewshot - INFO - Iter [9850/100000]\tlr: 1.000e-04, eta: 8:08:42, time: 0.269, data_time: 0.011, memory: 5635, loss_rpn_cls: 0.0321, loss_rpn_bbox: 0.0092, loss_cls: 0.1253, acc: 99.1016, loss_bbox: 0.2023, loss: 0.3689\n",
      "2022-05-26 12:06:13,789 - mmfewshot - INFO - Iter [9900/100000]\tlr: 1.000e-04, eta: 8:07:59, time: 0.267, data_time: 0.012, memory: 5635, loss_rpn_cls: 0.0276, loss_rpn_bbox: 0.0089, loss_cls: 0.1085, acc: 99.2344, loss_bbox: 0.2079, loss: 0.3529\n",
      "2022-05-26 12:06:27,165 - mmfewshot - INFO - Iter [9950/100000]\tlr: 1.000e-04, eta: 8:07:17, time: 0.268, data_time: 0.011, memory: 5635, loss_rpn_cls: 0.0199, loss_rpn_bbox: 0.0054, loss_cls: 0.1223, acc: 99.2969, loss_bbox: 0.1778, loss: 0.3253\n",
      "2022-05-26 12:06:40,409 - mmfewshot - INFO - Saving checkpoint at 10000 iterations\n",
      "2022-05-26 12:06:42,053 - mmfewshot - INFO - Exp name: attention-rpn_r50_c4_tb-split1_1shot-fine-tuning-momentum-09.py\n",
      "2022-05-26 12:06:42,054 - mmfewshot - INFO - Iter [10000/100000]\tlr: 1.000e-04, eta: 8:06:49, time: 0.300, data_time: 0.012, memory: 5635, loss_rpn_cls: 0.0299, loss_rpn_bbox: 0.0089, loss_cls: 0.1181, acc: 99.2109, loss_bbox: 0.1926, loss: 0.3496\n",
      "2022-05-26 12:06:42,059 - mmdet - INFO - starting model initialization...\n"
     ]
    },
    {
     "name": "stdout",
     "output_type": "stream",
     "text": [
      "[>>>>>>>>>>>>>>>>>>>>>>>>>>>>>>] 640/640, 80.6 task/s, elapsed: 8s, ETA:     0s"
     ]
    },
    {
     "name": "stderr",
     "output_type": "stream",
     "text": [
      "2022-05-26 12:06:50,071 - mmdet - INFO - model initialization done.\n"
     ]
    },
    {
     "name": "stdout",
     "output_type": "stream",
     "text": [
      "[>>>>>>>>>>>>>>>>>>>>>>>>>>>>>] 712/712, 12.7 task/s, elapsed: 56s, ETA:     0s\n",
      "---------------iou_thr: 0.5---------------\n"
     ]
    },
    {
     "name": "stderr",
     "output_type": "stream",
     "text": [
      "2022-05-26 12:07:46,486 - mmfewshot - INFO - \n",
      "+----------+-----+------+--------+-------+\n",
      "| class    | gts | dets | recall | ap    |\n",
      "+----------+-----+------+--------+-------+\n",
      "| 7up      | 810 | 4111 | 0.638  | 0.270 |\n",
      "| BudLight | 209 | 931  | 0.431  | 0.141 |\n",
      "+----------+-----+------+--------+-------+\n",
      "| mAP      |     |      |        | 0.206 |\n",
      "+----------+-----+------+--------+-------+\n",
      "2022-05-26 12:07:46,489 - mmfewshot - INFO - BASE_CLASSES_SPLIT1 mAP: 0.20587483048439026\n",
      "2022-05-26 12:07:46,491 - mmfewshot - INFO - NOVEL_CLASSES_SPLIT1 mAP: nan\n",
      "2022-05-26 12:07:46,496 - mmfewshot - INFO - Exp name: attention-rpn_r50_c4_tb-split1_1shot-fine-tuning-momentum-09.py\n",
      "/home/zhaozhiyuan/anaconda3/envs/mmfewshot/lib/python3.7/site-packages/mmdet/core/evaluation/mean_ap.py:203: DeprecationWarning: `np.bool` is a deprecated alias for the builtin `bool`. To silence this warning, use `bool` by itself. Doing this will not modify any behavior and is safe. If you specifically wanted the numpy scalar type, use `np.bool_` here.\n",
      "Deprecated in NumPy 1.20; for more details and guidance: https://numpy.org/devdocs/release/1.20.0-notes.html#deprecations\n",
      "  (np.zeros(gt_bboxes.shape[0], dtype=np.bool),\n",
      "2022-05-26 12:07:46,498 - mmfewshot - INFO - Iter(val) [712]\tAP50: 0.2060, BASE_CLASSES_SPLIT1: AP50: 0.2060, NOVEL_CLASSES_SPLIT1: AP50: nan, mAP: 0.2059\n",
      "2022-05-26 12:07:59,912 - mmfewshot - INFO - Iter [10050/100000]\tlr: 1.000e-04, eta: 8:15:44, time: 1.555, data_time: 1.299, memory: 5635, loss_rpn_cls: 0.0290, loss_rpn_bbox: 0.0093, loss_cls: 0.0757, acc: 99.2734, loss_bbox: 0.2436, loss: 0.3576\n",
      "2022-05-26 12:08:13,214 - mmfewshot - INFO - Iter [10100/100000]\tlr: 1.000e-04, eta: 8:14:58, time: 0.266, data_time: 0.011, memory: 5635, loss_rpn_cls: 0.0170, loss_rpn_bbox: 0.0045, loss_cls: 0.1164, acc: 99.1094, loss_bbox: 0.1966, loss: 0.3346\n",
      "2022-05-26 12:08:26,423 - mmfewshot - INFO - Iter [10150/100000]\tlr: 1.000e-04, eta: 8:14:13, time: 0.264, data_time: 0.011, memory: 5635, loss_rpn_cls: 0.0296, loss_rpn_bbox: 0.0077, loss_cls: 0.1183, acc: 99.0469, loss_bbox: 0.2005, loss: 0.3561\n",
      "2022-05-26 12:08:39,882 - mmfewshot - INFO - Iter [10200/100000]\tlr: 1.000e-04, eta: 8:13:29, time: 0.269, data_time: 0.012, memory: 5635, loss_rpn_cls: 0.0318, loss_rpn_bbox: 0.0095, loss_cls: 0.1018, acc: 99.0078, loss_bbox: 0.2372, loss: 0.3802\n",
      "2022-05-26 12:08:53,063 - mmfewshot - INFO - Iter [10250/100000]\tlr: 1.000e-04, eta: 8:12:44, time: 0.264, data_time: 0.012, memory: 5635, loss_rpn_cls: 0.0212, loss_rpn_bbox: 0.0061, loss_cls: 0.0847, acc: 99.3125, loss_bbox: 0.2103, loss: 0.3224\n",
      "2022-05-26 12:09:06,212 - mmfewshot - INFO - Iter [10300/100000]\tlr: 1.000e-04, eta: 8:11:59, time: 0.263, data_time: 0.011, memory: 5635, loss_rpn_cls: 0.0188, loss_rpn_bbox: 0.0066, loss_cls: 0.0853, acc: 99.2031, loss_bbox: 0.2345, loss: 0.3453\n",
      "2022-05-26 12:09:19,382 - mmfewshot - INFO - Iter [10350/100000]\tlr: 1.000e-04, eta: 8:11:14, time: 0.263, data_time: 0.011, memory: 5635, loss_rpn_cls: 0.0228, loss_rpn_bbox: 0.0060, loss_cls: 0.0829, acc: 99.2266, loss_bbox: 0.2206, loss: 0.3323\n",
      "2022-05-26 12:09:32,514 - mmfewshot - INFO - Iter [10400/100000]\tlr: 1.000e-04, eta: 8:10:29, time: 0.263, data_time: 0.011, memory: 5635, loss_rpn_cls: 0.0189, loss_rpn_bbox: 0.0056, loss_cls: 0.1094, acc: 99.1250, loss_bbox: 0.1848, loss: 0.3186\n",
      "2022-05-26 12:09:45,983 - mmfewshot - INFO - Iter [10450/100000]\tlr: 1.000e-04, eta: 8:09:47, time: 0.269, data_time: 0.011, memory: 5635, loss_rpn_cls: 0.0301, loss_rpn_bbox: 0.0084, loss_cls: 0.0938, acc: 99.2891, loss_bbox: 0.2224, loss: 0.3547\n",
      "2022-05-26 12:09:59,396 - mmfewshot - INFO - Iter [10500/100000]\tlr: 1.000e-04, eta: 8:09:05, time: 0.268, data_time: 0.013, memory: 5635, loss_rpn_cls: 0.0353, loss_rpn_bbox: 0.0106, loss_cls: 0.1068, acc: 99.0312, loss_bbox: 0.2291, loss: 0.3818\n",
      "2022-05-26 12:10:12,689 - mmfewshot - INFO - Iter [10550/100000]\tlr: 1.000e-04, eta: 8:08:22, time: 0.266, data_time: 0.011, memory: 5635, loss_rpn_cls: 0.0325, loss_rpn_bbox: 0.0109, loss_cls: 0.1372, acc: 98.9766, loss_bbox: 0.2498, loss: 0.4304\n",
      "2022-05-26 12:10:26,153 - mmfewshot - INFO - Iter [10600/100000]\tlr: 1.000e-04, eta: 8:07:41, time: 0.269, data_time: 0.012, memory: 5635, loss_rpn_cls: 0.0237, loss_rpn_bbox: 0.0073, loss_cls: 0.1305, acc: 98.8906, loss_bbox: 0.2049, loss: 0.3665\n",
      "2022-05-26 12:10:39,331 - mmfewshot - INFO - Iter [10650/100000]\tlr: 1.000e-04, eta: 8:06:58, time: 0.264, data_time: 0.010, memory: 5635, loss_rpn_cls: 0.0264, loss_rpn_bbox: 0.0072, loss_cls: 0.0904, acc: 99.1250, loss_bbox: 0.2457, loss: 0.3697\n",
      "2022-05-26 12:10:52,535 - mmfewshot - INFO - Iter [10700/100000]\tlr: 1.000e-04, eta: 8:06:16, time: 0.264, data_time: 0.011, memory: 5635, loss_rpn_cls: 0.0189, loss_rpn_bbox: 0.0055, loss_cls: 0.0975, acc: 99.4141, loss_bbox: 0.1788, loss: 0.3009\n",
      "2022-05-26 12:11:05,893 - mmfewshot - INFO - Iter [10750/100000]\tlr: 1.000e-04, eta: 8:05:35, time: 0.267, data_time: 0.011, memory: 5635, loss_rpn_cls: 0.0253, loss_rpn_bbox: 0.0073, loss_cls: 0.1053, acc: 99.2031, loss_bbox: 0.2001, loss: 0.3379\n",
      "2022-05-26 12:11:19,225 - mmfewshot - INFO - Iter [10800/100000]\tlr: 1.000e-04, eta: 8:04:54, time: 0.267, data_time: 0.012, memory: 5635, loss_rpn_cls: 0.0234, loss_rpn_bbox: 0.0061, loss_cls: 0.0944, acc: 99.2656, loss_bbox: 0.2221, loss: 0.3460\n",
      "2022-05-26 12:11:32,604 - mmfewshot - INFO - Iter [10850/100000]\tlr: 1.000e-04, eta: 8:04:13, time: 0.267, data_time: 0.013, memory: 5635, loss_rpn_cls: 0.0240, loss_rpn_bbox: 0.0082, loss_cls: 0.0952, acc: 99.1016, loss_bbox: 0.2293, loss: 0.3566\n",
      "2022-05-26 12:11:45,931 - mmfewshot - INFO - Iter [10900/100000]\tlr: 1.000e-04, eta: 8:03:33, time: 0.267, data_time: 0.011, memory: 5635, loss_rpn_cls: 0.0255, loss_rpn_bbox: 0.0077, loss_cls: 0.0800, acc: 99.2109, loss_bbox: 0.2155, loss: 0.3286\n",
      "2022-05-26 12:11:59,276 - mmfewshot - INFO - Iter [10950/100000]\tlr: 1.000e-04, eta: 8:02:52, time: 0.267, data_time: 0.012, memory: 5635, loss_rpn_cls: 0.0266, loss_rpn_bbox: 0.0075, loss_cls: 0.1070, acc: 99.3438, loss_bbox: 0.1920, loss: 0.3331\n",
      "2022-05-26 12:12:12,602 - mmfewshot - INFO - Exp name: attention-rpn_r50_c4_tb-split1_1shot-fine-tuning-momentum-09.py\n",
      "2022-05-26 12:12:12,603 - mmfewshot - INFO - Iter [11000/100000]\tlr: 1.000e-04, eta: 8:02:12, time: 0.267, data_time: 0.012, memory: 5635, loss_rpn_cls: 0.0257, loss_rpn_bbox: 0.0078, loss_cls: 0.0916, acc: 99.2188, loss_bbox: 0.2396, loss: 0.3647\n",
      "2022-05-26 12:12:12,608 - mmdet - INFO - starting model initialization...\n"
     ]
    },
    {
     "name": "stdout",
     "output_type": "stream",
     "text": [
      "[>>>>>>>>>>>>>>>>>>>>>>>>>>>>>>] 640/640, 80.0 task/s, elapsed: 8s, ETA:     0s"
     ]
    },
    {
     "name": "stderr",
     "output_type": "stream",
     "text": [
      "2022-05-26 12:12:20,686 - mmdet - INFO - model initialization done.\n"
     ]
    },
    {
     "name": "stdout",
     "output_type": "stream",
     "text": [
      "[>>>>>>>>>>>>>>>>>>>>>>>>>>>>>] 712/712, 12.6 task/s, elapsed: 56s, ETA:     0s\n",
      "---------------iou_thr: 0.5---------------\n"
     ]
    },
    {
     "name": "stderr",
     "output_type": "stream",
     "text": [
      "2022-05-26 12:13:17,456 - mmfewshot - INFO - \n",
      "+----------+-----+------+--------+-------+\n",
      "| class    | gts | dets | recall | ap    |\n",
      "+----------+-----+------+--------+-------+\n",
      "| 7up      | 810 | 3347 | 0.615  | 0.265 |\n",
      "| BudLight | 209 | 832  | 0.402  | 0.149 |\n",
      "+----------+-----+------+--------+-------+\n",
      "| mAP      |     |      |        | 0.207 |\n",
      "+----------+-----+------+--------+-------+\n",
      "2022-05-26 12:13:17,459 - mmfewshot - INFO - BASE_CLASSES_SPLIT1 mAP: 0.20706570148468018\n",
      "2022-05-26 12:13:17,460 - mmfewshot - INFO - NOVEL_CLASSES_SPLIT1 mAP: nan\n",
      "2022-05-26 12:13:17,465 - mmfewshot - INFO - Exp name: attention-rpn_r50_c4_tb-split1_1shot-fine-tuning-momentum-09.py\n",
      "2022-05-26 12:13:17,466 - mmfewshot - INFO - Iter(val) [712]\tAP50: 0.2070, BASE_CLASSES_SPLIT1: AP50: 0.2070, NOVEL_CLASSES_SPLIT1: AP50: nan, mAP: 0.2071\n",
      "2022-05-26 12:13:30,788 - mmfewshot - INFO - Iter [11050/100000]\tlr: 1.000e-04, eta: 8:10:15, time: 1.563, data_time: 1.308, memory: 5635, loss_rpn_cls: 0.0261, loss_rpn_bbox: 0.0066, loss_cls: 0.1008, acc: 99.1719, loss_bbox: 0.1947, loss: 0.3283\n",
      "2022-05-26 12:13:44,083 - mmfewshot - INFO - Iter [11100/100000]\tlr: 1.000e-04, eta: 8:09:32, time: 0.266, data_time: 0.012, memory: 5635, loss_rpn_cls: 0.0196, loss_rpn_bbox: 0.0061, loss_cls: 0.0674, acc: 99.4922, loss_bbox: 0.2416, loss: 0.3348\n",
      "2022-05-26 12:13:57,618 - mmfewshot - INFO - Iter [11150/100000]\tlr: 1.000e-04, eta: 8:08:52, time: 0.271, data_time: 0.012, memory: 5635, loss_rpn_cls: 0.0227, loss_rpn_bbox: 0.0074, loss_cls: 0.0986, acc: 99.3125, loss_bbox: 0.2260, loss: 0.3546\n",
      "2022-05-26 12:14:10,877 - mmfewshot - INFO - Iter [11200/100000]\tlr: 1.000e-04, eta: 8:08:10, time: 0.265, data_time: 0.011, memory: 5635, loss_rpn_cls: 0.0240, loss_rpn_bbox: 0.0066, loss_cls: 0.1333, acc: 99.1094, loss_bbox: 0.1933, loss: 0.3571\n",
      "2022-05-26 12:14:24,015 - mmfewshot - INFO - Iter [11250/100000]\tlr: 1.000e-04, eta: 8:07:27, time: 0.262, data_time: 0.010, memory: 5635, loss_rpn_cls: 0.0221, loss_rpn_bbox: 0.0079, loss_cls: 0.1155, acc: 99.2344, loss_bbox: 0.2388, loss: 0.3843\n",
      "2022-05-26 12:14:37,150 - mmfewshot - INFO - Iter [11300/100000]\tlr: 1.000e-04, eta: 8:06:44, time: 0.263, data_time: 0.011, memory: 5635, loss_rpn_cls: 0.0269, loss_rpn_bbox: 0.0102, loss_cls: 0.0965, acc: 99.3672, loss_bbox: 0.2124, loss: 0.3459\n",
      "2022-05-26 12:14:50,653 - mmfewshot - INFO - Iter [11350/100000]\tlr: 1.000e-04, eta: 8:06:04, time: 0.270, data_time: 0.012, memory: 5635, loss_rpn_cls: 0.0176, loss_rpn_bbox: 0.0065, loss_cls: 0.1257, acc: 99.1406, loss_bbox: 0.2124, loss: 0.3622\n",
      "2022-05-26 12:15:03,945 - mmfewshot - INFO - Iter [11400/100000]\tlr: 1.000e-04, eta: 8:05:23, time: 0.266, data_time: 0.012, memory: 5635, loss_rpn_cls: 0.0323, loss_rpn_bbox: 0.0082, loss_cls: 0.0940, acc: 99.2031, loss_bbox: 0.2056, loss: 0.3401\n",
      "2022-05-26 12:15:17,178 - mmfewshot - INFO - Iter [11450/100000]\tlr: 1.000e-04, eta: 8:04:42, time: 0.264, data_time: 0.011, memory: 5635, loss_rpn_cls: 0.0204, loss_rpn_bbox: 0.0075, loss_cls: 0.0909, acc: 99.2969, loss_bbox: 0.2328, loss: 0.3516\n",
      "2022-05-26 12:15:30,388 - mmfewshot - INFO - Iter [11500/100000]\tlr: 1.000e-04, eta: 8:04:01, time: 0.264, data_time: 0.010, memory: 5635, loss_rpn_cls: 0.0277, loss_rpn_bbox: 0.0106, loss_cls: 0.1230, acc: 99.0625, loss_bbox: 0.2253, loss: 0.3866\n",
      "2022-05-26 12:15:43,607 - mmfewshot - INFO - Iter [11550/100000]\tlr: 1.000e-04, eta: 8:03:20, time: 0.264, data_time: 0.012, memory: 5635, loss_rpn_cls: 0.0249, loss_rpn_bbox: 0.0075, loss_cls: 0.0924, acc: 99.1797, loss_bbox: 0.2042, loss: 0.3291\n",
      "2022-05-26 12:15:57,012 - mmfewshot - INFO - Iter [11600/100000]\tlr: 1.000e-04, eta: 8:02:41, time: 0.268, data_time: 0.012, memory: 5635, loss_rpn_cls: 0.0297, loss_rpn_bbox: 0.0082, loss_cls: 0.0824, acc: 99.1719, loss_bbox: 0.2296, loss: 0.3499\n",
      "2022-05-26 12:16:10,372 - mmfewshot - INFO - Iter [11650/100000]\tlr: 1.000e-04, eta: 8:02:02, time: 0.267, data_time: 0.012, memory: 5635, loss_rpn_cls: 0.0222, loss_rpn_bbox: 0.0071, loss_cls: 0.0913, acc: 99.2734, loss_bbox: 0.2188, loss: 0.3393\n",
      "2022-05-26 12:16:23,750 - mmfewshot - INFO - Iter [11700/100000]\tlr: 1.000e-04, eta: 8:01:23, time: 0.268, data_time: 0.012, memory: 5635, loss_rpn_cls: 0.0152, loss_rpn_bbox: 0.0050, loss_cls: 0.1066, acc: 99.1562, loss_bbox: 0.2304, loss: 0.3573\n",
      "2022-05-26 12:16:36,919 - mmfewshot - INFO - Iter [11750/100000]\tlr: 1.000e-04, eta: 8:00:42, time: 0.263, data_time: 0.011, memory: 5635, loss_rpn_cls: 0.0210, loss_rpn_bbox: 0.0070, loss_cls: 0.1051, acc: 99.2656, loss_bbox: 0.2359, loss: 0.3690\n",
      "2022-05-26 12:16:50,156 - mmfewshot - INFO - Iter [11800/100000]\tlr: 1.000e-04, eta: 8:00:03, time: 0.265, data_time: 0.011, memory: 5635, loss_rpn_cls: 0.0205, loss_rpn_bbox: 0.0088, loss_cls: 0.1325, acc: 99.1953, loss_bbox: 0.2140, loss: 0.3758\n",
      "2022-05-26 12:17:03,528 - mmfewshot - INFO - Iter [11850/100000]\tlr: 1.000e-04, eta: 7:59:25, time: 0.267, data_time: 0.011, memory: 5635, loss_rpn_cls: 0.0182, loss_rpn_bbox: 0.0076, loss_cls: 0.1074, acc: 99.2031, loss_bbox: 0.2031, loss: 0.3363\n",
      "2022-05-26 12:17:16,909 - mmfewshot - INFO - Iter [11900/100000]\tlr: 1.000e-04, eta: 7:58:46, time: 0.268, data_time: 0.012, memory: 5635, loss_rpn_cls: 0.0276, loss_rpn_bbox: 0.0081, loss_cls: 0.0971, acc: 99.2500, loss_bbox: 0.2709, loss: 0.4037\n",
      "2022-05-26 12:17:30,311 - mmfewshot - INFO - Iter [11950/100000]\tlr: 1.000e-04, eta: 7:58:09, time: 0.268, data_time: 0.013, memory: 5635, loss_rpn_cls: 0.0279, loss_rpn_bbox: 0.0073, loss_cls: 0.1105, acc: 99.2109, loss_bbox: 0.1738, loss: 0.3195\n",
      "2022-05-26 12:17:43,599 - mmfewshot - INFO - Exp name: attention-rpn_r50_c4_tb-split1_1shot-fine-tuning-momentum-09.py\n",
      "2022-05-26 12:17:43,601 - mmfewshot - INFO - Iter [12000/100000]\tlr: 1.000e-04, eta: 7:57:30, time: 0.266, data_time: 0.011, memory: 5635, loss_rpn_cls: 0.0232, loss_rpn_bbox: 0.0065, loss_cls: 0.0915, acc: 99.1562, loss_bbox: 0.2310, loss: 0.3523\n",
      "2022-05-26 12:17:43,606 - mmdet - INFO - starting model initialization...\n"
     ]
    },
    {
     "name": "stdout",
     "output_type": "stream",
     "text": [
      "[>>>>>>>>>>>>>>>>>>>>>>>>>>>>>>] 640/640, 81.1 task/s, elapsed: 8s, ETA:     0s"
     ]
    },
    {
     "name": "stderr",
     "output_type": "stream",
     "text": [
      "2022-05-26 12:17:51,571 - mmdet - INFO - model initialization done.\n"
     ]
    },
    {
     "name": "stdout",
     "output_type": "stream",
     "text": [
      "[>>>>>>>>>>>>>>>>>>>>>>>>>>>>>] 712/712, 12.6 task/s, elapsed: 57s, ETA:     0s\n",
      "---------------iou_thr: 0.5---------------\n"
     ]
    },
    {
     "name": "stderr",
     "output_type": "stream",
     "text": [
      "2022-05-26 12:18:48,562 - mmfewshot - INFO - \n",
      "+----------+-----+------+--------+-------+\n",
      "| class    | gts | dets | recall | ap    |\n",
      "+----------+-----+------+--------+-------+\n",
      "| 7up      | 810 | 6893 | 0.717  | 0.263 |\n",
      "| BudLight | 209 | 1484 | 0.498  | 0.194 |\n",
      "+----------+-----+------+--------+-------+\n",
      "| mAP      |     |      |        | 0.228 |\n",
      "+----------+-----+------+--------+-------+\n",
      "2022-05-26 12:18:48,564 - mmfewshot - INFO - BASE_CLASSES_SPLIT1 mAP: 0.22842605412006378\n",
      "2022-05-26 12:18:48,565 - mmfewshot - INFO - NOVEL_CLASSES_SPLIT1 mAP: nan\n",
      "2022-05-26 12:18:48,572 - mmfewshot - INFO - Exp name: attention-rpn_r50_c4_tb-split1_1shot-fine-tuning-momentum-09.py\n",
      "2022-05-26 12:18:48,574 - mmfewshot - INFO - Iter(val) [712]\tAP50: 0.2280, BASE_CLASSES_SPLIT1: AP50: 0.2280, NOVEL_CLASSES_SPLIT1: AP50: nan, mAP: 0.2284\n",
      "2022-05-26 12:19:01,848 - mmfewshot - INFO - Iter [12050/100000]\tlr: 1.000e-04, eta: 8:04:46, time: 1.565, data_time: 1.310, memory: 5635, loss_rpn_cls: 0.0356, loss_rpn_bbox: 0.0080, loss_cls: 0.0789, acc: 99.3828, loss_bbox: 0.2221, loss: 0.3447\n",
      "2022-05-26 12:19:14,994 - mmfewshot - INFO - Iter [12100/100000]\tlr: 1.000e-04, eta: 8:04:05, time: 0.263, data_time: 0.011, memory: 5635, loss_rpn_cls: 0.0223, loss_rpn_bbox: 0.0071, loss_cls: 0.0791, acc: 99.2891, loss_bbox: 0.2185, loss: 0.3270\n",
      "2022-05-26 12:19:28,291 - mmfewshot - INFO - Iter [12150/100000]\tlr: 1.000e-04, eta: 8:03:26, time: 0.266, data_time: 0.012, memory: 5635, loss_rpn_cls: 0.0305, loss_rpn_bbox: 0.0092, loss_cls: 0.0838, acc: 99.3438, loss_bbox: 0.2321, loss: 0.3556\n",
      "2022-05-26 12:19:41,624 - mmfewshot - INFO - Iter [12200/100000]\tlr: 1.000e-04, eta: 8:02:46, time: 0.267, data_time: 0.011, memory: 5635, loss_rpn_cls: 0.0227, loss_rpn_bbox: 0.0056, loss_cls: 0.0689, acc: 99.4375, loss_bbox: 0.2012, loss: 0.2985\n",
      "2022-05-26 12:19:55,142 - mmfewshot - INFO - Iter [12250/100000]\tlr: 1.000e-04, eta: 8:02:08, time: 0.270, data_time: 0.012, memory: 5635, loss_rpn_cls: 0.0199, loss_rpn_bbox: 0.0059, loss_cls: 0.0816, acc: 99.4375, loss_bbox: 0.1971, loss: 0.3045\n",
      "2022-05-26 12:20:08,450 - mmfewshot - INFO - Iter [12300/100000]\tlr: 1.000e-04, eta: 8:01:29, time: 0.266, data_time: 0.011, memory: 5635, loss_rpn_cls: 0.0344, loss_rpn_bbox: 0.0144, loss_cls: 0.0973, acc: 99.0781, loss_bbox: 0.2657, loss: 0.4117\n",
      "2022-05-26 12:20:21,701 - mmfewshot - INFO - Iter [12350/100000]\tlr: 1.000e-04, eta: 8:00:50, time: 0.265, data_time: 0.011, memory: 5635, loss_rpn_cls: 0.0200, loss_rpn_bbox: 0.0069, loss_cls: 0.1149, acc: 99.4609, loss_bbox: 0.2192, loss: 0.3610\n",
      "2022-05-26 12:20:34,987 - mmfewshot - INFO - Iter [12400/100000]\tlr: 1.000e-04, eta: 8:00:11, time: 0.266, data_time: 0.011, memory: 5635, loss_rpn_cls: 0.0156, loss_rpn_bbox: 0.0054, loss_cls: 0.0821, acc: 99.2812, loss_bbox: 0.2223, loss: 0.3254\n",
      "2022-05-26 12:20:48,382 - mmfewshot - INFO - Iter [12450/100000]\tlr: 1.000e-04, eta: 7:59:33, time: 0.268, data_time: 0.012, memory: 5635, loss_rpn_cls: 0.0212, loss_rpn_bbox: 0.0068, loss_cls: 0.1169, acc: 99.0859, loss_bbox: 0.2390, loss: 0.3838\n",
      "2022-05-26 12:21:01,753 - mmfewshot - INFO - Iter [12500/100000]\tlr: 1.000e-04, eta: 7:58:55, time: 0.267, data_time: 0.012, memory: 5635, loss_rpn_cls: 0.0249, loss_rpn_bbox: 0.0079, loss_cls: 0.0978, acc: 99.1562, loss_bbox: 0.2437, loss: 0.3744\n",
      "2022-05-26 12:21:15,056 - mmfewshot - INFO - Iter [12550/100000]\tlr: 1.000e-04, eta: 7:58:17, time: 0.266, data_time: 0.011, memory: 5635, loss_rpn_cls: 0.0183, loss_rpn_bbox: 0.0056, loss_cls: 0.0751, acc: 99.3672, loss_bbox: 0.2019, loss: 0.3008\n",
      "2022-05-26 12:21:28,438 - mmfewshot - INFO - Iter [12600/100000]\tlr: 1.000e-04, eta: 7:57:40, time: 0.267, data_time: 0.012, memory: 5635, loss_rpn_cls: 0.0214, loss_rpn_bbox: 0.0066, loss_cls: 0.0743, acc: 99.3906, loss_bbox: 0.2369, loss: 0.3392\n",
      "2022-05-26 12:21:41,701 - mmfewshot - INFO - Iter [12650/100000]\tlr: 1.000e-04, eta: 7:57:02, time: 0.265, data_time: 0.012, memory: 5635, loss_rpn_cls: 0.0176, loss_rpn_bbox: 0.0093, loss_cls: 0.1139, acc: 99.1641, loss_bbox: 0.2180, loss: 0.3587\n",
      "2022-05-26 12:21:55,008 - mmfewshot - INFO - Iter [12700/100000]\tlr: 1.000e-04, eta: 7:56:24, time: 0.266, data_time: 0.012, memory: 5635, loss_rpn_cls: 0.0246, loss_rpn_bbox: 0.0069, loss_cls: 0.0721, acc: 99.4609, loss_bbox: 0.2082, loss: 0.3118\n",
      "2022-05-26 12:22:08,256 - mmfewshot - INFO - Iter [12750/100000]\tlr: 1.000e-04, eta: 7:55:46, time: 0.265, data_time: 0.012, memory: 5635, loss_rpn_cls: 0.0166, loss_rpn_bbox: 0.0051, loss_cls: 0.0816, acc: 99.4375, loss_bbox: 0.1919, loss: 0.2952\n",
      "2022-05-26 12:22:21,546 - mmfewshot - INFO - Iter [12800/100000]\tlr: 1.000e-04, eta: 7:55:09, time: 0.266, data_time: 0.011, memory: 5635, loss_rpn_cls: 0.0168, loss_rpn_bbox: 0.0056, loss_cls: 0.0763, acc: 99.2734, loss_bbox: 0.2520, loss: 0.3508\n",
      "2022-05-26 12:22:35,033 - mmfewshot - INFO - Iter [12850/100000]\tlr: 1.000e-04, eta: 7:54:33, time: 0.270, data_time: 0.013, memory: 5635, loss_rpn_cls: 0.0249, loss_rpn_bbox: 0.0075, loss_cls: 0.0877, acc: 99.1016, loss_bbox: 0.2550, loss: 0.3751\n",
      "2022-05-26 12:22:48,227 - mmfewshot - INFO - Iter [12900/100000]\tlr: 1.000e-04, eta: 7:53:56, time: 0.264, data_time: 0.010, memory: 5635, loss_rpn_cls: 0.0181, loss_rpn_bbox: 0.0054, loss_cls: 0.1015, acc: 99.2812, loss_bbox: 0.2203, loss: 0.3453\n",
      "2022-05-26 12:23:01,692 - mmfewshot - INFO - Iter [12950/100000]\tlr: 1.000e-04, eta: 7:53:20, time: 0.269, data_time: 0.011, memory: 5635, loss_rpn_cls: 0.0211, loss_rpn_bbox: 0.0061, loss_cls: 0.0922, acc: 99.3281, loss_bbox: 0.1922, loss: 0.3117\n",
      "2022-05-26 12:23:15,208 - mmfewshot - INFO - Exp name: attention-rpn_r50_c4_tb-split1_1shot-fine-tuning-momentum-09.py\n",
      "2022-05-26 12:23:15,210 - mmfewshot - INFO - Iter [13000/100000]\tlr: 1.000e-04, eta: 7:52:45, time: 0.270, data_time: 0.012, memory: 5635, loss_rpn_cls: 0.0214, loss_rpn_bbox: 0.0087, loss_cls: 0.0873, acc: 99.2031, loss_bbox: 0.2358, loss: 0.3532\n",
      "2022-05-26 12:23:15,215 - mmdet - INFO - starting model initialization...\n"
     ]
    },
    {
     "name": "stdout",
     "output_type": "stream",
     "text": [
      "[>>>>>>>>>>>>>>>>>>>>>>>>>>>>>>] 640/640, 73.6 task/s, elapsed: 9s, ETA:     0s"
     ]
    },
    {
     "name": "stderr",
     "output_type": "stream",
     "text": [
      "2022-05-26 12:23:23,976 - mmdet - INFO - model initialization done.\n"
     ]
    },
    {
     "name": "stdout",
     "output_type": "stream",
     "text": [
      "[>>>>>>>>>>>>>>>>>>>>>>>>>>>>>] 712/712, 12.7 task/s, elapsed: 56s, ETA:     0s\n",
      "---------------iou_thr: 0.5---------------\n"
     ]
    },
    {
     "name": "stderr",
     "output_type": "stream",
     "text": [
      "2022-05-26 12:24:20,471 - mmfewshot - INFO - \n",
      "+----------+-----+------+--------+-------+\n",
      "| class    | gts | dets | recall | ap    |\n",
      "+----------+-----+------+--------+-------+\n",
      "| 7up      | 810 | 4618 | 0.648  | 0.241 |\n",
      "| BudLight | 209 | 1468 | 0.517  | 0.140 |\n",
      "+----------+-----+------+--------+-------+\n",
      "| mAP      |     |      |        | 0.191 |\n",
      "+----------+-----+------+--------+-------+\n",
      "2022-05-26 12:24:20,473 - mmfewshot - INFO - BASE_CLASSES_SPLIT1 mAP: 0.19057905673980713\n",
      "2022-05-26 12:24:20,474 - mmfewshot - INFO - NOVEL_CLASSES_SPLIT1 mAP: nan\n",
      "2022-05-26 12:24:20,479 - mmfewshot - INFO - Exp name: attention-rpn_r50_c4_tb-split1_1shot-fine-tuning-momentum-09.py\n",
      "2022-05-26 12:24:20,480 - mmfewshot - INFO - Iter(val) [712]\tAP50: 0.1910, BASE_CLASSES_SPLIT1: AP50: 0.1910, NOVEL_CLASSES_SPLIT1: AP50: nan, mAP: 0.1906\n",
      "2022-05-26 12:24:33,832 - mmfewshot - INFO - Iter [13050/100000]\tlr: 1.000e-04, eta: 7:59:24, time: 1.573, data_time: 1.317, memory: 5635, loss_rpn_cls: 0.0233, loss_rpn_bbox: 0.0078, loss_cls: 0.0958, acc: 99.1484, loss_bbox: 0.2543, loss: 0.3812\n",
      "2022-05-26 12:24:47,292 - mmfewshot - INFO - Iter [13100/100000]\tlr: 1.000e-04, eta: 7:58:47, time: 0.269, data_time: 0.012, memory: 5635, loss_rpn_cls: 0.0232, loss_rpn_bbox: 0.0070, loss_cls: 0.0712, acc: 99.4766, loss_bbox: 0.2152, loss: 0.3168\n",
      "2022-05-26 12:25:00,829 - mmfewshot - INFO - Iter [13150/100000]\tlr: 1.000e-04, eta: 7:58:11, time: 0.271, data_time: 0.013, memory: 5635, loss_rpn_cls: 0.0210, loss_rpn_bbox: 0.0082, loss_cls: 0.0916, acc: 99.3281, loss_bbox: 0.2457, loss: 0.3665\n",
      "2022-05-26 12:25:14,143 - mmfewshot - INFO - Iter [13200/100000]\tlr: 1.000e-04, eta: 7:57:33, time: 0.266, data_time: 0.011, memory: 5635, loss_rpn_cls: 0.0221, loss_rpn_bbox: 0.0067, loss_cls: 0.0868, acc: 99.3750, loss_bbox: 0.2290, loss: 0.3447\n",
      "2022-05-26 12:25:27,258 - mmfewshot - INFO - Iter [13250/100000]\tlr: 1.000e-04, eta: 7:56:55, time: 0.262, data_time: 0.011, memory: 5635, loss_rpn_cls: 0.0251, loss_rpn_bbox: 0.0076, loss_cls: 0.0894, acc: 99.3516, loss_bbox: 0.2048, loss: 0.3269\n",
      "2022-05-26 12:25:40,524 - mmfewshot - INFO - Iter [13300/100000]\tlr: 1.000e-04, eta: 7:56:17, time: 0.265, data_time: 0.011, memory: 5635, loss_rpn_cls: 0.0174, loss_rpn_bbox: 0.0057, loss_cls: 0.0810, acc: 99.3906, loss_bbox: 0.2129, loss: 0.3170\n",
      "2022-05-26 12:25:53,882 - mmfewshot - INFO - Iter [13350/100000]\tlr: 1.000e-04, eta: 7:55:40, time: 0.267, data_time: 0.011, memory: 5635, loss_rpn_cls: 0.0237, loss_rpn_bbox: 0.0086, loss_cls: 0.0746, acc: 99.3125, loss_bbox: 0.2204, loss: 0.3273\n",
      "2022-05-26 12:26:07,081 - mmfewshot - INFO - Iter [13400/100000]\tlr: 1.000e-04, eta: 7:55:03, time: 0.264, data_time: 0.010, memory: 5635, loss_rpn_cls: 0.0238, loss_rpn_bbox: 0.0109, loss_cls: 0.0874, acc: 99.2188, loss_bbox: 0.2394, loss: 0.3615\n",
      "2022-05-26 12:26:20,382 - mmfewshot - INFO - Iter [13450/100000]\tlr: 1.000e-04, eta: 7:54:26, time: 0.266, data_time: 0.011, memory: 5635, loss_rpn_cls: 0.0186, loss_rpn_bbox: 0.0070, loss_cls: 0.0782, acc: 99.3359, loss_bbox: 0.2058, loss: 0.3096\n",
      "2022-05-26 12:26:33,625 - mmfewshot - INFO - Iter [13500/100000]\tlr: 1.000e-04, eta: 7:53:49, time: 0.265, data_time: 0.011, memory: 5635, loss_rpn_cls: 0.0199, loss_rpn_bbox: 0.0056, loss_cls: 0.0882, acc: 99.4141, loss_bbox: 0.2356, loss: 0.3492\n",
      "2022-05-26 12:26:46,837 - mmfewshot - INFO - Iter [13550/100000]\tlr: 1.000e-04, eta: 7:53:12, time: 0.264, data_time: 0.011, memory: 5635, loss_rpn_cls: 0.0231, loss_rpn_bbox: 0.0064, loss_cls: 0.1226, acc: 99.2422, loss_bbox: 0.2374, loss: 0.3895\n",
      "2022-05-26 12:27:00,448 - mmfewshot - INFO - Iter [13600/100000]\tlr: 1.000e-04, eta: 7:52:38, time: 0.272, data_time: 0.012, memory: 5635, loss_rpn_cls: 0.0181, loss_rpn_bbox: 0.0062, loss_cls: 0.0822, acc: 99.3516, loss_bbox: 0.2218, loss: 0.3283\n",
      "2022-05-26 12:27:13,816 - mmfewshot - INFO - Iter [13650/100000]\tlr: 1.000e-04, eta: 7:52:02, time: 0.267, data_time: 0.011, memory: 5635, loss_rpn_cls: 0.0297, loss_rpn_bbox: 0.0079, loss_cls: 0.0885, acc: 99.2266, loss_bbox: 0.2413, loss: 0.3675\n",
      "2022-05-26 12:27:27,212 - mmfewshot - INFO - Iter [13700/100000]\tlr: 1.000e-04, eta: 7:51:27, time: 0.268, data_time: 0.012, memory: 5635, loss_rpn_cls: 0.0223, loss_rpn_bbox: 0.0079, loss_cls: 0.0789, acc: 99.4141, loss_bbox: 0.2304, loss: 0.3395\n",
      "2022-05-26 12:27:40,541 - mmfewshot - INFO - Iter [13750/100000]\tlr: 1.000e-04, eta: 7:50:51, time: 0.266, data_time: 0.012, memory: 5635, loss_rpn_cls: 0.0164, loss_rpn_bbox: 0.0072, loss_cls: 0.0950, acc: 99.3359, loss_bbox: 0.1964, loss: 0.3150\n",
      "2022-05-26 12:27:53,780 - mmfewshot - INFO - Iter [13800/100000]\tlr: 1.000e-04, eta: 7:50:15, time: 0.265, data_time: 0.011, memory: 5635, loss_rpn_cls: 0.0177, loss_rpn_bbox: 0.0057, loss_cls: 0.0706, acc: 99.4297, loss_bbox: 0.2199, loss: 0.3139\n",
      "2022-05-26 12:28:07,110 - mmfewshot - INFO - Iter [13850/100000]\tlr: 1.000e-04, eta: 7:49:40, time: 0.266, data_time: 0.012, memory: 5635, loss_rpn_cls: 0.0257, loss_rpn_bbox: 0.0091, loss_cls: 0.0859, acc: 99.4062, loss_bbox: 0.2460, loss: 0.3666\n",
      "2022-05-26 12:28:20,452 - mmfewshot - INFO - Iter [13900/100000]\tlr: 1.000e-04, eta: 7:49:05, time: 0.267, data_time: 0.012, memory: 5635, loss_rpn_cls: 0.0160, loss_rpn_bbox: 0.0062, loss_cls: 0.0816, acc: 99.3359, loss_bbox: 0.2331, loss: 0.3370\n",
      "2022-05-26 12:28:33,892 - mmfewshot - INFO - Iter [13950/100000]\tlr: 1.000e-04, eta: 7:48:31, time: 0.269, data_time: 0.012, memory: 5635, loss_rpn_cls: 0.0189, loss_rpn_bbox: 0.0054, loss_cls: 0.0748, acc: 99.4062, loss_bbox: 0.2165, loss: 0.3156\n",
      "2022-05-26 12:28:47,315 - mmfewshot - INFO - Exp name: attention-rpn_r50_c4_tb-split1_1shot-fine-tuning-momentum-09.py\n",
      "2022-05-26 12:28:47,317 - mmfewshot - INFO - Iter [14000/100000]\tlr: 1.000e-04, eta: 7:47:56, time: 0.268, data_time: 0.011, memory: 5635, loss_rpn_cls: 0.0202, loss_rpn_bbox: 0.0076, loss_cls: 0.0570, acc: 99.5391, loss_bbox: 0.2326, loss: 0.3174\n",
      "2022-05-26 12:28:47,323 - mmdet - INFO - starting model initialization...\n"
     ]
    },
    {
     "name": "stdout",
     "output_type": "stream",
     "text": [
      "[>>>>>>>>>>>>>>>>>>>>>>>>>>>>>>] 640/640, 77.5 task/s, elapsed: 8s, ETA:     0s"
     ]
    },
    {
     "name": "stderr",
     "output_type": "stream",
     "text": [
      "2022-05-26 12:28:55,651 - mmdet - INFO - model initialization done.\n"
     ]
    },
    {
     "name": "stdout",
     "output_type": "stream",
     "text": [
      "[>>>>>>>>>>>>>>>>>>>>>>>>>>>>>] 712/712, 12.5 task/s, elapsed: 57s, ETA:     0s\n",
      "---------------iou_thr: 0.5---------------\n"
     ]
    },
    {
     "name": "stderr",
     "output_type": "stream",
     "text": [
      "2022-05-26 12:29:52,934 - mmfewshot - INFO - \n",
      "+----------+-----+------+--------+-------+\n",
      "| class    | gts | dets | recall | ap    |\n",
      "+----------+-----+------+--------+-------+\n",
      "| 7up      | 810 | 4553 | 0.679  | 0.285 |\n",
      "| BudLight | 209 | 763  | 0.469  | 0.191 |\n",
      "+----------+-----+------+--------+-------+\n",
      "| mAP      |     |      |        | 0.238 |\n",
      "+----------+-----+------+--------+-------+\n",
      "2022-05-26 12:29:52,936 - mmfewshot - INFO - BASE_CLASSES_SPLIT1 mAP: 0.23813658952713013\n",
      "2022-05-26 12:29:52,937 - mmfewshot - INFO - NOVEL_CLASSES_SPLIT1 mAP: nan\n",
      "2022-05-26 12:29:52,942 - mmfewshot - INFO - Exp name: attention-rpn_r50_c4_tb-split1_1shot-fine-tuning-momentum-09.py\n",
      "2022-05-26 12:29:52,943 - mmfewshot - INFO - Iter(val) [712]\tAP50: 0.2380, BASE_CLASSES_SPLIT1: AP50: 0.2380, NOVEL_CLASSES_SPLIT1: AP50: nan, mAP: 0.2381\n",
      "2022-05-26 12:30:06,308 - mmfewshot - INFO - Iter [14050/100000]\tlr: 1.000e-04, eta: 7:54:03, time: 1.580, data_time: 1.324, memory: 5635, loss_rpn_cls: 0.0235, loss_rpn_bbox: 0.0097, loss_cls: 0.0911, acc: 99.2344, loss_bbox: 0.2441, loss: 0.3685\n",
      "2022-05-26 12:30:19,610 - mmfewshot - INFO - Iter [14100/100000]\tlr: 1.000e-04, eta: 7:53:27, time: 0.266, data_time: 0.012, memory: 5635, loss_rpn_cls: 0.0143, loss_rpn_bbox: 0.0067, loss_cls: 0.0653, acc: 99.5391, loss_bbox: 0.2185, loss: 0.3048\n",
      "2022-05-26 12:30:33,215 - mmfewshot - INFO - Iter [14150/100000]\tlr: 1.000e-04, eta: 7:52:53, time: 0.272, data_time: 0.012, memory: 5635, loss_rpn_cls: 0.0263, loss_rpn_bbox: 0.0119, loss_cls: 0.0826, acc: 99.2344, loss_bbox: 0.2418, loss: 0.3625\n",
      "2022-05-26 12:30:46,669 - mmfewshot - INFO - Iter [14200/100000]\tlr: 1.000e-04, eta: 7:52:18, time: 0.269, data_time: 0.011, memory: 5635, loss_rpn_cls: 0.0278, loss_rpn_bbox: 0.0100, loss_cls: 0.0854, acc: 99.0938, loss_bbox: 0.2591, loss: 0.3823\n",
      "2022-05-26 12:30:59,928 - mmfewshot - INFO - Iter [14250/100000]\tlr: 1.000e-04, eta: 7:51:42, time: 0.265, data_time: 0.012, memory: 5635, loss_rpn_cls: 0.0246, loss_rpn_bbox: 0.0071, loss_cls: 0.0859, acc: 99.4062, loss_bbox: 0.2054, loss: 0.3230\n",
      "2022-05-26 12:31:13,355 - mmfewshot - INFO - Iter [14300/100000]\tlr: 1.000e-04, eta: 7:51:07, time: 0.268, data_time: 0.011, memory: 5635, loss_rpn_cls: 0.0191, loss_rpn_bbox: 0.0067, loss_cls: 0.0891, acc: 99.3281, loss_bbox: 0.2483, loss: 0.3632\n",
      "2022-05-26 12:31:26,799 - mmfewshot - INFO - Iter [14350/100000]\tlr: 1.000e-04, eta: 7:50:32, time: 0.269, data_time: 0.012, memory: 5635, loss_rpn_cls: 0.0135, loss_rpn_bbox: 0.0045, loss_cls: 0.0824, acc: 99.5625, loss_bbox: 0.1900, loss: 0.2904\n",
      "2022-05-26 12:31:40,129 - mmfewshot - INFO - Iter [14400/100000]\tlr: 1.000e-04, eta: 7:49:57, time: 0.266, data_time: 0.012, memory: 5635, loss_rpn_cls: 0.0262, loss_rpn_bbox: 0.0097, loss_cls: 0.0932, acc: 99.1719, loss_bbox: 0.2479, loss: 0.3770\n",
      "2022-05-26 12:31:53,223 - mmfewshot - INFO - Iter [14450/100000]\tlr: 1.000e-04, eta: 7:49:20, time: 0.262, data_time: 0.010, memory: 5635, loss_rpn_cls: 0.0218, loss_rpn_bbox: 0.0090, loss_cls: 0.0934, acc: 99.0625, loss_bbox: 0.2467, loss: 0.3709\n",
      "2022-05-26 12:32:06,589 - mmfewshot - INFO - Iter [14500/100000]\tlr: 1.000e-04, eta: 7:48:46, time: 0.268, data_time: 0.012, memory: 5635, loss_rpn_cls: 0.0209, loss_rpn_bbox: 0.0071, loss_cls: 0.0948, acc: 99.2109, loss_bbox: 0.2345, loss: 0.3573\n",
      "2022-05-26 12:32:19,955 - mmfewshot - INFO - Iter [14550/100000]\tlr: 1.000e-04, eta: 7:48:11, time: 0.267, data_time: 0.011, memory: 5635, loss_rpn_cls: 0.0222, loss_rpn_bbox: 0.0078, loss_cls: 0.0872, acc: 99.2734, loss_bbox: 0.2207, loss: 0.3379\n",
      "2022-05-26 12:32:33,282 - mmfewshot - INFO - Iter [14600/100000]\tlr: 1.000e-04, eta: 7:47:36, time: 0.267, data_time: 0.012, memory: 5635, loss_rpn_cls: 0.0233, loss_rpn_bbox: 0.0080, loss_cls: 0.0854, acc: 99.2422, loss_bbox: 0.2728, loss: 0.3896\n",
      "2022-05-26 12:32:46,698 - mmfewshot - INFO - Iter [14650/100000]\tlr: 1.000e-04, eta: 7:47:02, time: 0.268, data_time: 0.012, memory: 5635, loss_rpn_cls: 0.0164, loss_rpn_bbox: 0.0053, loss_cls: 0.0977, acc: 99.4062, loss_bbox: 0.1866, loss: 0.3059\n",
      "2022-05-26 12:33:00,073 - mmfewshot - INFO - Iter [14700/100000]\tlr: 1.000e-04, eta: 7:46:28, time: 0.268, data_time: 0.011, memory: 5635, loss_rpn_cls: 0.0217, loss_rpn_bbox: 0.0069, loss_cls: 0.0827, acc: 99.2812, loss_bbox: 0.2580, loss: 0.3693\n",
      "2022-05-26 12:33:13,505 - mmfewshot - INFO - Iter [14750/100000]\tlr: 1.000e-04, eta: 7:45:55, time: 0.269, data_time: 0.012, memory: 5635, loss_rpn_cls: 0.0188, loss_rpn_bbox: 0.0069, loss_cls: 0.0895, acc: 99.2109, loss_bbox: 0.2219, loss: 0.3371\n",
      "2022-05-26 12:33:26,895 - mmfewshot - INFO - Iter [14800/100000]\tlr: 1.000e-04, eta: 7:45:21, time: 0.268, data_time: 0.012, memory: 5635, loss_rpn_cls: 0.0233, loss_rpn_bbox: 0.0085, loss_cls: 0.0881, acc: 99.3047, loss_bbox: 0.2221, loss: 0.3419\n",
      "2022-05-26 12:33:40,228 - mmfewshot - INFO - Iter [14850/100000]\tlr: 1.000e-04, eta: 7:44:47, time: 0.267, data_time: 0.012, memory: 5635, loss_rpn_cls: 0.0144, loss_rpn_bbox: 0.0062, loss_cls: 0.0869, acc: 99.3750, loss_bbox: 0.2233, loss: 0.3308\n",
      "2022-05-26 12:33:53,737 - mmfewshot - INFO - Iter [14900/100000]\tlr: 1.000e-04, eta: 7:44:14, time: 0.270, data_time: 0.012, memory: 5635, loss_rpn_cls: 0.0228, loss_rpn_bbox: 0.0079, loss_cls: 0.0748, acc: 99.3906, loss_bbox: 0.2323, loss: 0.3377\n",
      "2022-05-26 12:34:07,183 - mmfewshot - INFO - Iter [14950/100000]\tlr: 1.000e-04, eta: 7:43:41, time: 0.269, data_time: 0.012, memory: 5635, loss_rpn_cls: 0.0276, loss_rpn_bbox: 0.0092, loss_cls: 0.0856, acc: 99.3516, loss_bbox: 0.2670, loss: 0.3895\n",
      "2022-05-26 12:34:20,497 - mmfewshot - INFO - Exp name: attention-rpn_r50_c4_tb-split1_1shot-fine-tuning-momentum-09.py\n",
      "2022-05-26 12:34:20,499 - mmfewshot - INFO - Iter [15000/100000]\tlr: 1.000e-04, eta: 7:43:08, time: 0.266, data_time: 0.012, memory: 5635, loss_rpn_cls: 0.0193, loss_rpn_bbox: 0.0094, loss_cls: 0.0841, acc: 99.3672, loss_bbox: 0.2411, loss: 0.3540\n",
      "2022-05-26 12:34:20,505 - mmdet - INFO - starting model initialization...\n"
     ]
    },
    {
     "name": "stdout",
     "output_type": "stream",
     "text": [
      "[>>>>>>>>>>>>>>>>>>>>>>>>>>>>>>] 640/640, 75.2 task/s, elapsed: 9s, ETA:     0s"
     ]
    },
    {
     "name": "stderr",
     "output_type": "stream",
     "text": [
      "2022-05-26 12:34:29,094 - mmdet - INFO - model initialization done.\n"
     ]
    },
    {
     "name": "stdout",
     "output_type": "stream",
     "text": [
      "[>>>>>>>>>>>>>>>>>>>>>>>>>>>>>] 712/712, 12.6 task/s, elapsed: 57s, ETA:     0s\n",
      "---------------iou_thr: 0.5---------------\n"
     ]
    },
    {
     "name": "stderr",
     "output_type": "stream",
     "text": [
      "2022-05-26 12:35:26,041 - mmfewshot - INFO - \n",
      "+----------+-----+------+--------+-------+\n",
      "| class    | gts | dets | recall | ap    |\n",
      "+----------+-----+------+--------+-------+\n",
      "| 7up      | 810 | 3730 | 0.622  | 0.209 |\n",
      "| BudLight | 209 | 1100 | 0.498  | 0.202 |\n",
      "+----------+-----+------+--------+-------+\n",
      "| mAP      |     |      |        | 0.205 |\n",
      "+----------+-----+------+--------+-------+\n",
      "2022-05-26 12:35:26,044 - mmfewshot - INFO - BASE_CLASSES_SPLIT1 mAP: 0.20541122555732727\n",
      "2022-05-26 12:35:26,045 - mmfewshot - INFO - NOVEL_CLASSES_SPLIT1 mAP: nan\n",
      "2022-05-26 12:35:26,051 - mmfewshot - INFO - Exp name: attention-rpn_r50_c4_tb-split1_1shot-fine-tuning-momentum-09.py\n",
      "2022-05-26 12:35:26,053 - mmfewshot - INFO - Iter(val) [712]\tAP50: 0.2050, BASE_CLASSES_SPLIT1: AP50: 0.2050, NOVEL_CLASSES_SPLIT1: AP50: nan, mAP: 0.2054\n",
      "2022-05-26 12:35:39,266 - mmfewshot - INFO - Iter [15050/100000]\tlr: 1.000e-04, eta: 7:48:44, time: 1.575, data_time: 1.321, memory: 5635, loss_rpn_cls: 0.0221, loss_rpn_bbox: 0.0061, loss_cls: 0.0927, acc: 99.3594, loss_bbox: 0.2153, loss: 0.3362\n",
      "2022-05-26 12:35:52,508 - mmfewshot - INFO - Iter [15100/100000]\tlr: 1.000e-04, eta: 7:48:09, time: 0.265, data_time: 0.011, memory: 5635, loss_rpn_cls: 0.0177, loss_rpn_bbox: 0.0055, loss_cls: 0.0980, acc: 99.2734, loss_bbox: 0.2261, loss: 0.3474\n",
      "2022-05-26 12:36:05,758 - mmfewshot - INFO - Iter [15150/100000]\tlr: 1.000e-04, eta: 7:47:34, time: 0.265, data_time: 0.011, memory: 5635, loss_rpn_cls: 0.0207, loss_rpn_bbox: 0.0065, loss_cls: 0.1057, acc: 99.0547, loss_bbox: 0.2162, loss: 0.3491\n",
      "2022-05-26 12:36:18,969 - mmfewshot - INFO - Iter [15200/100000]\tlr: 1.000e-04, eta: 7:46:59, time: 0.264, data_time: 0.011, memory: 5635, loss_rpn_cls: 0.0211, loss_rpn_bbox: 0.0103, loss_cls: 0.1033, acc: 99.2266, loss_bbox: 0.2240, loss: 0.3586\n",
      "2022-05-26 12:36:32,226 - mmfewshot - INFO - Iter [15250/100000]\tlr: 1.000e-04, eta: 7:46:24, time: 0.265, data_time: 0.010, memory: 5635, loss_rpn_cls: 0.0139, loss_rpn_bbox: 0.0045, loss_cls: 0.0716, acc: 99.3672, loss_bbox: 0.2179, loss: 0.3078\n",
      "2022-05-26 12:36:45,447 - mmfewshot - INFO - Iter [15300/100000]\tlr: 1.000e-04, eta: 7:45:49, time: 0.265, data_time: 0.011, memory: 5635, loss_rpn_cls: 0.0215, loss_rpn_bbox: 0.0093, loss_cls: 0.0977, acc: 99.3203, loss_bbox: 0.2332, loss: 0.3617\n",
      "2022-05-26 12:36:58,894 - mmfewshot - INFO - Iter [15350/100000]\tlr: 1.000e-04, eta: 7:45:16, time: 0.269, data_time: 0.012, memory: 5635, loss_rpn_cls: 0.0131, loss_rpn_bbox: 0.0074, loss_cls: 0.0635, acc: 99.3203, loss_bbox: 0.2641, loss: 0.3481\n",
      "2022-05-26 12:37:12,367 - mmfewshot - INFO - Iter [15400/100000]\tlr: 1.000e-04, eta: 7:44:43, time: 0.269, data_time: 0.012, memory: 5635, loss_rpn_cls: 0.0198, loss_rpn_bbox: 0.0063, loss_cls: 0.0674, acc: 99.4062, loss_bbox: 0.2522, loss: 0.3457\n",
      "2022-05-26 12:37:25,725 - mmfewshot - INFO - Iter [15450/100000]\tlr: 1.000e-04, eta: 7:44:09, time: 0.267, data_time: 0.011, memory: 5635, loss_rpn_cls: 0.0163, loss_rpn_bbox: 0.0065, loss_cls: 0.0882, acc: 99.3672, loss_bbox: 0.2284, loss: 0.3394\n",
      "2022-05-26 12:37:39,217 - mmfewshot - INFO - Iter [15500/100000]\tlr: 1.000e-04, eta: 7:43:37, time: 0.270, data_time: 0.012, memory: 5635, loss_rpn_cls: 0.0259, loss_rpn_bbox: 0.0104, loss_cls: 0.0651, acc: 99.4219, loss_bbox: 0.2512, loss: 0.3525\n",
      "2022-05-26 12:37:52,575 - mmfewshot - INFO - Iter [15550/100000]\tlr: 1.000e-04, eta: 7:43:03, time: 0.267, data_time: 0.011, memory: 5635, loss_rpn_cls: 0.0149, loss_rpn_bbox: 0.0049, loss_cls: 0.0660, acc: 99.5469, loss_bbox: 0.2016, loss: 0.2874\n",
      "2022-05-26 12:38:05,863 - mmfewshot - INFO - Iter [15600/100000]\tlr: 1.000e-04, eta: 7:42:30, time: 0.265, data_time: 0.011, memory: 5635, loss_rpn_cls: 0.0225, loss_rpn_bbox: 0.0084, loss_cls: 0.0682, acc: 99.4141, loss_bbox: 0.2133, loss: 0.3124\n",
      "2022-05-26 12:38:19,270 - mmfewshot - INFO - Iter [15650/100000]\tlr: 1.000e-04, eta: 7:41:57, time: 0.268, data_time: 0.012, memory: 5635, loss_rpn_cls: 0.0147, loss_rpn_bbox: 0.0054, loss_cls: 0.0777, acc: 99.5391, loss_bbox: 0.1923, loss: 0.2901\n",
      "2022-05-26 12:38:32,677 - mmfewshot - INFO - Iter [15700/100000]\tlr: 1.000e-04, eta: 7:41:24, time: 0.268, data_time: 0.013, memory: 5635, loss_rpn_cls: 0.0190, loss_rpn_bbox: 0.0064, loss_cls: 0.0888, acc: 99.3516, loss_bbox: 0.2194, loss: 0.3336\n",
      "2022-05-26 12:38:45,941 - mmfewshot - INFO - Iter [15750/100000]\tlr: 1.000e-04, eta: 7:40:51, time: 0.265, data_time: 0.012, memory: 5635, loss_rpn_cls: 0.0218, loss_rpn_bbox: 0.0109, loss_cls: 0.0874, acc: 99.3750, loss_bbox: 0.2202, loss: 0.3403\n",
      "2022-05-26 12:38:59,330 - mmfewshot - INFO - Iter [15800/100000]\tlr: 1.000e-04, eta: 7:40:18, time: 0.268, data_time: 0.012, memory: 5635, loss_rpn_cls: 0.0257, loss_rpn_bbox: 0.0098, loss_cls: 0.0879, acc: 99.2969, loss_bbox: 0.2836, loss: 0.4070\n",
      "2022-05-26 12:39:12,759 - mmfewshot - INFO - Iter [15850/100000]\tlr: 1.000e-04, eta: 7:39:46, time: 0.268, data_time: 0.012, memory: 5635, loss_rpn_cls: 0.0162, loss_rpn_bbox: 0.0071, loss_cls: 0.0845, acc: 99.3672, loss_bbox: 0.2549, loss: 0.3627\n",
      "2022-05-26 12:39:26,189 - mmfewshot - INFO - Iter [15900/100000]\tlr: 1.000e-04, eta: 7:39:14, time: 0.269, data_time: 0.012, memory: 5635, loss_rpn_cls: 0.0167, loss_rpn_bbox: 0.0068, loss_cls: 0.0817, acc: 99.2188, loss_bbox: 0.2543, loss: 0.3593\n",
      "2022-05-26 12:39:39,504 - mmfewshot - INFO - Iter [15950/100000]\tlr: 1.000e-04, eta: 7:38:42, time: 0.266, data_time: 0.012, memory: 5635, loss_rpn_cls: 0.0176, loss_rpn_bbox: 0.0062, loss_cls: 0.0674, acc: 99.4688, loss_bbox: 0.2409, loss: 0.3321\n",
      "2022-05-26 12:39:52,848 - mmfewshot - INFO - Exp name: attention-rpn_r50_c4_tb-split1_1shot-fine-tuning-momentum-09.py\n",
      "2022-05-26 12:39:52,850 - mmfewshot - INFO - Iter [16000/100000]\tlr: 1.000e-04, eta: 7:38:09, time: 0.267, data_time: 0.012, memory: 5635, loss_rpn_cls: 0.0296, loss_rpn_bbox: 0.0084, loss_cls: 0.0873, acc: 99.3047, loss_bbox: 0.2539, loss: 0.3793\n",
      "2022-05-26 12:39:52,855 - mmdet - INFO - starting model initialization...\n"
     ]
    },
    {
     "name": "stdout",
     "output_type": "stream",
     "text": [
      "[>>>>>>>>>>>>>>>>>>>>>>>>>>>>>>] 640/640, 76.2 task/s, elapsed: 8s, ETA:     0s"
     ]
    },
    {
     "name": "stderr",
     "output_type": "stream",
     "text": [
      "2022-05-26 12:40:01,331 - mmdet - INFO - model initialization done.\n"
     ]
    },
    {
     "name": "stdout",
     "output_type": "stream",
     "text": [
      "[>>>>>>>>>>>>>>>>>>>>>>>>>>>>>] 712/712, 12.8 task/s, elapsed: 56s, ETA:     0s\n",
      "---------------iou_thr: 0.5---------------\n"
     ]
    },
    {
     "name": "stderr",
     "output_type": "stream",
     "text": [
      "2022-05-26 12:40:57,275 - mmfewshot - INFO - \n",
      "+----------+-----+------+--------+-------+\n",
      "| class    | gts | dets | recall | ap    |\n",
      "+----------+-----+------+--------+-------+\n",
      "| 7up      | 810 | 3353 | 0.631  | 0.271 |\n",
      "| BudLight | 209 | 527  | 0.459  | 0.204 |\n",
      "+----------+-----+------+--------+-------+\n",
      "| mAP      |     |      |        | 0.237 |\n",
      "+----------+-----+------+--------+-------+\n",
      "2022-05-26 12:40:57,278 - mmfewshot - INFO - BASE_CLASSES_SPLIT1 mAP: 0.23726999759674072\n",
      "2022-05-26 12:40:57,279 - mmfewshot - INFO - NOVEL_CLASSES_SPLIT1 mAP: nan\n",
      "2022-05-26 12:40:57,283 - mmfewshot - INFO - Exp name: attention-rpn_r50_c4_tb-split1_1shot-fine-tuning-momentum-09.py\n",
      "2022-05-26 12:40:57,284 - mmfewshot - INFO - Iter(val) [712]\tAP50: 0.2370, BASE_CLASSES_SPLIT1: AP50: 0.2370, NOVEL_CLASSES_SPLIT1: AP50: nan, mAP: 0.2373\n",
      "/home/zhaozhiyuan/anaconda3/envs/mmfewshot/lib/python3.7/site-packages/mmdet/core/evaluation/mean_ap.py:203: DeprecationWarning: `np.bool` is a deprecated alias for the builtin `bool`. To silence this warning, use `bool` by itself. Doing this will not modify any behavior and is safe. If you specifically wanted the numpy scalar type, use `np.bool_` here.\n",
      "Deprecated in NumPy 1.20; for more details and guidance: https://numpy.org/devdocs/release/1.20.0-notes.html#deprecations\n",
      "  (np.zeros(gt_bboxes.shape[0], dtype=np.bool),\n",
      "2022-05-26 12:41:10,611 - mmfewshot - INFO - Iter [16050/100000]\tlr: 1.000e-04, eta: 7:43:14, time: 1.555, data_time: 1.300, memory: 5635, loss_rpn_cls: 0.0193, loss_rpn_bbox: 0.0074, loss_cls: 0.0993, acc: 99.2031, loss_bbox: 0.2596, loss: 0.3856\n",
      "2022-05-26 12:41:23,813 - mmfewshot - INFO - Iter [16100/100000]\tlr: 1.000e-04, eta: 7:42:40, time: 0.264, data_time: 0.011, memory: 5635, loss_rpn_cls: 0.0135, loss_rpn_bbox: 0.0049, loss_cls: 0.0854, acc: 99.2891, loss_bbox: 0.2218, loss: 0.3256\n",
      "2022-05-26 12:41:36,932 - mmfewshot - INFO - Iter [16150/100000]\tlr: 1.000e-04, eta: 7:42:06, time: 0.262, data_time: 0.011, memory: 5635, loss_rpn_cls: 0.0226, loss_rpn_bbox: 0.0097, loss_cls: 0.0530, acc: 99.5469, loss_bbox: 0.2482, loss: 0.3335\n",
      "2022-05-26 12:41:50,226 - mmfewshot - INFO - Iter [16200/100000]\tlr: 1.000e-04, eta: 7:41:32, time: 0.266, data_time: 0.011, memory: 5635, loss_rpn_cls: 0.0271, loss_rpn_bbox: 0.0088, loss_cls: 0.0743, acc: 99.4453, loss_bbox: 0.2244, loss: 0.3346\n",
      "2022-05-26 12:42:03,395 - mmfewshot - INFO - Iter [16250/100000]\tlr: 1.000e-04, eta: 7:40:59, time: 0.264, data_time: 0.011, memory: 5635, loss_rpn_cls: 0.0171, loss_rpn_bbox: 0.0051, loss_cls: 0.0654, acc: 99.3984, loss_bbox: 0.2256, loss: 0.3132\n",
      "2022-05-26 12:42:16,821 - mmfewshot - INFO - Iter [16300/100000]\tlr: 1.000e-04, eta: 7:40:26, time: 0.268, data_time: 0.011, memory: 5635, loss_rpn_cls: 0.0209, loss_rpn_bbox: 0.0081, loss_cls: 0.0749, acc: 99.2656, loss_bbox: 0.2673, loss: 0.3713\n",
      "2022-05-26 12:42:30,107 - mmfewshot - INFO - Iter [16350/100000]\tlr: 1.000e-04, eta: 7:39:53, time: 0.266, data_time: 0.011, memory: 5635, loss_rpn_cls: 0.0177, loss_rpn_bbox: 0.0067, loss_cls: 0.0702, acc: 99.3750, loss_bbox: 0.2386, loss: 0.3332\n",
      "2022-05-26 12:42:43,391 - mmfewshot - INFO - Iter [16400/100000]\tlr: 1.000e-04, eta: 7:39:21, time: 0.266, data_time: 0.011, memory: 5635, loss_rpn_cls: 0.0214, loss_rpn_bbox: 0.0067, loss_cls: 0.0986, acc: 99.4219, loss_bbox: 0.2286, loss: 0.3554\n",
      "2022-05-26 12:42:56,835 - mmfewshot - INFO - Iter [16450/100000]\tlr: 1.000e-04, eta: 7:38:49, time: 0.269, data_time: 0.011, memory: 5635, loss_rpn_cls: 0.0238, loss_rpn_bbox: 0.0085, loss_cls: 0.0860, acc: 99.4922, loss_bbox: 0.2394, loss: 0.3577\n",
      "2022-05-26 12:43:10,093 - mmfewshot - INFO - Iter [16500/100000]\tlr: 1.000e-04, eta: 7:38:16, time: 0.265, data_time: 0.011, memory: 5635, loss_rpn_cls: 0.0161, loss_rpn_bbox: 0.0053, loss_cls: 0.0849, acc: 99.3438, loss_bbox: 0.2159, loss: 0.3223\n",
      "2022-05-26 12:43:23,332 - mmfewshot - INFO - Iter [16550/100000]\tlr: 1.000e-04, eta: 7:37:43, time: 0.265, data_time: 0.012, memory: 5635, loss_rpn_cls: 0.0176, loss_rpn_bbox: 0.0067, loss_cls: 0.0782, acc: 99.3125, loss_bbox: 0.2372, loss: 0.3396\n",
      "2022-05-26 12:43:36,619 - mmfewshot - INFO - Iter [16600/100000]\tlr: 1.000e-04, eta: 7:37:11, time: 0.266, data_time: 0.012, memory: 5635, loss_rpn_cls: 0.0184, loss_rpn_bbox: 0.0074, loss_cls: 0.0885, acc: 99.3438, loss_bbox: 0.2328, loss: 0.3471\n",
      "2022-05-26 12:43:49,976 - mmfewshot - INFO - Iter [16650/100000]\tlr: 1.000e-04, eta: 7:36:39, time: 0.267, data_time: 0.012, memory: 5635, loss_rpn_cls: 0.0187, loss_rpn_bbox: 0.0085, loss_cls: 0.0850, acc: 99.3828, loss_bbox: 0.2265, loss: 0.3388\n",
      "2022-05-26 12:44:03,458 - mmfewshot - INFO - Iter [16700/100000]\tlr: 1.000e-04, eta: 7:36:08, time: 0.270, data_time: 0.012, memory: 5635, loss_rpn_cls: 0.0149, loss_rpn_bbox: 0.0071, loss_cls: 0.0665, acc: 99.3750, loss_bbox: 0.2583, loss: 0.3469\n",
      "2022-05-26 12:44:16,852 - mmfewshot - INFO - Iter [16750/100000]\tlr: 1.000e-04, eta: 7:35:36, time: 0.268, data_time: 0.012, memory: 5635, loss_rpn_cls: 0.0224, loss_rpn_bbox: 0.0066, loss_cls: 0.0660, acc: 99.4219, loss_bbox: 0.2416, loss: 0.3365\n",
      "2022-05-26 12:44:30,157 - mmfewshot - INFO - Iter [16800/100000]\tlr: 1.000e-04, eta: 7:35:04, time: 0.266, data_time: 0.011, memory: 5635, loss_rpn_cls: 0.0195, loss_rpn_bbox: 0.0089, loss_cls: 0.0682, acc: 99.5078, loss_bbox: 0.2258, loss: 0.3224\n",
      "2022-05-26 12:44:43,281 - mmfewshot - INFO - Iter [16850/100000]\tlr: 1.000e-04, eta: 7:34:32, time: 0.262, data_time: 0.010, memory: 5635, loss_rpn_cls: 0.0198, loss_rpn_bbox: 0.0070, loss_cls: 0.0977, acc: 99.2422, loss_bbox: 0.2225, loss: 0.3470\n",
      "2022-05-26 12:44:56,613 - mmfewshot - INFO - Iter [16900/100000]\tlr: 1.000e-04, eta: 7:34:00, time: 0.267, data_time: 0.012, memory: 5635, loss_rpn_cls: 0.0174, loss_rpn_bbox: 0.0058, loss_cls: 0.1036, acc: 99.2969, loss_bbox: 0.2066, loss: 0.3334\n",
      "2022-05-26 12:45:09,881 - mmfewshot - INFO - Iter [16950/100000]\tlr: 1.000e-04, eta: 7:33:28, time: 0.265, data_time: 0.011, memory: 5635, loss_rpn_cls: 0.0159, loss_rpn_bbox: 0.0050, loss_cls: 0.0977, acc: 99.3516, loss_bbox: 0.2359, loss: 0.3545\n",
      "2022-05-26 12:45:23,187 - mmfewshot - INFO - Exp name: attention-rpn_r50_c4_tb-split1_1shot-fine-tuning-momentum-09.py\n",
      "2022-05-26 12:45:23,189 - mmfewshot - INFO - Iter [17000/100000]\tlr: 1.000e-04, eta: 7:32:57, time: 0.266, data_time: 0.011, memory: 5635, loss_rpn_cls: 0.0150, loss_rpn_bbox: 0.0078, loss_cls: 0.0745, acc: 99.3203, loss_bbox: 0.2342, loss: 0.3316\n",
      "2022-05-26 12:45:23,195 - mmdet - INFO - starting model initialization...\n"
     ]
    },
    {
     "name": "stdout",
     "output_type": "stream",
     "text": [
      "[>>>>>>>>>>>>>>>>>>>>>>>>>>>>>>] 640/640, 79.7 task/s, elapsed: 8s, ETA:     0s"
     ]
    },
    {
     "name": "stderr",
     "output_type": "stream",
     "text": [
      "2022-05-26 12:45:31,289 - mmdet - INFO - model initialization done.\n"
     ]
    },
    {
     "name": "stdout",
     "output_type": "stream",
     "text": [
      "[>>>>>>>>>>>>>>>>>>>>>>>>>>>>>] 712/712, 12.7 task/s, elapsed: 56s, ETA:     0s\n",
      "---------------iou_thr: 0.5---------------\n"
     ]
    },
    {
     "name": "stderr",
     "output_type": "stream",
     "text": [
      "2022-05-26 12:46:27,915 - mmfewshot - INFO - \n",
      "+----------+-----+------+--------+-------+\n",
      "| class    | gts | dets | recall | ap    |\n",
      "+----------+-----+------+--------+-------+\n",
      "| 7up      | 810 | 4352 | 0.684  | 0.282 |\n",
      "| BudLight | 209 | 795  | 0.459  | 0.167 |\n",
      "+----------+-----+------+--------+-------+\n",
      "| mAP      |     |      |        | 0.224 |\n",
      "+----------+-----+------+--------+-------+\n",
      "2022-05-26 12:46:27,918 - mmfewshot - INFO - BASE_CLASSES_SPLIT1 mAP: 0.22419172525405884\n",
      "2022-05-26 12:46:27,919 - mmfewshot - INFO - NOVEL_CLASSES_SPLIT1 mAP: nan\n",
      "2022-05-26 12:46:27,925 - mmfewshot - INFO - Exp name: attention-rpn_r50_c4_tb-split1_1shot-fine-tuning-momentum-09.py\n",
      "2022-05-26 12:46:27,927 - mmfewshot - INFO - Iter(val) [712]\tAP50: 0.2240, BASE_CLASSES_SPLIT1: AP50: 0.2240, NOVEL_CLASSES_SPLIT1: AP50: nan, mAP: 0.2242\n",
      "2022-05-26 12:46:41,118 - mmfewshot - INFO - Iter [17050/100000]\tlr: 1.000e-04, eta: 7:37:40, time: 1.559, data_time: 1.306, memory: 5635, loss_rpn_cls: 0.0143, loss_rpn_bbox: 0.0078, loss_cls: 0.0888, acc: 99.4453, loss_bbox: 0.2210, loss: 0.3318\n",
      "2022-05-26 12:46:54,320 - mmfewshot - INFO - Iter [17100/100000]\tlr: 1.000e-04, eta: 7:37:07, time: 0.264, data_time: 0.012, memory: 5635, loss_rpn_cls: 0.0200, loss_rpn_bbox: 0.0075, loss_cls: 0.0702, acc: 99.4844, loss_bbox: 0.2423, loss: 0.3399\n",
      "2022-05-26 12:47:07,536 - mmfewshot - INFO - Iter [17150/100000]\tlr: 1.000e-04, eta: 7:36:35, time: 0.264, data_time: 0.011, memory: 5635, loss_rpn_cls: 0.0125, loss_rpn_bbox: 0.0065, loss_cls: 0.0627, acc: 99.4375, loss_bbox: 0.2438, loss: 0.3256\n",
      "2022-05-26 12:47:20,734 - mmfewshot - INFO - Iter [17200/100000]\tlr: 1.000e-04, eta: 7:36:02, time: 0.264, data_time: 0.012, memory: 5635, loss_rpn_cls: 0.0161, loss_rpn_bbox: 0.0071, loss_cls: 0.0789, acc: 99.3984, loss_bbox: 0.2265, loss: 0.3285\n",
      "2022-05-26 12:47:33,975 - mmfewshot - INFO - Iter [17250/100000]\tlr: 1.000e-04, eta: 7:35:30, time: 0.265, data_time: 0.012, memory: 5635, loss_rpn_cls: 0.0114, loss_rpn_bbox: 0.0040, loss_cls: 0.0892, acc: 99.4219, loss_bbox: 0.2207, loss: 0.3253\n",
      "2022-05-26 12:47:47,253 - mmfewshot - INFO - Iter [17300/100000]\tlr: 1.000e-04, eta: 7:34:58, time: 0.265, data_time: 0.011, memory: 5635, loss_rpn_cls: 0.0161, loss_rpn_bbox: 0.0053, loss_cls: 0.0915, acc: 99.4453, loss_bbox: 0.2001, loss: 0.3129\n",
      "2022-05-26 12:48:00,610 - mmfewshot - INFO - Iter [17350/100000]\tlr: 1.000e-04, eta: 7:34:26, time: 0.268, data_time: 0.011, memory: 5635, loss_rpn_cls: 0.0132, loss_rpn_bbox: 0.0072, loss_cls: 0.0771, acc: 99.3125, loss_bbox: 0.2703, loss: 0.3678\n",
      "2022-05-26 12:48:13,953 - mmfewshot - INFO - Iter [17400/100000]\tlr: 1.000e-04, eta: 7:33:55, time: 0.266, data_time: 0.012, memory: 5635, loss_rpn_cls: 0.0267, loss_rpn_bbox: 0.0072, loss_cls: 0.0672, acc: 99.5781, loss_bbox: 0.2186, loss: 0.3197\n",
      "2022-05-26 12:48:27,201 - mmfewshot - INFO - Iter [17450/100000]\tlr: 1.000e-04, eta: 7:33:23, time: 0.265, data_time: 0.012, memory: 5635, loss_rpn_cls: 0.0156, loss_rpn_bbox: 0.0056, loss_cls: 0.0780, acc: 99.4844, loss_bbox: 0.2160, loss: 0.3151\n",
      "2022-05-26 12:48:40,488 - mmfewshot - INFO - Iter [17500/100000]\tlr: 1.000e-04, eta: 7:32:52, time: 0.266, data_time: 0.012, memory: 5635, loss_rpn_cls: 0.0173, loss_rpn_bbox: 0.0063, loss_cls: 0.0729, acc: 99.3906, loss_bbox: 0.2422, loss: 0.3387\n",
      "2022-05-26 12:48:53,761 - mmfewshot - INFO - Iter [17550/100000]\tlr: 1.000e-04, eta: 7:32:20, time: 0.265, data_time: 0.012, memory: 5635, loss_rpn_cls: 0.0145, loss_rpn_bbox: 0.0068, loss_cls: 0.0674, acc: 99.3984, loss_bbox: 0.2519, loss: 0.3406\n",
      "2022-05-26 12:49:07,134 - mmfewshot - INFO - Iter [17600/100000]\tlr: 1.000e-04, eta: 7:31:49, time: 0.267, data_time: 0.012, memory: 5635, loss_rpn_cls: 0.0140, loss_rpn_bbox: 0.0069, loss_cls: 0.0695, acc: 99.4844, loss_bbox: 0.2267, loss: 0.3171\n",
      "2022-05-26 12:49:20,431 - mmfewshot - INFO - Iter [17650/100000]\tlr: 1.000e-04, eta: 7:31:18, time: 0.266, data_time: 0.012, memory: 5635, loss_rpn_cls: 0.0181, loss_rpn_bbox: 0.0087, loss_cls: 0.0712, acc: 99.3672, loss_bbox: 0.2332, loss: 0.3312\n",
      "2022-05-26 12:49:33,666 - mmfewshot - INFO - Iter [17700/100000]\tlr: 1.000e-04, eta: 7:30:47, time: 0.265, data_time: 0.012, memory: 5635, loss_rpn_cls: 0.0121, loss_rpn_bbox: 0.0041, loss_cls: 0.0683, acc: 99.5469, loss_bbox: 0.1922, loss: 0.2767\n",
      "2022-05-26 12:49:47,183 - mmfewshot - INFO - Iter [17750/100000]\tlr: 1.000e-04, eta: 7:30:17, time: 0.270, data_time: 0.012, memory: 5635, loss_rpn_cls: 0.0188, loss_rpn_bbox: 0.0118, loss_cls: 0.0809, acc: 99.4297, loss_bbox: 0.2455, loss: 0.3570\n",
      "2022-05-26 12:50:00,354 - mmfewshot - INFO - Iter [17800/100000]\tlr: 1.000e-04, eta: 7:29:45, time: 0.263, data_time: 0.011, memory: 5635, loss_rpn_cls: 0.0155, loss_rpn_bbox: 0.0074, loss_cls: 0.0662, acc: 99.4141, loss_bbox: 0.2370, loss: 0.3262\n",
      "2022-05-26 12:50:13,739 - mmfewshot - INFO - Iter [17850/100000]\tlr: 1.000e-04, eta: 7:29:15, time: 0.268, data_time: 0.011, memory: 5635, loss_rpn_cls: 0.0182, loss_rpn_bbox: 0.0056, loss_cls: 0.0631, acc: 99.4141, loss_bbox: 0.2054, loss: 0.2922\n",
      "2022-05-26 12:50:26,939 - mmfewshot - INFO - Iter [17900/100000]\tlr: 1.000e-04, eta: 7:28:44, time: 0.264, data_time: 0.011, memory: 5635, loss_rpn_cls: 0.0195, loss_rpn_bbox: 0.0094, loss_cls: 0.0603, acc: 99.5938, loss_bbox: 0.2219, loss: 0.3111\n",
      "2022-05-26 12:50:40,335 - mmfewshot - INFO - Iter [17950/100000]\tlr: 1.000e-04, eta: 7:28:14, time: 0.268, data_time: 0.012, memory: 5635, loss_rpn_cls: 0.0158, loss_rpn_bbox: 0.0079, loss_cls: 0.0736, acc: 99.3906, loss_bbox: 0.2696, loss: 0.3669\n",
      "2022-05-26 12:50:53,517 - mmfewshot - INFO - Exp name: attention-rpn_r50_c4_tb-split1_1shot-fine-tuning-momentum-09.py\n",
      "2022-05-26 12:50:53,519 - mmfewshot - INFO - Iter [18000/100000]\tlr: 1.000e-04, eta: 7:27:43, time: 0.264, data_time: 0.011, memory: 5635, loss_rpn_cls: 0.0146, loss_rpn_bbox: 0.0041, loss_cls: 0.0877, acc: 99.2422, loss_bbox: 0.2103, loss: 0.3166\n",
      "2022-05-26 12:50:53,524 - mmdet - INFO - starting model initialization...\n"
     ]
    },
    {
     "name": "stdout",
     "output_type": "stream",
     "text": [
      "[>>>>>>>>>>>>>>>>>>>>>>>>>>>>>>] 640/640, 74.5 task/s, elapsed: 9s, ETA:     0s"
     ]
    },
    {
     "name": "stderr",
     "output_type": "stream",
     "text": [
      "2022-05-26 12:51:02,198 - mmdet - INFO - model initialization done.\n"
     ]
    },
    {
     "name": "stdout",
     "output_type": "stream",
     "text": [
      "[>>>>>>>>>>>>>>>>>>>>>>>>>>>>>] 712/712, 12.4 task/s, elapsed: 57s, ETA:     0s\n",
      "---------------iou_thr: 0.5---------------\n"
     ]
    },
    {
     "name": "stderr",
     "output_type": "stream",
     "text": [
      "2022-05-26 12:51:59,923 - mmfewshot - INFO - \n",
      "+----------+-----+------+--------+-------+\n",
      "| class    | gts | dets | recall | ap    |\n",
      "+----------+-----+------+--------+-------+\n",
      "| 7up      | 810 | 3794 | 0.669  | 0.287 |\n",
      "| BudLight | 209 | 1215 | 0.502  | 0.172 |\n",
      "+----------+-----+------+--------+-------+\n",
      "| mAP      |     |      |        | 0.229 |\n",
      "+----------+-----+------+--------+-------+\n",
      "2022-05-26 12:51:59,925 - mmfewshot - INFO - BASE_CLASSES_SPLIT1 mAP: 0.22941818833351135\n",
      "2022-05-26 12:51:59,926 - mmfewshot - INFO - NOVEL_CLASSES_SPLIT1 mAP: nan\n",
      "2022-05-26 12:51:59,931 - mmfewshot - INFO - Exp name: attention-rpn_r50_c4_tb-split1_1shot-fine-tuning-momentum-09.py\n",
      "2022-05-26 12:51:59,932 - mmfewshot - INFO - Iter(val) [712]\tAP50: 0.2290, BASE_CLASSES_SPLIT1: AP50: 0.2290, NOVEL_CLASSES_SPLIT1: AP50: nan, mAP: 0.2294\n",
      "2022-05-26 12:52:13,529 - mmfewshot - INFO - Iter [18050/100000]\tlr: 1.000e-04, eta: 7:32:15, time: 1.600, data_time: 1.340, memory: 5635, loss_rpn_cls: 0.0171, loss_rpn_bbox: 0.0061, loss_cls: 0.0615, acc: 99.3828, loss_bbox: 0.2777, loss: 0.3624\n",
      "2022-05-26 12:52:26,830 - mmfewshot - INFO - Iter [18100/100000]\tlr: 1.000e-04, eta: 7:31:44, time: 0.266, data_time: 0.011, memory: 5635, loss_rpn_cls: 0.0195, loss_rpn_bbox: 0.0074, loss_cls: 0.0732, acc: 99.4609, loss_bbox: 0.2336, loss: 0.3337\n",
      "2022-05-26 12:52:40,208 - mmfewshot - INFO - Iter [18150/100000]\tlr: 1.000e-04, eta: 7:31:13, time: 0.268, data_time: 0.012, memory: 5635, loss_rpn_cls: 0.0157, loss_rpn_bbox: 0.0062, loss_cls: 0.0775, acc: 99.3984, loss_bbox: 0.2566, loss: 0.3559\n",
      "2022-05-26 12:52:53,418 - mmfewshot - INFO - Iter [18200/100000]\tlr: 1.000e-04, eta: 7:30:42, time: 0.264, data_time: 0.010, memory: 5635, loss_rpn_cls: 0.0131, loss_rpn_bbox: 0.0044, loss_cls: 0.0687, acc: 99.3984, loss_bbox: 0.2464, loss: 0.3327\n",
      "2022-05-26 12:53:06,612 - mmfewshot - INFO - Iter [18250/100000]\tlr: 1.000e-04, eta: 7:30:10, time: 0.264, data_time: 0.010, memory: 5635, loss_rpn_cls: 0.0126, loss_rpn_bbox: 0.0094, loss_cls: 0.0707, acc: 99.5000, loss_bbox: 0.2557, loss: 0.3485\n",
      "2022-05-26 12:53:19,912 - mmfewshot - INFO - Iter [18300/100000]\tlr: 1.000e-04, eta: 7:29:39, time: 0.266, data_time: 0.012, memory: 5635, loss_rpn_cls: 0.0216, loss_rpn_bbox: 0.0095, loss_cls: 0.0701, acc: 99.3359, loss_bbox: 0.2477, loss: 0.3489\n",
      "2022-05-26 12:53:33,202 - mmfewshot - INFO - Iter [18350/100000]\tlr: 1.000e-04, eta: 7:29:08, time: 0.266, data_time: 0.010, memory: 5635, loss_rpn_cls: 0.0150, loss_rpn_bbox: 0.0065, loss_cls: 0.0628, acc: 99.4453, loss_bbox: 0.2582, loss: 0.3426\n",
      "2022-05-26 12:53:46,617 - mmfewshot - INFO - Iter [18400/100000]\tlr: 1.000e-04, eta: 7:28:38, time: 0.268, data_time: 0.011, memory: 5635, loss_rpn_cls: 0.0171, loss_rpn_bbox: 0.0063, loss_cls: 0.0546, acc: 99.5000, loss_bbox: 0.2598, loss: 0.3378\n",
      "2022-05-26 12:54:00,241 - mmfewshot - INFO - Iter [18450/100000]\tlr: 1.000e-04, eta: 7:28:09, time: 0.273, data_time: 0.012, memory: 5635, loss_rpn_cls: 0.0181, loss_rpn_bbox: 0.0067, loss_cls: 0.0754, acc: 99.4219, loss_bbox: 0.2490, loss: 0.3492\n",
      "2022-05-26 12:54:13,782 - mmfewshot - INFO - Iter [18500/100000]\tlr: 1.000e-04, eta: 7:27:40, time: 0.271, data_time: 0.012, memory: 5635, loss_rpn_cls: 0.0203, loss_rpn_bbox: 0.0092, loss_cls: 0.0709, acc: 99.4609, loss_bbox: 0.2579, loss: 0.3583\n",
      "2022-05-26 12:54:27,264 - mmfewshot - INFO - Iter [18550/100000]\tlr: 1.000e-04, eta: 7:27:10, time: 0.270, data_time: 0.012, memory: 5635, loss_rpn_cls: 0.0163, loss_rpn_bbox: 0.0070, loss_cls: 0.0662, acc: 99.4219, loss_bbox: 0.2403, loss: 0.3298\n",
      "2022-05-26 12:54:40,731 - mmfewshot - INFO - Iter [18600/100000]\tlr: 1.000e-04, eta: 7:26:40, time: 0.269, data_time: 0.012, memory: 5635, loss_rpn_cls: 0.0136, loss_rpn_bbox: 0.0058, loss_cls: 0.0748, acc: 99.3984, loss_bbox: 0.2510, loss: 0.3452\n",
      "2022-05-26 12:54:54,130 - mmfewshot - INFO - Iter [18650/100000]\tlr: 1.000e-04, eta: 7:26:11, time: 0.268, data_time: 0.012, memory: 5635, loss_rpn_cls: 0.0159, loss_rpn_bbox: 0.0045, loss_cls: 0.0925, acc: 99.1797, loss_bbox: 0.2331, loss: 0.3460\n",
      "2022-05-26 12:55:07,511 - mmfewshot - INFO - Iter [18700/100000]\tlr: 1.000e-04, eta: 7:25:41, time: 0.267, data_time: 0.011, memory: 5635, loss_rpn_cls: 0.0175, loss_rpn_bbox: 0.0084, loss_cls: 0.0615, acc: 99.4219, loss_bbox: 0.2413, loss: 0.3286\n",
      "2022-05-26 12:55:20,587 - mmfewshot - INFO - Iter [18750/100000]\tlr: 1.000e-04, eta: 7:25:10, time: 0.261, data_time: 0.011, memory: 5635, loss_rpn_cls: 0.0126, loss_rpn_bbox: 0.0048, loss_cls: 0.0689, acc: 99.4453, loss_bbox: 0.2151, loss: 0.3014\n",
      "2022-05-26 12:55:33,926 - mmfewshot - INFO - Iter [18800/100000]\tlr: 1.000e-04, eta: 7:24:40, time: 0.267, data_time: 0.012, memory: 5635, loss_rpn_cls: 0.0168, loss_rpn_bbox: 0.0060, loss_cls: 0.0698, acc: 99.5000, loss_bbox: 0.2420, loss: 0.3346\n",
      "2022-05-26 12:55:47,352 - mmfewshot - INFO - Iter [18850/100000]\tlr: 1.000e-04, eta: 7:24:10, time: 0.268, data_time: 0.011, memory: 5635, loss_rpn_cls: 0.0173, loss_rpn_bbox: 0.0066, loss_cls: 0.0461, acc: 99.5234, loss_bbox: 0.2646, loss: 0.3346\n",
      "2022-05-26 12:56:00,701 - mmfewshot - INFO - Iter [18900/100000]\tlr: 1.000e-04, eta: 7:23:41, time: 0.267, data_time: 0.012, memory: 5635, loss_rpn_cls: 0.0107, loss_rpn_bbox: 0.0041, loss_cls: 0.0661, acc: 99.3672, loss_bbox: 0.2451, loss: 0.3260\n",
      "2022-05-26 12:56:14,053 - mmfewshot - INFO - Iter [18950/100000]\tlr: 1.000e-04, eta: 7:23:11, time: 0.267, data_time: 0.012, memory: 5635, loss_rpn_cls: 0.0212, loss_rpn_bbox: 0.0084, loss_cls: 0.0789, acc: 99.5078, loss_bbox: 0.2251, loss: 0.3336\n",
      "2022-05-26 12:56:27,383 - mmfewshot - INFO - Exp name: attention-rpn_r50_c4_tb-split1_1shot-fine-tuning-momentum-09.py\n",
      "2022-05-26 12:56:27,385 - mmfewshot - INFO - Iter [19000/100000]\tlr: 1.000e-04, eta: 7:22:42, time: 0.267, data_time: 0.011, memory: 5635, loss_rpn_cls: 0.0170, loss_rpn_bbox: 0.0070, loss_cls: 0.0628, acc: 99.4922, loss_bbox: 0.2411, loss: 0.3279\n",
      "2022-05-26 12:56:27,389 - mmdet - INFO - starting model initialization...\n"
     ]
    },
    {
     "name": "stdout",
     "output_type": "stream",
     "text": [
      "[>>>>>>>>>>>>>>>>>>>>>>>>>>>>>>] 640/640, 74.5 task/s, elapsed: 9s, ETA:     0s"
     ]
    },
    {
     "name": "stderr",
     "output_type": "stream",
     "text": [
      "2022-05-26 12:56:36,068 - mmdet - INFO - model initialization done.\n"
     ]
    },
    {
     "name": "stdout",
     "output_type": "stream",
     "text": [
      "[>>>>>>>>>>>>>>>>>>>>>>>>>>>>>] 712/712, 12.7 task/s, elapsed: 56s, ETA:     0s\n",
      "---------------iou_thr: 0.5---------------\n"
     ]
    },
    {
     "name": "stderr",
     "output_type": "stream",
     "text": [
      "2022-05-26 12:57:32,778 - mmfewshot - INFO - \n",
      "+----------+-----+------+--------+-------+\n",
      "| class    | gts | dets | recall | ap    |\n",
      "+----------+-----+------+--------+-------+\n",
      "| 7up      | 810 | 3816 | 0.656  | 0.277 |\n",
      "| BudLight | 209 | 724  | 0.435  | 0.190 |\n",
      "+----------+-----+------+--------+-------+\n",
      "| mAP      |     |      |        | 0.234 |\n",
      "+----------+-----+------+--------+-------+\n",
      "2022-05-26 12:57:32,781 - mmfewshot - INFO - BASE_CLASSES_SPLIT1 mAP: 0.23380231857299805\n",
      "2022-05-26 12:57:32,782 - mmfewshot - INFO - NOVEL_CLASSES_SPLIT1 mAP: nan\n",
      "2022-05-26 12:57:32,788 - mmfewshot - INFO - Exp name: attention-rpn_r50_c4_tb-split1_1shot-fine-tuning-momentum-09.py\n",
      "2022-05-26 12:57:32,790 - mmfewshot - INFO - Iter(val) [712]\tAP50: 0.2340, BASE_CLASSES_SPLIT1: AP50: 0.2340, NOVEL_CLASSES_SPLIT1: AP50: nan, mAP: 0.2338\n",
      "2022-05-26 12:57:46,122 - mmfewshot - INFO - Iter [19050/100000]\tlr: 1.000e-04, eta: 7:26:50, time: 1.574, data_time: 1.320, memory: 5635, loss_rpn_cls: 0.0172, loss_rpn_bbox: 0.0059, loss_cls: 0.0630, acc: 99.5547, loss_bbox: 0.2193, loss: 0.3054\n",
      "2022-05-26 12:57:59,428 - mmfewshot - INFO - Iter [19100/100000]\tlr: 1.000e-04, eta: 7:26:20, time: 0.266, data_time: 0.011, memory: 5635, loss_rpn_cls: 0.0210, loss_rpn_bbox: 0.0096, loss_cls: 0.0580, acc: 99.4531, loss_bbox: 0.2587, loss: 0.3474\n",
      "2022-05-26 12:58:12,790 - mmfewshot - INFO - Iter [19150/100000]\tlr: 1.000e-04, eta: 7:25:50, time: 0.267, data_time: 0.011, memory: 5635, loss_rpn_cls: 0.0181, loss_rpn_bbox: 0.0091, loss_cls: 0.0882, acc: 99.3984, loss_bbox: 0.2751, loss: 0.3905\n",
      "2022-05-26 12:58:26,161 - mmfewshot - INFO - Iter [19200/100000]\tlr: 1.000e-04, eta: 7:25:20, time: 0.267, data_time: 0.012, memory: 5635, loss_rpn_cls: 0.0140, loss_rpn_bbox: 0.0056, loss_cls: 0.0674, acc: 99.4688, loss_bbox: 0.2372, loss: 0.3243\n",
      "2022-05-26 12:58:39,394 - mmfewshot - INFO - Iter [19250/100000]\tlr: 1.000e-04, eta: 7:24:50, time: 0.265, data_time: 0.011, memory: 5635, loss_rpn_cls: 0.0105, loss_rpn_bbox: 0.0064, loss_cls: 0.0482, acc: 99.5312, loss_bbox: 0.2646, loss: 0.3297\n",
      "2022-05-26 12:58:52,705 - mmfewshot - INFO - Iter [19300/100000]\tlr: 1.000e-04, eta: 7:24:20, time: 0.266, data_time: 0.012, memory: 5635, loss_rpn_cls: 0.0159, loss_rpn_bbox: 0.0097, loss_cls: 0.0959, acc: 99.2891, loss_bbox: 0.2470, loss: 0.3685\n",
      "2022-05-26 12:59:06,244 - mmfewshot - INFO - Iter [19350/100000]\tlr: 1.000e-04, eta: 7:23:51, time: 0.271, data_time: 0.011, memory: 5635, loss_rpn_cls: 0.0174, loss_rpn_bbox: 0.0082, loss_cls: 0.0527, acc: 99.5625, loss_bbox: 0.2532, loss: 0.3316\n",
      "2022-05-26 12:59:19,505 - mmfewshot - INFO - Iter [19400/100000]\tlr: 1.000e-04, eta: 7:23:21, time: 0.265, data_time: 0.012, memory: 5635, loss_rpn_cls: 0.0222, loss_rpn_bbox: 0.0085, loss_cls: 0.0787, acc: 99.3203, loss_bbox: 0.2728, loss: 0.3821\n",
      "2022-05-26 12:59:32,924 - mmfewshot - INFO - Iter [19450/100000]\tlr: 1.000e-04, eta: 7:22:51, time: 0.268, data_time: 0.011, memory: 5635, loss_rpn_cls: 0.0113, loss_rpn_bbox: 0.0064, loss_cls: 0.0747, acc: 99.4609, loss_bbox: 0.2313, loss: 0.3238\n",
      "2022-05-26 12:59:46,348 - mmfewshot - INFO - Iter [19500/100000]\tlr: 1.000e-04, eta: 7:22:22, time: 0.269, data_time: 0.013, memory: 5635, loss_rpn_cls: 0.0112, loss_rpn_bbox: 0.0059, loss_cls: 0.0511, acc: 99.5547, loss_bbox: 0.2641, loss: 0.3322\n",
      "2022-05-26 12:59:59,623 - mmfewshot - INFO - Iter [19550/100000]\tlr: 1.000e-04, eta: 7:21:53, time: 0.266, data_time: 0.011, memory: 5635, loss_rpn_cls: 0.0113, loss_rpn_bbox: 0.0052, loss_cls: 0.0705, acc: 99.4219, loss_bbox: 0.2326, loss: 0.3197\n",
      "2022-05-26 13:00:13,229 - mmfewshot - INFO - Iter [19600/100000]\tlr: 1.000e-04, eta: 7:21:24, time: 0.272, data_time: 0.013, memory: 5635, loss_rpn_cls: 0.0151, loss_rpn_bbox: 0.0059, loss_cls: 0.0809, acc: 99.3359, loss_bbox: 0.2363, loss: 0.3382\n",
      "2022-05-26 13:00:26,563 - mmfewshot - INFO - Iter [19650/100000]\tlr: 1.000e-04, eta: 7:20:55, time: 0.266, data_time: 0.011, memory: 5635, loss_rpn_cls: 0.0288, loss_rpn_bbox: 0.0097, loss_cls: 0.0582, acc: 99.4766, loss_bbox: 0.2346, loss: 0.3314\n",
      "2022-05-26 13:00:39,776 - mmfewshot - INFO - Iter [19700/100000]\tlr: 1.000e-04, eta: 7:20:25, time: 0.264, data_time: 0.010, memory: 5635, loss_rpn_cls: 0.0143, loss_rpn_bbox: 0.0050, loss_cls: 0.0674, acc: 99.3438, loss_bbox: 0.2763, loss: 0.3630\n",
      "2022-05-26 13:00:52,966 - mmfewshot - INFO - Iter [19750/100000]\tlr: 1.000e-04, eta: 7:19:56, time: 0.264, data_time: 0.010, memory: 5635, loss_rpn_cls: 0.0113, loss_rpn_bbox: 0.0051, loss_cls: 0.0531, acc: 99.5000, loss_bbox: 0.2483, loss: 0.3178\n",
      "2022-05-26 13:01:06,134 - mmfewshot - INFO - Iter [19800/100000]\tlr: 1.000e-04, eta: 7:19:26, time: 0.264, data_time: 0.011, memory: 5635, loss_rpn_cls: 0.0121, loss_rpn_bbox: 0.0077, loss_cls: 0.0644, acc: 99.4609, loss_bbox: 0.2500, loss: 0.3342\n",
      "2022-05-26 13:01:19,583 - mmfewshot - INFO - Iter [19850/100000]\tlr: 1.000e-04, eta: 7:18:57, time: 0.269, data_time: 0.012, memory: 5635, loss_rpn_cls: 0.0159, loss_rpn_bbox: 0.0066, loss_cls: 0.0790, acc: 99.4609, loss_bbox: 0.2466, loss: 0.3480\n",
      "2022-05-26 13:01:32,703 - mmfewshot - INFO - Iter [19900/100000]\tlr: 1.000e-04, eta: 7:18:28, time: 0.262, data_time: 0.010, memory: 5635, loss_rpn_cls: 0.0171, loss_rpn_bbox: 0.0085, loss_cls: 0.0601, acc: 99.4375, loss_bbox: 0.2668, loss: 0.3525\n",
      "2022-05-26 13:01:45,916 - mmfewshot - INFO - Iter [19950/100000]\tlr: 1.000e-04, eta: 7:17:58, time: 0.264, data_time: 0.011, memory: 5635, loss_rpn_cls: 0.0219, loss_rpn_bbox: 0.0085, loss_cls: 0.0644, acc: 99.3828, loss_bbox: 0.2414, loss: 0.3361\n",
      "2022-05-26 13:01:59,170 - mmfewshot - INFO - Saving checkpoint at 20000 iterations\n",
      "2022-05-26 13:02:00,736 - mmfewshot - INFO - Exp name: attention-rpn_r50_c4_tb-split1_1shot-fine-tuning-momentum-09.py\n",
      "2022-05-26 13:02:00,738 - mmfewshot - INFO - Iter [20000/100000]\tlr: 1.000e-04, eta: 7:17:36, time: 0.299, data_time: 0.011, memory: 5635, loss_rpn_cls: 0.0180, loss_rpn_bbox: 0.0073, loss_cls: 0.0511, acc: 99.5469, loss_bbox: 0.2382, loss: 0.3145\n",
      "2022-05-26 13:02:00,742 - mmdet - INFO - starting model initialization...\n"
     ]
    },
    {
     "name": "stdout",
     "output_type": "stream",
     "text": [
      "[>>>>>>>>>>>>>>>>>>>>>>>>>>>>>>] 640/640, 80.3 task/s, elapsed: 8s, ETA:     0s"
     ]
    },
    {
     "name": "stderr",
     "output_type": "stream",
     "text": [
      "2022-05-26 13:02:08,774 - mmdet - INFO - model initialization done.\n"
     ]
    },
    {
     "name": "stdout",
     "output_type": "stream",
     "text": [
      "[>>>>>>>>>>>>>>>>>>>>>>>>>>>>>] 712/712, 12.8 task/s, elapsed: 56s, ETA:     0s\n",
      "---------------iou_thr: 0.5---------------\n"
     ]
    },
    {
     "name": "stderr",
     "output_type": "stream",
     "text": [
      "2022-05-26 13:03:04,900 - mmfewshot - INFO - \n",
      "+----------+-----+------+--------+-------+\n",
      "| class    | gts | dets | recall | ap    |\n",
      "+----------+-----+------+--------+-------+\n",
      "| 7up      | 810 | 2939 | 0.620  | 0.287 |\n",
      "| BudLight | 209 | 513  | 0.455  | 0.190 |\n",
      "+----------+-----+------+--------+-------+\n",
      "| mAP      |     |      |        | 0.238 |\n",
      "+----------+-----+------+--------+-------+\n",
      "2022-05-26 13:03:04,903 - mmfewshot - INFO - BASE_CLASSES_SPLIT1 mAP: 0.23848801851272583\n",
      "2022-05-26 13:03:04,904 - mmfewshot - INFO - NOVEL_CLASSES_SPLIT1 mAP: nan\n",
      "2022-05-26 13:03:04,909 - mmfewshot - INFO - Exp name: attention-rpn_r50_c4_tb-split1_1shot-fine-tuning-momentum-09.py\n",
      "2022-05-26 13:03:04,910 - mmfewshot - INFO - Iter(val) [712]\tAP50: 0.2380, BASE_CLASSES_SPLIT1: AP50: 0.2380, NOVEL_CLASSES_SPLIT1: AP50: nan, mAP: 0.2385\n",
      "/home/zhaozhiyuan/anaconda3/envs/mmfewshot/lib/python3.7/site-packages/mmdet/core/evaluation/mean_ap.py:203: DeprecationWarning: `np.bool` is a deprecated alias for the builtin `bool`. To silence this warning, use `bool` by itself. Doing this will not modify any behavior and is safe. If you specifically wanted the numpy scalar type, use `np.bool_` here.\n",
      "Deprecated in NumPy 1.20; for more details and guidance: https://numpy.org/devdocs/release/1.20.0-notes.html#deprecations\n",
      "  (np.zeros(gt_bboxes.shape[0], dtype=np.bool),\n",
      "2022-05-26 13:03:18,366 - mmfewshot - INFO - Iter [20050/100000]\tlr: 1.000e-04, eta: 7:21:23, time: 1.550, data_time: 1.292, memory: 5635, loss_rpn_cls: 0.0146, loss_rpn_bbox: 0.0072, loss_cls: 0.0586, acc: 99.4141, loss_bbox: 0.2420, loss: 0.3225\n",
      "2022-05-26 13:03:31,822 - mmfewshot - INFO - Iter [20100/100000]\tlr: 1.000e-04, eta: 7:20:54, time: 0.269, data_time: 0.012, memory: 5635, loss_rpn_cls: 0.0104, loss_rpn_bbox: 0.0056, loss_cls: 0.0500, acc: 99.6172, loss_bbox: 0.2196, loss: 0.2857\n",
      "2022-05-26 13:03:45,133 - mmfewshot - INFO - Iter [20150/100000]\tlr: 1.000e-04, eta: 7:20:25, time: 0.266, data_time: 0.011, memory: 5635, loss_rpn_cls: 0.0119, loss_rpn_bbox: 0.0071, loss_cls: 0.0643, acc: 99.4375, loss_bbox: 0.2529, loss: 0.3362\n",
      "2022-05-26 13:03:58,400 - mmfewshot - INFO - Iter [20200/100000]\tlr: 1.000e-04, eta: 7:19:55, time: 0.265, data_time: 0.011, memory: 5635, loss_rpn_cls: 0.0226, loss_rpn_bbox: 0.0082, loss_cls: 0.0694, acc: 99.5234, loss_bbox: 0.2323, loss: 0.3324\n",
      "2022-05-26 13:04:11,871 - mmfewshot - INFO - Iter [20250/100000]\tlr: 1.000e-04, eta: 7:19:27, time: 0.269, data_time: 0.012, memory: 5635, loss_rpn_cls: 0.0165, loss_rpn_bbox: 0.0052, loss_cls: 0.0714, acc: 99.3438, loss_bbox: 0.2484, loss: 0.3416\n",
      "2022-05-26 13:04:25,319 - mmfewshot - INFO - Iter [20300/100000]\tlr: 1.000e-04, eta: 7:18:58, time: 0.269, data_time: 0.013, memory: 5635, loss_rpn_cls: 0.0169, loss_rpn_bbox: 0.0062, loss_cls: 0.0726, acc: 99.4688, loss_bbox: 0.2172, loss: 0.3129\n",
      "2022-05-26 13:04:38,572 - mmfewshot - INFO - Iter [20350/100000]\tlr: 1.000e-04, eta: 7:18:29, time: 0.265, data_time: 0.011, memory: 5635, loss_rpn_cls: 0.0145, loss_rpn_bbox: 0.0084, loss_cls: 0.0716, acc: 99.4062, loss_bbox: 0.2828, loss: 0.3773\n",
      "2022-05-26 13:04:51,955 - mmfewshot - INFO - Iter [20400/100000]\tlr: 1.000e-04, eta: 7:18:00, time: 0.268, data_time: 0.011, memory: 5635, loss_rpn_cls: 0.0194, loss_rpn_bbox: 0.0084, loss_cls: 0.0745, acc: 99.4141, loss_bbox: 0.2523, loss: 0.3547\n",
      "2022-05-26 13:05:05,273 - mmfewshot - INFO - Iter [20450/100000]\tlr: 1.000e-04, eta: 7:17:31, time: 0.266, data_time: 0.012, memory: 5635, loss_rpn_cls: 0.0129, loss_rpn_bbox: 0.0052, loss_cls: 0.0641, acc: 99.4062, loss_bbox: 0.2606, loss: 0.3428\n",
      "2022-05-26 13:05:18,675 - mmfewshot - INFO - Iter [20500/100000]\tlr: 1.000e-04, eta: 7:17:03, time: 0.268, data_time: 0.012, memory: 5635, loss_rpn_cls: 0.0134, loss_rpn_bbox: 0.0054, loss_cls: 0.0470, acc: 99.5703, loss_bbox: 0.2676, loss: 0.3334\n",
      "2022-05-26 13:05:31,952 - mmfewshot - INFO - Iter [20550/100000]\tlr: 1.000e-04, eta: 7:16:34, time: 0.265, data_time: 0.011, memory: 5635, loss_rpn_cls: 0.0147, loss_rpn_bbox: 0.0056, loss_cls: 0.0605, acc: 99.4766, loss_bbox: 0.2626, loss: 0.3434\n",
      "2022-05-26 13:05:45,189 - mmfewshot - INFO - Iter [20600/100000]\tlr: 1.000e-04, eta: 7:16:05, time: 0.265, data_time: 0.012, memory: 5635, loss_rpn_cls: 0.0115, loss_rpn_bbox: 0.0065, loss_cls: 0.0646, acc: 99.3750, loss_bbox: 0.2446, loss: 0.3273\n",
      "2022-05-26 13:05:58,611 - mmfewshot - INFO - Iter [20650/100000]\tlr: 1.000e-04, eta: 7:15:36, time: 0.268, data_time: 0.012, memory: 5635, loss_rpn_cls: 0.0288, loss_rpn_bbox: 0.0114, loss_cls: 0.0596, acc: 99.5312, loss_bbox: 0.2706, loss: 0.3705\n",
      "2022-05-26 13:06:11,858 - mmfewshot - INFO - Iter [20700/100000]\tlr: 1.000e-04, eta: 7:15:08, time: 0.265, data_time: 0.011, memory: 5635, loss_rpn_cls: 0.0119, loss_rpn_bbox: 0.0066, loss_cls: 0.0694, acc: 99.4141, loss_bbox: 0.2413, loss: 0.3292\n",
      "2022-05-26 13:06:25,121 - mmfewshot - INFO - Iter [20750/100000]\tlr: 1.000e-04, eta: 7:14:39, time: 0.265, data_time: 0.011, memory: 5635, loss_rpn_cls: 0.0127, loss_rpn_bbox: 0.0084, loss_cls: 0.0797, acc: 99.5391, loss_bbox: 0.2141, loss: 0.3149\n",
      "2022-05-26 13:06:38,406 - mmfewshot - INFO - Iter [20800/100000]\tlr: 1.000e-04, eta: 7:14:11, time: 0.266, data_time: 0.012, memory: 5635, loss_rpn_cls: 0.0157, loss_rpn_bbox: 0.0068, loss_cls: 0.0537, acc: 99.5859, loss_bbox: 0.2140, loss: 0.2901\n",
      "2022-05-26 13:06:51,747 - mmfewshot - INFO - Iter [20850/100000]\tlr: 1.000e-04, eta: 7:13:42, time: 0.267, data_time: 0.011, memory: 5635, loss_rpn_cls: 0.0158, loss_rpn_bbox: 0.0084, loss_cls: 0.0656, acc: 99.3828, loss_bbox: 0.2743, loss: 0.3641\n",
      "2022-05-26 13:07:05,153 - mmfewshot - INFO - Iter [20900/100000]\tlr: 1.000e-04, eta: 7:13:14, time: 0.268, data_time: 0.012, memory: 5635, loss_rpn_cls: 0.0152, loss_rpn_bbox: 0.0061, loss_cls: 0.0710, acc: 99.3828, loss_bbox: 0.2527, loss: 0.3451\n",
      "2022-05-26 13:07:18,310 - mmfewshot - INFO - Iter [20950/100000]\tlr: 1.000e-04, eta: 7:12:46, time: 0.263, data_time: 0.011, memory: 5635, loss_rpn_cls: 0.0147, loss_rpn_bbox: 0.0052, loss_cls: 0.0633, acc: 99.6172, loss_bbox: 0.2284, loss: 0.3115\n",
      "2022-05-26 13:07:31,546 - mmfewshot - INFO - Exp name: attention-rpn_r50_c4_tb-split1_1shot-fine-tuning-momentum-09.py\n",
      "2022-05-26 13:07:31,548 - mmfewshot - INFO - Iter [21000/100000]\tlr: 1.000e-04, eta: 7:12:17, time: 0.264, data_time: 0.012, memory: 5635, loss_rpn_cls: 0.0139, loss_rpn_bbox: 0.0054, loss_cls: 0.0632, acc: 99.4609, loss_bbox: 0.2491, loss: 0.3316\n",
      "2022-05-26 13:07:31,553 - mmdet - INFO - starting model initialization...\n"
     ]
    },
    {
     "name": "stdout",
     "output_type": "stream",
     "text": [
      "[>>>>>>>>>>>>>>>>>>>>>>>>>>>>>>] 640/640, 81.8 task/s, elapsed: 8s, ETA:     0s"
     ]
    },
    {
     "name": "stderr",
     "output_type": "stream",
     "text": [
      "2022-05-26 13:07:39,467 - mmdet - INFO - model initialization done.\n"
     ]
    },
    {
     "name": "stdout",
     "output_type": "stream",
     "text": [
      "[>>>>>>>>>>>>>>>>>>>>>>>>>>>>>] 712/712, 12.8 task/s, elapsed: 56s, ETA:     0s\n",
      "---------------iou_thr: 0.5---------------\n"
     ]
    },
    {
     "name": "stderr",
     "output_type": "stream",
     "text": [
      "2022-05-26 13:08:35,704 - mmfewshot - INFO - \n",
      "+----------+-----+------+--------+-------+\n",
      "| class    | gts | dets | recall | ap    |\n",
      "+----------+-----+------+--------+-------+\n",
      "| 7up      | 810 | 3123 | 0.641  | 0.277 |\n",
      "| BudLight | 209 | 610  | 0.469  | 0.199 |\n",
      "+----------+-----+------+--------+-------+\n",
      "| mAP      |     |      |        | 0.238 |\n",
      "+----------+-----+------+--------+-------+\n",
      "2022-05-26 13:08:35,707 - mmfewshot - INFO - BASE_CLASSES_SPLIT1 mAP: 0.23802649974822998\n",
      "2022-05-26 13:08:35,708 - mmfewshot - INFO - NOVEL_CLASSES_SPLIT1 mAP: nan\n",
      "2022-05-26 13:08:35,713 - mmfewshot - INFO - Exp name: attention-rpn_r50_c4_tb-split1_1shot-fine-tuning-momentum-09.py\n",
      "2022-05-26 13:08:35,714 - mmfewshot - INFO - Iter(val) [712]\tAP50: 0.2380, BASE_CLASSES_SPLIT1: AP50: 0.2380, NOVEL_CLASSES_SPLIT1: AP50: nan, mAP: 0.2380\n",
      "2022-05-26 13:08:49,207 - mmfewshot - INFO - Iter [21050/100000]\tlr: 1.000e-04, eta: 7:15:50, time: 1.553, data_time: 1.295, memory: 5635, loss_rpn_cls: 0.0226, loss_rpn_bbox: 0.0079, loss_cls: 0.0675, acc: 99.5078, loss_bbox: 0.2597, loss: 0.3578\n",
      "2022-05-26 13:09:02,491 - mmfewshot - INFO - Iter [21100/100000]\tlr: 1.000e-04, eta: 7:15:22, time: 0.266, data_time: 0.012, memory: 5635, loss_rpn_cls: 0.0170, loss_rpn_bbox: 0.0069, loss_cls: 0.0668, acc: 99.2891, loss_bbox: 0.2854, loss: 0.3760\n",
      "2022-05-26 13:09:15,796 - mmfewshot - INFO - Iter [21150/100000]\tlr: 1.000e-04, eta: 7:14:53, time: 0.266, data_time: 0.012, memory: 5635, loss_rpn_cls: 0.0166, loss_rpn_bbox: 0.0085, loss_cls: 0.0653, acc: 99.4531, loss_bbox: 0.2590, loss: 0.3494\n",
      "2022-05-26 13:09:29,058 - mmfewshot - INFO - Iter [21200/100000]\tlr: 1.000e-04, eta: 7:14:24, time: 0.265, data_time: 0.012, memory: 5635, loss_rpn_cls: 0.0168, loss_rpn_bbox: 0.0076, loss_cls: 0.1161, acc: 99.3672, loss_bbox: 0.2424, loss: 0.3829\n",
      "2022-05-26 13:09:42,410 - mmfewshot - INFO - Iter [21250/100000]\tlr: 1.000e-04, eta: 7:13:56, time: 0.267, data_time: 0.011, memory: 5635, loss_rpn_cls: 0.0144, loss_rpn_bbox: 0.0070, loss_cls: 0.0724, acc: 99.5156, loss_bbox: 0.2054, loss: 0.2992\n",
      "2022-05-26 13:09:55,740 - mmfewshot - INFO - Iter [21300/100000]\tlr: 1.000e-04, eta: 7:13:27, time: 0.267, data_time: 0.012, memory: 5635, loss_rpn_cls: 0.0187, loss_rpn_bbox: 0.0094, loss_cls: 0.0651, acc: 99.3516, loss_bbox: 0.2459, loss: 0.3392\n",
      "2022-05-26 13:10:09,050 - mmfewshot - INFO - Iter [21350/100000]\tlr: 1.000e-04, eta: 7:12:59, time: 0.266, data_time: 0.011, memory: 5635, loss_rpn_cls: 0.0156, loss_rpn_bbox: 0.0092, loss_cls: 0.0500, acc: 99.5391, loss_bbox: 0.2437, loss: 0.3184\n",
      "2022-05-26 13:10:22,520 - mmfewshot - INFO - Iter [21400/100000]\tlr: 1.000e-04, eta: 7:12:31, time: 0.269, data_time: 0.012, memory: 5635, loss_rpn_cls: 0.0165, loss_rpn_bbox: 0.0076, loss_cls: 0.0616, acc: 99.6094, loss_bbox: 0.2275, loss: 0.3132\n",
      "2022-05-26 13:10:35,878 - mmfewshot - INFO - Iter [21450/100000]\tlr: 1.000e-04, eta: 7:12:03, time: 0.267, data_time: 0.011, memory: 5635, loss_rpn_cls: 0.0101, loss_rpn_bbox: 0.0046, loss_cls: 0.0479, acc: 99.6016, loss_bbox: 0.2430, loss: 0.3057\n",
      "2022-05-26 13:10:49,317 - mmfewshot - INFO - Iter [21500/100000]\tlr: 1.000e-04, eta: 7:11:36, time: 0.269, data_time: 0.013, memory: 5635, loss_rpn_cls: 0.0157, loss_rpn_bbox: 0.0074, loss_cls: 0.0604, acc: 99.4609, loss_bbox: 0.2787, loss: 0.3621\n",
      "2022-05-26 13:11:02,742 - mmfewshot - INFO - Iter [21550/100000]\tlr: 1.000e-04, eta: 7:11:08, time: 0.269, data_time: 0.011, memory: 5635, loss_rpn_cls: 0.0115, loss_rpn_bbox: 0.0059, loss_cls: 0.0495, acc: 99.6875, loss_bbox: 0.2259, loss: 0.2928\n",
      "2022-05-26 13:11:16,121 - mmfewshot - INFO - Iter [21600/100000]\tlr: 1.000e-04, eta: 7:10:40, time: 0.267, data_time: 0.011, memory: 5635, loss_rpn_cls: 0.0122, loss_rpn_bbox: 0.0050, loss_cls: 0.0706, acc: 99.3984, loss_bbox: 0.2523, loss: 0.3401\n",
      "2022-05-26 13:11:29,385 - mmfewshot - INFO - Iter [21650/100000]\tlr: 1.000e-04, eta: 7:10:12, time: 0.266, data_time: 0.012, memory: 5635, loss_rpn_cls: 0.0149, loss_rpn_bbox: 0.0093, loss_cls: 0.0887, acc: 99.3203, loss_bbox: 0.2393, loss: 0.3522\n",
      "2022-05-26 13:11:42,796 - mmfewshot - INFO - Iter [21700/100000]\tlr: 1.000e-04, eta: 7:09:45, time: 0.268, data_time: 0.011, memory: 5635, loss_rpn_cls: 0.0113, loss_rpn_bbox: 0.0076, loss_cls: 0.0560, acc: 99.5391, loss_bbox: 0.2684, loss: 0.3433\n",
      "2022-05-26 13:11:56,090 - mmfewshot - INFO - Iter [21750/100000]\tlr: 1.000e-04, eta: 7:09:17, time: 0.266, data_time: 0.011, memory: 5635, loss_rpn_cls: 0.0114, loss_rpn_bbox: 0.0049, loss_cls: 0.0619, acc: 99.5703, loss_bbox: 0.2476, loss: 0.3259\n",
      "2022-05-26 13:12:09,430 - mmfewshot - INFO - Iter [21800/100000]\tlr: 1.000e-04, eta: 7:08:49, time: 0.267, data_time: 0.012, memory: 5635, loss_rpn_cls: 0.0175, loss_rpn_bbox: 0.0069, loss_cls: 0.0660, acc: 99.3750, loss_bbox: 0.2688, loss: 0.3593\n",
      "2022-05-26 13:12:22,870 - mmfewshot - INFO - Iter [21850/100000]\tlr: 1.000e-04, eta: 7:08:22, time: 0.269, data_time: 0.012, memory: 5635, loss_rpn_cls: 0.0148, loss_rpn_bbox: 0.0084, loss_cls: 0.0678, acc: 99.4766, loss_bbox: 0.2594, loss: 0.3503\n",
      "2022-05-26 13:12:36,172 - mmfewshot - INFO - Iter [21900/100000]\tlr: 1.000e-04, eta: 7:07:54, time: 0.266, data_time: 0.012, memory: 5635, loss_rpn_cls: 0.0109, loss_rpn_bbox: 0.0061, loss_cls: 0.0508, acc: 99.5781, loss_bbox: 0.2250, loss: 0.2928\n",
      "2022-05-26 13:12:49,543 - mmfewshot - INFO - Iter [21950/100000]\tlr: 1.000e-04, eta: 7:07:27, time: 0.268, data_time: 0.011, memory: 5635, loss_rpn_cls: 0.0079, loss_rpn_bbox: 0.0036, loss_cls: 0.0591, acc: 99.5234, loss_bbox: 0.2406, loss: 0.3112\n",
      "2022-05-26 13:13:02,830 - mmfewshot - INFO - Exp name: attention-rpn_r50_c4_tb-split1_1shot-fine-tuning-momentum-09.py\n",
      "2022-05-26 13:13:02,832 - mmfewshot - INFO - Iter [22000/100000]\tlr: 1.000e-04, eta: 7:06:59, time: 0.266, data_time: 0.011, memory: 5635, loss_rpn_cls: 0.0174, loss_rpn_bbox: 0.0058, loss_cls: 0.0604, acc: 99.5234, loss_bbox: 0.2380, loss: 0.3216\n",
      "2022-05-26 13:13:02,839 - mmdet - INFO - starting model initialization...\n"
     ]
    },
    {
     "name": "stdout",
     "output_type": "stream",
     "text": [
      "[>>>>>>>>>>>>>>>>>>>>>>>>>>>>>>] 640/640, 79.2 task/s, elapsed: 8s, ETA:     0s"
     ]
    },
    {
     "name": "stderr",
     "output_type": "stream",
     "text": [
      "2022-05-26 13:13:11,006 - mmdet - INFO - model initialization done.\n"
     ]
    },
    {
     "name": "stdout",
     "output_type": "stream",
     "text": [
      "[>>>>>>>>>>>>>>>>>>>>>>>>>>>>>] 712/712, 12.7 task/s, elapsed: 56s, ETA:     0s\n",
      "---------------iou_thr: 0.5---------------\n"
     ]
    },
    {
     "name": "stderr",
     "output_type": "stream",
     "text": [
      "2022-05-26 13:14:07,530 - mmfewshot - INFO - \n",
      "+----------+-----+------+--------+-------+\n",
      "| class    | gts | dets | recall | ap    |\n",
      "+----------+-----+------+--------+-------+\n",
      "| 7up      | 810 | 3512 | 0.646  | 0.315 |\n",
      "| BudLight | 209 | 774  | 0.445  | 0.198 |\n",
      "+----------+-----+------+--------+-------+\n",
      "| mAP      |     |      |        | 0.256 |\n",
      "+----------+-----+------+--------+-------+\n",
      "2022-05-26 13:14:07,533 - mmfewshot - INFO - BASE_CLASSES_SPLIT1 mAP: 0.25612518191337585\n",
      "2022-05-26 13:14:07,534 - mmfewshot - INFO - NOVEL_CLASSES_SPLIT1 mAP: nan\n",
      "2022-05-26 13:14:07,538 - mmfewshot - INFO - Exp name: attention-rpn_r50_c4_tb-split1_1shot-fine-tuning-momentum-09.py\n",
      "2022-05-26 13:14:07,539 - mmfewshot - INFO - Iter(val) [712]\tAP50: 0.2560, BASE_CLASSES_SPLIT1: AP50: 0.2560, NOVEL_CLASSES_SPLIT1: AP50: nan, mAP: 0.2561\n",
      "2022-05-26 13:14:20,958 - mmfewshot - INFO - Iter [22050/100000]\tlr: 1.000e-04, eta: 7:10:21, time: 1.563, data_time: 1.306, memory: 5635, loss_rpn_cls: 0.0128, loss_rpn_bbox: 0.0086, loss_cls: 0.0636, acc: 99.5000, loss_bbox: 0.2711, loss: 0.3562\n",
      "2022-05-26 13:14:34,421 - mmfewshot - INFO - Iter [22100/100000]\tlr: 1.000e-04, eta: 7:09:53, time: 0.269, data_time: 0.012, memory: 5635, loss_rpn_cls: 0.0149, loss_rpn_bbox: 0.0058, loss_cls: 0.0582, acc: 99.4688, loss_bbox: 0.2285, loss: 0.3074\n",
      "2022-05-26 13:14:47,810 - mmfewshot - INFO - Iter [22150/100000]\tlr: 1.000e-04, eta: 7:09:26, time: 0.268, data_time: 0.011, memory: 5635, loss_rpn_cls: 0.0150, loss_rpn_bbox: 0.0080, loss_cls: 0.0717, acc: 99.4844, loss_bbox: 0.2419, loss: 0.3366\n",
      "2022-05-26 13:15:01,146 - mmfewshot - INFO - Iter [22200/100000]\tlr: 1.000e-04, eta: 7:08:58, time: 0.266, data_time: 0.011, memory: 5635, loss_rpn_cls: 0.0176, loss_rpn_bbox: 0.0127, loss_cls: 0.0683, acc: 99.4453, loss_bbox: 0.2544, loss: 0.3530\n",
      "2022-05-26 13:15:14,509 - mmfewshot - INFO - Iter [22250/100000]\tlr: 1.000e-04, eta: 7:08:30, time: 0.267, data_time: 0.012, memory: 5635, loss_rpn_cls: 0.0207, loss_rpn_bbox: 0.0085, loss_cls: 0.0699, acc: 99.4219, loss_bbox: 0.2453, loss: 0.3443\n",
      "2022-05-26 13:15:28,052 - mmfewshot - INFO - Iter [22300/100000]\tlr: 1.000e-04, eta: 7:08:03, time: 0.271, data_time: 0.012, memory: 5635, loss_rpn_cls: 0.0176, loss_rpn_bbox: 0.0080, loss_cls: 0.0559, acc: 99.4688, loss_bbox: 0.2684, loss: 0.3498\n",
      "2022-05-26 13:15:41,287 - mmfewshot - INFO - Iter [22350/100000]\tlr: 1.000e-04, eta: 7:07:35, time: 0.265, data_time: 0.012, memory: 5635, loss_rpn_cls: 0.0138, loss_rpn_bbox: 0.0076, loss_cls: 0.0569, acc: 99.5000, loss_bbox: 0.2498, loss: 0.3282\n",
      "2022-05-26 13:15:54,553 - mmfewshot - INFO - Iter [22400/100000]\tlr: 1.000e-04, eta: 7:07:08, time: 0.265, data_time: 0.012, memory: 5635, loss_rpn_cls: 0.0125, loss_rpn_bbox: 0.0052, loss_cls: 0.0613, acc: 99.5547, loss_bbox: 0.2298, loss: 0.3088\n",
      "2022-05-26 13:16:07,808 - mmfewshot - INFO - Iter [22450/100000]\tlr: 1.000e-04, eta: 7:06:40, time: 0.265, data_time: 0.012, memory: 5635, loss_rpn_cls: 0.0105, loss_rpn_bbox: 0.0040, loss_cls: 0.0642, acc: 99.5547, loss_bbox: 0.2134, loss: 0.2921\n",
      "2022-05-26 13:16:21,064 - mmfewshot - INFO - Iter [22500/100000]\tlr: 1.000e-04, eta: 7:06:12, time: 0.265, data_time: 0.011, memory: 5635, loss_rpn_cls: 0.0114, loss_rpn_bbox: 0.0075, loss_cls: 0.0487, acc: 99.5625, loss_bbox: 0.2692, loss: 0.3369\n",
      "2022-05-26 13:16:34,334 - mmfewshot - INFO - Iter [22550/100000]\tlr: 1.000e-04, eta: 7:05:45, time: 0.265, data_time: 0.011, memory: 5635, loss_rpn_cls: 0.0156, loss_rpn_bbox: 0.0072, loss_cls: 0.0680, acc: 99.5469, loss_bbox: 0.2503, loss: 0.3411\n",
      "2022-05-26 13:16:47,578 - mmfewshot - INFO - Iter [22600/100000]\tlr: 1.000e-04, eta: 7:05:17, time: 0.264, data_time: 0.011, memory: 5635, loss_rpn_cls: 0.0115, loss_rpn_bbox: 0.0052, loss_cls: 0.0585, acc: 99.4375, loss_bbox: 0.2723, loss: 0.3475\n",
      "2022-05-26 13:17:00,642 - mmfewshot - INFO - Iter [22650/100000]\tlr: 1.000e-04, eta: 7:04:49, time: 0.261, data_time: 0.010, memory: 5635, loss_rpn_cls: 0.0169, loss_rpn_bbox: 0.0077, loss_cls: 0.0935, acc: 99.3984, loss_bbox: 0.2392, loss: 0.3572\n",
      "2022-05-26 13:17:13,875 - mmfewshot - INFO - Iter [22700/100000]\tlr: 1.000e-04, eta: 7:04:21, time: 0.265, data_time: 0.011, memory: 5635, loss_rpn_cls: 0.0092, loss_rpn_bbox: 0.0058, loss_cls: 0.0701, acc: 99.4141, loss_bbox: 0.2392, loss: 0.3243\n",
      "2022-05-26 13:17:27,132 - mmfewshot - INFO - Iter [22750/100000]\tlr: 1.000e-04, eta: 7:03:54, time: 0.265, data_time: 0.011, memory: 5635, loss_rpn_cls: 0.0157, loss_rpn_bbox: 0.0067, loss_cls: 0.0550, acc: 99.3984, loss_bbox: 0.2699, loss: 0.3472\n",
      "2022-05-26 13:17:40,551 - mmfewshot - INFO - Iter [22800/100000]\tlr: 1.000e-04, eta: 7:03:27, time: 0.269, data_time: 0.012, memory: 5635, loss_rpn_cls: 0.0129, loss_rpn_bbox: 0.0083, loss_cls: 0.0535, acc: 99.4531, loss_bbox: 0.2670, loss: 0.3417\n",
      "2022-05-26 13:17:53,821 - mmfewshot - INFO - Iter [22850/100000]\tlr: 1.000e-04, eta: 7:03:00, time: 0.265, data_time: 0.011, memory: 5635, loss_rpn_cls: 0.0093, loss_rpn_bbox: 0.0035, loss_cls: 0.0422, acc: 99.6875, loss_bbox: 0.2304, loss: 0.2855\n",
      "2022-05-26 13:18:07,171 - mmfewshot - INFO - Iter [22900/100000]\tlr: 1.000e-04, eta: 7:02:33, time: 0.267, data_time: 0.011, memory: 5635, loss_rpn_cls: 0.0125, loss_rpn_bbox: 0.0063, loss_cls: 0.0402, acc: 99.6172, loss_bbox: 0.2581, loss: 0.3170\n",
      "2022-05-26 13:18:20,557 - mmfewshot - INFO - Iter [22950/100000]\tlr: 1.000e-04, eta: 7:02:06, time: 0.268, data_time: 0.011, memory: 5635, loss_rpn_cls: 0.0095, loss_rpn_bbox: 0.0056, loss_cls: 0.0610, acc: 99.4609, loss_bbox: 0.2596, loss: 0.3357\n",
      "2022-05-26 13:18:33,980 - mmfewshot - INFO - Exp name: attention-rpn_r50_c4_tb-split1_1shot-fine-tuning-momentum-09.py\n",
      "2022-05-26 13:18:33,981 - mmfewshot - INFO - Iter [23000/100000]\tlr: 1.000e-04, eta: 7:01:40, time: 0.269, data_time: 0.012, memory: 5635, loss_rpn_cls: 0.0130, loss_rpn_bbox: 0.0087, loss_cls: 0.0538, acc: 99.5469, loss_bbox: 0.2518, loss: 0.3273\n",
      "2022-05-26 13:18:33,986 - mmdet - INFO - starting model initialization...\n"
     ]
    },
    {
     "name": "stdout",
     "output_type": "stream",
     "text": [
      "[>>>>>>>>>>>>>>>>>>>>>>>>>>>>>>] 640/640, 76.6 task/s, elapsed: 8s, ETA:     0s"
     ]
    },
    {
     "name": "stderr",
     "output_type": "stream",
     "text": [
      "2022-05-26 13:18:42,417 - mmdet - INFO - model initialization done.\n"
     ]
    },
    {
     "name": "stdout",
     "output_type": "stream",
     "text": [
      "[>>>>>>>>>>>>>>>>>>>>>>>>>>>>>] 712/712, 12.4 task/s, elapsed: 58s, ETA:     0s\n",
      "---------------iou_thr: 0.5---------------\n"
     ]
    },
    {
     "name": "stderr",
     "output_type": "stream",
     "text": [
      "2022-05-26 13:19:40,406 - mmfewshot - INFO - \n",
      "+----------+-----+------+--------+-------+\n",
      "| class    | gts | dets | recall | ap    |\n",
      "+----------+-----+------+--------+-------+\n",
      "| 7up      | 810 | 3762 | 0.672  | 0.345 |\n",
      "| BudLight | 209 | 676  | 0.459  | 0.187 |\n",
      "+----------+-----+------+--------+-------+\n",
      "| mAP      |     |      |        | 0.266 |\n",
      "+----------+-----+------+--------+-------+\n",
      "2022-05-26 13:19:40,475 - mmfewshot - INFO - BASE_CLASSES_SPLIT1 mAP: 0.2662186026573181\n",
      "2022-05-26 13:19:40,476 - mmfewshot - INFO - NOVEL_CLASSES_SPLIT1 mAP: nan\n",
      "2022-05-26 13:19:40,481 - mmfewshot - INFO - Exp name: attention-rpn_r50_c4_tb-split1_1shot-fine-tuning-momentum-09.py\n",
      "2022-05-26 13:19:40,482 - mmfewshot - INFO - Iter(val) [712]\tAP50: 0.2660, BASE_CLASSES_SPLIT1: AP50: 0.2660, NOVEL_CLASSES_SPLIT1: AP50: nan, mAP: 0.2662\n",
      "2022-05-26 13:19:53,813 - mmfewshot - INFO - Iter [23050/100000]\tlr: 1.000e-04, eta: 7:04:55, time: 1.596, data_time: 1.342, memory: 5635, loss_rpn_cls: 0.0170, loss_rpn_bbox: 0.0088, loss_cls: 0.0568, acc: 99.5000, loss_bbox: 0.2409, loss: 0.3234\n",
      "2022-05-26 13:20:07,085 - mmfewshot - INFO - Iter [23100/100000]\tlr: 1.000e-04, eta: 7:04:27, time: 0.266, data_time: 0.012, memory: 5635, loss_rpn_cls: 0.0184, loss_rpn_bbox: 0.0095, loss_cls: 0.0586, acc: 99.5312, loss_bbox: 0.2529, loss: 0.3394\n",
      "2022-05-26 13:20:20,549 - mmfewshot - INFO - Iter [23150/100000]\tlr: 1.000e-04, eta: 7:04:01, time: 0.269, data_time: 0.012, memory: 5635, loss_rpn_cls: 0.0151, loss_rpn_bbox: 0.0064, loss_cls: 0.0487, acc: 99.5547, loss_bbox: 0.2328, loss: 0.3030\n",
      "2022-05-26 13:20:33,974 - mmfewshot - INFO - Iter [23200/100000]\tlr: 1.000e-04, eta: 7:03:34, time: 0.268, data_time: 0.012, memory: 5635, loss_rpn_cls: 0.0129, loss_rpn_bbox: 0.0063, loss_cls: 0.0666, acc: 99.5156, loss_bbox: 0.2438, loss: 0.3296\n",
      "2022-05-26 13:20:47,317 - mmfewshot - INFO - Iter [23250/100000]\tlr: 1.000e-04, eta: 7:03:07, time: 0.267, data_time: 0.012, memory: 5635, loss_rpn_cls: 0.0172, loss_rpn_bbox: 0.0079, loss_cls: 0.0619, acc: 99.3750, loss_bbox: 0.2727, loss: 0.3597\n",
      "2022-05-26 13:21:00,753 - mmfewshot - INFO - Iter [23300/100000]\tlr: 1.000e-04, eta: 7:02:40, time: 0.269, data_time: 0.012, memory: 5635, loss_rpn_cls: 0.0134, loss_rpn_bbox: 0.0058, loss_cls: 0.0610, acc: 99.5234, loss_bbox: 0.2283, loss: 0.3085\n",
      "2022-05-26 13:21:14,113 - mmfewshot - INFO - Iter [23350/100000]\tlr: 1.000e-04, eta: 7:02:13, time: 0.267, data_time: 0.012, memory: 5635, loss_rpn_cls: 0.0198, loss_rpn_bbox: 0.0077, loss_cls: 0.0632, acc: 99.4141, loss_bbox: 0.2677, loss: 0.3585\n",
      "2022-05-26 13:21:27,620 - mmfewshot - INFO - Iter [23400/100000]\tlr: 1.000e-04, eta: 7:01:47, time: 0.270, data_time: 0.013, memory: 5635, loss_rpn_cls: 0.0206, loss_rpn_bbox: 0.0087, loss_cls: 0.0838, acc: 99.4219, loss_bbox: 0.2656, loss: 0.3786\n",
      "2022-05-26 13:21:41,046 - mmfewshot - INFO - Iter [23450/100000]\tlr: 1.000e-04, eta: 7:01:20, time: 0.268, data_time: 0.011, memory: 5635, loss_rpn_cls: 0.0094, loss_rpn_bbox: 0.0057, loss_cls: 0.0563, acc: 99.5000, loss_bbox: 0.2376, loss: 0.3091\n",
      "2022-05-26 13:21:54,491 - mmfewshot - INFO - Iter [23500/100000]\tlr: 1.000e-04, eta: 7:00:53, time: 0.269, data_time: 0.012, memory: 5635, loss_rpn_cls: 0.0116, loss_rpn_bbox: 0.0047, loss_cls: 0.0569, acc: 99.5391, loss_bbox: 0.2694, loss: 0.3426\n",
      "2022-05-26 13:22:07,860 - mmfewshot - INFO - Iter [23550/100000]\tlr: 1.000e-04, eta: 7:00:27, time: 0.267, data_time: 0.012, memory: 5635, loss_rpn_cls: 0.0196, loss_rpn_bbox: 0.0080, loss_cls: 0.0571, acc: 99.5547, loss_bbox: 0.2549, loss: 0.3396\n",
      "2022-05-26 13:22:21,322 - mmfewshot - INFO - Iter [23600/100000]\tlr: 1.000e-04, eta: 7:00:00, time: 0.270, data_time: 0.013, memory: 5635, loss_rpn_cls: 0.0136, loss_rpn_bbox: 0.0068, loss_cls: 0.0463, acc: 99.6328, loss_bbox: 0.2458, loss: 0.3125\n",
      "2022-05-26 13:22:34,679 - mmfewshot - INFO - Iter [23650/100000]\tlr: 1.000e-04, eta: 6:59:34, time: 0.267, data_time: 0.011, memory: 5635, loss_rpn_cls: 0.0113, loss_rpn_bbox: 0.0083, loss_cls: 0.0576, acc: 99.5312, loss_bbox: 0.2190, loss: 0.2962\n",
      "2022-05-26 13:22:48,025 - mmfewshot - INFO - Iter [23700/100000]\tlr: 1.000e-04, eta: 6:59:07, time: 0.267, data_time: 0.011, memory: 5635, loss_rpn_cls: 0.0118, loss_rpn_bbox: 0.0054, loss_cls: 0.0562, acc: 99.4766, loss_bbox: 0.2393, loss: 0.3127\n",
      "2022-05-26 13:23:01,267 - mmfewshot - INFO - Iter [23750/100000]\tlr: 1.000e-04, eta: 6:58:40, time: 0.265, data_time: 0.010, memory: 5635, loss_rpn_cls: 0.0117, loss_rpn_bbox: 0.0061, loss_cls: 0.0694, acc: 99.5000, loss_bbox: 0.2345, loss: 0.3217\n",
      "2022-05-26 13:23:14,522 - mmfewshot - INFO - Iter [23800/100000]\tlr: 1.000e-04, eta: 6:58:13, time: 0.265, data_time: 0.010, memory: 5635, loss_rpn_cls: 0.0133, loss_rpn_bbox: 0.0075, loss_cls: 0.0528, acc: 99.4922, loss_bbox: 0.2627, loss: 0.3364\n",
      "2022-05-26 13:23:27,874 - mmfewshot - INFO - Iter [23850/100000]\tlr: 1.000e-04, eta: 6:57:47, time: 0.267, data_time: 0.012, memory: 5635, loss_rpn_cls: 0.0151, loss_rpn_bbox: 0.0089, loss_cls: 0.0507, acc: 99.5391, loss_bbox: 0.2820, loss: 0.3567\n",
      "2022-05-26 13:23:41,169 - mmfewshot - INFO - Iter [23900/100000]\tlr: 1.000e-04, eta: 6:57:21, time: 0.266, data_time: 0.012, memory: 5635, loss_rpn_cls: 0.0069, loss_rpn_bbox: 0.0044, loss_cls: 0.0449, acc: 99.5391, loss_bbox: 0.2332, loss: 0.2894\n",
      "2022-05-26 13:23:54,448 - mmfewshot - INFO - Iter [23950/100000]\tlr: 1.000e-04, eta: 6:56:54, time: 0.266, data_time: 0.012, memory: 5635, loss_rpn_cls: 0.0160, loss_rpn_bbox: 0.0075, loss_cls: 0.0590, acc: 99.4922, loss_bbox: 0.2306, loss: 0.3130\n",
      "2022-05-26 13:24:07,779 - mmfewshot - INFO - Exp name: attention-rpn_r50_c4_tb-split1_1shot-fine-tuning-momentum-09.py\n",
      "2022-05-26 13:24:07,780 - mmfewshot - INFO - Iter [24000/100000]\tlr: 1.000e-04, eta: 6:56:28, time: 0.267, data_time: 0.011, memory: 5635, loss_rpn_cls: 0.0157, loss_rpn_bbox: 0.0055, loss_cls: 0.0804, acc: 99.3516, loss_bbox: 0.2535, loss: 0.3551\n",
      "2022-05-26 13:24:07,784 - mmdet - INFO - starting model initialization...\n"
     ]
    },
    {
     "name": "stdout",
     "output_type": "stream",
     "text": [
      "[>>>>>>>>>>>>>>>>>>>>>>>>>>>>>>] 640/640, 77.6 task/s, elapsed: 8s, ETA:     0s"
     ]
    },
    {
     "name": "stderr",
     "output_type": "stream",
     "text": [
      "2022-05-26 13:24:16,099 - mmdet - INFO - model initialization done.\n"
     ]
    },
    {
     "name": "stdout",
     "output_type": "stream",
     "text": [
      "[>>>>>>>>>>>>>>>>>>>>>>>>>>>>>] 712/712, 12.8 task/s, elapsed: 56s, ETA:     0s\n",
      "---------------iou_thr: 0.5---------------\n"
     ]
    },
    {
     "name": "stderr",
     "output_type": "stream",
     "text": [
      "2022-05-26 13:25:12,313 - mmfewshot - INFO - \n",
      "+----------+-----+------+--------+-------+\n",
      "| class    | gts | dets | recall | ap    |\n",
      "+----------+-----+------+--------+-------+\n",
      "| 7up      | 810 | 3892 | 0.642  | 0.268 |\n",
      "| BudLight | 209 | 897  | 0.474  | 0.188 |\n",
      "+----------+-----+------+--------+-------+\n",
      "| mAP      |     |      |        | 0.228 |\n",
      "+----------+-----+------+--------+-------+\n",
      "2022-05-26 13:25:12,317 - mmfewshot - INFO - BASE_CLASSES_SPLIT1 mAP: 0.22757737338542938\n",
      "2022-05-26 13:25:12,318 - mmfewshot - INFO - NOVEL_CLASSES_SPLIT1 mAP: nan\n",
      "2022-05-26 13:25:12,323 - mmfewshot - INFO - Exp name: attention-rpn_r50_c4_tb-split1_1shot-fine-tuning-momentum-09.py\n",
      "2022-05-26 13:25:12,325 - mmfewshot - INFO - Iter(val) [712]\tAP50: 0.2280, BASE_CLASSES_SPLIT1: AP50: 0.2280, NOVEL_CLASSES_SPLIT1: AP50: nan, mAP: 0.2276\n",
      "2022-05-26 13:25:25,822 - mmfewshot - INFO - Iter [24050/100000]\tlr: 1.000e-04, eta: 6:59:26, time: 1.561, data_time: 1.304, memory: 5635, loss_rpn_cls: 0.0116, loss_rpn_bbox: 0.0055, loss_cls: 0.0576, acc: 99.5078, loss_bbox: 0.2284, loss: 0.3032\n",
      "2022-05-26 13:25:39,208 - mmfewshot - INFO - Iter [24100/100000]\tlr: 1.000e-04, eta: 6:58:59, time: 0.268, data_time: 0.012, memory: 5635, loss_rpn_cls: 0.0177, loss_rpn_bbox: 0.0061, loss_cls: 0.0744, acc: 99.5078, loss_bbox: 0.2135, loss: 0.3116\n",
      "2022-05-26 13:25:52,485 - mmfewshot - INFO - Iter [24150/100000]\tlr: 1.000e-04, eta: 6:58:32, time: 0.266, data_time: 0.011, memory: 5635, loss_rpn_cls: 0.0141, loss_rpn_bbox: 0.0076, loss_cls: 0.0502, acc: 99.5547, loss_bbox: 0.2756, loss: 0.3475\n",
      "2022-05-26 13:26:05,966 - mmfewshot - INFO - Iter [24200/100000]\tlr: 1.000e-04, eta: 6:58:06, time: 0.270, data_time: 0.011, memory: 5635, loss_rpn_cls: 0.0141, loss_rpn_bbox: 0.0083, loss_cls: 0.0558, acc: 99.4766, loss_bbox: 0.2657, loss: 0.3439\n",
      "2022-05-26 13:26:19,292 - mmfewshot - INFO - Iter [24250/100000]\tlr: 1.000e-04, eta: 6:57:40, time: 0.266, data_time: 0.010, memory: 5635, loss_rpn_cls: 0.0143, loss_rpn_bbox: 0.0072, loss_cls: 0.0466, acc: 99.5859, loss_bbox: 0.2493, loss: 0.3173\n",
      "2022-05-26 13:26:32,582 - mmfewshot - INFO - Iter [24300/100000]\tlr: 1.000e-04, eta: 6:57:13, time: 0.266, data_time: 0.012, memory: 5635, loss_rpn_cls: 0.0116, loss_rpn_bbox: 0.0061, loss_cls: 0.0492, acc: 99.5781, loss_bbox: 0.2563, loss: 0.3232\n",
      "2022-05-26 13:26:45,965 - mmfewshot - INFO - Iter [24350/100000]\tlr: 1.000e-04, eta: 6:56:47, time: 0.268, data_time: 0.013, memory: 5635, loss_rpn_cls: 0.0087, loss_rpn_bbox: 0.0055, loss_cls: 0.0538, acc: 99.5938, loss_bbox: 0.2665, loss: 0.3345\n",
      "2022-05-26 13:26:59,347 - mmfewshot - INFO - Iter [24400/100000]\tlr: 1.000e-04, eta: 6:56:20, time: 0.268, data_time: 0.012, memory: 5635, loss_rpn_cls: 0.0134, loss_rpn_bbox: 0.0058, loss_cls: 0.0758, acc: 99.3281, loss_bbox: 0.2398, loss: 0.3348\n",
      "2022-05-26 13:27:12,772 - mmfewshot - INFO - Iter [24450/100000]\tlr: 1.000e-04, eta: 6:55:54, time: 0.268, data_time: 0.011, memory: 5635, loss_rpn_cls: 0.0100, loss_rpn_bbox: 0.0056, loss_cls: 0.0546, acc: 99.4062, loss_bbox: 0.2942, loss: 0.3644\n",
      "2022-05-26 13:27:26,173 - mmfewshot - INFO - Iter [24500/100000]\tlr: 1.000e-04, eta: 6:55:28, time: 0.268, data_time: 0.011, memory: 5635, loss_rpn_cls: 0.0161, loss_rpn_bbox: 0.0132, loss_cls: 0.0636, acc: 99.4141, loss_bbox: 0.2647, loss: 0.3576\n",
      "2022-05-26 13:27:39,604 - mmfewshot - INFO - Iter [24550/100000]\tlr: 1.000e-04, eta: 6:55:02, time: 0.269, data_time: 0.012, memory: 5635, loss_rpn_cls: 0.0123, loss_rpn_bbox: 0.0055, loss_cls: 0.0621, acc: 99.3516, loss_bbox: 0.2712, loss: 0.3511\n",
      "2022-05-26 13:27:52,956 - mmfewshot - INFO - Iter [24600/100000]\tlr: 1.000e-04, eta: 6:54:36, time: 0.267, data_time: 0.011, memory: 5635, loss_rpn_cls: 0.0152, loss_rpn_bbox: 0.0062, loss_cls: 0.0585, acc: 99.5000, loss_bbox: 0.2478, loss: 0.3277\n",
      "2022-05-26 13:28:06,227 - mmfewshot - INFO - Iter [24650/100000]\tlr: 1.000e-04, eta: 6:54:10, time: 0.266, data_time: 0.011, memory: 5635, loss_rpn_cls: 0.0110, loss_rpn_bbox: 0.0070, loss_cls: 0.0417, acc: 99.6328, loss_bbox: 0.2580, loss: 0.3178\n",
      "2022-05-26 13:28:19,667 - mmfewshot - INFO - Iter [24700/100000]\tlr: 1.000e-04, eta: 6:53:44, time: 0.269, data_time: 0.011, memory: 5635, loss_rpn_cls: 0.0109, loss_rpn_bbox: 0.0065, loss_cls: 0.0579, acc: 99.4531, loss_bbox: 0.2446, loss: 0.3199\n",
      "2022-05-26 13:28:33,040 - mmfewshot - INFO - Iter [24750/100000]\tlr: 1.000e-04, eta: 6:53:18, time: 0.268, data_time: 0.011, memory: 5635, loss_rpn_cls: 0.0136, loss_rpn_bbox: 0.0052, loss_cls: 0.0483, acc: 99.5547, loss_bbox: 0.2434, loss: 0.3104\n",
      "2022-05-26 13:28:46,405 - mmfewshot - INFO - Iter [24800/100000]\tlr: 1.000e-04, eta: 6:52:52, time: 0.268, data_time: 0.012, memory: 5635, loss_rpn_cls: 0.0116, loss_rpn_bbox: 0.0050, loss_cls: 0.0409, acc: 99.6250, loss_bbox: 0.2402, loss: 0.2977\n",
      "2022-05-26 13:28:59,815 - mmfewshot - INFO - Iter [24850/100000]\tlr: 1.000e-04, eta: 6:52:26, time: 0.268, data_time: 0.011, memory: 5635, loss_rpn_cls: 0.0117, loss_rpn_bbox: 0.0087, loss_cls: 0.0452, acc: 99.5781, loss_bbox: 0.2465, loss: 0.3121\n",
      "2022-05-26 13:29:13,139 - mmfewshot - INFO - Iter [24900/100000]\tlr: 1.000e-04, eta: 6:52:00, time: 0.266, data_time: 0.011, memory: 5635, loss_rpn_cls: 0.0160, loss_rpn_bbox: 0.0084, loss_cls: 0.0534, acc: 99.5234, loss_bbox: 0.2784, loss: 0.3563\n",
      "2022-05-26 13:29:26,438 - mmfewshot - INFO - Iter [24950/100000]\tlr: 1.000e-04, eta: 6:51:34, time: 0.266, data_time: 0.011, memory: 5635, loss_rpn_cls: 0.0161, loss_rpn_bbox: 0.0108, loss_cls: 0.0550, acc: 99.4453, loss_bbox: 0.2642, loss: 0.3461\n",
      "2022-05-26 13:29:39,904 - mmfewshot - INFO - Exp name: attention-rpn_r50_c4_tb-split1_1shot-fine-tuning-momentum-09.py\n",
      "2022-05-26 13:29:39,906 - mmfewshot - INFO - Iter [25000/100000]\tlr: 1.000e-04, eta: 6:51:09, time: 0.270, data_time: 0.012, memory: 5635, loss_rpn_cls: 0.0114, loss_rpn_bbox: 0.0082, loss_cls: 0.0619, acc: 99.4609, loss_bbox: 0.2361, loss: 0.3176\n",
      "2022-05-26 13:29:39,910 - mmdet - INFO - starting model initialization...\n"
     ]
    },
    {
     "name": "stdout",
     "output_type": "stream",
     "text": [
      "[>>>>>>>>>>>>>>>>>>>>>>>>>>>>>>] 640/640, 80.2 task/s, elapsed: 8s, ETA:     0s"
     ]
    },
    {
     "name": "stderr",
     "output_type": "stream",
     "text": [
      "2022-05-26 13:29:47,964 - mmdet - INFO - model initialization done.\n"
     ]
    },
    {
     "name": "stdout",
     "output_type": "stream",
     "text": [
      "[>>>>>>>>>>>>>>>>>>>>>>>>>>>>>] 712/712, 12.3 task/s, elapsed: 58s, ETA:     0s\n",
      "---------------iou_thr: 0.5---------------\n"
     ]
    },
    {
     "name": "stderr",
     "output_type": "stream",
     "text": [
      "2022-05-26 13:30:46,063 - mmfewshot - INFO - \n",
      "+----------+-----+------+--------+-------+\n",
      "| class    | gts | dets | recall | ap    |\n",
      "+----------+-----+------+--------+-------+\n",
      "| 7up      | 810 | 2888 | 0.644  | 0.317 |\n",
      "| BudLight | 209 | 438  | 0.392  | 0.195 |\n",
      "+----------+-----+------+--------+-------+\n",
      "| mAP      |     |      |        | 0.256 |\n",
      "+----------+-----+------+--------+-------+\n",
      "2022-05-26 13:30:46,066 - mmfewshot - INFO - BASE_CLASSES_SPLIT1 mAP: 0.25561022758483887\n",
      "2022-05-26 13:30:46,067 - mmfewshot - INFO - NOVEL_CLASSES_SPLIT1 mAP: nan\n",
      "2022-05-26 13:30:46,071 - mmfewshot - INFO - Exp name: attention-rpn_r50_c4_tb-split1_1shot-fine-tuning-momentum-09.py\n",
      "2022-05-26 13:30:46,072 - mmfewshot - INFO - Iter(val) [712]\tAP50: 0.2560, BASE_CLASSES_SPLIT1: AP50: 0.2560, NOVEL_CLASSES_SPLIT1: AP50: nan, mAP: 0.2556\n",
      "2022-05-26 13:30:59,566 - mmfewshot - INFO - Iter [25050/100000]\tlr: 1.000e-04, eta: 6:54:02, time: 1.593, data_time: 1.335, memory: 5635, loss_rpn_cls: 0.0155, loss_rpn_bbox: 0.0114, loss_cls: 0.0821, acc: 99.3281, loss_bbox: 0.2246, loss: 0.3336\n",
      "2022-05-26 13:31:12,952 - mmfewshot - INFO - Iter [25100/100000]\tlr: 1.000e-04, eta: 6:53:35, time: 0.267, data_time: 0.012, memory: 5635, loss_rpn_cls: 0.0143, loss_rpn_bbox: 0.0085, loss_cls: 0.0486, acc: 99.4766, loss_bbox: 0.2878, loss: 0.3591\n",
      "2022-05-26 13:31:26,375 - mmfewshot - INFO - Iter [25150/100000]\tlr: 1.000e-04, eta: 6:53:10, time: 0.269, data_time: 0.012, memory: 5635, loss_rpn_cls: 0.0109, loss_rpn_bbox: 0.0057, loss_cls: 0.0673, acc: 99.5703, loss_bbox: 0.2175, loss: 0.3013\n",
      "2022-05-26 13:31:39,767 - mmfewshot - INFO - Iter [25200/100000]\tlr: 1.000e-04, eta: 6:52:44, time: 0.268, data_time: 0.012, memory: 5635, loss_rpn_cls: 0.0129, loss_rpn_bbox: 0.0070, loss_cls: 0.0572, acc: 99.4297, loss_bbox: 0.2821, loss: 0.3593\n",
      "2022-05-26 13:31:53,225 - mmfewshot - INFO - Iter [25250/100000]\tlr: 1.000e-04, eta: 6:52:18, time: 0.269, data_time: 0.012, memory: 5635, loss_rpn_cls: 0.0156, loss_rpn_bbox: 0.0081, loss_cls: 0.0741, acc: 99.3281, loss_bbox: 0.2674, loss: 0.3653\n",
      "2022-05-26 13:32:06,604 - mmfewshot - INFO - Iter [25300/100000]\tlr: 1.000e-04, eta: 6:51:52, time: 0.268, data_time: 0.012, memory: 5635, loss_rpn_cls: 0.0111, loss_rpn_bbox: 0.0052, loss_cls: 0.0438, acc: 99.6406, loss_bbox: 0.2443, loss: 0.3043\n",
      "2022-05-26 13:32:19,952 - mmfewshot - INFO - Iter [25350/100000]\tlr: 1.000e-04, eta: 6:51:26, time: 0.267, data_time: 0.011, memory: 5635, loss_rpn_cls: 0.0103, loss_rpn_bbox: 0.0037, loss_cls: 0.0684, acc: 99.5156, loss_bbox: 0.2266, loss: 0.3090\n",
      "2022-05-26 13:32:33,126 - mmfewshot - INFO - Iter [25400/100000]\tlr: 1.000e-04, eta: 6:51:00, time: 0.263, data_time: 0.011, memory: 5635, loss_rpn_cls: 0.0079, loss_rpn_bbox: 0.0046, loss_cls: 0.0603, acc: 99.5391, loss_bbox: 0.2370, loss: 0.3099\n",
      "2022-05-26 13:32:46,354 - mmfewshot - INFO - Iter [25450/100000]\tlr: 1.000e-04, eta: 6:50:33, time: 0.265, data_time: 0.010, memory: 5635, loss_rpn_cls: 0.0176, loss_rpn_bbox: 0.0091, loss_cls: 0.0699, acc: 99.5078, loss_bbox: 0.2788, loss: 0.3754\n",
      "2022-05-26 13:32:59,683 - mmfewshot - INFO - Iter [25500/100000]\tlr: 1.000e-04, eta: 6:50:08, time: 0.267, data_time: 0.012, memory: 5635, loss_rpn_cls: 0.0144, loss_rpn_bbox: 0.0066, loss_cls: 0.0597, acc: 99.4922, loss_bbox: 0.2533, loss: 0.3340\n",
      "2022-05-26 13:33:13,221 - mmfewshot - INFO - Iter [25550/100000]\tlr: 1.000e-04, eta: 6:49:42, time: 0.271, data_time: 0.012, memory: 5635, loss_rpn_cls: 0.0083, loss_rpn_bbox: 0.0036, loss_cls: 0.0501, acc: 99.5859, loss_bbox: 0.2473, loss: 0.3092\n",
      "2022-05-26 13:33:26,614 - mmfewshot - INFO - Iter [25600/100000]\tlr: 1.000e-04, eta: 6:49:17, time: 0.268, data_time: 0.013, memory: 5635, loss_rpn_cls: 0.0149, loss_rpn_bbox: 0.0103, loss_cls: 0.0576, acc: 99.4141, loss_bbox: 0.2727, loss: 0.3555\n",
      "2022-05-26 13:33:39,993 - mmfewshot - INFO - Iter [25650/100000]\tlr: 1.000e-04, eta: 6:48:51, time: 0.268, data_time: 0.013, memory: 5635, loss_rpn_cls: 0.0208, loss_rpn_bbox: 0.0079, loss_cls: 0.0647, acc: 99.4844, loss_bbox: 0.2466, loss: 0.3400\n",
      "2022-05-26 13:33:53,326 - mmfewshot - INFO - Iter [25700/100000]\tlr: 1.000e-04, eta: 6:48:26, time: 0.266, data_time: 0.012, memory: 5635, loss_rpn_cls: 0.0168, loss_rpn_bbox: 0.0071, loss_cls: 0.0839, acc: 99.3125, loss_bbox: 0.2384, loss: 0.3462\n",
      "2022-05-26 13:34:06,758 - mmfewshot - INFO - Iter [25750/100000]\tlr: 1.000e-04, eta: 6:48:00, time: 0.269, data_time: 0.011, memory: 5635, loss_rpn_cls: 0.0104, loss_rpn_bbox: 0.0072, loss_cls: 0.0595, acc: 99.5469, loss_bbox: 0.2378, loss: 0.3150\n",
      "2022-05-26 13:34:20,241 - mmfewshot - INFO - Iter [25800/100000]\tlr: 1.000e-04, eta: 6:47:35, time: 0.270, data_time: 0.013, memory: 5635, loss_rpn_cls: 0.0109, loss_rpn_bbox: 0.0066, loss_cls: 0.0492, acc: 99.5156, loss_bbox: 0.2862, loss: 0.3530\n",
      "2022-05-26 13:34:33,624 - mmfewshot - INFO - Iter [25850/100000]\tlr: 1.000e-04, eta: 6:47:10, time: 0.268, data_time: 0.012, memory: 5635, loss_rpn_cls: 0.0211, loss_rpn_bbox: 0.0097, loss_cls: 0.0622, acc: 99.3984, loss_bbox: 0.2810, loss: 0.3741\n",
      "2022-05-26 13:34:47,033 - mmfewshot - INFO - Iter [25900/100000]\tlr: 1.000e-04, eta: 6:46:45, time: 0.268, data_time: 0.011, memory: 5635, loss_rpn_cls: 0.0143, loss_rpn_bbox: 0.0060, loss_cls: 0.0751, acc: 99.3906, loss_bbox: 0.2380, loss: 0.3334\n",
      "2022-05-26 13:35:00,371 - mmfewshot - INFO - Iter [25950/100000]\tlr: 1.000e-04, eta: 6:46:19, time: 0.267, data_time: 0.012, memory: 5635, loss_rpn_cls: 0.0184, loss_rpn_bbox: 0.0093, loss_cls: 0.0476, acc: 99.6250, loss_bbox: 0.2348, loss: 0.3101\n",
      "2022-05-26 13:35:13,933 - mmfewshot - INFO - Exp name: attention-rpn_r50_c4_tb-split1_1shot-fine-tuning-momentum-09.py\n",
      "2022-05-26 13:35:13,934 - mmfewshot - INFO - Iter [26000/100000]\tlr: 1.000e-04, eta: 6:45:54, time: 0.271, data_time: 0.012, memory: 5635, loss_rpn_cls: 0.0156, loss_rpn_bbox: 0.0075, loss_cls: 0.0647, acc: 99.5469, loss_bbox: 0.2428, loss: 0.3307\n",
      "2022-05-26 13:35:13,939 - mmdet - INFO - starting model initialization...\n"
     ]
    },
    {
     "name": "stdout",
     "output_type": "stream",
     "text": [
      "[>>>>>>>>>>>>>>>>>>>>>>>>>>>>>>] 640/640, 78.7 task/s, elapsed: 8s, ETA:     0s"
     ]
    },
    {
     "name": "stderr",
     "output_type": "stream",
     "text": [
      "2022-05-26 13:35:22,163 - mmdet - INFO - model initialization done.\n"
     ]
    },
    {
     "name": "stdout",
     "output_type": "stream",
     "text": [
      "[>>>>>>>>>>>>>>>>>>>>>>>>>>>>>] 712/712, 12.6 task/s, elapsed: 56s, ETA:     0s\n",
      "---------------iou_thr: 0.5---------------\n"
     ]
    },
    {
     "name": "stderr",
     "output_type": "stream",
     "text": [
      "2022-05-26 13:36:18,960 - mmfewshot - INFO - \n",
      "+----------+-----+------+--------+-------+\n",
      "| class    | gts | dets | recall | ap    |\n",
      "+----------+-----+------+--------+-------+\n",
      "| 7up      | 810 | 3847 | 0.691  | 0.302 |\n",
      "| BudLight | 209 | 997  | 0.507  | 0.208 |\n",
      "+----------+-----+------+--------+-------+\n",
      "| mAP      |     |      |        | 0.255 |\n",
      "+----------+-----+------+--------+-------+\n",
      "2022-05-26 13:36:18,966 - mmfewshot - INFO - BASE_CLASSES_SPLIT1 mAP: 0.254711776971817\n",
      "2022-05-26 13:36:18,967 - mmfewshot - INFO - NOVEL_CLASSES_SPLIT1 mAP: nan\n",
      "2022-05-26 13:36:18,972 - mmfewshot - INFO - Exp name: attention-rpn_r50_c4_tb-split1_1shot-fine-tuning-momentum-09.py\n",
      "2022-05-26 13:36:18,974 - mmfewshot - INFO - Iter(val) [712]\tAP50: 0.2550, BASE_CLASSES_SPLIT1: AP50: 0.2550, NOVEL_CLASSES_SPLIT1: AP50: nan, mAP: 0.2547\n",
      "2022-05-26 13:36:32,369 - mmfewshot - INFO - Iter [26050/100000]\tlr: 1.000e-04, eta: 6:48:34, time: 1.569, data_time: 1.312, memory: 5635, loss_rpn_cls: 0.0130, loss_rpn_bbox: 0.0052, loss_cls: 0.0629, acc: 99.4375, loss_bbox: 0.2327, loss: 0.3138\n",
      "2022-05-26 13:36:45,810 - mmfewshot - INFO - Iter [26100/100000]\tlr: 1.000e-04, eta: 6:48:09, time: 0.269, data_time: 0.012, memory: 5635, loss_rpn_cls: 0.0115, loss_rpn_bbox: 0.0066, loss_cls: 0.0801, acc: 99.3594, loss_bbox: 0.2682, loss: 0.3665\n",
      "2022-05-26 13:36:59,150 - mmfewshot - INFO - Iter [26150/100000]\tlr: 1.000e-04, eta: 6:47:43, time: 0.267, data_time: 0.012, memory: 5635, loss_rpn_cls: 0.0119, loss_rpn_bbox: 0.0077, loss_cls: 0.0479, acc: 99.5000, loss_bbox: 0.2538, loss: 0.3214\n",
      "2022-05-26 13:37:12,591 - mmfewshot - INFO - Iter [26200/100000]\tlr: 1.000e-04, eta: 6:47:17, time: 0.269, data_time: 0.012, memory: 5635, loss_rpn_cls: 0.0106, loss_rpn_bbox: 0.0081, loss_cls: 0.0524, acc: 99.5312, loss_bbox: 0.2532, loss: 0.3243\n",
      "2022-05-26 13:37:25,990 - mmfewshot - INFO - Iter [26250/100000]\tlr: 1.000e-04, eta: 6:46:52, time: 0.268, data_time: 0.012, memory: 5635, loss_rpn_cls: 0.0135, loss_rpn_bbox: 0.0085, loss_cls: 0.0682, acc: 99.3750, loss_bbox: 0.2566, loss: 0.3468\n",
      "2022-05-26 13:37:39,360 - mmfewshot - INFO - Iter [26300/100000]\tlr: 1.000e-04, eta: 6:46:27, time: 0.267, data_time: 0.011, memory: 5635, loss_rpn_cls: 0.0098, loss_rpn_bbox: 0.0079, loss_cls: 0.0494, acc: 99.5859, loss_bbox: 0.2782, loss: 0.3452\n",
      "2022-05-26 13:37:52,579 - mmfewshot - INFO - Iter [26350/100000]\tlr: 1.000e-04, eta: 6:46:01, time: 0.265, data_time: 0.012, memory: 5635, loss_rpn_cls: 0.0079, loss_rpn_bbox: 0.0045, loss_cls: 0.0609, acc: 99.5312, loss_bbox: 0.2307, loss: 0.3041\n",
      "2022-05-26 13:38:05,814 - mmfewshot - INFO - Iter [26400/100000]\tlr: 1.000e-04, eta: 6:45:35, time: 0.265, data_time: 0.012, memory: 5635, loss_rpn_cls: 0.0126, loss_rpn_bbox: 0.0071, loss_cls: 0.0569, acc: 99.4219, loss_bbox: 0.2746, loss: 0.3512\n",
      "2022-05-26 13:38:19,116 - mmfewshot - INFO - Iter [26450/100000]\tlr: 1.000e-04, eta: 6:45:09, time: 0.266, data_time: 0.011, memory: 5635, loss_rpn_cls: 0.0157, loss_rpn_bbox: 0.0079, loss_cls: 0.0456, acc: 99.5625, loss_bbox: 0.2514, loss: 0.3206\n",
      "2022-05-26 13:38:32,545 - mmfewshot - INFO - Iter [26500/100000]\tlr: 1.000e-04, eta: 6:44:44, time: 0.268, data_time: 0.013, memory: 5635, loss_rpn_cls: 0.0112, loss_rpn_bbox: 0.0058, loss_cls: 0.0510, acc: 99.4922, loss_bbox: 0.2690, loss: 0.3370\n",
      "2022-05-26 13:38:46,088 - mmfewshot - INFO - Iter [26550/100000]\tlr: 1.000e-04, eta: 6:44:20, time: 0.271, data_time: 0.013, memory: 5635, loss_rpn_cls: 0.0214, loss_rpn_bbox: 0.0073, loss_cls: 0.0619, acc: 99.5234, loss_bbox: 0.2459, loss: 0.3366\n",
      "2022-05-26 13:38:59,389 - mmfewshot - INFO - Iter [26600/100000]\tlr: 1.000e-04, eta: 6:43:54, time: 0.266, data_time: 0.012, memory: 5635, loss_rpn_cls: 0.0139, loss_rpn_bbox: 0.0068, loss_cls: 0.0553, acc: 99.4531, loss_bbox: 0.2588, loss: 0.3348\n",
      "2022-05-26 13:39:12,768 - mmfewshot - INFO - Iter [26650/100000]\tlr: 1.000e-04, eta: 6:43:29, time: 0.268, data_time: 0.012, memory: 5635, loss_rpn_cls: 0.0098, loss_rpn_bbox: 0.0048, loss_cls: 0.0495, acc: 99.5469, loss_bbox: 0.2582, loss: 0.3223\n",
      "2022-05-26 13:39:26,035 - mmfewshot - INFO - Iter [26700/100000]\tlr: 1.000e-04, eta: 6:43:04, time: 0.265, data_time: 0.010, memory: 5635, loss_rpn_cls: 0.0113, loss_rpn_bbox: 0.0064, loss_cls: 0.0506, acc: 99.5312, loss_bbox: 0.2297, loss: 0.2981\n",
      "2022-05-26 13:39:39,496 - mmfewshot - INFO - Iter [26750/100000]\tlr: 1.000e-04, eta: 6:42:39, time: 0.269, data_time: 0.012, memory: 5635, loss_rpn_cls: 0.0139, loss_rpn_bbox: 0.0073, loss_cls: 0.0786, acc: 99.4453, loss_bbox: 0.2337, loss: 0.3335\n",
      "2022-05-26 13:39:52,841 - mmfewshot - INFO - Iter [26800/100000]\tlr: 1.000e-04, eta: 6:42:14, time: 0.267, data_time: 0.011, memory: 5635, loss_rpn_cls: 0.0088, loss_rpn_bbox: 0.0055, loss_cls: 0.0449, acc: 99.6484, loss_bbox: 0.2515, loss: 0.3107\n",
      "2022-05-26 13:40:06,207 - mmfewshot - INFO - Iter [26850/100000]\tlr: 1.000e-04, eta: 6:41:49, time: 0.268, data_time: 0.012, memory: 5635, loss_rpn_cls: 0.0110, loss_rpn_bbox: 0.0056, loss_cls: 0.0568, acc: 99.5234, loss_bbox: 0.2632, loss: 0.3365\n",
      "2022-05-26 13:40:19,667 - mmfewshot - INFO - Iter [26900/100000]\tlr: 1.000e-04, eta: 6:41:24, time: 0.269, data_time: 0.012, memory: 5635, loss_rpn_cls: 0.0164, loss_rpn_bbox: 0.0097, loss_cls: 0.0486, acc: 99.5078, loss_bbox: 0.2828, loss: 0.3575\n",
      "2022-05-26 13:40:33,059 - mmfewshot - INFO - Iter [26950/100000]\tlr: 1.000e-04, eta: 6:40:59, time: 0.268, data_time: 0.012, memory: 5635, loss_rpn_cls: 0.0154, loss_rpn_bbox: 0.0105, loss_cls: 0.0647, acc: 99.3906, loss_bbox: 0.2623, loss: 0.3529\n",
      "2022-05-26 13:40:46,321 - mmfewshot - INFO - Exp name: attention-rpn_r50_c4_tb-split1_1shot-fine-tuning-momentum-09.py\n",
      "2022-05-26 13:40:46,322 - mmfewshot - INFO - Iter [27000/100000]\tlr: 1.000e-04, eta: 6:40:34, time: 0.265, data_time: 0.011, memory: 5635, loss_rpn_cls: 0.0156, loss_rpn_bbox: 0.0064, loss_cls: 0.0531, acc: 99.5703, loss_bbox: 0.2448, loss: 0.3199\n",
      "2022-05-26 13:40:46,327 - mmdet - INFO - starting model initialization...\n"
     ]
    },
    {
     "name": "stdout",
     "output_type": "stream",
     "text": [
      "[>>>>>>>>>>>>>>>>>>>>>>>>>>>>>>] 640/640, 78.2 task/s, elapsed: 8s, ETA:     0s"
     ]
    },
    {
     "name": "stderr",
     "output_type": "stream",
     "text": [
      "2022-05-26 13:40:54,578 - mmdet - INFO - model initialization done.\n"
     ]
    },
    {
     "name": "stdout",
     "output_type": "stream",
     "text": [
      "[>>>>>>>>>>>>>>>>>>>>>>>>>>>>>] 712/712, 12.7 task/s, elapsed: 56s, ETA:     0s\n",
      "---------------iou_thr: 0.5---------------\n"
     ]
    },
    {
     "name": "stderr",
     "output_type": "stream",
     "text": [
      "2022-05-26 13:41:51,292 - mmfewshot - INFO - \n",
      "+----------+-----+------+--------+-------+\n",
      "| class    | gts | dets | recall | ap    |\n",
      "+----------+-----+------+--------+-------+\n",
      "| 7up      | 810 | 3748 | 0.647  | 0.290 |\n",
      "| BudLight | 209 | 754  | 0.493  | 0.202 |\n",
      "+----------+-----+------+--------+-------+\n",
      "| mAP      |     |      |        | 0.246 |\n",
      "+----------+-----+------+--------+-------+\n",
      "2022-05-26 13:41:51,355 - mmfewshot - INFO - BASE_CLASSES_SPLIT1 mAP: 0.24588057398796082\n",
      "2022-05-26 13:41:51,356 - mmfewshot - INFO - NOVEL_CLASSES_SPLIT1 mAP: nan\n",
      "2022-05-26 13:41:51,360 - mmfewshot - INFO - Exp name: attention-rpn_r50_c4_tb-split1_1shot-fine-tuning-momentum-09.py\n",
      "2022-05-26 13:41:51,362 - mmfewshot - INFO - Iter(val) [712]\tAP50: 0.2460, BASE_CLASSES_SPLIT1: AP50: 0.2460, NOVEL_CLASSES_SPLIT1: AP50: nan, mAP: 0.2459\n",
      "2022-05-26 13:42:04,702 - mmfewshot - INFO - Iter [27050/100000]\tlr: 1.000e-04, eta: 6:43:05, time: 1.568, data_time: 1.312, memory: 5635, loss_rpn_cls: 0.0170, loss_rpn_bbox: 0.0072, loss_cls: 0.0547, acc: 99.4844, loss_bbox: 0.2582, loss: 0.3371\n",
      "2022-05-26 13:42:18,130 - mmfewshot - INFO - Iter [27100/100000]\tlr: 1.000e-04, eta: 6:42:40, time: 0.269, data_time: 0.012, memory: 5635, loss_rpn_cls: 0.0111, loss_rpn_bbox: 0.0047, loss_cls: 0.0595, acc: 99.5000, loss_bbox: 0.2812, loss: 0.3565\n",
      "2022-05-26 13:42:31,548 - mmfewshot - INFO - Iter [27150/100000]\tlr: 1.000e-04, eta: 6:42:15, time: 0.268, data_time: 0.012, memory: 5635, loss_rpn_cls: 0.0100, loss_rpn_bbox: 0.0068, loss_cls: 0.0865, acc: 99.5078, loss_bbox: 0.2469, loss: 0.3504\n",
      "2022-05-26 13:42:44,995 - mmfewshot - INFO - Iter [27200/100000]\tlr: 1.000e-04, eta: 6:41:50, time: 0.269, data_time: 0.012, memory: 5635, loss_rpn_cls: 0.0149, loss_rpn_bbox: 0.0073, loss_cls: 0.0701, acc: 99.5078, loss_bbox: 0.2302, loss: 0.3226\n",
      "2022-05-26 13:42:58,357 - mmfewshot - INFO - Iter [27250/100000]\tlr: 1.000e-04, eta: 6:41:25, time: 0.267, data_time: 0.012, memory: 5635, loss_rpn_cls: 0.0122, loss_rpn_bbox: 0.0059, loss_cls: 0.0473, acc: 99.5312, loss_bbox: 0.2457, loss: 0.3110\n",
      "2022-05-26 13:43:11,703 - mmfewshot - INFO - Iter [27300/100000]\tlr: 1.000e-04, eta: 6:40:59, time: 0.267, data_time: 0.011, memory: 5635, loss_rpn_cls: 0.0130, loss_rpn_bbox: 0.0066, loss_cls: 0.0591, acc: 99.4531, loss_bbox: 0.2530, loss: 0.3316\n",
      "2022-05-26 13:43:25,047 - mmfewshot - INFO - Iter [27350/100000]\tlr: 1.000e-04, eta: 6:40:34, time: 0.267, data_time: 0.011, memory: 5635, loss_rpn_cls: 0.0183, loss_rpn_bbox: 0.0072, loss_cls: 0.0586, acc: 99.4844, loss_bbox: 0.2547, loss: 0.3388\n",
      "2022-05-26 13:43:38,368 - mmfewshot - INFO - Iter [27400/100000]\tlr: 1.000e-04, eta: 6:40:09, time: 0.266, data_time: 0.012, memory: 5635, loss_rpn_cls: 0.0128, loss_rpn_bbox: 0.0085, loss_cls: 0.0668, acc: 99.3984, loss_bbox: 0.2447, loss: 0.3329\n",
      "2022-05-26 13:43:51,912 - mmfewshot - INFO - Iter [27450/100000]\tlr: 1.000e-04, eta: 6:39:45, time: 0.271, data_time: 0.012, memory: 5635, loss_rpn_cls: 0.0140, loss_rpn_bbox: 0.0071, loss_cls: 0.0464, acc: 99.5625, loss_bbox: 0.2674, loss: 0.3350\n",
      "2022-05-26 13:44:05,432 - mmfewshot - INFO - Iter [27500/100000]\tlr: 1.000e-04, eta: 6:39:20, time: 0.270, data_time: 0.011, memory: 5635, loss_rpn_cls: 0.0134, loss_rpn_bbox: 0.0073, loss_cls: 0.0472, acc: 99.5078, loss_bbox: 0.2526, loss: 0.3205\n",
      "2022-05-26 13:44:18,698 - mmfewshot - INFO - Iter [27550/100000]\tlr: 1.000e-04, eta: 6:38:55, time: 0.265, data_time: 0.011, memory: 5635, loss_rpn_cls: 0.0094, loss_rpn_bbox: 0.0050, loss_cls: 0.0571, acc: 99.4219, loss_bbox: 0.2879, loss: 0.3594\n",
      "2022-05-26 13:44:32,000 - mmfewshot - INFO - Iter [27600/100000]\tlr: 1.000e-04, eta: 6:38:30, time: 0.266, data_time: 0.011, memory: 5635, loss_rpn_cls: 0.0166, loss_rpn_bbox: 0.0060, loss_cls: 0.0530, acc: 99.6328, loss_bbox: 0.2448, loss: 0.3204\n",
      "2022-05-26 13:44:45,389 - mmfewshot - INFO - Iter [27650/100000]\tlr: 1.000e-04, eta: 6:38:06, time: 0.268, data_time: 0.011, memory: 5635, loss_rpn_cls: 0.0144, loss_rpn_bbox: 0.0070, loss_cls: 0.0651, acc: 99.5234, loss_bbox: 0.2566, loss: 0.3431\n",
      "2022-05-26 13:44:58,615 - mmfewshot - INFO - Iter [27700/100000]\tlr: 1.000e-04, eta: 6:37:41, time: 0.265, data_time: 0.011, memory: 5635, loss_rpn_cls: 0.0105, loss_rpn_bbox: 0.0081, loss_cls: 0.0593, acc: 99.5156, loss_bbox: 0.2138, loss: 0.2918\n",
      "2022-05-26 13:45:11,789 - mmfewshot - INFO - Iter [27750/100000]\tlr: 1.000e-04, eta: 6:37:15, time: 0.263, data_time: 0.011, memory: 5635, loss_rpn_cls: 0.0165, loss_rpn_bbox: 0.0066, loss_cls: 0.0466, acc: 99.4688, loss_bbox: 0.2658, loss: 0.3355\n",
      "2022-05-26 13:45:25,133 - mmfewshot - INFO - Iter [27800/100000]\tlr: 1.000e-04, eta: 6:36:51, time: 0.267, data_time: 0.011, memory: 5635, loss_rpn_cls: 0.0112, loss_rpn_bbox: 0.0051, loss_cls: 0.0388, acc: 99.6250, loss_bbox: 0.2476, loss: 0.3027\n",
      "2022-05-26 13:45:38,534 - mmfewshot - INFO - Iter [27850/100000]\tlr: 1.000e-04, eta: 6:36:26, time: 0.268, data_time: 0.012, memory: 5635, loss_rpn_cls: 0.0119, loss_rpn_bbox: 0.0061, loss_cls: 0.0502, acc: 99.5312, loss_bbox: 0.2757, loss: 0.3439\n",
      "2022-05-26 13:45:51,752 - mmfewshot - INFO - Iter [27900/100000]\tlr: 1.000e-04, eta: 6:36:01, time: 0.264, data_time: 0.011, memory: 5635, loss_rpn_cls: 0.0109, loss_rpn_bbox: 0.0045, loss_cls: 0.0491, acc: 99.5547, loss_bbox: 0.2176, loss: 0.2821\n",
      "2022-05-26 13:46:05,144 - mmfewshot - INFO - Iter [27950/100000]\tlr: 1.000e-04, eta: 6:35:37, time: 0.268, data_time: 0.012, memory: 5635, loss_rpn_cls: 0.0215, loss_rpn_bbox: 0.0085, loss_cls: 0.0689, acc: 99.3750, loss_bbox: 0.2510, loss: 0.3499\n",
      "2022-05-26 13:46:18,613 - mmfewshot - INFO - Exp name: attention-rpn_r50_c4_tb-split1_1shot-fine-tuning-momentum-09.py\n",
      "2022-05-26 13:46:18,614 - mmfewshot - INFO - Iter [28000/100000]\tlr: 1.000e-04, eta: 6:35:13, time: 0.269, data_time: 0.012, memory: 5635, loss_rpn_cls: 0.0138, loss_rpn_bbox: 0.0062, loss_cls: 0.0497, acc: 99.4844, loss_bbox: 0.2841, loss: 0.3537\n",
      "2022-05-26 13:46:18,619 - mmdet - INFO - starting model initialization...\n"
     ]
    },
    {
     "name": "stdout",
     "output_type": "stream",
     "text": [
      "[>>>>>>>>>>>>>>>>>>>>>>>>>>>>>>] 640/640, 78.8 task/s, elapsed: 8s, ETA:     0s"
     ]
    },
    {
     "name": "stderr",
     "output_type": "stream",
     "text": [
      "2022-05-26 13:46:26,820 - mmdet - INFO - model initialization done.\n"
     ]
    },
    {
     "name": "stdout",
     "output_type": "stream",
     "text": [
      "[>>>>>>>>>>>>>>>>>>>>>>>>>>>>>] 712/712, 12.6 task/s, elapsed: 56s, ETA:     0s\n",
      "---------------iou_thr: 0.5---------------\n"
     ]
    },
    {
     "name": "stderr",
     "output_type": "stream",
     "text": [
      "2022-05-26 13:47:23,534 - mmfewshot - INFO - \n",
      "+----------+-----+------+--------+-------+\n",
      "| class    | gts | dets | recall | ap    |\n",
      "+----------+-----+------+--------+-------+\n",
      "| 7up      | 810 | 3412 | 0.657  | 0.338 |\n",
      "| BudLight | 209 | 659  | 0.483  | 0.253 |\n",
      "+----------+-----+------+--------+-------+\n",
      "| mAP      |     |      |        | 0.296 |\n",
      "+----------+-----+------+--------+-------+\n",
      "2022-05-26 13:47:23,538 - mmfewshot - INFO - BASE_CLASSES_SPLIT1 mAP: 0.2955310046672821\n",
      "2022-05-26 13:47:23,539 - mmfewshot - INFO - NOVEL_CLASSES_SPLIT1 mAP: nan\n",
      "2022-05-26 13:47:23,545 - mmfewshot - INFO - Exp name: attention-rpn_r50_c4_tb-split1_1shot-fine-tuning-momentum-09.py\n",
      "2022-05-26 13:47:23,548 - mmfewshot - INFO - Iter(val) [712]\tAP50: 0.2960, BASE_CLASSES_SPLIT1: AP50: 0.2960, NOVEL_CLASSES_SPLIT1: AP50: nan, mAP: 0.2955\n",
      "2022-05-26 13:47:36,937 - mmfewshot - INFO - Iter [28050/100000]\tlr: 1.000e-04, eta: 6:37:35, time: 1.567, data_time: 1.311, memory: 5635, loss_rpn_cls: 0.0127, loss_rpn_bbox: 0.0066, loss_cls: 0.0397, acc: 99.5156, loss_bbox: 0.3127, loss: 0.3718\n",
      "2022-05-26 13:47:50,343 - mmfewshot - INFO - Iter [28100/100000]\tlr: 1.000e-04, eta: 6:37:10, time: 0.268, data_time: 0.012, memory: 5635, loss_rpn_cls: 0.0139, loss_rpn_bbox: 0.0076, loss_cls: 0.0432, acc: 99.5469, loss_bbox: 0.2515, loss: 0.3161\n",
      "2022-05-26 13:48:03,636 - mmfewshot - INFO - Iter [28150/100000]\tlr: 1.000e-04, eta: 6:36:45, time: 0.266, data_time: 0.011, memory: 5635, loss_rpn_cls: 0.0106, loss_rpn_bbox: 0.0057, loss_cls: 0.0393, acc: 99.6328, loss_bbox: 0.2332, loss: 0.2887\n",
      "2022-05-26 13:48:17,001 - mmfewshot - INFO - Iter [28200/100000]\tlr: 1.000e-04, eta: 6:36:21, time: 0.267, data_time: 0.012, memory: 5635, loss_rpn_cls: 0.0106, loss_rpn_bbox: 0.0069, loss_cls: 0.0415, acc: 99.5938, loss_bbox: 0.2584, loss: 0.3174\n",
      "2022-05-26 13:48:30,302 - mmfewshot - INFO - Iter [28250/100000]\tlr: 1.000e-04, eta: 6:35:56, time: 0.266, data_time: 0.011, memory: 5635, loss_rpn_cls: 0.0095, loss_rpn_bbox: 0.0043, loss_cls: 0.0405, acc: 99.7109, loss_bbox: 0.2265, loss: 0.2808\n",
      "2022-05-26 13:48:43,659 - mmfewshot - INFO - Iter [28300/100000]\tlr: 1.000e-04, eta: 6:35:31, time: 0.267, data_time: 0.012, memory: 5635, loss_rpn_cls: 0.0090, loss_rpn_bbox: 0.0065, loss_cls: 0.0526, acc: 99.6094, loss_bbox: 0.2379, loss: 0.3060\n",
      "2022-05-26 13:48:56,938 - mmfewshot - INFO - Iter [28350/100000]\tlr: 1.000e-04, eta: 6:35:06, time: 0.266, data_time: 0.012, memory: 5635, loss_rpn_cls: 0.0146, loss_rpn_bbox: 0.0083, loss_cls: 0.0490, acc: 99.6875, loss_bbox: 0.2335, loss: 0.3054\n",
      "2022-05-26 13:49:10,410 - mmfewshot - INFO - Iter [28400/100000]\tlr: 1.000e-04, eta: 6:34:42, time: 0.269, data_time: 0.012, memory: 5635, loss_rpn_cls: 0.0090, loss_rpn_bbox: 0.0069, loss_cls: 0.0542, acc: 99.5078, loss_bbox: 0.2763, loss: 0.3464\n",
      "2022-05-26 13:49:23,719 - mmfewshot - INFO - Iter [28450/100000]\tlr: 1.000e-04, eta: 6:34:17, time: 0.266, data_time: 0.011, memory: 5635, loss_rpn_cls: 0.0118, loss_rpn_bbox: 0.0064, loss_cls: 0.0775, acc: 99.3438, loss_bbox: 0.2519, loss: 0.3475\n",
      "2022-05-26 13:49:37,241 - mmfewshot - INFO - Iter [28500/100000]\tlr: 1.000e-04, eta: 6:33:53, time: 0.271, data_time: 0.011, memory: 5635, loss_rpn_cls: 0.0115, loss_rpn_bbox: 0.0054, loss_cls: 0.0516, acc: 99.5547, loss_bbox: 0.2616, loss: 0.3301\n",
      "2022-05-26 13:49:50,591 - mmfewshot - INFO - Iter [28550/100000]\tlr: 1.000e-04, eta: 6:33:29, time: 0.267, data_time: 0.013, memory: 5635, loss_rpn_cls: 0.0107, loss_rpn_bbox: 0.0084, loss_cls: 0.0539, acc: 99.5547, loss_bbox: 0.2892, loss: 0.3622\n",
      "2022-05-26 13:50:04,103 - mmfewshot - INFO - Iter [28600/100000]\tlr: 1.000e-04, eta: 6:33:05, time: 0.270, data_time: 0.013, memory: 5635, loss_rpn_cls: 0.0116, loss_rpn_bbox: 0.0064, loss_cls: 0.0614, acc: 99.4375, loss_bbox: 0.2706, loss: 0.3500\n",
      "2022-05-26 13:50:17,509 - mmfewshot - INFO - Iter [28650/100000]\tlr: 1.000e-04, eta: 6:32:40, time: 0.268, data_time: 0.012, memory: 5635, loss_rpn_cls: 0.0112, loss_rpn_bbox: 0.0058, loss_cls: 0.0476, acc: 99.6172, loss_bbox: 0.2360, loss: 0.3006\n",
      "2022-05-26 13:50:30,747 - mmfewshot - INFO - Iter [28700/100000]\tlr: 1.000e-04, eta: 6:32:16, time: 0.265, data_time: 0.011, memory: 5635, loss_rpn_cls: 0.0129, loss_rpn_bbox: 0.0090, loss_cls: 0.0637, acc: 99.4766, loss_bbox: 0.2579, loss: 0.3436\n",
      "2022-05-26 13:50:44,118 - mmfewshot - INFO - Iter [28750/100000]\tlr: 1.000e-04, eta: 6:31:51, time: 0.267, data_time: 0.011, memory: 5635, loss_rpn_cls: 0.0138, loss_rpn_bbox: 0.0061, loss_cls: 0.0537, acc: 99.4766, loss_bbox: 0.2319, loss: 0.3056\n",
      "2022-05-26 13:50:57,535 - mmfewshot - INFO - Iter [28800/100000]\tlr: 1.000e-04, eta: 6:31:27, time: 0.268, data_time: 0.012, memory: 5635, loss_rpn_cls: 0.0070, loss_rpn_bbox: 0.0051, loss_cls: 0.0690, acc: 99.4453, loss_bbox: 0.2542, loss: 0.3352\n",
      "2022-05-26 13:51:10,881 - mmfewshot - INFO - Iter [28850/100000]\tlr: 1.000e-04, eta: 6:31:03, time: 0.267, data_time: 0.011, memory: 5635, loss_rpn_cls: 0.0134, loss_rpn_bbox: 0.0123, loss_cls: 0.0473, acc: 99.5391, loss_bbox: 0.2863, loss: 0.3593\n",
      "2022-05-26 13:51:24,209 - mmfewshot - INFO - Iter [28900/100000]\tlr: 1.000e-04, eta: 6:30:39, time: 0.266, data_time: 0.011, memory: 5635, loss_rpn_cls: 0.0076, loss_rpn_bbox: 0.0041, loss_cls: 0.0625, acc: 99.5859, loss_bbox: 0.2183, loss: 0.2926\n",
      "2022-05-26 13:51:37,559 - mmfewshot - INFO - Iter [28950/100000]\tlr: 1.000e-04, eta: 6:30:15, time: 0.267, data_time: 0.012, memory: 5635, loss_rpn_cls: 0.0085, loss_rpn_bbox: 0.0060, loss_cls: 0.0519, acc: 99.5000, loss_bbox: 0.2792, loss: 0.3456\n",
      "2022-05-26 13:51:51,158 - mmfewshot - INFO - Exp name: attention-rpn_r50_c4_tb-split1_1shot-fine-tuning-momentum-09.py\n",
      "2022-05-26 13:51:51,160 - mmfewshot - INFO - Iter [29000/100000]\tlr: 1.000e-04, eta: 6:29:51, time: 0.272, data_time: 0.010, memory: 5635, loss_rpn_cls: 0.0136, loss_rpn_bbox: 0.0078, loss_cls: 0.0485, acc: 99.5547, loss_bbox: 0.2657, loss: 0.3356\n",
      "2022-05-26 13:51:51,165 - mmdet - INFO - starting model initialization...\n"
     ]
    },
    {
     "name": "stdout",
     "output_type": "stream",
     "text": [
      "[>>>>>>>>>>>>>>>>>>>>>>>>>>>>>>] 640/640, 71.7 task/s, elapsed: 9s, ETA:     0s"
     ]
    },
    {
     "name": "stderr",
     "output_type": "stream",
     "text": [
      "2022-05-26 13:52:00,178 - mmdet - INFO - model initialization done.\n"
     ]
    },
    {
     "name": "stdout",
     "output_type": "stream",
     "text": [
      "[>>>>>>>>>>>>>>>>>>>>>>>>>>>>>] 712/712, 12.7 task/s, elapsed: 56s, ETA:     0s\n",
      "---------------iou_thr: 0.5---------------\n"
     ]
    },
    {
     "name": "stderr",
     "output_type": "stream",
     "text": [
      "2022-05-26 13:52:56,896 - mmfewshot - INFO - \n",
      "+----------+-----+------+--------+-------+\n",
      "| class    | gts | dets | recall | ap    |\n",
      "+----------+-----+------+--------+-------+\n",
      "| 7up      | 810 | 3455 | 0.658  | 0.321 |\n",
      "| BudLight | 209 | 513  | 0.431  | 0.204 |\n",
      "+----------+-----+------+--------+-------+\n",
      "| mAP      |     |      |        | 0.263 |\n",
      "+----------+-----+------+--------+-------+\n",
      "2022-05-26 13:52:56,900 - mmfewshot - INFO - BASE_CLASSES_SPLIT1 mAP: 0.2627371549606323\n",
      "2022-05-26 13:52:56,901 - mmfewshot - INFO - NOVEL_CLASSES_SPLIT1 mAP: nan\n",
      "2022-05-26 13:52:56,905 - mmfewshot - INFO - Exp name: attention-rpn_r50_c4_tb-split1_1shot-fine-tuning-momentum-09.py\n",
      "2022-05-26 13:52:56,907 - mmfewshot - INFO - Iter(val) [712]\tAP50: 0.2630, BASE_CLASSES_SPLIT1: AP50: 0.2630, NOVEL_CLASSES_SPLIT1: AP50: nan, mAP: 0.2627\n",
      "2022-05-26 13:53:10,331 - mmfewshot - INFO - Iter [29050/100000]\tlr: 1.000e-04, eta: 6:32:08, time: 1.583, data_time: 1.326, memory: 5635, loss_rpn_cls: 0.0092, loss_rpn_bbox: 0.0042, loss_cls: 0.0535, acc: 99.5859, loss_bbox: 0.2219, loss: 0.2888\n",
      "2022-05-26 13:53:23,634 - mmfewshot - INFO - Iter [29100/100000]\tlr: 1.000e-04, eta: 6:31:43, time: 0.266, data_time: 0.011, memory: 5635, loss_rpn_cls: 0.0104, loss_rpn_bbox: 0.0052, loss_cls: 0.0574, acc: 99.4219, loss_bbox: 0.2646, loss: 0.3376\n",
      "2022-05-26 13:53:36,885 - mmfewshot - INFO - Iter [29150/100000]\tlr: 1.000e-04, eta: 6:31:19, time: 0.265, data_time: 0.011, memory: 5635, loss_rpn_cls: 0.0072, loss_rpn_bbox: 0.0053, loss_cls: 0.0359, acc: 99.6328, loss_bbox: 0.2825, loss: 0.3310\n",
      "2022-05-26 13:53:50,089 - mmfewshot - INFO - Iter [29200/100000]\tlr: 1.000e-04, eta: 6:30:54, time: 0.264, data_time: 0.011, memory: 5635, loss_rpn_cls: 0.0073, loss_rpn_bbox: 0.0040, loss_cls: 0.0539, acc: 99.4297, loss_bbox: 0.2703, loss: 0.3354\n",
      "2022-05-26 13:54:03,435 - mmfewshot - INFO - Iter [29250/100000]\tlr: 1.000e-04, eta: 6:30:29, time: 0.267, data_time: 0.011, memory: 5635, loss_rpn_cls: 0.0163, loss_rpn_bbox: 0.0052, loss_cls: 0.0435, acc: 99.6250, loss_bbox: 0.2482, loss: 0.3132\n",
      "2022-05-26 13:54:16,870 - mmfewshot - INFO - Iter [29300/100000]\tlr: 1.000e-04, eta: 6:30:05, time: 0.269, data_time: 0.012, memory: 5635, loss_rpn_cls: 0.0116, loss_rpn_bbox: 0.0074, loss_cls: 0.0572, acc: 99.5078, loss_bbox: 0.2869, loss: 0.3631\n",
      "2022-05-26 13:54:30,038 - mmfewshot - INFO - Iter [29350/100000]\tlr: 1.000e-04, eta: 6:29:41, time: 0.264, data_time: 0.010, memory: 5635, loss_rpn_cls: 0.0124, loss_rpn_bbox: 0.0056, loss_cls: 0.0771, acc: 99.5234, loss_bbox: 0.2152, loss: 0.3103\n",
      "2022-05-26 13:54:43,342 - mmfewshot - INFO - Iter [29400/100000]\tlr: 1.000e-04, eta: 6:29:16, time: 0.266, data_time: 0.011, memory: 5635, loss_rpn_cls: 0.0099, loss_rpn_bbox: 0.0064, loss_cls: 0.0516, acc: 99.5312, loss_bbox: 0.2450, loss: 0.3128\n",
      "2022-05-26 13:54:56,653 - mmfewshot - INFO - Iter [29450/100000]\tlr: 1.000e-04, eta: 6:28:52, time: 0.267, data_time: 0.011, memory: 5635, loss_rpn_cls: 0.0118, loss_rpn_bbox: 0.0066, loss_cls: 0.0670, acc: 99.3438, loss_bbox: 0.2642, loss: 0.3496\n",
      "2022-05-26 13:55:09,993 - mmfewshot - INFO - Iter [29500/100000]\tlr: 1.000e-04, eta: 6:28:28, time: 0.267, data_time: 0.012, memory: 5635, loss_rpn_cls: 0.0128, loss_rpn_bbox: 0.0060, loss_cls: 0.0712, acc: 99.4297, loss_bbox: 0.2626, loss: 0.3526\n",
      "2022-05-26 13:55:23,208 - mmfewshot - INFO - Iter [29550/100000]\tlr: 1.000e-04, eta: 6:28:03, time: 0.264, data_time: 0.010, memory: 5635, loss_rpn_cls: 0.0083, loss_rpn_bbox: 0.0062, loss_cls: 0.0591, acc: 99.5312, loss_bbox: 0.2565, loss: 0.3301\n",
      "2022-05-26 13:55:36,491 - mmfewshot - INFO - Iter [29600/100000]\tlr: 1.000e-04, eta: 6:27:39, time: 0.265, data_time: 0.011, memory: 5635, loss_rpn_cls: 0.0099, loss_rpn_bbox: 0.0062, loss_cls: 0.0554, acc: 99.5547, loss_bbox: 0.2652, loss: 0.3367\n",
      "2022-05-26 13:55:49,728 - mmfewshot - INFO - Iter [29650/100000]\tlr: 1.000e-04, eta: 6:27:15, time: 0.265, data_time: 0.011, memory: 5635, loss_rpn_cls: 0.0196, loss_rpn_bbox: 0.0082, loss_cls: 0.0633, acc: 99.4844, loss_bbox: 0.2717, loss: 0.3628\n",
      "2022-05-26 13:56:03,152 - mmfewshot - INFO - Iter [29700/100000]\tlr: 1.000e-04, eta: 6:26:51, time: 0.269, data_time: 0.012, memory: 5635, loss_rpn_cls: 0.0123, loss_rpn_bbox: 0.0072, loss_cls: 0.0562, acc: 99.4609, loss_bbox: 0.2872, loss: 0.3629\n",
      "2022-05-26 13:56:16,591 - mmfewshot - INFO - Iter [29750/100000]\tlr: 1.000e-04, eta: 6:26:27, time: 0.269, data_time: 0.012, memory: 5635, loss_rpn_cls: 0.0155, loss_rpn_bbox: 0.0110, loss_cls: 0.0489, acc: 99.5312, loss_bbox: 0.2654, loss: 0.3408\n",
      "2022-05-26 13:56:29,983 - mmfewshot - INFO - Iter [29800/100000]\tlr: 1.000e-04, eta: 6:26:03, time: 0.268, data_time: 0.012, memory: 5635, loss_rpn_cls: 0.0128, loss_rpn_bbox: 0.0079, loss_cls: 0.0477, acc: 99.5312, loss_bbox: 0.2733, loss: 0.3417\n",
      "2022-05-26 13:56:43,488 - mmfewshot - INFO - Iter [29850/100000]\tlr: 1.000e-04, eta: 6:25:40, time: 0.270, data_time: 0.011, memory: 5635, loss_rpn_cls: 0.0123, loss_rpn_bbox: 0.0071, loss_cls: 0.0462, acc: 99.5703, loss_bbox: 0.2441, loss: 0.3096\n",
      "2022-05-26 13:56:56,903 - mmfewshot - INFO - Iter [29900/100000]\tlr: 1.000e-04, eta: 6:25:16, time: 0.268, data_time: 0.012, memory: 5635, loss_rpn_cls: 0.0077, loss_rpn_bbox: 0.0048, loss_cls: 0.0623, acc: 99.5625, loss_bbox: 0.2500, loss: 0.3247\n",
      "2022-05-26 13:57:10,115 - mmfewshot - INFO - Iter [29950/100000]\tlr: 1.000e-04, eta: 6:24:52, time: 0.264, data_time: 0.011, memory: 5635, loss_rpn_cls: 0.0101, loss_rpn_bbox: 0.0057, loss_cls: 0.0391, acc: 99.6875, loss_bbox: 0.3015, loss: 0.3565\n",
      "2022-05-26 13:57:23,408 - mmfewshot - INFO - Saving checkpoint at 30000 iterations\n",
      "2022-05-26 13:57:24,988 - mmfewshot - INFO - Exp name: attention-rpn_r50_c4_tb-split1_1shot-fine-tuning-momentum-09.py\n",
      "2022-05-26 13:57:24,989 - mmfewshot - INFO - Iter [30000/100000]\tlr: 1.000e-04, eta: 6:24:32, time: 0.300, data_time: 0.012, memory: 5635, loss_rpn_cls: 0.0120, loss_rpn_bbox: 0.0069, loss_cls: 0.0480, acc: 99.5938, loss_bbox: 0.2598, loss: 0.3267\n",
      "2022-05-26 13:57:24,993 - mmdet - INFO - starting model initialization...\n"
     ]
    },
    {
     "name": "stdout",
     "output_type": "stream",
     "text": [
      "[>>>>>>>>>>>>>>>>>>>>>>>>>>>>>>] 640/640, 78.8 task/s, elapsed: 8s, ETA:     0s"
     ]
    },
    {
     "name": "stderr",
     "output_type": "stream",
     "text": [
      "2022-05-26 13:57:33,187 - mmdet - INFO - model initialization done.\n"
     ]
    },
    {
     "name": "stdout",
     "output_type": "stream",
     "text": [
      "[>>>>>>>>>>>>>>>>>>>>>>>>>>>>>] 712/712, 12.7 task/s, elapsed: 56s, ETA:     0s\n",
      "---------------iou_thr: 0.5---------------\n"
     ]
    },
    {
     "name": "stderr",
     "output_type": "stream",
     "text": [
      "2022-05-26 13:58:29,773 - mmfewshot - INFO - \n",
      "+----------+-----+------+--------+-------+\n",
      "| class    | gts | dets | recall | ap    |\n",
      "+----------+-----+------+--------+-------+\n",
      "| 7up      | 810 | 3480 | 0.675  | 0.356 |\n",
      "| BudLight | 209 | 567  | 0.431  | 0.233 |\n",
      "+----------+-----+------+--------+-------+\n",
      "| mAP      |     |      |        | 0.295 |\n",
      "+----------+-----+------+--------+-------+\n",
      "2022-05-26 13:58:29,777 - mmfewshot - INFO - BASE_CLASSES_SPLIT1 mAP: 0.2949051856994629\n",
      "2022-05-26 13:58:29,778 - mmfewshot - INFO - NOVEL_CLASSES_SPLIT1 mAP: nan\n",
      "2022-05-26 13:58:29,783 - mmfewshot - INFO - Exp name: attention-rpn_r50_c4_tb-split1_1shot-fine-tuning-momentum-09.py\n",
      "2022-05-26 13:58:29,786 - mmfewshot - INFO - Iter(val) [712]\tAP50: 0.2950, BASE_CLASSES_SPLIT1: AP50: 0.2950, NOVEL_CLASSES_SPLIT1: AP50: nan, mAP: 0.2949\n",
      "2022-05-26 13:58:43,342 - mmfewshot - INFO - Iter [30050/100000]\tlr: 1.000e-04, eta: 6:26:39, time: 1.565, data_time: 1.306, memory: 5635, loss_rpn_cls: 0.0106, loss_rpn_bbox: 0.0087, loss_cls: 0.0488, acc: 99.4922, loss_bbox: 0.2966, loss: 0.3647\n",
      "2022-05-26 13:58:56,562 - mmfewshot - INFO - Iter [30100/100000]\tlr: 1.000e-04, eta: 6:26:15, time: 0.264, data_time: 0.011, memory: 5635, loss_rpn_cls: 0.0086, loss_rpn_bbox: 0.0058, loss_cls: 0.0390, acc: 99.6562, loss_bbox: 0.2713, loss: 0.3247\n",
      "2022-05-26 13:59:09,875 - mmfewshot - INFO - Iter [30150/100000]\tlr: 1.000e-04, eta: 6:25:51, time: 0.266, data_time: 0.012, memory: 5635, loss_rpn_cls: 0.0064, loss_rpn_bbox: 0.0049, loss_cls: 0.0476, acc: 99.6562, loss_bbox: 0.2208, loss: 0.2796\n",
      "2022-05-26 13:59:23,229 - mmfewshot - INFO - Iter [30200/100000]\tlr: 1.000e-04, eta: 6:25:27, time: 0.267, data_time: 0.012, memory: 5635, loss_rpn_cls: 0.0143, loss_rpn_bbox: 0.0066, loss_cls: 0.0568, acc: 99.5000, loss_bbox: 0.2677, loss: 0.3454\n",
      "2022-05-26 13:59:36,749 - mmfewshot - INFO - Iter [30250/100000]\tlr: 1.000e-04, eta: 6:25:03, time: 0.270, data_time: 0.013, memory: 5635, loss_rpn_cls: 0.0117, loss_rpn_bbox: 0.0064, loss_cls: 0.0610, acc: 99.5547, loss_bbox: 0.2221, loss: 0.3011\n",
      "2022-05-26 13:59:50,167 - mmfewshot - INFO - Iter [30300/100000]\tlr: 1.000e-04, eta: 6:24:39, time: 0.268, data_time: 0.011, memory: 5635, loss_rpn_cls: 0.0112, loss_rpn_bbox: 0.0070, loss_cls: 0.0479, acc: 99.5156, loss_bbox: 0.2490, loss: 0.3151\n",
      "2022-05-26 14:00:03,632 - mmfewshot - INFO - Iter [30350/100000]\tlr: 1.000e-04, eta: 6:24:16, time: 0.270, data_time: 0.012, memory: 5635, loss_rpn_cls: 0.0078, loss_rpn_bbox: 0.0044, loss_cls: 0.0555, acc: 99.4688, loss_bbox: 0.2856, loss: 0.3533\n",
      "2022-05-26 14:00:16,931 - mmfewshot - INFO - Iter [30400/100000]\tlr: 1.000e-04, eta: 6:23:52, time: 0.266, data_time: 0.012, memory: 5635, loss_rpn_cls: 0.0076, loss_rpn_bbox: 0.0043, loss_cls: 0.0446, acc: 99.5547, loss_bbox: 0.2682, loss: 0.3247\n",
      "2022-05-26 14:00:30,443 - mmfewshot - INFO - Iter [30450/100000]\tlr: 1.000e-04, eta: 6:23:28, time: 0.270, data_time: 0.012, memory: 5635, loss_rpn_cls: 0.0126, loss_rpn_bbox: 0.0100, loss_cls: 0.0586, acc: 99.5234, loss_bbox: 0.2532, loss: 0.3344\n",
      "2022-05-26 14:00:43,810 - mmfewshot - INFO - Iter [30500/100000]\tlr: 1.000e-04, eta: 6:23:05, time: 0.267, data_time: 0.012, memory: 5635, loss_rpn_cls: 0.0119, loss_rpn_bbox: 0.0058, loss_cls: 0.0547, acc: 99.4688, loss_bbox: 0.2739, loss: 0.3462\n",
      "2022-05-26 14:00:57,054 - mmfewshot - INFO - Iter [30550/100000]\tlr: 1.000e-04, eta: 6:22:41, time: 0.265, data_time: 0.011, memory: 5635, loss_rpn_cls: 0.0094, loss_rpn_bbox: 0.0047, loss_cls: 0.0506, acc: 99.4844, loss_bbox: 0.2439, loss: 0.3086\n",
      "2022-05-26 14:01:10,511 - mmfewshot - INFO - Iter [30600/100000]\tlr: 1.000e-04, eta: 6:22:17, time: 0.269, data_time: 0.011, memory: 5635, loss_rpn_cls: 0.0087, loss_rpn_bbox: 0.0042, loss_cls: 0.0526, acc: 99.5547, loss_bbox: 0.2494, loss: 0.3149\n",
      "2022-05-26 14:01:23,962 - mmfewshot - INFO - Iter [30650/100000]\tlr: 1.000e-04, eta: 6:21:54, time: 0.269, data_time: 0.013, memory: 5635, loss_rpn_cls: 0.0111, loss_rpn_bbox: 0.0047, loss_cls: 0.0543, acc: 99.4766, loss_bbox: 0.2466, loss: 0.3167\n",
      "2022-05-26 14:01:37,176 - mmfewshot - INFO - Iter [30700/100000]\tlr: 1.000e-04, eta: 6:21:30, time: 0.264, data_time: 0.010, memory: 5635, loss_rpn_cls: 0.0120, loss_rpn_bbox: 0.0062, loss_cls: 0.0503, acc: 99.5625, loss_bbox: 0.2667, loss: 0.3352\n",
      "2022-05-26 14:01:50,596 - mmfewshot - INFO - Iter [30750/100000]\tlr: 1.000e-04, eta: 6:21:06, time: 0.269, data_time: 0.012, memory: 5635, loss_rpn_cls: 0.0121, loss_rpn_bbox: 0.0085, loss_cls: 0.0548, acc: 99.4688, loss_bbox: 0.2450, loss: 0.3204\n",
      "2022-05-26 14:02:03,964 - mmfewshot - INFO - Iter [30800/100000]\tlr: 1.000e-04, eta: 6:20:43, time: 0.267, data_time: 0.011, memory: 5635, loss_rpn_cls: 0.0154, loss_rpn_bbox: 0.0119, loss_cls: 0.0620, acc: 99.4609, loss_bbox: 0.2924, loss: 0.3816\n",
      "2022-05-26 14:02:17,286 - mmfewshot - INFO - Iter [30850/100000]\tlr: 1.000e-04, eta: 6:20:19, time: 0.266, data_time: 0.011, memory: 5635, loss_rpn_cls: 0.0092, loss_rpn_bbox: 0.0067, loss_cls: 0.0888, acc: 99.4375, loss_bbox: 0.2809, loss: 0.3856\n",
      "2022-05-26 14:02:30,690 - mmfewshot - INFO - Iter [30900/100000]\tlr: 1.000e-04, eta: 6:19:55, time: 0.268, data_time: 0.012, memory: 5635, loss_rpn_cls: 0.0093, loss_rpn_bbox: 0.0060, loss_cls: 0.0607, acc: 99.4219, loss_bbox: 0.2726, loss: 0.3486\n",
      "2022-05-26 14:02:44,129 - mmfewshot - INFO - Iter [30950/100000]\tlr: 1.000e-04, eta: 6:19:32, time: 0.268, data_time: 0.011, memory: 5635, loss_rpn_cls: 0.0070, loss_rpn_bbox: 0.0062, loss_cls: 0.0509, acc: 99.6172, loss_bbox: 0.2665, loss: 0.3306\n",
      "2022-05-26 14:02:57,603 - mmfewshot - INFO - Exp name: attention-rpn_r50_c4_tb-split1_1shot-fine-tuning-momentum-09.py\n",
      "2022-05-26 14:02:57,604 - mmfewshot - INFO - Iter [31000/100000]\tlr: 1.000e-04, eta: 6:19:09, time: 0.270, data_time: 0.012, memory: 5635, loss_rpn_cls: 0.0093, loss_rpn_bbox: 0.0062, loss_cls: 0.0453, acc: 99.6172, loss_bbox: 0.2658, loss: 0.3266\n",
      "2022-05-26 14:02:57,609 - mmdet - INFO - starting model initialization...\n"
     ]
    },
    {
     "name": "stdout",
     "output_type": "stream",
     "text": [
      "[>>>>>>>>>>>>>>>>>>>>>>>>>>>>>>] 640/640, 75.4 task/s, elapsed: 8s, ETA:     0s"
     ]
    },
    {
     "name": "stderr",
     "output_type": "stream",
     "text": [
      "2022-05-26 14:03:06,176 - mmdet - INFO - model initialization done.\n"
     ]
    },
    {
     "name": "stdout",
     "output_type": "stream",
     "text": [
      "[>>>>>>>>>>>>>>>>>>>>>>>>>>>>>] 712/712, 12.4 task/s, elapsed: 57s, ETA:     0s\n",
      "---------------iou_thr: 0.5---------------\n"
     ]
    },
    {
     "name": "stderr",
     "output_type": "stream",
     "text": [
      "2022-05-26 14:04:04,051 - mmfewshot - INFO - \n",
      "+----------+-----+------+--------+-------+\n",
      "| class    | gts | dets | recall | ap    |\n",
      "+----------+-----+------+--------+-------+\n",
      "| 7up      | 810 | 4578 | 0.711  | 0.326 |\n",
      "| BudLight | 209 | 793  | 0.526  | 0.252 |\n",
      "+----------+-----+------+--------+-------+\n",
      "| mAP      |     |      |        | 0.289 |\n",
      "+----------+-----+------+--------+-------+\n",
      "2022-05-26 14:04:04,055 - mmfewshot - INFO - BASE_CLASSES_SPLIT1 mAP: 0.2888329327106476\n",
      "2022-05-26 14:04:04,056 - mmfewshot - INFO - NOVEL_CLASSES_SPLIT1 mAP: nan\n",
      "2022-05-26 14:04:04,065 - mmfewshot - INFO - Exp name: attention-rpn_r50_c4_tb-split1_1shot-fine-tuning-momentum-09.py\n",
      "2022-05-26 14:04:04,067 - mmfewshot - INFO - Iter(val) [712]\tAP50: 0.2890, BASE_CLASSES_SPLIT1: AP50: 0.2890, NOVEL_CLASSES_SPLIT1: AP50: nan, mAP: 0.2888\n",
      "2022-05-26 14:04:17,538 - mmfewshot - INFO - Iter [31050/100000]\tlr: 1.000e-04, eta: 6:21:13, time: 1.599, data_time: 1.341, memory: 5635, loss_rpn_cls: 0.0110, loss_rpn_bbox: 0.0071, loss_cls: 0.0603, acc: 99.4688, loss_bbox: 0.2487, loss: 0.3271\n",
      "2022-05-26 14:04:30,913 - mmfewshot - INFO - Iter [31100/100000]\tlr: 1.000e-04, eta: 6:20:50, time: 0.268, data_time: 0.012, memory: 5635, loss_rpn_cls: 0.0092, loss_rpn_bbox: 0.0041, loss_cls: 0.0439, acc: 99.5547, loss_bbox: 0.2722, loss: 0.3293\n",
      "2022-05-26 14:04:44,341 - mmfewshot - INFO - Iter [31150/100000]\tlr: 1.000e-04, eta: 6:20:26, time: 0.268, data_time: 0.012, memory: 5635, loss_rpn_cls: 0.0099, loss_rpn_bbox: 0.0061, loss_cls: 0.0687, acc: 99.4453, loss_bbox: 0.2645, loss: 0.3492\n",
      "2022-05-26 14:04:57,741 - mmfewshot - INFO - Iter [31200/100000]\tlr: 1.000e-04, eta: 6:20:03, time: 0.268, data_time: 0.011, memory: 5635, loss_rpn_cls: 0.0169, loss_rpn_bbox: 0.0116, loss_cls: 0.0540, acc: 99.5234, loss_bbox: 0.2565, loss: 0.3389\n",
      "2022-05-26 14:05:11,057 - mmfewshot - INFO - Iter [31250/100000]\tlr: 1.000e-04, eta: 6:19:39, time: 0.266, data_time: 0.012, memory: 5635, loss_rpn_cls: 0.0120, loss_rpn_bbox: 0.0061, loss_cls: 0.0545, acc: 99.5078, loss_bbox: 0.2890, loss: 0.3617\n",
      "2022-05-26 14:05:24,380 - mmfewshot - INFO - Iter [31300/100000]\tlr: 1.000e-04, eta: 6:19:15, time: 0.266, data_time: 0.011, memory: 5635, loss_rpn_cls: 0.0121, loss_rpn_bbox: 0.0082, loss_cls: 0.0589, acc: 99.4062, loss_bbox: 0.2846, loss: 0.3639\n",
      "2022-05-26 14:05:37,643 - mmfewshot - INFO - Iter [31350/100000]\tlr: 1.000e-04, eta: 6:18:51, time: 0.265, data_time: 0.011, memory: 5635, loss_rpn_cls: 0.0107, loss_rpn_bbox: 0.0070, loss_cls: 0.0451, acc: 99.5469, loss_bbox: 0.2767, loss: 0.3394\n",
      "2022-05-26 14:05:51,296 - mmfewshot - INFO - Iter [31400/100000]\tlr: 1.000e-04, eta: 6:18:28, time: 0.273, data_time: 0.012, memory: 5635, loss_rpn_cls: 0.0122, loss_rpn_bbox: 0.0098, loss_cls: 0.0670, acc: 99.4531, loss_bbox: 0.2296, loss: 0.3186\n",
      "2022-05-26 14:06:04,659 - mmfewshot - INFO - Iter [31450/100000]\tlr: 1.000e-04, eta: 6:18:05, time: 0.267, data_time: 0.012, memory: 5635, loss_rpn_cls: 0.0117, loss_rpn_bbox: 0.0074, loss_cls: 0.0501, acc: 99.5156, loss_bbox: 0.2752, loss: 0.3444\n",
      "2022-05-26 14:06:18,067 - mmfewshot - INFO - Iter [31500/100000]\tlr: 1.000e-04, eta: 6:17:42, time: 0.268, data_time: 0.012, memory: 5635, loss_rpn_cls: 0.0095, loss_rpn_bbox: 0.0072, loss_cls: 0.0528, acc: 99.5781, loss_bbox: 0.2476, loss: 0.3171\n",
      "2022-05-26 14:06:31,474 - mmfewshot - INFO - Iter [31550/100000]\tlr: 1.000e-04, eta: 6:17:18, time: 0.268, data_time: 0.011, memory: 5635, loss_rpn_cls: 0.0137, loss_rpn_bbox: 0.0060, loss_cls: 0.0620, acc: 99.4453, loss_bbox: 0.2731, loss: 0.3549\n",
      "2022-05-26 14:06:44,926 - mmfewshot - INFO - Iter [31600/100000]\tlr: 1.000e-04, eta: 6:16:55, time: 0.269, data_time: 0.012, memory: 5635, loss_rpn_cls: 0.0137, loss_rpn_bbox: 0.0096, loss_cls: 0.0699, acc: 99.6172, loss_bbox: 0.2543, loss: 0.3476\n",
      "2022-05-26 14:06:58,281 - mmfewshot - INFO - Iter [31650/100000]\tlr: 1.000e-04, eta: 6:16:32, time: 0.267, data_time: 0.011, memory: 5635, loss_rpn_cls: 0.0121, loss_rpn_bbox: 0.0048, loss_cls: 0.0588, acc: 99.5312, loss_bbox: 0.2516, loss: 0.3273\n",
      "2022-05-26 14:07:11,648 - mmfewshot - INFO - Iter [31700/100000]\tlr: 1.000e-04, eta: 6:16:08, time: 0.267, data_time: 0.012, memory: 5635, loss_rpn_cls: 0.0126, loss_rpn_bbox: 0.0073, loss_cls: 0.0439, acc: 99.5859, loss_bbox: 0.2574, loss: 0.3213\n",
      "2022-05-26 14:07:24,922 - mmfewshot - INFO - Iter [31750/100000]\tlr: 1.000e-04, eta: 6:15:45, time: 0.265, data_time: 0.011, memory: 5635, loss_rpn_cls: 0.0099, loss_rpn_bbox: 0.0055, loss_cls: 0.0430, acc: 99.6172, loss_bbox: 0.2548, loss: 0.3132\n",
      "2022-05-26 14:07:38,202 - mmfewshot - INFO - Iter [31800/100000]\tlr: 1.000e-04, eta: 6:15:21, time: 0.266, data_time: 0.011, memory: 5635, loss_rpn_cls: 0.0087, loss_rpn_bbox: 0.0076, loss_cls: 0.0537, acc: 99.5000, loss_bbox: 0.2622, loss: 0.3321\n",
      "2022-05-26 14:07:51,447 - mmfewshot - INFO - Iter [31850/100000]\tlr: 1.000e-04, eta: 6:14:58, time: 0.265, data_time: 0.011, memory: 5635, loss_rpn_cls: 0.0128, loss_rpn_bbox: 0.0069, loss_cls: 0.0506, acc: 99.6094, loss_bbox: 0.2744, loss: 0.3447\n",
      "2022-05-26 14:08:04,764 - mmfewshot - INFO - Iter [31900/100000]\tlr: 1.000e-04, eta: 6:14:34, time: 0.266, data_time: 0.012, memory: 5635, loss_rpn_cls: 0.0133, loss_rpn_bbox: 0.0092, loss_cls: 0.0556, acc: 99.5469, loss_bbox: 0.2698, loss: 0.3480\n",
      "2022-05-26 14:08:18,165 - mmfewshot - INFO - Iter [31950/100000]\tlr: 1.000e-04, eta: 6:14:11, time: 0.268, data_time: 0.012, memory: 5635, loss_rpn_cls: 0.0097, loss_rpn_bbox: 0.0056, loss_cls: 0.0592, acc: 99.4766, loss_bbox: 0.2516, loss: 0.3261\n",
      "2022-05-26 14:08:31,442 - mmfewshot - INFO - Exp name: attention-rpn_r50_c4_tb-split1_1shot-fine-tuning-momentum-09.py\n",
      "2022-05-26 14:08:31,443 - mmfewshot - INFO - Iter [32000/100000]\tlr: 1.000e-04, eta: 6:13:48, time: 0.265, data_time: 0.012, memory: 5635, loss_rpn_cls: 0.0085, loss_rpn_bbox: 0.0043, loss_cls: 0.0573, acc: 99.5781, loss_bbox: 0.2235, loss: 0.2936\n",
      "2022-05-26 14:08:31,448 - mmdet - INFO - starting model initialization...\n"
     ]
    },
    {
     "name": "stdout",
     "output_type": "stream",
     "text": [
      "[>>>>>>>>>>>>>>>>>>>>>>>>>>>>>>] 640/640, 77.2 task/s, elapsed: 8s, ETA:     0s"
     ]
    },
    {
     "name": "stderr",
     "output_type": "stream",
     "text": [
      "2022-05-26 14:08:39,809 - mmdet - INFO - model initialization done.\n"
     ]
    },
    {
     "name": "stdout",
     "output_type": "stream",
     "text": [
      "[>>>>>>>>>>>>>>>>>>>>>>>>>>>>>] 712/712, 12.7 task/s, elapsed: 56s, ETA:     0s\n",
      "---------------iou_thr: 0.5---------------\n"
     ]
    },
    {
     "name": "stderr",
     "output_type": "stream",
     "text": [
      "2022-05-26 14:09:36,279 - mmfewshot - INFO - \n",
      "+----------+-----+------+--------+-------+\n",
      "| class    | gts | dets | recall | ap    |\n",
      "+----------+-----+------+--------+-------+\n",
      "| 7up      | 810 | 4029 | 0.693  | 0.341 |\n",
      "| BudLight | 209 | 424  | 0.431  | 0.227 |\n",
      "+----------+-----+------+--------+-------+\n",
      "| mAP      |     |      |        | 0.284 |\n",
      "+----------+-----+------+--------+-------+\n",
      "2022-05-26 14:09:36,281 - mmfewshot - INFO - BASE_CLASSES_SPLIT1 mAP: 0.2838532328605652\n",
      "2022-05-26 14:09:36,282 - mmfewshot - INFO - NOVEL_CLASSES_SPLIT1 mAP: nan\n",
      "2022-05-26 14:09:36,286 - mmfewshot - INFO - Exp name: attention-rpn_r50_c4_tb-split1_1shot-fine-tuning-momentum-09.py\n",
      "2022-05-26 14:09:36,288 - mmfewshot - INFO - Iter(val) [712]\tAP50: 0.2840, BASE_CLASSES_SPLIT1: AP50: 0.2840, NOVEL_CLASSES_SPLIT1: AP50: nan, mAP: 0.2839\n",
      "2022-05-26 14:09:49,752 - mmfewshot - INFO - Iter [32050/100000]\tlr: 1.000e-04, eta: 6:15:43, time: 1.566, data_time: 1.309, memory: 5635, loss_rpn_cls: 0.0119, loss_rpn_bbox: 0.0077, loss_cls: 0.0573, acc: 99.5469, loss_bbox: 0.2410, loss: 0.3179\n",
      "2022-05-26 14:10:03,127 - mmfewshot - INFO - Iter [32100/100000]\tlr: 1.000e-04, eta: 6:15:19, time: 0.268, data_time: 0.012, memory: 5635, loss_rpn_cls: 0.0109, loss_rpn_bbox: 0.0054, loss_cls: 0.0607, acc: 99.3828, loss_bbox: 0.2912, loss: 0.3683\n",
      "2022-05-26 14:10:16,509 - mmfewshot - INFO - Iter [32150/100000]\tlr: 1.000e-04, eta: 6:14:56, time: 0.268, data_time: 0.012, memory: 5635, loss_rpn_cls: 0.0120, loss_rpn_bbox: 0.0070, loss_cls: 0.0520, acc: 99.6172, loss_bbox: 0.3025, loss: 0.3734\n",
      "2022-05-26 14:10:29,924 - mmfewshot - INFO - Iter [32200/100000]\tlr: 1.000e-04, eta: 6:14:33, time: 0.268, data_time: 0.012, memory: 5635, loss_rpn_cls: 0.0099, loss_rpn_bbox: 0.0047, loss_cls: 0.0402, acc: 99.5703, loss_bbox: 0.2481, loss: 0.3029\n",
      "2022-05-26 14:10:43,410 - mmfewshot - INFO - Iter [32250/100000]\tlr: 1.000e-04, eta: 6:14:10, time: 0.270, data_time: 0.012, memory: 5635, loss_rpn_cls: 0.0099, loss_rpn_bbox: 0.0089, loss_cls: 0.0547, acc: 99.5234, loss_bbox: 0.2244, loss: 0.2979\n",
      "2022-05-26 14:10:56,798 - mmfewshot - INFO - Iter [32300/100000]\tlr: 1.000e-04, eta: 6:13:46, time: 0.268, data_time: 0.012, memory: 5635, loss_rpn_cls: 0.0062, loss_rpn_bbox: 0.0054, loss_cls: 0.0618, acc: 99.5781, loss_bbox: 0.2452, loss: 0.3186\n",
      "2022-05-26 14:11:10,222 - mmfewshot - INFO - Iter [32350/100000]\tlr: 1.000e-04, eta: 6:13:23, time: 0.268, data_time: 0.011, memory: 5635, loss_rpn_cls: 0.0132, loss_rpn_bbox: 0.0081, loss_cls: 0.0602, acc: 99.3594, loss_bbox: 0.2913, loss: 0.3729\n",
      "2022-05-26 14:11:23,477 - mmfewshot - INFO - Iter [32400/100000]\tlr: 1.000e-04, eta: 6:13:00, time: 0.265, data_time: 0.011, memory: 5635, loss_rpn_cls: 0.0093, loss_rpn_bbox: 0.0122, loss_cls: 0.0383, acc: 99.7422, loss_bbox: 0.2441, loss: 0.3039\n",
      "2022-05-26 14:11:36,887 - mmfewshot - INFO - Iter [32450/100000]\tlr: 1.000e-04, eta: 6:12:37, time: 0.268, data_time: 0.012, memory: 5635, loss_rpn_cls: 0.0098, loss_rpn_bbox: 0.0061, loss_cls: 0.0525, acc: 99.6172, loss_bbox: 0.2626, loss: 0.3311\n",
      "2022-05-26 14:11:50,085 - mmfewshot - INFO - Iter [32500/100000]\tlr: 1.000e-04, eta: 6:12:13, time: 0.264, data_time: 0.012, memory: 5635, loss_rpn_cls: 0.0158, loss_rpn_bbox: 0.0072, loss_cls: 0.0506, acc: 99.6094, loss_bbox: 0.2563, loss: 0.3299\n",
      "2022-05-26 14:12:03,501 - mmfewshot - INFO - Iter [32550/100000]\tlr: 1.000e-04, eta: 6:11:50, time: 0.268, data_time: 0.012, memory: 5635, loss_rpn_cls: 0.0135, loss_rpn_bbox: 0.0102, loss_cls: 0.0599, acc: 99.5469, loss_bbox: 0.2435, loss: 0.3271\n",
      "2022-05-26 14:12:16,994 - mmfewshot - INFO - Iter [32600/100000]\tlr: 1.000e-04, eta: 6:11:27, time: 0.270, data_time: 0.011, memory: 5635, loss_rpn_cls: 0.0106, loss_rpn_bbox: 0.0058, loss_cls: 0.0396, acc: 99.6797, loss_bbox: 0.2676, loss: 0.3236\n",
      "2022-05-26 14:12:30,414 - mmfewshot - INFO - Iter [32650/100000]\tlr: 1.000e-04, eta: 6:11:04, time: 0.269, data_time: 0.011, memory: 5635, loss_rpn_cls: 0.0111, loss_rpn_bbox: 0.0064, loss_cls: 0.0412, acc: 99.6797, loss_bbox: 0.2507, loss: 0.3095\n",
      "2022-05-26 14:12:43,660 - mmfewshot - INFO - Iter [32700/100000]\tlr: 1.000e-04, eta: 6:10:41, time: 0.265, data_time: 0.011, memory: 5635, loss_rpn_cls: 0.0085, loss_rpn_bbox: 0.0044, loss_cls: 0.0599, acc: 99.4922, loss_bbox: 0.2517, loss: 0.3245\n",
      "2022-05-26 14:12:56,925 - mmfewshot - INFO - Iter [32750/100000]\tlr: 1.000e-04, eta: 6:10:18, time: 0.265, data_time: 0.011, memory: 5635, loss_rpn_cls: 0.0081, loss_rpn_bbox: 0.0043, loss_cls: 0.0487, acc: 99.5469, loss_bbox: 0.2559, loss: 0.3170\n",
      "2022-05-26 14:13:10,247 - mmfewshot - INFO - Iter [32800/100000]\tlr: 1.000e-04, eta: 6:09:55, time: 0.266, data_time: 0.012, memory: 5635, loss_rpn_cls: 0.0081, loss_rpn_bbox: 0.0046, loss_cls: 0.0435, acc: 99.6094, loss_bbox: 0.2643, loss: 0.3206\n",
      "2022-05-26 14:13:23,577 - mmfewshot - INFO - Iter [32850/100000]\tlr: 1.000e-04, eta: 6:09:32, time: 0.267, data_time: 0.012, memory: 5635, loss_rpn_cls: 0.0122, loss_rpn_bbox: 0.0079, loss_cls: 0.0560, acc: 99.4453, loss_bbox: 0.2781, loss: 0.3543\n",
      "2022-05-26 14:13:36,997 - mmfewshot - INFO - Iter [32900/100000]\tlr: 1.000e-04, eta: 6:09:09, time: 0.268, data_time: 0.012, memory: 5635, loss_rpn_cls: 0.0112, loss_rpn_bbox: 0.0068, loss_cls: 0.0441, acc: 99.6094, loss_bbox: 0.2782, loss: 0.3403\n",
      "2022-05-26 14:13:50,481 - mmfewshot - INFO - Iter [32950/100000]\tlr: 1.000e-04, eta: 6:08:46, time: 0.270, data_time: 0.012, memory: 5635, loss_rpn_cls: 0.0127, loss_rpn_bbox: 0.0085, loss_cls: 0.0536, acc: 99.5234, loss_bbox: 0.2597, loss: 0.3345\n",
      "2022-05-26 14:14:04,027 - mmfewshot - INFO - Exp name: attention-rpn_r50_c4_tb-split1_1shot-fine-tuning-momentum-09.py\n",
      "2022-05-26 14:14:04,030 - mmfewshot - INFO - Iter [33000/100000]\tlr: 1.000e-04, eta: 6:08:24, time: 0.271, data_time: 0.012, memory: 5635, loss_rpn_cls: 0.0107, loss_rpn_bbox: 0.0061, loss_cls: 0.0489, acc: 99.6094, loss_bbox: 0.2573, loss: 0.3230\n",
      "2022-05-26 14:14:04,035 - mmdet - INFO - starting model initialization...\n"
     ]
    },
    {
     "name": "stdout",
     "output_type": "stream",
     "text": [
      "[>>>>>>>>>>>>>>>>>>>>>>>>>>>>>>] 640/640, 78.4 task/s, elapsed: 8s, ETA:     0s"
     ]
    },
    {
     "name": "stderr",
     "output_type": "stream",
     "text": [
      "2022-05-26 14:14:12,281 - mmdet - INFO - model initialization done.\n"
     ]
    },
    {
     "name": "stdout",
     "output_type": "stream",
     "text": [
      "[>>>>>>>>>>>>>>>>>>>>>>>>>>>>>] 712/712, 12.6 task/s, elapsed: 57s, ETA:     0s\n",
      "---------------iou_thr: 0.5---------------\n"
     ]
    },
    {
     "name": "stderr",
     "output_type": "stream",
     "text": [
      "2022-05-26 14:15:09,323 - mmfewshot - INFO - \n",
      "+----------+-----+------+--------+-------+\n",
      "| class    | gts | dets | recall | ap    |\n",
      "+----------+-----+------+--------+-------+\n",
      "| 7up      | 810 | 4621 | 0.727  | 0.344 |\n",
      "| BudLight | 209 | 941  | 0.536  | 0.229 |\n",
      "+----------+-----+------+--------+-------+\n",
      "| mAP      |     |      |        | 0.286 |\n",
      "+----------+-----+------+--------+-------+\n",
      "2022-05-26 14:15:09,327 - mmfewshot - INFO - BASE_CLASSES_SPLIT1 mAP: 0.2860737442970276\n",
      "2022-05-26 14:15:09,329 - mmfewshot - INFO - NOVEL_CLASSES_SPLIT1 mAP: nan\n",
      "2022-05-26 14:15:09,334 - mmfewshot - INFO - Exp name: attention-rpn_r50_c4_tb-split1_1shot-fine-tuning-momentum-09.py\n",
      "2022-05-26 14:15:09,336 - mmfewshot - INFO - Iter(val) [712]\tAP50: 0.2860, BASE_CLASSES_SPLIT1: AP50: 0.2860, NOVEL_CLASSES_SPLIT1: AP50: nan, mAP: 0.2861\n",
      "2022-05-26 14:15:22,765 - mmfewshot - INFO - Iter [33050/100000]\tlr: 1.000e-04, eta: 6:10:13, time: 1.575, data_time: 1.318, memory: 5635, loss_rpn_cls: 0.0095, loss_rpn_bbox: 0.0053, loss_cls: 0.0443, acc: 99.6172, loss_bbox: 0.2856, loss: 0.3448\n",
      "2022-05-26 14:15:36,166 - mmfewshot - INFO - Iter [33100/100000]\tlr: 1.000e-04, eta: 6:09:50, time: 0.268, data_time: 0.012, memory: 5635, loss_rpn_cls: 0.0176, loss_rpn_bbox: 0.0078, loss_cls: 0.0414, acc: 99.5391, loss_bbox: 0.2822, loss: 0.3490\n",
      "2022-05-26 14:15:49,621 - mmfewshot - INFO - Iter [33150/100000]\tlr: 1.000e-04, eta: 6:09:27, time: 0.269, data_time: 0.012, memory: 5635, loss_rpn_cls: 0.0077, loss_rpn_bbox: 0.0044, loss_cls: 0.0769, acc: 99.4609, loss_bbox: 0.2376, loss: 0.3266\n",
      "2022-05-26 14:16:02,955 - mmfewshot - INFO - Iter [33200/100000]\tlr: 1.000e-04, eta: 6:09:04, time: 0.266, data_time: 0.011, memory: 5635, loss_rpn_cls: 0.0088, loss_rpn_bbox: 0.0058, loss_cls: 0.0422, acc: 99.6406, loss_bbox: 0.2625, loss: 0.3194\n",
      "2022-05-26 14:16:16,271 - mmfewshot - INFO - Iter [33250/100000]\tlr: 1.000e-04, eta: 6:08:41, time: 0.266, data_time: 0.012, memory: 5635, loss_rpn_cls: 0.0072, loss_rpn_bbox: 0.0046, loss_cls: 0.0301, acc: 99.6797, loss_bbox: 0.2894, loss: 0.3313\n",
      "2022-05-26 14:16:29,636 - mmfewshot - INFO - Iter [33300/100000]\tlr: 1.000e-04, eta: 6:08:18, time: 0.267, data_time: 0.011, memory: 5635, loss_rpn_cls: 0.0087, loss_rpn_bbox: 0.0070, loss_cls: 0.0525, acc: 99.5000, loss_bbox: 0.2907, loss: 0.3589\n",
      "2022-05-26 14:16:43,012 - mmfewshot - INFO - Iter [33350/100000]\tlr: 1.000e-04, eta: 6:07:55, time: 0.268, data_time: 0.011, memory: 5635, loss_rpn_cls: 0.0081, loss_rpn_bbox: 0.0055, loss_cls: 0.0476, acc: 99.5703, loss_bbox: 0.2659, loss: 0.3271\n",
      "2022-05-26 14:16:56,462 - mmfewshot - INFO - Iter [33400/100000]\tlr: 1.000e-04, eta: 6:07:32, time: 0.269, data_time: 0.012, memory: 5635, loss_rpn_cls: 0.0097, loss_rpn_bbox: 0.0067, loss_cls: 0.0462, acc: 99.5469, loss_bbox: 0.2912, loss: 0.3538\n",
      "2022-05-26 14:17:09,736 - mmfewshot - INFO - Iter [33450/100000]\tlr: 1.000e-04, eta: 6:07:09, time: 0.265, data_time: 0.012, memory: 5635, loss_rpn_cls: 0.0121, loss_rpn_bbox: 0.0064, loss_cls: 0.0452, acc: 99.6797, loss_bbox: 0.2430, loss: 0.3066\n",
      "2022-05-26 14:17:23,141 - mmfewshot - INFO - Iter [33500/100000]\tlr: 1.000e-04, eta: 6:06:47, time: 0.268, data_time: 0.012, memory: 5635, loss_rpn_cls: 0.0127, loss_rpn_bbox: 0.0083, loss_cls: 0.0412, acc: 99.5859, loss_bbox: 0.2905, loss: 0.3527\n",
      "2022-05-26 14:17:36,558 - mmfewshot - INFO - Iter [33550/100000]\tlr: 1.000e-04, eta: 6:06:24, time: 0.268, data_time: 0.012, memory: 5635, loss_rpn_cls: 0.0108, loss_rpn_bbox: 0.0051, loss_cls: 0.0451, acc: 99.6016, loss_bbox: 0.2266, loss: 0.2876\n",
      "2022-05-26 14:17:49,941 - mmfewshot - INFO - Iter [33600/100000]\tlr: 1.000e-04, eta: 6:06:01, time: 0.268, data_time: 0.012, memory: 5635, loss_rpn_cls: 0.0180, loss_rpn_bbox: 0.0087, loss_cls: 0.0463, acc: 99.4609, loss_bbox: 0.2712, loss: 0.3442\n",
      "2022-05-26 14:18:03,173 - mmfewshot - INFO - Iter [33650/100000]\tlr: 1.000e-04, eta: 6:05:38, time: 0.264, data_time: 0.011, memory: 5635, loss_rpn_cls: 0.0102, loss_rpn_bbox: 0.0075, loss_cls: 0.0426, acc: 99.6875, loss_bbox: 0.2338, loss: 0.2941\n",
      "2022-05-26 14:18:16,455 - mmfewshot - INFO - Iter [33700/100000]\tlr: 1.000e-04, eta: 6:05:15, time: 0.266, data_time: 0.010, memory: 5635, loss_rpn_cls: 0.0109, loss_rpn_bbox: 0.0069, loss_cls: 0.0370, acc: 99.6016, loss_bbox: 0.2931, loss: 0.3478\n",
      "2022-05-26 14:18:29,761 - mmfewshot - INFO - Iter [33750/100000]\tlr: 1.000e-04, eta: 6:04:52, time: 0.266, data_time: 0.011, memory: 5635, loss_rpn_cls: 0.0088, loss_rpn_bbox: 0.0049, loss_cls: 0.0369, acc: 99.6328, loss_bbox: 0.2927, loss: 0.3433\n",
      "2022-05-26 14:18:42,982 - mmfewshot - INFO - Iter [33800/100000]\tlr: 1.000e-04, eta: 6:04:29, time: 0.264, data_time: 0.010, memory: 5635, loss_rpn_cls: 0.0108, loss_rpn_bbox: 0.0072, loss_cls: 0.0421, acc: 99.4844, loss_bbox: 0.2868, loss: 0.3469\n",
      "2022-05-26 14:18:56,195 - mmfewshot - INFO - Iter [33850/100000]\tlr: 1.000e-04, eta: 6:04:06, time: 0.264, data_time: 0.011, memory: 5635, loss_rpn_cls: 0.0123, loss_rpn_bbox: 0.0092, loss_cls: 0.0496, acc: 99.5703, loss_bbox: 0.2659, loss: 0.3370\n",
      "2022-05-26 14:19:09,481 - mmfewshot - INFO - Iter [33900/100000]\tlr: 1.000e-04, eta: 6:03:43, time: 0.266, data_time: 0.011, memory: 5635, loss_rpn_cls: 0.0134, loss_rpn_bbox: 0.0075, loss_cls: 0.0585, acc: 99.5391, loss_bbox: 0.2504, loss: 0.3298\n",
      "2022-05-26 14:19:22,762 - mmfewshot - INFO - Iter [33950/100000]\tlr: 1.000e-04, eta: 6:03:21, time: 0.266, data_time: 0.011, memory: 5635, loss_rpn_cls: 0.0110, loss_rpn_bbox: 0.0071, loss_cls: 0.0388, acc: 99.6094, loss_bbox: 0.2647, loss: 0.3215\n",
      "2022-05-26 14:19:36,156 - mmfewshot - INFO - Exp name: attention-rpn_r50_c4_tb-split1_1shot-fine-tuning-momentum-09.py\n",
      "2022-05-26 14:19:36,158 - mmfewshot - INFO - Iter [34000/100000]\tlr: 1.000e-04, eta: 6:02:58, time: 0.268, data_time: 0.011, memory: 5635, loss_rpn_cls: 0.0081, loss_rpn_bbox: 0.0044, loss_cls: 0.0404, acc: 99.7031, loss_bbox: 0.2707, loss: 0.3236\n",
      "2022-05-26 14:19:36,163 - mmdet - INFO - starting model initialization...\n"
     ]
    },
    {
     "name": "stdout",
     "output_type": "stream",
     "text": [
      "[>>>>>>>>>>>>>>>>>>>>>>>>>>>>>>] 640/640, 82.8 task/s, elapsed: 8s, ETA:     0s"
     ]
    },
    {
     "name": "stderr",
     "output_type": "stream",
     "text": [
      "2022-05-26 14:19:43,961 - mmdet - INFO - model initialization done.\n"
     ]
    },
    {
     "name": "stdout",
     "output_type": "stream",
     "text": [
      "[>>>>>>>>>>>>>>>>>>>>>>>>>>>>>] 712/712, 12.5 task/s, elapsed: 57s, ETA:     0s\n",
      "---------------iou_thr: 0.5---------------\n"
     ]
    },
    {
     "name": "stderr",
     "output_type": "stream",
     "text": [
      "2022-05-26 14:20:41,361 - mmfewshot - INFO - \n",
      "+----------+-----+------+--------+-------+\n",
      "| class    | gts | dets | recall | ap    |\n",
      "+----------+-----+------+--------+-------+\n",
      "| 7up      | 810 | 3385 | 0.658  | 0.341 |\n",
      "| BudLight | 209 | 597  | 0.469  | 0.224 |\n",
      "+----------+-----+------+--------+-------+\n",
      "| mAP      |     |      |        | 0.283 |\n",
      "+----------+-----+------+--------+-------+\n",
      "2022-05-26 14:20:41,364 - mmfewshot - INFO - BASE_CLASSES_SPLIT1 mAP: 0.2826543152332306\n",
      "2022-05-26 14:20:41,365 - mmfewshot - INFO - NOVEL_CLASSES_SPLIT1 mAP: nan\n",
      "2022-05-26 14:20:41,370 - mmfewshot - INFO - Exp name: attention-rpn_r50_c4_tb-split1_1shot-fine-tuning-momentum-09.py\n",
      "2022-05-26 14:20:41,372 - mmfewshot - INFO - Iter(val) [712]\tAP50: 0.2830, BASE_CLASSES_SPLIT1: AP50: 0.2830, NOVEL_CLASSES_SPLIT1: AP50: nan, mAP: 0.2827\n",
      "/home/zhaozhiyuan/anaconda3/envs/mmfewshot/lib/python3.7/site-packages/mmdet/core/evaluation/mean_ap.py:203: DeprecationWarning: `np.bool` is a deprecated alias for the builtin `bool`. To silence this warning, use `bool` by itself. Doing this will not modify any behavior and is safe. If you specifically wanted the numpy scalar type, use `np.bool_` here.\n",
      "Deprecated in NumPy 1.20; for more details and guidance: https://numpy.org/devdocs/release/1.20.0-notes.html#deprecations\n",
      "  (np.zeros(gt_bboxes.shape[0], dtype=np.bool),\n",
      "2022-05-26 14:20:54,793 - mmfewshot - INFO - Iter [34050/100000]\tlr: 1.000e-04, eta: 6:04:42, time: 1.573, data_time: 1.316, memory: 5635, loss_rpn_cls: 0.0094, loss_rpn_bbox: 0.0069, loss_cls: 0.0418, acc: 99.6094, loss_bbox: 0.2745, loss: 0.3327\n",
      "2022-05-26 14:21:08,192 - mmfewshot - INFO - Iter [34100/100000]\tlr: 1.000e-04, eta: 6:04:19, time: 0.268, data_time: 0.011, memory: 5635, loss_rpn_cls: 0.0067, loss_rpn_bbox: 0.0039, loss_cls: 0.0504, acc: 99.6250, loss_bbox: 0.2300, loss: 0.2910\n",
      "2022-05-26 14:21:21,464 - mmfewshot - INFO - Iter [34150/100000]\tlr: 1.000e-04, eta: 6:03:56, time: 0.265, data_time: 0.011, memory: 5635, loss_rpn_cls: 0.0103, loss_rpn_bbox: 0.0085, loss_cls: 0.0473, acc: 99.5391, loss_bbox: 0.2776, loss: 0.3439\n",
      "2022-05-26 14:21:34,822 - mmfewshot - INFO - Iter [34200/100000]\tlr: 1.000e-04, eta: 6:03:33, time: 0.267, data_time: 0.012, memory: 5635, loss_rpn_cls: 0.0084, loss_rpn_bbox: 0.0071, loss_cls: 0.0406, acc: 99.6250, loss_bbox: 0.2978, loss: 0.3539\n",
      "2022-05-26 14:21:48,198 - mmfewshot - INFO - Iter [34250/100000]\tlr: 1.000e-04, eta: 6:03:11, time: 0.268, data_time: 0.011, memory: 5635, loss_rpn_cls: 0.0085, loss_rpn_bbox: 0.0055, loss_cls: 0.0353, acc: 99.6875, loss_bbox: 0.2613, loss: 0.3106\n",
      "2022-05-26 14:22:01,599 - mmfewshot - INFO - Iter [34300/100000]\tlr: 1.000e-04, eta: 6:02:48, time: 0.268, data_time: 0.012, memory: 5635, loss_rpn_cls: 0.0131, loss_rpn_bbox: 0.0082, loss_cls: 0.0432, acc: 99.5469, loss_bbox: 0.2698, loss: 0.3343\n",
      "2022-05-26 14:22:15,088 - mmfewshot - INFO - Iter [34350/100000]\tlr: 1.000e-04, eta: 6:02:26, time: 0.270, data_time: 0.012, memory: 5635, loss_rpn_cls: 0.0125, loss_rpn_bbox: 0.0087, loss_cls: 0.0518, acc: 99.5938, loss_bbox: 0.2781, loss: 0.3511\n",
      "2022-05-26 14:22:28,206 - mmfewshot - INFO - Iter [34400/100000]\tlr: 1.000e-04, eta: 6:02:02, time: 0.262, data_time: 0.010, memory: 5635, loss_rpn_cls: 0.0078, loss_rpn_bbox: 0.0049, loss_cls: 0.0466, acc: 99.6406, loss_bbox: 0.2309, loss: 0.2901\n",
      "2022-05-26 14:22:41,373 - mmfewshot - INFO - Iter [34450/100000]\tlr: 1.000e-04, eta: 6:01:39, time: 0.263, data_time: 0.010, memory: 5635, loss_rpn_cls: 0.0075, loss_rpn_bbox: 0.0040, loss_cls: 0.0461, acc: 99.5000, loss_bbox: 0.2705, loss: 0.3280\n",
      "2022-05-26 14:22:54,633 - mmfewshot - INFO - Iter [34500/100000]\tlr: 1.000e-04, eta: 6:01:17, time: 0.265, data_time: 0.011, memory: 5635, loss_rpn_cls: 0.0067, loss_rpn_bbox: 0.0063, loss_cls: 0.0466, acc: 99.5781, loss_bbox: 0.2965, loss: 0.3561\n",
      "2022-05-26 14:23:07,873 - mmfewshot - INFO - Iter [34550/100000]\tlr: 1.000e-04, eta: 6:00:54, time: 0.264, data_time: 0.010, memory: 5635, loss_rpn_cls: 0.0094, loss_rpn_bbox: 0.0049, loss_cls: 0.0444, acc: 99.5547, loss_bbox: 0.3140, loss: 0.3727\n",
      "2022-05-26 14:23:21,117 - mmfewshot - INFO - Iter [34600/100000]\tlr: 1.000e-04, eta: 6:00:31, time: 0.265, data_time: 0.011, memory: 5635, loss_rpn_cls: 0.0071, loss_rpn_bbox: 0.0045, loss_cls: 0.0482, acc: 99.6406, loss_bbox: 0.2436, loss: 0.3034\n",
      "2022-05-26 14:23:34,493 - mmfewshot - INFO - Iter [34650/100000]\tlr: 1.000e-04, eta: 6:00:09, time: 0.267, data_time: 0.011, memory: 5635, loss_rpn_cls: 0.0096, loss_rpn_bbox: 0.0071, loss_cls: 0.0397, acc: 99.5625, loss_bbox: 0.2618, loss: 0.3182\n",
      "2022-05-26 14:23:47,850 - mmfewshot - INFO - Iter [34700/100000]\tlr: 1.000e-04, eta: 5:59:46, time: 0.267, data_time: 0.012, memory: 5635, loss_rpn_cls: 0.0098, loss_rpn_bbox: 0.0050, loss_cls: 0.0717, acc: 99.4609, loss_bbox: 0.2630, loss: 0.3495\n",
      "2022-05-26 14:24:01,275 - mmfewshot - INFO - Iter [34750/100000]\tlr: 1.000e-04, eta: 5:59:24, time: 0.268, data_time: 0.012, memory: 5635, loss_rpn_cls: 0.0085, loss_rpn_bbox: 0.0048, loss_cls: 0.0472, acc: 99.6484, loss_bbox: 0.2375, loss: 0.2979\n",
      "2022-05-26 14:24:14,768 - mmfewshot - INFO - Iter [34800/100000]\tlr: 1.000e-04, eta: 5:59:02, time: 0.270, data_time: 0.012, memory: 5635, loss_rpn_cls: 0.0100, loss_rpn_bbox: 0.0058, loss_cls: 0.0449, acc: 99.5938, loss_bbox: 0.2429, loss: 0.3037\n",
      "2022-05-26 14:24:28,160 - mmfewshot - INFO - Iter [34850/100000]\tlr: 1.000e-04, eta: 5:58:39, time: 0.267, data_time: 0.011, memory: 5635, loss_rpn_cls: 0.0090, loss_rpn_bbox: 0.0072, loss_cls: 0.0539, acc: 99.4922, loss_bbox: 0.2449, loss: 0.3150\n",
      "2022-05-26 14:24:41,772 - mmfewshot - INFO - Iter [34900/100000]\tlr: 1.000e-04, eta: 5:58:17, time: 0.272, data_time: 0.013, memory: 5635, loss_rpn_cls: 0.0065, loss_rpn_bbox: 0.0063, loss_cls: 0.0534, acc: 99.5938, loss_bbox: 0.2465, loss: 0.3128\n",
      "2022-05-26 14:24:55,256 - mmfewshot - INFO - Iter [34950/100000]\tlr: 1.000e-04, eta: 5:57:55, time: 0.270, data_time: 0.012, memory: 5635, loss_rpn_cls: 0.0061, loss_rpn_bbox: 0.0050, loss_cls: 0.0583, acc: 99.5703, loss_bbox: 0.2761, loss: 0.3456\n",
      "2022-05-26 14:25:08,706 - mmfewshot - INFO - Exp name: attention-rpn_r50_c4_tb-split1_1shot-fine-tuning-momentum-09.py\n",
      "2022-05-26 14:25:08,709 - mmfewshot - INFO - Iter [35000/100000]\tlr: 1.000e-04, eta: 5:57:33, time: 0.269, data_time: 0.012, memory: 5635, loss_rpn_cls: 0.0163, loss_rpn_bbox: 0.0100, loss_cls: 0.0456, acc: 99.5625, loss_bbox: 0.2652, loss: 0.3370\n",
      "2022-05-26 14:25:08,714 - mmdet - INFO - starting model initialization...\n"
     ]
    },
    {
     "name": "stdout",
     "output_type": "stream",
     "text": [
      "[>>>>>>>>>>>>>>>>>>>>>>>>>>>>>>] 640/640, 77.6 task/s, elapsed: 8s, ETA:     0s"
     ]
    },
    {
     "name": "stderr",
     "output_type": "stream",
     "text": [
      "2022-05-26 14:25:17,039 - mmdet - INFO - model initialization done.\n"
     ]
    },
    {
     "name": "stdout",
     "output_type": "stream",
     "text": [
      "[>>>>>>>>>>>>>>>>>>>>>>>>>>>>>] 712/712, 12.7 task/s, elapsed: 56s, ETA:     0s\n",
      "---------------iou_thr: 0.5---------------\n"
     ]
    },
    {
     "name": "stderr",
     "output_type": "stream",
     "text": [
      "2022-05-26 14:26:13,635 - mmfewshot - INFO - \n",
      "+----------+-----+------+--------+-------+\n",
      "| class    | gts | dets | recall | ap    |\n",
      "+----------+-----+------+--------+-------+\n",
      "| 7up      | 810 | 3749 | 0.688  | 0.341 |\n",
      "| BudLight | 209 | 723  | 0.526  | 0.255 |\n",
      "+----------+-----+------+--------+-------+\n",
      "| mAP      |     |      |        | 0.298 |\n",
      "+----------+-----+------+--------+-------+\n",
      "2022-05-26 14:26:13,638 - mmfewshot - INFO - BASE_CLASSES_SPLIT1 mAP: 0.2978343963623047\n",
      "2022-05-26 14:26:13,639 - mmfewshot - INFO - NOVEL_CLASSES_SPLIT1 mAP: nan\n",
      "2022-05-26 14:26:13,645 - mmfewshot - INFO - Exp name: attention-rpn_r50_c4_tb-split1_1shot-fine-tuning-momentum-09.py\n",
      "2022-05-26 14:26:13,647 - mmfewshot - INFO - Iter(val) [712]\tAP50: 0.2980, BASE_CLASSES_SPLIT1: AP50: 0.2980, NOVEL_CLASSES_SPLIT1: AP50: nan, mAP: 0.2978\n",
      "2022-05-26 14:26:27,139 - mmfewshot - INFO - Iter [35050/100000]\tlr: 1.000e-04, eta: 5:59:11, time: 1.569, data_time: 1.310, memory: 5635, loss_rpn_cls: 0.0143, loss_rpn_bbox: 0.0084, loss_cls: 0.0432, acc: 99.5859, loss_bbox: 0.2860, loss: 0.3519\n",
      "2022-05-26 14:26:40,741 - mmfewshot - INFO - Iter [35100/100000]\tlr: 1.000e-04, eta: 5:58:49, time: 0.272, data_time: 0.013, memory: 5635, loss_rpn_cls: 0.0121, loss_rpn_bbox: 0.0099, loss_cls: 0.0510, acc: 99.6406, loss_bbox: 0.2709, loss: 0.3439\n",
      "2022-05-26 14:26:54,239 - mmfewshot - INFO - Iter [35150/100000]\tlr: 1.000e-04, eta: 5:58:27, time: 0.270, data_time: 0.012, memory: 5635, loss_rpn_cls: 0.0078, loss_rpn_bbox: 0.0055, loss_cls: 0.0421, acc: 99.6641, loss_bbox: 0.2408, loss: 0.2962\n",
      "2022-05-26 14:27:07,689 - mmfewshot - INFO - Iter [35200/100000]\tlr: 1.000e-04, eta: 5:58:04, time: 0.269, data_time: 0.012, memory: 5635, loss_rpn_cls: 0.0075, loss_rpn_bbox: 0.0054, loss_cls: 0.0404, acc: 99.6016, loss_bbox: 0.2650, loss: 0.3184\n",
      "2022-05-26 14:27:21,087 - mmfewshot - INFO - Iter [35250/100000]\tlr: 1.000e-04, eta: 5:57:42, time: 0.268, data_time: 0.011, memory: 5635, loss_rpn_cls: 0.0078, loss_rpn_bbox: 0.0070, loss_cls: 0.0505, acc: 99.5000, loss_bbox: 0.2921, loss: 0.3574\n",
      "2022-05-26 14:27:34,506 - mmfewshot - INFO - Iter [35300/100000]\tlr: 1.000e-04, eta: 5:57:20, time: 0.269, data_time: 0.012, memory: 5635, loss_rpn_cls: 0.0080, loss_rpn_bbox: 0.0049, loss_cls: 0.0486, acc: 99.5312, loss_bbox: 0.2639, loss: 0.3255\n",
      "2022-05-26 14:27:47,799 - mmfewshot - INFO - Iter [35350/100000]\tlr: 1.000e-04, eta: 5:56:57, time: 0.266, data_time: 0.012, memory: 5635, loss_rpn_cls: 0.0069, loss_rpn_bbox: 0.0053, loss_cls: 0.0477, acc: 99.5703, loss_bbox: 0.2657, loss: 0.3256\n",
      "2022-05-26 14:28:01,021 - mmfewshot - INFO - Iter [35400/100000]\tlr: 1.000e-04, eta: 5:56:34, time: 0.264, data_time: 0.011, memory: 5635, loss_rpn_cls: 0.0065, loss_rpn_bbox: 0.0057, loss_cls: 0.0765, acc: 99.4219, loss_bbox: 0.2398, loss: 0.3285\n",
      "2022-05-26 14:28:14,310 - mmfewshot - INFO - Iter [35450/100000]\tlr: 1.000e-04, eta: 5:56:12, time: 0.266, data_time: 0.011, memory: 5635, loss_rpn_cls: 0.0115, loss_rpn_bbox: 0.0059, loss_cls: 0.0446, acc: 99.5469, loss_bbox: 0.2694, loss: 0.3314\n",
      "2022-05-26 14:28:27,587 - mmfewshot - INFO - Iter [35500/100000]\tlr: 1.000e-04, eta: 5:55:49, time: 0.266, data_time: 0.011, memory: 5635, loss_rpn_cls: 0.0132, loss_rpn_bbox: 0.0083, loss_cls: 0.0416, acc: 99.5469, loss_bbox: 0.2730, loss: 0.3361\n",
      "2022-05-26 14:28:40,938 - mmfewshot - INFO - Iter [35550/100000]\tlr: 1.000e-04, eta: 5:55:27, time: 0.267, data_time: 0.011, memory: 5635, loss_rpn_cls: 0.0151, loss_rpn_bbox: 0.0097, loss_cls: 0.0690, acc: 99.4844, loss_bbox: 0.2683, loss: 0.3621\n",
      "2022-05-26 14:28:54,370 - mmfewshot - INFO - Iter [35600/100000]\tlr: 1.000e-04, eta: 5:55:05, time: 0.269, data_time: 0.011, memory: 5635, loss_rpn_cls: 0.0076, loss_rpn_bbox: 0.0039, loss_cls: 0.0416, acc: 99.6719, loss_bbox: 0.2611, loss: 0.3141\n",
      "2022-05-26 14:29:07,836 - mmfewshot - INFO - Iter [35650/100000]\tlr: 1.000e-04, eta: 5:54:43, time: 0.269, data_time: 0.012, memory: 5635, loss_rpn_cls: 0.0086, loss_rpn_bbox: 0.0042, loss_cls: 0.0438, acc: 99.6016, loss_bbox: 0.2835, loss: 0.3400\n",
      "2022-05-26 14:29:21,234 - mmfewshot - INFO - Iter [35700/100000]\tlr: 1.000e-04, eta: 5:54:21, time: 0.268, data_time: 0.011, memory: 5635, loss_rpn_cls: 0.0094, loss_rpn_bbox: 0.0057, loss_cls: 0.0423, acc: 99.5938, loss_bbox: 0.2591, loss: 0.3165\n",
      "2022-05-26 14:29:34,734 - mmfewshot - INFO - Iter [35750/100000]\tlr: 1.000e-04, eta: 5:53:59, time: 0.270, data_time: 0.012, memory: 5635, loss_rpn_cls: 0.0086, loss_rpn_bbox: 0.0061, loss_cls: 0.0342, acc: 99.6797, loss_bbox: 0.2531, loss: 0.3020\n",
      "2022-05-26 14:29:48,088 - mmfewshot - INFO - Iter [35800/100000]\tlr: 1.000e-04, eta: 5:53:36, time: 0.267, data_time: 0.011, memory: 5635, loss_rpn_cls: 0.0109, loss_rpn_bbox: 0.0059, loss_cls: 0.0530, acc: 99.5703, loss_bbox: 0.2625, loss: 0.3324\n",
      "2022-05-26 14:30:01,538 - mmfewshot - INFO - Iter [35850/100000]\tlr: 1.000e-04, eta: 5:53:14, time: 0.269, data_time: 0.011, memory: 5635, loss_rpn_cls: 0.0087, loss_rpn_bbox: 0.0065, loss_cls: 0.0433, acc: 99.5703, loss_bbox: 0.2531, loss: 0.3115\n",
      "2022-05-26 14:30:14,938 - mmfewshot - INFO - Iter [35900/100000]\tlr: 1.000e-04, eta: 5:52:52, time: 0.268, data_time: 0.012, memory: 5635, loss_rpn_cls: 0.0107, loss_rpn_bbox: 0.0078, loss_cls: 0.0400, acc: 99.6172, loss_bbox: 0.2858, loss: 0.3443\n",
      "2022-05-26 14:30:28,259 - mmfewshot - INFO - Iter [35950/100000]\tlr: 1.000e-04, eta: 5:52:30, time: 0.267, data_time: 0.012, memory: 5635, loss_rpn_cls: 0.0119, loss_rpn_bbox: 0.0067, loss_cls: 0.0513, acc: 99.4766, loss_bbox: 0.2431, loss: 0.3129\n",
      "2022-05-26 14:30:41,681 - mmfewshot - INFO - Exp name: attention-rpn_r50_c4_tb-split1_1shot-fine-tuning-momentum-09.py\n",
      "2022-05-26 14:30:41,683 - mmfewshot - INFO - Iter [36000/100000]\tlr: 1.000e-04, eta: 5:52:08, time: 0.268, data_time: 0.012, memory: 5635, loss_rpn_cls: 0.0085, loss_rpn_bbox: 0.0065, loss_cls: 0.0466, acc: 99.5156, loss_bbox: 0.2776, loss: 0.3393\n",
      "2022-05-26 14:30:41,687 - mmdet - INFO - starting model initialization...\n"
     ]
    },
    {
     "name": "stdout",
     "output_type": "stream",
     "text": [
      "[>>>>>>>>>>>>>>>>>>>>>>>>>>>>>>] 640/640, 77.1 task/s, elapsed: 8s, ETA:     0s"
     ]
    },
    {
     "name": "stderr",
     "output_type": "stream",
     "text": [
      "2022-05-26 14:30:50,063 - mmdet - INFO - model initialization done.\n"
     ]
    },
    {
     "name": "stdout",
     "output_type": "stream",
     "text": [
      "[>>>>>>>>>>>>>>>>>>>>>>>>>>>>>] 712/712, 12.7 task/s, elapsed: 56s, ETA:     0s\n",
      "---------------iou_thr: 0.5---------------\n"
     ]
    },
    {
     "name": "stderr",
     "output_type": "stream",
     "text": [
      "2022-05-26 14:31:46,394 - mmfewshot - INFO - \n",
      "+----------+-----+------+--------+-------+\n",
      "| class    | gts | dets | recall | ap    |\n",
      "+----------+-----+------+--------+-------+\n",
      "| 7up      | 810 | 4189 | 0.725  | 0.390 |\n",
      "| BudLight | 209 | 527  | 0.445  | 0.208 |\n",
      "+----------+-----+------+--------+-------+\n",
      "| mAP      |     |      |        | 0.299 |\n",
      "+----------+-----+------+--------+-------+\n",
      "2022-05-26 14:31:46,398 - mmfewshot - INFO - BASE_CLASSES_SPLIT1 mAP: 0.2990844249725342\n",
      "2022-05-26 14:31:46,399 - mmfewshot - INFO - NOVEL_CLASSES_SPLIT1 mAP: nan\n",
      "2022-05-26 14:31:46,406 - mmfewshot - INFO - Exp name: attention-rpn_r50_c4_tb-split1_1shot-fine-tuning-momentum-09.py\n",
      "2022-05-26 14:31:46,408 - mmfewshot - INFO - Iter(val) [712]\tAP50: 0.2990, BASE_CLASSES_SPLIT1: AP50: 0.2990, NOVEL_CLASSES_SPLIT1: AP50: nan, mAP: 0.2991\n",
      "2022-05-26 14:31:59,733 - mmfewshot - INFO - Iter [36050/100000]\tlr: 1.000e-04, eta: 5:53:41, time: 1.561, data_time: 1.306, memory: 5635, loss_rpn_cls: 0.0085, loss_rpn_bbox: 0.0092, loss_cls: 0.0443, acc: 99.4922, loss_bbox: 0.3169, loss: 0.3788\n",
      "2022-05-26 14:32:12,893 - mmfewshot - INFO - Iter [36100/100000]\tlr: 1.000e-04, eta: 5:53:18, time: 0.263, data_time: 0.010, memory: 5635, loss_rpn_cls: 0.0080, loss_rpn_bbox: 0.0054, loss_cls: 0.0441, acc: 99.6016, loss_bbox: 0.2682, loss: 0.3257\n",
      "2022-05-26 14:32:26,216 - mmfewshot - INFO - Iter [36150/100000]\tlr: 1.000e-04, eta: 5:52:56, time: 0.267, data_time: 0.011, memory: 5635, loss_rpn_cls: 0.0158, loss_rpn_bbox: 0.0096, loss_cls: 0.0507, acc: 99.5234, loss_bbox: 0.2728, loss: 0.3490\n",
      "2022-05-26 14:32:39,755 - mmfewshot - INFO - Iter [36200/100000]\tlr: 1.000e-04, eta: 5:52:34, time: 0.271, data_time: 0.012, memory: 5635, loss_rpn_cls: 0.0093, loss_rpn_bbox: 0.0052, loss_cls: 0.0464, acc: 99.5859, loss_bbox: 0.2691, loss: 0.3299\n",
      "2022-05-26 14:32:53,082 - mmfewshot - INFO - Iter [36250/100000]\tlr: 1.000e-04, eta: 5:52:11, time: 0.267, data_time: 0.012, memory: 5635, loss_rpn_cls: 0.0101, loss_rpn_bbox: 0.0044, loss_cls: 0.0379, acc: 99.6641, loss_bbox: 0.2447, loss: 0.2971\n",
      "2022-05-26 14:33:06,292 - mmfewshot - INFO - Iter [36300/100000]\tlr: 1.000e-04, eta: 5:51:49, time: 0.264, data_time: 0.010, memory: 5635, loss_rpn_cls: 0.0109, loss_rpn_bbox: 0.0061, loss_cls: 0.0537, acc: 99.6484, loss_bbox: 0.2639, loss: 0.3346\n",
      "2022-05-26 14:33:19,515 - mmfewshot - INFO - Iter [36350/100000]\tlr: 1.000e-04, eta: 5:51:27, time: 0.265, data_time: 0.011, memory: 5635, loss_rpn_cls: 0.0085, loss_rpn_bbox: 0.0065, loss_cls: 0.0555, acc: 99.4297, loss_bbox: 0.2612, loss: 0.3317\n",
      "2022-05-26 14:33:32,789 - mmfewshot - INFO - Iter [36400/100000]\tlr: 1.000e-04, eta: 5:51:04, time: 0.265, data_time: 0.011, memory: 5635, loss_rpn_cls: 0.0062, loss_rpn_bbox: 0.0036, loss_cls: 0.0380, acc: 99.6016, loss_bbox: 0.2749, loss: 0.3226\n",
      "2022-05-26 14:33:46,235 - mmfewshot - INFO - Iter [36450/100000]\tlr: 1.000e-04, eta: 5:50:42, time: 0.269, data_time: 0.012, memory: 5635, loss_rpn_cls: 0.0117, loss_rpn_bbox: 0.0072, loss_cls: 0.0417, acc: 99.5625, loss_bbox: 0.2736, loss: 0.3342\n",
      "2022-05-26 14:33:59,574 - mmfewshot - INFO - Iter [36500/100000]\tlr: 1.000e-04, eta: 5:50:20, time: 0.267, data_time: 0.012, memory: 5635, loss_rpn_cls: 0.0086, loss_rpn_bbox: 0.0058, loss_cls: 0.0479, acc: 99.5000, loss_bbox: 0.2609, loss: 0.3233\n",
      "2022-05-26 14:34:12,894 - mmfewshot - INFO - Iter [36550/100000]\tlr: 1.000e-04, eta: 5:49:58, time: 0.267, data_time: 0.012, memory: 5635, loss_rpn_cls: 0.0092, loss_rpn_bbox: 0.0082, loss_cls: 0.0388, acc: 99.7109, loss_bbox: 0.2418, loss: 0.2979\n",
      "2022-05-26 14:34:26,250 - mmfewshot - INFO - Iter [36600/100000]\tlr: 1.000e-04, eta: 5:49:36, time: 0.267, data_time: 0.011, memory: 5635, loss_rpn_cls: 0.0124, loss_rpn_bbox: 0.0095, loss_cls: 0.0473, acc: 99.5469, loss_bbox: 0.3006, loss: 0.3699\n",
      "2022-05-26 14:34:39,793 - mmfewshot - INFO - Iter [36650/100000]\tlr: 1.000e-04, eta: 5:49:14, time: 0.271, data_time: 0.011, memory: 5635, loss_rpn_cls: 0.0118, loss_rpn_bbox: 0.0085, loss_cls: 0.0382, acc: 99.6641, loss_bbox: 0.2748, loss: 0.3333\n",
      "2022-05-26 14:34:53,257 - mmfewshot - INFO - Iter [36700/100000]\tlr: 1.000e-04, eta: 5:48:52, time: 0.269, data_time: 0.012, memory: 5635, loss_rpn_cls: 0.0090, loss_rpn_bbox: 0.0067, loss_cls: 0.0648, acc: 99.4062, loss_bbox: 0.2840, loss: 0.3646\n",
      "2022-05-26 14:35:06,685 - mmfewshot - INFO - Iter [36750/100000]\tlr: 1.000e-04, eta: 5:48:30, time: 0.268, data_time: 0.012, memory: 5635, loss_rpn_cls: 0.0142, loss_rpn_bbox: 0.0082, loss_cls: 0.0471, acc: 99.5234, loss_bbox: 0.2890, loss: 0.3586\n",
      "2022-05-26 14:35:20,089 - mmfewshot - INFO - Iter [36800/100000]\tlr: 1.000e-04, eta: 5:48:08, time: 0.268, data_time: 0.011, memory: 5635, loss_rpn_cls: 0.0085, loss_rpn_bbox: 0.0052, loss_cls: 0.0533, acc: 99.5547, loss_bbox: 0.2982, loss: 0.3651\n",
      "2022-05-26 14:35:33,446 - mmfewshot - INFO - Iter [36850/100000]\tlr: 1.000e-04, eta: 5:47:47, time: 0.267, data_time: 0.011, memory: 5635, loss_rpn_cls: 0.0083, loss_rpn_bbox: 0.0067, loss_cls: 0.0543, acc: 99.5625, loss_bbox: 0.2368, loss: 0.3062\n",
      "2022-05-26 14:35:46,647 - mmfewshot - INFO - Iter [36900/100000]\tlr: 1.000e-04, eta: 5:47:24, time: 0.264, data_time: 0.011, memory: 5635, loss_rpn_cls: 0.0071, loss_rpn_bbox: 0.0060, loss_cls: 0.0649, acc: 99.4844, loss_bbox: 0.2513, loss: 0.3293\n",
      "2022-05-26 14:35:59,963 - mmfewshot - INFO - Iter [36950/100000]\tlr: 1.000e-04, eta: 5:47:02, time: 0.267, data_time: 0.011, memory: 5635, loss_rpn_cls: 0.0113, loss_rpn_bbox: 0.0073, loss_cls: 0.0439, acc: 99.6094, loss_bbox: 0.2390, loss: 0.3015\n",
      "2022-05-26 14:36:13,271 - mmfewshot - INFO - Exp name: attention-rpn_r50_c4_tb-split1_1shot-fine-tuning-momentum-09.py\n",
      "2022-05-26 14:36:13,273 - mmfewshot - INFO - Iter [37000/100000]\tlr: 1.000e-04, eta: 5:46:40, time: 0.266, data_time: 0.011, memory: 5635, loss_rpn_cls: 0.0096, loss_rpn_bbox: 0.0058, loss_cls: 0.0399, acc: 99.6406, loss_bbox: 0.2584, loss: 0.3137\n",
      "2022-05-26 14:36:13,277 - mmdet - INFO - starting model initialization...\n"
     ]
    },
    {
     "name": "stdout",
     "output_type": "stream",
     "text": [
      "[>>>>>>>>>>>>>>>>>>>>>>>>>>>>>>] 640/640, 81.1 task/s, elapsed: 8s, ETA:     0s"
     ]
    },
    {
     "name": "stderr",
     "output_type": "stream",
     "text": [
      "2022-05-26 14:36:21,240 - mmdet - INFO - model initialization done.\n"
     ]
    },
    {
     "name": "stdout",
     "output_type": "stream",
     "text": [
      "[>>>>>>>>>>>>>>>>>>>>>>>>>>>>>] 712/712, 12.7 task/s, elapsed: 56s, ETA:     0s\n",
      "---------------iou_thr: 0.5---------------\n"
     ]
    },
    {
     "name": "stderr",
     "output_type": "stream",
     "text": [
      "2022-05-26 14:37:17,679 - mmfewshot - INFO - \n",
      "+----------+-----+------+--------+-------+\n",
      "| class    | gts | dets | recall | ap    |\n",
      "+----------+-----+------+--------+-------+\n",
      "| 7up      | 810 | 3057 | 0.647  | 0.317 |\n",
      "| BudLight | 209 | 716  | 0.550  | 0.250 |\n",
      "+----------+-----+------+--------+-------+\n",
      "| mAP      |     |      |        | 0.283 |\n",
      "+----------+-----+------+--------+-------+\n",
      "2022-05-26 14:37:17,682 - mmfewshot - INFO - BASE_CLASSES_SPLIT1 mAP: 0.2834591567516327\n",
      "2022-05-26 14:37:17,683 - mmfewshot - INFO - NOVEL_CLASSES_SPLIT1 mAP: nan\n",
      "2022-05-26 14:37:17,687 - mmfewshot - INFO - Exp name: attention-rpn_r50_c4_tb-split1_1shot-fine-tuning-momentum-09.py\n",
      "2022-05-26 14:37:17,688 - mmfewshot - INFO - Iter(val) [712]\tAP50: 0.2830, BASE_CLASSES_SPLIT1: AP50: 0.2830, NOVEL_CLASSES_SPLIT1: AP50: nan, mAP: 0.2835\n",
      "2022-05-26 14:37:30,964 - mmfewshot - INFO - Iter [37050/100000]\tlr: 1.000e-04, eta: 5:48:08, time: 1.554, data_time: 1.299, memory: 5635, loss_rpn_cls: 0.0119, loss_rpn_bbox: 0.0067, loss_cls: 0.0436, acc: 99.4922, loss_bbox: 0.3082, loss: 0.3703\n",
      "2022-05-26 14:37:44,231 - mmfewshot - INFO - Iter [37100/100000]\tlr: 1.000e-04, eta: 5:47:46, time: 0.265, data_time: 0.011, memory: 5635, loss_rpn_cls: 0.0111, loss_rpn_bbox: 0.0071, loss_cls: 0.0513, acc: 99.5312, loss_bbox: 0.2805, loss: 0.3500\n",
      "2022-05-26 14:37:57,542 - mmfewshot - INFO - Iter [37150/100000]\tlr: 1.000e-04, eta: 5:47:23, time: 0.267, data_time: 0.012, memory: 5635, loss_rpn_cls: 0.0093, loss_rpn_bbox: 0.0052, loss_cls: 0.0436, acc: 99.5312, loss_bbox: 0.2729, loss: 0.3310\n",
      "2022-05-26 14:38:10,937 - mmfewshot - INFO - Iter [37200/100000]\tlr: 1.000e-04, eta: 5:47:01, time: 0.268, data_time: 0.011, memory: 5635, loss_rpn_cls: 0.0107, loss_rpn_bbox: 0.0068, loss_cls: 0.0449, acc: 99.5859, loss_bbox: 0.2590, loss: 0.3214\n",
      "2022-05-26 14:38:24,233 - mmfewshot - INFO - Iter [37250/100000]\tlr: 1.000e-04, eta: 5:46:39, time: 0.266, data_time: 0.012, memory: 5635, loss_rpn_cls: 0.0100, loss_rpn_bbox: 0.0093, loss_cls: 0.0500, acc: 99.5547, loss_bbox: 0.2662, loss: 0.3355\n",
      "2022-05-26 14:38:37,621 - mmfewshot - INFO - Iter [37300/100000]\tlr: 1.000e-04, eta: 5:46:17, time: 0.268, data_time: 0.011, memory: 5635, loss_rpn_cls: 0.0100, loss_rpn_bbox: 0.0070, loss_cls: 0.0538, acc: 99.5312, loss_bbox: 0.2433, loss: 0.3140\n",
      "2022-05-26 14:38:50,803 - mmfewshot - INFO - Iter [37350/100000]\tlr: 1.000e-04, eta: 5:45:55, time: 0.263, data_time: 0.011, memory: 5635, loss_rpn_cls: 0.0098, loss_rpn_bbox: 0.0056, loss_cls: 0.0335, acc: 99.6797, loss_bbox: 0.2597, loss: 0.3086\n",
      "2022-05-26 14:39:04,063 - mmfewshot - INFO - Iter [37400/100000]\tlr: 1.000e-04, eta: 5:45:33, time: 0.265, data_time: 0.011, memory: 5635, loss_rpn_cls: 0.0089, loss_rpn_bbox: 0.0064, loss_cls: 0.0528, acc: 99.5000, loss_bbox: 0.2740, loss: 0.3421\n",
      "2022-05-26 14:39:17,344 - mmfewshot - INFO - Iter [37450/100000]\tlr: 1.000e-04, eta: 5:45:11, time: 0.266, data_time: 0.011, memory: 5635, loss_rpn_cls: 0.0098, loss_rpn_bbox: 0.0059, loss_cls: 0.0316, acc: 99.7578, loss_bbox: 0.2768, loss: 0.3241\n",
      "2022-05-26 14:39:30,552 - mmfewshot - INFO - Iter [37500/100000]\tlr: 1.000e-04, eta: 5:44:49, time: 0.264, data_time: 0.010, memory: 5635, loss_rpn_cls: 0.0078, loss_rpn_bbox: 0.0051, loss_cls: 0.0385, acc: 99.6719, loss_bbox: 0.2337, loss: 0.2850\n",
      "2022-05-26 14:39:43,995 - mmfewshot - INFO - Iter [37550/100000]\tlr: 1.000e-04, eta: 5:44:27, time: 0.269, data_time: 0.012, memory: 5635, loss_rpn_cls: 0.0109, loss_rpn_bbox: 0.0057, loss_cls: 0.0457, acc: 99.5391, loss_bbox: 0.2924, loss: 0.3547\n",
      "2022-05-26 14:39:57,525 - mmfewshot - INFO - Iter [37600/100000]\tlr: 1.000e-04, eta: 5:44:06, time: 0.271, data_time: 0.012, memory: 5635, loss_rpn_cls: 0.0099, loss_rpn_bbox: 0.0051, loss_cls: 0.0496, acc: 99.5625, loss_bbox: 0.2525, loss: 0.3171\n",
      "2022-05-26 14:40:10,978 - mmfewshot - INFO - Iter [37650/100000]\tlr: 1.000e-04, eta: 5:43:44, time: 0.269, data_time: 0.011, memory: 5635, loss_rpn_cls: 0.0078, loss_rpn_bbox: 0.0042, loss_cls: 0.0379, acc: 99.6406, loss_bbox: 0.2868, loss: 0.3366\n",
      "2022-05-26 14:40:24,258 - mmfewshot - INFO - Iter [37700/100000]\tlr: 1.000e-04, eta: 5:43:22, time: 0.266, data_time: 0.011, memory: 5635, loss_rpn_cls: 0.0115, loss_rpn_bbox: 0.0080, loss_cls: 0.0447, acc: 99.5469, loss_bbox: 0.3076, loss: 0.3718\n",
      "2022-05-26 14:40:37,701 - mmfewshot - INFO - Iter [37750/100000]\tlr: 1.000e-04, eta: 5:43:00, time: 0.269, data_time: 0.013, memory: 5635, loss_rpn_cls: 0.0095, loss_rpn_bbox: 0.0056, loss_cls: 0.0511, acc: 99.5703, loss_bbox: 0.2488, loss: 0.3151\n",
      "2022-05-26 14:40:51,198 - mmfewshot - INFO - Iter [37800/100000]\tlr: 1.000e-04, eta: 5:42:39, time: 0.269, data_time: 0.011, memory: 5635, loss_rpn_cls: 0.0097, loss_rpn_bbox: 0.0067, loss_cls: 0.0574, acc: 99.5078, loss_bbox: 0.2540, loss: 0.3279\n",
      "2022-05-26 14:41:04,532 - mmfewshot - INFO - Iter [37850/100000]\tlr: 1.000e-04, eta: 5:42:17, time: 0.267, data_time: 0.011, memory: 5635, loss_rpn_cls: 0.0072, loss_rpn_bbox: 0.0058, loss_cls: 0.0676, acc: 99.5000, loss_bbox: 0.2701, loss: 0.3507\n",
      "2022-05-26 14:41:17,704 - mmfewshot - INFO - Iter [37900/100000]\tlr: 1.000e-04, eta: 5:41:55, time: 0.263, data_time: 0.011, memory: 5635, loss_rpn_cls: 0.0079, loss_rpn_bbox: 0.0048, loss_cls: 0.0601, acc: 99.5391, loss_bbox: 0.2451, loss: 0.3180\n",
      "2022-05-26 14:41:31,018 - mmfewshot - INFO - Iter [37950/100000]\tlr: 1.000e-04, eta: 5:41:33, time: 0.266, data_time: 0.011, memory: 5635, loss_rpn_cls: 0.0059, loss_rpn_bbox: 0.0089, loss_cls: 0.0371, acc: 99.6250, loss_bbox: 0.2671, loss: 0.3191\n",
      "2022-05-26 14:41:44,509 - mmfewshot - INFO - Exp name: attention-rpn_r50_c4_tb-split1_1shot-fine-tuning-momentum-09.py\n",
      "2022-05-26 14:41:44,511 - mmfewshot - INFO - Iter [38000/100000]\tlr: 1.000e-04, eta: 5:41:12, time: 0.270, data_time: 0.011, memory: 5635, loss_rpn_cls: 0.0134, loss_rpn_bbox: 0.0067, loss_cls: 0.0472, acc: 99.5938, loss_bbox: 0.2695, loss: 0.3368\n",
      "2022-05-26 14:41:44,516 - mmdet - INFO - starting model initialization...\n"
     ]
    },
    {
     "name": "stdout",
     "output_type": "stream",
     "text": [
      "[>>>>>>>>>>>>>>>>>>>>>>>>>>>>>>] 640/640, 78.0 task/s, elapsed: 8s, ETA:     0s"
     ]
    },
    {
     "name": "stderr",
     "output_type": "stream",
     "text": [
      "2022-05-26 14:41:52,786 - mmdet - INFO - model initialization done.\n"
     ]
    },
    {
     "name": "stdout",
     "output_type": "stream",
     "text": [
      "[>>>>>>>>>>>>>>>>>>>>>>>>>>>>>] 712/712, 12.7 task/s, elapsed: 56s, ETA:     0s\n",
      "---------------iou_thr: 0.5---------------\n"
     ]
    },
    {
     "name": "stderr",
     "output_type": "stream",
     "text": [
      "2022-05-26 14:42:49,524 - mmfewshot - INFO - \n",
      "+----------+-----+------+--------+-------+\n",
      "| class    | gts | dets | recall | ap    |\n",
      "+----------+-----+------+--------+-------+\n",
      "| 7up      | 810 | 3448 | 0.657  | 0.319 |\n",
      "| BudLight | 209 | 459  | 0.440  | 0.195 |\n",
      "+----------+-----+------+--------+-------+\n",
      "| mAP      |     |      |        | 0.257 |\n",
      "+----------+-----+------+--------+-------+\n",
      "2022-05-26 14:42:49,527 - mmfewshot - INFO - BASE_CLASSES_SPLIT1 mAP: 0.25658756494522095\n",
      "2022-05-26 14:42:49,527 - mmfewshot - INFO - NOVEL_CLASSES_SPLIT1 mAP: nan\n",
      "2022-05-26 14:42:49,532 - mmfewshot - INFO - Exp name: attention-rpn_r50_c4_tb-split1_1shot-fine-tuning-momentum-09.py\n",
      "2022-05-26 14:42:49,533 - mmfewshot - INFO - Iter(val) [712]\tAP50: 0.2570, BASE_CLASSES_SPLIT1: AP50: 0.2570, NOVEL_CLASSES_SPLIT1: AP50: nan, mAP: 0.2566\n",
      "2022-05-26 14:43:03,035 - mmfewshot - INFO - Iter [38050/100000]\tlr: 1.000e-04, eta: 5:42:36, time: 1.571, data_time: 1.312, memory: 5635, loss_rpn_cls: 0.0074, loss_rpn_bbox: 0.0050, loss_cls: 0.0396, acc: 99.7031, loss_bbox: 0.2598, loss: 0.3119\n",
      "2022-05-26 14:43:16,401 - mmfewshot - INFO - Iter [38100/100000]\tlr: 1.000e-04, eta: 5:42:15, time: 0.267, data_time: 0.011, memory: 5635, loss_rpn_cls: 0.0104, loss_rpn_bbox: 0.0068, loss_cls: 0.0395, acc: 99.6172, loss_bbox: 0.2897, loss: 0.3465\n",
      "2022-05-26 14:43:29,641 - mmfewshot - INFO - Iter [38150/100000]\tlr: 1.000e-04, eta: 5:41:53, time: 0.265, data_time: 0.012, memory: 5635, loss_rpn_cls: 0.0162, loss_rpn_bbox: 0.0064, loss_cls: 0.0472, acc: 99.5156, loss_bbox: 0.2774, loss: 0.3473\n",
      "2022-05-26 14:43:42,993 - mmfewshot - INFO - Iter [38200/100000]\tlr: 1.000e-04, eta: 5:41:31, time: 0.267, data_time: 0.012, memory: 5635, loss_rpn_cls: 0.0104, loss_rpn_bbox: 0.0067, loss_cls: 0.0360, acc: 99.6484, loss_bbox: 0.2788, loss: 0.3319\n",
      "2022-05-26 14:43:56,474 - mmfewshot - INFO - Iter [38250/100000]\tlr: 1.000e-04, eta: 5:41:09, time: 0.270, data_time: 0.012, memory: 5635, loss_rpn_cls: 0.0078, loss_rpn_bbox: 0.0061, loss_cls: 0.0392, acc: 99.6719, loss_bbox: 0.2747, loss: 0.3278\n",
      "2022-05-26 14:44:09,858 - mmfewshot - INFO - Iter [38300/100000]\tlr: 1.000e-04, eta: 5:40:47, time: 0.267, data_time: 0.011, memory: 5635, loss_rpn_cls: 0.0090, loss_rpn_bbox: 0.0054, loss_cls: 0.0477, acc: 99.5781, loss_bbox: 0.2356, loss: 0.2978\n",
      "2022-05-26 14:44:23,180 - mmfewshot - INFO - Iter [38350/100000]\tlr: 1.000e-04, eta: 5:40:26, time: 0.267, data_time: 0.011, memory: 5635, loss_rpn_cls: 0.0085, loss_rpn_bbox: 0.0073, loss_cls: 0.0525, acc: 99.5547, loss_bbox: 0.2727, loss: 0.3409\n",
      "2022-05-26 14:44:36,362 - mmfewshot - INFO - Iter [38400/100000]\tlr: 1.000e-04, eta: 5:40:04, time: 0.264, data_time: 0.011, memory: 5635, loss_rpn_cls: 0.0080, loss_rpn_bbox: 0.0066, loss_cls: 0.0452, acc: 99.6406, loss_bbox: 0.2545, loss: 0.3143\n",
      "2022-05-26 14:44:49,650 - mmfewshot - INFO - Iter [38450/100000]\tlr: 1.000e-04, eta: 5:39:42, time: 0.266, data_time: 0.011, memory: 5635, loss_rpn_cls: 0.0100, loss_rpn_bbox: 0.0059, loss_cls: 0.0422, acc: 99.5938, loss_bbox: 0.2433, loss: 0.3013\n",
      "2022-05-26 14:45:03,082 - mmfewshot - INFO - Iter [38500/100000]\tlr: 1.000e-04, eta: 5:39:20, time: 0.269, data_time: 0.012, memory: 5635, loss_rpn_cls: 0.0064, loss_rpn_bbox: 0.0054, loss_cls: 0.0411, acc: 99.6328, loss_bbox: 0.2404, loss: 0.2932\n",
      "2022-05-26 14:45:16,542 - mmfewshot - INFO - Iter [38550/100000]\tlr: 1.000e-04, eta: 5:38:59, time: 0.269, data_time: 0.012, memory: 5635, loss_rpn_cls: 0.0086, loss_rpn_bbox: 0.0056, loss_cls: 0.0578, acc: 99.4609, loss_bbox: 0.2420, loss: 0.3140\n",
      "2022-05-26 14:45:29,969 - mmfewshot - INFO - Iter [38600/100000]\tlr: 1.000e-04, eta: 5:38:37, time: 0.269, data_time: 0.012, memory: 5635, loss_rpn_cls: 0.0101, loss_rpn_bbox: 0.0043, loss_cls: 0.0756, acc: 99.6641, loss_bbox: 0.2245, loss: 0.3144\n",
      "2022-05-26 14:45:43,329 - mmfewshot - INFO - Iter [38650/100000]\tlr: 1.000e-04, eta: 5:38:16, time: 0.267, data_time: 0.012, memory: 5635, loss_rpn_cls: 0.0060, loss_rpn_bbox: 0.0054, loss_cls: 0.0391, acc: 99.5781, loss_bbox: 0.2892, loss: 0.3398\n",
      "2022-05-26 14:45:56,689 - mmfewshot - INFO - Iter [38700/100000]\tlr: 1.000e-04, eta: 5:37:54, time: 0.267, data_time: 0.011, memory: 5635, loss_rpn_cls: 0.0066, loss_rpn_bbox: 0.0044, loss_cls: 0.0306, acc: 99.7109, loss_bbox: 0.2639, loss: 0.3055\n",
      "2022-05-26 14:46:10,186 - mmfewshot - INFO - Iter [38750/100000]\tlr: 1.000e-04, eta: 5:37:33, time: 0.270, data_time: 0.012, memory: 5635, loss_rpn_cls: 0.0127, loss_rpn_bbox: 0.0080, loss_cls: 0.0444, acc: 99.6328, loss_bbox: 0.2767, loss: 0.3417\n",
      "2022-05-26 14:46:23,503 - mmfewshot - INFO - Iter [38800/100000]\tlr: 1.000e-04, eta: 5:37:11, time: 0.266, data_time: 0.011, memory: 5635, loss_rpn_cls: 0.0101, loss_rpn_bbox: 0.0090, loss_cls: 0.0553, acc: 99.5234, loss_bbox: 0.2589, loss: 0.3334\n",
      "2022-05-26 14:46:36,826 - mmfewshot - INFO - Iter [38850/100000]\tlr: 1.000e-04, eta: 5:36:50, time: 0.266, data_time: 0.012, memory: 5635, loss_rpn_cls: 0.0062, loss_rpn_bbox: 0.0035, loss_cls: 0.0418, acc: 99.7031, loss_bbox: 0.2481, loss: 0.2997\n",
      "2022-05-26 14:46:50,120 - mmfewshot - INFO - Iter [38900/100000]\tlr: 1.000e-04, eta: 5:36:28, time: 0.266, data_time: 0.012, memory: 5635, loss_rpn_cls: 0.0092, loss_rpn_bbox: 0.0043, loss_cls: 0.0488, acc: 99.4453, loss_bbox: 0.2778, loss: 0.3402\n",
      "2022-05-26 14:47:03,511 - mmfewshot - INFO - Iter [38950/100000]\tlr: 1.000e-04, eta: 5:36:06, time: 0.268, data_time: 0.012, memory: 5635, loss_rpn_cls: 0.0113, loss_rpn_bbox: 0.0100, loss_cls: 0.0579, acc: 99.5469, loss_bbox: 0.2635, loss: 0.3428\n",
      "2022-05-26 14:47:16,789 - mmfewshot - INFO - Exp name: attention-rpn_r50_c4_tb-split1_1shot-fine-tuning-momentum-09.py\n",
      "2022-05-26 14:47:16,791 - mmfewshot - INFO - Iter [39000/100000]\tlr: 1.000e-04, eta: 5:35:45, time: 0.266, data_time: 0.011, memory: 5635, loss_rpn_cls: 0.0115, loss_rpn_bbox: 0.0059, loss_cls: 0.0616, acc: 99.3984, loss_bbox: 0.3009, loss: 0.3798\n",
      "2022-05-26 14:47:16,796 - mmdet - INFO - starting model initialization...\n"
     ]
    },
    {
     "name": "stdout",
     "output_type": "stream",
     "text": [
      "[>>>>>>>>>>>>>>>>>>>>>>>>>>>>>>] 640/640, 77.2 task/s, elapsed: 8s, ETA:     0s"
     ]
    },
    {
     "name": "stderr",
     "output_type": "stream",
     "text": [
      "2022-05-26 14:47:25,171 - mmdet - INFO - model initialization done.\n"
     ]
    },
    {
     "name": "stdout",
     "output_type": "stream",
     "text": [
      "[>>>>>>>>>>>>>>>>>>>>>>>>>>>>>] 712/712, 12.7 task/s, elapsed: 56s, ETA:     0s\n",
      "---------------iou_thr: 0.5---------------\n"
     ]
    },
    {
     "name": "stderr",
     "output_type": "stream",
     "text": [
      "2022-05-26 14:48:21,574 - mmfewshot - INFO - \n",
      "+----------+-----+------+--------+-------+\n",
      "| class    | gts | dets | recall | ap    |\n",
      "+----------+-----+------+--------+-------+\n",
      "| 7up      | 810 | 3086 | 0.673  | 0.363 |\n",
      "| BudLight | 209 | 645  | 0.574  | 0.300 |\n",
      "+----------+-----+------+--------+-------+\n",
      "| mAP      |     |      |        | 0.331 |\n",
      "+----------+-----+------+--------+-------+\n",
      "2022-05-26 14:48:21,578 - mmfewshot - INFO - BASE_CLASSES_SPLIT1 mAP: 0.3311142325401306\n",
      "2022-05-26 14:48:21,579 - mmfewshot - INFO - NOVEL_CLASSES_SPLIT1 mAP: nan\n",
      "2022-05-26 14:48:21,586 - mmfewshot - INFO - Exp name: attention-rpn_r50_c4_tb-split1_1shot-fine-tuning-momentum-09.py\n",
      "2022-05-26 14:48:21,588 - mmfewshot - INFO - Iter(val) [712]\tAP50: 0.3310, BASE_CLASSES_SPLIT1: AP50: 0.3310, NOVEL_CLASSES_SPLIT1: AP50: nan, mAP: 0.3311\n",
      "2022-05-26 14:48:35,021 - mmfewshot - INFO - Iter [39050/100000]\tlr: 1.000e-04, eta: 5:37:05, time: 1.565, data_time: 1.308, memory: 5635, loss_rpn_cls: 0.0101, loss_rpn_bbox: 0.0052, loss_cls: 0.0363, acc: 99.5703, loss_bbox: 0.2984, loss: 0.3500\n",
      "2022-05-26 14:48:48,378 - mmfewshot - INFO - Iter [39100/100000]\tlr: 1.000e-04, eta: 5:36:43, time: 0.267, data_time: 0.011, memory: 5635, loss_rpn_cls: 0.0075, loss_rpn_bbox: 0.0044, loss_cls: 0.0475, acc: 99.6172, loss_bbox: 0.2537, loss: 0.3131\n",
      "2022-05-26 14:49:01,676 - mmfewshot - INFO - Iter [39150/100000]\tlr: 1.000e-04, eta: 5:36:21, time: 0.266, data_time: 0.012, memory: 5635, loss_rpn_cls: 0.0102, loss_rpn_bbox: 0.0049, loss_cls: 0.0398, acc: 99.6328, loss_bbox: 0.2452, loss: 0.3001\n",
      "2022-05-26 14:49:15,109 - mmfewshot - INFO - Iter [39200/100000]\tlr: 1.000e-04, eta: 5:36:00, time: 0.269, data_time: 0.012, memory: 5635, loss_rpn_cls: 0.0103, loss_rpn_bbox: 0.0045, loss_cls: 0.0482, acc: 99.5078, loss_bbox: 0.2774, loss: 0.3404\n",
      "2022-05-26 14:49:28,496 - mmfewshot - INFO - Iter [39250/100000]\tlr: 1.000e-04, eta: 5:35:38, time: 0.268, data_time: 0.012, memory: 5635, loss_rpn_cls: 0.0071, loss_rpn_bbox: 0.0060, loss_cls: 0.0309, acc: 99.6641, loss_bbox: 0.2616, loss: 0.3056\n",
      "2022-05-26 14:49:41,895 - mmfewshot - INFO - Iter [39300/100000]\tlr: 1.000e-04, eta: 5:35:17, time: 0.268, data_time: 0.011, memory: 5635, loss_rpn_cls: 0.0102, loss_rpn_bbox: 0.0068, loss_cls: 0.0519, acc: 99.4766, loss_bbox: 0.2909, loss: 0.3598\n",
      "2022-05-26 14:49:55,157 - mmfewshot - INFO - Iter [39350/100000]\tlr: 1.000e-04, eta: 5:34:55, time: 0.265, data_time: 0.011, memory: 5635, loss_rpn_cls: 0.0113, loss_rpn_bbox: 0.0104, loss_cls: 0.0388, acc: 99.6562, loss_bbox: 0.2706, loss: 0.3310\n",
      "2022-05-26 14:50:08,475 - mmfewshot - INFO - Iter [39400/100000]\tlr: 1.000e-04, eta: 5:34:34, time: 0.266, data_time: 0.011, memory: 5635, loss_rpn_cls: 0.0130, loss_rpn_bbox: 0.0108, loss_cls: 0.0602, acc: 99.5859, loss_bbox: 0.2724, loss: 0.3564\n",
      "2022-05-26 14:50:21,760 - mmfewshot - INFO - Iter [39450/100000]\tlr: 1.000e-04, eta: 5:34:12, time: 0.266, data_time: 0.011, memory: 5635, loss_rpn_cls: 0.0116, loss_rpn_bbox: 0.0083, loss_cls: 0.0413, acc: 99.6094, loss_bbox: 0.2827, loss: 0.3438\n",
      "2022-05-26 14:50:35,161 - mmfewshot - INFO - Iter [39500/100000]\tlr: 1.000e-04, eta: 5:33:51, time: 0.268, data_time: 0.012, memory: 5635, loss_rpn_cls: 0.0099, loss_rpn_bbox: 0.0102, loss_cls: 0.0418, acc: 99.5781, loss_bbox: 0.2819, loss: 0.3438\n",
      "2022-05-26 14:50:48,486 - mmfewshot - INFO - Iter [39550/100000]\tlr: 1.000e-04, eta: 5:33:29, time: 0.267, data_time: 0.011, memory: 5635, loss_rpn_cls: 0.0150, loss_rpn_bbox: 0.0097, loss_cls: 0.0461, acc: 99.5391, loss_bbox: 0.2856, loss: 0.3563\n",
      "2022-05-26 14:51:01,916 - mmfewshot - INFO - Iter [39600/100000]\tlr: 1.000e-04, eta: 5:33:08, time: 0.269, data_time: 0.013, memory: 5635, loss_rpn_cls: 0.0088, loss_rpn_bbox: 0.0078, loss_cls: 0.0367, acc: 99.6328, loss_bbox: 0.2602, loss: 0.3134\n",
      "2022-05-26 14:51:15,445 - mmfewshot - INFO - Iter [39650/100000]\tlr: 1.000e-04, eta: 5:32:47, time: 0.271, data_time: 0.011, memory: 5635, loss_rpn_cls: 0.0098, loss_rpn_bbox: 0.0075, loss_cls: 0.0583, acc: 99.5234, loss_bbox: 0.2568, loss: 0.3324\n",
      "2022-05-26 14:51:28,790 - mmfewshot - INFO - Iter [39700/100000]\tlr: 1.000e-04, eta: 5:32:25, time: 0.267, data_time: 0.012, memory: 5635, loss_rpn_cls: 0.0086, loss_rpn_bbox: 0.0047, loss_cls: 0.0323, acc: 99.6328, loss_bbox: 0.2856, loss: 0.3312\n",
      "2022-05-26 14:51:42,112 - mmfewshot - INFO - Iter [39750/100000]\tlr: 1.000e-04, eta: 5:32:04, time: 0.266, data_time: 0.012, memory: 5635, loss_rpn_cls: 0.0064, loss_rpn_bbox: 0.0040, loss_cls: 0.0552, acc: 99.5234, loss_bbox: 0.2649, loss: 0.3306\n",
      "2022-05-26 14:51:55,511 - mmfewshot - INFO - Iter [39800/100000]\tlr: 1.000e-04, eta: 5:31:43, time: 0.268, data_time: 0.012, memory: 5635, loss_rpn_cls: 0.0066, loss_rpn_bbox: 0.0079, loss_cls: 0.0475, acc: 99.6016, loss_bbox: 0.2585, loss: 0.3205\n",
      "2022-05-26 14:52:09,000 - mmfewshot - INFO - Iter [39850/100000]\tlr: 1.000e-04, eta: 5:31:22, time: 0.270, data_time: 0.012, memory: 5635, loss_rpn_cls: 0.0104, loss_rpn_bbox: 0.0072, loss_cls: 0.0592, acc: 99.4688, loss_bbox: 0.2863, loss: 0.3631\n",
      "2022-05-26 14:52:22,419 - mmfewshot - INFO - Iter [39900/100000]\tlr: 1.000e-04, eta: 5:31:00, time: 0.269, data_time: 0.012, memory: 5635, loss_rpn_cls: 0.0077, loss_rpn_bbox: 0.0044, loss_cls: 0.0473, acc: 99.5469, loss_bbox: 0.2612, loss: 0.3206\n",
      "2022-05-26 14:52:35,785 - mmfewshot - INFO - Iter [39950/100000]\tlr: 1.000e-04, eta: 5:30:39, time: 0.267, data_time: 0.011, memory: 5635, loss_rpn_cls: 0.0076, loss_rpn_bbox: 0.0045, loss_cls: 0.0412, acc: 99.5625, loss_bbox: 0.2905, loss: 0.3438\n",
      "2022-05-26 14:52:48,959 - mmfewshot - INFO - Saving checkpoint at 40000 iterations\n",
      "2022-05-26 14:52:50,500 - mmfewshot - INFO - Exp name: attention-rpn_r50_c4_tb-split1_1shot-fine-tuning-momentum-09.py\n",
      "2022-05-26 14:52:50,501 - mmfewshot - INFO - Iter [40000/100000]\tlr: 1.000e-04, eta: 5:30:20, time: 0.297, data_time: 0.012, memory: 5635, loss_rpn_cls: 0.0082, loss_rpn_bbox: 0.0059, loss_cls: 0.0465, acc: 99.5859, loss_bbox: 0.2836, loss: 0.3442\n",
      "2022-05-26 14:52:50,506 - mmdet - INFO - starting model initialization...\n"
     ]
    },
    {
     "name": "stdout",
     "output_type": "stream",
     "text": [
      "[>>>>>>>>>>>>>>>>>>>>>>>>>>>>>>] 640/640, 78.0 task/s, elapsed: 8s, ETA:     0s"
     ]
    },
    {
     "name": "stderr",
     "output_type": "stream",
     "text": [
      "2022-05-26 14:52:58,805 - mmdet - INFO - model initialization done.\n"
     ]
    },
    {
     "name": "stdout",
     "output_type": "stream",
     "text": [
      "[>>>>>>>>>>>>>>>>>>>>>>>>>>>>>] 712/712, 12.7 task/s, elapsed: 56s, ETA:     0s\n",
      "---------------iou_thr: 0.5---------------\n"
     ]
    },
    {
     "name": "stderr",
     "output_type": "stream",
     "text": [
      "2022-05-26 14:53:55,488 - mmfewshot - INFO - \n",
      "+----------+-----+------+--------+-------+\n",
      "| class    | gts | dets | recall | ap    |\n",
      "+----------+-----+------+--------+-------+\n",
      "| 7up      | 810 | 4059 | 0.691  | 0.336 |\n",
      "| BudLight | 209 | 661  | 0.478  | 0.241 |\n",
      "+----------+-----+------+--------+-------+\n",
      "| mAP      |     |      |        | 0.289 |\n",
      "+----------+-----+------+--------+-------+\n",
      "2022-05-26 14:53:55,491 - mmfewshot - INFO - BASE_CLASSES_SPLIT1 mAP: 0.28863948583602905\n",
      "2022-05-26 14:53:55,493 - mmfewshot - INFO - NOVEL_CLASSES_SPLIT1 mAP: nan\n",
      "2022-05-26 14:53:55,499 - mmfewshot - INFO - Exp name: attention-rpn_r50_c4_tb-split1_1shot-fine-tuning-momentum-09.py\n",
      "2022-05-26 14:53:55,501 - mmfewshot - INFO - Iter(val) [712]\tAP50: 0.2890, BASE_CLASSES_SPLIT1: AP50: 0.2890, NOVEL_CLASSES_SPLIT1: AP50: nan, mAP: 0.2886\n",
      "2022-05-26 14:54:08,969 - mmfewshot - INFO - Iter [40050/100000]\tlr: 1.000e-04, eta: 5:31:36, time: 1.567, data_time: 1.309, memory: 5635, loss_rpn_cls: 0.0121, loss_rpn_bbox: 0.0082, loss_cls: 0.0437, acc: 99.6094, loss_bbox: 0.2571, loss: 0.3212\n",
      "2022-05-26 14:54:22,623 - mmfewshot - INFO - Iter [40100/100000]\tlr: 1.000e-04, eta: 5:31:15, time: 0.273, data_time: 0.013, memory: 5635, loss_rpn_cls: 0.0120, loss_rpn_bbox: 0.0064, loss_cls: 0.0438, acc: 99.6094, loss_bbox: 0.2488, loss: 0.3111\n",
      "2022-05-26 14:54:36,039 - mmfewshot - INFO - Iter [40150/100000]\tlr: 1.000e-04, eta: 5:30:54, time: 0.268, data_time: 0.011, memory: 5635, loss_rpn_cls: 0.0083, loss_rpn_bbox: 0.0044, loss_cls: 0.0389, acc: 99.5547, loss_bbox: 0.2662, loss: 0.3177\n",
      "2022-05-26 14:54:49,347 - mmfewshot - INFO - Iter [40200/100000]\tlr: 1.000e-04, eta: 5:30:32, time: 0.266, data_time: 0.012, memory: 5635, loss_rpn_cls: 0.0197, loss_rpn_bbox: 0.0120, loss_cls: 0.0423, acc: 99.5391, loss_bbox: 0.2869, loss: 0.3609\n",
      "2022-05-26 14:55:02,831 - mmfewshot - INFO - Iter [40250/100000]\tlr: 1.000e-04, eta: 5:30:11, time: 0.270, data_time: 0.012, memory: 5635, loss_rpn_cls: 0.0103, loss_rpn_bbox: 0.0062, loss_cls: 0.0372, acc: 99.6172, loss_bbox: 0.2677, loss: 0.3214\n",
      "2022-05-26 14:55:16,196 - mmfewshot - INFO - Iter [40300/100000]\tlr: 1.000e-04, eta: 5:29:50, time: 0.267, data_time: 0.012, memory: 5635, loss_rpn_cls: 0.0072, loss_rpn_bbox: 0.0060, loss_cls: 0.0324, acc: 99.6328, loss_bbox: 0.3156, loss: 0.3612\n",
      "2022-05-26 14:55:29,648 - mmfewshot - INFO - Iter [40350/100000]\tlr: 1.000e-04, eta: 5:29:29, time: 0.269, data_time: 0.011, memory: 5635, loss_rpn_cls: 0.0075, loss_rpn_bbox: 0.0051, loss_cls: 0.0421, acc: 99.6719, loss_bbox: 0.2326, loss: 0.2874\n",
      "2022-05-26 14:55:42,968 - mmfewshot - INFO - Iter [40400/100000]\tlr: 1.000e-04, eta: 5:29:07, time: 0.267, data_time: 0.012, memory: 5635, loss_rpn_cls: 0.0053, loss_rpn_bbox: 0.0048, loss_cls: 0.0339, acc: 99.7422, loss_bbox: 0.2475, loss: 0.2914\n",
      "2022-05-26 14:55:56,408 - mmfewshot - INFO - Iter [40450/100000]\tlr: 1.000e-04, eta: 5:28:46, time: 0.268, data_time: 0.012, memory: 5635, loss_rpn_cls: 0.0143, loss_rpn_bbox: 0.0126, loss_cls: 0.0389, acc: 99.5938, loss_bbox: 0.3033, loss: 0.3691\n",
      "2022-05-26 14:56:09,609 - mmfewshot - INFO - Iter [40500/100000]\tlr: 1.000e-04, eta: 5:28:25, time: 0.264, data_time: 0.010, memory: 5635, loss_rpn_cls: 0.0114, loss_rpn_bbox: 0.0062, loss_cls: 0.0485, acc: 99.5469, loss_bbox: 0.2779, loss: 0.3441\n",
      "2022-05-26 14:56:22,883 - mmfewshot - INFO - Iter [40550/100000]\tlr: 1.000e-04, eta: 5:28:03, time: 0.266, data_time: 0.012, memory: 5635, loss_rpn_cls: 0.0077, loss_rpn_bbox: 0.0071, loss_cls: 0.0482, acc: 99.5000, loss_bbox: 0.2856, loss: 0.3486\n",
      "2022-05-26 14:56:36,349 - mmfewshot - INFO - Iter [40600/100000]\tlr: 1.000e-04, eta: 5:27:42, time: 0.270, data_time: 0.012, memory: 5635, loss_rpn_cls: 0.0075, loss_rpn_bbox: 0.0050, loss_cls: 0.0495, acc: 99.5000, loss_bbox: 0.2840, loss: 0.3461\n",
      "2022-05-26 14:56:49,761 - mmfewshot - INFO - Iter [40650/100000]\tlr: 1.000e-04, eta: 5:27:21, time: 0.268, data_time: 0.011, memory: 5635, loss_rpn_cls: 0.0105, loss_rpn_bbox: 0.0048, loss_cls: 0.0433, acc: 99.5703, loss_bbox: 0.2640, loss: 0.3225\n",
      "2022-05-26 14:57:03,219 - mmfewshot - INFO - Iter [40700/100000]\tlr: 1.000e-04, eta: 5:27:00, time: 0.269, data_time: 0.013, memory: 5635, loss_rpn_cls: 0.0104, loss_rpn_bbox: 0.0046, loss_cls: 0.0424, acc: 99.7109, loss_bbox: 0.2304, loss: 0.2877\n",
      "2022-05-26 14:57:16,775 - mmfewshot - INFO - Iter [40750/100000]\tlr: 1.000e-04, eta: 5:26:39, time: 0.271, data_time: 0.012, memory: 5635, loss_rpn_cls: 0.0075, loss_rpn_bbox: 0.0049, loss_cls: 0.0411, acc: 99.5703, loss_bbox: 0.2699, loss: 0.3233\n",
      "2022-05-26 14:57:30,151 - mmfewshot - INFO - Iter [40800/100000]\tlr: 1.000e-04, eta: 5:26:18, time: 0.268, data_time: 0.011, memory: 5635, loss_rpn_cls: 0.0079, loss_rpn_bbox: 0.0078, loss_cls: 0.0403, acc: 99.5625, loss_bbox: 0.3049, loss: 0.3609\n",
      "2022-05-26 14:57:43,522 - mmfewshot - INFO - Iter [40850/100000]\tlr: 1.000e-04, eta: 5:25:57, time: 0.267, data_time: 0.011, memory: 5635, loss_rpn_cls: 0.0091, loss_rpn_bbox: 0.0063, loss_cls: 0.0476, acc: 99.4375, loss_bbox: 0.2717, loss: 0.3348\n",
      "2022-05-26 14:57:56,891 - mmfewshot - INFO - Iter [40900/100000]\tlr: 1.000e-04, eta: 5:25:36, time: 0.267, data_time: 0.012, memory: 5635, loss_rpn_cls: 0.0067, loss_rpn_bbox: 0.0039, loss_cls: 0.0521, acc: 99.5625, loss_bbox: 0.2443, loss: 0.3070\n",
      "2022-05-26 14:58:10,281 - mmfewshot - INFO - Iter [40950/100000]\tlr: 1.000e-04, eta: 5:25:15, time: 0.268, data_time: 0.011, memory: 5635, loss_rpn_cls: 0.0077, loss_rpn_bbox: 0.0052, loss_cls: 0.0537, acc: 99.4375, loss_bbox: 0.2976, loss: 0.3642\n",
      "2022-05-26 14:58:23,396 - mmfewshot - INFO - Exp name: attention-rpn_r50_c4_tb-split1_1shot-fine-tuning-momentum-09.py\n",
      "2022-05-26 14:58:23,398 - mmfewshot - INFO - Iter [41000/100000]\tlr: 1.000e-04, eta: 5:24:53, time: 0.262, data_time: 0.011, memory: 5635, loss_rpn_cls: 0.0058, loss_rpn_bbox: 0.0041, loss_cls: 0.0362, acc: 99.6797, loss_bbox: 0.2550, loss: 0.3011\n",
      "2022-05-26 14:58:23,406 - mmdet - INFO - starting model initialization...\n"
     ]
    },
    {
     "name": "stdout",
     "output_type": "stream",
     "text": [
      "[>>>>>>>>>>>>>>>>>>>>>>>>>>>>>>] 640/640, 73.9 task/s, elapsed: 9s, ETA:     0s"
     ]
    },
    {
     "name": "stderr",
     "output_type": "stream",
     "text": [
      "2022-05-26 14:58:32,142 - mmdet - INFO - model initialization done.\n"
     ]
    },
    {
     "name": "stdout",
     "output_type": "stream",
     "text": [
      "[>>>>>>>>>>>>>>>>>>>>>>>>>>>>>] 712/712, 12.6 task/s, elapsed: 56s, ETA:     0s\n",
      "---------------iou_thr: 0.5---------------\n"
     ]
    },
    {
     "name": "stderr",
     "output_type": "stream",
     "text": [
      "2022-05-26 14:59:28,860 - mmfewshot - INFO - \n",
      "+----------+-----+------+--------+-------+\n",
      "| class    | gts | dets | recall | ap    |\n",
      "+----------+-----+------+--------+-------+\n",
      "| 7up      | 810 | 3165 | 0.646  | 0.305 |\n",
      "| BudLight | 209 | 468  | 0.464  | 0.227 |\n",
      "+----------+-----+------+--------+-------+\n",
      "| mAP      |     |      |        | 0.266 |\n",
      "+----------+-----+------+--------+-------+\n",
      "2022-05-26 14:59:28,863 - mmfewshot - INFO - BASE_CLASSES_SPLIT1 mAP: 0.26561686396598816\n",
      "2022-05-26 14:59:28,864 - mmfewshot - INFO - NOVEL_CLASSES_SPLIT1 mAP: nan\n",
      "2022-05-26 14:59:28,870 - mmfewshot - INFO - Exp name: attention-rpn_r50_c4_tb-split1_1shot-fine-tuning-momentum-09.py\n",
      "2022-05-26 14:59:28,873 - mmfewshot - INFO - Iter(val) [712]\tAP50: 0.2660, BASE_CLASSES_SPLIT1: AP50: 0.2660, NOVEL_CLASSES_SPLIT1: AP50: nan, mAP: 0.2656\n",
      "2022-05-26 14:59:42,328 - mmfewshot - INFO - Iter [41050/100000]\tlr: 1.000e-04, eta: 5:26:06, time: 1.579, data_time: 1.322, memory: 5635, loss_rpn_cls: 0.0162, loss_rpn_bbox: 0.0082, loss_cls: 0.0359, acc: 99.6406, loss_bbox: 0.2966, loss: 0.3568\n",
      "2022-05-26 14:59:55,805 - mmfewshot - INFO - Iter [41100/100000]\tlr: 1.000e-04, eta: 5:25:45, time: 0.270, data_time: 0.012, memory: 5635, loss_rpn_cls: 0.0089, loss_rpn_bbox: 0.0063, loss_cls: 0.0457, acc: 99.5938, loss_bbox: 0.2702, loss: 0.3311\n",
      "2022-05-26 15:00:09,198 - mmfewshot - INFO - Iter [41150/100000]\tlr: 1.000e-04, eta: 5:25:24, time: 0.268, data_time: 0.013, memory: 5635, loss_rpn_cls: 0.0113, loss_rpn_bbox: 0.0081, loss_cls: 0.0525, acc: 99.5391, loss_bbox: 0.2863, loss: 0.3582\n",
      "2022-05-26 15:00:22,618 - mmfewshot - INFO - Iter [41200/100000]\tlr: 1.000e-04, eta: 5:25:03, time: 0.268, data_time: 0.012, memory: 5635, loss_rpn_cls: 0.0086, loss_rpn_bbox: 0.0074, loss_cls: 0.0441, acc: 99.6094, loss_bbox: 0.2874, loss: 0.3474\n",
      "2022-05-26 15:00:36,195 - mmfewshot - INFO - Iter [41250/100000]\tlr: 1.000e-04, eta: 5:24:42, time: 0.272, data_time: 0.012, memory: 5635, loss_rpn_cls: 0.0062, loss_rpn_bbox: 0.0074, loss_cls: 0.0420, acc: 99.6172, loss_bbox: 0.2716, loss: 0.3272\n",
      "2022-05-26 15:00:49,614 - mmfewshot - INFO - Iter [41300/100000]\tlr: 1.000e-04, eta: 5:24:21, time: 0.269, data_time: 0.012, memory: 5635, loss_rpn_cls: 0.0071, loss_rpn_bbox: 0.0052, loss_cls: 0.0453, acc: 99.5703, loss_bbox: 0.2829, loss: 0.3405\n",
      "2022-05-26 15:01:03,002 - mmfewshot - INFO - Iter [41350/100000]\tlr: 1.000e-04, eta: 5:24:00, time: 0.268, data_time: 0.011, memory: 5635, loss_rpn_cls: 0.0126, loss_rpn_bbox: 0.0086, loss_cls: 0.0513, acc: 99.5703, loss_bbox: 0.2477, loss: 0.3202\n",
      "2022-05-26 15:01:16,476 - mmfewshot - INFO - Iter [41400/100000]\tlr: 1.000e-04, eta: 5:23:39, time: 0.269, data_time: 0.012, memory: 5635, loss_rpn_cls: 0.0107, loss_rpn_bbox: 0.0055, loss_cls: 0.0406, acc: 99.6172, loss_bbox: 0.2548, loss: 0.3115\n",
      "2022-05-26 15:01:29,875 - mmfewshot - INFO - Iter [41450/100000]\tlr: 1.000e-04, eta: 5:23:18, time: 0.268, data_time: 0.012, memory: 5635, loss_rpn_cls: 0.0093, loss_rpn_bbox: 0.0060, loss_cls: 0.0527, acc: 99.6016, loss_bbox: 0.2747, loss: 0.3427\n",
      "2022-05-26 15:01:43,436 - mmfewshot - INFO - Iter [41500/100000]\tlr: 1.000e-04, eta: 5:22:57, time: 0.271, data_time: 0.012, memory: 5635, loss_rpn_cls: 0.0085, loss_rpn_bbox: 0.0050, loss_cls: 0.0460, acc: 99.6406, loss_bbox: 0.2600, loss: 0.3196\n",
      "2022-05-26 15:01:56,878 - mmfewshot - INFO - Iter [41550/100000]\tlr: 1.000e-04, eta: 5:22:36, time: 0.269, data_time: 0.012, memory: 5635, loss_rpn_cls: 0.0053, loss_rpn_bbox: 0.0054, loss_cls: 0.0403, acc: 99.6172, loss_bbox: 0.2922, loss: 0.3433\n",
      "2022-05-26 15:02:10,239 - mmfewshot - INFO - Iter [41600/100000]\tlr: 1.000e-04, eta: 5:22:15, time: 0.267, data_time: 0.011, memory: 5635, loss_rpn_cls: 0.0077, loss_rpn_bbox: 0.0056, loss_cls: 0.0346, acc: 99.6641, loss_bbox: 0.2437, loss: 0.2916\n",
      "2022-05-26 15:02:23,660 - mmfewshot - INFO - Iter [41650/100000]\tlr: 1.000e-04, eta: 5:21:54, time: 0.268, data_time: 0.011, memory: 5635, loss_rpn_cls: 0.0060, loss_rpn_bbox: 0.0052, loss_cls: 0.0414, acc: 99.5547, loss_bbox: 0.2560, loss: 0.3086\n",
      "2022-05-26 15:02:37,202 - mmfewshot - INFO - Iter [41700/100000]\tlr: 1.000e-04, eta: 5:21:33, time: 0.271, data_time: 0.013, memory: 5635, loss_rpn_cls: 0.0093, loss_rpn_bbox: 0.0078, loss_cls: 0.0404, acc: 99.5781, loss_bbox: 0.2892, loss: 0.3466\n",
      "2022-05-26 15:02:50,633 - mmfewshot - INFO - Iter [41750/100000]\tlr: 1.000e-04, eta: 5:21:12, time: 0.269, data_time: 0.011, memory: 5635, loss_rpn_cls: 0.0093, loss_rpn_bbox: 0.0052, loss_cls: 0.0423, acc: 99.6406, loss_bbox: 0.2785, loss: 0.3353\n",
      "2022-05-26 15:03:04,027 - mmfewshot - INFO - Iter [41800/100000]\tlr: 1.000e-04, eta: 5:20:52, time: 0.268, data_time: 0.012, memory: 5635, loss_rpn_cls: 0.0075, loss_rpn_bbox: 0.0038, loss_cls: 0.0396, acc: 99.6250, loss_bbox: 0.2710, loss: 0.3219\n",
      "2022-05-26 15:03:17,419 - mmfewshot - INFO - Iter [41850/100000]\tlr: 1.000e-04, eta: 5:20:31, time: 0.268, data_time: 0.012, memory: 5635, loss_rpn_cls: 0.0077, loss_rpn_bbox: 0.0068, loss_cls: 0.0465, acc: 99.5156, loss_bbox: 0.2829, loss: 0.3438\n",
      "2022-05-26 15:03:30,864 - mmfewshot - INFO - Iter [41900/100000]\tlr: 1.000e-04, eta: 5:20:10, time: 0.269, data_time: 0.012, memory: 5635, loss_rpn_cls: 0.0062, loss_rpn_bbox: 0.0054, loss_cls: 0.0421, acc: 99.6562, loss_bbox: 0.2905, loss: 0.3442\n",
      "2022-05-26 15:03:44,359 - mmfewshot - INFO - Iter [41950/100000]\tlr: 1.000e-04, eta: 5:19:49, time: 0.270, data_time: 0.013, memory: 5635, loss_rpn_cls: 0.0099, loss_rpn_bbox: 0.0064, loss_cls: 0.0436, acc: 99.6172, loss_bbox: 0.2772, loss: 0.3372\n",
      "2022-05-26 15:03:57,741 - mmfewshot - INFO - Exp name: attention-rpn_r50_c4_tb-split1_1shot-fine-tuning-momentum-09.py\n",
      "2022-05-26 15:03:57,743 - mmfewshot - INFO - Iter [42000/100000]\tlr: 1.000e-04, eta: 5:19:28, time: 0.268, data_time: 0.011, memory: 5635, loss_rpn_cls: 0.0081, loss_rpn_bbox: 0.0089, loss_cls: 0.0529, acc: 99.5547, loss_bbox: 0.2933, loss: 0.3632\n",
      "2022-05-26 15:03:57,751 - mmdet - INFO - starting model initialization...\n"
     ]
    },
    {
     "name": "stdout",
     "output_type": "stream",
     "text": [
      "[>>>>>>>>>>>>>>>>>>>>>>>>>>>>>>] 640/640, 77.5 task/s, elapsed: 8s, ETA:     0s"
     ]
    },
    {
     "name": "stderr",
     "output_type": "stream",
     "text": [
      "2022-05-26 15:04:06,097 - mmdet - INFO - model initialization done.\n"
     ]
    },
    {
     "name": "stdout",
     "output_type": "stream",
     "text": [
      "[>>>>>>>>>>>>>>>>>>>>>>>>>>>>>] 712/712, 12.6 task/s, elapsed: 56s, ETA:     0s\n",
      "---------------iou_thr: 0.5---------------\n"
     ]
    },
    {
     "name": "stderr",
     "output_type": "stream",
     "text": [
      "2022-05-26 15:05:02,919 - mmfewshot - INFO - \n",
      "+----------+-----+------+--------+-------+\n",
      "| class    | gts | dets | recall | ap    |\n",
      "+----------+-----+------+--------+-------+\n",
      "| 7up      | 810 | 3726 | 0.685  | 0.329 |\n",
      "| BudLight | 209 | 853  | 0.541  | 0.249 |\n",
      "+----------+-----+------+--------+-------+\n",
      "| mAP      |     |      |        | 0.289 |\n",
      "+----------+-----+------+--------+-------+\n",
      "2022-05-26 15:05:02,921 - mmfewshot - INFO - BASE_CLASSES_SPLIT1 mAP: 0.2890050411224365\n",
      "2022-05-26 15:05:02,922 - mmfewshot - INFO - NOVEL_CLASSES_SPLIT1 mAP: nan\n",
      "2022-05-26 15:05:02,928 - mmfewshot - INFO - Exp name: attention-rpn_r50_c4_tb-split1_1shot-fine-tuning-momentum-09.py\n",
      "/home/zhaozhiyuan/anaconda3/envs/mmfewshot/lib/python3.7/site-packages/mmdet/core/evaluation/mean_ap.py:203: DeprecationWarning: `np.bool` is a deprecated alias for the builtin `bool`. To silence this warning, use `bool` by itself. Doing this will not modify any behavior and is safe. If you specifically wanted the numpy scalar type, use `np.bool_` here.\n",
      "Deprecated in NumPy 1.20; for more details and guidance: https://numpy.org/devdocs/release/1.20.0-notes.html#deprecations\n",
      "  (np.zeros(gt_bboxes.shape[0], dtype=np.bool),\n",
      "2022-05-26 15:05:02,929 - mmfewshot - INFO - Iter(val) [712]\tAP50: 0.2890, BASE_CLASSES_SPLIT1: AP50: 0.2890, NOVEL_CLASSES_SPLIT1: AP50: nan, mAP: 0.2890\n",
      "2022-05-26 15:05:16,284 - mmfewshot - INFO - Iter [42050/100000]\tlr: 1.000e-04, eta: 5:20:37, time: 1.571, data_time: 1.315, memory: 5635, loss_rpn_cls: 0.0075, loss_rpn_bbox: 0.0070, loss_cls: 0.0583, acc: 99.5547, loss_bbox: 0.2727, loss: 0.3456\n",
      "2022-05-26 15:05:29,788 - mmfewshot - INFO - Iter [42100/100000]\tlr: 1.000e-04, eta: 5:20:16, time: 0.270, data_time: 0.012, memory: 5635, loss_rpn_cls: 0.0064, loss_rpn_bbox: 0.0042, loss_cls: 0.0339, acc: 99.6875, loss_bbox: 0.2601, loss: 0.3045\n",
      "2022-05-26 15:05:43,243 - mmfewshot - INFO - Iter [42150/100000]\tlr: 1.000e-04, eta: 5:19:55, time: 0.269, data_time: 0.011, memory: 5635, loss_rpn_cls: 0.0076, loss_rpn_bbox: 0.0047, loss_cls: 0.0406, acc: 99.7266, loss_bbox: 0.2627, loss: 0.3155\n",
      "2022-05-26 15:05:56,759 - mmfewshot - INFO - Iter [42200/100000]\tlr: 1.000e-04, eta: 5:19:35, time: 0.270, data_time: 0.012, memory: 5635, loss_rpn_cls: 0.0100, loss_rpn_bbox: 0.0081, loss_cls: 0.0405, acc: 99.6484, loss_bbox: 0.2797, loss: 0.3382\n",
      "2022-05-26 15:06:10,158 - mmfewshot - INFO - Iter [42250/100000]\tlr: 1.000e-04, eta: 5:19:14, time: 0.268, data_time: 0.012, memory: 5635, loss_rpn_cls: 0.0093, loss_rpn_bbox: 0.0052, loss_cls: 0.0418, acc: 99.5547, loss_bbox: 0.2904, loss: 0.3466\n",
      "2022-05-26 15:06:23,619 - mmfewshot - INFO - Iter [42300/100000]\tlr: 1.000e-04, eta: 5:18:53, time: 0.269, data_time: 0.012, memory: 5635, loss_rpn_cls: 0.0118, loss_rpn_bbox: 0.0138, loss_cls: 0.0317, acc: 99.7266, loss_bbox: 0.2779, loss: 0.3353\n",
      "2022-05-26 15:06:37,075 - mmfewshot - INFO - Iter [42350/100000]\tlr: 1.000e-04, eta: 5:18:32, time: 0.269, data_time: 0.012, memory: 5635, loss_rpn_cls: 0.0082, loss_rpn_bbox: 0.0057, loss_cls: 0.0381, acc: 99.6172, loss_bbox: 0.2698, loss: 0.3218\n",
      "2022-05-26 15:06:50,429 - mmfewshot - INFO - Iter [42400/100000]\tlr: 1.000e-04, eta: 5:18:11, time: 0.267, data_time: 0.012, memory: 5635, loss_rpn_cls: 0.0056, loss_rpn_bbox: 0.0034, loss_cls: 0.0401, acc: 99.6641, loss_bbox: 0.2706, loss: 0.3197\n",
      "2022-05-26 15:07:03,862 - mmfewshot - INFO - Iter [42450/100000]\tlr: 1.000e-04, eta: 5:17:50, time: 0.269, data_time: 0.012, memory: 5635, loss_rpn_cls: 0.0083, loss_rpn_bbox: 0.0060, loss_cls: 0.0393, acc: 99.6250, loss_bbox: 0.2765, loss: 0.3301\n",
      "2022-05-26 15:07:17,311 - mmfewshot - INFO - Iter [42500/100000]\tlr: 1.000e-04, eta: 5:17:29, time: 0.269, data_time: 0.012, memory: 5635, loss_rpn_cls: 0.0175, loss_rpn_bbox: 0.0067, loss_cls: 0.0413, acc: 99.6797, loss_bbox: 0.2671, loss: 0.3327\n",
      "2022-05-26 15:07:30,894 - mmfewshot - INFO - Iter [42550/100000]\tlr: 1.000e-04, eta: 5:17:09, time: 0.272, data_time: 0.012, memory: 5635, loss_rpn_cls: 0.0064, loss_rpn_bbox: 0.0044, loss_cls: 0.0544, acc: 99.5469, loss_bbox: 0.2787, loss: 0.3439\n",
      "2022-05-26 15:07:44,310 - mmfewshot - INFO - Iter [42600/100000]\tlr: 1.000e-04, eta: 5:16:48, time: 0.268, data_time: 0.012, memory: 5635, loss_rpn_cls: 0.0102, loss_rpn_bbox: 0.0056, loss_cls: 0.0437, acc: 99.6016, loss_bbox: 0.2531, loss: 0.3127\n",
      "2022-05-26 15:07:57,847 - mmfewshot - INFO - Iter [42650/100000]\tlr: 1.000e-04, eta: 5:16:27, time: 0.271, data_time: 0.012, memory: 5635, loss_rpn_cls: 0.0072, loss_rpn_bbox: 0.0045, loss_cls: 0.0530, acc: 99.5859, loss_bbox: 0.2642, loss: 0.3290\n",
      "2022-05-26 15:08:11,160 - mmfewshot - INFO - Iter [42700/100000]\tlr: 1.000e-04, eta: 5:16:06, time: 0.266, data_time: 0.011, memory: 5635, loss_rpn_cls: 0.0086, loss_rpn_bbox: 0.0059, loss_cls: 0.0411, acc: 99.7109, loss_bbox: 0.2558, loss: 0.3113\n",
      "2022-05-26 15:08:24,581 - mmfewshot - INFO - Iter [42750/100000]\tlr: 1.000e-04, eta: 5:15:46, time: 0.268, data_time: 0.011, memory: 5635, loss_rpn_cls: 0.0152, loss_rpn_bbox: 0.0110, loss_cls: 0.0406, acc: 99.5312, loss_bbox: 0.2802, loss: 0.3470\n",
      "2022-05-26 15:08:37,950 - mmfewshot - INFO - Iter [42800/100000]\tlr: 1.000e-04, eta: 5:15:25, time: 0.267, data_time: 0.013, memory: 5635, loss_rpn_cls: 0.0082, loss_rpn_bbox: 0.0053, loss_cls: 0.0460, acc: 99.5859, loss_bbox: 0.2444, loss: 0.3038\n",
      "2022-05-26 15:08:51,199 - mmfewshot - INFO - Iter [42850/100000]\tlr: 1.000e-04, eta: 5:15:04, time: 0.265, data_time: 0.011, memory: 5635, loss_rpn_cls: 0.0076, loss_rpn_bbox: 0.0063, loss_cls: 0.0388, acc: 99.5938, loss_bbox: 0.2749, loss: 0.3276\n",
      "2022-05-26 15:09:04,474 - mmfewshot - INFO - Iter [42900/100000]\tlr: 1.000e-04, eta: 5:14:43, time: 0.265, data_time: 0.011, memory: 5635, loss_rpn_cls: 0.0059, loss_rpn_bbox: 0.0037, loss_cls: 0.0363, acc: 99.6328, loss_bbox: 0.2486, loss: 0.2945\n",
      "2022-05-26 15:09:17,795 - mmfewshot - INFO - Iter [42950/100000]\tlr: 1.000e-04, eta: 5:14:22, time: 0.266, data_time: 0.011, memory: 5635, loss_rpn_cls: 0.0082, loss_rpn_bbox: 0.0081, loss_cls: 0.0359, acc: 99.6172, loss_bbox: 0.2827, loss: 0.3349\n",
      "2022-05-26 15:09:31,129 - mmfewshot - INFO - Exp name: attention-rpn_r50_c4_tb-split1_1shot-fine-tuning-momentum-09.py\n",
      "2022-05-26 15:09:31,131 - mmfewshot - INFO - Iter [43000/100000]\tlr: 1.000e-04, eta: 5:14:02, time: 0.267, data_time: 0.011, memory: 5635, loss_rpn_cls: 0.0106, loss_rpn_bbox: 0.0073, loss_cls: 0.0361, acc: 99.7188, loss_bbox: 0.2684, loss: 0.3223\n",
      "2022-05-26 15:09:31,136 - mmdet - INFO - starting model initialization...\n"
     ]
    },
    {
     "name": "stdout",
     "output_type": "stream",
     "text": [
      "[>>>>>>>>>>>>>>>>>>>>>>>>>>>>>>] 640/640, 78.9 task/s, elapsed: 8s, ETA:     0s"
     ]
    },
    {
     "name": "stderr",
     "output_type": "stream",
     "text": [
      "2022-05-26 15:09:39,316 - mmdet - INFO - model initialization done.\n"
     ]
    },
    {
     "name": "stdout",
     "output_type": "stream",
     "text": [
      "[>>>>>>>>>>>>>>>>>>>>>>>>>>>>>] 712/712, 12.6 task/s, elapsed: 56s, ETA:     0s\n",
      "---------------iou_thr: 0.5---------------\n"
     ]
    },
    {
     "name": "stderr",
     "output_type": "stream",
     "text": [
      "2022-05-26 15:10:36,171 - mmfewshot - INFO - \n",
      "+----------+-----+------+--------+-------+\n",
      "| class    | gts | dets | recall | ap    |\n",
      "+----------+-----+------+--------+-------+\n",
      "| 7up      | 810 | 3353 | 0.678  | 0.358 |\n",
      "| BudLight | 209 | 412  | 0.421  | 0.222 |\n",
      "+----------+-----+------+--------+-------+\n",
      "| mAP      |     |      |        | 0.290 |\n",
      "+----------+-----+------+--------+-------+\n",
      "2022-05-26 15:10:36,175 - mmfewshot - INFO - BASE_CLASSES_SPLIT1 mAP: 0.28954559564590454\n",
      "2022-05-26 15:10:36,176 - mmfewshot - INFO - NOVEL_CLASSES_SPLIT1 mAP: nan\n",
      "2022-05-26 15:10:36,182 - mmfewshot - INFO - Exp name: attention-rpn_r50_c4_tb-split1_1shot-fine-tuning-momentum-09.py\n",
      "2022-05-26 15:10:36,183 - mmfewshot - INFO - Iter(val) [712]\tAP50: 0.2900, BASE_CLASSES_SPLIT1: AP50: 0.2900, NOVEL_CLASSES_SPLIT1: AP50: nan, mAP: 0.2895\n",
      "2022-05-26 15:10:49,633 - mmfewshot - INFO - Iter [43050/100000]\tlr: 1.000e-04, eta: 5:15:07, time: 1.570, data_time: 1.313, memory: 5635, loss_rpn_cls: 0.0073, loss_rpn_bbox: 0.0064, loss_cls: 0.0401, acc: 99.5938, loss_bbox: 0.2591, loss: 0.3129\n",
      "2022-05-26 15:11:02,946 - mmfewshot - INFO - Iter [43100/100000]\tlr: 1.000e-04, eta: 5:14:46, time: 0.266, data_time: 0.012, memory: 5635, loss_rpn_cls: 0.0061, loss_rpn_bbox: 0.0038, loss_cls: 0.0391, acc: 99.6016, loss_bbox: 0.2781, loss: 0.3271\n",
      "2022-05-26 15:11:16,398 - mmfewshot - INFO - Iter [43150/100000]\tlr: 1.000e-04, eta: 5:14:25, time: 0.269, data_time: 0.012, memory: 5635, loss_rpn_cls: 0.0157, loss_rpn_bbox: 0.0074, loss_cls: 0.0634, acc: 99.5156, loss_bbox: 0.2753, loss: 0.3619\n",
      "2022-05-26 15:11:29,899 - mmfewshot - INFO - Iter [43200/100000]\tlr: 1.000e-04, eta: 5:14:05, time: 0.270, data_time: 0.012, memory: 5635, loss_rpn_cls: 0.0072, loss_rpn_bbox: 0.0077, loss_cls: 0.0410, acc: 99.7109, loss_bbox: 0.2466, loss: 0.3025\n",
      "2022-05-26 15:11:43,361 - mmfewshot - INFO - Iter [43250/100000]\tlr: 1.000e-04, eta: 5:13:44, time: 0.269, data_time: 0.011, memory: 5635, loss_rpn_cls: 0.0087, loss_rpn_bbox: 0.0054, loss_cls: 0.0398, acc: 99.6641, loss_bbox: 0.2674, loss: 0.3213\n",
      "2022-05-26 15:11:56,786 - mmfewshot - INFO - Iter [43300/100000]\tlr: 1.000e-04, eta: 5:13:23, time: 0.268, data_time: 0.012, memory: 5635, loss_rpn_cls: 0.0078, loss_rpn_bbox: 0.0055, loss_cls: 0.0347, acc: 99.6719, loss_bbox: 0.2729, loss: 0.3209\n",
      "2022-05-26 15:12:10,116 - mmfewshot - INFO - Iter [43350/100000]\tlr: 1.000e-04, eta: 5:13:02, time: 0.266, data_time: 0.011, memory: 5635, loss_rpn_cls: 0.0095, loss_rpn_bbox: 0.0069, loss_cls: 0.0325, acc: 99.6641, loss_bbox: 0.2742, loss: 0.3231\n",
      "2022-05-26 15:12:23,300 - mmfewshot - INFO - Iter [43400/100000]\tlr: 1.000e-04, eta: 5:12:41, time: 0.264, data_time: 0.010, memory: 5635, loss_rpn_cls: 0.0085, loss_rpn_bbox: 0.0054, loss_cls: 0.0531, acc: 99.5703, loss_bbox: 0.2712, loss: 0.3383\n",
      "2022-05-26 15:12:36,842 - mmfewshot - INFO - Iter [43450/100000]\tlr: 1.000e-04, eta: 5:12:21, time: 0.271, data_time: 0.012, memory: 5635, loss_rpn_cls: 0.0136, loss_rpn_bbox: 0.0087, loss_cls: 0.0315, acc: 99.6484, loss_bbox: 0.2807, loss: 0.3345\n",
      "2022-05-26 15:12:50,181 - mmfewshot - INFO - Iter [43500/100000]\tlr: 1.000e-04, eta: 5:12:00, time: 0.267, data_time: 0.011, memory: 5635, loss_rpn_cls: 0.0089, loss_rpn_bbox: 0.0057, loss_cls: 0.0319, acc: 99.6406, loss_bbox: 0.2904, loss: 0.3369\n",
      "2022-05-26 15:13:03,441 - mmfewshot - INFO - Iter [43550/100000]\tlr: 1.000e-04, eta: 5:11:39, time: 0.265, data_time: 0.011, memory: 5635, loss_rpn_cls: 0.0072, loss_rpn_bbox: 0.0049, loss_cls: 0.0447, acc: 99.6250, loss_bbox: 0.2478, loss: 0.3046\n",
      "2022-05-26 15:13:16,831 - mmfewshot - INFO - Iter [43600/100000]\tlr: 1.000e-04, eta: 5:11:19, time: 0.268, data_time: 0.012, memory: 5635, loss_rpn_cls: 0.0075, loss_rpn_bbox: 0.0063, loss_cls: 0.0359, acc: 99.6250, loss_bbox: 0.3026, loss: 0.3522\n",
      "2022-05-26 15:13:30,277 - mmfewshot - INFO - Iter [43650/100000]\tlr: 1.000e-04, eta: 5:10:58, time: 0.269, data_time: 0.012, memory: 5635, loss_rpn_cls: 0.0061, loss_rpn_bbox: 0.0038, loss_cls: 0.0565, acc: 99.5078, loss_bbox: 0.2758, loss: 0.3423\n",
      "2022-05-26 15:13:43,664 - mmfewshot - INFO - Iter [43700/100000]\tlr: 1.000e-04, eta: 5:10:37, time: 0.268, data_time: 0.011, memory: 5635, loss_rpn_cls: 0.0119, loss_rpn_bbox: 0.0065, loss_cls: 0.0455, acc: 99.5703, loss_bbox: 0.2876, loss: 0.3514\n",
      "2022-05-26 15:13:57,180 - mmfewshot - INFO - Iter [43750/100000]\tlr: 1.000e-04, eta: 5:10:17, time: 0.271, data_time: 0.012, memory: 5635, loss_rpn_cls: 0.0120, loss_rpn_bbox: 0.0063, loss_cls: 0.0400, acc: 99.6406, loss_bbox: 0.2907, loss: 0.3490\n",
      "2022-05-26 15:14:10,612 - mmfewshot - INFO - Iter [43800/100000]\tlr: 1.000e-04, eta: 5:09:56, time: 0.268, data_time: 0.011, memory: 5635, loss_rpn_cls: 0.0110, loss_rpn_bbox: 0.0062, loss_cls: 0.0496, acc: 99.5469, loss_bbox: 0.2779, loss: 0.3447\n",
      "2022-05-26 15:14:23,976 - mmfewshot - INFO - Iter [43850/100000]\tlr: 1.000e-04, eta: 5:09:36, time: 0.267, data_time: 0.012, memory: 5635, loss_rpn_cls: 0.0060, loss_rpn_bbox: 0.0038, loss_cls: 0.0577, acc: 99.5469, loss_bbox: 0.2495, loss: 0.3171\n",
      "2022-05-26 15:14:37,677 - mmfewshot - INFO - Iter [43900/100000]\tlr: 1.000e-04, eta: 5:09:16, time: 0.274, data_time: 0.012, memory: 5635, loss_rpn_cls: 0.0118, loss_rpn_bbox: 0.0059, loss_cls: 0.0391, acc: 99.6328, loss_bbox: 0.2946, loss: 0.3515\n",
      "2022-05-26 15:14:51,033 - mmfewshot - INFO - Iter [43950/100000]\tlr: 1.000e-04, eta: 5:08:55, time: 0.267, data_time: 0.011, memory: 5635, loss_rpn_cls: 0.0072, loss_rpn_bbox: 0.0066, loss_cls: 0.0454, acc: 99.6953, loss_bbox: 0.2799, loss: 0.3391\n",
      "2022-05-26 15:15:04,492 - mmfewshot - INFO - Exp name: attention-rpn_r50_c4_tb-split1_1shot-fine-tuning-momentum-09.py\n",
      "2022-05-26 15:15:04,494 - mmfewshot - INFO - Iter [44000/100000]\tlr: 1.000e-04, eta: 5:08:35, time: 0.270, data_time: 0.012, memory: 5635, loss_rpn_cls: 0.0092, loss_rpn_bbox: 0.0073, loss_cls: 0.0438, acc: 99.6172, loss_bbox: 0.2904, loss: 0.3507\n",
      "2022-05-26 15:15:04,500 - mmdet - INFO - starting model initialization...\n"
     ]
    },
    {
     "name": "stdout",
     "output_type": "stream",
     "text": [
      "[>>>>>>>>>>>>>>>>>>>>>>>>>>>>>>] 640/640, 76.8 task/s, elapsed: 8s, ETA:     0s"
     ]
    },
    {
     "name": "stderr",
     "output_type": "stream",
     "text": [
      "2022-05-26 15:15:12,908 - mmdet - INFO - model initialization done.\n"
     ]
    },
    {
     "name": "stdout",
     "output_type": "stream",
     "text": [
      "[>>>>>>>>>>>>>>>>>>>>>>>>>>>>>] 712/712, 12.6 task/s, elapsed: 56s, ETA:     0s\n",
      "---------------iou_thr: 0.5---------------\n"
     ]
    },
    {
     "name": "stderr",
     "output_type": "stream",
     "text": [
      "2022-05-26 15:16:09,792 - mmfewshot - INFO - \n",
      "+----------+-----+------+--------+-------+\n",
      "| class    | gts | dets | recall | ap    |\n",
      "+----------+-----+------+--------+-------+\n",
      "| 7up      | 810 | 3360 | 0.673  | 0.335 |\n",
      "| BudLight | 209 | 659  | 0.502  | 0.245 |\n",
      "+----------+-----+------+--------+-------+\n",
      "| mAP      |     |      |        | 0.290 |\n",
      "+----------+-----+------+--------+-------+\n",
      "2022-05-26 15:16:09,796 - mmfewshot - INFO - BASE_CLASSES_SPLIT1 mAP: 0.2899187207221985\n",
      "2022-05-26 15:16:09,797 - mmfewshot - INFO - NOVEL_CLASSES_SPLIT1 mAP: nan\n",
      "2022-05-26 15:16:09,803 - mmfewshot - INFO - Exp name: attention-rpn_r50_c4_tb-split1_1shot-fine-tuning-momentum-09.py\n",
      "2022-05-26 15:16:09,805 - mmfewshot - INFO - Iter(val) [712]\tAP50: 0.2900, BASE_CLASSES_SPLIT1: AP50: 0.2900, NOVEL_CLASSES_SPLIT1: AP50: nan, mAP: 0.2899\n",
      "2022-05-26 15:16:23,062 - mmfewshot - INFO - Iter [44050/100000]\tlr: 1.000e-04, eta: 5:09:37, time: 1.571, data_time: 1.316, memory: 5635, loss_rpn_cls: 0.0103, loss_rpn_bbox: 0.0087, loss_cls: 0.0399, acc: 99.6016, loss_bbox: 0.2637, loss: 0.3227\n",
      "2022-05-26 15:16:36,462 - mmfewshot - INFO - Iter [44100/100000]\tlr: 1.000e-04, eta: 5:09:16, time: 0.268, data_time: 0.012, memory: 5635, loss_rpn_cls: 0.0112, loss_rpn_bbox: 0.0088, loss_cls: 0.0451, acc: 99.6016, loss_bbox: 0.2870, loss: 0.3521\n",
      "2022-05-26 15:16:49,875 - mmfewshot - INFO - Iter [44150/100000]\tlr: 1.000e-04, eta: 5:08:55, time: 0.268, data_time: 0.011, memory: 5635, loss_rpn_cls: 0.0079, loss_rpn_bbox: 0.0085, loss_cls: 0.0389, acc: 99.6172, loss_bbox: 0.2693, loss: 0.3246\n",
      "2022-05-26 15:17:03,215 - mmfewshot - INFO - Iter [44200/100000]\tlr: 1.000e-04, eta: 5:08:35, time: 0.267, data_time: 0.011, memory: 5635, loss_rpn_cls: 0.0063, loss_rpn_bbox: 0.0041, loss_cls: 0.0481, acc: 99.6250, loss_bbox: 0.2565, loss: 0.3149\n",
      "2022-05-26 15:17:16,511 - mmfewshot - INFO - Iter [44250/100000]\tlr: 1.000e-04, eta: 5:08:14, time: 0.266, data_time: 0.011, memory: 5635, loss_rpn_cls: 0.0100, loss_rpn_bbox: 0.0083, loss_cls: 0.0378, acc: 99.6250, loss_bbox: 0.2680, loss: 0.3240\n",
      "2022-05-26 15:17:30,091 - mmfewshot - INFO - Iter [44300/100000]\tlr: 1.000e-04, eta: 5:07:54, time: 0.272, data_time: 0.012, memory: 5635, loss_rpn_cls: 0.0064, loss_rpn_bbox: 0.0054, loss_cls: 0.0431, acc: 99.5625, loss_bbox: 0.2727, loss: 0.3276\n",
      "2022-05-26 15:17:43,579 - mmfewshot - INFO - Iter [44350/100000]\tlr: 1.000e-04, eta: 5:07:33, time: 0.269, data_time: 0.012, memory: 5635, loss_rpn_cls: 0.0080, loss_rpn_bbox: 0.0070, loss_cls: 0.0332, acc: 99.6562, loss_bbox: 0.2892, loss: 0.3375\n",
      "2022-05-26 15:17:57,008 - mmfewshot - INFO - Iter [44400/100000]\tlr: 1.000e-04, eta: 5:07:13, time: 0.269, data_time: 0.012, memory: 5635, loss_rpn_cls: 0.0074, loss_rpn_bbox: 0.0046, loss_cls: 0.0405, acc: 99.6016, loss_bbox: 0.2703, loss: 0.3229\n",
      "2022-05-26 15:18:10,303 - mmfewshot - INFO - Iter [44450/100000]\tlr: 1.000e-04, eta: 5:06:52, time: 0.266, data_time: 0.011, memory: 5635, loss_rpn_cls: 0.0103, loss_rpn_bbox: 0.0080, loss_cls: 0.0402, acc: 99.6562, loss_bbox: 0.3083, loss: 0.3668\n",
      "2022-05-26 15:18:23,676 - mmfewshot - INFO - Iter [44500/100000]\tlr: 1.000e-04, eta: 5:06:31, time: 0.268, data_time: 0.012, memory: 5635, loss_rpn_cls: 0.0066, loss_rpn_bbox: 0.0066, loss_cls: 0.0393, acc: 99.6328, loss_bbox: 0.2387, loss: 0.2913\n",
      "2022-05-26 15:18:37,044 - mmfewshot - INFO - Iter [44550/100000]\tlr: 1.000e-04, eta: 5:06:11, time: 0.267, data_time: 0.011, memory: 5635, loss_rpn_cls: 0.0127, loss_rpn_bbox: 0.0055, loss_cls: 0.0382, acc: 99.6641, loss_bbox: 0.2343, loss: 0.2908\n",
      "2022-05-26 15:18:50,374 - mmfewshot - INFO - Iter [44600/100000]\tlr: 1.000e-04, eta: 5:05:50, time: 0.267, data_time: 0.012, memory: 5635, loss_rpn_cls: 0.0074, loss_rpn_bbox: 0.0053, loss_cls: 0.0444, acc: 99.5234, loss_bbox: 0.2753, loss: 0.3324\n",
      "2022-05-26 15:19:03,746 - mmfewshot - INFO - Iter [44650/100000]\tlr: 1.000e-04, eta: 5:05:30, time: 0.268, data_time: 0.012, memory: 5635, loss_rpn_cls: 0.0062, loss_rpn_bbox: 0.0043, loss_cls: 0.0363, acc: 99.6797, loss_bbox: 0.2558, loss: 0.3025\n",
      "2022-05-26 15:19:17,261 - mmfewshot - INFO - Iter [44700/100000]\tlr: 1.000e-04, eta: 5:05:09, time: 0.270, data_time: 0.012, memory: 5635, loss_rpn_cls: 0.0080, loss_rpn_bbox: 0.0048, loss_cls: 0.0414, acc: 99.5781, loss_bbox: 0.2607, loss: 0.3149\n",
      "2022-05-26 15:19:30,705 - mmfewshot - INFO - Iter [44750/100000]\tlr: 1.000e-04, eta: 5:04:49, time: 0.269, data_time: 0.012, memory: 5635, loss_rpn_cls: 0.0062, loss_rpn_bbox: 0.0064, loss_cls: 0.0412, acc: 99.5625, loss_bbox: 0.2933, loss: 0.3470\n",
      "2022-05-26 15:19:44,121 - mmfewshot - INFO - Iter [44800/100000]\tlr: 1.000e-04, eta: 5:04:29, time: 0.268, data_time: 0.012, memory: 5635, loss_rpn_cls: 0.0056, loss_rpn_bbox: 0.0037, loss_cls: 0.0316, acc: 99.6953, loss_bbox: 0.2690, loss: 0.3099\n",
      "2022-05-26 15:19:57,473 - mmfewshot - INFO - Iter [44850/100000]\tlr: 1.000e-04, eta: 5:04:08, time: 0.267, data_time: 0.011, memory: 5635, loss_rpn_cls: 0.0085, loss_rpn_bbox: 0.0071, loss_cls: 0.0406, acc: 99.6250, loss_bbox: 0.2564, loss: 0.3126\n",
      "2022-05-26 15:20:10,828 - mmfewshot - INFO - Iter [44900/100000]\tlr: 1.000e-04, eta: 5:03:48, time: 0.267, data_time: 0.012, memory: 5635, loss_rpn_cls: 0.0079, loss_rpn_bbox: 0.0052, loss_cls: 0.0366, acc: 99.6094, loss_bbox: 0.3079, loss: 0.3575\n",
      "2022-05-26 15:20:24,305 - mmfewshot - INFO - Iter [44950/100000]\tlr: 1.000e-04, eta: 5:03:27, time: 0.270, data_time: 0.012, memory: 5635, loss_rpn_cls: 0.0098, loss_rpn_bbox: 0.0065, loss_cls: 0.0400, acc: 99.6875, loss_bbox: 0.2918, loss: 0.3480\n",
      "2022-05-26 15:20:37,786 - mmfewshot - INFO - Exp name: attention-rpn_r50_c4_tb-split1_1shot-fine-tuning-momentum-09.py\n",
      "2022-05-26 15:20:37,787 - mmfewshot - INFO - Iter [45000/100000]\tlr: 1.000e-04, eta: 5:03:07, time: 0.270, data_time: 0.012, memory: 5635, loss_rpn_cls: 0.0094, loss_rpn_bbox: 0.0066, loss_cls: 0.0429, acc: 99.5547, loss_bbox: 0.2863, loss: 0.3451\n",
      "2022-05-26 15:20:37,791 - mmdet - INFO - starting model initialization...\n"
     ]
    },
    {
     "name": "stdout",
     "output_type": "stream",
     "text": [
      "[>>>>>>>>>>>>>>>>>>>>>>>>>>>>>>] 640/640, 78.4 task/s, elapsed: 8s, ETA:     0s"
     ]
    },
    {
     "name": "stderr",
     "output_type": "stream",
     "text": [
      "2022-05-26 15:20:46,025 - mmdet - INFO - model initialization done.\n"
     ]
    },
    {
     "name": "stdout",
     "output_type": "stream",
     "text": [
      "[>>>>>>>>>>>>>>>>>>>>>>>>>>>>>] 712/712, 12.6 task/s, elapsed: 56s, ETA:     0s\n",
      "---------------iou_thr: 0.5---------------\n"
     ]
    },
    {
     "name": "stderr",
     "output_type": "stream",
     "text": [
      "2022-05-26 15:21:42,798 - mmfewshot - INFO - \n",
      "+----------+-----+------+--------+-------+\n",
      "| class    | gts | dets | recall | ap    |\n",
      "+----------+-----+------+--------+-------+\n",
      "| 7up      | 810 | 2848 | 0.614  | 0.292 |\n",
      "| BudLight | 209 | 413  | 0.435  | 0.227 |\n",
      "+----------+-----+------+--------+-------+\n",
      "| mAP      |     |      |        | 0.259 |\n",
      "+----------+-----+------+--------+-------+\n",
      "2022-05-26 15:21:42,805 - mmfewshot - INFO - BASE_CLASSES_SPLIT1 mAP: 0.2594131827354431\n",
      "2022-05-26 15:21:42,806 - mmfewshot - INFO - NOVEL_CLASSES_SPLIT1 mAP: nan\n",
      "2022-05-26 15:21:42,810 - mmfewshot - INFO - Exp name: attention-rpn_r50_c4_tb-split1_1shot-fine-tuning-momentum-09.py\n",
      "2022-05-26 15:21:42,811 - mmfewshot - INFO - Iter(val) [712]\tAP50: 0.2590, BASE_CLASSES_SPLIT1: AP50: 0.2590, NOVEL_CLASSES_SPLIT1: AP50: nan, mAP: 0.2594\n",
      "2022-05-26 15:21:56,259 - mmfewshot - INFO - Iter [45050/100000]\tlr: 1.000e-04, eta: 5:04:06, time: 1.569, data_time: 1.312, memory: 5635, loss_rpn_cls: 0.0076, loss_rpn_bbox: 0.0049, loss_cls: 0.0461, acc: 99.5703, loss_bbox: 0.2669, loss: 0.3254\n",
      "2022-05-26 15:22:09,746 - mmfewshot - INFO - Iter [45100/100000]\tlr: 1.000e-04, eta: 5:03:46, time: 0.270, data_time: 0.012, memory: 5635, loss_rpn_cls: 0.0060, loss_rpn_bbox: 0.0051, loss_cls: 0.0523, acc: 99.4453, loss_bbox: 0.3145, loss: 0.3779\n",
      "2022-05-26 15:22:23,236 - mmfewshot - INFO - Iter [45150/100000]\tlr: 1.000e-04, eta: 5:03:25, time: 0.270, data_time: 0.012, memory: 5635, loss_rpn_cls: 0.0099, loss_rpn_bbox: 0.0093, loss_cls: 0.0332, acc: 99.6953, loss_bbox: 0.2960, loss: 0.3483\n",
      "2022-05-26 15:22:36,808 - mmfewshot - INFO - Iter [45200/100000]\tlr: 1.000e-04, eta: 5:03:05, time: 0.271, data_time: 0.013, memory: 5635, loss_rpn_cls: 0.0117, loss_rpn_bbox: 0.0053, loss_cls: 0.0480, acc: 99.5391, loss_bbox: 0.3146, loss: 0.3796\n",
      "2022-05-26 15:22:50,215 - mmfewshot - INFO - Iter [45250/100000]\tlr: 1.000e-04, eta: 5:02:45, time: 0.268, data_time: 0.012, memory: 5635, loss_rpn_cls: 0.0070, loss_rpn_bbox: 0.0055, loss_cls: 0.0370, acc: 99.6328, loss_bbox: 0.2621, loss: 0.3116\n",
      "2022-05-26 15:23:03,542 - mmfewshot - INFO - Iter [45300/100000]\tlr: 1.000e-04, eta: 5:02:24, time: 0.266, data_time: 0.012, memory: 5635, loss_rpn_cls: 0.0086, loss_rpn_bbox: 0.0066, loss_cls: 0.0536, acc: 99.6484, loss_bbox: 0.2379, loss: 0.3067\n",
      "2022-05-26 15:23:16,931 - mmfewshot - INFO - Iter [45350/100000]\tlr: 1.000e-04, eta: 5:02:04, time: 0.268, data_time: 0.012, memory: 5635, loss_rpn_cls: 0.0117, loss_rpn_bbox: 0.0102, loss_cls: 0.0599, acc: 99.5000, loss_bbox: 0.2633, loss: 0.3452\n",
      "2022-05-26 15:23:30,266 - mmfewshot - INFO - Iter [45400/100000]\tlr: 1.000e-04, eta: 5:01:43, time: 0.267, data_time: 0.012, memory: 5635, loss_rpn_cls: 0.0075, loss_rpn_bbox: 0.0052, loss_cls: 0.0527, acc: 99.6641, loss_bbox: 0.2502, loss: 0.3156\n",
      "2022-05-26 15:23:43,948 - mmfewshot - INFO - Iter [45450/100000]\tlr: 1.000e-04, eta: 5:01:23, time: 0.273, data_time: 0.013, memory: 5635, loss_rpn_cls: 0.0098, loss_rpn_bbox: 0.0085, loss_cls: 0.0288, acc: 99.7188, loss_bbox: 0.2742, loss: 0.3213\n",
      "2022-05-26 15:23:57,513 - mmfewshot - INFO - Iter [45500/100000]\tlr: 1.000e-04, eta: 5:01:03, time: 0.271, data_time: 0.013, memory: 5635, loss_rpn_cls: 0.0074, loss_rpn_bbox: 0.0047, loss_cls: 0.0460, acc: 99.5859, loss_bbox: 0.2535, loss: 0.3117\n",
      "2022-05-26 15:24:10,772 - mmfewshot - INFO - Iter [45550/100000]\tlr: 1.000e-04, eta: 5:00:42, time: 0.265, data_time: 0.011, memory: 5635, loss_rpn_cls: 0.0099, loss_rpn_bbox: 0.0070, loss_cls: 0.0364, acc: 99.6562, loss_bbox: 0.2946, loss: 0.3480\n",
      "2022-05-26 15:24:24,044 - mmfewshot - INFO - Iter [45600/100000]\tlr: 1.000e-04, eta: 5:00:22, time: 0.265, data_time: 0.010, memory: 5635, loss_rpn_cls: 0.0052, loss_rpn_bbox: 0.0043, loss_cls: 0.0370, acc: 99.6250, loss_bbox: 0.2709, loss: 0.3174\n",
      "2022-05-26 15:24:37,428 - mmfewshot - INFO - Iter [45650/100000]\tlr: 1.000e-04, eta: 5:00:02, time: 0.268, data_time: 0.012, memory: 5635, loss_rpn_cls: 0.0075, loss_rpn_bbox: 0.0044, loss_cls: 0.0409, acc: 99.5703, loss_bbox: 0.3125, loss: 0.3652\n",
      "2022-05-26 15:24:50,840 - mmfewshot - INFO - Iter [45700/100000]\tlr: 1.000e-04, eta: 4:59:41, time: 0.268, data_time: 0.011, memory: 5635, loss_rpn_cls: 0.0098, loss_rpn_bbox: 0.0099, loss_cls: 0.0519, acc: 99.6094, loss_bbox: 0.3461, loss: 0.4176\n",
      "2022-05-26 15:25:04,137 - mmfewshot - INFO - Iter [45750/100000]\tlr: 1.000e-04, eta: 4:59:21, time: 0.266, data_time: 0.012, memory: 5635, loss_rpn_cls: 0.0071, loss_rpn_bbox: 0.0062, loss_cls: 0.0319, acc: 99.6016, loss_bbox: 0.3045, loss: 0.3496\n",
      "2022-05-26 15:25:17,629 - mmfewshot - INFO - Iter [45800/100000]\tlr: 1.000e-04, eta: 4:59:01, time: 0.270, data_time: 0.013, memory: 5635, loss_rpn_cls: 0.0085, loss_rpn_bbox: 0.0070, loss_cls: 0.0349, acc: 99.7188, loss_bbox: 0.2583, loss: 0.3087\n",
      "2022-05-26 15:25:31,015 - mmfewshot - INFO - Iter [45850/100000]\tlr: 1.000e-04, eta: 4:58:40, time: 0.267, data_time: 0.012, memory: 5635, loss_rpn_cls: 0.0099, loss_rpn_bbox: 0.0081, loss_cls: 0.0370, acc: 99.6797, loss_bbox: 0.2250, loss: 0.2801\n",
      "2022-05-26 15:25:44,498 - mmfewshot - INFO - Iter [45900/100000]\tlr: 1.000e-04, eta: 4:58:20, time: 0.270, data_time: 0.013, memory: 5635, loss_rpn_cls: 0.0132, loss_rpn_bbox: 0.0088, loss_cls: 0.0453, acc: 99.5859, loss_bbox: 0.3046, loss: 0.3719\n",
      "2022-05-26 15:25:57,942 - mmfewshot - INFO - Iter [45950/100000]\tlr: 1.000e-04, eta: 4:58:00, time: 0.269, data_time: 0.012, memory: 5635, loss_rpn_cls: 0.0064, loss_rpn_bbox: 0.0038, loss_cls: 0.0456, acc: 99.5469, loss_bbox: 0.2678, loss: 0.3235\n",
      "2022-05-26 15:26:11,461 - mmfewshot - INFO - Exp name: attention-rpn_r50_c4_tb-split1_1shot-fine-tuning-momentum-09.py\n",
      "2022-05-26 15:26:11,463 - mmfewshot - INFO - Iter [46000/100000]\tlr: 1.000e-04, eta: 4:57:40, time: 0.270, data_time: 0.012, memory: 5635, loss_rpn_cls: 0.0116, loss_rpn_bbox: 0.0075, loss_cls: 0.0548, acc: 99.5156, loss_bbox: 0.2862, loss: 0.3602\n",
      "2022-05-26 15:26:11,468 - mmdet - INFO - starting model initialization...\n"
     ]
    },
    {
     "name": "stdout",
     "output_type": "stream",
     "text": [
      "[>>>>>>>>>>>>>>>>>>>>>>>>>>>>>>] 640/640, 78.7 task/s, elapsed: 8s, ETA:     0s"
     ]
    },
    {
     "name": "stderr",
     "output_type": "stream",
     "text": [
      "2022-05-26 15:26:19,684 - mmdet - INFO - model initialization done.\n"
     ]
    },
    {
     "name": "stdout",
     "output_type": "stream",
     "text": [
      "[>>>>>>>>>>>>>>>>>>>>>>>>>>>>>] 712/712, 12.4 task/s, elapsed: 57s, ETA:     0s\n",
      "---------------iou_thr: 0.5---------------\n"
     ]
    },
    {
     "name": "stderr",
     "output_type": "stream",
     "text": [
      "2022-05-26 15:27:17,428 - mmfewshot - INFO - \n",
      "+----------+-----+------+--------+-------+\n",
      "| class    | gts | dets | recall | ap    |\n",
      "+----------+-----+------+--------+-------+\n",
      "| 7up      | 810 | 2335 | 0.570  | 0.283 |\n",
      "| BudLight | 209 | 384  | 0.445  | 0.250 |\n",
      "+----------+-----+------+--------+-------+\n",
      "| mAP      |     |      |        | 0.267 |\n",
      "+----------+-----+------+--------+-------+\n",
      "2022-05-26 15:27:17,431 - mmfewshot - INFO - BASE_CLASSES_SPLIT1 mAP: 0.26670634746551514\n",
      "2022-05-26 15:27:17,433 - mmfewshot - INFO - NOVEL_CLASSES_SPLIT1 mAP: nan\n",
      "2022-05-26 15:27:17,438 - mmfewshot - INFO - Exp name: attention-rpn_r50_c4_tb-split1_1shot-fine-tuning-momentum-09.py\n",
      "2022-05-26 15:27:17,439 - mmfewshot - INFO - Iter(val) [712]\tAP50: 0.2670, BASE_CLASSES_SPLIT1: AP50: 0.2670, NOVEL_CLASSES_SPLIT1: AP50: nan, mAP: 0.2667\n",
      "2022-05-26 15:27:30,887 - mmfewshot - INFO - Iter [46050/100000]\tlr: 1.000e-04, eta: 4:58:37, time: 1.588, data_time: 1.330, memory: 5635, loss_rpn_cls: 0.0064, loss_rpn_bbox: 0.0044, loss_cls: 0.0445, acc: 99.5703, loss_bbox: 0.2817, loss: 0.3369\n",
      "2022-05-26 15:27:44,315 - mmfewshot - INFO - Iter [46100/100000]\tlr: 1.000e-04, eta: 4:58:17, time: 0.269, data_time: 0.012, memory: 5635, loss_rpn_cls: 0.0080, loss_rpn_bbox: 0.0064, loss_cls: 0.0325, acc: 99.6953, loss_bbox: 0.3121, loss: 0.3590\n",
      "2022-05-26 15:27:57,780 - mmfewshot - INFO - Iter [46150/100000]\tlr: 1.000e-04, eta: 4:57:57, time: 0.269, data_time: 0.012, memory: 5635, loss_rpn_cls: 0.0099, loss_rpn_bbox: 0.0084, loss_cls: 0.0555, acc: 99.5234, loss_bbox: 0.2738, loss: 0.3476\n",
      "2022-05-26 15:28:11,270 - mmfewshot - INFO - Iter [46200/100000]\tlr: 1.000e-04, eta: 4:57:36, time: 0.270, data_time: 0.012, memory: 5635, loss_rpn_cls: 0.0114, loss_rpn_bbox: 0.0102, loss_cls: 0.0337, acc: 99.6016, loss_bbox: 0.2862, loss: 0.3414\n",
      "2022-05-26 15:28:24,651 - mmfewshot - INFO - Iter [46250/100000]\tlr: 1.000e-04, eta: 4:57:16, time: 0.268, data_time: 0.012, memory: 5635, loss_rpn_cls: 0.0091, loss_rpn_bbox: 0.0081, loss_cls: 0.0285, acc: 99.6797, loss_bbox: 0.2856, loss: 0.3313\n",
      "2022-05-26 15:28:38,146 - mmfewshot - INFO - Iter [46300/100000]\tlr: 1.000e-04, eta: 4:56:56, time: 0.270, data_time: 0.012, memory: 5635, loss_rpn_cls: 0.0054, loss_rpn_bbox: 0.0041, loss_cls: 0.0325, acc: 99.6719, loss_bbox: 0.2902, loss: 0.3322\n",
      "2022-05-26 15:28:51,469 - mmfewshot - INFO - Iter [46350/100000]\tlr: 1.000e-04, eta: 4:56:35, time: 0.267, data_time: 0.012, memory: 5635, loss_rpn_cls: 0.0067, loss_rpn_bbox: 0.0041, loss_cls: 0.0411, acc: 99.5938, loss_bbox: 0.2279, loss: 0.2797\n",
      "2022-05-26 15:29:04,852 - mmfewshot - INFO - Iter [46400/100000]\tlr: 1.000e-04, eta: 4:56:15, time: 0.268, data_time: 0.012, memory: 5635, loss_rpn_cls: 0.0065, loss_rpn_bbox: 0.0044, loss_cls: 0.0316, acc: 99.6719, loss_bbox: 0.2963, loss: 0.3388\n",
      "2022-05-26 15:29:18,213 - mmfewshot - INFO - Iter [46450/100000]\tlr: 1.000e-04, eta: 4:55:55, time: 0.267, data_time: 0.012, memory: 5635, loss_rpn_cls: 0.0054, loss_rpn_bbox: 0.0050, loss_cls: 0.0345, acc: 99.7266, loss_bbox: 0.2995, loss: 0.3445\n",
      "2022-05-26 15:29:31,537 - mmfewshot - INFO - Iter [46500/100000]\tlr: 1.000e-04, eta: 4:55:34, time: 0.266, data_time: 0.011, memory: 5635, loss_rpn_cls: 0.0062, loss_rpn_bbox: 0.0041, loss_cls: 0.0273, acc: 99.6797, loss_bbox: 0.2828, loss: 0.3204\n",
      "2022-05-26 15:29:44,856 - mmfewshot - INFO - Iter [46550/100000]\tlr: 1.000e-04, eta: 4:55:14, time: 0.266, data_time: 0.011, memory: 5635, loss_rpn_cls: 0.0095, loss_rpn_bbox: 0.0077, loss_cls: 0.0414, acc: 99.6328, loss_bbox: 0.2659, loss: 0.3244\n",
      "2022-05-26 15:29:58,059 - mmfewshot - INFO - Iter [46600/100000]\tlr: 1.000e-04, eta: 4:54:54, time: 0.264, data_time: 0.011, memory: 5635, loss_rpn_cls: 0.0096, loss_rpn_bbox: 0.0049, loss_cls: 0.0418, acc: 99.6797, loss_bbox: 0.2273, loss: 0.2836\n",
      "2022-05-26 15:30:11,368 - mmfewshot - INFO - Iter [46650/100000]\tlr: 1.000e-04, eta: 4:54:33, time: 0.266, data_time: 0.011, memory: 5635, loss_rpn_cls: 0.0143, loss_rpn_bbox: 0.0070, loss_cls: 0.0528, acc: 99.6172, loss_bbox: 0.2522, loss: 0.3263\n",
      "2022-05-26 15:30:24,753 - mmfewshot - INFO - Iter [46700/100000]\tlr: 1.000e-04, eta: 4:54:13, time: 0.268, data_time: 0.012, memory: 5635, loss_rpn_cls: 0.0078, loss_rpn_bbox: 0.0051, loss_cls: 0.0347, acc: 99.7266, loss_bbox: 0.2595, loss: 0.3071\n",
      "2022-05-26 15:30:38,130 - mmfewshot - INFO - Iter [46750/100000]\tlr: 1.000e-04, eta: 4:53:53, time: 0.268, data_time: 0.012, memory: 5635, loss_rpn_cls: 0.0079, loss_rpn_bbox: 0.0052, loss_cls: 0.0403, acc: 99.6484, loss_bbox: 0.2629, loss: 0.3164\n",
      "2022-05-26 15:30:51,500 - mmfewshot - INFO - Iter [46800/100000]\tlr: 1.000e-04, eta: 4:53:33, time: 0.267, data_time: 0.012, memory: 5635, loss_rpn_cls: 0.0100, loss_rpn_bbox: 0.0123, loss_cls: 0.0342, acc: 99.6719, loss_bbox: 0.3009, loss: 0.3573\n",
      "2022-05-26 15:31:04,886 - mmfewshot - INFO - Iter [46850/100000]\tlr: 1.000e-04, eta: 4:53:13, time: 0.268, data_time: 0.012, memory: 5635, loss_rpn_cls: 0.0076, loss_rpn_bbox: 0.0086, loss_cls: 0.0437, acc: 99.6406, loss_bbox: 0.2676, loss: 0.3275\n",
      "2022-05-26 15:31:18,328 - mmfewshot - INFO - Iter [46900/100000]\tlr: 1.000e-04, eta: 4:52:53, time: 0.269, data_time: 0.012, memory: 5635, loss_rpn_cls: 0.0052, loss_rpn_bbox: 0.0043, loss_cls: 0.0379, acc: 99.6719, loss_bbox: 0.2523, loss: 0.2996\n",
      "2022-05-26 15:31:31,776 - mmfewshot - INFO - Iter [46950/100000]\tlr: 1.000e-04, eta: 4:52:33, time: 0.269, data_time: 0.011, memory: 5635, loss_rpn_cls: 0.0058, loss_rpn_bbox: 0.0046, loss_cls: 0.0433, acc: 99.6250, loss_bbox: 0.2543, loss: 0.3080\n",
      "2022-05-26 15:31:45,249 - mmfewshot - INFO - Exp name: attention-rpn_r50_c4_tb-split1_1shot-fine-tuning-momentum-09.py\n",
      "2022-05-26 15:31:45,251 - mmfewshot - INFO - Iter [47000/100000]\tlr: 1.000e-04, eta: 4:52:13, time: 0.269, data_time: 0.011, memory: 5635, loss_rpn_cls: 0.0065, loss_rpn_bbox: 0.0057, loss_cls: 0.0447, acc: 99.5547, loss_bbox: 0.3012, loss: 0.3581\n",
      "2022-05-26 15:31:45,256 - mmdet - INFO - starting model initialization...\n"
     ]
    },
    {
     "name": "stdout",
     "output_type": "stream",
     "text": [
      "[>>>>>>>>>>>>>>>>>>>>>>>>>>>>>>] 640/640, 78.9 task/s, elapsed: 8s, ETA:     0s"
     ]
    },
    {
     "name": "stderr",
     "output_type": "stream",
     "text": [
      "2022-05-26 15:31:53,435 - mmdet - INFO - model initialization done.\n"
     ]
    },
    {
     "name": "stdout",
     "output_type": "stream",
     "text": [
      "[>>>>>>>>>>>>>>>>>>>>>>>>>>>>>] 712/712, 12.7 task/s, elapsed: 56s, ETA:     0s\n",
      "---------------iou_thr: 0.5---------------\n"
     ]
    },
    {
     "name": "stderr",
     "output_type": "stream",
     "text": [
      "2022-05-26 15:32:49,911 - mmfewshot - INFO - \n",
      "+----------+-----+------+--------+-------+\n",
      "| class    | gts | dets | recall | ap    |\n",
      "+----------+-----+------+--------+-------+\n",
      "| 7up      | 810 | 4335 | 0.709  | 0.343 |\n",
      "| BudLight | 209 | 629  | 0.498  | 0.262 |\n",
      "+----------+-----+------+--------+-------+\n",
      "| mAP      |     |      |        | 0.303 |\n",
      "+----------+-----+------+--------+-------+\n",
      "2022-05-26 15:32:49,914 - mmfewshot - INFO - BASE_CLASSES_SPLIT1 mAP: 0.30267760157585144\n",
      "2022-05-26 15:32:49,915 - mmfewshot - INFO - NOVEL_CLASSES_SPLIT1 mAP: nan\n",
      "2022-05-26 15:32:49,919 - mmfewshot - INFO - Exp name: attention-rpn_r50_c4_tb-split1_1shot-fine-tuning-momentum-09.py\n",
      "2022-05-26 15:32:49,921 - mmfewshot - INFO - Iter(val) [712]\tAP50: 0.3030, BASE_CLASSES_SPLIT1: AP50: 0.3030, NOVEL_CLASSES_SPLIT1: AP50: nan, mAP: 0.3027\n",
      "2022-05-26 15:33:03,434 - mmfewshot - INFO - Iter [47050/100000]\tlr: 1.000e-04, eta: 4:53:05, time: 1.564, data_time: 1.306, memory: 5635, loss_rpn_cls: 0.0086, loss_rpn_bbox: 0.0053, loss_cls: 0.0490, acc: 99.5625, loss_bbox: 0.2510, loss: 0.3138\n",
      "2022-05-26 15:33:16,812 - mmfewshot - INFO - Iter [47100/100000]\tlr: 1.000e-04, eta: 4:52:45, time: 0.267, data_time: 0.012, memory: 5635, loss_rpn_cls: 0.0119, loss_rpn_bbox: 0.0065, loss_cls: 0.0312, acc: 99.6484, loss_bbox: 0.3043, loss: 0.3539\n",
      "2022-05-26 15:33:30,376 - mmfewshot - INFO - Iter [47150/100000]\tlr: 1.000e-04, eta: 4:52:25, time: 0.271, data_time: 0.013, memory: 5635, loss_rpn_cls: 0.0080, loss_rpn_bbox: 0.0039, loss_cls: 0.0354, acc: 99.6797, loss_bbox: 0.2732, loss: 0.3204\n",
      "2022-05-26 15:33:43,781 - mmfewshot - INFO - Iter [47200/100000]\tlr: 1.000e-04, eta: 4:52:05, time: 0.268, data_time: 0.011, memory: 5635, loss_rpn_cls: 0.0076, loss_rpn_bbox: 0.0062, loss_cls: 0.0283, acc: 99.7344, loss_bbox: 0.2959, loss: 0.3381\n",
      "2022-05-26 15:33:57,156 - mmfewshot - INFO - Iter [47250/100000]\tlr: 1.000e-04, eta: 4:51:45, time: 0.268, data_time: 0.012, memory: 5635, loss_rpn_cls: 0.0084, loss_rpn_bbox: 0.0077, loss_cls: 0.0452, acc: 99.5703, loss_bbox: 0.2771, loss: 0.3383\n",
      "2022-05-26 15:34:10,588 - mmfewshot - INFO - Iter [47300/100000]\tlr: 1.000e-04, eta: 4:51:25, time: 0.268, data_time: 0.012, memory: 5635, loss_rpn_cls: 0.0081, loss_rpn_bbox: 0.0063, loss_cls: 0.0404, acc: 99.6250, loss_bbox: 0.2704, loss: 0.3252\n",
      "2022-05-26 15:34:24,045 - mmfewshot - INFO - Iter [47350/100000]\tlr: 1.000e-04, eta: 4:51:05, time: 0.269, data_time: 0.011, memory: 5635, loss_rpn_cls: 0.0052, loss_rpn_bbox: 0.0056, loss_cls: 0.0378, acc: 99.7109, loss_bbox: 0.2575, loss: 0.3061\n",
      "2022-05-26 15:34:37,404 - mmfewshot - INFO - Iter [47400/100000]\tlr: 1.000e-04, eta: 4:50:44, time: 0.267, data_time: 0.011, memory: 5635, loss_rpn_cls: 0.0058, loss_rpn_bbox: 0.0058, loss_cls: 0.0467, acc: 99.5234, loss_bbox: 0.2695, loss: 0.3279\n",
      "2022-05-26 15:34:50,774 - mmfewshot - INFO - Iter [47450/100000]\tlr: 1.000e-04, eta: 4:50:24, time: 0.268, data_time: 0.012, memory: 5635, loss_rpn_cls: 0.0062, loss_rpn_bbox: 0.0036, loss_cls: 0.0288, acc: 99.8203, loss_bbox: 0.2444, loss: 0.2829\n",
      "2022-05-26 15:35:04,005 - mmfewshot - INFO - Iter [47500/100000]\tlr: 1.000e-04, eta: 4:50:04, time: 0.264, data_time: 0.011, memory: 5635, loss_rpn_cls: 0.0072, loss_rpn_bbox: 0.0045, loss_cls: 0.0316, acc: 99.7188, loss_bbox: 0.2754, loss: 0.3187\n",
      "2022-05-26 15:35:17,604 - mmfewshot - INFO - Iter [47550/100000]\tlr: 1.000e-04, eta: 4:49:44, time: 0.272, data_time: 0.012, memory: 5635, loss_rpn_cls: 0.0063, loss_rpn_bbox: 0.0046, loss_cls: 0.0806, acc: 99.4844, loss_bbox: 0.2957, loss: 0.3872\n",
      "2022-05-26 15:35:31,159 - mmfewshot - INFO - Iter [47600/100000]\tlr: 1.000e-04, eta: 4:49:24, time: 0.271, data_time: 0.013, memory: 5635, loss_rpn_cls: 0.0124, loss_rpn_bbox: 0.0061, loss_cls: 0.0471, acc: 99.5703, loss_bbox: 0.2472, loss: 0.3128\n",
      "2022-05-26 15:35:44,485 - mmfewshot - INFO - Iter [47650/100000]\tlr: 1.000e-04, eta: 4:49:04, time: 0.267, data_time: 0.012, memory: 5635, loss_rpn_cls: 0.0092, loss_rpn_bbox: 0.0077, loss_cls: 0.0347, acc: 99.6484, loss_bbox: 0.2909, loss: 0.3424\n",
      "2022-05-26 15:35:58,015 - mmfewshot - INFO - Iter [47700/100000]\tlr: 1.000e-04, eta: 4:48:44, time: 0.271, data_time: 0.012, memory: 5635, loss_rpn_cls: 0.0067, loss_rpn_bbox: 0.0038, loss_cls: 0.0371, acc: 99.6094, loss_bbox: 0.2862, loss: 0.3338\n",
      "2022-05-26 15:36:11,264 - mmfewshot - INFO - Iter [47750/100000]\tlr: 1.000e-04, eta: 4:48:24, time: 0.265, data_time: 0.011, memory: 5635, loss_rpn_cls: 0.0085, loss_rpn_bbox: 0.0047, loss_cls: 0.0368, acc: 99.6875, loss_bbox: 0.2498, loss: 0.2998\n",
      "2022-05-26 15:36:24,699 - mmfewshot - INFO - Iter [47800/100000]\tlr: 1.000e-04, eta: 4:48:04, time: 0.269, data_time: 0.012, memory: 5635, loss_rpn_cls: 0.0051, loss_rpn_bbox: 0.0035, loss_cls: 0.0447, acc: 99.6484, loss_bbox: 0.2600, loss: 0.3133\n",
      "2022-05-26 15:36:38,124 - mmfewshot - INFO - Iter [47850/100000]\tlr: 1.000e-04, eta: 4:47:44, time: 0.269, data_time: 0.012, memory: 5635, loss_rpn_cls: 0.0077, loss_rpn_bbox: 0.0068, loss_cls: 0.0368, acc: 99.6406, loss_bbox: 0.2933, loss: 0.3446\n",
      "2022-05-26 15:36:51,381 - mmfewshot - INFO - Iter [47900/100000]\tlr: 1.000e-04, eta: 4:47:24, time: 0.265, data_time: 0.011, memory: 5635, loss_rpn_cls: 0.0091, loss_rpn_bbox: 0.0064, loss_cls: 0.0439, acc: 99.5625, loss_bbox: 0.2729, loss: 0.3323\n",
      "2022-05-26 15:37:04,817 - mmfewshot - INFO - Iter [47950/100000]\tlr: 1.000e-04, eta: 4:47:04, time: 0.269, data_time: 0.012, memory: 5635, loss_rpn_cls: 0.0064, loss_rpn_bbox: 0.0050, loss_cls: 0.0351, acc: 99.6562, loss_bbox: 0.2630, loss: 0.3095\n",
      "2022-05-26 15:37:18,323 - mmfewshot - INFO - Exp name: attention-rpn_r50_c4_tb-split1_1shot-fine-tuning-momentum-09.py\n",
      "2022-05-26 15:37:18,325 - mmfewshot - INFO - Iter [48000/100000]\tlr: 1.000e-04, eta: 4:46:44, time: 0.270, data_time: 0.011, memory: 5635, loss_rpn_cls: 0.0073, loss_rpn_bbox: 0.0053, loss_cls: 0.0478, acc: 99.6016, loss_bbox: 0.3029, loss: 0.3633\n",
      "2022-05-26 15:37:18,330 - mmdet - INFO - starting model initialization...\n"
     ]
    },
    {
     "name": "stdout",
     "output_type": "stream",
     "text": [
      "[>>>>>>>>>>>>>>>>>>>>>>>>>>>>>>] 640/640, 78.0 task/s, elapsed: 8s, ETA:     0s"
     ]
    },
    {
     "name": "stderr",
     "output_type": "stream",
     "text": [
      "2022-05-26 15:37:26,620 - mmdet - INFO - model initialization done.\n"
     ]
    },
    {
     "name": "stdout",
     "output_type": "stream",
     "text": [
      "[>>>>>>>>>>>>>>>>>>>>>>>>>>>>>] 712/712, 12.8 task/s, elapsed: 56s, ETA:     0s\n",
      "---------------iou_thr: 0.5---------------\n"
     ]
    },
    {
     "name": "stderr",
     "output_type": "stream",
     "text": [
      "2022-05-26 15:38:22,806 - mmfewshot - INFO - \n",
      "+----------+-----+------+--------+-------+\n",
      "| class    | gts | dets | recall | ap    |\n",
      "+----------+-----+------+--------+-------+\n",
      "| 7up      | 810 | 3555 | 0.685  | 0.343 |\n",
      "| BudLight | 209 | 502  | 0.483  | 0.252 |\n",
      "+----------+-----+------+--------+-------+\n",
      "| mAP      |     |      |        | 0.297 |\n",
      "+----------+-----+------+--------+-------+\n",
      "2022-05-26 15:38:22,809 - mmfewshot - INFO - BASE_CLASSES_SPLIT1 mAP: 0.29749566316604614\n",
      "2022-05-26 15:38:22,810 - mmfewshot - INFO - NOVEL_CLASSES_SPLIT1 mAP: nan\n",
      "2022-05-26 15:38:22,816 - mmfewshot - INFO - Exp name: attention-rpn_r50_c4_tb-split1_1shot-fine-tuning-momentum-09.py\n",
      "2022-05-26 15:38:22,817 - mmfewshot - INFO - Iter(val) [712]\tAP50: 0.2970, BASE_CLASSES_SPLIT1: AP50: 0.2970, NOVEL_CLASSES_SPLIT1: AP50: nan, mAP: 0.2975\n",
      "2022-05-26 15:38:36,173 - mmfewshot - INFO - Iter [48050/100000]\tlr: 1.000e-04, eta: 4:47:34, time: 1.557, data_time: 1.301, memory: 5635, loss_rpn_cls: 0.0078, loss_rpn_bbox: 0.0047, loss_cls: 0.0394, acc: 99.6719, loss_bbox: 0.2800, loss: 0.3318\n",
      "2022-05-26 15:38:49,478 - mmfewshot - INFO - Iter [48100/100000]\tlr: 1.000e-04, eta: 4:47:14, time: 0.266, data_time: 0.011, memory: 5635, loss_rpn_cls: 0.0057, loss_rpn_bbox: 0.0042, loss_cls: 0.0380, acc: 99.6172, loss_bbox: 0.2673, loss: 0.3153\n",
      "2022-05-26 15:39:02,708 - mmfewshot - INFO - Iter [48150/100000]\tlr: 1.000e-04, eta: 4:46:54, time: 0.265, data_time: 0.012, memory: 5635, loss_rpn_cls: 0.0101, loss_rpn_bbox: 0.0063, loss_cls: 0.0392, acc: 99.6641, loss_bbox: 0.2635, loss: 0.3191\n",
      "2022-05-26 15:39:16,120 - mmfewshot - INFO - Iter [48200/100000]\tlr: 1.000e-04, eta: 4:46:34, time: 0.268, data_time: 0.012, memory: 5635, loss_rpn_cls: 0.0109, loss_rpn_bbox: 0.0057, loss_cls: 0.0444, acc: 99.6406, loss_bbox: 0.2480, loss: 0.3089\n",
      "2022-05-26 15:39:29,656 - mmfewshot - INFO - Iter [48250/100000]\tlr: 1.000e-04, eta: 4:46:14, time: 0.271, data_time: 0.012, memory: 5635, loss_rpn_cls: 0.0090, loss_rpn_bbox: 0.0061, loss_cls: 0.0419, acc: 99.5781, loss_bbox: 0.2829, loss: 0.3400\n",
      "2022-05-26 15:39:42,991 - mmfewshot - INFO - Iter [48300/100000]\tlr: 1.000e-04, eta: 4:45:54, time: 0.267, data_time: 0.012, memory: 5635, loss_rpn_cls: 0.0091, loss_rpn_bbox: 0.0055, loss_cls: 0.0446, acc: 99.5469, loss_bbox: 0.3049, loss: 0.3641\n",
      "2022-05-26 15:39:56,276 - mmfewshot - INFO - Iter [48350/100000]\tlr: 1.000e-04, eta: 4:45:33, time: 0.266, data_time: 0.011, memory: 5635, loss_rpn_cls: 0.0055, loss_rpn_bbox: 0.0048, loss_cls: 0.0419, acc: 99.6016, loss_bbox: 0.2681, loss: 0.3202\n",
      "2022-05-26 15:40:09,726 - mmfewshot - INFO - Iter [48400/100000]\tlr: 1.000e-04, eta: 4:45:14, time: 0.269, data_time: 0.012, memory: 5635, loss_rpn_cls: 0.0085, loss_rpn_bbox: 0.0077, loss_cls: 0.0342, acc: 99.6406, loss_bbox: 0.2953, loss: 0.3456\n",
      "2022-05-26 15:40:23,018 - mmfewshot - INFO - Iter [48450/100000]\tlr: 1.000e-04, eta: 4:44:53, time: 0.266, data_time: 0.011, memory: 5635, loss_rpn_cls: 0.0071, loss_rpn_bbox: 0.0092, loss_cls: 0.0363, acc: 99.6250, loss_bbox: 0.2922, loss: 0.3449\n",
      "2022-05-26 15:40:36,484 - mmfewshot - INFO - Iter [48500/100000]\tlr: 1.000e-04, eta: 4:44:34, time: 0.270, data_time: 0.012, memory: 5635, loss_rpn_cls: 0.0090, loss_rpn_bbox: 0.0079, loss_cls: 0.0475, acc: 99.5391, loss_bbox: 0.2889, loss: 0.3533\n",
      "2022-05-26 15:40:49,999 - mmfewshot - INFO - Iter [48550/100000]\tlr: 1.000e-04, eta: 4:44:14, time: 0.270, data_time: 0.012, memory: 5635, loss_rpn_cls: 0.0073, loss_rpn_bbox: 0.0060, loss_cls: 0.0379, acc: 99.6328, loss_bbox: 0.3026, loss: 0.3539\n",
      "2022-05-26 15:41:03,501 - mmfewshot - INFO - Iter [48600/100000]\tlr: 1.000e-04, eta: 4:43:54, time: 0.270, data_time: 0.012, memory: 5635, loss_rpn_cls: 0.0081, loss_rpn_bbox: 0.0072, loss_cls: 0.0351, acc: 99.5938, loss_bbox: 0.2778, loss: 0.3282\n",
      "2022-05-26 15:41:16,966 - mmfewshot - INFO - Iter [48650/100000]\tlr: 1.000e-04, eta: 4:43:34, time: 0.269, data_time: 0.012, memory: 5635, loss_rpn_cls: 0.0062, loss_rpn_bbox: 0.0051, loss_cls: 0.0415, acc: 99.6094, loss_bbox: 0.2563, loss: 0.3092\n",
      "2022-05-26 15:41:30,274 - mmfewshot - INFO - Iter [48700/100000]\tlr: 1.000e-04, eta: 4:43:14, time: 0.266, data_time: 0.012, memory: 5635, loss_rpn_cls: 0.0064, loss_rpn_bbox: 0.0069, loss_cls: 0.0363, acc: 99.6953, loss_bbox: 0.2479, loss: 0.2974\n",
      "2022-05-26 15:41:43,618 - mmfewshot - INFO - Iter [48750/100000]\tlr: 1.000e-04, eta: 4:42:54, time: 0.267, data_time: 0.011, memory: 5635, loss_rpn_cls: 0.0087, loss_rpn_bbox: 0.0066, loss_cls: 0.0428, acc: 99.5312, loss_bbox: 0.2850, loss: 0.3432\n",
      "2022-05-26 15:41:56,914 - mmfewshot - INFO - Iter [48800/100000]\tlr: 1.000e-04, eta: 4:42:34, time: 0.266, data_time: 0.011, memory: 5635, loss_rpn_cls: 0.0047, loss_rpn_bbox: 0.0034, loss_cls: 0.0315, acc: 99.7266, loss_bbox: 0.2534, loss: 0.2930\n",
      "2022-05-26 15:42:10,467 - mmfewshot - INFO - Iter [48850/100000]\tlr: 1.000e-04, eta: 4:42:14, time: 0.271, data_time: 0.012, memory: 5635, loss_rpn_cls: 0.0068, loss_rpn_bbox: 0.0057, loss_cls: 0.0440, acc: 99.6562, loss_bbox: 0.2314, loss: 0.2879\n",
      "2022-05-26 15:42:23,766 - mmfewshot - INFO - Iter [48900/100000]\tlr: 1.000e-04, eta: 4:41:54, time: 0.266, data_time: 0.011, memory: 5635, loss_rpn_cls: 0.0075, loss_rpn_bbox: 0.0064, loss_cls: 0.0433, acc: 99.5391, loss_bbox: 0.2820, loss: 0.3392\n",
      "2022-05-26 15:42:37,090 - mmfewshot - INFO - Iter [48950/100000]\tlr: 1.000e-04, eta: 4:41:35, time: 0.266, data_time: 0.012, memory: 5635, loss_rpn_cls: 0.0066, loss_rpn_bbox: 0.0050, loss_cls: 0.0348, acc: 99.6250, loss_bbox: 0.2733, loss: 0.3198\n",
      "2022-05-26 15:42:50,401 - mmfewshot - INFO - Exp name: attention-rpn_r50_c4_tb-split1_1shot-fine-tuning-momentum-09.py\n",
      "2022-05-26 15:42:50,404 - mmfewshot - INFO - Iter [49000/100000]\tlr: 1.000e-04, eta: 4:41:15, time: 0.266, data_time: 0.011, memory: 5635, loss_rpn_cls: 0.0079, loss_rpn_bbox: 0.0073, loss_cls: 0.0280, acc: 99.7656, loss_bbox: 0.2782, loss: 0.3214\n",
      "2022-05-26 15:42:50,409 - mmdet - INFO - starting model initialization...\n"
     ]
    },
    {
     "name": "stdout",
     "output_type": "stream",
     "text": [
      "[>>>>>>>>>>>>>>>>>>>>>>>>>>>>>>] 640/640, 80.7 task/s, elapsed: 8s, ETA:     0s"
     ]
    },
    {
     "name": "stderr",
     "output_type": "stream",
     "text": [
      "2022-05-26 15:42:58,426 - mmdet - INFO - model initialization done.\n"
     ]
    },
    {
     "name": "stdout",
     "output_type": "stream",
     "text": [
      "[>>>>>>>>>>>>>>>>>>>>>>>>>>>>>] 712/712, 12.6 task/s, elapsed: 56s, ETA:     0s\n",
      "---------------iou_thr: 0.5---------------\n"
     ]
    },
    {
     "name": "stderr",
     "output_type": "stream",
     "text": [
      "2022-05-26 15:43:55,341 - mmfewshot - INFO - \n",
      "+----------+-----+------+--------+-------+\n",
      "| class    | gts | dets | recall | ap    |\n",
      "+----------+-----+------+--------+-------+\n",
      "| 7up      | 810 | 2920 | 0.662  | 0.348 |\n",
      "| BudLight | 209 | 373  | 0.426  | 0.245 |\n",
      "+----------+-----+------+--------+-------+\n",
      "| mAP      |     |      |        | 0.297 |\n",
      "+----------+-----+------+--------+-------+\n",
      "2022-05-26 15:43:55,343 - mmfewshot - INFO - BASE_CLASSES_SPLIT1 mAP: 0.29653283953666687\n",
      "2022-05-26 15:43:55,344 - mmfewshot - INFO - NOVEL_CLASSES_SPLIT1 mAP: nan\n",
      "2022-05-26 15:43:55,348 - mmfewshot - INFO - Exp name: attention-rpn_r50_c4_tb-split1_1shot-fine-tuning-momentum-09.py\n",
      "2022-05-26 15:43:55,351 - mmfewshot - INFO - Iter(val) [712]\tAP50: 0.2970, BASE_CLASSES_SPLIT1: AP50: 0.2970, NOVEL_CLASSES_SPLIT1: AP50: nan, mAP: 0.2965\n",
      "2022-05-26 15:44:08,830 - mmfewshot - INFO - Iter [49050/100000]\tlr: 1.000e-04, eta: 4:42:02, time: 1.569, data_time: 1.311, memory: 5635, loss_rpn_cls: 0.0071, loss_rpn_bbox: 0.0042, loss_cls: 0.0298, acc: 99.6406, loss_bbox: 0.2838, loss: 0.3249\n",
      "2022-05-26 15:44:22,155 - mmfewshot - INFO - Iter [49100/100000]\tlr: 1.000e-04, eta: 4:41:42, time: 0.266, data_time: 0.012, memory: 5635, loss_rpn_cls: 0.0077, loss_rpn_bbox: 0.0061, loss_cls: 0.0403, acc: 99.5312, loss_bbox: 0.3248, loss: 0.3789\n",
      "2022-05-26 15:44:35,572 - mmfewshot - INFO - Iter [49150/100000]\tlr: 1.000e-04, eta: 4:41:22, time: 0.268, data_time: 0.011, memory: 5635, loss_rpn_cls: 0.0064, loss_rpn_bbox: 0.0053, loss_cls: 0.0510, acc: 99.6484, loss_bbox: 0.2911, loss: 0.3538\n",
      "2022-05-26 15:44:49,042 - mmfewshot - INFO - Iter [49200/100000]\tlr: 1.000e-04, eta: 4:41:03, time: 0.269, data_time: 0.012, memory: 5635, loss_rpn_cls: 0.0051, loss_rpn_bbox: 0.0059, loss_cls: 0.0398, acc: 99.5625, loss_bbox: 0.3119, loss: 0.3628\n",
      "2022-05-26 15:45:02,352 - mmfewshot - INFO - Iter [49250/100000]\tlr: 1.000e-04, eta: 4:40:43, time: 0.266, data_time: 0.012, memory: 5635, loss_rpn_cls: 0.0116, loss_rpn_bbox: 0.0074, loss_cls: 0.0329, acc: 99.6641, loss_bbox: 0.3025, loss: 0.3544\n",
      "2022-05-26 15:45:15,588 - mmfewshot - INFO - Iter [49300/100000]\tlr: 1.000e-04, eta: 4:40:23, time: 0.265, data_time: 0.011, memory: 5635, loss_rpn_cls: 0.0076, loss_rpn_bbox: 0.0064, loss_cls: 0.0679, acc: 99.7266, loss_bbox: 0.2546, loss: 0.3365\n",
      "2022-05-26 15:45:29,136 - mmfewshot - INFO - Iter [49350/100000]\tlr: 1.000e-04, eta: 4:40:03, time: 0.271, data_time: 0.012, memory: 5635, loss_rpn_cls: 0.0058, loss_rpn_bbox: 0.0045, loss_cls: 0.0388, acc: 99.6328, loss_bbox: 0.2644, loss: 0.3134\n",
      "2022-05-26 15:45:42,547 - mmfewshot - INFO - Iter [49400/100000]\tlr: 1.000e-04, eta: 4:39:43, time: 0.268, data_time: 0.012, memory: 5635, loss_rpn_cls: 0.0057, loss_rpn_bbox: 0.0041, loss_cls: 0.0308, acc: 99.6172, loss_bbox: 0.2744, loss: 0.3150\n",
      "2022-05-26 15:45:55,950 - mmfewshot - INFO - Iter [49450/100000]\tlr: 1.000e-04, eta: 4:39:23, time: 0.268, data_time: 0.012, memory: 5635, loss_rpn_cls: 0.0080, loss_rpn_bbox: 0.0059, loss_cls: 0.0398, acc: 99.5547, loss_bbox: 0.2987, loss: 0.3523\n",
      "2022-05-26 15:46:09,111 - mmfewshot - INFO - Iter [49500/100000]\tlr: 1.000e-04, eta: 4:39:03, time: 0.263, data_time: 0.011, memory: 5635, loss_rpn_cls: 0.0059, loss_rpn_bbox: 0.0044, loss_cls: 0.0289, acc: 99.6875, loss_bbox: 0.2854, loss: 0.3246\n",
      "2022-05-26 15:46:22,467 - mmfewshot - INFO - Iter [49550/100000]\tlr: 1.000e-04, eta: 4:38:43, time: 0.267, data_time: 0.011, memory: 5635, loss_rpn_cls: 0.0092, loss_rpn_bbox: 0.0078, loss_cls: 0.0472, acc: 99.5312, loss_bbox: 0.2587, loss: 0.3229\n",
      "2022-05-26 15:46:35,873 - mmfewshot - INFO - Iter [49600/100000]\tlr: 1.000e-04, eta: 4:38:23, time: 0.268, data_time: 0.011, memory: 5635, loss_rpn_cls: 0.0098, loss_rpn_bbox: 0.0068, loss_cls: 0.0314, acc: 99.6875, loss_bbox: 0.2910, loss: 0.3390\n",
      "2022-05-26 15:46:49,198 - mmfewshot - INFO - Iter [49650/100000]\tlr: 1.000e-04, eta: 4:38:04, time: 0.266, data_time: 0.011, memory: 5635, loss_rpn_cls: 0.0052, loss_rpn_bbox: 0.0054, loss_cls: 0.0365, acc: 99.6484, loss_bbox: 0.2982, loss: 0.3453\n",
      "2022-05-26 15:47:02,535 - mmfewshot - INFO - Iter [49700/100000]\tlr: 1.000e-04, eta: 4:37:44, time: 0.267, data_time: 0.011, memory: 5635, loss_rpn_cls: 0.0080, loss_rpn_bbox: 0.0080, loss_cls: 0.0379, acc: 99.6719, loss_bbox: 0.2910, loss: 0.3449\n",
      "2022-05-26 15:47:15,985 - mmfewshot - INFO - Iter [49750/100000]\tlr: 1.000e-04, eta: 4:37:24, time: 0.269, data_time: 0.012, memory: 5635, loss_rpn_cls: 0.0083, loss_rpn_bbox: 0.0053, loss_cls: 0.0399, acc: 99.6328, loss_bbox: 0.2452, loss: 0.2987\n",
      "2022-05-26 15:47:29,344 - mmfewshot - INFO - Iter [49800/100000]\tlr: 1.000e-04, eta: 4:37:04, time: 0.267, data_time: 0.012, memory: 5635, loss_rpn_cls: 0.0067, loss_rpn_bbox: 0.0039, loss_cls: 0.0381, acc: 99.7031, loss_bbox: 0.2795, loss: 0.3282\n",
      "2022-05-26 15:47:42,810 - mmfewshot - INFO - Iter [49850/100000]\tlr: 1.000e-04, eta: 4:36:45, time: 0.269, data_time: 0.012, memory: 5635, loss_rpn_cls: 0.0101, loss_rpn_bbox: 0.0038, loss_cls: 0.0361, acc: 99.7031, loss_bbox: 0.2794, loss: 0.3294\n",
      "2022-05-26 15:47:56,129 - mmfewshot - INFO - Iter [49900/100000]\tlr: 1.000e-04, eta: 4:36:25, time: 0.266, data_time: 0.011, memory: 5635, loss_rpn_cls: 0.0072, loss_rpn_bbox: 0.0055, loss_cls: 0.0433, acc: 99.5078, loss_bbox: 0.2963, loss: 0.3523\n",
      "2022-05-26 15:48:09,275 - mmfewshot - INFO - Iter [49950/100000]\tlr: 1.000e-04, eta: 4:36:05, time: 0.263, data_time: 0.010, memory: 5635, loss_rpn_cls: 0.0064, loss_rpn_bbox: 0.0039, loss_cls: 0.0318, acc: 99.7422, loss_bbox: 0.2851, loss: 0.3272\n",
      "2022-05-26 15:48:22,302 - mmfewshot - INFO - Saving checkpoint at 50000 iterations\n",
      "2022-05-26 15:48:23,835 - mmfewshot - INFO - Exp name: attention-rpn_r50_c4_tb-split1_1shot-fine-tuning-momentum-09.py\n",
      "2022-05-26 15:48:23,836 - mmfewshot - INFO - Iter [50000/100000]\tlr: 1.000e-04, eta: 4:35:46, time: 0.294, data_time: 0.010, memory: 5635, loss_rpn_cls: 0.0102, loss_rpn_bbox: 0.0076, loss_cls: 0.0375, acc: 99.6406, loss_bbox: 0.2847, loss: 0.3400\n",
      "2022-05-26 15:48:23,841 - mmdet - INFO - starting model initialization...\n"
     ]
    },
    {
     "name": "stdout",
     "output_type": "stream",
     "text": [
      "[>>>>>>>>>>>>>>>>>>>>>>>>>>>>>>] 640/640, 74.8 task/s, elapsed: 9s, ETA:     0s"
     ]
    },
    {
     "name": "stderr",
     "output_type": "stream",
     "text": [
      "2022-05-26 15:48:32,484 - mmdet - INFO - model initialization done.\n"
     ]
    },
    {
     "name": "stdout",
     "output_type": "stream",
     "text": [
      "[>>>>>>>>>>>>>>>>>>>>>>>>>>>>>] 712/712, 12.8 task/s, elapsed: 56s, ETA:     0s\n",
      "---------------iou_thr: 0.5---------------\n"
     ]
    },
    {
     "name": "stderr",
     "output_type": "stream",
     "text": [
      "2022-05-26 15:49:28,756 - mmfewshot - INFO - \n",
      "+----------+-----+------+--------+-------+\n",
      "| class    | gts | dets | recall | ap    |\n",
      "+----------+-----+------+--------+-------+\n",
      "| 7up      | 810 | 3613 | 0.704  | 0.378 |\n",
      "| BudLight | 209 | 552  | 0.502  | 0.263 |\n",
      "+----------+-----+------+--------+-------+\n",
      "| mAP      |     |      |        | 0.321 |\n",
      "+----------+-----+------+--------+-------+\n",
      "2022-05-26 15:49:28,759 - mmfewshot - INFO - BASE_CLASSES_SPLIT1 mAP: 0.3205280900001526\n",
      "2022-05-26 15:49:28,760 - mmfewshot - INFO - NOVEL_CLASSES_SPLIT1 mAP: nan\n",
      "2022-05-26 15:49:28,765 - mmfewshot - INFO - Exp name: attention-rpn_r50_c4_tb-split1_1shot-fine-tuning-momentum-09.py\n",
      "2022-05-26 15:49:28,766 - mmfewshot - INFO - Iter(val) [712]\tAP50: 0.3210, BASE_CLASSES_SPLIT1: AP50: 0.3210, NOVEL_CLASSES_SPLIT1: AP50: nan, mAP: 0.3205\n",
      "2022-05-26 15:49:42,415 - mmfewshot - INFO - Iter [50050/100000]\tlr: 1.000e-04, eta: 4:36:32, time: 1.569, data_time: 1.308, memory: 5635, loss_rpn_cls: 0.0075, loss_rpn_bbox: 0.0052, loss_cls: 0.0304, acc: 99.6875, loss_bbox: 0.2702, loss: 0.3133\n",
      "2022-05-26 15:49:55,886 - mmfewshot - INFO - Iter [50100/100000]\tlr: 1.000e-04, eta: 4:36:12, time: 0.270, data_time: 0.012, memory: 5635, loss_rpn_cls: 0.0065, loss_rpn_bbox: 0.0046, loss_cls: 0.0445, acc: 99.5703, loss_bbox: 0.2995, loss: 0.3550\n",
      "2022-05-26 15:50:09,272 - mmfewshot - INFO - Iter [50150/100000]\tlr: 1.000e-04, eta: 4:35:52, time: 0.267, data_time: 0.012, memory: 5635, loss_rpn_cls: 0.0074, loss_rpn_bbox: 0.0043, loss_cls: 0.0489, acc: 99.5391, loss_bbox: 0.2858, loss: 0.3464\n",
      "2022-05-26 15:50:22,625 - mmfewshot - INFO - Iter [50200/100000]\tlr: 1.000e-04, eta: 4:35:32, time: 0.267, data_time: 0.011, memory: 5635, loss_rpn_cls: 0.0059, loss_rpn_bbox: 0.0044, loss_cls: 0.0394, acc: 99.5703, loss_bbox: 0.3168, loss: 0.3665\n",
      "2022-05-26 15:50:36,035 - mmfewshot - INFO - Iter [50250/100000]\tlr: 1.000e-04, eta: 4:35:13, time: 0.268, data_time: 0.012, memory: 5635, loss_rpn_cls: 0.0066, loss_rpn_bbox: 0.0043, loss_cls: 0.0376, acc: 99.6719, loss_bbox: 0.2888, loss: 0.3374\n",
      "2022-05-26 15:50:49,334 - mmfewshot - INFO - Iter [50300/100000]\tlr: 1.000e-04, eta: 4:34:53, time: 0.266, data_time: 0.012, memory: 5635, loss_rpn_cls: 0.0060, loss_rpn_bbox: 0.0057, loss_cls: 0.0405, acc: 99.6484, loss_bbox: 0.2567, loss: 0.3088\n",
      "2022-05-26 15:51:02,899 - mmfewshot - INFO - Iter [50350/100000]\tlr: 1.000e-04, eta: 4:34:33, time: 0.271, data_time: 0.012, memory: 5635, loss_rpn_cls: 0.0059, loss_rpn_bbox: 0.0059, loss_cls: 0.0426, acc: 99.6406, loss_bbox: 0.2811, loss: 0.3355\n",
      "2022-05-26 15:51:16,268 - mmfewshot - INFO - Iter [50400/100000]\tlr: 1.000e-04, eta: 4:34:13, time: 0.267, data_time: 0.012, memory: 5635, loss_rpn_cls: 0.0054, loss_rpn_bbox: 0.0048, loss_cls: 0.0328, acc: 99.6797, loss_bbox: 0.2567, loss: 0.2998\n",
      "2022-05-26 15:51:29,745 - mmfewshot - INFO - Iter [50450/100000]\tlr: 1.000e-04, eta: 4:33:54, time: 0.270, data_time: 0.011, memory: 5635, loss_rpn_cls: 0.0080, loss_rpn_bbox: 0.0068, loss_cls: 0.0378, acc: 99.6328, loss_bbox: 0.3101, loss: 0.3627\n",
      "2022-05-26 15:51:43,106 - mmfewshot - INFO - Iter [50500/100000]\tlr: 1.000e-04, eta: 4:33:34, time: 0.267, data_time: 0.012, memory: 5635, loss_rpn_cls: 0.0063, loss_rpn_bbox: 0.0052, loss_cls: 0.0350, acc: 99.6016, loss_bbox: 0.3041, loss: 0.3505\n",
      "2022-05-26 15:51:56,219 - mmfewshot - INFO - Iter [50550/100000]\tlr: 1.000e-04, eta: 4:33:14, time: 0.263, data_time: 0.010, memory: 5635, loss_rpn_cls: 0.0069, loss_rpn_bbox: 0.0046, loss_cls: 0.0371, acc: 99.5703, loss_bbox: 0.3048, loss: 0.3533\n",
      "2022-05-26 15:52:09,696 - mmfewshot - INFO - Iter [50600/100000]\tlr: 1.000e-04, eta: 4:32:54, time: 0.269, data_time: 0.011, memory: 5635, loss_rpn_cls: 0.0138, loss_rpn_bbox: 0.0062, loss_cls: 0.0331, acc: 99.7188, loss_bbox: 0.2491, loss: 0.3023\n",
      "2022-05-26 15:52:23,050 - mmfewshot - INFO - Iter [50650/100000]\tlr: 1.000e-04, eta: 4:32:35, time: 0.267, data_time: 0.012, memory: 5635, loss_rpn_cls: 0.0066, loss_rpn_bbox: 0.0054, loss_cls: 0.0333, acc: 99.6328, loss_bbox: 0.2994, loss: 0.3446\n",
      "2022-05-26 15:52:36,481 - mmfewshot - INFO - Iter [50700/100000]\tlr: 1.000e-04, eta: 4:32:15, time: 0.268, data_time: 0.011, memory: 5635, loss_rpn_cls: 0.0072, loss_rpn_bbox: 0.0065, loss_cls: 0.0538, acc: 99.5781, loss_bbox: 0.2945, loss: 0.3619\n",
      "2022-05-26 15:52:49,817 - mmfewshot - INFO - Iter [50750/100000]\tlr: 1.000e-04, eta: 4:31:55, time: 0.267, data_time: 0.011, memory: 5635, loss_rpn_cls: 0.0073, loss_rpn_bbox: 0.0065, loss_cls: 0.0408, acc: 99.6484, loss_bbox: 0.2825, loss: 0.3371\n",
      "2022-05-26 15:53:03,199 - mmfewshot - INFO - Iter [50800/100000]\tlr: 1.000e-04, eta: 4:31:36, time: 0.267, data_time: 0.012, memory: 5635, loss_rpn_cls: 0.0103, loss_rpn_bbox: 0.0067, loss_cls: 0.0248, acc: 99.7188, loss_bbox: 0.3183, loss: 0.3601\n",
      "2022-05-26 15:53:16,527 - mmfewshot - INFO - Iter [50850/100000]\tlr: 1.000e-04, eta: 4:31:16, time: 0.266, data_time: 0.012, memory: 5635, loss_rpn_cls: 0.0069, loss_rpn_bbox: 0.0067, loss_cls: 0.0588, acc: 99.4766, loss_bbox: 0.2922, loss: 0.3646\n",
      "2022-05-26 15:53:29,810 - mmfewshot - INFO - Iter [50900/100000]\tlr: 1.000e-04, eta: 4:30:56, time: 0.266, data_time: 0.012, memory: 5635, loss_rpn_cls: 0.0064, loss_rpn_bbox: 0.0043, loss_cls: 0.0345, acc: 99.6172, loss_bbox: 0.2890, loss: 0.3342\n",
      "2022-05-26 15:53:43,313 - mmfewshot - INFO - Iter [50950/100000]\tlr: 1.000e-04, eta: 4:30:37, time: 0.270, data_time: 0.012, memory: 5635, loss_rpn_cls: 0.0084, loss_rpn_bbox: 0.0039, loss_cls: 0.0349, acc: 99.7109, loss_bbox: 0.2517, loss: 0.2989\n",
      "2022-05-26 15:53:56,702 - mmfewshot - INFO - Exp name: attention-rpn_r50_c4_tb-split1_1shot-fine-tuning-momentum-09.py\n",
      "2022-05-26 15:53:56,704 - mmfewshot - INFO - Iter [51000/100000]\tlr: 1.000e-04, eta: 4:30:17, time: 0.268, data_time: 0.012, memory: 5635, loss_rpn_cls: 0.0056, loss_rpn_bbox: 0.0071, loss_cls: 0.0400, acc: 99.5938, loss_bbox: 0.3141, loss: 0.3668\n",
      "2022-05-26 15:53:56,709 - mmdet - INFO - starting model initialization...\n"
     ]
    },
    {
     "name": "stdout",
     "output_type": "stream",
     "text": [
      "[>>>>>>>>>>>>>>>>>>>>>>>>>>>>>>] 640/640, 77.8 task/s, elapsed: 8s, ETA:     0s"
     ]
    },
    {
     "name": "stderr",
     "output_type": "stream",
     "text": [
      "2022-05-26 15:54:05,007 - mmdet - INFO - model initialization done.\n"
     ]
    },
    {
     "name": "stdout",
     "output_type": "stream",
     "text": [
      "[>>>>>>>>>>>>>>>>>>>>>>>>>>>>>] 712/712, 12.6 task/s, elapsed: 57s, ETA:     0s\n",
      "---------------iou_thr: 0.5---------------\n"
     ]
    },
    {
     "name": "stderr",
     "output_type": "stream",
     "text": [
      "2022-05-26 15:55:02,154 - mmfewshot - INFO - \n",
      "+----------+-----+------+--------+-------+\n",
      "| class    | gts | dets | recall | ap    |\n",
      "+----------+-----+------+--------+-------+\n",
      "| 7up      | 810 | 3527 | 0.677  | 0.341 |\n",
      "| BudLight | 209 | 476  | 0.455  | 0.232 |\n",
      "+----------+-----+------+--------+-------+\n",
      "| mAP      |     |      |        | 0.286 |\n",
      "+----------+-----+------+--------+-------+\n",
      "2022-05-26 15:55:02,157 - mmfewshot - INFO - BASE_CLASSES_SPLIT1 mAP: 0.2863195836544037\n",
      "2022-05-26 15:55:02,158 - mmfewshot - INFO - NOVEL_CLASSES_SPLIT1 mAP: nan\n",
      "2022-05-26 15:55:02,164 - mmfewshot - INFO - Exp name: attention-rpn_r50_c4_tb-split1_1shot-fine-tuning-momentum-09.py\n",
      "2022-05-26 15:55:02,165 - mmfewshot - INFO - Iter(val) [712]\tAP50: 0.2860, BASE_CLASSES_SPLIT1: AP50: 0.2860, NOVEL_CLASSES_SPLIT1: AP50: nan, mAP: 0.2863\n",
      "2022-05-26 15:55:15,672 - mmfewshot - INFO - Iter [51050/100000]\tlr: 1.000e-04, eta: 4:31:01, time: 1.579, data_time: 1.321, memory: 5635, loss_rpn_cls: 0.0072, loss_rpn_bbox: 0.0055, loss_cls: 0.0467, acc: 99.5547, loss_bbox: 0.2615, loss: 0.3209\n",
      "2022-05-26 15:55:29,194 - mmfewshot - INFO - Iter [51100/100000]\tlr: 1.000e-04, eta: 4:30:41, time: 0.271, data_time: 0.013, memory: 5635, loss_rpn_cls: 0.0071, loss_rpn_bbox: 0.0069, loss_cls: 0.0316, acc: 99.6641, loss_bbox: 0.2849, loss: 0.3304\n",
      "2022-05-26 15:55:42,577 - mmfewshot - INFO - Iter [51150/100000]\tlr: 1.000e-04, eta: 4:30:21, time: 0.268, data_time: 0.012, memory: 5635, loss_rpn_cls: 0.0072, loss_rpn_bbox: 0.0055, loss_cls: 0.0303, acc: 99.6250, loss_bbox: 0.3093, loss: 0.3523\n",
      "2022-05-26 15:55:55,943 - mmfewshot - INFO - Iter [51200/100000]\tlr: 1.000e-04, eta: 4:30:02, time: 0.267, data_time: 0.012, memory: 5635, loss_rpn_cls: 0.0054, loss_rpn_bbox: 0.0054, loss_cls: 0.0389, acc: 99.6016, loss_bbox: 0.2974, loss: 0.3470\n",
      "2022-05-26 15:56:09,287 - mmfewshot - INFO - Iter [51250/100000]\tlr: 1.000e-04, eta: 4:29:42, time: 0.266, data_time: 0.010, memory: 5635, loss_rpn_cls: 0.0046, loss_rpn_bbox: 0.0045, loss_cls: 0.0419, acc: 99.5625, loss_bbox: 0.2756, loss: 0.3266\n",
      "2022-05-26 15:56:22,762 - mmfewshot - INFO - Iter [51300/100000]\tlr: 1.000e-04, eta: 4:29:22, time: 0.270, data_time: 0.012, memory: 5635, loss_rpn_cls: 0.0062, loss_rpn_bbox: 0.0058, loss_cls: 0.0296, acc: 99.6641, loss_bbox: 0.2983, loss: 0.3398\n",
      "2022-05-26 15:56:36,218 - mmfewshot - INFO - Iter [51350/100000]\tlr: 1.000e-04, eta: 4:29:03, time: 0.269, data_time: 0.012, memory: 5635, loss_rpn_cls: 0.0079, loss_rpn_bbox: 0.0051, loss_cls: 0.0426, acc: 99.6484, loss_bbox: 0.2709, loss: 0.3266\n",
      "2022-05-26 15:56:49,558 - mmfewshot - INFO - Iter [51400/100000]\tlr: 1.000e-04, eta: 4:28:43, time: 0.267, data_time: 0.011, memory: 5635, loss_rpn_cls: 0.0060, loss_rpn_bbox: 0.0044, loss_cls: 0.0447, acc: 99.5156, loss_bbox: 0.2853, loss: 0.3404\n",
      "2022-05-26 15:57:03,024 - mmfewshot - INFO - Iter [51450/100000]\tlr: 1.000e-04, eta: 4:28:24, time: 0.269, data_time: 0.012, memory: 5635, loss_rpn_cls: 0.0058, loss_rpn_bbox: 0.0049, loss_cls: 0.0324, acc: 99.6641, loss_bbox: 0.2974, loss: 0.3405\n",
      "2022-05-26 15:57:16,528 - mmfewshot - INFO - Iter [51500/100000]\tlr: 1.000e-04, eta: 4:28:04, time: 0.270, data_time: 0.012, memory: 5635, loss_rpn_cls: 0.0064, loss_rpn_bbox: 0.0045, loss_cls: 0.0366, acc: 99.6797, loss_bbox: 0.2712, loss: 0.3187\n",
      "2022-05-26 15:57:30,052 - mmfewshot - INFO - Iter [51550/100000]\tlr: 1.000e-04, eta: 4:27:45, time: 0.270, data_time: 0.012, memory: 5635, loss_rpn_cls: 0.0064, loss_rpn_bbox: 0.0042, loss_cls: 0.0550, acc: 99.5938, loss_bbox: 0.2861, loss: 0.3516\n",
      "2022-05-26 15:57:43,551 - mmfewshot - INFO - Iter [51600/100000]\tlr: 1.000e-04, eta: 4:27:25, time: 0.270, data_time: 0.011, memory: 5635, loss_rpn_cls: 0.0069, loss_rpn_bbox: 0.0050, loss_cls: 0.0409, acc: 99.6016, loss_bbox: 0.3032, loss: 0.3560\n",
      "2022-05-26 15:57:56,962 - mmfewshot - INFO - Iter [51650/100000]\tlr: 1.000e-04, eta: 4:27:06, time: 0.268, data_time: 0.012, memory: 5635, loss_rpn_cls: 0.0084, loss_rpn_bbox: 0.0051, loss_cls: 0.0291, acc: 99.7109, loss_bbox: 0.2778, loss: 0.3204\n",
      "2022-05-26 15:58:10,329 - mmfewshot - INFO - Iter [51700/100000]\tlr: 1.000e-04, eta: 4:26:46, time: 0.267, data_time: 0.012, memory: 5635, loss_rpn_cls: 0.0100, loss_rpn_bbox: 0.0087, loss_cls: 0.0368, acc: 99.6875, loss_bbox: 0.2883, loss: 0.3438\n",
      "2022-05-26 15:58:23,859 - mmfewshot - INFO - Iter [51750/100000]\tlr: 1.000e-04, eta: 4:26:27, time: 0.270, data_time: 0.012, memory: 5635, loss_rpn_cls: 0.0069, loss_rpn_bbox: 0.0065, loss_cls: 0.0405, acc: 99.5781, loss_bbox: 0.3039, loss: 0.3578\n",
      "2022-05-26 15:58:37,483 - mmfewshot - INFO - Iter [51800/100000]\tlr: 1.000e-04, eta: 4:26:07, time: 0.273, data_time: 0.012, memory: 5635, loss_rpn_cls: 0.0058, loss_rpn_bbox: 0.0049, loss_cls: 0.0274, acc: 99.7344, loss_bbox: 0.2685, loss: 0.3066\n",
      "2022-05-26 15:58:50,856 - mmfewshot - INFO - Iter [51850/100000]\tlr: 1.000e-04, eta: 4:25:48, time: 0.267, data_time: 0.012, memory: 5635, loss_rpn_cls: 0.0077, loss_rpn_bbox: 0.0051, loss_cls: 0.0322, acc: 99.6797, loss_bbox: 0.2681, loss: 0.3132\n",
      "2022-05-26 15:59:04,152 - mmfewshot - INFO - Iter [51900/100000]\tlr: 1.000e-04, eta: 4:25:28, time: 0.266, data_time: 0.012, memory: 5635, loss_rpn_cls: 0.0073, loss_rpn_bbox: 0.0046, loss_cls: 0.0388, acc: 99.6406, loss_bbox: 0.2803, loss: 0.3309\n",
      "2022-05-26 15:59:17,717 - mmfewshot - INFO - Iter [51950/100000]\tlr: 1.000e-04, eta: 4:25:09, time: 0.271, data_time: 0.012, memory: 5635, loss_rpn_cls: 0.0059, loss_rpn_bbox: 0.0083, loss_cls: 0.0319, acc: 99.7109, loss_bbox: 0.2820, loss: 0.3280\n",
      "2022-05-26 15:59:31,159 - mmfewshot - INFO - Exp name: attention-rpn_r50_c4_tb-split1_1shot-fine-tuning-momentum-09.py\n",
      "2022-05-26 15:59:31,161 - mmfewshot - INFO - Iter [52000/100000]\tlr: 1.000e-04, eta: 4:24:49, time: 0.269, data_time: 0.011, memory: 5635, loss_rpn_cls: 0.0078, loss_rpn_bbox: 0.0049, loss_cls: 0.0466, acc: 99.5391, loss_bbox: 0.2946, loss: 0.3540\n",
      "2022-05-26 15:59:31,166 - mmdet - INFO - starting model initialization...\n"
     ]
    },
    {
     "name": "stdout",
     "output_type": "stream",
     "text": [
      "[>>>>>>>>>>>>>>>>>>>>>>>>>>>>>>] 640/640, 73.5 task/s, elapsed: 9s, ETA:     0s"
     ]
    },
    {
     "name": "stderr",
     "output_type": "stream",
     "text": [
      "2022-05-26 15:59:39,957 - mmdet - INFO - model initialization done.\n"
     ]
    },
    {
     "name": "stdout",
     "output_type": "stream",
     "text": [
      "[>>>>>>>>>>>>>>>>>>>>>>>>>>>>>] 712/712, 12.7 task/s, elapsed: 56s, ETA:     0s\n",
      "---------------iou_thr: 0.5---------------\n"
     ]
    },
    {
     "name": "stderr",
     "output_type": "stream",
     "text": [
      "2022-05-26 16:00:36,466 - mmfewshot - INFO - \n",
      "+----------+-----+------+--------+-------+\n",
      "| class    | gts | dets | recall | ap    |\n",
      "+----------+-----+------+--------+-------+\n",
      "| 7up      | 810 | 3455 | 0.686  | 0.341 |\n",
      "| BudLight | 209 | 538  | 0.517  | 0.272 |\n",
      "+----------+-----+------+--------+-------+\n",
      "| mAP      |     |      |        | 0.307 |\n",
      "+----------+-----+------+--------+-------+\n",
      "2022-05-26 16:00:36,470 - mmfewshot - INFO - BASE_CLASSES_SPLIT1 mAP: 0.3067159056663513\n",
      "2022-05-26 16:00:36,471 - mmfewshot - INFO - NOVEL_CLASSES_SPLIT1 mAP: nan\n",
      "2022-05-26 16:00:36,476 - mmfewshot - INFO - Exp name: attention-rpn_r50_c4_tb-split1_1shot-fine-tuning-momentum-09.py\n",
      "2022-05-26 16:00:36,477 - mmfewshot - INFO - Iter(val) [712]\tAP50: 0.3070, BASE_CLASSES_SPLIT1: AP50: 0.3070, NOVEL_CLASSES_SPLIT1: AP50: nan, mAP: 0.3067\n",
      "2022-05-26 16:00:49,948 - mmfewshot - INFO - Iter [52050/100000]\tlr: 1.000e-04, eta: 4:25:30, time: 1.575, data_time: 1.318, memory: 5635, loss_rpn_cls: 0.0065, loss_rpn_bbox: 0.0073, loss_cls: 0.0286, acc: 99.7266, loss_bbox: 0.2992, loss: 0.3417\n",
      "2022-05-26 16:01:03,248 - mmfewshot - INFO - Iter [52100/100000]\tlr: 1.000e-04, eta: 4:25:11, time: 0.266, data_time: 0.010, memory: 5635, loss_rpn_cls: 0.0092, loss_rpn_bbox: 0.0083, loss_cls: 0.0289, acc: 99.7109, loss_bbox: 0.2847, loss: 0.3311\n",
      "2022-05-26 16:01:16,784 - mmfewshot - INFO - Iter [52150/100000]\tlr: 1.000e-04, eta: 4:24:51, time: 0.271, data_time: 0.012, memory: 5635, loss_rpn_cls: 0.0068, loss_rpn_bbox: 0.0063, loss_cls: 0.0421, acc: 99.5859, loss_bbox: 0.3080, loss: 0.3632\n",
      "2022-05-26 16:01:30,131 - mmfewshot - INFO - Iter [52200/100000]\tlr: 1.000e-04, eta: 4:24:32, time: 0.267, data_time: 0.012, memory: 5635, loss_rpn_cls: 0.0095, loss_rpn_bbox: 0.0076, loss_cls: 0.0295, acc: 99.6797, loss_bbox: 0.2629, loss: 0.3096\n",
      "2022-05-26 16:01:43,679 - mmfewshot - INFO - Iter [52250/100000]\tlr: 1.000e-04, eta: 4:24:12, time: 0.271, data_time: 0.012, memory: 5635, loss_rpn_cls: 0.0059, loss_rpn_bbox: 0.0038, loss_cls: 0.0868, acc: 99.4844, loss_bbox: 0.2966, loss: 0.3932\n",
      "2022-05-26 16:01:57,129 - mmfewshot - INFO - Iter [52300/100000]\tlr: 1.000e-04, eta: 4:23:53, time: 0.269, data_time: 0.013, memory: 5635, loss_rpn_cls: 0.0088, loss_rpn_bbox: 0.0083, loss_cls: 0.0397, acc: 99.6250, loss_bbox: 0.2741, loss: 0.3309\n",
      "2022-05-26 16:02:10,366 - mmfewshot - INFO - Iter [52350/100000]\tlr: 1.000e-04, eta: 4:23:33, time: 0.265, data_time: 0.011, memory: 5635, loss_rpn_cls: 0.0057, loss_rpn_bbox: 0.0043, loss_cls: 0.0432, acc: 99.6016, loss_bbox: 0.2822, loss: 0.3354\n",
      "2022-05-26 16:02:23,683 - mmfewshot - INFO - Iter [52400/100000]\tlr: 1.000e-04, eta: 4:23:13, time: 0.266, data_time: 0.011, memory: 5635, loss_rpn_cls: 0.0075, loss_rpn_bbox: 0.0070, loss_cls: 0.0372, acc: 99.6172, loss_bbox: 0.2827, loss: 0.3344\n",
      "2022-05-26 16:02:37,033 - mmfewshot - INFO - Iter [52450/100000]\tlr: 1.000e-04, eta: 4:22:54, time: 0.267, data_time: 0.011, memory: 5635, loss_rpn_cls: 0.0071, loss_rpn_bbox: 0.0045, loss_cls: 0.0458, acc: 99.5703, loss_bbox: 0.3083, loss: 0.3657\n",
      "2022-05-26 16:02:50,344 - mmfewshot - INFO - Iter [52500/100000]\tlr: 1.000e-04, eta: 4:22:34, time: 0.266, data_time: 0.011, memory: 5635, loss_rpn_cls: 0.0064, loss_rpn_bbox: 0.0038, loss_cls: 0.0308, acc: 99.7109, loss_bbox: 0.2790, loss: 0.3199\n",
      "2022-05-26 16:03:03,577 - mmfewshot - INFO - Iter [52550/100000]\tlr: 1.000e-04, eta: 4:22:15, time: 0.265, data_time: 0.011, memory: 5635, loss_rpn_cls: 0.0074, loss_rpn_bbox: 0.0070, loss_cls: 0.0369, acc: 99.6875, loss_bbox: 0.2614, loss: 0.3127\n",
      "2022-05-26 16:03:17,010 - mmfewshot - INFO - Iter [52600/100000]\tlr: 1.000e-04, eta: 4:21:55, time: 0.269, data_time: 0.012, memory: 5635, loss_rpn_cls: 0.0076, loss_rpn_bbox: 0.0052, loss_cls: 0.0327, acc: 99.6797, loss_bbox: 0.3008, loss: 0.3463\n",
      "2022-05-26 16:03:30,356 - mmfewshot - INFO - Iter [52650/100000]\tlr: 1.000e-04, eta: 4:21:36, time: 0.267, data_time: 0.011, memory: 5635, loss_rpn_cls: 0.0059, loss_rpn_bbox: 0.0049, loss_cls: 0.0344, acc: 99.6484, loss_bbox: 0.2947, loss: 0.3399\n",
      "2022-05-26 16:03:43,858 - mmfewshot - INFO - Iter [52700/100000]\tlr: 1.000e-04, eta: 4:21:17, time: 0.270, data_time: 0.012, memory: 5635, loss_rpn_cls: 0.0059, loss_rpn_bbox: 0.0060, loss_cls: 0.0495, acc: 99.6172, loss_bbox: 0.2900, loss: 0.3514\n",
      "2022-05-26 16:03:57,169 - mmfewshot - INFO - Iter [52750/100000]\tlr: 1.000e-04, eta: 4:20:57, time: 0.266, data_time: 0.011, memory: 5635, loss_rpn_cls: 0.0068, loss_rpn_bbox: 0.0058, loss_cls: 0.0436, acc: 99.5625, loss_bbox: 0.2750, loss: 0.3312\n",
      "2022-05-26 16:04:10,381 - mmfewshot - INFO - Iter [52800/100000]\tlr: 1.000e-04, eta: 4:20:37, time: 0.264, data_time: 0.011, memory: 5635, loss_rpn_cls: 0.0109, loss_rpn_bbox: 0.0089, loss_cls: 0.0343, acc: 99.7266, loss_bbox: 0.3013, loss: 0.3554\n",
      "2022-05-26 16:04:23,674 - mmfewshot - INFO - Iter [52850/100000]\tlr: 1.000e-04, eta: 4:20:18, time: 0.266, data_time: 0.012, memory: 5635, loss_rpn_cls: 0.0093, loss_rpn_bbox: 0.0086, loss_cls: 0.0480, acc: 99.6094, loss_bbox: 0.2664, loss: 0.3323\n",
      "2022-05-26 16:04:36,960 - mmfewshot - INFO - Iter [52900/100000]\tlr: 1.000e-04, eta: 4:19:58, time: 0.265, data_time: 0.012, memory: 5635, loss_rpn_cls: 0.0057, loss_rpn_bbox: 0.0045, loss_cls: 0.0446, acc: 99.6797, loss_bbox: 0.2688, loss: 0.3235\n",
      "2022-05-26 16:04:50,335 - mmfewshot - INFO - Iter [52950/100000]\tlr: 1.000e-04, eta: 4:19:39, time: 0.267, data_time: 0.012, memory: 5635, loss_rpn_cls: 0.0064, loss_rpn_bbox: 0.0052, loss_cls: 0.0423, acc: 99.6172, loss_bbox: 0.2691, loss: 0.3230\n",
      "2022-05-26 16:05:03,852 - mmfewshot - INFO - Exp name: attention-rpn_r50_c4_tb-split1_1shot-fine-tuning-momentum-09.py\n",
      "2022-05-26 16:05:03,855 - mmfewshot - INFO - Iter [53000/100000]\tlr: 1.000e-04, eta: 4:19:20, time: 0.271, data_time: 0.013, memory: 5635, loss_rpn_cls: 0.0049, loss_rpn_bbox: 0.0026, loss_cls: 0.0384, acc: 99.5859, loss_bbox: 0.2678, loss: 0.3137\n",
      "2022-05-26 16:05:03,863 - mmdet - INFO - starting model initialization...\n"
     ]
    },
    {
     "name": "stdout",
     "output_type": "stream",
     "text": [
      "[>>>>>>>>>>>>>>>>>>>>>>>>>>>>>>] 640/640, 79.9 task/s, elapsed: 8s, ETA:     0s"
     ]
    },
    {
     "name": "stderr",
     "output_type": "stream",
     "text": [
      "2022-05-26 16:05:11,959 - mmdet - INFO - model initialization done.\n"
     ]
    },
    {
     "name": "stdout",
     "output_type": "stream",
     "text": [
      "[>>>>>>>>>>>>>>>>>>>>>>>>>>>>>] 712/712, 12.5 task/s, elapsed: 57s, ETA:     0s\n",
      "---------------iou_thr: 0.5---------------\n"
     ]
    },
    {
     "name": "stderr",
     "output_type": "stream",
     "text": [
      "2022-05-26 16:06:09,450 - mmfewshot - INFO - \n",
      "+----------+-----+------+--------+-------+\n",
      "| class    | gts | dets | recall | ap    |\n",
      "+----------+-----+------+--------+-------+\n",
      "| 7up      | 810 | 3386 | 0.679  | 0.355 |\n",
      "| BudLight | 209 | 491  | 0.478  | 0.265 |\n",
      "+----------+-----+------+--------+-------+\n",
      "| mAP      |     |      |        | 0.310 |\n",
      "+----------+-----+------+--------+-------+\n",
      "2022-05-26 16:06:09,452 - mmfewshot - INFO - BASE_CLASSES_SPLIT1 mAP: 0.30989813804626465\n",
      "2022-05-26 16:06:09,453 - mmfewshot - INFO - NOVEL_CLASSES_SPLIT1 mAP: nan\n",
      "2022-05-26 16:06:09,457 - mmfewshot - INFO - Exp name: attention-rpn_r50_c4_tb-split1_1shot-fine-tuning-momentum-09.py\n",
      "2022-05-26 16:06:09,458 - mmfewshot - INFO - Iter(val) [712]\tAP50: 0.3100, BASE_CLASSES_SPLIT1: AP50: 0.3100, NOVEL_CLASSES_SPLIT1: AP50: nan, mAP: 0.3099\n",
      "2022-05-26 16:06:23,043 - mmfewshot - INFO - Iter [53050/100000]\tlr: 1.000e-04, eta: 4:19:59, time: 1.584, data_time: 1.324, memory: 5635, loss_rpn_cls: 0.0069, loss_rpn_bbox: 0.0045, loss_cls: 0.0345, acc: 99.7422, loss_bbox: 0.2625, loss: 0.3084\n",
      "2022-05-26 16:06:36,542 - mmfewshot - INFO - Iter [53100/100000]\tlr: 1.000e-04, eta: 4:19:39, time: 0.270, data_time: 0.012, memory: 5635, loss_rpn_cls: 0.0089, loss_rpn_bbox: 0.0059, loss_cls: 0.0402, acc: 99.5625, loss_bbox: 0.2877, loss: 0.3427\n",
      "2022-05-26 16:06:49,908 - mmfewshot - INFO - Iter [53150/100000]\tlr: 1.000e-04, eta: 4:19:20, time: 0.267, data_time: 0.012, memory: 5635, loss_rpn_cls: 0.0077, loss_rpn_bbox: 0.0047, loss_cls: 0.0378, acc: 99.6719, loss_bbox: 0.2686, loss: 0.3187\n",
      "2022-05-26 16:07:03,177 - mmfewshot - INFO - Iter [53200/100000]\tlr: 1.000e-04, eta: 4:19:00, time: 0.265, data_time: 0.011, memory: 5635, loss_rpn_cls: 0.0050, loss_rpn_bbox: 0.0036, loss_cls: 0.0429, acc: 99.5938, loss_bbox: 0.3185, loss: 0.3700\n",
      "2022-05-26 16:07:16,494 - mmfewshot - INFO - Iter [53250/100000]\tlr: 1.000e-04, eta: 4:18:41, time: 0.266, data_time: 0.011, memory: 5635, loss_rpn_cls: 0.0071, loss_rpn_bbox: 0.0072, loss_cls: 0.0345, acc: 99.6094, loss_bbox: 0.3173, loss: 0.3661\n",
      "2022-05-26 16:07:29,767 - mmfewshot - INFO - Iter [53300/100000]\tlr: 1.000e-04, eta: 4:18:21, time: 0.265, data_time: 0.011, memory: 5635, loss_rpn_cls: 0.0069, loss_rpn_bbox: 0.0075, loss_cls: 0.0374, acc: 99.6094, loss_bbox: 0.2812, loss: 0.3330\n",
      "2022-05-26 16:07:43,256 - mmfewshot - INFO - Iter [53350/100000]\tlr: 1.000e-04, eta: 4:18:02, time: 0.270, data_time: 0.011, memory: 5635, loss_rpn_cls: 0.0106, loss_rpn_bbox: 0.0078, loss_cls: 0.0385, acc: 99.6484, loss_bbox: 0.2939, loss: 0.3508\n",
      "2022-05-26 16:07:56,726 - mmfewshot - INFO - Iter [53400/100000]\tlr: 1.000e-04, eta: 4:17:43, time: 0.269, data_time: 0.012, memory: 5635, loss_rpn_cls: 0.0059, loss_rpn_bbox: 0.0060, loss_cls: 0.0391, acc: 99.6094, loss_bbox: 0.3019, loss: 0.3530\n",
      "2022-05-26 16:08:10,142 - mmfewshot - INFO - Iter [53450/100000]\tlr: 1.000e-04, eta: 4:17:23, time: 0.268, data_time: 0.011, memory: 5635, loss_rpn_cls: 0.0061, loss_rpn_bbox: 0.0050, loss_cls: 0.0330, acc: 99.6328, loss_bbox: 0.2965, loss: 0.3406\n",
      "2022-05-26 16:08:23,505 - mmfewshot - INFO - Iter [53500/100000]\tlr: 1.000e-04, eta: 4:17:04, time: 0.267, data_time: 0.012, memory: 5635, loss_rpn_cls: 0.0069, loss_rpn_bbox: 0.0062, loss_cls: 0.0402, acc: 99.6328, loss_bbox: 0.2820, loss: 0.3353\n",
      "2022-05-26 16:08:36,914 - mmfewshot - INFO - Iter [53550/100000]\tlr: 1.000e-04, eta: 4:16:45, time: 0.268, data_time: 0.012, memory: 5635, loss_rpn_cls: 0.0120, loss_rpn_bbox: 0.0092, loss_cls: 0.0416, acc: 99.6328, loss_bbox: 0.2757, loss: 0.3385\n",
      "2022-05-26 16:08:50,332 - mmfewshot - INFO - Iter [53600/100000]\tlr: 1.000e-04, eta: 4:16:25, time: 0.268, data_time: 0.012, memory: 5635, loss_rpn_cls: 0.0060, loss_rpn_bbox: 0.0048, loss_cls: 0.0654, acc: 99.6250, loss_bbox: 0.2706, loss: 0.3469\n",
      "2022-05-26 16:09:03,502 - mmfewshot - INFO - Iter [53650/100000]\tlr: 1.000e-04, eta: 4:16:06, time: 0.263, data_time: 0.010, memory: 5635, loss_rpn_cls: 0.0058, loss_rpn_bbox: 0.0039, loss_cls: 0.0406, acc: 99.6250, loss_bbox: 0.2642, loss: 0.3145\n",
      "2022-05-26 16:09:16,648 - mmfewshot - INFO - Iter [53700/100000]\tlr: 1.000e-04, eta: 4:15:46, time: 0.263, data_time: 0.010, memory: 5635, loss_rpn_cls: 0.0048, loss_rpn_bbox: 0.0048, loss_cls: 0.0425, acc: 99.7188, loss_bbox: 0.2911, loss: 0.3431\n",
      "2022-05-26 16:09:29,921 - mmfewshot - INFO - Iter [53750/100000]\tlr: 1.000e-04, eta: 4:15:27, time: 0.266, data_time: 0.012, memory: 5635, loss_rpn_cls: 0.0085, loss_rpn_bbox: 0.0033, loss_cls: 0.0325, acc: 99.6875, loss_bbox: 0.2973, loss: 0.3415\n",
      "2022-05-26 16:09:43,313 - mmfewshot - INFO - Iter [53800/100000]\tlr: 1.000e-04, eta: 4:15:08, time: 0.268, data_time: 0.012, memory: 5635, loss_rpn_cls: 0.0087, loss_rpn_bbox: 0.0079, loss_cls: 0.0476, acc: 99.6719, loss_bbox: 0.2585, loss: 0.3228\n",
      "2022-05-26 16:09:56,581 - mmfewshot - INFO - Iter [53850/100000]\tlr: 1.000e-04, eta: 4:14:48, time: 0.265, data_time: 0.011, memory: 5635, loss_rpn_cls: 0.0071, loss_rpn_bbox: 0.0061, loss_cls: 0.0370, acc: 99.7031, loss_bbox: 0.2720, loss: 0.3222\n",
      "2022-05-26 16:10:10,102 - mmfewshot - INFO - Iter [53900/100000]\tlr: 1.000e-04, eta: 4:14:29, time: 0.270, data_time: 0.012, memory: 5635, loss_rpn_cls: 0.0065, loss_rpn_bbox: 0.0110, loss_cls: 0.0332, acc: 99.6016, loss_bbox: 0.3370, loss: 0.3876\n",
      "2022-05-26 16:10:23,820 - mmfewshot - INFO - Iter [53950/100000]\tlr: 1.000e-04, eta: 4:14:10, time: 0.274, data_time: 0.012, memory: 5635, loss_rpn_cls: 0.0074, loss_rpn_bbox: 0.0085, loss_cls: 0.0307, acc: 99.6328, loss_bbox: 0.3022, loss: 0.3488\n",
      "2022-05-26 16:10:37,208 - mmfewshot - INFO - Exp name: attention-rpn_r50_c4_tb-split1_1shot-fine-tuning-momentum-09.py\n",
      "2022-05-26 16:10:37,210 - mmfewshot - INFO - Iter [54000/100000]\tlr: 1.000e-04, eta: 4:13:51, time: 0.268, data_time: 0.012, memory: 5635, loss_rpn_cls: 0.0070, loss_rpn_bbox: 0.0056, loss_cls: 0.0327, acc: 99.6250, loss_bbox: 0.3047, loss: 0.3499\n",
      "2022-05-26 16:10:37,214 - mmdet - INFO - starting model initialization...\n"
     ]
    },
    {
     "name": "stdout",
     "output_type": "stream",
     "text": [
      "[>>>>>>>>>>>>>>>>>>>>>>>>>>>>>>] 640/640, 76.3 task/s, elapsed: 8s, ETA:     0s"
     ]
    },
    {
     "name": "stderr",
     "output_type": "stream",
     "text": [
      "2022-05-26 16:10:45,681 - mmdet - INFO - model initialization done.\n"
     ]
    },
    {
     "name": "stdout",
     "output_type": "stream",
     "text": [
      "[>>>>>>>>>>>>>>>>>>>>>>>>>>>>>] 712/712, 12.7 task/s, elapsed: 56s, ETA:     0s\n",
      "---------------iou_thr: 0.5---------------\n"
     ]
    },
    {
     "name": "stderr",
     "output_type": "stream",
     "text": [
      "2022-05-26 16:11:42,363 - mmfewshot - INFO - \n",
      "+----------+-----+------+--------+-------+\n",
      "| class    | gts | dets | recall | ap    |\n",
      "+----------+-----+------+--------+-------+\n",
      "| 7up      | 810 | 2158 | 0.581  | 0.326 |\n",
      "| BudLight | 209 | 533  | 0.507  | 0.257 |\n",
      "+----------+-----+------+--------+-------+\n",
      "| mAP      |     |      |        | 0.291 |\n",
      "+----------+-----+------+--------+-------+\n",
      "2022-05-26 16:11:42,367 - mmfewshot - INFO - BASE_CLASSES_SPLIT1 mAP: 0.2913101613521576\n",
      "2022-05-26 16:11:42,368 - mmfewshot - INFO - NOVEL_CLASSES_SPLIT1 mAP: nan\n",
      "2022-05-26 16:11:42,374 - mmfewshot - INFO - Exp name: attention-rpn_r50_c4_tb-split1_1shot-fine-tuning-momentum-09.py\n",
      "2022-05-26 16:11:42,375 - mmfewshot - INFO - Iter(val) [712]\tAP50: 0.2910, BASE_CLASSES_SPLIT1: AP50: 0.2910, NOVEL_CLASSES_SPLIT1: AP50: nan, mAP: 0.2913\n",
      "2022-05-26 16:11:55,927 - mmfewshot - INFO - Iter [54050/100000]\tlr: 1.000e-04, eta: 4:14:27, time: 1.574, data_time: 1.315, memory: 5635, loss_rpn_cls: 0.0092, loss_rpn_bbox: 0.0056, loss_cls: 0.0408, acc: 99.6953, loss_bbox: 0.3171, loss: 0.3727\n",
      "2022-05-26 16:12:09,444 - mmfewshot - INFO - Iter [54100/100000]\tlr: 1.000e-04, eta: 4:14:08, time: 0.270, data_time: 0.013, memory: 5635, loss_rpn_cls: 0.0091, loss_rpn_bbox: 0.0068, loss_cls: 0.0354, acc: 99.6484, loss_bbox: 0.2822, loss: 0.3335\n",
      "2022-05-26 16:12:22,896 - mmfewshot - INFO - Iter [54150/100000]\tlr: 1.000e-04, eta: 4:13:48, time: 0.269, data_time: 0.012, memory: 5635, loss_rpn_cls: 0.0073, loss_rpn_bbox: 0.0055, loss_cls: 0.0378, acc: 99.6641, loss_bbox: 0.2768, loss: 0.3274\n",
      "2022-05-26 16:12:36,293 - mmfewshot - INFO - Iter [54200/100000]\tlr: 1.000e-04, eta: 4:13:29, time: 0.268, data_time: 0.012, memory: 5635, loss_rpn_cls: 0.0075, loss_rpn_bbox: 0.0056, loss_cls: 0.0367, acc: 99.6719, loss_bbox: 0.2771, loss: 0.3268\n",
      "2022-05-26 16:12:49,576 - mmfewshot - INFO - Iter [54250/100000]\tlr: 1.000e-04, eta: 4:13:10, time: 0.266, data_time: 0.011, memory: 5635, loss_rpn_cls: 0.0062, loss_rpn_bbox: 0.0048, loss_cls: 0.0352, acc: 99.6719, loss_bbox: 0.2439, loss: 0.2901\n",
      "2022-05-26 16:13:02,877 - mmfewshot - INFO - Iter [54300/100000]\tlr: 1.000e-04, eta: 4:12:50, time: 0.266, data_time: 0.011, memory: 5635, loss_rpn_cls: 0.0056, loss_rpn_bbox: 0.0075, loss_cls: 0.0366, acc: 99.6484, loss_bbox: 0.3075, loss: 0.3573\n",
      "2022-05-26 16:13:16,322 - mmfewshot - INFO - Iter [54350/100000]\tlr: 1.000e-04, eta: 4:12:31, time: 0.269, data_time: 0.011, memory: 5635, loss_rpn_cls: 0.0065, loss_rpn_bbox: 0.0080, loss_cls: 0.0294, acc: 99.7969, loss_bbox: 0.2645, loss: 0.3085\n",
      "2022-05-26 16:13:29,477 - mmfewshot - INFO - Iter [54400/100000]\tlr: 1.000e-04, eta: 4:12:12, time: 0.263, data_time: 0.010, memory: 5635, loss_rpn_cls: 0.0049, loss_rpn_bbox: 0.0048, loss_cls: 0.0384, acc: 99.6719, loss_bbox: 0.2786, loss: 0.3266\n",
      "2022-05-26 16:13:42,784 - mmfewshot - INFO - Iter [54450/100000]\tlr: 1.000e-04, eta: 4:11:52, time: 0.266, data_time: 0.011, memory: 5635, loss_rpn_cls: 0.0050, loss_rpn_bbox: 0.0042, loss_cls: 0.0433, acc: 99.5703, loss_bbox: 0.2807, loss: 0.3332\n",
      "2022-05-26 16:13:56,139 - mmfewshot - INFO - Iter [54500/100000]\tlr: 1.000e-04, eta: 4:11:33, time: 0.267, data_time: 0.011, memory: 5635, loss_rpn_cls: 0.0050, loss_rpn_bbox: 0.0056, loss_cls: 0.0392, acc: 99.5938, loss_bbox: 0.3165, loss: 0.3664\n",
      "2022-05-26 16:14:09,379 - mmfewshot - INFO - Iter [54550/100000]\tlr: 1.000e-04, eta: 4:11:14, time: 0.265, data_time: 0.011, memory: 5635, loss_rpn_cls: 0.0066, loss_rpn_bbox: 0.0080, loss_cls: 0.0302, acc: 99.7031, loss_bbox: 0.2768, loss: 0.3216\n",
      "2022-05-26 16:14:22,880 - mmfewshot - INFO - Iter [54600/100000]\tlr: 1.000e-04, eta: 4:10:55, time: 0.270, data_time: 0.011, memory: 5635, loss_rpn_cls: 0.0053, loss_rpn_bbox: 0.0051, loss_cls: 0.0353, acc: 99.6406, loss_bbox: 0.2878, loss: 0.3336\n",
      "2022-05-26 16:14:36,298 - mmfewshot - INFO - Iter [54650/100000]\tlr: 1.000e-04, eta: 4:10:35, time: 0.268, data_time: 0.012, memory: 5635, loss_rpn_cls: 0.0089, loss_rpn_bbox: 0.0070, loss_cls: 0.0326, acc: 99.6328, loss_bbox: 0.3116, loss: 0.3601\n",
      "2022-05-26 16:14:49,579 - mmfewshot - INFO - Iter [54700/100000]\tlr: 1.000e-04, eta: 4:10:16, time: 0.266, data_time: 0.011, memory: 5635, loss_rpn_cls: 0.0069, loss_rpn_bbox: 0.0078, loss_cls: 0.0309, acc: 99.7031, loss_bbox: 0.2637, loss: 0.3092\n",
      "2022-05-26 16:15:03,011 - mmfewshot - INFO - Iter [54750/100000]\tlr: 1.000e-04, eta: 4:09:57, time: 0.269, data_time: 0.013, memory: 5635, loss_rpn_cls: 0.0103, loss_rpn_bbox: 0.0064, loss_cls: 0.0371, acc: 99.6641, loss_bbox: 0.2913, loss: 0.3451\n",
      "2022-05-26 16:15:16,216 - mmfewshot - INFO - Iter [54800/100000]\tlr: 1.000e-04, eta: 4:09:37, time: 0.264, data_time: 0.011, memory: 5635, loss_rpn_cls: 0.0059, loss_rpn_bbox: 0.0043, loss_cls: 0.0261, acc: 99.7734, loss_bbox: 0.3135, loss: 0.3499\n",
      "2022-05-26 16:15:29,696 - mmfewshot - INFO - Iter [54850/100000]\tlr: 1.000e-04, eta: 4:09:18, time: 0.270, data_time: 0.012, memory: 5635, loss_rpn_cls: 0.0048, loss_rpn_bbox: 0.0045, loss_cls: 0.0276, acc: 99.6953, loss_bbox: 0.2700, loss: 0.3068\n",
      "2022-05-26 16:15:43,193 - mmfewshot - INFO - Iter [54900/100000]\tlr: 1.000e-04, eta: 4:08:59, time: 0.270, data_time: 0.012, memory: 5635, loss_rpn_cls: 0.0064, loss_rpn_bbox: 0.0045, loss_cls: 0.0327, acc: 99.7344, loss_bbox: 0.2302, loss: 0.2737\n",
      "2022-05-26 16:15:56,731 - mmfewshot - INFO - Iter [54950/100000]\tlr: 1.000e-04, eta: 4:08:40, time: 0.271, data_time: 0.012, memory: 5635, loss_rpn_cls: 0.0050, loss_rpn_bbox: 0.0036, loss_cls: 0.0383, acc: 99.6719, loss_bbox: 0.2491, loss: 0.2959\n",
      "2022-05-26 16:16:10,072 - mmfewshot - INFO - Exp name: attention-rpn_r50_c4_tb-split1_1shot-fine-tuning-momentum-09.py\n",
      "2022-05-26 16:16:10,074 - mmfewshot - INFO - Iter [55000/100000]\tlr: 1.000e-04, eta: 4:08:21, time: 0.267, data_time: 0.011, memory: 5635, loss_rpn_cls: 0.0056, loss_rpn_bbox: 0.0047, loss_cls: 0.0475, acc: 99.6719, loss_bbox: 0.2413, loss: 0.2991\n",
      "2022-05-26 16:16:10,079 - mmdet - INFO - starting model initialization...\n"
     ]
    },
    {
     "name": "stdout",
     "output_type": "stream",
     "text": [
      "[>>>>>>>>>>>>>>>>>>>>>>>>>>>>>>] 640/640, 79.9 task/s, elapsed: 8s, ETA:     0s"
     ]
    },
    {
     "name": "stderr",
     "output_type": "stream",
     "text": [
      "2022-05-26 16:16:18,181 - mmdet - INFO - model initialization done.\n"
     ]
    },
    {
     "name": "stdout",
     "output_type": "stream",
     "text": [
      "[>>>>>>>>>>>>>>>>>>>>>>>>>>>>>] 712/712, 12.7 task/s, elapsed: 56s, ETA:     0s\n",
      "---------------iou_thr: 0.5---------------\n"
     ]
    },
    {
     "name": "stderr",
     "output_type": "stream",
     "text": [
      "2022-05-26 16:17:14,479 - mmfewshot - INFO - \n",
      "+----------+-----+------+--------+-------+\n",
      "| class    | gts | dets | recall | ap    |\n",
      "+----------+-----+------+--------+-------+\n",
      "| 7up      | 810 | 2604 | 0.606  | 0.326 |\n",
      "| BudLight | 209 | 391  | 0.455  | 0.252 |\n",
      "+----------+-----+------+--------+-------+\n",
      "| mAP      |     |      |        | 0.289 |\n",
      "+----------+-----+------+--------+-------+\n",
      "2022-05-26 16:17:14,482 - mmfewshot - INFO - BASE_CLASSES_SPLIT1 mAP: 0.2889939248561859\n",
      "2022-05-26 16:17:14,483 - mmfewshot - INFO - NOVEL_CLASSES_SPLIT1 mAP: nan\n",
      "2022-05-26 16:17:14,488 - mmfewshot - INFO - Exp name: attention-rpn_r50_c4_tb-split1_1shot-fine-tuning-momentum-09.py\n",
      "2022-05-26 16:17:14,490 - mmfewshot - INFO - Iter(val) [712]\tAP50: 0.2890, BASE_CLASSES_SPLIT1: AP50: 0.2890, NOVEL_CLASSES_SPLIT1: AP50: nan, mAP: 0.2890\n",
      "2022-05-26 16:17:27,993 - mmfewshot - INFO - Iter [55050/100000]\tlr: 1.000e-04, eta: 4:08:55, time: 1.558, data_time: 1.300, memory: 5635, loss_rpn_cls: 0.0076, loss_rpn_bbox: 0.0068, loss_cls: 0.0546, acc: 99.5625, loss_bbox: 0.2590, loss: 0.3281\n",
      "2022-05-26 16:17:41,329 - mmfewshot - INFO - Iter [55100/100000]\tlr: 1.000e-04, eta: 4:08:35, time: 0.267, data_time: 0.012, memory: 5635, loss_rpn_cls: 0.0057, loss_rpn_bbox: 0.0058, loss_cls: 0.0360, acc: 99.6250, loss_bbox: 0.2822, loss: 0.3298\n",
      "2022-05-26 16:17:54,702 - mmfewshot - INFO - Iter [55150/100000]\tlr: 1.000e-04, eta: 4:08:16, time: 0.268, data_time: 0.012, memory: 5635, loss_rpn_cls: 0.0062, loss_rpn_bbox: 0.0055, loss_cls: 0.0390, acc: 99.5547, loss_bbox: 0.3047, loss: 0.3555\n",
      "2022-05-26 16:18:08,072 - mmfewshot - INFO - Iter [55200/100000]\tlr: 1.000e-04, eta: 4:07:57, time: 0.267, data_time: 0.011, memory: 5635, loss_rpn_cls: 0.0067, loss_rpn_bbox: 0.0048, loss_cls: 0.0468, acc: 99.5391, loss_bbox: 0.2697, loss: 0.3280\n",
      "2022-05-26 16:18:21,526 - mmfewshot - INFO - Iter [55250/100000]\tlr: 1.000e-04, eta: 4:07:38, time: 0.269, data_time: 0.011, memory: 5635, loss_rpn_cls: 0.0061, loss_rpn_bbox: 0.0052, loss_cls: 0.0393, acc: 99.6562, loss_bbox: 0.2665, loss: 0.3171\n",
      "2022-05-26 16:18:34,925 - mmfewshot - INFO - Iter [55300/100000]\tlr: 1.000e-04, eta: 4:07:18, time: 0.268, data_time: 0.012, memory: 5635, loss_rpn_cls: 0.0049, loss_rpn_bbox: 0.0041, loss_cls: 0.0359, acc: 99.7109, loss_bbox: 0.2885, loss: 0.3334\n",
      "2022-05-26 16:18:48,415 - mmfewshot - INFO - Iter [55350/100000]\tlr: 1.000e-04, eta: 4:06:59, time: 0.270, data_time: 0.012, memory: 5635, loss_rpn_cls: 0.0078, loss_rpn_bbox: 0.0049, loss_cls: 0.0334, acc: 99.6250, loss_bbox: 0.3045, loss: 0.3507\n",
      "2022-05-26 16:19:01,959 - mmfewshot - INFO - Iter [55400/100000]\tlr: 1.000e-04, eta: 4:06:40, time: 0.271, data_time: 0.012, memory: 5635, loss_rpn_cls: 0.0051, loss_rpn_bbox: 0.0045, loss_cls: 0.0379, acc: 99.6328, loss_bbox: 0.2821, loss: 0.3295\n",
      "2022-05-26 16:19:15,582 - mmfewshot - INFO - Iter [55450/100000]\tlr: 1.000e-04, eta: 4:06:21, time: 0.273, data_time: 0.012, memory: 5635, loss_rpn_cls: 0.0076, loss_rpn_bbox: 0.0042, loss_cls: 0.0373, acc: 99.7188, loss_bbox: 0.2478, loss: 0.2970\n",
      "2022-05-26 16:19:29,020 - mmfewshot - INFO - Iter [55500/100000]\tlr: 1.000e-04, eta: 4:06:02, time: 0.269, data_time: 0.012, memory: 5635, loss_rpn_cls: 0.0087, loss_rpn_bbox: 0.0062, loss_cls: 0.0384, acc: 99.5781, loss_bbox: 0.2922, loss: 0.3455\n",
      "2022-05-26 16:19:42,323 - mmfewshot - INFO - Iter [55550/100000]\tlr: 1.000e-04, eta: 4:05:43, time: 0.266, data_time: 0.011, memory: 5635, loss_rpn_cls: 0.0069, loss_rpn_bbox: 0.0050, loss_cls: 0.0366, acc: 99.6719, loss_bbox: 0.2884, loss: 0.3369\n",
      "2022-05-26 16:19:55,685 - mmfewshot - INFO - Iter [55600/100000]\tlr: 1.000e-04, eta: 4:05:24, time: 0.267, data_time: 0.011, memory: 5635, loss_rpn_cls: 0.0090, loss_rpn_bbox: 0.0063, loss_cls: 0.0413, acc: 99.5938, loss_bbox: 0.2861, loss: 0.3427\n",
      "2022-05-26 16:20:08,990 - mmfewshot - INFO - Iter [55650/100000]\tlr: 1.000e-04, eta: 4:05:05, time: 0.266, data_time: 0.011, memory: 5635, loss_rpn_cls: 0.0073, loss_rpn_bbox: 0.0060, loss_cls: 0.0266, acc: 99.6953, loss_bbox: 0.3084, loss: 0.3483\n",
      "2022-05-26 16:20:22,199 - mmfewshot - INFO - Iter [55700/100000]\tlr: 1.000e-04, eta: 4:04:45, time: 0.264, data_time: 0.011, memory: 5635, loss_rpn_cls: 0.0062, loss_rpn_bbox: 0.0049, loss_cls: 0.0326, acc: 99.7109, loss_bbox: 0.2314, loss: 0.2751\n",
      "2022-05-26 16:20:35,577 - mmfewshot - INFO - Iter [55750/100000]\tlr: 1.000e-04, eta: 4:04:26, time: 0.268, data_time: 0.012, memory: 5635, loss_rpn_cls: 0.0109, loss_rpn_bbox: 0.0066, loss_cls: 0.0274, acc: 99.6797, loss_bbox: 0.2986, loss: 0.3436\n",
      "2022-05-26 16:20:48,909 - mmfewshot - INFO - Iter [55800/100000]\tlr: 1.000e-04, eta: 4:04:07, time: 0.266, data_time: 0.010, memory: 5635, loss_rpn_cls: 0.0062, loss_rpn_bbox: 0.0055, loss_cls: 0.0333, acc: 99.6797, loss_bbox: 0.2894, loss: 0.3345\n",
      "2022-05-26 16:21:02,225 - mmfewshot - INFO - Iter [55850/100000]\tlr: 1.000e-04, eta: 4:03:48, time: 0.267, data_time: 0.012, memory: 5635, loss_rpn_cls: 0.0061, loss_rpn_bbox: 0.0050, loss_cls: 0.0297, acc: 99.7109, loss_bbox: 0.2915, loss: 0.3324\n",
      "2022-05-26 16:21:15,539 - mmfewshot - INFO - Iter [55900/100000]\tlr: 1.000e-04, eta: 4:03:29, time: 0.266, data_time: 0.011, memory: 5635, loss_rpn_cls: 0.0045, loss_rpn_bbox: 0.0042, loss_cls: 0.0414, acc: 99.6641, loss_bbox: 0.2667, loss: 0.3168\n",
      "2022-05-26 16:21:28,886 - mmfewshot - INFO - Iter [55950/100000]\tlr: 1.000e-04, eta: 4:03:10, time: 0.267, data_time: 0.012, memory: 5635, loss_rpn_cls: 0.0050, loss_rpn_bbox: 0.0059, loss_cls: 0.0286, acc: 99.6875, loss_bbox: 0.3150, loss: 0.3544\n",
      "2022-05-26 16:21:42,215 - mmfewshot - INFO - Exp name: attention-rpn_r50_c4_tb-split1_1shot-fine-tuning-momentum-09.py\n",
      "2022-05-26 16:21:42,216 - mmfewshot - INFO - Iter [56000/100000]\tlr: 1.000e-04, eta: 4:02:51, time: 0.266, data_time: 0.011, memory: 5635, loss_rpn_cls: 0.0073, loss_rpn_bbox: 0.0049, loss_cls: 0.0362, acc: 99.7109, loss_bbox: 0.2689, loss: 0.3173\n",
      "2022-05-26 16:21:42,221 - mmdet - INFO - starting model initialization...\n"
     ]
    },
    {
     "name": "stdout",
     "output_type": "stream",
     "text": [
      "[>>>>>>>>>>>>>>>>>>>>>>>>>>>>>>] 640/640, 73.5 task/s, elapsed: 9s, ETA:     0s"
     ]
    },
    {
     "name": "stderr",
     "output_type": "stream",
     "text": [
      "2022-05-26 16:21:51,029 - mmdet - INFO - model initialization done.\n"
     ]
    },
    {
     "name": "stdout",
     "output_type": "stream",
     "text": [
      "[>>>>>>>>>>>>>>>>>>>>>>>>>>>>>] 712/712, 12.5 task/s, elapsed: 57s, ETA:     0s\n",
      "---------------iou_thr: 0.5---------------\n"
     ]
    },
    {
     "name": "stderr",
     "output_type": "stream",
     "text": [
      "2022-05-26 16:22:48,520 - mmfewshot - INFO - \n",
      "+----------+-----+------+--------+-------+\n",
      "| class    | gts | dets | recall | ap    |\n",
      "+----------+-----+------+--------+-------+\n",
      "| 7up      | 810 | 2590 | 0.600  | 0.307 |\n",
      "| BudLight | 209 | 385  | 0.421  | 0.230 |\n",
      "+----------+-----+------+--------+-------+\n",
      "| mAP      |     |      |        | 0.268 |\n",
      "+----------+-----+------+--------+-------+\n",
      "2022-05-26 16:22:48,583 - mmfewshot - INFO - BASE_CLASSES_SPLIT1 mAP: 0.2682115435600281\n",
      "2022-05-26 16:22:48,584 - mmfewshot - INFO - NOVEL_CLASSES_SPLIT1 mAP: nan\n",
      "2022-05-26 16:22:48,588 - mmfewshot - INFO - Exp name: attention-rpn_r50_c4_tb-split1_1shot-fine-tuning-momentum-09.py\n",
      "2022-05-26 16:22:48,589 - mmfewshot - INFO - Iter(val) [712]\tAP50: 0.2680, BASE_CLASSES_SPLIT1: AP50: 0.2680, NOVEL_CLASSES_SPLIT1: AP50: nan, mAP: 0.2682\n",
      "2022-05-26 16:23:02,132 - mmfewshot - INFO - Iter [56050/100000]\tlr: 1.000e-04, eta: 4:03:24, time: 1.598, data_time: 1.339, memory: 5635, loss_rpn_cls: 0.0094, loss_rpn_bbox: 0.0084, loss_cls: 0.0307, acc: 99.6562, loss_bbox: 0.3053, loss: 0.3538\n",
      "2022-05-26 16:23:15,523 - mmfewshot - INFO - Iter [56100/100000]\tlr: 1.000e-04, eta: 4:03:05, time: 0.268, data_time: 0.012, memory: 5635, loss_rpn_cls: 0.0040, loss_rpn_bbox: 0.0034, loss_cls: 0.0361, acc: 99.6172, loss_bbox: 0.2780, loss: 0.3215\n",
      "2022-05-26 16:23:28,999 - mmfewshot - INFO - Iter [56150/100000]\tlr: 1.000e-04, eta: 4:02:46, time: 0.269, data_time: 0.012, memory: 5635, loss_rpn_cls: 0.0057, loss_rpn_bbox: 0.0062, loss_cls: 0.0407, acc: 99.6328, loss_bbox: 0.2789, loss: 0.3314\n",
      "2022-05-26 16:23:42,136 - mmfewshot - INFO - Iter [56200/100000]\tlr: 1.000e-04, eta: 4:02:26, time: 0.263, data_time: 0.010, memory: 5635, loss_rpn_cls: 0.0054, loss_rpn_bbox: 0.0040, loss_cls: 0.0277, acc: 99.7109, loss_bbox: 0.2848, loss: 0.3219\n",
      "2022-05-26 16:23:55,517 - mmfewshot - INFO - Iter [56250/100000]\tlr: 1.000e-04, eta: 4:02:07, time: 0.268, data_time: 0.011, memory: 5635, loss_rpn_cls: 0.0111, loss_rpn_bbox: 0.0078, loss_cls: 0.0455, acc: 99.5625, loss_bbox: 0.3293, loss: 0.3938\n",
      "2022-05-26 16:24:08,875 - mmfewshot - INFO - Iter [56300/100000]\tlr: 1.000e-04, eta: 4:01:48, time: 0.267, data_time: 0.011, memory: 5635, loss_rpn_cls: 0.0085, loss_rpn_bbox: 0.0068, loss_cls: 0.0347, acc: 99.7188, loss_bbox: 0.2989, loss: 0.3489\n",
      "2022-05-26 16:24:22,452 - mmfewshot - INFO - Iter [56350/100000]\tlr: 1.000e-04, eta: 4:01:29, time: 0.272, data_time: 0.013, memory: 5635, loss_rpn_cls: 0.0064, loss_rpn_bbox: 0.0070, loss_cls: 0.0458, acc: 99.6016, loss_bbox: 0.2953, loss: 0.3545\n",
      "2022-05-26 16:24:35,822 - mmfewshot - INFO - Iter [56400/100000]\tlr: 1.000e-04, eta: 4:01:10, time: 0.267, data_time: 0.012, memory: 5635, loss_rpn_cls: 0.0073, loss_rpn_bbox: 0.0052, loss_cls: 0.0481, acc: 99.5859, loss_bbox: 0.2925, loss: 0.3532\n",
      "2022-05-26 16:24:49,160 - mmfewshot - INFO - Iter [56450/100000]\tlr: 1.000e-04, eta: 4:00:51, time: 0.266, data_time: 0.011, memory: 5635, loss_rpn_cls: 0.0069, loss_rpn_bbox: 0.0058, loss_cls: 0.0341, acc: 99.6406, loss_bbox: 0.2948, loss: 0.3417\n",
      "2022-05-26 16:25:02,541 - mmfewshot - INFO - Iter [56500/100000]\tlr: 1.000e-04, eta: 4:00:32, time: 0.268, data_time: 0.012, memory: 5635, loss_rpn_cls: 0.0040, loss_rpn_bbox: 0.0043, loss_cls: 0.0355, acc: 99.6250, loss_bbox: 0.2832, loss: 0.3270\n",
      "2022-05-26 16:25:15,987 - mmfewshot - INFO - Iter [56550/100000]\tlr: 1.000e-04, eta: 4:00:13, time: 0.269, data_time: 0.012, memory: 5635, loss_rpn_cls: 0.0079, loss_rpn_bbox: 0.0044, loss_cls: 0.0391, acc: 99.7578, loss_bbox: 0.2423, loss: 0.2936\n",
      "2022-05-26 16:25:29,347 - mmfewshot - INFO - Iter [56600/100000]\tlr: 1.000e-04, eta: 3:59:54, time: 0.267, data_time: 0.012, memory: 5635, loss_rpn_cls: 0.0048, loss_rpn_bbox: 0.0031, loss_cls: 0.0451, acc: 99.6172, loss_bbox: 0.2608, loss: 0.3139\n",
      "2022-05-26 16:25:42,825 - mmfewshot - INFO - Iter [56650/100000]\tlr: 1.000e-04, eta: 3:59:35, time: 0.270, data_time: 0.012, memory: 5635, loss_rpn_cls: 0.0082, loss_rpn_bbox: 0.0060, loss_cls: 0.0303, acc: 99.7422, loss_bbox: 0.2485, loss: 0.2930\n",
      "2022-05-26 16:25:56,302 - mmfewshot - INFO - Iter [56700/100000]\tlr: 1.000e-04, eta: 3:59:16, time: 0.269, data_time: 0.012, memory: 5635, loss_rpn_cls: 0.0043, loss_rpn_bbox: 0.0039, loss_cls: 0.0437, acc: 99.6406, loss_bbox: 0.2428, loss: 0.2947\n",
      "2022-05-26 16:26:09,933 - mmfewshot - INFO - Iter [56750/100000]\tlr: 1.000e-04, eta: 3:58:57, time: 0.273, data_time: 0.012, memory: 5635, loss_rpn_cls: 0.0074, loss_rpn_bbox: 0.0050, loss_cls: 0.0437, acc: 99.5625, loss_bbox: 0.2896, loss: 0.3457\n",
      "2022-05-26 16:26:23,429 - mmfewshot - INFO - Iter [56800/100000]\tlr: 1.000e-04, eta: 3:58:38, time: 0.270, data_time: 0.012, memory: 5635, loss_rpn_cls: 0.0069, loss_rpn_bbox: 0.0057, loss_cls: 0.0382, acc: 99.6172, loss_bbox: 0.2798, loss: 0.3306\n",
      "2022-05-26 16:26:36,837 - mmfewshot - INFO - Iter [56850/100000]\tlr: 1.000e-04, eta: 3:58:19, time: 0.268, data_time: 0.011, memory: 5635, loss_rpn_cls: 0.0041, loss_rpn_bbox: 0.0049, loss_cls: 0.0282, acc: 99.6484, loss_bbox: 0.2973, loss: 0.3345\n",
      "2022-05-26 16:26:50,287 - mmfewshot - INFO - Iter [56900/100000]\tlr: 1.000e-04, eta: 3:58:00, time: 0.269, data_time: 0.011, memory: 5635, loss_rpn_cls: 0.0066, loss_rpn_bbox: 0.0043, loss_cls: 0.0410, acc: 99.6328, loss_bbox: 0.2686, loss: 0.3205\n",
      "2022-05-26 16:27:03,857 - mmfewshot - INFO - Iter [56950/100000]\tlr: 1.000e-04, eta: 3:57:41, time: 0.271, data_time: 0.012, memory: 5635, loss_rpn_cls: 0.0081, loss_rpn_bbox: 0.0058, loss_cls: 0.0343, acc: 99.6797, loss_bbox: 0.2961, loss: 0.3443\n",
      "2022-05-26 16:27:17,250 - mmfewshot - INFO - Exp name: attention-rpn_r50_c4_tb-split1_1shot-fine-tuning-momentum-09.py\n",
      "2022-05-26 16:27:17,252 - mmfewshot - INFO - Iter [57000/100000]\tlr: 1.000e-04, eta: 3:57:22, time: 0.268, data_time: 0.012, memory: 5635, loss_rpn_cls: 0.0075, loss_rpn_bbox: 0.0050, loss_cls: 0.0401, acc: 99.6953, loss_bbox: 0.2413, loss: 0.2939\n",
      "2022-05-26 16:27:17,258 - mmdet - INFO - starting model initialization...\n"
     ]
    },
    {
     "name": "stdout",
     "output_type": "stream",
     "text": [
      "[>>>>>>>>>>>>>>>>>>>>>>>>>>>>>>] 640/640, 77.2 task/s, elapsed: 8s, ETA:     0s"
     ]
    },
    {
     "name": "stderr",
     "output_type": "stream",
     "text": [
      "2022-05-26 16:27:25,629 - mmdet - INFO - model initialization done.\n"
     ]
    },
    {
     "name": "stdout",
     "output_type": "stream",
     "text": [
      "[>>>>>>>>>>>>>>>>>>>>>>>>>>>>>] 712/712, 12.4 task/s, elapsed: 57s, ETA:     0s\n",
      "---------------iou_thr: 0.5---------------\n"
     ]
    },
    {
     "name": "stderr",
     "output_type": "stream",
     "text": [
      "2022-05-26 16:28:23,329 - mmfewshot - INFO - \n",
      "+----------+-----+------+--------+-------+\n",
      "| class    | gts | dets | recall | ap    |\n",
      "+----------+-----+------+--------+-------+\n",
      "| 7up      | 810 | 4797 | 0.773  | 0.416 |\n",
      "| BudLight | 209 | 950  | 0.603  | 0.275 |\n",
      "+----------+-----+------+--------+-------+\n",
      "| mAP      |     |      |        | 0.346 |\n",
      "+----------+-----+------+--------+-------+\n",
      "2022-05-26 16:28:23,332 - mmfewshot - INFO - BASE_CLASSES_SPLIT1 mAP: 0.3456190824508667\n",
      "2022-05-26 16:28:23,333 - mmfewshot - INFO - NOVEL_CLASSES_SPLIT1 mAP: nan\n",
      "2022-05-26 16:28:23,337 - mmfewshot - INFO - Exp name: attention-rpn_r50_c4_tb-split1_1shot-fine-tuning-momentum-09.py\n",
      "2022-05-26 16:28:23,338 - mmfewshot - INFO - Iter(val) [712]\tAP50: 0.3460, BASE_CLASSES_SPLIT1: AP50: 0.3460, NOVEL_CLASSES_SPLIT1: AP50: nan, mAP: 0.3456\n",
      "2022-05-26 16:28:36,717 - mmfewshot - INFO - Iter [57050/100000]\tlr: 1.000e-04, eta: 3:57:53, time: 1.589, data_time: 1.333, memory: 5635, loss_rpn_cls: 0.0073, loss_rpn_bbox: 0.0051, loss_cls: 0.0475, acc: 99.5547, loss_bbox: 0.3259, loss: 0.3858\n",
      "2022-05-26 16:28:50,087 - mmfewshot - INFO - Iter [57100/100000]\tlr: 1.000e-04, eta: 3:57:34, time: 0.268, data_time: 0.012, memory: 5635, loss_rpn_cls: 0.0067, loss_rpn_bbox: 0.0062, loss_cls: 0.0368, acc: 99.7500, loss_bbox: 0.2773, loss: 0.3269\n",
      "2022-05-26 16:29:03,430 - mmfewshot - INFO - Iter [57150/100000]\tlr: 1.000e-04, eta: 3:57:15, time: 0.266, data_time: 0.011, memory: 5635, loss_rpn_cls: 0.0056, loss_rpn_bbox: 0.0054, loss_cls: 0.0348, acc: 99.7266, loss_bbox: 0.2732, loss: 0.3190\n",
      "2022-05-26 16:29:16,671 - mmfewshot - INFO - Iter [57200/100000]\tlr: 1.000e-04, eta: 3:56:56, time: 0.265, data_time: 0.010, memory: 5635, loss_rpn_cls: 0.0064, loss_rpn_bbox: 0.0058, loss_cls: 0.0339, acc: 99.6250, loss_bbox: 0.3190, loss: 0.3651\n",
      "2022-05-26 16:29:30,086 - mmfewshot - INFO - Iter [57250/100000]\tlr: 1.000e-04, eta: 3:56:37, time: 0.268, data_time: 0.012, memory: 5635, loss_rpn_cls: 0.0065, loss_rpn_bbox: 0.0090, loss_cls: 0.0343, acc: 99.6641, loss_bbox: 0.2956, loss: 0.3455\n",
      "2022-05-26 16:29:43,331 - mmfewshot - INFO - Iter [57300/100000]\tlr: 1.000e-04, eta: 3:56:18, time: 0.265, data_time: 0.010, memory: 5635, loss_rpn_cls: 0.0088, loss_rpn_bbox: 0.0102, loss_cls: 0.0386, acc: 99.6172, loss_bbox: 0.3119, loss: 0.3694\n",
      "2022-05-26 16:29:56,707 - mmfewshot - INFO - Iter [57350/100000]\tlr: 1.000e-04, eta: 3:55:59, time: 0.268, data_time: 0.012, memory: 5635, loss_rpn_cls: 0.0057, loss_rpn_bbox: 0.0068, loss_cls: 0.0421, acc: 99.6094, loss_bbox: 0.2737, loss: 0.3283\n",
      "2022-05-26 16:30:10,071 - mmfewshot - INFO - Iter [57400/100000]\tlr: 1.000e-04, eta: 3:55:40, time: 0.267, data_time: 0.012, memory: 5635, loss_rpn_cls: 0.0091, loss_rpn_bbox: 0.0059, loss_cls: 0.0353, acc: 99.6250, loss_bbox: 0.2730, loss: 0.3233\n",
      "2022-05-26 16:30:23,538 - mmfewshot - INFO - Iter [57450/100000]\tlr: 1.000e-04, eta: 3:55:21, time: 0.270, data_time: 0.011, memory: 5635, loss_rpn_cls: 0.0056, loss_rpn_bbox: 0.0033, loss_cls: 0.0372, acc: 99.7266, loss_bbox: 0.2602, loss: 0.3063\n",
      "2022-05-26 16:30:36,890 - mmfewshot - INFO - Iter [57500/100000]\tlr: 1.000e-04, eta: 3:55:02, time: 0.267, data_time: 0.012, memory: 5635, loss_rpn_cls: 0.0074, loss_rpn_bbox: 0.0056, loss_cls: 0.0282, acc: 99.7344, loss_bbox: 0.2913, loss: 0.3325\n",
      "2022-05-26 16:30:50,344 - mmfewshot - INFO - Iter [57550/100000]\tlr: 1.000e-04, eta: 3:54:43, time: 0.269, data_time: 0.012, memory: 5635, loss_rpn_cls: 0.0060, loss_rpn_bbox: 0.0043, loss_cls: 0.0332, acc: 99.6406, loss_bbox: 0.2945, loss: 0.3380\n",
      "2022-05-26 16:31:03,757 - mmfewshot - INFO - Iter [57600/100000]\tlr: 1.000e-04, eta: 3:54:24, time: 0.268, data_time: 0.012, memory: 5635, loss_rpn_cls: 0.0072, loss_rpn_bbox: 0.0055, loss_cls: 0.0246, acc: 99.7031, loss_bbox: 0.3044, loss: 0.3417\n",
      "2022-05-26 16:31:17,023 - mmfewshot - INFO - Iter [57650/100000]\tlr: 1.000e-04, eta: 3:54:05, time: 0.265, data_time: 0.012, memory: 5635, loss_rpn_cls: 0.0081, loss_rpn_bbox: 0.0084, loss_cls: 0.0318, acc: 99.6953, loss_bbox: 0.2893, loss: 0.3377\n",
      "2022-05-26 16:31:30,481 - mmfewshot - INFO - Iter [57700/100000]\tlr: 1.000e-04, eta: 3:53:46, time: 0.269, data_time: 0.012, memory: 5635, loss_rpn_cls: 0.0073, loss_rpn_bbox: 0.0084, loss_cls: 0.0406, acc: 99.6172, loss_bbox: 0.2900, loss: 0.3464\n",
      "2022-05-26 16:31:43,781 - mmfewshot - INFO - Iter [57750/100000]\tlr: 1.000e-04, eta: 3:53:27, time: 0.266, data_time: 0.012, memory: 5635, loss_rpn_cls: 0.0059, loss_rpn_bbox: 0.0087, loss_cls: 0.0422, acc: 99.6250, loss_bbox: 0.2542, loss: 0.3109\n",
      "2022-05-26 16:31:57,181 - mmfewshot - INFO - Iter [57800/100000]\tlr: 1.000e-04, eta: 3:53:08, time: 0.268, data_time: 0.012, memory: 5635, loss_rpn_cls: 0.0053, loss_rpn_bbox: 0.0065, loss_cls: 0.0326, acc: 99.6484, loss_bbox: 0.2688, loss: 0.3132\n",
      "2022-05-26 16:32:10,465 - mmfewshot - INFO - Iter [57850/100000]\tlr: 1.000e-04, eta: 3:52:49, time: 0.266, data_time: 0.012, memory: 5635, loss_rpn_cls: 0.0065, loss_rpn_bbox: 0.0051, loss_cls: 0.0427, acc: 99.5312, loss_bbox: 0.2713, loss: 0.3256\n",
      "2022-05-26 16:32:23,663 - mmfewshot - INFO - Iter [57900/100000]\tlr: 1.000e-04, eta: 3:52:30, time: 0.264, data_time: 0.011, memory: 5635, loss_rpn_cls: 0.0062, loss_rpn_bbox: 0.0049, loss_cls: 0.0311, acc: 99.6719, loss_bbox: 0.2623, loss: 0.3045\n",
      "2022-05-26 16:32:37,077 - mmfewshot - INFO - Iter [57950/100000]\tlr: 1.000e-04, eta: 3:52:11, time: 0.268, data_time: 0.012, memory: 5635, loss_rpn_cls: 0.0109, loss_rpn_bbox: 0.0081, loss_cls: 0.0392, acc: 99.6172, loss_bbox: 0.2847, loss: 0.3429\n",
      "2022-05-26 16:32:50,409 - mmfewshot - INFO - Exp name: attention-rpn_r50_c4_tb-split1_1shot-fine-tuning-momentum-09.py\n",
      "2022-05-26 16:32:50,411 - mmfewshot - INFO - Iter [58000/100000]\tlr: 1.000e-04, eta: 3:51:53, time: 0.266, data_time: 0.011, memory: 5635, loss_rpn_cls: 0.0054, loss_rpn_bbox: 0.0046, loss_cls: 0.0322, acc: 99.6797, loss_bbox: 0.2799, loss: 0.3221\n",
      "2022-05-26 16:32:50,416 - mmdet - INFO - starting model initialization...\n"
     ]
    },
    {
     "name": "stdout",
     "output_type": "stream",
     "text": [
      "[>>>>>>>>>>>>>>>>>>>>>>>>>>>>>>] 640/640, 80.1 task/s, elapsed: 8s, ETA:     0s"
     ]
    },
    {
     "name": "stderr",
     "output_type": "stream",
     "text": [
      "2022-05-26 16:32:58,476 - mmdet - INFO - model initialization done.\n"
     ]
    },
    {
     "name": "stdout",
     "output_type": "stream",
     "text": [
      "[>>>>>>>>>>>>>>>>>>>>>>>>>>>>>] 712/712, 12.7 task/s, elapsed: 56s, ETA:     0s\n",
      "---------------iou_thr: 0.5---------------\n"
     ]
    },
    {
     "name": "stderr",
     "output_type": "stream",
     "text": [
      "2022-05-26 16:33:55,138 - mmfewshot - INFO - \n",
      "+----------+-----+------+--------+-------+\n",
      "| class    | gts | dets | recall | ap    |\n",
      "+----------+-----+------+--------+-------+\n",
      "| 7up      | 810 | 2732 | 0.626  | 0.307 |\n",
      "| BudLight | 209 | 439  | 0.469  | 0.282 |\n",
      "+----------+-----+------+--------+-------+\n",
      "| mAP      |     |      |        | 0.294 |\n",
      "+----------+-----+------+--------+-------+\n",
      "2022-05-26 16:33:55,140 - mmfewshot - INFO - BASE_CLASSES_SPLIT1 mAP: 0.29409849643707275\n",
      "2022-05-26 16:33:55,141 - mmfewshot - INFO - NOVEL_CLASSES_SPLIT1 mAP: nan\n",
      "2022-05-26 16:33:55,146 - mmfewshot - INFO - Exp name: attention-rpn_r50_c4_tb-split1_1shot-fine-tuning-momentum-09.py\n",
      "2022-05-26 16:33:55,147 - mmfewshot - INFO - Iter(val) [712]\tAP50: 0.2940, BASE_CLASSES_SPLIT1: AP50: 0.2940, NOVEL_CLASSES_SPLIT1: AP50: nan, mAP: 0.2941\n",
      "/home/zhaozhiyuan/anaconda3/envs/mmfewshot/lib/python3.7/site-packages/mmdet/core/evaluation/mean_ap.py:203: DeprecationWarning: `np.bool` is a deprecated alias for the builtin `bool`. To silence this warning, use `bool` by itself. Doing this will not modify any behavior and is safe. If you specifically wanted the numpy scalar type, use `np.bool_` here.\n",
      "Deprecated in NumPy 1.20; for more details and guidance: https://numpy.org/devdocs/release/1.20.0-notes.html#deprecations\n",
      "  (np.zeros(gt_bboxes.shape[0], dtype=np.bool),\n",
      "2022-05-26 16:34:08,725 - mmfewshot - INFO - Iter [58050/100000]\tlr: 1.000e-04, eta: 3:52:21, time: 1.566, data_time: 1.307, memory: 5635, loss_rpn_cls: 0.0061, loss_rpn_bbox: 0.0049, loss_cls: 0.0342, acc: 99.7188, loss_bbox: 0.2965, loss: 0.3417\n",
      "2022-05-26 16:34:22,111 - mmfewshot - INFO - Iter [58100/100000]\tlr: 1.000e-04, eta: 3:52:02, time: 0.268, data_time: 0.011, memory: 5635, loss_rpn_cls: 0.0092, loss_rpn_bbox: 0.0082, loss_cls: 0.0381, acc: 99.6484, loss_bbox: 0.2997, loss: 0.3553\n",
      "2022-05-26 16:34:35,442 - mmfewshot - INFO - Iter [58150/100000]\tlr: 1.000e-04, eta: 3:51:43, time: 0.267, data_time: 0.011, memory: 5635, loss_rpn_cls: 0.0066, loss_rpn_bbox: 0.0040, loss_cls: 0.0350, acc: 99.6250, loss_bbox: 0.2725, loss: 0.3181\n",
      "2022-05-26 16:34:48,836 - mmfewshot - INFO - Iter [58200/100000]\tlr: 1.000e-04, eta: 3:51:24, time: 0.268, data_time: 0.011, memory: 5635, loss_rpn_cls: 0.0056, loss_rpn_bbox: 0.0041, loss_cls: 0.0292, acc: 99.6719, loss_bbox: 0.2856, loss: 0.3244\n",
      "2022-05-26 16:35:02,121 - mmfewshot - INFO - Iter [58250/100000]\tlr: 1.000e-04, eta: 3:51:05, time: 0.266, data_time: 0.011, memory: 5635, loss_rpn_cls: 0.0075, loss_rpn_bbox: 0.0053, loss_cls: 0.0401, acc: 99.6641, loss_bbox: 0.2785, loss: 0.3314\n",
      "2022-05-26 16:35:15,629 - mmfewshot - INFO - Iter [58300/100000]\tlr: 1.000e-04, eta: 3:50:46, time: 0.270, data_time: 0.012, memory: 5635, loss_rpn_cls: 0.0062, loss_rpn_bbox: 0.0040, loss_cls: 0.0275, acc: 99.7812, loss_bbox: 0.2568, loss: 0.2945\n",
      "2022-05-26 16:35:28,870 - mmfewshot - INFO - Iter [58350/100000]\tlr: 1.000e-04, eta: 3:50:27, time: 0.265, data_time: 0.011, memory: 5635, loss_rpn_cls: 0.0056, loss_rpn_bbox: 0.0058, loss_cls: 0.0275, acc: 99.7422, loss_bbox: 0.2770, loss: 0.3158\n",
      "2022-05-26 16:35:42,233 - mmfewshot - INFO - Iter [58400/100000]\tlr: 1.000e-04, eta: 3:50:08, time: 0.267, data_time: 0.012, memory: 5635, loss_rpn_cls: 0.0055, loss_rpn_bbox: 0.0045, loss_cls: 0.0411, acc: 99.5312, loss_bbox: 0.3114, loss: 0.3625\n",
      "2022-05-26 16:35:55,735 - mmfewshot - INFO - Iter [58450/100000]\tlr: 1.000e-04, eta: 3:49:49, time: 0.270, data_time: 0.012, memory: 5635, loss_rpn_cls: 0.0062, loss_rpn_bbox: 0.0044, loss_cls: 0.0423, acc: 99.5938, loss_bbox: 0.2867, loss: 0.3396\n",
      "2022-05-26 16:36:09,058 - mmfewshot - INFO - Iter [58500/100000]\tlr: 1.000e-04, eta: 3:49:30, time: 0.266, data_time: 0.011, memory: 5635, loss_rpn_cls: 0.0041, loss_rpn_bbox: 0.0033, loss_cls: 0.0342, acc: 99.6875, loss_bbox: 0.2851, loss: 0.3267\n",
      "2022-05-26 16:36:22,353 - mmfewshot - INFO - Iter [58550/100000]\tlr: 1.000e-04, eta: 3:49:11, time: 0.266, data_time: 0.011, memory: 5635, loss_rpn_cls: 0.0086, loss_rpn_bbox: 0.0059, loss_cls: 0.0330, acc: 99.6875, loss_bbox: 0.3042, loss: 0.3517\n",
      "2022-05-26 16:36:35,886 - mmfewshot - INFO - Iter [58600/100000]\tlr: 1.000e-04, eta: 3:48:53, time: 0.271, data_time: 0.012, memory: 5635, loss_rpn_cls: 0.0054, loss_rpn_bbox: 0.0059, loss_cls: 0.0332, acc: 99.6719, loss_bbox: 0.2981, loss: 0.3425\n",
      "2022-05-26 16:36:49,383 - mmfewshot - INFO - Iter [58650/100000]\tlr: 1.000e-04, eta: 3:48:34, time: 0.270, data_time: 0.012, memory: 5635, loss_rpn_cls: 0.0063, loss_rpn_bbox: 0.0057, loss_cls: 0.0401, acc: 99.6562, loss_bbox: 0.2733, loss: 0.3254\n",
      "2022-05-26 16:37:02,685 - mmfewshot - INFO - Iter [58700/100000]\tlr: 1.000e-04, eta: 3:48:15, time: 0.266, data_time: 0.011, memory: 5635, loss_rpn_cls: 0.0065, loss_rpn_bbox: 0.0057, loss_cls: 0.0522, acc: 99.7109, loss_bbox: 0.2487, loss: 0.3131\n",
      "2022-05-26 16:37:16,098 - mmfewshot - INFO - Iter [58750/100000]\tlr: 1.000e-04, eta: 3:47:56, time: 0.268, data_time: 0.012, memory: 5635, loss_rpn_cls: 0.0058, loss_rpn_bbox: 0.0046, loss_cls: 0.0290, acc: 99.6641, loss_bbox: 0.3196, loss: 0.3589\n",
      "2022-05-26 16:37:29,388 - mmfewshot - INFO - Iter [58800/100000]\tlr: 1.000e-04, eta: 3:47:37, time: 0.266, data_time: 0.012, memory: 5635, loss_rpn_cls: 0.0059, loss_rpn_bbox: 0.0045, loss_cls: 0.0427, acc: 99.6094, loss_bbox: 0.2863, loss: 0.3395\n",
      "2022-05-26 16:37:42,791 - mmfewshot - INFO - Iter [58850/100000]\tlr: 1.000e-04, eta: 3:47:19, time: 0.268, data_time: 0.012, memory: 5635, loss_rpn_cls: 0.0069, loss_rpn_bbox: 0.0040, loss_cls: 0.0326, acc: 99.7266, loss_bbox: 0.2641, loss: 0.3077\n",
      "2022-05-26 16:37:56,244 - mmfewshot - INFO - Iter [58900/100000]\tlr: 1.000e-04, eta: 3:47:00, time: 0.269, data_time: 0.011, memory: 5635, loss_rpn_cls: 0.0088, loss_rpn_bbox: 0.0100, loss_cls: 0.0314, acc: 99.6875, loss_bbox: 0.2974, loss: 0.3475\n",
      "2022-05-26 16:38:09,602 - mmfewshot - INFO - Iter [58950/100000]\tlr: 1.000e-04, eta: 3:46:41, time: 0.267, data_time: 0.012, memory: 5635, loss_rpn_cls: 0.0054, loss_rpn_bbox: 0.0054, loss_cls: 0.0250, acc: 99.6719, loss_bbox: 0.2727, loss: 0.3085\n",
      "2022-05-26 16:38:22,966 - mmfewshot - INFO - Exp name: attention-rpn_r50_c4_tb-split1_1shot-fine-tuning-momentum-09.py\n",
      "2022-05-26 16:38:22,967 - mmfewshot - INFO - Iter [59000/100000]\tlr: 1.000e-04, eta: 3:46:22, time: 0.267, data_time: 0.012, memory: 5635, loss_rpn_cls: 0.0058, loss_rpn_bbox: 0.0070, loss_cls: 0.0290, acc: 99.7266, loss_bbox: 0.2861, loss: 0.3279\n",
      "2022-05-26 16:38:22,974 - mmdet - INFO - starting model initialization...\n"
     ]
    },
    {
     "name": "stdout",
     "output_type": "stream",
     "text": [
      "[>>>>>>>>>>>>>>>>>>>>>>>>>>>>>>] 640/640, 78.9 task/s, elapsed: 8s, ETA:     0s"
     ]
    },
    {
     "name": "stderr",
     "output_type": "stream",
     "text": [
      "2022-05-26 16:38:31,156 - mmdet - INFO - model initialization done.\n"
     ]
    },
    {
     "name": "stdout",
     "output_type": "stream",
     "text": [
      "[>>>>>>>>>>>>>>>>>>>>>>>>>>>>>] 712/712, 12.6 task/s, elapsed: 56s, ETA:     0s\n",
      "---------------iou_thr: 0.5---------------\n"
     ]
    },
    {
     "name": "stderr",
     "output_type": "stream",
     "text": [
      "2022-05-26 16:39:27,854 - mmfewshot - INFO - \n",
      "+----------+-----+------+--------+-------+\n",
      "| class    | gts | dets | recall | ap    |\n",
      "+----------+-----+------+--------+-------+\n",
      "| 7up      | 810 | 2677 | 0.658  | 0.351 |\n",
      "| BudLight | 209 | 419  | 0.478  | 0.260 |\n",
      "+----------+-----+------+--------+-------+\n",
      "| mAP      |     |      |        | 0.306 |\n",
      "+----------+-----+------+--------+-------+\n",
      "2022-05-26 16:39:27,857 - mmfewshot - INFO - BASE_CLASSES_SPLIT1 mAP: 0.30555054545402527\n",
      "2022-05-26 16:39:27,858 - mmfewshot - INFO - NOVEL_CLASSES_SPLIT1 mAP: nan\n",
      "2022-05-26 16:39:27,863 - mmfewshot - INFO - Exp name: attention-rpn_r50_c4_tb-split1_1shot-fine-tuning-momentum-09.py\n",
      "/home/zhaozhiyuan/anaconda3/envs/mmfewshot/lib/python3.7/site-packages/mmdet/core/evaluation/mean_ap.py:203: DeprecationWarning: `np.bool` is a deprecated alias for the builtin `bool`. To silence this warning, use `bool` by itself. Doing this will not modify any behavior and is safe. If you specifically wanted the numpy scalar type, use `np.bool_` here.\n",
      "Deprecated in NumPy 1.20; for more details and guidance: https://numpy.org/devdocs/release/1.20.0-notes.html#deprecations\n",
      "  (np.zeros(gt_bboxes.shape[0], dtype=np.bool),\n",
      "/home/zhaozhiyuan/anaconda3/envs/mmfewshot/lib/python3.7/site-packages/mmdet/core/evaluation/mean_ap.py:203: DeprecationWarning: `np.bool` is a deprecated alias for the builtin `bool`. To silence this warning, use `bool` by itself. Doing this will not modify any behavior and is safe. If you specifically wanted the numpy scalar type, use `np.bool_` here.\n",
      "Deprecated in NumPy 1.20; for more details and guidance: https://numpy.org/devdocs/release/1.20.0-notes.html#deprecations\n",
      "  (np.zeros(gt_bboxes.shape[0], dtype=np.bool),\n",
      "2022-05-26 16:39:27,865 - mmfewshot - INFO - Iter(val) [712]\tAP50: 0.3060, BASE_CLASSES_SPLIT1: AP50: 0.3060, NOVEL_CLASSES_SPLIT1: AP50: nan, mAP: 0.3056\n",
      "2022-05-26 16:39:41,164 - mmfewshot - INFO - Iter [59050/100000]\tlr: 1.000e-04, eta: 3:46:48, time: 1.564, data_time: 1.310, memory: 5635, loss_rpn_cls: 0.0059, loss_rpn_bbox: 0.0063, loss_cls: 0.0406, acc: 99.5859, loss_bbox: 0.2689, loss: 0.3217\n",
      "2022-05-26 16:39:54,486 - mmfewshot - INFO - Iter [59100/100000]\tlr: 1.000e-04, eta: 3:46:29, time: 0.266, data_time: 0.012, memory: 5635, loss_rpn_cls: 0.0067, loss_rpn_bbox: 0.0049, loss_cls: 0.0298, acc: 99.6484, loss_bbox: 0.3085, loss: 0.3500\n",
      "2022-05-26 16:40:07,662 - mmfewshot - INFO - Iter [59150/100000]\tlr: 1.000e-04, eta: 3:46:10, time: 0.264, data_time: 0.011, memory: 5635, loss_rpn_cls: 0.0072, loss_rpn_bbox: 0.0059, loss_cls: 0.0331, acc: 99.6094, loss_bbox: 0.3085, loss: 0.3547\n",
      "2022-05-26 16:40:20,957 - mmfewshot - INFO - Iter [59200/100000]\tlr: 1.000e-04, eta: 3:45:52, time: 0.266, data_time: 0.011, memory: 5635, loss_rpn_cls: 0.0077, loss_rpn_bbox: 0.0055, loss_cls: 0.0358, acc: 99.6562, loss_bbox: 0.2977, loss: 0.3467\n",
      "2022-05-26 16:40:34,246 - mmfewshot - INFO - Iter [59250/100000]\tlr: 1.000e-04, eta: 3:45:33, time: 0.266, data_time: 0.011, memory: 5635, loss_rpn_cls: 0.0061, loss_rpn_bbox: 0.0058, loss_cls: 0.0505, acc: 99.6953, loss_bbox: 0.2659, loss: 0.3283\n",
      "2022-05-26 16:40:47,622 - mmfewshot - INFO - Iter [59300/100000]\tlr: 1.000e-04, eta: 3:45:14, time: 0.267, data_time: 0.011, memory: 5635, loss_rpn_cls: 0.0077, loss_rpn_bbox: 0.0063, loss_cls: 0.0331, acc: 99.7188, loss_bbox: 0.2751, loss: 0.3222\n",
      "2022-05-26 16:41:01,018 - mmfewshot - INFO - Iter [59350/100000]\tlr: 1.000e-04, eta: 3:44:55, time: 0.268, data_time: 0.011, memory: 5635, loss_rpn_cls: 0.0051, loss_rpn_bbox: 0.0036, loss_cls: 0.0428, acc: 99.5938, loss_bbox: 0.3051, loss: 0.3566\n",
      "2022-05-26 16:41:14,382 - mmfewshot - INFO - Iter [59400/100000]\tlr: 1.000e-04, eta: 3:44:36, time: 0.267, data_time: 0.011, memory: 5635, loss_rpn_cls: 0.0085, loss_rpn_bbox: 0.0050, loss_cls: 0.0371, acc: 99.7188, loss_bbox: 0.2761, loss: 0.3267\n",
      "2022-05-26 16:41:27,690 - mmfewshot - INFO - Iter [59450/100000]\tlr: 1.000e-04, eta: 3:44:17, time: 0.267, data_time: 0.011, memory: 5635, loss_rpn_cls: 0.0068, loss_rpn_bbox: 0.0070, loss_cls: 0.0304, acc: 99.7109, loss_bbox: 0.3007, loss: 0.3448\n",
      "2022-05-26 16:41:41,143 - mmfewshot - INFO - Iter [59500/100000]\tlr: 1.000e-04, eta: 3:43:59, time: 0.269, data_time: 0.011, memory: 5635, loss_rpn_cls: 0.0105, loss_rpn_bbox: 0.0075, loss_cls: 0.0401, acc: 99.6250, loss_bbox: 0.3044, loss: 0.3624\n",
      "2022-05-26 16:41:54,634 - mmfewshot - INFO - Iter [59550/100000]\tlr: 1.000e-04, eta: 3:43:40, time: 0.270, data_time: 0.012, memory: 5635, loss_rpn_cls: 0.0074, loss_rpn_bbox: 0.0052, loss_cls: 0.0337, acc: 99.6172, loss_bbox: 0.3357, loss: 0.3820\n",
      "2022-05-26 16:42:08,220 - mmfewshot - INFO - Iter [59600/100000]\tlr: 1.000e-04, eta: 3:43:21, time: 0.272, data_time: 0.012, memory: 5635, loss_rpn_cls: 0.0062, loss_rpn_bbox: 0.0052, loss_cls: 0.0394, acc: 99.6328, loss_bbox: 0.2971, loss: 0.3479\n",
      "2022-05-26 16:42:21,713 - mmfewshot - INFO - Iter [59650/100000]\tlr: 1.000e-04, eta: 3:43:03, time: 0.270, data_time: 0.012, memory: 5635, loss_rpn_cls: 0.0062, loss_rpn_bbox: 0.0050, loss_cls: 0.0318, acc: 99.7578, loss_bbox: 0.2863, loss: 0.3293\n",
      "2022-05-26 16:42:35,197 - mmfewshot - INFO - Iter [59700/100000]\tlr: 1.000e-04, eta: 3:42:44, time: 0.269, data_time: 0.012, memory: 5635, loss_rpn_cls: 0.0051, loss_rpn_bbox: 0.0041, loss_cls: 0.0372, acc: 99.7109, loss_bbox: 0.2381, loss: 0.2844\n",
      "2022-05-26 16:42:48,556 - mmfewshot - INFO - Iter [59750/100000]\tlr: 1.000e-04, eta: 3:42:25, time: 0.267, data_time: 0.011, memory: 5635, loss_rpn_cls: 0.0051, loss_rpn_bbox: 0.0042, loss_cls: 0.0441, acc: 99.6094, loss_bbox: 0.3117, loss: 0.3651\n",
      "2022-05-26 16:43:01,806 - mmfewshot - INFO - Iter [59800/100000]\tlr: 1.000e-04, eta: 3:42:06, time: 0.265, data_time: 0.011, memory: 5635, loss_rpn_cls: 0.0045, loss_rpn_bbox: 0.0036, loss_cls: 0.0329, acc: 99.6875, loss_bbox: 0.2613, loss: 0.3024\n",
      "2022-05-26 16:43:15,334 - mmfewshot - INFO - Iter [59850/100000]\tlr: 1.000e-04, eta: 3:41:48, time: 0.271, data_time: 0.012, memory: 5635, loss_rpn_cls: 0.0115, loss_rpn_bbox: 0.0073, loss_cls: 0.0378, acc: 99.6328, loss_bbox: 0.2953, loss: 0.3519\n",
      "2022-05-26 16:43:28,908 - mmfewshot - INFO - Iter [59900/100000]\tlr: 1.000e-04, eta: 3:41:29, time: 0.271, data_time: 0.013, memory: 5635, loss_rpn_cls: 0.0088, loss_rpn_bbox: 0.0049, loss_cls: 0.0325, acc: 99.6719, loss_bbox: 0.3092, loss: 0.3554\n",
      "2022-05-26 16:43:42,305 - mmfewshot - INFO - Iter [59950/100000]\tlr: 1.000e-04, eta: 3:41:11, time: 0.268, data_time: 0.011, memory: 5635, loss_rpn_cls: 0.0049, loss_rpn_bbox: 0.0050, loss_cls: 0.0356, acc: 99.6641, loss_bbox: 0.3030, loss: 0.3486\n",
      "2022-05-26 16:43:55,595 - mmfewshot - INFO - Saving checkpoint at 60000 iterations\n",
      "2022-05-26 16:43:57,110 - mmfewshot - INFO - Exp name: attention-rpn_r50_c4_tb-split1_1shot-fine-tuning-momentum-09.py\n",
      "2022-05-26 16:43:57,111 - mmfewshot - INFO - Iter [60000/100000]\tlr: 1.000e-04, eta: 3:40:53, time: 0.298, data_time: 0.011, memory: 5635, loss_rpn_cls: 0.0047, loss_rpn_bbox: 0.0042, loss_cls: 0.0456, acc: 99.6250, loss_bbox: 0.2807, loss: 0.3352\n",
      "2022-05-26 16:43:57,116 - mmdet - INFO - starting model initialization...\n"
     ]
    },
    {
     "name": "stdout",
     "output_type": "stream",
     "text": [
      "[>>>>>>>>>>>>>>>>>>>>>>>>>>>>>>] 640/640, 73.4 task/s, elapsed: 9s, ETA:     0s"
     ]
    },
    {
     "name": "stderr",
     "output_type": "stream",
     "text": [
      "2022-05-26 16:44:05,914 - mmdet - INFO - model initialization done.\n"
     ]
    },
    {
     "name": "stdout",
     "output_type": "stream",
     "text": [
      "[>>>>>>>>>>>>>>>>>>>>>>>>>>>>>] 712/712, 12.5 task/s, elapsed: 57s, ETA:     0s\n",
      "---------------iou_thr: 0.5---------------\n"
     ]
    },
    {
     "name": "stderr",
     "output_type": "stream",
     "text": [
      "2022-05-26 16:45:03,187 - mmfewshot - INFO - \n",
      "+----------+-----+------+--------+-------+\n",
      "| class    | gts | dets | recall | ap    |\n",
      "+----------+-----+------+--------+-------+\n",
      "| 7up      | 810 | 3489 | 0.715  | 0.369 |\n",
      "| BudLight | 209 | 548  | 0.560  | 0.289 |\n",
      "+----------+-----+------+--------+-------+\n",
      "| mAP      |     |      |        | 0.329 |\n",
      "+----------+-----+------+--------+-------+\n",
      "2022-05-26 16:45:03,189 - mmfewshot - INFO - BASE_CLASSES_SPLIT1 mAP: 0.32913684844970703\n",
      "2022-05-26 16:45:03,190 - mmfewshot - INFO - NOVEL_CLASSES_SPLIT1 mAP: nan\n",
      "2022-05-26 16:45:03,195 - mmfewshot - INFO - Exp name: attention-rpn_r50_c4_tb-split1_1shot-fine-tuning-momentum-09.py\n",
      "2022-05-26 16:45:03,196 - mmfewshot - INFO - Iter(val) [712]\tAP50: 0.3290, BASE_CLASSES_SPLIT1: AP50: 0.3290, NOVEL_CLASSES_SPLIT1: AP50: nan, mAP: 0.3291\n",
      "/home/zhaozhiyuan/anaconda3/envs/mmfewshot/lib/python3.7/site-packages/mmdet/core/evaluation/mean_ap.py:203: DeprecationWarning: `np.bool` is a deprecated alias for the builtin `bool`. To silence this warning, use `bool` by itself. Doing this will not modify any behavior and is safe. If you specifically wanted the numpy scalar type, use `np.bool_` here.\n",
      "Deprecated in NumPy 1.20; for more details and guidance: https://numpy.org/devdocs/release/1.20.0-notes.html#deprecations\n",
      "  (np.zeros(gt_bboxes.shape[0], dtype=np.bool),\n",
      "2022-05-26 16:45:16,617 - mmfewshot - INFO - Iter [60050/100000]\tlr: 1.000e-04, eta: 3:41:18, time: 1.588, data_time: 1.331, memory: 5635, loss_rpn_cls: 0.0066, loss_rpn_bbox: 0.0064, loss_cls: 0.0382, acc: 99.6406, loss_bbox: 0.3122, loss: 0.3635\n",
      "2022-05-26 16:45:30,053 - mmfewshot - INFO - Iter [60100/100000]\tlr: 1.000e-04, eta: 3:40:59, time: 0.269, data_time: 0.012, memory: 5635, loss_rpn_cls: 0.0062, loss_rpn_bbox: 0.0050, loss_cls: 0.0258, acc: 99.7109, loss_bbox: 0.2914, loss: 0.3283\n",
      "2022-05-26 16:45:43,403 - mmfewshot - INFO - Iter [60150/100000]\tlr: 1.000e-04, eta: 3:40:41, time: 0.267, data_time: 0.012, memory: 5635, loss_rpn_cls: 0.0079, loss_rpn_bbox: 0.0050, loss_cls: 0.0320, acc: 99.6719, loss_bbox: 0.3111, loss: 0.3560\n",
      "2022-05-26 16:45:57,024 - mmfewshot - INFO - Iter [60200/100000]\tlr: 1.000e-04, eta: 3:40:22, time: 0.272, data_time: 0.012, memory: 5635, loss_rpn_cls: 0.0078, loss_rpn_bbox: 0.0070, loss_cls: 0.0333, acc: 99.7031, loss_bbox: 0.2798, loss: 0.3279\n",
      "2022-05-26 16:46:10,331 - mmfewshot - INFO - Iter [60250/100000]\tlr: 1.000e-04, eta: 3:40:03, time: 0.266, data_time: 0.012, memory: 5635, loss_rpn_cls: 0.0049, loss_rpn_bbox: 0.0048, loss_cls: 0.0353, acc: 99.6172, loss_bbox: 0.2831, loss: 0.3280\n",
      "2022-05-26 16:46:23,683 - mmfewshot - INFO - Iter [60300/100000]\tlr: 1.000e-04, eta: 3:39:44, time: 0.267, data_time: 0.011, memory: 5635, loss_rpn_cls: 0.0072, loss_rpn_bbox: 0.0066, loss_cls: 0.0371, acc: 99.6641, loss_bbox: 0.2701, loss: 0.3210\n",
      "2022-05-26 16:46:37,138 - mmfewshot - INFO - Iter [60350/100000]\tlr: 1.000e-04, eta: 3:39:26, time: 0.269, data_time: 0.012, memory: 5635, loss_rpn_cls: 0.0060, loss_rpn_bbox: 0.0060, loss_cls: 0.0317, acc: 99.7344, loss_bbox: 0.2913, loss: 0.3350\n",
      "2022-05-26 16:46:50,655 - mmfewshot - INFO - Iter [60400/100000]\tlr: 1.000e-04, eta: 3:39:07, time: 0.270, data_time: 0.012, memory: 5635, loss_rpn_cls: 0.0047, loss_rpn_bbox: 0.0033, loss_cls: 0.0335, acc: 99.6797, loss_bbox: 0.3029, loss: 0.3444\n",
      "2022-05-26 16:47:04,038 - mmfewshot - INFO - Iter [60450/100000]\tlr: 1.000e-04, eta: 3:38:48, time: 0.268, data_time: 0.011, memory: 5635, loss_rpn_cls: 0.0077, loss_rpn_bbox: 0.0053, loss_cls: 0.0301, acc: 99.7344, loss_bbox: 0.2678, loss: 0.3110\n",
      "2022-05-26 16:47:17,516 - mmfewshot - INFO - Iter [60500/100000]\tlr: 1.000e-04, eta: 3:38:30, time: 0.269, data_time: 0.012, memory: 5635, loss_rpn_cls: 0.0040, loss_rpn_bbox: 0.0045, loss_cls: 0.0418, acc: 99.5625, loss_bbox: 0.2972, loss: 0.3475\n",
      "2022-05-26 16:47:31,003 - mmfewshot - INFO - Iter [60550/100000]\tlr: 1.000e-04, eta: 3:38:11, time: 0.270, data_time: 0.012, memory: 5635, loss_rpn_cls: 0.0038, loss_rpn_bbox: 0.0053, loss_cls: 0.0338, acc: 99.6719, loss_bbox: 0.3061, loss: 0.3491\n",
      "2022-05-26 16:47:44,571 - mmfewshot - INFO - Iter [60600/100000]\tlr: 1.000e-04, eta: 3:37:53, time: 0.271, data_time: 0.011, memory: 5635, loss_rpn_cls: 0.0084, loss_rpn_bbox: 0.0063, loss_cls: 0.0305, acc: 99.7656, loss_bbox: 0.2858, loss: 0.3310\n",
      "2022-05-26 16:47:57,843 - mmfewshot - INFO - Iter [60650/100000]\tlr: 1.000e-04, eta: 3:37:34, time: 0.265, data_time: 0.011, memory: 5635, loss_rpn_cls: 0.0045, loss_rpn_bbox: 0.0038, loss_cls: 0.0367, acc: 99.6484, loss_bbox: 0.3475, loss: 0.3925\n",
      "2022-05-26 16:48:11,283 - mmfewshot - INFO - Iter [60700/100000]\tlr: 1.000e-04, eta: 3:37:15, time: 0.269, data_time: 0.012, memory: 5635, loss_rpn_cls: 0.0081, loss_rpn_bbox: 0.0068, loss_cls: 0.0443, acc: 99.5547, loss_bbox: 0.3023, loss: 0.3616\n",
      "2022-05-26 16:48:24,662 - mmfewshot - INFO - Iter [60750/100000]\tlr: 1.000e-04, eta: 3:36:57, time: 0.267, data_time: 0.011, memory: 5635, loss_rpn_cls: 0.0076, loss_rpn_bbox: 0.0054, loss_cls: 0.0371, acc: 99.6172, loss_bbox: 0.2944, loss: 0.3445\n",
      "2022-05-26 16:48:38,048 - mmfewshot - INFO - Iter [60800/100000]\tlr: 1.000e-04, eta: 3:36:38, time: 0.268, data_time: 0.011, memory: 5635, loss_rpn_cls: 0.0067, loss_rpn_bbox: 0.0040, loss_cls: 0.0341, acc: 99.6875, loss_bbox: 0.2787, loss: 0.3235\n",
      "2022-05-26 16:48:51,517 - mmfewshot - INFO - Iter [60850/100000]\tlr: 1.000e-04, eta: 3:36:19, time: 0.269, data_time: 0.011, memory: 5635, loss_rpn_cls: 0.0061, loss_rpn_bbox: 0.0059, loss_cls: 0.0481, acc: 99.5312, loss_bbox: 0.3035, loss: 0.3637\n",
      "2022-05-26 16:49:04,916 - mmfewshot - INFO - Iter [60900/100000]\tlr: 1.000e-04, eta: 3:36:01, time: 0.268, data_time: 0.012, memory: 5635, loss_rpn_cls: 0.0070, loss_rpn_bbox: 0.0056, loss_cls: 0.0312, acc: 99.7031, loss_bbox: 0.2760, loss: 0.3198\n",
      "2022-05-26 16:49:18,288 - mmfewshot - INFO - Iter [60950/100000]\tlr: 1.000e-04, eta: 3:35:42, time: 0.268, data_time: 0.013, memory: 5635, loss_rpn_cls: 0.0055, loss_rpn_bbox: 0.0059, loss_cls: 0.0287, acc: 99.7344, loss_bbox: 0.3008, loss: 0.3409\n",
      "2022-05-26 16:49:31,573 - mmfewshot - INFO - Exp name: attention-rpn_r50_c4_tb-split1_1shot-fine-tuning-momentum-09.py\n",
      "2022-05-26 16:49:31,575 - mmfewshot - INFO - Iter [61000/100000]\tlr: 1.000e-04, eta: 3:35:23, time: 0.266, data_time: 0.011, memory: 5635, loss_rpn_cls: 0.0063, loss_rpn_bbox: 0.0046, loss_cls: 0.0350, acc: 99.6797, loss_bbox: 0.2579, loss: 0.3039\n",
      "2022-05-26 16:49:31,580 - mmdet - INFO - starting model initialization...\n"
     ]
    },
    {
     "name": "stdout",
     "output_type": "stream",
     "text": [
      "[>>>>>>>>>>>>>>>>>>>>>>>>>>>>>>] 640/640, 75.5 task/s, elapsed: 8s, ETA:     0s"
     ]
    },
    {
     "name": "stderr",
     "output_type": "stream",
     "text": [
      "2022-05-26 16:49:40,122 - mmdet - INFO - model initialization done.\n"
     ]
    },
    {
     "name": "stdout",
     "output_type": "stream",
     "text": [
      "[>>>>>>>>>>>>>>>>>>>>>>>>>>>>>] 712/712, 12.6 task/s, elapsed: 56s, ETA:     0s\n",
      "---------------iou_thr: 0.5---------------\n"
     ]
    },
    {
     "name": "stderr",
     "output_type": "stream",
     "text": [
      "2022-05-26 16:50:37,010 - mmfewshot - INFO - \n",
      "+----------+-----+------+--------+-------+\n",
      "| class    | gts | dets | recall | ap    |\n",
      "+----------+-----+------+--------+-------+\n",
      "| 7up      | 810 | 3511 | 0.689  | 0.331 |\n",
      "| BudLight | 209 | 537  | 0.517  | 0.277 |\n",
      "+----------+-----+------+--------+-------+\n",
      "| mAP      |     |      |        | 0.304 |\n",
      "+----------+-----+------+--------+-------+\n",
      "2022-05-26 16:50:37,077 - mmfewshot - INFO - BASE_CLASSES_SPLIT1 mAP: 0.3042258620262146\n",
      "2022-05-26 16:50:37,078 - mmfewshot - INFO - NOVEL_CLASSES_SPLIT1 mAP: nan\n",
      "2022-05-26 16:50:37,081 - mmfewshot - INFO - Exp name: attention-rpn_r50_c4_tb-split1_1shot-fine-tuning-momentum-09.py\n",
      "2022-05-26 16:50:37,082 - mmfewshot - INFO - Iter(val) [712]\tAP50: 0.3040, BASE_CLASSES_SPLIT1: AP50: 0.3040, NOVEL_CLASSES_SPLIT1: AP50: nan, mAP: 0.3042\n",
      "2022-05-26 16:50:50,455 - mmfewshot - INFO - Iter [61050/100000]\tlr: 1.000e-04, eta: 3:35:47, time: 1.578, data_time: 1.321, memory: 5635, loss_rpn_cls: 0.0046, loss_rpn_bbox: 0.0046, loss_cls: 0.0298, acc: 99.7734, loss_bbox: 0.2991, loss: 0.3381\n",
      "2022-05-26 16:51:03,847 - mmfewshot - INFO - Iter [61100/100000]\tlr: 1.000e-04, eta: 3:35:28, time: 0.268, data_time: 0.012, memory: 5635, loss_rpn_cls: 0.0055, loss_rpn_bbox: 0.0054, loss_cls: 0.0312, acc: 99.6719, loss_bbox: 0.3070, loss: 0.3492\n",
      "2022-05-26 16:51:17,416 - mmfewshot - INFO - Iter [61150/100000]\tlr: 1.000e-04, eta: 3:35:09, time: 0.271, data_time: 0.011, memory: 5635, loss_rpn_cls: 0.0058, loss_rpn_bbox: 0.0069, loss_cls: 0.0491, acc: 99.5234, loss_bbox: 0.2808, loss: 0.3425\n",
      "2022-05-26 16:51:30,758 - mmfewshot - INFO - Iter [61200/100000]\tlr: 1.000e-04, eta: 3:34:51, time: 0.266, data_time: 0.012, memory: 5635, loss_rpn_cls: 0.0074, loss_rpn_bbox: 0.0054, loss_cls: 0.0378, acc: 99.6094, loss_bbox: 0.2937, loss: 0.3443\n",
      "2022-05-26 16:51:44,002 - mmfewshot - INFO - Iter [61250/100000]\tlr: 1.000e-04, eta: 3:34:32, time: 0.265, data_time: 0.011, memory: 5635, loss_rpn_cls: 0.0052, loss_rpn_bbox: 0.0035, loss_cls: 0.0580, acc: 99.5000, loss_bbox: 0.2671, loss: 0.3339\n",
      "2022-05-26 16:51:57,602 - mmfewshot - INFO - Iter [61300/100000]\tlr: 1.000e-04, eta: 3:34:13, time: 0.272, data_time: 0.011, memory: 5635, loss_rpn_cls: 0.0063, loss_rpn_bbox: 0.0064, loss_cls: 0.0377, acc: 99.5781, loss_bbox: 0.3200, loss: 0.3704\n",
      "2022-05-26 16:52:11,284 - mmfewshot - INFO - Iter [61350/100000]\tlr: 1.000e-04, eta: 3:33:55, time: 0.273, data_time: 0.012, memory: 5635, loss_rpn_cls: 0.0097, loss_rpn_bbox: 0.0055, loss_cls: 0.0341, acc: 99.6172, loss_bbox: 0.2872, loss: 0.3365\n",
      "2022-05-26 16:52:24,593 - mmfewshot - INFO - Iter [61400/100000]\tlr: 1.000e-04, eta: 3:33:36, time: 0.266, data_time: 0.012, memory: 5635, loss_rpn_cls: 0.0050, loss_rpn_bbox: 0.0050, loss_cls: 0.0252, acc: 99.7500, loss_bbox: 0.2837, loss: 0.3189\n",
      "2022-05-26 16:52:37,973 - mmfewshot - INFO - Iter [61450/100000]\tlr: 1.000e-04, eta: 3:33:18, time: 0.268, data_time: 0.011, memory: 5635, loss_rpn_cls: 0.0050, loss_rpn_bbox: 0.0047, loss_cls: 0.0333, acc: 99.6875, loss_bbox: 0.2814, loss: 0.3244\n",
      "2022-05-26 16:52:51,429 - mmfewshot - INFO - Iter [61500/100000]\tlr: 1.000e-04, eta: 3:32:59, time: 0.269, data_time: 0.012, memory: 5635, loss_rpn_cls: 0.0059, loss_rpn_bbox: 0.0052, loss_cls: 0.0343, acc: 99.6719, loss_bbox: 0.2764, loss: 0.3218\n",
      "2022-05-26 16:53:04,881 - mmfewshot - INFO - Iter [61550/100000]\tlr: 1.000e-04, eta: 3:32:41, time: 0.269, data_time: 0.012, memory: 5635, loss_rpn_cls: 0.0076, loss_rpn_bbox: 0.0082, loss_cls: 0.0386, acc: 99.6172, loss_bbox: 0.2644, loss: 0.3188\n",
      "2022-05-26 16:53:18,246 - mmfewshot - INFO - Iter [61600/100000]\tlr: 1.000e-04, eta: 3:32:22, time: 0.267, data_time: 0.011, memory: 5635, loss_rpn_cls: 0.0054, loss_rpn_bbox: 0.0055, loss_cls: 0.0373, acc: 99.6328, loss_bbox: 0.3039, loss: 0.3521\n",
      "2022-05-26 16:53:31,724 - mmfewshot - INFO - Iter [61650/100000]\tlr: 1.000e-04, eta: 3:32:03, time: 0.269, data_time: 0.012, memory: 5635, loss_rpn_cls: 0.0080, loss_rpn_bbox: 0.0079, loss_cls: 0.0406, acc: 99.6562, loss_bbox: 0.2588, loss: 0.3153\n",
      "2022-05-26 16:53:45,197 - mmfewshot - INFO - Iter [61700/100000]\tlr: 1.000e-04, eta: 3:31:45, time: 0.269, data_time: 0.011, memory: 5635, loss_rpn_cls: 0.0069, loss_rpn_bbox: 0.0066, loss_cls: 0.0270, acc: 99.6875, loss_bbox: 0.3290, loss: 0.3695\n",
      "2022-05-26 16:53:58,625 - mmfewshot - INFO - Iter [61750/100000]\tlr: 1.000e-04, eta: 3:31:26, time: 0.269, data_time: 0.012, memory: 5635, loss_rpn_cls: 0.0043, loss_rpn_bbox: 0.0029, loss_cls: 0.0321, acc: 99.6953, loss_bbox: 0.2749, loss: 0.3142\n",
      "2022-05-26 16:54:12,141 - mmfewshot - INFO - Iter [61800/100000]\tlr: 1.000e-04, eta: 3:31:08, time: 0.270, data_time: 0.013, memory: 5635, loss_rpn_cls: 0.0075, loss_rpn_bbox: 0.0074, loss_cls: 0.0318, acc: 99.6328, loss_bbox: 0.3083, loss: 0.3550\n",
      "2022-05-26 16:54:25,414 - mmfewshot - INFO - Iter [61850/100000]\tlr: 1.000e-04, eta: 3:30:49, time: 0.266, data_time: 0.011, memory: 5635, loss_rpn_cls: 0.0095, loss_rpn_bbox: 0.0067, loss_cls: 0.0224, acc: 99.7656, loss_bbox: 0.2726, loss: 0.3111\n",
      "2022-05-26 16:54:38,882 - mmfewshot - INFO - Iter [61900/100000]\tlr: 1.000e-04, eta: 3:30:31, time: 0.269, data_time: 0.012, memory: 5635, loss_rpn_cls: 0.0051, loss_rpn_bbox: 0.0062, loss_cls: 0.0235, acc: 99.7031, loss_bbox: 0.2684, loss: 0.3031\n",
      "2022-05-26 16:54:52,318 - mmfewshot - INFO - Iter [61950/100000]\tlr: 1.000e-04, eta: 3:30:12, time: 0.269, data_time: 0.012, memory: 5635, loss_rpn_cls: 0.0064, loss_rpn_bbox: 0.0049, loss_cls: 0.0437, acc: 99.5781, loss_bbox: 0.2774, loss: 0.3324\n",
      "2022-05-26 16:55:05,634 - mmfewshot - INFO - Exp name: attention-rpn_r50_c4_tb-split1_1shot-fine-tuning-momentum-09.py\n",
      "2022-05-26 16:55:05,636 - mmfewshot - INFO - Iter [62000/100000]\tlr: 1.000e-04, eta: 3:29:54, time: 0.266, data_time: 0.011, memory: 5635, loss_rpn_cls: 0.0066, loss_rpn_bbox: 0.0060, loss_cls: 0.0283, acc: 99.6875, loss_bbox: 0.3029, loss: 0.3438\n",
      "2022-05-26 16:55:05,643 - mmdet - INFO - starting model initialization...\n"
     ]
    },
    {
     "name": "stdout",
     "output_type": "stream",
     "text": [
      "[>>>>>>>>>>>>>>>>>>>>>>>>>>>>>>] 640/640, 74.5 task/s, elapsed: 9s, ETA:     0s"
     ]
    },
    {
     "name": "stderr",
     "output_type": "stream",
     "text": [
      "2022-05-26 16:55:14,310 - mmdet - INFO - model initialization done.\n"
     ]
    },
    {
     "name": "stdout",
     "output_type": "stream",
     "text": [
      "[>>>>>>>>>>>>>>>>>>>>>>>>>>>>>] 712/712, 12.6 task/s, elapsed: 57s, ETA:     0s\n",
      "---------------iou_thr: 0.5---------------\n"
     ]
    },
    {
     "name": "stderr",
     "output_type": "stream",
     "text": [
      "2022-05-26 16:56:11,300 - mmfewshot - INFO - \n",
      "+----------+-----+------+--------+-------+\n",
      "| class    | gts | dets | recall | ap    |\n",
      "+----------+-----+------+--------+-------+\n",
      "| 7up      | 810 | 3002 | 0.662  | 0.326 |\n",
      "| BudLight | 209 | 370  | 0.426  | 0.222 |\n",
      "+----------+-----+------+--------+-------+\n",
      "| mAP      |     |      |        | 0.274 |\n",
      "+----------+-----+------+--------+-------+\n",
      "2022-05-26 16:56:11,303 - mmfewshot - INFO - BASE_CLASSES_SPLIT1 mAP: 0.27401161193847656\n",
      "2022-05-26 16:56:11,304 - mmfewshot - INFO - NOVEL_CLASSES_SPLIT1 mAP: nan\n",
      "2022-05-26 16:56:11,310 - mmfewshot - INFO - Exp name: attention-rpn_r50_c4_tb-split1_1shot-fine-tuning-momentum-09.py\n",
      "2022-05-26 16:56:11,311 - mmfewshot - INFO - Iter(val) [712]\tAP50: 0.2740, BASE_CLASSES_SPLIT1: AP50: 0.2740, NOVEL_CLASSES_SPLIT1: AP50: nan, mAP: 0.2740\n",
      "2022-05-26 16:56:24,887 - mmfewshot - INFO - Iter [62050/100000]\tlr: 1.000e-04, eta: 3:30:15, time: 1.585, data_time: 1.325, memory: 5635, loss_rpn_cls: 0.0071, loss_rpn_bbox: 0.0047, loss_cls: 0.0397, acc: 99.6016, loss_bbox: 0.2626, loss: 0.3142\n",
      "2022-05-26 16:56:38,338 - mmfewshot - INFO - Iter [62100/100000]\tlr: 1.000e-04, eta: 3:29:57, time: 0.269, data_time: 0.011, memory: 5635, loss_rpn_cls: 0.0046, loss_rpn_bbox: 0.0035, loss_cls: 0.0262, acc: 99.6953, loss_bbox: 0.2898, loss: 0.3241\n",
      "2022-05-26 16:56:51,854 - mmfewshot - INFO - Iter [62150/100000]\tlr: 1.000e-04, eta: 3:29:38, time: 0.270, data_time: 0.011, memory: 5635, loss_rpn_cls: 0.0062, loss_rpn_bbox: 0.0065, loss_cls: 0.0321, acc: 99.7031, loss_bbox: 0.3030, loss: 0.3478\n",
      "2022-05-26 16:57:05,326 - mmfewshot - INFO - Iter [62200/100000]\tlr: 1.000e-04, eta: 3:29:20, time: 0.270, data_time: 0.011, memory: 5635, loss_rpn_cls: 0.0081, loss_rpn_bbox: 0.0048, loss_cls: 0.0521, acc: 99.6172, loss_bbox: 0.3118, loss: 0.3767\n",
      "2022-05-26 16:57:18,681 - mmfewshot - INFO - Iter [62250/100000]\tlr: 1.000e-04, eta: 3:29:01, time: 0.267, data_time: 0.012, memory: 5635, loss_rpn_cls: 0.0103, loss_rpn_bbox: 0.0089, loss_cls: 0.0382, acc: 99.5938, loss_bbox: 0.2969, loss: 0.3544\n",
      "2022-05-26 16:57:32,044 - mmfewshot - INFO - Iter [62300/100000]\tlr: 1.000e-04, eta: 3:28:43, time: 0.267, data_time: 0.011, memory: 5635, loss_rpn_cls: 0.0055, loss_rpn_bbox: 0.0052, loss_cls: 0.0336, acc: 99.6094, loss_bbox: 0.3191, loss: 0.3634\n",
      "2022-05-26 16:57:45,337 - mmfewshot - INFO - Iter [62350/100000]\tlr: 1.000e-04, eta: 3:28:24, time: 0.266, data_time: 0.011, memory: 5635, loss_rpn_cls: 0.0050, loss_rpn_bbox: 0.0043, loss_cls: 0.0430, acc: 99.6719, loss_bbox: 0.2609, loss: 0.3132\n",
      "2022-05-26 16:57:58,721 - mmfewshot - INFO - Iter [62400/100000]\tlr: 1.000e-04, eta: 3:28:06, time: 0.268, data_time: 0.012, memory: 5635, loss_rpn_cls: 0.0052, loss_rpn_bbox: 0.0069, loss_cls: 0.0301, acc: 99.6172, loss_bbox: 0.3163, loss: 0.3585\n",
      "2022-05-26 16:58:11,943 - mmfewshot - INFO - Iter [62450/100000]\tlr: 1.000e-04, eta: 3:27:47, time: 0.264, data_time: 0.011, memory: 5635, loss_rpn_cls: 0.0082, loss_rpn_bbox: 0.0059, loss_cls: 0.0231, acc: 99.7656, loss_bbox: 0.2960, loss: 0.3333\n",
      "2022-05-26 16:58:25,256 - mmfewshot - INFO - Iter [62500/100000]\tlr: 1.000e-04, eta: 3:27:28, time: 0.266, data_time: 0.012, memory: 5635, loss_rpn_cls: 0.0094, loss_rpn_bbox: 0.0055, loss_cls: 0.0327, acc: 99.6797, loss_bbox: 0.2920, loss: 0.3396\n",
      "2022-05-26 16:58:38,758 - mmfewshot - INFO - Iter [62550/100000]\tlr: 1.000e-04, eta: 3:27:10, time: 0.270, data_time: 0.012, memory: 5635, loss_rpn_cls: 0.0054, loss_rpn_bbox: 0.0060, loss_cls: 0.0396, acc: 99.6328, loss_bbox: 0.2902, loss: 0.3412\n",
      "2022-05-26 16:58:52,156 - mmfewshot - INFO - Iter [62600/100000]\tlr: 1.000e-04, eta: 3:26:51, time: 0.268, data_time: 0.012, memory: 5635, loss_rpn_cls: 0.0053, loss_rpn_bbox: 0.0039, loss_cls: 0.0258, acc: 99.7109, loss_bbox: 0.2843, loss: 0.3194\n",
      "2022-05-26 16:59:05,621 - mmfewshot - INFO - Iter [62650/100000]\tlr: 1.000e-04, eta: 3:26:33, time: 0.269, data_time: 0.012, memory: 5635, loss_rpn_cls: 0.0092, loss_rpn_bbox: 0.0082, loss_cls: 0.0358, acc: 99.5781, loss_bbox: 0.2749, loss: 0.3281\n",
      "2022-05-26 16:59:19,095 - mmfewshot - INFO - Iter [62700/100000]\tlr: 1.000e-04, eta: 3:26:14, time: 0.269, data_time: 0.013, memory: 5635, loss_rpn_cls: 0.0075, loss_rpn_bbox: 0.0049, loss_cls: 0.0362, acc: 99.6484, loss_bbox: 0.2652, loss: 0.3138\n",
      "2022-05-26 16:59:32,386 - mmfewshot - INFO - Iter [62750/100000]\tlr: 1.000e-04, eta: 3:25:56, time: 0.266, data_time: 0.012, memory: 5635, loss_rpn_cls: 0.0090, loss_rpn_bbox: 0.0096, loss_cls: 0.0333, acc: 99.6484, loss_bbox: 0.3054, loss: 0.3574\n",
      "2022-05-26 16:59:45,831 - mmfewshot - INFO - Iter [62800/100000]\tlr: 1.000e-04, eta: 3:25:37, time: 0.269, data_time: 0.013, memory: 5635, loss_rpn_cls: 0.0049, loss_rpn_bbox: 0.0034, loss_cls: 0.0410, acc: 99.6719, loss_bbox: 0.2623, loss: 0.3116\n",
      "2022-05-26 16:59:59,166 - mmfewshot - INFO - Iter [62850/100000]\tlr: 1.000e-04, eta: 3:25:19, time: 0.267, data_time: 0.011, memory: 5635, loss_rpn_cls: 0.0056, loss_rpn_bbox: 0.0059, loss_cls: 0.0253, acc: 99.7812, loss_bbox: 0.2860, loss: 0.3227\n",
      "2022-05-26 17:00:12,588 - mmfewshot - INFO - Iter [62900/100000]\tlr: 1.000e-04, eta: 3:25:01, time: 0.269, data_time: 0.011, memory: 5635, loss_rpn_cls: 0.0104, loss_rpn_bbox: 0.0101, loss_cls: 0.0295, acc: 99.7266, loss_bbox: 0.3144, loss: 0.3643\n",
      "2022-05-26 17:00:26,103 - mmfewshot - INFO - Iter [62950/100000]\tlr: 1.000e-04, eta: 3:24:42, time: 0.270, data_time: 0.012, memory: 5635, loss_rpn_cls: 0.0086, loss_rpn_bbox: 0.0069, loss_cls: 0.0296, acc: 99.6250, loss_bbox: 0.2889, loss: 0.3340\n",
      "2022-05-26 17:00:39,458 - mmfewshot - INFO - Exp name: attention-rpn_r50_c4_tb-split1_1shot-fine-tuning-momentum-09.py\n",
      "2022-05-26 17:00:39,459 - mmfewshot - INFO - Iter [63000/100000]\tlr: 1.000e-04, eta: 3:24:24, time: 0.267, data_time: 0.011, memory: 5635, loss_rpn_cls: 0.0075, loss_rpn_bbox: 0.0051, loss_cls: 0.0417, acc: 99.6562, loss_bbox: 0.2722, loss: 0.3265\n",
      "2022-05-26 17:00:39,464 - mmdet - INFO - starting model initialization...\n"
     ]
    },
    {
     "name": "stdout",
     "output_type": "stream",
     "text": [
      "[>>>>>>>>>>>>>>>>>>>>>>>>>>>>>>] 640/640, 78.7 task/s, elapsed: 8s, ETA:     0s"
     ]
    },
    {
     "name": "stderr",
     "output_type": "stream",
     "text": [
      "2022-05-26 17:00:47,664 - mmdet - INFO - model initialization done.\n"
     ]
    },
    {
     "name": "stdout",
     "output_type": "stream",
     "text": [
      "[>>>>>>>>>>>>>>>>>>>>>>>>>>>>>] 712/712, 12.6 task/s, elapsed: 57s, ETA:     0s\n",
      "---------------iou_thr: 0.5---------------\n"
     ]
    },
    {
     "name": "stderr",
     "output_type": "stream",
     "text": [
      "2022-05-26 17:01:44,655 - mmfewshot - INFO - \n",
      "+----------+-----+------+--------+-------+\n",
      "| class    | gts | dets | recall | ap    |\n",
      "+----------+-----+------+--------+-------+\n",
      "| 7up      | 810 | 3345 | 0.702  | 0.370 |\n",
      "| BudLight | 209 | 630  | 0.536  | 0.277 |\n",
      "+----------+-----+------+--------+-------+\n",
      "| mAP      |     |      |        | 0.323 |\n",
      "+----------+-----+------+--------+-------+\n",
      "2022-05-26 17:01:44,658 - mmfewshot - INFO - BASE_CLASSES_SPLIT1 mAP: 0.3233315348625183\n",
      "2022-05-26 17:01:44,659 - mmfewshot - INFO - NOVEL_CLASSES_SPLIT1 mAP: nan\n",
      "2022-05-26 17:01:44,663 - mmfewshot - INFO - Exp name: attention-rpn_r50_c4_tb-split1_1shot-fine-tuning-momentum-09.py\n",
      "2022-05-26 17:01:44,664 - mmfewshot - INFO - Iter(val) [712]\tAP50: 0.3230, BASE_CLASSES_SPLIT1: AP50: 0.3230, NOVEL_CLASSES_SPLIT1: AP50: nan, mAP: 0.3233\n",
      "2022-05-26 17:01:58,100 - mmfewshot - INFO - Iter [63050/100000]\tlr: 1.000e-04, eta: 3:24:43, time: 1.573, data_time: 1.316, memory: 5635, loss_rpn_cls: 0.0085, loss_rpn_bbox: 0.0094, loss_cls: 0.0372, acc: 99.6016, loss_bbox: 0.3115, loss: 0.3666\n",
      "2022-05-26 17:02:11,600 - mmfewshot - INFO - Iter [63100/100000]\tlr: 1.000e-04, eta: 3:24:25, time: 0.270, data_time: 0.012, memory: 5635, loss_rpn_cls: 0.0066, loss_rpn_bbox: 0.0052, loss_cls: 0.0324, acc: 99.7109, loss_bbox: 0.2611, loss: 0.3053\n",
      "2022-05-26 17:02:25,060 - mmfewshot - INFO - Iter [63150/100000]\tlr: 1.000e-04, eta: 3:24:07, time: 0.269, data_time: 0.012, memory: 5635, loss_rpn_cls: 0.0065, loss_rpn_bbox: 0.0054, loss_cls: 0.0340, acc: 99.6406, loss_bbox: 0.2803, loss: 0.3262\n",
      "2022-05-26 17:02:38,394 - mmfewshot - INFO - Iter [63200/100000]\tlr: 1.000e-04, eta: 3:23:48, time: 0.267, data_time: 0.011, memory: 5635, loss_rpn_cls: 0.0062, loss_rpn_bbox: 0.0049, loss_cls: 0.0326, acc: 99.6953, loss_bbox: 0.2741, loss: 0.3178\n",
      "2022-05-26 17:02:51,816 - mmfewshot - INFO - Iter [63250/100000]\tlr: 1.000e-04, eta: 3:23:30, time: 0.269, data_time: 0.011, memory: 5635, loss_rpn_cls: 0.0049, loss_rpn_bbox: 0.0044, loss_cls: 0.0327, acc: 99.6719, loss_bbox: 0.2785, loss: 0.3205\n",
      "2022-05-26 17:03:05,285 - mmfewshot - INFO - Iter [63300/100000]\tlr: 1.000e-04, eta: 3:23:11, time: 0.269, data_time: 0.012, memory: 5635, loss_rpn_cls: 0.0051, loss_rpn_bbox: 0.0046, loss_cls: 0.0402, acc: 99.6172, loss_bbox: 0.2915, loss: 0.3414\n",
      "2022-05-26 17:03:18,767 - mmfewshot - INFO - Iter [63350/100000]\tlr: 1.000e-04, eta: 3:22:53, time: 0.269, data_time: 0.011, memory: 5635, loss_rpn_cls: 0.0045, loss_rpn_bbox: 0.0033, loss_cls: 0.0436, acc: 99.5703, loss_bbox: 0.2883, loss: 0.3397\n",
      "2022-05-26 17:03:32,182 - mmfewshot - INFO - Iter [63400/100000]\tlr: 1.000e-04, eta: 3:22:34, time: 0.268, data_time: 0.012, memory: 5635, loss_rpn_cls: 0.0072, loss_rpn_bbox: 0.0041, loss_cls: 0.0368, acc: 99.6016, loss_bbox: 0.2975, loss: 0.3455\n",
      "2022-05-26 17:03:45,518 - mmfewshot - INFO - Iter [63450/100000]\tlr: 1.000e-04, eta: 3:22:16, time: 0.267, data_time: 0.011, memory: 5635, loss_rpn_cls: 0.0082, loss_rpn_bbox: 0.0093, loss_cls: 0.0338, acc: 99.6016, loss_bbox: 0.2787, loss: 0.3300\n",
      "2022-05-26 17:03:58,683 - mmfewshot - INFO - Iter [63500/100000]\tlr: 1.000e-04, eta: 3:21:57, time: 0.263, data_time: 0.010, memory: 5635, loss_rpn_cls: 0.0057, loss_rpn_bbox: 0.0046, loss_cls: 0.0372, acc: 99.6719, loss_bbox: 0.2840, loss: 0.3315\n",
      "2022-05-26 17:04:12,050 - mmfewshot - INFO - Iter [63550/100000]\tlr: 1.000e-04, eta: 3:21:39, time: 0.267, data_time: 0.012, memory: 5635, loss_rpn_cls: 0.0089, loss_rpn_bbox: 0.0078, loss_cls: 0.0264, acc: 99.7344, loss_bbox: 0.2960, loss: 0.3391\n",
      "2022-05-26 17:04:25,437 - mmfewshot - INFO - Iter [63600/100000]\tlr: 1.000e-04, eta: 3:21:20, time: 0.268, data_time: 0.011, memory: 5635, loss_rpn_cls: 0.0078, loss_rpn_bbox: 0.0092, loss_cls: 0.0382, acc: 99.5625, loss_bbox: 0.3151, loss: 0.3703\n",
      "2022-05-26 17:04:38,798 - mmfewshot - INFO - Iter [63650/100000]\tlr: 1.000e-04, eta: 3:21:02, time: 0.268, data_time: 0.012, memory: 5635, loss_rpn_cls: 0.0062, loss_rpn_bbox: 0.0044, loss_cls: 0.0304, acc: 99.7031, loss_bbox: 0.2495, loss: 0.2905\n",
      "2022-05-26 17:04:52,129 - mmfewshot - INFO - Iter [63700/100000]\tlr: 1.000e-04, eta: 3:20:43, time: 0.266, data_time: 0.011, memory: 5635, loss_rpn_cls: 0.0051, loss_rpn_bbox: 0.0055, loss_cls: 0.0506, acc: 99.6250, loss_bbox: 0.2741, loss: 0.3352\n",
      "2022-05-26 17:05:05,567 - mmfewshot - INFO - Iter [63750/100000]\tlr: 1.000e-04, eta: 3:20:25, time: 0.269, data_time: 0.012, memory: 5635, loss_rpn_cls: 0.0042, loss_rpn_bbox: 0.0025, loss_cls: 0.0335, acc: 99.7344, loss_bbox: 0.2529, loss: 0.2931\n",
      "2022-05-26 17:05:18,817 - mmfewshot - INFO - Iter [63800/100000]\tlr: 1.000e-04, eta: 3:20:07, time: 0.265, data_time: 0.011, memory: 5635, loss_rpn_cls: 0.0045, loss_rpn_bbox: 0.0046, loss_cls: 0.0353, acc: 99.6016, loss_bbox: 0.3017, loss: 0.3461\n",
      "2022-05-26 17:05:32,147 - mmfewshot - INFO - Iter [63850/100000]\tlr: 1.000e-04, eta: 3:19:48, time: 0.267, data_time: 0.012, memory: 5635, loss_rpn_cls: 0.0054, loss_rpn_bbox: 0.0045, loss_cls: 0.0274, acc: 99.7891, loss_bbox: 0.3133, loss: 0.3506\n",
      "2022-05-26 17:05:45,439 - mmfewshot - INFO - Iter [63900/100000]\tlr: 1.000e-04, eta: 3:19:30, time: 0.266, data_time: 0.010, memory: 5635, loss_rpn_cls: 0.0056, loss_rpn_bbox: 0.0057, loss_cls: 0.0312, acc: 99.6797, loss_bbox: 0.2828, loss: 0.3254\n",
      "2022-05-26 17:05:58,799 - mmfewshot - INFO - Iter [63950/100000]\tlr: 1.000e-04, eta: 3:19:11, time: 0.267, data_time: 0.012, memory: 5635, loss_rpn_cls: 0.0097, loss_rpn_bbox: 0.0103, loss_cls: 0.0357, acc: 99.6641, loss_bbox: 0.2662, loss: 0.3219\n",
      "2022-05-26 17:06:12,329 - mmfewshot - INFO - Exp name: attention-rpn_r50_c4_tb-split1_1shot-fine-tuning-momentum-09.py\n",
      "2022-05-26 17:06:12,332 - mmfewshot - INFO - Iter [64000/100000]\tlr: 1.000e-04, eta: 3:18:53, time: 0.271, data_time: 0.012, memory: 5635, loss_rpn_cls: 0.0037, loss_rpn_bbox: 0.0063, loss_cls: 0.0343, acc: 99.6875, loss_bbox: 0.2861, loss: 0.3305\n",
      "2022-05-26 17:06:12,337 - mmdet - INFO - starting model initialization...\n"
     ]
    },
    {
     "name": "stdout",
     "output_type": "stream",
     "text": [
      "[>>>>>>>>>>>>>>>>>>>>>>>>>>>>>>] 640/640, 73.8 task/s, elapsed: 9s, ETA:     0s"
     ]
    },
    {
     "name": "stderr",
     "output_type": "stream",
     "text": [
      "2022-05-26 17:06:21,088 - mmdet - INFO - model initialization done.\n"
     ]
    },
    {
     "name": "stdout",
     "output_type": "stream",
     "text": [
      "[>>>>>>>>>>>>>>>>>>>>>>>>>>>>>] 712/712, 12.7 task/s, elapsed: 56s, ETA:     0s\n",
      "---------------iou_thr: 0.5---------------\n"
     ]
    },
    {
     "name": "stderr",
     "output_type": "stream",
     "text": [
      "2022-05-26 17:07:17,498 - mmfewshot - INFO - \n",
      "+----------+-----+------+--------+-------+\n",
      "| class    | gts | dets | recall | ap    |\n",
      "+----------+-----+------+--------+-------+\n",
      "| 7up      | 810 | 3403 | 0.707  | 0.393 |\n",
      "| BudLight | 209 | 552  | 0.555  | 0.276 |\n",
      "+----------+-----+------+--------+-------+\n",
      "| mAP      |     |      |        | 0.335 |\n",
      "+----------+-----+------+--------+-------+\n",
      "2022-05-26 17:07:17,503 - mmfewshot - INFO - BASE_CLASSES_SPLIT1 mAP: 0.3345766067504883\n",
      "2022-05-26 17:07:17,504 - mmfewshot - INFO - NOVEL_CLASSES_SPLIT1 mAP: nan\n",
      "2022-05-26 17:07:17,511 - mmfewshot - INFO - Exp name: attention-rpn_r50_c4_tb-split1_1shot-fine-tuning-momentum-09.py\n",
      "2022-05-26 17:07:17,512 - mmfewshot - INFO - Iter(val) [712]\tAP50: 0.3350, BASE_CLASSES_SPLIT1: AP50: 0.3350, NOVEL_CLASSES_SPLIT1: AP50: nan, mAP: 0.3346\n",
      "2022-05-26 17:07:30,954 - mmfewshot - INFO - Iter [64050/100000]\tlr: 1.000e-04, eta: 3:19:11, time: 1.572, data_time: 1.315, memory: 5635, loss_rpn_cls: 0.0055, loss_rpn_bbox: 0.0046, loss_cls: 0.0306, acc: 99.7109, loss_bbox: 0.3011, loss: 0.3418\n",
      "2022-05-26 17:07:44,347 - mmfewshot - INFO - Iter [64100/100000]\tlr: 1.000e-04, eta: 3:18:53, time: 0.268, data_time: 0.011, memory: 5635, loss_rpn_cls: 0.0045, loss_rpn_bbox: 0.0054, loss_cls: 0.0291, acc: 99.6641, loss_bbox: 0.3073, loss: 0.3464\n",
      "2022-05-26 17:07:57,703 - mmfewshot - INFO - Iter [64150/100000]\tlr: 1.000e-04, eta: 3:18:34, time: 0.267, data_time: 0.011, memory: 5635, loss_rpn_cls: 0.0053, loss_rpn_bbox: 0.0059, loss_cls: 0.0263, acc: 99.7344, loss_bbox: 0.2768, loss: 0.3143\n",
      "2022-05-26 17:08:11,058 - mmfewshot - INFO - Iter [64200/100000]\tlr: 1.000e-04, eta: 3:18:16, time: 0.267, data_time: 0.011, memory: 5635, loss_rpn_cls: 0.0076, loss_rpn_bbox: 0.0066, loss_cls: 0.0311, acc: 99.6953, loss_bbox: 0.2959, loss: 0.3413\n",
      "2022-05-26 17:08:24,276 - mmfewshot - INFO - Iter [64250/100000]\tlr: 1.000e-04, eta: 3:17:57, time: 0.264, data_time: 0.011, memory: 5635, loss_rpn_cls: 0.0045, loss_rpn_bbox: 0.0032, loss_cls: 0.0267, acc: 99.7344, loss_bbox: 0.3080, loss: 0.3424\n",
      "2022-05-26 17:08:37,670 - mmfewshot - INFO - Iter [64300/100000]\tlr: 1.000e-04, eta: 3:17:39, time: 0.268, data_time: 0.011, memory: 5635, loss_rpn_cls: 0.0052, loss_rpn_bbox: 0.0065, loss_cls: 0.0377, acc: 99.7109, loss_bbox: 0.2749, loss: 0.3243\n",
      "2022-05-26 17:08:51,001 - mmfewshot - INFO - Iter [64350/100000]\tlr: 1.000e-04, eta: 3:17:21, time: 0.266, data_time: 0.012, memory: 5635, loss_rpn_cls: 0.0064, loss_rpn_bbox: 0.0045, loss_cls: 0.0303, acc: 99.6641, loss_bbox: 0.3186, loss: 0.3599\n",
      "2022-05-26 17:09:04,368 - mmfewshot - INFO - Iter [64400/100000]\tlr: 1.000e-04, eta: 3:17:02, time: 0.268, data_time: 0.012, memory: 5635, loss_rpn_cls: 0.0047, loss_rpn_bbox: 0.0028, loss_cls: 0.0305, acc: 99.7500, loss_bbox: 0.2650, loss: 0.3030\n",
      "2022-05-26 17:09:17,797 - mmfewshot - INFO - Iter [64450/100000]\tlr: 1.000e-04, eta: 3:16:44, time: 0.268, data_time: 0.012, memory: 5635, loss_rpn_cls: 0.0070, loss_rpn_bbox: 0.0065, loss_cls: 0.0332, acc: 99.7422, loss_bbox: 0.3167, loss: 0.3633\n",
      "2022-05-26 17:09:31,174 - mmfewshot - INFO - Iter [64500/100000]\tlr: 1.000e-04, eta: 3:16:25, time: 0.268, data_time: 0.012, memory: 5635, loss_rpn_cls: 0.0069, loss_rpn_bbox: 0.0094, loss_cls: 0.0505, acc: 99.5156, loss_bbox: 0.2621, loss: 0.3288\n",
      "2022-05-26 17:09:44,671 - mmfewshot - INFO - Iter [64550/100000]\tlr: 1.000e-04, eta: 3:16:07, time: 0.270, data_time: 0.012, memory: 5635, loss_rpn_cls: 0.0060, loss_rpn_bbox: 0.0031, loss_cls: 0.0443, acc: 99.6641, loss_bbox: 0.2498, loss: 0.3032\n",
      "2022-05-26 17:09:58,103 - mmfewshot - INFO - Iter [64600/100000]\tlr: 1.000e-04, eta: 3:15:49, time: 0.269, data_time: 0.012, memory: 5635, loss_rpn_cls: 0.0040, loss_rpn_bbox: 0.0031, loss_cls: 0.0380, acc: 99.6328, loss_bbox: 0.3073, loss: 0.3524\n",
      "2022-05-26 17:10:11,338 - mmfewshot - INFO - Iter [64650/100000]\tlr: 1.000e-04, eta: 3:15:30, time: 0.265, data_time: 0.012, memory: 5635, loss_rpn_cls: 0.0066, loss_rpn_bbox: 0.0053, loss_cls: 0.0320, acc: 99.6719, loss_bbox: 0.2775, loss: 0.3214\n",
      "2022-05-26 17:10:24,890 - mmfewshot - INFO - Iter [64700/100000]\tlr: 1.000e-04, eta: 3:15:12, time: 0.271, data_time: 0.012, memory: 5635, loss_rpn_cls: 0.0063, loss_rpn_bbox: 0.0076, loss_cls: 0.0299, acc: 99.7109, loss_bbox: 0.3081, loss: 0.3520\n",
      "2022-05-26 17:10:38,471 - mmfewshot - INFO - Iter [64750/100000]\tlr: 1.000e-04, eta: 3:14:54, time: 0.272, data_time: 0.012, memory: 5635, loss_rpn_cls: 0.0082, loss_rpn_bbox: 0.0080, loss_cls: 0.0330, acc: 99.6797, loss_bbox: 0.3057, loss: 0.3549\n",
      "2022-05-26 17:10:51,955 - mmfewshot - INFO - Iter [64800/100000]\tlr: 1.000e-04, eta: 3:14:36, time: 0.270, data_time: 0.012, memory: 5635, loss_rpn_cls: 0.0063, loss_rpn_bbox: 0.0043, loss_cls: 0.0425, acc: 99.5781, loss_bbox: 0.2769, loss: 0.3301\n",
      "2022-05-26 17:11:05,330 - mmfewshot - INFO - Iter [64850/100000]\tlr: 1.000e-04, eta: 3:14:17, time: 0.268, data_time: 0.012, memory: 5635, loss_rpn_cls: 0.0070, loss_rpn_bbox: 0.0063, loss_cls: 0.0302, acc: 99.6719, loss_bbox: 0.3498, loss: 0.3933\n",
      "2022-05-26 17:11:18,659 - mmfewshot - INFO - Iter [64900/100000]\tlr: 1.000e-04, eta: 3:13:59, time: 0.266, data_time: 0.010, memory: 5635, loss_rpn_cls: 0.0052, loss_rpn_bbox: 0.0055, loss_cls: 0.0455, acc: 99.7266, loss_bbox: 0.2884, loss: 0.3445\n",
      "2022-05-26 17:11:32,095 - mmfewshot - INFO - Iter [64950/100000]\tlr: 1.000e-04, eta: 3:13:41, time: 0.269, data_time: 0.011, memory: 5635, loss_rpn_cls: 0.0044, loss_rpn_bbox: 0.0041, loss_cls: 0.0287, acc: 99.7891, loss_bbox: 0.2812, loss: 0.3184\n",
      "2022-05-26 17:11:45,486 - mmfewshot - INFO - Exp name: attention-rpn_r50_c4_tb-split1_1shot-fine-tuning-momentum-09.py\n",
      "2022-05-26 17:11:45,488 - mmfewshot - INFO - Iter [65000/100000]\tlr: 1.000e-04, eta: 3:13:22, time: 0.268, data_time: 0.012, memory: 5635, loss_rpn_cls: 0.0061, loss_rpn_bbox: 0.0042, loss_cls: 0.0306, acc: 99.7266, loss_bbox: 0.2722, loss: 0.3132\n",
      "2022-05-26 17:11:45,493 - mmdet - INFO - starting model initialization...\n"
     ]
    },
    {
     "name": "stdout",
     "output_type": "stream",
     "text": [
      "[>>>>>>>>>>>>>>>>>>>>>>>>>>>>>>] 640/640, 75.7 task/s, elapsed: 8s, ETA:     0s"
     ]
    },
    {
     "name": "stderr",
     "output_type": "stream",
     "text": [
      "2022-05-26 17:11:54,016 - mmdet - INFO - model initialization done.\n"
     ]
    },
    {
     "name": "stdout",
     "output_type": "stream",
     "text": [
      "[>>>>>>>>>>>>>>>>>>>>>>>>>>>>>] 712/712, 12.4 task/s, elapsed: 57s, ETA:     0s\n",
      "---------------iou_thr: 0.5---------------\n"
     ]
    },
    {
     "name": "stderr",
     "output_type": "stream",
     "text": [
      "2022-05-26 17:12:51,702 - mmfewshot - INFO - \n",
      "+----------+-----+------+--------+-------+\n",
      "| class    | gts | dets | recall | ap    |\n",
      "+----------+-----+------+--------+-------+\n",
      "| 7up      | 810 | 2463 | 0.638  | 0.337 |\n",
      "| BudLight | 209 | 442  | 0.474  | 0.240 |\n",
      "+----------+-----+------+--------+-------+\n",
      "| mAP      |     |      |        | 0.288 |\n",
      "+----------+-----+------+--------+-------+\n",
      "2022-05-26 17:12:51,705 - mmfewshot - INFO - BASE_CLASSES_SPLIT1 mAP: 0.2883952260017395\n",
      "2022-05-26 17:12:51,705 - mmfewshot - INFO - NOVEL_CLASSES_SPLIT1 mAP: nan\n",
      "2022-05-26 17:12:51,710 - mmfewshot - INFO - Exp name: attention-rpn_r50_c4_tb-split1_1shot-fine-tuning-momentum-09.py\n",
      "2022-05-26 17:12:51,711 - mmfewshot - INFO - Iter(val) [712]\tAP50: 0.2880, BASE_CLASSES_SPLIT1: AP50: 0.2880, NOVEL_CLASSES_SPLIT1: AP50: nan, mAP: 0.2884\n",
      "2022-05-26 17:13:05,090 - mmfewshot - INFO - Iter [65050/100000]\tlr: 1.000e-04, eta: 3:13:40, time: 1.592, data_time: 1.335, memory: 5635, loss_rpn_cls: 0.0054, loss_rpn_bbox: 0.0041, loss_cls: 0.0324, acc: 99.6719, loss_bbox: 0.2695, loss: 0.3115\n",
      "2022-05-26 17:13:18,553 - mmfewshot - INFO - Iter [65100/100000]\tlr: 1.000e-04, eta: 3:13:21, time: 0.269, data_time: 0.012, memory: 5635, loss_rpn_cls: 0.0044, loss_rpn_bbox: 0.0040, loss_cls: 0.0342, acc: 99.7188, loss_bbox: 0.2868, loss: 0.3294\n",
      "2022-05-26 17:13:31,966 - mmfewshot - INFO - Iter [65150/100000]\tlr: 1.000e-04, eta: 3:13:03, time: 0.268, data_time: 0.012, memory: 5635, loss_rpn_cls: 0.0052, loss_rpn_bbox: 0.0041, loss_cls: 0.0529, acc: 99.5312, loss_bbox: 0.2840, loss: 0.3462\n",
      "2022-05-26 17:13:45,466 - mmfewshot - INFO - Iter [65200/100000]\tlr: 1.000e-04, eta: 3:12:45, time: 0.270, data_time: 0.012, memory: 5635, loss_rpn_cls: 0.0068, loss_rpn_bbox: 0.0049, loss_cls: 0.0312, acc: 99.7188, loss_bbox: 0.2630, loss: 0.3059\n",
      "2022-05-26 17:13:58,858 - mmfewshot - INFO - Iter [65250/100000]\tlr: 1.000e-04, eta: 3:12:26, time: 0.268, data_time: 0.011, memory: 5635, loss_rpn_cls: 0.0063, loss_rpn_bbox: 0.0057, loss_cls: 0.0264, acc: 99.7578, loss_bbox: 0.3004, loss: 0.3388\n",
      "2022-05-26 17:14:12,128 - mmfewshot - INFO - Iter [65300/100000]\tlr: 1.000e-04, eta: 3:12:08, time: 0.265, data_time: 0.012, memory: 5635, loss_rpn_cls: 0.0068, loss_rpn_bbox: 0.0085, loss_cls: 0.0339, acc: 99.6641, loss_bbox: 0.3292, loss: 0.3783\n",
      "2022-05-26 17:14:25,426 - mmfewshot - INFO - Iter [65350/100000]\tlr: 1.000e-04, eta: 3:11:50, time: 0.266, data_time: 0.011, memory: 5635, loss_rpn_cls: 0.0088, loss_rpn_bbox: 0.0071, loss_cls: 0.0413, acc: 99.7031, loss_bbox: 0.2972, loss: 0.3544\n",
      "2022-05-26 17:14:38,806 - mmfewshot - INFO - Iter [65400/100000]\tlr: 1.000e-04, eta: 3:11:31, time: 0.268, data_time: 0.011, memory: 5635, loss_rpn_cls: 0.0054, loss_rpn_bbox: 0.0075, loss_cls: 0.0391, acc: 99.7266, loss_bbox: 0.3187, loss: 0.3707\n",
      "2022-05-26 17:14:52,309 - mmfewshot - INFO - Iter [65450/100000]\tlr: 1.000e-04, eta: 3:11:13, time: 0.270, data_time: 0.012, memory: 5635, loss_rpn_cls: 0.0062, loss_rpn_bbox: 0.0051, loss_cls: 0.0356, acc: 99.6406, loss_bbox: 0.2535, loss: 0.3004\n",
      "2022-05-26 17:15:05,663 - mmfewshot - INFO - Iter [65500/100000]\tlr: 1.000e-04, eta: 3:10:55, time: 0.267, data_time: 0.011, memory: 5635, loss_rpn_cls: 0.0076, loss_rpn_bbox: 0.0078, loss_cls: 0.0340, acc: 99.6250, loss_bbox: 0.3023, loss: 0.3518\n",
      "2022-05-26 17:15:19,122 - mmfewshot - INFO - Iter [65550/100000]\tlr: 1.000e-04, eta: 3:10:37, time: 0.269, data_time: 0.012, memory: 5635, loss_rpn_cls: 0.0048, loss_rpn_bbox: 0.0050, loss_cls: 0.0398, acc: 99.6797, loss_bbox: 0.2926, loss: 0.3422\n",
      "2022-05-26 17:15:32,459 - mmfewshot - INFO - Iter [65600/100000]\tlr: 1.000e-04, eta: 3:10:18, time: 0.267, data_time: 0.011, memory: 5635, loss_rpn_cls: 0.0069, loss_rpn_bbox: 0.0067, loss_cls: 0.0359, acc: 99.6562, loss_bbox: 0.2944, loss: 0.3440\n",
      "2022-05-26 17:15:45,916 - mmfewshot - INFO - Iter [65650/100000]\tlr: 1.000e-04, eta: 3:10:00, time: 0.269, data_time: 0.011, memory: 5635, loss_rpn_cls: 0.0043, loss_rpn_bbox: 0.0038, loss_cls: 0.0379, acc: 99.6406, loss_bbox: 0.2672, loss: 0.3132\n",
      "2022-05-26 17:15:59,189 - mmfewshot - INFO - Iter [65700/100000]\tlr: 1.000e-04, eta: 3:09:42, time: 0.265, data_time: 0.011, memory: 5635, loss_rpn_cls: 0.0060, loss_rpn_bbox: 0.0039, loss_cls: 0.0271, acc: 99.7422, loss_bbox: 0.2705, loss: 0.3074\n",
      "2022-05-26 17:16:12,738 - mmfewshot - INFO - Iter [65750/100000]\tlr: 1.000e-04, eta: 3:09:23, time: 0.271, data_time: 0.012, memory: 5635, loss_rpn_cls: 0.0051, loss_rpn_bbox: 0.0036, loss_cls: 0.0388, acc: 99.6875, loss_bbox: 0.2584, loss: 0.3059\n",
      "2022-05-26 17:16:26,250 - mmfewshot - INFO - Iter [65800/100000]\tlr: 1.000e-04, eta: 3:09:05, time: 0.270, data_time: 0.011, memory: 5635, loss_rpn_cls: 0.0075, loss_rpn_bbox: 0.0045, loss_cls: 0.0403, acc: 99.5859, loss_bbox: 0.2875, loss: 0.3397\n",
      "2022-05-26 17:16:39,617 - mmfewshot - INFO - Iter [65850/100000]\tlr: 1.000e-04, eta: 3:08:47, time: 0.267, data_time: 0.012, memory: 5635, loss_rpn_cls: 0.0056, loss_rpn_bbox: 0.0060, loss_cls: 0.0537, acc: 99.5000, loss_bbox: 0.2873, loss: 0.3525\n",
      "2022-05-26 17:16:52,874 - mmfewshot - INFO - Iter [65900/100000]\tlr: 1.000e-04, eta: 3:08:29, time: 0.265, data_time: 0.011, memory: 5635, loss_rpn_cls: 0.0062, loss_rpn_bbox: 0.0042, loss_cls: 0.0306, acc: 99.6797, loss_bbox: 0.2966, loss: 0.3375\n",
      "2022-05-26 17:17:06,209 - mmfewshot - INFO - Iter [65950/100000]\tlr: 1.000e-04, eta: 3:08:10, time: 0.267, data_time: 0.011, memory: 5635, loss_rpn_cls: 0.0084, loss_rpn_bbox: 0.0061, loss_cls: 0.0383, acc: 99.6094, loss_bbox: 0.2546, loss: 0.3073\n",
      "2022-05-26 17:17:19,549 - mmfewshot - INFO - Exp name: attention-rpn_r50_c4_tb-split1_1shot-fine-tuning-momentum-09.py\n",
      "2022-05-26 17:17:19,551 - mmfewshot - INFO - Iter [66000/100000]\tlr: 1.000e-04, eta: 3:07:52, time: 0.267, data_time: 0.011, memory: 5635, loss_rpn_cls: 0.0059, loss_rpn_bbox: 0.0043, loss_cls: 0.0322, acc: 99.6641, loss_bbox: 0.2669, loss: 0.3093\n",
      "2022-05-26 17:17:19,556 - mmdet - INFO - starting model initialization...\n"
     ]
    },
    {
     "name": "stdout",
     "output_type": "stream",
     "text": [
      "[>>>>>>>>>>>>>>>>>>>>>>>>>>>>>>] 640/640, 76.1 task/s, elapsed: 8s, ETA:     0s"
     ]
    },
    {
     "name": "stderr",
     "output_type": "stream",
     "text": [
      "2022-05-26 17:17:28,050 - mmdet - INFO - model initialization done.\n"
     ]
    },
    {
     "name": "stdout",
     "output_type": "stream",
     "text": [
      "[>>>>>>>>>>>>>>>>>>>>>>>>>>>>>] 712/712, 12.6 task/s, elapsed: 57s, ETA:     0s\n",
      "---------------iou_thr: 0.5---------------\n"
     ]
    },
    {
     "name": "stderr",
     "output_type": "stream",
     "text": [
      "2022-05-26 17:18:25,119 - mmfewshot - INFO - \n",
      "+----------+-----+------+--------+-------+\n",
      "| class    | gts | dets | recall | ap    |\n",
      "+----------+-----+------+--------+-------+\n",
      "| 7up      | 810 | 2734 | 0.684  | 0.385 |\n",
      "| BudLight | 209 | 715  | 0.541  | 0.263 |\n",
      "+----------+-----+------+--------+-------+\n",
      "| mAP      |     |      |        | 0.324 |\n",
      "+----------+-----+------+--------+-------+\n",
      "2022-05-26 17:18:25,121 - mmfewshot - INFO - BASE_CLASSES_SPLIT1 mAP: 0.32396286725997925\n",
      "2022-05-26 17:18:25,122 - mmfewshot - INFO - NOVEL_CLASSES_SPLIT1 mAP: nan\n",
      "2022-05-26 17:18:25,127 - mmfewshot - INFO - Exp name: attention-rpn_r50_c4_tb-split1_1shot-fine-tuning-momentum-09.py\n",
      "2022-05-26 17:18:25,128 - mmfewshot - INFO - Iter(val) [712]\tAP50: 0.3240, BASE_CLASSES_SPLIT1: AP50: 0.3240, NOVEL_CLASSES_SPLIT1: AP50: nan, mAP: 0.3240\n",
      "2022-05-26 17:18:38,601 - mmfewshot - INFO - Iter [66050/100000]\tlr: 1.000e-04, eta: 3:08:08, time: 1.581, data_time: 1.323, memory: 5635, loss_rpn_cls: 0.0064, loss_rpn_bbox: 0.0055, loss_cls: 0.0332, acc: 99.6797, loss_bbox: 0.2974, loss: 0.3425\n",
      "2022-05-26 17:18:51,989 - mmfewshot - INFO - Iter [66100/100000]\tlr: 1.000e-04, eta: 3:07:49, time: 0.268, data_time: 0.012, memory: 5635, loss_rpn_cls: 0.0073, loss_rpn_bbox: 0.0053, loss_cls: 0.0280, acc: 99.6875, loss_bbox: 0.2809, loss: 0.3215\n",
      "2022-05-26 17:19:05,449 - mmfewshot - INFO - Iter [66150/100000]\tlr: 1.000e-04, eta: 3:07:31, time: 0.269, data_time: 0.012, memory: 5635, loss_rpn_cls: 0.0059, loss_rpn_bbox: 0.0060, loss_cls: 0.0245, acc: 99.7422, loss_bbox: 0.2730, loss: 0.3094\n",
      "2022-05-26 17:19:18,924 - mmfewshot - INFO - Iter [66200/100000]\tlr: 1.000e-04, eta: 3:07:13, time: 0.269, data_time: 0.012, memory: 5635, loss_rpn_cls: 0.0042, loss_rpn_bbox: 0.0032, loss_cls: 0.0460, acc: 99.5547, loss_bbox: 0.2528, loss: 0.3063\n",
      "2022-05-26 17:19:32,235 - mmfewshot - INFO - Iter [66250/100000]\tlr: 1.000e-04, eta: 3:06:55, time: 0.266, data_time: 0.012, memory: 5635, loss_rpn_cls: 0.0055, loss_rpn_bbox: 0.0052, loss_cls: 0.0273, acc: 99.7344, loss_bbox: 0.3028, loss: 0.3408\n",
      "2022-05-26 17:19:45,664 - mmfewshot - INFO - Iter [66300/100000]\tlr: 1.000e-04, eta: 3:06:36, time: 0.269, data_time: 0.012, memory: 5635, loss_rpn_cls: 0.0055, loss_rpn_bbox: 0.0044, loss_cls: 0.0221, acc: 99.7812, loss_bbox: 0.2467, loss: 0.2786\n",
      "2022-05-26 17:19:58,874 - mmfewshot - INFO - Iter [66350/100000]\tlr: 1.000e-04, eta: 3:06:18, time: 0.264, data_time: 0.011, memory: 5635, loss_rpn_cls: 0.0048, loss_rpn_bbox: 0.0044, loss_cls: 0.0419, acc: 99.6562, loss_bbox: 0.2755, loss: 0.3265\n",
      "2022-05-26 17:20:12,277 - mmfewshot - INFO - Iter [66400/100000]\tlr: 1.000e-04, eta: 3:06:00, time: 0.268, data_time: 0.012, memory: 5635, loss_rpn_cls: 0.0080, loss_rpn_bbox: 0.0076, loss_cls: 0.0292, acc: 99.6719, loss_bbox: 0.3361, loss: 0.3809\n",
      "2022-05-26 17:20:25,677 - mmfewshot - INFO - Iter [66450/100000]\tlr: 1.000e-04, eta: 3:05:42, time: 0.268, data_time: 0.012, memory: 5635, loss_rpn_cls: 0.0088, loss_rpn_bbox: 0.0053, loss_cls: 0.0289, acc: 99.6641, loss_bbox: 0.2819, loss: 0.3249\n",
      "2022-05-26 17:20:39,091 - mmfewshot - INFO - Iter [66500/100000]\tlr: 1.000e-04, eta: 3:05:23, time: 0.268, data_time: 0.012, memory: 5635, loss_rpn_cls: 0.0077, loss_rpn_bbox: 0.0067, loss_cls: 0.0330, acc: 99.6484, loss_bbox: 0.3139, loss: 0.3614\n",
      "2022-05-26 17:20:52,575 - mmfewshot - INFO - Iter [66550/100000]\tlr: 1.000e-04, eta: 3:05:05, time: 0.270, data_time: 0.012, memory: 5635, loss_rpn_cls: 0.0068, loss_rpn_bbox: 0.0056, loss_cls: 0.0276, acc: 99.7188, loss_bbox: 0.2916, loss: 0.3316\n",
      "2022-05-26 17:21:05,979 - mmfewshot - INFO - Iter [66600/100000]\tlr: 1.000e-04, eta: 3:04:47, time: 0.268, data_time: 0.012, memory: 5635, loss_rpn_cls: 0.0042, loss_rpn_bbox: 0.0052, loss_cls: 0.0274, acc: 99.7031, loss_bbox: 0.2918, loss: 0.3287\n",
      "2022-05-26 17:21:19,479 - mmfewshot - INFO - Iter [66650/100000]\tlr: 1.000e-04, eta: 3:04:29, time: 0.270, data_time: 0.012, memory: 5635, loss_rpn_cls: 0.0061, loss_rpn_bbox: 0.0050, loss_cls: 0.0526, acc: 99.7188, loss_bbox: 0.2709, loss: 0.3346\n",
      "2022-05-26 17:21:32,752 - mmfewshot - INFO - Iter [66700/100000]\tlr: 1.000e-04, eta: 3:04:11, time: 0.266, data_time: 0.011, memory: 5635, loss_rpn_cls: 0.0056, loss_rpn_bbox: 0.0058, loss_cls: 0.0336, acc: 99.7500, loss_bbox: 0.2548, loss: 0.2998\n",
      "2022-05-26 17:21:46,267 - mmfewshot - INFO - Iter [66750/100000]\tlr: 1.000e-04, eta: 3:03:53, time: 0.271, data_time: 0.011, memory: 5635, loss_rpn_cls: 0.0061, loss_rpn_bbox: 0.0076, loss_cls: 0.0385, acc: 99.6797, loss_bbox: 0.3161, loss: 0.3683\n",
      "2022-05-26 17:21:59,640 - mmfewshot - INFO - Iter [66800/100000]\tlr: 1.000e-04, eta: 3:03:34, time: 0.267, data_time: 0.011, memory: 5635, loss_rpn_cls: 0.0050, loss_rpn_bbox: 0.0054, loss_cls: 0.0303, acc: 99.6719, loss_bbox: 0.2647, loss: 0.3054\n",
      "2022-05-26 17:22:12,908 - mmfewshot - INFO - Iter [66850/100000]\tlr: 1.000e-04, eta: 3:03:16, time: 0.265, data_time: 0.011, memory: 5635, loss_rpn_cls: 0.0056, loss_rpn_bbox: 0.0063, loss_cls: 0.0420, acc: 99.6094, loss_bbox: 0.3048, loss: 0.3587\n",
      "2022-05-26 17:22:26,306 - mmfewshot - INFO - Iter [66900/100000]\tlr: 1.000e-04, eta: 3:02:58, time: 0.268, data_time: 0.011, memory: 5635, loss_rpn_cls: 0.0072, loss_rpn_bbox: 0.0062, loss_cls: 0.0326, acc: 99.6562, loss_bbox: 0.2923, loss: 0.3383\n",
      "2022-05-26 17:22:39,762 - mmfewshot - INFO - Iter [66950/100000]\tlr: 1.000e-04, eta: 3:02:40, time: 0.269, data_time: 0.012, memory: 5635, loss_rpn_cls: 0.0047, loss_rpn_bbox: 0.0037, loss_cls: 0.0181, acc: 99.8359, loss_bbox: 0.2960, loss: 0.3225\n",
      "2022-05-26 17:22:53,156 - mmfewshot - INFO - Exp name: attention-rpn_r50_c4_tb-split1_1shot-fine-tuning-momentum-09.py\n",
      "2022-05-26 17:22:53,158 - mmfewshot - INFO - Iter [67000/100000]\tlr: 1.000e-04, eta: 3:02:22, time: 0.268, data_time: 0.012, memory: 5635, loss_rpn_cls: 0.0049, loss_rpn_bbox: 0.0033, loss_cls: 0.0349, acc: 99.6406, loss_bbox: 0.2761, loss: 0.3192\n",
      "2022-05-26 17:22:53,163 - mmdet - INFO - starting model initialization...\n"
     ]
    },
    {
     "name": "stdout",
     "output_type": "stream",
     "text": [
      "[>>>>>>>>>>>>>>>>>>>>>>>>>>>>>>] 640/640, 77.3 task/s, elapsed: 8s, ETA:     0s"
     ]
    },
    {
     "name": "stderr",
     "output_type": "stream",
     "text": [
      "2022-05-26 17:23:01,519 - mmdet - INFO - model initialization done.\n"
     ]
    },
    {
     "name": "stdout",
     "output_type": "stream",
     "text": [
      "[>>>>>>>>>>>>>>>>>>>>>>>>>>>>>] 712/712, 12.6 task/s, elapsed: 56s, ETA:     0s\n",
      "---------------iou_thr: 0.5---------------\n"
     ]
    },
    {
     "name": "stderr",
     "output_type": "stream",
     "text": [
      "2022-05-26 17:23:58,353 - mmfewshot - INFO - \n",
      "+----------+-----+------+--------+-------+\n",
      "| class    | gts | dets | recall | ap    |\n",
      "+----------+-----+------+--------+-------+\n",
      "| 7up      | 810 | 3365 | 0.669  | 0.331 |\n",
      "| BudLight | 209 | 574  | 0.555  | 0.315 |\n",
      "+----------+-----+------+--------+-------+\n",
      "| mAP      |     |      |        | 0.323 |\n",
      "+----------+-----+------+--------+-------+\n",
      "2022-05-26 17:23:58,356 - mmfewshot - INFO - BASE_CLASSES_SPLIT1 mAP: 0.3227596879005432\n",
      "2022-05-26 17:23:58,358 - mmfewshot - INFO - NOVEL_CLASSES_SPLIT1 mAP: nan\n",
      "2022-05-26 17:23:58,363 - mmfewshot - INFO - Exp name: attention-rpn_r50_c4_tb-split1_1shot-fine-tuning-momentum-09.py\n",
      "2022-05-26 17:23:58,364 - mmfewshot - INFO - Iter(val) [712]\tAP50: 0.3230, BASE_CLASSES_SPLIT1: AP50: 0.3230, NOVEL_CLASSES_SPLIT1: AP50: nan, mAP: 0.3228\n",
      "2022-05-26 17:24:11,870 - mmfewshot - INFO - Iter [67050/100000]\tlr: 1.000e-04, eta: 3:02:36, time: 1.574, data_time: 1.316, memory: 5635, loss_rpn_cls: 0.0057, loss_rpn_bbox: 0.0039, loss_cls: 0.0374, acc: 99.6484, loss_bbox: 0.2850, loss: 0.3321\n",
      "2022-05-26 17:24:25,311 - mmfewshot - INFO - Iter [67100/100000]\tlr: 1.000e-04, eta: 3:02:17, time: 0.269, data_time: 0.012, memory: 5635, loss_rpn_cls: 0.0066, loss_rpn_bbox: 0.0080, loss_cls: 0.0270, acc: 99.6875, loss_bbox: 0.3224, loss: 0.3641\n",
      "2022-05-26 17:24:38,686 - mmfewshot - INFO - Iter [67150/100000]\tlr: 1.000e-04, eta: 3:01:59, time: 0.267, data_time: 0.012, memory: 5635, loss_rpn_cls: 0.0038, loss_rpn_bbox: 0.0055, loss_cls: 0.0326, acc: 99.7422, loss_bbox: 0.2626, loss: 0.3045\n",
      "2022-05-26 17:24:52,016 - mmfewshot - INFO - Iter [67200/100000]\tlr: 1.000e-04, eta: 3:01:41, time: 0.267, data_time: 0.011, memory: 5635, loss_rpn_cls: 0.0058, loss_rpn_bbox: 0.0043, loss_cls: 0.0353, acc: 99.7031, loss_bbox: 0.2736, loss: 0.3189\n",
      "2022-05-26 17:25:05,380 - mmfewshot - INFO - Iter [67250/100000]\tlr: 1.000e-04, eta: 3:01:23, time: 0.267, data_time: 0.011, memory: 5635, loss_rpn_cls: 0.0036, loss_rpn_bbox: 0.0034, loss_cls: 0.0395, acc: 99.6094, loss_bbox: 0.3021, loss: 0.3487\n",
      "2022-05-26 17:25:18,775 - mmfewshot - INFO - Iter [67300/100000]\tlr: 1.000e-04, eta: 3:01:05, time: 0.268, data_time: 0.011, memory: 5635, loss_rpn_cls: 0.0045, loss_rpn_bbox: 0.0050, loss_cls: 0.0327, acc: 99.7344, loss_bbox: 0.2902, loss: 0.3324\n",
      "2022-05-26 17:25:32,230 - mmfewshot - INFO - Iter [67350/100000]\tlr: 1.000e-04, eta: 3:00:46, time: 0.269, data_time: 0.012, memory: 5635, loss_rpn_cls: 0.0050, loss_rpn_bbox: 0.0049, loss_cls: 0.0424, acc: 99.6484, loss_bbox: 0.2646, loss: 0.3170\n",
      "2022-05-26 17:25:45,533 - mmfewshot - INFO - Iter [67400/100000]\tlr: 1.000e-04, eta: 3:00:28, time: 0.266, data_time: 0.011, memory: 5635, loss_rpn_cls: 0.0047, loss_rpn_bbox: 0.0036, loss_cls: 0.0436, acc: 99.6250, loss_bbox: 0.2790, loss: 0.3309\n",
      "2022-05-26 17:25:58,990 - mmfewshot - INFO - Iter [67450/100000]\tlr: 1.000e-04, eta: 3:00:10, time: 0.269, data_time: 0.012, memory: 5635, loss_rpn_cls: 0.0061, loss_rpn_bbox: 0.0066, loss_cls: 0.0296, acc: 99.7969, loss_bbox: 0.2813, loss: 0.3236\n",
      "2022-05-26 17:26:12,473 - mmfewshot - INFO - Iter [67500/100000]\tlr: 1.000e-04, eta: 2:59:52, time: 0.270, data_time: 0.012, memory: 5635, loss_rpn_cls: 0.0052, loss_rpn_bbox: 0.0076, loss_cls: 0.0266, acc: 99.7031, loss_bbox: 0.3219, loss: 0.3613\n",
      "2022-05-26 17:26:26,011 - mmfewshot - INFO - Iter [67550/100000]\tlr: 1.000e-04, eta: 2:59:34, time: 0.271, data_time: 0.012, memory: 5635, loss_rpn_cls: 0.0051, loss_rpn_bbox: 0.0040, loss_cls: 0.0309, acc: 99.6641, loss_bbox: 0.2849, loss: 0.3249\n",
      "2022-05-26 17:26:39,544 - mmfewshot - INFO - Iter [67600/100000]\tlr: 1.000e-04, eta: 2:59:16, time: 0.271, data_time: 0.012, memory: 5635, loss_rpn_cls: 0.0070, loss_rpn_bbox: 0.0058, loss_cls: 0.0518, acc: 99.5625, loss_bbox: 0.2756, loss: 0.3402\n",
      "2022-05-26 17:26:52,841 - mmfewshot - INFO - Iter [67650/100000]\tlr: 1.000e-04, eta: 2:58:58, time: 0.266, data_time: 0.011, memory: 5635, loss_rpn_cls: 0.0076, loss_rpn_bbox: 0.0090, loss_cls: 0.0338, acc: 99.6484, loss_bbox: 0.3162, loss: 0.3666\n",
      "2022-05-26 17:27:06,166 - mmfewshot - INFO - Iter [67700/100000]\tlr: 1.000e-04, eta: 2:58:40, time: 0.267, data_time: 0.012, memory: 5635, loss_rpn_cls: 0.0061, loss_rpn_bbox: 0.0067, loss_cls: 0.0345, acc: 99.6562, loss_bbox: 0.2789, loss: 0.3262\n",
      "2022-05-26 17:27:19,601 - mmfewshot - INFO - Iter [67750/100000]\tlr: 1.000e-04, eta: 2:58:21, time: 0.269, data_time: 0.012, memory: 5635, loss_rpn_cls: 0.0061, loss_rpn_bbox: 0.0043, loss_cls: 0.0237, acc: 99.7266, loss_bbox: 0.2921, loss: 0.3261\n",
      "2022-05-26 17:27:33,001 - mmfewshot - INFO - Iter [67800/100000]\tlr: 1.000e-04, eta: 2:58:03, time: 0.268, data_time: 0.011, memory: 5635, loss_rpn_cls: 0.0036, loss_rpn_bbox: 0.0031, loss_cls: 0.0364, acc: 99.6094, loss_bbox: 0.2787, loss: 0.3218\n",
      "2022-05-26 17:27:46,439 - mmfewshot - INFO - Iter [67850/100000]\tlr: 1.000e-04, eta: 2:57:45, time: 0.269, data_time: 0.011, memory: 5635, loss_rpn_cls: 0.0059, loss_rpn_bbox: 0.0066, loss_cls: 0.0388, acc: 99.6328, loss_bbox: 0.3009, loss: 0.3523\n",
      "2022-05-26 17:27:59,876 - mmfewshot - INFO - Iter [67900/100000]\tlr: 1.000e-04, eta: 2:57:27, time: 0.268, data_time: 0.011, memory: 5635, loss_rpn_cls: 0.0056, loss_rpn_bbox: 0.0047, loss_cls: 0.0315, acc: 99.5938, loss_bbox: 0.3089, loss: 0.3507\n",
      "2022-05-26 17:28:13,220 - mmfewshot - INFO - Iter [67950/100000]\tlr: 1.000e-04, eta: 2:57:09, time: 0.267, data_time: 0.011, memory: 5635, loss_rpn_cls: 0.0056, loss_rpn_bbox: 0.0057, loss_cls: 0.0424, acc: 99.7578, loss_bbox: 0.2394, loss: 0.2931\n",
      "2022-05-26 17:28:26,530 - mmfewshot - INFO - Exp name: attention-rpn_r50_c4_tb-split1_1shot-fine-tuning-momentum-09.py\n",
      "2022-05-26 17:28:26,532 - mmfewshot - INFO - Iter [68000/100000]\tlr: 1.000e-04, eta: 2:56:51, time: 0.267, data_time: 0.012, memory: 5635, loss_rpn_cls: 0.0050, loss_rpn_bbox: 0.0050, loss_cls: 0.0352, acc: 99.6797, loss_bbox: 0.2924, loss: 0.3375\n",
      "2022-05-26 17:28:26,537 - mmdet - INFO - starting model initialization...\n"
     ]
    },
    {
     "name": "stdout",
     "output_type": "stream",
     "text": [
      "[>>>>>>>>>>>>>>>>>>>>>>>>>>>>>>] 640/640, 78.5 task/s, elapsed: 8s, ETA:     0s"
     ]
    },
    {
     "name": "stderr",
     "output_type": "stream",
     "text": [
      "2022-05-26 17:28:34,757 - mmdet - INFO - model initialization done.\n"
     ]
    },
    {
     "name": "stdout",
     "output_type": "stream",
     "text": [
      "[>>>>>>>>>>>>>>>>>>>>>>>>>>>>>] 712/712, 12.7 task/s, elapsed: 56s, ETA:     0s\n",
      "---------------iou_thr: 0.5---------------\n"
     ]
    },
    {
     "name": "stderr",
     "output_type": "stream",
     "text": [
      "2022-05-26 17:29:31,037 - mmfewshot - INFO - \n",
      "+----------+-----+------+--------+-------+\n",
      "| class    | gts | dets | recall | ap    |\n",
      "+----------+-----+------+--------+-------+\n",
      "| 7up      | 810 | 2700 | 0.652  | 0.367 |\n",
      "| BudLight | 209 | 573  | 0.517  | 0.283 |\n",
      "+----------+-----+------+--------+-------+\n",
      "| mAP      |     |      |        | 0.325 |\n",
      "+----------+-----+------+--------+-------+\n",
      "2022-05-26 17:29:31,103 - mmfewshot - INFO - BASE_CLASSES_SPLIT1 mAP: 0.3250139355659485\n",
      "2022-05-26 17:29:31,104 - mmfewshot - INFO - NOVEL_CLASSES_SPLIT1 mAP: nan\n",
      "2022-05-26 17:29:31,106 - mmfewshot - INFO - Exp name: attention-rpn_r50_c4_tb-split1_1shot-fine-tuning-momentum-09.py\n",
      "2022-05-26 17:29:31,107 - mmfewshot - INFO - Iter(val) [712]\tAP50: 0.3250, BASE_CLASSES_SPLIT1: AP50: 0.3250, NOVEL_CLASSES_SPLIT1: AP50: nan, mAP: 0.3250\n",
      "2022-05-26 17:29:44,563 - mmfewshot - INFO - Iter [68050/100000]\tlr: 1.000e-04, eta: 2:57:03, time: 1.560, data_time: 1.302, memory: 5635, loss_rpn_cls: 0.0066, loss_rpn_bbox: 0.0081, loss_cls: 0.0310, acc: 99.6953, loss_bbox: 0.3120, loss: 0.3576\n",
      "2022-05-26 17:29:58,024 - mmfewshot - INFO - Iter [68100/100000]\tlr: 1.000e-04, eta: 2:56:45, time: 0.269, data_time: 0.012, memory: 5635, loss_rpn_cls: 0.0053, loss_rpn_bbox: 0.0043, loss_cls: 0.0300, acc: 99.6797, loss_bbox: 0.3153, loss: 0.3549\n",
      "2022-05-26 17:30:11,382 - mmfewshot - INFO - Iter [68150/100000]\tlr: 1.000e-04, eta: 2:56:27, time: 0.268, data_time: 0.011, memory: 5635, loss_rpn_cls: 0.0067, loss_rpn_bbox: 0.0050, loss_cls: 0.0250, acc: 99.7344, loss_bbox: 0.2778, loss: 0.3145\n",
      "2022-05-26 17:30:24,724 - mmfewshot - INFO - Iter [68200/100000]\tlr: 1.000e-04, eta: 2:56:09, time: 0.267, data_time: 0.011, memory: 5635, loss_rpn_cls: 0.0075, loss_rpn_bbox: 0.0066, loss_cls: 0.0347, acc: 99.6484, loss_bbox: 0.2856, loss: 0.3344\n",
      "2022-05-26 17:30:37,972 - mmfewshot - INFO - Iter [68250/100000]\tlr: 1.000e-04, eta: 2:55:51, time: 0.265, data_time: 0.012, memory: 5635, loss_rpn_cls: 0.0041, loss_rpn_bbox: 0.0029, loss_cls: 0.0361, acc: 99.7188, loss_bbox: 0.2787, loss: 0.3219\n",
      "2022-05-26 17:30:51,453 - mmfewshot - INFO - Iter [68300/100000]\tlr: 1.000e-04, eta: 2:55:33, time: 0.270, data_time: 0.012, memory: 5635, loss_rpn_cls: 0.0085, loss_rpn_bbox: 0.0045, loss_cls: 0.0348, acc: 99.6562, loss_bbox: 0.2778, loss: 0.3255\n",
      "2022-05-26 17:31:04,857 - mmfewshot - INFO - Iter [68350/100000]\tlr: 1.000e-04, eta: 2:55:14, time: 0.268, data_time: 0.012, memory: 5635, loss_rpn_cls: 0.0058, loss_rpn_bbox: 0.0052, loss_cls: 0.0403, acc: 99.6016, loss_bbox: 0.2958, loss: 0.3471\n",
      "2022-05-26 17:31:18,259 - mmfewshot - INFO - Iter [68400/100000]\tlr: 1.000e-04, eta: 2:54:56, time: 0.268, data_time: 0.011, memory: 5635, loss_rpn_cls: 0.0057, loss_rpn_bbox: 0.0040, loss_cls: 0.0280, acc: 99.6953, loss_bbox: 0.2740, loss: 0.3117\n",
      "2022-05-26 17:31:31,818 - mmfewshot - INFO - Iter [68450/100000]\tlr: 1.000e-04, eta: 2:54:38, time: 0.271, data_time: 0.012, memory: 5635, loss_rpn_cls: 0.0065, loss_rpn_bbox: 0.0055, loss_cls: 0.0315, acc: 99.6797, loss_bbox: 0.3120, loss: 0.3555\n",
      "2022-05-26 17:31:45,302 - mmfewshot - INFO - Iter [68500/100000]\tlr: 1.000e-04, eta: 2:54:20, time: 0.269, data_time: 0.012, memory: 5635, loss_rpn_cls: 0.0040, loss_rpn_bbox: 0.0035, loss_cls: 0.0274, acc: 99.7344, loss_bbox: 0.2817, loss: 0.3166\n",
      "2022-05-26 17:31:58,808 - mmfewshot - INFO - Iter [68550/100000]\tlr: 1.000e-04, eta: 2:54:02, time: 0.270, data_time: 0.012, memory: 5635, loss_rpn_cls: 0.0056, loss_rpn_bbox: 0.0047, loss_cls: 0.0279, acc: 99.7812, loss_bbox: 0.3024, loss: 0.3406\n",
      "2022-05-26 17:32:12,350 - mmfewshot - INFO - Iter [68600/100000]\tlr: 1.000e-04, eta: 2:53:44, time: 0.271, data_time: 0.012, memory: 5635, loss_rpn_cls: 0.0055, loss_rpn_bbox: 0.0051, loss_cls: 0.0340, acc: 99.6562, loss_bbox: 0.2922, loss: 0.3368\n",
      "2022-05-26 17:32:25,748 - mmfewshot - INFO - Iter [68650/100000]\tlr: 1.000e-04, eta: 2:53:26, time: 0.268, data_time: 0.010, memory: 5635, loss_rpn_cls: 0.0045, loss_rpn_bbox: 0.0037, loss_cls: 0.0297, acc: 99.6875, loss_bbox: 0.2807, loss: 0.3187\n",
      "2022-05-26 17:32:39,168 - mmfewshot - INFO - Iter [68700/100000]\tlr: 1.000e-04, eta: 2:53:08, time: 0.268, data_time: 0.011, memory: 5635, loss_rpn_cls: 0.0068, loss_rpn_bbox: 0.0060, loss_cls: 0.0235, acc: 99.7812, loss_bbox: 0.2512, loss: 0.2875\n",
      "2022-05-26 17:32:52,690 - mmfewshot - INFO - Iter [68750/100000]\tlr: 1.000e-04, eta: 2:52:50, time: 0.271, data_time: 0.012, memory: 5635, loss_rpn_cls: 0.0060, loss_rpn_bbox: 0.0046, loss_cls: 0.0387, acc: 99.6797, loss_bbox: 0.2725, loss: 0.3217\n",
      "2022-05-26 17:33:06,341 - mmfewshot - INFO - Iter [68800/100000]\tlr: 1.000e-04, eta: 2:52:32, time: 0.273, data_time: 0.012, memory: 5635, loss_rpn_cls: 0.0061, loss_rpn_bbox: 0.0037, loss_cls: 0.0299, acc: 99.7422, loss_bbox: 0.3163, loss: 0.3560\n",
      "2022-05-26 17:33:19,998 - mmfewshot - INFO - Iter [68850/100000]\tlr: 1.000e-04, eta: 2:52:14, time: 0.273, data_time: 0.012, memory: 5635, loss_rpn_cls: 0.0038, loss_rpn_bbox: 0.0032, loss_cls: 0.0249, acc: 99.7422, loss_bbox: 0.2821, loss: 0.3140\n",
      "2022-05-26 17:33:33,318 - mmfewshot - INFO - Iter [68900/100000]\tlr: 1.000e-04, eta: 2:51:56, time: 0.267, data_time: 0.011, memory: 5635, loss_rpn_cls: 0.0062, loss_rpn_bbox: 0.0053, loss_cls: 0.0332, acc: 99.6562, loss_bbox: 0.2780, loss: 0.3226\n",
      "2022-05-26 17:33:46,696 - mmfewshot - INFO - Iter [68950/100000]\tlr: 1.000e-04, eta: 2:51:38, time: 0.267, data_time: 0.011, memory: 5635, loss_rpn_cls: 0.0048, loss_rpn_bbox: 0.0036, loss_cls: 0.0258, acc: 99.7344, loss_bbox: 0.2862, loss: 0.3205\n",
      "2022-05-26 17:34:00,176 - mmfewshot - INFO - Exp name: attention-rpn_r50_c4_tb-split1_1shot-fine-tuning-momentum-09.py\n",
      "2022-05-26 17:34:00,178 - mmfewshot - INFO - Iter [69000/100000]\tlr: 1.000e-04, eta: 2:51:20, time: 0.269, data_time: 0.012, memory: 5635, loss_rpn_cls: 0.0034, loss_rpn_bbox: 0.0038, loss_cls: 0.0287, acc: 99.6953, loss_bbox: 0.2833, loss: 0.3192\n",
      "2022-05-26 17:34:00,183 - mmdet - INFO - starting model initialization...\n"
     ]
    },
    {
     "name": "stdout",
     "output_type": "stream",
     "text": [
      "[>>>>>>>>>>>>>>>>>>>>>>>>>>>>>>] 640/640, 78.9 task/s, elapsed: 8s, ETA:     0s"
     ]
    },
    {
     "name": "stderr",
     "output_type": "stream",
     "text": [
      "2022-05-26 17:34:08,361 - mmdet - INFO - model initialization done.\n"
     ]
    },
    {
     "name": "stdout",
     "output_type": "stream",
     "text": [
      "[>>>>>>>>>>>>>>>>>>>>>>>>>>>>>] 712/712, 12.7 task/s, elapsed: 56s, ETA:     0s\n",
      "---------------iou_thr: 0.5---------------\n"
     ]
    },
    {
     "name": "stderr",
     "output_type": "stream",
     "text": [
      "2022-05-26 17:35:05,016 - mmfewshot - INFO - \n",
      "+----------+-----+------+--------+-------+\n",
      "| class    | gts | dets | recall | ap    |\n",
      "+----------+-----+------+--------+-------+\n",
      "| 7up      | 810 | 3218 | 0.701  | 0.392 |\n",
      "| BudLight | 209 | 409  | 0.474  | 0.269 |\n",
      "+----------+-----+------+--------+-------+\n",
      "| mAP      |     |      |        | 0.330 |\n",
      "+----------+-----+------+--------+-------+\n",
      "2022-05-26 17:35:05,018 - mmfewshot - INFO - BASE_CLASSES_SPLIT1 mAP: 0.3303847312927246\n",
      "2022-05-26 17:35:05,019 - mmfewshot - INFO - NOVEL_CLASSES_SPLIT1 mAP: nan\n",
      "2022-05-26 17:35:05,023 - mmfewshot - INFO - Exp name: attention-rpn_r50_c4_tb-split1_1shot-fine-tuning-momentum-09.py\n",
      "2022-05-26 17:35:05,024 - mmfewshot - INFO - Iter(val) [712]\tAP50: 0.3300, BASE_CLASSES_SPLIT1: AP50: 0.3300, NOVEL_CLASSES_SPLIT1: AP50: nan, mAP: 0.3304\n",
      "2022-05-26 17:35:18,415 - mmfewshot - INFO - Iter [69050/100000]\tlr: 1.000e-04, eta: 2:51:31, time: 1.565, data_time: 1.309, memory: 5635, loss_rpn_cls: 0.0050, loss_rpn_bbox: 0.0058, loss_cls: 0.0314, acc: 99.7578, loss_bbox: 0.2837, loss: 0.3259\n",
      "2022-05-26 17:35:31,898 - mmfewshot - INFO - Iter [69100/100000]\tlr: 1.000e-04, eta: 2:51:13, time: 0.269, data_time: 0.012, memory: 5635, loss_rpn_cls: 0.0072, loss_rpn_bbox: 0.0056, loss_cls: 0.0292, acc: 99.6875, loss_bbox: 0.3008, loss: 0.3427\n",
      "2022-05-26 17:35:45,308 - mmfewshot - INFO - Iter [69150/100000]\tlr: 1.000e-04, eta: 2:50:55, time: 0.268, data_time: 0.012, memory: 5635, loss_rpn_cls: 0.0050, loss_rpn_bbox: 0.0045, loss_cls: 0.0385, acc: 99.6250, loss_bbox: 0.2922, loss: 0.3402\n",
      "2022-05-26 17:35:58,692 - mmfewshot - INFO - Iter [69200/100000]\tlr: 1.000e-04, eta: 2:50:37, time: 0.267, data_time: 0.012, memory: 5635, loss_rpn_cls: 0.0077, loss_rpn_bbox: 0.0051, loss_cls: 0.0227, acc: 99.7578, loss_bbox: 0.2971, loss: 0.3326\n",
      "2022-05-26 17:36:12,017 - mmfewshot - INFO - Iter [69250/100000]\tlr: 1.000e-04, eta: 2:50:19, time: 0.267, data_time: 0.012, memory: 5635, loss_rpn_cls: 0.0063, loss_rpn_bbox: 0.0051, loss_cls: 0.0330, acc: 99.7266, loss_bbox: 0.2889, loss: 0.3333\n",
      "2022-05-26 17:36:25,553 - mmfewshot - INFO - Iter [69300/100000]\tlr: 1.000e-04, eta: 2:50:01, time: 0.271, data_time: 0.011, memory: 5635, loss_rpn_cls: 0.0062, loss_rpn_bbox: 0.0050, loss_cls: 0.0341, acc: 99.7109, loss_bbox: 0.2875, loss: 0.3328\n",
      "2022-05-26 17:36:39,280 - mmfewshot - INFO - Iter [69350/100000]\tlr: 1.000e-04, eta: 2:49:43, time: 0.274, data_time: 0.012, memory: 5635, loss_rpn_cls: 0.0059, loss_rpn_bbox: 0.0059, loss_cls: 0.0284, acc: 99.6875, loss_bbox: 0.3008, loss: 0.3410\n",
      "2022-05-26 17:36:52,862 - mmfewshot - INFO - Iter [69400/100000]\tlr: 1.000e-04, eta: 2:49:25, time: 0.272, data_time: 0.012, memory: 5635, loss_rpn_cls: 0.0045, loss_rpn_bbox: 0.0046, loss_cls: 0.0306, acc: 99.6641, loss_bbox: 0.3306, loss: 0.3703\n",
      "2022-05-26 17:37:06,473 - mmfewshot - INFO - Iter [69450/100000]\tlr: 1.000e-04, eta: 2:49:07, time: 0.272, data_time: 0.012, memory: 5635, loss_rpn_cls: 0.0052, loss_rpn_bbox: 0.0046, loss_cls: 0.0273, acc: 99.6953, loss_bbox: 0.2896, loss: 0.3267\n",
      "2022-05-26 17:37:19,809 - mmfewshot - INFO - Iter [69500/100000]\tlr: 1.000e-04, eta: 2:48:49, time: 0.267, data_time: 0.012, memory: 5635, loss_rpn_cls: 0.0045, loss_rpn_bbox: 0.0049, loss_cls: 0.0219, acc: 99.7734, loss_bbox: 0.2690, loss: 0.3002\n",
      "2022-05-26 17:37:33,308 - mmfewshot - INFO - Iter [69550/100000]\tlr: 1.000e-04, eta: 2:48:31, time: 0.270, data_time: 0.012, memory: 5635, loss_rpn_cls: 0.0074, loss_rpn_bbox: 0.0059, loss_cls: 0.0381, acc: 99.5703, loss_bbox: 0.2944, loss: 0.3458\n",
      "2022-05-26 17:37:46,759 - mmfewshot - INFO - Iter [69600/100000]\tlr: 1.000e-04, eta: 2:48:13, time: 0.269, data_time: 0.012, memory: 5635, loss_rpn_cls: 0.0067, loss_rpn_bbox: 0.0058, loss_cls: 0.0266, acc: 99.7188, loss_bbox: 0.2981, loss: 0.3371\n",
      "2022-05-26 17:38:00,227 - mmfewshot - INFO - Iter [69650/100000]\tlr: 1.000e-04, eta: 2:47:55, time: 0.269, data_time: 0.011, memory: 5635, loss_rpn_cls: 0.0049, loss_rpn_bbox: 0.0037, loss_cls: 0.0238, acc: 99.7188, loss_bbox: 0.2777, loss: 0.3101\n",
      "2022-05-26 17:38:13,500 - mmfewshot - INFO - Iter [69700/100000]\tlr: 1.000e-04, eta: 2:47:37, time: 0.265, data_time: 0.011, memory: 5635, loss_rpn_cls: 0.0047, loss_rpn_bbox: 0.0053, loss_cls: 0.0297, acc: 99.6406, loss_bbox: 0.3058, loss: 0.3454\n",
      "2022-05-26 17:38:26,973 - mmfewshot - INFO - Iter [69750/100000]\tlr: 1.000e-04, eta: 2:47:19, time: 0.269, data_time: 0.012, memory: 5635, loss_rpn_cls: 0.0053, loss_rpn_bbox: 0.0047, loss_cls: 0.0332, acc: 99.6719, loss_bbox: 0.2853, loss: 0.3286\n",
      "2022-05-26 17:38:40,193 - mmfewshot - INFO - Iter [69800/100000]\tlr: 1.000e-04, eta: 2:47:01, time: 0.265, data_time: 0.011, memory: 5635, loss_rpn_cls: 0.0060, loss_rpn_bbox: 0.0061, loss_cls: 0.0287, acc: 99.6719, loss_bbox: 0.3087, loss: 0.3495\n",
      "2022-05-26 17:38:53,571 - mmfewshot - INFO - Iter [69850/100000]\tlr: 1.000e-04, eta: 2:46:43, time: 0.268, data_time: 0.011, memory: 5635, loss_rpn_cls: 0.0071, loss_rpn_bbox: 0.0071, loss_cls: 0.0292, acc: 99.7109, loss_bbox: 0.3037, loss: 0.3471\n",
      "2022-05-26 17:39:06,987 - mmfewshot - INFO - Iter [69900/100000]\tlr: 1.000e-04, eta: 2:46:25, time: 0.268, data_time: 0.011, memory: 5635, loss_rpn_cls: 0.0042, loss_rpn_bbox: 0.0049, loss_cls: 0.0286, acc: 99.7109, loss_bbox: 0.2866, loss: 0.3243\n",
      "2022-05-26 17:39:20,236 - mmfewshot - INFO - Iter [69950/100000]\tlr: 1.000e-04, eta: 2:46:07, time: 0.265, data_time: 0.010, memory: 5635, loss_rpn_cls: 0.0055, loss_rpn_bbox: 0.0068, loss_cls: 0.0463, acc: 99.6719, loss_bbox: 0.3024, loss: 0.3611\n",
      "2022-05-26 17:39:33,443 - mmfewshot - INFO - Saving checkpoint at 70000 iterations\n",
      "2022-05-26 17:39:34,968 - mmfewshot - INFO - Exp name: attention-rpn_r50_c4_tb-split1_1shot-fine-tuning-momentum-09.py\n",
      "2022-05-26 17:39:34,969 - mmfewshot - INFO - Iter [70000/100000]\tlr: 1.000e-04, eta: 2:45:50, time: 0.297, data_time: 0.012, memory: 5635, loss_rpn_cls: 0.0062, loss_rpn_bbox: 0.0077, loss_cls: 0.0320, acc: 99.6719, loss_bbox: 0.2853, loss: 0.3312\n",
      "2022-05-26 17:39:34,973 - mmdet - INFO - starting model initialization...\n"
     ]
    },
    {
     "name": "stdout",
     "output_type": "stream",
     "text": [
      "[>>>>>>>>>>>>>>>>>>>>>>>>>>>>>>] 640/640, 76.2 task/s, elapsed: 8s, ETA:     0s"
     ]
    },
    {
     "name": "stderr",
     "output_type": "stream",
     "text": [
      "2022-05-26 17:39:43,467 - mmdet - INFO - model initialization done.\n"
     ]
    },
    {
     "name": "stdout",
     "output_type": "stream",
     "text": [
      "[>>>>>>>>>>>>>>>>>>>>>>>>>>>>>] 712/712, 12.6 task/s, elapsed: 56s, ETA:     0s\n",
      "---------------iou_thr: 0.5---------------\n"
     ]
    },
    {
     "name": "stderr",
     "output_type": "stream",
     "text": [
      "2022-05-26 17:40:40,286 - mmfewshot - INFO - \n",
      "+----------+-----+------+--------+-------+\n",
      "| class    | gts | dets | recall | ap    |\n",
      "+----------+-----+------+--------+-------+\n",
      "| 7up      | 810 | 3046 | 0.684  | 0.365 |\n",
      "| BudLight | 209 | 680  | 0.560  | 0.294 |\n",
      "+----------+-----+------+--------+-------+\n",
      "| mAP      |     |      |        | 0.329 |\n",
      "+----------+-----+------+--------+-------+\n",
      "2022-05-26 17:40:40,289 - mmfewshot - INFO - BASE_CLASSES_SPLIT1 mAP: 0.32910606265068054\n",
      "2022-05-26 17:40:40,290 - mmfewshot - INFO - NOVEL_CLASSES_SPLIT1 mAP: nan\n",
      "2022-05-26 17:40:40,294 - mmfewshot - INFO - Exp name: attention-rpn_r50_c4_tb-split1_1shot-fine-tuning-momentum-09.py\n",
      "2022-05-26 17:40:40,295 - mmfewshot - INFO - Iter(val) [712]\tAP50: 0.3290, BASE_CLASSES_SPLIT1: AP50: 0.3290, NOVEL_CLASSES_SPLIT1: AP50: nan, mAP: 0.3291\n",
      "2022-05-26 17:40:53,749 - mmfewshot - INFO - Iter [70050/100000]\tlr: 1.000e-04, eta: 2:46:00, time: 1.573, data_time: 1.316, memory: 5635, loss_rpn_cls: 0.0065, loss_rpn_bbox: 0.0055, loss_cls: 0.0216, acc: 99.7734, loss_bbox: 0.2999, loss: 0.3335\n",
      "2022-05-26 17:41:07,128 - mmfewshot - INFO - Iter [70100/100000]\tlr: 1.000e-04, eta: 2:45:42, time: 0.267, data_time: 0.011, memory: 5635, loss_rpn_cls: 0.0041, loss_rpn_bbox: 0.0041, loss_cls: 0.0307, acc: 99.7031, loss_bbox: 0.2874, loss: 0.3263\n",
      "2022-05-26 17:41:20,578 - mmfewshot - INFO - Iter [70150/100000]\tlr: 1.000e-04, eta: 2:45:24, time: 0.269, data_time: 0.012, memory: 5635, loss_rpn_cls: 0.0095, loss_rpn_bbox: 0.0062, loss_cls: 0.0322, acc: 99.7188, loss_bbox: 0.2584, loss: 0.3064\n",
      "2022-05-26 17:41:33,909 - mmfewshot - INFO - Iter [70200/100000]\tlr: 1.000e-04, eta: 2:45:06, time: 0.267, data_time: 0.012, memory: 5635, loss_rpn_cls: 0.0042, loss_rpn_bbox: 0.0040, loss_cls: 0.0299, acc: 99.6953, loss_bbox: 0.2760, loss: 0.3140\n",
      "2022-05-26 17:41:47,238 - mmfewshot - INFO - Iter [70250/100000]\tlr: 1.000e-04, eta: 2:44:48, time: 0.267, data_time: 0.012, memory: 5635, loss_rpn_cls: 0.0073, loss_rpn_bbox: 0.0052, loss_cls: 0.0257, acc: 99.6641, loss_bbox: 0.3247, loss: 0.3629\n",
      "2022-05-26 17:42:00,749 - mmfewshot - INFO - Iter [70300/100000]\tlr: 1.000e-04, eta: 2:44:30, time: 0.270, data_time: 0.011, memory: 5635, loss_rpn_cls: 0.0056, loss_rpn_bbox: 0.0058, loss_cls: 0.0292, acc: 99.7031, loss_bbox: 0.2679, loss: 0.3085\n",
      "2022-05-26 17:42:14,228 - mmfewshot - INFO - Iter [70350/100000]\tlr: 1.000e-04, eta: 2:44:12, time: 0.269, data_time: 0.011, memory: 5635, loss_rpn_cls: 0.0061, loss_rpn_bbox: 0.0051, loss_cls: 0.0341, acc: 99.6328, loss_bbox: 0.3134, loss: 0.3587\n",
      "2022-05-26 17:42:27,735 - mmfewshot - INFO - Iter [70400/100000]\tlr: 1.000e-04, eta: 2:43:54, time: 0.271, data_time: 0.013, memory: 5635, loss_rpn_cls: 0.0060, loss_rpn_bbox: 0.0048, loss_cls: 0.0314, acc: 99.6406, loss_bbox: 0.3032, loss: 0.3453\n",
      "2022-05-26 17:42:41,230 - mmfewshot - INFO - Iter [70450/100000]\tlr: 1.000e-04, eta: 2:43:36, time: 0.270, data_time: 0.012, memory: 5635, loss_rpn_cls: 0.0068, loss_rpn_bbox: 0.0074, loss_cls: 0.0305, acc: 99.7031, loss_bbox: 0.2963, loss: 0.3411\n",
      "2022-05-26 17:42:54,701 - mmfewshot - INFO - Iter [70500/100000]\tlr: 1.000e-04, eta: 2:43:18, time: 0.270, data_time: 0.013, memory: 5635, loss_rpn_cls: 0.0055, loss_rpn_bbox: 0.0071, loss_cls: 0.0272, acc: 99.6484, loss_bbox: 0.3199, loss: 0.3597\n",
      "2022-05-26 17:43:08,219 - mmfewshot - INFO - Iter [70550/100000]\tlr: 1.000e-04, eta: 2:43:00, time: 0.270, data_time: 0.013, memory: 5635, loss_rpn_cls: 0.0092, loss_rpn_bbox: 0.0071, loss_cls: 0.0321, acc: 99.7031, loss_bbox: 0.2884, loss: 0.3368\n",
      "2022-05-26 17:43:21,718 - mmfewshot - INFO - Iter [70600/100000]\tlr: 1.000e-04, eta: 2:42:42, time: 0.270, data_time: 0.013, memory: 5635, loss_rpn_cls: 0.0039, loss_rpn_bbox: 0.0040, loss_cls: 0.0256, acc: 99.7422, loss_bbox: 0.2918, loss: 0.3253\n",
      "2022-05-26 17:43:35,157 - mmfewshot - INFO - Iter [70650/100000]\tlr: 1.000e-04, eta: 2:42:25, time: 0.269, data_time: 0.011, memory: 5635, loss_rpn_cls: 0.0060, loss_rpn_bbox: 0.0057, loss_cls: 0.0211, acc: 99.7578, loss_bbox: 0.3180, loss: 0.3508\n",
      "2022-05-26 17:43:48,599 - mmfewshot - INFO - Iter [70700/100000]\tlr: 1.000e-04, eta: 2:42:07, time: 0.269, data_time: 0.012, memory: 5635, loss_rpn_cls: 0.0046, loss_rpn_bbox: 0.0040, loss_cls: 0.0239, acc: 99.7422, loss_bbox: 0.3126, loss: 0.3451\n",
      "2022-05-26 17:44:02,061 - mmfewshot - INFO - Iter [70750/100000]\tlr: 1.000e-04, eta: 2:41:49, time: 0.269, data_time: 0.012, memory: 5635, loss_rpn_cls: 0.0045, loss_rpn_bbox: 0.0044, loss_cls: 0.0218, acc: 99.7266, loss_bbox: 0.3120, loss: 0.3427\n",
      "2022-05-26 17:44:15,675 - mmfewshot - INFO - Iter [70800/100000]\tlr: 1.000e-04, eta: 2:41:31, time: 0.272, data_time: 0.011, memory: 5635, loss_rpn_cls: 0.0033, loss_rpn_bbox: 0.0051, loss_cls: 0.0276, acc: 99.7344, loss_bbox: 0.2990, loss: 0.3350\n",
      "2022-05-26 17:44:28,943 - mmfewshot - INFO - Iter [70850/100000]\tlr: 1.000e-04, eta: 2:41:13, time: 0.265, data_time: 0.011, memory: 5635, loss_rpn_cls: 0.0049, loss_rpn_bbox: 0.0036, loss_cls: 0.0318, acc: 99.7109, loss_bbox: 0.2753, loss: 0.3156\n",
      "2022-05-26 17:44:42,452 - mmfewshot - INFO - Iter [70900/100000]\tlr: 1.000e-04, eta: 2:40:55, time: 0.270, data_time: 0.011, memory: 5635, loss_rpn_cls: 0.0051, loss_rpn_bbox: 0.0036, loss_cls: 0.0332, acc: 99.6953, loss_bbox: 0.2614, loss: 0.3033\n",
      "2022-05-26 17:44:55,927 - mmfewshot - INFO - Iter [70950/100000]\tlr: 1.000e-04, eta: 2:40:37, time: 0.270, data_time: 0.013, memory: 5635, loss_rpn_cls: 0.0055, loss_rpn_bbox: 0.0049, loss_cls: 0.0329, acc: 99.6641, loss_bbox: 0.2776, loss: 0.3209\n",
      "2022-05-26 17:45:09,152 - mmfewshot - INFO - Exp name: attention-rpn_r50_c4_tb-split1_1shot-fine-tuning-momentum-09.py\n",
      "2022-05-26 17:45:09,153 - mmfewshot - INFO - Iter [71000/100000]\tlr: 1.000e-04, eta: 2:40:19, time: 0.265, data_time: 0.011, memory: 5635, loss_rpn_cls: 0.0074, loss_rpn_bbox: 0.0067, loss_cls: 0.0267, acc: 99.7656, loss_bbox: 0.2965, loss: 0.3373\n",
      "2022-05-26 17:45:09,158 - mmdet - INFO - starting model initialization...\n"
     ]
    },
    {
     "name": "stdout",
     "output_type": "stream",
     "text": [
      "[>>>>>>>>>>>>>>>>>>>>>>>>>>>>>>] 640/640, 74.7 task/s, elapsed: 9s, ETA:     0s"
     ]
    },
    {
     "name": "stderr",
     "output_type": "stream",
     "text": [
      "2022-05-26 17:45:17,793 - mmdet - INFO - model initialization done.\n"
     ]
    },
    {
     "name": "stdout",
     "output_type": "stream",
     "text": [
      "[>>>>>>>>>>>>>>>>>>>>>>>>>>>>>] 712/712, 12.7 task/s, elapsed: 56s, ETA:     0s\n",
      "---------------iou_thr: 0.5---------------\n"
     ]
    },
    {
     "name": "stderr",
     "output_type": "stream",
     "text": [
      "2022-05-26 17:46:14,367 - mmfewshot - INFO - \n",
      "+----------+-----+------+--------+-------+\n",
      "| class    | gts | dets | recall | ap    |\n",
      "+----------+-----+------+--------+-------+\n",
      "| 7up      | 810 | 2724 | 0.653  | 0.344 |\n",
      "| BudLight | 209 | 427  | 0.474  | 0.260 |\n",
      "+----------+-----+------+--------+-------+\n",
      "| mAP      |     |      |        | 0.302 |\n",
      "+----------+-----+------+--------+-------+\n",
      "2022-05-26 17:46:14,370 - mmfewshot - INFO - BASE_CLASSES_SPLIT1 mAP: 0.3019341230392456\n",
      "2022-05-26 17:46:14,371 - mmfewshot - INFO - NOVEL_CLASSES_SPLIT1 mAP: nan\n",
      "2022-05-26 17:46:14,376 - mmfewshot - INFO - Exp name: attention-rpn_r50_c4_tb-split1_1shot-fine-tuning-momentum-09.py\n",
      "2022-05-26 17:46:14,376 - mmfewshot - INFO - Iter(val) [712]\tAP50: 0.3020, BASE_CLASSES_SPLIT1: AP50: 0.3020, NOVEL_CLASSES_SPLIT1: AP50: nan, mAP: 0.3019\n",
      "2022-05-26 17:46:27,896 - mmfewshot - INFO - Iter [71050/100000]\tlr: 1.000e-04, eta: 2:40:28, time: 1.575, data_time: 1.317, memory: 5635, loss_rpn_cls: 0.0049, loss_rpn_bbox: 0.0039, loss_cls: 0.0321, acc: 99.7500, loss_bbox: 0.2867, loss: 0.3276\n",
      "2022-05-26 17:46:41,161 - mmfewshot - INFO - Iter [71100/100000]\tlr: 1.000e-04, eta: 2:40:10, time: 0.265, data_time: 0.010, memory: 5635, loss_rpn_cls: 0.0040, loss_rpn_bbox: 0.0026, loss_cls: 0.0328, acc: 99.7188, loss_bbox: 0.2694, loss: 0.3088\n",
      "2022-05-26 17:46:54,605 - mmfewshot - INFO - Iter [71150/100000]\tlr: 1.000e-04, eta: 2:39:52, time: 0.269, data_time: 0.012, memory: 5635, loss_rpn_cls: 0.0056, loss_rpn_bbox: 0.0040, loss_cls: 0.0310, acc: 99.7656, loss_bbox: 0.2973, loss: 0.3379\n",
      "2022-05-26 17:47:08,030 - mmfewshot - INFO - Iter [71200/100000]\tlr: 1.000e-04, eta: 2:39:34, time: 0.268, data_time: 0.011, memory: 5635, loss_rpn_cls: 0.0049, loss_rpn_bbox: 0.0039, loss_cls: 0.0338, acc: 99.6641, loss_bbox: 0.2975, loss: 0.3400\n",
      "2022-05-26 17:47:21,452 - mmfewshot - INFO - Iter [71250/100000]\tlr: 1.000e-04, eta: 2:39:16, time: 0.269, data_time: 0.012, memory: 5635, loss_rpn_cls: 0.0049, loss_rpn_bbox: 0.0052, loss_cls: 0.0236, acc: 99.7969, loss_bbox: 0.3100, loss: 0.3437\n",
      "2022-05-26 17:47:34,775 - mmfewshot - INFO - Iter [71300/100000]\tlr: 1.000e-04, eta: 2:38:58, time: 0.266, data_time: 0.011, memory: 5635, loss_rpn_cls: 0.0068, loss_rpn_bbox: 0.0044, loss_cls: 0.0291, acc: 99.7188, loss_bbox: 0.2726, loss: 0.3129\n",
      "2022-05-26 17:47:48,270 - mmfewshot - INFO - Iter [71350/100000]\tlr: 1.000e-04, eta: 2:38:40, time: 0.270, data_time: 0.011, memory: 5635, loss_rpn_cls: 0.0086, loss_rpn_bbox: 0.0084, loss_cls: 0.0338, acc: 99.6016, loss_bbox: 0.3283, loss: 0.3790\n",
      "2022-05-26 17:48:01,622 - mmfewshot - INFO - Iter [71400/100000]\tlr: 1.000e-04, eta: 2:38:23, time: 0.267, data_time: 0.011, memory: 5635, loss_rpn_cls: 0.0055, loss_rpn_bbox: 0.0044, loss_cls: 0.0485, acc: 99.7500, loss_bbox: 0.2842, loss: 0.3427\n",
      "2022-05-26 17:48:15,157 - mmfewshot - INFO - Iter [71450/100000]\tlr: 1.000e-04, eta: 2:38:05, time: 0.271, data_time: 0.013, memory: 5635, loss_rpn_cls: 0.0053, loss_rpn_bbox: 0.0050, loss_cls: 0.0305, acc: 99.6953, loss_bbox: 0.3111, loss: 0.3518\n",
      "2022-05-26 17:48:28,508 - mmfewshot - INFO - Iter [71500/100000]\tlr: 1.000e-04, eta: 2:37:47, time: 0.267, data_time: 0.012, memory: 5635, loss_rpn_cls: 0.0067, loss_rpn_bbox: 0.0042, loss_cls: 0.0277, acc: 99.6875, loss_bbox: 0.3083, loss: 0.3469\n",
      "2022-05-26 17:48:41,939 - mmfewshot - INFO - Iter [71550/100000]\tlr: 1.000e-04, eta: 2:37:29, time: 0.269, data_time: 0.012, memory: 5635, loss_rpn_cls: 0.0080, loss_rpn_bbox: 0.0087, loss_cls: 0.0314, acc: 99.6094, loss_bbox: 0.2812, loss: 0.3293\n",
      "2022-05-26 17:48:55,200 - mmfewshot - INFO - Iter [71600/100000]\tlr: 1.000e-04, eta: 2:37:11, time: 0.265, data_time: 0.011, memory: 5635, loss_rpn_cls: 0.0048, loss_rpn_bbox: 0.0042, loss_cls: 0.0241, acc: 99.7891, loss_bbox: 0.2635, loss: 0.2966\n",
      "2022-05-26 17:49:08,456 - mmfewshot - INFO - Iter [71650/100000]\tlr: 1.000e-04, eta: 2:36:53, time: 0.265, data_time: 0.012, memory: 5635, loss_rpn_cls: 0.0055, loss_rpn_bbox: 0.0064, loss_cls: 0.0315, acc: 99.6953, loss_bbox: 0.3066, loss: 0.3500\n",
      "2022-05-26 17:49:21,867 - mmfewshot - INFO - Iter [71700/100000]\tlr: 1.000e-04, eta: 2:36:35, time: 0.268, data_time: 0.012, memory: 5635, loss_rpn_cls: 0.0062, loss_rpn_bbox: 0.0058, loss_cls: 0.0319, acc: 99.6641, loss_bbox: 0.2865, loss: 0.3303\n",
      "2022-05-26 17:49:35,341 - mmfewshot - INFO - Iter [71750/100000]\tlr: 1.000e-04, eta: 2:36:17, time: 0.270, data_time: 0.013, memory: 5635, loss_rpn_cls: 0.0047, loss_rpn_bbox: 0.0066, loss_cls: 0.0380, acc: 99.6953, loss_bbox: 0.3101, loss: 0.3594\n",
      "2022-05-26 17:49:48,691 - mmfewshot - INFO - Iter [71800/100000]\tlr: 1.000e-04, eta: 2:35:59, time: 0.267, data_time: 0.011, memory: 5635, loss_rpn_cls: 0.0057, loss_rpn_bbox: 0.0056, loss_cls: 0.0210, acc: 99.8203, loss_bbox: 0.2980, loss: 0.3303\n",
      "2022-05-26 17:50:02,133 - mmfewshot - INFO - Iter [71850/100000]\tlr: 1.000e-04, eta: 2:35:42, time: 0.269, data_time: 0.012, memory: 5635, loss_rpn_cls: 0.0046, loss_rpn_bbox: 0.0053, loss_cls: 0.0291, acc: 99.6797, loss_bbox: 0.2841, loss: 0.3231\n",
      "2022-05-26 17:50:15,737 - mmfewshot - INFO - Iter [71900/100000]\tlr: 1.000e-04, eta: 2:35:24, time: 0.272, data_time: 0.013, memory: 5635, loss_rpn_cls: 0.0042, loss_rpn_bbox: 0.0034, loss_cls: 0.0389, acc: 99.6953, loss_bbox: 0.2687, loss: 0.3151\n",
      "2022-05-26 17:50:29,049 - mmfewshot - INFO - Iter [71950/100000]\tlr: 1.000e-04, eta: 2:35:06, time: 0.266, data_time: 0.010, memory: 5635, loss_rpn_cls: 0.0056, loss_rpn_bbox: 0.0042, loss_cls: 0.0290, acc: 99.6797, loss_bbox: 0.3082, loss: 0.3470\n",
      "2022-05-26 17:50:42,396 - mmfewshot - INFO - Exp name: attention-rpn_r50_c4_tb-split1_1shot-fine-tuning-momentum-09.py\n",
      "2022-05-26 17:50:42,398 - mmfewshot - INFO - Iter [72000/100000]\tlr: 1.000e-04, eta: 2:34:48, time: 0.267, data_time: 0.011, memory: 5635, loss_rpn_cls: 0.0040, loss_rpn_bbox: 0.0040, loss_cls: 0.0275, acc: 99.7266, loss_bbox: 0.2665, loss: 0.3019\n",
      "2022-05-26 17:50:42,403 - mmdet - INFO - starting model initialization...\n"
     ]
    },
    {
     "name": "stdout",
     "output_type": "stream",
     "text": [
      "[>>>>>>>>>>>>>>>>>>>>>>>>>>>>>>] 640/640, 77.2 task/s, elapsed: 8s, ETA:     0s"
     ]
    },
    {
     "name": "stderr",
     "output_type": "stream",
     "text": [
      "2022-05-26 17:50:50,767 - mmdet - INFO - model initialization done.\n"
     ]
    },
    {
     "name": "stdout",
     "output_type": "stream",
     "text": [
      "[>>>>>>>>>>>>>>>>>>>>>>>>>>>>>] 712/712, 12.6 task/s, elapsed: 56s, ETA:     0s\n",
      "---------------iou_thr: 0.5---------------\n"
     ]
    },
    {
     "name": "stderr",
     "output_type": "stream",
     "text": [
      "2022-05-26 17:51:47,506 - mmfewshot - INFO - \n",
      "+----------+-----+------+--------+-------+\n",
      "| class    | gts | dets | recall | ap    |\n",
      "+----------+-----+------+--------+-------+\n",
      "| 7up      | 810 | 2978 | 0.683  | 0.366 |\n",
      "| BudLight | 209 | 594  | 0.517  | 0.266 |\n",
      "+----------+-----+------+--------+-------+\n",
      "| mAP      |     |      |        | 0.316 |\n",
      "+----------+-----+------+--------+-------+\n",
      "2022-05-26 17:51:47,567 - mmfewshot - INFO - BASE_CLASSES_SPLIT1 mAP: 0.3160635828971863\n",
      "2022-05-26 17:51:47,569 - mmfewshot - INFO - NOVEL_CLASSES_SPLIT1 mAP: nan\n",
      "2022-05-26 17:51:47,573 - mmfewshot - INFO - Exp name: attention-rpn_r50_c4_tb-split1_1shot-fine-tuning-momentum-09.py\n",
      "2022-05-26 17:51:47,574 - mmfewshot - INFO - Iter(val) [712]\tAP50: 0.3160, BASE_CLASSES_SPLIT1: AP50: 0.3160, NOVEL_CLASSES_SPLIT1: AP50: nan, mAP: 0.3161\n",
      "2022-05-26 17:52:01,014 - mmfewshot - INFO - Iter [72050/100000]\tlr: 1.000e-04, eta: 2:34:56, time: 1.572, data_time: 1.315, memory: 5635, loss_rpn_cls: 0.0041, loss_rpn_bbox: 0.0038, loss_cls: 0.0240, acc: 99.7188, loss_bbox: 0.3098, loss: 0.3417\n",
      "2022-05-26 17:52:14,533 - mmfewshot - INFO - Iter [72100/100000]\tlr: 1.000e-04, eta: 2:34:38, time: 0.271, data_time: 0.012, memory: 5635, loss_rpn_cls: 0.0054, loss_rpn_bbox: 0.0064, loss_cls: 0.0376, acc: 99.5938, loss_bbox: 0.3278, loss: 0.3772\n",
      "2022-05-26 17:52:27,771 - mmfewshot - INFO - Iter [72150/100000]\tlr: 1.000e-04, eta: 2:34:20, time: 0.265, data_time: 0.011, memory: 5635, loss_rpn_cls: 0.0048, loss_rpn_bbox: 0.0047, loss_cls: 0.0425, acc: 99.6719, loss_bbox: 0.2683, loss: 0.3203\n",
      "2022-05-26 17:52:41,248 - mmfewshot - INFO - Iter [72200/100000]\tlr: 1.000e-04, eta: 2:34:02, time: 0.270, data_time: 0.011, memory: 5635, loss_rpn_cls: 0.0065, loss_rpn_bbox: 0.0097, loss_cls: 0.0478, acc: 99.6094, loss_bbox: 0.2756, loss: 0.3397\n",
      "2022-05-26 17:52:54,737 - mmfewshot - INFO - Iter [72250/100000]\tlr: 1.000e-04, eta: 2:33:44, time: 0.270, data_time: 0.011, memory: 5635, loss_rpn_cls: 0.0047, loss_rpn_bbox: 0.0053, loss_cls: 0.0212, acc: 99.7734, loss_bbox: 0.2898, loss: 0.3211\n",
      "2022-05-26 17:53:08,252 - mmfewshot - INFO - Iter [72300/100000]\tlr: 1.000e-04, eta: 2:33:26, time: 0.270, data_time: 0.012, memory: 5635, loss_rpn_cls: 0.0054, loss_rpn_bbox: 0.0060, loss_cls: 0.0233, acc: 99.7422, loss_bbox: 0.3264, loss: 0.3610\n",
      "2022-05-26 17:53:21,782 - mmfewshot - INFO - Iter [72350/100000]\tlr: 1.000e-04, eta: 2:33:09, time: 0.271, data_time: 0.012, memory: 5635, loss_rpn_cls: 0.0067, loss_rpn_bbox: 0.0044, loss_cls: 0.0333, acc: 99.7578, loss_bbox: 0.2701, loss: 0.3145\n",
      "2022-05-26 17:53:35,132 - mmfewshot - INFO - Iter [72400/100000]\tlr: 1.000e-04, eta: 2:32:51, time: 0.267, data_time: 0.012, memory: 5635, loss_rpn_cls: 0.0044, loss_rpn_bbox: 0.0057, loss_cls: 0.0258, acc: 99.7266, loss_bbox: 0.2927, loss: 0.3287\n",
      "2022-05-26 17:53:48,461 - mmfewshot - INFO - Iter [72450/100000]\tlr: 1.000e-04, eta: 2:32:33, time: 0.266, data_time: 0.011, memory: 5635, loss_rpn_cls: 0.0036, loss_rpn_bbox: 0.0033, loss_cls: 0.0267, acc: 99.7031, loss_bbox: 0.2907, loss: 0.3242\n",
      "2022-05-26 17:54:01,752 - mmfewshot - INFO - Iter [72500/100000]\tlr: 1.000e-04, eta: 2:32:15, time: 0.266, data_time: 0.011, memory: 5635, loss_rpn_cls: 0.0047, loss_rpn_bbox: 0.0044, loss_cls: 0.0251, acc: 99.7344, loss_bbox: 0.2774, loss: 0.3115\n",
      "2022-05-26 17:54:15,065 - mmfewshot - INFO - Iter [72550/100000]\tlr: 1.000e-04, eta: 2:31:57, time: 0.266, data_time: 0.012, memory: 5635, loss_rpn_cls: 0.0068, loss_rpn_bbox: 0.0057, loss_cls: 0.0439, acc: 99.6797, loss_bbox: 0.2818, loss: 0.3382\n",
      "2022-05-26 17:54:28,324 - mmfewshot - INFO - Iter [72600/100000]\tlr: 1.000e-04, eta: 2:31:39, time: 0.265, data_time: 0.011, memory: 5635, loss_rpn_cls: 0.0045, loss_rpn_bbox: 0.0031, loss_cls: 0.0543, acc: 99.5547, loss_bbox: 0.2538, loss: 0.3157\n",
      "2022-05-26 17:54:41,786 - mmfewshot - INFO - Iter [72650/100000]\tlr: 1.000e-04, eta: 2:31:21, time: 0.269, data_time: 0.012, memory: 5635, loss_rpn_cls: 0.0089, loss_rpn_bbox: 0.0088, loss_cls: 0.0378, acc: 99.5938, loss_bbox: 0.2915, loss: 0.3471\n",
      "2022-05-26 17:54:55,223 - mmfewshot - INFO - Iter [72700/100000]\tlr: 1.000e-04, eta: 2:31:04, time: 0.269, data_time: 0.011, memory: 5635, loss_rpn_cls: 0.0070, loss_rpn_bbox: 0.0064, loss_cls: 0.0307, acc: 99.6641, loss_bbox: 0.3446, loss: 0.3886\n",
      "2022-05-26 17:55:08,660 - mmfewshot - INFO - Iter [72750/100000]\tlr: 1.000e-04, eta: 2:30:46, time: 0.269, data_time: 0.012, memory: 5635, loss_rpn_cls: 0.0041, loss_rpn_bbox: 0.0056, loss_cls: 0.0324, acc: 99.6953, loss_bbox: 0.2925, loss: 0.3346\n",
      "2022-05-26 17:55:22,148 - mmfewshot - INFO - Iter [72800/100000]\tlr: 1.000e-04, eta: 2:30:28, time: 0.270, data_time: 0.012, memory: 5635, loss_rpn_cls: 0.0047, loss_rpn_bbox: 0.0045, loss_cls: 0.0274, acc: 99.7031, loss_bbox: 0.2736, loss: 0.3102\n",
      "2022-05-26 17:55:35,506 - mmfewshot - INFO - Iter [72850/100000]\tlr: 1.000e-04, eta: 2:30:10, time: 0.267, data_time: 0.012, memory: 5635, loss_rpn_cls: 0.0070, loss_rpn_bbox: 0.0086, loss_cls: 0.0450, acc: 99.5000, loss_bbox: 0.3468, loss: 0.4074\n",
      "2022-05-26 17:55:48,849 - mmfewshot - INFO - Iter [72900/100000]\tlr: 1.000e-04, eta: 2:29:53, time: 0.267, data_time: 0.010, memory: 5635, loss_rpn_cls: 0.0050, loss_rpn_bbox: 0.0053, loss_cls: 0.0552, acc: 99.7344, loss_bbox: 0.2746, loss: 0.3402\n",
      "2022-05-26 17:56:02,362 - mmfewshot - INFO - Iter [72950/100000]\tlr: 1.000e-04, eta: 2:29:35, time: 0.271, data_time: 0.012, memory: 5635, loss_rpn_cls: 0.0052, loss_rpn_bbox: 0.0043, loss_cls: 0.0429, acc: 99.6484, loss_bbox: 0.2811, loss: 0.3335\n",
      "2022-05-26 17:56:15,714 - mmfewshot - INFO - Exp name: attention-rpn_r50_c4_tb-split1_1shot-fine-tuning-momentum-09.py\n",
      "2022-05-26 17:56:15,716 - mmfewshot - INFO - Iter [73000/100000]\tlr: 1.000e-04, eta: 2:29:17, time: 0.267, data_time: 0.010, memory: 5635, loss_rpn_cls: 0.0066, loss_rpn_bbox: 0.0055, loss_cls: 0.0291, acc: 99.6875, loss_bbox: 0.2958, loss: 0.3371\n",
      "2022-05-26 17:56:15,721 - mmdet - INFO - starting model initialization...\n"
     ]
    },
    {
     "name": "stdout",
     "output_type": "stream",
     "text": [
      "[>>>>>>>>>>>>>>>>>>>>>>>>>>>>>>] 640/640, 72.6 task/s, elapsed: 9s, ETA:     0s"
     ]
    },
    {
     "name": "stderr",
     "output_type": "stream",
     "text": [
      "2022-05-26 17:56:24,606 - mmdet - INFO - model initialization done.\n"
     ]
    },
    {
     "name": "stdout",
     "output_type": "stream",
     "text": [
      "[>>>>>>>>>>>>>>>>>>>>>>>>>>>>>] 712/712, 12.6 task/s, elapsed: 56s, ETA:     0s\n",
      "---------------iou_thr: 0.5---------------\n"
     ]
    },
    {
     "name": "stderr",
     "output_type": "stream",
     "text": [
      "2022-05-26 17:57:21,478 - mmfewshot - INFO - \n",
      "+----------+-----+------+--------+-------+\n",
      "| class    | gts | dets | recall | ap    |\n",
      "+----------+-----+------+--------+-------+\n",
      "| 7up      | 810 | 4019 | 0.698  | 0.337 |\n",
      "| BudLight | 209 | 673  | 0.622  | 0.334 |\n",
      "+----------+-----+------+--------+-------+\n",
      "| mAP      |     |      |        | 0.335 |\n",
      "+----------+-----+------+--------+-------+\n",
      "2022-05-26 17:57:21,481 - mmfewshot - INFO - BASE_CLASSES_SPLIT1 mAP: 0.3354581594467163\n",
      "2022-05-26 17:57:21,482 - mmfewshot - INFO - NOVEL_CLASSES_SPLIT1 mAP: nan\n",
      "2022-05-26 17:57:21,488 - mmfewshot - INFO - Exp name: attention-rpn_r50_c4_tb-split1_1shot-fine-tuning-momentum-09.py\n",
      "2022-05-26 17:57:21,489 - mmfewshot - INFO - Iter(val) [712]\tAP50: 0.3350, BASE_CLASSES_SPLIT1: AP50: 0.3350, NOVEL_CLASSES_SPLIT1: AP50: nan, mAP: 0.3355\n",
      "2022-05-26 17:57:34,913 - mmfewshot - INFO - Iter [73050/100000]\tlr: 1.000e-04, eta: 2:29:24, time: 1.584, data_time: 1.327, memory: 5635, loss_rpn_cls: 0.0057, loss_rpn_bbox: 0.0052, loss_cls: 0.0295, acc: 99.6719, loss_bbox: 0.2943, loss: 0.3348\n",
      "2022-05-26 17:57:48,377 - mmfewshot - INFO - Iter [73100/100000]\tlr: 1.000e-04, eta: 2:29:06, time: 0.269, data_time: 0.012, memory: 5635, loss_rpn_cls: 0.0052, loss_rpn_bbox: 0.0046, loss_cls: 0.0378, acc: 99.6875, loss_bbox: 0.2654, loss: 0.3130\n",
      "2022-05-26 17:58:01,839 - mmfewshot - INFO - Iter [73150/100000]\tlr: 1.000e-04, eta: 2:28:48, time: 0.269, data_time: 0.011, memory: 5635, loss_rpn_cls: 0.0059, loss_rpn_bbox: 0.0058, loss_cls: 0.0361, acc: 99.6562, loss_bbox: 0.2940, loss: 0.3418\n",
      "2022-05-26 17:58:15,295 - mmfewshot - INFO - Iter [73200/100000]\tlr: 1.000e-04, eta: 2:28:30, time: 0.269, data_time: 0.012, memory: 5635, loss_rpn_cls: 0.0040, loss_rpn_bbox: 0.0050, loss_cls: 0.0358, acc: 99.6875, loss_bbox: 0.2816, loss: 0.3263\n",
      "2022-05-26 17:58:28,590 - mmfewshot - INFO - Iter [73250/100000]\tlr: 1.000e-04, eta: 2:28:12, time: 0.266, data_time: 0.012, memory: 5635, loss_rpn_cls: 0.0068, loss_rpn_bbox: 0.0053, loss_cls: 0.0382, acc: 99.6641, loss_bbox: 0.2825, loss: 0.3327\n",
      "2022-05-26 17:58:41,997 - mmfewshot - INFO - Iter [73300/100000]\tlr: 1.000e-04, eta: 2:27:55, time: 0.268, data_time: 0.012, memory: 5635, loss_rpn_cls: 0.0065, loss_rpn_bbox: 0.0061, loss_cls: 0.0309, acc: 99.7188, loss_bbox: 0.2804, loss: 0.3239\n",
      "2022-05-26 17:58:55,443 - mmfewshot - INFO - Iter [73350/100000]\tlr: 1.000e-04, eta: 2:27:37, time: 0.269, data_time: 0.012, memory: 5635, loss_rpn_cls: 0.0063, loss_rpn_bbox: 0.0050, loss_cls: 0.0279, acc: 99.7188, loss_bbox: 0.2630, loss: 0.3021\n",
      "2022-05-26 17:59:08,911 - mmfewshot - INFO - Iter [73400/100000]\tlr: 1.000e-04, eta: 2:27:19, time: 0.269, data_time: 0.012, memory: 5635, loss_rpn_cls: 0.0061, loss_rpn_bbox: 0.0055, loss_cls: 0.0442, acc: 99.5781, loss_bbox: 0.2710, loss: 0.3267\n",
      "2022-05-26 17:59:22,211 - mmfewshot - INFO - Iter [73450/100000]\tlr: 1.000e-04, eta: 2:27:01, time: 0.266, data_time: 0.010, memory: 5635, loss_rpn_cls: 0.0049, loss_rpn_bbox: 0.0046, loss_cls: 0.0333, acc: 99.7188, loss_bbox: 0.2558, loss: 0.2986\n",
      "2022-05-26 17:59:35,536 - mmfewshot - INFO - Iter [73500/100000]\tlr: 1.000e-04, eta: 2:26:43, time: 0.267, data_time: 0.011, memory: 5635, loss_rpn_cls: 0.0078, loss_rpn_bbox: 0.0074, loss_cls: 0.0431, acc: 99.7344, loss_bbox: 0.2753, loss: 0.3336\n",
      "2022-05-26 17:59:48,901 - mmfewshot - INFO - Iter [73550/100000]\tlr: 1.000e-04, eta: 2:26:26, time: 0.267, data_time: 0.011, memory: 5635, loss_rpn_cls: 0.0041, loss_rpn_bbox: 0.0052, loss_cls: 0.0340, acc: 99.6016, loss_bbox: 0.3083, loss: 0.3516\n",
      "2022-05-26 18:00:02,458 - mmfewshot - INFO - Iter [73600/100000]\tlr: 1.000e-04, eta: 2:26:08, time: 0.271, data_time: 0.013, memory: 5635, loss_rpn_cls: 0.0048, loss_rpn_bbox: 0.0045, loss_cls: 0.0343, acc: 99.6172, loss_bbox: 0.2874, loss: 0.3310\n",
      "2022-05-26 18:00:15,948 - mmfewshot - INFO - Iter [73650/100000]\tlr: 1.000e-04, eta: 2:25:50, time: 0.270, data_time: 0.011, memory: 5635, loss_rpn_cls: 0.0089, loss_rpn_bbox: 0.0079, loss_cls: 0.0271, acc: 99.7500, loss_bbox: 0.3187, loss: 0.3625\n",
      "2022-05-26 18:00:29,425 - mmfewshot - INFO - Iter [73700/100000]\tlr: 1.000e-04, eta: 2:25:32, time: 0.269, data_time: 0.011, memory: 5635, loss_rpn_cls: 0.0042, loss_rpn_bbox: 0.0039, loss_cls: 0.0250, acc: 99.7891, loss_bbox: 0.2874, loss: 0.3205\n",
      "2022-05-26 18:00:42,895 - mmfewshot - INFO - Iter [73750/100000]\tlr: 1.000e-04, eta: 2:25:15, time: 0.269, data_time: 0.011, memory: 5635, loss_rpn_cls: 0.0078, loss_rpn_bbox: 0.0055, loss_cls: 0.0277, acc: 99.6797, loss_bbox: 0.2872, loss: 0.3282\n",
      "2022-05-26 18:00:56,433 - mmfewshot - INFO - Iter [73800/100000]\tlr: 1.000e-04, eta: 2:24:57, time: 0.271, data_time: 0.011, memory: 5635, loss_rpn_cls: 0.0092, loss_rpn_bbox: 0.0093, loss_cls: 0.0349, acc: 99.7266, loss_bbox: 0.2976, loss: 0.3510\n",
      "2022-05-26 18:01:09,847 - mmfewshot - INFO - Iter [73850/100000]\tlr: 1.000e-04, eta: 2:24:39, time: 0.268, data_time: 0.012, memory: 5635, loss_rpn_cls: 0.0042, loss_rpn_bbox: 0.0045, loss_cls: 0.0288, acc: 99.7109, loss_bbox: 0.3033, loss: 0.3408\n",
      "2022-05-26 18:01:23,331 - mmfewshot - INFO - Iter [73900/100000]\tlr: 1.000e-04, eta: 2:24:22, time: 0.270, data_time: 0.011, memory: 5635, loss_rpn_cls: 0.0052, loss_rpn_bbox: 0.0049, loss_cls: 0.0476, acc: 99.6562, loss_bbox: 0.2772, loss: 0.3350\n",
      "2022-05-26 18:01:36,744 - mmfewshot - INFO - Iter [73950/100000]\tlr: 1.000e-04, eta: 2:24:04, time: 0.268, data_time: 0.012, memory: 5635, loss_rpn_cls: 0.0047, loss_rpn_bbox: 0.0040, loss_cls: 0.0393, acc: 99.6328, loss_bbox: 0.2855, loss: 0.3335\n",
      "2022-05-26 18:01:50,034 - mmfewshot - INFO - Exp name: attention-rpn_r50_c4_tb-split1_1shot-fine-tuning-momentum-09.py\n",
      "2022-05-26 18:01:50,036 - mmfewshot - INFO - Iter [74000/100000]\tlr: 1.000e-04, eta: 2:23:46, time: 0.266, data_time: 0.011, memory: 5635, loss_rpn_cls: 0.0050, loss_rpn_bbox: 0.0061, loss_cls: 0.0328, acc: 99.6641, loss_bbox: 0.2900, loss: 0.3339\n",
      "2022-05-26 18:01:50,040 - mmdet - INFO - starting model initialization...\n"
     ]
    },
    {
     "name": "stdout",
     "output_type": "stream",
     "text": [
      "[>>>>>>>>>>>>>>>>>>>>>>>>>>>>>>] 640/640, 79.9 task/s, elapsed: 8s, ETA:     0s"
     ]
    },
    {
     "name": "stderr",
     "output_type": "stream",
     "text": [
      "2022-05-26 18:01:58,118 - mmdet - INFO - model initialization done.\n"
     ]
    },
    {
     "name": "stdout",
     "output_type": "stream",
     "text": [
      "[>>>>>>>>>>>>>>>>>>>>>>>>>>>>>] 712/712, 12.5 task/s, elapsed: 57s, ETA:     0s\n",
      "---------------iou_thr: 0.5---------------\n"
     ]
    },
    {
     "name": "stderr",
     "output_type": "stream",
     "text": [
      "2022-05-26 18:02:55,415 - mmfewshot - INFO - \n",
      "+----------+-----+------+--------+-------+\n",
      "| class    | gts | dets | recall | ap    |\n",
      "+----------+-----+------+--------+-------+\n",
      "| 7up      | 810 | 3324 | 0.689  | 0.374 |\n",
      "| BudLight | 209 | 598  | 0.541  | 0.283 |\n",
      "+----------+-----+------+--------+-------+\n",
      "| mAP      |     |      |        | 0.328 |\n",
      "+----------+-----+------+--------+-------+\n",
      "2022-05-26 18:02:55,420 - mmfewshot - INFO - BASE_CLASSES_SPLIT1 mAP: 0.3281102478504181\n",
      "2022-05-26 18:02:55,422 - mmfewshot - INFO - NOVEL_CLASSES_SPLIT1 mAP: nan\n",
      "2022-05-26 18:02:55,431 - mmfewshot - INFO - Exp name: attention-rpn_r50_c4_tb-split1_1shot-fine-tuning-momentum-09.py\n",
      "2022-05-26 18:02:55,433 - mmfewshot - INFO - Iter(val) [712]\tAP50: 0.3280, BASE_CLASSES_SPLIT1: AP50: 0.3280, NOVEL_CLASSES_SPLIT1: AP50: nan, mAP: 0.3281\n",
      "2022-05-26 18:03:08,824 - mmfewshot - INFO - Iter [74050/100000]\tlr: 1.000e-04, eta: 2:23:51, time: 1.576, data_time: 1.320, memory: 5635, loss_rpn_cls: 0.0056, loss_rpn_bbox: 0.0063, loss_cls: 0.0354, acc: 99.6719, loss_bbox: 0.2989, loss: 0.3462\n",
      "2022-05-26 18:03:22,268 - mmfewshot - INFO - Iter [74100/100000]\tlr: 1.000e-04, eta: 2:23:34, time: 0.269, data_time: 0.012, memory: 5635, loss_rpn_cls: 0.0048, loss_rpn_bbox: 0.0073, loss_cls: 0.0308, acc: 99.7188, loss_bbox: 0.2822, loss: 0.3251\n",
      "2022-05-26 18:03:35,712 - mmfewshot - INFO - Iter [74150/100000]\tlr: 1.000e-04, eta: 2:23:16, time: 0.269, data_time: 0.012, memory: 5635, loss_rpn_cls: 0.0045, loss_rpn_bbox: 0.0037, loss_cls: 0.0258, acc: 99.7500, loss_bbox: 0.2972, loss: 0.3312\n",
      "2022-05-26 18:03:48,968 - mmfewshot - INFO - Iter [74200/100000]\tlr: 1.000e-04, eta: 2:22:58, time: 0.265, data_time: 0.011, memory: 5635, loss_rpn_cls: 0.0057, loss_rpn_bbox: 0.0074, loss_cls: 0.0222, acc: 99.8281, loss_bbox: 0.2610, loss: 0.2963\n",
      "2022-05-26 18:04:02,378 - mmfewshot - INFO - Iter [74250/100000]\tlr: 1.000e-04, eta: 2:22:40, time: 0.268, data_time: 0.013, memory: 5635, loss_rpn_cls: 0.0062, loss_rpn_bbox: 0.0066, loss_cls: 0.0407, acc: 99.6016, loss_bbox: 0.2880, loss: 0.3414\n",
      "2022-05-26 18:04:15,735 - mmfewshot - INFO - Iter [74300/100000]\tlr: 1.000e-04, eta: 2:22:23, time: 0.267, data_time: 0.012, memory: 5635, loss_rpn_cls: 0.0046, loss_rpn_bbox: 0.0057, loss_cls: 0.0307, acc: 99.6484, loss_bbox: 0.3339, loss: 0.3750\n",
      "2022-05-26 18:04:29,158 - mmfewshot - INFO - Iter [74350/100000]\tlr: 1.000e-04, eta: 2:22:05, time: 0.268, data_time: 0.012, memory: 5635, loss_rpn_cls: 0.0073, loss_rpn_bbox: 0.0059, loss_cls: 0.0227, acc: 99.6875, loss_bbox: 0.2995, loss: 0.3354\n",
      "2022-05-26 18:04:42,575 - mmfewshot - INFO - Iter [74400/100000]\tlr: 1.000e-04, eta: 2:21:47, time: 0.268, data_time: 0.012, memory: 5635, loss_rpn_cls: 0.0071, loss_rpn_bbox: 0.0064, loss_cls: 0.0338, acc: 99.6797, loss_bbox: 0.3011, loss: 0.3484\n",
      "2022-05-26 18:04:55,973 - mmfewshot - INFO - Iter [74450/100000]\tlr: 1.000e-04, eta: 2:21:29, time: 0.268, data_time: 0.012, memory: 5635, loss_rpn_cls: 0.0066, loss_rpn_bbox: 0.0084, loss_cls: 0.0311, acc: 99.6719, loss_bbox: 0.3048, loss: 0.3508\n",
      "2022-05-26 18:05:09,478 - mmfewshot - INFO - Iter [74500/100000]\tlr: 1.000e-04, eta: 2:21:12, time: 0.270, data_time: 0.011, memory: 5635, loss_rpn_cls: 0.0062, loss_rpn_bbox: 0.0062, loss_cls: 0.0388, acc: 99.6797, loss_bbox: 0.2957, loss: 0.3468\n",
      "2022-05-26 18:05:22,743 - mmfewshot - INFO - Iter [74550/100000]\tlr: 1.000e-04, eta: 2:20:54, time: 0.265, data_time: 0.010, memory: 5635, loss_rpn_cls: 0.0038, loss_rpn_bbox: 0.0029, loss_cls: 0.0293, acc: 99.7344, loss_bbox: 0.2789, loss: 0.3148\n",
      "2022-05-26 18:05:35,979 - mmfewshot - INFO - Iter [74600/100000]\tlr: 1.000e-04, eta: 2:20:36, time: 0.265, data_time: 0.011, memory: 5635, loss_rpn_cls: 0.0046, loss_rpn_bbox: 0.0033, loss_cls: 0.0298, acc: 99.6797, loss_bbox: 0.2742, loss: 0.3118\n",
      "2022-05-26 18:05:49,176 - mmfewshot - INFO - Iter [74650/100000]\tlr: 1.000e-04, eta: 2:20:18, time: 0.264, data_time: 0.011, memory: 5635, loss_rpn_cls: 0.0082, loss_rpn_bbox: 0.0051, loss_cls: 0.0293, acc: 99.7344, loss_bbox: 0.3094, loss: 0.3521\n",
      "2022-05-26 18:06:02,437 - mmfewshot - INFO - Iter [74700/100000]\tlr: 1.000e-04, eta: 2:20:01, time: 0.265, data_time: 0.011, memory: 5635, loss_rpn_cls: 0.0054, loss_rpn_bbox: 0.0054, loss_cls: 0.0319, acc: 99.8047, loss_bbox: 0.2741, loss: 0.3169\n",
      "2022-05-26 18:06:15,799 - mmfewshot - INFO - Iter [74750/100000]\tlr: 1.000e-04, eta: 2:19:43, time: 0.267, data_time: 0.010, memory: 5635, loss_rpn_cls: 0.0067, loss_rpn_bbox: 0.0072, loss_cls: 0.0366, acc: 99.6250, loss_bbox: 0.3359, loss: 0.3864\n",
      "2022-05-26 18:06:29,035 - mmfewshot - INFO - Iter [74800/100000]\tlr: 1.000e-04, eta: 2:19:25, time: 0.265, data_time: 0.011, memory: 5635, loss_rpn_cls: 0.0043, loss_rpn_bbox: 0.0030, loss_cls: 0.0394, acc: 99.5938, loss_bbox: 0.2749, loss: 0.3217\n",
      "2022-05-26 18:06:42,352 - mmfewshot - INFO - Iter [74850/100000]\tlr: 1.000e-04, eta: 2:19:08, time: 0.266, data_time: 0.011, memory: 5635, loss_rpn_cls: 0.0040, loss_rpn_bbox: 0.0045, loss_cls: 0.0252, acc: 99.7500, loss_bbox: 0.2860, loss: 0.3197\n",
      "2022-05-26 18:06:55,786 - mmfewshot - INFO - Iter [74900/100000]\tlr: 1.000e-04, eta: 2:18:50, time: 0.269, data_time: 0.012, memory: 5635, loss_rpn_cls: 0.0046, loss_rpn_bbox: 0.0053, loss_cls: 0.0275, acc: 99.7578, loss_bbox: 0.2960, loss: 0.3333\n",
      "2022-05-26 18:07:09,141 - mmfewshot - INFO - Iter [74950/100000]\tlr: 1.000e-04, eta: 2:18:32, time: 0.267, data_time: 0.012, memory: 5635, loss_rpn_cls: 0.0067, loss_rpn_bbox: 0.0071, loss_cls: 0.0429, acc: 99.6328, loss_bbox: 0.2926, loss: 0.3493\n",
      "2022-05-26 18:07:22,547 - mmfewshot - INFO - Exp name: attention-rpn_r50_c4_tb-split1_1shot-fine-tuning-momentum-09.py\n",
      "2022-05-26 18:07:22,548 - mmfewshot - INFO - Iter [75000/100000]\tlr: 1.000e-04, eta: 2:18:15, time: 0.268, data_time: 0.012, memory: 5635, loss_rpn_cls: 0.0041, loss_rpn_bbox: 0.0037, loss_cls: 0.0278, acc: 99.6953, loss_bbox: 0.2942, loss: 0.3299\n",
      "2022-05-26 18:07:22,554 - mmdet - INFO - starting model initialization...\n"
     ]
    },
    {
     "name": "stdout",
     "output_type": "stream",
     "text": [
      "[>>>>>>>>>>>>>>>>>>>>>>>>>>>>>>] 640/640, 77.3 task/s, elapsed: 8s, ETA:     0s"
     ]
    },
    {
     "name": "stderr",
     "output_type": "stream",
     "text": [
      "2022-05-26 18:07:30,919 - mmdet - INFO - model initialization done.\n"
     ]
    },
    {
     "name": "stdout",
     "output_type": "stream",
     "text": [
      "[>>>>>>>>>>>>>>>>>>>>>>>>>>>>>] 712/712, 12.7 task/s, elapsed: 56s, ETA:     0s\n",
      "---------------iou_thr: 0.5---------------\n"
     ]
    },
    {
     "name": "stderr",
     "output_type": "stream",
     "text": [
      "2022-05-26 18:08:27,579 - mmfewshot - INFO - \n",
      "+----------+-----+------+--------+-------+\n",
      "| class    | gts | dets | recall | ap    |\n",
      "+----------+-----+------+--------+-------+\n",
      "| 7up      | 810 | 3187 | 0.674  | 0.350 |\n",
      "| BudLight | 209 | 503  | 0.517  | 0.279 |\n",
      "+----------+-----+------+--------+-------+\n",
      "| mAP      |     |      |        | 0.315 |\n",
      "+----------+-----+------+--------+-------+\n",
      "2022-05-26 18:08:27,582 - mmfewshot - INFO - BASE_CLASSES_SPLIT1 mAP: 0.3147519826889038\n",
      "2022-05-26 18:08:27,583 - mmfewshot - INFO - NOVEL_CLASSES_SPLIT1 mAP: nan\n",
      "2022-05-26 18:08:27,588 - mmfewshot - INFO - Exp name: attention-rpn_r50_c4_tb-split1_1shot-fine-tuning-momentum-09.py\n",
      "2022-05-26 18:08:27,590 - mmfewshot - INFO - Iter(val) [712]\tAP50: 0.3150, BASE_CLASSES_SPLIT1: AP50: 0.3150, NOVEL_CLASSES_SPLIT1: AP50: nan, mAP: 0.3148\n",
      "2022-05-26 18:08:41,182 - mmfewshot - INFO - Iter [75050/100000]\tlr: 1.000e-04, eta: 2:18:19, time: 1.573, data_time: 1.312, memory: 5635, loss_rpn_cls: 0.0038, loss_rpn_bbox: 0.0047, loss_cls: 0.0216, acc: 99.8203, loss_bbox: 0.2653, loss: 0.2955\n",
      "2022-05-26 18:08:54,580 - mmfewshot - INFO - Iter [75100/100000]\tlr: 1.000e-04, eta: 2:18:01, time: 0.268, data_time: 0.012, memory: 5635, loss_rpn_cls: 0.0059, loss_rpn_bbox: 0.0049, loss_cls: 0.0315, acc: 99.6484, loss_bbox: 0.2540, loss: 0.2963\n",
      "2022-05-26 18:09:08,010 - mmfewshot - INFO - Iter [75150/100000]\tlr: 1.000e-04, eta: 2:17:43, time: 0.268, data_time: 0.012, memory: 5635, loss_rpn_cls: 0.0029, loss_rpn_bbox: 0.0030, loss_cls: 0.0316, acc: 99.6641, loss_bbox: 0.3058, loss: 0.3433\n",
      "2022-05-26 18:09:21,430 - mmfewshot - INFO - Iter [75200/100000]\tlr: 1.000e-04, eta: 2:17:26, time: 0.269, data_time: 0.012, memory: 5635, loss_rpn_cls: 0.0064, loss_rpn_bbox: 0.0053, loss_cls: 0.0301, acc: 99.7031, loss_bbox: 0.3159, loss: 0.3577\n",
      "2022-05-26 18:09:34,923 - mmfewshot - INFO - Iter [75250/100000]\tlr: 1.000e-04, eta: 2:17:08, time: 0.270, data_time: 0.012, memory: 5635, loss_rpn_cls: 0.0046, loss_rpn_bbox: 0.0057, loss_cls: 0.0229, acc: 99.7578, loss_bbox: 0.3096, loss: 0.3428\n",
      "2022-05-26 18:09:48,344 - mmfewshot - INFO - Iter [75300/100000]\tlr: 1.000e-04, eta: 2:16:50, time: 0.268, data_time: 0.011, memory: 5635, loss_rpn_cls: 0.0043, loss_rpn_bbox: 0.0050, loss_cls: 0.0320, acc: 99.6250, loss_bbox: 0.2857, loss: 0.3271\n",
      "2022-05-26 18:10:01,576 - mmfewshot - INFO - Iter [75350/100000]\tlr: 1.000e-04, eta: 2:16:32, time: 0.265, data_time: 0.011, memory: 5635, loss_rpn_cls: 0.0050, loss_rpn_bbox: 0.0045, loss_cls: 0.0264, acc: 99.6719, loss_bbox: 0.3213, loss: 0.3571\n",
      "2022-05-26 18:10:14,849 - mmfewshot - INFO - Iter [75400/100000]\tlr: 1.000e-04, eta: 2:16:15, time: 0.266, data_time: 0.011, memory: 5635, loss_rpn_cls: 0.0074, loss_rpn_bbox: 0.0060, loss_cls: 0.0335, acc: 99.5859, loss_bbox: 0.2916, loss: 0.3385\n",
      "2022-05-26 18:10:28,242 - mmfewshot - INFO - Iter [75450/100000]\tlr: 1.000e-04, eta: 2:15:57, time: 0.268, data_time: 0.012, memory: 5635, loss_rpn_cls: 0.0057, loss_rpn_bbox: 0.0057, loss_cls: 0.0309, acc: 99.7031, loss_bbox: 0.2969, loss: 0.3392\n",
      "2022-05-26 18:10:41,581 - mmfewshot - INFO - Iter [75500/100000]\tlr: 1.000e-04, eta: 2:15:39, time: 0.267, data_time: 0.011, memory: 5635, loss_rpn_cls: 0.0061, loss_rpn_bbox: 0.0043, loss_cls: 0.0294, acc: 99.5703, loss_bbox: 0.3339, loss: 0.3737\n",
      "2022-05-26 18:10:54,835 - mmfewshot - INFO - Iter [75550/100000]\tlr: 1.000e-04, eta: 2:15:22, time: 0.265, data_time: 0.011, memory: 5635, loss_rpn_cls: 0.0055, loss_rpn_bbox: 0.0057, loss_cls: 0.0310, acc: 99.7578, loss_bbox: 0.2645, loss: 0.3067\n",
      "2022-05-26 18:11:08,115 - mmfewshot - INFO - Iter [75600/100000]\tlr: 1.000e-04, eta: 2:15:04, time: 0.266, data_time: 0.011, memory: 5635, loss_rpn_cls: 0.0052, loss_rpn_bbox: 0.0068, loss_cls: 0.0303, acc: 99.6484, loss_bbox: 0.2959, loss: 0.3382\n",
      "2022-05-26 18:11:21,349 - mmfewshot - INFO - Iter [75650/100000]\tlr: 1.000e-04, eta: 2:14:46, time: 0.265, data_time: 0.010, memory: 5635, loss_rpn_cls: 0.0041, loss_rpn_bbox: 0.0037, loss_cls: 0.0224, acc: 99.8516, loss_bbox: 0.2615, loss: 0.2918\n",
      "2022-05-26 18:11:34,719 - mmfewshot - INFO - Iter [75700/100000]\tlr: 1.000e-04, eta: 2:14:29, time: 0.267, data_time: 0.011, memory: 5635, loss_rpn_cls: 0.0042, loss_rpn_bbox: 0.0047, loss_cls: 0.0334, acc: 99.6016, loss_bbox: 0.2848, loss: 0.3271\n",
      "2022-05-26 18:11:48,104 - mmfewshot - INFO - Iter [75750/100000]\tlr: 1.000e-04, eta: 2:14:11, time: 0.267, data_time: 0.011, memory: 5635, loss_rpn_cls: 0.0046, loss_rpn_bbox: 0.0040, loss_cls: 0.0283, acc: 99.7109, loss_bbox: 0.2770, loss: 0.3138\n",
      "2022-05-26 18:12:01,301 - mmfewshot - INFO - Iter [75800/100000]\tlr: 1.000e-04, eta: 2:13:53, time: 0.264, data_time: 0.010, memory: 5635, loss_rpn_cls: 0.0087, loss_rpn_bbox: 0.0076, loss_cls: 0.0249, acc: 99.7031, loss_bbox: 0.3297, loss: 0.3708\n",
      "2022-05-26 18:12:14,679 - mmfewshot - INFO - Iter [75850/100000]\tlr: 1.000e-04, eta: 2:13:36, time: 0.268, data_time: 0.011, memory: 5635, loss_rpn_cls: 0.0047, loss_rpn_bbox: 0.0049, loss_cls: 0.0267, acc: 99.7656, loss_bbox: 0.2690, loss: 0.3053\n",
      "2022-05-26 18:12:28,144 - mmfewshot - INFO - Iter [75900/100000]\tlr: 1.000e-04, eta: 2:13:18, time: 0.269, data_time: 0.012, memory: 5635, loss_rpn_cls: 0.0044, loss_rpn_bbox: 0.0053, loss_cls: 0.0287, acc: 99.7422, loss_bbox: 0.2927, loss: 0.3311\n",
      "2022-05-26 18:12:41,681 - mmfewshot - INFO - Iter [75950/100000]\tlr: 1.000e-04, eta: 2:13:01, time: 0.271, data_time: 0.012, memory: 5635, loss_rpn_cls: 0.0045, loss_rpn_bbox: 0.0047, loss_cls: 0.0236, acc: 99.7422, loss_bbox: 0.3056, loss: 0.3384\n",
      "2022-05-26 18:12:55,030 - mmfewshot - INFO - Exp name: attention-rpn_r50_c4_tb-split1_1shot-fine-tuning-momentum-09.py\n",
      "2022-05-26 18:12:55,031 - mmfewshot - INFO - Iter [76000/100000]\tlr: 1.000e-04, eta: 2:12:43, time: 0.267, data_time: 0.011, memory: 5635, loss_rpn_cls: 0.0042, loss_rpn_bbox: 0.0051, loss_cls: 0.0327, acc: 99.7109, loss_bbox: 0.2715, loss: 0.3135\n",
      "2022-05-26 18:12:55,036 - mmdet - INFO - starting model initialization...\n"
     ]
    },
    {
     "name": "stdout",
     "output_type": "stream",
     "text": [
      "[>>>>>>>>>>>>>>>>>>>>>>>>>>>>>>] 640/640, 74.2 task/s, elapsed: 9s, ETA:     0s"
     ]
    },
    {
     "name": "stderr",
     "output_type": "stream",
     "text": [
      "2022-05-26 18:13:03,743 - mmdet - INFO - model initialization done.\n"
     ]
    },
    {
     "name": "stdout",
     "output_type": "stream",
     "text": [
      "[>>>>>>>>>>>>>>>>>>>>>>>>>>>>>] 712/712, 12.7 task/s, elapsed: 56s, ETA:     0s\n",
      "---------------iou_thr: 0.5---------------\n"
     ]
    },
    {
     "name": "stderr",
     "output_type": "stream",
     "text": [
      "2022-05-26 18:14:00,459 - mmfewshot - INFO - \n",
      "+----------+-----+------+--------+-------+\n",
      "| class    | gts | dets | recall | ap    |\n",
      "+----------+-----+------+--------+-------+\n",
      "| 7up      | 810 | 2427 | 0.651  | 0.371 |\n",
      "| BudLight | 209 | 332  | 0.455  | 0.276 |\n",
      "+----------+-----+------+--------+-------+\n",
      "| mAP      |     |      |        | 0.323 |\n",
      "+----------+-----+------+--------+-------+\n",
      "2022-05-26 18:14:00,463 - mmfewshot - INFO - BASE_CLASSES_SPLIT1 mAP: 0.32336580753326416\n",
      "2022-05-26 18:14:00,464 - mmfewshot - INFO - NOVEL_CLASSES_SPLIT1 mAP: nan\n",
      "2022-05-26 18:14:00,470 - mmfewshot - INFO - Exp name: attention-rpn_r50_c4_tb-split1_1shot-fine-tuning-momentum-09.py\n",
      "2022-05-26 18:14:00,471 - mmfewshot - INFO - Iter(val) [712]\tAP50: 0.3230, BASE_CLASSES_SPLIT1: AP50: 0.3230, NOVEL_CLASSES_SPLIT1: AP50: nan, mAP: 0.3234\n",
      "2022-05-26 18:14:13,921 - mmfewshot - INFO - Iter [76050/100000]\tlr: 1.000e-04, eta: 2:12:46, time: 1.578, data_time: 1.320, memory: 5635, loss_rpn_cls: 0.0035, loss_rpn_bbox: 0.0045, loss_cls: 0.0279, acc: 99.7344, loss_bbox: 0.2851, loss: 0.3210\n",
      "2022-05-26 18:14:27,278 - mmfewshot - INFO - Iter [76100/100000]\tlr: 1.000e-04, eta: 2:12:28, time: 0.267, data_time: 0.012, memory: 5635, loss_rpn_cls: 0.0085, loss_rpn_bbox: 0.0053, loss_cls: 0.0391, acc: 99.6250, loss_bbox: 0.2875, loss: 0.3404\n",
      "2022-05-26 18:14:40,702 - mmfewshot - INFO - Iter [76150/100000]\tlr: 1.000e-04, eta: 2:12:11, time: 0.268, data_time: 0.012, memory: 5635, loss_rpn_cls: 0.0038, loss_rpn_bbox: 0.0040, loss_cls: 0.0254, acc: 99.7109, loss_bbox: 0.2986, loss: 0.3317\n",
      "2022-05-26 18:14:53,937 - mmfewshot - INFO - Iter [76200/100000]\tlr: 1.000e-04, eta: 2:11:53, time: 0.265, data_time: 0.011, memory: 5635, loss_rpn_cls: 0.0044, loss_rpn_bbox: 0.0052, loss_cls: 0.0380, acc: 99.6250, loss_bbox: 0.3293, loss: 0.3769\n",
      "2022-05-26 18:15:07,279 - mmfewshot - INFO - Iter [76250/100000]\tlr: 1.000e-04, eta: 2:11:35, time: 0.267, data_time: 0.012, memory: 5635, loss_rpn_cls: 0.0040, loss_rpn_bbox: 0.0046, loss_cls: 0.0380, acc: 99.6641, loss_bbox: 0.2795, loss: 0.3260\n",
      "2022-05-26 18:15:20,598 - mmfewshot - INFO - Iter [76300/100000]\tlr: 1.000e-04, eta: 2:11:18, time: 0.266, data_time: 0.011, memory: 5635, loss_rpn_cls: 0.0051, loss_rpn_bbox: 0.0062, loss_cls: 0.0362, acc: 99.6328, loss_bbox: 0.2657, loss: 0.3132\n",
      "2022-05-26 18:15:34,075 - mmfewshot - INFO - Iter [76350/100000]\tlr: 1.000e-04, eta: 2:11:00, time: 0.269, data_time: 0.011, memory: 5635, loss_rpn_cls: 0.0055, loss_rpn_bbox: 0.0047, loss_cls: 0.0379, acc: 99.6562, loss_bbox: 0.2889, loss: 0.3370\n",
      "2022-05-26 18:15:47,383 - mmfewshot - INFO - Iter [76400/100000]\tlr: 1.000e-04, eta: 2:10:43, time: 0.266, data_time: 0.011, memory: 5635, loss_rpn_cls: 0.0048, loss_rpn_bbox: 0.0040, loss_cls: 0.0269, acc: 99.7422, loss_bbox: 0.3099, loss: 0.3457\n",
      "2022-05-26 18:16:00,812 - mmfewshot - INFO - Iter [76450/100000]\tlr: 1.000e-04, eta: 2:10:25, time: 0.269, data_time: 0.012, memory: 5635, loss_rpn_cls: 0.0042, loss_rpn_bbox: 0.0035, loss_cls: 0.0349, acc: 99.6719, loss_bbox: 0.2745, loss: 0.3172\n",
      "2022-05-26 18:16:14,313 - mmfewshot - INFO - Iter [76500/100000]\tlr: 1.000e-04, eta: 2:10:07, time: 0.270, data_time: 0.012, memory: 5635, loss_rpn_cls: 0.0051, loss_rpn_bbox: 0.0047, loss_cls: 0.0344, acc: 99.6250, loss_bbox: 0.3028, loss: 0.3471\n",
      "2022-05-26 18:16:27,812 - mmfewshot - INFO - Iter [76550/100000]\tlr: 1.000e-04, eta: 2:09:50, time: 0.270, data_time: 0.011, memory: 5635, loss_rpn_cls: 0.0047, loss_rpn_bbox: 0.0042, loss_cls: 0.0389, acc: 99.6797, loss_bbox: 0.2783, loss: 0.3261\n",
      "2022-05-26 18:16:41,156 - mmfewshot - INFO - Iter [76600/100000]\tlr: 1.000e-04, eta: 2:09:32, time: 0.267, data_time: 0.011, memory: 5635, loss_rpn_cls: 0.0051, loss_rpn_bbox: 0.0043, loss_cls: 0.0295, acc: 99.6953, loss_bbox: 0.3196, loss: 0.3585\n",
      "2022-05-26 18:16:54,673 - mmfewshot - INFO - Iter [76650/100000]\tlr: 1.000e-04, eta: 2:09:15, time: 0.271, data_time: 0.011, memory: 5635, loss_rpn_cls: 0.0050, loss_rpn_bbox: 0.0040, loss_cls: 0.0442, acc: 99.6016, loss_bbox: 0.2743, loss: 0.3275\n",
      "2022-05-26 18:17:08,086 - mmfewshot - INFO - Iter [76700/100000]\tlr: 1.000e-04, eta: 2:08:57, time: 0.268, data_time: 0.011, memory: 5635, loss_rpn_cls: 0.0052, loss_rpn_bbox: 0.0070, loss_cls: 0.0385, acc: 99.6641, loss_bbox: 0.2915, loss: 0.3422\n",
      "2022-05-26 18:17:21,425 - mmfewshot - INFO - Iter [76750/100000]\tlr: 1.000e-04, eta: 2:08:39, time: 0.267, data_time: 0.011, memory: 5635, loss_rpn_cls: 0.0042, loss_rpn_bbox: 0.0032, loss_cls: 0.0302, acc: 99.7500, loss_bbox: 0.2730, loss: 0.3106\n",
      "2022-05-26 18:17:35,194 - mmfewshot - INFO - Iter [76800/100000]\tlr: 1.000e-04, eta: 2:08:22, time: 0.276, data_time: 0.011, memory: 5635, loss_rpn_cls: 0.0062, loss_rpn_bbox: 0.0049, loss_cls: 0.0363, acc: 99.6172, loss_bbox: 0.3062, loss: 0.3537\n",
      "2022-05-26 18:17:48,670 - mmfewshot - INFO - Iter [76850/100000]\tlr: 1.000e-04, eta: 2:08:04, time: 0.269, data_time: 0.012, memory: 5635, loss_rpn_cls: 0.0059, loss_rpn_bbox: 0.0050, loss_cls: 0.0395, acc: 99.6562, loss_bbox: 0.2695, loss: 0.3198\n",
      "2022-05-26 18:18:02,290 - mmfewshot - INFO - Iter [76900/100000]\tlr: 1.000e-04, eta: 2:07:47, time: 0.272, data_time: 0.012, memory: 5635, loss_rpn_cls: 0.0054, loss_rpn_bbox: 0.0064, loss_cls: 0.0372, acc: 99.6328, loss_bbox: 0.3147, loss: 0.3637\n",
      "2022-05-26 18:18:15,771 - mmfewshot - INFO - Iter [76950/100000]\tlr: 1.000e-04, eta: 2:07:29, time: 0.270, data_time: 0.012, memory: 5635, loss_rpn_cls: 0.0067, loss_rpn_bbox: 0.0092, loss_cls: 0.0330, acc: 99.7109, loss_bbox: 0.2874, loss: 0.3362\n",
      "2022-05-26 18:18:29,186 - mmfewshot - INFO - Exp name: attention-rpn_r50_c4_tb-split1_1shot-fine-tuning-momentum-09.py\n",
      "2022-05-26 18:18:29,187 - mmfewshot - INFO - Iter [77000/100000]\tlr: 1.000e-04, eta: 2:07:12, time: 0.269, data_time: 0.012, memory: 5635, loss_rpn_cls: 0.0061, loss_rpn_bbox: 0.0065, loss_cls: 0.0349, acc: 99.6562, loss_bbox: 0.2896, loss: 0.3371\n",
      "2022-05-26 18:18:29,193 - mmdet - INFO - starting model initialization...\n"
     ]
    },
    {
     "name": "stdout",
     "output_type": "stream",
     "text": [
      "[>>>>>>>>>>>>>>>>>>>>>>>>>>>>>>] 640/640, 80.1 task/s, elapsed: 8s, ETA:     0s"
     ]
    },
    {
     "name": "stderr",
     "output_type": "stream",
     "text": [
      "2022-05-26 18:18:37,273 - mmdet - INFO - model initialization done.\n"
     ]
    },
    {
     "name": "stdout",
     "output_type": "stream",
     "text": [
      "[>>>>>>>>>>>>>>>>>>>>>>>>>>>>>] 712/712, 12.6 task/s, elapsed: 56s, ETA:     0s\n",
      "---------------iou_thr: 0.5---------------\n"
     ]
    },
    {
     "name": "stderr",
     "output_type": "stream",
     "text": [
      "2022-05-26 18:19:34,200 - mmfewshot - INFO - \n",
      "+----------+-----+------+--------+-------+\n",
      "| class    | gts | dets | recall | ap    |\n",
      "+----------+-----+------+--------+-------+\n",
      "| 7up      | 810 | 3191 | 0.657  | 0.328 |\n",
      "| BudLight | 209 | 521  | 0.502  | 0.283 |\n",
      "+----------+-----+------+--------+-------+\n",
      "| mAP      |     |      |        | 0.306 |\n",
      "+----------+-----+------+--------+-------+\n",
      "2022-05-26 18:19:34,203 - mmfewshot - INFO - BASE_CLASSES_SPLIT1 mAP: 0.3055369555950165\n",
      "2022-05-26 18:19:34,204 - mmfewshot - INFO - NOVEL_CLASSES_SPLIT1 mAP: nan\n",
      "2022-05-26 18:19:34,209 - mmfewshot - INFO - Exp name: attention-rpn_r50_c4_tb-split1_1shot-fine-tuning-momentum-09.py\n",
      "2022-05-26 18:19:34,210 - mmfewshot - INFO - Iter(val) [712]\tAP50: 0.3060, BASE_CLASSES_SPLIT1: AP50: 0.3060, NOVEL_CLASSES_SPLIT1: AP50: nan, mAP: 0.3055\n",
      "2022-05-26 18:19:47,722 - mmfewshot - INFO - Iter [77050/100000]\tlr: 1.000e-04, eta: 2:07:14, time: 1.570, data_time: 1.311, memory: 5635, loss_rpn_cls: 0.0042, loss_rpn_bbox: 0.0071, loss_cls: 0.0215, acc: 99.7734, loss_bbox: 0.3069, loss: 0.3396\n",
      "2022-05-26 18:20:01,083 - mmfewshot - INFO - Iter [77100/100000]\tlr: 1.000e-04, eta: 2:06:56, time: 0.267, data_time: 0.012, memory: 5635, loss_rpn_cls: 0.0037, loss_rpn_bbox: 0.0045, loss_cls: 0.0355, acc: 99.6641, loss_bbox: 0.2833, loss: 0.3270\n",
      "2022-05-26 18:20:14,531 - mmfewshot - INFO - Iter [77150/100000]\tlr: 1.000e-04, eta: 2:06:39, time: 0.269, data_time: 0.012, memory: 5635, loss_rpn_cls: 0.0048, loss_rpn_bbox: 0.0043, loss_cls: 0.0281, acc: 99.6797, loss_bbox: 0.3286, loss: 0.3658\n",
      "2022-05-26 18:20:27,972 - mmfewshot - INFO - Iter [77200/100000]\tlr: 1.000e-04, eta: 2:06:21, time: 0.269, data_time: 0.012, memory: 5635, loss_rpn_cls: 0.0074, loss_rpn_bbox: 0.0061, loss_cls: 0.0323, acc: 99.7109, loss_bbox: 0.2847, loss: 0.3305\n",
      "2022-05-26 18:20:41,559 - mmfewshot - INFO - Iter [77250/100000]\tlr: 1.000e-04, eta: 2:06:03, time: 0.272, data_time: 0.012, memory: 5635, loss_rpn_cls: 0.0047, loss_rpn_bbox: 0.0051, loss_cls: 0.0275, acc: 99.8203, loss_bbox: 0.2530, loss: 0.2903\n",
      "2022-05-26 18:20:55,007 - mmfewshot - INFO - Iter [77300/100000]\tlr: 1.000e-04, eta: 2:05:46, time: 0.269, data_time: 0.012, memory: 5635, loss_rpn_cls: 0.0057, loss_rpn_bbox: 0.0036, loss_cls: 0.0305, acc: 99.7188, loss_bbox: 0.3042, loss: 0.3440\n",
      "2022-05-26 18:21:08,384 - mmfewshot - INFO - Iter [77350/100000]\tlr: 1.000e-04, eta: 2:05:28, time: 0.268, data_time: 0.011, memory: 5635, loss_rpn_cls: 0.0048, loss_rpn_bbox: 0.0084, loss_cls: 0.0295, acc: 99.7734, loss_bbox: 0.2971, loss: 0.3399\n",
      "2022-05-26 18:21:21,771 - mmfewshot - INFO - Iter [77400/100000]\tlr: 1.000e-04, eta: 2:05:11, time: 0.268, data_time: 0.011, memory: 5635, loss_rpn_cls: 0.0054, loss_rpn_bbox: 0.0066, loss_cls: 0.0323, acc: 99.6172, loss_bbox: 0.3208, loss: 0.3651\n",
      "2022-05-26 18:21:35,171 - mmfewshot - INFO - Iter [77450/100000]\tlr: 1.000e-04, eta: 2:04:53, time: 0.268, data_time: 0.012, memory: 5635, loss_rpn_cls: 0.0041, loss_rpn_bbox: 0.0063, loss_cls: 0.0260, acc: 99.6797, loss_bbox: 0.3226, loss: 0.3591\n",
      "2022-05-26 18:21:48,627 - mmfewshot - INFO - Iter [77500/100000]\tlr: 1.000e-04, eta: 2:04:36, time: 0.269, data_time: 0.011, memory: 5635, loss_rpn_cls: 0.0055, loss_rpn_bbox: 0.0039, loss_cls: 0.0371, acc: 99.6328, loss_bbox: 0.2908, loss: 0.3374\n",
      "2022-05-26 18:22:02,127 - mmfewshot - INFO - Iter [77550/100000]\tlr: 1.000e-04, eta: 2:04:18, time: 0.270, data_time: 0.012, memory: 5635, loss_rpn_cls: 0.0057, loss_rpn_bbox: 0.0042, loss_cls: 0.0307, acc: 99.6719, loss_bbox: 0.3049, loss: 0.3454\n",
      "2022-05-26 18:22:15,566 - mmfewshot - INFO - Iter [77600/100000]\tlr: 1.000e-04, eta: 2:04:01, time: 0.269, data_time: 0.011, memory: 5635, loss_rpn_cls: 0.0036, loss_rpn_bbox: 0.0044, loss_cls: 0.0257, acc: 99.7969, loss_bbox: 0.2748, loss: 0.3086\n",
      "2022-05-26 18:22:28,932 - mmfewshot - INFO - Iter [77650/100000]\tlr: 1.000e-04, eta: 2:03:43, time: 0.267, data_time: 0.012, memory: 5635, loss_rpn_cls: 0.0052, loss_rpn_bbox: 0.0055, loss_cls: 0.0295, acc: 99.7812, loss_bbox: 0.2685, loss: 0.3087\n",
      "2022-05-26 18:22:42,171 - mmfewshot - INFO - Iter [77700/100000]\tlr: 1.000e-04, eta: 2:03:26, time: 0.265, data_time: 0.011, memory: 5635, loss_rpn_cls: 0.0044, loss_rpn_bbox: 0.0037, loss_cls: 0.0315, acc: 99.7734, loss_bbox: 0.2593, loss: 0.2989\n",
      "2022-05-26 18:22:55,676 - mmfewshot - INFO - Iter [77750/100000]\tlr: 1.000e-04, eta: 2:03:08, time: 0.270, data_time: 0.011, memory: 5635, loss_rpn_cls: 0.0056, loss_rpn_bbox: 0.0058, loss_cls: 0.0330, acc: 99.6406, loss_bbox: 0.2914, loss: 0.3358\n",
      "2022-05-26 18:23:09,316 - mmfewshot - INFO - Iter [77800/100000]\tlr: 1.000e-04, eta: 2:02:51, time: 0.273, data_time: 0.012, memory: 5635, loss_rpn_cls: 0.0047, loss_rpn_bbox: 0.0047, loss_cls: 0.0307, acc: 99.7500, loss_bbox: 0.2891, loss: 0.3293\n",
      "2022-05-26 18:23:22,697 - mmfewshot - INFO - Iter [77850/100000]\tlr: 1.000e-04, eta: 2:02:33, time: 0.268, data_time: 0.011, memory: 5635, loss_rpn_cls: 0.0056, loss_rpn_bbox: 0.0045, loss_cls: 0.0301, acc: 99.7812, loss_bbox: 0.2621, loss: 0.3022\n",
      "2022-05-26 18:23:36,031 - mmfewshot - INFO - Iter [77900/100000]\tlr: 1.000e-04, eta: 2:02:16, time: 0.267, data_time: 0.012, memory: 5635, loss_rpn_cls: 0.0048, loss_rpn_bbox: 0.0060, loss_cls: 0.0411, acc: 99.6875, loss_bbox: 0.2629, loss: 0.3148\n",
      "2022-05-26 18:23:49,308 - mmfewshot - INFO - Iter [77950/100000]\tlr: 1.000e-04, eta: 2:01:58, time: 0.265, data_time: 0.011, memory: 5635, loss_rpn_cls: 0.0063, loss_rpn_bbox: 0.0063, loss_cls: 0.0260, acc: 99.7344, loss_bbox: 0.2797, loss: 0.3184\n",
      "2022-05-26 18:24:02,693 - mmfewshot - INFO - Exp name: attention-rpn_r50_c4_tb-split1_1shot-fine-tuning-momentum-09.py\n",
      "2022-05-26 18:24:02,694 - mmfewshot - INFO - Iter [78000/100000]\tlr: 1.000e-04, eta: 2:01:40, time: 0.268, data_time: 0.011, memory: 5635, loss_rpn_cls: 0.0056, loss_rpn_bbox: 0.0073, loss_cls: 0.0260, acc: 99.7031, loss_bbox: 0.2929, loss: 0.3318\n",
      "2022-05-26 18:24:02,699 - mmdet - INFO - starting model initialization...\n"
     ]
    },
    {
     "name": "stdout",
     "output_type": "stream",
     "text": [
      "[>>>>>>>>>>>>>>>>>>>>>>>>>>>>>>] 640/640, 78.2 task/s, elapsed: 8s, ETA:     0s"
     ]
    },
    {
     "name": "stderr",
     "output_type": "stream",
     "text": [
      "2022-05-26 18:24:10,944 - mmdet - INFO - model initialization done.\n"
     ]
    },
    {
     "name": "stdout",
     "output_type": "stream",
     "text": [
      "[>>>>>>>>>>>>>>>>>>>>>>>>>>>>>] 712/712, 12.7 task/s, elapsed: 56s, ETA:     0s\n",
      "---------------iou_thr: 0.5---------------\n"
     ]
    },
    {
     "name": "stderr",
     "output_type": "stream",
     "text": [
      "2022-05-26 18:25:07,238 - mmfewshot - INFO - \n",
      "+----------+-----+------+--------+-------+\n",
      "| class    | gts | dets | recall | ap    |\n",
      "+----------+-----+------+--------+-------+\n",
      "| 7up      | 810 | 3462 | 0.685  | 0.357 |\n",
      "| BudLight | 209 | 469  | 0.512  | 0.283 |\n",
      "+----------+-----+------+--------+-------+\n",
      "| mAP      |     |      |        | 0.320 |\n",
      "+----------+-----+------+--------+-------+\n",
      "2022-05-26 18:25:07,242 - mmfewshot - INFO - BASE_CLASSES_SPLIT1 mAP: 0.31980615854263306\n",
      "2022-05-26 18:25:07,247 - mmfewshot - INFO - NOVEL_CLASSES_SPLIT1 mAP: nan\n",
      "2022-05-26 18:25:07,254 - mmfewshot - INFO - Exp name: attention-rpn_r50_c4_tb-split1_1shot-fine-tuning-momentum-09.py\n",
      "2022-05-26 18:25:07,256 - mmfewshot - INFO - Iter(val) [712]\tAP50: 0.3200, BASE_CLASSES_SPLIT1: AP50: 0.3200, NOVEL_CLASSES_SPLIT1: AP50: nan, mAP: 0.3198\n",
      "2022-05-26 18:25:20,813 - mmfewshot - INFO - Iter [78050/100000]\tlr: 1.000e-04, eta: 2:01:41, time: 1.563, data_time: 1.304, memory: 5635, loss_rpn_cls: 0.0070, loss_rpn_bbox: 0.0074, loss_cls: 0.0319, acc: 99.6719, loss_bbox: 0.2573, loss: 0.3036\n",
      "2022-05-26 18:25:34,328 - mmfewshot - INFO - Iter [78100/100000]\tlr: 1.000e-04, eta: 2:01:24, time: 0.270, data_time: 0.012, memory: 5635, loss_rpn_cls: 0.0042, loss_rpn_bbox: 0.0076, loss_cls: 0.0291, acc: 99.7500, loss_bbox: 0.2984, loss: 0.3394\n",
      "2022-05-26 18:25:47,849 - mmfewshot - INFO - Iter [78150/100000]\tlr: 1.000e-04, eta: 2:01:06, time: 0.271, data_time: 0.012, memory: 5635, loss_rpn_cls: 0.0070, loss_rpn_bbox: 0.0060, loss_cls: 0.0315, acc: 99.6953, loss_bbox: 0.2786, loss: 0.3231\n",
      "2022-05-26 18:26:01,184 - mmfewshot - INFO - Iter [78200/100000]\tlr: 1.000e-04, eta: 2:00:49, time: 0.267, data_time: 0.011, memory: 5635, loss_rpn_cls: 0.0048, loss_rpn_bbox: 0.0049, loss_cls: 0.0315, acc: 99.6953, loss_bbox: 0.2792, loss: 0.3204\n",
      "2022-05-26 18:26:14,555 - mmfewshot - INFO - Iter [78250/100000]\tlr: 1.000e-04, eta: 2:00:31, time: 0.268, data_time: 0.010, memory: 5635, loss_rpn_cls: 0.0051, loss_rpn_bbox: 0.0057, loss_cls: 0.0264, acc: 99.7109, loss_bbox: 0.2942, loss: 0.3314\n",
      "2022-05-26 18:26:28,037 - mmfewshot - INFO - Iter [78300/100000]\tlr: 1.000e-04, eta: 2:00:14, time: 0.269, data_time: 0.012, memory: 5635, loss_rpn_cls: 0.0049, loss_rpn_bbox: 0.0059, loss_cls: 0.0322, acc: 99.6875, loss_bbox: 0.2852, loss: 0.3281\n",
      "2022-05-26 18:26:41,489 - mmfewshot - INFO - Iter [78350/100000]\tlr: 1.000e-04, eta: 1:59:56, time: 0.269, data_time: 0.012, memory: 5635, loss_rpn_cls: 0.0056, loss_rpn_bbox: 0.0050, loss_cls: 0.0268, acc: 99.6953, loss_bbox: 0.2792, loss: 0.3166\n",
      "2022-05-26 18:26:54,678 - mmfewshot - INFO - Iter [78400/100000]\tlr: 1.000e-04, eta: 1:59:39, time: 0.263, data_time: 0.010, memory: 5635, loss_rpn_cls: 0.0046, loss_rpn_bbox: 0.0047, loss_cls: 0.0275, acc: 99.6953, loss_bbox: 0.3128, loss: 0.3496\n",
      "2022-05-26 18:27:07,907 - mmfewshot - INFO - Iter [78450/100000]\tlr: 1.000e-04, eta: 1:59:21, time: 0.265, data_time: 0.012, memory: 5635, loss_rpn_cls: 0.0045, loss_rpn_bbox: 0.0060, loss_cls: 0.0340, acc: 99.6719, loss_bbox: 0.2716, loss: 0.3160\n",
      "2022-05-26 18:27:21,147 - mmfewshot - INFO - Iter [78500/100000]\tlr: 1.000e-04, eta: 1:59:03, time: 0.265, data_time: 0.011, memory: 5635, loss_rpn_cls: 0.0110, loss_rpn_bbox: 0.0063, loss_cls: 0.0300, acc: 99.7031, loss_bbox: 0.2862, loss: 0.3334\n",
      "2022-05-26 18:27:34,417 - mmfewshot - INFO - Iter [78550/100000]\tlr: 1.000e-04, eta: 1:58:46, time: 0.265, data_time: 0.011, memory: 5635, loss_rpn_cls: 0.0062, loss_rpn_bbox: 0.0079, loss_cls: 0.0266, acc: 99.7422, loss_bbox: 0.3148, loss: 0.3555\n",
      "2022-05-26 18:27:47,678 - mmfewshot - INFO - Iter [78600/100000]\tlr: 1.000e-04, eta: 1:58:28, time: 0.265, data_time: 0.011, memory: 5635, loss_rpn_cls: 0.0051, loss_rpn_bbox: 0.0039, loss_cls: 0.0260, acc: 99.7344, loss_bbox: 0.2852, loss: 0.3202\n",
      "2022-05-26 18:28:01,149 - mmfewshot - INFO - Iter [78650/100000]\tlr: 1.000e-04, eta: 1:58:11, time: 0.269, data_time: 0.013, memory: 5635, loss_rpn_cls: 0.0043, loss_rpn_bbox: 0.0051, loss_cls: 0.0284, acc: 99.6875, loss_bbox: 0.3064, loss: 0.3443\n",
      "2022-05-26 18:28:14,545 - mmfewshot - INFO - Iter [78700/100000]\tlr: 1.000e-04, eta: 1:57:53, time: 0.268, data_time: 0.011, memory: 5635, loss_rpn_cls: 0.0043, loss_rpn_bbox: 0.0082, loss_cls: 0.0278, acc: 99.7812, loss_bbox: 0.2859, loss: 0.3261\n",
      "2022-05-26 18:28:27,882 - mmfewshot - INFO - Iter [78750/100000]\tlr: 1.000e-04, eta: 1:57:36, time: 0.267, data_time: 0.010, memory: 5635, loss_rpn_cls: 0.0065, loss_rpn_bbox: 0.0047, loss_cls: 0.0305, acc: 99.6562, loss_bbox: 0.2903, loss: 0.3320\n",
      "2022-05-26 18:28:41,458 - mmfewshot - INFO - Iter [78800/100000]\tlr: 1.000e-04, eta: 1:57:19, time: 0.272, data_time: 0.013, memory: 5635, loss_rpn_cls: 0.0066, loss_rpn_bbox: 0.0050, loss_cls: 0.0249, acc: 99.7422, loss_bbox: 0.2526, loss: 0.2892\n",
      "2022-05-26 18:28:54,906 - mmfewshot - INFO - Iter [78850/100000]\tlr: 1.000e-04, eta: 1:57:01, time: 0.269, data_time: 0.011, memory: 5635, loss_rpn_cls: 0.0069, loss_rpn_bbox: 0.0065, loss_cls: 0.0261, acc: 99.7266, loss_bbox: 0.3110, loss: 0.3505\n",
      "2022-05-26 18:29:08,350 - mmfewshot - INFO - Iter [78900/100000]\tlr: 1.000e-04, eta: 1:56:44, time: 0.269, data_time: 0.011, memory: 5635, loss_rpn_cls: 0.0034, loss_rpn_bbox: 0.0023, loss_cls: 0.0476, acc: 99.6719, loss_bbox: 0.2826, loss: 0.3360\n",
      "2022-05-26 18:29:21,555 - mmfewshot - INFO - Iter [78950/100000]\tlr: 1.000e-04, eta: 1:56:26, time: 0.264, data_time: 0.010, memory: 5635, loss_rpn_cls: 0.0084, loss_rpn_bbox: 0.0072, loss_cls: 0.0289, acc: 99.7266, loss_bbox: 0.2664, loss: 0.3110\n",
      "2022-05-26 18:29:34,781 - mmfewshot - INFO - Exp name: attention-rpn_r50_c4_tb-split1_1shot-fine-tuning-momentum-09.py\n",
      "2022-05-26 18:29:34,783 - mmfewshot - INFO - Iter [79000/100000]\tlr: 1.000e-04, eta: 1:56:09, time: 0.265, data_time: 0.010, memory: 5635, loss_rpn_cls: 0.0055, loss_rpn_bbox: 0.0072, loss_cls: 0.0332, acc: 99.7031, loss_bbox: 0.2973, loss: 0.3432\n",
      "2022-05-26 18:29:34,788 - mmdet - INFO - starting model initialization...\n"
     ]
    },
    {
     "name": "stdout",
     "output_type": "stream",
     "text": [
      "[>>>>>>>>>>>>>>>>>>>>>>>>>>>>>>] 640/640, 79.6 task/s, elapsed: 8s, ETA:     0s"
     ]
    },
    {
     "name": "stderr",
     "output_type": "stream",
     "text": [
      "2022-05-26 18:29:42,893 - mmdet - INFO - model initialization done.\n"
     ]
    },
    {
     "name": "stdout",
     "output_type": "stream",
     "text": [
      "[>>>>>>>>>>>>>>>>>>>>>>>>>>>>>] 712/712, 12.6 task/s, elapsed: 56s, ETA:     0s\n",
      "---------------iou_thr: 0.5---------------\n"
     ]
    },
    {
     "name": "stderr",
     "output_type": "stream",
     "text": [
      "2022-05-26 18:30:39,628 - mmfewshot - INFO - \n",
      "+----------+-----+------+--------+-------+\n",
      "| class    | gts | dets | recall | ap    |\n",
      "+----------+-----+------+--------+-------+\n",
      "| 7up      | 810 | 2769 | 0.638  | 0.357 |\n",
      "| BudLight | 209 | 444  | 0.507  | 0.283 |\n",
      "+----------+-----+------+--------+-------+\n",
      "| mAP      |     |      |        | 0.320 |\n",
      "+----------+-----+------+--------+-------+\n",
      "2022-05-26 18:30:39,700 - mmfewshot - INFO - BASE_CLASSES_SPLIT1 mAP: 0.32042092084884644\n",
      "2022-05-26 18:30:39,701 - mmfewshot - INFO - NOVEL_CLASSES_SPLIT1 mAP: nan\n",
      "2022-05-26 18:30:39,704 - mmfewshot - INFO - Exp name: attention-rpn_r50_c4_tb-split1_1shot-fine-tuning-momentum-09.py\n",
      "2022-05-26 18:30:39,705 - mmfewshot - INFO - Iter(val) [712]\tAP50: 0.3200, BASE_CLASSES_SPLIT1: AP50: 0.3200, NOVEL_CLASSES_SPLIT1: AP50: nan, mAP: 0.3204\n",
      "2022-05-26 18:30:53,209 - mmfewshot - INFO - Iter [79050/100000]\tlr: 1.000e-04, eta: 1:56:08, time: 1.568, data_time: 1.310, memory: 5635, loss_rpn_cls: 0.0061, loss_rpn_bbox: 0.0060, loss_cls: 0.0301, acc: 99.6797, loss_bbox: 0.3079, loss: 0.3502\n",
      "2022-05-26 18:31:06,645 - mmfewshot - INFO - Iter [79100/100000]\tlr: 1.000e-04, eta: 1:55:51, time: 0.269, data_time: 0.012, memory: 5635, loss_rpn_cls: 0.0092, loss_rpn_bbox: 0.0074, loss_cls: 0.0364, acc: 99.5859, loss_bbox: 0.2784, loss: 0.3314\n",
      "2022-05-26 18:31:20,024 - mmfewshot - INFO - Iter [79150/100000]\tlr: 1.000e-04, eta: 1:55:34, time: 0.268, data_time: 0.012, memory: 5635, loss_rpn_cls: 0.0047, loss_rpn_bbox: 0.0073, loss_cls: 0.0289, acc: 99.6562, loss_bbox: 0.3367, loss: 0.3775\n",
      "2022-05-26 18:31:33,481 - mmfewshot - INFO - Iter [79200/100000]\tlr: 1.000e-04, eta: 1:55:16, time: 0.269, data_time: 0.011, memory: 5635, loss_rpn_cls: 0.0046, loss_rpn_bbox: 0.0065, loss_cls: 0.0289, acc: 99.7578, loss_bbox: 0.2762, loss: 0.3163\n",
      "2022-05-26 18:31:46,932 - mmfewshot - INFO - Iter [79250/100000]\tlr: 1.000e-04, eta: 1:54:59, time: 0.269, data_time: 0.012, memory: 5635, loss_rpn_cls: 0.0048, loss_rpn_bbox: 0.0068, loss_cls: 0.0292, acc: 99.6797, loss_bbox: 0.2924, loss: 0.3332\n",
      "2022-05-26 18:32:00,327 - mmfewshot - INFO - Iter [79300/100000]\tlr: 1.000e-04, eta: 1:54:41, time: 0.268, data_time: 0.012, memory: 5635, loss_rpn_cls: 0.0077, loss_rpn_bbox: 0.0071, loss_cls: 0.0303, acc: 99.7109, loss_bbox: 0.3083, loss: 0.3534\n",
      "2022-05-26 18:32:13,661 - mmfewshot - INFO - Iter [79350/100000]\tlr: 1.000e-04, eta: 1:54:24, time: 0.267, data_time: 0.011, memory: 5635, loss_rpn_cls: 0.0043, loss_rpn_bbox: 0.0056, loss_cls: 0.0389, acc: 99.6328, loss_bbox: 0.2544, loss: 0.3031\n",
      "2022-05-26 18:32:27,153 - mmfewshot - INFO - Iter [79400/100000]\tlr: 1.000e-04, eta: 1:54:06, time: 0.270, data_time: 0.011, memory: 5635, loss_rpn_cls: 0.0046, loss_rpn_bbox: 0.0046, loss_cls: 0.0268, acc: 99.7500, loss_bbox: 0.3293, loss: 0.3653\n",
      "2022-05-26 18:32:40,630 - mmfewshot - INFO - Iter [79450/100000]\tlr: 1.000e-04, eta: 1:53:49, time: 0.270, data_time: 0.012, memory: 5635, loss_rpn_cls: 0.0047, loss_rpn_bbox: 0.0041, loss_cls: 0.0285, acc: 99.7109, loss_bbox: 0.2897, loss: 0.3270\n",
      "2022-05-26 18:32:53,978 - mmfewshot - INFO - Iter [79500/100000]\tlr: 1.000e-04, eta: 1:53:31, time: 0.267, data_time: 0.011, memory: 5635, loss_rpn_cls: 0.0068, loss_rpn_bbox: 0.0044, loss_cls: 0.0314, acc: 99.6797, loss_bbox: 0.2918, loss: 0.3344\n",
      "2022-05-26 18:33:07,478 - mmfewshot - INFO - Iter [79550/100000]\tlr: 1.000e-04, eta: 1:53:14, time: 0.270, data_time: 0.012, memory: 5635, loss_rpn_cls: 0.0054, loss_rpn_bbox: 0.0047, loss_cls: 0.0241, acc: 99.7891, loss_bbox: 0.2633, loss: 0.2974\n",
      "2022-05-26 18:33:20,783 - mmfewshot - INFO - Iter [79600/100000]\tlr: 1.000e-04, eta: 1:52:56, time: 0.266, data_time: 0.011, memory: 5635, loss_rpn_cls: 0.0039, loss_rpn_bbox: 0.0036, loss_cls: 0.0445, acc: 99.5938, loss_bbox: 0.2708, loss: 0.3228\n",
      "2022-05-26 18:33:34,203 - mmfewshot - INFO - Iter [79650/100000]\tlr: 1.000e-04, eta: 1:52:39, time: 0.268, data_time: 0.012, memory: 5635, loss_rpn_cls: 0.0040, loss_rpn_bbox: 0.0036, loss_cls: 0.0223, acc: 99.7500, loss_bbox: 0.2885, loss: 0.3184\n",
      "2022-05-26 18:33:47,629 - mmfewshot - INFO - Iter [79700/100000]\tlr: 1.000e-04, eta: 1:52:22, time: 0.269, data_time: 0.011, memory: 5635, loss_rpn_cls: 0.0080, loss_rpn_bbox: 0.0075, loss_cls: 0.0249, acc: 99.7422, loss_bbox: 0.2931, loss: 0.3335\n",
      "2022-05-26 18:34:01,093 - mmfewshot - INFO - Iter [79750/100000]\tlr: 1.000e-04, eta: 1:52:04, time: 0.269, data_time: 0.012, memory: 5635, loss_rpn_cls: 0.0048, loss_rpn_bbox: 0.0039, loss_cls: 0.0291, acc: 99.6562, loss_bbox: 0.2868, loss: 0.3246\n",
      "2022-05-26 18:34:14,509 - mmfewshot - INFO - Iter [79800/100000]\tlr: 1.000e-04, eta: 1:51:47, time: 0.268, data_time: 0.011, memory: 5635, loss_rpn_cls: 0.0037, loss_rpn_bbox: 0.0042, loss_cls: 0.0337, acc: 99.7500, loss_bbox: 0.2908, loss: 0.3324\n",
      "2022-05-26 18:34:28,035 - mmfewshot - INFO - Iter [79850/100000]\tlr: 1.000e-04, eta: 1:51:29, time: 0.270, data_time: 0.012, memory: 5635, loss_rpn_cls: 0.0075, loss_rpn_bbox: 0.0079, loss_cls: 0.0367, acc: 99.6953, loss_bbox: 0.2776, loss: 0.3297\n",
      "2022-05-26 18:34:41,423 - mmfewshot - INFO - Iter [79900/100000]\tlr: 1.000e-04, eta: 1:51:12, time: 0.268, data_time: 0.012, memory: 5635, loss_rpn_cls: 0.0054, loss_rpn_bbox: 0.0056, loss_cls: 0.0340, acc: 99.6094, loss_bbox: 0.2987, loss: 0.3437\n",
      "2022-05-26 18:34:54,797 - mmfewshot - INFO - Iter [79950/100000]\tlr: 1.000e-04, eta: 1:50:55, time: 0.267, data_time: 0.011, memory: 5635, loss_rpn_cls: 0.0059, loss_rpn_bbox: 0.0062, loss_cls: 0.0393, acc: 99.6328, loss_bbox: 0.2819, loss: 0.3333\n",
      "2022-05-26 18:35:08,012 - mmfewshot - INFO - Saving checkpoint at 80000 iterations\n",
      "2022-05-26 18:35:09,611 - mmfewshot - INFO - Exp name: attention-rpn_r50_c4_tb-split1_1shot-fine-tuning-momentum-09.py\n",
      "2022-05-26 18:35:09,612 - mmfewshot - INFO - Iter [80000/100000]\tlr: 1.000e-04, eta: 1:50:38, time: 0.299, data_time: 0.011, memory: 5635, loss_rpn_cls: 0.0053, loss_rpn_bbox: 0.0040, loss_cls: 0.0327, acc: 99.6719, loss_bbox: 0.3052, loss: 0.3472\n",
      "2022-05-26 18:35:09,616 - mmdet - INFO - starting model initialization...\n"
     ]
    },
    {
     "name": "stdout",
     "output_type": "stream",
     "text": [
      "[>>>>>>>>>>>>>>>>>>>>>>>>>>>>>>] 640/640, 75.2 task/s, elapsed: 9s, ETA:     0s"
     ]
    },
    {
     "name": "stderr",
     "output_type": "stream",
     "text": [
      "2022-05-26 18:35:18,201 - mmdet - INFO - model initialization done.\n"
     ]
    },
    {
     "name": "stdout",
     "output_type": "stream",
     "text": [
      "[>>>>>>>>>>>>>>>>>>>>>>>>>>>>>] 712/712, 12.6 task/s, elapsed: 56s, ETA:     0s\n",
      "---------------iou_thr: 0.5---------------\n"
     ]
    },
    {
     "name": "stderr",
     "output_type": "stream",
     "text": [
      "2022-05-26 18:36:15,049 - mmfewshot - INFO - \n",
      "+----------+-----+------+--------+-------+\n",
      "| class    | gts | dets | recall | ap    |\n",
      "+----------+-----+------+--------+-------+\n",
      "| 7up      | 810 | 3344 | 0.704  | 0.376 |\n",
      "| BudLight | 209 | 423  | 0.478  | 0.241 |\n",
      "+----------+-----+------+--------+-------+\n",
      "| mAP      |     |      |        | 0.308 |\n",
      "+----------+-----+------+--------+-------+\n",
      "2022-05-26 18:36:15,052 - mmfewshot - INFO - BASE_CLASSES_SPLIT1 mAP: 0.3084789514541626\n",
      "2022-05-26 18:36:15,053 - mmfewshot - INFO - NOVEL_CLASSES_SPLIT1 mAP: nan\n",
      "2022-05-26 18:36:15,059 - mmfewshot - INFO - Exp name: attention-rpn_r50_c4_tb-split1_1shot-fine-tuning-momentum-09.py\n",
      "2022-05-26 18:36:15,060 - mmfewshot - INFO - Iter(val) [712]\tAP50: 0.3080, BASE_CLASSES_SPLIT1: AP50: 0.3080, NOVEL_CLASSES_SPLIT1: AP50: nan, mAP: 0.3085\n",
      "2022-05-26 18:36:28,494 - mmfewshot - INFO - Iter [80050/100000]\tlr: 1.000e-04, eta: 1:50:36, time: 1.575, data_time: 1.318, memory: 5635, loss_rpn_cls: 0.0060, loss_rpn_bbox: 0.0066, loss_cls: 0.0324, acc: 99.7266, loss_bbox: 0.2971, loss: 0.3420\n",
      "2022-05-26 18:36:41,935 - mmfewshot - INFO - Iter [80100/100000]\tlr: 1.000e-04, eta: 1:50:19, time: 0.269, data_time: 0.011, memory: 5635, loss_rpn_cls: 0.0069, loss_rpn_bbox: 0.0040, loss_cls: 0.0331, acc: 99.6719, loss_bbox: 0.2864, loss: 0.3304\n",
      "2022-05-26 18:36:55,344 - mmfewshot - INFO - Iter [80150/100000]\tlr: 1.000e-04, eta: 1:50:02, time: 0.268, data_time: 0.012, memory: 5635, loss_rpn_cls: 0.0071, loss_rpn_bbox: 0.0054, loss_cls: 0.0281, acc: 99.7109, loss_bbox: 0.2883, loss: 0.3289\n",
      "2022-05-26 18:37:08,742 - mmfewshot - INFO - Iter [80200/100000]\tlr: 1.000e-04, eta: 1:49:44, time: 0.268, data_time: 0.012, memory: 5635, loss_rpn_cls: 0.0037, loss_rpn_bbox: 0.0031, loss_cls: 0.0340, acc: 99.6250, loss_bbox: 0.3127, loss: 0.3535\n",
      "2022-05-26 18:37:22,229 - mmfewshot - INFO - Iter [80250/100000]\tlr: 1.000e-04, eta: 1:49:27, time: 0.270, data_time: 0.012, memory: 5635, loss_rpn_cls: 0.0065, loss_rpn_bbox: 0.0072, loss_cls: 0.0370, acc: 99.6719, loss_bbox: 0.3002, loss: 0.3509\n",
      "2022-05-26 18:37:35,464 - mmfewshot - INFO - Iter [80300/100000]\tlr: 1.000e-04, eta: 1:49:09, time: 0.265, data_time: 0.012, memory: 5635, loss_rpn_cls: 0.0032, loss_rpn_bbox: 0.0025, loss_cls: 0.0266, acc: 99.6797, loss_bbox: 0.2795, loss: 0.3118\n",
      "2022-05-26 18:37:48,871 - mmfewshot - INFO - Iter [80350/100000]\tlr: 1.000e-04, eta: 1:48:52, time: 0.268, data_time: 0.011, memory: 5635, loss_rpn_cls: 0.0052, loss_rpn_bbox: 0.0066, loss_cls: 0.0282, acc: 99.6797, loss_bbox: 0.3249, loss: 0.3650\n",
      "2022-05-26 18:38:02,369 - mmfewshot - INFO - Iter [80400/100000]\tlr: 1.000e-04, eta: 1:48:35, time: 0.270, data_time: 0.012, memory: 5635, loss_rpn_cls: 0.0038, loss_rpn_bbox: 0.0031, loss_cls: 0.0295, acc: 99.6953, loss_bbox: 0.2692, loss: 0.3056\n",
      "2022-05-26 18:38:15,888 - mmfewshot - INFO - Iter [80450/100000]\tlr: 1.000e-04, eta: 1:48:17, time: 0.270, data_time: 0.013, memory: 5635, loss_rpn_cls: 0.0040, loss_rpn_bbox: 0.0031, loss_cls: 0.0315, acc: 99.7812, loss_bbox: 0.2763, loss: 0.3149\n",
      "2022-05-26 18:38:29,362 - mmfewshot - INFO - Iter [80500/100000]\tlr: 1.000e-04, eta: 1:48:00, time: 0.269, data_time: 0.012, memory: 5635, loss_rpn_cls: 0.0043, loss_rpn_bbox: 0.0050, loss_cls: 0.0297, acc: 99.7500, loss_bbox: 0.3025, loss: 0.3415\n",
      "2022-05-26 18:38:43,015 - mmfewshot - INFO - Iter [80550/100000]\tlr: 1.000e-04, eta: 1:47:42, time: 0.273, data_time: 0.013, memory: 5635, loss_rpn_cls: 0.0051, loss_rpn_bbox: 0.0043, loss_cls: 0.0306, acc: 99.7188, loss_bbox: 0.2544, loss: 0.2942\n",
      "2022-05-26 18:38:56,496 - mmfewshot - INFO - Iter [80600/100000]\tlr: 1.000e-04, eta: 1:47:25, time: 0.270, data_time: 0.012, memory: 5635, loss_rpn_cls: 0.0041, loss_rpn_bbox: 0.0049, loss_cls: 0.0230, acc: 99.7266, loss_bbox: 0.3091, loss: 0.3412\n",
      "2022-05-26 18:39:09,954 - mmfewshot - INFO - Iter [80650/100000]\tlr: 1.000e-04, eta: 1:47:08, time: 0.269, data_time: 0.012, memory: 5635, loss_rpn_cls: 0.0047, loss_rpn_bbox: 0.0034, loss_cls: 0.0248, acc: 99.7734, loss_bbox: 0.2736, loss: 0.3065\n",
      "2022-05-26 18:39:23,514 - mmfewshot - INFO - Iter [80700/100000]\tlr: 1.000e-04, eta: 1:46:50, time: 0.271, data_time: 0.012, memory: 5635, loss_rpn_cls: 0.0051, loss_rpn_bbox: 0.0065, loss_cls: 0.0250, acc: 99.6875, loss_bbox: 0.3100, loss: 0.3466\n",
      "2022-05-26 18:39:37,005 - mmfewshot - INFO - Iter [80750/100000]\tlr: 1.000e-04, eta: 1:46:33, time: 0.270, data_time: 0.012, memory: 5635, loss_rpn_cls: 0.0040, loss_rpn_bbox: 0.0056, loss_cls: 0.0240, acc: 99.7578, loss_bbox: 0.3148, loss: 0.3484\n",
      "2022-05-26 18:39:50,457 - mmfewshot - INFO - Iter [80800/100000]\tlr: 1.000e-04, eta: 1:46:16, time: 0.269, data_time: 0.012, memory: 5635, loss_rpn_cls: 0.0049, loss_rpn_bbox: 0.0052, loss_cls: 0.0295, acc: 99.7109, loss_bbox: 0.2598, loss: 0.2994\n",
      "2022-05-26 18:40:03,965 - mmfewshot - INFO - Iter [80850/100000]\tlr: 1.000e-04, eta: 1:45:58, time: 0.270, data_time: 0.013, memory: 5635, loss_rpn_cls: 0.0052, loss_rpn_bbox: 0.0048, loss_cls: 0.0307, acc: 99.6875, loss_bbox: 0.3032, loss: 0.3439\n",
      "2022-05-26 18:40:17,283 - mmfewshot - INFO - Iter [80900/100000]\tlr: 1.000e-04, eta: 1:45:41, time: 0.266, data_time: 0.012, memory: 5635, loss_rpn_cls: 0.0068, loss_rpn_bbox: 0.0063, loss_cls: 0.0326, acc: 99.7109, loss_bbox: 0.2940, loss: 0.3396\n",
      "2022-05-26 18:40:30,763 - mmfewshot - INFO - Iter [80950/100000]\tlr: 1.000e-04, eta: 1:45:24, time: 0.270, data_time: 0.012, memory: 5635, loss_rpn_cls: 0.0047, loss_rpn_bbox: 0.0048, loss_cls: 0.0285, acc: 99.6875, loss_bbox: 0.2895, loss: 0.3275\n",
      "2022-05-26 18:40:44,310 - mmfewshot - INFO - Exp name: attention-rpn_r50_c4_tb-split1_1shot-fine-tuning-momentum-09.py\n",
      "2022-05-26 18:40:44,312 - mmfewshot - INFO - Iter [81000/100000]\tlr: 1.000e-04, eta: 1:45:06, time: 0.271, data_time: 0.011, memory: 5635, loss_rpn_cls: 0.0047, loss_rpn_bbox: 0.0037, loss_cls: 0.0247, acc: 99.7734, loss_bbox: 0.2770, loss: 0.3101\n",
      "2022-05-26 18:40:44,317 - mmdet - INFO - starting model initialization...\n"
     ]
    },
    {
     "name": "stdout",
     "output_type": "stream",
     "text": [
      "[>>>>>>>>>>>>>>>>>>>>>>>>>>>>>>] 640/640, 79.0 task/s, elapsed: 8s, ETA:     0s"
     ]
    },
    {
     "name": "stderr",
     "output_type": "stream",
     "text": [
      "2022-05-26 18:40:52,494 - mmdet - INFO - model initialization done.\n"
     ]
    },
    {
     "name": "stdout",
     "output_type": "stream",
     "text": [
      "[>>>>>>>>>>>>>>>>>>>>>>>>>>>>>] 712/712, 12.6 task/s, elapsed: 57s, ETA:     0s\n",
      "---------------iou_thr: 0.5---------------\n"
     ]
    },
    {
     "name": "stderr",
     "output_type": "stream",
     "text": [
      "2022-05-26 18:41:49,445 - mmfewshot - INFO - \n",
      "+----------+-----+------+--------+-------+\n",
      "| class    | gts | dets | recall | ap    |\n",
      "+----------+-----+------+--------+-------+\n",
      "| 7up      | 810 | 2987 | 0.685  | 0.388 |\n",
      "| BudLight | 209 | 625  | 0.603  | 0.326 |\n",
      "+----------+-----+------+--------+-------+\n",
      "| mAP      |     |      |        | 0.357 |\n",
      "+----------+-----+------+--------+-------+\n",
      "2022-05-26 18:41:49,448 - mmfewshot - INFO - BASE_CLASSES_SPLIT1 mAP: 0.3573484420776367\n",
      "2022-05-26 18:41:49,449 - mmfewshot - INFO - NOVEL_CLASSES_SPLIT1 mAP: nan\n",
      "2022-05-26 18:41:49,454 - mmfewshot - INFO - Exp name: attention-rpn_r50_c4_tb-split1_1shot-fine-tuning-momentum-09.py\n",
      "2022-05-26 18:41:49,456 - mmfewshot - INFO - Iter(val) [712]\tAP50: 0.3570, BASE_CLASSES_SPLIT1: AP50: 0.3570, NOVEL_CLASSES_SPLIT1: AP50: nan, mAP: 0.3573\n",
      "2022-05-26 18:42:02,902 - mmfewshot - INFO - Iter [81050/100000]\tlr: 1.000e-04, eta: 1:45:04, time: 1.572, data_time: 1.314, memory: 5635, loss_rpn_cls: 0.0029, loss_rpn_bbox: 0.0024, loss_cls: 0.0300, acc: 99.7266, loss_bbox: 0.3097, loss: 0.3450\n",
      "2022-05-26 18:42:16,485 - mmfewshot - INFO - Iter [81100/100000]\tlr: 1.000e-04, eta: 1:44:47, time: 0.272, data_time: 0.012, memory: 5635, loss_rpn_cls: 0.0061, loss_rpn_bbox: 0.0040, loss_cls: 0.0208, acc: 99.7891, loss_bbox: 0.2851, loss: 0.3160\n",
      "2022-05-26 18:42:29,981 - mmfewshot - INFO - Iter [81150/100000]\tlr: 1.000e-04, eta: 1:44:30, time: 0.269, data_time: 0.012, memory: 5635, loss_rpn_cls: 0.0075, loss_rpn_bbox: 0.0057, loss_cls: 0.0222, acc: 99.7969, loss_bbox: 0.2620, loss: 0.2974\n",
      "2022-05-26 18:42:43,501 - mmfewshot - INFO - Iter [81200/100000]\tlr: 1.000e-04, eta: 1:44:12, time: 0.271, data_time: 0.012, memory: 5635, loss_rpn_cls: 0.0091, loss_rpn_bbox: 0.0071, loss_cls: 0.0239, acc: 99.7422, loss_bbox: 0.3006, loss: 0.3407\n",
      "2022-05-26 18:42:56,993 - mmfewshot - INFO - Iter [81250/100000]\tlr: 1.000e-04, eta: 1:43:55, time: 0.270, data_time: 0.012, memory: 5635, loss_rpn_cls: 0.0047, loss_rpn_bbox: 0.0042, loss_cls: 0.0433, acc: 99.5547, loss_bbox: 0.2937, loss: 0.3458\n",
      "2022-05-26 18:43:10,332 - mmfewshot - INFO - Iter [81300/100000]\tlr: 1.000e-04, eta: 1:43:37, time: 0.267, data_time: 0.012, memory: 5635, loss_rpn_cls: 0.0045, loss_rpn_bbox: 0.0044, loss_cls: 0.0321, acc: 99.7031, loss_bbox: 0.2723, loss: 0.3134\n",
      "2022-05-26 18:43:23,687 - mmfewshot - INFO - Iter [81350/100000]\tlr: 1.000e-04, eta: 1:43:20, time: 0.267, data_time: 0.011, memory: 5635, loss_rpn_cls: 0.0051, loss_rpn_bbox: 0.0048, loss_cls: 0.0317, acc: 99.7031, loss_bbox: 0.2870, loss: 0.3287\n",
      "2022-05-26 18:43:37,093 - mmfewshot - INFO - Iter [81400/100000]\tlr: 1.000e-04, eta: 1:43:03, time: 0.268, data_time: 0.012, memory: 5635, loss_rpn_cls: 0.0051, loss_rpn_bbox: 0.0055, loss_cls: 0.0353, acc: 99.6641, loss_bbox: 0.3017, loss: 0.3476\n",
      "2022-05-26 18:43:50,431 - mmfewshot - INFO - Iter [81450/100000]\tlr: 1.000e-04, eta: 1:42:45, time: 0.266, data_time: 0.011, memory: 5635, loss_rpn_cls: 0.0054, loss_rpn_bbox: 0.0052, loss_cls: 0.0289, acc: 99.6641, loss_bbox: 0.2868, loss: 0.3263\n",
      "2022-05-26 18:44:03,891 - mmfewshot - INFO - Iter [81500/100000]\tlr: 1.000e-04, eta: 1:42:28, time: 0.269, data_time: 0.011, memory: 5635, loss_rpn_cls: 0.0053, loss_rpn_bbox: 0.0053, loss_cls: 0.0392, acc: 99.6875, loss_bbox: 0.3050, loss: 0.3548\n",
      "2022-05-26 18:44:17,238 - mmfewshot - INFO - Iter [81550/100000]\tlr: 1.000e-04, eta: 1:42:11, time: 0.267, data_time: 0.011, memory: 5635, loss_rpn_cls: 0.0100, loss_rpn_bbox: 0.0078, loss_cls: 0.0285, acc: 99.7266, loss_bbox: 0.2814, loss: 0.3277\n",
      "2022-05-26 18:44:30,674 - mmfewshot - INFO - Iter [81600/100000]\tlr: 1.000e-04, eta: 1:41:53, time: 0.269, data_time: 0.012, memory: 5635, loss_rpn_cls: 0.0041, loss_rpn_bbox: 0.0034, loss_cls: 0.0284, acc: 99.7266, loss_bbox: 0.2741, loss: 0.3100\n",
      "2022-05-26 18:44:44,038 - mmfewshot - INFO - Iter [81650/100000]\tlr: 1.000e-04, eta: 1:41:36, time: 0.267, data_time: 0.011, memory: 5635, loss_rpn_cls: 0.0038, loss_rpn_bbox: 0.0050, loss_cls: 0.0246, acc: 99.7578, loss_bbox: 0.2730, loss: 0.3065\n",
      "2022-05-26 18:44:57,335 - mmfewshot - INFO - Iter [81700/100000]\tlr: 1.000e-04, eta: 1:41:19, time: 0.266, data_time: 0.011, memory: 5635, loss_rpn_cls: 0.0054, loss_rpn_bbox: 0.0035, loss_cls: 0.0294, acc: 99.6875, loss_bbox: 0.2646, loss: 0.3028\n",
      "2022-05-26 18:45:10,723 - mmfewshot - INFO - Iter [81750/100000]\tlr: 1.000e-04, eta: 1:41:01, time: 0.268, data_time: 0.013, memory: 5635, loss_rpn_cls: 0.0042, loss_rpn_bbox: 0.0034, loss_cls: 0.0310, acc: 99.6484, loss_bbox: 0.2842, loss: 0.3228\n",
      "2022-05-26 18:45:24,324 - mmfewshot - INFO - Iter [81800/100000]\tlr: 1.000e-04, eta: 1:40:44, time: 0.272, data_time: 0.013, memory: 5635, loss_rpn_cls: 0.0054, loss_rpn_bbox: 0.0056, loss_cls: 0.0354, acc: 99.6875, loss_bbox: 0.2646, loss: 0.3110\n",
      "2022-05-26 18:45:37,758 - mmfewshot - INFO - Iter [81850/100000]\tlr: 1.000e-04, eta: 1:40:27, time: 0.269, data_time: 0.012, memory: 5635, loss_rpn_cls: 0.0044, loss_rpn_bbox: 0.0064, loss_cls: 0.0296, acc: 99.7031, loss_bbox: 0.3065, loss: 0.3469\n",
      "2022-05-26 18:45:51,046 - mmfewshot - INFO - Iter [81900/100000]\tlr: 1.000e-04, eta: 1:40:09, time: 0.266, data_time: 0.011, memory: 5635, loss_rpn_cls: 0.0033, loss_rpn_bbox: 0.0039, loss_cls: 0.0214, acc: 99.7734, loss_bbox: 0.2640, loss: 0.2926\n",
      "2022-05-26 18:46:04,504 - mmfewshot - INFO - Iter [81950/100000]\tlr: 1.000e-04, eta: 1:39:52, time: 0.269, data_time: 0.013, memory: 5635, loss_rpn_cls: 0.0069, loss_rpn_bbox: 0.0052, loss_cls: 0.0326, acc: 99.6406, loss_bbox: 0.3071, loss: 0.3518\n",
      "2022-05-26 18:46:18,066 - mmfewshot - INFO - Exp name: attention-rpn_r50_c4_tb-split1_1shot-fine-tuning-momentum-09.py\n",
      "2022-05-26 18:46:18,068 - mmfewshot - INFO - Iter [82000/100000]\tlr: 1.000e-04, eta: 1:39:35, time: 0.271, data_time: 0.012, memory: 5635, loss_rpn_cls: 0.0067, loss_rpn_bbox: 0.0072, loss_cls: 0.0414, acc: 99.6953, loss_bbox: 0.3039, loss: 0.3591\n",
      "2022-05-26 18:46:18,073 - mmdet - INFO - starting model initialization...\n"
     ]
    },
    {
     "name": "stdout",
     "output_type": "stream",
     "text": [
      "[>>>>>>>>>>>>>>>>>>>>>>>>>>>>>>] 640/640, 78.8 task/s, elapsed: 8s, ETA:     0s"
     ]
    },
    {
     "name": "stderr",
     "output_type": "stream",
     "text": [
      "2022-05-26 18:46:26,260 - mmdet - INFO - model initialization done.\n"
     ]
    },
    {
     "name": "stdout",
     "output_type": "stream",
     "text": [
      "[>>>>>>>>>>>>>>>>>>>>>>>>>>>>>] 712/712, 12.5 task/s, elapsed: 57s, ETA:     0s\n",
      "---------------iou_thr: 0.5---------------\n"
     ]
    },
    {
     "name": "stderr",
     "output_type": "stream",
     "text": [
      "2022-05-26 18:47:23,474 - mmfewshot - INFO - \n",
      "+----------+-----+------+--------+-------+\n",
      "| class    | gts | dets | recall | ap    |\n",
      "+----------+-----+------+--------+-------+\n",
      "| 7up      | 810 | 3394 | 0.696  | 0.370 |\n",
      "| BudLight | 209 | 493  | 0.531  | 0.288 |\n",
      "+----------+-----+------+--------+-------+\n",
      "| mAP      |     |      |        | 0.329 |\n",
      "+----------+-----+------+--------+-------+\n",
      "2022-05-26 18:47:23,478 - mmfewshot - INFO - BASE_CLASSES_SPLIT1 mAP: 0.32911866903305054\n",
      "2022-05-26 18:47:23,479 - mmfewshot - INFO - NOVEL_CLASSES_SPLIT1 mAP: nan\n",
      "2022-05-26 18:47:23,484 - mmfewshot - INFO - Exp name: attention-rpn_r50_c4_tb-split1_1shot-fine-tuning-momentum-09.py\n",
      "2022-05-26 18:47:23,485 - mmfewshot - INFO - Iter(val) [712]\tAP50: 0.3290, BASE_CLASSES_SPLIT1: AP50: 0.3290, NOVEL_CLASSES_SPLIT1: AP50: nan, mAP: 0.3291\n",
      "2022-05-26 18:47:36,937 - mmfewshot - INFO - Iter [82050/100000]\tlr: 1.000e-04, eta: 1:39:32, time: 1.577, data_time: 1.320, memory: 5635, loss_rpn_cls: 0.0050, loss_rpn_bbox: 0.0054, loss_cls: 0.0227, acc: 99.7891, loss_bbox: 0.2967, loss: 0.3299\n",
      "2022-05-26 18:47:50,373 - mmfewshot - INFO - Iter [82100/100000]\tlr: 1.000e-04, eta: 1:39:14, time: 0.269, data_time: 0.011, memory: 5635, loss_rpn_cls: 0.0043, loss_rpn_bbox: 0.0063, loss_cls: 0.0290, acc: 99.6641, loss_bbox: 0.3368, loss: 0.3764\n",
      "2022-05-26 18:48:03,822 - mmfewshot - INFO - Iter [82150/100000]\tlr: 1.000e-04, eta: 1:38:57, time: 0.269, data_time: 0.012, memory: 5635, loss_rpn_cls: 0.0045, loss_rpn_bbox: 0.0038, loss_cls: 0.0234, acc: 99.7266, loss_bbox: 0.2879, loss: 0.3197\n",
      "2022-05-26 18:48:17,390 - mmfewshot - INFO - Iter [82200/100000]\tlr: 1.000e-04, eta: 1:38:40, time: 0.271, data_time: 0.012, memory: 5635, loss_rpn_cls: 0.0052, loss_rpn_bbox: 0.0060, loss_cls: 0.0352, acc: 99.7422, loss_bbox: 0.2819, loss: 0.3283\n",
      "2022-05-26 18:48:30,773 - mmfewshot - INFO - Iter [82250/100000]\tlr: 1.000e-04, eta: 1:38:23, time: 0.267, data_time: 0.012, memory: 5635, loss_rpn_cls: 0.0047, loss_rpn_bbox: 0.0040, loss_cls: 0.0259, acc: 99.8125, loss_bbox: 0.2808, loss: 0.3154\n",
      "2022-05-26 18:48:44,215 - mmfewshot - INFO - Iter [82300/100000]\tlr: 1.000e-04, eta: 1:38:05, time: 0.269, data_time: 0.012, memory: 5635, loss_rpn_cls: 0.0060, loss_rpn_bbox: 0.0074, loss_cls: 0.0358, acc: 99.6406, loss_bbox: 0.2919, loss: 0.3411\n",
      "2022-05-26 18:48:57,771 - mmfewshot - INFO - Iter [82350/100000]\tlr: 1.000e-04, eta: 1:37:48, time: 0.271, data_time: 0.013, memory: 5635, loss_rpn_cls: 0.0041, loss_rpn_bbox: 0.0045, loss_cls: 0.0285, acc: 99.6641, loss_bbox: 0.2971, loss: 0.3343\n",
      "2022-05-26 18:49:11,236 - mmfewshot - INFO - Iter [82400/100000]\tlr: 1.000e-04, eta: 1:37:31, time: 0.269, data_time: 0.012, memory: 5635, loss_rpn_cls: 0.0050, loss_rpn_bbox: 0.0040, loss_cls: 0.0326, acc: 99.7188, loss_bbox: 0.2859, loss: 0.3276\n",
      "2022-05-26 18:49:24,704 - mmfewshot - INFO - Iter [82450/100000]\tlr: 1.000e-04, eta: 1:37:13, time: 0.269, data_time: 0.011, memory: 5635, loss_rpn_cls: 0.0065, loss_rpn_bbox: 0.0052, loss_cls: 0.0284, acc: 99.6562, loss_bbox: 0.3077, loss: 0.3477\n",
      "2022-05-26 18:49:38,048 - mmfewshot - INFO - Iter [82500/100000]\tlr: 1.000e-04, eta: 1:36:56, time: 0.267, data_time: 0.012, memory: 5635, loss_rpn_cls: 0.0055, loss_rpn_bbox: 0.0067, loss_cls: 0.0289, acc: 99.6484, loss_bbox: 0.2961, loss: 0.3371\n",
      "2022-05-26 18:49:51,637 - mmfewshot - INFO - Iter [82550/100000]\tlr: 1.000e-04, eta: 1:36:39, time: 0.272, data_time: 0.012, memory: 5635, loss_rpn_cls: 0.0049, loss_rpn_bbox: 0.0056, loss_cls: 0.0267, acc: 99.6719, loss_bbox: 0.2911, loss: 0.3284\n",
      "2022-05-26 18:50:05,039 - mmfewshot - INFO - Iter [82600/100000]\tlr: 1.000e-04, eta: 1:36:21, time: 0.268, data_time: 0.012, memory: 5635, loss_rpn_cls: 0.0055, loss_rpn_bbox: 0.0060, loss_cls: 0.0271, acc: 99.7344, loss_bbox: 0.2866, loss: 0.3251\n",
      "2022-05-26 18:50:18,555 - mmfewshot - INFO - Iter [82650/100000]\tlr: 1.000e-04, eta: 1:36:04, time: 0.270, data_time: 0.012, memory: 5635, loss_rpn_cls: 0.0033, loss_rpn_bbox: 0.0034, loss_cls: 0.0217, acc: 99.7344, loss_bbox: 0.2694, loss: 0.2978\n",
      "2022-05-26 18:50:31,987 - mmfewshot - INFO - Iter [82700/100000]\tlr: 1.000e-04, eta: 1:35:47, time: 0.269, data_time: 0.012, memory: 5635, loss_rpn_cls: 0.0053, loss_rpn_bbox: 0.0044, loss_cls: 0.0256, acc: 99.7422, loss_bbox: 0.2980, loss: 0.3333\n",
      "2022-05-26 18:50:45,336 - mmfewshot - INFO - Iter [82750/100000]\tlr: 1.000e-04, eta: 1:35:30, time: 0.267, data_time: 0.011, memory: 5635, loss_rpn_cls: 0.0047, loss_rpn_bbox: 0.0049, loss_cls: 0.0279, acc: 99.6797, loss_bbox: 0.3016, loss: 0.3391\n",
      "2022-05-26 18:50:58,792 - mmfewshot - INFO - Iter [82800/100000]\tlr: 1.000e-04, eta: 1:35:12, time: 0.269, data_time: 0.012, memory: 5635, loss_rpn_cls: 0.0044, loss_rpn_bbox: 0.0031, loss_cls: 0.0268, acc: 99.7109, loss_bbox: 0.2782, loss: 0.3125\n",
      "2022-05-26 18:51:12,254 - mmfewshot - INFO - Iter [82850/100000]\tlr: 1.000e-04, eta: 1:34:55, time: 0.269, data_time: 0.012, memory: 5635, loss_rpn_cls: 0.0050, loss_rpn_bbox: 0.0054, loss_cls: 0.0236, acc: 99.8047, loss_bbox: 0.2865, loss: 0.3205\n",
      "2022-05-26 18:51:25,614 - mmfewshot - INFO - Iter [82900/100000]\tlr: 1.000e-04, eta: 1:34:38, time: 0.267, data_time: 0.010, memory: 5635, loss_rpn_cls: 0.0047, loss_rpn_bbox: 0.0058, loss_cls: 0.0291, acc: 99.7188, loss_bbox: 0.3100, loss: 0.3496\n",
      "2022-05-26 18:51:39,210 - mmfewshot - INFO - Iter [82950/100000]\tlr: 1.000e-04, eta: 1:34:21, time: 0.272, data_time: 0.011, memory: 5635, loss_rpn_cls: 0.0028, loss_rpn_bbox: 0.0041, loss_cls: 0.0268, acc: 99.7188, loss_bbox: 0.2625, loss: 0.2963\n",
      "2022-05-26 18:51:52,556 - mmfewshot - INFO - Exp name: attention-rpn_r50_c4_tb-split1_1shot-fine-tuning-momentum-09.py\n",
      "2022-05-26 18:51:52,558 - mmfewshot - INFO - Iter [83000/100000]\tlr: 1.000e-04, eta: 1:34:03, time: 0.267, data_time: 0.012, memory: 5635, loss_rpn_cls: 0.0042, loss_rpn_bbox: 0.0057, loss_cls: 0.0327, acc: 99.7188, loss_bbox: 0.2673, loss: 0.3100\n",
      "2022-05-26 18:51:52,563 - mmdet - INFO - starting model initialization...\n"
     ]
    },
    {
     "name": "stdout",
     "output_type": "stream",
     "text": [
      "[>>>>>>>>>>>>>>>>>>>>>>>>>>>>>>] 640/640, 81.6 task/s, elapsed: 8s, ETA:     0s"
     ]
    },
    {
     "name": "stderr",
     "output_type": "stream",
     "text": [
      "2022-05-26 18:52:00,485 - mmdet - INFO - model initialization done.\n"
     ]
    },
    {
     "name": "stdout",
     "output_type": "stream",
     "text": [
      "[>>>>>>>>>>>>>>>>>>>>>>>>>>>>>] 712/712, 12.7 task/s, elapsed: 56s, ETA:     0s\n",
      "---------------iou_thr: 0.5---------------\n"
     ]
    },
    {
     "name": "stderr",
     "output_type": "stream",
     "text": [
      "2022-05-26 18:52:57,028 - mmfewshot - INFO - \n",
      "+----------+-----+------+--------+-------+\n",
      "| class    | gts | dets | recall | ap    |\n",
      "+----------+-----+------+--------+-------+\n",
      "| 7up      | 810 | 2950 | 0.709  | 0.431 |\n",
      "| BudLight | 209 | 582  | 0.565  | 0.302 |\n",
      "+----------+-----+------+--------+-------+\n",
      "| mAP      |     |      |        | 0.366 |\n",
      "+----------+-----+------+--------+-------+\n",
      "2022-05-26 18:52:57,032 - mmfewshot - INFO - BASE_CLASSES_SPLIT1 mAP: 0.366474449634552\n",
      "2022-05-26 18:52:57,033 - mmfewshot - INFO - NOVEL_CLASSES_SPLIT1 mAP: nan\n",
      "2022-05-26 18:52:57,037 - mmfewshot - INFO - Exp name: attention-rpn_r50_c4_tb-split1_1shot-fine-tuning-momentum-09.py\n",
      "2022-05-26 18:52:57,039 - mmfewshot - INFO - Iter(val) [712]\tAP50: 0.3660, BASE_CLASSES_SPLIT1: AP50: 0.3660, NOVEL_CLASSES_SPLIT1: AP50: nan, mAP: 0.3665\n",
      "2022-05-26 18:53:10,453 - mmfewshot - INFO - Iter [83050/100000]\tlr: 1.000e-04, eta: 1:33:59, time: 1.558, data_time: 1.301, memory: 5635, loss_rpn_cls: 0.0052, loss_rpn_bbox: 0.0041, loss_cls: 0.0323, acc: 99.7109, loss_bbox: 0.2808, loss: 0.3225\n",
      "2022-05-26 18:53:23,909 - mmfewshot - INFO - Iter [83100/100000]\tlr: 1.000e-04, eta: 1:33:42, time: 0.269, data_time: 0.012, memory: 5635, loss_rpn_cls: 0.0055, loss_rpn_bbox: 0.0052, loss_cls: 0.0235, acc: 99.7031, loss_bbox: 0.3357, loss: 0.3699\n",
      "2022-05-26 18:53:37,321 - mmfewshot - INFO - Iter [83150/100000]\tlr: 1.000e-04, eta: 1:33:25, time: 0.268, data_time: 0.012, memory: 5635, loss_rpn_cls: 0.0095, loss_rpn_bbox: 0.0094, loss_cls: 0.0307, acc: 99.6406, loss_bbox: 0.3255, loss: 0.3751\n",
      "2022-05-26 18:53:50,827 - mmfewshot - INFO - Iter [83200/100000]\tlr: 1.000e-04, eta: 1:33:07, time: 0.270, data_time: 0.011, memory: 5635, loss_rpn_cls: 0.0067, loss_rpn_bbox: 0.0057, loss_cls: 0.0340, acc: 99.6172, loss_bbox: 0.3055, loss: 0.3519\n",
      "2022-05-26 18:54:04,230 - mmfewshot - INFO - Iter [83250/100000]\tlr: 1.000e-04, eta: 1:32:50, time: 0.268, data_time: 0.010, memory: 5635, loss_rpn_cls: 0.0058, loss_rpn_bbox: 0.0068, loss_cls: 0.0281, acc: 99.7031, loss_bbox: 0.2909, loss: 0.3315\n",
      "2022-05-26 18:54:17,513 - mmfewshot - INFO - Iter [83300/100000]\tlr: 1.000e-04, eta: 1:32:33, time: 0.266, data_time: 0.010, memory: 5635, loss_rpn_cls: 0.0052, loss_rpn_bbox: 0.0035, loss_cls: 0.0287, acc: 99.6875, loss_bbox: 0.2777, loss: 0.3151\n",
      "2022-05-26 18:54:30,804 - mmfewshot - INFO - Iter [83350/100000]\tlr: 1.000e-04, eta: 1:32:16, time: 0.266, data_time: 0.011, memory: 5635, loss_rpn_cls: 0.0050, loss_rpn_bbox: 0.0058, loss_cls: 0.0321, acc: 99.7500, loss_bbox: 0.2975, loss: 0.3403\n",
      "2022-05-26 18:54:44,179 - mmfewshot - INFO - Iter [83400/100000]\tlr: 1.000e-04, eta: 1:31:58, time: 0.267, data_time: 0.012, memory: 5635, loss_rpn_cls: 0.0046, loss_rpn_bbox: 0.0037, loss_cls: 0.0312, acc: 99.6562, loss_bbox: 0.2639, loss: 0.3035\n",
      "2022-05-26 18:54:57,556 - mmfewshot - INFO - Iter [83450/100000]\tlr: 1.000e-04, eta: 1:31:41, time: 0.268, data_time: 0.012, memory: 5635, loss_rpn_cls: 0.0050, loss_rpn_bbox: 0.0067, loss_cls: 0.0292, acc: 99.6797, loss_bbox: 0.2904, loss: 0.3313\n",
      "2022-05-26 18:55:10,915 - mmfewshot - INFO - Iter [83500/100000]\tlr: 1.000e-04, eta: 1:31:24, time: 0.267, data_time: 0.011, memory: 5635, loss_rpn_cls: 0.0052, loss_rpn_bbox: 0.0049, loss_cls: 0.0342, acc: 99.7109, loss_bbox: 0.3116, loss: 0.3559\n",
      "2022-05-26 18:55:24,213 - mmfewshot - INFO - Iter [83550/100000]\tlr: 1.000e-04, eta: 1:31:06, time: 0.266, data_time: 0.012, memory: 5635, loss_rpn_cls: 0.0034, loss_rpn_bbox: 0.0029, loss_cls: 0.0219, acc: 99.7656, loss_bbox: 0.2907, loss: 0.3188\n",
      "2022-05-26 18:55:37,561 - mmfewshot - INFO - Iter [83600/100000]\tlr: 1.000e-04, eta: 1:30:49, time: 0.267, data_time: 0.011, memory: 5635, loss_rpn_cls: 0.0036, loss_rpn_bbox: 0.0034, loss_cls: 0.0282, acc: 99.7188, loss_bbox: 0.2899, loss: 0.3251\n",
      "2022-05-26 18:55:51,025 - mmfewshot - INFO - Iter [83650/100000]\tlr: 1.000e-04, eta: 1:30:32, time: 0.269, data_time: 0.011, memory: 5635, loss_rpn_cls: 0.0052, loss_rpn_bbox: 0.0050, loss_cls: 0.0219, acc: 99.7344, loss_bbox: 0.3292, loss: 0.3613\n",
      "2022-05-26 18:56:04,430 - mmfewshot - INFO - Iter [83700/100000]\tlr: 1.000e-04, eta: 1:30:15, time: 0.268, data_time: 0.011, memory: 5635, loss_rpn_cls: 0.0061, loss_rpn_bbox: 0.0077, loss_cls: 0.0294, acc: 99.6953, loss_bbox: 0.3135, loss: 0.3567\n",
      "2022-05-26 18:56:17,969 - mmfewshot - INFO - Iter [83750/100000]\tlr: 1.000e-04, eta: 1:29:58, time: 0.271, data_time: 0.012, memory: 5635, loss_rpn_cls: 0.0068, loss_rpn_bbox: 0.0056, loss_cls: 0.0319, acc: 99.6562, loss_bbox: 0.2591, loss: 0.3033\n",
      "2022-05-26 18:56:31,409 - mmfewshot - INFO - Iter [83800/100000]\tlr: 1.000e-04, eta: 1:29:40, time: 0.269, data_time: 0.012, memory: 5635, loss_rpn_cls: 0.0056, loss_rpn_bbox: 0.0035, loss_cls: 0.0232, acc: 99.8125, loss_bbox: 0.2455, loss: 0.2778\n",
      "2022-05-26 18:56:44,840 - mmfewshot - INFO - Iter [83850/100000]\tlr: 1.000e-04, eta: 1:29:23, time: 0.269, data_time: 0.011, memory: 5635, loss_rpn_cls: 0.0048, loss_rpn_bbox: 0.0057, loss_cls: 0.0243, acc: 99.7812, loss_bbox: 0.3061, loss: 0.3408\n",
      "2022-05-26 18:56:58,055 - mmfewshot - INFO - Iter [83900/100000]\tlr: 1.000e-04, eta: 1:29:06, time: 0.264, data_time: 0.010, memory: 5635, loss_rpn_cls: 0.0040, loss_rpn_bbox: 0.0033, loss_cls: 0.0287, acc: 99.8281, loss_bbox: 0.2648, loss: 0.3009\n",
      "2022-05-26 18:57:11,525 - mmfewshot - INFO - Iter [83950/100000]\tlr: 1.000e-04, eta: 1:28:49, time: 0.270, data_time: 0.013, memory: 5635, loss_rpn_cls: 0.0040, loss_rpn_bbox: 0.0032, loss_cls: 0.0415, acc: 99.6484, loss_bbox: 0.3051, loss: 0.3538\n",
      "2022-05-26 18:57:25,081 - mmfewshot - INFO - Exp name: attention-rpn_r50_c4_tb-split1_1shot-fine-tuning-momentum-09.py\n",
      "2022-05-26 18:57:25,083 - mmfewshot - INFO - Iter [84000/100000]\tlr: 1.000e-04, eta: 1:28:31, time: 0.271, data_time: 0.012, memory: 5635, loss_rpn_cls: 0.0043, loss_rpn_bbox: 0.0049, loss_cls: 0.0366, acc: 99.6641, loss_bbox: 0.2899, loss: 0.3357\n",
      "2022-05-26 18:57:25,088 - mmdet - INFO - starting model initialization...\n"
     ]
    },
    {
     "name": "stdout",
     "output_type": "stream",
     "text": [
      "[>>>>>>>>>>>>>>>>>>>>>>>>>>>>>>] 640/640, 79.8 task/s, elapsed: 8s, ETA:     0s"
     ]
    },
    {
     "name": "stderr",
     "output_type": "stream",
     "text": [
      "2022-05-26 18:57:33,181 - mmdet - INFO - model initialization done.\n"
     ]
    },
    {
     "name": "stdout",
     "output_type": "stream",
     "text": [
      "[>>>>>>>>>>>>>>>>>>>>>>>>>>>>>] 712/712, 12.5 task/s, elapsed: 57s, ETA:     0s\n",
      "---------------iou_thr: 0.5---------------\n"
     ]
    },
    {
     "name": "stderr",
     "output_type": "stream",
     "text": [
      "2022-05-26 18:58:30,607 - mmfewshot - INFO - \n",
      "+----------+-----+------+--------+-------+\n",
      "| class    | gts | dets | recall | ap    |\n",
      "+----------+-----+------+--------+-------+\n",
      "| 7up      | 810 | 2826 | 0.667  | 0.363 |\n",
      "| BudLight | 209 | 474  | 0.536  | 0.301 |\n",
      "+----------+-----+------+--------+-------+\n",
      "| mAP      |     |      |        | 0.332 |\n",
      "+----------+-----+------+--------+-------+\n",
      "2022-05-26 18:58:30,610 - mmfewshot - INFO - BASE_CLASSES_SPLIT1 mAP: 0.3319532871246338\n",
      "2022-05-26 18:58:30,611 - mmfewshot - INFO - NOVEL_CLASSES_SPLIT1 mAP: nan\n",
      "2022-05-26 18:58:30,616 - mmfewshot - INFO - Exp name: attention-rpn_r50_c4_tb-split1_1shot-fine-tuning-momentum-09.py\n",
      "2022-05-26 18:58:30,617 - mmfewshot - INFO - Iter(val) [712]\tAP50: 0.3320, BASE_CLASSES_SPLIT1: AP50: 0.3320, NOVEL_CLASSES_SPLIT1: AP50: nan, mAP: 0.3320\n",
      "2022-05-26 18:58:44,134 - mmfewshot - INFO - Iter [84050/100000]\tlr: 1.000e-04, eta: 1:28:27, time: 1.581, data_time: 1.322, memory: 5635, loss_rpn_cls: 0.0040, loss_rpn_bbox: 0.0040, loss_cls: 0.0254, acc: 99.7109, loss_bbox: 0.3077, loss: 0.3411\n",
      "2022-05-26 18:58:57,631 - mmfewshot - INFO - Iter [84100/100000]\tlr: 1.000e-04, eta: 1:28:09, time: 0.270, data_time: 0.012, memory: 5635, loss_rpn_cls: 0.0061, loss_rpn_bbox: 0.0048, loss_cls: 0.0362, acc: 99.6250, loss_bbox: 0.2696, loss: 0.3166\n",
      "2022-05-26 18:59:11,081 - mmfewshot - INFO - Iter [84150/100000]\tlr: 1.000e-04, eta: 1:27:52, time: 0.269, data_time: 0.012, memory: 5635, loss_rpn_cls: 0.0049, loss_rpn_bbox: 0.0061, loss_cls: 0.0361, acc: 99.7891, loss_bbox: 0.2711, loss: 0.3180\n",
      "2022-05-26 18:59:24,470 - mmfewshot - INFO - Iter [84200/100000]\tlr: 1.000e-04, eta: 1:27:35, time: 0.268, data_time: 0.012, memory: 5635, loss_rpn_cls: 0.0033, loss_rpn_bbox: 0.0048, loss_cls: 0.0357, acc: 99.6484, loss_bbox: 0.2982, loss: 0.3420\n",
      "2022-05-26 18:59:37,852 - mmfewshot - INFO - Iter [84250/100000]\tlr: 1.000e-04, eta: 1:27:18, time: 0.268, data_time: 0.012, memory: 5635, loss_rpn_cls: 0.0038, loss_rpn_bbox: 0.0040, loss_cls: 0.0296, acc: 99.6016, loss_bbox: 0.3011, loss: 0.3385\n",
      "2022-05-26 18:59:51,233 - mmfewshot - INFO - Iter [84300/100000]\tlr: 1.000e-04, eta: 1:27:01, time: 0.268, data_time: 0.011, memory: 5635, loss_rpn_cls: 0.0040, loss_rpn_bbox: 0.0050, loss_cls: 0.0270, acc: 99.7500, loss_bbox: 0.3067, loss: 0.3426\n",
      "2022-05-26 19:00:04,655 - mmfewshot - INFO - Iter [84350/100000]\tlr: 1.000e-04, eta: 1:26:43, time: 0.268, data_time: 0.011, memory: 5635, loss_rpn_cls: 0.0039, loss_rpn_bbox: 0.0035, loss_cls: 0.0278, acc: 99.7500, loss_bbox: 0.2825, loss: 0.3178\n",
      "2022-05-26 19:00:17,918 - mmfewshot - INFO - Iter [84400/100000]\tlr: 1.000e-04, eta: 1:26:26, time: 0.265, data_time: 0.011, memory: 5635, loss_rpn_cls: 0.0052, loss_rpn_bbox: 0.0054, loss_cls: 0.0248, acc: 99.7031, loss_bbox: 0.2981, loss: 0.3335\n",
      "2022-05-26 19:00:31,445 - mmfewshot - INFO - Iter [84450/100000]\tlr: 1.000e-04, eta: 1:26:09, time: 0.271, data_time: 0.012, memory: 5635, loss_rpn_cls: 0.0043, loss_rpn_bbox: 0.0055, loss_cls: 0.0234, acc: 99.7188, loss_bbox: 0.2811, loss: 0.3143\n",
      "2022-05-26 19:00:44,816 - mmfewshot - INFO - Iter [84500/100000]\tlr: 1.000e-04, eta: 1:25:52, time: 0.268, data_time: 0.011, memory: 5635, loss_rpn_cls: 0.0045, loss_rpn_bbox: 0.0054, loss_cls: 0.0378, acc: 99.6406, loss_bbox: 0.2795, loss: 0.3272\n",
      "2022-05-26 19:00:58,185 - mmfewshot - INFO - Iter [84550/100000]\tlr: 1.000e-04, eta: 1:25:34, time: 0.267, data_time: 0.011, memory: 5635, loss_rpn_cls: 0.0101, loss_rpn_bbox: 0.0072, loss_cls: 0.0367, acc: 99.5859, loss_bbox: 0.2678, loss: 0.3218\n",
      "2022-05-26 19:01:11,476 - mmfewshot - INFO - Iter [84600/100000]\tlr: 1.000e-04, eta: 1:25:17, time: 0.266, data_time: 0.011, memory: 5635, loss_rpn_cls: 0.0049, loss_rpn_bbox: 0.0032, loss_cls: 0.0318, acc: 99.6953, loss_bbox: 0.2617, loss: 0.3016\n",
      "2022-05-26 19:01:25,023 - mmfewshot - INFO - Iter [84650/100000]\tlr: 1.000e-04, eta: 1:25:00, time: 0.271, data_time: 0.011, memory: 5635, loss_rpn_cls: 0.0036, loss_rpn_bbox: 0.0035, loss_cls: 0.0349, acc: 99.6250, loss_bbox: 0.2938, loss: 0.3357\n",
      "2022-05-26 19:01:38,306 - mmfewshot - INFO - Iter [84700/100000]\tlr: 1.000e-04, eta: 1:24:43, time: 0.266, data_time: 0.011, memory: 5635, loss_rpn_cls: 0.0034, loss_rpn_bbox: 0.0053, loss_cls: 0.0298, acc: 99.6562, loss_bbox: 0.2898, loss: 0.3283\n",
      "2022-05-26 19:01:51,622 - mmfewshot - INFO - Iter [84750/100000]\tlr: 1.000e-04, eta: 1:24:26, time: 0.267, data_time: 0.011, memory: 5635, loss_rpn_cls: 0.0031, loss_rpn_bbox: 0.0048, loss_cls: 0.0371, acc: 99.7344, loss_bbox: 0.3177, loss: 0.3627\n",
      "2022-05-26 19:02:05,053 - mmfewshot - INFO - Iter [84800/100000]\tlr: 1.000e-04, eta: 1:24:08, time: 0.268, data_time: 0.011, memory: 5635, loss_rpn_cls: 0.0038, loss_rpn_bbox: 0.0041, loss_cls: 0.0233, acc: 99.7188, loss_bbox: 0.2863, loss: 0.3176\n",
      "2022-05-26 19:02:18,380 - mmfewshot - INFO - Iter [84850/100000]\tlr: 1.000e-04, eta: 1:23:51, time: 0.267, data_time: 0.011, memory: 5635, loss_rpn_cls: 0.0034, loss_rpn_bbox: 0.0034, loss_cls: 0.0340, acc: 99.6484, loss_bbox: 0.2647, loss: 0.3056\n",
      "2022-05-26 19:02:31,776 - mmfewshot - INFO - Iter [84900/100000]\tlr: 1.000e-04, eta: 1:23:34, time: 0.268, data_time: 0.012, memory: 5635, loss_rpn_cls: 0.0056, loss_rpn_bbox: 0.0036, loss_cls: 0.0394, acc: 99.6641, loss_bbox: 0.2640, loss: 0.3127\n",
      "2022-05-26 19:02:45,413 - mmfewshot - INFO - Iter [84950/100000]\tlr: 1.000e-04, eta: 1:23:17, time: 0.273, data_time: 0.012, memory: 5635, loss_rpn_cls: 0.0040, loss_rpn_bbox: 0.0053, loss_cls: 0.0265, acc: 99.7109, loss_bbox: 0.2818, loss: 0.3176\n",
      "2022-05-26 19:02:58,668 - mmfewshot - INFO - Exp name: attention-rpn_r50_c4_tb-split1_1shot-fine-tuning-momentum-09.py\n",
      "2022-05-26 19:02:58,670 - mmfewshot - INFO - Iter [85000/100000]\tlr: 1.000e-04, eta: 1:23:00, time: 0.265, data_time: 0.012, memory: 5635, loss_rpn_cls: 0.0041, loss_rpn_bbox: 0.0041, loss_cls: 0.0297, acc: 99.6953, loss_bbox: 0.2580, loss: 0.2959\n",
      "2022-05-26 19:02:58,675 - mmdet - INFO - starting model initialization...\n"
     ]
    },
    {
     "name": "stdout",
     "output_type": "stream",
     "text": [
      "[>>>>>>>>>>>>>>>>>>>>>>>>>>>>>>] 640/640, 74.6 task/s, elapsed: 9s, ETA:     0s"
     ]
    },
    {
     "name": "stderr",
     "output_type": "stream",
     "text": [
      "2022-05-26 19:03:07,324 - mmdet - INFO - model initialization done.\n"
     ]
    },
    {
     "name": "stdout",
     "output_type": "stream",
     "text": [
      "[>>>>>>>>>>>>>>>>>>>>>>>>>>>>>] 712/712, 12.6 task/s, elapsed: 57s, ETA:     0s\n",
      "---------------iou_thr: 0.5---------------\n"
     ]
    },
    {
     "name": "stderr",
     "output_type": "stream",
     "text": [
      "2022-05-26 19:04:04,487 - mmfewshot - INFO - \n",
      "+----------+-----+------+--------+-------+\n",
      "| class    | gts | dets | recall | ap    |\n",
      "+----------+-----+------+--------+-------+\n",
      "| 7up      | 810 | 2795 | 0.681  | 0.390 |\n",
      "| BudLight | 209 | 561  | 0.550  | 0.302 |\n",
      "+----------+-----+------+--------+-------+\n",
      "| mAP      |     |      |        | 0.346 |\n",
      "+----------+-----+------+--------+-------+\n",
      "2022-05-26 19:04:04,490 - mmfewshot - INFO - BASE_CLASSES_SPLIT1 mAP: 0.34598875045776367\n",
      "2022-05-26 19:04:04,492 - mmfewshot - INFO - NOVEL_CLASSES_SPLIT1 mAP: nan\n",
      "2022-05-26 19:04:04,498 - mmfewshot - INFO - Exp name: attention-rpn_r50_c4_tb-split1_1shot-fine-tuning-momentum-09.py\n",
      "2022-05-26 19:04:04,499 - mmfewshot - INFO - Iter(val) [712]\tAP50: 0.3460, BASE_CLASSES_SPLIT1: AP50: 0.3460, NOVEL_CLASSES_SPLIT1: AP50: nan, mAP: 0.3460\n",
      "2022-05-26 19:04:18,069 - mmfewshot - INFO - Iter [85050/100000]\tlr: 1.000e-04, eta: 1:22:54, time: 1.588, data_time: 1.328, memory: 5635, loss_rpn_cls: 0.0046, loss_rpn_bbox: 0.0057, loss_cls: 0.0258, acc: 99.7578, loss_bbox: 0.2749, loss: 0.3110\n",
      "2022-05-26 19:04:31,447 - mmfewshot - INFO - Iter [85100/100000]\tlr: 1.000e-04, eta: 1:22:37, time: 0.267, data_time: 0.011, memory: 5635, loss_rpn_cls: 0.0044, loss_rpn_bbox: 0.0047, loss_cls: 0.0303, acc: 99.7031, loss_bbox: 0.2762, loss: 0.3157\n",
      "2022-05-26 19:04:45,030 - mmfewshot - INFO - Iter [85150/100000]\tlr: 1.000e-04, eta: 1:22:20, time: 0.272, data_time: 0.012, memory: 5635, loss_rpn_cls: 0.0034, loss_rpn_bbox: 0.0064, loss_cls: 0.0348, acc: 99.6875, loss_bbox: 0.3194, loss: 0.3640\n",
      "2022-05-26 19:04:58,227 - mmfewshot - INFO - Iter [85200/100000]\tlr: 1.000e-04, eta: 1:22:03, time: 0.264, data_time: 0.011, memory: 5635, loss_rpn_cls: 0.0059, loss_rpn_bbox: 0.0041, loss_cls: 0.0268, acc: 99.7734, loss_bbox: 0.2786, loss: 0.3155\n",
      "2022-05-26 19:05:11,545 - mmfewshot - INFO - Iter [85250/100000]\tlr: 1.000e-04, eta: 1:21:45, time: 0.266, data_time: 0.011, memory: 5635, loss_rpn_cls: 0.0047, loss_rpn_bbox: 0.0051, loss_cls: 0.0366, acc: 99.7188, loss_bbox: 0.3005, loss: 0.3468\n",
      "2022-05-26 19:05:24,742 - mmfewshot - INFO - Iter [85300/100000]\tlr: 1.000e-04, eta: 1:21:28, time: 0.264, data_time: 0.010, memory: 5635, loss_rpn_cls: 0.0040, loss_rpn_bbox: 0.0086, loss_cls: 0.0342, acc: 99.6875, loss_bbox: 0.3041, loss: 0.3508\n",
      "2022-05-26 19:05:38,039 - mmfewshot - INFO - Iter [85350/100000]\tlr: 1.000e-04, eta: 1:21:11, time: 0.266, data_time: 0.011, memory: 5635, loss_rpn_cls: 0.0058, loss_rpn_bbox: 0.0096, loss_cls: 0.0224, acc: 99.7422, loss_bbox: 0.2810, loss: 0.3187\n",
      "2022-05-26 19:05:51,322 - mmfewshot - INFO - Iter [85400/100000]\tlr: 1.000e-04, eta: 1:20:54, time: 0.266, data_time: 0.011, memory: 5635, loss_rpn_cls: 0.0054, loss_rpn_bbox: 0.0040, loss_cls: 0.0232, acc: 99.8203, loss_bbox: 0.2581, loss: 0.2907\n",
      "2022-05-26 19:06:04,767 - mmfewshot - INFO - Iter [85450/100000]\tlr: 1.000e-04, eta: 1:20:37, time: 0.269, data_time: 0.012, memory: 5635, loss_rpn_cls: 0.0044, loss_rpn_bbox: 0.0048, loss_cls: 0.0264, acc: 99.6484, loss_bbox: 0.3119, loss: 0.3475\n",
      "2022-05-26 19:06:17,942 - mmfewshot - INFO - Iter [85500/100000]\tlr: 1.000e-04, eta: 1:20:19, time: 0.264, data_time: 0.011, memory: 5635, loss_rpn_cls: 0.0037, loss_rpn_bbox: 0.0029, loss_cls: 0.0382, acc: 99.6250, loss_bbox: 0.2730, loss: 0.3177\n",
      "2022-05-26 19:06:31,183 - mmfewshot - INFO - Iter [85550/100000]\tlr: 1.000e-04, eta: 1:20:02, time: 0.265, data_time: 0.011, memory: 5635, loss_rpn_cls: 0.0045, loss_rpn_bbox: 0.0048, loss_cls: 0.0349, acc: 99.6562, loss_bbox: 0.2942, loss: 0.3383\n",
      "2022-05-26 19:06:44,496 - mmfewshot - INFO - Iter [85600/100000]\tlr: 1.000e-04, eta: 1:19:45, time: 0.266, data_time: 0.011, memory: 5635, loss_rpn_cls: 0.0048, loss_rpn_bbox: 0.0029, loss_cls: 0.0465, acc: 99.6250, loss_bbox: 0.2778, loss: 0.3320\n",
      "2022-05-26 19:06:57,822 - mmfewshot - INFO - Iter [85650/100000]\tlr: 1.000e-04, eta: 1:19:28, time: 0.266, data_time: 0.011, memory: 5635, loss_rpn_cls: 0.0048, loss_rpn_bbox: 0.0040, loss_cls: 0.0300, acc: 99.7422, loss_bbox: 0.2914, loss: 0.3302\n",
      "2022-05-26 19:07:11,263 - mmfewshot - INFO - Iter [85700/100000]\tlr: 1.000e-04, eta: 1:19:11, time: 0.269, data_time: 0.012, memory: 5635, loss_rpn_cls: 0.0037, loss_rpn_bbox: 0.0046, loss_cls: 0.0255, acc: 99.7188, loss_bbox: 0.2826, loss: 0.3164\n",
      "2022-05-26 19:07:24,699 - mmfewshot - INFO - Iter [85750/100000]\tlr: 1.000e-04, eta: 1:18:54, time: 0.269, data_time: 0.012, memory: 5635, loss_rpn_cls: 0.0033, loss_rpn_bbox: 0.0034, loss_cls: 0.0222, acc: 99.7812, loss_bbox: 0.2677, loss: 0.2965\n",
      "2022-05-26 19:07:37,972 - mmfewshot - INFO - Iter [85800/100000]\tlr: 1.000e-04, eta: 1:18:36, time: 0.265, data_time: 0.011, memory: 5635, loss_rpn_cls: 0.0059, loss_rpn_bbox: 0.0082, loss_cls: 0.0255, acc: 99.7109, loss_bbox: 0.3115, loss: 0.3511\n",
      "2022-05-26 19:07:51,212 - mmfewshot - INFO - Iter [85850/100000]\tlr: 1.000e-04, eta: 1:18:19, time: 0.265, data_time: 0.010, memory: 5635, loss_rpn_cls: 0.0063, loss_rpn_bbox: 0.0093, loss_cls: 0.0280, acc: 99.7188, loss_bbox: 0.3086, loss: 0.3521\n",
      "2022-05-26 19:08:04,374 - mmfewshot - INFO - Iter [85900/100000]\tlr: 1.000e-04, eta: 1:18:02, time: 0.263, data_time: 0.010, memory: 5635, loss_rpn_cls: 0.0041, loss_rpn_bbox: 0.0058, loss_cls: 0.0326, acc: 99.6641, loss_bbox: 0.3054, loss: 0.3479\n",
      "2022-05-26 19:08:17,781 - mmfewshot - INFO - Iter [85950/100000]\tlr: 1.000e-04, eta: 1:17:45, time: 0.268, data_time: 0.011, memory: 5635, loss_rpn_cls: 0.0059, loss_rpn_bbox: 0.0061, loss_cls: 0.0220, acc: 99.7891, loss_bbox: 0.2963, loss: 0.3304\n",
      "2022-05-26 19:08:31,138 - mmfewshot - INFO - Exp name: attention-rpn_r50_c4_tb-split1_1shot-fine-tuning-momentum-09.py\n",
      "2022-05-26 19:08:31,139 - mmfewshot - INFO - Iter [86000/100000]\tlr: 1.000e-04, eta: 1:17:28, time: 0.267, data_time: 0.011, memory: 5635, loss_rpn_cls: 0.0052, loss_rpn_bbox: 0.0080, loss_cls: 0.0294, acc: 99.6406, loss_bbox: 0.2929, loss: 0.3355\n",
      "2022-05-26 19:08:31,144 - mmdet - INFO - starting model initialization...\n"
     ]
    },
    {
     "name": "stdout",
     "output_type": "stream",
     "text": [
      "[>>>>>>>>>>>>>>>>>>>>>>>>>>>>>>] 640/640, 75.0 task/s, elapsed: 9s, ETA:     0s"
     ]
    },
    {
     "name": "stderr",
     "output_type": "stream",
     "text": [
      "2022-05-26 19:08:39,749 - mmdet - INFO - model initialization done.\n"
     ]
    },
    {
     "name": "stdout",
     "output_type": "stream",
     "text": [
      "[>>>>>>>>>>>>>>>>>>>>>>>>>>>>>] 712/712, 12.7 task/s, elapsed: 56s, ETA:     0s\n",
      "---------------iou_thr: 0.5---------------\n"
     ]
    },
    {
     "name": "stderr",
     "output_type": "stream",
     "text": [
      "2022-05-26 19:09:36,436 - mmfewshot - INFO - \n",
      "+----------+-----+------+--------+-------+\n",
      "| class    | gts | dets | recall | ap    |\n",
      "+----------+-----+------+--------+-------+\n",
      "| 7up      | 810 | 2330 | 0.632  | 0.352 |\n",
      "| BudLight | 209 | 394  | 0.498  | 0.310 |\n",
      "+----------+-----+------+--------+-------+\n",
      "| mAP      |     |      |        | 0.331 |\n",
      "+----------+-----+------+--------+-------+\n",
      "2022-05-26 19:09:36,439 - mmfewshot - INFO - BASE_CLASSES_SPLIT1 mAP: 0.33075904846191406\n",
      "2022-05-26 19:09:36,440 - mmfewshot - INFO - NOVEL_CLASSES_SPLIT1 mAP: nan\n",
      "2022-05-26 19:09:36,446 - mmfewshot - INFO - Exp name: attention-rpn_r50_c4_tb-split1_1shot-fine-tuning-momentum-09.py\n",
      "2022-05-26 19:09:36,448 - mmfewshot - INFO - Iter(val) [712]\tAP50: 0.3310, BASE_CLASSES_SPLIT1: AP50: 0.3310, NOVEL_CLASSES_SPLIT1: AP50: nan, mAP: 0.3308\n",
      "2022-05-26 19:09:49,896 - mmfewshot - INFO - Iter [86050/100000]\tlr: 1.000e-04, eta: 1:17:21, time: 1.575, data_time: 1.319, memory: 5635, loss_rpn_cls: 0.0037, loss_rpn_bbox: 0.0038, loss_cls: 0.0240, acc: 99.7891, loss_bbox: 0.2927, loss: 0.3243\n",
      "2022-05-26 19:10:03,361 - mmfewshot - INFO - Iter [86100/100000]\tlr: 1.000e-04, eta: 1:17:04, time: 0.269, data_time: 0.012, memory: 5635, loss_rpn_cls: 0.0046, loss_rpn_bbox: 0.0041, loss_cls: 0.0317, acc: 99.6953, loss_bbox: 0.2860, loss: 0.3264\n",
      "2022-05-26 19:10:16,702 - mmfewshot - INFO - Iter [86150/100000]\tlr: 1.000e-04, eta: 1:16:47, time: 0.267, data_time: 0.012, memory: 5635, loss_rpn_cls: 0.0038, loss_rpn_bbox: 0.0045, loss_cls: 0.0284, acc: 99.6875, loss_bbox: 0.2822, loss: 0.3189\n",
      "2022-05-26 19:10:30,069 - mmfewshot - INFO - Iter [86200/100000]\tlr: 1.000e-04, eta: 1:16:30, time: 0.267, data_time: 0.011, memory: 5635, loss_rpn_cls: 0.0036, loss_rpn_bbox: 0.0028, loss_cls: 0.0284, acc: 99.6719, loss_bbox: 0.2814, loss: 0.3162\n",
      "2022-05-26 19:10:43,646 - mmfewshot - INFO - Iter [86250/100000]\tlr: 1.000e-04, eta: 1:16:13, time: 0.271, data_time: 0.012, memory: 5635, loss_rpn_cls: 0.0034, loss_rpn_bbox: 0.0037, loss_cls: 0.0207, acc: 99.8125, loss_bbox: 0.2645, loss: 0.2922\n",
      "2022-05-26 19:10:57,078 - mmfewshot - INFO - Iter [86300/100000]\tlr: 1.000e-04, eta: 1:15:56, time: 0.269, data_time: 0.012, memory: 5635, loss_rpn_cls: 0.0046, loss_rpn_bbox: 0.0046, loss_cls: 0.0352, acc: 99.5234, loss_bbox: 0.3236, loss: 0.3680\n",
      "2022-05-26 19:11:10,469 - mmfewshot - INFO - Iter [86350/100000]\tlr: 1.000e-04, eta: 1:15:38, time: 0.268, data_time: 0.011, memory: 5635, loss_rpn_cls: 0.0049, loss_rpn_bbox: 0.0058, loss_cls: 0.0402, acc: 99.6250, loss_bbox: 0.2606, loss: 0.3115\n",
      "2022-05-26 19:11:23,979 - mmfewshot - INFO - Iter [86400/100000]\tlr: 1.000e-04, eta: 1:15:21, time: 0.270, data_time: 0.012, memory: 5635, loss_rpn_cls: 0.0031, loss_rpn_bbox: 0.0030, loss_cls: 0.0323, acc: 99.6484, loss_bbox: 0.2772, loss: 0.3156\n",
      "2022-05-26 19:11:37,400 - mmfewshot - INFO - Iter [86450/100000]\tlr: 1.000e-04, eta: 1:15:04, time: 0.268, data_time: 0.012, memory: 5635, loss_rpn_cls: 0.0048, loss_rpn_bbox: 0.0044, loss_cls: 0.0215, acc: 99.7812, loss_bbox: 0.2997, loss: 0.3303\n",
      "2022-05-26 19:11:50,787 - mmfewshot - INFO - Iter [86500/100000]\tlr: 1.000e-04, eta: 1:14:47, time: 0.268, data_time: 0.011, memory: 5635, loss_rpn_cls: 0.0038, loss_rpn_bbox: 0.0058, loss_cls: 0.0245, acc: 99.7578, loss_bbox: 0.2611, loss: 0.2952\n",
      "2022-05-26 19:12:04,075 - mmfewshot - INFO - Iter [86550/100000]\tlr: 1.000e-04, eta: 1:14:30, time: 0.266, data_time: 0.011, memory: 5635, loss_rpn_cls: 0.0025, loss_rpn_bbox: 0.0048, loss_cls: 0.0322, acc: 99.6875, loss_bbox: 0.2875, loss: 0.3269\n",
      "2022-05-26 19:12:17,245 - mmfewshot - INFO - Iter [86600/100000]\tlr: 1.000e-04, eta: 1:14:13, time: 0.263, data_time: 0.010, memory: 5635, loss_rpn_cls: 0.0028, loss_rpn_bbox: 0.0038, loss_cls: 0.0307, acc: 99.7500, loss_bbox: 0.2740, loss: 0.3113\n",
      "2022-05-26 19:12:30,456 - mmfewshot - INFO - Iter [86650/100000]\tlr: 1.000e-04, eta: 1:13:56, time: 0.265, data_time: 0.011, memory: 5635, loss_rpn_cls: 0.0039, loss_rpn_bbox: 0.0042, loss_cls: 0.0314, acc: 99.6953, loss_bbox: 0.3118, loss: 0.3512\n",
      "2022-05-26 19:12:43,863 - mmfewshot - INFO - Iter [86700/100000]\tlr: 1.000e-04, eta: 1:13:38, time: 0.268, data_time: 0.011, memory: 5635, loss_rpn_cls: 0.0061, loss_rpn_bbox: 0.0081, loss_cls: 0.0462, acc: 99.6328, loss_bbox: 0.2789, loss: 0.3393\n",
      "2022-05-26 19:12:57,254 - mmfewshot - INFO - Iter [86750/100000]\tlr: 1.000e-04, eta: 1:13:21, time: 0.268, data_time: 0.012, memory: 5635, loss_rpn_cls: 0.0066, loss_rpn_bbox: 0.0072, loss_cls: 0.0298, acc: 99.7188, loss_bbox: 0.3021, loss: 0.3456\n",
      "2022-05-26 19:13:10,615 - mmfewshot - INFO - Iter [86800/100000]\tlr: 1.000e-04, eta: 1:13:04, time: 0.267, data_time: 0.011, memory: 5635, loss_rpn_cls: 0.0095, loss_rpn_bbox: 0.0092, loss_cls: 0.0322, acc: 99.6953, loss_bbox: 0.2897, loss: 0.3406\n",
      "2022-05-26 19:13:23,894 - mmfewshot - INFO - Iter [86850/100000]\tlr: 1.000e-04, eta: 1:12:47, time: 0.265, data_time: 0.011, memory: 5635, loss_rpn_cls: 0.0032, loss_rpn_bbox: 0.0021, loss_cls: 0.0272, acc: 99.7031, loss_bbox: 0.2853, loss: 0.3178\n",
      "2022-05-26 19:13:37,090 - mmfewshot - INFO - Iter [86900/100000]\tlr: 1.000e-04, eta: 1:12:30, time: 0.264, data_time: 0.010, memory: 5635, loss_rpn_cls: 0.0034, loss_rpn_bbox: 0.0037, loss_cls: 0.0313, acc: 99.7422, loss_bbox: 0.2632, loss: 0.3017\n",
      "2022-05-26 19:13:50,491 - mmfewshot - INFO - Iter [86950/100000]\tlr: 1.000e-04, eta: 1:12:13, time: 0.268, data_time: 0.012, memory: 5635, loss_rpn_cls: 0.0055, loss_rpn_bbox: 0.0044, loss_cls: 0.0314, acc: 99.7031, loss_bbox: 0.2944, loss: 0.3356\n",
      "2022-05-26 19:14:03,917 - mmfewshot - INFO - Exp name: attention-rpn_r50_c4_tb-split1_1shot-fine-tuning-momentum-09.py\n",
      "2022-05-26 19:14:03,919 - mmfewshot - INFO - Iter [87000/100000]\tlr: 1.000e-04, eta: 1:11:56, time: 0.268, data_time: 0.011, memory: 5635, loss_rpn_cls: 0.0031, loss_rpn_bbox: 0.0044, loss_cls: 0.0343, acc: 99.7578, loss_bbox: 0.3133, loss: 0.3551\n",
      "2022-05-26 19:14:03,924 - mmdet - INFO - starting model initialization...\n"
     ]
    },
    {
     "name": "stdout",
     "output_type": "stream",
     "text": [
      "[>>>>>>>>>>>>>>>>>>>>>>>>>>>>>>] 640/640, 73.5 task/s, elapsed: 9s, ETA:     0s"
     ]
    },
    {
     "name": "stderr",
     "output_type": "stream",
     "text": [
      "2022-05-26 19:14:12,713 - mmdet - INFO - model initialization done.\n"
     ]
    },
    {
     "name": "stdout",
     "output_type": "stream",
     "text": [
      "[>>>>>>>>>>>>>>>>>>>>>>>>>>>>>] 712/712, 12.6 task/s, elapsed: 56s, ETA:     0s\n",
      "---------------iou_thr: 0.5---------------\n"
     ]
    },
    {
     "name": "stderr",
     "output_type": "stream",
     "text": [
      "2022-05-26 19:15:09,518 - mmfewshot - INFO - \n",
      "+----------+-----+------+--------+-------+\n",
      "| class    | gts | dets | recall | ap    |\n",
      "+----------+-----+------+--------+-------+\n",
      "| 7up      | 810 | 2751 | 0.643  | 0.336 |\n",
      "| BudLight | 209 | 482  | 0.550  | 0.323 |\n",
      "+----------+-----+------+--------+-------+\n",
      "| mAP      |     |      |        | 0.329 |\n",
      "+----------+-----+------+--------+-------+\n",
      "2022-05-26 19:15:09,584 - mmfewshot - INFO - BASE_CLASSES_SPLIT1 mAP: 0.32928597927093506\n",
      "2022-05-26 19:15:09,585 - mmfewshot - INFO - NOVEL_CLASSES_SPLIT1 mAP: nan\n",
      "2022-05-26 19:15:09,589 - mmfewshot - INFO - Exp name: attention-rpn_r50_c4_tb-split1_1shot-fine-tuning-momentum-09.py\n",
      "2022-05-26 19:15:09,590 - mmfewshot - INFO - Iter(val) [712]\tAP50: 0.3290, BASE_CLASSES_SPLIT1: AP50: 0.3290, NOVEL_CLASSES_SPLIT1: AP50: nan, mAP: 0.3293\n",
      "2022-05-26 19:15:23,100 - mmfewshot - INFO - Iter [87050/100000]\tlr: 1.000e-04, eta: 1:11:49, time: 1.583, data_time: 1.325, memory: 5635, loss_rpn_cls: 0.0039, loss_rpn_bbox: 0.0073, loss_cls: 0.0396, acc: 99.6719, loss_bbox: 0.2812, loss: 0.3319\n",
      "2022-05-26 19:15:36,470 - mmfewshot - INFO - Iter [87100/100000]\tlr: 1.000e-04, eta: 1:11:31, time: 0.267, data_time: 0.011, memory: 5635, loss_rpn_cls: 0.0048, loss_rpn_bbox: 0.0050, loss_cls: 0.0302, acc: 99.7344, loss_bbox: 0.2777, loss: 0.3177\n",
      "2022-05-26 19:15:49,857 - mmfewshot - INFO - Iter [87150/100000]\tlr: 1.000e-04, eta: 1:11:14, time: 0.268, data_time: 0.012, memory: 5635, loss_rpn_cls: 0.0063, loss_rpn_bbox: 0.0089, loss_cls: 0.0276, acc: 99.7031, loss_bbox: 0.3298, loss: 0.3727\n",
      "2022-05-26 19:16:03,413 - mmfewshot - INFO - Iter [87200/100000]\tlr: 1.000e-04, eta: 1:10:57, time: 0.271, data_time: 0.012, memory: 5635, loss_rpn_cls: 0.0030, loss_rpn_bbox: 0.0029, loss_cls: 0.0288, acc: 99.8047, loss_bbox: 0.2661, loss: 0.3008\n",
      "2022-05-26 19:16:16,786 - mmfewshot - INFO - Iter [87250/100000]\tlr: 1.000e-04, eta: 1:10:40, time: 0.267, data_time: 0.011, memory: 5635, loss_rpn_cls: 0.0035, loss_rpn_bbox: 0.0037, loss_cls: 0.0224, acc: 99.8047, loss_bbox: 0.2643, loss: 0.2939\n",
      "2022-05-26 19:16:30,191 - mmfewshot - INFO - Iter [87300/100000]\tlr: 1.000e-04, eta: 1:10:23, time: 0.268, data_time: 0.012, memory: 5635, loss_rpn_cls: 0.0063, loss_rpn_bbox: 0.0080, loss_cls: 0.0333, acc: 99.7109, loss_bbox: 0.2806, loss: 0.3281\n",
      "2022-05-26 19:16:43,585 - mmfewshot - INFO - Iter [87350/100000]\tlr: 1.000e-04, eta: 1:10:06, time: 0.268, data_time: 0.011, memory: 5635, loss_rpn_cls: 0.0074, loss_rpn_bbox: 0.0053, loss_cls: 0.0329, acc: 99.6953, loss_bbox: 0.2954, loss: 0.3410\n",
      "2022-05-26 19:16:56,954 - mmfewshot - INFO - Iter [87400/100000]\tlr: 1.000e-04, eta: 1:09:49, time: 0.267, data_time: 0.011, memory: 5635, loss_rpn_cls: 0.0039, loss_rpn_bbox: 0.0034, loss_cls: 0.0261, acc: 99.7031, loss_bbox: 0.2784, loss: 0.3118\n",
      "2022-05-26 19:17:10,377 - mmfewshot - INFO - Iter [87450/100000]\tlr: 1.000e-04, eta: 1:09:32, time: 0.269, data_time: 0.011, memory: 5635, loss_rpn_cls: 0.0054, loss_rpn_bbox: 0.0038, loss_cls: 0.0460, acc: 99.6016, loss_bbox: 0.2700, loss: 0.3252\n",
      "2022-05-26 19:17:23,714 - mmfewshot - INFO - Iter [87500/100000]\tlr: 1.000e-04, eta: 1:09:15, time: 0.267, data_time: 0.011, memory: 5635, loss_rpn_cls: 0.0031, loss_rpn_bbox: 0.0049, loss_cls: 0.0482, acc: 99.5625, loss_bbox: 0.2803, loss: 0.3365\n",
      "2022-05-26 19:17:37,143 - mmfewshot - INFO - Iter [87550/100000]\tlr: 1.000e-04, eta: 1:08:58, time: 0.269, data_time: 0.012, memory: 5635, loss_rpn_cls: 0.0052, loss_rpn_bbox: 0.0052, loss_cls: 0.0269, acc: 99.7109, loss_bbox: 0.2951, loss: 0.3324\n",
      "2022-05-26 19:17:50,555 - mmfewshot - INFO - Iter [87600/100000]\tlr: 1.000e-04, eta: 1:08:41, time: 0.268, data_time: 0.010, memory: 5635, loss_rpn_cls: 0.0040, loss_rpn_bbox: 0.0060, loss_cls: 0.0293, acc: 99.7344, loss_bbox: 0.2708, loss: 0.3101\n",
      "2022-05-26 19:18:03,957 - mmfewshot - INFO - Iter [87650/100000]\tlr: 1.000e-04, eta: 1:08:23, time: 0.268, data_time: 0.012, memory: 5635, loss_rpn_cls: 0.0084, loss_rpn_bbox: 0.0080, loss_cls: 0.0251, acc: 99.7422, loss_bbox: 0.3049, loss: 0.3465\n",
      "2022-05-26 19:18:17,533 - mmfewshot - INFO - Iter [87700/100000]\tlr: 1.000e-04, eta: 1:08:06, time: 0.271, data_time: 0.012, memory: 5635, loss_rpn_cls: 0.0040, loss_rpn_bbox: 0.0038, loss_cls: 0.0214, acc: 99.8047, loss_bbox: 0.2852, loss: 0.3143\n",
      "2022-05-26 19:18:30,876 - mmfewshot - INFO - Iter [87750/100000]\tlr: 1.000e-04, eta: 1:07:49, time: 0.267, data_time: 0.012, memory: 5635, loss_rpn_cls: 0.0047, loss_rpn_bbox: 0.0049, loss_cls: 0.0367, acc: 99.6484, loss_bbox: 0.2744, loss: 0.3208\n",
      "2022-05-26 19:18:44,069 - mmfewshot - INFO - Iter [87800/100000]\tlr: 1.000e-04, eta: 1:07:32, time: 0.264, data_time: 0.011, memory: 5635, loss_rpn_cls: 0.0075, loss_rpn_bbox: 0.0060, loss_cls: 0.0357, acc: 99.6484, loss_bbox: 0.2807, loss: 0.3299\n",
      "2022-05-26 19:18:57,387 - mmfewshot - INFO - Iter [87850/100000]\tlr: 1.000e-04, eta: 1:07:15, time: 0.266, data_time: 0.010, memory: 5635, loss_rpn_cls: 0.0050, loss_rpn_bbox: 0.0053, loss_cls: 0.0361, acc: 99.6406, loss_bbox: 0.2914, loss: 0.3378\n",
      "2022-05-26 19:19:10,724 - mmfewshot - INFO - Iter [87900/100000]\tlr: 1.000e-04, eta: 1:06:58, time: 0.267, data_time: 0.011, memory: 5635, loss_rpn_cls: 0.0036, loss_rpn_bbox: 0.0049, loss_cls: 0.0236, acc: 99.7656, loss_bbox: 0.2746, loss: 0.3066\n",
      "2022-05-26 19:19:24,133 - mmfewshot - INFO - Iter [87950/100000]\tlr: 1.000e-04, eta: 1:06:41, time: 0.268, data_time: 0.013, memory: 5635, loss_rpn_cls: 0.0054, loss_rpn_bbox: 0.0062, loss_cls: 0.0212, acc: 99.7969, loss_bbox: 0.2910, loss: 0.3239\n",
      "2022-05-26 19:19:37,508 - mmfewshot - INFO - Exp name: attention-rpn_r50_c4_tb-split1_1shot-fine-tuning-momentum-09.py\n",
      "2022-05-26 19:19:37,510 - mmfewshot - INFO - Iter [88000/100000]\tlr: 1.000e-04, eta: 1:06:24, time: 0.268, data_time: 0.012, memory: 5635, loss_rpn_cls: 0.0065, loss_rpn_bbox: 0.0047, loss_cls: 0.0363, acc: 99.7109, loss_bbox: 0.2591, loss: 0.3066\n",
      "2022-05-26 19:19:37,515 - mmdet - INFO - starting model initialization...\n"
     ]
    },
    {
     "name": "stdout",
     "output_type": "stream",
     "text": [
      "[>>>>>>>>>>>>>>>>>>>>>>>>>>>>>>] 640/640, 80.2 task/s, elapsed: 8s, ETA:     0s"
     ]
    },
    {
     "name": "stderr",
     "output_type": "stream",
     "text": [
      "2022-05-26 19:19:45,580 - mmdet - INFO - model initialization done.\n"
     ]
    },
    {
     "name": "stdout",
     "output_type": "stream",
     "text": [
      "[>>>>>>>>>>>>>>>>>>>>>>>>>>>>>] 712/712, 12.7 task/s, elapsed: 56s, ETA:     0s\n",
      "---------------iou_thr: 0.5---------------\n"
     ]
    },
    {
     "name": "stderr",
     "output_type": "stream",
     "text": [
      "2022-05-26 19:20:42,073 - mmfewshot - INFO - \n",
      "+----------+-----+------+--------+-------+\n",
      "| class    | gts | dets | recall | ap    |\n",
      "+----------+-----+------+--------+-------+\n",
      "| 7up      | 810 | 3380 | 0.706  | 0.367 |\n",
      "| BudLight | 209 | 634  | 0.536  | 0.298 |\n",
      "+----------+-----+------+--------+-------+\n",
      "| mAP      |     |      |        | 0.332 |\n",
      "+----------+-----+------+--------+-------+\n",
      "2022-05-26 19:20:42,076 - mmfewshot - INFO - BASE_CLASSES_SPLIT1 mAP: 0.33237922191619873\n",
      "2022-05-26 19:20:42,077 - mmfewshot - INFO - NOVEL_CLASSES_SPLIT1 mAP: nan\n",
      "2022-05-26 19:20:42,082 - mmfewshot - INFO - Exp name: attention-rpn_r50_c4_tb-split1_1shot-fine-tuning-momentum-09.py\n",
      "2022-05-26 19:20:42,083 - mmfewshot - INFO - Iter(val) [712]\tAP50: 0.3320, BASE_CLASSES_SPLIT1: AP50: 0.3320, NOVEL_CLASSES_SPLIT1: AP50: nan, mAP: 0.3324\n",
      "2022-05-26 19:20:55,611 - mmfewshot - INFO - Iter [88050/100000]\tlr: 1.000e-04, eta: 1:06:16, time: 1.562, data_time: 1.303, memory: 5635, loss_rpn_cls: 0.0035, loss_rpn_bbox: 0.0030, loss_cls: 0.0335, acc: 99.7344, loss_bbox: 0.2513, loss: 0.2913\n",
      "2022-05-26 19:21:08,999 - mmfewshot - INFO - Iter [88100/100000]\tlr: 1.000e-04, eta: 1:05:59, time: 0.268, data_time: 0.012, memory: 5635, loss_rpn_cls: 0.0033, loss_rpn_bbox: 0.0044, loss_cls: 0.0210, acc: 99.8047, loss_bbox: 0.2890, loss: 0.3177\n",
      "2022-05-26 19:21:22,311 - mmfewshot - INFO - Iter [88150/100000]\tlr: 1.000e-04, eta: 1:05:42, time: 0.266, data_time: 0.011, memory: 5635, loss_rpn_cls: 0.0045, loss_rpn_bbox: 0.0040, loss_cls: 0.0333, acc: 99.7031, loss_bbox: 0.2581, loss: 0.2997\n",
      "2022-05-26 19:21:35,783 - mmfewshot - INFO - Iter [88200/100000]\tlr: 1.000e-04, eta: 1:05:25, time: 0.269, data_time: 0.011, memory: 5635, loss_rpn_cls: 0.0044, loss_rpn_bbox: 0.0046, loss_cls: 0.0317, acc: 99.7422, loss_bbox: 0.2859, loss: 0.3266\n",
      "2022-05-26 19:21:49,199 - mmfewshot - INFO - Iter [88250/100000]\tlr: 1.000e-04, eta: 1:05:08, time: 0.268, data_time: 0.013, memory: 5635, loss_rpn_cls: 0.0044, loss_rpn_bbox: 0.0053, loss_cls: 0.0294, acc: 99.6875, loss_bbox: 0.2949, loss: 0.3340\n",
      "2022-05-26 19:22:02,612 - mmfewshot - INFO - Iter [88300/100000]\tlr: 1.000e-04, eta: 1:04:50, time: 0.268, data_time: 0.011, memory: 5635, loss_rpn_cls: 0.0064, loss_rpn_bbox: 0.0049, loss_cls: 0.0290, acc: 99.6797, loss_bbox: 0.2951, loss: 0.3354\n",
      "2022-05-26 19:22:15,991 - mmfewshot - INFO - Iter [88350/100000]\tlr: 1.000e-04, eta: 1:04:33, time: 0.268, data_time: 0.012, memory: 5635, loss_rpn_cls: 0.0041, loss_rpn_bbox: 0.0047, loss_cls: 0.0330, acc: 99.6641, loss_bbox: 0.2913, loss: 0.3330\n",
      "2022-05-26 19:22:29,376 - mmfewshot - INFO - Iter [88400/100000]\tlr: 1.000e-04, eta: 1:04:16, time: 0.268, data_time: 0.011, memory: 5635, loss_rpn_cls: 0.0056, loss_rpn_bbox: 0.0056, loss_cls: 0.0368, acc: 99.6016, loss_bbox: 0.2766, loss: 0.3246\n",
      "2022-05-26 19:22:42,755 - mmfewshot - INFO - Iter [88450/100000]\tlr: 1.000e-04, eta: 1:03:59, time: 0.268, data_time: 0.011, memory: 5635, loss_rpn_cls: 0.0065, loss_rpn_bbox: 0.0065, loss_cls: 0.0273, acc: 99.7188, loss_bbox: 0.3007, loss: 0.3410\n",
      "2022-05-26 19:22:56,319 - mmfewshot - INFO - Iter [88500/100000]\tlr: 1.000e-04, eta: 1:03:42, time: 0.271, data_time: 0.012, memory: 5635, loss_rpn_cls: 0.0057, loss_rpn_bbox: 0.0066, loss_cls: 0.0264, acc: 99.7109, loss_bbox: 0.2775, loss: 0.3163\n",
      "2022-05-26 19:23:09,658 - mmfewshot - INFO - Iter [88550/100000]\tlr: 1.000e-04, eta: 1:03:25, time: 0.267, data_time: 0.011, memory: 5635, loss_rpn_cls: 0.0026, loss_rpn_bbox: 0.0029, loss_cls: 0.0327, acc: 99.6875, loss_bbox: 0.2762, loss: 0.3144\n",
      "2022-05-26 19:23:23,040 - mmfewshot - INFO - Iter [88600/100000]\tlr: 1.000e-04, eta: 1:03:08, time: 0.268, data_time: 0.011, memory: 5635, loss_rpn_cls: 0.0047, loss_rpn_bbox: 0.0046, loss_cls: 0.0290, acc: 99.6953, loss_bbox: 0.2692, loss: 0.3075\n",
      "2022-05-26 19:23:36,340 - mmfewshot - INFO - Iter [88650/100000]\tlr: 1.000e-04, eta: 1:02:51, time: 0.266, data_time: 0.012, memory: 5635, loss_rpn_cls: 0.0036, loss_rpn_bbox: 0.0053, loss_cls: 0.0397, acc: 99.6719, loss_bbox: 0.2782, loss: 0.3268\n",
      "2022-05-26 19:23:49,760 - mmfewshot - INFO - Iter [88700/100000]\tlr: 1.000e-04, eta: 1:02:34, time: 0.268, data_time: 0.012, memory: 5635, loss_rpn_cls: 0.0037, loss_rpn_bbox: 0.0042, loss_cls: 0.0234, acc: 99.7578, loss_bbox: 0.2650, loss: 0.2963\n",
      "2022-05-26 19:24:03,104 - mmfewshot - INFO - Iter [88750/100000]\tlr: 1.000e-04, eta: 1:02:17, time: 0.267, data_time: 0.011, memory: 5635, loss_rpn_cls: 0.0047, loss_rpn_bbox: 0.0044, loss_cls: 0.0257, acc: 99.6484, loss_bbox: 0.3166, loss: 0.3514\n",
      "2022-05-26 19:24:16,624 - mmfewshot - INFO - Iter [88800/100000]\tlr: 1.000e-04, eta: 1:02:00, time: 0.271, data_time: 0.012, memory: 5635, loss_rpn_cls: 0.0034, loss_rpn_bbox: 0.0035, loss_cls: 0.0278, acc: 99.6484, loss_bbox: 0.3112, loss: 0.3458\n",
      "2022-05-26 19:24:30,167 - mmfewshot - INFO - Iter [88850/100000]\tlr: 1.000e-04, eta: 1:01:43, time: 0.271, data_time: 0.012, memory: 5635, loss_rpn_cls: 0.0034, loss_rpn_bbox: 0.0037, loss_cls: 0.0275, acc: 99.6562, loss_bbox: 0.2817, loss: 0.3162\n",
      "2022-05-26 19:24:43,444 - mmfewshot - INFO - Iter [88900/100000]\tlr: 1.000e-04, eta: 1:01:26, time: 0.266, data_time: 0.011, memory: 5635, loss_rpn_cls: 0.0048, loss_rpn_bbox: 0.0059, loss_cls: 0.0284, acc: 99.7344, loss_bbox: 0.2815, loss: 0.3206\n",
      "2022-05-26 19:24:56,843 - mmfewshot - INFO - Iter [88950/100000]\tlr: 1.000e-04, eta: 1:01:09, time: 0.268, data_time: 0.011, memory: 5635, loss_rpn_cls: 0.0040, loss_rpn_bbox: 0.0048, loss_cls: 0.0301, acc: 99.7109, loss_bbox: 0.2661, loss: 0.3050\n",
      "2022-05-26 19:25:10,236 - mmfewshot - INFO - Exp name: attention-rpn_r50_c4_tb-split1_1shot-fine-tuning-momentum-09.py\n",
      "2022-05-26 19:25:10,238 - mmfewshot - INFO - Iter [89000/100000]\tlr: 1.000e-04, eta: 1:00:52, time: 0.268, data_time: 0.012, memory: 5635, loss_rpn_cls: 0.0032, loss_rpn_bbox: 0.0042, loss_cls: 0.0341, acc: 99.6406, loss_bbox: 0.2562, loss: 0.2976\n",
      "2022-05-26 19:25:10,244 - mmdet - INFO - starting model initialization...\n"
     ]
    },
    {
     "name": "stdout",
     "output_type": "stream",
     "text": [
      "[>>>>>>>>>>>>>>>>>>>>>>>>>>>>>>] 640/640, 76.1 task/s, elapsed: 8s, ETA:     0s"
     ]
    },
    {
     "name": "stderr",
     "output_type": "stream",
     "text": [
      "2022-05-26 19:25:18,724 - mmdet - INFO - model initialization done.\n"
     ]
    },
    {
     "name": "stdout",
     "output_type": "stream",
     "text": [
      "[>>>>>>>>>>>>>>>>>>>>>>>>>>>>>] 712/712, 12.7 task/s, elapsed: 56s, ETA:     0s\n",
      "---------------iou_thr: 0.5---------------\n"
     ]
    },
    {
     "name": "stderr",
     "output_type": "stream",
     "text": [
      "2022-05-26 19:26:15,394 - mmfewshot - INFO - \n",
      "+----------+-----+------+--------+-------+\n",
      "| class    | gts | dets | recall | ap    |\n",
      "+----------+-----+------+--------+-------+\n",
      "| 7up      | 810 | 2933 | 0.658  | 0.320 |\n",
      "| BudLight | 209 | 522  | 0.522  | 0.286 |\n",
      "+----------+-----+------+--------+-------+\n",
      "| mAP      |     |      |        | 0.303 |\n",
      "+----------+-----+------+--------+-------+\n",
      "2022-05-26 19:26:15,396 - mmfewshot - INFO - BASE_CLASSES_SPLIT1 mAP: 0.30318042635917664\n",
      "2022-05-26 19:26:15,397 - mmfewshot - INFO - NOVEL_CLASSES_SPLIT1 mAP: nan\n",
      "2022-05-26 19:26:15,402 - mmfewshot - INFO - Exp name: attention-rpn_r50_c4_tb-split1_1shot-fine-tuning-momentum-09.py\n",
      "2022-05-26 19:26:15,403 - mmfewshot - INFO - Iter(val) [712]\tAP50: 0.3030, BASE_CLASSES_SPLIT1: AP50: 0.3030, NOVEL_CLASSES_SPLIT1: AP50: nan, mAP: 0.3032\n",
      "2022-05-26 19:26:28,897 - mmfewshot - INFO - Iter [89050/100000]\tlr: 1.000e-04, eta: 1:00:43, time: 1.573, data_time: 1.316, memory: 5635, loss_rpn_cls: 0.0051, loss_rpn_bbox: 0.0058, loss_cls: 0.0356, acc: 99.6875, loss_bbox: 0.2756, loss: 0.3220\n",
      "2022-05-26 19:26:42,292 - mmfewshot - INFO - Iter [89100/100000]\tlr: 1.000e-04, eta: 1:00:26, time: 0.268, data_time: 0.012, memory: 5635, loss_rpn_cls: 0.0090, loss_rpn_bbox: 0.0108, loss_cls: 0.0341, acc: 99.5625, loss_bbox: 0.2835, loss: 0.3374\n",
      "2022-05-26 19:26:55,635 - mmfewshot - INFO - Iter [89150/100000]\tlr: 1.000e-04, eta: 1:00:09, time: 0.267, data_time: 0.011, memory: 5635, loss_rpn_cls: 0.0056, loss_rpn_bbox: 0.0072, loss_cls: 0.0260, acc: 99.7109, loss_bbox: 0.2651, loss: 0.3039\n",
      "2022-05-26 19:27:09,095 - mmfewshot - INFO - Iter [89200/100000]\tlr: 1.000e-04, eta: 0:59:52, time: 0.269, data_time: 0.013, memory: 5635, loss_rpn_cls: 0.0069, loss_rpn_bbox: 0.0066, loss_cls: 0.0364, acc: 99.6016, loss_bbox: 0.2920, loss: 0.3418\n",
      "2022-05-26 19:27:22,570 - mmfewshot - INFO - Iter [89250/100000]\tlr: 1.000e-04, eta: 0:59:35, time: 0.270, data_time: 0.012, memory: 5635, loss_rpn_cls: 0.0033, loss_rpn_bbox: 0.0049, loss_cls: 0.0344, acc: 99.7500, loss_bbox: 0.2728, loss: 0.3153\n",
      "2022-05-26 19:27:36,086 - mmfewshot - INFO - Iter [89300/100000]\tlr: 1.000e-04, eta: 0:59:18, time: 0.270, data_time: 0.011, memory: 5635, loss_rpn_cls: 0.0049, loss_rpn_bbox: 0.0044, loss_cls: 0.0409, acc: 99.4688, loss_bbox: 0.3073, loss: 0.3575\n",
      "2022-05-26 19:27:49,639 - mmfewshot - INFO - Iter [89350/100000]\tlr: 1.000e-04, eta: 0:59:01, time: 0.271, data_time: 0.012, memory: 5635, loss_rpn_cls: 0.0046, loss_rpn_bbox: 0.0033, loss_cls: 0.0360, acc: 99.7031, loss_bbox: 0.2608, loss: 0.3047\n",
      "2022-05-26 19:28:02,837 - mmfewshot - INFO - Iter [89400/100000]\tlr: 1.000e-04, eta: 0:58:44, time: 0.264, data_time: 0.012, memory: 5635, loss_rpn_cls: 0.0046, loss_rpn_bbox: 0.0055, loss_cls: 0.0280, acc: 99.7188, loss_bbox: 0.2795, loss: 0.3176\n",
      "2022-05-26 19:28:16,359 - mmfewshot - INFO - Iter [89450/100000]\tlr: 1.000e-04, eta: 0:58:27, time: 0.270, data_time: 0.012, memory: 5635, loss_rpn_cls: 0.0043, loss_rpn_bbox: 0.0043, loss_cls: 0.0259, acc: 99.6875, loss_bbox: 0.2925, loss: 0.3270\n",
      "2022-05-26 19:28:29,837 - mmfewshot - INFO - Iter [89500/100000]\tlr: 1.000e-04, eta: 0:58:10, time: 0.270, data_time: 0.013, memory: 5635, loss_rpn_cls: 0.0056, loss_rpn_bbox: 0.0056, loss_cls: 0.0296, acc: 99.7656, loss_bbox: 0.2668, loss: 0.3076\n",
      "2022-05-26 19:28:43,292 - mmfewshot - INFO - Iter [89550/100000]\tlr: 1.000e-04, eta: 0:57:53, time: 0.269, data_time: 0.012, memory: 5635, loss_rpn_cls: 0.0041, loss_rpn_bbox: 0.0042, loss_cls: 0.0490, acc: 99.5547, loss_bbox: 0.2662, loss: 0.3234\n",
      "2022-05-26 19:28:56,881 - mmfewshot - INFO - Iter [89600/100000]\tlr: 1.000e-04, eta: 0:57:36, time: 0.271, data_time: 0.011, memory: 5635, loss_rpn_cls: 0.0062, loss_rpn_bbox: 0.0054, loss_cls: 0.0262, acc: 99.7266, loss_bbox: 0.2688, loss: 0.3066\n",
      "2022-05-26 19:29:10,204 - mmfewshot - INFO - Iter [89650/100000]\tlr: 1.000e-04, eta: 0:57:19, time: 0.267, data_time: 0.012, memory: 5635, loss_rpn_cls: 0.0036, loss_rpn_bbox: 0.0049, loss_cls: 0.0244, acc: 99.7188, loss_bbox: 0.2993, loss: 0.3322\n",
      "2022-05-26 19:29:23,735 - mmfewshot - INFO - Iter [89700/100000]\tlr: 1.000e-04, eta: 0:57:02, time: 0.271, data_time: 0.012, memory: 5635, loss_rpn_cls: 0.0034, loss_rpn_bbox: 0.0036, loss_cls: 0.0339, acc: 99.6875, loss_bbox: 0.2477, loss: 0.2886\n",
      "2022-05-26 19:29:36,974 - mmfewshot - INFO - Iter [89750/100000]\tlr: 1.000e-04, eta: 0:56:45, time: 0.265, data_time: 0.011, memory: 5635, loss_rpn_cls: 0.0036, loss_rpn_bbox: 0.0041, loss_cls: 0.0353, acc: 99.6641, loss_bbox: 0.2834, loss: 0.3263\n",
      "2022-05-26 19:29:50,243 - mmfewshot - INFO - Iter [89800/100000]\tlr: 1.000e-04, eta: 0:56:28, time: 0.266, data_time: 0.011, memory: 5635, loss_rpn_cls: 0.0036, loss_rpn_bbox: 0.0043, loss_cls: 0.0232, acc: 99.7188, loss_bbox: 0.2579, loss: 0.2891\n",
      "2022-05-26 19:30:03,787 - mmfewshot - INFO - Iter [89850/100000]\tlr: 1.000e-04, eta: 0:56:11, time: 0.271, data_time: 0.012, memory: 5635, loss_rpn_cls: 0.0054, loss_rpn_bbox: 0.0054, loss_cls: 0.0691, acc: 99.4297, loss_bbox: 0.2598, loss: 0.3396\n",
      "2022-05-26 19:30:17,185 - mmfewshot - INFO - Iter [89900/100000]\tlr: 1.000e-04, eta: 0:55:54, time: 0.268, data_time: 0.011, memory: 5635, loss_rpn_cls: 0.0041, loss_rpn_bbox: 0.0053, loss_cls: 0.0413, acc: 99.6172, loss_bbox: 0.2687, loss: 0.3194\n",
      "2022-05-26 19:30:30,615 - mmfewshot - INFO - Iter [89950/100000]\tlr: 1.000e-04, eta: 0:55:37, time: 0.268, data_time: 0.011, memory: 5635, loss_rpn_cls: 0.0065, loss_rpn_bbox: 0.0068, loss_cls: 0.0336, acc: 99.6562, loss_bbox: 0.2893, loss: 0.3362\n",
      "2022-05-26 19:30:43,797 - mmfewshot - INFO - Saving checkpoint at 90000 iterations\n",
      "2022-05-26 19:30:45,305 - mmfewshot - INFO - Exp name: attention-rpn_r50_c4_tb-split1_1shot-fine-tuning-momentum-09.py\n",
      "2022-05-26 19:30:45,306 - mmfewshot - INFO - Iter [90000/100000]\tlr: 1.000e-04, eta: 0:55:20, time: 0.296, data_time: 0.011, memory: 5635, loss_rpn_cls: 0.0055, loss_rpn_bbox: 0.0078, loss_cls: 0.0230, acc: 99.7734, loss_bbox: 0.2801, loss: 0.3164\n",
      "2022-05-26 19:30:45,310 - mmdet - INFO - starting model initialization...\n"
     ]
    },
    {
     "name": "stdout",
     "output_type": "stream",
     "text": [
      "[>>>>>>>>>>>>>>>>>>>>>>>>>>>>>>] 640/640, 77.6 task/s, elapsed: 8s, ETA:     0s"
     ]
    },
    {
     "name": "stderr",
     "output_type": "stream",
     "text": [
      "2022-05-26 19:30:53,626 - mmdet - INFO - model initialization done.\n"
     ]
    },
    {
     "name": "stdout",
     "output_type": "stream",
     "text": [
      "[>>>>>>>>>>>>>>>>>>>>>>>>>>>>>] 712/712, 12.7 task/s, elapsed: 56s, ETA:     0s\n",
      "---------------iou_thr: 0.5---------------\n"
     ]
    },
    {
     "name": "stderr",
     "output_type": "stream",
     "text": [
      "2022-05-26 19:31:50,229 - mmfewshot - INFO - \n",
      "+----------+-----+------+--------+-------+\n",
      "| class    | gts | dets | recall | ap    |\n",
      "+----------+-----+------+--------+-------+\n",
      "| 7up      | 810 | 2589 | 0.673  | 0.388 |\n",
      "| BudLight | 209 | 572  | 0.545  | 0.317 |\n",
      "+----------+-----+------+--------+-------+\n",
      "| mAP      |     |      |        | 0.352 |\n",
      "+----------+-----+------+--------+-------+\n",
      "2022-05-26 19:31:50,231 - mmfewshot - INFO - BASE_CLASSES_SPLIT1 mAP: 0.3523743450641632\n",
      "2022-05-26 19:31:50,232 - mmfewshot - INFO - NOVEL_CLASSES_SPLIT1 mAP: nan\n",
      "2022-05-26 19:31:50,237 - mmfewshot - INFO - Exp name: attention-rpn_r50_c4_tb-split1_1shot-fine-tuning-momentum-09.py\n",
      "2022-05-26 19:31:50,238 - mmfewshot - INFO - Iter(val) [712]\tAP50: 0.3520, BASE_CLASSES_SPLIT1: AP50: 0.3520, NOVEL_CLASSES_SPLIT1: AP50: nan, mAP: 0.3524\n",
      "2022-05-26 19:32:03,730 - mmfewshot - INFO - Iter [90050/100000]\tlr: 1.000e-04, eta: 0:55:11, time: 1.566, data_time: 1.308, memory: 5635, loss_rpn_cls: 0.0047, loss_rpn_bbox: 0.0078, loss_cls: 0.0242, acc: 99.7500, loss_bbox: 0.2622, loss: 0.2989\n",
      "2022-05-26 19:32:17,022 - mmfewshot - INFO - Iter [90100/100000]\tlr: 1.000e-04, eta: 0:54:54, time: 0.266, data_time: 0.011, memory: 5635, loss_rpn_cls: 0.0049, loss_rpn_bbox: 0.0045, loss_cls: 0.0372, acc: 99.5938, loss_bbox: 0.2856, loss: 0.3322\n",
      "2022-05-26 19:32:30,493 - mmfewshot - INFO - Iter [90150/100000]\tlr: 1.000e-04, eta: 0:54:37, time: 0.269, data_time: 0.012, memory: 5635, loss_rpn_cls: 0.0036, loss_rpn_bbox: 0.0043, loss_cls: 0.0293, acc: 99.6562, loss_bbox: 0.2717, loss: 0.3089\n",
      "2022-05-26 19:32:44,031 - mmfewshot - INFO - Iter [90200/100000]\tlr: 1.000e-04, eta: 0:54:20, time: 0.270, data_time: 0.012, memory: 5635, loss_rpn_cls: 0.0069, loss_rpn_bbox: 0.0056, loss_cls: 0.0456, acc: 99.7031, loss_bbox: 0.2622, loss: 0.3203\n",
      "2022-05-26 19:32:57,470 - mmfewshot - INFO - Iter [90250/100000]\tlr: 1.000e-04, eta: 0:54:03, time: 0.269, data_time: 0.012, memory: 5635, loss_rpn_cls: 0.0031, loss_rpn_bbox: 0.0028, loss_cls: 0.0286, acc: 99.6641, loss_bbox: 0.2637, loss: 0.2982\n",
      "2022-05-26 19:33:10,754 - mmfewshot - INFO - Iter [90300/100000]\tlr: 1.000e-04, eta: 0:53:46, time: 0.265, data_time: 0.011, memory: 5635, loss_rpn_cls: 0.0022, loss_rpn_bbox: 0.0025, loss_cls: 0.0303, acc: 99.6562, loss_bbox: 0.2535, loss: 0.2886\n",
      "2022-05-26 19:33:24,189 - mmfewshot - INFO - Iter [90350/100000]\tlr: 1.000e-04, eta: 0:53:29, time: 0.269, data_time: 0.012, memory: 5635, loss_rpn_cls: 0.0033, loss_rpn_bbox: 0.0041, loss_cls: 0.0301, acc: 99.7188, loss_bbox: 0.2902, loss: 0.3277\n",
      "2022-05-26 19:33:37,747 - mmfewshot - INFO - Iter [90400/100000]\tlr: 1.000e-04, eta: 0:53:12, time: 0.271, data_time: 0.012, memory: 5635, loss_rpn_cls: 0.0042, loss_rpn_bbox: 0.0049, loss_cls: 0.0396, acc: 99.7109, loss_bbox: 0.2454, loss: 0.2940\n",
      "2022-05-26 19:33:50,995 - mmfewshot - INFO - Iter [90450/100000]\tlr: 1.000e-04, eta: 0:52:55, time: 0.265, data_time: 0.011, memory: 5635, loss_rpn_cls: 0.0045, loss_rpn_bbox: 0.0062, loss_cls: 0.0361, acc: 99.6250, loss_bbox: 0.2735, loss: 0.3203\n",
      "2022-05-26 19:34:04,478 - mmfewshot - INFO - Iter [90500/100000]\tlr: 1.000e-04, eta: 0:52:38, time: 0.270, data_time: 0.012, memory: 5635, loss_rpn_cls: 0.0045, loss_rpn_bbox: 0.0047, loss_cls: 0.0348, acc: 99.6406, loss_bbox: 0.2949, loss: 0.3389\n",
      "2022-05-26 19:34:17,899 - mmfewshot - INFO - Iter [90550/100000]\tlr: 1.000e-04, eta: 0:52:21, time: 0.268, data_time: 0.012, memory: 5635, loss_rpn_cls: 0.0055, loss_rpn_bbox: 0.0039, loss_cls: 0.0375, acc: 99.7031, loss_bbox: 0.2756, loss: 0.3224\n",
      "2022-05-26 19:34:31,423 - mmfewshot - INFO - Iter [90600/100000]\tlr: 1.000e-04, eta: 0:52:04, time: 0.270, data_time: 0.013, memory: 5635, loss_rpn_cls: 0.0090, loss_rpn_bbox: 0.0087, loss_cls: 0.0502, acc: 99.4453, loss_bbox: 0.2955, loss: 0.3633\n",
      "2022-05-26 19:34:44,709 - mmfewshot - INFO - Iter [90650/100000]\tlr: 1.000e-04, eta: 0:51:47, time: 0.266, data_time: 0.011, memory: 5635, loss_rpn_cls: 0.0037, loss_rpn_bbox: 0.0043, loss_cls: 0.0389, acc: 99.5859, loss_bbox: 0.2675, loss: 0.3144\n",
      "2022-05-26 19:34:58,118 - mmfewshot - INFO - Iter [90700/100000]\tlr: 1.000e-04, eta: 0:51:30, time: 0.268, data_time: 0.012, memory: 5635, loss_rpn_cls: 0.0059, loss_rpn_bbox: 0.0049, loss_cls: 0.0234, acc: 99.7578, loss_bbox: 0.2717, loss: 0.3059\n",
      "2022-05-26 19:35:11,582 - mmfewshot - INFO - Iter [90750/100000]\tlr: 1.000e-04, eta: 0:51:13, time: 0.270, data_time: 0.012, memory: 5635, loss_rpn_cls: 0.0028, loss_rpn_bbox: 0.0048, loss_cls: 0.0311, acc: 99.6953, loss_bbox: 0.2423, loss: 0.2811\n",
      "2022-05-26 19:35:25,126 - mmfewshot - INFO - Iter [90800/100000]\tlr: 1.000e-04, eta: 0:50:56, time: 0.271, data_time: 0.011, memory: 5635, loss_rpn_cls: 0.0043, loss_rpn_bbox: 0.0052, loss_cls: 0.0473, acc: 99.5547, loss_bbox: 0.2720, loss: 0.3288\n",
      "2022-05-26 19:35:38,514 - mmfewshot - INFO - Iter [90850/100000]\tlr: 1.000e-04, eta: 0:50:39, time: 0.268, data_time: 0.011, memory: 5635, loss_rpn_cls: 0.0059, loss_rpn_bbox: 0.0057, loss_cls: 0.0329, acc: 99.6484, loss_bbox: 0.2491, loss: 0.2935\n",
      "2022-05-26 19:35:51,979 - mmfewshot - INFO - Iter [90900/100000]\tlr: 1.000e-04, eta: 0:50:22, time: 0.269, data_time: 0.012, memory: 5635, loss_rpn_cls: 0.0042, loss_rpn_bbox: 0.0038, loss_cls: 0.0275, acc: 99.6406, loss_bbox: 0.2733, loss: 0.3088\n",
      "2022-05-26 19:36:05,481 - mmfewshot - INFO - Iter [90950/100000]\tlr: 1.000e-04, eta: 0:50:05, time: 0.270, data_time: 0.011, memory: 5635, loss_rpn_cls: 0.0036, loss_rpn_bbox: 0.0042, loss_cls: 0.0493, acc: 99.5625, loss_bbox: 0.2758, loss: 0.3330\n",
      "2022-05-26 19:36:18,834 - mmfewshot - INFO - Exp name: attention-rpn_r50_c4_tb-split1_1shot-fine-tuning-momentum-09.py\n",
      "2022-05-26 19:36:18,836 - mmfewshot - INFO - Iter [91000/100000]\tlr: 1.000e-04, eta: 0:49:48, time: 0.267, data_time: 0.012, memory: 5635, loss_rpn_cls: 0.0041, loss_rpn_bbox: 0.0036, loss_cls: 0.0447, acc: 99.5312, loss_bbox: 0.2444, loss: 0.2968\n",
      "2022-05-26 19:36:18,840 - mmdet - INFO - starting model initialization...\n"
     ]
    },
    {
     "name": "stdout",
     "output_type": "stream",
     "text": [
      "[>>>>>>>>>>>>>>>>>>>>>>>>>>>>>>] 640/640, 76.0 task/s, elapsed: 8s, ETA:     0s"
     ]
    },
    {
     "name": "stderr",
     "output_type": "stream",
     "text": [
      "2022-05-26 19:36:27,338 - mmdet - INFO - model initialization done.\n"
     ]
    },
    {
     "name": "stdout",
     "output_type": "stream",
     "text": [
      "[>>>>>>>>>>>>>>>>>>>>>>>>>>>>>] 712/712, 12.7 task/s, elapsed: 56s, ETA:     0s\n",
      "---------------iou_thr: 0.5---------------\n"
     ]
    },
    {
     "name": "stderr",
     "output_type": "stream",
     "text": [
      "2022-05-26 19:37:23,713 - mmfewshot - INFO - \n",
      "+----------+-----+------+--------+-------+\n",
      "| class    | gts | dets | recall | ap    |\n",
      "+----------+-----+------+--------+-------+\n",
      "| 7up      | 810 | 2773 | 0.638  | 0.261 |\n",
      "| BudLight | 209 | 769  | 0.608  | 0.346 |\n",
      "+----------+-----+------+--------+-------+\n",
      "| mAP      |     |      |        | 0.304 |\n",
      "+----------+-----+------+--------+-------+\n",
      "2022-05-26 19:37:23,716 - mmfewshot - INFO - BASE_CLASSES_SPLIT1 mAP: 0.30364519357681274\n",
      "2022-05-26 19:37:23,717 - mmfewshot - INFO - NOVEL_CLASSES_SPLIT1 mAP: nan\n",
      "2022-05-26 19:37:23,721 - mmfewshot - INFO - Exp name: attention-rpn_r50_c4_tb-split1_1shot-fine-tuning-momentum-09.py\n",
      "2022-05-26 19:37:23,722 - mmfewshot - INFO - Iter(val) [712]\tAP50: 0.3040, BASE_CLASSES_SPLIT1: AP50: 0.3040, NOVEL_CLASSES_SPLIT1: AP50: nan, mAP: 0.3036\n",
      "2022-05-26 19:37:37,244 - mmfewshot - INFO - Iter [91050/100000]\tlr: 1.000e-04, eta: 0:49:38, time: 1.568, data_time: 1.310, memory: 5635, loss_rpn_cls: 0.0049, loss_rpn_bbox: 0.0051, loss_cls: 0.0360, acc: 99.7031, loss_bbox: 0.2384, loss: 0.2844\n",
      "2022-05-26 19:37:50,927 - mmfewshot - INFO - Iter [91100/100000]\tlr: 1.000e-04, eta: 0:49:21, time: 0.274, data_time: 0.011, memory: 5635, loss_rpn_cls: 0.0048, loss_rpn_bbox: 0.0068, loss_cls: 0.0373, acc: 99.5938, loss_bbox: 0.2740, loss: 0.3230\n",
      "2022-05-26 19:38:04,351 - mmfewshot - INFO - Iter [91150/100000]\tlr: 1.000e-04, eta: 0:49:04, time: 0.268, data_time: 0.011, memory: 5635, loss_rpn_cls: 0.0072, loss_rpn_bbox: 0.0084, loss_cls: 0.0444, acc: 99.5938, loss_bbox: 0.2596, loss: 0.3197\n",
      "2022-05-26 19:38:17,709 - mmfewshot - INFO - Iter [91200/100000]\tlr: 1.000e-04, eta: 0:48:47, time: 0.267, data_time: 0.012, memory: 5635, loss_rpn_cls: 0.0052, loss_rpn_bbox: 0.0069, loss_cls: 0.0569, acc: 99.4375, loss_bbox: 0.2552, loss: 0.3242\n",
      "2022-05-26 19:38:31,005 - mmfewshot - INFO - Iter [91250/100000]\tlr: 1.000e-04, eta: 0:48:30, time: 0.266, data_time: 0.011, memory: 5635, loss_rpn_cls: 0.0039, loss_rpn_bbox: 0.0033, loss_cls: 0.0443, acc: 99.5938, loss_bbox: 0.2270, loss: 0.2785\n",
      "2022-05-26 19:38:44,208 - mmfewshot - INFO - Iter [91300/100000]\tlr: 1.000e-04, eta: 0:48:13, time: 0.264, data_time: 0.012, memory: 5635, loss_rpn_cls: 0.0037, loss_rpn_bbox: 0.0034, loss_cls: 0.0409, acc: 99.6953, loss_bbox: 0.2265, loss: 0.2745\n",
      "2022-05-26 19:38:57,521 - mmfewshot - INFO - Iter [91350/100000]\tlr: 1.000e-04, eta: 0:47:56, time: 0.266, data_time: 0.011, memory: 5635, loss_rpn_cls: 0.0030, loss_rpn_bbox: 0.0027, loss_cls: 0.0331, acc: 99.6484, loss_bbox: 0.2371, loss: 0.2759\n",
      "2022-05-26 19:39:11,016 - mmfewshot - INFO - Iter [91400/100000]\tlr: 1.000e-04, eta: 0:47:39, time: 0.270, data_time: 0.012, memory: 5635, loss_rpn_cls: 0.0036, loss_rpn_bbox: 0.0046, loss_cls: 0.0414, acc: 99.5781, loss_bbox: 0.2737, loss: 0.3233\n",
      "2022-05-26 19:39:24,431 - mmfewshot - INFO - Iter [91450/100000]\tlr: 1.000e-04, eta: 0:47:22, time: 0.268, data_time: 0.011, memory: 5635, loss_rpn_cls: 0.0038, loss_rpn_bbox: 0.0035, loss_cls: 0.0451, acc: 99.5703, loss_bbox: 0.2409, loss: 0.2932\n",
      "2022-05-26 19:39:37,803 - mmfewshot - INFO - Iter [91500/100000]\tlr: 1.000e-04, eta: 0:47:05, time: 0.267, data_time: 0.011, memory: 5635, loss_rpn_cls: 0.0036, loss_rpn_bbox: 0.0052, loss_cls: 0.0399, acc: 99.6094, loss_bbox: 0.2292, loss: 0.2779\n",
      "2022-05-26 19:39:51,258 - mmfewshot - INFO - Iter [91550/100000]\tlr: 1.000e-04, eta: 0:46:49, time: 0.269, data_time: 0.011, memory: 5635, loss_rpn_cls: 0.0038, loss_rpn_bbox: 0.0048, loss_cls: 0.0325, acc: 99.7031, loss_bbox: 0.2302, loss: 0.2713\n",
      "2022-05-26 19:40:04,690 - mmfewshot - INFO - Iter [91600/100000]\tlr: 1.000e-04, eta: 0:46:32, time: 0.269, data_time: 0.012, memory: 5635, loss_rpn_cls: 0.0065, loss_rpn_bbox: 0.0059, loss_cls: 0.0307, acc: 99.6484, loss_bbox: 0.2224, loss: 0.2654\n",
      "2022-05-26 19:40:18,337 - mmfewshot - INFO - Iter [91650/100000]\tlr: 1.000e-04, eta: 0:46:15, time: 0.273, data_time: 0.011, memory: 5635, loss_rpn_cls: 0.0036, loss_rpn_bbox: 0.0046, loss_cls: 0.0396, acc: 99.5781, loss_bbox: 0.2254, loss: 0.2732\n",
      "2022-05-26 19:40:31,615 - mmfewshot - INFO - Iter [91700/100000]\tlr: 1.000e-04, eta: 0:45:58, time: 0.265, data_time: 0.011, memory: 5635, loss_rpn_cls: 0.0058, loss_rpn_bbox: 0.0045, loss_cls: 0.0563, acc: 99.5469, loss_bbox: 0.2182, loss: 0.2848\n",
      "2022-05-26 19:40:45,015 - mmfewshot - INFO - Iter [91750/100000]\tlr: 1.000e-04, eta: 0:45:41, time: 0.268, data_time: 0.012, memory: 5635, loss_rpn_cls: 0.0081, loss_rpn_bbox: 0.0063, loss_cls: 0.0361, acc: 99.7266, loss_bbox: 0.2328, loss: 0.2834\n",
      "2022-05-26 19:40:58,437 - mmfewshot - INFO - Iter [91800/100000]\tlr: 1.000e-04, eta: 0:45:24, time: 0.269, data_time: 0.012, memory: 5635, loss_rpn_cls: 0.0043, loss_rpn_bbox: 0.0047, loss_cls: 0.0377, acc: 99.6406, loss_bbox: 0.2372, loss: 0.2839\n",
      "2022-05-26 19:41:11,802 - mmfewshot - INFO - Iter [91850/100000]\tlr: 1.000e-04, eta: 0:45:07, time: 0.267, data_time: 0.012, memory: 5635, loss_rpn_cls: 0.0045, loss_rpn_bbox: 0.0041, loss_cls: 0.0419, acc: 99.5781, loss_bbox: 0.2418, loss: 0.2922\n",
      "2022-05-26 19:41:25,290 - mmfewshot - INFO - Iter [91900/100000]\tlr: 1.000e-04, eta: 0:44:50, time: 0.270, data_time: 0.012, memory: 5635, loss_rpn_cls: 0.0064, loss_rpn_bbox: 0.0064, loss_cls: 0.0510, acc: 99.6094, loss_bbox: 0.2132, loss: 0.2771\n",
      "2022-05-26 19:41:38,722 - mmfewshot - INFO - Iter [91950/100000]\tlr: 1.000e-04, eta: 0:44:33, time: 0.268, data_time: 0.012, memory: 5635, loss_rpn_cls: 0.0049, loss_rpn_bbox: 0.0053, loss_cls: 0.0452, acc: 99.4922, loss_bbox: 0.2677, loss: 0.3231\n",
      "2022-05-26 19:41:52,270 - mmfewshot - INFO - Exp name: attention-rpn_r50_c4_tb-split1_1shot-fine-tuning-momentum-09.py\n",
      "2022-05-26 19:41:52,271 - mmfewshot - INFO - Iter [92000/100000]\tlr: 1.000e-04, eta: 0:44:16, time: 0.271, data_time: 0.013, memory: 5635, loss_rpn_cls: 0.0060, loss_rpn_bbox: 0.0055, loss_cls: 0.0408, acc: 99.4688, loss_bbox: 0.2454, loss: 0.2977\n",
      "2022-05-26 19:41:52,277 - mmdet - INFO - starting model initialization...\n"
     ]
    },
    {
     "name": "stdout",
     "output_type": "stream",
     "text": [
      "[>>>>>>>>>>>>>>>>>>>>>>>>>>>>>>] 640/640, 74.8 task/s, elapsed: 9s, ETA:     0s"
     ]
    },
    {
     "name": "stderr",
     "output_type": "stream",
     "text": [
      "2022-05-26 19:42:00,898 - mmdet - INFO - model initialization done.\n"
     ]
    },
    {
     "name": "stdout",
     "output_type": "stream",
     "text": [
      "[>>>>>>>>>>>>>>>>>>>>>>>>>>>>>] 712/712, 12.9 task/s, elapsed: 55s, ETA:     0s\n",
      "---------------iou_thr: 0.5---------------\n"
     ]
    },
    {
     "name": "stderr",
     "output_type": "stream",
     "text": [
      "2022-05-26 19:42:56,690 - mmfewshot - INFO - \n",
      "+----------+-----+------+--------+-------+\n",
      "| class    | gts | dets | recall | ap    |\n",
      "+----------+-----+------+--------+-------+\n",
      "| 7up      | 810 | 1970 | 0.680  | 0.441 |\n",
      "| BudLight | 209 | 459  | 0.545  | 0.333 |\n",
      "+----------+-----+------+--------+-------+\n",
      "| mAP      |     |      |        | 0.387 |\n",
      "+----------+-----+------+--------+-------+\n",
      "2022-05-26 19:42:56,692 - mmfewshot - INFO - BASE_CLASSES_SPLIT1 mAP: 0.38745927810668945\n",
      "2022-05-26 19:42:56,693 - mmfewshot - INFO - NOVEL_CLASSES_SPLIT1 mAP: nan\n",
      "2022-05-26 19:42:56,697 - mmfewshot - INFO - Exp name: attention-rpn_r50_c4_tb-split1_1shot-fine-tuning-momentum-09.py\n",
      "2022-05-26 19:42:56,698 - mmfewshot - INFO - Iter(val) [712]\tAP50: 0.3870, BASE_CLASSES_SPLIT1: AP50: 0.3870, NOVEL_CLASSES_SPLIT1: AP50: nan, mAP: 0.3875\n",
      "2022-05-26 19:43:10,267 - mmfewshot - INFO - Iter [92050/100000]\tlr: 1.000e-04, eta: 0:44:05, time: 1.560, data_time: 1.300, memory: 5635, loss_rpn_cls: 0.0038, loss_rpn_bbox: 0.0036, loss_cls: 0.0370, acc: 99.5156, loss_bbox: 0.2303, loss: 0.2747\n",
      "2022-05-26 19:43:23,626 - mmfewshot - INFO - Iter [92100/100000]\tlr: 1.000e-04, eta: 0:43:48, time: 0.267, data_time: 0.012, memory: 5635, loss_rpn_cls: 0.0054, loss_rpn_bbox: 0.0078, loss_cls: 0.0384, acc: 99.6094, loss_bbox: 0.2252, loss: 0.2768\n",
      "2022-05-26 19:43:36,819 - mmfewshot - INFO - Iter [92150/100000]\tlr: 1.000e-04, eta: 0:43:31, time: 0.264, data_time: 0.011, memory: 5635, loss_rpn_cls: 0.0082, loss_rpn_bbox: 0.0105, loss_cls: 0.0770, acc: 99.3984, loss_bbox: 0.2137, loss: 0.3094\n",
      "2022-05-26 19:43:50,110 - mmfewshot - INFO - Iter [92200/100000]\tlr: 1.000e-04, eta: 0:43:14, time: 0.266, data_time: 0.011, memory: 5635, loss_rpn_cls: 0.0054, loss_rpn_bbox: 0.0060, loss_cls: 0.0393, acc: 99.6094, loss_bbox: 0.2320, loss: 0.2827\n",
      "2022-05-26 19:44:03,464 - mmfewshot - INFO - Iter [92250/100000]\tlr: 1.000e-04, eta: 0:42:57, time: 0.267, data_time: 0.012, memory: 5635, loss_rpn_cls: 0.0046, loss_rpn_bbox: 0.0068, loss_cls: 0.0419, acc: 99.6406, loss_bbox: 0.2148, loss: 0.2681\n",
      "2022-05-26 19:44:16,788 - mmfewshot - INFO - Iter [92300/100000]\tlr: 1.000e-04, eta: 0:42:41, time: 0.267, data_time: 0.012, memory: 5635, loss_rpn_cls: 0.0055, loss_rpn_bbox: 0.0065, loss_cls: 0.0441, acc: 99.5703, loss_bbox: 0.2340, loss: 0.2902\n",
      "2022-05-26 19:44:30,178 - mmfewshot - INFO - Iter [92350/100000]\tlr: 1.000e-04, eta: 0:42:24, time: 0.268, data_time: 0.012, memory: 5635, loss_rpn_cls: 0.0030, loss_rpn_bbox: 0.0041, loss_cls: 0.0438, acc: 99.5938, loss_bbox: 0.2174, loss: 0.2682\n",
      "2022-05-26 19:44:43,551 - mmfewshot - INFO - Iter [92400/100000]\tlr: 1.000e-04, eta: 0:42:07, time: 0.267, data_time: 0.012, memory: 5635, loss_rpn_cls: 0.0053, loss_rpn_bbox: 0.0044, loss_cls: 0.0518, acc: 99.5781, loss_bbox: 0.2165, loss: 0.2780\n",
      "2022-05-26 19:44:56,924 - mmfewshot - INFO - Iter [92450/100000]\tlr: 1.000e-04, eta: 0:41:50, time: 0.267, data_time: 0.011, memory: 5635, loss_rpn_cls: 0.0041, loss_rpn_bbox: 0.0063, loss_cls: 0.0440, acc: 99.5391, loss_bbox: 0.2211, loss: 0.2755\n",
      "2022-05-26 19:45:10,231 - mmfewshot - INFO - Iter [92500/100000]\tlr: 1.000e-04, eta: 0:41:33, time: 0.266, data_time: 0.011, memory: 5635, loss_rpn_cls: 0.0040, loss_rpn_bbox: 0.0056, loss_cls: 0.1054, acc: 99.4453, loss_bbox: 0.2217, loss: 0.3366\n",
      "2022-05-26 19:45:23,629 - mmfewshot - INFO - Iter [92550/100000]\tlr: 1.000e-04, eta: 0:41:16, time: 0.268, data_time: 0.012, memory: 5635, loss_rpn_cls: 0.0028, loss_rpn_bbox: 0.0029, loss_cls: 0.0548, acc: 99.5000, loss_bbox: 0.2064, loss: 0.2669\n",
      "2022-05-26 19:45:37,181 - mmfewshot - INFO - Iter [92600/100000]\tlr: 1.000e-04, eta: 0:40:59, time: 0.271, data_time: 0.011, memory: 5635, loss_rpn_cls: 0.0048, loss_rpn_bbox: 0.0052, loss_cls: 0.0377, acc: 99.5703, loss_bbox: 0.2085, loss: 0.2562\n",
      "2022-05-26 19:45:50,515 - mmfewshot - INFO - Iter [92650/100000]\tlr: 1.000e-04, eta: 0:40:42, time: 0.266, data_time: 0.011, memory: 5635, loss_rpn_cls: 0.0060, loss_rpn_bbox: 0.0047, loss_cls: 0.0458, acc: 99.5859, loss_bbox: 0.1974, loss: 0.2540\n",
      "2022-05-26 19:46:03,789 - mmfewshot - INFO - Iter [92700/100000]\tlr: 1.000e-04, eta: 0:40:25, time: 0.266, data_time: 0.012, memory: 5635, loss_rpn_cls: 0.0062, loss_rpn_bbox: 0.0065, loss_cls: 0.0616, acc: 99.4531, loss_bbox: 0.2239, loss: 0.2982\n",
      "2022-05-26 19:46:17,297 - mmfewshot - INFO - Iter [92750/100000]\tlr: 1.000e-04, eta: 0:40:09, time: 0.270, data_time: 0.012, memory: 5635, loss_rpn_cls: 0.0042, loss_rpn_bbox: 0.0037, loss_cls: 0.0421, acc: 99.6016, loss_bbox: 0.2025, loss: 0.2525\n",
      "2022-05-26 19:46:30,475 - mmfewshot - INFO - Iter [92800/100000]\tlr: 1.000e-04, eta: 0:39:52, time: 0.264, data_time: 0.010, memory: 5635, loss_rpn_cls: 0.0041, loss_rpn_bbox: 0.0072, loss_cls: 0.0424, acc: 99.5312, loss_bbox: 0.2327, loss: 0.2864\n",
      "2022-05-26 19:46:43,787 - mmfewshot - INFO - Iter [92850/100000]\tlr: 1.000e-04, eta: 0:39:35, time: 0.266, data_time: 0.011, memory: 5635, loss_rpn_cls: 0.0032, loss_rpn_bbox: 0.0027, loss_cls: 0.0556, acc: 99.5000, loss_bbox: 0.1872, loss: 0.2487\n",
      "2022-05-26 19:46:56,892 - mmfewshot - INFO - Iter [92900/100000]\tlr: 1.000e-04, eta: 0:39:18, time: 0.262, data_time: 0.011, memory: 5635, loss_rpn_cls: 0.0050, loss_rpn_bbox: 0.0047, loss_cls: 0.0445, acc: 99.5859, loss_bbox: 0.1802, loss: 0.2344\n",
      "2022-05-26 19:47:10,268 - mmfewshot - INFO - Iter [92950/100000]\tlr: 1.000e-04, eta: 0:39:01, time: 0.268, data_time: 0.011, memory: 5635, loss_rpn_cls: 0.0047, loss_rpn_bbox: 0.0037, loss_cls: 0.0481, acc: 99.6484, loss_bbox: 0.1885, loss: 0.2450\n",
      "2022-05-26 19:47:23,506 - mmfewshot - INFO - Exp name: attention-rpn_r50_c4_tb-split1_1shot-fine-tuning-momentum-09.py\n",
      "2022-05-26 19:47:23,508 - mmfewshot - INFO - Iter [93000/100000]\tlr: 1.000e-04, eta: 0:38:44, time: 0.265, data_time: 0.011, memory: 5635, loss_rpn_cls: 0.0042, loss_rpn_bbox: 0.0043, loss_cls: 0.0544, acc: 99.4453, loss_bbox: 0.1914, loss: 0.2544\n",
      "2022-05-26 19:47:23,512 - mmdet - INFO - starting model initialization...\n"
     ]
    },
    {
     "name": "stdout",
     "output_type": "stream",
     "text": [
      "[>>>>>>>>>>>>>>>>>>>>>>>>>>>>>>] 640/640, 77.7 task/s, elapsed: 8s, ETA:     0s"
     ]
    },
    {
     "name": "stderr",
     "output_type": "stream",
     "text": [
      "2022-05-26 19:47:31,839 - mmdet - INFO - model initialization done.\n"
     ]
    },
    {
     "name": "stdout",
     "output_type": "stream",
     "text": [
      "[>>>>>>>>>>>>>>>>>>>>>>>>>>>>>] 712/712, 12.6 task/s, elapsed: 56s, ETA:     0s\n",
      "---------------iou_thr: 0.5---------------\n"
     ]
    },
    {
     "name": "stderr",
     "output_type": "stream",
     "text": [
      "2022-05-26 19:48:28,684 - mmfewshot - INFO - \n",
      "+----------+-----+------+--------+-------+\n",
      "| class    | gts | dets | recall | ap    |\n",
      "+----------+-----+------+--------+-------+\n",
      "| 7up      | 810 | 1474 | 0.622  | 0.385 |\n",
      "| BudLight | 209 | 427  | 0.579  | 0.373 |\n",
      "+----------+-----+------+--------+-------+\n",
      "| mAP      |     |      |        | 0.379 |\n",
      "+----------+-----+------+--------+-------+\n",
      "2022-05-26 19:48:28,687 - mmfewshot - INFO - BASE_CLASSES_SPLIT1 mAP: 0.37902042269706726\n",
      "2022-05-26 19:48:28,688 - mmfewshot - INFO - NOVEL_CLASSES_SPLIT1 mAP: nan\n",
      "2022-05-26 19:48:28,692 - mmfewshot - INFO - Exp name: attention-rpn_r50_c4_tb-split1_1shot-fine-tuning-momentum-09.py\n",
      "2022-05-26 19:48:28,693 - mmfewshot - INFO - Iter(val) [712]\tAP50: 0.3790, BASE_CLASSES_SPLIT1: AP50: 0.3790, NOVEL_CLASSES_SPLIT1: AP50: nan, mAP: 0.3790\n",
      "2022-05-26 19:48:42,447 - mmfewshot - INFO - Iter [93050/100000]\tlr: 1.000e-04, eta: 0:38:32, time: 1.579, data_time: 1.316, memory: 5635, loss_rpn_cls: 0.0051, loss_rpn_bbox: 0.0053, loss_cls: 0.0974, acc: 99.1172, loss_bbox: 0.2070, loss: 0.3148\n",
      "2022-05-26 19:48:56,036 - mmfewshot - INFO - Iter [93100/100000]\tlr: 1.000e-04, eta: 0:38:15, time: 0.271, data_time: 0.013, memory: 5635, loss_rpn_cls: 0.0061, loss_rpn_bbox: 0.0058, loss_cls: 0.0578, acc: 99.4453, loss_bbox: 0.2131, loss: 0.2828\n",
      "2022-05-26 19:49:09,541 - mmfewshot - INFO - Iter [93150/100000]\tlr: 1.000e-04, eta: 0:37:59, time: 0.270, data_time: 0.012, memory: 5635, loss_rpn_cls: 0.0043, loss_rpn_bbox: 0.0047, loss_cls: 0.0370, acc: 99.5938, loss_bbox: 0.1973, loss: 0.2433\n",
      "2022-05-26 19:49:23,192 - mmfewshot - INFO - Iter [93200/100000]\tlr: 1.000e-04, eta: 0:37:42, time: 0.273, data_time: 0.012, memory: 5635, loss_rpn_cls: 0.0070, loss_rpn_bbox: 0.0059, loss_cls: 0.0553, acc: 99.4609, loss_bbox: 0.2092, loss: 0.2773\n",
      "2022-05-26 19:49:36,677 - mmfewshot - INFO - Iter [93250/100000]\tlr: 1.000e-04, eta: 0:37:25, time: 0.270, data_time: 0.012, memory: 5635, loss_rpn_cls: 0.0039, loss_rpn_bbox: 0.0065, loss_cls: 0.0329, acc: 99.6094, loss_bbox: 0.2060, loss: 0.2493\n",
      "2022-05-26 19:49:50,089 - mmfewshot - INFO - Iter [93300/100000]\tlr: 1.000e-04, eta: 0:37:08, time: 0.268, data_time: 0.012, memory: 5635, loss_rpn_cls: 0.0053, loss_rpn_bbox: 0.0046, loss_cls: 0.0656, acc: 99.3594, loss_bbox: 0.1971, loss: 0.2726\n",
      "2022-05-26 19:50:03,582 - mmfewshot - INFO - Iter [93350/100000]\tlr: 1.000e-04, eta: 0:36:51, time: 0.270, data_time: 0.012, memory: 5635, loss_rpn_cls: 0.0049, loss_rpn_bbox: 0.0062, loss_cls: 0.0423, acc: 99.6094, loss_bbox: 0.1705, loss: 0.2240\n",
      "2022-05-26 19:50:16,874 - mmfewshot - INFO - Iter [93400/100000]\tlr: 1.000e-04, eta: 0:36:34, time: 0.266, data_time: 0.012, memory: 5635, loss_rpn_cls: 0.0039, loss_rpn_bbox: 0.0031, loss_cls: 0.0500, acc: 99.4531, loss_bbox: 0.1626, loss: 0.2196\n",
      "2022-05-26 19:50:30,089 - mmfewshot - INFO - Iter [93450/100000]\tlr: 1.000e-04, eta: 0:36:17, time: 0.264, data_time: 0.012, memory: 5635, loss_rpn_cls: 0.0043, loss_rpn_bbox: 0.0052, loss_cls: 0.0384, acc: 99.6094, loss_bbox: 0.1683, loss: 0.2162\n",
      "2022-05-26 19:50:43,576 - mmfewshot - INFO - Iter [93500/100000]\tlr: 1.000e-04, eta: 0:36:01, time: 0.270, data_time: 0.012, memory: 5635, loss_rpn_cls: 0.0059, loss_rpn_bbox: 0.0086, loss_cls: 0.0530, acc: 99.4922, loss_bbox: 0.1569, loss: 0.2244\n",
      "2022-05-26 19:50:56,919 - mmfewshot - INFO - Iter [93550/100000]\tlr: 1.000e-04, eta: 0:35:44, time: 0.267, data_time: 0.012, memory: 5635, loss_rpn_cls: 0.0039, loss_rpn_bbox: 0.0052, loss_cls: 0.0461, acc: 99.6016, loss_bbox: 0.1678, loss: 0.2230\n",
      "2022-05-26 19:51:10,197 - mmfewshot - INFO - Iter [93600/100000]\tlr: 1.000e-04, eta: 0:35:27, time: 0.266, data_time: 0.012, memory: 5635, loss_rpn_cls: 0.0040, loss_rpn_bbox: 0.0037, loss_cls: 0.0593, acc: 99.5781, loss_bbox: 0.1579, loss: 0.2249\n",
      "2022-05-26 19:51:23,508 - mmfewshot - INFO - Iter [93650/100000]\tlr: 1.000e-04, eta: 0:35:10, time: 0.266, data_time: 0.012, memory: 5635, loss_rpn_cls: 0.0065, loss_rpn_bbox: 0.0119, loss_cls: 0.0742, acc: 99.3594, loss_bbox: 0.1814, loss: 0.2740\n",
      "2022-05-26 19:51:36,915 - mmfewshot - INFO - Iter [93700/100000]\tlr: 1.000e-04, eta: 0:34:53, time: 0.268, data_time: 0.012, memory: 5635, loss_rpn_cls: 0.0070, loss_rpn_bbox: 0.0065, loss_cls: 0.0376, acc: 99.6328, loss_bbox: 0.1710, loss: 0.2220\n",
      "2022-05-26 19:51:50,121 - mmfewshot - INFO - Iter [93750/100000]\tlr: 1.000e-04, eta: 0:34:36, time: 0.264, data_time: 0.011, memory: 5635, loss_rpn_cls: 0.0029, loss_rpn_bbox: 0.0023, loss_cls: 0.0567, acc: 99.4297, loss_bbox: 0.1402, loss: 0.2022\n",
      "2022-05-26 19:52:03,379 - mmfewshot - INFO - Iter [93800/100000]\tlr: 1.000e-04, eta: 0:34:20, time: 0.265, data_time: 0.012, memory: 5635, loss_rpn_cls: 0.0074, loss_rpn_bbox: 0.0071, loss_cls: 0.0581, acc: 99.4766, loss_bbox: 0.1452, loss: 0.2178\n",
      "2022-05-26 19:52:16,662 - mmfewshot - INFO - Iter [93850/100000]\tlr: 1.000e-04, eta: 0:34:03, time: 0.266, data_time: 0.011, memory: 5635, loss_rpn_cls: 0.0034, loss_rpn_bbox: 0.0047, loss_cls: 0.0492, acc: 99.5000, loss_bbox: 0.1524, loss: 0.2097\n",
      "2022-05-26 19:52:30,249 - mmfewshot - INFO - Iter [93900/100000]\tlr: 1.000e-04, eta: 0:33:46, time: 0.271, data_time: 0.011, memory: 5635, loss_rpn_cls: 0.0032, loss_rpn_bbox: 0.0037, loss_cls: 0.0609, acc: 99.3672, loss_bbox: 0.1597, loss: 0.2274\n",
      "2022-05-26 19:52:43,422 - mmfewshot - INFO - Iter [93950/100000]\tlr: 1.000e-04, eta: 0:33:29, time: 0.264, data_time: 0.011, memory: 5635, loss_rpn_cls: 0.0068, loss_rpn_bbox: 0.0087, loss_cls: 0.0498, acc: 99.5312, loss_bbox: 0.1463, loss: 0.2116\n",
      "2022-05-26 19:52:56,877 - mmfewshot - INFO - Exp name: attention-rpn_r50_c4_tb-split1_1shot-fine-tuning-momentum-09.py\n",
      "2022-05-26 19:52:56,879 - mmfewshot - INFO - Iter [94000/100000]\tlr: 1.000e-04, eta: 0:33:12, time: 0.269, data_time: 0.012, memory: 5635, loss_rpn_cls: 0.0035, loss_rpn_bbox: 0.0038, loss_cls: 0.0322, acc: 99.6328, loss_bbox: 0.1320, loss: 0.1715\n",
      "2022-05-26 19:52:56,884 - mmdet - INFO - starting model initialization...\n"
     ]
    },
    {
     "name": "stdout",
     "output_type": "stream",
     "text": [
      "[>>>>>>>>>>>>>>>>>>>>>>>>>>>>>>] 640/640, 75.8 task/s, elapsed: 8s, ETA:     0s"
     ]
    },
    {
     "name": "stderr",
     "output_type": "stream",
     "text": [
      "2022-05-26 19:53:05,425 - mmdet - INFO - model initialization done.\n"
     ]
    },
    {
     "name": "stdout",
     "output_type": "stream",
     "text": [
      "[>>>>>>>>>>>>>>>>>>>>>>>>>>>>>] 712/712, 12.8 task/s, elapsed: 56s, ETA:     0s\n",
      "---------------iou_thr: 0.5---------------\n"
     ]
    },
    {
     "name": "stderr",
     "output_type": "stream",
     "text": [
      "2022-05-26 19:54:01,557 - mmfewshot - INFO - \n",
      "+----------+-----+------+--------+-------+\n",
      "| class    | gts | dets | recall | ap    |\n",
      "+----------+-----+------+--------+-------+\n",
      "| 7up      | 810 | 1456 | 0.716  | 0.566 |\n",
      "| BudLight | 209 | 349  | 0.502  | 0.324 |\n",
      "+----------+-----+------+--------+-------+\n",
      "| mAP      |     |      |        | 0.445 |\n",
      "+----------+-----+------+--------+-------+\n",
      "2022-05-26 19:54:01,560 - mmfewshot - INFO - BASE_CLASSES_SPLIT1 mAP: 0.4449460506439209\n",
      "2022-05-26 19:54:01,562 - mmfewshot - INFO - NOVEL_CLASSES_SPLIT1 mAP: nan\n",
      "2022-05-26 19:54:01,568 - mmfewshot - INFO - Exp name: attention-rpn_r50_c4_tb-split1_1shot-fine-tuning-momentum-09.py\n",
      "/home/zhaozhiyuan/anaconda3/envs/mmfewshot/lib/python3.7/site-packages/mmdet/core/evaluation/mean_ap.py:203: DeprecationWarning: `np.bool` is a deprecated alias for the builtin `bool`. To silence this warning, use `bool` by itself. Doing this will not modify any behavior and is safe. If you specifically wanted the numpy scalar type, use `np.bool_` here.\n",
      "Deprecated in NumPy 1.20; for more details and guidance: https://numpy.org/devdocs/release/1.20.0-notes.html#deprecations\n",
      "  (np.zeros(gt_bboxes.shape[0], dtype=np.bool),\n",
      "2022-05-26 19:54:01,570 - mmfewshot - INFO - Iter(val) [712]\tAP50: 0.4450, BASE_CLASSES_SPLIT1: AP50: 0.4450, NOVEL_CLASSES_SPLIT1: AP50: nan, mAP: 0.4449\n",
      "/home/zhaozhiyuan/anaconda3/envs/mmfewshot/lib/python3.7/site-packages/mmdet/core/evaluation/mean_ap.py:203: DeprecationWarning: `np.bool` is a deprecated alias for the builtin `bool`. To silence this warning, use `bool` by itself. Doing this will not modify any behavior and is safe. If you specifically wanted the numpy scalar type, use `np.bool_` here.\n",
      "Deprecated in NumPy 1.20; for more details and guidance: https://numpy.org/devdocs/release/1.20.0-notes.html#deprecations\n",
      "  (np.zeros(gt_bboxes.shape[0], dtype=np.bool),\n",
      "/home/zhaozhiyuan/anaconda3/envs/mmfewshot/lib/python3.7/site-packages/mmdet/core/evaluation/mean_ap.py:203: DeprecationWarning: `np.bool` is a deprecated alias for the builtin `bool`. To silence this warning, use `bool` by itself. Doing this will not modify any behavior and is safe. If you specifically wanted the numpy scalar type, use `np.bool_` here.\n",
      "Deprecated in NumPy 1.20; for more details and guidance: https://numpy.org/devdocs/release/1.20.0-notes.html#deprecations\n",
      "  (np.zeros(gt_bboxes.shape[0], dtype=np.bool),\n",
      "/home/zhaozhiyuan/anaconda3/envs/mmfewshot/lib/python3.7/site-packages/mmdet/core/evaluation/mean_ap.py:203: DeprecationWarning: `np.bool` is a deprecated alias for the builtin `bool`. To silence this warning, use `bool` by itself. Doing this will not modify any behavior and is safe. If you specifically wanted the numpy scalar type, use `np.bool_` here.\n",
      "Deprecated in NumPy 1.20; for more details and guidance: https://numpy.org/devdocs/release/1.20.0-notes.html#deprecations\n",
      "  (np.zeros(gt_bboxes.shape[0], dtype=np.bool),\n",
      "2022-05-26 19:54:14,964 - mmfewshot - INFO - Iter [94050/100000]\tlr: 1.000e-04, eta: 0:33:00, time: 1.562, data_time: 1.306, memory: 5635, loss_rpn_cls: 0.0063, loss_rpn_bbox: 0.0071, loss_cls: 0.0731, acc: 99.5312, loss_bbox: 0.1548, loss: 0.2413\n",
      "2022-05-26 19:54:28,384 - mmfewshot - INFO - Iter [94100/100000]\tlr: 1.000e-04, eta: 0:32:43, time: 0.269, data_time: 0.013, memory: 5635, loss_rpn_cls: 0.0051, loss_rpn_bbox: 0.0055, loss_cls: 0.0494, acc: 99.5938, loss_bbox: 0.1512, loss: 0.2112\n",
      "2022-05-26 19:54:41,716 - mmfewshot - INFO - Iter [94150/100000]\tlr: 1.000e-04, eta: 0:32:26, time: 0.267, data_time: 0.012, memory: 5635, loss_rpn_cls: 0.0075, loss_rpn_bbox: 0.0090, loss_cls: 0.0414, acc: 99.5156, loss_bbox: 0.1553, loss: 0.2132\n",
      "2022-05-26 19:54:55,103 - mmfewshot - INFO - Iter [94200/100000]\tlr: 1.000e-04, eta: 0:32:09, time: 0.268, data_time: 0.012, memory: 5635, loss_rpn_cls: 0.0041, loss_rpn_bbox: 0.0034, loss_cls: 0.0515, acc: 99.6094, loss_bbox: 0.1172, loss: 0.1761\n",
      "2022-05-26 19:55:08,633 - mmfewshot - INFO - Iter [94250/100000]\tlr: 1.000e-04, eta: 0:31:52, time: 0.271, data_time: 0.013, memory: 5635, loss_rpn_cls: 0.0049, loss_rpn_bbox: 0.0045, loss_cls: 0.0515, acc: 99.5469, loss_bbox: 0.1264, loss: 0.1874\n",
      "2022-05-26 19:55:22,133 - mmfewshot - INFO - Iter [94300/100000]\tlr: 1.000e-04, eta: 0:31:35, time: 0.270, data_time: 0.012, memory: 5635, loss_rpn_cls: 0.0072, loss_rpn_bbox: 0.0049, loss_cls: 0.0661, acc: 99.6328, loss_bbox: 0.1400, loss: 0.2182\n",
      "2022-05-26 19:55:35,810 - mmfewshot - INFO - Iter [94350/100000]\tlr: 1.000e-04, eta: 0:31:19, time: 0.274, data_time: 0.012, memory: 5635, loss_rpn_cls: 0.0045, loss_rpn_bbox: 0.0058, loss_cls: 0.0837, acc: 99.2344, loss_bbox: 0.1348, loss: 0.2287\n",
      "2022-05-26 19:55:49,168 - mmfewshot - INFO - Iter [94400/100000]\tlr: 1.000e-04, eta: 0:31:02, time: 0.267, data_time: 0.011, memory: 5635, loss_rpn_cls: 0.0048, loss_rpn_bbox: 0.0052, loss_cls: 0.0497, acc: 99.4141, loss_bbox: 0.1420, loss: 0.2018\n",
      "2022-05-26 19:56:02,683 - mmfewshot - INFO - Iter [94450/100000]\tlr: 1.000e-04, eta: 0:30:45, time: 0.270, data_time: 0.012, memory: 5635, loss_rpn_cls: 0.0058, loss_rpn_bbox: 0.0060, loss_cls: 0.0427, acc: 99.5469, loss_bbox: 0.1285, loss: 0.1830\n",
      "2022-05-26 19:56:16,072 - mmfewshot - INFO - Iter [94500/100000]\tlr: 1.000e-04, eta: 0:30:28, time: 0.268, data_time: 0.012, memory: 5635, loss_rpn_cls: 0.0052, loss_rpn_bbox: 0.0056, loss_cls: 0.0565, acc: 99.3672, loss_bbox: 0.1197, loss: 0.1870\n",
      "2022-05-26 19:56:29,634 - mmfewshot - INFO - Iter [94550/100000]\tlr: 1.000e-04, eta: 0:30:11, time: 0.271, data_time: 0.012, memory: 5635, loss_rpn_cls: 0.0035, loss_rpn_bbox: 0.0050, loss_cls: 0.0513, acc: 99.4766, loss_bbox: 0.1328, loss: 0.1927\n",
      "2022-05-26 19:56:42,871 - mmfewshot - INFO - Iter [94600/100000]\tlr: 1.000e-04, eta: 0:29:54, time: 0.265, data_time: 0.012, memory: 5635, loss_rpn_cls: 0.0045, loss_rpn_bbox: 0.0047, loss_cls: 0.0423, acc: 99.5391, loss_bbox: 0.1130, loss: 0.1646\n",
      "2022-05-26 19:56:56,105 - mmfewshot - INFO - Iter [94650/100000]\tlr: 1.000e-04, eta: 0:29:38, time: 0.265, data_time: 0.011, memory: 5635, loss_rpn_cls: 0.0046, loss_rpn_bbox: 0.0044, loss_cls: 0.0529, acc: 99.5312, loss_bbox: 0.1074, loss: 0.1692\n",
      "2022-05-26 19:57:09,442 - mmfewshot - INFO - Iter [94700/100000]\tlr: 1.000e-04, eta: 0:29:21, time: 0.267, data_time: 0.011, memory: 5635, loss_rpn_cls: 0.0037, loss_rpn_bbox: 0.0037, loss_cls: 0.0415, acc: 99.6328, loss_bbox: 0.0995, loss: 0.1484\n",
      "2022-05-26 19:57:22,968 - mmfewshot - INFO - Iter [94750/100000]\tlr: 1.000e-04, eta: 0:29:04, time: 0.271, data_time: 0.013, memory: 5635, loss_rpn_cls: 0.0032, loss_rpn_bbox: 0.0038, loss_cls: 0.0693, acc: 99.5625, loss_bbox: 0.0988, loss: 0.1750\n",
      "2022-05-26 19:57:36,189 - mmfewshot - INFO - Iter [94800/100000]\tlr: 1.000e-04, eta: 0:28:47, time: 0.264, data_time: 0.011, memory: 5635, loss_rpn_cls: 0.0048, loss_rpn_bbox: 0.0047, loss_cls: 0.0537, acc: 99.4219, loss_bbox: 0.1156, loss: 0.1788\n",
      "2022-05-26 19:57:49,480 - mmfewshot - INFO - Iter [94850/100000]\tlr: 1.000e-04, eta: 0:28:30, time: 0.266, data_time: 0.011, memory: 5635, loss_rpn_cls: 0.0061, loss_rpn_bbox: 0.0055, loss_cls: 0.0457, acc: 99.5938, loss_bbox: 0.1146, loss: 0.1720\n",
      "2022-05-26 19:58:02,781 - mmfewshot - INFO - Iter [94900/100000]\tlr: 1.000e-04, eta: 0:28:14, time: 0.266, data_time: 0.012, memory: 5635, loss_rpn_cls: 0.0039, loss_rpn_bbox: 0.0036, loss_cls: 0.0315, acc: 99.6016, loss_bbox: 0.1054, loss: 0.1445\n",
      "2022-05-26 19:58:15,951 - mmfewshot - INFO - Iter [94950/100000]\tlr: 1.000e-04, eta: 0:27:57, time: 0.263, data_time: 0.011, memory: 5635, loss_rpn_cls: 0.0044, loss_rpn_bbox: 0.0037, loss_cls: 0.0434, acc: 99.6172, loss_bbox: 0.1054, loss: 0.1568\n",
      "2022-05-26 19:58:29,218 - mmfewshot - INFO - Exp name: attention-rpn_r50_c4_tb-split1_1shot-fine-tuning-momentum-09.py\n",
      "2022-05-26 19:58:29,220 - mmfewshot - INFO - Iter [95000/100000]\tlr: 1.000e-04, eta: 0:27:40, time: 0.265, data_time: 0.011, memory: 5635, loss_rpn_cls: 0.0054, loss_rpn_bbox: 0.0058, loss_cls: 0.0460, acc: 99.5703, loss_bbox: 0.1006, loss: 0.1578\n",
      "2022-05-26 19:58:29,225 - mmdet - INFO - starting model initialization...\n"
     ]
    },
    {
     "name": "stdout",
     "output_type": "stream",
     "text": [
      "[>>>>>>>>>>>>>>>>>>>>>>>>>>>>>>] 640/640, 84.6 task/s, elapsed: 8s, ETA:     0s"
     ]
    },
    {
     "name": "stderr",
     "output_type": "stream",
     "text": [
      "2022-05-26 19:58:36,874 - mmdet - INFO - model initialization done.\n"
     ]
    },
    {
     "name": "stdout",
     "output_type": "stream",
     "text": [
      "[>>>>>>>>>>>>>>>>>>>>>>>>>>>>>] 712/712, 13.0 task/s, elapsed: 55s, ETA:     0s\n",
      "---------------iou_thr: 0.5---------------\n"
     ]
    },
    {
     "name": "stderr",
     "output_type": "stream",
     "text": [
      "2022-05-26 19:59:32,236 - mmfewshot - INFO - \n",
      "+----------+-----+------+--------+-------+\n",
      "| class    | gts | dets | recall | ap    |\n",
      "+----------+-----+------+--------+-------+\n",
      "| 7up      | 810 | 1235 | 0.635  | 0.437 |\n",
      "| BudLight | 209 | 247  | 0.498  | 0.333 |\n",
      "+----------+-----+------+--------+-------+\n",
      "| mAP      |     |      |        | 0.385 |\n",
      "+----------+-----+------+--------+-------+\n",
      "2022-05-26 19:59:32,299 - mmfewshot - INFO - BASE_CLASSES_SPLIT1 mAP: 0.3852100968360901\n",
      "2022-05-26 19:59:32,300 - mmfewshot - INFO - NOVEL_CLASSES_SPLIT1 mAP: nan\n",
      "2022-05-26 19:59:32,303 - mmfewshot - INFO - Exp name: attention-rpn_r50_c4_tb-split1_1shot-fine-tuning-momentum-09.py\n",
      "2022-05-26 19:59:32,304 - mmfewshot - INFO - Iter(val) [712]\tAP50: 0.3850, BASE_CLASSES_SPLIT1: AP50: 0.3850, NOVEL_CLASSES_SPLIT1: AP50: nan, mAP: 0.3852\n",
      "2022-05-26 19:59:45,558 - mmfewshot - INFO - Iter [95050/100000]\tlr: 1.000e-04, eta: 0:27:27, time: 1.527, data_time: 1.273, memory: 5635, loss_rpn_cls: 0.0047, loss_rpn_bbox: 0.0042, loss_cls: 0.0555, acc: 99.5312, loss_bbox: 0.1025, loss: 0.1670\n",
      "2022-05-26 19:59:58,550 - mmfewshot - INFO - Iter [95100/100000]\tlr: 1.000e-04, eta: 0:27:10, time: 0.260, data_time: 0.009, memory: 5635, loss_rpn_cls: 0.0043, loss_rpn_bbox: 0.0038, loss_cls: 0.0327, acc: 99.6250, loss_bbox: 0.1066, loss: 0.1474\n",
      "2022-05-26 20:00:11,610 - mmfewshot - INFO - Iter [95150/100000]\tlr: 1.000e-04, eta: 0:26:53, time: 0.261, data_time: 0.009, memory: 5635, loss_rpn_cls: 0.0044, loss_rpn_bbox: 0.0054, loss_cls: 0.0426, acc: 99.5547, loss_bbox: 0.1130, loss: 0.1654\n",
      "2022-05-26 20:00:24,757 - mmfewshot - INFO - Iter [95200/100000]\tlr: 1.000e-04, eta: 0:26:36, time: 0.263, data_time: 0.010, memory: 5635, loss_rpn_cls: 0.0049, loss_rpn_bbox: 0.0059, loss_cls: 0.0419, acc: 99.5781, loss_bbox: 0.0979, loss: 0.1506\n",
      "2022-05-26 20:00:38,284 - mmfewshot - INFO - Iter [95250/100000]\tlr: 1.000e-04, eta: 0:26:19, time: 0.270, data_time: 0.012, memory: 5635, loss_rpn_cls: 0.0043, loss_rpn_bbox: 0.0048, loss_cls: 0.0373, acc: 99.6016, loss_bbox: 0.0961, loss: 0.1424\n",
      "2022-05-26 20:00:51,413 - mmfewshot - INFO - Iter [95300/100000]\tlr: 1.000e-04, eta: 0:26:03, time: 0.263, data_time: 0.011, memory: 5635, loss_rpn_cls: 0.0045, loss_rpn_bbox: 0.0043, loss_cls: 0.0571, acc: 99.5391, loss_bbox: 0.1081, loss: 0.1739\n",
      "2022-05-26 20:01:04,795 - mmfewshot - INFO - Iter [95350/100000]\tlr: 1.000e-04, eta: 0:25:46, time: 0.268, data_time: 0.013, memory: 5635, loss_rpn_cls: 0.0059, loss_rpn_bbox: 0.0045, loss_cls: 0.0530, acc: 99.5859, loss_bbox: 0.1064, loss: 0.1699\n",
      "2022-05-26 20:01:18,100 - mmfewshot - INFO - Iter [95400/100000]\tlr: 1.000e-04, eta: 0:25:29, time: 0.266, data_time: 0.012, memory: 5635, loss_rpn_cls: 0.0041, loss_rpn_bbox: 0.0046, loss_cls: 0.0530, acc: 99.4531, loss_bbox: 0.1090, loss: 0.1708\n",
      "2022-05-26 20:01:31,605 - mmfewshot - INFO - Iter [95450/100000]\tlr: 1.000e-04, eta: 0:25:12, time: 0.270, data_time: 0.013, memory: 5635, loss_rpn_cls: 0.0035, loss_rpn_bbox: 0.0044, loss_cls: 0.0490, acc: 99.3984, loss_bbox: 0.0991, loss: 0.1560\n",
      "2022-05-26 20:01:44,756 - mmfewshot - INFO - Iter [95500/100000]\tlr: 1.000e-04, eta: 0:24:55, time: 0.263, data_time: 0.011, memory: 5635, loss_rpn_cls: 0.0055, loss_rpn_bbox: 0.0074, loss_cls: 0.0348, acc: 99.6406, loss_bbox: 0.1052, loss: 0.1530\n",
      "2022-05-26 20:01:58,027 - mmfewshot - INFO - Iter [95550/100000]\tlr: 1.000e-04, eta: 0:24:39, time: 0.265, data_time: 0.011, memory: 5635, loss_rpn_cls: 0.0040, loss_rpn_bbox: 0.0064, loss_cls: 0.0369, acc: 99.6562, loss_bbox: 0.0912, loss: 0.1384\n",
      "2022-05-26 20:02:11,163 - mmfewshot - INFO - Iter [95600/100000]\tlr: 1.000e-04, eta: 0:24:22, time: 0.263, data_time: 0.012, memory: 5635, loss_rpn_cls: 0.0067, loss_rpn_bbox: 0.0070, loss_cls: 0.0388, acc: 99.5781, loss_bbox: 0.0973, loss: 0.1498\n",
      "2022-05-26 20:02:24,482 - mmfewshot - INFO - Iter [95650/100000]\tlr: 1.000e-04, eta: 0:24:05, time: 0.266, data_time: 0.011, memory: 5635, loss_rpn_cls: 0.0046, loss_rpn_bbox: 0.0049, loss_cls: 0.0328, acc: 99.6875, loss_bbox: 0.0955, loss: 0.1378\n",
      "2022-05-26 20:02:37,676 - mmfewshot - INFO - Iter [95700/100000]\tlr: 1.000e-04, eta: 0:23:48, time: 0.264, data_time: 0.011, memory: 5635, loss_rpn_cls: 0.0062, loss_rpn_bbox: 0.0062, loss_cls: 0.0962, acc: 99.2969, loss_bbox: 0.1266, loss: 0.2352\n",
      "2022-05-26 20:02:50,926 - mmfewshot - INFO - Iter [95750/100000]\tlr: 1.000e-04, eta: 0:23:32, time: 0.265, data_time: 0.010, memory: 5635, loss_rpn_cls: 0.0042, loss_rpn_bbox: 0.0048, loss_cls: 0.0495, acc: 99.5312, loss_bbox: 0.1184, loss: 0.1769\n",
      "2022-05-26 20:03:04,042 - mmfewshot - INFO - Iter [95800/100000]\tlr: 1.000e-04, eta: 0:23:15, time: 0.262, data_time: 0.010, memory: 5635, loss_rpn_cls: 0.0050, loss_rpn_bbox: 0.0040, loss_cls: 0.0451, acc: 99.6953, loss_bbox: 0.0897, loss: 0.1438\n",
      "2022-05-26 20:03:17,182 - mmfewshot - INFO - Iter [95850/100000]\tlr: 1.000e-04, eta: 0:22:58, time: 0.263, data_time: 0.011, memory: 5635, loss_rpn_cls: 0.0061, loss_rpn_bbox: 0.0050, loss_cls: 0.0400, acc: 99.6406, loss_bbox: 0.0995, loss: 0.1506\n",
      "2022-05-26 20:03:30,471 - mmfewshot - INFO - Iter [95900/100000]\tlr: 1.000e-04, eta: 0:22:41, time: 0.266, data_time: 0.012, memory: 5635, loss_rpn_cls: 0.0077, loss_rpn_bbox: 0.0057, loss_cls: 0.0424, acc: 99.4766, loss_bbox: 0.0997, loss: 0.1555\n",
      "2022-05-26 20:03:43,665 - mmfewshot - INFO - Iter [95950/100000]\tlr: 1.000e-04, eta: 0:22:25, time: 0.264, data_time: 0.010, memory: 5635, loss_rpn_cls: 0.0057, loss_rpn_bbox: 0.0058, loss_cls: 0.0423, acc: 99.5859, loss_bbox: 0.1006, loss: 0.1543\n",
      "2022-05-26 20:03:56,771 - mmfewshot - INFO - Exp name: attention-rpn_r50_c4_tb-split1_1shot-fine-tuning-momentum-09.py\n",
      "2022-05-26 20:03:56,772 - mmfewshot - INFO - Iter [96000/100000]\tlr: 1.000e-04, eta: 0:22:08, time: 0.262, data_time: 0.010, memory: 5635, loss_rpn_cls: 0.0043, loss_rpn_bbox: 0.0062, loss_cls: 0.0350, acc: 99.6953, loss_bbox: 0.0897, loss: 0.1352\n",
      "2022-05-26 20:03:56,777 - mmdet - INFO - starting model initialization...\n"
     ]
    },
    {
     "name": "stdout",
     "output_type": "stream",
     "text": [
      "[>>>>>>>>>>>>>>>>>>>>>>>>>>>>>>] 640/640, 86.0 task/s, elapsed: 7s, ETA:     0s"
     ]
    },
    {
     "name": "stderr",
     "output_type": "stream",
     "text": [
      "2022-05-26 20:04:04,294 - mmdet - INFO - model initialization done.\n"
     ]
    },
    {
     "name": "stdout",
     "output_type": "stream",
     "text": [
      "[>>>>>>>>>>>>>>>>>>>>>>>>>>>>>] 712/712, 12.8 task/s, elapsed: 56s, ETA:     0s\n",
      "---------------iou_thr: 0.5---------------\n"
     ]
    },
    {
     "name": "stderr",
     "output_type": "stream",
     "text": [
      "2022-05-26 20:05:00,522 - mmfewshot - INFO - \n",
      "+----------+-----+------+--------+-------+\n",
      "| class    | gts | dets | recall | ap    |\n",
      "+----------+-----+------+--------+-------+\n",
      "| 7up      | 810 | 1102 | 0.569  | 0.398 |\n",
      "| BudLight | 209 | 287  | 0.502  | 0.356 |\n",
      "+----------+-----+------+--------+-------+\n",
      "| mAP      |     |      |        | 0.377 |\n",
      "+----------+-----+------+--------+-------+\n",
      "2022-05-26 20:05:00,594 - mmfewshot - INFO - BASE_CLASSES_SPLIT1 mAP: 0.376740038394928\n",
      "2022-05-26 20:05:00,596 - mmfewshot - INFO - NOVEL_CLASSES_SPLIT1 mAP: nan\n",
      "2022-05-26 20:05:00,600 - mmfewshot - INFO - Exp name: attention-rpn_r50_c4_tb-split1_1shot-fine-tuning-momentum-09.py\n",
      "2022-05-26 20:05:00,601 - mmfewshot - INFO - Iter(val) [712]\tAP50: 0.3770, BASE_CLASSES_SPLIT1: AP50: 0.3770, NOVEL_CLASSES_SPLIT1: AP50: nan, mAP: 0.3767\n",
      "2022-05-26 20:05:14,051 - mmfewshot - INFO - Iter [96050/100000]\tlr: 1.000e-04, eta: 0:21:54, time: 1.546, data_time: 1.289, memory: 5635, loss_rpn_cls: 0.0041, loss_rpn_bbox: 0.0045, loss_cls: 0.0253, acc: 99.7109, loss_bbox: 0.0917, loss: 0.1256\n",
      "2022-05-26 20:05:27,397 - mmfewshot - INFO - Iter [96100/100000]\tlr: 1.000e-04, eta: 0:21:37, time: 0.267, data_time: 0.012, memory: 5635, loss_rpn_cls: 0.0040, loss_rpn_bbox: 0.0062, loss_cls: 0.0332, acc: 99.7109, loss_bbox: 0.0811, loss: 0.1245\n",
      "2022-05-26 20:05:40,592 - mmfewshot - INFO - Iter [96150/100000]\tlr: 1.000e-04, eta: 0:21:20, time: 0.264, data_time: 0.012, memory: 5635, loss_rpn_cls: 0.0060, loss_rpn_bbox: 0.0065, loss_cls: 0.0412, acc: 99.6406, loss_bbox: 0.0899, loss: 0.1436\n",
      "2022-05-26 20:05:53,912 - mmfewshot - INFO - Iter [96200/100000]\tlr: 1.000e-04, eta: 0:21:03, time: 0.266, data_time: 0.012, memory: 5635, loss_rpn_cls: 0.0036, loss_rpn_bbox: 0.0040, loss_cls: 0.0335, acc: 99.6953, loss_bbox: 0.0992, loss: 0.1402\n",
      "2022-05-26 20:06:06,890 - mmfewshot - INFO - Iter [96250/100000]\tlr: 1.000e-04, eta: 0:20:47, time: 0.260, data_time: 0.010, memory: 5635, loss_rpn_cls: 0.0050, loss_rpn_bbox: 0.0052, loss_cls: 0.0416, acc: 99.5859, loss_bbox: 0.0910, loss: 0.1428\n",
      "2022-05-26 20:06:19,895 - mmfewshot - INFO - Iter [96300/100000]\tlr: 1.000e-04, eta: 0:20:30, time: 0.260, data_time: 0.010, memory: 5635, loss_rpn_cls: 0.0043, loss_rpn_bbox: 0.0041, loss_cls: 0.0388, acc: 99.6562, loss_bbox: 0.0830, loss: 0.1303\n",
      "2022-05-26 20:06:32,921 - mmfewshot - INFO - Iter [96350/100000]\tlr: 1.000e-04, eta: 0:20:13, time: 0.260, data_time: 0.009, memory: 5635, loss_rpn_cls: 0.0047, loss_rpn_bbox: 0.0054, loss_cls: 0.0369, acc: 99.6484, loss_bbox: 0.0952, loss: 0.1422\n",
      "2022-05-26 20:06:46,018 - mmfewshot - INFO - Iter [96400/100000]\tlr: 1.000e-04, eta: 0:19:56, time: 0.262, data_time: 0.010, memory: 5635, loss_rpn_cls: 0.0035, loss_rpn_bbox: 0.0055, loss_cls: 0.0277, acc: 99.6172, loss_bbox: 0.0991, loss: 0.1358\n",
      "2022-05-26 20:06:59,224 - mmfewshot - INFO - Iter [96450/100000]\tlr: 1.000e-04, eta: 0:19:40, time: 0.264, data_time: 0.011, memory: 5635, loss_rpn_cls: 0.0032, loss_rpn_bbox: 0.0023, loss_cls: 0.0308, acc: 99.6953, loss_bbox: 0.0805, loss: 0.1168\n",
      "2022-05-26 20:07:12,193 - mmfewshot - INFO - Iter [96500/100000]\tlr: 1.000e-04, eta: 0:19:23, time: 0.259, data_time: 0.009, memory: 5635, loss_rpn_cls: 0.0069, loss_rpn_bbox: 0.0067, loss_cls: 0.0554, acc: 99.4453, loss_bbox: 0.0898, loss: 0.1588\n",
      "2022-05-26 20:07:25,241 - mmfewshot - INFO - Iter [96550/100000]\tlr: 1.000e-04, eta: 0:19:06, time: 0.261, data_time: 0.009, memory: 5635, loss_rpn_cls: 0.0040, loss_rpn_bbox: 0.0053, loss_cls: 0.0319, acc: 99.6172, loss_bbox: 0.0922, loss: 0.1334\n",
      "2022-05-26 20:07:38,268 - mmfewshot - INFO - Iter [96600/100000]\tlr: 1.000e-04, eta: 0:18:49, time: 0.261, data_time: 0.010, memory: 5635, loss_rpn_cls: 0.0039, loss_rpn_bbox: 0.0052, loss_cls: 0.0360, acc: 99.6250, loss_bbox: 0.0860, loss: 0.1310\n",
      "2022-05-26 20:07:51,304 - mmfewshot - INFO - Iter [96650/100000]\tlr: 1.000e-04, eta: 0:18:33, time: 0.261, data_time: 0.009, memory: 5635, loss_rpn_cls: 0.0074, loss_rpn_bbox: 0.0043, loss_cls: 0.0433, acc: 99.6328, loss_bbox: 0.0780, loss: 0.1331\n",
      "2022-05-26 20:08:04,323 - mmfewshot - INFO - Iter [96700/100000]\tlr: 1.000e-04, eta: 0:18:16, time: 0.260, data_time: 0.009, memory: 5635, loss_rpn_cls: 0.0059, loss_rpn_bbox: 0.0062, loss_cls: 0.0441, acc: 99.6406, loss_bbox: 0.0807, loss: 0.1370\n",
      "2022-05-26 20:08:17,308 - mmfewshot - INFO - Iter [96750/100000]\tlr: 1.000e-04, eta: 0:17:59, time: 0.260, data_time: 0.009, memory: 5635, loss_rpn_cls: 0.0038, loss_rpn_bbox: 0.0048, loss_cls: 0.0372, acc: 99.6797, loss_bbox: 0.0840, loss: 0.1298\n",
      "2022-05-26 20:08:30,279 - mmfewshot - INFO - Iter [96800/100000]\tlr: 1.000e-04, eta: 0:17:42, time: 0.259, data_time: 0.009, memory: 5635, loss_rpn_cls: 0.0035, loss_rpn_bbox: 0.0039, loss_cls: 0.0371, acc: 99.6797, loss_bbox: 0.0764, loss: 0.1208\n",
      "2022-05-26 20:08:43,315 - mmfewshot - INFO - Iter [96850/100000]\tlr: 1.000e-04, eta: 0:17:26, time: 0.261, data_time: 0.009, memory: 5635, loss_rpn_cls: 0.0064, loss_rpn_bbox: 0.0089, loss_cls: 0.0346, acc: 99.6172, loss_bbox: 0.0910, loss: 0.1408\n",
      "2022-05-26 20:08:56,398 - mmfewshot - INFO - Iter [96900/100000]\tlr: 1.000e-04, eta: 0:17:09, time: 0.262, data_time: 0.010, memory: 5635, loss_rpn_cls: 0.0047, loss_rpn_bbox: 0.0053, loss_cls: 0.0313, acc: 99.6406, loss_bbox: 0.0821, loss: 0.1233\n",
      "2022-05-26 20:09:09,476 - mmfewshot - INFO - Iter [96950/100000]\tlr: 1.000e-04, eta: 0:16:52, time: 0.261, data_time: 0.011, memory: 5635, loss_rpn_cls: 0.0031, loss_rpn_bbox: 0.0039, loss_cls: 0.0392, acc: 99.6172, loss_bbox: 0.0869, loss: 0.1332\n",
      "2022-05-26 20:09:23,102 - mmfewshot - INFO - Exp name: attention-rpn_r50_c4_tb-split1_1shot-fine-tuning-momentum-09.py\n",
      "2022-05-26 20:09:23,103 - mmfewshot - INFO - Iter [97000/100000]\tlr: 1.000e-04, eta: 0:16:36, time: 0.273, data_time: 0.014, memory: 5635, loss_rpn_cls: 0.0041, loss_rpn_bbox: 0.0055, loss_cls: 0.0274, acc: 99.7031, loss_bbox: 0.0896, loss: 0.1266\n",
      "2022-05-26 20:09:23,108 - mmdet - INFO - starting model initialization...\n"
     ]
    },
    {
     "name": "stdout",
     "output_type": "stream",
     "text": [
      "[>>>>>>>>>>>>>>>>>>>>>>>>>>>>>>] 640/640, 80.4 task/s, elapsed: 8s, ETA:     0s"
     ]
    },
    {
     "name": "stderr",
     "output_type": "stream",
     "text": [
      "2022-05-26 20:09:31,151 - mmdet - INFO - model initialization done.\n"
     ]
    },
    {
     "name": "stdout",
     "output_type": "stream",
     "text": [
      "[>>>>>>>>>>>>>>>>>>>>>>>>>>>>>] 712/712, 13.3 task/s, elapsed: 53s, ETA:     0s\n",
      "---------------iou_thr: 0.5---------------\n"
     ]
    },
    {
     "name": "stderr",
     "output_type": "stream",
     "text": [
      "2022-05-26 20:10:24,937 - mmfewshot - INFO - \n",
      "+----------+-----+------+--------+-------+\n",
      "| class    | gts | dets | recall | ap    |\n",
      "+----------+-----+------+--------+-------+\n",
      "| 7up      | 810 | 1023 | 0.593  | 0.446 |\n",
      "| BudLight | 209 | 298  | 0.579  | 0.425 |\n",
      "+----------+-----+------+--------+-------+\n",
      "| mAP      |     |      |        | 0.436 |\n",
      "+----------+-----+------+--------+-------+\n",
      "2022-05-26 20:10:24,941 - mmfewshot - INFO - BASE_CLASSES_SPLIT1 mAP: 0.43562495708465576\n",
      "2022-05-26 20:10:24,942 - mmfewshot - INFO - NOVEL_CLASSES_SPLIT1 mAP: nan\n",
      "2022-05-26 20:10:24,948 - mmfewshot - INFO - Exp name: attention-rpn_r50_c4_tb-split1_1shot-fine-tuning-momentum-09.py\n",
      "2022-05-26 20:10:24,949 - mmfewshot - INFO - Iter(val) [712]\tAP50: 0.4360, BASE_CLASSES_SPLIT1: AP50: 0.4360, NOVEL_CLASSES_SPLIT1: AP50: nan, mAP: 0.4356\n",
      "2022-05-26 20:10:38,275 - mmfewshot - INFO - Iter [97050/100000]\tlr: 1.000e-04, eta: 0:16:21, time: 1.503, data_time: 1.249, memory: 5635, loss_rpn_cls: 0.0036, loss_rpn_bbox: 0.0071, loss_cls: 0.0287, acc: 99.7031, loss_bbox: 0.0808, loss: 0.1201\n",
      "2022-05-26 20:10:51,436 - mmfewshot - INFO - Iter [97100/100000]\tlr: 1.000e-04, eta: 0:16:04, time: 0.263, data_time: 0.011, memory: 5635, loss_rpn_cls: 0.0046, loss_rpn_bbox: 0.0049, loss_cls: 0.0358, acc: 99.6562, loss_bbox: 0.0722, loss: 0.1175\n",
      "2022-05-26 20:11:04,468 - mmfewshot - INFO - Iter [97150/100000]\tlr: 1.000e-04, eta: 0:15:47, time: 0.261, data_time: 0.011, memory: 5635, loss_rpn_cls: 0.0047, loss_rpn_bbox: 0.0046, loss_cls: 0.0435, acc: 99.5859, loss_bbox: 0.0812, loss: 0.1339\n",
      "2022-05-26 20:11:17,432 - mmfewshot - INFO - Iter [97200/100000]\tlr: 1.000e-04, eta: 0:15:31, time: 0.259, data_time: 0.011, memory: 5635, loss_rpn_cls: 0.0046, loss_rpn_bbox: 0.0040, loss_cls: 0.0329, acc: 99.6719, loss_bbox: 0.0830, loss: 0.1245\n",
      "2022-05-26 20:11:30,433 - mmfewshot - INFO - Iter [97250/100000]\tlr: 1.000e-04, eta: 0:15:14, time: 0.260, data_time: 0.011, memory: 5635, loss_rpn_cls: 0.0045, loss_rpn_bbox: 0.0037, loss_cls: 0.0364, acc: 99.5938, loss_bbox: 0.0784, loss: 0.1230\n",
      "2022-05-26 20:11:43,441 - mmfewshot - INFO - Iter [97300/100000]\tlr: 1.000e-04, eta: 0:14:57, time: 0.260, data_time: 0.011, memory: 5635, loss_rpn_cls: 0.0063, loss_rpn_bbox: 0.0068, loss_cls: 0.0377, acc: 99.5781, loss_bbox: 0.0919, loss: 0.1426\n",
      "2022-05-26 20:11:56,477 - mmfewshot - INFO - Iter [97350/100000]\tlr: 1.000e-04, eta: 0:14:40, time: 0.261, data_time: 0.011, memory: 5635, loss_rpn_cls: 0.0034, loss_rpn_bbox: 0.0038, loss_cls: 0.0512, acc: 99.4922, loss_bbox: 0.0800, loss: 0.1384\n",
      "2022-05-26 20:12:09,466 - mmfewshot - INFO - Iter [97400/100000]\tlr: 1.000e-04, eta: 0:14:24, time: 0.260, data_time: 0.010, memory: 5635, loss_rpn_cls: 0.0038, loss_rpn_bbox: 0.0038, loss_cls: 0.0296, acc: 99.6875, loss_bbox: 0.0740, loss: 0.1113\n",
      "2022-05-26 20:12:22,506 - mmfewshot - INFO - Iter [97450/100000]\tlr: 1.000e-04, eta: 0:14:07, time: 0.261, data_time: 0.011, memory: 5635, loss_rpn_cls: 0.0036, loss_rpn_bbox: 0.0041, loss_cls: 0.0241, acc: 99.7500, loss_bbox: 0.0844, loss: 0.1162\n",
      "2022-05-26 20:12:35,679 - mmfewshot - INFO - Iter [97500/100000]\tlr: 1.000e-04, eta: 0:13:50, time: 0.264, data_time: 0.012, memory: 5635, loss_rpn_cls: 0.0041, loss_rpn_bbox: 0.0045, loss_cls: 0.0334, acc: 99.6953, loss_bbox: 0.0755, loss: 0.1176\n",
      "2022-05-26 20:12:49,183 - mmfewshot - INFO - Iter [97550/100000]\tlr: 1.000e-04, eta: 0:13:34, time: 0.270, data_time: 0.013, memory: 5635, loss_rpn_cls: 0.0037, loss_rpn_bbox: 0.0036, loss_cls: 0.0305, acc: 99.6953, loss_bbox: 0.0787, loss: 0.1164\n",
      "2022-05-26 20:13:02,730 - mmfewshot - INFO - Iter [97600/100000]\tlr: 1.000e-04, eta: 0:13:17, time: 0.271, data_time: 0.012, memory: 5635, loss_rpn_cls: 0.0044, loss_rpn_bbox: 0.0055, loss_cls: 0.0263, acc: 99.6875, loss_bbox: 0.0908, loss: 0.1270\n",
      "2022-05-26 20:13:16,122 - mmfewshot - INFO - Iter [97650/100000]\tlr: 1.000e-04, eta: 0:13:00, time: 0.268, data_time: 0.011, memory: 5635, loss_rpn_cls: 0.0040, loss_rpn_bbox: 0.0046, loss_cls: 0.0227, acc: 99.7422, loss_bbox: 0.0809, loss: 0.1121\n",
      "2022-05-26 20:13:29,680 - mmfewshot - INFO - Iter [97700/100000]\tlr: 1.000e-04, eta: 0:12:43, time: 0.271, data_time: 0.012, memory: 5635, loss_rpn_cls: 0.0046, loss_rpn_bbox: 0.0049, loss_cls: 0.0256, acc: 99.7500, loss_bbox: 0.0769, loss: 0.1121\n",
      "2022-05-26 20:13:43,045 - mmfewshot - INFO - Iter [97750/100000]\tlr: 1.000e-04, eta: 0:12:27, time: 0.267, data_time: 0.011, memory: 5635, loss_rpn_cls: 0.0056, loss_rpn_bbox: 0.0047, loss_cls: 0.0378, acc: 99.5234, loss_bbox: 0.0833, loss: 0.1313\n",
      "2022-05-26 20:13:56,451 - mmfewshot - INFO - Iter [97800/100000]\tlr: 1.000e-04, eta: 0:12:10, time: 0.268, data_time: 0.012, memory: 5635, loss_rpn_cls: 0.0073, loss_rpn_bbox: 0.0066, loss_cls: 0.0283, acc: 99.6406, loss_bbox: 0.0786, loss: 0.1208\n",
      "2022-05-26 20:14:09,556 - mmfewshot - INFO - Iter [97850/100000]\tlr: 1.000e-04, eta: 0:11:53, time: 0.262, data_time: 0.011, memory: 5635, loss_rpn_cls: 0.0061, loss_rpn_bbox: 0.0053, loss_cls: 0.0484, acc: 99.5469, loss_bbox: 0.0783, loss: 0.1381\n",
      "2022-05-26 20:14:22,756 - mmfewshot - INFO - Iter [97900/100000]\tlr: 1.000e-04, eta: 0:11:37, time: 0.264, data_time: 0.012, memory: 5635, loss_rpn_cls: 0.0042, loss_rpn_bbox: 0.0032, loss_cls: 0.0410, acc: 99.5547, loss_bbox: 0.0827, loss: 0.1311\n",
      "2022-05-26 20:14:35,818 - mmfewshot - INFO - Iter [97950/100000]\tlr: 1.000e-04, eta: 0:11:20, time: 0.261, data_time: 0.011, memory: 5635, loss_rpn_cls: 0.0035, loss_rpn_bbox: 0.0042, loss_cls: 0.0448, acc: 99.5156, loss_bbox: 0.0796, loss: 0.1321\n",
      "2022-05-26 20:14:48,880 - mmfewshot - INFO - Exp name: attention-rpn_r50_c4_tb-split1_1shot-fine-tuning-momentum-09.py\n",
      "2022-05-26 20:14:48,881 - mmfewshot - INFO - Iter [98000/100000]\tlr: 1.000e-04, eta: 0:11:03, time: 0.261, data_time: 0.011, memory: 5635, loss_rpn_cls: 0.0038, loss_rpn_bbox: 0.0040, loss_cls: 0.0287, acc: 99.6875, loss_bbox: 0.0882, loss: 0.1246\n",
      "2022-05-26 20:14:48,886 - mmdet - INFO - starting model initialization...\n"
     ]
    },
    {
     "name": "stdout",
     "output_type": "stream",
     "text": [
      "[>>>>>>>>>>>>>>>>>>>>>>>>>>>>>>] 640/640, 80.7 task/s, elapsed: 8s, ETA:     0s"
     ]
    },
    {
     "name": "stderr",
     "output_type": "stream",
     "text": [
      "2022-05-26 20:14:56,904 - mmdet - INFO - model initialization done.\n"
     ]
    },
    {
     "name": "stdout",
     "output_type": "stream",
     "text": [
      "[>>>>>>>>>>>>>>>>>>>>>>>>>>>>>] 712/712, 13.2 task/s, elapsed: 54s, ETA:     0s\n",
      "---------------iou_thr: 0.5---------------\n"
     ]
    },
    {
     "name": "stderr",
     "output_type": "stream",
     "text": [
      "2022-05-26 20:15:51,325 - mmfewshot - INFO - \n",
      "+----------+-----+------+--------+-------+\n",
      "| class    | gts | dets | recall | ap    |\n",
      "+----------+-----+------+--------+-------+\n",
      "| 7up      | 810 | 962  | 0.616  | 0.470 |\n",
      "| BudLight | 209 | 328  | 0.555  | 0.397 |\n",
      "+----------+-----+------+--------+-------+\n",
      "| mAP      |     |      |        | 0.434 |\n",
      "+----------+-----+------+--------+-------+\n",
      "2022-05-26 20:15:51,328 - mmfewshot - INFO - BASE_CLASSES_SPLIT1 mAP: 0.4336971044540405\n",
      "2022-05-26 20:15:51,330 - mmfewshot - INFO - NOVEL_CLASSES_SPLIT1 mAP: nan\n",
      "2022-05-26 20:15:51,336 - mmfewshot - INFO - Exp name: attention-rpn_r50_c4_tb-split1_1shot-fine-tuning-momentum-09.py\n",
      "2022-05-26 20:15:51,337 - mmfewshot - INFO - Iter(val) [712]\tAP50: 0.4340, BASE_CLASSES_SPLIT1: AP50: 0.4340, NOVEL_CLASSES_SPLIT1: AP50: nan, mAP: 0.4337\n",
      "2022-05-26 20:16:05,365 - mmfewshot - INFO - Iter [98050/100000]\tlr: 1.000e-04, eta: 0:10:48, time: 1.530, data_time: 1.264, memory: 5635, loss_rpn_cls: 0.0061, loss_rpn_bbox: 0.0050, loss_cls: 0.0449, acc: 99.5781, loss_bbox: 0.0747, loss: 0.1307\n",
      "2022-05-26 20:16:18,818 - mmfewshot - INFO - Iter [98100/100000]\tlr: 1.000e-04, eta: 0:10:31, time: 0.269, data_time: 0.012, memory: 5635, loss_rpn_cls: 0.0047, loss_rpn_bbox: 0.0050, loss_cls: 0.0233, acc: 99.6875, loss_bbox: 0.0868, loss: 0.1198\n",
      "2022-05-26 20:16:32,459 - mmfewshot - INFO - Iter [98150/100000]\tlr: 1.000e-04, eta: 0:10:15, time: 0.273, data_time: 0.013, memory: 5635, loss_rpn_cls: 0.0038, loss_rpn_bbox: 0.0044, loss_cls: 0.0322, acc: 99.6406, loss_bbox: 0.0768, loss: 0.1173\n",
      "2022-05-26 20:16:46,122 - mmfewshot - INFO - Iter [98200/100000]\tlr: 1.000e-04, eta: 0:09:58, time: 0.273, data_time: 0.012, memory: 5635, loss_rpn_cls: 0.0031, loss_rpn_bbox: 0.0043, loss_cls: 0.0397, acc: 99.6016, loss_bbox: 0.0690, loss: 0.1161\n",
      "2022-05-26 20:16:59,457 - mmfewshot - INFO - Iter [98250/100000]\tlr: 1.000e-04, eta: 0:09:41, time: 0.267, data_time: 0.010, memory: 5635, loss_rpn_cls: 0.0036, loss_rpn_bbox: 0.0040, loss_cls: 0.0352, acc: 99.7031, loss_bbox: 0.0760, loss: 0.1188\n",
      "2022-05-26 20:17:12,805 - mmfewshot - INFO - Iter [98300/100000]\tlr: 1.000e-04, eta: 0:09:25, time: 0.267, data_time: 0.010, memory: 5635, loss_rpn_cls: 0.0050, loss_rpn_bbox: 0.0053, loss_cls: 0.0376, acc: 99.6406, loss_bbox: 0.0710, loss: 0.1189\n",
      "2022-05-26 20:17:26,197 - mmfewshot - INFO - Iter [98350/100000]\tlr: 1.000e-04, eta: 0:09:08, time: 0.268, data_time: 0.010, memory: 5635, loss_rpn_cls: 0.0036, loss_rpn_bbox: 0.0069, loss_cls: 0.0403, acc: 99.5625, loss_bbox: 0.0865, loss: 0.1372\n",
      "2022-05-26 20:17:39,553 - mmfewshot - INFO - Iter [98400/100000]\tlr: 1.000e-04, eta: 0:08:51, time: 0.267, data_time: 0.010, memory: 5635, loss_rpn_cls: 0.0046, loss_rpn_bbox: 0.0042, loss_cls: 0.0380, acc: 99.6484, loss_bbox: 0.0816, loss: 0.1284\n",
      "2022-05-26 20:17:52,887 - mmfewshot - INFO - Iter [98450/100000]\tlr: 1.000e-04, eta: 0:08:35, time: 0.267, data_time: 0.010, memory: 5635, loss_rpn_cls: 0.0045, loss_rpn_bbox: 0.0048, loss_cls: 0.0342, acc: 99.6562, loss_bbox: 0.0777, loss: 0.1212\n",
      "2022-05-26 20:18:06,202 - mmfewshot - INFO - Iter [98500/100000]\tlr: 1.000e-04, eta: 0:08:18, time: 0.266, data_time: 0.010, memory: 5635, loss_rpn_cls: 0.0054, loss_rpn_bbox: 0.0038, loss_cls: 0.0327, acc: 99.6484, loss_bbox: 0.0767, loss: 0.1187\n",
      "2022-05-26 20:18:19,505 - mmfewshot - INFO - Iter [98550/100000]\tlr: 1.000e-04, eta: 0:08:01, time: 0.266, data_time: 0.010, memory: 5635, loss_rpn_cls: 0.0042, loss_rpn_bbox: 0.0054, loss_cls: 0.0393, acc: 99.5391, loss_bbox: 0.0798, loss: 0.1287\n",
      "2022-05-26 20:18:32,574 - mmfewshot - INFO - Iter [98600/100000]\tlr: 1.000e-04, eta: 0:07:45, time: 0.261, data_time: 0.012, memory: 5635, loss_rpn_cls: 0.0071, loss_rpn_bbox: 0.0052, loss_cls: 0.0437, acc: 99.5547, loss_bbox: 0.0800, loss: 0.1360\n",
      "2022-05-26 20:18:45,465 - mmfewshot - INFO - Iter [98650/100000]\tlr: 1.000e-04, eta: 0:07:28, time: 0.258, data_time: 0.011, memory: 5635, loss_rpn_cls: 0.0047, loss_rpn_bbox: 0.0046, loss_cls: 0.0259, acc: 99.6875, loss_bbox: 0.0805, loss: 0.1157\n",
      "2022-05-26 20:18:58,642 - mmfewshot - INFO - Iter [98700/100000]\tlr: 1.000e-04, eta: 0:07:11, time: 0.264, data_time: 0.013, memory: 5635, loss_rpn_cls: 0.0036, loss_rpn_bbox: 0.0035, loss_cls: 0.0260, acc: 99.7109, loss_bbox: 0.0774, loss: 0.1106\n",
      "2022-05-26 20:19:11,749 - mmfewshot - INFO - Iter [98750/100000]\tlr: 1.000e-04, eta: 0:06:55, time: 0.262, data_time: 0.011, memory: 5635, loss_rpn_cls: 0.0030, loss_rpn_bbox: 0.0039, loss_cls: 0.0423, acc: 99.6328, loss_bbox: 0.0671, loss: 0.1164\n",
      "2022-05-26 20:19:24,738 - mmfewshot - INFO - Iter [98800/100000]\tlr: 1.000e-04, eta: 0:06:38, time: 0.260, data_time: 0.011, memory: 5635, loss_rpn_cls: 0.0039, loss_rpn_bbox: 0.0047, loss_cls: 0.0257, acc: 99.7344, loss_bbox: 0.0726, loss: 0.1069\n",
      "2022-05-26 20:19:37,789 - mmfewshot - INFO - Iter [98850/100000]\tlr: 1.000e-04, eta: 0:06:21, time: 0.261, data_time: 0.010, memory: 5635, loss_rpn_cls: 0.0050, loss_rpn_bbox: 0.0049, loss_cls: 0.0342, acc: 99.6797, loss_bbox: 0.0826, loss: 0.1267\n",
      "2022-05-26 20:19:50,720 - mmfewshot - INFO - Iter [98900/100000]\tlr: 1.000e-04, eta: 0:06:05, time: 0.259, data_time: 0.009, memory: 5635, loss_rpn_cls: 0.0056, loss_rpn_bbox: 0.0045, loss_cls: 0.0442, acc: 99.5312, loss_bbox: 0.0838, loss: 0.1381\n",
      "2022-05-26 20:20:03,620 - mmfewshot - INFO - Iter [98950/100000]\tlr: 1.000e-04, eta: 0:05:48, time: 0.258, data_time: 0.009, memory: 5635, loss_rpn_cls: 0.0066, loss_rpn_bbox: 0.0070, loss_cls: 0.0378, acc: 99.6094, loss_bbox: 0.0781, loss: 0.1294\n",
      "2022-05-26 20:20:16,511 - mmfewshot - INFO - Exp name: attention-rpn_r50_c4_tb-split1_1shot-fine-tuning-momentum-09.py\n",
      "2022-05-26 20:20:16,512 - mmfewshot - INFO - Iter [99000/100000]\tlr: 1.000e-04, eta: 0:05:31, time: 0.258, data_time: 0.009, memory: 5635, loss_rpn_cls: 0.0031, loss_rpn_bbox: 0.0040, loss_cls: 0.0404, acc: 99.5547, loss_bbox: 0.0774, loss: 0.1250\n",
      "2022-05-26 20:20:16,517 - mmdet - INFO - starting model initialization...\n"
     ]
    },
    {
     "name": "stdout",
     "output_type": "stream",
     "text": [
      "[>>>>>>>>>>>>>>>>>>>>>>>>>>>>>>] 640/640, 86.0 task/s, elapsed: 7s, ETA:     0s"
     ]
    },
    {
     "name": "stderr",
     "output_type": "stream",
     "text": [
      "2022-05-26 20:20:24,051 - mmdet - INFO - model initialization done.\n"
     ]
    },
    {
     "name": "stdout",
     "output_type": "stream",
     "text": [
      "[>>>>>>>>>>>>>>>>>>>>>>>>>>>>>] 712/712, 12.9 task/s, elapsed: 55s, ETA:     0s\n",
      "---------------iou_thr: 0.5---------------\n"
     ]
    },
    {
     "name": "stderr",
     "output_type": "stream",
     "text": [
      "2022-05-26 20:21:19,885 - mmfewshot - INFO - \n",
      "+----------+-----+------+--------+-------+\n",
      "| class    | gts | dets | recall | ap    |\n",
      "+----------+-----+------+--------+-------+\n",
      "| 7up      | 810 | 888  | 0.572  | 0.437 |\n",
      "| BudLight | 209 | 333  | 0.555  | 0.377 |\n",
      "+----------+-----+------+--------+-------+\n",
      "| mAP      |     |      |        | 0.407 |\n",
      "+----------+-----+------+--------+-------+\n",
      "2022-05-26 20:21:19,889 - mmfewshot - INFO - BASE_CLASSES_SPLIT1 mAP: 0.4067600965499878\n",
      "2022-05-26 20:21:19,890 - mmfewshot - INFO - NOVEL_CLASSES_SPLIT1 mAP: nan\n",
      "2022-05-26 20:21:19,896 - mmfewshot - INFO - Exp name: attention-rpn_r50_c4_tb-split1_1shot-fine-tuning-momentum-09.py\n",
      "2022-05-26 20:21:19,898 - mmfewshot - INFO - Iter(val) [712]\tAP50: 0.4070, BASE_CLASSES_SPLIT1: AP50: 0.4070, NOVEL_CLASSES_SPLIT1: AP50: nan, mAP: 0.4068\n",
      "2022-05-26 20:21:33,271 - mmfewshot - INFO - Iter [99050/100000]\tlr: 1.000e-04, eta: 0:05:15, time: 1.536, data_time: 1.281, memory: 5635, loss_rpn_cls: 0.0034, loss_rpn_bbox: 0.0030, loss_cls: 0.0393, acc: 99.5859, loss_bbox: 0.0710, loss: 0.1167\n",
      "2022-05-26 20:21:46,296 - mmfewshot - INFO - Iter [99100/100000]\tlr: 1.000e-04, eta: 0:04:59, time: 0.260, data_time: 0.011, memory: 5635, loss_rpn_cls: 0.0037, loss_rpn_bbox: 0.0045, loss_cls: 0.0340, acc: 99.6953, loss_bbox: 0.0717, loss: 0.1139\n",
      "2022-05-26 20:21:59,369 - mmfewshot - INFO - Iter [99150/100000]\tlr: 1.000e-04, eta: 0:04:42, time: 0.261, data_time: 0.011, memory: 5635, loss_rpn_cls: 0.0054, loss_rpn_bbox: 0.0053, loss_cls: 0.0360, acc: 99.5781, loss_bbox: 0.0790, loss: 0.1256\n",
      "2022-05-26 20:22:12,604 - mmfewshot - INFO - Iter [99200/100000]\tlr: 1.000e-04, eta: 0:04:25, time: 0.265, data_time: 0.013, memory: 5635, loss_rpn_cls: 0.0045, loss_rpn_bbox: 0.0041, loss_cls: 0.0292, acc: 99.6797, loss_bbox: 0.0731, loss: 0.1109\n",
      "2022-05-26 20:22:25,940 - mmfewshot - INFO - Iter [99250/100000]\tlr: 1.000e-04, eta: 0:04:09, time: 0.267, data_time: 0.013, memory: 5635, loss_rpn_cls: 0.0025, loss_rpn_bbox: 0.0043, loss_cls: 0.0284, acc: 99.7031, loss_bbox: 0.0776, loss: 0.1128\n",
      "2022-05-26 20:22:39,094 - mmfewshot - INFO - Iter [99300/100000]\tlr: 1.000e-04, eta: 0:03:52, time: 0.263, data_time: 0.013, memory: 5635, loss_rpn_cls: 0.0043, loss_rpn_bbox: 0.0036, loss_cls: 0.0254, acc: 99.6875, loss_bbox: 0.0769, loss: 0.1103\n",
      "2022-05-26 20:22:52,527 - mmfewshot - INFO - Iter [99350/100000]\tlr: 1.000e-04, eta: 0:03:36, time: 0.269, data_time: 0.014, memory: 5635, loss_rpn_cls: 0.0047, loss_rpn_bbox: 0.0044, loss_cls: 0.0330, acc: 99.6953, loss_bbox: 0.0706, loss: 0.1128\n",
      "2022-05-26 20:23:05,549 - mmfewshot - INFO - Iter [99400/100000]\tlr: 1.000e-04, eta: 0:03:19, time: 0.261, data_time: 0.012, memory: 5635, loss_rpn_cls: 0.0033, loss_rpn_bbox: 0.0044, loss_cls: 0.0292, acc: 99.7031, loss_bbox: 0.0755, loss: 0.1125\n",
      "2022-05-26 20:23:18,712 - mmfewshot - INFO - Iter [99450/100000]\tlr: 1.000e-04, eta: 0:03:02, time: 0.263, data_time: 0.012, memory: 5635, loss_rpn_cls: 0.0045, loss_rpn_bbox: 0.0054, loss_cls: 0.0469, acc: 99.6562, loss_bbox: 0.0687, loss: 0.1255\n",
      "2022-05-26 20:23:31,875 - mmfewshot - INFO - Iter [99500/100000]\tlr: 1.000e-04, eta: 0:02:46, time: 0.263, data_time: 0.012, memory: 5635, loss_rpn_cls: 0.0041, loss_rpn_bbox: 0.0054, loss_cls: 0.0238, acc: 99.7578, loss_bbox: 0.0723, loss: 0.1056\n",
      "2022-05-26 20:23:45,097 - mmfewshot - INFO - Iter [99550/100000]\tlr: 1.000e-04, eta: 0:02:29, time: 0.264, data_time: 0.012, memory: 5635, loss_rpn_cls: 0.0047, loss_rpn_bbox: 0.0052, loss_cls: 0.0244, acc: 99.6875, loss_bbox: 0.0792, loss: 0.1135\n",
      "2022-05-26 20:23:58,360 - mmfewshot - INFO - Iter [99600/100000]\tlr: 1.000e-04, eta: 0:02:12, time: 0.265, data_time: 0.012, memory: 5635, loss_rpn_cls: 0.0053, loss_rpn_bbox: 0.0075, loss_cls: 0.0342, acc: 99.7344, loss_bbox: 0.0762, loss: 0.1232\n",
      "2022-05-26 20:24:11,545 - mmfewshot - INFO - Iter [99650/100000]\tlr: 1.000e-04, eta: 0:01:56, time: 0.263, data_time: 0.012, memory: 5635, loss_rpn_cls: 0.0027, loss_rpn_bbox: 0.0027, loss_cls: 0.0202, acc: 99.7656, loss_bbox: 0.0716, loss: 0.0972\n",
      "2022-05-26 20:24:24,747 - mmfewshot - INFO - Iter [99700/100000]\tlr: 1.000e-04, eta: 0:01:39, time: 0.264, data_time: 0.012, memory: 5635, loss_rpn_cls: 0.0034, loss_rpn_bbox: 0.0042, loss_cls: 0.0358, acc: 99.7109, loss_bbox: 0.0750, loss: 0.1184\n",
      "2022-05-26 20:24:37,842 - mmfewshot - INFO - Iter [99750/100000]\tlr: 1.000e-04, eta: 0:01:23, time: 0.262, data_time: 0.012, memory: 5635, loss_rpn_cls: 0.0044, loss_rpn_bbox: 0.0069, loss_cls: 0.0350, acc: 99.6250, loss_bbox: 0.0751, loss: 0.1214\n",
      "2022-05-26 20:24:51,116 - mmfewshot - INFO - Iter [99800/100000]\tlr: 1.000e-04, eta: 0:01:06, time: 0.266, data_time: 0.013, memory: 5635, loss_rpn_cls: 0.0046, loss_rpn_bbox: 0.0030, loss_cls: 0.0282, acc: 99.6797, loss_bbox: 0.0712, loss: 0.1070\n",
      "2022-05-26 20:25:04,702 - mmfewshot - INFO - Iter [99850/100000]\tlr: 1.000e-04, eta: 0:00:49, time: 0.272, data_time: 0.014, memory: 5635, loss_rpn_cls: 0.0045, loss_rpn_bbox: 0.0039, loss_cls: 0.0222, acc: 99.7891, loss_bbox: 0.0637, loss: 0.0942\n",
      "2022-05-26 20:25:18,145 - mmfewshot - INFO - Iter [99900/100000]\tlr: 1.000e-04, eta: 0:00:33, time: 0.269, data_time: 0.014, memory: 5635, loss_rpn_cls: 0.0038, loss_rpn_bbox: 0.0064, loss_cls: 0.0304, acc: 99.6797, loss_bbox: 0.0691, loss: 0.1097\n",
      "2022-05-26 20:25:31,590 - mmfewshot - INFO - Iter [99950/100000]\tlr: 1.000e-04, eta: 0:00:16, time: 0.269, data_time: 0.013, memory: 5635, loss_rpn_cls: 0.0043, loss_rpn_bbox: 0.0040, loss_cls: 0.0395, acc: 99.5625, loss_bbox: 0.0667, loss: 0.1146\n",
      "2022-05-26 20:25:44,910 - mmfewshot - INFO - Saving checkpoint at 100000 iterations\n",
      "2022-05-26 20:25:46,495 - mmfewshot - INFO - Exp name: attention-rpn_r50_c4_tb-split1_1shot-fine-tuning-momentum-09.py\n",
      "2022-05-26 20:25:46,496 - mmfewshot - INFO - Iter [100000/100000]\tlr: 1.000e-04, eta: 0:00:00, time: 0.300, data_time: 0.013, memory: 5635, loss_rpn_cls: 0.0032, loss_rpn_bbox: 0.0031, loss_cls: 0.0234, acc: 99.7344, loss_bbox: 0.0693, loss: 0.0991\n",
      "2022-05-26 20:25:46,500 - mmdet - INFO - starting model initialization...\n"
     ]
    },
    {
     "name": "stdout",
     "output_type": "stream",
     "text": [
      "[>>>>>>>>>>>>>>>>>>>>>>>>>>>>>>] 640/640, 79.1 task/s, elapsed: 8s, ETA:     0s"
     ]
    },
    {
     "name": "stderr",
     "output_type": "stream",
     "text": [
      "2022-05-26 20:25:54,673 - mmdet - INFO - model initialization done.\n"
     ]
    },
    {
     "name": "stdout",
     "output_type": "stream",
     "text": [
      "[>>>>>>>>>>>>>>>>>>>>>>>>>>>>>] 712/712, 13.5 task/s, elapsed: 53s, ETA:     0s\n",
      "---------------iou_thr: 0.5---------------\n"
     ]
    },
    {
     "name": "stderr",
     "output_type": "stream",
     "text": [
      "2022-05-26 20:26:47,988 - mmfewshot - INFO - \n",
      "+----------+-----+------+--------+-------+\n",
      "| class    | gts | dets | recall | ap    |\n",
      "+----------+-----+------+--------+-------+\n",
      "| 7up      | 810 | 919  | 0.546  | 0.404 |\n",
      "| BudLight | 209 | 258  | 0.502  | 0.381 |\n",
      "+----------+-----+------+--------+-------+\n",
      "| mAP      |     |      |        | 0.393 |\n",
      "+----------+-----+------+--------+-------+\n",
      "2022-05-26 20:26:47,991 - mmfewshot - INFO - BASE_CLASSES_SPLIT1 mAP: 0.39250296354293823\n",
      "2022-05-26 20:26:47,992 - mmfewshot - INFO - NOVEL_CLASSES_SPLIT1 mAP: nan\n",
      "2022-05-26 20:26:47,998 - mmfewshot - INFO - Exp name: attention-rpn_r50_c4_tb-split1_1shot-fine-tuning-momentum-09.py\n",
      "2022-05-26 20:26:47,999 - mmfewshot - INFO - Iter(val) [712]\tAP50: 0.3930, BASE_CLASSES_SPLIT1: AP50: 0.3930, NOVEL_CLASSES_SPLIT1: AP50: nan, mAP: 0.3925\n",
      "/home/zhaozhiyuan/anaconda3/envs/mmfewshot/lib/python3.7/site-packages/mmdet/datasets/custom.py:147: DeprecationWarning: `np.int` is a deprecated alias for the builtin `int`. To silence this warning, use `int` by itself. Doing this will not modify any behavior and is safe. When replacing `np.int`, you may wish to use e.g. `np.int64` or `np.int32` to specify the precision. If you wish to review your current use, check the release note link for additional information.\n",
      "Deprecated in NumPy 1.20; for more details and guidance: https://numpy.org/devdocs/release/1.20.0-notes.html#deprecations\n",
      "  return self.data_infos[idx]['ann']['labels'].astype(np.int).tolist()\n",
      "/home/zhaozhiyuan/anaconda3/envs/mmfewshot/lib/python3.7/site-packages/mmdet/datasets/custom.py:147: DeprecationWarning: `np.int` is a deprecated alias for the builtin `int`. To silence this warning, use `int` by itself. Doing this will not modify any behavior and is safe. When replacing `np.int`, you may wish to use e.g. `np.int64` or `np.int32` to specify the precision. If you wish to review your current use, check the release note link for additional information.\n",
      "Deprecated in NumPy 1.20; for more details and guidance: https://numpy.org/devdocs/release/1.20.0-notes.html#deprecations\n",
      "  return self.data_infos[idx]['ann']['labels'].astype(np.int).tolist()\n"
     ]
    }
   ],
   "source": [
    "import os\n",
    "os.environ['CUDA_VISIBLE_DEVICES'] = '0'\n",
    "\n",
    "%run tools/detection/train.py configs/detection/attention_rpn/Flickr-FoodLogos-10/split1/attention-rpn_r50_c4_tb-split1_1shot-fine-tuning-momentum-09.py\n",
    "#!PORT=29500 ./tools/detection/dist_train.sh configs/detection/meta_rcnn/tb_var/split1/task0/meta-rcnn_r101_c4_8xb4_tb-split1_1shot-fine-tuning-variation.py 6"
   ]
  },
  {
   "cell_type": "code",
   "execution_count": 8,
   "id": "37c709e2",
   "metadata": {},
   "outputs": [
    {
     "name": "stderr",
     "output_type": "stream",
     "text": [
      "2022-05-28 20:58:20,743 - mmfewshot - INFO - \n",
      "FewShotVOCDatasetFOODVAR Test dataset with number of images 712, and instance counts: \n",
      "+----------+-------+----------+-------+----------+-------+----------+-------+----------+-------+\n",
      "| category | count | category | count | category | count | category | count | category | count |\n",
      "+----------+-------+----------+-------+----------+-------+----------+-------+----------+-------+\n",
      "2022-05-28 20:58:21,484 - mmfewshot - INFO - initialize ResNet with init_cfg [{'type': 'Kaiming', 'layer': 'Conv2d'}, {'type': 'Constant', 'val': 1, 'layer': ['_BatchNorm', 'GroupNorm']}]\n",
      "2022-05-28 20:58:21,746 - mmfewshot - INFO - initialize Bottleneck with init_cfg {'type': 'Constant', 'val': 0, 'override': {'name': 'norm3'}}\n",
      "2022-05-28 20:58:21,752 - mmfewshot - INFO - initialize Bottleneck with init_cfg {'type': 'Constant', 'val': 0, 'override': {'name': 'norm3'}}\n",
      "2022-05-28 20:58:21,755 - mmfewshot - INFO - initialize Bottleneck with init_cfg {'type': 'Constant', 'val': 0, 'override': {'name': 'norm3'}}\n",
      "2022-05-28 20:58:21,762 - mmfewshot - INFO - initialize Bottleneck with init_cfg {'type': 'Constant', 'val': 0, 'override': {'name': 'norm3'}}\n",
      "2022-05-28 20:58:21,790 - mmfewshot - INFO - initialize Bottleneck with init_cfg {'type': 'Constant', 'val': 0, 'override': {'name': 'norm3'}}\n",
      "2022-05-28 20:58:21,795 - mmfewshot - INFO - initialize Bottleneck with init_cfg {'type': 'Constant', 'val': 0, 'override': {'name': 'norm3'}}\n",
      "2022-05-28 20:58:21,799 - mmfewshot - INFO - initialize Bottleneck with init_cfg {'type': 'Constant', 'val': 0, 'override': {'name': 'norm3'}}\n",
      "2022-05-28 20:58:21,812 - mmfewshot - INFO - initialize Bottleneck with init_cfg {'type': 'Constant', 'val': 0, 'override': {'name': 'norm3'}}\n",
      "2022-05-28 20:58:21,822 - mmfewshot - INFO - initialize Bottleneck with init_cfg {'type': 'Constant', 'val': 0, 'override': {'name': 'norm3'}}\n",
      "2022-05-28 20:58:21,831 - mmfewshot - INFO - initialize Bottleneck with init_cfg {'type': 'Constant', 'val': 0, 'override': {'name': 'norm3'}}\n",
      "2022-05-28 20:58:21,838 - mmfewshot - INFO - initialize Bottleneck with init_cfg {'type': 'Constant', 'val': 0, 'override': {'name': 'norm3'}}\n",
      "2022-05-28 20:58:21,847 - mmfewshot - INFO - initialize Bottleneck with init_cfg {'type': 'Constant', 'val': 0, 'override': {'name': 'norm3'}}\n",
      "2022-05-28 20:58:21,863 - mmfewshot - INFO - initialize Bottleneck with init_cfg {'type': 'Constant', 'val': 0, 'override': {'name': 'norm3'}}\n",
      "2022-05-28 20:58:21,905 - mmfewshot - INFO - initialize AttentionRPNHead with init_cfg {'type': 'Normal', 'layer': 'Conv2d', 'std': 0.01}\n",
      "2022-05-28 20:58:22,044 - mmfewshot - INFO - initialize ResLayer with init_cfg [{'type': 'Kaiming', 'layer': 'Conv2d'}, {'type': 'Constant', 'val': 1, 'layer': ['_BatchNorm', 'GroupNorm']}]\n",
      "2022-05-28 20:58:22,324 - mmfewshot - INFO - initialize MultiRelationBBoxHead with init_cfg [{'type': 'Normal', 'override': {'type': 'Normal', 'name': 'patch_relation_branch', 'std': 0.01}}, {'type': 'Normal', 'override': {'type': 'Normal', 'name': 'patch_relation_fc_cls', 'std': 0.01}}, {'type': 'Normal', 'override': {'type': 'Normal', 'name': 'patch_relation_fc_reg', 'std': 0.001}}, {'type': 'Normal', 'override': {'type': 'Normal', 'name': 'local_correlation_branch', 'std': 0.01}}, {'type': 'Normal', 'override': {'type': 'Normal', 'name': 'local_correlation_fc_cls', 'std': 0.01}}, {'type': 'Normal', 'override': {'type': 'Normal', 'name': 'global_relation_branch', 'std': 0.01}}, {'type': 'Normal', 'override': {'type': 'Normal', 'name': 'global_relation_fc_cls', 'std': 0.01}}]\n",
      "2022-05-28 20:58:22,675 - mmfewshot - INFO - \n",
      "backbone.conv1.weight - torch.Size([64, 3, 7, 7]): \n",
      "KaimingInit: a=0, mode=fan_out, nonlinearity=relu, distribution =normal, bias=0 \n",
      " \n",
      "2022-05-28 20:58:22,676 - mmfewshot - INFO - \n",
      "backbone.bn1.weight - torch.Size([64]): \n",
      "The value is the same before and after calling `init_weights` of AttentionRPNDetector  \n",
      " \n",
      "2022-05-28 20:58:22,677 - mmfewshot - INFO - \n",
      "backbone.bn1.bias - torch.Size([64]): \n",
      "The value is the same before and after calling `init_weights` of AttentionRPNDetector  \n",
      " \n",
      "2022-05-28 20:58:22,677 - mmfewshot - INFO - \n",
      "backbone.layer1.0.conv1.weight - torch.Size([64, 64, 1, 1]): \n",
      "KaimingInit: a=0, mode=fan_out, nonlinearity=relu, distribution =normal, bias=0 \n",
      " \n",
      "2022-05-28 20:58:22,678 - mmfewshot - INFO - \n",
      "backbone.layer1.0.bn1.weight - torch.Size([64]): \n",
      "The value is the same before and after calling `init_weights` of AttentionRPNDetector  \n",
      " \n",
      "2022-05-28 20:58:22,678 - mmfewshot - INFO - \n",
      "backbone.layer1.0.bn1.bias - torch.Size([64]): \n",
      "The value is the same before and after calling `init_weights` of AttentionRPNDetector  \n",
      " \n",
      "2022-05-28 20:58:22,679 - mmfewshot - INFO - \n",
      "backbone.layer1.0.conv2.weight - torch.Size([64, 64, 3, 3]): \n",
      "KaimingInit: a=0, mode=fan_out, nonlinearity=relu, distribution =normal, bias=0 \n",
      " \n",
      "2022-05-28 20:58:22,679 - mmfewshot - INFO - \n",
      "backbone.layer1.0.bn2.weight - torch.Size([64]): \n",
      "The value is the same before and after calling `init_weights` of AttentionRPNDetector  \n",
      " \n",
      "2022-05-28 20:58:22,680 - mmfewshot - INFO - \n",
      "backbone.layer1.0.bn2.bias - torch.Size([64]): \n",
      "The value is the same before and after calling `init_weights` of AttentionRPNDetector  \n",
      " \n",
      "2022-05-28 20:58:22,681 - mmfewshot - INFO - \n",
      "backbone.layer1.0.conv3.weight - torch.Size([256, 64, 1, 1]): \n",
      "KaimingInit: a=0, mode=fan_out, nonlinearity=relu, distribution =normal, bias=0 \n",
      " \n",
      "2022-05-28 20:58:22,681 - mmfewshot - INFO - \n",
      "backbone.layer1.0.bn3.weight - torch.Size([256]): \n",
      "ConstantInit: val=0, bias=0 \n",
      " \n",
      "2022-05-28 20:58:22,682 - mmfewshot - INFO - \n",
      "backbone.layer1.0.bn3.bias - torch.Size([256]): \n",
      "The value is the same before and after calling `init_weights` of AttentionRPNDetector  \n",
      " \n",
      "2022-05-28 20:58:22,682 - mmfewshot - INFO - \n",
      "backbone.layer1.0.downsample.0.weight - torch.Size([256, 64, 1, 1]): \n",
      "KaimingInit: a=0, mode=fan_out, nonlinearity=relu, distribution =normal, bias=0 \n",
      " \n",
      "2022-05-28 20:58:22,683 - mmfewshot - INFO - \n",
      "backbone.layer1.0.downsample.1.weight - torch.Size([256]): \n",
      "The value is the same before and after calling `init_weights` of AttentionRPNDetector  \n",
      " \n",
      "2022-05-28 20:58:22,683 - mmfewshot - INFO - \n",
      "backbone.layer1.0.downsample.1.bias - torch.Size([256]): \n",
      "The value is the same before and after calling `init_weights` of AttentionRPNDetector  \n",
      " \n",
      "2022-05-28 20:58:22,684 - mmfewshot - INFO - \n",
      "backbone.layer1.1.conv1.weight - torch.Size([64, 256, 1, 1]): \n",
      "KaimingInit: a=0, mode=fan_out, nonlinearity=relu, distribution =normal, bias=0 \n",
      " \n",
      "2022-05-28 20:58:22,684 - mmfewshot - INFO - \n",
      "backbone.layer1.1.bn1.weight - torch.Size([64]): \n",
      "The value is the same before and after calling `init_weights` of AttentionRPNDetector  \n",
      " \n",
      "2022-05-28 20:58:22,685 - mmfewshot - INFO - \n",
      "backbone.layer1.1.bn1.bias - torch.Size([64]): \n",
      "The value is the same before and after calling `init_weights` of AttentionRPNDetector  \n",
      " \n",
      "2022-05-28 20:58:22,686 - mmfewshot - INFO - \n",
      "backbone.layer1.1.conv2.weight - torch.Size([64, 64, 3, 3]): \n",
      "KaimingInit: a=0, mode=fan_out, nonlinearity=relu, distribution =normal, bias=0 \n",
      " \n",
      "2022-05-28 20:58:22,686 - mmfewshot - INFO - \n",
      "backbone.layer1.1.bn2.weight - torch.Size([64]): \n",
      "The value is the same before and after calling `init_weights` of AttentionRPNDetector  \n",
      " \n",
      "2022-05-28 20:58:22,687 - mmfewshot - INFO - \n",
      "backbone.layer1.1.bn2.bias - torch.Size([64]): \n",
      "The value is the same before and after calling `init_weights` of AttentionRPNDetector  \n",
      " \n",
      "2022-05-28 20:58:22,687 - mmfewshot - INFO - \n",
      "backbone.layer1.1.conv3.weight - torch.Size([256, 64, 1, 1]): \n",
      "KaimingInit: a=0, mode=fan_out, nonlinearity=relu, distribution =normal, bias=0 \n",
      " \n",
      "2022-05-28 20:58:22,688 - mmfewshot - INFO - \n",
      "backbone.layer1.1.bn3.weight - torch.Size([256]): \n",
      "ConstantInit: val=0, bias=0 \n",
      " \n",
      "2022-05-28 20:58:22,688 - mmfewshot - INFO - \n",
      "backbone.layer1.1.bn3.bias - torch.Size([256]): \n",
      "The value is the same before and after calling `init_weights` of AttentionRPNDetector  \n",
      " \n",
      "2022-05-28 20:58:22,689 - mmfewshot - INFO - \n",
      "backbone.layer1.2.conv1.weight - torch.Size([64, 256, 1, 1]): \n",
      "KaimingInit: a=0, mode=fan_out, nonlinearity=relu, distribution =normal, bias=0 \n",
      " \n",
      "2022-05-28 20:58:22,690 - mmfewshot - INFO - \n",
      "backbone.layer1.2.bn1.weight - torch.Size([64]): \n",
      "The value is the same before and after calling `init_weights` of AttentionRPNDetector  \n",
      " \n"
     ]
    },
    {
     "name": "stderr",
     "output_type": "stream",
     "text": [
      "2022-05-28 20:58:22,690 - mmfewshot - INFO - \n",
      "backbone.layer1.2.bn1.bias - torch.Size([64]): \n",
      "The value is the same before and after calling `init_weights` of AttentionRPNDetector  \n",
      " \n",
      "2022-05-28 20:58:22,691 - mmfewshot - INFO - \n",
      "backbone.layer1.2.conv2.weight - torch.Size([64, 64, 3, 3]): \n",
      "KaimingInit: a=0, mode=fan_out, nonlinearity=relu, distribution =normal, bias=0 \n",
      " \n",
      "2022-05-28 20:58:22,691 - mmfewshot - INFO - \n",
      "backbone.layer1.2.bn2.weight - torch.Size([64]): \n",
      "The value is the same before and after calling `init_weights` of AttentionRPNDetector  \n",
      " \n",
      "2022-05-28 20:58:22,692 - mmfewshot - INFO - \n",
      "backbone.layer1.2.bn2.bias - torch.Size([64]): \n",
      "The value is the same before and after calling `init_weights` of AttentionRPNDetector  \n",
      " \n",
      "2022-05-28 20:58:22,692 - mmfewshot - INFO - \n",
      "backbone.layer1.2.conv3.weight - torch.Size([256, 64, 1, 1]): \n",
      "KaimingInit: a=0, mode=fan_out, nonlinearity=relu, distribution =normal, bias=0 \n",
      " \n",
      "2022-05-28 20:58:22,693 - mmfewshot - INFO - \n",
      "backbone.layer1.2.bn3.weight - torch.Size([256]): \n",
      "ConstantInit: val=0, bias=0 \n",
      " \n",
      "2022-05-28 20:58:22,693 - mmfewshot - INFO - \n",
      "backbone.layer1.2.bn3.bias - torch.Size([256]): \n",
      "The value is the same before and after calling `init_weights` of AttentionRPNDetector  \n",
      " \n",
      "2022-05-28 20:58:22,694 - mmfewshot - INFO - \n",
      "backbone.layer2.0.conv1.weight - torch.Size([128, 256, 1, 1]): \n",
      "KaimingInit: a=0, mode=fan_out, nonlinearity=relu, distribution =normal, bias=0 \n",
      " \n",
      "2022-05-28 20:58:22,695 - mmfewshot - INFO - \n",
      "backbone.layer2.0.bn1.weight - torch.Size([128]): \n",
      "The value is the same before and after calling `init_weights` of AttentionRPNDetector  \n",
      " \n",
      "2022-05-28 20:58:22,695 - mmfewshot - INFO - \n",
      "backbone.layer2.0.bn1.bias - torch.Size([128]): \n",
      "The value is the same before and after calling `init_weights` of AttentionRPNDetector  \n",
      " \n",
      "2022-05-28 20:58:22,696 - mmfewshot - INFO - \n",
      "backbone.layer2.0.conv2.weight - torch.Size([128, 128, 3, 3]): \n",
      "KaimingInit: a=0, mode=fan_out, nonlinearity=relu, distribution =normal, bias=0 \n",
      " \n",
      "2022-05-28 20:58:22,696 - mmfewshot - INFO - \n",
      "backbone.layer2.0.bn2.weight - torch.Size([128]): \n",
      "The value is the same before and after calling `init_weights` of AttentionRPNDetector  \n",
      " \n",
      "2022-05-28 20:58:22,697 - mmfewshot - INFO - \n",
      "backbone.layer2.0.bn2.bias - torch.Size([128]): \n",
      "The value is the same before and after calling `init_weights` of AttentionRPNDetector  \n",
      " \n",
      "2022-05-28 20:58:22,697 - mmfewshot - INFO - \n",
      "backbone.layer2.0.conv3.weight - torch.Size([512, 128, 1, 1]): \n",
      "KaimingInit: a=0, mode=fan_out, nonlinearity=relu, distribution =normal, bias=0 \n",
      " \n",
      "2022-05-28 20:58:22,698 - mmfewshot - INFO - \n",
      "backbone.layer2.0.bn3.weight - torch.Size([512]): \n",
      "ConstantInit: val=0, bias=0 \n",
      " \n",
      "2022-05-28 20:58:22,698 - mmfewshot - INFO - \n",
      "backbone.layer2.0.bn3.bias - torch.Size([512]): \n",
      "The value is the same before and after calling `init_weights` of AttentionRPNDetector  \n",
      " \n",
      "2022-05-28 20:58:22,699 - mmfewshot - INFO - \n",
      "backbone.layer2.0.downsample.0.weight - torch.Size([512, 256, 1, 1]): \n",
      "KaimingInit: a=0, mode=fan_out, nonlinearity=relu, distribution =normal, bias=0 \n",
      " \n",
      "2022-05-28 20:58:22,700 - mmfewshot - INFO - \n",
      "backbone.layer2.0.downsample.1.weight - torch.Size([512]): \n",
      "The value is the same before and after calling `init_weights` of AttentionRPNDetector  \n",
      " \n",
      "2022-05-28 20:58:22,700 - mmfewshot - INFO - \n",
      "backbone.layer2.0.downsample.1.bias - torch.Size([512]): \n",
      "The value is the same before and after calling `init_weights` of AttentionRPNDetector  \n",
      " \n",
      "2022-05-28 20:58:22,701 - mmfewshot - INFO - \n",
      "backbone.layer2.1.conv1.weight - torch.Size([128, 512, 1, 1]): \n",
      "KaimingInit: a=0, mode=fan_out, nonlinearity=relu, distribution =normal, bias=0 \n",
      " \n",
      "2022-05-28 20:58:22,701 - mmfewshot - INFO - \n",
      "backbone.layer2.1.bn1.weight - torch.Size([128]): \n",
      "The value is the same before and after calling `init_weights` of AttentionRPNDetector  \n",
      " \n",
      "2022-05-28 20:58:22,702 - mmfewshot - INFO - \n",
      "backbone.layer2.1.bn1.bias - torch.Size([128]): \n",
      "The value is the same before and after calling `init_weights` of AttentionRPNDetector  \n",
      " \n",
      "2022-05-28 20:58:22,702 - mmfewshot - INFO - \n",
      "backbone.layer2.1.conv2.weight - torch.Size([128, 128, 3, 3]): \n",
      "KaimingInit: a=0, mode=fan_out, nonlinearity=relu, distribution =normal, bias=0 \n",
      " \n",
      "2022-05-28 20:58:22,703 - mmfewshot - INFO - \n",
      "backbone.layer2.1.bn2.weight - torch.Size([128]): \n",
      "The value is the same before and after calling `init_weights` of AttentionRPNDetector  \n",
      " \n",
      "2022-05-28 20:58:22,703 - mmfewshot - INFO - \n",
      "backbone.layer2.1.bn2.bias - torch.Size([128]): \n",
      "The value is the same before and after calling `init_weights` of AttentionRPNDetector  \n",
      " \n",
      "2022-05-28 20:58:22,704 - mmfewshot - INFO - \n",
      "backbone.layer2.1.conv3.weight - torch.Size([512, 128, 1, 1]): \n",
      "KaimingInit: a=0, mode=fan_out, nonlinearity=relu, distribution =normal, bias=0 \n",
      " \n",
      "2022-05-28 20:58:22,705 - mmfewshot - INFO - \n",
      "backbone.layer2.1.bn3.weight - torch.Size([512]): \n",
      "ConstantInit: val=0, bias=0 \n",
      " \n",
      "2022-05-28 20:58:22,705 - mmfewshot - INFO - \n",
      "backbone.layer2.1.bn3.bias - torch.Size([512]): \n",
      "The value is the same before and after calling `init_weights` of AttentionRPNDetector  \n",
      " \n",
      "2022-05-28 20:58:22,706 - mmfewshot - INFO - \n",
      "backbone.layer2.2.conv1.weight - torch.Size([128, 512, 1, 1]): \n",
      "KaimingInit: a=0, mode=fan_out, nonlinearity=relu, distribution =normal, bias=0 \n",
      " \n",
      "2022-05-28 20:58:22,706 - mmfewshot - INFO - \n",
      "backbone.layer2.2.bn1.weight - torch.Size([128]): \n",
      "The value is the same before and after calling `init_weights` of AttentionRPNDetector  \n",
      " \n",
      "2022-05-28 20:58:22,707 - mmfewshot - INFO - \n",
      "backbone.layer2.2.bn1.bias - torch.Size([128]): \n",
      "The value is the same before and after calling `init_weights` of AttentionRPNDetector  \n",
      " \n",
      "2022-05-28 20:58:22,707 - mmfewshot - INFO - \n",
      "backbone.layer2.2.conv2.weight - torch.Size([128, 128, 3, 3]): \n",
      "KaimingInit: a=0, mode=fan_out, nonlinearity=relu, distribution =normal, bias=0 \n",
      " \n",
      "2022-05-28 20:58:22,708 - mmfewshot - INFO - \n",
      "backbone.layer2.2.bn2.weight - torch.Size([128]): \n",
      "The value is the same before and after calling `init_weights` of AttentionRPNDetector  \n",
      " \n",
      "2022-05-28 20:58:22,708 - mmfewshot - INFO - \n",
      "backbone.layer2.2.bn2.bias - torch.Size([128]): \n",
      "The value is the same before and after calling `init_weights` of AttentionRPNDetector  \n",
      " \n",
      "2022-05-28 20:58:22,709 - mmfewshot - INFO - \n",
      "backbone.layer2.2.conv3.weight - torch.Size([512, 128, 1, 1]): \n",
      "KaimingInit: a=0, mode=fan_out, nonlinearity=relu, distribution =normal, bias=0 \n",
      " \n",
      "2022-05-28 20:58:22,710 - mmfewshot - INFO - \n",
      "backbone.layer2.2.bn3.weight - torch.Size([512]): \n",
      "ConstantInit: val=0, bias=0 \n",
      " \n",
      "2022-05-28 20:58:22,710 - mmfewshot - INFO - \n",
      "backbone.layer2.2.bn3.bias - torch.Size([512]): \n",
      "The value is the same before and after calling `init_weights` of AttentionRPNDetector  \n",
      " \n",
      "2022-05-28 20:58:22,711 - mmfewshot - INFO - \n",
      "backbone.layer2.3.conv1.weight - torch.Size([128, 512, 1, 1]): \n",
      "KaimingInit: a=0, mode=fan_out, nonlinearity=relu, distribution =normal, bias=0 \n",
      " \n",
      "2022-05-28 20:58:22,711 - mmfewshot - INFO - \n",
      "backbone.layer2.3.bn1.weight - torch.Size([128]): \n",
      "The value is the same before and after calling `init_weights` of AttentionRPNDetector  \n",
      " \n",
      "2022-05-28 20:58:22,712 - mmfewshot - INFO - \n",
      "backbone.layer2.3.bn1.bias - torch.Size([128]): \n",
      "The value is the same before and after calling `init_weights` of AttentionRPNDetector  \n",
      " \n",
      "2022-05-28 20:58:22,712 - mmfewshot - INFO - \n",
      "backbone.layer2.3.conv2.weight - torch.Size([128, 128, 3, 3]): \n",
      "KaimingInit: a=0, mode=fan_out, nonlinearity=relu, distribution =normal, bias=0 \n",
      " \n",
      "2022-05-28 20:58:22,713 - mmfewshot - INFO - \n",
      "backbone.layer2.3.bn2.weight - torch.Size([128]): \n",
      "The value is the same before and after calling `init_weights` of AttentionRPNDetector  \n",
      " \n",
      "2022-05-28 20:58:22,713 - mmfewshot - INFO - \n",
      "backbone.layer2.3.bn2.bias - torch.Size([128]): \n",
      "The value is the same before and after calling `init_weights` of AttentionRPNDetector  \n",
      " \n",
      "2022-05-28 20:58:22,714 - mmfewshot - INFO - \n",
      "backbone.layer2.3.conv3.weight - torch.Size([512, 128, 1, 1]): \n",
      "KaimingInit: a=0, mode=fan_out, nonlinearity=relu, distribution =normal, bias=0 \n",
      " \n",
      "2022-05-28 20:58:22,715 - mmfewshot - INFO - \n",
      "backbone.layer2.3.bn3.weight - torch.Size([512]): \n",
      "ConstantInit: val=0, bias=0 \n",
      " \n"
     ]
    },
    {
     "name": "stderr",
     "output_type": "stream",
     "text": [
      "2022-05-28 20:58:22,715 - mmfewshot - INFO - \n",
      "backbone.layer2.3.bn3.bias - torch.Size([512]): \n",
      "The value is the same before and after calling `init_weights` of AttentionRPNDetector  \n",
      " \n",
      "2022-05-28 20:58:22,716 - mmfewshot - INFO - \n",
      "backbone.layer3.0.conv1.weight - torch.Size([256, 512, 1, 1]): \n",
      "KaimingInit: a=0, mode=fan_out, nonlinearity=relu, distribution =normal, bias=0 \n",
      " \n",
      "2022-05-28 20:58:22,716 - mmfewshot - INFO - \n",
      "backbone.layer3.0.bn1.weight - torch.Size([256]): \n",
      "The value is the same before and after calling `init_weights` of AttentionRPNDetector  \n",
      " \n",
      "2022-05-28 20:58:22,717 - mmfewshot - INFO - \n",
      "backbone.layer3.0.bn1.bias - torch.Size([256]): \n",
      "The value is the same before and after calling `init_weights` of AttentionRPNDetector  \n",
      " \n",
      "2022-05-28 20:58:22,717 - mmfewshot - INFO - \n",
      "backbone.layer3.0.conv2.weight - torch.Size([256, 256, 3, 3]): \n",
      "KaimingInit: a=0, mode=fan_out, nonlinearity=relu, distribution =normal, bias=0 \n",
      " \n",
      "2022-05-28 20:58:22,718 - mmfewshot - INFO - \n",
      "backbone.layer3.0.bn2.weight - torch.Size([256]): \n",
      "The value is the same before and after calling `init_weights` of AttentionRPNDetector  \n",
      " \n",
      "2022-05-28 20:58:22,718 - mmfewshot - INFO - \n",
      "backbone.layer3.0.bn2.bias - torch.Size([256]): \n",
      "The value is the same before and after calling `init_weights` of AttentionRPNDetector  \n",
      " \n",
      "2022-05-28 20:58:22,719 - mmfewshot - INFO - \n",
      "backbone.layer3.0.conv3.weight - torch.Size([1024, 256, 1, 1]): \n",
      "KaimingInit: a=0, mode=fan_out, nonlinearity=relu, distribution =normal, bias=0 \n",
      " \n",
      "2022-05-28 20:58:22,720 - mmfewshot - INFO - \n",
      "backbone.layer3.0.bn3.weight - torch.Size([1024]): \n",
      "ConstantInit: val=0, bias=0 \n",
      " \n",
      "2022-05-28 20:58:22,720 - mmfewshot - INFO - \n",
      "backbone.layer3.0.bn3.bias - torch.Size([1024]): \n",
      "The value is the same before and after calling `init_weights` of AttentionRPNDetector  \n",
      " \n",
      "2022-05-28 20:58:22,721 - mmfewshot - INFO - \n",
      "backbone.layer3.0.downsample.0.weight - torch.Size([1024, 512, 1, 1]): \n",
      "KaimingInit: a=0, mode=fan_out, nonlinearity=relu, distribution =normal, bias=0 \n",
      " \n",
      "2022-05-28 20:58:22,721 - mmfewshot - INFO - \n",
      "backbone.layer3.0.downsample.1.weight - torch.Size([1024]): \n",
      "The value is the same before and after calling `init_weights` of AttentionRPNDetector  \n",
      " \n",
      "2022-05-28 20:58:22,722 - mmfewshot - INFO - \n",
      "backbone.layer3.0.downsample.1.bias - torch.Size([1024]): \n",
      "The value is the same before and after calling `init_weights` of AttentionRPNDetector  \n",
      " \n",
      "2022-05-28 20:58:22,722 - mmfewshot - INFO - \n",
      "backbone.layer3.1.conv1.weight - torch.Size([256, 1024, 1, 1]): \n",
      "KaimingInit: a=0, mode=fan_out, nonlinearity=relu, distribution =normal, bias=0 \n",
      " \n",
      "2022-05-28 20:58:22,723 - mmfewshot - INFO - \n",
      "backbone.layer3.1.bn1.weight - torch.Size([256]): \n",
      "The value is the same before and after calling `init_weights` of AttentionRPNDetector  \n",
      " \n",
      "2022-05-28 20:58:22,724 - mmfewshot - INFO - \n",
      "backbone.layer3.1.bn1.bias - torch.Size([256]): \n",
      "The value is the same before and after calling `init_weights` of AttentionRPNDetector  \n",
      " \n",
      "2022-05-28 20:58:22,724 - mmfewshot - INFO - \n",
      "backbone.layer3.1.conv2.weight - torch.Size([256, 256, 3, 3]): \n",
      "KaimingInit: a=0, mode=fan_out, nonlinearity=relu, distribution =normal, bias=0 \n",
      " \n",
      "2022-05-28 20:58:22,725 - mmfewshot - INFO - \n",
      "backbone.layer3.1.bn2.weight - torch.Size([256]): \n",
      "The value is the same before and after calling `init_weights` of AttentionRPNDetector  \n",
      " \n",
      "2022-05-28 20:58:22,725 - mmfewshot - INFO - \n",
      "backbone.layer3.1.bn2.bias - torch.Size([256]): \n",
      "The value is the same before and after calling `init_weights` of AttentionRPNDetector  \n",
      " \n",
      "2022-05-28 20:58:22,726 - mmfewshot - INFO - \n",
      "backbone.layer3.1.conv3.weight - torch.Size([1024, 256, 1, 1]): \n",
      "KaimingInit: a=0, mode=fan_out, nonlinearity=relu, distribution =normal, bias=0 \n",
      " \n",
      "2022-05-28 20:58:22,726 - mmfewshot - INFO - \n",
      "backbone.layer3.1.bn3.weight - torch.Size([1024]): \n",
      "ConstantInit: val=0, bias=0 \n",
      " \n",
      "2022-05-28 20:58:22,727 - mmfewshot - INFO - \n",
      "backbone.layer3.1.bn3.bias - torch.Size([1024]): \n",
      "The value is the same before and after calling `init_weights` of AttentionRPNDetector  \n",
      " \n",
      "2022-05-28 20:58:22,727 - mmfewshot - INFO - \n",
      "backbone.layer3.2.conv1.weight - torch.Size([256, 1024, 1, 1]): \n",
      "KaimingInit: a=0, mode=fan_out, nonlinearity=relu, distribution =normal, bias=0 \n",
      " \n",
      "2022-05-28 20:58:22,728 - mmfewshot - INFO - \n",
      "backbone.layer3.2.bn1.weight - torch.Size([256]): \n",
      "The value is the same before and after calling `init_weights` of AttentionRPNDetector  \n",
      " \n",
      "2022-05-28 20:58:22,729 - mmfewshot - INFO - \n",
      "backbone.layer3.2.bn1.bias - torch.Size([256]): \n",
      "The value is the same before and after calling `init_weights` of AttentionRPNDetector  \n",
      " \n",
      "2022-05-28 20:58:22,729 - mmfewshot - INFO - \n",
      "backbone.layer3.2.conv2.weight - torch.Size([256, 256, 3, 3]): \n",
      "KaimingInit: a=0, mode=fan_out, nonlinearity=relu, distribution =normal, bias=0 \n",
      " \n",
      "2022-05-28 20:58:22,730 - mmfewshot - INFO - \n",
      "backbone.layer3.2.bn2.weight - torch.Size([256]): \n",
      "The value is the same before and after calling `init_weights` of AttentionRPNDetector  \n",
      " \n",
      "2022-05-28 20:58:22,730 - mmfewshot - INFO - \n",
      "backbone.layer3.2.bn2.bias - torch.Size([256]): \n",
      "The value is the same before and after calling `init_weights` of AttentionRPNDetector  \n",
      " \n",
      "2022-05-28 20:58:22,731 - mmfewshot - INFO - \n",
      "backbone.layer3.2.conv3.weight - torch.Size([1024, 256, 1, 1]): \n",
      "KaimingInit: a=0, mode=fan_out, nonlinearity=relu, distribution =normal, bias=0 \n",
      " \n",
      "2022-05-28 20:58:22,731 - mmfewshot - INFO - \n",
      "backbone.layer3.2.bn3.weight - torch.Size([1024]): \n",
      "ConstantInit: val=0, bias=0 \n",
      " \n",
      "2022-05-28 20:58:22,732 - mmfewshot - INFO - \n",
      "backbone.layer3.2.bn3.bias - torch.Size([1024]): \n",
      "The value is the same before and after calling `init_weights` of AttentionRPNDetector  \n",
      " \n",
      "2022-05-28 20:58:22,732 - mmfewshot - INFO - \n",
      "backbone.layer3.3.conv1.weight - torch.Size([256, 1024, 1, 1]): \n",
      "KaimingInit: a=0, mode=fan_out, nonlinearity=relu, distribution =normal, bias=0 \n",
      " \n",
      "2022-05-28 20:58:22,733 - mmfewshot - INFO - \n",
      "backbone.layer3.3.bn1.weight - torch.Size([256]): \n",
      "The value is the same before and after calling `init_weights` of AttentionRPNDetector  \n",
      " \n",
      "2022-05-28 20:58:22,734 - mmfewshot - INFO - \n",
      "backbone.layer3.3.bn1.bias - torch.Size([256]): \n",
      "The value is the same before and after calling `init_weights` of AttentionRPNDetector  \n",
      " \n",
      "2022-05-28 20:58:22,734 - mmfewshot - INFO - \n",
      "backbone.layer3.3.conv2.weight - torch.Size([256, 256, 3, 3]): \n",
      "KaimingInit: a=0, mode=fan_out, nonlinearity=relu, distribution =normal, bias=0 \n",
      " \n",
      "2022-05-28 20:58:22,735 - mmfewshot - INFO - \n",
      "backbone.layer3.3.bn2.weight - torch.Size([256]): \n",
      "The value is the same before and after calling `init_weights` of AttentionRPNDetector  \n",
      " \n",
      "2022-05-28 20:58:22,735 - mmfewshot - INFO - \n",
      "backbone.layer3.3.bn2.bias - torch.Size([256]): \n",
      "The value is the same before and after calling `init_weights` of AttentionRPNDetector  \n",
      " \n",
      "2022-05-28 20:58:22,736 - mmfewshot - INFO - \n",
      "backbone.layer3.3.conv3.weight - torch.Size([1024, 256, 1, 1]): \n",
      "KaimingInit: a=0, mode=fan_out, nonlinearity=relu, distribution =normal, bias=0 \n",
      " \n",
      "2022-05-28 20:58:22,736 - mmfewshot - INFO - \n",
      "backbone.layer3.3.bn3.weight - torch.Size([1024]): \n",
      "ConstantInit: val=0, bias=0 \n",
      " \n",
      "2022-05-28 20:58:22,737 - mmfewshot - INFO - \n",
      "backbone.layer3.3.bn3.bias - torch.Size([1024]): \n",
      "The value is the same before and after calling `init_weights` of AttentionRPNDetector  \n",
      " \n",
      "2022-05-28 20:58:22,737 - mmfewshot - INFO - \n",
      "backbone.layer3.4.conv1.weight - torch.Size([256, 1024, 1, 1]): \n",
      "KaimingInit: a=0, mode=fan_out, nonlinearity=relu, distribution =normal, bias=0 \n",
      " \n",
      "2022-05-28 20:58:22,738 - mmfewshot - INFO - \n",
      "backbone.layer3.4.bn1.weight - torch.Size([256]): \n",
      "The value is the same before and after calling `init_weights` of AttentionRPNDetector  \n",
      " \n",
      "2022-05-28 20:58:22,739 - mmfewshot - INFO - \n",
      "backbone.layer3.4.bn1.bias - torch.Size([256]): \n",
      "The value is the same before and after calling `init_weights` of AttentionRPNDetector  \n",
      " \n",
      "2022-05-28 20:58:22,739 - mmfewshot - INFO - \n",
      "backbone.layer3.4.conv2.weight - torch.Size([256, 256, 3, 3]): \n",
      "KaimingInit: a=0, mode=fan_out, nonlinearity=relu, distribution =normal, bias=0 \n",
      " \n",
      "2022-05-28 20:58:22,740 - mmfewshot - INFO - \n",
      "backbone.layer3.4.bn2.weight - torch.Size([256]): \n",
      "The value is the same before and after calling `init_weights` of AttentionRPNDetector  \n",
      " \n"
     ]
    },
    {
     "name": "stderr",
     "output_type": "stream",
     "text": [
      "2022-05-28 20:58:22,740 - mmfewshot - INFO - \n",
      "backbone.layer3.4.bn2.bias - torch.Size([256]): \n",
      "The value is the same before and after calling `init_weights` of AttentionRPNDetector  \n",
      " \n",
      "2022-05-28 20:58:22,741 - mmfewshot - INFO - \n",
      "backbone.layer3.4.conv3.weight - torch.Size([1024, 256, 1, 1]): \n",
      "KaimingInit: a=0, mode=fan_out, nonlinearity=relu, distribution =normal, bias=0 \n",
      " \n",
      "2022-05-28 20:58:22,741 - mmfewshot - INFO - \n",
      "backbone.layer3.4.bn3.weight - torch.Size([1024]): \n",
      "ConstantInit: val=0, bias=0 \n",
      " \n",
      "2022-05-28 20:58:22,742 - mmfewshot - INFO - \n",
      "backbone.layer3.4.bn3.bias - torch.Size([1024]): \n",
      "The value is the same before and after calling `init_weights` of AttentionRPNDetector  \n",
      " \n",
      "2022-05-28 20:58:22,743 - mmfewshot - INFO - \n",
      "backbone.layer3.5.conv1.weight - torch.Size([256, 1024, 1, 1]): \n",
      "KaimingInit: a=0, mode=fan_out, nonlinearity=relu, distribution =normal, bias=0 \n",
      " \n",
      "2022-05-28 20:58:22,743 - mmfewshot - INFO - \n",
      "backbone.layer3.5.bn1.weight - torch.Size([256]): \n",
      "The value is the same before and after calling `init_weights` of AttentionRPNDetector  \n",
      " \n",
      "2022-05-28 20:58:22,744 - mmfewshot - INFO - \n",
      "backbone.layer3.5.bn1.bias - torch.Size([256]): \n",
      "The value is the same before and after calling `init_weights` of AttentionRPNDetector  \n",
      " \n",
      "2022-05-28 20:58:22,744 - mmfewshot - INFO - \n",
      "backbone.layer3.5.conv2.weight - torch.Size([256, 256, 3, 3]): \n",
      "KaimingInit: a=0, mode=fan_out, nonlinearity=relu, distribution =normal, bias=0 \n",
      " \n",
      "2022-05-28 20:58:22,745 - mmfewshot - INFO - \n",
      "backbone.layer3.5.bn2.weight - torch.Size([256]): \n",
      "The value is the same before and after calling `init_weights` of AttentionRPNDetector  \n",
      " \n",
      "2022-05-28 20:58:22,745 - mmfewshot - INFO - \n",
      "backbone.layer3.5.bn2.bias - torch.Size([256]): \n",
      "The value is the same before and after calling `init_weights` of AttentionRPNDetector  \n",
      " \n",
      "2022-05-28 20:58:22,746 - mmfewshot - INFO - \n",
      "backbone.layer3.5.conv3.weight - torch.Size([1024, 256, 1, 1]): \n",
      "KaimingInit: a=0, mode=fan_out, nonlinearity=relu, distribution =normal, bias=0 \n",
      " \n",
      "2022-05-28 20:58:22,746 - mmfewshot - INFO - \n",
      "backbone.layer3.5.bn3.weight - torch.Size([1024]): \n",
      "ConstantInit: val=0, bias=0 \n",
      " \n",
      "2022-05-28 20:58:22,747 - mmfewshot - INFO - \n",
      "backbone.layer3.5.bn3.bias - torch.Size([1024]): \n",
      "The value is the same before and after calling `init_weights` of AttentionRPNDetector  \n",
      " \n",
      "2022-05-28 20:58:22,748 - mmfewshot - INFO - \n",
      "rpn_head.rpn_conv.weight - torch.Size([1024, 1024, 3, 3]): \n",
      "NormalInit: mean=0, std=0.01, bias=0 \n",
      " \n",
      "2022-05-28 20:58:22,748 - mmfewshot - INFO - \n",
      "rpn_head.rpn_conv.bias - torch.Size([1024]): \n",
      "NormalInit: mean=0, std=0.01, bias=0 \n",
      " \n",
      "2022-05-28 20:58:22,749 - mmfewshot - INFO - \n",
      "rpn_head.rpn_cls.weight - torch.Size([15, 1024, 1, 1]): \n",
      "NormalInit: mean=0, std=0.01, bias=0 \n",
      " \n",
      "2022-05-28 20:58:22,750 - mmfewshot - INFO - \n",
      "rpn_head.rpn_cls.bias - torch.Size([15]): \n",
      "NormalInit: mean=0, std=0.01, bias=0 \n",
      " \n",
      "2022-05-28 20:58:22,750 - mmfewshot - INFO - \n",
      "rpn_head.rpn_reg.weight - torch.Size([60, 1024, 1, 1]): \n",
      "NormalInit: mean=0, std=0.01, bias=0 \n",
      " \n",
      "2022-05-28 20:58:22,751 - mmfewshot - INFO - \n",
      "rpn_head.rpn_reg.bias - torch.Size([60]): \n",
      "NormalInit: mean=0, std=0.01, bias=0 \n",
      " \n",
      "2022-05-28 20:58:22,751 - mmfewshot - INFO - \n",
      "roi_head.shared_head.layer4.0.conv1.weight - torch.Size([512, 1024, 1, 1]): \n",
      "KaimingInit: a=0, mode=fan_out, nonlinearity=relu, distribution =normal, bias=0 \n",
      " \n",
      "2022-05-28 20:58:22,752 - mmfewshot - INFO - \n",
      "roi_head.shared_head.layer4.0.bn1.weight - torch.Size([512]): \n",
      "The value is the same before and after calling `init_weights` of AttentionRPNDetector  \n",
      " \n",
      "2022-05-28 20:58:22,752 - mmfewshot - INFO - \n",
      "roi_head.shared_head.layer4.0.bn1.bias - torch.Size([512]): \n",
      "The value is the same before and after calling `init_weights` of AttentionRPNDetector  \n",
      " \n",
      "2022-05-28 20:58:22,753 - mmfewshot - INFO - \n",
      "roi_head.shared_head.layer4.0.conv2.weight - torch.Size([512, 512, 3, 3]): \n",
      "KaimingInit: a=0, mode=fan_out, nonlinearity=relu, distribution =normal, bias=0 \n",
      " \n",
      "2022-05-28 20:58:22,754 - mmfewshot - INFO - \n",
      "roi_head.shared_head.layer4.0.bn2.weight - torch.Size([512]): \n",
      "The value is the same before and after calling `init_weights` of AttentionRPNDetector  \n",
      " \n",
      "2022-05-28 20:58:22,754 - mmfewshot - INFO - \n",
      "roi_head.shared_head.layer4.0.bn2.bias - torch.Size([512]): \n",
      "The value is the same before and after calling `init_weights` of AttentionRPNDetector  \n",
      " \n",
      "2022-05-28 20:58:22,755 - mmfewshot - INFO - \n",
      "roi_head.shared_head.layer4.0.conv3.weight - torch.Size([2048, 512, 1, 1]): \n",
      "KaimingInit: a=0, mode=fan_out, nonlinearity=relu, distribution =normal, bias=0 \n",
      " \n",
      "2022-05-28 20:58:22,755 - mmfewshot - INFO - \n",
      "roi_head.shared_head.layer4.0.bn3.weight - torch.Size([2048]): \n",
      "The value is the same before and after calling `init_weights` of AttentionRPNDetector  \n",
      " \n",
      "2022-05-28 20:58:22,756 - mmfewshot - INFO - \n",
      "roi_head.shared_head.layer4.0.bn3.bias - torch.Size([2048]): \n",
      "The value is the same before and after calling `init_weights` of AttentionRPNDetector  \n",
      " \n",
      "2022-05-28 20:58:22,756 - mmfewshot - INFO - \n",
      "roi_head.shared_head.layer4.0.downsample.0.weight - torch.Size([2048, 1024, 1, 1]): \n",
      "KaimingInit: a=0, mode=fan_out, nonlinearity=relu, distribution =normal, bias=0 \n",
      " \n",
      "2022-05-28 20:58:22,757 - mmfewshot - INFO - \n",
      "roi_head.shared_head.layer4.0.downsample.1.weight - torch.Size([2048]): \n",
      "The value is the same before and after calling `init_weights` of AttentionRPNDetector  \n",
      " \n",
      "2022-05-28 20:58:22,758 - mmfewshot - INFO - \n",
      "roi_head.shared_head.layer4.0.downsample.1.bias - torch.Size([2048]): \n",
      "The value is the same before and after calling `init_weights` of AttentionRPNDetector  \n",
      " \n",
      "2022-05-28 20:58:22,758 - mmfewshot - INFO - \n",
      "roi_head.shared_head.layer4.1.conv1.weight - torch.Size([512, 2048, 1, 1]): \n",
      "KaimingInit: a=0, mode=fan_out, nonlinearity=relu, distribution =normal, bias=0 \n",
      " \n",
      "2022-05-28 20:58:22,759 - mmfewshot - INFO - \n",
      "roi_head.shared_head.layer4.1.bn1.weight - torch.Size([512]): \n",
      "The value is the same before and after calling `init_weights` of AttentionRPNDetector  \n",
      " \n",
      "2022-05-28 20:58:22,759 - mmfewshot - INFO - \n",
      "roi_head.shared_head.layer4.1.bn1.bias - torch.Size([512]): \n",
      "The value is the same before and after calling `init_weights` of AttentionRPNDetector  \n",
      " \n",
      "2022-05-28 20:58:22,760 - mmfewshot - INFO - \n",
      "roi_head.shared_head.layer4.1.conv2.weight - torch.Size([512, 512, 3, 3]): \n",
      "KaimingInit: a=0, mode=fan_out, nonlinearity=relu, distribution =normal, bias=0 \n",
      " \n",
      "2022-05-28 20:58:22,760 - mmfewshot - INFO - \n",
      "roi_head.shared_head.layer4.1.bn2.weight - torch.Size([512]): \n",
      "The value is the same before and after calling `init_weights` of AttentionRPNDetector  \n",
      " \n",
      "2022-05-28 20:58:22,761 - mmfewshot - INFO - \n",
      "roi_head.shared_head.layer4.1.bn2.bias - torch.Size([512]): \n",
      "The value is the same before and after calling `init_weights` of AttentionRPNDetector  \n",
      " \n",
      "2022-05-28 20:58:22,762 - mmfewshot - INFO - \n",
      "roi_head.shared_head.layer4.1.conv3.weight - torch.Size([2048, 512, 1, 1]): \n",
      "KaimingInit: a=0, mode=fan_out, nonlinearity=relu, distribution =normal, bias=0 \n",
      " \n",
      "2022-05-28 20:58:22,763 - mmfewshot - INFO - \n",
      "roi_head.shared_head.layer4.1.bn3.weight - torch.Size([2048]): \n",
      "The value is the same before and after calling `init_weights` of AttentionRPNDetector  \n",
      " \n",
      "2022-05-28 20:58:22,764 - mmfewshot - INFO - \n",
      "roi_head.shared_head.layer4.1.bn3.bias - torch.Size([2048]): \n",
      "The value is the same before and after calling `init_weights` of AttentionRPNDetector  \n",
      " \n",
      "2022-05-28 20:58:22,765 - mmfewshot - INFO - \n",
      "roi_head.shared_head.layer4.2.conv1.weight - torch.Size([512, 2048, 1, 1]): \n",
      "KaimingInit: a=0, mode=fan_out, nonlinearity=relu, distribution =normal, bias=0 \n",
      " \n",
      "2022-05-28 20:58:22,765 - mmfewshot - INFO - \n",
      "roi_head.shared_head.layer4.2.bn1.weight - torch.Size([512]): \n",
      "The value is the same before and after calling `init_weights` of AttentionRPNDetector  \n",
      " \n",
      "2022-05-28 20:58:22,766 - mmfewshot - INFO - \n",
      "roi_head.shared_head.layer4.2.bn1.bias - torch.Size([512]): \n",
      "The value is the same before and after calling `init_weights` of AttentionRPNDetector  \n",
      " \n",
      "2022-05-28 20:58:22,767 - mmfewshot - INFO - \n",
      "roi_head.shared_head.layer4.2.conv2.weight - torch.Size([512, 512, 3, 3]): \n",
      "KaimingInit: a=0, mode=fan_out, nonlinearity=relu, distribution =normal, bias=0 \n",
      " \n"
     ]
    },
    {
     "name": "stderr",
     "output_type": "stream",
     "text": [
      "2022-05-28 20:58:22,768 - mmfewshot - INFO - \n",
      "roi_head.shared_head.layer4.2.bn2.weight - torch.Size([512]): \n",
      "The value is the same before and after calling `init_weights` of AttentionRPNDetector  \n",
      " \n",
      "2022-05-28 20:58:22,769 - mmfewshot - INFO - \n",
      "roi_head.shared_head.layer4.2.bn2.bias - torch.Size([512]): \n",
      "The value is the same before and after calling `init_weights` of AttentionRPNDetector  \n",
      " \n",
      "2022-05-28 20:58:22,770 - mmfewshot - INFO - \n",
      "roi_head.shared_head.layer4.2.conv3.weight - torch.Size([2048, 512, 1, 1]): \n",
      "KaimingInit: a=0, mode=fan_out, nonlinearity=relu, distribution =normal, bias=0 \n",
      " \n",
      "2022-05-28 20:58:22,771 - mmfewshot - INFO - \n",
      "roi_head.shared_head.layer4.2.bn3.weight - torch.Size([2048]): \n",
      "The value is the same before and after calling `init_weights` of AttentionRPNDetector  \n",
      " \n",
      "2022-05-28 20:58:22,771 - mmfewshot - INFO - \n",
      "roi_head.shared_head.layer4.2.bn3.bias - torch.Size([2048]): \n",
      "The value is the same before and after calling `init_weights` of AttentionRPNDetector  \n",
      " \n",
      "2022-05-28 20:58:22,772 - mmfewshot - INFO - \n",
      "roi_head.bbox_head.patch_relation_branch.0.weight - torch.Size([512, 4096, 1, 1]): \n",
      "NormalInit: mean=0, std=0.01, bias=0 \n",
      " \n",
      "2022-05-28 20:58:22,773 - mmfewshot - INFO - \n",
      "roi_head.bbox_head.patch_relation_branch.3.weight - torch.Size([512, 512, 3, 3]): \n",
      "NormalInit: mean=0, std=0.01, bias=0 \n",
      " \n",
      "2022-05-28 20:58:22,774 - mmfewshot - INFO - \n",
      "roi_head.bbox_head.patch_relation_branch.5.weight - torch.Size([2048, 512, 1, 1]): \n",
      "NormalInit: mean=0, std=0.01, bias=0 \n",
      " \n",
      "2022-05-28 20:58:22,775 - mmfewshot - INFO - \n",
      "roi_head.bbox_head.patch_relation_fc_reg.weight - torch.Size([4, 2048]): \n",
      "NormalInit: mean=0, std=0.001, bias=0 \n",
      " \n",
      "2022-05-28 20:58:22,775 - mmfewshot - INFO - \n",
      "roi_head.bbox_head.patch_relation_fc_reg.bias - torch.Size([4]): \n",
      "NormalInit: mean=0, std=0.001, bias=0 \n",
      " \n",
      "2022-05-28 20:58:22,776 - mmfewshot - INFO - \n",
      "roi_head.bbox_head.patch_relation_fc_cls.weight - torch.Size([2, 2048]): \n",
      "NormalInit: mean=0, std=0.01, bias=0 \n",
      " \n",
      "2022-05-28 20:58:22,777 - mmfewshot - INFO - \n",
      "roi_head.bbox_head.patch_relation_fc_cls.bias - torch.Size([2]): \n",
      "NormalInit: mean=0, std=0.01, bias=0 \n",
      " \n",
      "2022-05-28 20:58:22,778 - mmfewshot - INFO - \n",
      "roi_head.bbox_head.local_correlation_branch.0.weight - torch.Size([2048, 2048, 1, 1]): \n",
      "NormalInit: mean=0, std=0.01, bias=0 \n",
      " \n",
      "2022-05-28 20:58:22,779 - mmfewshot - INFO - \n",
      "roi_head.bbox_head.local_correlation_fc_cls.weight - torch.Size([2, 2048]): \n",
      "NormalInit: mean=0, std=0.01, bias=0 \n",
      " \n",
      "2022-05-28 20:58:22,779 - mmfewshot - INFO - \n",
      "roi_head.bbox_head.local_correlation_fc_cls.bias - torch.Size([2]): \n",
      "NormalInit: mean=0, std=0.01, bias=0 \n",
      " \n",
      "2022-05-28 20:58:22,780 - mmfewshot - INFO - \n",
      "roi_head.bbox_head.global_relation_branch.0.weight - torch.Size([2048, 4096]): \n",
      "NormalInit: mean=0, std=0.01, bias=0 \n",
      " \n",
      "2022-05-28 20:58:22,781 - mmfewshot - INFO - \n",
      "roi_head.bbox_head.global_relation_branch.0.bias - torch.Size([2048]): \n",
      "NormalInit: mean=0, std=0.01, bias=0 \n",
      " \n",
      "2022-05-28 20:58:22,782 - mmfewshot - INFO - \n",
      "roi_head.bbox_head.global_relation_branch.2.weight - torch.Size([2048, 2048]): \n",
      "NormalInit: mean=0, std=0.01, bias=0 \n",
      " \n",
      "2022-05-28 20:58:22,782 - mmfewshot - INFO - \n",
      "roi_head.bbox_head.global_relation_branch.2.bias - torch.Size([2048]): \n",
      "NormalInit: mean=0, std=0.01, bias=0 \n",
      " \n",
      "2022-05-28 20:58:22,783 - mmfewshot - INFO - \n",
      "roi_head.bbox_head.global_relation_fc_cls.weight - torch.Size([2, 2048]): \n",
      "NormalInit: mean=0, std=0.01, bias=0 \n",
      " \n",
      "2022-05-28 20:58:22,784 - mmfewshot - INFO - \n",
      "roi_head.bbox_head.global_relation_fc_cls.bias - torch.Size([2]): \n",
      "NormalInit: mean=0, std=0.01, bias=0 \n",
      " \n"
     ]
    },
    {
     "name": "stdout",
     "output_type": "stream",
     "text": [
      "load checkpoint from local path: work_dirs/Flickr-FoodLogos-10/attention-rpn/split1/attention-rpn_r50_c4_tb-split1_1shot-fine-tuning/iter_100000.pth\n"
     ]
    },
    {
     "name": "stderr",
     "output_type": "stream",
     "text": [
      "2022-05-28 20:58:23,431 - mmfewshot - INFO - \n",
      "FewShotVOCCopyDatasetFOODVAR model_init_dataset with number of images 640, and instance counts: \n",
      "+----------+-------+----------+-------+----------+-------+----------+-------+----------+-------+\n",
      "| category | count | category | count | category | count | category | count | category | count |\n",
      "+----------+-------+----------+-------+----------+-------+----------+-------+----------+-------+\n",
      "2022-05-28 20:58:23,498 - mmdet - INFO - starting model initialization...\n"
     ]
    },
    {
     "name": "stdout",
     "output_type": "stream",
     "text": [
      "[>>>>>>>>>>>>>>>>>>>>>>>>>>>>>>] 640/640, 68.6 task/s, elapsed: 9s, ETA:     0s"
     ]
    },
    {
     "name": "stderr",
     "output_type": "stream",
     "text": [
      "2022-05-28 20:58:32,919 - mmdet - INFO - model initialization done.\n"
     ]
    },
    {
     "name": "stdout",
     "output_type": "stream",
     "text": [
      "[>>>>>>>>>>>>>>>>>>>>>>>>>>>>>] 712/712, 10.4 task/s, elapsed: 69s, ETA:     0s\n",
      "---------------iou_thr: 0.5---------------\n",
      "\n",
      "+----------+-----+------+--------+-------+\n",
      "| class    | gts | dets | recall | ap    |\n",
      "+----------+-----+------+--------+-------+\n",
      "| 7up      | 810 | 919  | 0.546  | 0.404 |\n",
      "| BudLight | 209 | 258  | 0.502  | 0.381 |\n",
      "+----------+-----+------+--------+-------+\n",
      "| mAP      |     |      |        | 0.393 |\n",
      "+----------+-----+------+--------+-------+\n",
      "BASE_CLASSES_SPLIT1 mAP: 0.39250296354293823\n",
      "NOVEL_CLASSES_SPLIT1 mAP: nan\n",
      "OrderedDict([('AP50', 0.393), ('BASE_CLASSES_SPLIT1: AP50', 0.393), ('NOVEL_CLASSES_SPLIT1: AP50', nan), ('mAP', 0.39250296354293823)])\n"
     ]
    }
   ],
   "source": [
    "import os\n",
    "os.environ['CUDA_VISIBLE_DEVICES'] = '0'\n",
    "\n",
    "%run ./tools/detection/test.py \\\n",
    "    work_dirs/Flickr-FoodLogos-10/attention-rpn/split1/attention-rpn_r50_c4_tb-split1_1shot-fine-tuning/attention-rpn_r50_c4_tb-split1_1shot-fine-tuning-momentum-09.py \\\n",
    "    work_dirs/Flickr-FoodLogos-10/attention-rpn/split1/attention-rpn_r50_c4_tb-split1_1shot-fine-tuning/iter_100000.pth --eval mAP"
   ]
  },
  {
   "cell_type": "code",
   "execution_count": 3,
   "id": "addb5eed",
   "metadata": {},
   "outputs": [
    {
     "name": "stdout",
     "output_type": "stream",
     "text": [
      "/data/zhaozhiyuan/mmfewshot-main\r\n"
     ]
    }
   ],
   "source": [
    "!pwd"
   ]
  },
  {
   "cell_type": "code",
   "execution_count": null,
   "id": "0d8d8240",
   "metadata": {},
   "outputs": [],
   "source": []
  }
 ],
 "metadata": {
  "kernelspec": {
   "display_name": "Python 3 (ipykernel)",
   "language": "python",
   "name": "python3"
  },
  "language_info": {
   "codemirror_mode": {
    "name": "ipython",
    "version": 3
   },
   "file_extension": ".py",
   "mimetype": "text/x-python",
   "name": "python",
   "nbconvert_exporter": "python",
   "pygments_lexer": "ipython3",
   "version": "3.7.11"
  }
 },
 "nbformat": 4,
 "nbformat_minor": 5
}
